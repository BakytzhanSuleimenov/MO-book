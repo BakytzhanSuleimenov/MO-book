{
 "cells": [
  {
   "cell_type": "markdown",
   "metadata": {
    "id": "AVkGJGu-Ob6L"
   },
   "source": [
    "# Pyomo Tutorial Example: Production Planning\n",
    "\n",
    "Pyomo is an algebraic modeling language embedded within Python for creating mathematical optimization applications. Like other modeling languages, with Pyomo the user can create objects representing decision variables, and expressions involving the decision variables. The expressions can be used to create objective functions, or combined in logical relationships to create constraints. Pyomo provides methods to transform and solve models numerically with a choice of open-source and commercial solvers. \n",
    "\n",
    "The purpose of this notebook is introduce the basics of Pyomo by solving a small production planning problem. A more complete version of the problem is revisited in Chapter 10 to demonstrate stochastic and robust optimization. This notebook introduces components from the Pyomo library that are present in most applications:\n",
    "\n",
    "* [Sets](https://pyomo.readthedocs.io/en/latest/pyomo_modeling_components/Sets.html)\n",
    "* [Parameters](https://pyomo.readthedocs.io/en/latest/pyomo_modeling_components/Parameters.html)\n",
    "* [Variables](https://pyomo.readthedocs.io/en/latest/pyomo_modeling_components/Variables.html)\n",
    "* [Objectives](https://pyomo.readthedocs.io/en/latest/pyomo_modeling_components/Objectives.html)\n",
    "* [Constraints](https://pyomo.readthedocs.io/en/latest/pyomo_modeling_components/Constraints.html)\n",
    "* [Expressions](https://pyomo.readthedocs.io/en/latest/pyomo_modeling_components/Expressions.html)\n",
    "\n",
    "The notebook begins with a statement of the problem and the development of a mathematical model. The mathematical model is then translated into several different versions of a Pyomo model. \n",
    "\n",
    "Version 1 of the model is a direct translation of the mathematics into corresponding Pyomo components. This generates a satisfactory solution and would be enough for examples involving a small number of decision variables and constraints. This version of the model provides a tutorial introduction to the use of variables, expressions, objectives, and constraints.\n",
    "\n",
    "Version 2 of the model introduces the use of sets, parameters, indexed variables, and indexed constraints. These additional components of the Pyomo library are essential to building scalable and maintainable models for more complex applications. \n",
    "\n",
    "One feature of these notebooks is the use of Python decorators to designate Pyomo objectives, constraints, and other model components. This is a relatively new and, as of the date of this writing, a poorly documented feature of recent versions of Pyomo. Decorators are a less commonly used feature of Python that may be unfamiliar to new users, but are well worth the effort of learning for a remarkable gain in the readability and maintenance of Pyomo models.\n",
    "\n",
    "So let's get started."
   ]
  },
  {
   "cell_type": "markdown",
   "metadata": {},
   "source": [
    "## A Production Planning Problem\n",
    "\n",
    "### Problem Statement\n",
    "\n",
    "A small company has developed two versions of a new product. Each version of the product is made from the same raw material that costs 10€ per gram, and requires two different types of specialized labor to produce. \n",
    "\n",
    "$U$ is the higher priced version of the product. $U$ sells for  270€ per unit and requires 10 grams of raw material, one hour of labor type $A$, two hours of labor type $B$. Because of the higher price, the market demand for $U$ is limited to forty units per week. $V$ is the lower priced version of the product that sells for 210€ per unit with unlimited demand and requires 9 grams of raw material, 1 hour of labor type $A$ and 1 hour of labor type $B$. This data is summarized in the following table:\n",
    "\n",
    "| Version | Raw Material <br> required | Labor A <br> required | Labor B <br> required | Market <br> Demand | Price |\n",
    "| :-: | :-: | :-: | :-: | :-: | :-: | \n",
    "| U | 10 g | 1 hr | 2 hr | $\\leq$ 40 units | 270€ |\n",
    "| V |  9 g | 1 hr | 1 hr | unlimited | 210€ |\n",
    "\n",
    "Weekly production at the company is limited by the availability of labor and the inventory of raw material. The raw material must be ordered in advance and has a short shelf life. Any raw material left over at the end of the week is discarded. The following table details the cost and availability of raw material and labor.\n",
    "\n",
    "| Resource | Amount <br> Available | Cost | \n",
    "| :-: | :-: | :-: |\n",
    "| Raw Material | ? | 10€ / g |\n",
    "| Labor A | 80 hours | 50€ / hour |\n",
    "| Labor B | 100 hours | 40€ / hour | \n",
    "\n",
    "The company wishes to maximize gross profits. How much raw material should be ordered in advance for each week? How many units of $U$ and $V$ should the company produce each week? \n",
    "\n",
    "### Mathematical Model\n",
    "\n",
    "A starting point for the development of a mathematical model is to create a list of relevant decision variables. Some of decision variables may prove redundant later, tut for now we seek to identify quantities that may be useful in expressing the problem objectives and constraints. A candidate set of decision variable is listed in the following table with a symbol, description, and any lower and upper bounds that are known from the problem data.\n",
    "\n",
    "| Decision Variable | Description | lower bound | upper bound |\n",
    "| :-: | :--- | :-: | :-: |\n",
    "| $x_M$ | amount of raw material used | 0 | - |\n",
    "| $x_A$ | amount of Labor A used | 0 | 80 |\n",
    "| $x_B$ | amount of Labor B used | 0 | 100 |\n",
    "| $y_U$ | number of $U$ units to produce | 0 | 40 |\n",
    "| $y_V$ | number of $V$ units to product | 0 | - |\n",
    "| revenue | amount of revenue generated by sales | - | - |\n",
    "| expense | cost of raw materials and labor | - | - |\n",
    "| profit | difference between revenue and expense | - | - |\n",
    "\n",
    "The problem objective is to maximize profit\n",
    "\n",
    "$$\\max\\ \\text{profit}$$\n",
    "\n",
    "where profit is defined as the difference between revenue and expense. \n",
    "\n",
    "$$\n",
    "\\begin{aligned}\n",
    "\\text{profit} & = \\text{revenue} - \\text{expense} \\\\\n",
    "\\end{aligned}\n",
    "$$\n",
    "\n",
    "Revenue and profit are linear expressions that can be written in terms of the decision variables.\n",
    "\n",
    "$$\n",
    "\\begin{aligned}\n",
    "\\text{revenue} & = 270 y_U + 210 y_V \\\\\n",
    "\\text{expense} & = 10 x_M + 50 x_A + 40 x_B  \\\\\n",
    "\\end{aligned}\n",
    "$$\n",
    "\n",
    "The quantity of products produced is limited by the available resources. For each resource there is a corresponding linear constraint that limits production.\n",
    "\n",
    "$$\n",
    "\\begin{aligned}\n",
    "10 y_U + 9 y_V  & \\leq x_M & & \\text{raw material}\\\\\n",
    "2 y_U + 1 y_V & \\leq x_A & &\\text{labor A} \\\\\n",
    "1 y_U + 1 y_V & \\leq x_B & & \\text{labor B}\\\\\n",
    "\\end{aligned}\n",
    "$$\n",
    "\n",
    "This completes the mathematical description of this example of a production planning problem. The next is create a Pyomo model t"
   ]
  },
  {
   "cell_type": "markdown",
   "metadata": {},
   "source": [
    "## Version 1. Getting started with Pyomo\n",
    "\n",
    "This first version of a Pyomo model uses components from the Pyomo library to represent the decision variables, expressions, objectives, and constraints appearing in the mathematical model for this production planning problem. This is a direct translation of the mathematical model to Pyomo. Subsequent versions of this model will demonstrate the use of indexed parameters, variables and constraints that are essential for larger scale applications."
   ]
  },
  {
   "cell_type": "markdown",
   "metadata": {},
   "source": [
    "**Step 0.Installing Pyomo and solvers.**\n",
    "\n",
    "Before going further, the first step is to install the Pyomo library and any solvers that may be used to compute numerical solutions. The following cell downloads a Python module that will check for (and if necessary install) Pyomo and a linear solver on Google Colab and most laptops."
   ]
  },
  {
   "cell_type": "code",
   "execution_count": 44,
   "metadata": {
    "colab": {
     "base_uri": "https://localhost:8080/"
    },
    "executionInfo": {
     "elapsed": 29660,
     "status": "ok",
     "timestamp": 1669503785335,
     "user": {
      "displayName": "Jeffrey Kantor",
      "userId": "09038942003589296665"
     },
     "user_tz": 300
    },
    "id": "4AYeavKO4ze7",
    "outputId": "ca2adb8b-b6cc-4a90-f2d8-e91e2718c4b1"
   },
   "outputs": [
    {
     "name": "stdout",
     "output_type": "stream",
     "text": [
      "pyomo was previously installed\n",
      "cbc was previously installed\n"
     ]
    },
    {
     "data": {
      "text/plain": [
       "True"
      ]
     },
     "execution_count": 44,
     "metadata": {},
     "output_type": "execute_result"
    }
   ],
   "source": [
    "import requests\n",
    "import types\n",
    "\n",
    "url = \"https://raw.githubusercontent.com/mobook/MO-book/main/python/helper.py\"\n",
    "helper = types.ModuleType(\"helper\")\n",
    "exec(requests.get(url).content, helper.__dict__)\n",
    "\n",
    "helper.install_pyomo()\n",
    "helper.install_cbc()"
   ]
  },
  {
   "cell_type": "markdown",
   "metadata": {},
   "source": [
    "**Step 1. Import Pyomo.** \n",
    "\n",
    "The first step in creating a Pyomo model is to import the needed components from the Pyomo library into the Python environment. Importing  `pyomo.environ` will provides the most commonly used components for Pyomo model building. \n",
    "\n",
    "This collection of notebooks uses a consistent convention of assigning a `pyo` prefix to objects imported from `pyomo.environ`."
   ]
  },
  {
   "cell_type": "code",
   "execution_count": 45,
   "metadata": {},
   "outputs": [],
   "source": [
    "import pyomo.environ as pyo"
   ]
  },
  {
   "cell_type": "markdown",
   "metadata": {},
   "source": [
    "**Step 2. Create a `ConcreteModel` object.** \n",
    "\n",
    "A Pyomo model is stored in a Python workspace with a standard Python variable name. The model object can be created with either `pyo.ConcreteModel()` or `pyo.AbstractModel()`. `pyo.ConcreteModel` is used when the problem data is known at the time the model is created, which is the case here. `pyo,AbstractModel` is useful for situations where the model is created before the model data is known. \n",
    "\n",
    "The following cell creates a ConcreteModel object and stores it in a Python variable named `model`. The name can be any valid Python variable, but keep in mind the name will be a prefix for every variable and constraint. The `.display()` method is a convenient means of displaying the current contents of a Pyomo model."
   ]
  },
  {
   "cell_type": "code",
   "execution_count": 46,
   "metadata": {},
   "outputs": [
    {
     "name": "stdout",
     "output_type": "stream",
     "text": [
      "Model 'Production Planning: Version 1'\n",
      "\n",
      "  Variables:\n",
      "    None\n",
      "\n",
      "  Objectives:\n",
      "    None\n",
      "\n",
      "  Constraints:\n",
      "    None\n"
     ]
    }
   ],
   "source": [
    "model = pyo.ConcreteModel(\"Production Planning: Version 1\")\n",
    "model.display()"
   ]
  },
  {
   "cell_type": "markdown",
   "metadata": {},
   "source": [
    "**Step 3. Create decision variables and add them to the model.**\n",
    "\n",
    "Decision variables are created with the Pyomo `Var()` class. Variables are assigned as attributes to the model object using the Python 'dot' convention. \n",
    "\n",
    "`Var()` accepts optional keyword arguments. The optional `bounds` keyword specifies a tuple containing lower and upper bounds. A good modeling practice is to specify any known and fixed bounds on the decision variables as they are created. If one of the bounds is unknown, use `None` as a placeholder.\n",
    "\n",
    "In addition, the `initialize` keyword is used below to specify initial values for the decision variables. This isn't normally required, but is useful for this tutorial example where we want to display the model as it is being built.\n",
    "\n",
    "The optional `domain` keyword specifies the type of decision variable. By default, the domain is all real numbers including negative and positive values. "
   ]
  },
  {
   "cell_type": "code",
   "execution_count": 47,
   "metadata": {},
   "outputs": [
    {
     "name": "stdout",
     "output_type": "stream",
     "text": [
      "Model 'Production Planning: Version 1'\n",
      "\n",
      "  Variables:\n",
      "    x_M : Size=1, Index=None\n",
      "        Key  : Lower : Value : Upper : Fixed : Stale : Domain\n",
      "        None :     0 :     0 :  None : False : False :  Reals\n",
      "    x_A : Size=1, Index=None\n",
      "        Key  : Lower : Value : Upper : Fixed : Stale : Domain\n",
      "        None :     0 :     0 :    80 : False : False :  Reals\n",
      "    x_B : Size=1, Index=None\n",
      "        Key  : Lower : Value : Upper : Fixed : Stale : Domain\n",
      "        None :     0 :     0 :   100 : False : False :  Reals\n",
      "    y_U : Size=1, Index=None\n",
      "        Key  : Lower : Value : Upper : Fixed : Stale : Domain\n",
      "        None :     0 :     0 :    40 : False : False :  Reals\n",
      "    y_V : Size=1, Index=None\n",
      "        Key  : Lower : Value : Upper : Fixed : Stale : Domain\n",
      "        None :     0 :     0 :  None : False : False :  Reals\n",
      "\n",
      "  Objectives:\n",
      "    None\n",
      "\n",
      "  Constraints:\n",
      "    None\n"
     ]
    }
   ],
   "source": [
    "model.x_M = pyo.Var(bounds=(0, None), initialize=0)\n",
    "model.x_A = pyo.Var(bounds=(0, 80), initialize=0)\n",
    "model.x_B = pyo.Var(bounds=(0, 100), initialize=0)\n",
    "\n",
    "model.y_U = pyo.Var(bounds=(0, 40), initialize=0)\n",
    "model.y_V = pyo.Var(bounds=(0, None), initialize=0)\n",
    "\n",
    "model.display()"
   ]
  },
  {
   "cell_type": "markdown",
   "metadata": {},
   "source": [
    "**Step 4. Create expressions.**\n",
    "\n",
    "The difference between revenue and expense is equal to the gross profit. The following cell creates linear expressions for revenue and expense which are then assigned the expressions to attributes called `model.revenue` and `model.expense`. We can print the expressions to verify correctness."
   ]
  },
  {
   "cell_type": "code",
   "execution_count": 48,
   "metadata": {},
   "outputs": [
    {
     "name": "stdout",
     "output_type": "stream",
     "text": [
      "270*y_U + 210*y_V\n",
      "10*x_M + 50*x_A + 40*x_B\n"
     ]
    }
   ],
   "source": [
    "model.revenue = 270 * model.y_U + 210 * model.y_V\n",
    "model.expense = 10 * model.x_M + 50 * model.x_A + 40 * model.x_B\n",
    "\n",
    "print(model.revenue)\n",
    "print(model.expense)"
   ]
  },
  {
   "cell_type": "markdown",
   "metadata": {},
   "source": [
    "**Step 5. Add an objective.**\n",
    "\n",
    "The objective is to maximize gross profit, where gross profit is defined as the difference between revenue and expense.\n",
    "\n",
    "The Pyomo class `Objective` creates the objective for a Pyomo model. The required keyword argument `expr` specifies the expression to be optimized. The optional keyword argument `sense` specifies whether it is a minimization or maximization problem. For clarity, it is good practice is to always include the `sense` keyword argument.\n",
    "\n",
    "    model.profit = pyo.Objective(expr = model.revenue - model.expense, sense = pyo.maximize)\n",
    "    \n",
    "An alternative way to declare an objective is available in more recent releases of Pyomo. This approach uses a Python decorator to 'tag' function that returns a Pyomo expression as the objective function. \n",
    "\n",
    "    @model.Objective(sense = pyo.maximize)\n",
    "    def profit(model):\n",
    "        return model.revenue - model.expense\n",
    "\n",
    "Decorators are a feature of Python that change the behavior of a function without altering the function itself. The Pyomo library provides decorators to declare objectives, expression, constraints, and other objects for optimization applications. Decorators improve the readability and maintainability of more complex models. Without going into the details of how decorators are implemented, one can think of them as a means for tagging functions for the purpose of creating model objects.\n",
    "\n",
    "When using Pyomo decorators, the name of the function will create a model attribute. The function to be tagged with a Pyomo decorator must have the model object as the first argument. The decorator itself may have arguments. For example, the `sense` keyword is used to set the sense of an objective.\n"
   ]
  },
  {
   "cell_type": "code",
   "execution_count": 49,
   "metadata": {},
   "outputs": [
    {
     "name": "stdout",
     "output_type": "stream",
     "text": [
      "Model 'Production Planning: Version 1'\n",
      "\n",
      "  Variables:\n",
      "    x_M : Size=1, Index=None\n",
      "        Key  : Lower : Value : Upper : Fixed : Stale : Domain\n",
      "        None :     0 :     0 :  None : False : False :  Reals\n",
      "    x_A : Size=1, Index=None\n",
      "        Key  : Lower : Value : Upper : Fixed : Stale : Domain\n",
      "        None :     0 :     0 :    80 : False : False :  Reals\n",
      "    x_B : Size=1, Index=None\n",
      "        Key  : Lower : Value : Upper : Fixed : Stale : Domain\n",
      "        None :     0 :     0 :   100 : False : False :  Reals\n",
      "    y_U : Size=1, Index=None\n",
      "        Key  : Lower : Value : Upper : Fixed : Stale : Domain\n",
      "        None :     0 :     0 :    40 : False : False :  Reals\n",
      "    y_V : Size=1, Index=None\n",
      "        Key  : Lower : Value : Upper : Fixed : Stale : Domain\n",
      "        None :     0 :     0 :  None : False : False :  Reals\n",
      "\n",
      "  Objectives:\n",
      "    profit : Size=1, Index=None, Active=True\n",
      "        Key  : Active : Value\n",
      "        None :   True :     0\n",
      "\n",
      "  Constraints:\n",
      "    None\n"
     ]
    }
   ],
   "source": [
    "@model.Objective(sense=pyo.maximize)\n",
    "def profit(model):\n",
    "    return model.revenue - model.expense\n",
    "\n",
    "model.display()"
   ]
  },
  {
   "cell_type": "markdown",
   "metadata": {},
   "source": [
    "**Step 5. Add constraints.**\n",
    "\n",
    "Constraints are logical relationships between expressions that define the range of feasible solutions in an optimization problem.. The logical relationships can be `==`, `<=`, or `>=`. \n",
    "\n",
    "`pyo.Constraint()` is a Pyomo library component to creating scalar constraints. A constraint consists of a logical relationship between expressions is passed as a keyword argument `expr` to `pyo.Constraint()`. For this application, the constraints are expressed as  \n",
    "\n",
    "    model.raw_materials = pyo.Constraint(expr = 10 * model.y_U + 9 * model.y_V <= model.x_M)\n",
    "    model.labor_A = pyo.Constraint(expr = 2 * model.y_U + 1 * model.y_V <= model.x_A)\n",
    "    model.labor_B = pyo.Constraint(expr = 1 * model.y_U + 1 * model.y_V <= model.x_B)\n",
    "    \n",
    "Alternatively, the decorator syntax for constraints provides a readable and maintainable means to express more complex constraints. For the present example, the constraints would be writte\n",
    "\n",
    "    @model.Constraint()\n",
    "    def raw_materials(model):\n",
    "        return 10 * model.y_U + 9 * model.y_V <= model.x_M\n",
    "\n",
    "    @model.Constraint()\n",
    "    def labor_A(model):\n",
    "        return 2 * model.y_U + 1 * model.y_V <= model.x_A\n",
    "\n",
    "    @model.Constraint()\n",
    "    def labor_B(model):\n",
    "        return 2 * model.y_U + 1 * model.y_V <= model.x_A\n",
    "\n",
    "These are demonstrated in the following cell."
   ]
  },
  {
   "cell_type": "code",
   "execution_count": 52,
   "metadata": {},
   "outputs": [
    {
     "name": "stdout",
     "output_type": "stream",
     "text": [
      "WARNING: Implicitly replacing the Component attribute raw_materials\n",
      "    (type=<class 'pyomo.core.base.constraint.ScalarConstraint'>) on block\n",
      "    'Production Planning: Version 1' with a new Component (type=<class\n",
      "    'pyomo.core.base.constraint.AbstractScalarConstraint'>). This is usually\n",
      "    indicative of a modelling error. To avoid this warning, use\n",
      "    block.del_component() and block.add_component().\n",
      "WARNING: Implicitly replacing the Component attribute labor_A (type=<class\n",
      "    'pyomo.core.base.constraint.ScalarConstraint'>) on block 'Production\n",
      "    Planning: Version 1' with a new Component (type=<class\n",
      "    'pyomo.core.base.constraint.AbstractScalarConstraint'>). This is usually\n",
      "    indicative of a modelling error. To avoid this warning, use\n",
      "    block.del_component() and block.add_component().\n",
      "WARNING: Implicitly replacing the Component attribute labor_B (type=<class\n",
      "    'pyomo.core.base.constraint.ScalarConstraint'>) on block 'Production\n",
      "    Planning: Version 1' with a new Component (type=<class\n",
      "    'pyomo.core.base.constraint.AbstractScalarConstraint'>). This is usually\n",
      "    indicative of a modelling error. To avoid this warning, use\n",
      "    block.del_component() and block.add_component().\n",
      "Model 'Production Planning: Version 1'\n",
      "\n",
      "  Variables:\n",
      "    x_M : Size=1, Index=None\n",
      "        Key  : Lower : Value : Upper : Fixed : Stale : Domain\n",
      "        None :     0 : 720.0 :  None : False : False :  Reals\n",
      "    x_A : Size=1, Index=None\n",
      "        Key  : Lower : Value : Upper : Fixed : Stale : Domain\n",
      "        None :     0 :  80.0 :    80 : False : False :  Reals\n",
      "    x_B : Size=1, Index=None\n",
      "        Key  : Lower : Value : Upper : Fixed : Stale : Domain\n",
      "        None :     0 :  80.0 :   100 : False : False :  Reals\n",
      "    y_U : Size=1, Index=None\n",
      "        Key  : Lower : Value : Upper : Fixed : Stale : Domain\n",
      "        None :     0 :   0.0 :    40 : False : False :  Reals\n",
      "    y_V : Size=1, Index=None\n",
      "        Key  : Lower : Value : Upper : Fixed : Stale : Domain\n",
      "        None :     0 :  80.0 :  None : False : False :  Reals\n",
      "\n",
      "  Objectives:\n",
      "    profit : Size=1, Index=None, Active=True\n",
      "        Key  : Active : Value\n",
      "        None :   True : 2400.0\n",
      "\n",
      "  Constraints:\n",
      "    raw_materials : Size=1\n",
      "        Key  : Lower : Body : Upper\n",
      "        None :  None :  0.0 :   0.0\n",
      "    labor_A : Size=1\n",
      "        Key  : Lower : Body : Upper\n",
      "        None :  None :  0.0 :   0.0\n",
      "    labor_B : Size=1\n",
      "        Key  : Lower : Body : Upper\n",
      "        None :  None :  0.0 :   0.0\n"
     ]
    }
   ],
   "source": [
    "@model.Constraint()\n",
    "def raw_materials(model):\n",
    "    return 10 * model.y_U + 9 * model.y_V <= model.x_M\n",
    "\n",
    "@model.Constraint()\n",
    "def labor_A(model):\n",
    "    return 2 * model.y_U + 1 * model.y_V <= model.x_A\n",
    "\n",
    "@model.Constraint()\n",
    "def labor_B(model):\n",
    "    return 1 * model.y_U + 1 * model.y_V <= model.x_B\n",
    "\n",
    "model.display()"
   ]
  },
  {
   "cell_type": "markdown",
   "metadata": {},
   "source": [
    "**Step 6. Solve the model.**\n",
    "\n",
    "With the model now fully specified, the next step is to compute a solution. This is done by creating a solver object using `SolverFactory`, then applying the solver to the model, as shown in the following cell.\n",
    "\n",
    "EXPAND DISCUSSION REGARDING SOLVERS."
   ]
  },
  {
   "cell_type": "code",
   "execution_count": 53,
   "metadata": {},
   "outputs": [
    {
     "name": "stdout",
     "output_type": "stream",
     "text": [
      "Model 'Production Planning: Version 1'\n",
      "\n",
      "  Variables:\n",
      "    x_M : Size=1, Index=None\n",
      "        Key  : Lower : Value : Upper : Fixed : Stale : Domain\n",
      "        None :     0 : 720.0 :  None : False : False :  Reals\n",
      "    x_A : Size=1, Index=None\n",
      "        Key  : Lower : Value : Upper : Fixed : Stale : Domain\n",
      "        None :     0 :  80.0 :    80 : False : False :  Reals\n",
      "    x_B : Size=1, Index=None\n",
      "        Key  : Lower : Value : Upper : Fixed : Stale : Domain\n",
      "        None :     0 :  80.0 :   100 : False : False :  Reals\n",
      "    y_U : Size=1, Index=None\n",
      "        Key  : Lower : Value : Upper : Fixed : Stale : Domain\n",
      "        None :     0 :   0.0 :    40 : False : False :  Reals\n",
      "    y_V : Size=1, Index=None\n",
      "        Key  : Lower : Value : Upper : Fixed : Stale : Domain\n",
      "        None :     0 :  80.0 :  None : False : False :  Reals\n",
      "\n",
      "  Objectives:\n",
      "    profit : Size=1, Index=None, Active=True\n",
      "        Key  : Active : Value\n",
      "        None :   True : 2400.0\n",
      "\n",
      "  Constraints:\n",
      "    raw_materials : Size=1\n",
      "        Key  : Lower : Body : Upper\n",
      "        None :  None :  0.0 :   0.0\n",
      "    labor_A : Size=1\n",
      "        Key  : Lower : Body : Upper\n",
      "        None :  None :  0.0 :   0.0\n",
      "    labor_B : Size=1\n",
      "        Key  : Lower : Body : Upper\n",
      "        None :  None :  0.0 :   0.0\n"
     ]
    }
   ],
   "source": [
    "solver = pyo.SolverFactory(\"cbc\")\n",
    "solver.solve(model)\n",
    "\n",
    "model.display()"
   ]
  },
  {
   "cell_type": "markdown",
   "metadata": {},
   "source": [
    "**Step 7. Reporting the solution.**"
   ]
  },
  {
   "cell_type": "markdown",
   "metadata": {},
   "source": [
    "## Version 2: Refactoring the Model\n"
   ]
  },
  {
   "cell_type": "code",
   "execution_count": 59,
   "metadata": {},
   "outputs": [
    {
     "data": {
      "text/html": [
       "<div>\n",
       "<style scoped>\n",
       "    .dataframe tbody tr th:only-of-type {\n",
       "        vertical-align: middle;\n",
       "    }\n",
       "\n",
       "    .dataframe tbody tr th {\n",
       "        vertical-align: top;\n",
       "    }\n",
       "\n",
       "    .dataframe thead th {\n",
       "        text-align: right;\n",
       "    }\n",
       "</style>\n",
       "<table border=\"1\" class=\"dataframe\">\n",
       "  <thead>\n",
       "    <tr style=\"text-align: right;\">\n",
       "      <th></th>\n",
       "      <th>U</th>\n",
       "      <th>V</th>\n",
       "    </tr>\n",
       "  </thead>\n",
       "  <tbody>\n",
       "    <tr>\n",
       "      <th>price</th>\n",
       "      <td>270</td>\n",
       "      <td>210.0</td>\n",
       "    </tr>\n",
       "    <tr>\n",
       "      <th>demand</th>\n",
       "      <td>40</td>\n",
       "      <td>NaN</td>\n",
       "    </tr>\n",
       "  </tbody>\n",
       "</table>\n",
       "</div>"
      ],
      "text/plain": [
       "          U      V\n",
       "price   270  210.0\n",
       "demand   40    NaN"
      ]
     },
     "metadata": {},
     "output_type": "display_data"
    },
    {
     "data": {
      "text/html": [
       "<div>\n",
       "<style scoped>\n",
       "    .dataframe tbody tr th:only-of-type {\n",
       "        vertical-align: middle;\n",
       "    }\n",
       "\n",
       "    .dataframe tbody tr th {\n",
       "        vertical-align: top;\n",
       "    }\n",
       "\n",
       "    .dataframe thead th {\n",
       "        text-align: right;\n",
       "    }\n",
       "</style>\n",
       "<table border=\"1\" class=\"dataframe\">\n",
       "  <thead>\n",
       "    <tr style=\"text-align: right;\">\n",
       "      <th></th>\n",
       "      <th>M</th>\n",
       "      <th>labor A</th>\n",
       "      <th>labor B</th>\n",
       "    </tr>\n",
       "  </thead>\n",
       "  <tbody>\n",
       "    <tr>\n",
       "      <th>price</th>\n",
       "      <td>10.0</td>\n",
       "      <td>50</td>\n",
       "      <td>40</td>\n",
       "    </tr>\n",
       "    <tr>\n",
       "      <th>available</th>\n",
       "      <td>NaN</td>\n",
       "      <td>100</td>\n",
       "      <td>80</td>\n",
       "    </tr>\n",
       "  </tbody>\n",
       "</table>\n",
       "</div>"
      ],
      "text/plain": [
       "              M  labor A  labor B\n",
       "price      10.0       50       40\n",
       "available   NaN      100       80"
      ]
     },
     "metadata": {},
     "output_type": "display_data"
    },
    {
     "data": {
      "text/html": [
       "<div>\n",
       "<style scoped>\n",
       "    .dataframe tbody tr th:only-of-type {\n",
       "        vertical-align: middle;\n",
       "    }\n",
       "\n",
       "    .dataframe tbody tr th {\n",
       "        vertical-align: top;\n",
       "    }\n",
       "\n",
       "    .dataframe thead th {\n",
       "        text-align: right;\n",
       "    }\n",
       "</style>\n",
       "<table border=\"1\" class=\"dataframe\">\n",
       "  <thead>\n",
       "    <tr style=\"text-align: right;\">\n",
       "      <th></th>\n",
       "      <th>U</th>\n",
       "      <th>V</th>\n",
       "    </tr>\n",
       "  </thead>\n",
       "  <tbody>\n",
       "    <tr>\n",
       "      <th>M</th>\n",
       "      <td>10</td>\n",
       "      <td>9</td>\n",
       "    </tr>\n",
       "    <tr>\n",
       "      <th>labor A</th>\n",
       "      <td>2</td>\n",
       "      <td>1</td>\n",
       "    </tr>\n",
       "    <tr>\n",
       "      <th>labor B</th>\n",
       "      <td>1</td>\n",
       "      <td>1</td>\n",
       "    </tr>\n",
       "  </tbody>\n",
       "</table>\n",
       "</div>"
      ],
      "text/plain": [
       "          U  V\n",
       "M        10  9\n",
       "labor A   2  1\n",
       "labor B   1  1"
      ]
     },
     "metadata": {},
     "output_type": "display_data"
    }
   ],
   "source": [
    "import pandas as pd\n",
    "\n",
    "product_data = {\n",
    "    \"U\": {\"price\": 270, \"demand\": 40},\n",
    "    \"V\": {\"price\": 210, \"demand\": None},\n",
    "}\n",
    "\n",
    "display(pd.DataFrame(product_data))\n",
    "\n",
    "resource_data = {\n",
    "    \"M\": {\"price\": 10, \"available\": None},\n",
    "    \"labor A\": {\"price\": 50, \"available\": 100},\n",
    "    \"labor B\": {\"price\": 40, \"available\":  80},\n",
    "}\n",
    "\n",
    "display(pd.DataFrame(resource_data))\n",
    "\n",
    "process_data = {\n",
    "    \"U\": {\"M\": 10, \"labor A\": 2, \"labor B\": 1},\n",
    "    \"V\": {\"M\":  9, \"labor A\": 1, \"labor B\": 1},\n",
    "}\n",
    "\n",
    "display(pd.DataFrame(process_data))"
   ]
  },
  {
   "cell_type": "markdown",
   "metadata": {},
   "source": [
    "**Enhancement 1: Create sets of products and resources**"
   ]
  },
  {
   "cell_type": "code",
   "execution_count": 80,
   "metadata": {},
   "outputs": [
    {
     "name": "stdout",
     "output_type": "stream",
     "text": [
      "Model 'Production Planning: Version 2'\n",
      "\n",
      "  Variables:\n",
      "    x : Size=3, Index=RESOURCES\n",
      "        Key     : Lower : Value : Upper : Fixed : Stale : Domain\n",
      "              M :     0 : 740.0 :  None : False : False :  Reals\n",
      "        labor A :     0 : 100.0 :   100 : False : False :  Reals\n",
      "        labor B :     0 :  80.0 :    80 : False : False :  Reals\n",
      "    y : Size=2, Index=PRODUCTS\n",
      "        Key : Lower : Value : Upper : Fixed : Stale : Domain\n",
      "          U :     0 :  20.0 :    40 : False : False :  Reals\n",
      "          V :     0 :  60.0 :  None : False : False :  Reals\n",
      "\n",
      "  Objectives:\n",
      "    profit : Size=1, Index=None, Active=True\n",
      "        Key  : Active : Value\n",
      "        None :   True : 2400.0\n",
      "\n",
      "  Constraints:\n",
      "    resource : Size=3\n",
      "        Key     : Lower : Body : Upper\n",
      "              M :  None :  0.0 :   0.0\n",
      "        labor A :  None :  0.0 :   0.0\n",
      "        labor B :  None :  0.0 :   0.0\n"
     ]
    }
   ],
   "source": [
    "model = pyo.ConcreteModel(\"Production Planning: Version 2\")\n",
    "\n",
    "model.PRODUCTS = pyo.Set(initialize=product_data.keys())\n",
    "model.RESOURCES = pyo.Set(initialize=resource_data.keys())\n",
    "\n",
    "def x_bounds(model, r):\n",
    "    return(0, resource_data[r][\"available\"])\n",
    "model.x = pyo.Var(model.RESOURCES, bounds=x_bounds)\n",
    "\n",
    "def y_bounds(model, p):\n",
    "    return(0, product_data[p][\"demand\"])\n",
    "model.y = pyo.Var(model.PRODUCTS, bounds=y_bounds)\n",
    "\n",
    "@model.Objective(sense=pyo.maximize)\n",
    "def profit(model):\n",
    "    model.expense = sum(resource_data[r][\"price\"] * model.x[r] for r in model.RESOURCES)\n",
    "    model.revenue = sum(product_data[p][\"price\"] * model.y[p] for p in model.PRODUCTS)\n",
    "    return model.revenue - model.expense\n",
    "\n",
    "@model.Constraint(model.RESOURCES)\n",
    "def resource(model, r):\n",
    "    return sum(process_data[p][r] * model.y[p] for p in model.PRODUCTS) <= model.x[r]\n",
    "\n",
    "solver = pyo.SolverFactory('cbc')\n",
    "solver.solve(model)\n",
    "    \n",
    "model.display()"
   ]
  },
  {
   "cell_type": "code",
   "execution_count": null,
   "metadata": {},
   "outputs": [],
   "source": []
  },
  {
   "cell_type": "code",
   "execution_count": null,
   "metadata": {},
   "outputs": [],
   "source": []
  }
 ],
 "metadata": {
  "colab": {
   "authorship_tag": "ABX9TyNdeOT6zd9sxPjQMDuW2VRf",
   "provenance": []
  },
  "kernelspec": {
   "display_name": "Python 3 (ipykernel)",
   "language": "python",
   "name": "python3"
  },
  "language_info": {
   "codemirror_mode": {
    "name": "ipython",
    "version": 3
   },
   "file_extension": ".py",
   "mimetype": "text/x-python",
   "name": "python",
   "nbconvert_exporter": "python",
   "pygments_lexer": "ipython3",
   "version": "3.9.7"
  },
  "latex_envs": {
   "LaTeX_envs_menu_present": true,
   "autoclose": false,
   "autocomplete": true,
   "bibliofile": "biblio.bib",
   "cite_by": "apalike",
   "current_citInitial": 1,
   "eqLabelWithNumbers": true,
   "eqNumInitial": 1,
   "hotkeys": {
    "equation": "Ctrl-E",
    "itemize": "Ctrl-I"
   },
   "labels_anchors": false,
   "latex_user_defs": false,
   "report_style_numbering": false,
   "user_envs_cfg": false
  }
 },
 "nbformat": 4,
 "nbformat_minor": 4
}
