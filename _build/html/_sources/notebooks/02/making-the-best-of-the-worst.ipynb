{
 "cells": [
  {
   "cell_type": "markdown",
   "metadata": {},
   "source": [
    "# Making the Best of the Worst"
   ]
  },
  {
   "cell_type": "code",
   "execution_count": 112,
   "metadata": {},
   "outputs": [],
   "source": [
    "# Install Pyomo and solvers for Google Colab\n",
    "import sys\n",
    "if \"google.colab\" in sys.modules:\n",
    "    !wget -N -q https://raw.githubusercontent.com/jckantor/MO-book/main/tools/install_on_colab.py \n",
    "    %run install_on_colab.py"
   ]
  },
  {
   "cell_type": "markdown",
   "metadata": {},
   "source": [
    "## Problem\n",
    "\n",
    "A common formulation for to maximize profit of a multi-product facility in a resource constrained  environment is given by the linear program\n",
    "\n",
    "$$\n",
    "\\begin{align*}\n",
    "\\max\\ \\text{profit}  = \\sum_{j\\in J} c_j x_j &\\\\\n",
    "\\text{s.t.} \\qquad \\sum_{j\\in J} a_{ij}x_j & \\leq b_i & \\forall i \\in I\\\\\n",
    "x_j & \\geq 0 & \\forall j\\in J\n",
    "\\end{align*}\n",
    "$$\n",
    "\n",
    "where $x_j$ is the production of product $j\\in J$, $c_j$ is the net profit from producing and selling one unit of product $j$, $a_{i, j}$ is the amount of resource $i$ required to product a unit of product $j$, and $b_i$ is amount of resource $i\\in I$ available. If this data is available, then the linear programming solution can provide a considerable of information regarding an optimal production plan and the marginal value of additional resources.\n",
    "\n",
    "But what if coefficients of the model are uncertain? What should be the objective then? Does uncertainty change the production plan? Does the uncertainty change the marginal value assigned to resources? These are complex and thorny questions that will be largely reserved for later chapters of this book. However, it is possible to consider a specific situation within the current context.\n",
    "\n",
    "Consider a situation where is of $S$ plausible models for the net profit. These might be a result of marketing studies or from considering plant operation under multiple scenarios. The set of profit models could be written\n",
    "\n",
    "$$\n",
    "\\begin{align*}\n",
    "\\text{profit}_s & = \\sum_{j} c_j^s x_j & \\forall s\\in S\n",
    "\\end{align*}\n",
    "$$\n",
    "\n",
    "where $s$ indexes the set of possible scenarios. The scenarios are all deemed equal, no probabilistic interpretation is given. \n",
    "\n",
    "One conservative criterion is to find maximize profit for the worst case. Letting $z$ denote the profit for the worst case, this criterion requires finding a solution for ${x_j}$ for ${j\\in J}$ that satisfies\n",
    "\n",
    "$$\n",
    "\\begin{align*}\n",
    "\\max_{x_j} z & \\\\\n",
    "\\\\\n",
    "\\text{s.t.} \\qquad \\sum_{j\\in J} c_j^s x_j & \\geq z& \\forall ss\\in S\\\\\n",
    "\\sum_{j\\in J} a_{ij}x_j & \\leq b_i & \\forall i \\in I\\\\\n",
    "x_j & \\geq 0 & \\forall j\\in J\n",
    "\\end{align*}\n",
    "$$\n",
    "\n",
    "where $z$ is lowest profit that would be encountered under any condition.\n"
   ]
  },
  {
   "cell_type": "markdown",
   "metadata": {
    "tags": []
   },
   "source": [
    "## Data"
   ]
  },
  {
   "cell_type": "code",
   "execution_count": 115,
   "metadata": {
    "colab": {
     "base_uri": "https://localhost:8080/"
    },
    "id": "l5emuDb-2xFf",
    "outputId": "640ac337-93f9-431d-a73b-b58f199c0489"
   },
   "outputs": [
    {
     "data": {
      "text/html": [
       "<div>\n",
       "<style scoped>\n",
       "    .dataframe tbody tr th:only-of-type {\n",
       "        vertical-align: middle;\n",
       "    }\n",
       "\n",
       "    .dataframe tbody tr th {\n",
       "        vertical-align: top;\n",
       "    }\n",
       "\n",
       "    .dataframe thead th {\n",
       "        text-align: right;\n",
       "    }\n",
       "</style>\n",
       "<table border=\"1\" class=\"dataframe\">\n",
       "  <thead>\n",
       "    <tr style=\"text-align: right;\">\n",
       "      <th></th>\n",
       "      <th>product 1</th>\n",
       "      <th>product 2</th>\n",
       "    </tr>\n",
       "    <tr>\n",
       "      <th>scenarios</th>\n",
       "      <th></th>\n",
       "      <th></th>\n",
       "    </tr>\n",
       "  </thead>\n",
       "  <tbody>\n",
       "    <tr>\n",
       "      <th>0</th>\n",
       "      <td>12</td>\n",
       "      <td>9</td>\n",
       "    </tr>\n",
       "    <tr>\n",
       "      <th>1</th>\n",
       "      <td>11</td>\n",
       "      <td>10</td>\n",
       "    </tr>\n",
       "    <tr>\n",
       "      <th>2</th>\n",
       "      <td>8</td>\n",
       "      <td>11</td>\n",
       "    </tr>\n",
       "  </tbody>\n",
       "</table>\n",
       "</div>"
      ],
      "text/plain": [
       "           product 1  product 2\n",
       "scenarios                      \n",
       "0                 12          9\n",
       "1                 11         10\n",
       "2                  8         11"
      ]
     },
     "metadata": {},
     "output_type": "display_data"
    },
    {
     "data": {
      "text/html": [
       "<div>\n",
       "<style scoped>\n",
       "    .dataframe tbody tr th:only-of-type {\n",
       "        vertical-align: middle;\n",
       "    }\n",
       "\n",
       "    .dataframe tbody tr th {\n",
       "        vertical-align: top;\n",
       "    }\n",
       "\n",
       "    .dataframe thead th {\n",
       "        text-align: right;\n",
       "    }\n",
       "</style>\n",
       "<table border=\"1\" class=\"dataframe\">\n",
       "  <thead>\n",
       "    <tr style=\"text-align: right;\">\n",
       "      <th></th>\n",
       "      <th>available</th>\n",
       "      <th>product 1</th>\n",
       "      <th>product 2</th>\n",
       "    </tr>\n",
       "    <tr>\n",
       "      <th>resource</th>\n",
       "      <th></th>\n",
       "      <th></th>\n",
       "      <th></th>\n",
       "    </tr>\n",
       "  </thead>\n",
       "  <tbody>\n",
       "    <tr>\n",
       "      <th>silicon</th>\n",
       "      <td>1000</td>\n",
       "      <td>1</td>\n",
       "      <td>0</td>\n",
       "    </tr>\n",
       "    <tr>\n",
       "      <th>germanium</th>\n",
       "      <td>1500</td>\n",
       "      <td>0</td>\n",
       "      <td>1</td>\n",
       "    </tr>\n",
       "    <tr>\n",
       "      <th>plastic</th>\n",
       "      <td>1750</td>\n",
       "      <td>1</td>\n",
       "      <td>1</td>\n",
       "    </tr>\n",
       "    <tr>\n",
       "      <th>copper</th>\n",
       "      <td>4000</td>\n",
       "      <td>1</td>\n",
       "      <td>2</td>\n",
       "    </tr>\n",
       "  </tbody>\n",
       "</table>\n",
       "</div>"
      ],
      "text/plain": [
       "           available  product 1  product 2\n",
       "resource                                  \n",
       "silicon         1000          1          0\n",
       "germanium       1500          0          1\n",
       "plastic         1750          1          1\n",
       "copper          4000          1          2"
      ]
     },
     "metadata": {},
     "output_type": "display_data"
    }
   ],
   "source": [
    "import pandas as pd\n",
    "\n",
    "BIM_profit_scenarios = pd.DataFrame([\n",
    "    [12, 9], \n",
    "    [11, 10], \n",
    "    [8, 11]], \n",
    "    columns=[\"product 1\", \"product 2\"])\n",
    "\n",
    "BIM_profit_scenarios.index.name = \"scenarios\"\n",
    "\n",
    "display(BIM_profit_scenarios)\n",
    "\n",
    "BIM_resources = pd.DataFrame([\n",
    "    [\"silicon\", 1000, 1, 0],\n",
    "    [\"germanium\", 1500, 0, 1],\n",
    "    [\"plastic\", 1750, 1, 1],\n",
    "    [\"copper\", 4000, 1, 2]],\n",
    "    columns = [\"resource\", \"available\", \"product 1\", \"product 2\"])\n",
    "BIM_resources = BIM_resources.set_index(\"resource\")\n",
    "    \n",
    "display(BIM_resources)\n",
    "    "
   ]
  },
  {
   "cell_type": "markdown",
   "metadata": {},
   "source": [
    "## Pyomo Model"
   ]
  },
  {
   "cell_type": "code",
   "execution_count": 119,
   "metadata": {
    "id": "m33AGCU_PSJw"
   },
   "outputs": [
    {
     "name": "stdout",
     "output_type": "stream",
     "text": [
      "worst case profit =  17500.0\n"
     ]
    },
    {
     "data": {
      "text/html": [
       "<div>\n",
       "<style scoped>\n",
       "    .dataframe tbody tr th:only-of-type {\n",
       "        vertical-align: middle;\n",
       "    }\n",
       "\n",
       "    .dataframe tbody tr th {\n",
       "        vertical-align: top;\n",
       "    }\n",
       "\n",
       "    .dataframe thead th {\n",
       "        text-align: right;\n",
       "    }\n",
       "</style>\n",
       "<table border=\"1\" class=\"dataframe\">\n",
       "  <thead>\n",
       "    <tr style=\"text-align: right;\">\n",
       "      <th></th>\n",
       "      <th>production</th>\n",
       "    </tr>\n",
       "  </thead>\n",
       "  <tbody>\n",
       "    <tr>\n",
       "      <th>product 1</th>\n",
       "      <td>583.333333</td>\n",
       "    </tr>\n",
       "    <tr>\n",
       "      <th>product 2</th>\n",
       "      <td>1166.666667</td>\n",
       "    </tr>\n",
       "  </tbody>\n",
       "</table>\n",
       "</div>"
      ],
      "text/plain": [
       "            production\n",
       "product 1   583.333333\n",
       "product 2  1166.666667"
      ]
     },
     "metadata": {},
     "output_type": "display_data"
    }
   ],
   "source": [
    "import pyomo.environ as pyo\n",
    "\n",
    "def maximin(profit_scenarios, resources):\n",
    "    \n",
    "    model    = pyo.ConcreteModel('BIM')\n",
    "    \n",
    "    model.I = pyo.Set(initialize=resources.index)\n",
    "    model.J = pyo.Set(initialize=profit_scenarios.columns)\n",
    "    model.S = pyo.Set(initialize=profit_scenarios.index)\n",
    "    \n",
    "    model.a = pyo.Param(model.I, model.J, rule = lambda model, i, j: resources.loc[i, j])\n",
    "    model.b = pyo.Param(model.I, rule = lambda model, i: resources.loc[i, \"available\"])\n",
    "    model.c = pyo.Param(model.S, model.J, rule = lambda model, s, j: profit_scenarios.loc[s, j])\n",
    "    \n",
    "    model.x = pyo.Var(model.J, domain=pyo.NonNegativeReals)\n",
    "    model.z  = pyo.Var() \n",
    "    \n",
    "    @model.Objective(sense=pyo.maximize)\n",
    "    def maxmin_profit(model):\n",
    "        return model.z\n",
    "    \n",
    "    @model.Constraint(model.S)\n",
    "    def scenario_profit(model, s):\n",
    "        return model.z <= sum(model.c[s, j] * model.x[j] for j in model.J)\n",
    "        \n",
    "    @model.Constraint(model.I)\n",
    "    def resource_limits(model, i):\n",
    "        return sum(model.a[i, j] * model.x[j] for j in model.J) <= model.b[i]\n",
    "\n",
    "    return model\n",
    "\n",
    "BIM = BIM_maxmin(BIM_profit_scenarios, BIM_resources)\n",
    "pyo.SolverFactory('glpk').solve(BIM)\n",
    "\n",
    "results = pd.DataFrame([BIM.x[j]() for j in BIM.J], index=BIM.J, columns=[\"production\"])\n",
    "worst_case_profit = BIM.z()\n",
    "\n",
    "print(\"worst case profit = \", worst_case_profit)\n",
    "display(results)"
   ]
  },
  {
   "cell_type": "code",
   "execution_count": null,
   "metadata": {},
   "outputs": [],
   "source": []
  }
 ],
 "metadata": {
  "colab": {
   "collapsed_sections": [],
   "name": "making the best of the worst",
   "provenance": []
  },
  "kernelspec": {
   "display_name": "Python 3 (ipykernel)",
   "language": "python",
   "name": "python3"
  },
  "language_info": {
   "codemirror_mode": {
    "name": "ipython",
    "version": 3
   },
   "file_extension": ".py",
   "mimetype": "text/x-python",
   "name": "python",
   "nbconvert_exporter": "python",
   "pygments_lexer": "ipython3",
   "version": "3.9.7"
  }
 },
 "nbformat": 4,
 "nbformat_minor": 4
}
