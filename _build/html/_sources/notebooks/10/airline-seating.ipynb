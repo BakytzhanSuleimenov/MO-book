{
 "cells": [
  {
   "cell_type": "markdown",
   "id": "b6a619b6",
   "metadata": {},
   "source": [
    "# Airline seat allocation problem\n",
    "\n",
    "An airlines is trying to decide how to partition a new plane for the Amsterdam-Buenos Aires route. This plane can seat 200 economy class passengers. A section can be created for first class seats but each of these seats takes the space of 2 economy class seats. A business class section can also be created, but each of these seats takes as much space as 1.5 economy class seats. The profit on a first class ticket is, however, three times the profit of an economy ticket, while a business class ticket has a profit of two times an economy ticket's profit. Once the plane is partitioned into these seating classes, it cannot be changed. The airlines knows, however, that the plane will not always be full in each section. They have decided that three scenarios will occur with about the same frequency: \n",
    "\n",
    "(1) weekday morning and evening traffic, \n",
    "\n",
    "(2) weekend traffic, \n",
    "\n",
    "(3) weekday midday traffic. \n",
    "\n",
    "Under Scenario 1, they think they can sell as many as 20 first class tickets, 50 business class tickets, and 200 economy tickets. Under Scenario 2, these figures are $10 , 25 $, and $175$, while under Scenario 3, they are $5 , 10$, and $150$. The following table reports the forecast demand in the three scenarios.\n",
    "\n",
    "| Scenario | First class seats | Business class seats | Economy class seats |\n",
    "| :-: | :-: | :-: | :-: |\n",
    "| Scenario 1 | 20 | 50 | 200 |\n",
    "| Scenario 2 | 10 | 25 | 175 |\n",
    "| Scenario 3 | 5 | 10 | 150 |\n",
    "\n",
    "Despite these estimates, the airline will not sell more tickets than seats in each of the sections (hence no overbooking strategy).\n",
    "\n",
    "(a) Implement and solve the extensive form of the stochastic program for the optimal seat allocation aiming to maximize the airline profit."
   ]
  },
  {
   "cell_type": "code",
   "execution_count": 1,
   "id": "ea71de65",
   "metadata": {
    "ExecuteTime": {
     "end_time": "2022-09-30T21:49:05.660595Z",
     "start_time": "2022-09-30T21:49:05.457825Z"
    }
   },
   "outputs": [
    {
     "name": "stdout",
     "output_type": "stream",
     "text": [
      "pyomo was previously installed\n",
      "cbc was previously installed\n"
     ]
    },
    {
     "data": {
      "text/plain": [
       "True"
      ]
     },
     "execution_count": 1,
     "metadata": {},
     "output_type": "execute_result"
    }
   ],
   "source": [
    "# install Pyomo and solvers\n",
    "import requests\n",
    "import types\n",
    "\n",
    "url = \"https://raw.githubusercontent.com/jckantor/MO-book/main/python/helper.py\"\n",
    "helper = types.ModuleType(\"helper\")\n",
    "exec(requests.get(url).content, helper.__dict__)\n",
    "\n",
    "helper.install_pyomo()\n",
    "helper.install_cbc()"
   ]
  },
  {
   "cell_type": "code",
   "execution_count": 2,
   "id": "e91fbe82",
   "metadata": {
    "ExecuteTime": {
     "end_time": "2022-09-30T21:49:07.404490Z",
     "start_time": "2022-09-30T21:49:05.663157Z"
    }
   },
   "outputs": [],
   "source": [
    "import pyomo.environ as pyo\n",
    "import numpy as np\n",
    "import pandas as pd"
   ]
  },
  {
   "cell_type": "markdown",
   "id": "32d6794b-b3bb-4543-8d0e-23d1d3363863",
   "metadata": {},
   "source": [
    "## Model"
   ]
  },
  {
   "cell_type": "code",
   "execution_count": 3,
   "id": "b664a7a7-a0dd-49ba-9cfa-5846dfe86af2",
   "metadata": {},
   "outputs": [
    {
     "data": {
      "text/html": [
       "<div>\n",
       "<style scoped>\n",
       "    .dataframe tbody tr th:only-of-type {\n",
       "        vertical-align: middle;\n",
       "    }\n",
       "\n",
       "    .dataframe tbody tr th {\n",
       "        vertical-align: top;\n",
       "    }\n",
       "\n",
       "    .dataframe thead th {\n",
       "        text-align: right;\n",
       "    }\n",
       "</style>\n",
       "<table border=\"1\" class=\"dataframe\">\n",
       "  <thead>\n",
       "    <tr style=\"text-align: right;\">\n",
       "      <th></th>\n",
       "      <th>price factor</th>\n",
       "      <th>seat factor</th>\n",
       "    </tr>\n",
       "  </thead>\n",
       "  <tbody>\n",
       "    <tr>\n",
       "      <th>F</th>\n",
       "      <td>3.0</td>\n",
       "      <td>2.0</td>\n",
       "    </tr>\n",
       "    <tr>\n",
       "      <th>B</th>\n",
       "      <td>2.0</td>\n",
       "      <td>1.5</td>\n",
       "    </tr>\n",
       "    <tr>\n",
       "      <th>E</th>\n",
       "      <td>1.0</td>\n",
       "      <td>1.0</td>\n",
       "    </tr>\n",
       "  </tbody>\n",
       "</table>\n",
       "</div>"
      ],
      "text/plain": [
       "   price factor  seat factor\n",
       "F           3.0          2.0\n",
       "B           2.0          1.5\n",
       "E           1.0          1.0"
      ]
     },
     "metadata": {},
     "output_type": "display_data"
    },
    {
     "data": {
      "text/html": [
       "<div>\n",
       "<style scoped>\n",
       "    .dataframe tbody tr th:only-of-type {\n",
       "        vertical-align: middle;\n",
       "    }\n",
       "\n",
       "    .dataframe tbody tr th {\n",
       "        vertical-align: top;\n",
       "    }\n",
       "\n",
       "    .dataframe thead th {\n",
       "        text-align: right;\n",
       "    }\n",
       "</style>\n",
       "<table border=\"1\" class=\"dataframe\">\n",
       "  <thead>\n",
       "    <tr style=\"text-align: right;\">\n",
       "      <th></th>\n",
       "      <th>F</th>\n",
       "      <th>B</th>\n",
       "      <th>E</th>\n",
       "    </tr>\n",
       "  </thead>\n",
       "  <tbody>\n",
       "    <tr>\n",
       "      <th>1</th>\n",
       "      <td>20</td>\n",
       "      <td>50</td>\n",
       "      <td>200</td>\n",
       "    </tr>\n",
       "    <tr>\n",
       "      <th>2</th>\n",
       "      <td>10</td>\n",
       "      <td>25</td>\n",
       "      <td>175</td>\n",
       "    </tr>\n",
       "    <tr>\n",
       "      <th>3</th>\n",
       "      <td>5</td>\n",
       "      <td>10</td>\n",
       "      <td>150</td>\n",
       "    </tr>\n",
       "  </tbody>\n",
       "</table>\n",
       "</div>"
      ],
      "text/plain": [
       "    F   B    E\n",
       "1  20  50  200\n",
       "2  10  25  175\n",
       "3   5  10  150"
      ]
     },
     "metadata": {},
     "output_type": "display_data"
    }
   ],
   "source": [
    "# seat data\n",
    "seat_data = pd.DataFrame({\n",
    "    \"F\": {\"price factor\": 3.0, \"seat factor\": 2.0},\n",
    "    \"B\": {\"price factor\": 2.0, \"seat factor\": 1.5},\n",
    "    \"E\": {\"price factor\": 1.0, \"seat factor\": 1.0},\n",
    "}).T\n",
    "\n",
    "# scenario data\n",
    "scenario_data = pd.DataFrame({\n",
    "    1: {'F': 20, 'B': 50, 'E': 200},\n",
    "    2: {'F': 10, 'B': 25, 'E': 175},\n",
    "    3: {'F':  5, 'B': 10, 'E': 150}\n",
    "}).T\n",
    "\n",
    "display(seat_data)\n",
    "display(scenario_data)"
   ]
  },
  {
   "cell_type": "code",
   "execution_count": 4,
   "id": "e43fe599-b8bd-482b-aab2-093b0243fd72",
   "metadata": {},
   "outputs": [
    {
     "name": "stdout",
     "output_type": "stream",
     "text": [
      "Optimal objective value in units of economy ticket price: 208\n"
     ]
    },
    {
     "data": {
      "text/html": [
       "<div>\n",
       "<style scoped>\n",
       "    .dataframe tbody tr th:only-of-type {\n",
       "        vertical-align: middle;\n",
       "    }\n",
       "\n",
       "    .dataframe tbody tr th {\n",
       "        vertical-align: top;\n",
       "    }\n",
       "\n",
       "    .dataframe thead th {\n",
       "        text-align: right;\n",
       "    }\n",
       "</style>\n",
       "<table border=\"1\" class=\"dataframe\">\n",
       "  <thead>\n",
       "    <tr style=\"text-align: right;\">\n",
       "      <th></th>\n",
       "      <th>F</th>\n",
       "      <th>B</th>\n",
       "      <th>E</th>\n",
       "    </tr>\n",
       "  </thead>\n",
       "  <tbody>\n",
       "    <tr>\n",
       "      <th>seat allocation</th>\n",
       "      <td>10.0</td>\n",
       "      <td>20.0</td>\n",
       "      <td>150.0</td>\n",
       "    </tr>\n",
       "    <tr>\n",
       "      <th>equivalent seat allocation</th>\n",
       "      <td>20.0</td>\n",
       "      <td>30.0</td>\n",
       "      <td>150.0</td>\n",
       "    </tr>\n",
       "  </tbody>\n",
       "</table>\n",
       "</div>"
      ],
      "text/plain": [
       "                               F     B      E\n",
       "seat allocation             10.0  20.0  150.0\n",
       "equivalent seat allocation  20.0  30.0  150.0"
      ]
     },
     "metadata": {},
     "output_type": "display_data"
    },
    {
     "data": {
      "text/html": [
       "<div>\n",
       "<style scoped>\n",
       "    .dataframe tbody tr th:only-of-type {\n",
       "        vertical-align: middle;\n",
       "    }\n",
       "\n",
       "    .dataframe tbody tr th {\n",
       "        vertical-align: top;\n",
       "    }\n",
       "\n",
       "    .dataframe thead th {\n",
       "        text-align: right;\n",
       "    }\n",
       "</style>\n",
       "<table border=\"1\" class=\"dataframe\">\n",
       "  <thead>\n",
       "    <tr style=\"text-align: right;\">\n",
       "      <th></th>\n",
       "      <th>F</th>\n",
       "      <th>B</th>\n",
       "      <th>E</th>\n",
       "    </tr>\n",
       "  </thead>\n",
       "  <tbody>\n",
       "    <tr>\n",
       "      <th>recourse sell action scenario 1</th>\n",
       "      <td>10.0</td>\n",
       "      <td>20.0</td>\n",
       "      <td>150.0</td>\n",
       "    </tr>\n",
       "    <tr>\n",
       "      <th>recourse sell action scenario 2</th>\n",
       "      <td>10.0</td>\n",
       "      <td>20.0</td>\n",
       "      <td>150.0</td>\n",
       "    </tr>\n",
       "    <tr>\n",
       "      <th>recourse sell action scenario 3</th>\n",
       "      <td>5.0</td>\n",
       "      <td>10.0</td>\n",
       "      <td>150.0</td>\n",
       "    </tr>\n",
       "  </tbody>\n",
       "</table>\n",
       "</div>"
      ],
      "text/plain": [
       "                                    F     B      E\n",
       "recourse sell action scenario 1  10.0  20.0  150.0\n",
       "recourse sell action scenario 2  10.0  20.0  150.0\n",
       "recourse sell action scenario 3   5.0  10.0  150.0"
      ]
     },
     "metadata": {},
     "output_type": "display_data"
    }
   ],
   "source": [
    "def airline(total_seats, seat_data, scenario_data):\n",
    "\n",
    "    m = pyo.ConcreteModel()\n",
    "    \n",
    "    m.classes = pyo.Set(initialize=seat_data.index)\n",
    "    m.scenarios = pyo.Set(initialize=scenario_data.index)\n",
    "\n",
    "    # first stage variables and constraints\n",
    "    \n",
    "    m.seats = pyo.Var(m.classes, domain=pyo.NonNegativeIntegers) \n",
    "\n",
    "    @m.Expression(m.classes)\n",
    "    def equivalent_seats(m, c):\n",
    "        return m.seats[c] * seat_data.loc[c, \"seat factor\"]\n",
    "\n",
    "    @m.Constraint()\n",
    "    def plane_seats(m):\n",
    "        return sum(m.equivalent_seats[c] for c in m.classes) <= total_seats\n",
    "\n",
    "    # second stage variables and constraints\n",
    "    \n",
    "    m.sell = pyo.Var(m.classes, m.scenarios, domain=pyo.NonNegativeIntegers)\n",
    "\n",
    "    @m.Constraint(m.classes, m.scenarios)\n",
    "    def demand(m, c, s):\n",
    "        return m.sell[c, s] <= scenario_data.loc[s, c]\n",
    "\n",
    "    @m.Constraint(m.classes, m.scenarios)\n",
    "    def sell_limit(m, c, s):\n",
    "        return m.sell[c, s] <= m.seats[c]\n",
    "\n",
    "    # objective\n",
    "    \n",
    "    @m.Expression()\n",
    "    def second_stage_profit(m):\n",
    "        total =  sum(sum(m.sell[c, s] * seat_data.loc[c, \"price factor\"] for s in m.scenarios) for c in m.classes)\n",
    "        return total / len(m.scenarios)\n",
    "\n",
    "    @m.Objective(sense=pyo.maximize)\n",
    "    def total_expected_profit(m):\n",
    "        return m.second_stage_profit\n",
    "    \n",
    "    return m\n",
    "\n",
    "def report_seats(m):\n",
    "    print(f\"Optimal objective value in units of economy ticket price: {m.total_expected_profit():.0f}\")\n",
    "    seats = {}\n",
    "    seats[\"seat allocation\"] =  {c: m.seats[c]() for c in m.classes}\n",
    "    seats[\"equivalent seat allocation\"] = {c: m.equivalent_seats[c].expr() for c in m.classes}\n",
    "    display(pd.DataFrame(seats).T)\n",
    "    \n",
    "def report_scenarios(m):\n",
    "    sales = {}\n",
    "    for s in m.scenarios:\n",
    "        sales[f\"recourse sell action scenario {s}\"] = {c: m.sell[c, s]() for c in m.classes} \n",
    "    display(pd.DataFrame(sales).T)\n",
    "    \n",
    "m = airline(200, seat_data, scenario_data)\n",
    "pyo.SolverFactory('cbc').solve(m)\n",
    "report_seats(m)\n",
    "report_scenarios(m)\n"
   ]
  },
  {
   "cell_type": "markdown",
   "id": "801f475e",
   "metadata": {},
   "source": [
    "## Chance Constraints\n",
    "\n",
    "Assume now that the airline wishes a special guarantee for its clients enrolled in its loyalty program. In particular, it wants $98\\%$ probability to cover the demand of first-class seats and $95\\%$ probability to cover the demand of business class seats (by clients of the loyalty program). First-class passengers are covered if they get a first-class seat. Business class passengers are covered if they get either a business or a first-class seat (upgrade). Assume weekday demands of loyalty-program passengers are normally distributed, say $\\xi_F \\sim \\mathcal N(16,16)$ and $\\xi_B \\sim \\mathcal N(30,48)$ for first-class and business, respectively. Also assume that the demands for first-class and business class seats are independent.\n",
    "Let $x_1$ be the number of first-class seats and $x_2$ the number of business seats. The probabilistic constraints are simply\n",
    "\n",
    "$$\n",
    "\t\\mathbb P(x_1 \\geq \\xi_F ) \\geq 0.98, \\qquad \\text{ and } \\qquad \\mathbb P(x_1 +x_2 \\geq \\xi_F + \\xi_B ) \\geq 0.95.\n",
    "$$\n",
    "\n",
    "In Exercise 3 of the tutorial you rewrote these equivalently as linear constraints, specifically \n",
    "\n",
    "$$\n",
    "\t(x_1 - 16)/\\sqrt{16} \\geq 2.054 \\qquad \\text{ and } \\qquad (x_1 +x_2 - 46)/ \\sqrt{64} \\geq 1.645.\n",
    "$$\n",
    "\n",
    "(b) Add to your implementation of the extensive form the two equivalent deterministic constraints corresponding to the two chance constraints and find the new optimal solution meeting these additional constraints. How is it different from the previous one?"
   ]
  },
  {
   "cell_type": "code",
   "execution_count": 5,
   "id": "500a85f5-1459-4a07-820e-a6c89d13488e",
   "metadata": {},
   "outputs": [
    {
     "name": "stdout",
     "output_type": "stream",
     "text": [
      "Optimal objective value in units of economy ticket price: 179\n"
     ]
    },
    {
     "data": {
      "text/html": [
       "<div>\n",
       "<style scoped>\n",
       "    .dataframe tbody tr th:only-of-type {\n",
       "        vertical-align: middle;\n",
       "    }\n",
       "\n",
       "    .dataframe tbody tr th {\n",
       "        vertical-align: top;\n",
       "    }\n",
       "\n",
       "    .dataframe thead th {\n",
       "        text-align: right;\n",
       "    }\n",
       "</style>\n",
       "<table border=\"1\" class=\"dataframe\">\n",
       "  <thead>\n",
       "    <tr style=\"text-align: right;\">\n",
       "      <th></th>\n",
       "      <th>F</th>\n",
       "      <th>B</th>\n",
       "      <th>E</th>\n",
       "    </tr>\n",
       "  </thead>\n",
       "  <tbody>\n",
       "    <tr>\n",
       "      <th>seat allocation</th>\n",
       "      <td>25.0</td>\n",
       "      <td>35.0</td>\n",
       "      <td>97.0</td>\n",
       "    </tr>\n",
       "    <tr>\n",
       "      <th>equivalent seat allocation</th>\n",
       "      <td>50.0</td>\n",
       "      <td>52.5</td>\n",
       "      <td>97.0</td>\n",
       "    </tr>\n",
       "  </tbody>\n",
       "</table>\n",
       "</div>"
      ],
      "text/plain": [
       "                               F     B     E\n",
       "seat allocation             25.0  35.0  97.0\n",
       "equivalent seat allocation  50.0  52.5  97.0"
      ]
     },
     "metadata": {},
     "output_type": "display_data"
    },
    {
     "data": {
      "text/html": [
       "<div>\n",
       "<style scoped>\n",
       "    .dataframe tbody tr th:only-of-type {\n",
       "        vertical-align: middle;\n",
       "    }\n",
       "\n",
       "    .dataframe tbody tr th {\n",
       "        vertical-align: top;\n",
       "    }\n",
       "\n",
       "    .dataframe thead th {\n",
       "        text-align: right;\n",
       "    }\n",
       "</style>\n",
       "<table border=\"1\" class=\"dataframe\">\n",
       "  <thead>\n",
       "    <tr style=\"text-align: right;\">\n",
       "      <th></th>\n",
       "      <th>F</th>\n",
       "      <th>B</th>\n",
       "      <th>E</th>\n",
       "    </tr>\n",
       "  </thead>\n",
       "  <tbody>\n",
       "    <tr>\n",
       "      <th>recourse sell action scenario 1</th>\n",
       "      <td>20.0</td>\n",
       "      <td>35.0</td>\n",
       "      <td>97.0</td>\n",
       "    </tr>\n",
       "    <tr>\n",
       "      <th>recourse sell action scenario 2</th>\n",
       "      <td>10.0</td>\n",
       "      <td>25.0</td>\n",
       "      <td>97.0</td>\n",
       "    </tr>\n",
       "    <tr>\n",
       "      <th>recourse sell action scenario 3</th>\n",
       "      <td>5.0</td>\n",
       "      <td>10.0</td>\n",
       "      <td>97.0</td>\n",
       "    </tr>\n",
       "  </tbody>\n",
       "</table>\n",
       "</div>"
      ],
      "text/plain": [
       "                                    F     B     E\n",
       "recourse sell action scenario 1  20.0  35.0  97.0\n",
       "recourse sell action scenario 2  10.0  25.0  97.0\n",
       "recourse sell action scenario 3   5.0  10.0  97.0"
      ]
     },
     "metadata": {},
     "output_type": "display_data"
    }
   ],
   "source": [
    "def airline_loyalty(total_seats, seat_data, scenario_data):\n",
    "    m = airline(total_seats, seat_data, scenario_data)\n",
    "    m.loyaltyF = pyo.Constraint(expr = m.seats['F'] >= 24.22)\n",
    "    m.loyaltyFB = pyo.Constraint(expr = m.seats['F'] + m.seats['B'] >= 59.16)\n",
    "    return m\n",
    "\n",
    "m = airline_loyalty(200, seat_data, scenario_data)\n",
    "pyo.SolverFactory('cbc').solve(m)\n",
    "report_seats(m)\n",
    "report_scenarios(m)\n"
   ]
  },
  {
   "cell_type": "markdown",
   "id": "e3e8e43c",
   "metadata": {},
   "source": [
    "## Sample Average\n",
    "\n",
    "Assume now that the ticket demand for the three categories is captured by a $3$-dimensional multivariate normal with mean $\\mu=(16,30,180)$ and covariance matrix \n",
    "\n",
    "$$\n",
    "\\Sigma= \\left(\n",
    "\\begin{array}{ccc}\n",
    " 3.5 & 3.7 & 2.5 \\\\\n",
    " 3.7 & 6.5 & 7.5 \\\\\n",
    " 2.5 & 7.5 & 25.2 \\\\\n",
    "\\end{array}\n",
    "\\right).\n",
    "$$\n",
    "\n",
    "(c) Solve approximately the airline seat allocation problem (with the loyalty constraints) using the Sample Average Approximation method. More specifically, sample $N=1000$ points from the multivariate normal distribution and solve the extensive form for the stochastic LP resulting from those $N=1000$ scenarios."
   ]
  },
  {
   "cell_type": "code",
   "execution_count": 6,
   "id": "a1275592",
   "metadata": {
    "ExecuteTime": {
     "end_time": "2022-09-30T21:49:08.708126Z",
     "start_time": "2022-09-30T21:49:07.626836Z"
    }
   },
   "outputs": [
    {
     "name": "stdout",
     "output_type": "stream",
     "text": [
      "Optimal objective value in units of economy ticket price: 202\n"
     ]
    },
    {
     "data": {
      "text/html": [
       "<div>\n",
       "<style scoped>\n",
       "    .dataframe tbody tr th:only-of-type {\n",
       "        vertical-align: middle;\n",
       "    }\n",
       "\n",
       "    .dataframe tbody tr th {\n",
       "        vertical-align: top;\n",
       "    }\n",
       "\n",
       "    .dataframe thead th {\n",
       "        text-align: right;\n",
       "    }\n",
       "</style>\n",
       "<table border=\"1\" class=\"dataframe\">\n",
       "  <thead>\n",
       "    <tr style=\"text-align: right;\">\n",
       "      <th></th>\n",
       "      <th>F</th>\n",
       "      <th>B</th>\n",
       "      <th>E</th>\n",
       "    </tr>\n",
       "  </thead>\n",
       "  <tbody>\n",
       "    <tr>\n",
       "      <th>seat allocation</th>\n",
       "      <td>25.0</td>\n",
       "      <td>35.0</td>\n",
       "      <td>97.0</td>\n",
       "    </tr>\n",
       "    <tr>\n",
       "      <th>equivalent seat allocation</th>\n",
       "      <td>50.0</td>\n",
       "      <td>52.5</td>\n",
       "      <td>97.0</td>\n",
       "    </tr>\n",
       "  </tbody>\n",
       "</table>\n",
       "</div>"
      ],
      "text/plain": [
       "                               F     B     E\n",
       "seat allocation             25.0  35.0  97.0\n",
       "equivalent seat allocation  50.0  52.5  97.0"
      ]
     },
     "metadata": {},
     "output_type": "display_data"
    }
   ],
   "source": [
    "N = 1000\n",
    "np.random.seed(1)\n",
    "samples = np.random.multivariate_normal([16, 30, 180], [[3.5, 3.7, 2.5], [3.7, 6.5, 7.5], [2.5, 7.5, 25.2]], N)\n",
    "\n",
    "saa_data = pd.DataFrame(samples, columns=seat_data.index)\n",
    "m = airline_loyalty(200, seat_data, saa_data)\n",
    "pyo.SolverFactory('cbc').solve(m)\n",
    "report_seats(m)"
   ]
  },
  {
   "cell_type": "code",
   "execution_count": null,
   "id": "a38295d5-bf1b-4277-9479-1174e560ef45",
   "metadata": {},
   "outputs": [],
   "source": []
  }
 ],
 "metadata": {
  "kernelspec": {
   "display_name": "Python 3 (ipykernel)",
   "language": "python",
   "name": "python3"
  },
  "language_info": {
   "codemirror_mode": {
    "name": "ipython",
    "version": 3
   },
   "file_extension": ".py",
   "mimetype": "text/x-python",
   "name": "python",
   "nbconvert_exporter": "python",
   "pygments_lexer": "ipython3",
   "version": "3.9.7"
  },
  "varInspector": {
   "cols": {
    "lenName": 16,
    "lenType": 16,
    "lenVar": 40
   },
   "kernels_config": {
    "python": {
     "delete_cmd_postfix": "",
     "delete_cmd_prefix": "del ",
     "library": "var_list.py",
     "varRefreshCmd": "print(var_dic_list())"
    },
    "r": {
     "delete_cmd_postfix": ") ",
     "delete_cmd_prefix": "rm(",
     "library": "var_list.r",
     "varRefreshCmd": "cat(var_dic_list()) "
    }
   },
   "types_to_exclude": [
    "module",
    "function",
    "builtin_function_or_method",
    "instance",
    "_Feature"
   ],
   "window_display": false
  }
 },
 "nbformat": 4,
 "nbformat_minor": 5
}
