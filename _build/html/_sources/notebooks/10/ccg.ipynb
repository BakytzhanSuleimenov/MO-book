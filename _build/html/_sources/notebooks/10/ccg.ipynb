{
  "cells": [
    {
      "attachments": {},
      "cell_type": "markdown",
      "metadata": {
        "id": "AVkGJGu-Ob6L"
      },
      "source": [
        "```{index} single: Pyomo; block\n",
        "```\n",
        "```{index} single: application; production planning\n",
        "```\n",
        "```{index} single: solver; cbc\n",
        "```\n",
        "```{index} single: Pyomo; persistent solvers\n",
        "```\n",
        "```{index} robust optimization\n",
        "```\n",
        "```{index} two-stage problem\n",
        "```\n",
        "```{index} constraint and column generation\n",
        "```\n",
        "\n",
        "# Two-stage Production Planning\n",
        "\n",
        "The purpose of this notebook is to demonstrate a range of techniques for two-stage optimization (robust and stochastic) using a range of techniques:\n",
        "* Robust Optimization (including Constraint and Column Generation)\n",
        "* Stochastic Optimization (including the SAA method)"
      ]
    },
    {
      "cell_type": "code",
      "execution_count": 1,
      "metadata": {
        "colab": {
          "base_uri": "https://localhost:8080/"
        },
        "id": "4AYeavKO4ze7",
        "outputId": "44cb7268-d9b4-4b3c-91de-a7d7e788e073"
      },
      "outputs": [
        {
          "name": "stdout",
          "output_type": "stream",
          "text": [
            "pyomo was previously installed\n"
          ]
        },
        {
          "data": {
            "text/plain": [
              "True"
            ]
          },
          "execution_count": 1,
          "metadata": {},
          "output_type": "execute_result"
        }
      ],
      "source": [
        "# install Pyomo and solvers\n",
        "import requests\n",
        "import types\n",
        "\n",
        "url = \"https://raw.githubusercontent.com/mobook/MO-book/main/python/helper.py\"\n",
        "helper = types.ModuleType(\"helper\")\n",
        "exec(requests.get(url).content, helper.__dict__)\n",
        "\n",
        "helper.install_pyomo()"
      ]
    },
    {
      "attachments": {},
      "cell_type": "markdown",
      "metadata": {
        "id": "9QY1ZEaYR26f"
      },
      "source": [
        "## Problem Statement\n",
        "\n",
        "Consider again the production planning example from [Chapter 1](../01/01.00.md) where a small startup company has announced the initial production of two models, $U$ and $V$. For completeness we first recall the problem setting and then introduce the additional layer of uncertainty:\n",
        "\n",
        "* Model $U$ is the higher priced version requiring 10 units of raw material. The labor requirement is estimated to be 1 hour of labor A and 2 hours of labor B. The $U$ model will sell for 270€ per unit.\n",
        "\n",
        "* Model $V$ requires 9 units of the same raw materials and is estimated to require 1 hour of labor A and 1 hour of labor B. Model $V$ sells for 210€ per unit with unlimited demand.\n",
        "\n",
        "* A pre-production  marketing campaign offers guaranteed delivery of model $U$ in return for a down payment. Initially it is expected that the number of such orders will be 20 units. Because of the higher price, the demand for model $U$ is limited so no more than 40 units will be produced.\n",
        "\n",
        "* The raw materials cost 10€ per unit. The raw materials have a long lead time and must be ordered now. Unused raw materials have no waste value. \n",
        "\n",
        "* Given current staffing, there are 80 hours of labor A available at a cost of 50€/hour, and 100 hours of labor B available at a cost of 40€/hour.\n",
        "\n",
        "* The company will not have not accurate knowledge of the labor required to produce each product until production starts. The estimated amount of labor A and labor B needed for each unit produced could be off by 15% and 25%, respectively. Additionally, there is uncertainty about the amount of down-payment demand for model $U$ - it can differ by up to 25%, up or down, from the nominal value of 20. It is not expected, however, that more than two of those parameters are perturbed by their maximum amount.\n",
        "\n",
        "The company's chief operating officer (COO) must decide how much raw material to order now without complete information about labor needed to manufacture the models, or knowledge about the outcome of the pre-production marketing campaign. If the COO orders too much now then raw material will be left over and wasted. If the COO orders too little then a profit opportunity will be lost. In either case, the profit realized will be less than than the potential. In what way can the best decision be made?"
      ]
    },
    {
      "attachments": {},
      "cell_type": "markdown",
      "metadata": {
        "id": "fbOxomQUfuEr"
      },
      "source": [
        "## Problem description\n",
        "\n",
        "The problem has a clear two-stage structure: the ordering of the raw material has to be done before the unknown demand is observed and the labor requirements are known. The decisions about the amount of two models to be produced can be, however, made with full information about the uncertainty.\n",
        "\n",
        "As for the uncertainty itself, no information is given other than the set of values the respective parameters can take:\n",
        "* $z_A$: Relative uncertainty in the amount of labor A required to produce each unit of product,\n",
        "* $z_B$: Relative uncertainty is the amount of labor B required to produce each unit of product,\n",
        "* $z_D$: Uncertainty in number initial orders for product $U$,\n",
        "\n",
        "where\n",
        "\n",
        "$$\n",
        "\\begin{align*}\n",
        "|z_A| & \\leq 0.15 && \\pm \\text{15\\% uncertainty in Labor }A \\\\\n",
        "|z_B| & \\leq 0.25 && \\pm \\text{25\\% uncertainty in Labor }B \\\\\n",
        "|z_D| & \\leq 0.25 &&  \\text{25\\% uncertainty in initial orders for }U \\\\\n",
        "\\end{align*}\n",
        "$$\n",
        "\n",
        "and where at most two of them attain their maximum deviation which can be formulated as the following budget constraint:\n",
        "\n",
        "$$\n",
        "\\begin{align*}\n",
        "\\frac{|z_A|}{0.15} + \\frac{|z_A|}{0.25} + \\frac{|z_D|}{0.25} \\leq 2.\n",
        "\\end{align*}\n",
        "$$\n",
        "\n",
        "Let us see how these parameters $z_A$ and $z_B$ affect the problem.  After subtracting the unknown labor cost from the selling price, the unit profit for each device is given by:\n",
        "\n",
        "$$\n",
        "\\begin{align*}\n",
        "P_U & = 270 - 50(1+z_A) - 80(1+z_B) - 100) \\\\\n",
        "& = 40 - 50 z_A - 80 z_B \\\\\n",
        "\\implies P_U & \\in [2.5, 57.5] \\\\\n",
        "\\\\\n",
        "P_V & = 210 - 50(1+z_A) - 40(1+z_B) - 90) \\\\\n",
        "& = 30 - 50 z_A - 40 z_B \\\\\n",
        "\\implies P_V  & \\in [12.5, 47.5]\n",
        "\\end{align*}\n",
        "$$\n",
        "\n",
        "It is therefore not clear in advance which of the products would be more profitable. Taking into account the additional uncertainty about the preorder demand for product $U$, it is not possible to determine in advance what is the worst-case outcome of the uncertainty $z_A$, $z_B$, $z_D$ for this problem.\n",
        "\n",
        "Since have no information about the probabilities with which the different outcomes of the uncertain parameters could happen, a natural approach is to solve this problem with a worst-case formulation in mind. However, for sake of completeness, we also investigate how the optimal solution would look if each each realization of $(z_A, z_B, z_D)$ was equally probable."
      ]
    },
    {
      "attachments": {},
      "cell_type": "markdown",
      "metadata": {
        "id": "gT28eZftfuEs"
      },
      "source": [
        "## Two-stage problem formulation"
      ]
    },
    {
      "attachments": {},
      "cell_type": "markdown",
      "metadata": {
        "id": "Cd_GbnUgfuEs"
      },
      "source": [
        "We formulate the robust optimization problem where the objective is to maximize the worst case profit subject to constraints and uncertainty as follows:\n",
        "\n",
        "$$\n",
        "\\begin{align*}\n",
        "\\max \\quad & - 10x + \\inf\\limits_{z \\in Z} Q(x, z) \\\\\n",
        "\\text{s.t.} \\quad & x \\geq 0, \n",
        "\\end{align*}\n",
        "$$\n",
        "\n",
        "where $x$ is the amount of raw material to order, and where the uncertainty $z = (z_A, z_B, z_D)$ is given by\n",
        "\n",
        "$$\n",
        "\\begin{align*}\n",
        "Z = \\left\\{ (z_A, z_B, z_D): \\ |z_A| \\leq 0.15, \\ |z_B| \\leq 0.25, \\ |z_D| \\leq 0.25, \\ \\frac{|z_A|}{0.15} + \\frac{|z_A|}{0.25} + \\frac{|z_D|}{0.25} \\leq 2 \\right\\}.\n",
        "\\end{align*}\n",
        "$$\n",
        "\n",
        "$Q(x, z)$ is the second-stage profit defined by\n",
        "\n",
        "$$\n",
        "\\begin{align*}\n",
        "Q(x, z) = \\min \\quad & y_3 \\\\\n",
        "\\text{s.t.}\\quad & (140 - 50z_A - 80z_B) y_1 + (120 - 50z_A - 40z_B) y_2 \\geq y_3 && \\text{(worst-case profit)} \\\\\n",
        "& y_1 \\geq 20 (1 + z_D) && \\text{(pre-production orders)} \\\\\n",
        "& y_2 \\leq 40 && \\text{(maximum demand for $U$)}\\\\\n",
        "& (1 + z_A) y_1 + (1 + z_B) y_2 \\leq 80 && \\text{(labor A)} \\\\\n",
        "& 2 (1 + z_A) y_1 + (1 + z_B) y_2 \\leq 100 && \\text{(labor B)} \\\\\n",
        "& -x + 10 y_1 + 9 y_2 \\leq 0 && \\text{(raw materials)} \\\\\n",
        "& y_1, y_2, y_3 \\geq 0\n",
        "\\end{align*}\n",
        "$$\n",
        "\n",
        "The extra decision variable $y_3$ serves the purpose of keeping the objective of the second-stage problem free of uncertainty. Clearly, $x$ plays the role of the first-stage variable here, whereas $y_1, y_2, y_3$ are the second stage variables. Using our textbook notation, we can formulate the problem data as:\n",
        "\n",
        "$$\n",
        "\\begin{align*}\n",
        "x = \\begin{pmatrix} x \\end{pmatrix},\n",
        "\\\n",
        "y = \\begin{pmatrix} y_1 \\\\ y_2 \\\\ y_3 \\end{pmatrix},\n",
        "\\\n",
        "z = \\begin{pmatrix} z_A \\\\ z_B \\\\ z_D \\end{pmatrix}\n",
        "\\end{align*}\n",
        "$$\n",
        "\n",
        "Then following are the definitions of the data matrices as functions of uncertainties, consistently with the notation used in Section 10.1.\n",
        "\n",
        "$$\n",
        "\\begin{align*}\n",
        "c = \\begin{pmatrix} -10 \\end{pmatrix}, \\\n",
        "q = \\begin{pmatrix} 0 \\\\ 0 \\\\ 1 \\end{pmatrix} \\\\\n",
        "\\end{align*}\n",
        "$$\n",
        "\n",
        "$$\n",
        "\\begin{align*}\n",
        "R(z)  = \\begin{pmatrix} 0 \\\\ 0 \\\\ 0 \\\\ 0 \\\\ -1 \\end{pmatrix}, \n",
        "\\\n",
        "S(z) = \\begin{pmatrix} - (140 - 50z_A - 80z_B) & - (120 - 50z_A - 40z_B) & 1 \\\\ 1 & 0 & 0 \\\\ 1+z_A & 1 + z_A & 0 \\\\ 2(1+z_B) & 1 + z_B & 0 \\\\ 10 & 9 & 0 \\end{pmatrix},\n",
        "\\\n",
        "t(z) = \\begin{pmatrix} 0 \\\\ -20(1+z_D) \\\\ 80 \\\\ 100 \\\\ 0 \\end{pmatrix} \\\\\n",
        "\\end{align*}\n",
        "$$"
      ]
    },
    {
      "attachments": {},
      "cell_type": "markdown",
      "metadata": {
        "id": "3l95mPDofuEs"
      },
      "source": [
        "## Solving the robust problem using sampled scenarios"
      ]
    },
    {
      "attachments": {},
      "cell_type": "markdown",
      "metadata": {
        "id": "DEC7GZD-fuEt"
      },
      "source": [
        "How can we actually solve such a two-stage problem if it is indeed the worst-case profit that we are interested in? Note that the matrix $D(z)$ depends on $z$ and, therefore, we cannot easily formulate the second-stage decisions as linear functions of $z$ (linear decision rules). However, we can apply the column-and-constraint generation approach where we would gradually build a finite list of scenarios and solve a problem that will maximize the worst-case profit across such a set of scenarios:\n",
        "\n",
        "$$\n",
        "\\begin{align*}\n",
        "\\max \\quad & c^\\top x + \\tau  \\\\ \n",
        "\\text{s.t.} \\quad  & q^\\top y^j \\geq \\tau, && j = 1, \\ldots, k  \\\\\n",
        "& R (z^j) x + S(z^j) y^j \\leq t(z^j)  &&  j = 1, \\ldots, k \\\\\n",
        "& x, y^1, \\ldots, y^k, \\tau \\geq 0 \n",
        "\\end{align*}\n",
        "$$\n",
        "\n",
        "We first define an auxiliary function that evaluates the system matrix coefficients for a particular scenario $z\\in Z$ and returns them as nested dictionaries."
      ]
    },
    {
      "cell_type": "code",
      "execution_count": 2,
      "metadata": {
        "colab": {
          "base_uri": "https://localhost:8080/"
        },
        "id": "BGu2TiV-fuEt",
        "outputId": "ad7bed16-e6bc-4d04-f0c3-cf8662fecdd6"
      },
      "outputs": [
        {
          "name": "stdout",
          "output_type": "stream",
          "text": [
            "c = {'x': -10}\n",
            "q = {'y1': 0, 'y2': 0, 'y3': 1}\n",
            "R = {'profit': {'x': 0}, 'demand': {'x': 0}, 'labor A': {'x': 0}, 'labor B': {'x': 0}, 'raw materials': {'x': -1}}\n",
            "S = {'profit': {'y1': -140, 'y2': -120, 'y3': 1}, 'demand': {'y1': -1, 'y2': 0, 'y3': 0}, 'labor A': {'y1': 1, 'y2': 1, 'y3': 0}, 'labor B': {'y1': 2, 'y2': 1, 'y3': 0}, 'raw materials': {'y1': 10, 'y2': 9, 'y3': 0}}\n",
            "t = {'profit': 0, 'demand': -20, 'labor A': 80, 'labor B': 100, 'raw materials': 0}\n"
          ]
        }
      ],
      "source": [
        "# function to return c, q, C, D, e evaluated for a scenario\n",
        "\n",
        "def model_params(z_A=0, z_B=0, z_D=0):\n",
        "    \n",
        "    c = {\"x\": -10}\n",
        "\n",
        "    q = {\"y1\": 0,\n",
        "         \"y2\": 0,\n",
        "         \"y3\": 1}\n",
        "\n",
        "    R = {\"profit\": {\"x\": 0},\n",
        "         \"demand\" : {\"x\": 0},\n",
        "         \"labor A\": {\"x\": 0},\n",
        "         \"labor B\": {\"x\": 0},\n",
        "         \"raw materials\": {\"x\": -1}}\n",
        "\n",
        "    S = {\"profit\": {\"y1\": -(140 - 50*z_A - 80*z_B), \"y2\": -(120 - 50*z_A - 40*z_B), \"y3\": 1},\n",
        "         \"demand\": {\"y1\": -1, \"y2\": 0, \"y3\": 0},\n",
        "         \"labor A\": {\"y1\": 1, \"y2\": 1 + z_A, \"y3\": 0},\n",
        "         \"labor B\": {\"y1\": 2 + 2 * z_B, \"y2\": 1 + z_B, \"y3\": 0},\n",
        "         \"raw materials\": {\"y1\": 10, \"y2\": 9, \"y3\": 0}}\n",
        "\n",
        "    t = {\"profit\": 0,\n",
        "          \"demand\": -20 * (1 + z_D),\n",
        "          \"labor A\": 80,\n",
        "          \"labor B\": 100,\n",
        "          \"raw materials\": 0}\n",
        "\n",
        "    return c, q, R, S, t\n",
        "\n",
        "c, q, R, S, t = model_params()\n",
        "\n",
        "print(f\"c = {c}\")\n",
        "print(f\"q = {q}\")\n",
        "print(f\"R = {R}\")\n",
        "print(f\"S = {S}\")\n",
        "print(f\"t = {t}\")"
      ]
    },
    {
      "attachments": {},
      "cell_type": "markdown",
      "metadata": {
        "id": "8AQvhEmufuEt"
      },
      "source": [
        "We then generate $N=1000$ scenarios sampling uniformly at random from the given uncertainty set. "
      ]
    },
    {
      "cell_type": "code",
      "execution_count": 3,
      "metadata": {
        "id": "7Ge1zh_hfuEu"
      },
      "outputs": [],
      "source": [
        "import numpy as np\n",
        "\n",
        "def z_sample(seed):\n",
        "    rng = np.random.default_rng(seed)\n",
        "    while True:\n",
        "        sample = {\n",
        "            \"z_A\": 0.15 * rng.uniform(low = -1, high = 1),\n",
        "            \"z_B\": 0.25 * rng.uniform(low = -1, high = 1),\n",
        "            \"z_D\": 0.25 * rng.uniform(low = -1, high = 1)\n",
        "        }\n",
        "        if abs(sample[\"z_A\"]) / 0.15 + abs(sample[\"z_B\"]) / 0.25 + abs(sample[\"z_D\"]) / 0.25 <= 2:\n",
        "            break\n",
        "    return sample\n",
        "\n",
        "N = 1000\n",
        "Z = [z_sample(j) for j in range(N)]"
      ]
    },
    {
      "attachments": {},
      "cell_type": "markdown",
      "metadata": {
        "id": "D8ztVJoAfuEu"
      },
      "source": [
        "We define Pyomo model to maximize the worst-case profit for a set of scenarios, where the block structure is used to repeat the parts of the model which are structurally identical for each outcome of $z$."
      ]
    },
    {
      "cell_type": "code",
      "execution_count": 4,
      "metadata": {
        "colab": {
          "base_uri": "https://localhost:8080/"
        },
        "id": "zE0pEwndfuEu",
        "outputId": "0fcc0eec-4b58-49b5-bc4e-46ebe85b6d0e"
      },
      "outputs": [
        {
          "name": "stdout",
          "output_type": "stream",
          "text": [
            "\n",
            "Solution to the nominal problem\n",
            "Objective value: 2600.00\n",
            "Optimal solution: x = 740.00\n",
            "\n",
            "Solution to the robust problem using sampling\n",
            "Objective value: 883.04\n",
            "Optimal solution: x = 547.81\n"
          ]
        }
      ],
      "source": [
        "import pyomo.environ as pyo\n",
        "\n",
        "def max_min_profit(model_params, Z):\n",
        "    m = pyo.ConcreteModel()\n",
        "\n",
        "    # first stage variables\n",
        "    c, q, *_ = model_params()\n",
        "    \n",
        "    m.I = pyo.Set(initialize=c.keys())\n",
        "    m.J = pyo.Set(initialize=q.keys())\n",
        "    \n",
        "    m.x = pyo.Var(m.I, domain=pyo.NonNegativeReals)\n",
        "    m.tau = pyo.Var()\n",
        "    \n",
        "    m.SCENARIOS = pyo.Set(initialize=range(len(Z)))\n",
        "    \n",
        "    @m.Block(m.SCENARIOS)\n",
        "    def scenario(b, s):\n",
        "\n",
        "        # get model parameters for the scenario\n",
        "        _, q, R, S, t = model_params(**Z[s])\n",
        "        \n",
        "        # second stage variables\n",
        "        b.y = pyo.Var(b.model().J, domain=pyo.NonNegativeReals)\n",
        "\n",
        "        @b.Constraint()\n",
        "        def stage_net_profit(b):\n",
        "            return b.y[\"y3\"] >= b.model().tau\n",
        "\n",
        "        @b.Constraint(S.keys())\n",
        "        def model_constraints(b, k):\n",
        "            return sum(R[k][i]*b.model().x[i] for i in b.model().I) + sum(S[k][j]*b.y[j] for j in b.model().J) <= t[k]\n",
        "    \n",
        "    # worst case profit\n",
        "    @m.Objective(sense=pyo.maximize)\n",
        "    def worst_case_profit(m):\n",
        "        return sum(c[i] * m.x[i] for i in m.I) + m.tau\n",
        "    \n",
        "    solver = pyo.SolverFactory('cbc')\n",
        "    solver.solve(m)\n",
        "    return m\n",
        "\n",
        "print(\"\\nSolution to the nominal problem\")\n",
        "m = max_min_profit(model_params, [{\"z_A\": 0, \"z_B\":0, \"z_D\": 0}])\n",
        "print(f'Objective value: {m.worst_case_profit():.2f}')\n",
        "print(f'Optimal solution: x = {[pyo.value(m.x[i]) for i in m.I][0]:.2f}')\n",
        "\n",
        "print(\"\\nSolution to the robust problem using sampling\")\n",
        "m = max_min_profit(model_params, Z)\n",
        "print(f'Objective value: {m.worst_case_profit():.2f}')\n",
        "print(f'Optimal solution: x = {[pyo.value(m.x[i]) for i in m.I][0]:.2f}')"
      ]
    },
    {
      "attachments": {},
      "cell_type": "markdown",
      "metadata": {
        "id": "Da6gOCCBfuEv"
      },
      "source": [
        "With the nominal data without any perturbation the optimal quantity of raw material to order is equal to $740.00$ with a profit of $2600.00$, while for the worst-case profit optimization calculated over $1000$ sampled scenarios, the optimal quantity of raw material to order is equal to $547.81$ and the worst-case profit is equal to $883.04$. "
      ]
    },
    {
      "attachments": {},
      "cell_type": "markdown",
      "metadata": {
        "id": "TDTkUH2xfuEw"
      },
      "source": [
        "## The average-case optimization using SAA\n",
        "\n",
        "Instead of looking at the worst-case profit, we could be interested in optimizing for the average-case profit, assuming that every scenario within the uncertainty set is equally likely. We can approximate the optimal solution in this case using the Sample Average Approximation (SAA) method with the same sample as before with $N=1000$ samples. The corresponding optimization model that we are implementing is:\n",
        "\n",
        "$$\n",
        "\\begin{align}\n",
        "\\max \\limits_{x, y^j} \\quad & c^\\top x + \\frac{1}{N} \\sum\\limits_{j = 1}^N q^\\top y^j \\\\\n",
        "\\text{s.t.} \\quad & A x \\leq b \\\\\n",
        "& R ( z^j) x + S (z^j) y^j \\leq t(z^j) &\\  j = 1, \\ldots, N.\n",
        "\\end{align}\n",
        "$$\n",
        "\n",
        "The Pyomo implementation is a slight modification of previous worst-case model."
      ]
    },
    {
      "cell_type": "code",
      "execution_count": 5,
      "metadata": {
        "colab": {
          "base_uri": "https://localhost:8080/"
        },
        "id": "XTVUxq0hfuEw",
        "outputId": "feb95823-7e68-47f2-d69e-0a98a08f4877"
      },
      "outputs": [
        {
          "name": "stdout",
          "output_type": "stream",
          "text": [
            "Objective value: 2305.93\n",
            "Optimal solution: x = 637.08\n"
          ]
        }
      ],
      "source": [
        "def max_avg_profit(model_params, Z):\n",
        "    m = pyo.ConcreteModel()\n",
        "\n",
        "    # first stage variables\n",
        "    c, *_ = model_params()\n",
        "    m.I = pyo.Set(initialize=c.keys())\n",
        "    m.x = pyo.Var(m.I, domain=pyo.NonNegativeReals)\n",
        "    \n",
        "    m.SCENARIOS = pyo.Set(initialize=range(len(Z)))\n",
        "    \n",
        "    @m.Block(m.SCENARIOS)\n",
        "    def scenario(b, s):\n",
        "\n",
        "        # get model parameters for the scenario\n",
        "        _, q, R, S, t = model_params(**Z[s])\n",
        "        \n",
        "        # second stage variables\n",
        "        b.y = pyo.Var(q.keys(), domain=pyo.NonNegativeReals)\n",
        "\n",
        "        @b.Constraint(S.keys())\n",
        "        def model_constraints(b, k):\n",
        "            return sum(R[k][i]*b.model().x[i] for i in m.I) + sum(S[k][j]*b.y[j] for j in q.keys()) <= t[k]\n",
        "    \n",
        "    # average profit\n",
        "    @m.Objective(sense=pyo.maximize)\n",
        "    def avg_profit(m):\n",
        "        return sum(c[i] * m.x[i] for i in m.I) + sum(m.scenario[s].y[\"y3\"] for s in m.SCENARIOS) / len(m.SCENARIOS)\n",
        "    \n",
        "    solver = pyo.SolverFactory('cbc')\n",
        "    solver.solve(m)\n",
        "    return m\n",
        "\n",
        "m = max_avg_profit(model_params, Z)\n",
        "print(f'Objective value: {m.avg_profit():.2f}')\n",
        "print(f'Optimal solution: x = {[pyo.value(m.x[i]) for i in m.I][0]:.2f}')\n",
        "\n",
        "# Store the per-scenario profit realizations into a numpy array\n",
        "avg_case_ps = np.zeros(len(Z))\n",
        "\n",
        "for s in range(len(Z)):\n",
        "    _, q, R, S, t = model_params(**Z[s])\n",
        "    avg_case_ps[s] = sum(c[i] * m.x[i]() for i in m.I) + m.scenario[s].y[\"y3\"]()"
      ]
    },
    {
      "attachments": {},
      "cell_type": "markdown",
      "metadata": {
        "id": "ORX35OfdfuEw"
      },
      "source": [
        "For this model, the optimal to-order quantity of the raw material changes to $ 637.08$, with the average profit that is promised being equal to $2305.93$.\n",
        "\n",
        "Of course, this is only the comparison of the two approaches by looking at the first-stage decision. One can also be interested in the following two quantities:\n",
        "\n",
        "* 'average-case performance' of the optimal ordering decision of the robust solution - to find this one, one would need to fix this first-stage decision and for each of the sampled scenarios one would need to optimize the second-stage decisions, taking the average of their costs in the end. \n",
        "\n",
        "* 'worst-case performance' of the optimal ordering decision of the robust solution - to find this, one would need to use a function like the one we used to solve the robust solution, but fixing the first-stage decision to be the one obtained from the stochastic solution.\n",
        "\n",
        "To do this, we define below a new function similar to the ones above, but which now takes as one of its arguments the fixed first-stage ordering decision and a boolean variable to indicate if we want to optimize for the average or for the worst-case. A careful reader will notice that this function could substitute both of the previous ones combined if the 'first stage decision' argument was made optional."
      ]
    },
    {
      "cell_type": "code",
      "execution_count": 6,
      "metadata": {
        "colab": {
          "base_uri": "https://localhost:8080/"
        },
        "id": "DgQTSVaSjCb4",
        "outputId": "745e60ca-bc6f-4405-da00-24a562b59913"
      },
      "outputs": [
        {
          "name": "stdout",
          "output_type": "stream",
          "text": [
            "\n",
            "Solving for the average with optimal-worst-case first stage decision\n",
            "Objective value: 2163.67\n",
            "Optimal solution: x = 555.27\n"
          ]
        }
      ],
      "source": [
        "def max_profit_fixed_x(model_params, Z, fixed_x_value, worst_case = True):\n",
        "    m = pyo.ConcreteModel()\n",
        "\n",
        "    # first stage variables\n",
        "    c, q, *_ = model_params()\n",
        "    \n",
        "    m.I = pyo.Set(initialize=c.keys())\n",
        "    m.J = pyo.Set(initialize=q.keys())\n",
        "    \n",
        "    m.x = pyo.Var(m.I, domain=pyo.NonNegativeReals)\n",
        "    m.tau = pyo.Var()\n",
        "    \n",
        "    m.SCENARIOS = pyo.Set(initialize=range(len(Z)))\n",
        "\n",
        "    # Fixing the first stage decision\n",
        "    m.Fixed_x = pyo.Constraint(expr = m.x[\"x\"] == fixed_x_value)\n",
        "    \n",
        "    @m.Block(m.SCENARIOS)\n",
        "    def scenario(b, s):\n",
        "\n",
        "        # get model parameters for the scenario\n",
        "        c, q, R, S, t = model_params(**Z[s])\n",
        "        \n",
        "        # second stage variables\n",
        "        b.y = pyo.Var(b.model().J, domain=pyo.NonNegativeReals)\n",
        "\n",
        "        @b.Constraint()\n",
        "        def stage_net_profit(b):\n",
        "            return b.y[\"y3\"] >= b.model().tau\n",
        "\n",
        "        @b.Constraint(S.keys())\n",
        "        def model_constraints(b, k):\n",
        "            return  sum(R[k][i]*b.model().x[i] for i in b.model().I) + sum(S[k][j]*b.y[j] for j in b.model().J) <= t[k]\n",
        "    \n",
        "    # deciding what do we optimize for based on the worst_case flag variable\n",
        "\n",
        "    # worst-case minded optimization\n",
        "    if worst_case:\n",
        "        @m.Objective(sense=pyo.maximize)\n",
        "        def profit(m):\n",
        "            return sum(c[i] * m.x[i] for i in m.I) + m.tau\n",
        "\n",
        "    # average-case minded optimization\n",
        "    else: \n",
        "        @m.Objective(sense=pyo.maximize)\n",
        "        def profit(m):\n",
        "            return sum(c[i] * m.x[i] for i in m.I) + sum(m.scenario[s].y[\"y3\"] for s in m.SCENARIOS) / len(m.SCENARIOS)\n",
        "    \n",
        "    solver = pyo.SolverFactory('cbc')\n",
        "    solver.solve(m)\n",
        "    return m\n",
        "\n",
        "print(\"\\nSolving for the average with optimal-worst-case first stage decision\")\n",
        "m = max_profit_fixed_x(model_params, Z, 555.27, worst_case = False)\n",
        "print(f'Objective value: {m.profit():.2f}')\n",
        "print(f'Optimal solution: x = {[pyo.value(m.x[i]) for i in m.I][0]:.2f}')\n",
        "\n",
        "# Extracting the per-scenario realizations of the worst-case optimal solution\n",
        "worst_case_ps = np.zeros(len(Z))\n",
        "\n",
        "for s in range(len(Z)):\n",
        "    c, q, R, S, t = model_params(**Z[s])\n",
        "    worst_case_ps[s] = sum(c[i] * m.x[i]() for i in c.keys()) + m.scenario[s].y[\"y3\"]()"
      ]
    },
    {
      "cell_type": "code",
      "execution_count": 7,
      "metadata": {
        "colab": {
          "base_uri": "https://localhost:8080/"
        },
        "id": "4wsoyZxGq38a",
        "outputId": "f8eb6b3e-4e3a-4b8f-9d86-f34f851779b3"
      },
      "outputs": [
        {
          "name": "stdout",
          "output_type": "stream",
          "text": [
            "\n",
            "Solving for the worst-case with optimal-average first stage decision\n",
            "Objective value: 93.77\n",
            "Optimal solution: x = 626.74\n"
          ]
        }
      ],
      "source": [
        "print(\"\\nSolving for the worst-case with optimal-average first stage decision\")\n",
        "m = max_profit_fixed_x(model_params, Z, 626.74, worst_case = True)\n",
        "print(f'Objective value: {m.profit():.2f}')\n",
        "print(f'Optimal solution: x = {[pyo.value(m.x[i]) for i in m.I][0]:.2f}')"
      ]
    },
    {
      "attachments": {},
      "cell_type": "markdown",
      "metadata": {
        "id": "lLkv6At95uy2"
      },
      "source": [
        "To summarize the above results: \n",
        "\n",
        "* the robust-minded first-stage solution has a worst-case performance of $883.04$ and expected performance of $2163.67$, \n",
        "* the average-minded first-stage solution has a worst-case performance of $93.77$ and average-case performance of $2305.93$. \n",
        "\n",
        "There is thus a **tradeoff**: some solutions are good on average and underperform when things go very bad, and vice versa. To understand this tradeoff even better, we display the histograms of per-scenario profit performance of the two solutions."
      ]
    },
    {
      "cell_type": "code",
      "execution_count": 8,
      "metadata": {
        "colab": {
          "base_uri": "https://localhost:8080/",
          "height": 282
        },
        "id": "rJg_d2BdtC78",
        "outputId": "3249290c-d148-43ae-85b9-4dea8dc11a5a"
      },
      "outputs": [
        {
          "data": {
            "image/png": "[encoded data removed]",
            "text/plain": [
              "<Figure size 640x480 with 1 Axes>"
            ]
          },
          "metadata": {},
          "output_type": "display_data"
        }
      ],
      "source": [
        "import pandas as pd\n",
        "data = pd.DataFrame({\"Robust\": worst_case_ps,\n",
        "                     \"Stochastic\": avg_case_ps})\n",
        "\n",
        "data.plot.hist(bins = 20,\n",
        "               alpha = 0.4,\n",
        "               xlabel = \"Profit\");"
      ]
    },
    {
      "cell_type": "markdown",
      "metadata": {
        "id": "x_TrckOYBvDL"
      },
      "source": [
        "What we observe is a very typical pattern - the robust solution's 'range' of values is narrower, both in the best- and worst-situation sense, it gives thus stabler profit relations. This comes, however, at the expense of having a worse performance on an 'average' scenario. You can expect to observe this kind of phenomenon very often whenever you need to solve a problem under uncertainty and are unsure whether the worst-case or average-case performance should be optimized for. The degree of tradeoff can help you then make the right decision."
      ]
    },
    {
      "attachments": {},
      "cell_type": "markdown",
      "metadata": {
        "id": "P4wm-eDQfuEw"
      },
      "source": [
        "## Column and constraint generation for the robust solution\n",
        "\n",
        "We now come back to trying to solve for the worst-case solution. The downside of the approach of sampling many scenarios and solving the max-min optimization problem just as before is that it requires really many scenarios to be reasonably sure that we cover most of the extreme outcomes of $z$. This is exactly an issue that the CCG algorithm is supposed to mitigate against - the idea is to gradually build a list of scenarios that are `bad' and hopefully, end up with solving a problem with far less than 1000 problem copies included.\n",
        "\n",
        "In the pessimization step of the CCG, having solved problem \\ref{ch10:complete.example.ccg.master} we want to find a new realization $z$ where for each $i$, at least one of the rows in the constraint system\n",
        "\n",
        "$$\n",
        "\\begin{align*}\n",
        "C(z^i) \\bar{x} + D(z^i) \\bar{y}^i \\leq e(z^i)\n",
        "\\end{align*}\n",
        "$$\n",
        "\n",
        "is violated. If we expand the terms in each of the rows and rewrite the constraints into a form that makes them easier to read as constraints on $z_A$, $z_B$, $z_D$, then we obtain that for each $i$, at least one of the four following has to hold:\n",
        "\n",
        "$$\n",
        "\\begin{align*}\n",
        "(50 \\bar{y}^i_1 + 50 \\bar{y}^i_2) z_A + (80 \\bar{y}_1^i + 40 \\bar{y}_2^i) z_B & > -\\bar{y}^i_3 + 140 \\bar{y}^i_1 + 120 \\bar{y}^i_2 && \\text{(profit)} \\\\\n",
        "20 z_D & > \\bar{y}_1^i - 20 && \\text{(demand)} \\\\\n",
        "(y_1^i + y_2^i) z_A & > 80 - \\bar{y}_1^i - \\bar{y}_2^i && \\text{(labor A)} \\\\\n",
        "(2 y_1^i + y^i_2) z_B & > 100 - 2 \\bar{y}_1^i - \\bar{y}_2^i && \\text{(labor B)} \\\\\n",
        "\\end{align*}\n",
        "$$\n",
        "\n",
        "Using a sufficiently large number $M$ and binary variables $u_{ik} \\in \\{0, 1\\}$ for each of them, we can formulate the problem of searching for an infeasible scenario as\n",
        "\n",
        "$$\n",
        "\\begin{align*}\n",
        "\\max \\quad & \\theta \\\\\n",
        "\\text{s.t.} \\quad &  (50 \\bar{y}^i_1 + 50 y_2) z_A + (80 \\bar{y}^i_1 + 40 \\bar{y}^i_2) z_B - \\theta \\geq -\\bar{y}_3^i + 140 \\bar{y}_1^i + 120 \\bar{y}_2^i - M u_{i1} && \\forall j \\\\\n",
        "& 20 z_D - \\theta \\geq \\bar{y}_1^i - 20 - M u_{i2} && \\forall j \\\\\n",
        "& (\\bar{y}_1^i + \\bar{y}_2^i) z_A - \\theta \\geq 80 - \\bar{y}_1^i - \\bar{y}_2^i - M u_{i3} && \\forall j \\\\\n",
        "& (2 \\bar{y}_1^i + \\bar{y}^i_2) z_B 100 - 2 \\bar{y}_1^i - \\bar{y}_2^i  - M u_{i4} && \\forall j \\\\\n",
        "& \\sum_{k = 1}^4 u_{ik} \\leq 3 && \\forall j \\\\\n",
        "& \\theta \\geq 0 \\\\\n",
        "& u_{jk} \\in \\{ 0, 1\\} && \\forall j, k\n",
        "\\end{align*}\n",
        "$$\n",
        "\n",
        "We first define an auxiliary function that creates the data structures needed as input for the optimization problem."
      ]
    },
    {
      "cell_type": "code",
      "execution_count": 9,
      "metadata": {
        "id": "SWGTIIyBfuEx"
      },
      "outputs": [],
      "source": [
        "def subproblem_params(dec):\n",
        "\n",
        "    Left = {\"demand\" : {\"z_A\": 0, \"z_B\": 0, \"z_D\": 20},\n",
        "            \"profit\": {\"z_A\": (50 * dec[\"y1\"] + 50 * dec[\"y2\"]), \"z_B\": (80 * dec[\"y1\"] + 40 * dec[\"y2\"]), \"z_D\": 0},\n",
        "             \"labor A\": {\"z_A\": dec[\"y1\"] + dec[\"y2\"], \"z_B\": 0, \"z_D\": 0},\n",
        "             \"labor B\": {\"z_A\": 0, \"z_B\": 2 * dec[\"y1\"] + dec[\"y2\"], \"z_D\": 0}}\n",
        "\n",
        "    Right = {\"demand\": dec[\"y1\"] - 20,\n",
        "             \"profit\": 140 * dec[\"y1\"] + 120 * dec[\"y2\"] - dec[\"y3\"],\n",
        "              \"labor A\": 80 - dec[\"y1\"] - dec[\"y2\"],\n",
        "              \"labor B\": 100 - 2 * dec[\"y1\"] - dec[\"y2\"]}\n",
        "\n",
        "    return Left, Right"
      ]
    },
    {
      "attachments": {},
      "cell_type": "markdown",
      "metadata": {
        "id": "pjTqZdQ7fuEx"
      },
      "source": [
        "We then implement formulate the pessimization problem, where for extra flexibility we include the following as arguments:\n",
        "\n",
        "* tha maximum values of the parameters deviations,\n",
        "* the uncertainty budget. \n",
        "\n",
        "Inspecting the implementation below (c.f. the comment 'hack for faster CCG convergence'), one can notice that in fact we look for scenarios $z$ that will make only the 'feasibility' constraints of the second-stage problem violated, without accounting for the 'profit related' proxy constraint. The reason for doing this is to (possibly) accelerate the CCG convergence - the profit constraint will be taken care of anyway as the variable $y_3$ can adapt freely for each newly generated $z^i$ and each newly generated solution to the master problem, and at the same time, we eliminate the risk of iteratively building a list of scenarios $z$ that violate only the profit constraints across all $i$, without actually hurting the feasibility of the production plans made."
      ]
    },
    {
      "cell_type": "code",
      "execution_count": 10,
      "metadata": {
        "id": "n44o09kVfuEx"
      },
      "outputs": [],
      "source": [
        "def pessimization_problem(subproblem_params, master_solution, z_A_max=0.15, z_B_max=0.25, z_D_max=0.5, Gamma=2):\n",
        "    \n",
        "    # Initial definitions\n",
        "    m = pyo.ConcreteModel()\n",
        "    big_M = 1000\n",
        "    \n",
        "    L, R = subproblem_params(master_solution[0])\n",
        "\n",
        "    # indices for the variables\n",
        "    m.Z_INDICES = pyo.Set(initialize=[\"z_A\", \"z_B\", \"z_D\"])\n",
        "\n",
        "    # indices for the scenarios\n",
        "    m.SCENARIOS = pyo.Set(initialize=range(len(master_solution)))\n",
        "    \n",
        "    m.z = pyo.Var(m.Z_INDICES, domain=pyo.Reals)\n",
        "    m.z_abs = pyo.Var(m.Z_INDICES, domain=pyo.NonNegativeReals)\n",
        "    \n",
        "    m.theta = pyo.Var(domain=pyo.Reals)\n",
        "    \n",
        "    # Constraints on z itself\n",
        "    m.A_ub = pyo.Constraint(expr = m.z[\"z_A\"] <= z_A_max)\n",
        "    m.A_lb = pyo.Constraint(expr = -m.z[\"z_A\"] <= z_A_max)\n",
        "    m.A_abs = pyo.Constraint(expr = m.z[\"z_A\"] <= m.z_abs[\"z_A\"])\n",
        "    \n",
        "    m.B_lb = pyo.Constraint(expr = m.z[\"z_B\"] <= z_B_max)\n",
        "    m.B_ub = pyo.Constraint(expr = -m.z[\"z_B\"] <= z_B_max)\n",
        "    m.B_abs = pyo.Constraint(expr = m.z[\"z_B\"] <= m.z_abs[\"z_B\"])\n",
        "    \n",
        "    m.D_lb = pyo.Constraint(expr = m.z[\"z_D\"] <= z_D_max)\n",
        "    m.D_ub = pyo.Constraint(expr = -m.z[\"z_D\"] <= z_D_max)\n",
        "    m.D_abs = pyo.Constraint(expr = m.z[\"z_D\"] <= m.z_abs[\"z_D\"])\n",
        "    \n",
        "    m.z_budget = pyo.Constraint(expr = m.z_abs[\"z_A\"]/z_A_max + m.z_abs[\"z_B\"]/z_B_max + m.z_abs[\"z_D\"]/z_D_max <= Gamma)\n",
        "    \n",
        "    #bounds = {\"z_A\": (-0.15, 0.15),\"z_B\": (-0.25, 0.25), \"z_D\": (-0.5, 0.5)}\n",
        "    \n",
        "    # Constraint violation: blockwise\n",
        "    @m.Block(m.SCENARIOS)\n",
        "    def scenario(b, s):\n",
        "        # get model parameters for the scenario\n",
        "        L, R = subproblem_params(master_solution[s])\n",
        "        \n",
        "        # second stage variables\n",
        "        b.u = pyo.Var(L.keys(), domain=pyo.Binary)\n",
        "        \n",
        "        # hack for faster CCG convergence\n",
        "        @b.Constraint()\n",
        "        def at_least_one_violated(b): # only care for violations related to the `actual' constraints, not the profit constraint\n",
        "            return sum(b.u[k] for k in L.keys() if k != \"profit\") <= len(L.keys()) - 2\n",
        "\n",
        "        @b.Constraint(L.keys())\n",
        "        def model_constraints(b, k):\n",
        "            return  sum(L[k][i]*b.model().z[i] for i in b.model().Z_INDICES) - b.model().theta >= R[k] - b.u[k] * big_M\n",
        "    \n",
        "    # worst case profit\n",
        "    @m.Objective(sense=pyo.maximize)\n",
        "    def max_violation(m):\n",
        "        return m.theta\n",
        "    \n",
        "    solver = pyo.SolverFactory('cbc')\n",
        "    solver.solve(m)\n",
        "    \n",
        "    return m.theta(), m.z[\"z_A\"](), m.z[\"z_B\"](), m.z[\"z_D\"]()"
      ]
    },
    {
      "attachments": {},
      "cell_type": "markdown",
      "metadata": {
        "id": "-g_CUrCUfuEx"
      },
      "source": [
        "With the two functions above defined, we are ready to put them together into an implementation of the CCG algorithm. In the below code, we hard-limit the maximum number of iterations to 50 scenarios and we decide to stop the algorithm when the optimal value of the pessimization subproblem is less than 0.1 (constraint violation of 0.1 seems to be \"acceptably small\" given the fact that the labor availability numbers are in the magnitude of 80 and 100, and the amount of raw material purchased is also expected to be in the hundreds, just like the optimal profit)."
      ]
    },
    {
      "cell_type": "code",
      "execution_count": 12,
      "metadata": {
        "colab": {
          "base_uri": "https://localhost:8080/"
        },
        "id": "L5UAq7H4fuEy",
        "outputId": "ff7468c5-e83d-430f-d34b-4c5024c99cab"
      },
      "outputs": [
        {
          "name": "stdout",
          "output_type": "stream",
          "text": [
            "\n",
            "Iteration #0\n",
            "Current solution: x = 740.00\n",
            "Violation found: z_A = 0.15,  z_B = 0.25,  z_D = 0.00, constraint violation:  25.00\n",
            "\n",
            "Iteration #1\n",
            "Current solution: x = 560.00\n",
            "Violation found: z_A = 0.00,  z_B = 0.25,  z_D = 0.25, constraint violation:   5.00\n",
            "\n",
            "Iteration #2\n",
            "Current solution: x = 555.61\n",
            "No violation found. Stopping the procedure.\n"
          ]
        }
      ],
      "source": [
        "ccg_converged = False\n",
        "stopping_precision = 0.1\n",
        "max_iterations = 50\n",
        "ccg_iterations = 0\n",
        "\n",
        "# Initialize the null scenario - no perturbation\n",
        "Z = [{\"z_A\": 0, \"z_B\":0, \"z_D\": 0}]\n",
        "\n",
        "while((not ccg_converged) and (ccg_iterations < max_iterations)):\n",
        "    \n",
        "    # Building and solving the master problem\n",
        "    m = max_min_profit(model_params, Z)\n",
        "    \n",
        "    # Exporting the data from the master problem into a list of dictionaries\n",
        "    c, q, *_ = model_params()\n",
        "    \n",
        "    master_solution = []\n",
        "    \n",
        "    print(f'\\nIteration #{ccg_iterations}')\n",
        "\n",
        "    for s in range(len(Z)):\n",
        "        single_solution = {}\n",
        "        \n",
        "        for x_key in c.keys():\n",
        "            single_solution[x_key] = m.x[x_key]()\n",
        "        \n",
        "        for y_key in q.keys():\n",
        "            single_solution[y_key] = m.scenario[s].y[y_key]()\n",
        "            \n",
        "        master_solution.append(single_solution)\n",
        "    \n",
        "    print(f'Current solution: x = {master_solution[0][\"x\"]:.2f}')\n",
        "    \n",
        "    # Pessimization\n",
        "    theta_opt, z_A, z_B, z_D = pessimization_problem(subproblem_params, master_solution, 0.15, 0.25, 0.25, 2)\n",
        "    \n",
        "    # If pessimization yields no violation, stop the procedure, otherwise add a scenario and repeat\n",
        "    if (theta_opt < stopping_precision):\n",
        "        print(\"No violation found. Stopping the procedure.\")\n",
        "        ccg_converged = True\n",
        "    else:\n",
        "        print(f\"Violation found: z_A = {z_A:4.2f},  z_B = {z_B:4.2f},  z_D = {z_D:4.2f}, constraint violation: {theta_opt:6.2f}\")\n",
        "        Z.append({\"z_A\": z_A, \"z_B\": z_B, \"z_D\": z_D})\n",
        "    \n",
        "    ccg_iterations += 1"
      ]
    },
    {
      "attachments": {},
      "cell_type": "markdown",
      "metadata": {
        "id": "Z3yo5O4ufuEy"
      },
      "source": [
        "It takes only two iterations, instead of 1000 scenarios, to arrive at an \"almost\" robust solution which pretty much the same first-stage decisions as in the first case. \n",
        "\n",
        "It really pays off thus to generate scenarios only when they are needed and if they are needed. This principle of \"delayed generation of scenarios\" has its applications in many fields of large-scale optimization, not just in the context of robustness but even for deterministic problems, where it is known as **column generation** but which is not discussed throughout this book."
      ]
    },
    {
      "cell_type": "markdown",
      "metadata": {
        "id": "z4k6l82LOgs8"
      },
      "source": [
        "## Bibliographic Notes\n",
        "\n",
        "* Zeng, B., & Zhao, L. (2013). Solving two-stage robust optimization problems using a column-and-constraint generation method. Operations Research Letters, 41(5), 457-461. "
      ]
    }
  ],
  "metadata": {
    "colab": {
      "provenance": []
    },
    "kernelspec": {
      "display_name": "3.11.1",
      "language": "python",
      "name": "pyenv_3.11.1"
    },
    "language_info": {
      "codemirror_mode": {
        "name": "ipython",
        "version": 3
      },
      "file_extension": ".py",
      "mimetype": "text/x-python",
      "name": "python",
      "nbconvert_exporter": "python",
      "pygments_lexer": "ipython3",
      "version": "3.11.1"
    },
    "latex_envs": {
      "LaTeX_envs_menu_present": true,
      "autoclose": false,
      "autocomplete": true,
      "bibliofile": "biblio.bib",
      "cite_by": "apalike",
      "current_citInitial": 1,
      "eqLabelWithNumbers": true,
      "eqNumInitial": 1,
      "hotkeys": {
        "equation": "Ctrl-E",
        "itemize": "Ctrl-I"
      },
      "labels_anchors": false,
      "latex_user_defs": false,
      "report_style_numbering": false,
      "user_envs_cfg": false
    },
    "vscode": {
      "interpreter": {
        "hash": "1a1af0ee75eeea9e2e1ee996c87e7a2b11a0bebd85af04bb136d915cefc0abce"
      }
    }
  },
  "nbformat": 4,
  "nbformat_minor": 0
}
