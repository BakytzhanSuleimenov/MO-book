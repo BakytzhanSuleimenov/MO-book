{
 "cells": [
  {
   "cell_type": "markdown",
   "id": "8a57cf99-9019-4022-9546-4f86b1d9ca88",
   "metadata": {
    "ExecuteTime": {
     "end_time": "2022-09-30T21:49:22.516232Z",
     "start_time": "2022-09-30T21:49:22.430418Z"
    }
   },
   "source": [
    "# Farmer's problem and some of its variants"
   ]
  },
  {
   "cell_type": "code",
   "execution_count": 1,
   "id": "9720e9d1",
   "metadata": {
    "ExecuteTime": {
     "end_time": "2022-09-30T21:49:20.540447Z",
     "start_time": "2022-09-30T21:49:20.292334Z"
    }
   },
   "outputs": [
    {
     "name": "stdout",
     "output_type": "stream",
     "text": [
      "pyomo was previously installed\n",
      "glpk was previously installed\n",
      "cbc was previously installed\n",
      "ipopt was previously installed\n"
     ]
    },
    {
     "data": {
      "text/plain": [
       "True"
      ]
     },
     "execution_count": 1,
     "metadata": {},
     "output_type": "execute_result"
    }
   ],
   "source": [
    "# install Pyomo and solvers\n",
    "import requests\n",
    "import types\n",
    "\n",
    "url = \"https://raw.githubusercontent.com/jckantor/MO-book/main/python/helper.py\"\n",
    "helper = types.ModuleType(\"helper\")\n",
    "exec(requests.get(url).content, helper.__dict__)\n",
    "\n",
    "helper.install_pyomo()\n",
    "helper.install_glpk()\n",
    "helper.install_cbc()\n",
    "helper.install_ipopt()"
   ]
  },
  {
   "cell_type": "code",
   "execution_count": 11,
   "id": "330cd1f1",
   "metadata": {
    "ExecuteTime": {
     "end_time": "2022-09-30T21:49:22.291926Z",
     "start_time": "2022-09-30T21:49:20.543823Z"
    }
   },
   "outputs": [],
   "source": [
    "%matplotlib inline\n",
    "import pyomo.environ as pyo\n",
    "import numpy as np\n",
    "import pandas as pd\n",
    "import seaborn as sns\n",
    "import matplotlib.pyplot as plt\n",
    "import math\n",
    "import logging\n",
    "from IPython.display import Markdown\n",
    "\n",
    "cbc_solver = pyo.SolverFactory('cbc')\n",
    "glpk_solver = pyo.SolverFactory('glpk')\n",
    "ipopt_solver = pyo.SolverFactory('ipopt')"
   ]
  },
  {
   "cell_type": "markdown",
   "id": "fd4fa64d-5e98-4136-ae94-42ca55c6bccc",
   "metadata": {
    "ExecuteTime": {
     "end_time": "2022-09-30T21:49:22.516232Z",
     "start_time": "2022-09-30T21:49:22.430418Z"
    }
   },
   "source": [
    "## Base Model\n",
    "\n",
    "In the [farmer's problem](https://www.math.uh.edu/~rohop/Spring_15/Chapter1.pdf) a farmer has to allocate $500$ acres of land to three different types of crops aiming to maximize her profit. \n",
    "\n",
    "Recall that:\n",
    "\n",
    "* Planting one acre of wheat, corn and beet costs 150, 230 and 260 euro, respectively.\n",
    "\n",
    "* At least 200 tons of wheat and 240 tons of corn are needed for cattle feed, which can be purchased from a wholesaler if not harvested by her farm.\n",
    "\n",
    "* Up to 6,000 tons of sugar beets can be sold for 36 euro per ton, while any additional amounts can be sold for 10 euro per ton.\n",
    "\n",
    "* Any wheat or corn not used for the cattle can be sold at 170 euro and 150 euro per ton of wheat and corn, respectively. The wholesaler sells the wheat or corn at a higher price, namely 238 euro and 210 euro per ton, respectively.\n",
    "\n",
    "In her decision, the farmer considers three weather scenarios, each one having a different yield in tons/acre per crop type as summarized by the following table.\n",
    "\n",
    "| Scenario | Yield for wheat <br> (tons/acre)| Yield for corn <br> (tons/acre) | Yield for beets <br> (tons/acre) |\n",
    "| :-- | :-: | :-: | :-: |\n",
    "| Good weather | 3 | 3.6 | 24 |\n",
    "| Average weather | 2.5 | 3 | 20 |\n",
    "| Bad weather | 2 | 2.4 | 16 |\n",
    "\n",
    "We first consider the case in which all the prices are fixed and not weather-dependent. The following table summarizes the data.\n",
    "\n",
    "| Commodity | Sell Price <br> (euro/ton) | Market <br> Demand <br> (tons) | Purchase <br> Price <br> (euro/ton) | Cattle Feed <br> Required <br> (tons) | Planting <br> Cost <br> (euro/acre) |\n",
    "| :-- | :--: | :--: | :--: | :--: | :--: |\n",
    "| Wheat | 170 | - | 238 | 200 | 150 |\n",
    "| Corn | 150 | - | 210 | 240 | 230 |\n",
    "| Beets | 36 | 6000 | - | 0 | 260 | 6000 |\n",
    "| Beets extra | 10 | - | - | 0 | 260 |\n",
    "\n",
    "(a) Implement the extensive form of stochastic LP corresponding to the farmer's problem in Pyomo and solve it."
   ]
  },
  {
   "cell_type": "code",
   "execution_count": 204,
   "id": "5c8b7f4f-0ff7-458b-ad8b-12d547584c08",
   "metadata": {},
   "outputs": [],
   "source": [
    "M = 10000\n",
    "\n",
    "data = \"\"\"\n",
    "crop,        planting_cost, crop_yield, sell_price, demand, buy_price, cattle_feed\n",
    "wheat,                 150,        2.5,        170,       ,       238,         200\n",
    "corn,                  230,          3,        150,       ,       210,         240  \n",
    "beets,                 260,         20,         36,   6000,          ,           0\n",
    "beets extra,           260,         \n",
    "\"\"\"\n",
    "\n",
    "# constant parameters\n",
    "planting_cost = {\"W\": 150, \"C\": 230, \"B\": 260, \"B extra\": 260}\n",
    "crop_yield = {\"W\": 2.5, \"C\": 3, \"B\": 20, \"B extra\": 20}\n",
    "sell_price = {\"W\": 170, \"C\": 150, \"B\": 36, \"B extra\": 10}\n",
    "demand = {\"W\": M, \"C\": M, \"B\": 6000, \"B extra\": M}\n",
    "buy_price = {\"W\": 238, \"C\": 210, \"B\": M, \"B extra\": M}\n",
    "cattle_feed = {\"W\": 200, \"C\": 240, \"B\": 0, \"B extra\": 0}\n",
    "\n",
    "# scenario dependent parameters\n",
    "yield_factor = {\"H\": 1.2, \"M\": 1.0, \"L\": 0.8}"
   ]
  },
  {
   "cell_type": "code",
   "execution_count": 205,
   "id": "85b7576a-d12d-4f28-9ccb-2bc45b8d6733",
   "metadata": {},
   "outputs": [
    {
     "name": "stdout",
     "output_type": "stream",
     "text": [
      "\n",
      "First Stage Profit: -108900.00 euros\n",
      "\tCrop       Planted\n",
      "\t           (acres)\n",
      "\tW            170.0\n",
      "\tC             80.0\n",
      "\tB            250.0\n",
      "\tB extra        0.0\n",
      "\n",
      "Second Stage / Recourse Solutions\n",
      "\n",
      "Scenario H Profit: 275900.00 euros\n",
      "\tCrop      Produced       Buy      Feed      Sell\n",
      "\t            (tons)     (tons)    (tons)   (tons)\n",
      "\tW            510.0       0.0     200.0     310.0\n",
      "\tC            288.0       0.0     240.0      48.0\n",
      "\tB           6000.0       0.0       0.0    6000.0\n",
      "\tB extra        0.0       0.0       0.0       0.0\n",
      "\n",
      "Scenario M Profit: 218250.00 euros\n",
      "\tCrop      Produced       Buy      Feed      Sell\n",
      "\t            (tons)     (tons)    (tons)   (tons)\n",
      "\tW            425.0       0.0     200.0     225.0\n",
      "\tC            240.0       0.0     240.0       0.0\n",
      "\tB           5000.0       0.0       0.0    5000.0\n",
      "\tB extra        0.0       0.0       0.0       0.0\n",
      "\n",
      "Scenario L Profit: 157720.00 euros\n",
      "\tCrop      Produced       Buy      Feed      Sell\n",
      "\t            (tons)     (tons)    (tons)   (tons)\n",
      "\tW            340.0       0.0     200.0     140.0\n",
      "\tC            192.0      48.0     240.0       0.0\n",
      "\tB           4000.0       0.0       0.0    4000.0\n",
      "\tB extra        0.0       0.0       0.0       0.0\n",
      "\n",
      "Expected profit = 108390.00 euros\n"
     ]
    }
   ],
   "source": [
    "m = pyo.ConcreteModel()\n",
    "\n",
    "# mutable parameter\n",
    "m.total_acres = pyo.Param(initialize=500, mutable=True)\n",
    "\n",
    "# sets\n",
    "m.crops = pyo.Set(initialize=planting_cost.keys())\n",
    "m.scenarios = pyo.Set(initialize=yield_factor.keys())\n",
    "\n",
    "# constant parameter values\n",
    "m.planting_cost = pyo.Param(m.crops, initialize=planting_cost)\n",
    "m.crop_yield = pyo.Param(m.crops, initialize=crop_yield)\n",
    "m.sell_price = pyo.Param(m.crops, initialize=sell_price)\n",
    "m.buy_price = pyo.Param(m.crops, initialize=buy_price)\n",
    "m.demand = pyo.Param(m.crops, initialize=demand)\n",
    "m.cattle_feed = pyo.Param(m.crops, initialize=cattle_feed)\n",
    "\n",
    "# scenario dependent parameter values\n",
    "m.yield_factor = pyo.Param(m.scenarios, initialize=yield_factor)\n",
    "\n",
    "# first stage variables\n",
    "\n",
    "m.plant = pyo.Var(m.crops, domain=pyo.NonNegativeReals)\n",
    "\n",
    "# first stage constraint\n",
    "@m.Constraint()\n",
    "def acres(m):\n",
    "    return sum(m.plant[c] for c in m.crops) <= m.total_acres\n",
    "\n",
    "# first stage profit\n",
    "@m.Expression()\n",
    "def first_stage_profit(m, c):\n",
    "    return -sum(m.plant[c] * m.planting_cost[c] for c in m.crops)\n",
    "\n",
    "# second stage variables\n",
    "m.produced = pyo.Var(m.crops, m.scenarios, domain=pyo.NonNegativeReals)\n",
    "m.buy = pyo.Var(m.crops, m.scenarios, domain=pyo.NonNegativeReals)\n",
    "m.sell = pyo.Var(m.crops, m.scenarios, domain=pyo.NonNegativeReals)\n",
    "\n",
    "# second stage constraints\n",
    "@m.Constraint(m.crops, m.scenarios)\n",
    "def crops_produced(m, c, s):\n",
    "    return m.produced[c, s] == m.plant[c] * m.crop_yield[c] * m.yield_factor[s]\n",
    "\n",
    "@m.Constraint(m.crops, m.scenarios)\n",
    "def demand_limit(m, c, s):\n",
    "    return m.sell[c, s] <= m.demand[c]\n",
    "\n",
    "@m.Constraint(m.crops, m.scenarios)\n",
    "def balance(m, c, s):\n",
    "    return m.produced[c, s] + m.buy[c, s] == m.cattle_feed[c] + m.sell[c, s]\n",
    "\n",
    "# second stage profit\n",
    "@m.Expression(m.scenarios)\n",
    "def second_stage_profit(m, s):\n",
    "    revenue = sum(m.sell[c, s] * m.sell_price[c] for c in m.crops) \n",
    "    expense = sum(m.buy[c, s] * m.buy_price[c] for c in m.crops)\n",
    "    return revenue - expense\n",
    "\n",
    "# Objective\n",
    "@m.Objective(sense=pyo.maximize)\n",
    "def total_profit(m):\n",
    "    return m.first_stage_profit + sum(m.second_stage_profit[s] for s in m.scenarios) / len(m.scenarios)\n",
    "\n",
    "pyo.SolverFactory('cbc').solve(m)\n",
    "    \n",
    "print(f\"\\nFirst Stage Profit: {m.first_stage_profit.expr():0.2f} euros\")\n",
    "print(\"\\tCrop       Planted\")\n",
    "print(\"\\t           (acres)\")\n",
    "for c in m.crops:\n",
    "    print(f\"\\t{c:8s}   {m.plant[c].value:7.1f}\")\n",
    "    \n",
    "print(f\"\\nSecond Stage / Recourse Solutions\")\n",
    "for s in m.scenarios:\n",
    "    print(f\"\\nScenario {s} Profit: {m.second_stage_profit[s].expr():0.2f} euros\")\n",
    "    print(\"\\tCrop      Produced       Buy      Feed      Sell\")\n",
    "    print(\"\\t            (tons)     (tons)    (tons)   (tons)\")\n",
    "    for c in m.crops:\n",
    "        sout = f\"\\t{c:8s}\"\n",
    "        sout += f\"   {m.produced[c, s].value:7.1f}\"\n",
    "        sout += f\"   {m.buy[c, s].value:7.1f}\"\n",
    "        sout += f\"   {cattle_feed[c]:7.1f}\"\n",
    "        sout += f\"   {m.sell[c, s].value:7.1f}\"\n",
    "        print(sout)\n",
    "\n",
    "print(f\"\\nExpected profit = {m.total_profit():0.2f} euros\")"
   ]
  },
  {
   "cell_type": "markdown",
   "id": "c772551e-3bfb-4bbf-b667-db0f1d95aede",
   "metadata": {},
   "source": [
    "## Scenario Dependent Prices"
   ]
  },
  {
   "cell_type": "code",
   "execution_count": 202,
   "id": "bf5a778a-1d5a-4c18-ae8a-adac8b336ffb",
   "metadata": {},
   "outputs": [
    {
     "name": "stdout",
     "output_type": "stream",
     "text": [
      "WARNING: Implicitly replacing the Component attribute feed_cattle_W\n",
      "    (type=<class 'pyomo.core.base.constraint.IndexedConstraint'>) on block\n",
      "    unknown with a new Component (type=<class\n",
      "    'pyomo.core.base.constraint.IndexedConstraint'>). This is usually\n",
      "    indicative of a modelling error. To avoid this warning, use\n",
      "    block.del_component() and block.add_component().\n",
      "ERROR: Rule failed when generating expression for Constraint feed_cattle_W\n",
      "    with index H: AttributeError: 'ConcreteModel' object has no attribute\n",
      "    'plant'\n",
      "ERROR: Constructing component 'feed_cattle_W' from data=None failed:\n",
      "    AttributeError: 'ConcreteModel' object has no attribute 'plant'\n"
     ]
    },
    {
     "ename": "AttributeError",
     "evalue": "'ConcreteModel' object has no attribute 'plant'",
     "output_type": "error",
     "traceback": [
      "\u001b[0;31m---------------------------------------------------------------------------\u001b[0m",
      "\u001b[0;31mAttributeError\u001b[0m                            Traceback (most recent call last)",
      "Input \u001b[0;32mIn [202]\u001b[0m, in \u001b[0;36m<cell line: 2>\u001b[0;34m()\u001b[0m\n\u001b[1;32m      1\u001b[0m \u001b[38;5;66;03m# second stage constraints\u001b[39;00m\n\u001b[1;32m      2\u001b[0m \u001b[38;5;129;43m@model\u001b[39;49m\u001b[38;5;241;43m.\u001b[39;49m\u001b[43mConstraint\u001b[49m\u001b[43m(\u001b[49m\u001b[43mmodel\u001b[49m\u001b[38;5;241;43m.\u001b[39;49m\u001b[43mscenarios\u001b[49m\u001b[43m)\u001b[49m\n\u001b[0;32m----> 3\u001b[0m \u001b[38;5;28;43;01mdef\u001b[39;49;00m\u001b[43m \u001b[49m\u001b[38;5;21;43mfeed_cattle_W\u001b[39;49m\u001b[43m(\u001b[49m\u001b[43mmodel\u001b[49m\u001b[43m,\u001b[49m\u001b[43m \u001b[49m\u001b[43ms\u001b[49m\u001b[43m)\u001b[49m\u001b[43m:\u001b[49m\n\u001b[1;32m      4\u001b[0m \u001b[43m    \u001b[49m\u001b[38;5;28;43;01mreturn\u001b[39;49;00m\u001b[43m \u001b[49m\u001b[43mmodel\u001b[49m\u001b[38;5;241;43m.\u001b[39;49m\u001b[43mplant\u001b[49m\u001b[43m[\u001b[49m\u001b[38;5;124;43m'\u001b[39;49m\u001b[38;5;124;43mW\u001b[39;49m\u001b[38;5;124;43m'\u001b[39;49m\u001b[43m]\u001b[49m\u001b[43m \u001b[49m\u001b[38;5;241;43m*\u001b[39;49m\u001b[43m \u001b[49m\u001b[38;5;241;43m2.5\u001b[39;49m\u001b[43m \u001b[49m\u001b[38;5;241;43m*\u001b[39;49m\u001b[43m \u001b[49m\u001b[43mmodel\u001b[49m\u001b[38;5;241;43m.\u001b[39;49m\u001b[43mfactor_H\u001b[49m\u001b[43m \u001b[49m\u001b[38;5;241;43m-\u001b[39;49m\u001b[43m \u001b[49m\u001b[43mmodel\u001b[49m\u001b[38;5;241;43m.\u001b[39;49m\u001b[43msell_H\u001b[49m\u001b[43m[\u001b[49m\u001b[38;5;124;43m'\u001b[39;49m\u001b[38;5;124;43mW\u001b[39;49m\u001b[38;5;124;43m'\u001b[39;49m\u001b[43m,\u001b[49m\u001b[43m \u001b[49m\u001b[43ms\u001b[49m\u001b[43m]\u001b[49m\u001b[43m \u001b[49m\u001b[38;5;241;43m+\u001b[39;49m\u001b[43m \u001b[49m\u001b[43mmodel\u001b[49m\u001b[38;5;241;43m.\u001b[39;49m\u001b[43mbuy_H\u001b[49m\u001b[43m[\u001b[49m\u001b[38;5;124;43m'\u001b[39;49m\u001b[38;5;124;43mW\u001b[39;49m\u001b[38;5;124;43m'\u001b[39;49m\u001b[43m,\u001b[49m\u001b[43m \u001b[49m\u001b[43ms\u001b[49m\u001b[43m]\u001b[49m\u001b[43m \u001b[49m\u001b[38;5;241;43m>\u001b[39;49m\u001b[38;5;241;43m=\u001b[39;49m\u001b[43m \u001b[49m\u001b[38;5;241;43m200\u001b[39;49m\n\u001b[1;32m      6\u001b[0m model\u001b[38;5;241m.\u001b[39mfeed_cattle_C_H \u001b[38;5;241m=\u001b[39m pyo\u001b[38;5;241m.\u001b[39mConstraint(expr\u001b[38;5;241m=\u001b[39mmodel\u001b[38;5;241m.\u001b[39mplant[\u001b[38;5;124m'\u001b[39m\u001b[38;5;124mC\u001b[39m\u001b[38;5;124m'\u001b[39m] \u001b[38;5;241m*\u001b[39m \u001b[38;5;241m3\u001b[39m \u001b[38;5;241m*\u001b[39m model\u001b[38;5;241m.\u001b[39mfactor_H \u001b[38;5;241m-\u001b[39m model\u001b[38;5;241m.\u001b[39msell_H[\u001b[38;5;124m'\u001b[39m\u001b[38;5;124mC\u001b[39m\u001b[38;5;124m'\u001b[39m] \u001b[38;5;241m+\u001b[39m model\u001b[38;5;241m.\u001b[39mbuy_H[\u001b[38;5;124m'\u001b[39m\u001b[38;5;124mC\u001b[39m\u001b[38;5;124m'\u001b[39m] \u001b[38;5;241m>\u001b[39m\u001b[38;5;241m=\u001b[39m \u001b[38;5;241m240\u001b[39m)\n",
      "File \u001b[0;32m~/opt/anaconda3/lib/python3.9/site-packages/pyomo/core/base/block.py:67\u001b[0m, in \u001b[0;36m_generic_component_decorator.__call__\u001b[0;34m(self, rule)\u001b[0m\n\u001b[1;32m     66\u001b[0m \u001b[38;5;28;01mdef\u001b[39;00m \u001b[38;5;21m__call__\u001b[39m(\u001b[38;5;28mself\u001b[39m, rule):\n\u001b[0;32m---> 67\u001b[0m     \u001b[38;5;28;43msetattr\u001b[39;49m\u001b[43m(\u001b[49m\n\u001b[1;32m     68\u001b[0m \u001b[43m        \u001b[49m\u001b[38;5;28;43mself\u001b[39;49m\u001b[38;5;241;43m.\u001b[39;49m\u001b[43m_block\u001b[49m\u001b[43m,\u001b[49m\n\u001b[1;32m     69\u001b[0m \u001b[43m        \u001b[49m\u001b[43mrule\u001b[49m\u001b[38;5;241;43m.\u001b[39;49m\u001b[38;5;18;43m__name__\u001b[39;49m\u001b[43m,\u001b[49m\n\u001b[1;32m     70\u001b[0m \u001b[43m        \u001b[49m\u001b[38;5;28;43mself\u001b[39;49m\u001b[38;5;241;43m.\u001b[39;49m\u001b[43m_component\u001b[49m\u001b[43m(\u001b[49m\u001b[38;5;241;43m*\u001b[39;49m\u001b[38;5;28;43mself\u001b[39;49m\u001b[38;5;241;43m.\u001b[39;49m\u001b[43m_args\u001b[49m\u001b[43m,\u001b[49m\u001b[43m \u001b[49m\u001b[43mrule\u001b[49m\u001b[38;5;241;43m=\u001b[39;49m\u001b[43mrule\u001b[49m\u001b[43m,\u001b[49m\u001b[43m \u001b[49m\u001b[38;5;241;43m*\u001b[39;49m\u001b[38;5;241;43m*\u001b[39;49m\u001b[43m(\u001b[49m\u001b[38;5;28;43mself\u001b[39;49m\u001b[38;5;241;43m.\u001b[39;49m\u001b[43m_kwds\u001b[49m\u001b[43m)\u001b[49m\u001b[43m)\u001b[49m\n\u001b[1;32m     71\u001b[0m \u001b[43m    \u001b[49m\u001b[43m)\u001b[49m\n\u001b[1;32m     72\u001b[0m     \u001b[38;5;28;01mreturn\u001b[39;00m rule\n",
      "File \u001b[0;32m~/opt/anaconda3/lib/python3.9/site-packages/pyomo/core/base/block.py:572\u001b[0m, in \u001b[0;36m_BlockData.__setattr__\u001b[0;34m(self, name, val)\u001b[0m\n\u001b[1;32m    563\u001b[0m     logger\u001b[38;5;241m.\u001b[39mwarning(\n\u001b[1;32m    564\u001b[0m         \u001b[38;5;124m\"\u001b[39m\u001b[38;5;124mImplicitly replacing the Component attribute \u001b[39m\u001b[38;5;124m\"\u001b[39m\n\u001b[1;32m    565\u001b[0m         \u001b[38;5;124m\"\u001b[39m\u001b[38;5;132;01m%s\u001b[39;00m\u001b[38;5;124m (type=\u001b[39m\u001b[38;5;132;01m%s\u001b[39;00m\u001b[38;5;124m) on block \u001b[39m\u001b[38;5;132;01m%s\u001b[39;00m\u001b[38;5;124m with a new Component (type=\u001b[39m\u001b[38;5;132;01m%s\u001b[39;00m\u001b[38;5;124m).\u001b[39m\u001b[38;5;124m\"\u001b[39m\n\u001b[0;32m   (...)\u001b[0m\n\u001b[1;32m    569\u001b[0m         \u001b[38;5;241m%\u001b[39m (name, \u001b[38;5;28mtype\u001b[39m(\u001b[38;5;28mself\u001b[39m\u001b[38;5;241m.\u001b[39mcomponent(name)), \u001b[38;5;28mself\u001b[39m\u001b[38;5;241m.\u001b[39mname,\n\u001b[1;32m    570\u001b[0m            \u001b[38;5;28mtype\u001b[39m(val)))\n\u001b[1;32m    571\u001b[0m     \u001b[38;5;28mself\u001b[39m\u001b[38;5;241m.\u001b[39mdel_component(name)\n\u001b[0;32m--> 572\u001b[0m     \u001b[38;5;28;43mself\u001b[39;49m\u001b[38;5;241;43m.\u001b[39;49m\u001b[43madd_component\u001b[49m\u001b[43m(\u001b[49m\u001b[43mname\u001b[49m\u001b[43m,\u001b[49m\u001b[43m \u001b[49m\u001b[43mval\u001b[49m\u001b[43m)\u001b[49m\n\u001b[1;32m    573\u001b[0m \u001b[38;5;28;01melse\u001b[39;00m:\n\u001b[1;32m    574\u001b[0m     \u001b[38;5;66;03m#\u001b[39;00m\n\u001b[1;32m    575\u001b[0m     \u001b[38;5;66;03m# The incoming value is not a component, so we set the\u001b[39;00m\n\u001b[0;32m   (...)\u001b[0m\n\u001b[1;32m    582\u001b[0m     \u001b[38;5;66;03m# generated while setting the value.\u001b[39;00m\n\u001b[1;32m    583\u001b[0m     \u001b[38;5;66;03m#\u001b[39;00m\n\u001b[1;32m    584\u001b[0m     \u001b[38;5;28;01mtry\u001b[39;00m:\n",
      "File \u001b[0;32m~/opt/anaconda3/lib/python3.9/site-packages/pyomo/core/base/block.py:1087\u001b[0m, in \u001b[0;36m_BlockData.add_component\u001b[0;34m(self, name, val)\u001b[0m\n\u001b[1;32m   1083\u001b[0m     logger\u001b[38;5;241m.\u001b[39mdebug(\u001b[38;5;124m\"\u001b[39m\u001b[38;5;124mConstructing \u001b[39m\u001b[38;5;132;01m%s\u001b[39;00m\u001b[38;5;124m \u001b[39m\u001b[38;5;124m'\u001b[39m\u001b[38;5;132;01m%s\u001b[39;00m\u001b[38;5;124m'\u001b[39m\u001b[38;5;124m on \u001b[39m\u001b[38;5;132;01m%s\u001b[39;00m\u001b[38;5;124m from data=\u001b[39m\u001b[38;5;132;01m%s\u001b[39;00m\u001b[38;5;124m\"\u001b[39m,\n\u001b[1;32m   1084\u001b[0m                  val\u001b[38;5;241m.\u001b[39m\u001b[38;5;18m__class__\u001b[39m\u001b[38;5;241m.\u001b[39m\u001b[38;5;18m__name__\u001b[39m, name,\n\u001b[1;32m   1085\u001b[0m                  _blockName, \u001b[38;5;28mstr\u001b[39m(data))\n\u001b[1;32m   1086\u001b[0m \u001b[38;5;28;01mtry\u001b[39;00m:\n\u001b[0;32m-> 1087\u001b[0m     \u001b[43mval\u001b[49m\u001b[38;5;241;43m.\u001b[39;49m\u001b[43mconstruct\u001b[49m\u001b[43m(\u001b[49m\u001b[43mdata\u001b[49m\u001b[43m)\u001b[49m\n\u001b[1;32m   1088\u001b[0m \u001b[38;5;28;01mexcept\u001b[39;00m:\n\u001b[1;32m   1089\u001b[0m     err \u001b[38;5;241m=\u001b[39m sys\u001b[38;5;241m.\u001b[39mexc_info()[\u001b[38;5;241m1\u001b[39m]\n",
      "File \u001b[0;32m~/opt/anaconda3/lib/python3.9/site-packages/pyomo/core/base/constraint.py:748\u001b[0m, in \u001b[0;36mConstraint.construct\u001b[0;34m(self, data)\u001b[0m\n\u001b[1;32m    745\u001b[0m     \u001b[38;5;28;01melse\u001b[39;00m:\n\u001b[1;32m    746\u001b[0m         \u001b[38;5;66;03m# Bypass the index validation and create the member directly\u001b[39;00m\n\u001b[1;32m    747\u001b[0m         \u001b[38;5;28;01mfor\u001b[39;00m index \u001b[38;5;129;01min\u001b[39;00m \u001b[38;5;28mself\u001b[39m\u001b[38;5;241m.\u001b[39mindex_set():\n\u001b[0;32m--> 748\u001b[0m             \u001b[38;5;28mself\u001b[39m\u001b[38;5;241m.\u001b[39m_setitem_when_not_present(index, \u001b[43mrule\u001b[49m\u001b[43m(\u001b[49m\u001b[43mblock\u001b[49m\u001b[43m,\u001b[49m\u001b[43m \u001b[49m\u001b[43mindex\u001b[49m\u001b[43m)\u001b[49m)\n\u001b[1;32m    749\u001b[0m \u001b[38;5;28;01mexcept\u001b[39;00m \u001b[38;5;167;01mException\u001b[39;00m:\n\u001b[1;32m    750\u001b[0m     err \u001b[38;5;241m=\u001b[39m sys\u001b[38;5;241m.\u001b[39mexc_info()[\u001b[38;5;241m1\u001b[39m]\n",
      "File \u001b[0;32m~/opt/anaconda3/lib/python3.9/site-packages/pyomo/core/base/initializer.py:252\u001b[0m, in \u001b[0;36mIndexedCallInitializer.__call__\u001b[0;34m(self, parent, idx)\u001b[0m\n\u001b[1;32m    250\u001b[0m     \u001b[38;5;28;01mreturn\u001b[39;00m \u001b[38;5;28mself\u001b[39m\u001b[38;5;241m.\u001b[39m_fcn(parent, \u001b[38;5;241m*\u001b[39midx)\n\u001b[1;32m    251\u001b[0m \u001b[38;5;28;01melse\u001b[39;00m:\n\u001b[0;32m--> 252\u001b[0m     \u001b[38;5;28;01mreturn\u001b[39;00m \u001b[38;5;28;43mself\u001b[39;49m\u001b[38;5;241;43m.\u001b[39;49m\u001b[43m_fcn\u001b[49m\u001b[43m(\u001b[49m\u001b[43mparent\u001b[49m\u001b[43m,\u001b[49m\u001b[43m \u001b[49m\u001b[43midx\u001b[49m\u001b[43m)\u001b[49m\n",
      "Input \u001b[0;32mIn [202]\u001b[0m, in \u001b[0;36mfeed_cattle_W\u001b[0;34m(model, s)\u001b[0m\n\u001b[1;32m      2\u001b[0m \u001b[38;5;129m@model\u001b[39m\u001b[38;5;241m.\u001b[39mConstraint(model\u001b[38;5;241m.\u001b[39mscenarios)\n\u001b[1;32m      3\u001b[0m \u001b[38;5;28;01mdef\u001b[39;00m \u001b[38;5;21mfeed_cattle_W\u001b[39m(model, s):\n\u001b[0;32m----> 4\u001b[0m     \u001b[38;5;28;01mreturn\u001b[39;00m \u001b[43mmodel\u001b[49m\u001b[38;5;241;43m.\u001b[39;49m\u001b[43mplant\u001b[49m[\u001b[38;5;124m'\u001b[39m\u001b[38;5;124mW\u001b[39m\u001b[38;5;124m'\u001b[39m] \u001b[38;5;241m*\u001b[39m \u001b[38;5;241m2.5\u001b[39m \u001b[38;5;241m*\u001b[39m model\u001b[38;5;241m.\u001b[39mfactor_H \u001b[38;5;241m-\u001b[39m model\u001b[38;5;241m.\u001b[39msell_H[\u001b[38;5;124m'\u001b[39m\u001b[38;5;124mW\u001b[39m\u001b[38;5;124m'\u001b[39m, s] \u001b[38;5;241m+\u001b[39m model\u001b[38;5;241m.\u001b[39mbuy_H[\u001b[38;5;124m'\u001b[39m\u001b[38;5;124mW\u001b[39m\u001b[38;5;124m'\u001b[39m, s] \u001b[38;5;241m>\u001b[39m\u001b[38;5;241m=\u001b[39m \u001b[38;5;241m200\u001b[39m\n",
      "File \u001b[0;32m~/opt/anaconda3/lib/python3.9/site-packages/pyomo/core/base/block.py:522\u001b[0m, in \u001b[0;36m_BlockData.__getattr__\u001b[0;34m(self, val)\u001b[0m\n\u001b[1;32m    518\u001b[0m     \u001b[38;5;28;01mreturn\u001b[39;00m _component_decorator(\n\u001b[1;32m    519\u001b[0m         \u001b[38;5;28mself\u001b[39m, ModelComponentFactory\u001b[38;5;241m.\u001b[39mget_class(val))\n\u001b[1;32m    520\u001b[0m \u001b[38;5;66;03m# Since the base classes don't support getattr, we can just\u001b[39;00m\n\u001b[1;32m    521\u001b[0m \u001b[38;5;66;03m# throw the \"normal\" AttributeError\u001b[39;00m\n\u001b[0;32m--> 522\u001b[0m \u001b[38;5;28;01mraise\u001b[39;00m \u001b[38;5;167;01mAttributeError\u001b[39;00m(\u001b[38;5;124m\"\u001b[39m\u001b[38;5;124m'\u001b[39m\u001b[38;5;132;01m%s\u001b[39;00m\u001b[38;5;124m'\u001b[39m\u001b[38;5;124m object has no attribute \u001b[39m\u001b[38;5;124m'\u001b[39m\u001b[38;5;132;01m%s\u001b[39;00m\u001b[38;5;124m'\u001b[39m\u001b[38;5;124m\"\u001b[39m\n\u001b[1;32m    523\u001b[0m                      \u001b[38;5;241m%\u001b[39m (\u001b[38;5;28mself\u001b[39m\u001b[38;5;241m.\u001b[39m\u001b[38;5;18m__class__\u001b[39m\u001b[38;5;241m.\u001b[39m\u001b[38;5;18m__name__\u001b[39m, val))\n",
      "\u001b[0;31mAttributeError\u001b[0m: 'ConcreteModel' object has no attribute 'plant'"
     ]
    }
   ],
   "source": [
    "# second stage constraints\n",
    "@model.Constraint(model.scenarios)\n",
    "def feed_cattle_W(model, s):\n",
    "    return model.plant['W'] * 2.5 * model.factor_H - model.sell_H['W', s] + model.buy_H['W', s] >= 200\n",
    "\n",
    "model.feed_cattle_C_H = pyo.Constraint(expr=model.plant['C'] * 3 * model.factor_H - model.sell_H['C'] + model.buy_H['C'] >= 240)\n",
    "model.sell_S_extra_H = pyo.Constraint(expr=model.plant['S'] * 20 * model.factor_H >= model.sell_H['S'] + model.sell_extra_H)\n",
    "model.sell_S_H = pyo.Constraint(expr=model.sell_H['S'] <= 6000)\n",
    "model.nobuy_H = pyo.Constraint(expr=model.buy_H['S'] == 0)\n",
    "\n",
    "model.feed_cattle_W_M = pyo.Constraint(expr=model.plant['W'] * 2.5 - model.sell_M['W'] + model.buy_M['W'] >= 200)\n",
    "model.feed_cattle_C_M = pyo.Constraint(expr=model.plant['C'] * 3 - model.sell_M['C'] + model.buy_M['C'] >= 240)\n",
    "model.sell_S_extra_M = pyo.Constraint(expr=model.plant['S'] * 20 >= model.sell_M['S'] + model.sell_extra_M)\n",
    "model.sell_S_M = pyo.Constraint(expr=model.sell_M['S'] <= 6000)\n",
    "model.nobuy_M = pyo.Constraint(expr=model.buy_M['S'] == 0)\n",
    "\n",
    "model.feed_cattle_W_L = pyo.Constraint(expr=model.plant['W'] * 2.5 * model.factor_L - model.sell_L['W'] + model.buy_L['W'] >= 200)\n",
    "model.feed_cattle_C_L = pyo.Constraint(expr=model.plant['C'] * 3 * model.factor_L - model.sell_L['C'] + model.buy_L['C'] >= 240)\n",
    "model.sell_S_extra_L = pyo.Constraint(expr=model.plant['S'] * 20 * model.factor_L >= model.sell_L['S'] + model.sell_extra_L)\n",
    "model.sell_S_L = pyo.Constraint(expr=model.sell_L['S'] <= 6000)\n",
    "model.nobuy_L = pyo.Constraint(expr=model.buy_L['S'] == 0)\n",
    "\n",
    "def first_stage_profit(model):\n",
    "    return -model.plant[\"W\"] * 150 - model.plant[\"C\"] * 230 - model.plant[\"S\"] * 260\n",
    "\n",
    "model.first_stage_profit = pyo.Expression(rule=first_stage_profit)\n",
    "\n",
    "def second_stage_profit(model):\n",
    "    total_H = -model.buy_H['W'] * 238 - model.buy_H['C'] * 210 + 36 * model.sell_H['S'] + 10 * model.sell_extra_H + model.sell_H['W'] * 170 + model.sell_H['C'] * 150\n",
    "    total_M = -model.buy_M['W'] * 238 - model.buy_M['C'] * 210 + 36 * model.sell_M['S'] + 10 * model.sell_extra_M + model.sell_M['W'] * 170 + model.sell_M['C'] * 150\n",
    "    total_L = -model.buy_L['W'] * 238 - model.buy_L['C'] * 210 + 36 * model.sell_L['S'] + 10 * model.sell_extra_L + model.sell_L['W'] * 170 + model.sell_L['C'] * 150\n",
    "    return (total_H + total_M + total_L)/3.0\n",
    "\n",
    "model.second_stage_profit = pyo.Expression(rule=second_stage_profit)\n",
    "\n",
    "def total_profit(model):\n",
    "    return model.first_stage_profit + model.second_stage_profit\n",
    "\n",
    "model.total_expected_profit = pyo.Objective(rule=total_profit, sense=pyo.maximize)\n",
    "\n",
    "result = cbc_solver.solve(model)\n",
    "display(Markdown(f\"**Solver status:** *{result.solver.status}, {result.solver.termination_condition}*\"))\n",
    "display(Markdown(f\"**Solution:**\"))\n",
    "display(Markdown(f\"(land allocation) $x_1 = {model.plant['W'].value:.1f}$, $x_2 = {model.plant['C'].value:.1f}$, $x_3 = {model.plant['S'].value:.1f}$\"))\n",
    "display(Markdown(f\"(recourse sell action high yield) $w_1 = {model.sell_H['W'].value:.1f}$, $w_2 = {model.sell_H['C'].value:.1f}$, $w_3 = {model.sell_H['S'].value:.1f}$, $w_4 = {model.sell_extra_H.value:.1f}$\"))\n",
    "display(Markdown(f\"(recourse purchase action high yield) $y_1 = {model.buy_H['W'].value:.1f}$, $y_2 = {model.buy_H['C'].value:.1f}$, $y_3 = {model.buy_H['S'].value:.1f}$\"))\n",
    "display(Markdown(f\"(recourse sell action medium yield) $w_1 = {model.sell_M['W'].value:.1f}$, $w_2 = {model.sell_M['C'].value:.1f}$, $w_3 = {model.sell_M['S'].value:.1f}$, $w_4 = {model.sell_extra_M.value:.1f}$\"))\n",
    "display(Markdown(f\"(recourse purchase action medium yield) $y_1 = {model.buy_M['W'].value:.1f}$, $y_2 = {model.buy_M['C'].value:.1f}$, $y_3 = {model.buy_M['S'].value:.1f}$\"))\n",
    "display(Markdown(f\"(recourse sell action low yield) $w_1 = {model.sell_L['W'].value:.1f}$, $w_2 = {model.sell_L['C'].value:.1f}$, $w_3 = {model.sell_L['S'].value:.1f}$, $w_4 = {model.sell_extra_L.value:.1f}$\"))\n",
    "display(Markdown(f\"(recourse purchase action low yield) $y_1 = {model.buy_L['W'].value:.1f}$, $y_2 = {model.buy_L['C'].value:.1f}$, $y_3 = {model.buy_L['S'].value:.1f}$\"))\n",
    "display(Markdown(f\"**Maximizes objective value to:** ${model.total_expected_profit():.0f}$€\"))"
   ]
  },
  {
   "cell_type": "code",
   "execution_count": 9,
   "id": "4fdff730",
   "metadata": {
    "ExecuteTime": {
     "end_time": "2022-09-30T21:49:22.516232Z",
     "start_time": "2022-09-30T21:49:22.430418Z"
    }
   },
   "outputs": [
    {
     "data": {
      "text/markdown": [
       "**Solver status:** *ok, optimal*"
      ],
      "text/plain": [
       "<IPython.core.display.Markdown object>"
      ]
     },
     "metadata": {},
     "output_type": "display_data"
    },
    {
     "data": {
      "text/markdown": [
       "**Solution:**"
      ],
      "text/plain": [
       "<IPython.core.display.Markdown object>"
      ]
     },
     "metadata": {},
     "output_type": "display_data"
    },
    {
     "data": {
      "text/markdown": [
       "(land allocation) $x_1 = 170.0$, $x_2 = 80.0$, $x_3 = 250.0$"
      ],
      "text/plain": [
       "<IPython.core.display.Markdown object>"
      ]
     },
     "metadata": {},
     "output_type": "display_data"
    },
    {
     "data": {
      "text/markdown": [
       "(recourse sell action high yield) $w_1 = 310.0$, $w_2 = 48.0$, $w_3 = 6000.0$, $w_4 = 0.0$"
      ],
      "text/plain": [
       "<IPython.core.display.Markdown object>"
      ]
     },
     "metadata": {},
     "output_type": "display_data"
    },
    {
     "data": {
      "text/markdown": [
       "(recourse purchase action high yield) $y_1 = 0.0$, $y_2 = 0.0$, $y_3 = 0.0$"
      ],
      "text/plain": [
       "<IPython.core.display.Markdown object>"
      ]
     },
     "metadata": {},
     "output_type": "display_data"
    },
    {
     "data": {
      "text/markdown": [
       "(recourse sell action medium yield) $w_1 = 225.0$, $w_2 = 0.0$, $w_3 = 5000.0$, $w_4 = 0.0$"
      ],
      "text/plain": [
       "<IPython.core.display.Markdown object>"
      ]
     },
     "metadata": {},
     "output_type": "display_data"
    },
    {
     "data": {
      "text/markdown": [
       "(recourse purchase action medium yield) $y_1 = 0.0$, $y_2 = 0.0$, $y_3 = 0.0$"
      ],
      "text/plain": [
       "<IPython.core.display.Markdown object>"
      ]
     },
     "metadata": {},
     "output_type": "display_data"
    },
    {
     "data": {
      "text/markdown": [
       "(recourse sell action low yield) $w_1 = 140.0$, $w_2 = 0.0$, $w_3 = 4000.0$, $w_4 = 0.0$"
      ],
      "text/plain": [
       "<IPython.core.display.Markdown object>"
      ]
     },
     "metadata": {},
     "output_type": "display_data"
    },
    {
     "data": {
      "text/markdown": [
       "(recourse purchase action low yield) $y_1 = 0.0$, $y_2 = 48.0$, $y_3 = 0.0$"
      ],
      "text/plain": [
       "<IPython.core.display.Markdown object>"
      ]
     },
     "metadata": {},
     "output_type": "display_data"
    },
    {
     "data": {
      "text/markdown": [
       "**Maximizes objective value to:** $108390$€"
      ],
      "text/plain": [
       "<IPython.core.display.Markdown object>"
      ]
     },
     "metadata": {},
     "output_type": "display_data"
    }
   ],
   "source": [
    "model = pyo.ConcreteModel()\n",
    "\n",
    "model.crops = pyo.Set(initialize=['W', 'C', 'S'])\n",
    "model.totalacres = 500\n",
    "model.factor_H = 1.2 # to obtain the yields in the good weather (high yield) case by multiplying the average ones\n",
    "model.factor_L = 0.8 # to obtain the yields in the bad weather (low yield) case by multiplying the average ones\n",
    "\n",
    "# first stage variables\n",
    "model.plant = pyo.Var(model.crops, domain=pyo.NonNegativeReals) \n",
    "\n",
    "# first stage constraint\n",
    "@model.Constraint()\n",
    "def total_acres(model):\n",
    "    return pyo.summation(model.plant) <= model.totalacres\n",
    "\n",
    "model.scenarios = pyo.Set(initialize=['H', 'M', 'L'])  # high, medium, and low yield scenarios\n",
    "\n",
    "# second stage variables (labelled as H, M, L depending on the scenario)\n",
    "# the sell_extra variables refer to the amount of beets to be sold beyond the 6000 threshold, if any\n",
    "\n",
    "model.sell_H = pyo.Var(model.crops, domain=pyo.NonNegativeReals)\n",
    "model.buy_H = pyo.Var(model.crops, domain=pyo.NonNegativeReals)\n",
    "model.sell_extra_H = pyo.Var(domain=pyo.NonNegativeReals) \n",
    "\n",
    "model.sell_M = pyo.Var(model.crops, domain=pyo.NonNegativeReals)\n",
    "model.buy_M = pyo.Var(model.crops, domain=pyo.NonNegativeReals)\n",
    "model.sell_extra_M = pyo.Var(domain=pyo.NonNegativeReals)\n",
    "\n",
    "model.sell_L = pyo.Var(model.crops, domain=pyo.NonNegativeReals)\n",
    "model.buy_L = pyo.Var(model.crops, domain=pyo.NonNegativeReals)\n",
    "model.sell_extra_L = pyo.Var(domain=pyo.NonNegativeReals)\n",
    "\n",
    "# second stage constraints\n",
    "model.feed_cattle_W_H = pyo.Constraint(expr=model.plant['W'] * 2.5 * model.factor_H - model.sell_H['W'] + model.buy_H['W'] >= 200)\n",
    "model.feed_cattle_C_H = pyo.Constraint(expr=model.plant['C'] * 3 * model.factor_H - model.sell_H['C'] + model.buy_H['C'] >= 240)\n",
    "model.sell_S_extra_H = pyo.Constraint(expr=model.plant['S'] * 20 * model.factor_H >= model.sell_H['S'] + model.sell_extra_H)\n",
    "model.sell_S_H = pyo.Constraint(expr=model.sell_H['S'] <= 6000)\n",
    "model.nobuy_H = pyo.Constraint(expr=model.buy_H['S'] == 0)\n",
    "\n",
    "model.feed_cattle_W_M = pyo.Constraint(expr=model.plant['W'] * 2.5 - model.sell_M['W'] + model.buy_M['W'] >= 200)\n",
    "model.feed_cattle_C_M = pyo.Constraint(expr=model.plant['C'] * 3 - model.sell_M['C'] + model.buy_M['C'] >= 240)\n",
    "model.sell_S_extra_M = pyo.Constraint(expr=model.plant['S'] * 20 >= model.sell_M['S'] + model.sell_extra_M)\n",
    "model.sell_S_M = pyo.Constraint(expr=model.sell_M['S'] <= 6000)\n",
    "model.nobuy_M = pyo.Constraint(expr=model.buy_M['S'] == 0)\n",
    "\n",
    "model.feed_cattle_W_L = pyo.Constraint(expr=model.plant['W'] * 2.5 * model.factor_L - model.sell_L['W'] + model.buy_L['W'] >= 200)\n",
    "model.feed_cattle_C_L = pyo.Constraint(expr=model.plant['C'] * 3 * model.factor_L - model.sell_L['C'] + model.buy_L['C'] >= 240)\n",
    "model.sell_S_extra_L = pyo.Constraint(expr=model.plant['S'] * 20 * model.factor_L >= model.sell_L['S'] + model.sell_extra_L)\n",
    "model.sell_S_L = pyo.Constraint(expr=model.sell_L['S'] <= 6000)\n",
    "model.nobuy_L = pyo.Constraint(expr=model.buy_L['S'] == 0)\n",
    "\n",
    "def first_stage_profit(model):\n",
    "    return -model.plant[\"W\"] * 150 - model.plant[\"C\"] * 230 - model.plant[\"S\"] * 260\n",
    "\n",
    "model.first_stage_profit = pyo.Expression(rule=first_stage_profit)\n",
    "\n",
    "def second_stage_profit(model):\n",
    "    total_H = -model.buy_H['W'] * 238 - model.buy_H['C'] * 210 + 36 * model.sell_H['S'] + 10 * model.sell_extra_H + model.sell_H['W'] * 170 + model.sell_H['C'] * 150\n",
    "    total_M = -model.buy_M['W'] * 238 - model.buy_M['C'] * 210 + 36 * model.sell_M['S'] + 10 * model.sell_extra_M + model.sell_M['W'] * 170 + model.sell_M['C'] * 150\n",
    "    total_L = -model.buy_L['W'] * 238 - model.buy_L['C'] * 210 + 36 * model.sell_L['S'] + 10 * model.sell_extra_L + model.sell_L['W'] * 170 + model.sell_L['C'] * 150\n",
    "    return (total_H + total_M + total_L)/3.0\n",
    "\n",
    "model.second_stage_profit = pyo.Expression(rule=second_stage_profit)\n",
    "\n",
    "def total_profit(model):\n",
    "    return model.first_stage_profit + model.second_stage_profit\n",
    "\n",
    "model.total_expected_profit = pyo.Objective(rule=total_profit, sense=pyo.maximize)\n",
    "\n",
    "result = cbc_solver.solve(model)\n",
    "display(Markdown(f\"**Solver status:** *{result.solver.status}, {result.solver.termination_condition}*\"))\n",
    "display(Markdown(f\"**Solution:**\"))\n",
    "display(Markdown(f\"(land allocation) $x_1 = {model.plant['W'].value:.1f}$, $x_2 = {model.plant['C'].value:.1f}$, $x_3 = {model.plant['S'].value:.1f}$\"))\n",
    "display(Markdown(f\"(recourse sell action high yield) $w_1 = {model.sell_H['W'].value:.1f}$, $w_2 = {model.sell_H['C'].value:.1f}$, $w_3 = {model.sell_H['S'].value:.1f}$, $w_4 = {model.sell_extra_H.value:.1f}$\"))\n",
    "display(Markdown(f\"(recourse purchase action high yield) $y_1 = {model.buy_H['W'].value:.1f}$, $y_2 = {model.buy_H['C'].value:.1f}$, $y_3 = {model.buy_H['S'].value:.1f}$\"))\n",
    "display(Markdown(f\"(recourse sell action medium yield) $w_1 = {model.sell_M['W'].value:.1f}$, $w_2 = {model.sell_M['C'].value:.1f}$, $w_3 = {model.sell_M['S'].value:.1f}$, $w_4 = {model.sell_extra_M.value:.1f}$\"))\n",
    "display(Markdown(f\"(recourse purchase action medium yield) $y_1 = {model.buy_M['W'].value:.1f}$, $y_2 = {model.buy_M['C'].value:.1f}$, $y_3 = {model.buy_M['S'].value:.1f}$\"))\n",
    "display(Markdown(f\"(recourse sell action low yield) $w_1 = {model.sell_L['W'].value:.1f}$, $w_2 = {model.sell_L['C'].value:.1f}$, $w_3 = {model.sell_L['S'].value:.1f}$, $w_4 = {model.sell_extra_L.value:.1f}$\"))\n",
    "display(Markdown(f\"(recourse purchase action low yield) $y_1 = {model.buy_L['W'].value:.1f}$, $y_2 = {model.buy_L['C'].value:.1f}$, $y_3 = {model.buy_L['S'].value:.1f}$\"))\n",
    "display(Markdown(f\"**Maximizes objective value to:** ${model.total_expected_profit():.0f}$€\"))"
   ]
  },
  {
   "cell_type": "markdown",
   "id": "186b7cfe",
   "metadata": {
    "ExecuteTime": {
     "end_time": "2022-09-30T21:49:22.516232Z",
     "start_time": "2022-09-30T21:49:22.430418Z"
    }
   },
   "source": [
    "Please note a second way to create this model which makes use of `pyomo` `blocks`. For an explanation of `blocks` refer to chapter 8 of the `pyomo` book that you may [download](https://vu.on.worldcat.org/oclc/988749903) from the VU library.\n",
    "\n",
    "We leave as an exercise to redo the rest of the questions using `blocks` and see how that may help.\n",
    "\n",
    "Note that for b) you will need to provide prices as parameters to the blocks. \n",
    "Note as well that is the resolution below already had done that, instead of typing the prices as numerical constants, then the changes would have been immediate. "
   ]
  },
  {
   "cell_type": "code",
   "execution_count": 8,
   "id": "1b4b65b8",
   "metadata": {
    "ExecuteTime": {
     "end_time": "2022-09-30T21:49:22.516232Z",
     "start_time": "2022-09-30T21:49:22.430418Z"
    }
   },
   "outputs": [
    {
     "data": {
      "text/markdown": [
       "**Solver status:** *ok, optimal*"
      ],
      "text/plain": [
       "<IPython.core.display.Markdown object>"
      ]
     },
     "metadata": {},
     "output_type": "display_data"
    },
    {
     "data": {
      "text/markdown": [
       "**Solution:**"
      ],
      "text/plain": [
       "<IPython.core.display.Markdown object>"
      ]
     },
     "metadata": {},
     "output_type": "display_data"
    },
    {
     "data": {
      "text/markdown": [
       "(land allocation) $x_1 = 170.0$, $x_2 = 80.0$, $x_3 = 250.0$"
      ],
      "text/plain": [
       "<IPython.core.display.Markdown object>"
      ]
     },
     "metadata": {},
     "output_type": "display_data"
    },
    {
     "data": {
      "text/markdown": [
       "(recourse sell action high yield) $w_1 = 310.0$, $w_2 = 48.0$, $w_3 = 6000.0$, $w_4 = 0.0$"
      ],
      "text/plain": [
       "<IPython.core.display.Markdown object>"
      ]
     },
     "metadata": {},
     "output_type": "display_data"
    },
    {
     "data": {
      "text/markdown": [
       "(recourse purchase action high yield) $y_1 = 0.0$, $y_2 = 0.0$, $y_3 = 0.0$"
      ],
      "text/plain": [
       "<IPython.core.display.Markdown object>"
      ]
     },
     "metadata": {},
     "output_type": "display_data"
    },
    {
     "data": {
      "text/markdown": [
       "(recourse sell action medium yield) $w_1 = 225.0$, $w_2 = 0.0$, $w_3 = 5000.0$, $w_4 = 0.0$"
      ],
      "text/plain": [
       "<IPython.core.display.Markdown object>"
      ]
     },
     "metadata": {},
     "output_type": "display_data"
    },
    {
     "data": {
      "text/markdown": [
       "(recourse purchase action medium yield) $y_1 = 0.0$, $y_2 = 0.0$, $y_3 = 0.0$"
      ],
      "text/plain": [
       "<IPython.core.display.Markdown object>"
      ]
     },
     "metadata": {},
     "output_type": "display_data"
    },
    {
     "data": {
      "text/markdown": [
       "(recourse sell action low yield) $w_1 = 140.0$, $w_2 = 0.0$, $w_3 = 4000.0$, $w_4 = 0.0$"
      ],
      "text/plain": [
       "<IPython.core.display.Markdown object>"
      ]
     },
     "metadata": {},
     "output_type": "display_data"
    },
    {
     "data": {
      "text/markdown": [
       "(recourse purchase action low yield) $y_1 = 0.0$, $y_2 = 48.0$, $y_3 = 0.0$"
      ],
      "text/plain": [
       "<IPython.core.display.Markdown object>"
      ]
     },
     "metadata": {},
     "output_type": "display_data"
    },
    {
     "data": {
      "text/markdown": [
       "**Maximizes objective value to:** $108390$€"
      ],
      "text/plain": [
       "<IPython.core.display.Markdown object>"
      ]
     },
     "metadata": {},
     "output_type": "display_data"
    }
   ],
   "source": [
    "m = pyo.ConcreteModel()\n",
    "\n",
    "m.crops = pyo.Set(initialize=['W', 'C', 'S'])\n",
    "m.totalacres = 500\n",
    "\n",
    "# first stage variables\n",
    "m.plant = pyo.Var(m.crops, within=pyo.NonNegativeReals) \n",
    "\n",
    "# first stage constraint\n",
    "m.total_acres = pyo.Constraint(expr=pyo.summation(m.plant) <= m.totalacres)\n",
    "\n",
    "m.scenarios = pyo.Set(initialize=['H', 'M', 'L'])  # high, medium, and low yield scenarios\n",
    "\n",
    "# this could be a dataframe, or any other data source\n",
    "nominal_yields = { 'W' : 2.5, 'C' :   3, 'S' : 20 }\n",
    "factor_yields  = { 'M' : 1, 'H' : 1.2, 'L' : 0.8 }\n",
    "m.yields = { s : { c : nominal_yields[c]*factor_yields[s] for c in m.crops } for s in m.scenarios }\n",
    "\n",
    "def scenario_block(b, s):\n",
    "  b.yields     = pyo.Param(m.crops,initialize=m.yields[s])\n",
    "  b.sell       = pyo.Var(m.crops, within=pyo.NonNegativeReals)\n",
    "  b.buy        = pyo.Var(m.crops, within=pyo.NonNegativeReals)\n",
    "  b.sell_extra = pyo.Var(within=pyo.NonNegativeReals) \n",
    "  b.sell_S     = pyo.Constraint(expr=b.sell['S'] <= 6000)\n",
    "  b.nobuy      = pyo.Constraint(expr=b.buy['S'] == 0)\n",
    "  b.profit     = pyo.Expression(expr= -238*b.buy['W'] -210*b.buy['C'] +36*b.sell['S'] + 10*b.sell_extra + 170*b.sell['W'] + 150*b.sell['C'])\n",
    "\n",
    "m.scenario = pyo.Block( m.scenarios, rule=scenario_block)\n",
    "\n",
    "\n",
    "# second stage (linking) constraints\n",
    "m.feed_cattle_W = pyo.Constraint(m.scenarios, rule = lambda m, s : m.plant['W'] * m.scenario[s].yields['W'] - m.scenario[s].sell['W'] + m.scenario[s].buy['W'] >= 200)\n",
    "m.feed_cattle_C = pyo.Constraint(m.scenarios, rule = lambda m, s : m.plant['C'] * m.scenario[s].yields['C'] - m.scenario[s].sell['C'] + m.scenario[s].buy['C'] >= 240)\n",
    "m.sell_S_extra  = pyo.Constraint(m.scenarios, rule = lambda m, s : m.plant['S'] * m.scenario[s].yields['S'] >= m.scenario[s].sell['S'] + m.scenario[s].sell_extra )\n",
    "\n",
    "m.first_stage_profit = pyo.Expression( expr = -150*m.plant[\"W\"] -230*m.plant[\"C\"] -260*m.plant[\"S\"] )\n",
    "m.total_expected_profit = pyo.Objective( rule = lambda m : m.first_stage_profit + sum(m.scenario[s].profit for s in m.scenarios)/3, sense=pyo.maximize )\n",
    "\n",
    "result = cbc_solver.solve(m)\n",
    "display(Markdown(f\"**Solver status:** *{result.solver.status}, {result.solver.termination_condition}*\"))\n",
    "display(Markdown(f\"**Solution:**\"))\n",
    "display(Markdown(f\"(land allocation) $x_1 = {m.plant['W'].value:.1f}$, $x_2 = {m.plant['C'].value:.1f}$, $x_3 = {m.plant['S'].value:.1f}$\"))\n",
    "spellout = { 'H' : 'high', 'M' : 'medium', 'L' : 'low' }\n",
    "for s in m.scenarios:\n",
    "  display(Markdown(f\"(recourse sell action {spellout[s]} yield) $w_1 = {m.scenario[s].sell['W'].value:.1f}$, $w_2 = {m.scenario[s].sell['C'].value:.1f}$, $w_3 = {m.scenario[s].sell['S'].value:.1f}$, $w_4 = {m.scenario[s].sell_extra.value:.1f}$\"))\n",
    "  display(Markdown(f\"(recourse purchase action {spellout[s]} yield) $y_1 = {m.scenario[s].buy['W'].value:.1f}$, $y_2 = {m.scenario[s].buy['C'].value:.1f}$, $y_3 = {m.scenario[s].buy['S'].value:.1f}$\"))\n",
    "display(Markdown(f\"**Maximizes objective value to:** ${m.total_expected_profit.expr():.0f}$€\"))"
   ]
  },
  {
   "cell_type": "markdown",
   "id": "09132ebd",
   "metadata": {
    "ExecuteTime": {
     "end_time": "2022-09-30T21:49:22.516232Z",
     "start_time": "2022-09-30T21:49:22.430418Z"
    }
   },
   "source": [
    "If the weather is good and yields are high for the farmer, they are probably so also for many other farmers. The total supply is thus increasing, which will lower the prices. Assume the prices going down by 10% for corn and wheat when the weather is good and going up by 10% when the weather is bad. These changes in prices affect both sales and purchases of corn and wheat, but sugar beet prices are not affected by yields. The following table summarizes the scenario-dependent prices:\n",
    "\n",
    "| Scenario | Selling price for weath | Selling price for corn | Purchasing price for weath | Purchasing price for corn | \n",
    "| :-: | :-: | :-: | :-: | :-: |\n",
    "| Good weather | 153| 135| 214| 189|\n",
    "| Average weather | 170 | 150 | 238 | 210 |\n",
    "| Bad weather |187| 165| 262| 231|\n",
    "\n",
    "(b) Implement the extensive form of stochastic LP corresponding to the farmer's problem in Pyomo that accounts also for the price changes and solve it.\n",
    "\n"
   ]
  },
  {
   "cell_type": "code",
   "execution_count": 213,
   "id": "86ca7510-af8f-429b-b7fc-6ca1dac10582",
   "metadata": {},
   "outputs": [],
   "source": [
    "# scenario dependent parameters\n",
    "prices = {\n",
    "    \"W\": {\"H\": 0.9, \"M\": 1.0, \"L\": 1.1},\n",
    "    \"C\": {\"H\": 0.9, \"M\": 1.0, \"L\": 1.1},\n",
    "    \"B\": {\"H\": 1.0, \"M\": 1.0, \"L\": 1.0},\n",
    "    \"B extra\": {\"H\": 1.0, \"M\": 1.0, \"L\": 1.0},\n",
    "}"
   ]
  },
  {
   "cell_type": "code",
   "execution_count": 217,
   "id": "3b90ae31-59b2-45f1-be72-5b67bdb8350b",
   "metadata": {},
   "outputs": [
    {
     "name": "stdout",
     "output_type": "stream",
     "text": [
      "\n",
      "First Stage Profit: -108900.00 euros\n",
      "\tCrop       Planted\n",
      "\t           (acres)\n",
      "\tW            170.0\n",
      "\tC             80.0\n",
      "\tB            250.0\n",
      "\tB extra        0.0\n",
      "\n",
      "Second Stage / Recourse Solutions\n",
      "\n",
      "Scenario H Profit: 269910.00 euros\n",
      "\tCrop      Produced       Buy      Feed      Sell\n",
      "\t            (tons)     (tons)    (tons)   (tons)\n",
      "\tW            510.0       0.0     200.0     310.0\n",
      "\tC            288.0       0.0     240.0      48.0\n",
      "\tB           6000.0       0.0       0.0    6000.0\n",
      "\tB extra        0.0       0.0       0.0       0.0\n",
      "\n",
      "Scenario M Profit: 218250.00 euros\n",
      "\tCrop      Produced       Buy      Feed      Sell\n",
      "\t            (tons)     (tons)    (tons)   (tons)\n",
      "\tW            425.0       0.0     200.0     225.0\n",
      "\tC            240.0       0.0     240.0       0.0\n",
      "\tB           5000.0       0.0       0.0    5000.0\n",
      "\tB extra        0.0       0.0       0.0       0.0\n",
      "\n",
      "Scenario L Profit: 159092.00 euros\n",
      "\tCrop      Produced       Buy      Feed      Sell\n",
      "\t            (tons)     (tons)    (tons)   (tons)\n",
      "\tW            340.0       0.0     200.0     140.0\n",
      "\tC            192.0      48.0     240.0       0.0\n",
      "\tB           4000.0       0.0       0.0    4000.0\n",
      "\tB extra        0.0       0.0       0.0       0.0\n",
      "\n",
      "Expected profit = 106850.67 euros\n"
     ]
    }
   ],
   "source": [
    "m = pyo.ConcreteModel()\n",
    "\n",
    "# mutable parameter\n",
    "m.total_acres = pyo.Param(initialize=500, mutable=True)\n",
    "\n",
    "# sets\n",
    "m.crops = pyo.Set(initialize=planting_cost.keys())\n",
    "m.scenarios = pyo.Set(initialize=yield_factor.keys())\n",
    "\n",
    "# constant parameter values\n",
    "m.planting_cost = pyo.Param(m.crops, initialize=planting_cost)\n",
    "m.crop_yield = pyo.Param(m.crops, initialize=crop_yield)\n",
    "m.sell_price = pyo.Param(m.crops, initialize=sell_price)\n",
    "m.buy_price = pyo.Param(m.crops, initialize=buy_price)\n",
    "m.demand = pyo.Param(m.crops, initialize=demand)\n",
    "m.cattle_feed = pyo.Param(m.crops, initialize=cattle_feed)\n",
    "\n",
    "# scenario dependent parameter values\n",
    "m.yield_factor = pyo.Param(m.scenarios, initialize=yield_factor)\n",
    "@m.Param(m.crops, m.scenarios)\n",
    "def price_factor(m, c, s):\n",
    "    return prices[c][s]\n",
    "\n",
    "# first stage variables\n",
    "\n",
    "m.plant = pyo.Var(m.crops, domain=pyo.NonNegativeReals)\n",
    "\n",
    "# first stage constraint\n",
    "@m.Constraint()\n",
    "def acres(m):\n",
    "    return sum(m.plant[c] for c in m.crops) <= m.total_acres\n",
    "\n",
    "# first stage profit\n",
    "@m.Expression()\n",
    "def first_stage_profit(m, c):\n",
    "    return -sum(m.plant[c] * m.planting_cost[c] for c in m.crops)\n",
    "\n",
    "# second stage variables\n",
    "m.produced = pyo.Var(m.crops, m.scenarios, domain=pyo.NonNegativeReals)\n",
    "m.buy = pyo.Var(m.crops, m.scenarios, domain=pyo.NonNegativeReals)\n",
    "m.sell = pyo.Var(m.crops, m.scenarios, domain=pyo.NonNegativeReals)\n",
    "\n",
    "# second stage constraints\n",
    "@m.Constraint(m.crops, m.scenarios)\n",
    "def crops_produced(m, c, s):\n",
    "    return m.produced[c, s] == m.plant[c] * m.crop_yield[c] * m.yield_factor[s]\n",
    "\n",
    "@m.Constraint(m.crops, m.scenarios)\n",
    "def demand_limit(m, c, s):\n",
    "    return m.sell[c, s] <= m.demand[c]\n",
    "\n",
    "@m.Constraint(m.crops, m.scenarios)\n",
    "def balance(m, c, s):\n",
    "    return m.produced[c, s] + m.buy[c, s] == m.cattle_feed[c] + m.sell[c, s]\n",
    "\n",
    "# second stage profit\n",
    "@m.Expression(m.scenarios)\n",
    "def second_stage_profit(m, s):\n",
    "    revenue = sum(m.sell[c, s] * m.sell_price[c] * m.price_factor[c, s] for c in m.crops) \n",
    "    expense = sum(m.buy[c, s] * m.buy_price[c] * m.price_factor[c, s] for c in m.crops)\n",
    "    return revenue - expense\n",
    "\n",
    "# Objective\n",
    "@m.Objective(sense=pyo.maximize)\n",
    "def total_profit(m):\n",
    "    return m.first_stage_profit + sum(m.second_stage_profit[s] for s in m.scenarios) / len(m.scenarios)\n",
    "\n",
    "pyo.SolverFactory('cbc').solve(m)\n",
    "    \n",
    "print(f\"\\nFirst Stage Profit: {m.first_stage_profit.expr():0.2f} euros\")\n",
    "print(\"\\tCrop       Planted\")\n",
    "print(\"\\t           (acres)\")\n",
    "for c in m.crops:\n",
    "    print(f\"\\t{c:8s}   {m.plant[c].value:7.1f}\")\n",
    "    \n",
    "print(f\"\\nSecond Stage / Recourse Solutions\")\n",
    "for s in m.scenarios:\n",
    "    print(f\"\\nScenario {s} Profit: {m.second_stage_profit[s].expr():0.2f} euros\")\n",
    "    print(\"\\tCrop      Produced       Buy      Feed      Sell\")\n",
    "    print(\"\\t            (tons)     (tons)    (tons)   (tons)\")\n",
    "    for c in m.crops:\n",
    "        sout = f\"\\t{c:8s}\"\n",
    "        sout += f\"   {m.produced[c, s].value:7.1f}\"\n",
    "        sout += f\"   {m.buy[c, s].value:7.1f}\"\n",
    "        sout += f\"   {cattle_feed[c]:7.1f}\"\n",
    "        sout += f\"   {m.sell[c, s].value:7.1f}\"\n",
    "        print(sout)\n",
    "\n",
    "print(f\"\\nExpected profit = {m.total_profit():0.2f} euros\")"
   ]
  },
  {
   "cell_type": "code",
   "execution_count": 5,
   "id": "4df373e1",
   "metadata": {
    "ExecuteTime": {
     "end_time": "2022-09-30T21:49:22.615096Z",
     "start_time": "2022-09-30T21:49:22.525989Z"
    }
   },
   "outputs": [
    {
     "data": {
      "text/markdown": [
       "**Solver status:** *ok, optimal*"
      ],
      "text/plain": [
       "<IPython.core.display.Markdown object>"
      ]
     },
     "metadata": {},
     "output_type": "display_data"
    },
    {
     "data": {
      "text/markdown": [
       "**Solution:**"
      ],
      "text/plain": [
       "<IPython.core.display.Markdown object>"
      ]
     },
     "metadata": {},
     "output_type": "display_data"
    },
    {
     "data": {
      "text/markdown": [
       "(land allocation) $x_1 = 170.0$, $x_2 = 80.0$, $x_3 = 250.0$"
      ],
      "text/plain": [
       "<IPython.core.display.Markdown object>"
      ]
     },
     "metadata": {},
     "output_type": "display_data"
    },
    {
     "data": {
      "text/markdown": [
       "(recourse sell action high yield) $w_1 = 310.0$, $w_2 = 48.0$, $w_3 = 6000.0$, $w_4 = 0.0$"
      ],
      "text/plain": [
       "<IPython.core.display.Markdown object>"
      ]
     },
     "metadata": {},
     "output_type": "display_data"
    },
    {
     "data": {
      "text/markdown": [
       "(recourse purchase action high yield) $y_1 = 0.0$, $y_2 = 0.0$, $y_3 = 0.0$"
      ],
      "text/plain": [
       "<IPython.core.display.Markdown object>"
      ]
     },
     "metadata": {},
     "output_type": "display_data"
    },
    {
     "data": {
      "text/markdown": [
       "(recourse sell action medium yield) $w_1 = 225.0$, $w_2 = 0.0$, $w_3 = 5000.0$, $w_4 = 0.0$"
      ],
      "text/plain": [
       "<IPython.core.display.Markdown object>"
      ]
     },
     "metadata": {},
     "output_type": "display_data"
    },
    {
     "data": {
      "text/markdown": [
       "(recourse purchase action medium yield) $y_1 = 0.0$, $y_2 = 0.0$, $y_3 = 0.0$"
      ],
      "text/plain": [
       "<IPython.core.display.Markdown object>"
      ]
     },
     "metadata": {},
     "output_type": "display_data"
    },
    {
     "data": {
      "text/markdown": [
       "(recourse sell action low yield) $w_1 = 140.0$, $w_2 = 0.0$, $w_3 = 4000.0$, $w_4 = 0.0$"
      ],
      "text/plain": [
       "<IPython.core.display.Markdown object>"
      ]
     },
     "metadata": {},
     "output_type": "display_data"
    },
    {
     "data": {
      "text/markdown": [
       "(recourse purchase action low yield) $y_1 = 0.0$, $y_2 = 48.0$, $y_3 = 0.0$"
      ],
      "text/plain": [
       "<IPython.core.display.Markdown object>"
      ]
     },
     "metadata": {},
     "output_type": "display_data"
    },
    {
     "data": {
      "text/markdown": [
       "**Maximizes objective value to:** $106851$€"
      ],
      "text/plain": [
       "<IPython.core.display.Markdown object>"
      ]
     },
     "metadata": {},
     "output_type": "display_data"
    }
   ],
   "source": [
    "model = pyo.ConcreteModel()\n",
    "\n",
    "model.crops = pyo.Set(initialize=['W', 'C', 'S'])\n",
    "model.totalacres = 500\n",
    "model.factor_H = 1.2 # to obtain the yields in the good weather (high yield) case by multiplying the average ones\n",
    "model.factor_L = 0.8 # to obtain the yields in the bad weather (low yield) case by multiplying the average ones\n",
    "model.pricefactor_H = 0.9 # to obtain the prices in the good weather (high yield) case by multiplying the average ones\n",
    "model.pricefactor_L = 1.1 # to obtain the prices in the bad weather (low yield) case by multiplying the average ones\n",
    "\n",
    "# first stage variables\n",
    "model.plant = pyo.Var(model.crops, within=pyo.NonNegativeReals) \n",
    "\n",
    "# first stage constraint\n",
    "model.total_acres = pyo.Constraint(expr=pyo.summation(model.plant) <= model.totalacres)\n",
    "\n",
    "model.scenarios = pyo.Set(initialize=['H', 'M', 'L'])  # high, medium, and low yield scenarios\n",
    "\n",
    "# second stage variables (labelled as H,M,L depending on the scenario)\n",
    "# the sell_extra variables refer to the amount of beets to be sold beyond the 6000 threshold, if any\n",
    "\n",
    "model.sell_H = pyo.Var(model.crops, within=pyo.NonNegativeReals)\n",
    "model.buy_H = pyo.Var(model.crops, within=pyo.NonNegativeReals)\n",
    "model.sell_extra_H = pyo.Var(within=pyo.NonNegativeReals) \n",
    "\n",
    "model.sell_M = pyo.Var(model.crops, within=pyo.NonNegativeReals)\n",
    "model.buy_M = pyo.Var(model.crops, within=pyo.NonNegativeReals)\n",
    "model.sell_extra_M = pyo.Var(within=pyo.NonNegativeReals)\n",
    "\n",
    "model.sell_L = pyo.Var(model.crops, within=pyo.NonNegativeReals)\n",
    "model.buy_L = pyo.Var(model.crops, within=pyo.NonNegativeReals)\n",
    "model.sell_extra_L = pyo.Var(within=pyo.NonNegativeReals)\n",
    "\n",
    "# second stage constraints\n",
    "model.feed_cattle_W_H = pyo.Constraint(expr=model.plant['W'] * 2.5 * model.factor_H - model.sell_H['W'] + model.buy_H['W'] >= 200)\n",
    "model.feed_cattle_C_H = pyo.Constraint(expr=model.plant['C'] * 3 * model.factor_H - model.sell_H['C'] + model.buy_H['C'] >= 240)\n",
    "model.sell_S_extra_H = pyo.Constraint(expr=model.plant['S'] * 20 * model.factor_H >= model.sell_H['S'] + model.sell_extra_H)\n",
    "model.sell_S_H = pyo.Constraint(expr=model.sell_H['S'] <= 6000)\n",
    "model.nobuy_H = pyo.Constraint(expr=model.buy_H['S'] == 0)\n",
    "\n",
    "model.feed_cattle_W_M = pyo.Constraint(expr=model.plant['W'] * 2.5 - model.sell_M['W'] + model.buy_M['W'] >= 200)\n",
    "model.feed_cattle_C_M = pyo.Constraint(expr=model.plant['C'] * 3 - model.sell_M['C'] + model.buy_M['C'] >= 240)\n",
    "model.sell_S_extra_M = pyo.Constraint(expr=model.plant['S'] * 20 >= model.sell_M['S'] + model.sell_extra_M)\n",
    "model.sell_S_M = pyo.Constraint(expr=model.sell_M['S'] <= 6000)\n",
    "model.nobuy_M = pyo.Constraint(expr=model.buy_M['S'] == 0)\n",
    "\n",
    "model.feed_cattle_W_L = pyo.Constraint(expr=model.plant['W'] * 2.5 * model.factor_L - model.sell_L['W'] + model.buy_L['W'] >= 200)\n",
    "model.feed_cattle_C_L = pyo.Constraint(expr=model.plant['C'] * 3 * model.factor_L - model.sell_L['C'] + model.buy_L['C'] >= 240)\n",
    "model.sell_S_extra_L = pyo.Constraint(expr=model.plant['S'] * 20 * model.factor_L >= model.sell_L['S'] + model.sell_extra_L)\n",
    "model.sell_S_L = pyo.Constraint(expr=model.sell_L['S'] <= 6000)\n",
    "model.nobuy_L = pyo.Constraint(expr=model.buy_L['S'] == 0)\n",
    "\n",
    "def first_stage_profit(model):\n",
    "    return -model.plant[\"W\"] * 150 - model.plant[\"C\"] * 230 - model.plant[\"S\"] * 260\n",
    "\n",
    "model.first_stage_profit = pyo.Expression(rule=first_stage_profit)\n",
    "\n",
    "def second_stage_profit(model):\n",
    "    total_H = -model.buy_H['W'] * 238 * model.pricefactor_H - model.buy_H['C'] * 210 * model.pricefactor_H + 36 * model.sell_H['S'] + 10 * model.sell_extra_H + model.sell_H['W'] * 170 * model.pricefactor_H + model.sell_H['C'] * 150 * model.pricefactor_H\n",
    "    total_M = -model.buy_M['W'] * 238 - model.buy_M['C'] * 210 + 36 * model.sell_M['S'] + 10 * model.sell_extra_M + model.sell_M['W'] * 170 + model.sell_M['C'] * 150\n",
    "    total_L = -model.buy_L['W'] * 238 * model.pricefactor_L - model.buy_L['C'] * 210 * model.pricefactor_L + 36 * model.sell_L['S'] + 10 * model.sell_extra_L + model.sell_L['W'] * 170 * model.pricefactor_L + model.sell_L['C'] * 150 * model.pricefactor_L\n",
    "    return (total_H + total_M + total_L)/3.0\n",
    "\n",
    "model.second_stage_profit = pyo.Expression(rule=second_stage_profit)\n",
    "\n",
    "def total_profit(model):\n",
    "    return model.first_stage_profit + model.second_stage_profit\n",
    "\n",
    "model.total_expected_profit = pyo.Objective(rule=total_profit, sense=pyo.maximize)\n",
    "\n",
    "result = cbc_solver.solve(model)\n",
    "display(Markdown(f\"**Solver status:** *{result.solver.status}, {result.solver.termination_condition}*\"))\n",
    "display(Markdown(f\"**Solution:**\"))\n",
    "display(Markdown(f\"(land allocation) $x_1 = {model.plant['W'].value:.1f}$, $x_2 = {model.plant['C'].value:.1f}$, $x_3 = {model.plant['S'].value:.1f}$\"))\n",
    "display(Markdown(f\"(recourse sell action high yield) $w_1 = {model.sell_H['W'].value:.1f}$, $w_2 = {model.sell_H['C'].value:.1f}$, $w_3 = {model.sell_H['S'].value:.1f}$, $w_4 = {model.sell_extra_H.value:.1f}$\"))\n",
    "display(Markdown(f\"(recourse purchase action high yield) $y_1 = {model.buy_H['W'].value:.1f}$, $y_2 = {model.buy_H['C'].value:.1f}$, $y_3 = {model.buy_H['S'].value:.1f}$\"))\n",
    "display(Markdown(f\"(recourse sell action medium yield) $w_1 = {model.sell_M['W'].value:.1f}$, $w_2 = {model.sell_M['C'].value:.1f}$, $w_3 = {model.sell_M['S'].value:.1f}$, $w_4 = {model.sell_extra_M.value:.1f}$\"))\n",
    "display(Markdown(f\"(recourse purchase action medium yield) $y_1 = {model.buy_M['W'].value:.1f}$, $y_2 = {model.buy_M['C'].value:.1f}$, $y_3 = {model.buy_M['S'].value:.1f}$\"))\n",
    "display(Markdown(f\"(recourse sell action low yield) $w_1 = {model.sell_L['W'].value:.1f}$, $w_2 = {model.sell_L['C'].value:.1f}$, $w_3 = {model.sell_L['S'].value:.1f}$, $w_4 = {model.sell_extra_L.value:.1f}$\"))\n",
    "display(Markdown(f\"(recourse purchase action low yield) $y_1 = {model.buy_L['W'].value:.1f}$, $y_2 = {model.buy_L['C'].value:.1f}$, $y_3 = {model.buy_L['S'].value:.1f}$\"))\n",
    "display(Markdown(f\"**Maximizes objective value to:** ${model.total_expected_profit():.0f}$€\"))"
   ]
  },
  {
   "cell_type": "markdown",
   "id": "9afbbc42",
   "metadata": {},
   "source": [
    "## (c) Discrete First-Stage Decisions\n",
    "\n",
    "Consider again the case where prices are fixed and scenario-independent. The farmer possesses four fields of sizes $185$, $145$, $105$, and $65$ acres, respectively. (observe that the total of 500 acres is unchanged). For reasons of efficiency the farmer wants to raise only one type of crop on each fields. \n",
    "\n",
    "Formulate this model as a two-stage stochastic program with a first-stage program with binary variables and solve it using once more the extensive form of the same stochastic program."
   ]
  },
  {
   "cell_type": "code",
   "execution_count": 226,
   "id": "6239bd57-40d0-4182-a40e-15630fe57e47",
   "metadata": {},
   "outputs": [],
   "source": [
    "field_size = {1: 185, 2: 145, 3: 105, 4: 65}"
   ]
  },
  {
   "cell_type": "code",
   "execution_count": 246,
   "id": "2ba9f3c0-76cd-4e8f-9bf7-499aa0cabc7f",
   "metadata": {},
   "outputs": [
    {
     "name": "stdout",
     "output_type": "stream",
     "text": [
      "\n",
      "First Stage Profit: -110900.00 euros\n",
      "\tCrop       Planted\n",
      "\t           (acres)\n",
      "\tW            145.0\n",
      "\tC            105.0\n",
      "\tB            250.0\n",
      "\tB extra        0.0\n",
      "\n",
      "\tField        Acres     Crop\n",
      "\t1            185.0        B\n",
      "\t2            145.0        W\n",
      "\t3            105.0        C\n",
      "\t4             65.0        B\n",
      "\n",
      "Second Stage / Recourse Solutions\n",
      "\n",
      "Scenario H Profit: 276650.00 euros\n",
      "\tCrop      Produced       Buy      Feed      Sell\n",
      "\t            (tons)     (tons)    (tons)   (tons)\n",
      "\tW            435.0       0.0     200.0     235.0\n",
      "\tC            378.0       0.0     240.0     138.0\n",
      "\tB           6000.0       0.0       0.0    6000.0\n",
      "\tB extra        0.0       0.0       0.0       0.0\n",
      "\n",
      "Scenario M Profit: 218875.00 euros\n",
      "\tCrop      Produced       Buy      Feed      Sell\n",
      "\t            (tons)     (tons)    (tons)   (tons)\n",
      "\tW            362.5       0.0     200.0     162.5\n",
      "\tC            315.0       0.0     240.0      75.0\n",
      "\tB           5000.0       0.0       0.0    5000.0\n",
      "\tB extra        0.0       0.0       0.0       0.0\n",
      "\n",
      "Scenario L Profit: 161100.00 euros\n",
      "\tCrop      Produced       Buy      Feed      Sell\n",
      "\t            (tons)     (tons)    (tons)   (tons)\n",
      "\tW            290.0       0.0     200.0      90.0\n",
      "\tC            252.0       0.0     240.0      12.0\n",
      "\tB           4000.0       0.0       0.0    4000.0\n",
      "\tB extra        0.0       0.0       0.0       0.0\n",
      "\n",
      "Expected profit = 107975.00 euros\n"
     ]
    }
   ],
   "source": [
    "m = pyo.ConcreteModel()\n",
    "\n",
    "# mutable parameter\n",
    "m.total_acres = pyo.Param(initialize=500, mutable=True)\n",
    "\n",
    "# sets\n",
    "m.crops = pyo.Set(initialize=planting_cost.keys())\n",
    "m.scenarios = pyo.Set(initialize=yield_factor.keys())\n",
    "m.fields = pyo.Set(initialize=field_size.keys())\n",
    "\n",
    "# constant parameter values\n",
    "m.planting_cost = pyo.Param(m.crops, initialize=planting_cost)\n",
    "m.crop_yield = pyo.Param(m.crops, initialize=crop_yield)\n",
    "m.sell_price = pyo.Param(m.crops, initialize=sell_price)\n",
    "m.buy_price = pyo.Param(m.crops, initialize=buy_price)\n",
    "m.demand = pyo.Param(m.crops, initialize=demand)\n",
    "m.cattle_feed = pyo.Param(m.crops, initialize=cattle_feed)\n",
    "m.field_size = pyo.Param(m.fields, initialize=field_size)\n",
    "\n",
    "# scenario dependent parameter values\n",
    "m.yield_factor = pyo.Param(m.scenarios, initialize=yield_factor)\n",
    "@m.Param(m.crops, m.scenarios)\n",
    "def price_factor(m, c, s):\n",
    "    return 1.0\n",
    "\n",
    "# first stage variables\n",
    "\n",
    "m.plant = pyo.Var(m.crops, domain=pyo.NonNegativeReals)\n",
    "m.assign_field_to_crop = pyo.Var(m.fields, m.crops, domain=pyo.Binary)\n",
    "\n",
    "# first stage constraint\n",
    "@m.Constraint(m.crops)\n",
    "def plant_fields(m, c):\n",
    "    return m.plant[c] == sum(m.assign_field_to_crop[f, c] * m.field_size[f] for f in m.fields)\n",
    "\n",
    "# assign only on crop to a field\n",
    "@m.Constraint(m.fields)\n",
    "def assignment(m, f):\n",
    "    return sum(m.assign_field_to_crop[f, c] for c in m.crops) <= 1\n",
    "\n",
    "# first stage profit\n",
    "@m.Expression()\n",
    "def first_stage_profit(m, c):\n",
    "    return -sum(m.plant[c] * m.planting_cost[c] for c in m.crops)\n",
    "\n",
    "# second stage variables\n",
    "m.produced = pyo.Var(m.crops, m.scenarios, domain=pyo.NonNegativeReals)\n",
    "m.buy = pyo.Var(m.crops, m.scenarios, domain=pyo.NonNegativeReals)\n",
    "m.sell = pyo.Var(m.crops, m.scenarios, domain=pyo.NonNegativeReals)\n",
    "\n",
    "# second stage constraints\n",
    "@m.Constraint(m.crops, m.scenarios)\n",
    "def crops_produced(m, c, s):\n",
    "    return m.produced[c, s] == m.plant[c] * m.crop_yield[c] * m.yield_factor[s]\n",
    "\n",
    "@m.Constraint(m.crops, m.scenarios)\n",
    "def demand_limit(m, c, s):\n",
    "    return m.sell[c, s] <= m.demand[c]\n",
    "\n",
    "@m.Constraint(m.crops, m.scenarios)\n",
    "def balance(m, c, s):\n",
    "    return m.produced[c, s] + m.buy[c, s] == m.cattle_feed[c] + m.sell[c, s]\n",
    "\n",
    "# second stage profit\n",
    "@m.Expression(m.scenarios)\n",
    "def second_stage_profit(m, s):\n",
    "    revenue = sum(m.sell[c, s] * m.sell_price[c] * m.price_factor[c, s] for c in m.crops) \n",
    "    expense = sum(m.buy[c, s] * m.buy_price[c] * m.price_factor[c, s] for c in m.crops)\n",
    "    return revenue - expense\n",
    "\n",
    "# Objective\n",
    "@m.Objective(sense=pyo.maximize)\n",
    "def total_profit(m):\n",
    "    return m.first_stage_profit + sum(m.second_stage_profit[s] for s in m.scenarios) / len(m.scenarios)\n",
    "\n",
    "pyo.SolverFactory('cbc').solve(m)\n",
    "    \n",
    "print(f\"\\nFirst Stage Profit: {m.first_stage_profit.expr():0.2f} euros\")\n",
    "print(\"\\tCrop       Planted\")\n",
    "print(\"\\t           (acres)\")\n",
    "for c in m.crops:\n",
    "    print(f\"\\t{c:8s}   {m.plant[c].value:7.1f}\")\n",
    "    \n",
    "print(f\"\\n\\tField        Acres     Crop\")\n",
    "for f in m.fields:\n",
    "    print(f\"\\t{f}            {field_size[f]:5.1f}\", end=\"\")\n",
    "    for c in m.crops:\n",
    "        if m.assign_field_to_crop[f, c]():\n",
    "            print(f\"        {c}\")\n",
    "    \n",
    "print(f\"\\nSecond Stage / Recourse Solutions\")\n",
    "for s in m.scenarios:\n",
    "    print(f\"\\nScenario {s} Profit: {m.second_stage_profit[s].expr():0.2f} euros\")\n",
    "    print(\"\\tCrop      Produced       Buy      Feed      Sell\")\n",
    "    print(\"\\t            (tons)     (tons)    (tons)   (tons)\")\n",
    "    for c in m.crops:\n",
    "        sout = f\"\\t{c:8s}\"\n",
    "        sout += f\"   {m.produced[c, s].value:7.1f}\"\n",
    "        sout += f\"   {m.buy[c, s].value:7.1f}\"\n",
    "        sout += f\"   {cattle_feed[c]:7.1f}\"\n",
    "        sout += f\"   {m.sell[c, s].value:7.1f}\"\n",
    "        print(sout)\n",
    "\n",
    "print(f\"\\nExpected profit = {m.total_profit():0.2f} euros\")"
   ]
  },
  {
   "cell_type": "code",
   "execution_count": 6,
   "id": "d5a5daba",
   "metadata": {
    "ExecuteTime": {
     "end_time": "2022-09-30T21:49:22.767100Z",
     "start_time": "2022-09-30T21:49:22.621737Z"
    }
   },
   "outputs": [
    {
     "data": {
      "text/markdown": [
       "**Solver status:** *ok, optimal*"
      ],
      "text/plain": [
       "<IPython.core.display.Markdown object>"
      ]
     },
     "metadata": {},
     "output_type": "display_data"
    },
    {
     "data": {
      "text/markdown": [
       "**Solution:**"
      ],
      "text/plain": [
       "<IPython.core.display.Markdown object>"
      ]
     },
     "metadata": {},
     "output_type": "display_data"
    },
    {
     "data": {
      "text/markdown": [
       "(wheat field allocation) $[0, 1, 0, 0]$"
      ],
      "text/plain": [
       "<IPython.core.display.Markdown object>"
      ]
     },
     "metadata": {},
     "output_type": "display_data"
    },
    {
     "data": {
      "text/markdown": [
       "(corn field allocation) $[0, 0, 1, 0]$"
      ],
      "text/plain": [
       "<IPython.core.display.Markdown object>"
      ]
     },
     "metadata": {},
     "output_type": "display_data"
    },
    {
     "data": {
      "text/markdown": [
       "(beet field allocation) $[1, 0, 0, 1]$"
      ],
      "text/plain": [
       "<IPython.core.display.Markdown object>"
      ]
     },
     "metadata": {},
     "output_type": "display_data"
    },
    {
     "data": {
      "text/markdown": [
       "(land field allocation) $x_1 = 145.0$, $x_2 = 105.0$, $x_3 = 250.0$"
      ],
      "text/plain": [
       "<IPython.core.display.Markdown object>"
      ]
     },
     "metadata": {},
     "output_type": "display_data"
    },
    {
     "data": {
      "text/markdown": [
       "(recourse sell action high yield) $w_1 = 235.0$, $w_2 = 138.0$, $w_3 = 6000.0$, $w_4 = 0.0$"
      ],
      "text/plain": [
       "<IPython.core.display.Markdown object>"
      ]
     },
     "metadata": {},
     "output_type": "display_data"
    },
    {
     "data": {
      "text/markdown": [
       "(recourse purchase action high yield) $y_1 = 0.0$, $y_2 = 0.0$, $y_3 = 0.0$"
      ],
      "text/plain": [
       "<IPython.core.display.Markdown object>"
      ]
     },
     "metadata": {},
     "output_type": "display_data"
    },
    {
     "data": {
      "text/markdown": [
       "(recourse sell action medium yield) $w_1 = 162.5$, $w_2 = 75.0$, $w_3 = 5000.0$, $w_4 = 0.0$"
      ],
      "text/plain": [
       "<IPython.core.display.Markdown object>"
      ]
     },
     "metadata": {},
     "output_type": "display_data"
    },
    {
     "data": {
      "text/markdown": [
       "(recourse purchase action medium yield) $y_1 = 0.0$, $y_2 = 0.0$, $y_3 = 0.0$"
      ],
      "text/plain": [
       "<IPython.core.display.Markdown object>"
      ]
     },
     "metadata": {},
     "output_type": "display_data"
    },
    {
     "data": {
      "text/markdown": [
       "(recourse sell action low yield) $w_1 = 90.0$, $w_2 = 12.0$, $w_3 = 4000.0$, $w_4 = 0.0$"
      ],
      "text/plain": [
       "<IPython.core.display.Markdown object>"
      ]
     },
     "metadata": {},
     "output_type": "display_data"
    },
    {
     "data": {
      "text/markdown": [
       "(recourse purchase action low yield) $y_1 = 0.0$, $y_2 = 0.0$, $y_3 = 0.0$"
      ],
      "text/plain": [
       "<IPython.core.display.Markdown object>"
      ]
     },
     "metadata": {},
     "output_type": "display_data"
    },
    {
     "data": {
      "text/markdown": [
       "**Maximizes objective value to:** $107975$€"
      ],
      "text/plain": [
       "<IPython.core.display.Markdown object>"
      ]
     },
     "metadata": {},
     "output_type": "display_data"
    }
   ],
   "source": [
    "model = pyo.ConcreteModel()\n",
    "\n",
    "model.crops = pyo.Set(initialize=['W', 'C', 'S'])\n",
    "model.fields = pyo.Set(initialize=['1','2','3','4'])\n",
    "model.fieldsize = pyo.Param(model.fields, initialize={'1': 185.0, '2': 145.0, '3': 105.0, '4': 65.0}, within=pyo.NonNegativeReals)\n",
    "\n",
    "model.factor_H = 1.2 # to obtain the yields in the good weather (high yield) case by multiplying the average ones\n",
    "model.factor_L = 0.8 # to obtain the yields in the bad weather (low yield) case by multiplying the average ones\n",
    "model.pricefactor_H = 1.0 # to obtain the prices in the good weather (high yield) case by multiplying the average ones\n",
    "model.pricefactor_L = 1.0 # to obtain the prices in the bad weather (low yield) case by multiplying the average ones\n",
    "\n",
    "# first stage variables, which are now binary variables\n",
    "model.plant_W = pyo.Var(model.fields, within=pyo.Binary) \n",
    "model.plant_C = pyo.Var(model.fields, within=pyo.Binary) \n",
    "model.plant_S = pyo.Var(model.fields, within=pyo.Binary)\n",
    "\n",
    "# first stage constraint\n",
    "model.field1 = pyo.Constraint(expr=model.plant_W['1'] + model.plant_C['1'] + model.plant_S['1'] <= 1)\n",
    "model.field2 = pyo.Constraint(expr=model.plant_W['2'] + model.plant_C['2'] + model.plant_S['2'] <= 1)\n",
    "model.field3 = pyo.Constraint(expr=model.plant_W['3'] + model.plant_C['3'] + model.plant_S['3'] <= 1)\n",
    "model.field4 = pyo.Constraint(expr=model.plant_W['4'] + model.plant_C['4'] + model.plant_S['4'] <= 1)\n",
    "\n",
    "# we recalculate the total surface per type of crop\n",
    "model.totalWsurface = pyo.Expression(expr=np.sum([model.plant_W[i] * model.fieldsize[i] for i in model.fields]))\n",
    "model.totalCsurface = pyo.Expression(expr=np.sum([model.plant_C[i] * model.fieldsize[i] for i in model.fields]))\n",
    "model.totalSsurface = pyo.Expression(expr=np.sum([model.plant_S[i] * model.fieldsize[i] for i in model.fields]))\n",
    "\n",
    "model.scenarios = pyo.Set(initialize=['H', 'M', 'L'])  # high, medium, and low yield scenarios\n",
    "\n",
    "# second stage variables (labelled as H,M,L depending on the scenario)\n",
    "# the sell_extra variables refer to the amount of beets to be sold beyond the 6000 threshold, if any\n",
    "\n",
    "model.sell_H = pyo.Var(model.crops, within=pyo.NonNegativeReals)\n",
    "model.buy_H = pyo.Var(model.crops, within=pyo.NonNegativeReals)\n",
    "model.sell_extra_H = pyo.Var(within=pyo.NonNegativeReals) \n",
    "\n",
    "model.sell_M = pyo.Var(model.crops, within=pyo.NonNegativeReals)\n",
    "model.buy_M = pyo.Var(model.crops, within=pyo.NonNegativeReals)\n",
    "model.sell_extra_M = pyo.Var(within=pyo.NonNegativeReals)\n",
    "\n",
    "model.sell_L = pyo.Var(model.crops, within=pyo.NonNegativeReals)\n",
    "model.buy_L = pyo.Var(model.crops, within=pyo.NonNegativeReals)\n",
    "model.sell_extra_L = pyo.Var(within=pyo.NonNegativeReals)\n",
    "\n",
    "# second stage constraints\n",
    "model.feed_cattle_W_H = pyo.Constraint(expr=model.totalWsurface * 2.5 * model.factor_H - model.sell_H['W'] + model.buy_H['W'] >= 200)\n",
    "model.feed_cattle_C_H = pyo.Constraint(expr=model.totalCsurface * 3 * model.factor_H - model.sell_H['C'] + model.buy_H['C'] >= 240)\n",
    "model.sell_S_extra_H = pyo.Constraint(expr=model.totalSsurface * 20 * model.factor_H >= model.sell_H['S'] + model.sell_extra_H)\n",
    "model.sell_S_H = pyo.Constraint(expr=model.sell_H['S'] <= 6000)\n",
    "model.nobuy_H = pyo.Constraint(expr=model.buy_H['S'] == 0)\n",
    "\n",
    "model.feed_cattle_W_M = pyo.Constraint(expr=model.totalWsurface * 2.5 - model.sell_M['W'] + model.buy_M['W'] >= 200)\n",
    "model.feed_cattle_C_M = pyo.Constraint(expr=model.totalCsurface * 3 - model.sell_M['C'] + model.buy_M['C'] >= 240)\n",
    "model.sell_S_extra_M = pyo.Constraint(expr=model.totalSsurface * 20 >= model.sell_M['S'] + model.sell_extra_M)\n",
    "model.sell_S_M = pyo.Constraint(expr=model.sell_M['S'] <= 6000)\n",
    "model.nobuy_M = pyo.Constraint(expr=model.buy_M['S'] == 0)\n",
    "\n",
    "model.feed_cattle_W_L = pyo.Constraint(expr=model.totalWsurface * 2.5 * model.factor_L - model.sell_L['W'] + model.buy_L['W'] >= 200)\n",
    "model.feed_cattle_C_L = pyo.Constraint(expr=model.totalCsurface * 3 * model.factor_L - model.sell_L['C'] + model.buy_L['C'] >= 240)\n",
    "model.sell_S_extra_L = pyo.Constraint(expr=model.totalSsurface * 20 * model.factor_L >= model.sell_L['S'] + model.sell_extra_L)\n",
    "model.sell_S_L = pyo.Constraint(expr=model.sell_L['S'] <= 6000)\n",
    "model.nobuy_L = pyo.Constraint(expr=model.buy_L['S'] == 0)\n",
    "\n",
    "def first_stage_profit(model):\n",
    "    return -model.totalWsurface * 150 - model.totalCsurface * 230 - model.totalSsurface * 260\n",
    "\n",
    "model.first_stage_profit = pyo.Expression(rule=first_stage_profit)\n",
    "\n",
    "def second_stage_profit(model):\n",
    "    total_H = -model.buy_H['W'] * 238 * model.pricefactor_H - model.buy_H['C'] * 210 * model.pricefactor_H + 36 * model.sell_H['S'] + 10 * model.sell_extra_H + model.sell_H['W'] * 170 * model.pricefactor_H + model.sell_H['C'] * 150 * model.pricefactor_H\n",
    "    total_M = -model.buy_M['W'] * 238 - model.buy_M['C'] * 210 + 36 * model.sell_M['S'] + 10 * model.sell_extra_M + model.sell_M['W'] * 170 + model.sell_M['C'] * 150\n",
    "    total_L = -model.buy_L['W'] * 238 * model.pricefactor_L - model.buy_L['C'] * 210 * model.pricefactor_L + 36 * model.sell_L['S'] + 10 * model.sell_extra_L + model.sell_L['W'] * 170 * model.pricefactor_L + model.sell_L['C'] * 150 * model.pricefactor_L\n",
    "    return (total_H + total_M + total_L)/3.0\n",
    "\n",
    "model.second_stage_profit = pyo.Expression(rule=second_stage_profit)\n",
    "\n",
    "def total_profit(model):\n",
    "    return model.first_stage_profit + model.second_stage_profit\n",
    "\n",
    "model.total_expected_profit = pyo.Objective(rule=total_profit, sense=pyo.maximize)\n",
    "\n",
    "result = cbc_solver.solve(model)\n",
    "display(Markdown(f\"**Solver status:** *{result.solver.status}, {result.solver.termination_condition}*\"))\n",
    "display(Markdown(f\"**Solution:**\"))\n",
    "display(Markdown(f\"(wheat field allocation) $[{model.plant_W['1'].value:.0f}, {model.plant_W['2'].value:.0f}, {model.plant_W['3'].value:.0f}, {model.plant_W['4'].value:.0f}]$\"))\n",
    "display(Markdown(f\"(corn field allocation) $[{model.plant_C['1'].value:.0f}, {model.plant_C['2'].value:.0f}, {model.plant_C['3'].value:.0f}, {model.plant_C['4'].value:.0f}]$\"))\n",
    "display(Markdown(f\"(beet field allocation) $[{model.plant_S['1'].value:.0f}, {model.plant_S['2'].value:.0f}, {model.plant_S['3'].value:.0f}, {model.plant_S['4'].value:.0f}]$\"))\n",
    "display(Markdown(f\"(land field allocation) $x_1 = {model.totalWsurface.expr():.1f}$, $x_2 = {model.totalCsurface.expr():.1f}$, $x_3 = {model.totalSsurface.expr():.1f}$\"))\n",
    "display(Markdown(f\"(recourse sell action high yield) $w_1 = {model.sell_H['W'].value:.1f}$, $w_2 = {model.sell_H['C'].value:.1f}$, $w_3 = {model.sell_H['S'].value:.1f}$, $w_4 = {model.sell_extra_H.value:.1f}$\"))\n",
    "display(Markdown(f\"(recourse purchase action high yield) $y_1 = {model.buy_H['W'].value:.1f}$, $y_2 = {model.buy_H['C'].value:.1f}$, $y_3 = {model.buy_H['S'].value:.1f}$\"))\n",
    "display(Markdown(f\"(recourse sell action medium yield) $w_1 = {model.sell_M['W'].value:.1f}$, $w_2 = {model.sell_M['C'].value:.1f}$, $w_3 = {model.sell_M['S'].value:.1f}$, $w_4 = {model.sell_extra_M.value:.1f}$\"))\n",
    "display(Markdown(f\"(recourse purchase action medium yield) $y_1 = {model.buy_M['W'].value:.1f}$, $y_2 = {model.buy_M['C'].value:.1f}$, $y_3 = {model.buy_M['S'].value:.1f}$\"))\n",
    "display(Markdown(f\"(recourse sell action low yield) $w_1 = {model.sell_L['W'].value:.1f}$, $w_2 = {model.sell_L['C'].value:.1f}$, $w_3 = {model.sell_L['S'].value:.1f}$, $w_4 = {model.sell_extra_L.value:.1f}$\"))\n",
    "display(Markdown(f\"(recourse purchase action low yield) $y_1 = {model.buy_L['W'].value:.1f}$, $y_2 = {model.buy_L['C'].value:.1f}$, $y_3 = {model.buy_L['S'].value:.1f}$\"))\n",
    "display(Markdown(f\"**Maximizes objective value to:** ${model.total_expected_profit():.0f}$€\"))"
   ]
  },
  {
   "cell_type": "markdown",
   "id": "5d2fd070",
   "metadata": {},
   "source": [
    "## (d) Risk Averse Farmer\n",
    "\n",
    "Consider again the setting described in (a). The farmer would normally act as a risk-averse person and simply plan for the worst case. More precisely, the farmer maximizes her profit under the worst scenario, that is the bad weather one.\n",
    "\n",
    "(d) Solve the deterministic LP for the bad weather scenario to find the corresponding worst-case optimal land allocation. Using this land allocation, compute the loss in expected profit if that solution is taken."
   ]
  },
  {
   "cell_type": "code",
   "execution_count": 249,
   "id": "cebf3582-d7f3-41f7-8390-7673cdf46253",
   "metadata": {},
   "outputs": [
    {
     "name": "stdout",
     "output_type": "stream",
     "text": [
      "\n",
      "First Stage Profit: -110500.00 euros\n",
      "\tCrop       Planted\n",
      "\t           (acres)\n",
      "\tW            150.0\n",
      "\tC            100.0\n",
      "\tB            250.0\n",
      "\tB extra        0.0\n",
      "\n",
      "Second Stage / Recourse Solutions\n",
      "\n",
      "Scenario H Profit: 276500.00 euros\n",
      "\tCrop      Produced       Buy      Feed      Sell\n",
      "\t            (tons)     (tons)    (tons)   (tons)\n",
      "\tW            450.0       0.0     200.0     250.0\n",
      "\tC            360.0       0.0     240.0     120.0\n",
      "\tB           6000.0       0.0       0.0    6000.0\n",
      "\tB extra        0.0       0.0       0.0       0.0\n",
      "\n",
      "Scenario M Profit: 218750.00 euros\n",
      "\tCrop      Produced       Buy      Feed      Sell\n",
      "\t            (tons)     (tons)    (tons)   (tons)\n",
      "\tW            375.0       0.0     200.0     175.0\n",
      "\tC            300.0       0.0     240.0      60.0\n",
      "\tB           5000.0       0.0       0.0    5000.0\n",
      "\tB extra        0.0       0.0       0.0       0.0\n",
      "\n",
      "Scenario L Profit: 161000.00 euros\n",
      "\tCrop      Produced       Buy      Feed      Sell\n",
      "\t            (tons)     (tons)    (tons)   (tons)\n",
      "\tW            300.0       0.0     200.0     100.0\n",
      "\tC            240.0       0.0     240.0       0.0\n",
      "\tB           4000.0       0.0       0.0    4000.0\n",
      "\tB extra        0.0       0.0       0.0       0.0\n",
      "\n",
      "Worst Case Profit = 50500.00 euros\n"
     ]
    }
   ],
   "source": [
    "m = pyo.ConcreteModel()\n",
    "\n",
    "# mutable parameter\n",
    "m.total_acres = pyo.Param(initialize=500, mutable=True)\n",
    "\n",
    "# sets\n",
    "m.crops = pyo.Set(initialize=planting_cost.keys())\n",
    "m.scenarios = pyo.Set(initialize=yield_factor.keys())\n",
    "\n",
    "# constant parameter values\n",
    "m.planting_cost = pyo.Param(m.crops, initialize=planting_cost)\n",
    "m.crop_yield = pyo.Param(m.crops, initialize=crop_yield)\n",
    "m.sell_price = pyo.Param(m.crops, initialize=sell_price)\n",
    "m.buy_price = pyo.Param(m.crops, initialize=buy_price)\n",
    "m.demand = pyo.Param(m.crops, initialize=demand)\n",
    "m.cattle_feed = pyo.Param(m.crops, initialize=cattle_feed)\n",
    "\n",
    "# scenario dependent parameter values\n",
    "m.yield_factor = pyo.Param(m.scenarios, initialize=yield_factor)\n",
    "\n",
    "# first stage variables\n",
    "\n",
    "m.plant = pyo.Var(m.crops, domain=pyo.NonNegativeReals)\n",
    "\n",
    "# first stage constraint\n",
    "@m.Constraint()\n",
    "def acres(m):\n",
    "    return sum(m.plant[c] for c in m.crops) <= m.total_acres\n",
    "\n",
    "# first stage profit\n",
    "@m.Expression()\n",
    "def first_stage_profit(m, c):\n",
    "    return -sum(m.plant[c] * m.planting_cost[c] for c in m.crops)\n",
    "\n",
    "# second stage variables\n",
    "m.produced = pyo.Var(m.crops, m.scenarios, domain=pyo.NonNegativeReals)\n",
    "m.buy = pyo.Var(m.crops, m.scenarios, domain=pyo.NonNegativeReals)\n",
    "m.sell = pyo.Var(m.crops, m.scenarios, domain=pyo.NonNegativeReals)\n",
    "\n",
    "# second stage constraints\n",
    "@m.Constraint(m.crops, m.scenarios)\n",
    "def crops_produced(m, c, s):\n",
    "    return m.produced[c, s] == m.plant[c] * m.crop_yield[c] * m.yield_factor[s]\n",
    "\n",
    "@m.Constraint(m.crops, m.scenarios)\n",
    "def demand_limit(m, c, s):\n",
    "    return m.sell[c, s] <= m.demand[c]\n",
    "\n",
    "@m.Constraint(m.crops, m.scenarios)\n",
    "def balance(m, c, s):\n",
    "    return m.produced[c, s] + m.buy[c, s] == m.cattle_feed[c] + m.sell[c, s]\n",
    "\n",
    "# second stage profit\n",
    "@m.Expression(m.scenarios)\n",
    "def second_stage_profit(m, s):\n",
    "    revenue = sum(m.sell[c, s] * m.sell_price[c] for c in m.crops) \n",
    "    expense = sum(m.buy[c, s] * m.buy_price[c] for c in m.crops)\n",
    "    return revenue - expense\n",
    "\n",
    "# Objective\n",
    "m.worst_case_profit = pyo.Var(domain=pyo.NonNegativeReals)\n",
    "\n",
    "@m.Constraint(m.scenarios)\n",
    "def worst_case(m, s):\n",
    "    return m.worst_case_profit <= m.first_stage_profit + m.second_stage_profit[s] \n",
    "\n",
    "@m.Objective(sense=pyo.maximize)\n",
    "def total_profit(m):\n",
    "    return m.worst_case_profit\n",
    "\n",
    "pyo.SolverFactory('cbc').solve(m)\n",
    "    \n",
    "print(f\"\\nFirst Stage Profit: {m.first_stage_profit.expr():0.2f} euros\")\n",
    "print(\"\\tCrop       Planted\")\n",
    "print(\"\\t           (acres)\")\n",
    "for c in m.crops:\n",
    "    print(f\"\\t{c:8s}   {m.plant[c].value:7.1f}\")\n",
    "    \n",
    "print(f\"\\nSecond Stage / Recourse Solutions\")\n",
    "for s in m.scenarios:\n",
    "    print(f\"\\nScenario {s} Profit: {m.second_stage_profit[s].expr():0.2f} euros\")\n",
    "    print(\"\\tCrop      Produced       Buy      Feed      Sell\")\n",
    "    print(\"\\t            (tons)     (tons)    (tons)   (tons)\")\n",
    "    for c in m.crops:\n",
    "        sout = f\"\\t{c:8s}\"\n",
    "        sout += f\"   {m.produced[c, s].value:7.1f}\"\n",
    "        sout += f\"   {m.buy[c, s].value:7.1f}\"\n",
    "        sout += f\"   {cattle_feed[c]:7.1f}\"\n",
    "        sout += f\"   {m.sell[c, s].value:7.1f}\"\n",
    "        print(sout)\n",
    "\n",
    "print(f\"\\nWorst Case Profit = {m.total_profit():0.2f} euros\")"
   ]
  },
  {
   "cell_type": "code",
   "execution_count": 7,
   "id": "33586dd8",
   "metadata": {
    "ExecuteTime": {
     "end_time": "2022-09-30T21:49:22.838827Z",
     "start_time": "2022-09-30T21:49:22.777521Z"
    }
   },
   "outputs": [
    {
     "data": {
      "text/markdown": [
       "**Solver status:** *ok, optimal*"
      ],
      "text/plain": [
       "<IPython.core.display.Markdown object>"
      ]
     },
     "metadata": {},
     "output_type": "display_data"
    },
    {
     "data": {
      "text/markdown": [
       "**Solution:**"
      ],
      "text/plain": [
       "<IPython.core.display.Markdown object>"
      ]
     },
     "metadata": {},
     "output_type": "display_data"
    },
    {
     "data": {
      "text/markdown": [
       "(land allocation) $x_1 = 100.0$, $x_2 = 25.0$, $x_3 = 375.0$"
      ],
      "text/plain": [
       "<IPython.core.display.Markdown object>"
      ]
     },
     "metadata": {},
     "output_type": "display_data"
    },
    {
     "data": {
      "text/markdown": [
       "(recourse sell action low yield) $w_1 = 0.0$, $w_2 = 0.0$, $w_3 = 6000.0$, $w_4 = 0.0$"
      ],
      "text/plain": [
       "<IPython.core.display.Markdown object>"
      ]
     },
     "metadata": {},
     "output_type": "display_data"
    },
    {
     "data": {
      "text/markdown": [
       "(recourse purchase action low yield) $y_1 = 0.0$, $y_2 = 180.0$, $y_3 = 0.0$"
      ],
      "text/plain": [
       "<IPython.core.display.Markdown object>"
      ]
     },
     "metadata": {},
     "output_type": "display_data"
    },
    {
     "data": {
      "text/markdown": [
       "**Maximizes objective value to:** $59950$€"
      ],
      "text/plain": [
       "<IPython.core.display.Markdown object>"
      ]
     },
     "metadata": {},
     "output_type": "display_data"
    }
   ],
   "source": [
    "# Bad weather only\n",
    "model = pyo.ConcreteModel()\n",
    "\n",
    "model.crops = pyo.Set(initialize=['W', 'C', 'S'])\n",
    "model.totalacres = 500\n",
    "model.factor_H = 1.2 # to obtain the yields in the good weather (high yield) case by multiplying the average ones\n",
    "model.factor_L = 0.8 # to obtain the yields in the bad weather (low yield) case by multiplying the average ones\n",
    "\n",
    "# first stage variables\n",
    "model.plant = pyo.Var(model.crops, within=pyo.NonNegativeReals) \n",
    "\n",
    "# first stage constraint\n",
    "model.total_acres = pyo.Constraint(expr=pyo.summation(model.plant) <= model.totalacres)\n",
    "\n",
    "# second stage variables\n",
    "model.sell_L = pyo.Var(model.crops, within=pyo.NonNegativeReals)\n",
    "model.buy_L = pyo.Var(model.crops, within=pyo.NonNegativeReals)\n",
    "model.sell_extra_L = pyo.Var(within=pyo.NonNegativeReals)\n",
    "\n",
    "# second stage constraints\n",
    "model.feed_cattle_W_L = pyo.Constraint(expr=model.plant['W'] * 2.5 * model.factor_L - model.sell_L['W'] + model.buy_L['W'] >= 200)\n",
    "model.feed_cattle_C_L = pyo.Constraint(expr=model.plant['C'] * 3 * model.factor_L - model.sell_L['C'] + model.buy_L['C'] >= 240)\n",
    "model.sell_S_extra_L = pyo.Constraint(expr=model.plant['S'] * 20 * model.factor_L >= model.sell_L['S'] + model.sell_extra_L)\n",
    "model.sell_S_L = pyo.Constraint(expr=model.sell_L['S'] <= 6000)\n",
    "model.nobuy_L = pyo.Constraint(expr=model.buy_L['S'] == 0)\n",
    "\n",
    "def first_stage_profit(model):\n",
    "    return -model.plant[\"W\"] * 150 - model.plant[\"C\"] * 230 - model.plant[\"S\"] * 260\n",
    "\n",
    "model.first_stage_profit = pyo.Expression(rule=first_stage_profit)\n",
    "\n",
    "def second_stage_profit(model):\n",
    "    return -model.buy_L['W'] * 238 - model.buy_L['C'] * 210 + 36 * model.sell_L['S'] + 10 * model.sell_extra_L + model.sell_L['W'] * 170 + model.sell_L['C'] * 150\n",
    "\n",
    "model.second_stage_profit = pyo.Expression(rule=second_stage_profit)\n",
    "\n",
    "def total_profit(model):\n",
    "    return model.first_stage_profit + model.second_stage_profit\n",
    "\n",
    "model.total_expected_profit = pyo.Objective(rule=total_profit, sense=pyo.maximize)\n",
    "\n",
    "result = cbc_solver.solve(model)\n",
    "display(Markdown(f\"**Solver status:** *{result.solver.status}, {result.solver.termination_condition}*\"))\n",
    "display(Markdown(f\"**Solution:**\"))\n",
    "display(Markdown(f\"(land allocation) $x_1 = {model.plant['W'].value:.1f}$, $x_2 = {model.plant['C'].value:.1f}$, $x_3 = {model.plant['S'].value:.1f}$\"))\n",
    "display(Markdown(f\"(recourse sell action low yield) $w_1 = {model.sell_L['W'].value:.1f}$, $w_2 = {model.sell_L['C'].value:.1f}$, $w_3 = {model.sell_L['S'].value:.1f}$, $w_4 = {model.sell_extra_L.value:.1f}$\"))\n",
    "display(Markdown(f\"(recourse purchase action low yield) $y_1 = {model.buy_L['W'].value:.1f}$, $y_2 = {model.buy_L['C'].value:.1f}$, $y_3 = {model.buy_L['S'].value:.1f}$\"))\n",
    "display(Markdown(f\"**Maximizes objective value to:** ${model.total_expected_profit():.0f}$€\"))"
   ]
  },
  {
   "cell_type": "code",
   "execution_count": 8,
   "id": "67c70ec9",
   "metadata": {
    "ExecuteTime": {
     "end_time": "2022-09-30T21:49:22.923498Z",
     "start_time": "2022-09-30T21:49:22.842221Z"
    }
   },
   "outputs": [
    {
     "data": {
      "text/markdown": [
       "**Solver status:** *ok, optimal*"
      ],
      "text/plain": [
       "<IPython.core.display.Markdown object>"
      ]
     },
     "metadata": {},
     "output_type": "display_data"
    },
    {
     "data": {
      "text/markdown": [
       "**Solution:**"
      ],
      "text/plain": [
       "<IPython.core.display.Markdown object>"
      ]
     },
     "metadata": {},
     "output_type": "display_data"
    },
    {
     "data": {
      "text/markdown": [
       "(land allocation) $x_1 = 100.0$, $x_2 = 25.0$, $x_3 = 375.0$"
      ],
      "text/plain": [
       "<IPython.core.display.Markdown object>"
      ]
     },
     "metadata": {},
     "output_type": "display_data"
    },
    {
     "data": {
      "text/markdown": [
       "(recourse sell action high yield) $w_1 = 100.0$, $w_2 = 0.0$, $w_3 = 6000.0$, $w_4 = 3000.0$"
      ],
      "text/plain": [
       "<IPython.core.display.Markdown object>"
      ]
     },
     "metadata": {},
     "output_type": "display_data"
    },
    {
     "data": {
      "text/markdown": [
       "(recourse purchase action high yield) $y_1 = 0.0$, $y_2 = 150.0$, $y_3 = 0.0$"
      ],
      "text/plain": [
       "<IPython.core.display.Markdown object>"
      ]
     },
     "metadata": {},
     "output_type": "display_data"
    },
    {
     "data": {
      "text/markdown": [
       "(recourse sell action medium yield) $w_1 = 50.0$, $w_2 = 0.0$, $w_3 = 6000.0$, $w_4 = 1500.0$"
      ],
      "text/plain": [
       "<IPython.core.display.Markdown object>"
      ]
     },
     "metadata": {},
     "output_type": "display_data"
    },
    {
     "data": {
      "text/markdown": [
       "(recourse purchase action medium yield) $y_1 = 0.0$, $y_2 = 165.0$, $y_3 = 0.0$"
      ],
      "text/plain": [
       "<IPython.core.display.Markdown object>"
      ]
     },
     "metadata": {},
     "output_type": "display_data"
    },
    {
     "data": {
      "text/markdown": [
       "(recourse sell action low yield) $w_1 = 0.0$, $w_2 = 0.0$, $w_3 = 6000.0$, $w_4 = 0.0$"
      ],
      "text/plain": [
       "<IPython.core.display.Markdown object>"
      ]
     },
     "metadata": {},
     "output_type": "display_data"
    },
    {
     "data": {
      "text/markdown": [
       "(recourse purchase action low yield) $y_1 = 0.0$, $y_2 = 180.0$, $y_3 = 0.0$"
      ],
      "text/plain": [
       "<IPython.core.display.Markdown object>"
      ]
     },
     "metadata": {},
     "output_type": "display_data"
    },
    {
     "data": {
      "text/markdown": [
       "**Maximizes objective value to:** $86600$€"
      ],
      "text/plain": [
       "<IPython.core.display.Markdown object>"
      ]
     },
     "metadata": {},
     "output_type": "display_data"
    }
   ],
   "source": [
    "# Expected profit when optimizing only against bad weather \n",
    "model = pyo.ConcreteModel()\n",
    "\n",
    "model.crops = pyo.Set(initialize=['W', 'C', 'S'])\n",
    "model.factor_H = 1.2 # to obtain the yields in the good weather (high yield) case by multiplying the average ones\n",
    "model.factor_L = 0.8 # to obtain the yields in the bad weather (low yield) case by multiplying the average ones\n",
    "\n",
    "# first stage variables are now parameters, since we set them equal to the optimal allocation for bad weather calculated in the previous cell\n",
    "model.plant = pyo.Param(model.crops, within=pyo.NonNegativeReals, initialize={'W': 100, 'C': 25, 'S': 375}) \n",
    "\n",
    "model.scenarios = pyo.Set(initialize=['H', 'M', 'L'])  # high, medium, and low yield scenarios\n",
    "\n",
    "# second stage variables (labelled as H,M,L depending on the scenario)\n",
    "# the sell_extra variables refer to the amount of beets to be sold beyond the 6000 threshold, if any\n",
    "model.sell_H = pyo.Var(model.crops, within=pyo.NonNegativeReals)\n",
    "model.buy_H = pyo.Var(model.crops, within=pyo.NonNegativeReals)\n",
    "model.sell_extra_H = pyo.Var(within=pyo.NonNegativeReals) \n",
    "\n",
    "model.sell_M = pyo.Var(model.crops, within=pyo.NonNegativeReals)\n",
    "model.buy_M = pyo.Var(model.crops, within=pyo.NonNegativeReals)\n",
    "model.sell_extra_M = pyo.Var(within=pyo.NonNegativeReals)\n",
    "\n",
    "model.sell_L = pyo.Var(model.crops, within=pyo.NonNegativeReals)\n",
    "model.buy_L = pyo.Var(model.crops, within=pyo.NonNegativeReals)\n",
    "model.sell_extra_L = pyo.Var(within=pyo.NonNegativeReals)\n",
    "\n",
    "# second stage constraints\n",
    "model.feed_cattle_W_H = pyo.Constraint(expr=model.plant['W'] * 2.5 * model.factor_H - model.sell_H['W'] + model.buy_H['W'] >= 200)\n",
    "model.feed_cattle_C_H = pyo.Constraint(expr=model.plant['C'] * 3 * model.factor_H - model.sell_H['C'] + model.buy_H['C'] >= 240)\n",
    "model.sell_S_extra_H = pyo.Constraint(expr=model.plant['S'] * 20 * model.factor_H >= model.sell_H['S'] + model.sell_extra_H)\n",
    "model.sell_S_H = pyo.Constraint(expr=model.sell_H['S'] <= 6000)\n",
    "model.nobuy_H = pyo.Constraint(expr=model.buy_H['S'] == 0)\n",
    "\n",
    "model.feed_cattle_W_M = pyo.Constraint(expr=model.plant['W'] * 2.5 - model.sell_M['W'] + model.buy_M['W'] >= 200)\n",
    "model.feed_cattle_C_M = pyo.Constraint(expr=model.plant['C'] * 3 - model.sell_M['C'] + model.buy_M['C'] >= 240)\n",
    "model.sell_S_extra_M = pyo.Constraint(expr=model.plant['S'] * 20 >= model.sell_M['S'] + model.sell_extra_M)\n",
    "model.sell_S_M = pyo.Constraint(expr=model.sell_M['S'] <= 6000)\n",
    "model.nobuy_M = pyo.Constraint(expr=model.buy_M['S'] == 0)\n",
    "\n",
    "model.feed_cattle_W_L = pyo.Constraint(expr=model.plant['W'] * 2.5 * model.factor_L - model.sell_L['W'] + model.buy_L['W'] >= 200)\n",
    "model.feed_cattle_C_L = pyo.Constraint(expr=model.plant['C'] * 3 * model.factor_L - model.sell_L['C'] + model.buy_L['C'] >= 240)\n",
    "model.sell_S_extra_L = pyo.Constraint(expr=model.plant['S'] * 20 * model.factor_L >= model.sell_L['S'] + model.sell_extra_L)\n",
    "model.sell_S_L = pyo.Constraint(expr=model.sell_L['S'] <= 6000)\n",
    "model.nobuy_L = pyo.Constraint(expr=model.buy_L['S'] == 0)\n",
    "\n",
    "def first_stage_profit(model):\n",
    "    return -model.plant[\"W\"] * 150 - model.plant[\"C\"] * 230 - model.plant[\"S\"] * 260\n",
    "\n",
    "model.first_stage_profit = pyo.Expression(rule=first_stage_profit)\n",
    "\n",
    "def second_stage_profit(model):\n",
    "    total_H = -model.buy_H['W'] * 238 - model.buy_H['C'] * 210 + 36 * model.sell_H['S'] + 10 * model.sell_extra_H + model.sell_H['W'] * 170 + model.sell_H['C'] * 150\n",
    "    total_M = -model.buy_M['W'] * 238 - model.buy_M['C'] * 210 + 36 * model.sell_M['S'] + 10 * model.sell_extra_M + model.sell_M['W'] * 170 + model.sell_M['C'] * 150\n",
    "    total_L = -model.buy_L['W'] * 238 - model.buy_L['C'] * 210 + 36 * model.sell_L['S'] + 10 * model.sell_extra_L + model.sell_L['W'] * 170 + model.sell_L['C'] * 150\n",
    "    return (total_H + total_M + total_L)/3.0\n",
    "\n",
    "model.second_stage_profit = pyo.Expression(rule=second_stage_profit)\n",
    "\n",
    "def total_profit(model):\n",
    "    return model.first_stage_profit + model.second_stage_profit\n",
    "\n",
    "model.total_expected_profit = pyo.Objective(rule=total_profit, sense=pyo.maximize)\n",
    "\n",
    "result = cbc_solver.solve(model)\n",
    "display(Markdown(f\"**Solver status:** *{result.solver.status}, {result.solver.termination_condition}*\"))\n",
    "display(Markdown(f\"**Solution:**\"))\n",
    "display(Markdown(f\"(land allocation) $x_1 = {model.plant['W']:.1f}$, $x_2 = {model.plant['C']:.1f}$, $x_3 = {model.plant['S']:.1f}$\"))\n",
    "display(Markdown(f\"(recourse sell action high yield) $w_1 = {model.sell_H['W'].value:.1f}$, $w_2 = {model.sell_H['C'].value:.1f}$, $w_3 = {model.sell_H['S'].value:.1f}$, $w_4 = {model.sell_extra_H.value:.1f}$\"))\n",
    "display(Markdown(f\"(recourse purchase action high yield) $y_1 = {model.buy_H['W'].value:.1f}$, $y_2 = {model.buy_H['C'].value:.1f}$, $y_3 = {model.buy_H['S'].value:.1f}$\"))\n",
    "display(Markdown(f\"(recourse sell action medium yield) $w_1 = {model.sell_M['W'].value:.1f}$, $w_2 = {model.sell_M['C'].value:.1f}$, $w_3 = {model.sell_M['S'].value:.1f}$, $w_4 = {model.sell_extra_M.value:.1f}$\"))\n",
    "display(Markdown(f\"(recourse purchase action medium yield) $y_1 = {model.buy_M['W'].value:.1f}$, $y_2 = {model.buy_M['C'].value:.1f}$, $y_3 = {model.buy_M['S'].value:.1f}$\"))\n",
    "display(Markdown(f\"(recourse sell action low yield) $w_1 = {model.sell_L['W'].value:.1f}$, $w_2 = {model.sell_L['C'].value:.1f}$, $w_3 = {model.sell_L['S'].value:.1f}$, $w_4 = {model.sell_extra_L.value:.1f}$\"))\n",
    "display(Markdown(f\"(recourse purchase action low yield) $y_1 = {model.buy_L['W'].value:.1f}$, $y_2 = {model.buy_L['C'].value:.1f}$, $y_3 = {model.buy_L['S'].value:.1f}$\"))\n",
    "display(Markdown(f\"**Maximizes objective value to:** ${model.total_expected_profit():.0f}$€\"))"
   ]
  },
  {
   "cell_type": "markdown",
   "id": "ac3125df",
   "metadata": {},
   "source": [
    "(e) A different approach situation be to require a reasonable minimum profit under the worst case. Find the solution that maximizes the expected profit under the constraint that in the worst case the profit does not fall below $58.000$ euro. What is now the loss in expected profit?\n",
    "\n",
    "Repeat the same optimization also with other values of minimal profit: $56.000$, $54.000$, $52.000$, $50.000$, and $48.000$ euro. Graph the curve of expected profit loss and compare the associated optimal decisions."
   ]
  },
  {
   "cell_type": "code",
   "execution_count": 9,
   "id": "3374639a",
   "metadata": {
    "ExecuteTime": {
     "end_time": "2022-09-30T21:49:23.209054Z",
     "start_time": "2022-09-30T21:49:22.926787Z"
    }
   },
   "outputs": [
    {
     "data": {
      "text/markdown": [
       "**Minimum profit threshold** of $48000$€ leads to an **optimal expected profit** of $108390$€, with a **loss** of $0$€"
      ],
      "text/plain": [
       "<IPython.core.display.Markdown object>"
      ]
     },
     "metadata": {},
     "output_type": "display_data"
    },
    {
     "data": {
      "text/markdown": [
       "**Minimum profit threshold** of $50000$€ leads to an **optimal expected profit** of $108292$€, with a **loss** of $98$€"
      ],
      "text/plain": [
       "<IPython.core.display.Markdown object>"
      ]
     },
     "metadata": {},
     "output_type": "display_data"
    },
    {
     "data": {
      "text/markdown": [
       "**Minimum profit threshold** of $52000$€ leads to an **optimal expected profit** of $107976$€, with a **loss** of $414$€"
      ],
      "text/plain": [
       "<IPython.core.display.Markdown object>"
      ]
     },
     "metadata": {},
     "output_type": "display_data"
    },
    {
     "data": {
      "text/markdown": [
       "**Minimum profit threshold** of $54000$€ leads to an **optimal expected profit** of $107611$€, with a **loss** of $779$€"
      ],
      "text/plain": [
       "<IPython.core.display.Markdown object>"
      ]
     },
     "metadata": {},
     "output_type": "display_data"
    },
    {
     "data": {
      "text/markdown": [
       "**Minimum profit threshold** of $56000$€ leads to an **optimal expected profit** of $107246$€, with a **loss** of $1144$€"
      ],
      "text/plain": [
       "<IPython.core.display.Markdown object>"
      ]
     },
     "metadata": {},
     "output_type": "display_data"
    },
    {
     "data": {
      "text/markdown": [
       "**Minimum profit threshold** of $58000$€ leads to an **optimal expected profit** of $101176$€, with a **loss** of $7214$€"
      ],
      "text/plain": [
       "<IPython.core.display.Markdown object>"
      ]
     },
     "metadata": {},
     "output_type": "display_data"
    }
   ],
   "source": [
    "expectedprofit_noconstraints = 108390\n",
    "\n",
    "def FarmersWithMinimumProfit(minprofit):\n",
    "    model = pyo.ConcreteModel()\n",
    "\n",
    "    model.crops = pyo.Set(initialize=['W', 'C', 'S'])\n",
    "    model.totalacres = 500\n",
    "    model.factor_H = 1.2 # to obtain the yields in the good weather (high yield) case by multiplying the average ones\n",
    "    model.factor_L = 0.8 # to obtain the yields in the bad weather (low yield) case by multiplying the average ones\n",
    "    model.pricefactor_H = 1.0 # to obtain the prices in the good weather (high yield) case by multiplying the average ones\n",
    "    model.pricefactor_L = 1.0 # to obtain the prices in the bad weather (low yield) case by multiplying the average ones\n",
    "\n",
    "    # first stage variables\n",
    "    model.plant = pyo.Var(model.crops, within=pyo.NonNegativeReals) \n",
    "\n",
    "    # first stage constraint\n",
    "    model.total_acres = pyo.Constraint(expr=pyo.summation(model.plant) <= model.totalacres)\n",
    "\n",
    "    model.scenarios = pyo.Set(initialize=['H', 'M', 'L'])  # high, medium, and low yield scenarios\n",
    "\n",
    "    # second stage variables (labelled as H,M,L depending on the scenario)\n",
    "    # the sell_extra variables refer to the amount of beets to be sold beyond the 6000 threshold, if any\n",
    "    model.sell_H = pyo.Var(model.crops, within=pyo.NonNegativeReals)\n",
    "    model.buy_H = pyo.Var(model.crops, within=pyo.NonNegativeReals)\n",
    "    model.sell_extra_H = pyo.Var(within=pyo.NonNegativeReals) \n",
    "\n",
    "    model.sell_M = pyo.Var(model.crops, within=pyo.NonNegativeReals)\n",
    "    model.buy_M = pyo.Var(model.crops, within=pyo.NonNegativeReals)\n",
    "    model.sell_extra_M = pyo.Var(within=pyo.NonNegativeReals)\n",
    "\n",
    "    model.sell_L = pyo.Var(model.crops, within=pyo.NonNegativeReals)\n",
    "    model.buy_L = pyo.Var(model.crops, within=pyo.NonNegativeReals)\n",
    "    model.sell_extra_L = pyo.Var(within=pyo.NonNegativeReals)\n",
    "\n",
    "    # second stage constraints\n",
    "    model.feed_cattle_W_H = pyo.Constraint(expr=model.plant['W'] * 2.5 * model.factor_H - model.sell_H['W'] + model.buy_H['W'] >= 200)\n",
    "    model.feed_cattle_C_H = pyo.Constraint(expr=model.plant['C'] * 3 * model.factor_H - model.sell_H['C'] + model.buy_H['C'] >= 240)\n",
    "    model.sell_S_extra_H = pyo.Constraint(expr=model.plant['S'] * 20 * model.factor_H >= model.sell_H['S'] + model.sell_extra_H)\n",
    "    model.sell_S_H = pyo.Constraint(expr=model.sell_H['S'] <= 6000)\n",
    "    model.nobuy_H = pyo.Constraint(expr=model.buy_H['S'] == 0)\n",
    "\n",
    "    model.feed_cattle_W_M = pyo.Constraint(expr=model.plant['W'] * 2.5 - model.sell_M['W'] + model.buy_M['W'] >= 200)\n",
    "    model.feed_cattle_C_M = pyo.Constraint(expr=model.plant['C'] * 3 - model.sell_M['C'] + model.buy_M['C'] >= 240)\n",
    "    model.sell_S_extra_M = pyo.Constraint(expr=model.plant['S'] * 20 >= model.sell_M['S'] + model.sell_extra_M)\n",
    "    model.sell_S_M = pyo.Constraint(expr=model.sell_M['S'] <= 6000)\n",
    "    model.nobuy_M = pyo.Constraint(expr=model.buy_M['S'] == 0)\n",
    "\n",
    "    model.feed_cattle_W_L = pyo.Constraint(expr=model.plant['W'] * 2.5 * model.factor_L - model.sell_L['W'] + model.buy_L['W'] >= 200)\n",
    "    model.feed_cattle_C_L = pyo.Constraint(expr=model.plant['C'] * 3 * model.factor_L - model.sell_L['C'] + model.buy_L['C'] >= 240)\n",
    "    model.sell_S_extra_L = pyo.Constraint(expr=model.plant['S'] * 20 * model.factor_L >= model.sell_L['S'] + model.sell_extra_L)\n",
    "    model.sell_S_L = pyo.Constraint(expr=model.sell_L['S'] <= 6000)\n",
    "    model.nobuy_L = pyo.Constraint(expr=model.buy_L['S'] == 0)\n",
    "\n",
    "    def first_stage_profit(model):\n",
    "        return -model.plant[\"W\"] * 150 - model.plant[\"C\"] * 230 - model.plant[\"S\"] * 260\n",
    "\n",
    "    model.first_stage_profit = pyo.Expression(rule=first_stage_profit)\n",
    "\n",
    "    def second_stage_profit(model):\n",
    "        total_H = -model.buy_H['W'] * 238 * model.pricefactor_H - model.buy_H['C'] * 210 * model.pricefactor_H + 36 * model.sell_H['S'] + 10 * model.sell_extra_H + model.sell_H['W'] * 170 * model.pricefactor_H + model.sell_H['C'] * 150 * model.pricefactor_H\n",
    "        total_M = -model.buy_M['W'] * 238 - model.buy_M['C'] * 210 + 36 * model.sell_M['S'] + 10 * model.sell_extra_M + model.sell_M['W'] * 170 + model.sell_M['C'] * 150\n",
    "        total_L = -model.buy_L['W'] * 238 * model.pricefactor_L - model.buy_L['C'] * 210 * model.pricefactor_L + 36 * model.sell_L['S'] + 10 * model.sell_extra_L + model.sell_L['W'] * 170 * model.pricefactor_L + model.sell_L['C'] * 150 * model.pricefactor_L\n",
    "        return (total_H + total_M + total_L)/3.0\n",
    "\n",
    "    model.second_stage_profit = pyo.Expression(rule=second_stage_profit)\n",
    "\n",
    "    def total_profit(model):\n",
    "        return model.first_stage_profit + model.second_stage_profit\n",
    "\n",
    "    model.total_expected_profit = pyo.Objective(rule=total_profit, sense=pyo.maximize)\n",
    "\n",
    "    model.totalprofit_H = pyo.Expression(expr = -model.plant[\"W\"] * 150 - model.plant[\"C\"] * 230 - model.plant[\"S\"] * 260 -model.buy_H['W'] * 238 * model.pricefactor_H - model.buy_H['C'] * 210 * model.pricefactor_H + 36 * model.sell_H['S'] + 10 * model.sell_extra_H + model.sell_H['W'] * 170 * model.pricefactor_H + model.sell_H['C'] * 150 * model.pricefactor_H)\n",
    "    model.totalprofit_M = pyo.Expression(expr = -model.plant[\"W\"] * 150 - model.plant[\"C\"] * 230 - model.plant[\"S\"] * 260 -model.buy_M['W'] * 238 - model.buy_M['C'] * 210 + 36 * model.sell_M['S'] + 10 * model.sell_extra_M + model.sell_M['W'] * 170 + model.sell_M['C'] * 150)\n",
    "    model.totalprofit_L = pyo.Expression(expr = -model.plant[\"W\"] * 150 - model.plant[\"C\"] * 230 - model.plant[\"S\"] * 260 -model.buy_L['W'] * 238 * model.pricefactor_L - model.buy_L['C'] * 210 * model.pricefactor_L + 36 * model.sell_L['S'] + 10 * model.sell_extra_L + model.sell_L['W'] * 170 * model.pricefactor_L + model.sell_L['C'] * 150 * model.pricefactor_L)\n",
    "    model.minimum_profit = pyo.Constraint(expr=model.totalprofit_L >= minprofit)\n",
    "    result = cbc_solver.solve(model)\n",
    "\n",
    "    display(Markdown(f\"**Minimum profit threshold** of ${minprofit:.0f}$€ leads to an **optimal expected profit** of ${model.total_expected_profit():.0f}$€, with a **loss** of ${expectedprofit_noconstraints - model.total_expected_profit():.0f}$€\"))\n",
    "    return model.total_expected_profit()\n",
    "\n",
    "profitthresholds = [48000,50000,52000,54000,56000,58000]\n",
    "for minprofit in profitthresholds:\n",
    "    FarmersWithMinimumProfit(minprofit)"
   ]
  }
 ],
 "metadata": {
  "kernelspec": {
   "display_name": "Python 3 (ipykernel)",
   "language": "python",
   "name": "python3"
  },
  "language_info": {
   "codemirror_mode": {
    "name": "ipython",
    "version": 3
   },
   "file_extension": ".py",
   "mimetype": "text/x-python",
   "name": "python",
   "nbconvert_exporter": "python",
   "pygments_lexer": "ipython3",
   "version": "3.9.7"
  },
  "varInspector": {
   "cols": {
    "lenName": 16,
    "lenType": 16,
    "lenVar": 40
   },
   "kernels_config": {
    "python": {
     "delete_cmd_postfix": "",
     "delete_cmd_prefix": "del ",
     "library": "var_list.py",
     "varRefreshCmd": "print(var_dic_list())"
    },
    "r": {
     "delete_cmd_postfix": ") ",
     "delete_cmd_prefix": "rm(",
     "library": "var_list.r",
     "varRefreshCmd": "cat(var_dic_list()) "
    }
   },
   "types_to_exclude": [
    "module",
    "function",
    "builtin_function_or_method",
    "instance",
    "_Feature"
   ],
   "window_display": false
  }
 },
 "nbformat": 4,
 "nbformat_minor": 5
}
