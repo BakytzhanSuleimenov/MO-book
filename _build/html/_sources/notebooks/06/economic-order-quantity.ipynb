{
 "cells": [
  {
   "cell_type": "markdown",
   "id": "b51d81ec-29ce-4538-b14a-d9cedced84e5",
   "metadata": {},
   "source": [
    "# Economic Order Quantity"
   ]
  },
  {
   "cell_type": "markdown",
   "id": "26658aeb-4ad4-4331-a9af-595ebc6a3e5c",
   "metadata": {},
   "source": [
    "Kuo, Y. J., & Mittelmann, H. D. (2004). Interior point methods for second-order cone programming and OR applications. Computational Optimization and Applications, 28(3), 255-285. https://link.springer.com/content/pdf/10.1023/B:COAP.0000033964.95511.23.pdf\n",
    "\n",
    "Letchford, A. N., & Parkes, A. J. (2018). A guide to conic optimisation and its applications. RAIRO-Operations Research, 52(4-5), 1087-1106. http://www.cs.nott.ac.uk/~pszajp/pubs/conic-guide.pdf\n",
    "\n",
    "Ziegler, H. (1982). Solving certain singly constrained convex optimization problems in production planning. Operations Research Letters, 1(6), 246-252.\n",
    "\n",
    "Bretthauer, K. M., & Shetty, B. (1995). The nonlinear resource allocation problem. Operations research, 43(4), 670-683. https://www.jstor.org/stable/171693?seq=1\n",
    "\n"
   ]
  },
  {
   "cell_type": "markdown",
   "id": "99f0167b-199a-4738-94bf-5dec6a8461ec",
   "metadata": {},
   "source": [
    "## Model\n",
    "\n",
    "History\n",
    "\n",
    "* Formulated in 1982 by Ziegler. Extension of classic EOQ problem\n",
    "* Reformulated in 2004 SOCP by Kuo & Mittleman, cited by Letchford\n",
    "* See Bretthauer for related applications\n",
    "\n",
    "Demonstrates\n",
    "\n",
    "* formulation hyperbolic SOCP\n",
    "* Familiar to any business major\n",
    "* Significant business application\n",
    "\n",
    "$$\n",
    "\\begin{align*}\n",
    "\\min & \\quad \\sum_{i=1}^n \\frac{h x_i}{2} + \\frac{c_i d_i}{x_i} \\\\\n",
    "\\\\\n",
    "\\text{s.t.} & \\quad \\sum_{i=1}^n b_i x_i  \\leq b_0 \\\\\n",
    "& l_i \\leq x_i \\leq u_i & \\forall i\\in 1, \\dots, n\n",
    "\\\\\n",
    "\\end{align*}\n",
    "$$\n"
   ]
  },
  {
   "cell_type": "code",
   "execution_count": null,
   "id": "fe69769e-0c14-4cd5-8c02-0ec12bbbb562",
   "metadata": {},
   "outputs": [],
   "source": []
  }
 ],
 "metadata": {
  "kernelspec": {
   "display_name": "Python 3 (ipykernel)",
   "language": "python",
   "name": "python3"
  },
  "language_info": {
   "codemirror_mode": {
    "name": "ipython",
    "version": 3
   },
   "file_extension": ".py",
   "mimetype": "text/x-python",
   "name": "python",
   "nbconvert_exporter": "python",
   "pygments_lexer": "ipython3",
   "version": "3.9.7"
  }
 },
 "nbformat": 4,
 "nbformat_minor": 5
}
