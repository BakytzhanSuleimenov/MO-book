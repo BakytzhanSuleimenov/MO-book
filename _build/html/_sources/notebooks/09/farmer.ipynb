{
 "cells": [
  {
   "cell_type": "code",
   "execution_count": 1,
   "id": "9720e9d1",
   "metadata": {
    "ExecuteTime": {
     "end_time": "2022-09-30T21:49:20.540447Z",
     "start_time": "2022-09-30T21:49:20.292334Z"
    }
   },
   "outputs": [
    {
     "name": "stdout",
     "output_type": "stream",
     "text": [
      "pyomo was previously installed\n",
      "glpk was previously installed\n",
      "cbc was previously installed\n",
      "ipopt was previously installed\n"
     ]
    },
    {
     "data": {
      "text/plain": [
       "True"
      ]
     },
     "execution_count": 1,
     "metadata": {},
     "output_type": "execute_result"
    }
   ],
   "source": [
    "# install Pyomo and solvers\n",
    "import requests\n",
    "import types\n",
    "\n",
    "url = \"https://raw.githubusercontent.com/jckantor/MO-book/main/python/helper.py\"\n",
    "helper = types.ModuleType(\"helper\")\n",
    "exec(requests.get(url).content, helper.__dict__)\n",
    "\n",
    "helper.install_pyomo()\n",
    "helper.install_glpk()\n",
    "helper.install_cbc()\n",
    "helper.install_ipopt()"
   ]
  },
  {
   "cell_type": "code",
   "execution_count": 2,
   "id": "330cd1f1",
   "metadata": {
    "ExecuteTime": {
     "end_time": "2022-09-30T21:49:22.291926Z",
     "start_time": "2022-09-30T21:49:20.543823Z"
    }
   },
   "outputs": [],
   "source": [
    "%matplotlib inline\n",
    "import pyomo.environ as pyo\n",
    "import numpy as np\n",
    "import pandas as pd\n",
    "import seaborn as sns\n",
    "import matplotlib.pyplot as plt\n",
    "import math\n",
    "import logging\n",
    "from IPython.display import Markdown\n",
    "\n",
    "cbc_solver = pyo.SolverFactory('cbc')\n",
    "glpk_solver = pyo.SolverFactory('glpk')\n",
    "ipopt_solver = pyo.SolverFactory('ipopt')"
   ]
  },
  {
   "cell_type": "markdown",
   "id": "61adb45d",
   "metadata": {
    "ExecuteTime": {
     "end_time": "2022-09-30T21:49:22.516232Z",
     "start_time": "2022-09-30T21:49:22.430418Z"
    }
   },
   "source": [
    "# Exercise 1: Farmer's problem and some of its variants\n",
    "\n",
    "In the farmer's problem (please refer to the lecture notes or slides for a full description of the problem), a farmer has to allocate $500$ acres of land to three different types of crop aiming to maximize her profit. \n",
    "\n",
    "Recall that:\n",
    "\n",
    "*   Planting one acre of wheat, corn and beet costs 150, 230 and 260 euro, respectively.\n",
    "\n",
    "*   At least 200 tons of wheat and 240 tons of corn are needed for cattle feed, which can be purchased from a wholesaler if not harvested by her farm.\n",
    "\n",
    "*   Up to 6000 tons of sugar beets can be sold for 36 euro per ton, while any additional amounts can be sold for 10 euro per ton.\n",
    "\n",
    "*   Any wheat or corn not used for the cattle can be sold at 170 euro and 150 euro per ton of wheat and corn, respectively. The wholesaler sells the wheat or corn at a higher price, namely 238 euro and 210 euro per ton, respectively.\n",
    "\n",
    "In her decision, the farmer considers three weather scenarios, each one having a different yield in tons/acre per crop type as summarized by the following table.\n",
    "\n",
    "| Scenario | Yield for weath | Yield for corn | Yield for beets |\n",
    "| :-: | :-: | :-: | :-: |\n",
    "| Good weather | 3 | 3.6 | 24 |\n",
    "| Average weather | 2.5 | 3 | 20 |\n",
    "| Bad weather | 2 | 2.4 | 16 |\n",
    "\n",
    "We first consider the case in which all the prices are fixed and not weather-dependent. The following table summarizes them (unit=euro/ton)\n",
    "\n",
    "| Selling price for weath | Selling price for corn | Purchasing price for weath | Purchasing price for corn | Selling price for beets ($\\leq 6000$) | Selling price for beets ($> 6000$) |\n",
    "| :-: | :-: | :-: | :-: | :-: | :-: |\n",
    "| 170 | 150 | 238 | 210 | 36 | 10 |\n",
    "\n",
    "(a) Implement the extensive form of stochastic LP corresponding to the farmer's problem in Pyomo and solve it."
   ]
  },
  {
   "cell_type": "code",
   "execution_count": 3,
   "id": "4fdff730",
   "metadata": {
    "ExecuteTime": {
     "end_time": "2022-09-30T21:49:22.516232Z",
     "start_time": "2022-09-30T21:49:22.430418Z"
    }
   },
   "outputs": [
    {
     "data": {
      "text/markdown": [
       "**Solver status:** *ok, optimal*"
      ],
      "text/plain": [
       "<IPython.core.display.Markdown object>"
      ]
     },
     "metadata": {},
     "output_type": "display_data"
    },
    {
     "data": {
      "text/markdown": [
       "**Solution:**"
      ],
      "text/plain": [
       "<IPython.core.display.Markdown object>"
      ]
     },
     "metadata": {},
     "output_type": "display_data"
    },
    {
     "data": {
      "text/markdown": [
       "(land allocation) $x_1 = 170.0$, $x_2 = 80.0$, $x_3 = 250.0$"
      ],
      "text/plain": [
       "<IPython.core.display.Markdown object>"
      ]
     },
     "metadata": {},
     "output_type": "display_data"
    },
    {
     "data": {
      "text/markdown": [
       "(recourse sell action high yield) $w_1 = 310.0$, $w_2 = 48.0$, $w_3 = 6000.0$, $w_4 = 0.0$"
      ],
      "text/plain": [
       "<IPython.core.display.Markdown object>"
      ]
     },
     "metadata": {},
     "output_type": "display_data"
    },
    {
     "data": {
      "text/markdown": [
       "(recourse purchase action high yield) $y_1 = 0.0$, $y_2 = 0.0$, $y_3 = 0.0$"
      ],
      "text/plain": [
       "<IPython.core.display.Markdown object>"
      ]
     },
     "metadata": {},
     "output_type": "display_data"
    },
    {
     "data": {
      "text/markdown": [
       "(recourse sell action medium yield) $w_1 = 225.0$, $w_2 = 0.0$, $w_3 = 5000.0$, $w_4 = 0.0$"
      ],
      "text/plain": [
       "<IPython.core.display.Markdown object>"
      ]
     },
     "metadata": {},
     "output_type": "display_data"
    },
    {
     "data": {
      "text/markdown": [
       "(recourse purchase action medium yield) $y_1 = 0.0$, $y_2 = 0.0$, $y_3 = 0.0$"
      ],
      "text/plain": [
       "<IPython.core.display.Markdown object>"
      ]
     },
     "metadata": {},
     "output_type": "display_data"
    },
    {
     "data": {
      "text/markdown": [
       "(recourse sell action low yield) $w_1 = 140.0$, $w_2 = 0.0$, $w_3 = 4000.0$, $w_4 = 0.0$"
      ],
      "text/plain": [
       "<IPython.core.display.Markdown object>"
      ]
     },
     "metadata": {},
     "output_type": "display_data"
    },
    {
     "data": {
      "text/markdown": [
       "(recourse purchase action low yield) $y_1 = 0.0$, $y_2 = 48.0$, $y_3 = 0.0$"
      ],
      "text/plain": [
       "<IPython.core.display.Markdown object>"
      ]
     },
     "metadata": {},
     "output_type": "display_data"
    },
    {
     "data": {
      "text/markdown": [
       "**Maximizes objective value to:** $108390$€"
      ],
      "text/plain": [
       "<IPython.core.display.Markdown object>"
      ]
     },
     "metadata": {},
     "output_type": "display_data"
    }
   ],
   "source": [
    "model = pyo.ConcreteModel()\n",
    "\n",
    "model.crops = pyo.Set(initialize=['W', 'C', 'S'])\n",
    "model.totalacres = 500\n",
    "model.factor_H = 1.2 # to obtain the yields in the good weather (high yield) case by multiplying the average ones\n",
    "model.factor_L = 0.8 # to obtain the yields in the bad weather (low yield) case by multiplying the average ones\n",
    "\n",
    "# first stage variables\n",
    "model.plant = pyo.Var(model.crops, within=pyo.NonNegativeReals) \n",
    "\n",
    "# first stage constraint\n",
    "model.total_acres = pyo.Constraint(expr=pyo.summation(model.plant) <= model.totalacres)\n",
    "\n",
    "model.scenarios = pyo.Set(initialize=['H', 'M', 'L'])  # high, medium, and low yield scenarios\n",
    "\n",
    "# second stage variables (labelled as H,M,L depending on the scenario)\n",
    "# the sell_extra variables refer to the amount of beets to be sold beyond the 6000 threshold, if any\n",
    "\n",
    "model.sell_H = pyo.Var(model.crops, within=pyo.NonNegativeReals)\n",
    "model.buy_H = pyo.Var(model.crops, within=pyo.NonNegativeReals)\n",
    "model.sell_extra_H = pyo.Var(within=pyo.NonNegativeReals) \n",
    "\n",
    "model.sell_M = pyo.Var(model.crops, within=pyo.NonNegativeReals)\n",
    "model.buy_M = pyo.Var(model.crops, within=pyo.NonNegativeReals)\n",
    "model.sell_extra_M = pyo.Var(within=pyo.NonNegativeReals)\n",
    "\n",
    "model.sell_L = pyo.Var(model.crops, within=pyo.NonNegativeReals)\n",
    "model.buy_L = pyo.Var(model.crops, within=pyo.NonNegativeReals)\n",
    "model.sell_extra_L = pyo.Var(within=pyo.NonNegativeReals)\n",
    "\n",
    "# second stage constraints\n",
    "model.feed_cattle_W_H = pyo.Constraint(expr=model.plant['W'] * 2.5 * model.factor_H - model.sell_H['W'] + model.buy_H['W'] >= 200)\n",
    "model.feed_cattle_C_H = pyo.Constraint(expr=model.plant['C'] * 3 * model.factor_H - model.sell_H['C'] + model.buy_H['C'] >= 240)\n",
    "model.sell_S_extra_H = pyo.Constraint(expr=model.plant['S'] * 20 * model.factor_H >= model.sell_H['S'] + model.sell_extra_H)\n",
    "model.sell_S_H = pyo.Constraint(expr=model.sell_H['S'] <= 6000)\n",
    "model.nobuy_H = pyo.Constraint(expr=model.buy_H['S'] == 0)\n",
    "\n",
    "model.feed_cattle_W_M = pyo.Constraint(expr=model.plant['W'] * 2.5 - model.sell_M['W'] + model.buy_M['W'] >= 200)\n",
    "model.feed_cattle_C_M = pyo.Constraint(expr=model.plant['C'] * 3 - model.sell_M['C'] + model.buy_M['C'] >= 240)\n",
    "model.sell_S_extra_M = pyo.Constraint(expr=model.plant['S'] * 20 >= model.sell_M['S'] + model.sell_extra_M)\n",
    "model.sell_S_M = pyo.Constraint(expr=model.sell_M['S'] <= 6000)\n",
    "model.nobuy_M = pyo.Constraint(expr=model.buy_M['S'] == 0)\n",
    "\n",
    "model.feed_cattle_W_L = pyo.Constraint(expr=model.plant['W'] * 2.5 * model.factor_L - model.sell_L['W'] + model.buy_L['W'] >= 200)\n",
    "model.feed_cattle_C_L = pyo.Constraint(expr=model.plant['C'] * 3 * model.factor_L - model.sell_L['C'] + model.buy_L['C'] >= 240)\n",
    "model.sell_S_extra_L = pyo.Constraint(expr=model.plant['S'] * 20 * model.factor_L >= model.sell_L['S'] + model.sell_extra_L)\n",
    "model.sell_S_L = pyo.Constraint(expr=model.sell_L['S'] <= 6000)\n",
    "model.nobuy_L = pyo.Constraint(expr=model.buy_L['S'] == 0)\n",
    "\n",
    "def first_stage_profit(model):\n",
    "    return -model.plant[\"W\"] * 150 - model.plant[\"C\"] * 230 - model.plant[\"S\"] * 260\n",
    "\n",
    "model.first_stage_profit = pyo.Expression(rule=first_stage_profit)\n",
    "\n",
    "def second_stage_profit(model):\n",
    "    total_H = -model.buy_H['W'] * 238 - model.buy_H['C'] * 210 + 36 * model.sell_H['S'] + 10 * model.sell_extra_H + model.sell_H['W'] * 170 + model.sell_H['C'] * 150\n",
    "    total_M = -model.buy_M['W'] * 238 - model.buy_M['C'] * 210 + 36 * model.sell_M['S'] + 10 * model.sell_extra_M + model.sell_M['W'] * 170 + model.sell_M['C'] * 150\n",
    "    total_L = -model.buy_L['W'] * 238 - model.buy_L['C'] * 210 + 36 * model.sell_L['S'] + 10 * model.sell_extra_L + model.sell_L['W'] * 170 + model.sell_L['C'] * 150\n",
    "    return (total_H + total_M + total_L)/3.0\n",
    "\n",
    "model.second_stage_profit = pyo.Expression(rule=second_stage_profit)\n",
    "\n",
    "def total_profit(model):\n",
    "    return model.first_stage_profit + model.second_stage_profit\n",
    "\n",
    "model.total_expected_profit = pyo.Objective(rule=total_profit, sense=pyo.maximize)\n",
    "\n",
    "result = cbc_solver.solve(model)\n",
    "display(Markdown(f\"**Solver status:** *{result.solver.status}, {result.solver.termination_condition}*\"))\n",
    "display(Markdown(f\"**Solution:**\"))\n",
    "display(Markdown(f\"(land allocation) $x_1 = {model.plant['W'].value:.1f}$, $x_2 = {model.plant['C'].value:.1f}$, $x_3 = {model.plant['S'].value:.1f}$\"))\n",
    "display(Markdown(f\"(recourse sell action high yield) $w_1 = {model.sell_H['W'].value:.1f}$, $w_2 = {model.sell_H['C'].value:.1f}$, $w_3 = {model.sell_H['S'].value:.1f}$, $w_4 = {model.sell_extra_H.value:.1f}$\"))\n",
    "display(Markdown(f\"(recourse purchase action high yield) $y_1 = {model.buy_H['W'].value:.1f}$, $y_2 = {model.buy_H['C'].value:.1f}$, $y_3 = {model.buy_H['S'].value:.1f}$\"))\n",
    "display(Markdown(f\"(recourse sell action medium yield) $w_1 = {model.sell_M['W'].value:.1f}$, $w_2 = {model.sell_M['C'].value:.1f}$, $w_3 = {model.sell_M['S'].value:.1f}$, $w_4 = {model.sell_extra_M.value:.1f}$\"))\n",
    "display(Markdown(f\"(recourse purchase action medium yield) $y_1 = {model.buy_M['W'].value:.1f}$, $y_2 = {model.buy_M['C'].value:.1f}$, $y_3 = {model.buy_M['S'].value:.1f}$\"))\n",
    "display(Markdown(f\"(recourse sell action low yield) $w_1 = {model.sell_L['W'].value:.1f}$, $w_2 = {model.sell_L['C'].value:.1f}$, $w_3 = {model.sell_L['S'].value:.1f}$, $w_4 = {model.sell_extra_L.value:.1f}$\"))\n",
    "display(Markdown(f\"(recourse purchase action low yield) $y_1 = {model.buy_L['W'].value:.1f}$, $y_2 = {model.buy_L['C'].value:.1f}$, $y_3 = {model.buy_L['S'].value:.1f}$\"))\n",
    "display(Markdown(f\"**Maximizes objective value to:** ${model.total_expected_profit():.0f}$€\"))"
   ]
  },
  {
   "cell_type": "markdown",
   "id": "186b7cfe",
   "metadata": {
    "ExecuteTime": {
     "end_time": "2022-09-30T21:49:22.516232Z",
     "start_time": "2022-09-30T21:49:22.430418Z"
    }
   },
   "source": [
    "Please note a second way to create this model which makes use of `pyomo` `blocks`. For an explanation of `blocks` refer to chapter 8 of the `pyomo` book that you may [download](https://vu.on.worldcat.org/oclc/988749903) from the VU library.\n",
    "\n",
    "We leave as an exercise to redo the rest of the questions using `blocks` and see how that may help.\n",
    "\n",
    "Note that for b) you will need to provide prices as parameters to the blocks. \n",
    "Note as well that is the resolution below already had done that, instead of typing the prices as numerical constants, then the changes would have been immediate. "
   ]
  },
  {
   "cell_type": "code",
   "execution_count": 4,
   "id": "1b4b65b8",
   "metadata": {
    "ExecuteTime": {
     "end_time": "2022-09-30T21:49:22.516232Z",
     "start_time": "2022-09-30T21:49:22.430418Z"
    }
   },
   "outputs": [
    {
     "data": {
      "text/markdown": [
       "**Solver status:** *ok, optimal*"
      ],
      "text/plain": [
       "<IPython.core.display.Markdown object>"
      ]
     },
     "metadata": {},
     "output_type": "display_data"
    },
    {
     "data": {
      "text/markdown": [
       "**Solution:**"
      ],
      "text/plain": [
       "<IPython.core.display.Markdown object>"
      ]
     },
     "metadata": {},
     "output_type": "display_data"
    },
    {
     "data": {
      "text/markdown": [
       "(land allocation) $x_1 = 170.0$, $x_2 = 80.0$, $x_3 = 250.0$"
      ],
      "text/plain": [
       "<IPython.core.display.Markdown object>"
      ]
     },
     "metadata": {},
     "output_type": "display_data"
    },
    {
     "data": {
      "text/markdown": [
       "(recourse sell action high yield) $w_1 = 310.0$, $w_2 = 48.0$, $w_3 = 6000.0$, $w_4 = 0.0$"
      ],
      "text/plain": [
       "<IPython.core.display.Markdown object>"
      ]
     },
     "metadata": {},
     "output_type": "display_data"
    },
    {
     "data": {
      "text/markdown": [
       "(recourse purchase action high yield) $y_1 = 0.0$, $y_2 = 0.0$, $y_3 = 0.0$"
      ],
      "text/plain": [
       "<IPython.core.display.Markdown object>"
      ]
     },
     "metadata": {},
     "output_type": "display_data"
    },
    {
     "data": {
      "text/markdown": [
       "(recourse sell action medium yield) $w_1 = 225.0$, $w_2 = 0.0$, $w_3 = 5000.0$, $w_4 = 0.0$"
      ],
      "text/plain": [
       "<IPython.core.display.Markdown object>"
      ]
     },
     "metadata": {},
     "output_type": "display_data"
    },
    {
     "data": {
      "text/markdown": [
       "(recourse purchase action medium yield) $y_1 = 0.0$, $y_2 = 0.0$, $y_3 = 0.0$"
      ],
      "text/plain": [
       "<IPython.core.display.Markdown object>"
      ]
     },
     "metadata": {},
     "output_type": "display_data"
    },
    {
     "data": {
      "text/markdown": [
       "(recourse sell action low yield) $w_1 = 140.0$, $w_2 = 0.0$, $w_3 = 4000.0$, $w_4 = 0.0$"
      ],
      "text/plain": [
       "<IPython.core.display.Markdown object>"
      ]
     },
     "metadata": {},
     "output_type": "display_data"
    },
    {
     "data": {
      "text/markdown": [
       "(recourse purchase action low yield) $y_1 = 0.0$, $y_2 = 48.0$, $y_3 = 0.0$"
      ],
      "text/plain": [
       "<IPython.core.display.Markdown object>"
      ]
     },
     "metadata": {},
     "output_type": "display_data"
    },
    {
     "data": {
      "text/markdown": [
       "**Maximizes objective value to:** $108390$€"
      ],
      "text/plain": [
       "<IPython.core.display.Markdown object>"
      ]
     },
     "metadata": {},
     "output_type": "display_data"
    }
   ],
   "source": [
    "m = pyo.ConcreteModel()\n",
    "\n",
    "m.crops = pyo.Set(initialize=['W', 'C', 'S'])\n",
    "m.totalacres = 500\n",
    "\n",
    "# first stage variables\n",
    "m.plant = pyo.Var(m.crops, within=pyo.NonNegativeReals) \n",
    "\n",
    "# first stage constraint\n",
    "m.total_acres = pyo.Constraint(expr=pyo.summation(m.plant) <= m.totalacres)\n",
    "\n",
    "m.scenarios = pyo.Set(initialize=['H', 'M', 'L'])  # high, medium, and low yield scenarios\n",
    "\n",
    "# this could be a dataframe, or any other data source\n",
    "nominal_yields = { 'W' : 2.5, 'C' :   3, 'S' : 20 }\n",
    "factor_yields  = { 'M' : 1, 'H' : 1.2, 'L' : 0.8 }\n",
    "m.yields = { s : { c : nominal_yields[c]*factor_yields[s] for c in m.crops } for s in m.scenarios }\n",
    "\n",
    "def scenario_block(b,s):\n",
    "  b.yields     = pyo.Param(m.crops,initialize=m.yields[s])\n",
    "  b.sell       = pyo.Var(m.crops, within=pyo.NonNegativeReals)\n",
    "  b.buy        = pyo.Var(m.crops, within=pyo.NonNegativeReals)\n",
    "  b.sell_extra = pyo.Var(within=pyo.NonNegativeReals) \n",
    "  b.sell_S     = pyo.Constraint(expr=b.sell['S'] <= 6000)\n",
    "  b.nobuy      = pyo.Constraint(expr=b.buy['S'] == 0)\n",
    "  b.profit     = pyo.Expression(expr= -238*b.buy['W'] -210*b.buy['C'] +36*b.sell['S'] + 10*b.sell_extra + 170*b.sell['W'] + 150*b.sell['C'])\n",
    "\n",
    "m.scenario = pyo.Block( m.scenarios, rule=scenario_block)\n",
    "\n",
    "# second stage (linking) constraints\n",
    "m.feed_cattle_W = pyo.Constraint(m.scenarios, rule = lambda m, s : m.plant['W'] * m.scenario[s].yields['W'] - m.scenario[s].sell['W'] + m.scenario[s].buy['W'] >= 200)\n",
    "m.feed_cattle_C = pyo.Constraint(m.scenarios, rule = lambda m, s : m.plant['C'] * m.scenario[s].yields['C'] - m.scenario[s].sell['C'] + m.scenario[s].buy['C'] >= 240)\n",
    "m.sell_S_extra  = pyo.Constraint(m.scenarios, rule = lambda m, s : m.plant['S'] * m.scenario[s].yields['S'] >= m.scenario[s].sell['S'] + m.scenario[s].sell_extra )\n",
    "\n",
    "m.first_stage_profit = pyo.Expression( expr = -150*m.plant[\"W\"] -230*m.plant[\"C\"] -260*m.plant[\"S\"] )\n",
    "m.total_expected_profit = pyo.Objective( rule = lambda m : m.first_stage_profit + sum(m.scenario[s].profit for s in m.scenarios)/3, sense=pyo.maximize )\n",
    "\n",
    "result = cbc_solver.solve(m)\n",
    "display(Markdown(f\"**Solver status:** *{result.solver.status}, {result.solver.termination_condition}*\"))\n",
    "display(Markdown(f\"**Solution:**\"))\n",
    "display(Markdown(f\"(land allocation) $x_1 = {m.plant['W'].value:.1f}$, $x_2 = {m.plant['C'].value:.1f}$, $x_3 = {m.plant['S'].value:.1f}$\"))\n",
    "spellout = { 'H' : 'high', 'M' : 'medium', 'L' : 'low' }\n",
    "for s in m.scenarios:\n",
    "  display(Markdown(f\"(recourse sell action {spellout[s]} yield) $w_1 = {m.scenario[s].sell['W'].value:.1f}$, $w_2 = {m.scenario[s].sell['C'].value:.1f}$, $w_3 = {m.scenario[s].sell['S'].value:.1f}$, $w_4 = {m.scenario[s].sell_extra.value:.1f}$\"))\n",
    "  display(Markdown(f\"(recourse purchase action {spellout[s]} yield) $y_1 = {m.scenario[s].buy['W'].value:.1f}$, $y_2 = {m.scenario[s].buy['C'].value:.1f}$, $y_3 = {m.scenario[s].buy['S'].value:.1f}$\"))\n",
    "display(Markdown(f\"**Maximizes objective value to:** ${m.total_expected_profit.expr():.0f}$€\"))"
   ]
  },
  {
   "cell_type": "markdown",
   "id": "09132ebd",
   "metadata": {
    "ExecuteTime": {
     "end_time": "2022-09-30T21:49:22.516232Z",
     "start_time": "2022-09-30T21:49:22.430418Z"
    }
   },
   "source": [
    "If the weather is good and yields are high for the farmer, they are probably so also for many other farmers. The total supply is thus increasing, which will lower the prices. Assume the prices going down by 10% for corn and wheat when the weather is good and going up by 10% when the weather is bad. These changes in prices affect both sales and purchases of corn and wheat, but sugar beet prices are not affected by yields. The following table summarizes the scenario-dependent prices:\n",
    "\n",
    "| Scenario | Selling price for weath | Selling price for corn | Purchasing price for weath | Purchasing price for corn | \n",
    "| :-: | :-: | :-: | :-: | :-: |\n",
    "| Good weather | 153| 135| 214| 189|\n",
    "| Average weather | 170 | 150 | 238 | 210 |\n",
    "| Bad weather |187| 165| 262| 231|\n",
    "\n",
    "(b) Implement the extensive form of stochastic LP corresponding to the farmer's problem in Pyomo that accounts also for the price changes and solve it.\n",
    "\n"
   ]
  },
  {
   "cell_type": "code",
   "execution_count": 5,
   "id": "4df373e1",
   "metadata": {
    "ExecuteTime": {
     "end_time": "2022-09-30T21:49:22.615096Z",
     "start_time": "2022-09-30T21:49:22.525989Z"
    }
   },
   "outputs": [
    {
     "data": {
      "text/markdown": [
       "**Solver status:** *ok, optimal*"
      ],
      "text/plain": [
       "<IPython.core.display.Markdown object>"
      ]
     },
     "metadata": {},
     "output_type": "display_data"
    },
    {
     "data": {
      "text/markdown": [
       "**Solution:**"
      ],
      "text/plain": [
       "<IPython.core.display.Markdown object>"
      ]
     },
     "metadata": {},
     "output_type": "display_data"
    },
    {
     "data": {
      "text/markdown": [
       "(land allocation) $x_1 = 170.0$, $x_2 = 80.0$, $x_3 = 250.0$"
      ],
      "text/plain": [
       "<IPython.core.display.Markdown object>"
      ]
     },
     "metadata": {},
     "output_type": "display_data"
    },
    {
     "data": {
      "text/markdown": [
       "(recourse sell action high yield) $w_1 = 310.0$, $w_2 = 48.0$, $w_3 = 6000.0$, $w_4 = 0.0$"
      ],
      "text/plain": [
       "<IPython.core.display.Markdown object>"
      ]
     },
     "metadata": {},
     "output_type": "display_data"
    },
    {
     "data": {
      "text/markdown": [
       "(recourse purchase action high yield) $y_1 = 0.0$, $y_2 = 0.0$, $y_3 = 0.0$"
      ],
      "text/plain": [
       "<IPython.core.display.Markdown object>"
      ]
     },
     "metadata": {},
     "output_type": "display_data"
    },
    {
     "data": {
      "text/markdown": [
       "(recourse sell action medium yield) $w_1 = 225.0$, $w_2 = 0.0$, $w_3 = 5000.0$, $w_4 = 0.0$"
      ],
      "text/plain": [
       "<IPython.core.display.Markdown object>"
      ]
     },
     "metadata": {},
     "output_type": "display_data"
    },
    {
     "data": {
      "text/markdown": [
       "(recourse purchase action medium yield) $y_1 = 0.0$, $y_2 = 0.0$, $y_3 = 0.0$"
      ],
      "text/plain": [
       "<IPython.core.display.Markdown object>"
      ]
     },
     "metadata": {},
     "output_type": "display_data"
    },
    {
     "data": {
      "text/markdown": [
       "(recourse sell action low yield) $w_1 = 140.0$, $w_2 = 0.0$, $w_3 = 4000.0$, $w_4 = 0.0$"
      ],
      "text/plain": [
       "<IPython.core.display.Markdown object>"
      ]
     },
     "metadata": {},
     "output_type": "display_data"
    },
    {
     "data": {
      "text/markdown": [
       "(recourse purchase action low yield) $y_1 = 0.0$, $y_2 = 48.0$, $y_3 = 0.0$"
      ],
      "text/plain": [
       "<IPython.core.display.Markdown object>"
      ]
     },
     "metadata": {},
     "output_type": "display_data"
    },
    {
     "data": {
      "text/markdown": [
       "**Maximizes objective value to:** $106851$€"
      ],
      "text/plain": [
       "<IPython.core.display.Markdown object>"
      ]
     },
     "metadata": {},
     "output_type": "display_data"
    }
   ],
   "source": [
    "model = pyo.ConcreteModel()\n",
    "\n",
    "model.crops = pyo.Set(initialize=['W', 'C', 'S'])\n",
    "model.totalacres = 500\n",
    "model.factor_H = 1.2 # to obtain the yields in the good weather (high yield) case by multiplying the average ones\n",
    "model.factor_L = 0.8 # to obtain the yields in the bad weather (low yield) case by multiplying the average ones\n",
    "model.pricefactor_H = 0.9 # to obtain the prices in the good weather (high yield) case by multiplying the average ones\n",
    "model.pricefactor_L = 1.1 # to obtain the prices in the bad weather (low yield) case by multiplying the average ones\n",
    "\n",
    "# first stage variables\n",
    "model.plant = pyo.Var(model.crops, within=pyo.NonNegativeReals) \n",
    "\n",
    "# first stage constraint\n",
    "model.total_acres = pyo.Constraint(expr=pyo.summation(model.plant) <= model.totalacres)\n",
    "\n",
    "model.scenarios = pyo.Set(initialize=['H', 'M', 'L'])  # high, medium, and low yield scenarios\n",
    "\n",
    "# second stage variables (labelled as H,M,L depending on the scenario)\n",
    "# the sell_extra variables refer to the amount of beets to be sold beyond the 6000 threshold, if any\n",
    "\n",
    "model.sell_H = pyo.Var(model.crops, within=pyo.NonNegativeReals)\n",
    "model.buy_H = pyo.Var(model.crops, within=pyo.NonNegativeReals)\n",
    "model.sell_extra_H = pyo.Var(within=pyo.NonNegativeReals) \n",
    "\n",
    "model.sell_M = pyo.Var(model.crops, within=pyo.NonNegativeReals)\n",
    "model.buy_M = pyo.Var(model.crops, within=pyo.NonNegativeReals)\n",
    "model.sell_extra_M = pyo.Var(within=pyo.NonNegativeReals)\n",
    "\n",
    "model.sell_L = pyo.Var(model.crops, within=pyo.NonNegativeReals)\n",
    "model.buy_L = pyo.Var(model.crops, within=pyo.NonNegativeReals)\n",
    "model.sell_extra_L = pyo.Var(within=pyo.NonNegativeReals)\n",
    "\n",
    "# second stage constraints\n",
    "model.feed_cattle_W_H = pyo.Constraint(expr=model.plant['W'] * 2.5 * model.factor_H - model.sell_H['W'] + model.buy_H['W'] >= 200)\n",
    "model.feed_cattle_C_H = pyo.Constraint(expr=model.plant['C'] * 3 * model.factor_H - model.sell_H['C'] + model.buy_H['C'] >= 240)\n",
    "model.sell_S_extra_H = pyo.Constraint(expr=model.plant['S'] * 20 * model.factor_H >= model.sell_H['S'] + model.sell_extra_H)\n",
    "model.sell_S_H = pyo.Constraint(expr=model.sell_H['S'] <= 6000)\n",
    "model.nobuy_H = pyo.Constraint(expr=model.buy_H['S'] == 0)\n",
    "\n",
    "model.feed_cattle_W_M = pyo.Constraint(expr=model.plant['W'] * 2.5 - model.sell_M['W'] + model.buy_M['W'] >= 200)\n",
    "model.feed_cattle_C_M = pyo.Constraint(expr=model.plant['C'] * 3 - model.sell_M['C'] + model.buy_M['C'] >= 240)\n",
    "model.sell_S_extra_M = pyo.Constraint(expr=model.plant['S'] * 20 >= model.sell_M['S'] + model.sell_extra_M)\n",
    "model.sell_S_M = pyo.Constraint(expr=model.sell_M['S'] <= 6000)\n",
    "model.nobuy_M = pyo.Constraint(expr=model.buy_M['S'] == 0)\n",
    "\n",
    "model.feed_cattle_W_L = pyo.Constraint(expr=model.plant['W'] * 2.5 * model.factor_L - model.sell_L['W'] + model.buy_L['W'] >= 200)\n",
    "model.feed_cattle_C_L = pyo.Constraint(expr=model.plant['C'] * 3 * model.factor_L - model.sell_L['C'] + model.buy_L['C'] >= 240)\n",
    "model.sell_S_extra_L = pyo.Constraint(expr=model.plant['S'] * 20 * model.factor_L >= model.sell_L['S'] + model.sell_extra_L)\n",
    "model.sell_S_L = pyo.Constraint(expr=model.sell_L['S'] <= 6000)\n",
    "model.nobuy_L = pyo.Constraint(expr=model.buy_L['S'] == 0)\n",
    "\n",
    "def first_stage_profit(model):\n",
    "    return -model.plant[\"W\"] * 150 - model.plant[\"C\"] * 230 - model.plant[\"S\"] * 260\n",
    "\n",
    "model.first_stage_profit = pyo.Expression(rule=first_stage_profit)\n",
    "\n",
    "def second_stage_profit(model):\n",
    "    total_H = -model.buy_H['W'] * 238 * model.pricefactor_H - model.buy_H['C'] * 210 * model.pricefactor_H + 36 * model.sell_H['S'] + 10 * model.sell_extra_H + model.sell_H['W'] * 170 * model.pricefactor_H + model.sell_H['C'] * 150 * model.pricefactor_H\n",
    "    total_M = -model.buy_M['W'] * 238 - model.buy_M['C'] * 210 + 36 * model.sell_M['S'] + 10 * model.sell_extra_M + model.sell_M['W'] * 170 + model.sell_M['C'] * 150\n",
    "    total_L = -model.buy_L['W'] * 238 * model.pricefactor_L - model.buy_L['C'] * 210 * model.pricefactor_L + 36 * model.sell_L['S'] + 10 * model.sell_extra_L + model.sell_L['W'] * 170 * model.pricefactor_L + model.sell_L['C'] * 150 * model.pricefactor_L\n",
    "    return (total_H + total_M + total_L)/3.0\n",
    "\n",
    "model.second_stage_profit = pyo.Expression(rule=second_stage_profit)\n",
    "\n",
    "def total_profit(model):\n",
    "    return model.first_stage_profit + model.second_stage_profit\n",
    "\n",
    "model.total_expected_profit = pyo.Objective(rule=total_profit, sense=pyo.maximize)\n",
    "\n",
    "result = cbc_solver.solve(model)\n",
    "display(Markdown(f\"**Solver status:** *{result.solver.status}, {result.solver.termination_condition}*\"))\n",
    "display(Markdown(f\"**Solution:**\"))\n",
    "display(Markdown(f\"(land allocation) $x_1 = {model.plant['W'].value:.1f}$, $x_2 = {model.plant['C'].value:.1f}$, $x_3 = {model.plant['S'].value:.1f}$\"))\n",
    "display(Markdown(f\"(recourse sell action high yield) $w_1 = {model.sell_H['W'].value:.1f}$, $w_2 = {model.sell_H['C'].value:.1f}$, $w_3 = {model.sell_H['S'].value:.1f}$, $w_4 = {model.sell_extra_H.value:.1f}$\"))\n",
    "display(Markdown(f\"(recourse purchase action high yield) $y_1 = {model.buy_H['W'].value:.1f}$, $y_2 = {model.buy_H['C'].value:.1f}$, $y_3 = {model.buy_H['S'].value:.1f}$\"))\n",
    "display(Markdown(f\"(recourse sell action medium yield) $w_1 = {model.sell_M['W'].value:.1f}$, $w_2 = {model.sell_M['C'].value:.1f}$, $w_3 = {model.sell_M['S'].value:.1f}$, $w_4 = {model.sell_extra_M.value:.1f}$\"))\n",
    "display(Markdown(f\"(recourse purchase action medium yield) $y_1 = {model.buy_M['W'].value:.1f}$, $y_2 = {model.buy_M['C'].value:.1f}$, $y_3 = {model.buy_M['S'].value:.1f}$\"))\n",
    "display(Markdown(f\"(recourse sell action low yield) $w_1 = {model.sell_L['W'].value:.1f}$, $w_2 = {model.sell_L['C'].value:.1f}$, $w_3 = {model.sell_L['S'].value:.1f}$, $w_4 = {model.sell_extra_L.value:.1f}$\"))\n",
    "display(Markdown(f\"(recourse purchase action low yield) $y_1 = {model.buy_L['W'].value:.1f}$, $y_2 = {model.buy_L['C'].value:.1f}$, $y_3 = {model.buy_L['S'].value:.1f}$\"))\n",
    "display(Markdown(f\"**Maximizes objective value to:** ${model.total_expected_profit():.0f}$€\"))"
   ]
  },
  {
   "cell_type": "markdown",
   "id": "9afbbc42",
   "metadata": {},
   "source": [
    "Consider again the case where prices are fixed and scenario-independent. The farmer possesses four fields of sizes $185$, $145$, $105$, and $65$ acres, respectively. (observe that the total of 500 acres is unchanged). For reasons of efficiency the farmer wants to raise only one type of crop on each fields. \n",
    "\n",
    "(c) Formulate this model as a two-stage stochastic program with a first-stage program with binary variables and solve it using once more the extensive form of the same stochastic program."
   ]
  },
  {
   "cell_type": "code",
   "execution_count": 6,
   "id": "d5a5daba",
   "metadata": {
    "ExecuteTime": {
     "end_time": "2022-09-30T21:49:22.767100Z",
     "start_time": "2022-09-30T21:49:22.621737Z"
    }
   },
   "outputs": [
    {
     "data": {
      "text/markdown": [
       "**Solver status:** *ok, optimal*"
      ],
      "text/plain": [
       "<IPython.core.display.Markdown object>"
      ]
     },
     "metadata": {},
     "output_type": "display_data"
    },
    {
     "data": {
      "text/markdown": [
       "**Solution:**"
      ],
      "text/plain": [
       "<IPython.core.display.Markdown object>"
      ]
     },
     "metadata": {},
     "output_type": "display_data"
    },
    {
     "data": {
      "text/markdown": [
       "(wheat field allocation) $[0, 1, 0, 0]$"
      ],
      "text/plain": [
       "<IPython.core.display.Markdown object>"
      ]
     },
     "metadata": {},
     "output_type": "display_data"
    },
    {
     "data": {
      "text/markdown": [
       "(corn field allocation) $[0, 0, 1, 0]$"
      ],
      "text/plain": [
       "<IPython.core.display.Markdown object>"
      ]
     },
     "metadata": {},
     "output_type": "display_data"
    },
    {
     "data": {
      "text/markdown": [
       "(beet field allocation) $[1, 0, 0, 1]$"
      ],
      "text/plain": [
       "<IPython.core.display.Markdown object>"
      ]
     },
     "metadata": {},
     "output_type": "display_data"
    },
    {
     "data": {
      "text/markdown": [
       "(land field allocation) $x_1 = 145.0$, $x_2 = 105.0$, $x_3 = 250.0$"
      ],
      "text/plain": [
       "<IPython.core.display.Markdown object>"
      ]
     },
     "metadata": {},
     "output_type": "display_data"
    },
    {
     "data": {
      "text/markdown": [
       "(recourse sell action high yield) $w_1 = 235.0$, $w_2 = 138.0$, $w_3 = 6000.0$, $w_4 = 0.0$"
      ],
      "text/plain": [
       "<IPython.core.display.Markdown object>"
      ]
     },
     "metadata": {},
     "output_type": "display_data"
    },
    {
     "data": {
      "text/markdown": [
       "(recourse purchase action high yield) $y_1 = 0.0$, $y_2 = 0.0$, $y_3 = 0.0$"
      ],
      "text/plain": [
       "<IPython.core.display.Markdown object>"
      ]
     },
     "metadata": {},
     "output_type": "display_data"
    },
    {
     "data": {
      "text/markdown": [
       "(recourse sell action medium yield) $w_1 = 162.5$, $w_2 = 75.0$, $w_3 = 5000.0$, $w_4 = 0.0$"
      ],
      "text/plain": [
       "<IPython.core.display.Markdown object>"
      ]
     },
     "metadata": {},
     "output_type": "display_data"
    },
    {
     "data": {
      "text/markdown": [
       "(recourse purchase action medium yield) $y_1 = 0.0$, $y_2 = 0.0$, $y_3 = 0.0$"
      ],
      "text/plain": [
       "<IPython.core.display.Markdown object>"
      ]
     },
     "metadata": {},
     "output_type": "display_data"
    },
    {
     "data": {
      "text/markdown": [
       "(recourse sell action low yield) $w_1 = 90.0$, $w_2 = 12.0$, $w_3 = 4000.0$, $w_4 = 0.0$"
      ],
      "text/plain": [
       "<IPython.core.display.Markdown object>"
      ]
     },
     "metadata": {},
     "output_type": "display_data"
    },
    {
     "data": {
      "text/markdown": [
       "(recourse purchase action low yield) $y_1 = 0.0$, $y_2 = 0.0$, $y_3 = 0.0$"
      ],
      "text/plain": [
       "<IPython.core.display.Markdown object>"
      ]
     },
     "metadata": {},
     "output_type": "display_data"
    },
    {
     "data": {
      "text/markdown": [
       "**Maximizes objective value to:** $107975$€"
      ],
      "text/plain": [
       "<IPython.core.display.Markdown object>"
      ]
     },
     "metadata": {},
     "output_type": "display_data"
    }
   ],
   "source": [
    "model = pyo.ConcreteModel()\n",
    "\n",
    "model.crops = pyo.Set(initialize=['W', 'C', 'S'])\n",
    "model.fields = pyo.Set(initialize=['1','2','3','4'])\n",
    "model.fieldsize = pyo.Param(model.fields, initialize={'1': 185.0, '2': 145.0, '3': 105.0, '4': 65.0}, within=pyo.NonNegativeReals)\n",
    "\n",
    "model.factor_H = 1.2 # to obtain the yields in the good weather (high yield) case by multiplying the average ones\n",
    "model.factor_L = 0.8 # to obtain the yields in the bad weather (low yield) case by multiplying the average ones\n",
    "model.pricefactor_H = 1.0 # to obtain the prices in the good weather (high yield) case by multiplying the average ones\n",
    "model.pricefactor_L = 1.0 # to obtain the prices in the bad weather (low yield) case by multiplying the average ones\n",
    "\n",
    "# first stage variables, which are now binary variables\n",
    "model.plant_W = pyo.Var(model.fields, within=pyo.Binary) \n",
    "model.plant_C = pyo.Var(model.fields, within=pyo.Binary) \n",
    "model.plant_S = pyo.Var(model.fields, within=pyo.Binary)\n",
    "\n",
    "# first stage constraint\n",
    "model.field1 = pyo.Constraint(expr=model.plant_W['1'] + model.plant_C['1'] + model.plant_S['1'] <= 1)\n",
    "model.field2 = pyo.Constraint(expr=model.plant_W['2'] + model.plant_C['2'] + model.plant_S['2'] <= 1)\n",
    "model.field3 = pyo.Constraint(expr=model.plant_W['3'] + model.plant_C['3'] + model.plant_S['3'] <= 1)\n",
    "model.field4 = pyo.Constraint(expr=model.plant_W['4'] + model.plant_C['4'] + model.plant_S['4'] <= 1)\n",
    "\n",
    "# we recalculate the total surface per type of crop\n",
    "model.totalWsurface = pyo.Expression(expr=np.sum([model.plant_W[i] * model.fieldsize[i] for i in model.fields]))\n",
    "model.totalCsurface = pyo.Expression(expr=np.sum([model.plant_C[i] * model.fieldsize[i] for i in model.fields]))\n",
    "model.totalSsurface = pyo.Expression(expr=np.sum([model.plant_S[i] * model.fieldsize[i] for i in model.fields]))\n",
    "\n",
    "model.scenarios = pyo.Set(initialize=['H', 'M', 'L'])  # high, medium, and low yield scenarios\n",
    "\n",
    "# second stage variables (labelled as H,M,L depending on the scenario)\n",
    "# the sell_extra variables refer to the amount of beets to be sold beyond the 6000 threshold, if any\n",
    "\n",
    "model.sell_H = pyo.Var(model.crops, within=pyo.NonNegativeReals)\n",
    "model.buy_H = pyo.Var(model.crops, within=pyo.NonNegativeReals)\n",
    "model.sell_extra_H = pyo.Var(within=pyo.NonNegativeReals) \n",
    "\n",
    "model.sell_M = pyo.Var(model.crops, within=pyo.NonNegativeReals)\n",
    "model.buy_M = pyo.Var(model.crops, within=pyo.NonNegativeReals)\n",
    "model.sell_extra_M = pyo.Var(within=pyo.NonNegativeReals)\n",
    "\n",
    "model.sell_L = pyo.Var(model.crops, within=pyo.NonNegativeReals)\n",
    "model.buy_L = pyo.Var(model.crops, within=pyo.NonNegativeReals)\n",
    "model.sell_extra_L = pyo.Var(within=pyo.NonNegativeReals)\n",
    "\n",
    "# second stage constraints\n",
    "model.feed_cattle_W_H = pyo.Constraint(expr=model.totalWsurface * 2.5 * model.factor_H - model.sell_H['W'] + model.buy_H['W'] >= 200)\n",
    "model.feed_cattle_C_H = pyo.Constraint(expr=model.totalCsurface * 3 * model.factor_H - model.sell_H['C'] + model.buy_H['C'] >= 240)\n",
    "model.sell_S_extra_H = pyo.Constraint(expr=model.totalSsurface * 20 * model.factor_H >= model.sell_H['S'] + model.sell_extra_H)\n",
    "model.sell_S_H = pyo.Constraint(expr=model.sell_H['S'] <= 6000)\n",
    "model.nobuy_H = pyo.Constraint(expr=model.buy_H['S'] == 0)\n",
    "\n",
    "model.feed_cattle_W_M = pyo.Constraint(expr=model.totalWsurface * 2.5 - model.sell_M['W'] + model.buy_M['W'] >= 200)\n",
    "model.feed_cattle_C_M = pyo.Constraint(expr=model.totalCsurface * 3 - model.sell_M['C'] + model.buy_M['C'] >= 240)\n",
    "model.sell_S_extra_M = pyo.Constraint(expr=model.totalSsurface * 20 >= model.sell_M['S'] + model.sell_extra_M)\n",
    "model.sell_S_M = pyo.Constraint(expr=model.sell_M['S'] <= 6000)\n",
    "model.nobuy_M = pyo.Constraint(expr=model.buy_M['S'] == 0)\n",
    "\n",
    "model.feed_cattle_W_L = pyo.Constraint(expr=model.totalWsurface * 2.5 * model.factor_L - model.sell_L['W'] + model.buy_L['W'] >= 200)\n",
    "model.feed_cattle_C_L = pyo.Constraint(expr=model.totalCsurface * 3 * model.factor_L - model.sell_L['C'] + model.buy_L['C'] >= 240)\n",
    "model.sell_S_extra_L = pyo.Constraint(expr=model.totalSsurface * 20 * model.factor_L >= model.sell_L['S'] + model.sell_extra_L)\n",
    "model.sell_S_L = pyo.Constraint(expr=model.sell_L['S'] <= 6000)\n",
    "model.nobuy_L = pyo.Constraint(expr=model.buy_L['S'] == 0)\n",
    "\n",
    "def first_stage_profit(model):\n",
    "    return -model.totalWsurface * 150 - model.totalCsurface * 230 - model.totalSsurface * 260\n",
    "\n",
    "model.first_stage_profit = pyo.Expression(rule=first_stage_profit)\n",
    "\n",
    "def second_stage_profit(model):\n",
    "    total_H = -model.buy_H['W'] * 238 * model.pricefactor_H - model.buy_H['C'] * 210 * model.pricefactor_H + 36 * model.sell_H['S'] + 10 * model.sell_extra_H + model.sell_H['W'] * 170 * model.pricefactor_H + model.sell_H['C'] * 150 * model.pricefactor_H\n",
    "    total_M = -model.buy_M['W'] * 238 - model.buy_M['C'] * 210 + 36 * model.sell_M['S'] + 10 * model.sell_extra_M + model.sell_M['W'] * 170 + model.sell_M['C'] * 150\n",
    "    total_L = -model.buy_L['W'] * 238 * model.pricefactor_L - model.buy_L['C'] * 210 * model.pricefactor_L + 36 * model.sell_L['S'] + 10 * model.sell_extra_L + model.sell_L['W'] * 170 * model.pricefactor_L + model.sell_L['C'] * 150 * model.pricefactor_L\n",
    "    return (total_H + total_M + total_L)/3.0\n",
    "\n",
    "model.second_stage_profit = pyo.Expression(rule=second_stage_profit)\n",
    "\n",
    "def total_profit(model):\n",
    "    return model.first_stage_profit + model.second_stage_profit\n",
    "\n",
    "model.total_expected_profit = pyo.Objective(rule=total_profit, sense=pyo.maximize)\n",
    "\n",
    "result = cbc_solver.solve(model)\n",
    "display(Markdown(f\"**Solver status:** *{result.solver.status}, {result.solver.termination_condition}*\"))\n",
    "display(Markdown(f\"**Solution:**\"))\n",
    "display(Markdown(f\"(wheat field allocation) $[{model.plant_W['1'].value:.0f}, {model.plant_W['2'].value:.0f}, {model.plant_W['3'].value:.0f}, {model.plant_W['4'].value:.0f}]$\"))\n",
    "display(Markdown(f\"(corn field allocation) $[{model.plant_C['1'].value:.0f}, {model.plant_C['2'].value:.0f}, {model.plant_C['3'].value:.0f}, {model.plant_C['4'].value:.0f}]$\"))\n",
    "display(Markdown(f\"(beet field allocation) $[{model.plant_S['1'].value:.0f}, {model.plant_S['2'].value:.0f}, {model.plant_S['3'].value:.0f}, {model.plant_S['4'].value:.0f}]$\"))\n",
    "display(Markdown(f\"(land field allocation) $x_1 = {model.totalWsurface.expr():.1f}$, $x_2 = {model.totalCsurface.expr():.1f}$, $x_3 = {model.totalSsurface.expr():.1f}$\"))\n",
    "display(Markdown(f\"(recourse sell action high yield) $w_1 = {model.sell_H['W'].value:.1f}$, $w_2 = {model.sell_H['C'].value:.1f}$, $w_3 = {model.sell_H['S'].value:.1f}$, $w_4 = {model.sell_extra_H.value:.1f}$\"))\n",
    "display(Markdown(f\"(recourse purchase action high yield) $y_1 = {model.buy_H['W'].value:.1f}$, $y_2 = {model.buy_H['C'].value:.1f}$, $y_3 = {model.buy_H['S'].value:.1f}$\"))\n",
    "display(Markdown(f\"(recourse sell action medium yield) $w_1 = {model.sell_M['W'].value:.1f}$, $w_2 = {model.sell_M['C'].value:.1f}$, $w_3 = {model.sell_M['S'].value:.1f}$, $w_4 = {model.sell_extra_M.value:.1f}$\"))\n",
    "display(Markdown(f\"(recourse purchase action medium yield) $y_1 = {model.buy_M['W'].value:.1f}$, $y_2 = {model.buy_M['C'].value:.1f}$, $y_3 = {model.buy_M['S'].value:.1f}$\"))\n",
    "display(Markdown(f\"(recourse sell action low yield) $w_1 = {model.sell_L['W'].value:.1f}$, $w_2 = {model.sell_L['C'].value:.1f}$, $w_3 = {model.sell_L['S'].value:.1f}$, $w_4 = {model.sell_extra_L.value:.1f}$\"))\n",
    "display(Markdown(f\"(recourse purchase action low yield) $y_1 = {model.buy_L['W'].value:.1f}$, $y_2 = {model.buy_L['C'].value:.1f}$, $y_3 = {model.buy_L['S'].value:.1f}$\"))\n",
    "display(Markdown(f\"**Maximizes objective value to:** ${model.total_expected_profit():.0f}$€\"))"
   ]
  },
  {
   "cell_type": "markdown",
   "id": "5d2fd070",
   "metadata": {},
   "source": [
    "Consider again the setting described in (a). The farmer would normally act as a risk-averse person and simply plan for the worst case. More precisely, the farmer maximizes her profit under the worst scenario, that is the bad weather one.\n",
    "\n",
    "(d) Solve the deterministic LP for the bad weather scenario to find the corresponding worst-case optimal land allocation. Using this land allocation, compute the loss in expected profit if that solution is taken."
   ]
  },
  {
   "cell_type": "code",
   "execution_count": 7,
   "id": "33586dd8",
   "metadata": {
    "ExecuteTime": {
     "end_time": "2022-09-30T21:49:22.838827Z",
     "start_time": "2022-09-30T21:49:22.777521Z"
    }
   },
   "outputs": [
    {
     "data": {
      "text/markdown": [
       "**Solver status:** *ok, optimal*"
      ],
      "text/plain": [
       "<IPython.core.display.Markdown object>"
      ]
     },
     "metadata": {},
     "output_type": "display_data"
    },
    {
     "data": {
      "text/markdown": [
       "**Solution:**"
      ],
      "text/plain": [
       "<IPython.core.display.Markdown object>"
      ]
     },
     "metadata": {},
     "output_type": "display_data"
    },
    {
     "data": {
      "text/markdown": [
       "(land allocation) $x_1 = 100.0$, $x_2 = 25.0$, $x_3 = 375.0$"
      ],
      "text/plain": [
       "<IPython.core.display.Markdown object>"
      ]
     },
     "metadata": {},
     "output_type": "display_data"
    },
    {
     "data": {
      "text/markdown": [
       "(recourse sell action low yield) $w_1 = 0.0$, $w_2 = 0.0$, $w_3 = 6000.0$, $w_4 = 0.0$"
      ],
      "text/plain": [
       "<IPython.core.display.Markdown object>"
      ]
     },
     "metadata": {},
     "output_type": "display_data"
    },
    {
     "data": {
      "text/markdown": [
       "(recourse purchase action low yield) $y_1 = 0.0$, $y_2 = 180.0$, $y_3 = 0.0$"
      ],
      "text/plain": [
       "<IPython.core.display.Markdown object>"
      ]
     },
     "metadata": {},
     "output_type": "display_data"
    },
    {
     "data": {
      "text/markdown": [
       "**Maximizes objective value to:** $59950$€"
      ],
      "text/plain": [
       "<IPython.core.display.Markdown object>"
      ]
     },
     "metadata": {},
     "output_type": "display_data"
    }
   ],
   "source": [
    "# Bad weather only\n",
    "model = pyo.ConcreteModel()\n",
    "\n",
    "model.crops = pyo.Set(initialize=['W', 'C', 'S'])\n",
    "model.totalacres = 500\n",
    "model.factor_H = 1.2 # to obtain the yields in the good weather (high yield) case by multiplying the average ones\n",
    "model.factor_L = 0.8 # to obtain the yields in the bad weather (low yield) case by multiplying the average ones\n",
    "\n",
    "# first stage variables\n",
    "model.plant = pyo.Var(model.crops, within=pyo.NonNegativeReals) \n",
    "\n",
    "# first stage constraint\n",
    "model.total_acres = pyo.Constraint(expr=pyo.summation(model.plant) <= model.totalacres)\n",
    "\n",
    "# second stage variables\n",
    "model.sell_L = pyo.Var(model.crops, within=pyo.NonNegativeReals)\n",
    "model.buy_L = pyo.Var(model.crops, within=pyo.NonNegativeReals)\n",
    "model.sell_extra_L = pyo.Var(within=pyo.NonNegativeReals)\n",
    "\n",
    "# second stage constraints\n",
    "model.feed_cattle_W_L = pyo.Constraint(expr=model.plant['W'] * 2.5 * model.factor_L - model.sell_L['W'] + model.buy_L['W'] >= 200)\n",
    "model.feed_cattle_C_L = pyo.Constraint(expr=model.plant['C'] * 3 * model.factor_L - model.sell_L['C'] + model.buy_L['C'] >= 240)\n",
    "model.sell_S_extra_L = pyo.Constraint(expr=model.plant['S'] * 20 * model.factor_L >= model.sell_L['S'] + model.sell_extra_L)\n",
    "model.sell_S_L = pyo.Constraint(expr=model.sell_L['S'] <= 6000)\n",
    "model.nobuy_L = pyo.Constraint(expr=model.buy_L['S'] == 0)\n",
    "\n",
    "def first_stage_profit(model):\n",
    "    return -model.plant[\"W\"] * 150 - model.plant[\"C\"] * 230 - model.plant[\"S\"] * 260\n",
    "\n",
    "model.first_stage_profit = pyo.Expression(rule=first_stage_profit)\n",
    "\n",
    "def second_stage_profit(model):\n",
    "    return -model.buy_L['W'] * 238 - model.buy_L['C'] * 210 + 36 * model.sell_L['S'] + 10 * model.sell_extra_L + model.sell_L['W'] * 170 + model.sell_L['C'] * 150\n",
    "\n",
    "model.second_stage_profit = pyo.Expression(rule=second_stage_profit)\n",
    "\n",
    "def total_profit(model):\n",
    "    return model.first_stage_profit + model.second_stage_profit\n",
    "\n",
    "model.total_expected_profit = pyo.Objective(rule=total_profit, sense=pyo.maximize)\n",
    "\n",
    "result = cbc_solver.solve(model)\n",
    "display(Markdown(f\"**Solver status:** *{result.solver.status}, {result.solver.termination_condition}*\"))\n",
    "display(Markdown(f\"**Solution:**\"))\n",
    "display(Markdown(f\"(land allocation) $x_1 = {model.plant['W'].value:.1f}$, $x_2 = {model.plant['C'].value:.1f}$, $x_3 = {model.plant['S'].value:.1f}$\"))\n",
    "display(Markdown(f\"(recourse sell action low yield) $w_1 = {model.sell_L['W'].value:.1f}$, $w_2 = {model.sell_L['C'].value:.1f}$, $w_3 = {model.sell_L['S'].value:.1f}$, $w_4 = {model.sell_extra_L.value:.1f}$\"))\n",
    "display(Markdown(f\"(recourse purchase action low yield) $y_1 = {model.buy_L['W'].value:.1f}$, $y_2 = {model.buy_L['C'].value:.1f}$, $y_3 = {model.buy_L['S'].value:.1f}$\"))\n",
    "display(Markdown(f\"**Maximizes objective value to:** ${model.total_expected_profit():.0f}$€\"))"
   ]
  },
  {
   "cell_type": "code",
   "execution_count": 8,
   "id": "67c70ec9",
   "metadata": {
    "ExecuteTime": {
     "end_time": "2022-09-30T21:49:22.923498Z",
     "start_time": "2022-09-30T21:49:22.842221Z"
    }
   },
   "outputs": [
    {
     "data": {
      "text/markdown": [
       "**Solver status:** *ok, optimal*"
      ],
      "text/plain": [
       "<IPython.core.display.Markdown object>"
      ]
     },
     "metadata": {},
     "output_type": "display_data"
    },
    {
     "data": {
      "text/markdown": [
       "**Solution:**"
      ],
      "text/plain": [
       "<IPython.core.display.Markdown object>"
      ]
     },
     "metadata": {},
     "output_type": "display_data"
    },
    {
     "data": {
      "text/markdown": [
       "(land allocation) $x_1 = 100.0$, $x_2 = 25.0$, $x_3 = 375.0$"
      ],
      "text/plain": [
       "<IPython.core.display.Markdown object>"
      ]
     },
     "metadata": {},
     "output_type": "display_data"
    },
    {
     "data": {
      "text/markdown": [
       "(recourse sell action high yield) $w_1 = 100.0$, $w_2 = 0.0$, $w_3 = 6000.0$, $w_4 = 3000.0$"
      ],
      "text/plain": [
       "<IPython.core.display.Markdown object>"
      ]
     },
     "metadata": {},
     "output_type": "display_data"
    },
    {
     "data": {
      "text/markdown": [
       "(recourse purchase action high yield) $y_1 = 0.0$, $y_2 = 150.0$, $y_3 = 0.0$"
      ],
      "text/plain": [
       "<IPython.core.display.Markdown object>"
      ]
     },
     "metadata": {},
     "output_type": "display_data"
    },
    {
     "data": {
      "text/markdown": [
       "(recourse sell action medium yield) $w_1 = 50.0$, $w_2 = 0.0$, $w_3 = 6000.0$, $w_4 = 1500.0$"
      ],
      "text/plain": [
       "<IPython.core.display.Markdown object>"
      ]
     },
     "metadata": {},
     "output_type": "display_data"
    },
    {
     "data": {
      "text/markdown": [
       "(recourse purchase action medium yield) $y_1 = 0.0$, $y_2 = 165.0$, $y_3 = 0.0$"
      ],
      "text/plain": [
       "<IPython.core.display.Markdown object>"
      ]
     },
     "metadata": {},
     "output_type": "display_data"
    },
    {
     "data": {
      "text/markdown": [
       "(recourse sell action low yield) $w_1 = 0.0$, $w_2 = 0.0$, $w_3 = 6000.0$, $w_4 = 0.0$"
      ],
      "text/plain": [
       "<IPython.core.display.Markdown object>"
      ]
     },
     "metadata": {},
     "output_type": "display_data"
    },
    {
     "data": {
      "text/markdown": [
       "(recourse purchase action low yield) $y_1 = 0.0$, $y_2 = 180.0$, $y_3 = 0.0$"
      ],
      "text/plain": [
       "<IPython.core.display.Markdown object>"
      ]
     },
     "metadata": {},
     "output_type": "display_data"
    },
    {
     "data": {
      "text/markdown": [
       "**Maximizes objective value to:** $86600$€"
      ],
      "text/plain": [
       "<IPython.core.display.Markdown object>"
      ]
     },
     "metadata": {},
     "output_type": "display_data"
    }
   ],
   "source": [
    "# Expected profit when optimizing only against bad weather \n",
    "model = pyo.ConcreteModel()\n",
    "\n",
    "model.crops = pyo.Set(initialize=['W', 'C', 'S'])\n",
    "model.factor_H = 1.2 # to obtain the yields in the good weather (high yield) case by multiplying the average ones\n",
    "model.factor_L = 0.8 # to obtain the yields in the bad weather (low yield) case by multiplying the average ones\n",
    "\n",
    "# first stage variables are now parameters, since we set them equal to the optimal allocation for bad weather calculated in the previous cell\n",
    "model.plant = pyo.Param(model.crops, within=pyo.NonNegativeReals, initialize={'W': 100, 'C': 25, 'S': 375}) \n",
    "\n",
    "model.scenarios = pyo.Set(initialize=['H', 'M', 'L'])  # high, medium, and low yield scenarios\n",
    "\n",
    "# second stage variables (labelled as H,M,L depending on the scenario)\n",
    "# the sell_extra variables refer to the amount of beets to be sold beyond the 6000 threshold, if any\n",
    "model.sell_H = pyo.Var(model.crops, within=pyo.NonNegativeReals)\n",
    "model.buy_H = pyo.Var(model.crops, within=pyo.NonNegativeReals)\n",
    "model.sell_extra_H = pyo.Var(within=pyo.NonNegativeReals) \n",
    "\n",
    "model.sell_M = pyo.Var(model.crops, within=pyo.NonNegativeReals)\n",
    "model.buy_M = pyo.Var(model.crops, within=pyo.NonNegativeReals)\n",
    "model.sell_extra_M = pyo.Var(within=pyo.NonNegativeReals)\n",
    "\n",
    "model.sell_L = pyo.Var(model.crops, within=pyo.NonNegativeReals)\n",
    "model.buy_L = pyo.Var(model.crops, within=pyo.NonNegativeReals)\n",
    "model.sell_extra_L = pyo.Var(within=pyo.NonNegativeReals)\n",
    "\n",
    "# second stage constraints\n",
    "model.feed_cattle_W_H = pyo.Constraint(expr=model.plant['W'] * 2.5 * model.factor_H - model.sell_H['W'] + model.buy_H['W'] >= 200)\n",
    "model.feed_cattle_C_H = pyo.Constraint(expr=model.plant['C'] * 3 * model.factor_H - model.sell_H['C'] + model.buy_H['C'] >= 240)\n",
    "model.sell_S_extra_H = pyo.Constraint(expr=model.plant['S'] * 20 * model.factor_H >= model.sell_H['S'] + model.sell_extra_H)\n",
    "model.sell_S_H = pyo.Constraint(expr=model.sell_H['S'] <= 6000)\n",
    "model.nobuy_H = pyo.Constraint(expr=model.buy_H['S'] == 0)\n",
    "\n",
    "model.feed_cattle_W_M = pyo.Constraint(expr=model.plant['W'] * 2.5 - model.sell_M['W'] + model.buy_M['W'] >= 200)\n",
    "model.feed_cattle_C_M = pyo.Constraint(expr=model.plant['C'] * 3 - model.sell_M['C'] + model.buy_M['C'] >= 240)\n",
    "model.sell_S_extra_M = pyo.Constraint(expr=model.plant['S'] * 20 >= model.sell_M['S'] + model.sell_extra_M)\n",
    "model.sell_S_M = pyo.Constraint(expr=model.sell_M['S'] <= 6000)\n",
    "model.nobuy_M = pyo.Constraint(expr=model.buy_M['S'] == 0)\n",
    "\n",
    "model.feed_cattle_W_L = pyo.Constraint(expr=model.plant['W'] * 2.5 * model.factor_L - model.sell_L['W'] + model.buy_L['W'] >= 200)\n",
    "model.feed_cattle_C_L = pyo.Constraint(expr=model.plant['C'] * 3 * model.factor_L - model.sell_L['C'] + model.buy_L['C'] >= 240)\n",
    "model.sell_S_extra_L = pyo.Constraint(expr=model.plant['S'] * 20 * model.factor_L >= model.sell_L['S'] + model.sell_extra_L)\n",
    "model.sell_S_L = pyo.Constraint(expr=model.sell_L['S'] <= 6000)\n",
    "model.nobuy_L = pyo.Constraint(expr=model.buy_L['S'] == 0)\n",
    "\n",
    "def first_stage_profit(model):\n",
    "    return -model.plant[\"W\"] * 150 - model.plant[\"C\"] * 230 - model.plant[\"S\"] * 260\n",
    "\n",
    "model.first_stage_profit = pyo.Expression(rule=first_stage_profit)\n",
    "\n",
    "def second_stage_profit(model):\n",
    "    total_H = -model.buy_H['W'] * 238 - model.buy_H['C'] * 210 + 36 * model.sell_H['S'] + 10 * model.sell_extra_H + model.sell_H['W'] * 170 + model.sell_H['C'] * 150\n",
    "    total_M = -model.buy_M['W'] * 238 - model.buy_M['C'] * 210 + 36 * model.sell_M['S'] + 10 * model.sell_extra_M + model.sell_M['W'] * 170 + model.sell_M['C'] * 150\n",
    "    total_L = -model.buy_L['W'] * 238 - model.buy_L['C'] * 210 + 36 * model.sell_L['S'] + 10 * model.sell_extra_L + model.sell_L['W'] * 170 + model.sell_L['C'] * 150\n",
    "    return (total_H + total_M + total_L)/3.0\n",
    "\n",
    "model.second_stage_profit = pyo.Expression(rule=second_stage_profit)\n",
    "\n",
    "def total_profit(model):\n",
    "    return model.first_stage_profit + model.second_stage_profit\n",
    "\n",
    "model.total_expected_profit = pyo.Objective(rule=total_profit, sense=pyo.maximize)\n",
    "\n",
    "result = cbc_solver.solve(model)\n",
    "display(Markdown(f\"**Solver status:** *{result.solver.status}, {result.solver.termination_condition}*\"))\n",
    "display(Markdown(f\"**Solution:**\"))\n",
    "display(Markdown(f\"(land allocation) $x_1 = {model.plant['W']:.1f}$, $x_2 = {model.plant['C']:.1f}$, $x_3 = {model.plant['S']:.1f}$\"))\n",
    "display(Markdown(f\"(recourse sell action high yield) $w_1 = {model.sell_H['W'].value:.1f}$, $w_2 = {model.sell_H['C'].value:.1f}$, $w_3 = {model.sell_H['S'].value:.1f}$, $w_4 = {model.sell_extra_H.value:.1f}$\"))\n",
    "display(Markdown(f\"(recourse purchase action high yield) $y_1 = {model.buy_H['W'].value:.1f}$, $y_2 = {model.buy_H['C'].value:.1f}$, $y_3 = {model.buy_H['S'].value:.1f}$\"))\n",
    "display(Markdown(f\"(recourse sell action medium yield) $w_1 = {model.sell_M['W'].value:.1f}$, $w_2 = {model.sell_M['C'].value:.1f}$, $w_3 = {model.sell_M['S'].value:.1f}$, $w_4 = {model.sell_extra_M.value:.1f}$\"))\n",
    "display(Markdown(f\"(recourse purchase action medium yield) $y_1 = {model.buy_M['W'].value:.1f}$, $y_2 = {model.buy_M['C'].value:.1f}$, $y_3 = {model.buy_M['S'].value:.1f}$\"))\n",
    "display(Markdown(f\"(recourse sell action low yield) $w_1 = {model.sell_L['W'].value:.1f}$, $w_2 = {model.sell_L['C'].value:.1f}$, $w_3 = {model.sell_L['S'].value:.1f}$, $w_4 = {model.sell_extra_L.value:.1f}$\"))\n",
    "display(Markdown(f\"(recourse purchase action low yield) $y_1 = {model.buy_L['W'].value:.1f}$, $y_2 = {model.buy_L['C'].value:.1f}$, $y_3 = {model.buy_L['S'].value:.1f}$\"))\n",
    "display(Markdown(f\"**Maximizes objective value to:** ${model.total_expected_profit():.0f}$€\"))"
   ]
  },
  {
   "cell_type": "markdown",
   "id": "ac3125df",
   "metadata": {},
   "source": [
    "(e) A different approach situation be to require a reasonable minimum profit under the worst case. Find the solution that maximizes the expected profit under the constraint that in the worst case the profit does not fall below $58.000$ euro. What is now the loss in expected profit?\n",
    "\n",
    "Repeat the same optimization also with other values of minimal profit: $56.000$, $54.000$, $52.000$, $50.000$, and $48.000$ euro. Graph the curve of expected profit loss and compare the associated optimal decisions."
   ]
  },
  {
   "cell_type": "code",
   "execution_count": 9,
   "id": "3374639a",
   "metadata": {
    "ExecuteTime": {
     "end_time": "2022-09-30T21:49:23.209054Z",
     "start_time": "2022-09-30T21:49:22.926787Z"
    }
   },
   "outputs": [
    {
     "data": {
      "text/markdown": [
       "**Minimum profit threshold** of $48000$€ leads to an **optimal expected profit** of $108390$€, with a **loss** of $0$€"
      ],
      "text/plain": [
       "<IPython.core.display.Markdown object>"
      ]
     },
     "metadata": {},
     "output_type": "display_data"
    },
    {
     "data": {
      "text/markdown": [
       "**Minimum profit threshold** of $50000$€ leads to an **optimal expected profit** of $108292$€, with a **loss** of $98$€"
      ],
      "text/plain": [
       "<IPython.core.display.Markdown object>"
      ]
     },
     "metadata": {},
     "output_type": "display_data"
    },
    {
     "data": {
      "text/markdown": [
       "**Minimum profit threshold** of $52000$€ leads to an **optimal expected profit** of $107976$€, with a **loss** of $414$€"
      ],
      "text/plain": [
       "<IPython.core.display.Markdown object>"
      ]
     },
     "metadata": {},
     "output_type": "display_data"
    },
    {
     "data": {
      "text/markdown": [
       "**Minimum profit threshold** of $54000$€ leads to an **optimal expected profit** of $107611$€, with a **loss** of $779$€"
      ],
      "text/plain": [
       "<IPython.core.display.Markdown object>"
      ]
     },
     "metadata": {},
     "output_type": "display_data"
    },
    {
     "data": {
      "text/markdown": [
       "**Minimum profit threshold** of $56000$€ leads to an **optimal expected profit** of $107246$€, with a **loss** of $1144$€"
      ],
      "text/plain": [
       "<IPython.core.display.Markdown object>"
      ]
     },
     "metadata": {},
     "output_type": "display_data"
    },
    {
     "data": {
      "text/markdown": [
       "**Minimum profit threshold** of $58000$€ leads to an **optimal expected profit** of $101176$€, with a **loss** of $7214$€"
      ],
      "text/plain": [
       "<IPython.core.display.Markdown object>"
      ]
     },
     "metadata": {},
     "output_type": "display_data"
    }
   ],
   "source": [
    "expectedprofit_noconstraints = 108390\n",
    "\n",
    "def FarmersWithMinimumProfit(minprofit):\n",
    "    model = pyo.ConcreteModel()\n",
    "\n",
    "    model.crops = pyo.Set(initialize=['W', 'C', 'S'])\n",
    "    model.totalacres = 500\n",
    "    model.factor_H = 1.2 # to obtain the yields in the good weather (high yield) case by multiplying the average ones\n",
    "    model.factor_L = 0.8 # to obtain the yields in the bad weather (low yield) case by multiplying the average ones\n",
    "    model.pricefactor_H = 1.0 # to obtain the prices in the good weather (high yield) case by multiplying the average ones\n",
    "    model.pricefactor_L = 1.0 # to obtain the prices in the bad weather (low yield) case by multiplying the average ones\n",
    "\n",
    "    # first stage variables\n",
    "    model.plant = pyo.Var(model.crops, within=pyo.NonNegativeReals) \n",
    "\n",
    "    # first stage constraint\n",
    "    model.total_acres = pyo.Constraint(expr=pyo.summation(model.plant) <= model.totalacres)\n",
    "\n",
    "    model.scenarios = pyo.Set(initialize=['H', 'M', 'L'])  # high, medium, and low yield scenarios\n",
    "\n",
    "    # second stage variables (labelled as H,M,L depending on the scenario)\n",
    "    # the sell_extra variables refer to the amount of beets to be sold beyond the 6000 threshold, if any\n",
    "    model.sell_H = pyo.Var(model.crops, within=pyo.NonNegativeReals)\n",
    "    model.buy_H = pyo.Var(model.crops, within=pyo.NonNegativeReals)\n",
    "    model.sell_extra_H = pyo.Var(within=pyo.NonNegativeReals) \n",
    "\n",
    "    model.sell_M = pyo.Var(model.crops, within=pyo.NonNegativeReals)\n",
    "    model.buy_M = pyo.Var(model.crops, within=pyo.NonNegativeReals)\n",
    "    model.sell_extra_M = pyo.Var(within=pyo.NonNegativeReals)\n",
    "\n",
    "    model.sell_L = pyo.Var(model.crops, within=pyo.NonNegativeReals)\n",
    "    model.buy_L = pyo.Var(model.crops, within=pyo.NonNegativeReals)\n",
    "    model.sell_extra_L = pyo.Var(within=pyo.NonNegativeReals)\n",
    "\n",
    "    # second stage constraints\n",
    "    model.feed_cattle_W_H = pyo.Constraint(expr=model.plant['W'] * 2.5 * model.factor_H - model.sell_H['W'] + model.buy_H['W'] >= 200)\n",
    "    model.feed_cattle_C_H = pyo.Constraint(expr=model.plant['C'] * 3 * model.factor_H - model.sell_H['C'] + model.buy_H['C'] >= 240)\n",
    "    model.sell_S_extra_H = pyo.Constraint(expr=model.plant['S'] * 20 * model.factor_H >= model.sell_H['S'] + model.sell_extra_H)\n",
    "    model.sell_S_H = pyo.Constraint(expr=model.sell_H['S'] <= 6000)\n",
    "    model.nobuy_H = pyo.Constraint(expr=model.buy_H['S'] == 0)\n",
    "\n",
    "    model.feed_cattle_W_M = pyo.Constraint(expr=model.plant['W'] * 2.5 - model.sell_M['W'] + model.buy_M['W'] >= 200)\n",
    "    model.feed_cattle_C_M = pyo.Constraint(expr=model.plant['C'] * 3 - model.sell_M['C'] + model.buy_M['C'] >= 240)\n",
    "    model.sell_S_extra_M = pyo.Constraint(expr=model.plant['S'] * 20 >= model.sell_M['S'] + model.sell_extra_M)\n",
    "    model.sell_S_M = pyo.Constraint(expr=model.sell_M['S'] <= 6000)\n",
    "    model.nobuy_M = pyo.Constraint(expr=model.buy_M['S'] == 0)\n",
    "\n",
    "    model.feed_cattle_W_L = pyo.Constraint(expr=model.plant['W'] * 2.5 * model.factor_L - model.sell_L['W'] + model.buy_L['W'] >= 200)\n",
    "    model.feed_cattle_C_L = pyo.Constraint(expr=model.plant['C'] * 3 * model.factor_L - model.sell_L['C'] + model.buy_L['C'] >= 240)\n",
    "    model.sell_S_extra_L = pyo.Constraint(expr=model.plant['S'] * 20 * model.factor_L >= model.sell_L['S'] + model.sell_extra_L)\n",
    "    model.sell_S_L = pyo.Constraint(expr=model.sell_L['S'] <= 6000)\n",
    "    model.nobuy_L = pyo.Constraint(expr=model.buy_L['S'] == 0)\n",
    "\n",
    "    def first_stage_profit(model):\n",
    "        return -model.plant[\"W\"] * 150 - model.plant[\"C\"] * 230 - model.plant[\"S\"] * 260\n",
    "\n",
    "    model.first_stage_profit = pyo.Expression(rule=first_stage_profit)\n",
    "\n",
    "    def second_stage_profit(model):\n",
    "        total_H = -model.buy_H['W'] * 238 * model.pricefactor_H - model.buy_H['C'] * 210 * model.pricefactor_H + 36 * model.sell_H['S'] + 10 * model.sell_extra_H + model.sell_H['W'] * 170 * model.pricefactor_H + model.sell_H['C'] * 150 * model.pricefactor_H\n",
    "        total_M = -model.buy_M['W'] * 238 - model.buy_M['C'] * 210 + 36 * model.sell_M['S'] + 10 * model.sell_extra_M + model.sell_M['W'] * 170 + model.sell_M['C'] * 150\n",
    "        total_L = -model.buy_L['W'] * 238 * model.pricefactor_L - model.buy_L['C'] * 210 * model.pricefactor_L + 36 * model.sell_L['S'] + 10 * model.sell_extra_L + model.sell_L['W'] * 170 * model.pricefactor_L + model.sell_L['C'] * 150 * model.pricefactor_L\n",
    "        return (total_H + total_M + total_L)/3.0\n",
    "\n",
    "    model.second_stage_profit = pyo.Expression(rule=second_stage_profit)\n",
    "\n",
    "    def total_profit(model):\n",
    "        return model.first_stage_profit + model.second_stage_profit\n",
    "\n",
    "    model.total_expected_profit = pyo.Objective(rule=total_profit, sense=pyo.maximize)\n",
    "\n",
    "    model.totalprofit_H = pyo.Expression(expr = -model.plant[\"W\"] * 150 - model.plant[\"C\"] * 230 - model.plant[\"S\"] * 260 -model.buy_H['W'] * 238 * model.pricefactor_H - model.buy_H['C'] * 210 * model.pricefactor_H + 36 * model.sell_H['S'] + 10 * model.sell_extra_H + model.sell_H['W'] * 170 * model.pricefactor_H + model.sell_H['C'] * 150 * model.pricefactor_H)\n",
    "    model.totalprofit_M = pyo.Expression(expr = -model.plant[\"W\"] * 150 - model.plant[\"C\"] * 230 - model.plant[\"S\"] * 260 -model.buy_M['W'] * 238 - model.buy_M['C'] * 210 + 36 * model.sell_M['S'] + 10 * model.sell_extra_M + model.sell_M['W'] * 170 + model.sell_M['C'] * 150)\n",
    "    model.totalprofit_L = pyo.Expression(expr = -model.plant[\"W\"] * 150 - model.plant[\"C\"] * 230 - model.plant[\"S\"] * 260 -model.buy_L['W'] * 238 * model.pricefactor_L - model.buy_L['C'] * 210 * model.pricefactor_L + 36 * model.sell_L['S'] + 10 * model.sell_extra_L + model.sell_L['W'] * 170 * model.pricefactor_L + model.sell_L['C'] * 150 * model.pricefactor_L)\n",
    "    model.minimum_profit = pyo.Constraint(expr=model.totalprofit_L >= minprofit)\n",
    "    result = cbc_solver.solve(model)\n",
    "\n",
    "    display(Markdown(f\"**Minimum profit threshold** of ${minprofit:.0f}$€ leads to an **optimal expected profit** of ${model.total_expected_profit():.0f}$€, with a **loss** of ${expectedprofit_noconstraints - model.total_expected_profit():.0f}$€\"))\n",
    "    return model.total_expected_profit()\n",
    "\n",
    "profitthresholds = [48000,50000,52000,54000,56000,58000]\n",
    "for minprofit in profitthresholds:\n",
    "    FarmersWithMinimumProfit(minprofit)"
   ]
  }
 ],
 "metadata": {
  "kernelspec": {
   "display_name": "Python 3 (ipykernel)",
   "language": "python",
   "name": "python3"
  },
  "language_info": {
   "codemirror_mode": {
    "name": "ipython",
    "version": 3
   },
   "file_extension": ".py",
   "mimetype": "text/x-python",
   "name": "python",
   "nbconvert_exporter": "python",
   "pygments_lexer": "ipython3",
   "version": "3.9.7"
  },
  "varInspector": {
   "cols": {
    "lenName": 16,
    "lenType": 16,
    "lenVar": 40
   },
   "kernels_config": {
    "python": {
     "delete_cmd_postfix": "",
     "delete_cmd_prefix": "del ",
     "library": "var_list.py",
     "varRefreshCmd": "print(var_dic_list())"
    },
    "r": {
     "delete_cmd_postfix": ") ",
     "delete_cmd_prefix": "rm(",
     "library": "var_list.r",
     "varRefreshCmd": "cat(var_dic_list()) "
    }
   },
   "types_to_exclude": [
    "module",
    "function",
    "builtin_function_or_method",
    "instance",
    "_Feature"
   ],
   "window_display": false
  }
 },
 "nbformat": 4,
 "nbformat_minor": 5
}
