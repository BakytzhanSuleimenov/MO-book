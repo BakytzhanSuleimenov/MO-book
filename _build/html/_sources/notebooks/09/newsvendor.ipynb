{
 "cells": [
  {
   "cell_type": "markdown",
   "metadata": {
    "id": "M7WCjvp4FISI"
   },
   "source": [
    "# Stock optimization for seafood distribution center\n",
    "\n",
    "Each day a seafood distribution center buys $x$ tons of tuna at unit cost $c$. Next, a certain demand $z$ is observed from the retailers, to which the fish is sold at a unit price per ton $p > c$. The leftover fish needs to be stored in a cold warehouse for a unit holding cost $h$. The seafood distribution center cannot sell more fish than it has in stock, thus at most $\\min\\{z, x \\}$ tons will be sold and there will possibly be $\\max\\{ 0, x-z\\}$ tons left. Therefore, the net profit is $p \\min\\{z, x \\} - cx - h (x-z)^+$. Provided that a reasonable estimate of the probability distribution $\\mathbb P$ of the tuna demand $z$ is available, if we want to maximize the long-term net profit then we can formulate the following optimization problem:\n",
    "\n",
    "$$\n",
    "    \\max\\limits_{x \\geq 0} \\, \\mathbb E  [ p \\min\\{z, x \\} - cx - h (x-z)^+ ].\n",
    "$$\n",
    "\n",
    "Note that in the simple setting of this problem the feasible set for the decision variable $x$ is not affected by uncertainty, since we have $x \\geq 0$ regardless of the demand $z$.\n",
    "\n",
    "Suppose the unit prices for a ton of tuna are $c = 10 , p = 25 , h = 3$, and that the demand for tuna in tons can $\\xi$ modelled as a continuous random variable.\n",
    "\n",
    "(a) Find the optimal solution of the seafood inventory problem using the explicit formula that features the inverse CDFs/quantile functions for the following three distributions:\n",
    " - a uniform distribution on the interval $[50,150]$;\n",
    "*Hint: see [Uniform distribution CDF and its inverse](https://en.wikipedia.org/wiki/Continuous_uniform_distribution#Cumulative_distribution_function)*\n",
    " - a Pareto distribution on the interval $[50,+\\infty)$ with $x_m=50$ and exponent $\\alpha=2$. *Hint: the inverse CDF for a Pareto distribution is given by* $H^{-1}(\\varepsilon) = \\frac{x_m}{(1-\\varepsilon)^{1/\\alpha}}$.\n",
    " - a Weibull distribution on the interval $[0,+\\infty)$ with shape parameter $k=2$ and scale parameter $\\lambda=113$, see [Weibull distribution CDF and its inverse](https://en.wikipedia.org/wiki/Weibull_distribution#Cumulative_distribution_function).\n"
   ]
  },
  {
   "cell_type": "code",
   "execution_count": 1,
   "metadata": {
    "ExecuteTime": {
     "end_time": "2022-09-30T22:59:05.262585Z",
     "start_time": "2022-09-30T22:59:04.962753Z"
    },
    "colab": {
     "base_uri": "https://localhost:8080/"
    },
    "id": "lAvinyZKD5Vp",
    "outputId": "e779c42a-9b61-4af7-b129-865b56a596a4"
   },
   "outputs": [
    {
     "name": "stdout",
     "output_type": "stream",
     "text": [
      "pyomo was previously installed\n",
      "glpk was previously installed\n",
      "cbc was previously installed\n",
      "ipopt was previously installed\n"
     ]
    },
    {
     "data": {
      "text/plain": [
       "True"
      ]
     },
     "execution_count": 1,
     "metadata": {},
     "output_type": "execute_result"
    }
   ],
   "source": [
    "# install Pyomo and solvers\n",
    "import requests\n",
    "import types\n",
    "\n",
    "url = \"https://raw.githubusercontent.com/mobook/MO-book/main/python/helper.py\"\n",
    "helper = types.ModuleType(\"helper\")\n",
    "exec(requests.get(url).content, helper.__dict__)\n",
    "\n",
    "helper.install_pyomo()\n",
    "helper.install_glpk()\n",
    "helper.install_cbc()\n",
    "helper.install_ipopt()"
   ]
  },
  {
   "cell_type": "code",
   "execution_count": 2,
   "metadata": {
    "ExecuteTime": {
     "end_time": "2022-09-30T22:59:07.200005Z",
     "start_time": "2022-09-30T22:59:05.267305Z"
    },
    "id": "RE8rff0jD8Bd"
   },
   "outputs": [],
   "source": [
    "%matplotlib inline\n",
    "import pyomo.environ as pyo\n",
    "import numpy as np\n",
    "import pandas as pd\n",
    "import seaborn as sns\n",
    "import matplotlib.pyplot as plt\n",
    "import math\n",
    "import logging\n",
    "from IPython.display import Markdown\n",
    "\n",
    "cbc_solver = pyo.SolverFactory('cbc')\n",
    "glpk_solver = pyo.SolverFactory('glpk')\n",
    "ipopt_solver = pyo.SolverFactory('ipopt')"
   ]
  },
  {
   "cell_type": "code",
   "execution_count": 3,
   "metadata": {
    "ExecuteTime": {
     "end_time": "2022-09-30T22:59:07.217741Z",
     "start_time": "2022-09-30T22:59:07.205475Z"
    },
    "colab": {
     "base_uri": "https://localhost:8080/",
     "height": 101
    },
    "id": "5qLTVb1Y0OqR",
    "outputId": "431f7617-ee25-4ef0-ba6b-7fd34bab8700"
   },
   "outputs": [
    {
     "data": {
      "text/markdown": [
       "**Optimal solution** for uniform distribution: $103.57$"
      ],
      "text/plain": [
       "<IPython.core.display.Markdown object>"
      ]
     },
     "metadata": {},
     "output_type": "display_data"
    },
    {
     "data": {
      "text/markdown": [
       "**Optimal solution** for Pareto distribution: $73.38$"
      ],
      "text/plain": [
       "<IPython.core.display.Markdown object>"
      ]
     },
     "metadata": {},
     "output_type": "display_data"
    },
    {
     "data": {
      "text/markdown": [
       "**Optimal solution** for Weibull distribution: $98.98$"
      ],
      "text/plain": [
       "<IPython.core.display.Markdown object>"
      ]
     },
     "metadata": {},
     "output_type": "display_data"
    }
   ],
   "source": [
    "# Setting the parameters\n",
    "c = 10\n",
    "p = 25\n",
    "h = 3\n",
    "\n",
    "# Definining the three inverse CDFs/quantile functions for the three distributions\n",
    "def quantileuniform(epsilon, a, b):\n",
    "    return a + epsilon*(b-a)\n",
    "\n",
    "def quantilepareto(epsilon, xm, alpha):\n",
    "    return xm/(1.0-epsilon)**(1.0/alpha)\n",
    "\n",
    "def quantileweibull(epsilon, k, l):\n",
    "    return l*(-np.log(1-epsilon))**(1.0/k)\n",
    "\n",
    "# Calculating the optimal decision for each of the three distributions\n",
    "display(Markdown(f\"**Optimal solution** for uniform distribution: ${quantileuniform((p-c)/(p+h),50,150):.2f}$ tons\"))\n",
    "display(Markdown(f\"**Optimal solution** for Pareto distribution: ${quantilepareto((p-c)/(p+h),50,2):.2f}$ tons\"))\n",
    "display(Markdown(f\"**Optimal solution** for Weibull distribution: ${quantileweibull((p-c)/(p+h),2,113):.2f}$ tons\"))"
   ]
  },
  {
   "cell_type": "markdown",
   "metadata": {
    "id": "DgCFrEGc1Gpc"
   },
   "source": [
    "Note that all the three distribution above have the same expected value, that is $\\mathbb E \\xi = 100$ tons.\n",
    "\n",
    "(b) Find the optimal solution of the deterministic LP model obtained by assuming the demand is fixed $\\xi=\\bar{\\xi}$ and equal to the average demand $\\bar{\\xi} = \\mathbb E \\xi = 100$."
   ]
  },
  {
   "cell_type": "code",
   "execution_count": 4,
   "metadata": {
    "ExecuteTime": {
     "end_time": "2022-09-30T22:59:07.323660Z",
     "start_time": "2022-09-30T22:59:07.220849Z"
    },
    "colab": {
     "base_uri": "https://localhost:8080/",
     "height": 100
    },
    "id": "S0E2_cbI1beQ",
    "outputId": "3d8805fe-608a-4e12-bb41-8cc8872d6c28"
   },
   "outputs": [
    {
     "data": {
      "text/markdown": [
       "**Solver status:** *ok, optimal*"
      ],
      "text/plain": [
       "<IPython.core.display.Markdown object>"
      ]
     },
     "metadata": {},
     "output_type": "display_data"
    },
    {
     "data": {
      "text/markdown": [
       "**Optimal solution** for determistic demand equal to $100$: $x = 100.0$"
      ],
      "text/plain": [
       "<IPython.core.display.Markdown object>"
      ]
     },
     "metadata": {},
     "output_type": "display_data"
    },
    {
     "data": {
      "text/markdown": [
       "**Optimal deterministic profit:** $1500$€"
      ],
      "text/plain": [
       "<IPython.core.display.Markdown object>"
      ]
     },
     "metadata": {},
     "output_type": "display_data"
    }
   ],
   "source": [
    "# Two-stage stochastic LP\n",
    "\n",
    "c = 10\n",
    "p = 25\n",
    "h = 3\n",
    "\n",
    "model = pyo.ConcreteModel()\n",
    "model.xi = 100\n",
    "\n",
    "# first stage variable\n",
    "model.x = pyo.Var(within=pyo.NonNegativeReals) #bought\n",
    "\n",
    "def first_stage_profit(model):\n",
    "    return -c * model.x\n",
    "\n",
    "model.first_stage_profit = pyo.Expression(rule=first_stage_profit)\n",
    "\n",
    "# second stage variables\n",
    "model.y = pyo.Var(within=pyo.NonNegativeReals) #sold\n",
    "model.z = pyo.Var(within=pyo.NonNegativeReals) #unsold to be stored in cold warehouse \n",
    "\n",
    "# second stage constraints\n",
    "model.cantsoldfishidonthave = pyo.Constraint(expr=model.y <= model.xi)\n",
    "model.fishdonotdisappear = pyo.Constraint(expr=model.y + model.z == model.x)\n",
    "\n",
    "def second_stage_profit(model):\n",
    "    return p * model.y - h * model.z\n",
    "\n",
    "model.second_stage_profit = pyo.Expression(rule=second_stage_profit)\n",
    "\n",
    "def total_profit(model):\n",
    "    return model.first_stage_profit + model.second_stage_profit\n",
    "\n",
    "model.total_expected_profit = pyo.Objective(rule=total_profit, sense=pyo.maximize)\n",
    "\n",
    "result = cbc_solver.solve(model)\n",
    "\n",
    "display(Markdown(f\"**Solver status:** *{result.solver.status}, {result.solver.termination_condition}*\"))\n",
    "display(Markdown(f\"**Optimal solution** for determistic demand equal to $100$: $x = {model.x.value:.1f}$\"))\n",
    "display(Markdown(f\"**Optimal deterministic profit:** ${model.total_expected_profit():.0f}$€\"))"
   ]
  },
  {
   "cell_type": "markdown",
   "metadata": {
    "id": "HXaZi7kiWklC"
   },
   "source": [
    "We now assess how well we perform taking the average demand as input for each of the three demand distributions above.\n",
    "\n",
    "(c) For a fixed decision variable $x=100$, approximate the expected net profit of the seafood distribution center for each of the three distributions above using the Sample Average Approximation method with $N=2500$ points. More specifically, generate $N=2500$ samples from the considered distribution and solve the extensive form of the stochastic LP resulting from those $N=2500$ scenarios."
   ]
  },
  {
   "cell_type": "code",
   "execution_count": 5,
   "metadata": {
    "ExecuteTime": {
     "end_time": "2022-09-30T22:59:08.615056Z",
     "start_time": "2022-09-30T22:59:07.328043Z"
    },
    "colab": {
     "base_uri": "https://localhost:8080/",
     "height": 106
    },
    "id": "c4xOfnMxVnzb",
    "outputId": "9e31a393-e49a-4fc6-b11f-0b98702eba71"
   },
   "outputs": [
    {
     "data": {
      "text/markdown": [
       "**Approximate expected optimal profit when using the average** $x=100$ with uniform demand: $1143.79$€"
      ],
      "text/plain": [
       "<IPython.core.display.Markdown object>"
      ]
     },
     "metadata": {},
     "output_type": "display_data"
    },
    {
     "data": {
      "text/markdown": [
       "**Approximate expected optimal profit when using the average** $x=100$ with Pareto demand: $813.34$€"
      ],
      "text/plain": [
       "<IPython.core.display.Markdown object>"
      ]
     },
     "metadata": {},
     "output_type": "display_data"
    },
    {
     "data": {
      "text/markdown": [
       "**Approximate expected optimal profit when using the average** $x=100$ with Weibull demand: $923.81$€"
      ],
      "text/plain": [
       "<IPython.core.display.Markdown object>"
      ]
     },
     "metadata": {},
     "output_type": "display_data"
    }
   ],
   "source": [
    "# Two-stage stochastic LP\n",
    "\n",
    "c = 10\n",
    "p = 25\n",
    "h = 3\n",
    "\n",
    "# SAA of the two-stage stochastic LP to calculate the expected profit when buying the average\n",
    "\n",
    "def NaiveSeafoodStockSAA(N, sample, distributiontype):\n",
    "\n",
    "    model = pyo.ConcreteModel()\n",
    "\n",
    "    def indices_rule(model):\n",
    "        return range(N)\n",
    "    model.indices = pyo.Set(initialize=indices_rule)\n",
    "    model.xi = pyo.Param(model.indices, initialize=dict(enumerate(sample)))\n",
    "\n",
    "    # first stage variable\n",
    "    model.x = 100.0 #bought\n",
    "\n",
    "    def first_stage_profit(model):\n",
    "        return -c * model.x\n",
    "\n",
    "    model.first_stage_profit = pyo.Expression(rule=first_stage_profit)\n",
    "\n",
    "    # second stage variables\n",
    "    model.y = pyo.Var(model.indices, within=pyo.NonNegativeReals) #sold\n",
    "    model.z = pyo.Var(model.indices, within=pyo.NonNegativeReals) #unsold to be stored in cold warehouse \n",
    "\n",
    "    # second stage constraints\n",
    "    model.cantsoldthingsfishdonthave = pyo.ConstraintList()\n",
    "    model.fishdonotdisappear = pyo.ConstraintList()\n",
    "    for i in model.indices:\n",
    "        model.cantsoldthingsfishdonthave.add(expr=model.y[i] <= model.xi[i])\n",
    "        model.fishdonotdisappear.add(expr=model.y[i] + model.z[i] == model.x)\n",
    "\n",
    "    def second_stage_profit(model):\n",
    "        return sum([p * model.y[i] - h * model.z[i] for i in model.indices])/float(N)\n",
    "\n",
    "    model.second_stage_profit = pyo.Expression(rule=second_stage_profit)\n",
    "\n",
    "    def total_profit(model):\n",
    "        return model.first_stage_profit + model.second_stage_profit\n",
    "\n",
    "    model.total_expected_profit = pyo.Objective(rule=total_profit, sense=pyo.maximize)\n",
    "\n",
    "    result = cbc_solver.solve(model)\n",
    "\n",
    "    display(Markdown(f\"**Approximate expected optimal profit when using the average** $x=100$ with {distributiontype} demand: ${model.total_expected_profit():.2f}$€\"))\n",
    "    return model.total_expected_profit()\n",
    "\n",
    "np.random.seed(20122020)\n",
    "N = 2500\n",
    "\n",
    "samples = np.random.uniform(low=50.0, high=150.0, size=N)\n",
    "naiveprofit_uniform = NaiveSeafoodStockSAA(N, samples, 'uniform')\n",
    "\n",
    "shape = 2\n",
    "xm = 50\n",
    "samples = (np.random.pareto(a=shape, size=N) + 1) *  xm\n",
    "naiveprofit_pareto = NaiveSeafoodStockSAA(N, samples, 'Pareto')\n",
    "\n",
    "shape=2\n",
    "scale=113\n",
    "samples = scale*np.random.weibull(a=shape, size=N)\n",
    "naiveprofit_weibull = NaiveSeafoodStockSAA(N, samples, 'Weibull')"
   ]
  },
  {
   "cell_type": "markdown",
   "metadata": {
    "id": "JmWrcE-50O8n"
   },
   "source": [
    "(d) Solve approximately the stock optimization problem for each of the three distributions above using the Sample Average Approximation method with $N=2500$ points. More specifically, generate $N=2500$ samples from the considered distribution and solve the extensive form of the stochastic LP resulting from those $N=2500$ scenarios. For each of the three distribution, compare the optimal expected profit with that obtained in (c) and calculate the value of the stochastic solution (VSS)."
   ]
  },
  {
   "cell_type": "code",
   "execution_count": 6,
   "metadata": {
    "ExecuteTime": {
     "end_time": "2022-09-30T22:59:10.663808Z",
     "start_time": "2022-09-30T22:59:08.622057Z"
    },
    "colab": {
     "base_uri": "https://localhost:8080/",
     "height": 415
    },
    "id": "Ad9JCgA9Ae1f",
    "outputId": "067043f8-c496-4b31-df1e-fd4da27c4d73"
   },
   "outputs": [
    {
     "data": {
      "text/markdown": [
       "**Approximate solution in the case of** uniform distribution using $N=2500$ points"
      ],
      "text/plain": [
       "<IPython.core.display.Markdown object>"
      ]
     },
     "metadata": {},
     "output_type": "display_data"
    },
    {
     "data": {
      "text/markdown": [
       "**Solver status:** *ok, optimal*"
      ],
      "text/plain": [
       "<IPython.core.display.Markdown object>"
      ]
     },
     "metadata": {},
     "output_type": "display_data"
    },
    {
     "data": {
      "text/markdown": [
       "**Approximate optimal solution:** $x = 102.46$"
      ],
      "text/plain": [
       "<IPython.core.display.Markdown object>"
      ]
     },
     "metadata": {},
     "output_type": "display_data"
    },
    {
     "data": {
      "text/markdown": [
       "**Approximate expected optimal profit:** $1144.60$€"
      ],
      "text/plain": [
       "<IPython.core.display.Markdown object>"
      ]
     },
     "metadata": {},
     "output_type": "display_data"
    },
    {
     "data": {
      "text/markdown": [
       "**Value of the stochastic solution:** $1144.60-1143.79 = 0.82$€"
      ],
      "text/plain": [
       "<IPython.core.display.Markdown object>"
      ]
     },
     "metadata": {},
     "output_type": "display_data"
    },
    {
     "data": {
      "text/markdown": [
       "**Approximate solution in the case of** Pareto distribution using $N=2500$ points"
      ],
      "text/plain": [
       "<IPython.core.display.Markdown object>"
      ]
     },
     "metadata": {},
     "output_type": "display_data"
    },
    {
     "data": {
      "text/markdown": [
       "**Solver status:** *ok, optimal*"
      ],
      "text/plain": [
       "<IPython.core.display.Markdown object>"
      ]
     },
     "metadata": {},
     "output_type": "display_data"
    },
    {
     "data": {
      "text/markdown": [
       "**Approximate optimal solution:** $x = 74.55$"
      ],
      "text/plain": [
       "<IPython.core.display.Markdown object>"
      ]
     },
     "metadata": {},
     "output_type": "display_data"
    },
    {
     "data": {
      "text/markdown": [
       "**Approximate expected optimal profit:** $896.84$€"
      ],
      "text/plain": [
       "<IPython.core.display.Markdown object>"
      ]
     },
     "metadata": {},
     "output_type": "display_data"
    },
    {
     "data": {
      "text/markdown": [
       "**Value of the stochastic solution:** $896.84-813.34 = 83.50$€"
      ],
      "text/plain": [
       "<IPython.core.display.Markdown object>"
      ]
     },
     "metadata": {},
     "output_type": "display_data"
    },
    {
     "data": {
      "text/markdown": [
       "**Approximate solution in the case of** Weibull distribution using $N=2500$ points"
      ],
      "text/plain": [
       "<IPython.core.display.Markdown object>"
      ]
     },
     "metadata": {},
     "output_type": "display_data"
    },
    {
     "data": {
      "text/markdown": [
       "**Solver status:** *ok, optimal*"
      ],
      "text/plain": [
       "<IPython.core.display.Markdown object>"
      ]
     },
     "metadata": {},
     "output_type": "display_data"
    },
    {
     "data": {
      "text/markdown": [
       "**Approximate optimal solution:** $x = 100.38$"
      ],
      "text/plain": [
       "<IPython.core.display.Markdown object>"
      ]
     },
     "metadata": {},
     "output_type": "display_data"
    },
    {
     "data": {
      "text/markdown": [
       "**Approximate expected optimal profit:** $923.84$€"
      ],
      "text/plain": [
       "<IPython.core.display.Markdown object>"
      ]
     },
     "metadata": {},
     "output_type": "display_data"
    },
    {
     "data": {
      "text/markdown": [
       "**Value of the stochastic solution:** $923.84-923.81 = 0.02$€"
      ],
      "text/plain": [
       "<IPython.core.display.Markdown object>"
      ]
     },
     "metadata": {},
     "output_type": "display_data"
    }
   ],
   "source": [
    "# Two-stage stochastic LP for uniform distribution\n",
    "\n",
    "c = 10\n",
    "p = 25\n",
    "h = 3\n",
    "\n",
    "def SeafoodStockSAA(N, sample, distributiontype):\n",
    "\n",
    "    model = pyo.ConcreteModel()\n",
    "\n",
    "    def indices_rule(model):\n",
    "        return range(N)\n",
    "    model.indices = pyo.Set(initialize=indices_rule)\n",
    "    model.xi = pyo.Param(model.indices, initialize=dict(enumerate(sample)))\n",
    "\n",
    "    # first stage variable\n",
    "    model.x = pyo.Var(within=pyo.NonNegativeReals) #bought\n",
    "\n",
    "    def first_stage_profit(model):\n",
    "        return -c * model.x\n",
    "\n",
    "    model.first_stage_profit = pyo.Expression(rule=first_stage_profit)\n",
    "\n",
    "    # second stage variables\n",
    "    model.y = pyo.Var(model.indices, within=pyo.NonNegativeReals) #sold\n",
    "    model.z = pyo.Var(model.indices, within=pyo.NonNegativeReals) #unsold to be returned \n",
    "\n",
    "    # second stage constraints\n",
    "    model.cantsoldfishidonthave = pyo.ConstraintList()\n",
    "    model.fishdonotdisappear = pyo.ConstraintList()\n",
    "    for i in model.indices:\n",
    "        model.cantsoldfishidonthave.add(expr=model.y[i] <= model.xi[i])\n",
    "        model.fishdonotdisappear.add(expr=model.y[i] + model.z[i] == model.x)\n",
    "\n",
    "    def second_stage_profit(model):\n",
    "        return sum([p * model.y[i] - h * model.z[i] for i in model.indices])/float(N)\n",
    "\n",
    "    model.second_stage_profit = pyo.Expression(rule=second_stage_profit)\n",
    "\n",
    "    def total_profit(model):\n",
    "        return model.first_stage_profit + model.second_stage_profit\n",
    "\n",
    "    model.total_expected_profit = pyo.Objective(rule=total_profit, sense=pyo.maximize)\n",
    "\n",
    "    result = cbc_solver.solve(model)\n",
    "\n",
    "    display(Markdown(f\"**Approximate solution in the case of** {distributiontype} distribution using $N={N:.0f}$ points\"))\n",
    "    display(Markdown(f\"**Solver status:** *{result.solver.status}, {result.solver.termination_condition}*\"))\n",
    "    display(Markdown(f\"**Approximate optimal solution:** $x = {model.x.value:.2f}$ tons\"))\n",
    "    display(Markdown(f\"**Approximate expected optimal profit:** ${model.total_expected_profit():.2f}$€\"))\n",
    "    return model.total_expected_profit()\n",
    "\n",
    "np.random.seed(20122020)\n",
    "N = 2500\n",
    "\n",
    "samples = np.random.uniform(low=50.0, high=150.0, size=N)\n",
    "smartprofit_uniform = SeafoodStockSAA(N, samples, 'uniform')\n",
    "display(Markdown(f\"**Value of the stochastic solution:** ${smartprofit_uniform:.2f}-{naiveprofit_uniform:.2f} = {smartprofit_uniform-naiveprofit_uniform:.2f}$€\"))\n",
    "\n",
    "shape = 2\n",
    "xm = 50\n",
    "samples = (np.random.pareto(a=shape, size=N) + 1) *  xm\n",
    "smartprofit_pareto = SeafoodStockSAA(N, samples, 'Pareto')\n",
    "display(Markdown(f\"**Value of the stochastic solution:** ${smartprofit_pareto:.2f}-{naiveprofit_pareto:.2f} = {smartprofit_pareto-naiveprofit_pareto:.2f}$€\"))\n",
    "\n",
    "shape = 2\n",
    "scale = 113\n",
    "samples = scale*np.random.weibull(a=shape, size=N)\n",
    "smartprofit_weibull = SeafoodStockSAA(N, samples, 'Weibull')\n",
    "display(Markdown(f\"**Value of the stochastic solution:** ${smartprofit_weibull:.2f}-{naiveprofit_weibull:.2f} = {smartprofit_weibull-naiveprofit_weibull:.2f}$€\"))"
   ]
  }
 ],
 "metadata": {
  "colab": {
   "collapsed_sections": [],
   "provenance": []
  },
  "kernelspec": {
   "display_name": "Python 3 (ipykernel)",
   "language": "python",
   "name": "python3"
  },
  "language_info": {
   "codemirror_mode": {
    "name": "ipython",
    "version": 3
   },
   "file_extension": ".py",
   "mimetype": "text/x-python",
   "name": "python",
   "nbconvert_exporter": "python",
   "pygments_lexer": "ipython3",
   "version": "3.9.7"
  },
  "varInspector": {
   "cols": {
    "lenName": 16,
    "lenType": 16,
    "lenVar": 40
   },
   "kernels_config": {
    "python": {
     "delete_cmd_postfix": "",
     "delete_cmd_prefix": "del ",
     "library": "var_list.py",
     "varRefreshCmd": "print(var_dic_list())"
    },
    "r": {
     "delete_cmd_postfix": ") ",
     "delete_cmd_prefix": "rm(",
     "library": "var_list.r",
     "varRefreshCmd": "cat(var_dic_list()) "
    }
   },
   "types_to_exclude": [
    "module",
    "function",
    "builtin_function_or_method",
    "instance",
    "_Feature"
   ],
   "window_display": false
  }
 },
 "nbformat": 4,
 "nbformat_minor": 4
}
