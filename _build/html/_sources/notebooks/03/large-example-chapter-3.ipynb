{
 "cells": [
  {
   "cell_type": "markdown",
   "metadata": {},
   "source": [
    "# BIM Production"
   ]
  },
  {
   "cell_type": "markdown",
   "metadata": {},
   "source": [
    "We consider Caroline's material planning again, but now with more sophisticated pricing and acquisition protocols. \n",
    "There are now three suppliers. \n",
    "The suppliers can deliver the following materials:\n",
    " - A: **silicon**, **germanium** and **plastic**\n",
    " - B: **copper**\n",
    " - C: all of the above\n",
    "Copper should be acquired in multiples of 100 gram, since it is delivered in sheets of 100 gram. \n",
    "Unitary materials such as silicon, germanium and plastic may be acquired in any number, but the price is in batches of 100. Meaning that 30 units of silicon with 10 units of germanium and 50 units of plastic cost as much as 1 unit of silicon but half as much as 30 units of silicon with 30 units of germanium and 50 units of plastic. \n",
    "Furthermore, supplier C sells all materials and offers a discount if purchased together: 100 gram of copper and a batch of unitary material cost just 7. This set price is only applied to pairs, meaning that 100 gram of copper and 2 batches cost 13.\n",
    "\n",
    "The prices are as follows in &euro;:\n",
    "\n",
    "|Supplier|Copper per sheet of 100 gram|Batch of units|Together|\n",
    "|:-------|---------------------:|-----------------:|-------:|\n",
    "| A      |                    - |                5 |      - |\n",
    "| B      |                    3 |                - |      - |\n",
    "| C      |                    4 |                6 |      7 |\n",
    "\n",
    "When stocking materials, the inventory costs are as follows per month:\n",
    "\n",
    "|Copper per 10 gram| Silicon per unit| Germanium per unit|Plastic per unit|\n",
    "|---:|-------:|---:|-----:|\n",
    "| 0.1|   0.02 |0.02| 0.02 |\n",
    "\n",
    "The holding price of copper is per 10 gram and the copper stocked is rounded up to multiples of 10 grams, meaning that 12 grams pay for 20. \n",
    "\n",
    "The capacity limitations of the warehouse allow for a maximum of 10 kilogram of copper in stock at any moment.\n",
    "There are no practical limitations to the number of units in stock.\n",
    "\n",
    "As you recall, Caroline has the following stock at the moment:\n",
    "\n",
    "|Copper |Silicon |Germanium |Plastic|\n",
    "|---:|-------:|---:|-----:|\n",
    "| 480|   1000 |1500| 1750 |\n",
    "\n",
    "Caroline would like to have at least the following stock at the end of the year:\n",
    "\n",
    "|Copper |Silicon |Germanium |Plastic|\n",
    "|---:|-------:|---:|-----:|\n",
    "| 200|    500 | 500| 1000 |\n",
    "\n",
    "Please help her to model the material planning and solve it with the data above. \n",
    "Note that Caroline aims at minimizing the acquisition and holding costs of the materials while meeting the required quantities for production. \n",
    "The production is made to order, meaning that no inventory of chips is kept.\n"
   ]
  },
  {
   "cell_type": "code",
   "execution_count": 1,
   "metadata": {
    "id": "M5Nh7EXxlv6h"
   },
   "outputs": [],
   "source": [
    "import sys\n",
    "if 'google.colab' in sys.modules:\n",
    "    import shutil\n",
    "    if not shutil.which('pyomo'):\n",
    "        !pip install -q pyomo\n",
    "        assert(shutil.which('pyomo'))\n",
    "\n",
    "    # cbc\n",
    "    !apt-get install -y -qq coinor-cbc"
   ]
  },
  {
   "cell_type": "markdown",
   "metadata": {},
   "source": [
    "To be self contained... alternative is to upload and read a file. "
   ]
  },
  {
   "cell_type": "code",
   "execution_count": 2,
   "metadata": {},
   "outputs": [],
   "source": [
    "demand_data = '''chip,Jan,Feb,Mar,Apr,May,Jun,Jul,Aug,Sep,Oct,Nov,Dec\n",
    "Logic,88,125,260,217,238,286,248,238,265,293,259,244\n",
    "Memory,47,62,81,65,95,118,86,89,82,82,84,66'''"
   ]
  },
  {
   "cell_type": "code",
   "execution_count": 3,
   "metadata": {
    "colab": {
     "base_uri": "https://localhost:8080/",
     "height": 143
    },
    "id": "rvWwY74i7qEy",
    "outputId": "47766087-eb87-44e7-d3e2-ac2c00af78f4"
   },
   "outputs": [
    {
     "data": {
      "text/html": [
       "<div>\n",
       "<style scoped>\n",
       "    .dataframe tbody tr th:only-of-type {\n",
       "        vertical-align: middle;\n",
       "    }\n",
       "\n",
       "    .dataframe tbody tr th {\n",
       "        vertical-align: top;\n",
       "    }\n",
       "\n",
       "    .dataframe thead th {\n",
       "        text-align: right;\n",
       "    }\n",
       "</style>\n",
       "<table border=\"1\" class=\"dataframe\">\n",
       "  <thead>\n",
       "    <tr style=\"text-align: right;\">\n",
       "      <th></th>\n",
       "      <th>Jan</th>\n",
       "      <th>Feb</th>\n",
       "      <th>Mar</th>\n",
       "      <th>Apr</th>\n",
       "      <th>May</th>\n",
       "      <th>Jun</th>\n",
       "      <th>Jul</th>\n",
       "      <th>Aug</th>\n",
       "      <th>Sep</th>\n",
       "      <th>Oct</th>\n",
       "      <th>Nov</th>\n",
       "      <th>Dec</th>\n",
       "    </tr>\n",
       "    <tr>\n",
       "      <th>chip</th>\n",
       "      <th></th>\n",
       "      <th></th>\n",
       "      <th></th>\n",
       "      <th></th>\n",
       "      <th></th>\n",
       "      <th></th>\n",
       "      <th></th>\n",
       "      <th></th>\n",
       "      <th></th>\n",
       "      <th></th>\n",
       "      <th></th>\n",
       "      <th></th>\n",
       "    </tr>\n",
       "  </thead>\n",
       "  <tbody>\n",
       "    <tr>\n",
       "      <th>Logic</th>\n",
       "      <td>88</td>\n",
       "      <td>125</td>\n",
       "      <td>260</td>\n",
       "      <td>217</td>\n",
       "      <td>238</td>\n",
       "      <td>286</td>\n",
       "      <td>248</td>\n",
       "      <td>238</td>\n",
       "      <td>265</td>\n",
       "      <td>293</td>\n",
       "      <td>259</td>\n",
       "      <td>244</td>\n",
       "    </tr>\n",
       "    <tr>\n",
       "      <th>Memory</th>\n",
       "      <td>47</td>\n",
       "      <td>62</td>\n",
       "      <td>81</td>\n",
       "      <td>65</td>\n",
       "      <td>95</td>\n",
       "      <td>118</td>\n",
       "      <td>86</td>\n",
       "      <td>89</td>\n",
       "      <td>82</td>\n",
       "      <td>82</td>\n",
       "      <td>84</td>\n",
       "      <td>66</td>\n",
       "    </tr>\n",
       "  </tbody>\n",
       "</table>\n",
       "</div>"
      ],
      "text/plain": [
       "        Jan  Feb  Mar  Apr  May  Jun  Jul  Aug  Sep  Oct  Nov  Dec\n",
       "chip                                                              \n",
       "Logic    88  125  260  217  238  286  248  238  265  293  259  244\n",
       "Memory   47   62   81   65   95  118   86   89   82   82   84   66"
      ]
     },
     "execution_count": 3,
     "metadata": {},
     "output_type": "execute_result"
    }
   ],
   "source": [
    "from io import StringIO\n",
    "import pandas as pd\n",
    "demand_chips = pd.read_csv( StringIO(demand_data), index_col='chip' )\n",
    "demand_chips"
   ]
  },
  {
   "cell_type": "code",
   "execution_count": 4,
   "metadata": {
    "colab": {
     "base_uri": "https://localhost:8080/",
     "height": 174
    },
    "id": "I0Wl0BXOlv6j",
    "outputId": "2f785ea2-a004-4cd6-a65b-75eee443ef71"
   },
   "outputs": [
    {
     "data": {
      "text/html": [
       "<div>\n",
       "<style scoped>\n",
       "    .dataframe tbody tr th:only-of-type {\n",
       "        vertical-align: middle;\n",
       "    }\n",
       "\n",
       "    .dataframe tbody tr th {\n",
       "        vertical-align: top;\n",
       "    }\n",
       "\n",
       "    .dataframe thead th {\n",
       "        text-align: right;\n",
       "    }\n",
       "</style>\n",
       "<table border=\"1\" class=\"dataframe\">\n",
       "  <thead>\n",
       "    <tr style=\"text-align: right;\">\n",
       "      <th></th>\n",
       "      <th>Logic</th>\n",
       "      <th>Memory</th>\n",
       "    </tr>\n",
       "  </thead>\n",
       "  <tbody>\n",
       "    <tr>\n",
       "      <th>silicon</th>\n",
       "      <td>1</td>\n",
       "      <td>0</td>\n",
       "    </tr>\n",
       "    <tr>\n",
       "      <th>plastic</th>\n",
       "      <td>1</td>\n",
       "      <td>1</td>\n",
       "    </tr>\n",
       "    <tr>\n",
       "      <th>copper</th>\n",
       "      <td>4</td>\n",
       "      <td>2</td>\n",
       "    </tr>\n",
       "    <tr>\n",
       "      <th>germanium</th>\n",
       "      <td>0</td>\n",
       "      <td>1</td>\n",
       "    </tr>\n",
       "  </tbody>\n",
       "</table>\n",
       "</div>"
      ],
      "text/plain": [
       "           Logic  Memory\n",
       "silicon        1       0\n",
       "plastic        1       1\n",
       "copper         4       2\n",
       "germanium      0       1"
      ]
     },
     "execution_count": 4,
     "metadata": {},
     "output_type": "execute_result"
    }
   ],
   "source": [
    "use = dict()\n",
    "use['Logic'] = { 'silicon' : 1, 'plastic' : 1, 'copper' : 4 }\n",
    "use['Memory'] = { 'germanium' : 1, 'plastic' : 1, 'copper' : 2 }\n",
    "use = pd.DataFrame.from_dict( use ).fillna(0).astype( int )\n",
    "use"
   ]
  },
  {
   "cell_type": "code",
   "execution_count": 5,
   "metadata": {
    "colab": {
     "base_uri": "https://localhost:8080/",
     "height": 174
    },
    "id": "m8daTOpBlv6k",
    "outputId": "3bff6de3-8759-4dde-95f9-321d3231ccc7"
   },
   "outputs": [
    {
     "data": {
      "text/html": [
       "<div>\n",
       "<style scoped>\n",
       "    .dataframe tbody tr th:only-of-type {\n",
       "        vertical-align: middle;\n",
       "    }\n",
       "\n",
       "    .dataframe tbody tr th {\n",
       "        vertical-align: top;\n",
       "    }\n",
       "\n",
       "    .dataframe thead th {\n",
       "        text-align: right;\n",
       "    }\n",
       "</style>\n",
       "<table border=\"1\" class=\"dataframe\">\n",
       "  <thead>\n",
       "    <tr style=\"text-align: right;\">\n",
       "      <th></th>\n",
       "      <th>Jan</th>\n",
       "      <th>Feb</th>\n",
       "      <th>Mar</th>\n",
       "      <th>Apr</th>\n",
       "      <th>May</th>\n",
       "      <th>Jun</th>\n",
       "      <th>Jul</th>\n",
       "      <th>Aug</th>\n",
       "      <th>Sep</th>\n",
       "      <th>Oct</th>\n",
       "      <th>Nov</th>\n",
       "      <th>Dec</th>\n",
       "    </tr>\n",
       "  </thead>\n",
       "  <tbody>\n",
       "    <tr>\n",
       "      <th>silicon</th>\n",
       "      <td>88</td>\n",
       "      <td>125</td>\n",
       "      <td>260</td>\n",
       "      <td>217</td>\n",
       "      <td>238</td>\n",
       "      <td>286</td>\n",
       "      <td>248</td>\n",
       "      <td>238</td>\n",
       "      <td>265</td>\n",
       "      <td>293</td>\n",
       "      <td>259</td>\n",
       "      <td>244</td>\n",
       "    </tr>\n",
       "    <tr>\n",
       "      <th>plastic</th>\n",
       "      <td>135</td>\n",
       "      <td>187</td>\n",
       "      <td>341</td>\n",
       "      <td>282</td>\n",
       "      <td>333</td>\n",
       "      <td>404</td>\n",
       "      <td>334</td>\n",
       "      <td>327</td>\n",
       "      <td>347</td>\n",
       "      <td>375</td>\n",
       "      <td>343</td>\n",
       "      <td>310</td>\n",
       "    </tr>\n",
       "    <tr>\n",
       "      <th>copper</th>\n",
       "      <td>446</td>\n",
       "      <td>624</td>\n",
       "      <td>1202</td>\n",
       "      <td>998</td>\n",
       "      <td>1142</td>\n",
       "      <td>1380</td>\n",
       "      <td>1164</td>\n",
       "      <td>1130</td>\n",
       "      <td>1224</td>\n",
       "      <td>1336</td>\n",
       "      <td>1204</td>\n",
       "      <td>1108</td>\n",
       "    </tr>\n",
       "    <tr>\n",
       "      <th>germanium</th>\n",
       "      <td>47</td>\n",
       "      <td>62</td>\n",
       "      <td>81</td>\n",
       "      <td>65</td>\n",
       "      <td>95</td>\n",
       "      <td>118</td>\n",
       "      <td>86</td>\n",
       "      <td>89</td>\n",
       "      <td>82</td>\n",
       "      <td>82</td>\n",
       "      <td>84</td>\n",
       "      <td>66</td>\n",
       "    </tr>\n",
       "  </tbody>\n",
       "</table>\n",
       "</div>"
      ],
      "text/plain": [
       "           Jan  Feb   Mar  Apr   May   Jun   Jul   Aug   Sep   Oct   Nov   Dec\n",
       "silicon     88  125   260  217   238   286   248   238   265   293   259   244\n",
       "plastic    135  187   341  282   333   404   334   327   347   375   343   310\n",
       "copper     446  624  1202  998  1142  1380  1164  1130  1224  1336  1204  1108\n",
       "germanium   47   62    81   65    95   118    86    89    82    82    84    66"
      ]
     },
     "execution_count": 5,
     "metadata": {},
     "output_type": "execute_result"
    }
   ],
   "source": [
    "demand = use.dot( demand_chips )\n",
    "demand"
   ]
  },
  {
   "cell_type": "markdown",
   "metadata": {},
   "source": [
    "## DONE\n",
    " - the example has been changed to follow the BIM story\n",
    " - checked that it solves\n",
    " \n",
    "## TODO: \n",
    " - still need to describe the modeling choices.\n",
    " - still need to adjust the code to meet the style guide"
   ]
  },
  {
   "cell_type": "code",
   "execution_count": 6,
   "metadata": {
    "id": "wrTUOqd6lv6k"
   },
   "outputs": [],
   "source": [
    "import pyomo.environ as pyo\n",
    "\n",
    "m = pyo.ConcreteModel(\"Francis' material planning\")  \n",
    "\n",
    "m.periods = demand.keys()\n",
    "m.materials = demand.index"
   ]
  },
  {
   "cell_type": "code",
   "execution_count": 7,
   "metadata": {
    "id": "ipgeJJLmlv6l"
   },
   "outputs": [],
   "source": [
    "m.existing = {'silicon' : 1000, 'germanium': 1500, 'plastic': 1750, 'copper' : 4800 }\n",
    "m.desired  = {'silicon' :  500, 'germanium':  500, 'plastic': 1000, 'copper' : 2000 }"
   ]
  },
  {
   "cell_type": "code",
   "execution_count": 8,
   "metadata": {
    "id": "KDFTQJT8lv6m"
   },
   "outputs": [],
   "source": [
    "m.suppliers        = ['A','B','C']\n",
    "m.supplyingPoles   = [ 'B', 'C' ]\n",
    "m.supplyingBatches = [ 'A', 'C' ]\n",
    "m.givingDiscount   = [ 'C' ]\n",
    "\n",
    "# we express prices in cents to preserve integers\n",
    "m.priceBatch = { 'A': 500, 'C': 600 }\n",
    "m.pricePole  = { 'B': 300, 'C': 400 }\n",
    "m.discount   = m.priceBatch['C']+m.pricePole['C']-700\n",
    "\n",
    "m.batchSize = 100\n",
    "\n",
    "m.unitaryHoldingCosts = { 'copper': 10, 'silicon' : 2, 'germanium': 2, 'plastic': 2 }\n",
    "m.unitaryMaterials = [ 'silicon', 'germanium', 'plastic' ]"
   ]
  },
  {
   "cell_type": "code",
   "execution_count": 9,
   "metadata": {
    "colab": {
     "base_uri": "https://localhost:8080/"
    },
    "id": "4Zq1eODdlv6m",
    "outputId": "41fa249e-6576-43e0-ed3c-d3b4611444ac"
   },
   "outputs": [
    {
     "name": "stdout",
     "output_type": "stream",
     "text": [
      "CPU times: total: 93.8 ms\n",
      "Wall time: 148 ms\n"
     ]
    }
   ],
   "source": [
    "m.stock     = pyo.Var( m.materials, m.periods, within=pyo.NonNegativeReals )\n",
    "m.buy       = pyo.Var( m.supplyingBatches, m.unitaryMaterials, m.periods, within=pyo.NonNegativeReals )\n",
    "m.batches   = pyo.Var( m.supplyingBatches, m.periods, within=pyo.NonNegativeIntegers )\n",
    "m.poles     = pyo.Var( m.supplyingPoles, m.periods, within=pyo.NonNegativeIntegers )\n",
    "m.pairs     = pyo.Var( m.periods, within=pyo.NonNegativeIntegers )\n",
    "m.meters    = pyo.Var( m.periods, within=pyo.NonNegativeIntegers )\n",
    "\n",
    "m.obj = pyo.Objective( expr = sum( m.priceBatch[b] * m.batches[b,i] for b in m.supplyingBatches for i in m.periods )        \\\n",
    "                            + sum( m.pricePole[p] * m.poles[p,i] for p in m.supplyingPoles for i in m.periods )             \\\n",
    "                            - sum( m.discount * m.pairs[i] for i in m.periods )                                                 \\\n",
    "                            + sum( m.unitaryHoldingCosts['copper'] * m.meters[i] for i in m.periods )                             \\\n",
    "                            + sum( m.unitaryHoldingCosts[j] * m.stock[j,i] for j in m.unitaryMaterials for i in m.periods ) \\\n",
    "                     , sense = pyo.minimize\n",
    "                     )\n",
    "\n",
    "def PairsInBatches( m, i ):\n",
    "    return m.pairs[i] <= m.batches['C',i]    \n",
    "def PairsInPoles( m, i ):\n",
    "    return m.pairs[i] <= m.poles['C',i]    \n",
    "\n",
    "m.pairsInBatches = pyo.Constraint( m.periods, rule = PairsInBatches )\n",
    "m.pairsInPoles   = pyo.Constraint( m.periods, rule = PairsInPoles )\n",
    "\n",
    "def WoodStock( m, i ):\n",
    "    return m.stock['copper',i] <= 10*m.meters[i]\n",
    "def WoodStockMax( m, i ):\n",
    "    return m.stock['copper',i] <= 10000\n",
    "def InBatches( m, i, b ):\n",
    "    return sum( m.buy[b,j,i] for j in m.unitaryMaterials ) <= m.batchSize*m.batches[b,i]\n",
    "\n",
    "m.woodStock      = pyo.Constraint( m.periods, rule = WoodStock )\n",
    "m.woodStockMax   = pyo.Constraint( m.periods, rule = WoodStockMax )\n",
    "m.inBatches      = pyo.Constraint( m.periods, m.supplyingBatches, rule = InBatches )\n",
    "\n",
    "m.constraints = pyo.ConstraintList()  # Create a set of constraints\n",
    "\n",
    "first = m.periods[0]\n",
    "last  = m.periods[-1]\n",
    "\n",
    "for j in m.unitaryMaterials:\n",
    "    m.constraints.add( m.stock[j,first] == m.existing[j] + sum(m.buy[b,j,first] for b in m.supplyingBatches) - demand.loc[j,first] )\n",
    "    for prev,current in zip(m.periods,m.periods[1:]):\n",
    "        m.constraints.add( m.stock[j,current] == m.stock[j,prev] + sum(m.buy[b,j,current] for b in m.supplyingBatches) - demand.loc[j,current] )\n",
    "    m.constraints.add( m.stock[j,last] >= m.desired[j] )\n",
    "    \n",
    "m.constraints.add( m.stock['copper',first] == m.existing['copper'] + 100*sum(m.poles[p,first] for p in m.supplyingPoles) - demand.loc['copper',first] )\n",
    "for prev,current in zip(m.periods,m.periods[1:]):\n",
    "    m.constraints.add( m.stock['copper',current] == m.stock['copper',prev] + 100*sum(m.poles[p,current] for p in m.supplyingPoles) - demand.loc['copper',current] )\n",
    "m.constraints.add( m.stock['copper',last] >= m.desired['copper'] )\n",
    "\n",
    "%time results = pyo.SolverFactory('gurobi_direct').solve(m)"
   ]
  },
  {
   "cell_type": "code",
   "execution_count": 10,
   "metadata": {},
   "outputs": [
    {
     "data": {
      "text/plain": [
       "{'Problem': [{'Name': '\"Francis\\' material planning\"', 'Lower bound': 110216.00000000012, 'Upper bound': 110216.00000000012, 'Number of objectives': 1, 'Number of constraints': 124, 'Number of variables': 192, 'Number of binary variables': 0, 'Number of integer variables': 72, 'Number of continuous variables': 120, 'Number of nonzeros': 372, 'Sense': 1, 'Number of solutions': 7}], 'Solver': [{'Name': 'Gurobi 9.50', 'Status': 'ok', 'Wallclock time': 0.030946731567382812, 'Termination condition': 'optimal', 'Termination message': 'Model was solved to optimality (subject to tolerances), and an optimal solution is available.'}], 'Solution': [OrderedDict([('number of solutions', 0), ('number of solutions displayed', 0)])]}"
      ]
     },
     "execution_count": 10,
     "metadata": {},
     "output_type": "execute_result"
    }
   ],
   "source": [
    "results"
   ]
  },
  {
   "cell_type": "code",
   "execution_count": 22,
   "metadata": {
    "colab": {
     "base_uri": "https://localhost:8080/"
    },
    "id": "zBS9tZjFlv6o",
    "outputId": "1a624248-1ed1-4aad-f7c6-f2f771cee8c1"
   },
   "outputs": [
    {
     "name": "stdout",
     "output_type": "stream",
     "text": [
      "\n",
      "Costs :  1102.16\n",
      "\n",
      "      periods  Jan  Feb  Mar  Apr  May  Jun  Jul  Aug  Sep  Oct  Nov  Dec\n",
      "buy\n",
      "A\n",
      "      silicon    0    0    0    0    0    0    0    0    0    0    0    0\n",
      "    germanium    0    0    0    0    0    0    0    0    0    0    0    0\n",
      "      plastic    0    0    0    0    0    0    0    0    0    0    0    0\n",
      "C\n",
      "      silicon    0    0    0    0    0  214  248  274  253  325  203  744\n",
      "    germanium    0    0    0    0    0    0    0    0    0    0    0    0\n",
      "      plastic    0    0    0    0    0   15  252  326  347  375  397 1256\n",
      "batches\n",
      "            A    0    0    0    0    0    0    0    0    0    0    0    0\n",
      "            C    0    0    0    0    0    3    5    6    6    7    6   20\n",
      "poles\n",
      "            B    0    0    0    0    0    7    7    5    7    6    6   11\n",
      "            C    0    0    0    0    0    3    5    6    6    7    6   20\n",
      "\n",
      " pairs from C    0    0    0    0    0    3    5    6    6    7    6   20\n",
      "\n",
      "stock\n",
      "    material from  Jan  Feb  Mar  Apr  May  Jun  Jul  Aug  Sep  Oct  Nov  Dec   to\n",
      "     silicon 1000  912  787  527  310   72    0    0   36   24   56    0  500  500\n",
      "     plastic 1750 1615 1428 1087  805  472   83    1    0    0    0   54 1000 1000\n",
      "      copper 4800 4354 3730 2528 1530  388    8   44   14   90   54   50 2042 2000\n",
      "   germanium 1500 1453 1391 1310 1245 1150 1032  946  857  775  693  609  543  500\n",
      "\n",
      "full copper meters  436  373  253  153   39    1    5    2    9    6    5  205\n"
     ]
    }
   ],
   "source": [
    "if  results.solver.termination_condition == 'optimal':\n",
    "    import numpy as np\n",
    "    np.set_printoptions(edgeitems=3,infstr='inf',linewidth=200, nanstr='nan', precision=15, suppress=False, threshold=1000, formatter=None)\n",
    "    value   = m.obj.expr()\n",
    "    Batches = [ [ m.batches[b,i].value for i in m.periods ] for b in m.supplyingBatches ]\n",
    "    Poles   = [ [ m.poles[b,i].value for i in m.periods ] for b in m.supplyingPoles ]\n",
    "    Pairs   = [ m.pairs[i].value for i in m.periods ] \n",
    "    Buy     = [ [ [ m.buy[s,j,i].value for i in m.periods ] for j in m.unitaryMaterials ] for s in m.supplyingBatches ]\n",
    "    Stock   = [ [ m.stock[j,i].value for i in m.periods ] for j in m.materials ]\n",
    "    Meters  = [ m.meters[i].value for i in m.periods ]\n",
    "    \n",
    "    def months( before='', after='', length=5 ):\n",
    "        return ''.join( ['{:>{l}s}'.format(before,l=length)] + [ '{:>{l}s}'.format(j,l=length) for j in calendar.month_abbr[1:] + ['{:>{l}s}'.format(after,l=length)] ] )\n",
    "        \n",
    "    def describe( list, decimals=0 ):\n",
    "        formattedList = [ '{:5.{prec}f}'.format( member + 0, prec=decimals ) for member in list]\n",
    "        return ''.join(formattedList)\n",
    "        \n",
    "    print('')\n",
    "    print( 'Costs : ', np.around( value/100, 3 ) )\n",
    "    print('')\n",
    "    print( '{:>13s}'.format('periods') + ''.join( [ '{:>{l}s}'.format(p,l=5) for p in m.periods ] ) )\n",
    "    \n",
    "    print( 'buy')\n",
    "    for s,supplier in enumerate(m.supplyingBatches):\n",
    "        print(supplier)\n",
    "        for i,j in enumerate(m.unitaryMaterials):\n",
    "            print('{:>13s}'.format(j) + describe( Buy[s][i] ) )\n",
    "    print( 'batches')\n",
    "    for s,supplier in enumerate(m.supplyingBatches):\n",
    "        print('{:>13s}'.format(supplier) + describe( Batches[s] ) )\n",
    "    print( 'poles' )\n",
    "    for s,supplier in enumerate(m.supplyingPoles):\n",
    "        print('{:>13s}'.format(supplier) + describe( Poles[s] ) )\n",
    "        \n",
    "    print( '' )\n",
    "    print('{:>13s}'.format('pairs from C') + describe( Pairs ) )\n",
    "    print( '' )\n",
    "            \n",
    "    import calendar \n",
    "    print( 'stock')\n",
    "    print( '{:>12s}'.format('material') + months( before='from', after='to') )\n",
    "    for i,j in enumerate(m.materials):\n",
    "        print( '{:>12s}'.format(j) + describe( [m.existing[j]] + Stock[i] + [m.desired[j]] ) )\n",
    "       \n",
    "    print( '' )\n",
    "    print('{:>17s}'.format('full copper meters') + describe( Meters ) )"
   ]
  },
  {
   "cell_type": "markdown",
   "metadata": {
    "id": "1BmHvEeJ8_PV"
   },
   "source": [
    "## Tabular variables are ideal for dataframes"
   ]
  },
  {
   "cell_type": "code",
   "execution_count": 23,
   "metadata": {
    "id": "OH71C0Iulv6o"
   },
   "outputs": [],
   "source": [
    "def ShowTriple( X, I,J,K, names ):\n",
    "    index = pd.MultiIndex.from_product([I,J], names=names)\n",
    "    return pd.DataFrame.from_records( [ [ X[i,j,k].value for k in K ] for i in I for j in J ],index=index,columns=K )\n",
    "def ShowDouble( X, I,J ):\n",
    "    return pd.DataFrame.from_records( [ [ X[i,j].value for j in J ] for i in I ], index=I, columns=J )\n",
    "def ShowSingle( X, I ):\n",
    "    return pd.DataFrame( [ X[i].value for i in I ], index=I ).T"
   ]
  },
  {
   "cell_type": "code",
   "execution_count": 24,
   "metadata": {
    "colab": {
     "base_uri": "https://localhost:8080/",
     "height": 267
    },
    "id": "-ip5PqG4lv6p",
    "outputId": "8b9d77b1-dcd5-4985-b622-a0a50637a23d"
   },
   "outputs": [
    {
     "data": {
      "text/html": [
       "<div>\n",
       "<style scoped>\n",
       "    .dataframe tbody tr th:only-of-type {\n",
       "        vertical-align: middle;\n",
       "    }\n",
       "\n",
       "    .dataframe tbody tr th {\n",
       "        vertical-align: top;\n",
       "    }\n",
       "\n",
       "    .dataframe thead th {\n",
       "        text-align: right;\n",
       "    }\n",
       "</style>\n",
       "<table border=\"1\" class=\"dataframe\">\n",
       "  <thead>\n",
       "    <tr style=\"text-align: right;\">\n",
       "      <th></th>\n",
       "      <th></th>\n",
       "      <th>Jan</th>\n",
       "      <th>Feb</th>\n",
       "      <th>Mar</th>\n",
       "      <th>Apr</th>\n",
       "      <th>May</th>\n",
       "      <th>Jun</th>\n",
       "      <th>Jul</th>\n",
       "      <th>Aug</th>\n",
       "      <th>Sep</th>\n",
       "      <th>Oct</th>\n",
       "      <th>Nov</th>\n",
       "      <th>Dec</th>\n",
       "    </tr>\n",
       "    <tr>\n",
       "      <th>supplier</th>\n",
       "      <th>materials</th>\n",
       "      <th></th>\n",
       "      <th></th>\n",
       "      <th></th>\n",
       "      <th></th>\n",
       "      <th></th>\n",
       "      <th></th>\n",
       "      <th></th>\n",
       "      <th></th>\n",
       "      <th></th>\n",
       "      <th></th>\n",
       "      <th></th>\n",
       "      <th></th>\n",
       "    </tr>\n",
       "  </thead>\n",
       "  <tbody>\n",
       "    <tr>\n",
       "      <th rowspan=\"3\" valign=\"top\">A</th>\n",
       "      <th>silicon</th>\n",
       "      <td>0</td>\n",
       "      <td>0</td>\n",
       "      <td>0</td>\n",
       "      <td>0</td>\n",
       "      <td>0</td>\n",
       "      <td>0</td>\n",
       "      <td>0</td>\n",
       "      <td>0</td>\n",
       "      <td>0</td>\n",
       "      <td>0</td>\n",
       "      <td>0</td>\n",
       "      <td>0</td>\n",
       "    </tr>\n",
       "    <tr>\n",
       "      <th>germanium</th>\n",
       "      <td>0</td>\n",
       "      <td>0</td>\n",
       "      <td>0</td>\n",
       "      <td>0</td>\n",
       "      <td>0</td>\n",
       "      <td>0</td>\n",
       "      <td>0</td>\n",
       "      <td>0</td>\n",
       "      <td>0</td>\n",
       "      <td>0</td>\n",
       "      <td>0</td>\n",
       "      <td>0</td>\n",
       "    </tr>\n",
       "    <tr>\n",
       "      <th>plastic</th>\n",
       "      <td>0</td>\n",
       "      <td>0</td>\n",
       "      <td>0</td>\n",
       "      <td>0</td>\n",
       "      <td>0</td>\n",
       "      <td>0</td>\n",
       "      <td>0</td>\n",
       "      <td>0</td>\n",
       "      <td>0</td>\n",
       "      <td>0</td>\n",
       "      <td>0</td>\n",
       "      <td>0</td>\n",
       "    </tr>\n",
       "    <tr>\n",
       "      <th rowspan=\"3\" valign=\"top\">C</th>\n",
       "      <th>silicon</th>\n",
       "      <td>0</td>\n",
       "      <td>0</td>\n",
       "      <td>0</td>\n",
       "      <td>0</td>\n",
       "      <td>0</td>\n",
       "      <td>213</td>\n",
       "      <td>248</td>\n",
       "      <td>273</td>\n",
       "      <td>253</td>\n",
       "      <td>325</td>\n",
       "      <td>203</td>\n",
       "      <td>744</td>\n",
       "    </tr>\n",
       "    <tr>\n",
       "      <th>germanium</th>\n",
       "      <td>0</td>\n",
       "      <td>0</td>\n",
       "      <td>0</td>\n",
       "      <td>0</td>\n",
       "      <td>0</td>\n",
       "      <td>0</td>\n",
       "      <td>0</td>\n",
       "      <td>0</td>\n",
       "      <td>0</td>\n",
       "      <td>0</td>\n",
       "      <td>0</td>\n",
       "      <td>0</td>\n",
       "    </tr>\n",
       "    <tr>\n",
       "      <th>plastic</th>\n",
       "      <td>0</td>\n",
       "      <td>0</td>\n",
       "      <td>0</td>\n",
       "      <td>0</td>\n",
       "      <td>0</td>\n",
       "      <td>15</td>\n",
       "      <td>251</td>\n",
       "      <td>326</td>\n",
       "      <td>347</td>\n",
       "      <td>375</td>\n",
       "      <td>396</td>\n",
       "      <td>1256</td>\n",
       "    </tr>\n",
       "  </tbody>\n",
       "</table>\n",
       "</div>"
      ],
      "text/plain": [
       "                    Jan  Feb  Mar  Apr  May  Jun  Jul  Aug  Sep  Oct  Nov  \\\n",
       "supplier materials                                                          \n",
       "A        silicon      0    0    0    0    0    0    0    0    0    0    0   \n",
       "         germanium    0    0    0    0    0    0    0    0    0    0    0   \n",
       "         plastic      0    0    0    0    0    0    0    0    0    0    0   \n",
       "C        silicon      0    0    0    0    0  213  248  273  253  325  203   \n",
       "         germanium    0    0    0    0    0    0    0    0    0    0    0   \n",
       "         plastic      0    0    0    0    0   15  251  326  347  375  396   \n",
       "\n",
       "                     Dec  \n",
       "supplier materials        \n",
       "A        silicon       0  \n",
       "         germanium     0  \n",
       "         plastic       0  \n",
       "C        silicon     744  \n",
       "         germanium     0  \n",
       "         plastic    1256  "
      ]
     },
     "execution_count": 24,
     "metadata": {},
     "output_type": "execute_result"
    }
   ],
   "source": [
    "ShowTriple( m.buy, m.supplyingBatches, m.unitaryMaterials, m.periods, ['supplier','materials'] ).astype(int)"
   ]
  },
  {
   "cell_type": "code",
   "execution_count": 25,
   "metadata": {
    "colab": {
     "base_uri": "https://localhost:8080/",
     "height": 174
    },
    "id": "Q9bNQnoxlv6p",
    "outputId": "83f1cf4f-f8c6-43db-9497-bd60b2d846d0"
   },
   "outputs": [
    {
     "data": {
      "text/html": [
       "<div>\n",
       "<style scoped>\n",
       "    .dataframe tbody tr th:only-of-type {\n",
       "        vertical-align: middle;\n",
       "    }\n",
       "\n",
       "    .dataframe tbody tr th {\n",
       "        vertical-align: top;\n",
       "    }\n",
       "\n",
       "    .dataframe thead th {\n",
       "        text-align: right;\n",
       "    }\n",
       "</style>\n",
       "<table border=\"1\" class=\"dataframe\">\n",
       "  <thead>\n",
       "    <tr style=\"text-align: right;\">\n",
       "      <th></th>\n",
       "      <th>Jan</th>\n",
       "      <th>Feb</th>\n",
       "      <th>Mar</th>\n",
       "      <th>Apr</th>\n",
       "      <th>May</th>\n",
       "      <th>Jun</th>\n",
       "      <th>Jul</th>\n",
       "      <th>Aug</th>\n",
       "      <th>Sep</th>\n",
       "      <th>Oct</th>\n",
       "      <th>Nov</th>\n",
       "      <th>Dec</th>\n",
       "    </tr>\n",
       "  </thead>\n",
       "  <tbody>\n",
       "    <tr>\n",
       "      <th>silicon</th>\n",
       "      <td>912</td>\n",
       "      <td>787</td>\n",
       "      <td>527</td>\n",
       "      <td>310</td>\n",
       "      <td>72</td>\n",
       "      <td>0</td>\n",
       "      <td>0</td>\n",
       "      <td>35</td>\n",
       "      <td>23</td>\n",
       "      <td>55</td>\n",
       "      <td>0</td>\n",
       "      <td>500</td>\n",
       "    </tr>\n",
       "    <tr>\n",
       "      <th>plastic</th>\n",
       "      <td>1615</td>\n",
       "      <td>1428</td>\n",
       "      <td>1087</td>\n",
       "      <td>805</td>\n",
       "      <td>472</td>\n",
       "      <td>83</td>\n",
       "      <td>0</td>\n",
       "      <td>0</td>\n",
       "      <td>0</td>\n",
       "      <td>0</td>\n",
       "      <td>53</td>\n",
       "      <td>999</td>\n",
       "    </tr>\n",
       "    <tr>\n",
       "      <th>copper</th>\n",
       "      <td>4354</td>\n",
       "      <td>3730</td>\n",
       "      <td>2528</td>\n",
       "      <td>1530</td>\n",
       "      <td>388</td>\n",
       "      <td>8</td>\n",
       "      <td>44</td>\n",
       "      <td>14</td>\n",
       "      <td>90</td>\n",
       "      <td>54</td>\n",
       "      <td>50</td>\n",
       "      <td>2042</td>\n",
       "    </tr>\n",
       "    <tr>\n",
       "      <th>germanium</th>\n",
       "      <td>1453</td>\n",
       "      <td>1391</td>\n",
       "      <td>1310</td>\n",
       "      <td>1245</td>\n",
       "      <td>1150</td>\n",
       "      <td>1032</td>\n",
       "      <td>946</td>\n",
       "      <td>857</td>\n",
       "      <td>775</td>\n",
       "      <td>693</td>\n",
       "      <td>609</td>\n",
       "      <td>543</td>\n",
       "    </tr>\n",
       "  </tbody>\n",
       "</table>\n",
       "</div>"
      ],
      "text/plain": [
       "            Jan   Feb   Mar   Apr   May   Jun  Jul  Aug  Sep  Oct  Nov   Dec\n",
       "silicon     912   787   527   310    72     0    0   35   23   55    0   500\n",
       "plastic    1615  1428  1087   805   472    83    0    0    0    0   53   999\n",
       "copper     4354  3730  2528  1530   388     8   44   14   90   54   50  2042\n",
       "germanium  1453  1391  1310  1245  1150  1032  946  857  775  693  609   543"
      ]
     },
     "execution_count": 25,
     "metadata": {},
     "output_type": "execute_result"
    }
   ],
   "source": [
    "ShowDouble( m.stock, m.materials, m.periods ).astype(int)"
   ]
  },
  {
   "cell_type": "code",
   "execution_count": 26,
   "metadata": {
    "colab": {
     "base_uri": "https://localhost:8080/",
     "height": 111
    },
    "id": "FT24pY1Ulv6q",
    "outputId": "71b91117-64eb-4b2c-8356-26af2233cf4d"
   },
   "outputs": [
    {
     "data": {
      "text/html": [
       "<div>\n",
       "<style scoped>\n",
       "    .dataframe tbody tr th:only-of-type {\n",
       "        vertical-align: middle;\n",
       "    }\n",
       "\n",
       "    .dataframe tbody tr th {\n",
       "        vertical-align: top;\n",
       "    }\n",
       "\n",
       "    .dataframe thead th {\n",
       "        text-align: right;\n",
       "    }\n",
       "</style>\n",
       "<table border=\"1\" class=\"dataframe\">\n",
       "  <thead>\n",
       "    <tr style=\"text-align: right;\">\n",
       "      <th></th>\n",
       "      <th>Jan</th>\n",
       "      <th>Feb</th>\n",
       "      <th>Mar</th>\n",
       "      <th>Apr</th>\n",
       "      <th>May</th>\n",
       "      <th>Jun</th>\n",
       "      <th>Jul</th>\n",
       "      <th>Aug</th>\n",
       "      <th>Sep</th>\n",
       "      <th>Oct</th>\n",
       "      <th>Nov</th>\n",
       "      <th>Dec</th>\n",
       "    </tr>\n",
       "  </thead>\n",
       "  <tbody>\n",
       "    <tr>\n",
       "      <th>A</th>\n",
       "      <td>0</td>\n",
       "      <td>0</td>\n",
       "      <td>0</td>\n",
       "      <td>0</td>\n",
       "      <td>0</td>\n",
       "      <td>0</td>\n",
       "      <td>0</td>\n",
       "      <td>0</td>\n",
       "      <td>0</td>\n",
       "      <td>0</td>\n",
       "      <td>0</td>\n",
       "      <td>0</td>\n",
       "    </tr>\n",
       "    <tr>\n",
       "      <th>C</th>\n",
       "      <td>0</td>\n",
       "      <td>0</td>\n",
       "      <td>0</td>\n",
       "      <td>0</td>\n",
       "      <td>0</td>\n",
       "      <td>3</td>\n",
       "      <td>5</td>\n",
       "      <td>6</td>\n",
       "      <td>6</td>\n",
       "      <td>7</td>\n",
       "      <td>6</td>\n",
       "      <td>20</td>\n",
       "    </tr>\n",
       "  </tbody>\n",
       "</table>\n",
       "</div>"
      ],
      "text/plain": [
       "   Jan  Feb  Mar  Apr  May  Jun  Jul  Aug  Sep  Oct  Nov  Dec\n",
       "A    0    0    0    0    0    0    0    0    0    0    0    0\n",
       "C    0    0    0    0    0    3    5    6    6    7    6   20"
      ]
     },
     "execution_count": 26,
     "metadata": {},
     "output_type": "execute_result"
    }
   ],
   "source": [
    "ShowDouble( m.batches, m.supplyingBatches, m.periods ).astype(int)"
   ]
  },
  {
   "cell_type": "code",
   "execution_count": 27,
   "metadata": {
    "colab": {
     "base_uri": "https://localhost:8080/",
     "height": 111
    },
    "id": "BlodLIC61Vlm",
    "outputId": "ead92968-7b3e-46ce-b7f6-4fd9c1c6626f"
   },
   "outputs": [
    {
     "data": {
      "text/html": [
       "<div>\n",
       "<style scoped>\n",
       "    .dataframe tbody tr th:only-of-type {\n",
       "        vertical-align: middle;\n",
       "    }\n",
       "\n",
       "    .dataframe tbody tr th {\n",
       "        vertical-align: top;\n",
       "    }\n",
       "\n",
       "    .dataframe thead th {\n",
       "        text-align: right;\n",
       "    }\n",
       "</style>\n",
       "<table border=\"1\" class=\"dataframe\">\n",
       "  <thead>\n",
       "    <tr style=\"text-align: right;\">\n",
       "      <th></th>\n",
       "      <th>Jan</th>\n",
       "      <th>Feb</th>\n",
       "      <th>Mar</th>\n",
       "      <th>Apr</th>\n",
       "      <th>May</th>\n",
       "      <th>Jun</th>\n",
       "      <th>Jul</th>\n",
       "      <th>Aug</th>\n",
       "      <th>Sep</th>\n",
       "      <th>Oct</th>\n",
       "      <th>Nov</th>\n",
       "      <th>Dec</th>\n",
       "    </tr>\n",
       "  </thead>\n",
       "  <tbody>\n",
       "    <tr>\n",
       "      <th>B</th>\n",
       "      <td>0</td>\n",
       "      <td>0</td>\n",
       "      <td>0</td>\n",
       "      <td>0</td>\n",
       "      <td>0</td>\n",
       "      <td>7</td>\n",
       "      <td>7</td>\n",
       "      <td>5</td>\n",
       "      <td>7</td>\n",
       "      <td>6</td>\n",
       "      <td>6</td>\n",
       "      <td>11</td>\n",
       "    </tr>\n",
       "    <tr>\n",
       "      <th>C</th>\n",
       "      <td>0</td>\n",
       "      <td>0</td>\n",
       "      <td>0</td>\n",
       "      <td>0</td>\n",
       "      <td>0</td>\n",
       "      <td>3</td>\n",
       "      <td>5</td>\n",
       "      <td>6</td>\n",
       "      <td>6</td>\n",
       "      <td>7</td>\n",
       "      <td>6</td>\n",
       "      <td>20</td>\n",
       "    </tr>\n",
       "  </tbody>\n",
       "</table>\n",
       "</div>"
      ],
      "text/plain": [
       "   Jan  Feb  Mar  Apr  May  Jun  Jul  Aug  Sep  Oct  Nov  Dec\n",
       "B    0    0    0    0    0    7    7    5    7    6    6   11\n",
       "C    0    0    0    0    0    3    5    6    6    7    6   20"
      ]
     },
     "execution_count": 27,
     "metadata": {},
     "output_type": "execute_result"
    }
   ],
   "source": [
    "ShowDouble( m.poles, m.supplyingPoles, m.periods ).astype(int)"
   ]
  },
  {
   "cell_type": "code",
   "execution_count": 28,
   "metadata": {
    "colab": {
     "base_uri": "https://localhost:8080/",
     "height": 80
    },
    "id": "5oOpFhqjlv6q",
    "outputId": "bcce789e-97d2-4887-c97a-604f54cf4db2"
   },
   "outputs": [
    {
     "data": {
      "text/html": [
       "<div>\n",
       "<style scoped>\n",
       "    .dataframe tbody tr th:only-of-type {\n",
       "        vertical-align: middle;\n",
       "    }\n",
       "\n",
       "    .dataframe tbody tr th {\n",
       "        vertical-align: top;\n",
       "    }\n",
       "\n",
       "    .dataframe thead th {\n",
       "        text-align: right;\n",
       "    }\n",
       "</style>\n",
       "<table border=\"1\" class=\"dataframe\">\n",
       "  <thead>\n",
       "    <tr style=\"text-align: right;\">\n",
       "      <th></th>\n",
       "      <th>Jan</th>\n",
       "      <th>Feb</th>\n",
       "      <th>Mar</th>\n",
       "      <th>Apr</th>\n",
       "      <th>May</th>\n",
       "      <th>Jun</th>\n",
       "      <th>Jul</th>\n",
       "      <th>Aug</th>\n",
       "      <th>Sep</th>\n",
       "      <th>Oct</th>\n",
       "      <th>Nov</th>\n",
       "      <th>Dec</th>\n",
       "    </tr>\n",
       "  </thead>\n",
       "  <tbody>\n",
       "    <tr>\n",
       "      <th>0</th>\n",
       "      <td>0</td>\n",
       "      <td>0</td>\n",
       "      <td>0</td>\n",
       "      <td>0</td>\n",
       "      <td>0</td>\n",
       "      <td>3</td>\n",
       "      <td>5</td>\n",
       "      <td>6</td>\n",
       "      <td>6</td>\n",
       "      <td>7</td>\n",
       "      <td>6</td>\n",
       "      <td>20</td>\n",
       "    </tr>\n",
       "  </tbody>\n",
       "</table>\n",
       "</div>"
      ],
      "text/plain": [
       "   Jan  Feb  Mar  Apr  May  Jun  Jul  Aug  Sep  Oct  Nov  Dec\n",
       "0    0    0    0    0    0    3    5    6    6    7    6   20"
      ]
     },
     "execution_count": 28,
     "metadata": {},
     "output_type": "execute_result"
    }
   ],
   "source": [
    "ShowSingle( m.pairs, m.periods ).astype(int)"
   ]
  },
  {
   "cell_type": "code",
   "execution_count": 29,
   "metadata": {
    "colab": {
     "base_uri": "https://localhost:8080/",
     "height": 80
    },
    "id": "FTkkQpvolv6r",
    "outputId": "788a4ad6-fc9a-4537-ec1d-63cf3480ed54"
   },
   "outputs": [
    {
     "data": {
      "text/html": [
       "<div>\n",
       "<style scoped>\n",
       "    .dataframe tbody tr th:only-of-type {\n",
       "        vertical-align: middle;\n",
       "    }\n",
       "\n",
       "    .dataframe tbody tr th {\n",
       "        vertical-align: top;\n",
       "    }\n",
       "\n",
       "    .dataframe thead th {\n",
       "        text-align: right;\n",
       "    }\n",
       "</style>\n",
       "<table border=\"1\" class=\"dataframe\">\n",
       "  <thead>\n",
       "    <tr style=\"text-align: right;\">\n",
       "      <th></th>\n",
       "      <th>Jan</th>\n",
       "      <th>Feb</th>\n",
       "      <th>Mar</th>\n",
       "      <th>Apr</th>\n",
       "      <th>May</th>\n",
       "      <th>Jun</th>\n",
       "      <th>Jul</th>\n",
       "      <th>Aug</th>\n",
       "      <th>Sep</th>\n",
       "      <th>Oct</th>\n",
       "      <th>Nov</th>\n",
       "      <th>Dec</th>\n",
       "    </tr>\n",
       "  </thead>\n",
       "  <tbody>\n",
       "    <tr>\n",
       "      <th>0</th>\n",
       "      <td>436</td>\n",
       "      <td>373</td>\n",
       "      <td>253</td>\n",
       "      <td>153</td>\n",
       "      <td>39</td>\n",
       "      <td>1</td>\n",
       "      <td>5</td>\n",
       "      <td>2</td>\n",
       "      <td>9</td>\n",
       "      <td>6</td>\n",
       "      <td>5</td>\n",
       "      <td>205</td>\n",
       "    </tr>\n",
       "  </tbody>\n",
       "</table>\n",
       "</div>"
      ],
      "text/plain": [
       "   Jan  Feb  Mar  Apr  May  Jun  Jul  Aug  Sep  Oct  Nov  Dec\n",
       "0  436  373  253  153   39    1    5    2    9    6    5  205"
      ]
     },
     "execution_count": 29,
     "metadata": {},
     "output_type": "execute_result"
    }
   ],
   "source": [
    "ShowSingle( m.meters, m.periods ).astype(int)"
   ]
  },
  {
   "cell_type": "markdown",
   "metadata": {
    "id": "-eipkij09HLV"
   },
   "source": [
    "## Dataframes come with a wealth of ready made graphics"
   ]
  },
  {
   "cell_type": "code",
   "execution_count": 30,
   "metadata": {
    "id": "So23C6wJm-jL"
   },
   "outputs": [],
   "source": [
    "stock = ShowDouble( m.stock, m.materials, m.periods ).astype(int).T\n",
    "%matplotlib inline\n",
    "import matplotlib.pyplot as plt"
   ]
  },
  {
   "cell_type": "code",
   "execution_count": 31,
   "metadata": {
    "colab": {
     "base_uri": "https://localhost:8080/",
     "height": 809
    },
    "id": "GcYJ_olN339A",
    "outputId": "8450f44b-b4d6-4cb0-c7e9-3fe282152864"
   },
   "outputs": [
    {
     "data": {
      "image/png": "[encoded data removed]",
      "text/plain": [
       "<Figure size 936x288 with 1 Axes>"
      ]
     },
     "metadata": {
      "needs_background": "light"
     },
     "output_type": "display_data"
    },
    {
     "data": {
      "image/png": "[encoded data removed]",
      "text/plain": [
       "<Figure size 936x288 with 1 Axes>"
      ]
     },
     "metadata": {
      "needs_background": "light"
     },
     "output_type": "display_data"
    },
    {
     "data": {
      "image/png": "[encoded data removed]",
      "text/plain": [
       "<Figure size 936x288 with 1 Axes>"
      ]
     },
     "metadata": {
      "needs_background": "light"
     },
     "output_type": "display_data"
    }
   ],
   "source": [
    "steps = ['pre','mid','post']\n",
    "for s in steps:\n",
    "  step = 'steps-'+s\n",
    "  ax = stock.plot(drawstyle=step,grid=True, figsize=(13,4), title=step)\n",
    "  ax.set_xticks(range(len(stock.index)))\n",
    "  ax.set_xticklabels(stock.index)\n",
    "  plt.show()"
   ]
  },
  {
   "cell_type": "code",
   "execution_count": 32,
   "metadata": {
    "colab": {
     "base_uri": "https://localhost:8080/",
     "height": 281
    },
    "id": "8040-V_c6p7t",
    "outputId": "38eed4a6-1413-4d92-e5d5-67166a4872df"
   },
   "outputs": [
    {
     "data": {
      "image/png": "[encoded data removed]",
      "text/plain": [
       "<Figure size 936x288 with 1 Axes>"
      ]
     },
     "metadata": {
      "needs_background": "light"
     },
     "output_type": "display_data"
    }
   ],
   "source": [
    "ax = stock.plot(drawstyle='steps-'+steps[0],figsize=(13,4), title='per month')\n",
    "ax.set_xticks(range(len(stock.index)))\n",
    "ax.set_xticklabels(stock.index)\n",
    "for s in steps[-1:]:\n",
    "  step = 'steps-'+s\n",
    "  stock.plot(ax=ax,drawstyle=step, ls=':')\n",
    "plt.legend(ncol=2,handleheight=2.4, labelspacing=0.05)\n",
    "plt.show()"
   ]
  }
 ],
 "metadata": {
  "colab": {
   "collapsed_sections": [],
   "name": "DSE-5.1 2021 - Francis' material planning - a possible resolution.ipynb",
   "provenance": []
  },
  "kernelspec": {
   "display_name": "Python 3 (ipykernel)",
   "language": "python",
   "name": "python3"
  },
  "language_info": {
   "codemirror_mode": {
    "name": "ipython",
    "version": 3
   },
   "file_extension": ".py",
   "mimetype": "text/x-python",
   "name": "python",
   "nbconvert_exporter": "python",
   "pygments_lexer": "ipython3",
   "version": "3.9.7"
  }
 },
 "nbformat": 4,
 "nbformat_minor": 4
}
