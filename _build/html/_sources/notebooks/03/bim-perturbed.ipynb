{
 "cells": [
  {
   "cell_type": "markdown",
   "id": "236fc575-3f76-4906-b795-7ff47cdcb2b8",
   "metadata": {},
   "source": [
    "```{index} single: solver; cbc\n",
    "```\n",
    "```{index} single: application; production planning\n",
    "```\n",
    "\n",
    "# BIM production with perturbed data"
   ]
  },
  {
   "cell_type": "code",
   "execution_count": 1,
   "id": "88547152-b76c-4a6f-9b6d-2e43ace3a637",
   "metadata": {
    "execution": {
     "iopub.execute_input": "2023-01-18T15:57:04.619130Z",
     "iopub.status.busy": "2023-01-18T15:57:04.618513Z",
     "iopub.status.idle": "2023-01-18T15:57:04.780391Z",
     "shell.execute_reply": "2023-01-18T15:57:04.779101Z",
     "shell.execute_reply.started": "2023-01-18T15:57:04.619099Z"
    }
   },
   "outputs": [
    {
     "name": "stdout",
     "output_type": "stream",
     "text": [
      "pyomo was previously installed\n",
      "cbc was previously installed\n"
     ]
    },
    {
     "data": {
      "text/plain": [
       "True"
      ]
     },
     "execution_count": 1,
     "metadata": {},
     "output_type": "execute_result"
    }
   ],
   "source": [
    "# install Pyomo and solvers\n",
    "import requests\n",
    "import types\n",
    "\n",
    "url = \"https://raw.githubusercontent.com/mobook/MO-book/main/python/helper.py\"\n",
    "helper = types.ModuleType(\"helper\")\n",
    "exec(requests.get(url).content, helper.__dict__)\n",
    "\n",
    "helper.install_pyomo()\n",
    "helper.install_cbc()"
   ]
  },
  {
   "cell_type": "markdown",
   "id": "69b647c3-f706-4591-8287-f10921ff6efa",
   "metadata": {},
   "source": [
    "## Problem description\n",
    "\n",
    "The company BIM realizes that a $1\\%$ fraction of the copper always gets wasted while producing both types of microchips, more specifically $1\\%$ of the required amount. This means that it actually takes $4.04$ gr of copper to produce a logic chip and $2.02$ gr of copper to produce a memory chip. If we rewrite the linear problem of [the basic BIM problem](../02/bim.ipynb) and modify accordingly the coefficients in the corresponding constraints, we obtain the following problem \n",
    "\n",
    "$$\n",
    "\\begin{align*}\n",
    "        \\max \\quad & 12x_1+9x_2  \\\\\n",
    "        \\text{s.t.} \\quad & x_1 \\leq 1000 & \\text{(silicon)}\\\\\n",
    "        & x_2 \\leq 1500 & \\text{(germanium)}\\\\\n",
    "        & x_1+x_2 \\leq 1750 & \\text{(plastic)}\\\\\n",
    "        & 4.04 x_1+2.02 x_2 \\leq 4800 & \\text{(copper with waste)}\\\\\n",
    "        &x_1, x_2 \\geq 0.\n",
    "\\end{align*}\n",
    "$$\n",
    "\n",
    "If we solve it, we obtain a different optimal solution than the original one, namely $(x_1,x_2) \\approx (626.238,1123.762)$ and an optimal value of roughly $17628.713$. Note, in particular, that this new optimal solution is not integer, but on the other hand in the LP above there is no constraint requiring $x_1$ and $x_2$ to be such."
   ]
  },
  {
   "cell_type": "code",
   "execution_count": 2,
   "id": "a0c47721-754d-421c-93d1-a5539852ff41",
   "metadata": {
    "execution": {
     "iopub.execute_input": "2023-01-18T15:57:04.782684Z",
     "iopub.status.busy": "2023-01-18T15:57:04.782263Z",
     "iopub.status.idle": "2023-01-18T15:57:05.229823Z",
     "shell.execute_reply": "2023-01-18T15:57:05.228662Z",
     "shell.execute_reply.started": "2023-01-18T15:57:04.782659Z"
    }
   },
   "outputs": [
    {
     "name": "stdout",
     "output_type": "stream",
     "text": [
      "x = (626.238, 1123.762), optimal value = 17628.713\n"
     ]
    }
   ],
   "source": [
    "import pyomo.environ as pyo\n",
    "\n",
    "m    = pyo.ConcreteModel('BIM perturbed LP')\n",
    "\n",
    "m.x1 = pyo.Var(domain=pyo.NonNegativeReals)\n",
    "m.x2 = pyo.Var(domain=pyo.NonNegativeReals)\n",
    "\n",
    "m.profit    = pyo.Objective( expr = 12*m.x1 + 9*m.x2, sense= pyo.maximize)\n",
    "\n",
    "m.silicon   = pyo.Constraint(expr =       m.x1             <= 1000)\n",
    "m.germanium = pyo.Constraint(expr =                   m.x2 <= 1500)\n",
    "m.plastic   = pyo.Constraint(expr =       m.x1 +      m.x2 <= 1750)\n",
    "m.copper    = pyo.Constraint(expr =  4.04*m.x1 + 2.02*m.x2 <= 4800)\n",
    "\n",
    "pyo.SolverFactory('cbc').solve(m)\n",
    "\n",
    "print('x = ({:.3f}, {:.3f}), optimal value = {:.3f}'.format(\n",
    "    pyo.value(m.x1),\n",
    "    pyo.value(m.x2),\n",
    "    pyo.value(m.profit)))"
   ]
  },
  {
   "cell_type": "markdown",
   "id": "fc74513f-5b6a-4aac-9284-619533ac64b1",
   "metadata": {},
   "source": [
    "In terms of production, of course, we would simply produce entire chips but it is not clear how to implement the fractional solution $(x_1,x_2) \\approx (626.238,1123.762)$. Rounding down to $(x_1,x_2) = (626,1123)$ will intuitively yield a feasible solution, but we might be giving away some profit and/or not using efficiently the available material. Rounding up to $(x_1,x_2) = (627,1124)$ could possibly lead to an unfeasible solution for which the available material is not enough. We can of course manually inspect by hand all these candidate integer solutions, but if the problem involved many more decision variables or had a more complex structure, this would become much harder and possibly not lead to the true optimal solution.\n",
    "\n",
    "A much safer approach is to explicitly require the two decision variables to be nonnegative integers, thus transforming the original into the following MILP:\n",
    "\n",
    "$$\n",
    "\\begin{align*}\n",
    "        \\max \\quad & 12x_1+9x_2  \\\\\n",
    "        \\text{s.t.} \\quad & x_1 \\leq 1000 & \\text{(silicon)}\\\\\n",
    "        & x_2 \\leq 1500 & \\text{(germanium)}\\\\\n",
    "        & x_1+x_2 \\leq 1750 & \\text{(plastic)}\\\\\n",
    "        & 4.04 x_1+2.02 x_2 \\leq 4800 & \\text{(copper with waste)}\\\\\n",
    "        &x_1, x_2 \\in \\mathbb{N}.\n",
    "\\end{align*}\n",
    "$$\n",
    "\n",
    "The optimal solution is $(x_1,x_2) = (626,1124)$ with a profit of $17628$. Note that for this specific problem both the naive rounding strategies outlined above would have not yielded the true optimal solution. The Python code for obtaining the optimal solution using MILP solvers is given below."
   ]
  },
  {
   "cell_type": "code",
   "execution_count": 4,
   "id": "19ddcf89-0efb-443e-87b3-567286c57ecc",
   "metadata": {
    "execution": {
     "iopub.execute_input": "2023-01-18T15:57:24.306846Z",
     "iopub.status.busy": "2023-01-18T15:57:24.306474Z",
     "iopub.status.idle": "2023-01-18T15:57:24.428193Z",
     "shell.execute_reply": "2023-01-18T15:57:24.427111Z",
     "shell.execute_reply.started": "2023-01-18T15:57:24.306816Z"
    },
    "tags": []
   },
   "outputs": [
    {
     "name": "stdout",
     "output_type": "stream",
     "text": [
      "x = (626.000, 1124.000), optimal value = 17628.000\n"
     ]
    }
   ],
   "source": [
    "m    = pyo.ConcreteModel('BIM perturbed MILP')\n",
    "\n",
    "m.x1 = pyo.Var(domain=pyo.NonNegativeIntegers)\n",
    "m.x2 = pyo.Var(domain=pyo.NonNegativeIntegers)\n",
    "\n",
    "m.profit    = pyo.Objective( expr = 12*m.x1 + 9*m.x2, sense= pyo.maximize)\n",
    "\n",
    "m.silicon   = pyo.Constraint(expr =       m.x1             <= 1000)\n",
    "m.germanium = pyo.Constraint(expr =                   m.x2 <= 1500)\n",
    "m.plastic   = pyo.Constraint(expr =       m.x1 +      m.x2 <= 1750)\n",
    "m.copper    = pyo.Constraint(expr =  4.04*m.x1 + 2.02*m.x2 <= 4800)\n",
    "\n",
    "pyo.SolverFactory('cbc').solve(m)\n",
    "\n",
    "print('x = ({:.3f}, {:.3f}), optimal value = {:.3f}'.format(\n",
    "    pyo.value(m.x1),\n",
    "    pyo.value(m.x2),\n",
    "    pyo.value(m.profit)))"
   ]
  }
 ],
 "metadata": {
  "kernelspec": {
   "display_name": "Python 3 (ipykernel)",
   "language": "python",
   "name": "python3"
  },
  "language_info": {
   "codemirror_mode": {
    "name": "ipython",
    "version": 3
   },
   "file_extension": ".py",
   "mimetype": "text/x-python",
   "name": "python",
   "nbconvert_exporter": "python",
   "pygments_lexer": "ipython3",
   "version": "3.10.6"
  }
 },
 "nbformat": 4,
 "nbformat_minor": 5
}
