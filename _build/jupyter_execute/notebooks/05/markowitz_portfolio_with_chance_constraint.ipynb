{
 "cells": [
  {
   "cell_type": "markdown",
   "id": "6b0b3c2f-3aaa-43fe-a8d0-2b696df5c1a6",
   "metadata": {
    "tags": []
   },
   "source": [
    "# Portfolio optimization with chance constraint"
   ]
  },
  {
   "cell_type": "code",
   "execution_count": 20,
   "id": "5da22c67-5c34-4c3a-90a4-61222899e855",
   "metadata": {},
   "outputs": [
    {
     "name": "stdout",
     "output_type": "stream",
     "text": [
      "pyomo was previously installed\n",
      "cbc was previously installed\n",
      "cplex was previously installed\n"
     ]
    }
   ],
   "source": [
    "# install Pyomo and solvers\n",
    "import requests\n",
    "import types\n",
    "\n",
    "url = \"https://raw.githubusercontent.com/jckantor/MO-book/main/python/helper.py\"\n",
    "helper = types.ModuleType(\"helper\")\n",
    "exec(requests.get(url).content, helper.__dict__)\n",
    "\n",
    "helper.install_pyomo()\n",
    "helper.install_cbc()\n",
    "helper.install_cplex()"
   ]
  },
  {
   "cell_type": "code",
   "execution_count": 21,
   "id": "b13edf26",
   "metadata": {},
   "outputs": [],
   "source": [
    "from IPython.display import Markdown, HTML\n",
    "import io\n",
    "import pyomo.environ as pyo\n",
    "import numpy as np\n",
    "import pandas as pd\n",
    "import matplotlib.pyplot as plt\n",
    "import time \n",
    "import requests\n",
    "import math\n",
    "\n",
    "cplex_solver = pyo.SolverFactory(\"cplex_direct\")\n",
    "cbc_solver = pyo.SolverFactory(\"cbc\")"
   ]
  },
  {
   "cell_type": "markdown",
   "id": "a82bd88d-7b16-4c82-b0b7-5dbd0d81b71c",
   "metadata": {
    "jp-MarkdownHeadingCollapsed": true,
    "tags": []
   },
   "source": [
    "Consider the following canonical stochastic optimization problem, the so-called _portfolio selection problem_. Assuming there is an initial unit capital $C=1$ that needs to be invested in a selection of $n$ possible assets, each of them with a unknown return rate $z_i$, $i=1,\\dots,n$. Let $x$ be the vector whose $i$-th component $x_i$ describes the fraction of the capital invested in asset $i$. The return rate vector $z$ can be modelled by a multivariate Gaussian distribution with mean $\\bar{z}$ and covariance $\\Sigma$. \n",
    "\n",
    "Assuming to know the return rates, the portfolio return would be then equal to: \n",
    "\n",
    "$$\n",
    "    z^\\top x = \\sum_{i=1}^n x_i z_i.\n",
    "$$\n",
    "\n",
    "We want to determine the portfolio that maximizes the _expected_ return $\\mathbb{E} ( z^\\top x )$, which in view of our assumptions rewrites as $ \\mathbb{E} ( z^\\top x ) = \\bar{z}^\\top x$.\n",
    "\n",
    "Additionally, we includ a _loss risk chance constraint_ of the form $\\mathbb{P} ( z^\\top x \\leq \\alpha) \\leq \\beta$, which we learned in Lecture 8 can be rewritten explicitly.\n",
    "\n",
    "Write the full portfolio optimization problem as a SOCP and solve it with Pyomo for a general $n$, $\\alpha \\in [0, 1]$, $\\beta \\in [0, 1/2]$, vector $\\bar{z}$, and semi-definite positive covariance matrix $\\Sigma$."
   ]
  },
  {
   "cell_type": "markdown",
   "id": "1e51493c",
   "metadata": {},
   "source": [
    "A chance constraint of the form $\\mathbb{P} ( z^\\top x \\leq \\alpha) \\leq \\beta$ rewrites as \n",
    "\n",
    "$$\n",
    "  \\bar{z}^\\top x \\geq \\Phi^{-1}(1-\\beta) \\| \\Sigma^{1/2} x \\|_2 + \\alpha,\n",
    "$$\n",
    "\n",
    "and is a convex if $\\beta \\leq 1/2$. The portfolio optimization problem can then be formulated as a SOCP as\n",
    "\n",
    "\\begin{align*}\n",
    "    \\max \\; & \\bar{z}^\\top x\\\\\n",
    "    \\quad \\text{ s.t. } & \\Phi^{-1}(1-\\beta) \\| \\Sigma^{1/2} x \\|_2 \\leq \\bar{z}^\\top x - \\alpha,\\\\\n",
    "    & \\sum_{i=1}^n x_i = 1, \\\\\n",
    "    &  x \\geq 0.\n",
    "\\end{align*}"
   ]
  },
  {
   "cell_type": "code",
   "execution_count": 22,
   "id": "0e194e8d",
   "metadata": {},
   "outputs": [
    {
     "data": {
      "text/markdown": [
       "**Solver status:** *ok, optimal*"
      ],
      "text/plain": [
       "<IPython.core.display.Markdown object>"
      ]
     },
     "metadata": {},
     "output_type": "display_data"
    },
    {
     "data": {
      "text/markdown": [
       "**Solution:** $x_1 = 0.182$,  $x_2 = 0.568$,  $x_3 = 0.250$"
      ],
      "text/plain": [
       "<IPython.core.display.Markdown object>"
      ]
     },
     "metadata": {},
     "output_type": "display_data"
    },
    {
     "data": {
      "text/markdown": [
       "**Maximizes objective value to:** $1.17$"
      ],
      "text/plain": [
       "<IPython.core.display.Markdown object>"
      ]
     },
     "metadata": {},
     "output_type": "display_data"
    }
   ],
   "source": [
    "# we import the inverse CDF or quantile function for the standard normal norm.ppf() from scipy.stats\n",
    "from scipy.stats import norm\n",
    "\n",
    "# We set our risk threshold and risk levels (sometimes you may get an infeasible problem if the chance constraint becomes too tight!)\n",
    "alpha = 0.5\n",
    "beta = 0.3\n",
    "\n",
    "# We specify the number of assets, their expected returns and their covariance matrix. \n",
    "n = 3\n",
    "z_mean = np.array([1.05, 1.15, 1.3])\n",
    "z_cov = np.array([[1, 0.5, 2],[0.5, 2, 0],[2, 0, 5]])\n",
    "\n",
    "# Check how dramatically the optimal solution changes if we assume i.i.d. deviations for the returns.\n",
    "# z_cov = np.array([[1, 0, 0],[0, 1, 0],[0, 0, 1]])\n",
    "\n",
    "# If you want to change covariance matriix, make sure you input a semi-definite positive one.\n",
    "# The easiest way to generate a random covariance matrix is first generating a random n x n matrix A and then taking the matrix A^T A (which is always semi-definite positive)\n",
    "# N = 3\n",
    "# A = np.random.rand(N,N)\n",
    "# z_cov = A.T @ A\n",
    "\n",
    "model = pyo.ConcreteModel(\"Portfolio problem\")\n",
    "\n",
    "model.x = pyo.Var(range(n), within=pyo.NonNegativeReals)\n",
    "model.y = pyo.Var(within=pyo.Reals)\n",
    "\n",
    "model.objective = pyo.Objective(expr=z_mean @ model.x, sense=pyo.maximize)\n",
    "\n",
    "model.chance_constraint = pyo.Constraint(expr=norm.ppf(1-beta) * (model.x @ (z_cov @ model.x)) <= (z_mean @ model.x - alpha))\n",
    "model.total_assets = pyo.Constraint(expr=sum(model.x[i] for i in range(n)) == 1)\n",
    "\n",
    "result = cplex_solver.solve(model)\n",
    "\n",
    "display(Markdown(f\"**Solver status:** *{result.solver.status}, {result.solver.termination_condition}*\"))\n",
    "display(Markdown(f\"**Solution:** $x_1 = {model.x[0].value:.3f}$,  $x_2 = {model.x[1].value:.3f}$,  $x_3 = {model.x[2].value:.3f}$\"))\n",
    "display(Markdown(f\"**Maximizes objective value to:** ${model.objective():.2f}$\"))"
   ]
  },
  {
   "cell_type": "markdown",
   "id": "92483b0a",
   "metadata": {},
   "source": [
    "# Exercise 2: Portfolio selection with cardinality-constrained uncertainty set\n",
    "Remember that, if all the return rates $\\xi_i$ for every asset $i$ are known, the classical deterministic portfolio selection problem can be formulated as the following LP:\n",
    "\\begin{align*}\n",
    "\\max \\; & \\xi^T {x} \\\\\n",
    "\\quad \\text{ s.t. } & \\sum_{i=1}^n x_i = C, \\\\\n",
    "& x_i \\geq 0, \\quad i=1,\\dots,n.\n",
    "\\end{align*}\n",
    "We consider now the following variant, where each asset has a rate that varies in a specific interval.\n",
    "\n",
    "A broker must allocate his capital among $n=100$ assets in order to maximize his return. She has established that the return $\\xi_i$ of asset $i$ belongs to the interval $[r_i − s_i, r_i + s_i]$ centered around the value $r_i = 1.15 + i \\cdot (0.05/100)$ and varying in both direction by at most $s_i = (0.05/300) \\cdot \\sqrt{45300 \\cdot i}$. \n",
    "\n",
    "Obviously, in the deterministic problem where all returns are equal to their point forecasts, i.e., $\\xi_i = r_i$ it is optimal to invest everything in the asset with the greatest nominal return, that is asset $100$. Similarly, in the conservative approach where all returns equal their worst-case values, it is optimal to invest everything in the asset with the greatest worst-case return, which is asset 1.\n",
    "\n",
    "We consider now an alternative robust approach that uses cardinality-constrained uncertainty set. More specifically, we assume that at most $\\Gamma$ assets can vary from their nominal return rates. \n",
    "\n",
    "(a) Find the tractable robust counterpart of this cardinality-constrainted uncertainty set or budget uncertainty set. Then, assuming that $\\Gamma=20$ and $C=1000$, implement the model in Pyomo and solve it.\n",
    "\n",
    "*Hint: you may want to \"move\" the uncertain parameters $\\xi_i$'s from the objective function into a constraint, recovering a setting similar to the one presented in the lecture notes for cardinality-constrainted uncertainty set. We can do so by equivalently rewrite the portfolio selection problem as*\n",
    "\\begin{align*}\n",
    "\\max \\; & w \\\\\n",
    "\\quad \\text{ s.t. } & \\sum_{i=1}^n x_i = C, \\\\\n",
    "& \\xi^T {x} \\geq w,\\\\\n",
    "& w \\geq 0,\\\\\n",
    "& x_i \\geq 0, \\quad i=1,\\dots,n.\n",
    "\\end{align*}\n",
    "*Note that the inequality has a different sign than the one in the lectures notes, hence the argument there has to be adopted accordingly*"
   ]
  },
  {
   "cell_type": "code",
   "execution_count": 23,
   "id": "8ffdaf47",
   "metadata": {},
   "outputs": [
    {
     "data": {
      "text/markdown": [
       "**Solver status:** *ok, optimal*"
      ],
      "text/plain": [
       "<IPython.core.display.Markdown object>"
      ]
     },
     "metadata": {},
     "output_type": "display_data"
    },
    {
     "data": {
      "text/markdown": [
       "**Solution:**"
      ],
      "text/plain": [
       "<IPython.core.display.Markdown object>"
      ]
     },
     "metadata": {},
     "output_type": "display_data"
    },
    {
     "data": {
      "text/markdown": [
       " $x_{1} = 53.794$"
      ],
      "text/plain": [
       "<IPython.core.display.Markdown object>"
      ]
     },
     "metadata": {},
     "output_type": "display_data"
    },
    {
     "data": {
      "text/markdown": [
       " $x_{2} = 38.038$"
      ],
      "text/plain": [
       "<IPython.core.display.Markdown object>"
      ]
     },
     "metadata": {},
     "output_type": "display_data"
    },
    {
     "data": {
      "text/markdown": [
       " $x_{3} = 31.058$"
      ],
      "text/plain": [
       "<IPython.core.display.Markdown object>"
      ]
     },
     "metadata": {},
     "output_type": "display_data"
    },
    {
     "data": {
      "text/markdown": [
       " $x_{4} = 26.897$"
      ],
      "text/plain": [
       "<IPython.core.display.Markdown object>"
      ]
     },
     "metadata": {},
     "output_type": "display_data"
    },
    {
     "data": {
      "text/markdown": [
       " $x_{5} = 24.057$"
      ],
      "text/plain": [
       "<IPython.core.display.Markdown object>"
      ]
     },
     "metadata": {},
     "output_type": "display_data"
    },
    {
     "data": {
      "text/markdown": [
       " $x_{6} = 21.961$"
      ],
      "text/plain": [
       "<IPython.core.display.Markdown object>"
      ]
     },
     "metadata": {},
     "output_type": "display_data"
    },
    {
     "data": {
      "text/markdown": [
       " $x_{7} = 20.332$"
      ],
      "text/plain": [
       "<IPython.core.display.Markdown object>"
      ]
     },
     "metadata": {},
     "output_type": "display_data"
    },
    {
     "data": {
      "text/markdown": [
       " $x_{8} = 19.019$"
      ],
      "text/plain": [
       "<IPython.core.display.Markdown object>"
      ]
     },
     "metadata": {},
     "output_type": "display_data"
    },
    {
     "data": {
      "text/markdown": [
       " $x_{9} = 17.931$"
      ],
      "text/plain": [
       "<IPython.core.display.Markdown object>"
      ]
     },
     "metadata": {},
     "output_type": "display_data"
    },
    {
     "data": {
      "text/markdown": [
       " $x_{10} = 17.011$"
      ],
      "text/plain": [
       "<IPython.core.display.Markdown object>"
      ]
     },
     "metadata": {},
     "output_type": "display_data"
    },
    {
     "data": {
      "text/markdown": [
       " $x_{11} = 16.219$"
      ],
      "text/plain": [
       "<IPython.core.display.Markdown object>"
      ]
     },
     "metadata": {},
     "output_type": "display_data"
    },
    {
     "data": {
      "text/markdown": [
       " $x_{12} = 15.529$"
      ],
      "text/plain": [
       "<IPython.core.display.Markdown object>"
      ]
     },
     "metadata": {},
     "output_type": "display_data"
    },
    {
     "data": {
      "text/markdown": [
       " $x_{13} = 14.920$"
      ],
      "text/plain": [
       "<IPython.core.display.Markdown object>"
      ]
     },
     "metadata": {},
     "output_type": "display_data"
    },
    {
     "data": {
      "text/markdown": [
       " $x_{14} = 14.377$"
      ],
      "text/plain": [
       "<IPython.core.display.Markdown object>"
      ]
     },
     "metadata": {},
     "output_type": "display_data"
    },
    {
     "data": {
      "text/markdown": [
       " $x_{15} = 13.889$"
      ],
      "text/plain": [
       "<IPython.core.display.Markdown object>"
      ]
     },
     "metadata": {},
     "output_type": "display_data"
    },
    {
     "data": {
      "text/markdown": [
       " $x_{16} = 13.448$"
      ],
      "text/plain": [
       "<IPython.core.display.Markdown object>"
      ]
     },
     "metadata": {},
     "output_type": "display_data"
    },
    {
     "data": {
      "text/markdown": [
       " $x_{17} = 13.047$"
      ],
      "text/plain": [
       "<IPython.core.display.Markdown object>"
      ]
     },
     "metadata": {},
     "output_type": "display_data"
    },
    {
     "data": {
      "text/markdown": [
       " $x_{18} = 12.679$"
      ],
      "text/plain": [
       "<IPython.core.display.Markdown object>"
      ]
     },
     "metadata": {},
     "output_type": "display_data"
    },
    {
     "data": {
      "text/markdown": [
       " $x_{19} = 12.341$"
      ],
      "text/plain": [
       "<IPython.core.display.Markdown object>"
      ]
     },
     "metadata": {},
     "output_type": "display_data"
    },
    {
     "data": {
      "text/markdown": [
       " $x_{20} = 12.029$"
      ],
      "text/plain": [
       "<IPython.core.display.Markdown object>"
      ]
     },
     "metadata": {},
     "output_type": "display_data"
    },
    {
     "data": {
      "text/markdown": [
       " $x_{21} = 11.739$"
      ],
      "text/plain": [
       "<IPython.core.display.Markdown object>"
      ]
     },
     "metadata": {},
     "output_type": "display_data"
    },
    {
     "data": {
      "text/markdown": [
       " $x_{22} = 11.469$"
      ],
      "text/plain": [
       "<IPython.core.display.Markdown object>"
      ]
     },
     "metadata": {},
     "output_type": "display_data"
    },
    {
     "data": {
      "text/markdown": [
       " $x_{23} = 11.217$"
      ],
      "text/plain": [
       "<IPython.core.display.Markdown object>"
      ]
     },
     "metadata": {},
     "output_type": "display_data"
    },
    {
     "data": {
      "text/markdown": [
       " $x_{24} = 10.981$"
      ],
      "text/plain": [
       "<IPython.core.display.Markdown object>"
      ]
     },
     "metadata": {},
     "output_type": "display_data"
    },
    {
     "data": {
      "text/markdown": [
       " $x_{25} = 10.759$"
      ],
      "text/plain": [
       "<IPython.core.display.Markdown object>"
      ]
     },
     "metadata": {},
     "output_type": "display_data"
    },
    {
     "data": {
      "text/markdown": [
       " $x_{26} = 10.550$"
      ],
      "text/plain": [
       "<IPython.core.display.Markdown object>"
      ]
     },
     "metadata": {},
     "output_type": "display_data"
    },
    {
     "data": {
      "text/markdown": [
       " $x_{27} = 10.353$"
      ],
      "text/plain": [
       "<IPython.core.display.Markdown object>"
      ]
     },
     "metadata": {},
     "output_type": "display_data"
    },
    {
     "data": {
      "text/markdown": [
       " $x_{28} = 10.166$"
      ],
      "text/plain": [
       "<IPython.core.display.Markdown object>"
      ]
     },
     "metadata": {},
     "output_type": "display_data"
    },
    {
     "data": {
      "text/markdown": [
       " $x_{29} = 9.989$"
      ],
      "text/plain": [
       "<IPython.core.display.Markdown object>"
      ]
     },
     "metadata": {},
     "output_type": "display_data"
    },
    {
     "data": {
      "text/markdown": [
       " $x_{30} = 9.821$"
      ],
      "text/plain": [
       "<IPython.core.display.Markdown object>"
      ]
     },
     "metadata": {},
     "output_type": "display_data"
    },
    {
     "data": {
      "text/markdown": [
       " $x_{31} = 9.662$"
      ],
      "text/plain": [
       "<IPython.core.display.Markdown object>"
      ]
     },
     "metadata": {},
     "output_type": "display_data"
    },
    {
     "data": {
      "text/markdown": [
       " $x_{32} = 9.509$"
      ],
      "text/plain": [
       "<IPython.core.display.Markdown object>"
      ]
     },
     "metadata": {},
     "output_type": "display_data"
    },
    {
     "data": {
      "text/markdown": [
       " $x_{33} = 9.364$"
      ],
      "text/plain": [
       "<IPython.core.display.Markdown object>"
      ]
     },
     "metadata": {},
     "output_type": "display_data"
    },
    {
     "data": {
      "text/markdown": [
       " $x_{34} = 9.226$"
      ],
      "text/plain": [
       "<IPython.core.display.Markdown object>"
      ]
     },
     "metadata": {},
     "output_type": "display_data"
    },
    {
     "data": {
      "text/markdown": [
       " $x_{35} = 9.093$"
      ],
      "text/plain": [
       "<IPython.core.display.Markdown object>"
      ]
     },
     "metadata": {},
     "output_type": "display_data"
    },
    {
     "data": {
      "text/markdown": [
       " $x_{36} = 8.966$"
      ],
      "text/plain": [
       "<IPython.core.display.Markdown object>"
      ]
     },
     "metadata": {},
     "output_type": "display_data"
    },
    {
     "data": {
      "text/markdown": [
       " $x_{37} = 8.844$"
      ],
      "text/plain": [
       "<IPython.core.display.Markdown object>"
      ]
     },
     "metadata": {},
     "output_type": "display_data"
    },
    {
     "data": {
      "text/markdown": [
       " $x_{38} = 8.726$"
      ],
      "text/plain": [
       "<IPython.core.display.Markdown object>"
      ]
     },
     "metadata": {},
     "output_type": "display_data"
    },
    {
     "data": {
      "text/markdown": [
       " $x_{39} = 8.614$"
      ],
      "text/plain": [
       "<IPython.core.display.Markdown object>"
      ]
     },
     "metadata": {},
     "output_type": "display_data"
    },
    {
     "data": {
      "text/markdown": [
       " $x_{40} = 8.506$"
      ],
      "text/plain": [
       "<IPython.core.display.Markdown object>"
      ]
     },
     "metadata": {},
     "output_type": "display_data"
    },
    {
     "data": {
      "text/markdown": [
       " $x_{41} = 8.401$"
      ],
      "text/plain": [
       "<IPython.core.display.Markdown object>"
      ]
     },
     "metadata": {},
     "output_type": "display_data"
    },
    {
     "data": {
      "text/markdown": [
       " $x_{42} = 8.301$"
      ],
      "text/plain": [
       "<IPython.core.display.Markdown object>"
      ]
     },
     "metadata": {},
     "output_type": "display_data"
    },
    {
     "data": {
      "text/markdown": [
       " $x_{43} = 8.203$"
      ],
      "text/plain": [
       "<IPython.core.display.Markdown object>"
      ]
     },
     "metadata": {},
     "output_type": "display_data"
    },
    {
     "data": {
      "text/markdown": [
       " $x_{44} = 8.110$"
      ],
      "text/plain": [
       "<IPython.core.display.Markdown object>"
      ]
     },
     "metadata": {},
     "output_type": "display_data"
    },
    {
     "data": {
      "text/markdown": [
       " $x_{45} = 8.019$"
      ],
      "text/plain": [
       "<IPython.core.display.Markdown object>"
      ]
     },
     "metadata": {},
     "output_type": "display_data"
    },
    {
     "data": {
      "text/markdown": [
       " $x_{46} = 7.931$"
      ],
      "text/plain": [
       "<IPython.core.display.Markdown object>"
      ]
     },
     "metadata": {},
     "output_type": "display_data"
    },
    {
     "data": {
      "text/markdown": [
       " $x_{47} = 7.847$"
      ],
      "text/plain": [
       "<IPython.core.display.Markdown object>"
      ]
     },
     "metadata": {},
     "output_type": "display_data"
    },
    {
     "data": {
      "text/markdown": [
       " $x_{48} = 7.764$"
      ],
      "text/plain": [
       "<IPython.core.display.Markdown object>"
      ]
     },
     "metadata": {},
     "output_type": "display_data"
    },
    {
     "data": {
      "text/markdown": [
       " $x_{49} = 7.685$"
      ],
      "text/plain": [
       "<IPython.core.display.Markdown object>"
      ]
     },
     "metadata": {},
     "output_type": "display_data"
    },
    {
     "data": {
      "text/markdown": [
       " $x_{50} = 7.608$"
      ],
      "text/plain": [
       "<IPython.core.display.Markdown object>"
      ]
     },
     "metadata": {},
     "output_type": "display_data"
    },
    {
     "data": {
      "text/markdown": [
       " $x_{51} = 7.533$"
      ],
      "text/plain": [
       "<IPython.core.display.Markdown object>"
      ]
     },
     "metadata": {},
     "output_type": "display_data"
    },
    {
     "data": {
      "text/markdown": [
       " $x_{52} = 7.460$"
      ],
      "text/plain": [
       "<IPython.core.display.Markdown object>"
      ]
     },
     "metadata": {},
     "output_type": "display_data"
    },
    {
     "data": {
      "text/markdown": [
       " $x_{53} = 7.389$"
      ],
      "text/plain": [
       "<IPython.core.display.Markdown object>"
      ]
     },
     "metadata": {},
     "output_type": "display_data"
    },
    {
     "data": {
      "text/markdown": [
       " $x_{54} = 7.320$"
      ],
      "text/plain": [
       "<IPython.core.display.Markdown object>"
      ]
     },
     "metadata": {},
     "output_type": "display_data"
    },
    {
     "data": {
      "text/markdown": [
       " $x_{55} = 7.254$"
      ],
      "text/plain": [
       "<IPython.core.display.Markdown object>"
      ]
     },
     "metadata": {},
     "output_type": "display_data"
    },
    {
     "data": {
      "text/markdown": [
       " $x_{56} = 7.188$"
      ],
      "text/plain": [
       "<IPython.core.display.Markdown object>"
      ]
     },
     "metadata": {},
     "output_type": "display_data"
    },
    {
     "data": {
      "text/markdown": [
       " $x_{57} = 7.125$"
      ],
      "text/plain": [
       "<IPython.core.display.Markdown object>"
      ]
     },
     "metadata": {},
     "output_type": "display_data"
    },
    {
     "data": {
      "text/markdown": [
       " $x_{58} = 7.063$"
      ],
      "text/plain": [
       "<IPython.core.display.Markdown object>"
      ]
     },
     "metadata": {},
     "output_type": "display_data"
    },
    {
     "data": {
      "text/markdown": [
       " $x_{59} = 7.003$"
      ],
      "text/plain": [
       "<IPython.core.display.Markdown object>"
      ]
     },
     "metadata": {},
     "output_type": "display_data"
    },
    {
     "data": {
      "text/markdown": [
       " $x_{60} = 6.945$"
      ],
      "text/plain": [
       "<IPython.core.display.Markdown object>"
      ]
     },
     "metadata": {},
     "output_type": "display_data"
    },
    {
     "data": {
      "text/markdown": [
       " $x_{61} = 6.888$"
      ],
      "text/plain": [
       "<IPython.core.display.Markdown object>"
      ]
     },
     "metadata": {},
     "output_type": "display_data"
    },
    {
     "data": {
      "text/markdown": [
       " $x_{62} = 6.832$"
      ],
      "text/plain": [
       "<IPython.core.display.Markdown object>"
      ]
     },
     "metadata": {},
     "output_type": "display_data"
    },
    {
     "data": {
      "text/markdown": [
       " $x_{63} = 6.777$"
      ],
      "text/plain": [
       "<IPython.core.display.Markdown object>"
      ]
     },
     "metadata": {},
     "output_type": "display_data"
    },
    {
     "data": {
      "text/markdown": [
       " $x_{64} = 6.724$"
      ],
      "text/plain": [
       "<IPython.core.display.Markdown object>"
      ]
     },
     "metadata": {},
     "output_type": "display_data"
    },
    {
     "data": {
      "text/markdown": [
       " $x_{65} = 6.672$"
      ],
      "text/plain": [
       "<IPython.core.display.Markdown object>"
      ]
     },
     "metadata": {},
     "output_type": "display_data"
    },
    {
     "data": {
      "text/markdown": [
       " $x_{66} = 6.622$"
      ],
      "text/plain": [
       "<IPython.core.display.Markdown object>"
      ]
     },
     "metadata": {},
     "output_type": "display_data"
    },
    {
     "data": {
      "text/markdown": [
       " $x_{67} = 6.572$"
      ],
      "text/plain": [
       "<IPython.core.display.Markdown object>"
      ]
     },
     "metadata": {},
     "output_type": "display_data"
    },
    {
     "data": {
      "text/markdown": [
       " $x_{68} = 6.523$"
      ],
      "text/plain": [
       "<IPython.core.display.Markdown object>"
      ]
     },
     "metadata": {},
     "output_type": "display_data"
    },
    {
     "data": {
      "text/markdown": [
       " $x_{69} = 6.476$"
      ],
      "text/plain": [
       "<IPython.core.display.Markdown object>"
      ]
     },
     "metadata": {},
     "output_type": "display_data"
    },
    {
     "data": {
      "text/markdown": [
       " $x_{70} = 6.430$"
      ],
      "text/plain": [
       "<IPython.core.display.Markdown object>"
      ]
     },
     "metadata": {},
     "output_type": "display_data"
    },
    {
     "data": {
      "text/markdown": [
       " $x_{71} = 6.384$"
      ],
      "text/plain": [
       "<IPython.core.display.Markdown object>"
      ]
     },
     "metadata": {},
     "output_type": "display_data"
    },
    {
     "data": {
      "text/markdown": [
       " $x_{72} = 6.340$"
      ],
      "text/plain": [
       "<IPython.core.display.Markdown object>"
      ]
     },
     "metadata": {},
     "output_type": "display_data"
    },
    {
     "data": {
      "text/markdown": [
       " $x_{73} = 6.296$"
      ],
      "text/plain": [
       "<IPython.core.display.Markdown object>"
      ]
     },
     "metadata": {},
     "output_type": "display_data"
    },
    {
     "data": {
      "text/markdown": [
       " $x_{74} = 6.253$"
      ],
      "text/plain": [
       "<IPython.core.display.Markdown object>"
      ]
     },
     "metadata": {},
     "output_type": "display_data"
    },
    {
     "data": {
      "text/markdown": [
       " $x_{75} = 6.212$"
      ],
      "text/plain": [
       "<IPython.core.display.Markdown object>"
      ]
     },
     "metadata": {},
     "output_type": "display_data"
    },
    {
     "data": {
      "text/markdown": [
       " $x_{76} = 6.171$"
      ],
      "text/plain": [
       "<IPython.core.display.Markdown object>"
      ]
     },
     "metadata": {},
     "output_type": "display_data"
    },
    {
     "data": {
      "text/markdown": [
       " $x_{77} = 6.130$"
      ],
      "text/plain": [
       "<IPython.core.display.Markdown object>"
      ]
     },
     "metadata": {},
     "output_type": "display_data"
    },
    {
     "data": {
      "text/markdown": [
       " $x_{78} = 6.091$"
      ],
      "text/plain": [
       "<IPython.core.display.Markdown object>"
      ]
     },
     "metadata": {},
     "output_type": "display_data"
    },
    {
     "data": {
      "text/markdown": [
       " $x_{79} = 6.052$"
      ],
      "text/plain": [
       "<IPython.core.display.Markdown object>"
      ]
     },
     "metadata": {},
     "output_type": "display_data"
    },
    {
     "data": {
      "text/markdown": [
       " $x_{80} = 6.014$"
      ],
      "text/plain": [
       "<IPython.core.display.Markdown object>"
      ]
     },
     "metadata": {},
     "output_type": "display_data"
    },
    {
     "data": {
      "text/markdown": [
       " $x_{81} = 5.977$"
      ],
      "text/plain": [
       "<IPython.core.display.Markdown object>"
      ]
     },
     "metadata": {},
     "output_type": "display_data"
    },
    {
     "data": {
      "text/markdown": [
       " $x_{82} = 5.940$"
      ],
      "text/plain": [
       "<IPython.core.display.Markdown object>"
      ]
     },
     "metadata": {},
     "output_type": "display_data"
    },
    {
     "data": {
      "text/markdown": [
       " $x_{83} = 5.905$"
      ],
      "text/plain": [
       "<IPython.core.display.Markdown object>"
      ]
     },
     "metadata": {},
     "output_type": "display_data"
    },
    {
     "data": {
      "text/markdown": [
       " $x_{84} = 5.869$"
      ],
      "text/plain": [
       "<IPython.core.display.Markdown object>"
      ]
     },
     "metadata": {},
     "output_type": "display_data"
    },
    {
     "data": {
      "text/markdown": [
       " $x_{85} = 5.835$"
      ],
      "text/plain": [
       "<IPython.core.display.Markdown object>"
      ]
     },
     "metadata": {},
     "output_type": "display_data"
    },
    {
     "data": {
      "text/markdown": [
       " $x_{86} = 5.801$"
      ],
      "text/plain": [
       "<IPython.core.display.Markdown object>"
      ]
     },
     "metadata": {},
     "output_type": "display_data"
    },
    {
     "data": {
      "text/markdown": [
       " $x_{87} = 5.767$"
      ],
      "text/plain": [
       "<IPython.core.display.Markdown object>"
      ]
     },
     "metadata": {},
     "output_type": "display_data"
    },
    {
     "data": {
      "text/markdown": [
       " $x_{88} = 5.734$"
      ],
      "text/plain": [
       "<IPython.core.display.Markdown object>"
      ]
     },
     "metadata": {},
     "output_type": "display_data"
    },
    {
     "data": {
      "text/markdown": [
       " $x_{89} = 5.702$"
      ],
      "text/plain": [
       "<IPython.core.display.Markdown object>"
      ]
     },
     "metadata": {},
     "output_type": "display_data"
    },
    {
     "data": {
      "text/markdown": [
       " $x_{90} = 5.670$"
      ],
      "text/plain": [
       "<IPython.core.display.Markdown object>"
      ]
     },
     "metadata": {},
     "output_type": "display_data"
    },
    {
     "data": {
      "text/markdown": [
       " $x_{91} = 5.639$"
      ],
      "text/plain": [
       "<IPython.core.display.Markdown object>"
      ]
     },
     "metadata": {},
     "output_type": "display_data"
    },
    {
     "data": {
      "text/markdown": [
       " $x_{92} = 5.608$"
      ],
      "text/plain": [
       "<IPython.core.display.Markdown object>"
      ]
     },
     "metadata": {},
     "output_type": "display_data"
    },
    {
     "data": {
      "text/markdown": [
       " $x_{93} = 5.578$"
      ],
      "text/plain": [
       "<IPython.core.display.Markdown object>"
      ]
     },
     "metadata": {},
     "output_type": "display_data"
    },
    {
     "data": {
      "text/markdown": [
       " $x_{94} = 5.548$"
      ],
      "text/plain": [
       "<IPython.core.display.Markdown object>"
      ]
     },
     "metadata": {},
     "output_type": "display_data"
    },
    {
     "data": {
      "text/markdown": [
       " $x_{95} = 5.519$"
      ],
      "text/plain": [
       "<IPython.core.display.Markdown object>"
      ]
     },
     "metadata": {},
     "output_type": "display_data"
    },
    {
     "data": {
      "text/markdown": [
       " $x_{96} = 5.490$"
      ],
      "text/plain": [
       "<IPython.core.display.Markdown object>"
      ]
     },
     "metadata": {},
     "output_type": "display_data"
    },
    {
     "data": {
      "text/markdown": [
       " $x_{97} = 5.462$"
      ],
      "text/plain": [
       "<IPython.core.display.Markdown object>"
      ]
     },
     "metadata": {},
     "output_type": "display_data"
    },
    {
     "data": {
      "text/markdown": [
       " $x_{98} = 5.434$"
      ],
      "text/plain": [
       "<IPython.core.display.Markdown object>"
      ]
     },
     "metadata": {},
     "output_type": "display_data"
    },
    {
     "data": {
      "text/markdown": [
       " $x_{99} = 5.406$"
      ],
      "text/plain": [
       "<IPython.core.display.Markdown object>"
      ]
     },
     "metadata": {},
     "output_type": "display_data"
    },
    {
     "data": {
      "text/markdown": [
       " $x_{100} = 5.379$"
      ],
      "text/plain": [
       "<IPython.core.display.Markdown object>"
      ]
     },
     "metadata": {},
     "output_type": "display_data"
    },
    {
     "data": {
      "text/markdown": [
       "**Maximizes objective value to:** $1129.90$€"
      ],
      "text/plain": [
       "<IPython.core.display.Markdown object>"
      ]
     },
     "metadata": {},
     "output_type": "display_data"
    }
   ],
   "source": [
    "def portfolio(Gamma=1, printflag=False):\n",
    "\n",
    "    model = pyo.ConcreteModel()\n",
    "\n",
    "    model.n = 100\n",
    "\n",
    "    def indices_rule(model):\n",
    "        return range(1,model.n+1)\n",
    "\n",
    "    model.indices = pyo.Set(initialize=indices_rule)\n",
    "\n",
    "    model.capital = 1000\n",
    "    model.x = pyo.Var(model.indices, within=pyo.NonNegativeReals) \n",
    "    model.w = pyo.Var(within=pyo.NonNegativeReals) \n",
    "\n",
    "    model.budget = pyo.Constraint(expr=pyo.summation(model.x) == model.capital)\n",
    "\n",
    "    # introduce variable for tractable robust counterpart\n",
    "    model.z = pyo.Var(model.indices, within=pyo.NonNegativeReals)\n",
    "    model.l = pyo.Var(within=pyo.NonNegativeReals)\n",
    "\n",
    "    def deltareturn(j):\n",
    "        return (0.05/300) * math.sqrt(45300 * j)\n",
    "\n",
    "    def nominalreturn(j):\n",
    "        return 1.15 + j * (0.05/100)\n",
    "\n",
    "    # tractable robust counterpart, two for every initial constraints with varying parameter\n",
    "    model.lower = pyo.ConstraintList()\n",
    "    model.upper = pyo.ConstraintList()\n",
    "    model.cardinalityconstraint = pyo.Constraint(expr= -sum([nominalreturn(j)*model.x[j] for j in model.indices]) + model.l * Gamma + pyo.summation(model.z) <= -model.w)\n",
    "    for j in model.indices:\n",
    "        model.lower.add(expr=model.z[j] >= -model.x[j]*deltareturn(j) - model.l)\n",
    "        model.upper.add(expr=model.z[j] >= model.x[j]*deltareturn(j) - model.l)\n",
    "\n",
    "    def total_return(model):\n",
    "        return model.w\n",
    "    model.profit = pyo.Objective(rule=total_return, sense=pyo.maximize)\n",
    "\n",
    "    result = cbc_solver.solve(model)\n",
    "    if printflag:\n",
    "        display(Markdown(f\"**Solver status:** *{result.solver.status}, {result.solver.termination_condition}*\"))\n",
    "        display(Markdown(f\"**Solution:**\"))\n",
    "        for i in model.indices:\n",
    "            display(Markdown(f\" $x_{ {i} } = {model.x[i].value:.3f}$\"))\n",
    "        display(Markdown(f\"**Maximizes objective value to:** ${model.profit():.2f}$€\"))\n",
    "    return model.profit(), [round(model.x[i].value,3) for i in model.indices]\n",
    "\n",
    "profit, x = portfolio(Gamma=20, printflag=True)"
   ]
  },
  {
   "cell_type": "markdown",
   "id": "d3330dcd",
   "metadata": {},
   "source": [
    "We now solve the same problem by varying $\\Gamma$ from $1$ to $50$ and observe how the optimal decision $x^*$ changes accordingly."
   ]
  },
  {
   "cell_type": "code",
   "execution_count": 24,
   "id": "5537274c",
   "metadata": {},
   "outputs": [
    {
     "data": {
      "text/markdown": [
       "$\\Gamma=0$"
      ],
      "text/plain": [
       "<IPython.core.display.Markdown object>"
      ]
     },
     "metadata": {},
     "output_type": "display_data"
    },
    {
     "data": {
      "text/markdown": [
       "**Profit:** 1200.00€"
      ],
      "text/plain": [
       "<IPython.core.display.Markdown object>"
      ]
     },
     "metadata": {},
     "output_type": "display_data"
    },
    {
     "data": {
      "text/markdown": [
       "**Optimal solution:** $[0.0, 0.0, 0.0, 0.0, 0.0, 0.0, 0.0, 0.0, 0.0, 0.0, 0.0, 0.0, 0.0, 0.0, 0.0, 0.0, 0.0, 0.0, 0.0, 0.0, 0.0, 0.0, 0.0, 0.0, 0.0, 0.0, 0.0, 0.0, 0.0, 0.0, 0.0, 0.0, 0.0, 0.0, 0.0, 0.0, 0.0, 0.0, 0.0, 0.0, 0.0, 0.0, 0.0, 0.0, 0.0, 0.0, 0.0, 0.0, 0.0, 0.0, 0.0, 0.0, 0.0, 0.0, 0.0, 0.0, 0.0, 0.0, 0.0, 0.0, 0.0, 0.0, 0.0, 0.0, 0.0, 0.0, 0.0, 0.0, 0.0, 0.0, 0.0, 0.0, 0.0, 0.0, 0.0, 0.0, 0.0, 0.0, 0.0, 0.0, 0.0, 0.0, 0.0, 0.0, 0.0, 0.0, 0.0, 0.0, 0.0, 0.0, 0.0, 0.0, 0.0, 0.0, 0.0, 0.0, 0.0, 0.0, 0.0, 1000.0]$"
      ],
      "text/plain": [
       "<IPython.core.display.Markdown object>"
      ]
     },
     "metadata": {},
     "output_type": "display_data"
    },
    {
     "data": {
      "text/markdown": [
       "$\\Gamma=1$"
      ],
      "text/plain": [
       "<IPython.core.display.Markdown object>"
      ]
     },
     "metadata": {},
     "output_type": "display_data"
    },
    {
     "data": {
      "text/markdown": [
       "**Profit:** 1182.02€"
      ],
      "text/plain": [
       "<IPython.core.display.Markdown object>"
      ]
     },
     "metadata": {},
     "output_type": "display_data"
    },
    {
     "data": {
      "text/markdown": [
       "**Optimal solution:** $[0.0, 0.0, 0.0, 0.0, 0.0, 0.0, 0.0, 0.0, 0.0, 0.0, 0.0, 0.0, 0.0, 0.0, 0.0, 0.0, 0.0, 0.0, 0.0, 0.0, 0.0, 0.0, 0.0, 0.0, 0.0, 0.0, 0.0, 0.0, 0.0, 0.0, 0.0, 0.0, 0.0, 0.0, 0.0, 0.0, 0.0, 0.0, 0.0, 0.0, 0.0, 0.0, 0.0, 0.0, 0.0, 0.0, 0.0, 0.0, 0.0, 0.0, 0.0, 0.0, 0.0, 0.0, 0.0, 0.0, 0.0, 0.0, 0.0, 0.0, 0.0, 0.0, 0.0, 0.0, 31.106, 30.869, 30.638, 30.412, 30.191, 29.974, 29.762, 29.555, 29.352, 29.153, 28.958, 28.767, 28.579, 28.395, 28.215, 28.038, 27.865, 27.694, 27.527, 27.362, 27.201, 27.042, 26.887, 26.733, 26.583, 26.435, 26.289, 26.146, 26.005, 25.866, 25.73, 25.595, 25.463, 25.333, 25.204, 25.078]$"
      ],
      "text/plain": [
       "<IPython.core.display.Markdown object>"
      ]
     },
     "metadata": {},
     "output_type": "display_data"
    },
    {
     "data": {
      "text/markdown": [
       "$\\Gamma=2$"
      ],
      "text/plain": [
       "<IPython.core.display.Markdown object>"
      ]
     },
     "metadata": {},
     "output_type": "display_data"
    },
    {
     "data": {
      "text/markdown": [
       "**Profit:** 1174.89€"
      ],
      "text/plain": [
       "<IPython.core.display.Markdown object>"
      ]
     },
     "metadata": {},
     "output_type": "display_data"
    },
    {
     "data": {
      "text/markdown": [
       "**Optimal solution:** $[0.0, 0.0, 0.0, 0.0, 0.0, 0.0, 0.0, 0.0, 0.0, 0.0, 0.0, 0.0, 0.0, 0.0, 0.0, 0.0, 0.0, 0.0, 0.0, 0.0, 0.0, 0.0, 0.0, 0.0, 0.0, 0.0, 0.0, 0.0, 0.0, 0.0, 0.0, 0.0, 0.0, 0.0, 0.0, 0.0, 0.0, 0.0, 0.0, 0.0, 0.0, 0.0, 0.0, 0.0, 0.0, 0.0, 0.0, 0.0, 0.0, 23.654, 23.421, 23.195, 22.975, 22.761, 22.554, 22.351, 22.154, 21.963, 21.776, 21.593, 21.416, 21.242, 21.073, 20.908, 20.746, 20.589, 20.434, 20.283, 20.136, 19.992, 19.85, 19.712, 19.577, 19.444, 19.314, 19.186, 19.061, 18.939, 18.818, 18.7, 18.585, 18.471, 18.359, 18.25, 18.142, 18.036, 17.932, 17.83, 17.73, 17.631, 17.534, 17.438, 17.344, 17.252, 17.161, 17.071, 16.983, 16.896, 16.81, 16.726]$"
      ],
      "text/plain": [
       "<IPython.core.display.Markdown object>"
      ]
     },
     "metadata": {},
     "output_type": "display_data"
    },
    {
     "data": {
      "text/markdown": [
       "$\\Gamma=3$"
      ],
      "text/plain": [
       "<IPython.core.display.Markdown object>"
      ]
     },
     "metadata": {},
     "output_type": "display_data"
    },
    {
     "data": {
      "text/markdown": [
       "**Profit:** 1169.61€"
      ],
      "text/plain": [
       "<IPython.core.display.Markdown object>"
      ]
     },
     "metadata": {},
     "output_type": "display_data"
    },
    {
     "data": {
      "text/markdown": [
       "**Optimal solution:** $[0.0, 0.0, 0.0, 0.0, 0.0, 0.0, 0.0, 0.0, 0.0, 0.0, 0.0, 0.0, 0.0, 0.0, 0.0, 0.0, 0.0, 0.0, 0.0, 0.0, 0.0, 0.0, 0.0, 0.0, 0.0, 0.0, 0.0, 0.0, 0.0, 0.0, 0.0, 0.0, 0.0, 0.0, 0.0, 0.0, 0.0, 0.0, 0.0, 21.138, 20.879, 20.629, 20.387, 20.154, 19.929, 19.711, 19.5, 19.296, 19.098, 18.906, 18.72, 18.539, 18.364, 18.193, 18.027, 17.865, 17.707, 17.554, 17.405, 17.259, 17.117, 16.978, 16.843, 16.711, 16.582, 16.456, 16.333, 16.212, 16.094, 15.979, 15.866, 15.755, 15.647, 15.541, 15.437, 15.335, 15.235, 15.137, 15.041, 14.947, 14.854, 14.763, 14.674, 14.587, 14.501, 14.416, 14.333, 14.251, 14.171, 14.092, 14.014, 13.938, 13.863, 13.789, 13.716, 13.645, 13.574, 13.505, 13.436, 13.369]$"
      ],
      "text/plain": [
       "<IPython.core.display.Markdown object>"
      ]
     },
     "metadata": {},
     "output_type": "display_data"
    },
    {
     "data": {
      "text/markdown": [
       "$\\Gamma=4$"
      ],
      "text/plain": [
       "<IPython.core.display.Markdown object>"
      ]
     },
     "metadata": {},
     "output_type": "display_data"
    },
    {
     "data": {
      "text/markdown": [
       "**Profit:** 1165.30€"
      ],
      "text/plain": [
       "<IPython.core.display.Markdown object>"
      ]
     },
     "metadata": {},
     "output_type": "display_data"
    },
    {
     "data": {
      "text/markdown": [
       "**Optimal solution:** $[0.0, 0.0, 0.0, 0.0, 0.0, 0.0, 0.0, 0.0, 0.0, 0.0, 0.0, 0.0, 0.0, 0.0, 0.0, 0.0, 0.0, 0.0, 0.0, 0.0, 0.0, 0.0, 0.0, 0.0, 0.0, 0.0, 0.0, 0.0, 0.0, 0.0, 19.946, 19.632, 19.332, 19.046, 18.772, 18.509, 18.257, 18.016, 17.783, 17.559, 17.344, 17.136, 16.936, 16.742, 16.555, 16.374, 16.199, 16.03, 15.865, 15.706, 15.551, 15.401, 15.255, 15.113, 14.975, 14.84, 14.71, 14.582, 14.458, 14.337, 14.219, 14.104, 13.992, 13.882, 13.775, 13.67, 13.568, 13.468, 13.37, 13.274, 13.18, 13.088, 12.998, 12.91, 12.824, 12.739, 12.656, 12.575, 12.495, 12.416, 12.34, 12.264, 12.19, 12.117, 12.046, 11.975, 11.906, 11.839, 11.772, 11.706, 11.642, 11.578, 11.516, 11.455, 11.394, 11.335, 11.276, 11.218, 11.162, 11.106]$"
      ],
      "text/plain": [
       "<IPython.core.display.Markdown object>"
      ]
     },
     "metadata": {},
     "output_type": "display_data"
    },
    {
     "data": {
      "text/markdown": [
       "$\\Gamma=5$"
      ],
      "text/plain": [
       "<IPython.core.display.Markdown object>"
      ]
     },
     "metadata": {},
     "output_type": "display_data"
    },
    {
     "data": {
      "text/markdown": [
       "**Profit:** 1161.64€"
      ],
      "text/plain": [
       "<IPython.core.display.Markdown object>"
      ]
     },
     "metadata": {},
     "output_type": "display_data"
    },
    {
     "data": {
      "text/markdown": [
       "**Optimal solution:** $[0.0, 0.0, 0.0, 0.0, 0.0, 0.0, 0.0, 0.0, 0.0, 0.0, 0.0, 0.0, 0.0, 0.0, 0.0, 0.0, 0.0, 0.0, 0.0, 0.0, 0.0, 0.0, 0.0, 19.714, 19.315, 18.94, 18.586, 18.251, 17.934, 17.632, 17.346, 17.073, 16.812, 16.563, 16.325, 16.096, 15.877, 15.667, 15.465, 15.27, 15.083, 14.902, 14.728, 14.56, 14.397, 14.24, 14.087, 13.94, 13.797, 13.658, 13.524, 13.393, 13.266, 13.142, 13.022, 12.906, 12.792, 12.681, 12.573, 12.468, 12.365, 12.265, 12.168, 12.072, 11.979, 11.888, 11.799, 11.712, 11.627, 11.543, 11.462, 11.382, 11.304, 11.227, 11.152, 11.078, 11.006, 10.935, 10.866, 10.798, 10.731, 10.665, 10.601, 10.537, 10.475, 10.414, 10.354, 10.295, 10.237, 10.18, 10.124, 10.069, 10.015, 9.961, 9.909, 9.857, 9.806, 9.756, 9.706, 9.658]$"
      ],
      "text/plain": [
       "<IPython.core.display.Markdown object>"
      ]
     },
     "metadata": {},
     "output_type": "display_data"
    },
    {
     "data": {
      "text/markdown": [
       "$\\Gamma=6$"
      ],
      "text/plain": [
       "<IPython.core.display.Markdown object>"
      ]
     },
     "metadata": {},
     "output_type": "display_data"
    },
    {
     "data": {
      "text/markdown": [
       "**Profit:** 1158.44€"
      ],
      "text/plain": [
       "<IPython.core.display.Markdown object>"
      ]
     },
     "metadata": {},
     "output_type": "display_data"
    },
    {
     "data": {
      "text/markdown": [
       "**Optimal solution:** $[0.0, 0.0, 0.0, 0.0, 0.0, 0.0, 0.0, 0.0, 0.0, 0.0, 0.0, 0.0, 0.0, 0.0, 0.0, 0.0, 20.337, 19.764, 19.237, 18.75, 18.298, 17.878, 17.485, 17.116, 16.771, 16.445, 16.138, 15.847, 15.571, 15.309, 15.06, 14.823, 14.597, 14.381, 14.174, 13.976, 13.785, 13.603, 13.427, 13.258, 13.096, 12.939, 12.787, 12.641, 12.5, 12.363, 12.231, 12.103, 11.979, 11.859, 11.742, 11.628, 11.518, 11.411, 11.307, 11.205, 11.107, 11.01, 10.917, 10.825, 10.736, 10.649, 10.565, 10.482, 10.401, 10.322, 10.244, 10.169, 10.095, 10.022, 9.952, 9.882, 9.814, 9.748, 9.683, 9.619, 9.556, 9.495, 9.434, 9.375, 9.317, 9.26, 9.204, 9.149, 9.095, 9.042, 8.99, 8.939, 8.888, 8.839, 8.79, 8.742, 8.695, 8.649, 8.603, 8.558, 8.514, 8.47, 8.428, 8.385]$"
      ],
      "text/plain": [
       "<IPython.core.display.Markdown object>"
      ]
     },
     "metadata": {},
     "output_type": "display_data"
    },
    {
     "data": {
      "text/markdown": [
       "$\\Gamma=7$"
      ],
      "text/plain": [
       "<IPython.core.display.Markdown object>"
      ]
     },
     "metadata": {},
     "output_type": "display_data"
    },
    {
     "data": {
      "text/markdown": [
       "**Profit:** 1155.62€"
      ],
      "text/plain": [
       "<IPython.core.display.Markdown object>"
      ]
     },
     "metadata": {},
     "output_type": "display_data"
    },
    {
     "data": {
      "text/markdown": [
       "**Optimal solution:** $[0.0, 0.0, 0.0, 0.0, 0.0, 0.0, 0.0, 0.0, 0.0, 0.0, 0.0, 21.759, 20.905, 20.145, 19.462, 18.844, 18.281, 17.766, 17.292, 16.854, 16.448, 16.07, 15.717, 15.386, 15.075, 14.782, 14.506, 14.244, 13.997, 13.761, 13.538, 13.324, 13.121, 12.927, 12.741, 12.562, 12.391, 12.227, 12.07, 11.918, 11.772, 11.631, 11.494, 11.363, 11.236, 11.113, 10.994, 10.879, 10.768, 10.66, 10.555, 10.453, 10.353, 10.257, 10.163, 10.072, 9.984, 9.897, 9.813, 9.731, 9.651, 9.573, 9.496, 9.422, 9.349, 9.278, 9.208, 9.14, 9.074, 9.009, 8.945, 8.883, 8.822, 8.762, 8.703, 8.646, 8.59, 8.534, 8.48, 8.427, 8.375, 8.324, 8.273, 8.224, 8.176, 8.128, 8.081, 8.035, 7.99, 7.945, 7.901, 7.858, 7.816, 7.774, 7.733, 7.693, 7.653, 7.614, 7.575, 7.537]$"
      ],
      "text/plain": [
       "<IPython.core.display.Markdown object>"
      ]
     },
     "metadata": {},
     "output_type": "display_data"
    },
    {
     "data": {
      "text/markdown": [
       "$\\Gamma=8$"
      ],
      "text/plain": [
       "<IPython.core.display.Markdown object>"
      ]
     },
     "metadata": {},
     "output_type": "display_data"
    },
    {
     "data": {
      "text/markdown": [
       "**Profit:** 1153.11€"
      ],
      "text/plain": [
       "<IPython.core.display.Markdown object>"
      ]
     },
     "metadata": {},
     "output_type": "display_data"
    },
    {
     "data": {
      "text/markdown": [
       "**Optimal solution:** $[0.0, 0.0, 0.0, 0.0, 0.0, 0.0, 25.282, 23.65, 22.297, 21.153, 20.168, 19.31, 18.552, 17.877, 17.271, 16.723, 16.223, 15.766, 15.346, 14.957, 14.597, 14.261, 13.948, 13.654, 13.378, 13.118, 12.873, 12.641, 12.421, 12.213, 12.014, 11.825, 11.644, 11.472, 11.307, 11.149, 10.997, 10.851, 10.711, 10.576, 10.447, 10.322, 10.201, 10.084, 9.972, 9.863, 9.757, 9.655, 9.556, 9.46, 9.367, 9.276, 9.188, 9.103, 9.02, 8.939, 8.86, 8.783, 8.708, 8.636, 8.565, 8.495, 8.427, 8.361, 8.297, 8.234, 8.172, 8.112, 8.053, 7.995, 7.939, 7.883, 7.829, 7.776, 7.724, 7.673, 7.623, 7.574, 7.526, 7.479, 7.432, 7.387, 7.342, 7.298, 7.255, 7.213, 7.171, 7.131, 7.09, 7.051, 7.012, 6.974, 6.936, 6.899, 6.863, 6.827, 6.792, 6.757, 6.723, 6.689]$"
      ],
      "text/plain": [
       "<IPython.core.display.Markdown object>"
      ]
     },
     "metadata": {},
     "output_type": "display_data"
    },
    {
     "data": {
      "text/markdown": [
       "$\\Gamma=9$"
      ],
      "text/plain": [
       "<IPython.core.display.Markdown object>"
      ]
     },
     "metadata": {},
     "output_type": "display_data"
    },
    {
     "data": {
      "text/markdown": [
       "**Profit:** 1150.91€"
      ],
      "text/plain": [
       "<IPython.core.display.Markdown object>"
      ]
     },
     "metadata": {},
     "output_type": "display_data"
    },
    {
     "data": {
      "text/markdown": [
       "**Optimal solution:** $[0.0, 40.2, 32.823, 28.426, 25.425, 23.21, 21.488, 20.1, 18.951, 17.978, 17.141, 16.412, 15.768, 15.194, 14.679, 14.213, 13.789, 13.4, 13.043, 12.712, 12.406, 12.121, 11.854, 11.605, 11.37, 11.15, 10.941, 10.744, 10.557, 10.38, 10.211, 10.05, 9.897, 9.75, 9.61, 9.475, 9.346, 9.223, 9.104, 8.989, 8.879, 8.772, 8.67, 8.571, 8.475, 8.382, 8.293, 8.206, 8.122, 8.04, 7.961, 7.884, 7.809, 7.737, 7.666, 7.597, 7.53, 7.465, 7.401, 7.34, 7.279, 7.22, 7.163, 7.106, 7.052, 6.998, 6.946, 6.894, 6.844, 6.795, 6.747, 6.7, 6.654, 6.609, 6.565, 6.521, 6.479, 6.437, 6.396, 6.356, 6.317, 6.278, 6.24, 6.203, 6.166, 6.13, 6.095, 6.06, 6.026, 5.993, 5.96, 5.927, 5.895, 5.864, 5.833, 5.802, 5.772, 5.743, 5.714, 5.685]$"
      ],
      "text/plain": [
       "<IPython.core.display.Markdown object>"
      ]
     },
     "metadata": {},
     "output_type": "display_data"
    },
    {
     "data": {
      "text/markdown": [
       "$\\Gamma=10$"
      ],
      "text/plain": [
       "<IPython.core.display.Markdown object>"
      ]
     },
     "metadata": {},
     "output_type": "display_data"
    },
    {
     "data": {
      "text/markdown": [
       "**Profit:** 1148.98€"
      ],
      "text/plain": [
       "<IPython.core.display.Markdown object>"
      ]
     },
     "metadata": {},
     "output_type": "display_data"
    },
    {
     "data": {
      "text/markdown": [
       "**Optimal solution:** $[53.794, 38.038, 31.058, 26.897, 24.057, 21.961, 20.332, 19.019, 17.931, 17.011, 16.219, 15.529, 14.92, 14.377, 13.889, 13.448, 13.047, 12.679, 12.341, 12.029, 11.739, 11.469, 11.217, 10.981, 10.759, 10.55, 10.353, 10.166, 9.989, 9.821, 9.662, 9.509, 9.364, 9.226, 9.093, 8.966, 8.844, 8.726, 8.614, 8.506, 8.401, 8.301, 8.203, 8.11, 8.019, 7.931, 7.847, 7.764, 7.685, 7.608, 7.533, 7.46, 7.389, 7.32, 7.254, 7.188, 7.125, 7.063, 7.003, 6.945, 6.888, 6.832, 6.777, 6.724, 6.672, 6.622, 6.572, 6.523, 6.476, 6.43, 6.384, 6.34, 6.296, 6.253, 6.212, 6.171, 6.13, 6.091, 6.052, 6.014, 5.977, 5.94, 5.905, 5.869, 5.835, 5.801, 5.767, 5.734, 5.702, 5.67, 5.639, 5.608, 5.578, 5.548, 5.519, 5.49, 5.462, 5.434, 5.406, 5.379]$"
      ],
      "text/plain": [
       "<IPython.core.display.Markdown object>"
      ]
     },
     "metadata": {},
     "output_type": "display_data"
    },
    {
     "data": {
      "text/markdown": [
       "$\\Gamma=11$"
      ],
      "text/plain": [
       "<IPython.core.display.Markdown object>"
      ]
     },
     "metadata": {},
     "output_type": "display_data"
    },
    {
     "data": {
      "text/markdown": [
       "**Profit:** 1147.07€"
      ],
      "text/plain": [
       "<IPython.core.display.Markdown object>"
      ]
     },
     "metadata": {},
     "output_type": "display_data"
    },
    {
     "data": {
      "text/markdown": [
       "**Optimal solution:** $[53.794, 38.038, 31.058, 26.897, 24.057, 21.961, 20.332, 19.019, 17.931, 17.011, 16.219, 15.529, 14.92, 14.377, 13.889, 13.448, 13.047, 12.679, 12.341, 12.029, 11.739, 11.469, 11.217, 10.981, 10.759, 10.55, 10.353, 10.166, 9.989, 9.821, 9.662, 9.509, 9.364, 9.226, 9.093, 8.966, 8.844, 8.726, 8.614, 8.506, 8.401, 8.301, 8.203, 8.11, 8.019, 7.931, 7.847, 7.764, 7.685, 7.608, 7.533, 7.46, 7.389, 7.32, 7.254, 7.188, 7.125, 7.063, 7.003, 6.945, 6.888, 6.832, 6.777, 6.724, 6.672, 6.622, 6.572, 6.523, 6.476, 6.43, 6.384, 6.34, 6.296, 6.253, 6.212, 6.171, 6.13, 6.091, 6.052, 6.014, 5.977, 5.94, 5.905, 5.869, 5.835, 5.801, 5.767, 5.734, 5.702, 5.67, 5.639, 5.608, 5.578, 5.548, 5.519, 5.49, 5.462, 5.434, 5.406, 5.379]$"
      ],
      "text/plain": [
       "<IPython.core.display.Markdown object>"
      ]
     },
     "metadata": {},
     "output_type": "display_data"
    },
    {
     "data": {
      "text/markdown": [
       "$\\Gamma=12$"
      ],
      "text/plain": [
       "<IPython.core.display.Markdown object>"
      ]
     },
     "metadata": {},
     "output_type": "display_data"
    },
    {
     "data": {
      "text/markdown": [
       "**Profit:** 1145.16€"
      ],
      "text/plain": [
       "<IPython.core.display.Markdown object>"
      ]
     },
     "metadata": {},
     "output_type": "display_data"
    },
    {
     "data": {
      "text/markdown": [
       "**Optimal solution:** $[53.794, 38.038, 31.058, 26.897, 24.057, 21.961, 20.332, 19.019, 17.931, 17.011, 16.219, 15.529, 14.92, 14.377, 13.889, 13.448, 13.047, 12.679, 12.341, 12.029, 11.739, 11.469, 11.217, 10.981, 10.759, 10.55, 10.353, 10.166, 9.989, 9.821, 9.662, 9.509, 9.364, 9.226, 9.093, 8.966, 8.844, 8.726, 8.614, 8.506, 8.401, 8.301, 8.203, 8.11, 8.019, 7.931, 7.847, 7.764, 7.685, 7.608, 7.533, 7.46, 7.389, 7.32, 7.254, 7.188, 7.125, 7.063, 7.003, 6.945, 6.888, 6.832, 6.777, 6.724, 6.672, 6.622, 6.572, 6.523, 6.476, 6.43, 6.384, 6.34, 6.296, 6.253, 6.212, 6.171, 6.13, 6.091, 6.052, 6.014, 5.977, 5.94, 5.905, 5.869, 5.835, 5.801, 5.767, 5.734, 5.702, 5.67, 5.639, 5.608, 5.578, 5.548, 5.519, 5.49, 5.462, 5.434, 5.406, 5.379]$"
      ],
      "text/plain": [
       "<IPython.core.display.Markdown object>"
      ]
     },
     "metadata": {},
     "output_type": "display_data"
    },
    {
     "data": {
      "text/markdown": [
       "$\\Gamma=13$"
      ],
      "text/plain": [
       "<IPython.core.display.Markdown object>"
      ]
     },
     "metadata": {},
     "output_type": "display_data"
    },
    {
     "data": {
      "text/markdown": [
       "**Profit:** 1143.25€"
      ],
      "text/plain": [
       "<IPython.core.display.Markdown object>"
      ]
     },
     "metadata": {},
     "output_type": "display_data"
    },
    {
     "data": {
      "text/markdown": [
       "**Optimal solution:** $[53.794, 38.038, 31.058, 26.897, 24.057, 21.961, 20.332, 19.019, 17.931, 17.011, 16.219, 15.529, 14.92, 14.377, 13.889, 13.448, 13.047, 12.679, 12.341, 12.029, 11.739, 11.469, 11.217, 10.981, 10.759, 10.55, 10.353, 10.166, 9.989, 9.821, 9.662, 9.509, 9.364, 9.226, 9.093, 8.966, 8.844, 8.726, 8.614, 8.506, 8.401, 8.301, 8.203, 8.11, 8.019, 7.931, 7.847, 7.764, 7.685, 7.608, 7.533, 7.46, 7.389, 7.32, 7.254, 7.188, 7.125, 7.063, 7.003, 6.945, 6.888, 6.832, 6.777, 6.724, 6.672, 6.622, 6.572, 6.523, 6.476, 6.43, 6.384, 6.34, 6.296, 6.253, 6.212, 6.171, 6.13, 6.091, 6.052, 6.014, 5.977, 5.94, 5.905, 5.869, 5.835, 5.801, 5.767, 5.734, 5.702, 5.67, 5.639, 5.608, 5.578, 5.548, 5.519, 5.49, 5.462, 5.434, 5.406, 5.379]$"
      ],
      "text/plain": [
       "<IPython.core.display.Markdown object>"
      ]
     },
     "metadata": {},
     "output_type": "display_data"
    },
    {
     "data": {
      "text/markdown": [
       "$\\Gamma=14$"
      ],
      "text/plain": [
       "<IPython.core.display.Markdown object>"
      ]
     },
     "metadata": {},
     "output_type": "display_data"
    },
    {
     "data": {
      "text/markdown": [
       "**Profit:** 1141.35€"
      ],
      "text/plain": [
       "<IPython.core.display.Markdown object>"
      ]
     },
     "metadata": {},
     "output_type": "display_data"
    },
    {
     "data": {
      "text/markdown": [
       "**Optimal solution:** $[53.794, 38.038, 31.058, 26.897, 24.057, 21.961, 20.332, 19.019, 17.931, 17.011, 16.219, 15.529, 14.92, 14.377, 13.889, 13.448, 13.047, 12.679, 12.341, 12.029, 11.739, 11.469, 11.217, 10.981, 10.759, 10.55, 10.353, 10.166, 9.989, 9.821, 9.662, 9.509, 9.364, 9.226, 9.093, 8.966, 8.844, 8.726, 8.614, 8.506, 8.401, 8.301, 8.203, 8.11, 8.019, 7.931, 7.847, 7.764, 7.685, 7.608, 7.533, 7.46, 7.389, 7.32, 7.254, 7.188, 7.125, 7.063, 7.003, 6.945, 6.888, 6.832, 6.777, 6.724, 6.672, 6.622, 6.572, 6.523, 6.476, 6.43, 6.384, 6.34, 6.296, 6.253, 6.212, 6.171, 6.13, 6.091, 6.052, 6.014, 5.977, 5.94, 5.905, 5.869, 5.835, 5.801, 5.767, 5.734, 5.702, 5.67, 5.639, 5.608, 5.578, 5.548, 5.519, 5.49, 5.462, 5.434, 5.406, 5.379]$"
      ],
      "text/plain": [
       "<IPython.core.display.Markdown object>"
      ]
     },
     "metadata": {},
     "output_type": "display_data"
    },
    {
     "data": {
      "text/markdown": [
       "$\\Gamma=15$"
      ],
      "text/plain": [
       "<IPython.core.display.Markdown object>"
      ]
     },
     "metadata": {},
     "output_type": "display_data"
    },
    {
     "data": {
      "text/markdown": [
       "**Profit:** 1139.44€"
      ],
      "text/plain": [
       "<IPython.core.display.Markdown object>"
      ]
     },
     "metadata": {},
     "output_type": "display_data"
    },
    {
     "data": {
      "text/markdown": [
       "**Optimal solution:** $[53.794, 38.038, 31.058, 26.897, 24.057, 21.961, 20.332, 19.019, 17.931, 17.011, 16.219, 15.529, 14.92, 14.377, 13.889, 13.448, 13.047, 12.679, 12.341, 12.029, 11.739, 11.469, 11.217, 10.981, 10.759, 10.55, 10.353, 10.166, 9.989, 9.821, 9.662, 9.509, 9.364, 9.226, 9.093, 8.966, 8.844, 8.726, 8.614, 8.506, 8.401, 8.301, 8.203, 8.11, 8.019, 7.931, 7.847, 7.764, 7.685, 7.608, 7.533, 7.46, 7.389, 7.32, 7.254, 7.188, 7.125, 7.063, 7.003, 6.945, 6.888, 6.832, 6.777, 6.724, 6.672, 6.622, 6.572, 6.523, 6.476, 6.43, 6.384, 6.34, 6.296, 6.253, 6.212, 6.171, 6.13, 6.091, 6.052, 6.014, 5.977, 5.94, 5.905, 5.869, 5.835, 5.801, 5.767, 5.734, 5.702, 5.67, 5.639, 5.608, 5.578, 5.548, 5.519, 5.49, 5.462, 5.434, 5.406, 5.379]$"
      ],
      "text/plain": [
       "<IPython.core.display.Markdown object>"
      ]
     },
     "metadata": {},
     "output_type": "display_data"
    },
    {
     "data": {
      "text/markdown": [
       "$\\Gamma=16$"
      ],
      "text/plain": [
       "<IPython.core.display.Markdown object>"
      ]
     },
     "metadata": {},
     "output_type": "display_data"
    },
    {
     "data": {
      "text/markdown": [
       "**Profit:** 1137.53€"
      ],
      "text/plain": [
       "<IPython.core.display.Markdown object>"
      ]
     },
     "metadata": {},
     "output_type": "display_data"
    },
    {
     "data": {
      "text/markdown": [
       "**Optimal solution:** $[53.794, 38.038, 31.058, 26.897, 24.057, 21.961, 20.332, 19.019, 17.931, 17.011, 16.219, 15.529, 14.92, 14.377, 13.889, 13.448, 13.047, 12.679, 12.341, 12.029, 11.739, 11.469, 11.217, 10.981, 10.759, 10.55, 10.353, 10.166, 9.989, 9.821, 9.662, 9.509, 9.364, 9.226, 9.093, 8.966, 8.844, 8.726, 8.614, 8.506, 8.401, 8.301, 8.203, 8.11, 8.019, 7.931, 7.847, 7.764, 7.685, 7.608, 7.533, 7.46, 7.389, 7.32, 7.254, 7.188, 7.125, 7.063, 7.003, 6.945, 6.888, 6.832, 6.777, 6.724, 6.672, 6.622, 6.572, 6.523, 6.476, 6.43, 6.384, 6.34, 6.296, 6.253, 6.212, 6.171, 6.13, 6.091, 6.052, 6.014, 5.977, 5.94, 5.905, 5.869, 5.835, 5.801, 5.767, 5.734, 5.702, 5.67, 5.639, 5.608, 5.578, 5.548, 5.519, 5.49, 5.462, 5.434, 5.406, 5.379]$"
      ],
      "text/plain": [
       "<IPython.core.display.Markdown object>"
      ]
     },
     "metadata": {},
     "output_type": "display_data"
    },
    {
     "data": {
      "text/markdown": [
       "$\\Gamma=17$"
      ],
      "text/plain": [
       "<IPython.core.display.Markdown object>"
      ]
     },
     "metadata": {},
     "output_type": "display_data"
    },
    {
     "data": {
      "text/markdown": [
       "**Profit:** 1135.62€"
      ],
      "text/plain": [
       "<IPython.core.display.Markdown object>"
      ]
     },
     "metadata": {},
     "output_type": "display_data"
    },
    {
     "data": {
      "text/markdown": [
       "**Optimal solution:** $[53.794, 38.038, 31.058, 26.897, 24.057, 21.961, 20.332, 19.019, 17.931, 17.011, 16.219, 15.529, 14.92, 14.377, 13.889, 13.448, 13.047, 12.679, 12.341, 12.029, 11.739, 11.469, 11.217, 10.981, 10.759, 10.55, 10.353, 10.166, 9.989, 9.821, 9.662, 9.509, 9.364, 9.226, 9.093, 8.966, 8.844, 8.726, 8.614, 8.506, 8.401, 8.301, 8.203, 8.11, 8.019, 7.931, 7.847, 7.764, 7.685, 7.608, 7.533, 7.46, 7.389, 7.32, 7.254, 7.188, 7.125, 7.063, 7.003, 6.945, 6.888, 6.832, 6.777, 6.724, 6.672, 6.622, 6.572, 6.523, 6.476, 6.43, 6.384, 6.34, 6.296, 6.253, 6.212, 6.171, 6.13, 6.091, 6.052, 6.014, 5.977, 5.94, 5.905, 5.869, 5.835, 5.801, 5.767, 5.734, 5.702, 5.67, 5.639, 5.608, 5.578, 5.548, 5.519, 5.49, 5.462, 5.434, 5.406, 5.379]$"
      ],
      "text/plain": [
       "<IPython.core.display.Markdown object>"
      ]
     },
     "metadata": {},
     "output_type": "display_data"
    },
    {
     "data": {
      "text/markdown": [
       "$\\Gamma=18$"
      ],
      "text/plain": [
       "<IPython.core.display.Markdown object>"
      ]
     },
     "metadata": {},
     "output_type": "display_data"
    },
    {
     "data": {
      "text/markdown": [
       "**Profit:** 1133.71€"
      ],
      "text/plain": [
       "<IPython.core.display.Markdown object>"
      ]
     },
     "metadata": {},
     "output_type": "display_data"
    },
    {
     "data": {
      "text/markdown": [
       "**Optimal solution:** $[53.794, 38.038, 31.058, 26.897, 24.057, 21.961, 20.332, 19.019, 17.931, 17.011, 16.219, 15.529, 14.92, 14.377, 13.889, 13.448, 13.047, 12.679, 12.341, 12.029, 11.739, 11.469, 11.217, 10.981, 10.759, 10.55, 10.353, 10.166, 9.989, 9.821, 9.662, 9.509, 9.364, 9.226, 9.093, 8.966, 8.844, 8.726, 8.614, 8.506, 8.401, 8.301, 8.203, 8.11, 8.019, 7.931, 7.847, 7.764, 7.685, 7.608, 7.533, 7.46, 7.389, 7.32, 7.254, 7.188, 7.125, 7.063, 7.003, 6.945, 6.888, 6.832, 6.777, 6.724, 6.672, 6.622, 6.572, 6.523, 6.476, 6.43, 6.384, 6.34, 6.296, 6.253, 6.212, 6.171, 6.13, 6.091, 6.052, 6.014, 5.977, 5.94, 5.905, 5.869, 5.835, 5.801, 5.767, 5.734, 5.702, 5.67, 5.639, 5.608, 5.578, 5.548, 5.519, 5.49, 5.462, 5.434, 5.406, 5.379]$"
      ],
      "text/plain": [
       "<IPython.core.display.Markdown object>"
      ]
     },
     "metadata": {},
     "output_type": "display_data"
    },
    {
     "data": {
      "text/markdown": [
       "$\\Gamma=19$"
      ],
      "text/plain": [
       "<IPython.core.display.Markdown object>"
      ]
     },
     "metadata": {},
     "output_type": "display_data"
    },
    {
     "data": {
      "text/markdown": [
       "**Profit:** 1131.80€"
      ],
      "text/plain": [
       "<IPython.core.display.Markdown object>"
      ]
     },
     "metadata": {},
     "output_type": "display_data"
    },
    {
     "data": {
      "text/markdown": [
       "**Optimal solution:** $[53.794, 38.038, 31.058, 26.897, 24.057, 21.961, 20.332, 19.019, 17.931, 17.011, 16.219, 15.529, 14.92, 14.377, 13.889, 13.448, 13.047, 12.679, 12.341, 12.029, 11.739, 11.469, 11.217, 10.981, 10.759, 10.55, 10.353, 10.166, 9.989, 9.821, 9.662, 9.509, 9.364, 9.226, 9.093, 8.966, 8.844, 8.726, 8.614, 8.506, 8.401, 8.301, 8.203, 8.11, 8.019, 7.931, 7.847, 7.764, 7.685, 7.608, 7.533, 7.46, 7.389, 7.32, 7.254, 7.188, 7.125, 7.063, 7.003, 6.945, 6.888, 6.832, 6.777, 6.724, 6.672, 6.622, 6.572, 6.523, 6.476, 6.43, 6.384, 6.34, 6.296, 6.253, 6.212, 6.171, 6.13, 6.091, 6.052, 6.014, 5.977, 5.94, 5.905, 5.869, 5.835, 5.801, 5.767, 5.734, 5.702, 5.67, 5.639, 5.608, 5.578, 5.548, 5.519, 5.49, 5.462, 5.434, 5.406, 5.379]$"
      ],
      "text/plain": [
       "<IPython.core.display.Markdown object>"
      ]
     },
     "metadata": {},
     "output_type": "display_data"
    },
    {
     "data": {
      "text/markdown": [
       "$\\Gamma=20$"
      ],
      "text/plain": [
       "<IPython.core.display.Markdown object>"
      ]
     },
     "metadata": {},
     "output_type": "display_data"
    },
    {
     "data": {
      "text/markdown": [
       "**Profit:** 1129.90€"
      ],
      "text/plain": [
       "<IPython.core.display.Markdown object>"
      ]
     },
     "metadata": {},
     "output_type": "display_data"
    },
    {
     "data": {
      "text/markdown": [
       "**Optimal solution:** $[53.794, 38.038, 31.058, 26.897, 24.057, 21.961, 20.332, 19.019, 17.931, 17.011, 16.219, 15.529, 14.92, 14.377, 13.889, 13.448, 13.047, 12.679, 12.341, 12.029, 11.739, 11.469, 11.217, 10.981, 10.759, 10.55, 10.353, 10.166, 9.989, 9.821, 9.662, 9.509, 9.364, 9.226, 9.093, 8.966, 8.844, 8.726, 8.614, 8.506, 8.401, 8.301, 8.203, 8.11, 8.019, 7.931, 7.847, 7.764, 7.685, 7.608, 7.533, 7.46, 7.389, 7.32, 7.254, 7.188, 7.125, 7.063, 7.003, 6.945, 6.888, 6.832, 6.777, 6.724, 6.672, 6.622, 6.572, 6.523, 6.476, 6.43, 6.384, 6.34, 6.296, 6.253, 6.212, 6.171, 6.13, 6.091, 6.052, 6.014, 5.977, 5.94, 5.905, 5.869, 5.835, 5.801, 5.767, 5.734, 5.702, 5.67, 5.639, 5.608, 5.578, 5.548, 5.519, 5.49, 5.462, 5.434, 5.406, 5.379]$"
      ],
      "text/plain": [
       "<IPython.core.display.Markdown object>"
      ]
     },
     "metadata": {},
     "output_type": "display_data"
    },
    {
     "data": {
      "text/markdown": [
       "$\\Gamma=21$"
      ],
      "text/plain": [
       "<IPython.core.display.Markdown object>"
      ]
     },
     "metadata": {},
     "output_type": "display_data"
    },
    {
     "data": {
      "text/markdown": [
       "**Profit:** 1127.99€"
      ],
      "text/plain": [
       "<IPython.core.display.Markdown object>"
      ]
     },
     "metadata": {},
     "output_type": "display_data"
    },
    {
     "data": {
      "text/markdown": [
       "**Optimal solution:** $[53.794, 38.038, 31.058, 26.897, 24.057, 21.961, 20.332, 19.019, 17.931, 17.011, 16.219, 15.529, 14.92, 14.377, 13.889, 13.448, 13.047, 12.679, 12.341, 12.029, 11.739, 11.469, 11.217, 10.981, 10.759, 10.55, 10.353, 10.166, 9.989, 9.821, 9.662, 9.509, 9.364, 9.226, 9.093, 8.966, 8.844, 8.726, 8.614, 8.506, 8.401, 8.301, 8.203, 8.11, 8.019, 7.931, 7.847, 7.764, 7.685, 7.608, 7.533, 7.46, 7.389, 7.32, 7.254, 7.188, 7.125, 7.063, 7.003, 6.945, 6.888, 6.832, 6.777, 6.724, 6.672, 6.622, 6.572, 6.523, 6.476, 6.43, 6.384, 6.34, 6.296, 6.253, 6.212, 6.171, 6.13, 6.091, 6.052, 6.014, 5.977, 5.94, 5.905, 5.869, 5.835, 5.801, 5.767, 5.734, 5.702, 5.67, 5.639, 5.608, 5.578, 5.548, 5.519, 5.49, 5.462, 5.434, 5.406, 5.379]$"
      ],
      "text/plain": [
       "<IPython.core.display.Markdown object>"
      ]
     },
     "metadata": {},
     "output_type": "display_data"
    },
    {
     "data": {
      "text/markdown": [
       "$\\Gamma=22$"
      ],
      "text/plain": [
       "<IPython.core.display.Markdown object>"
      ]
     },
     "metadata": {},
     "output_type": "display_data"
    },
    {
     "data": {
      "text/markdown": [
       "**Profit:** 1126.08€"
      ],
      "text/plain": [
       "<IPython.core.display.Markdown object>"
      ]
     },
     "metadata": {},
     "output_type": "display_data"
    },
    {
     "data": {
      "text/markdown": [
       "**Optimal solution:** $[53.794, 38.038, 31.058, 26.897, 24.057, 21.961, 20.332, 19.019, 17.931, 17.011, 16.219, 15.529, 14.92, 14.377, 13.889, 13.448, 13.047, 12.679, 12.341, 12.029, 11.739, 11.469, 11.217, 10.981, 10.759, 10.55, 10.353, 10.166, 9.989, 9.821, 9.662, 9.509, 9.364, 9.226, 9.093, 8.966, 8.844, 8.726, 8.614, 8.506, 8.401, 8.301, 8.203, 8.11, 8.019, 7.931, 7.847, 7.764, 7.685, 7.608, 7.533, 7.46, 7.389, 7.32, 7.254, 7.188, 7.125, 7.063, 7.003, 6.945, 6.888, 6.832, 6.777, 6.724, 6.672, 6.622, 6.572, 6.523, 6.476, 6.43, 6.384, 6.34, 6.296, 6.253, 6.212, 6.171, 6.13, 6.091, 6.052, 6.014, 5.977, 5.94, 5.905, 5.869, 5.835, 5.801, 5.767, 5.734, 5.702, 5.67, 5.639, 5.608, 5.578, 5.548, 5.519, 5.49, 5.462, 5.434, 5.406, 5.379]$"
      ],
      "text/plain": [
       "<IPython.core.display.Markdown object>"
      ]
     },
     "metadata": {},
     "output_type": "display_data"
    },
    {
     "data": {
      "text/markdown": [
       "$\\Gamma=23$"
      ],
      "text/plain": [
       "<IPython.core.display.Markdown object>"
      ]
     },
     "metadata": {},
     "output_type": "display_data"
    },
    {
     "data": {
      "text/markdown": [
       "**Profit:** 1124.17€"
      ],
      "text/plain": [
       "<IPython.core.display.Markdown object>"
      ]
     },
     "metadata": {},
     "output_type": "display_data"
    },
    {
     "data": {
      "text/markdown": [
       "**Optimal solution:** $[53.794, 38.038, 31.058, 26.897, 24.057, 21.961, 20.332, 19.019, 17.931, 17.011, 16.219, 15.529, 14.92, 14.377, 13.889, 13.448, 13.047, 12.679, 12.341, 12.029, 11.739, 11.469, 11.217, 10.981, 10.759, 10.55, 10.353, 10.166, 9.989, 9.821, 9.662, 9.509, 9.364, 9.226, 9.093, 8.966, 8.844, 8.726, 8.614, 8.506, 8.401, 8.301, 8.203, 8.11, 8.019, 7.931, 7.847, 7.764, 7.685, 7.608, 7.533, 7.46, 7.389, 7.32, 7.254, 7.188, 7.125, 7.063, 7.003, 6.945, 6.888, 6.832, 6.777, 6.724, 6.672, 6.622, 6.572, 6.523, 6.476, 6.43, 6.384, 6.34, 6.296, 6.253, 6.212, 6.171, 6.13, 6.091, 6.052, 6.014, 5.977, 5.94, 5.905, 5.869, 5.835, 5.801, 5.767, 5.734, 5.702, 5.67, 5.639, 5.608, 5.578, 5.548, 5.519, 5.49, 5.462, 5.434, 5.406, 5.379]$"
      ],
      "text/plain": [
       "<IPython.core.display.Markdown object>"
      ]
     },
     "metadata": {},
     "output_type": "display_data"
    },
    {
     "data": {
      "text/markdown": [
       "$\\Gamma=24$"
      ],
      "text/plain": [
       "<IPython.core.display.Markdown object>"
      ]
     },
     "metadata": {},
     "output_type": "display_data"
    },
    {
     "data": {
      "text/markdown": [
       "**Profit:** 1122.26€"
      ],
      "text/plain": [
       "<IPython.core.display.Markdown object>"
      ]
     },
     "metadata": {},
     "output_type": "display_data"
    },
    {
     "data": {
      "text/markdown": [
       "**Optimal solution:** $[53.794, 38.038, 31.058, 26.897, 24.057, 21.961, 20.332, 19.019, 17.931, 17.011, 16.219, 15.529, 14.92, 14.377, 13.889, 13.448, 13.047, 12.679, 12.341, 12.029, 11.739, 11.469, 11.217, 10.981, 10.759, 10.55, 10.353, 10.166, 9.989, 9.821, 9.662, 9.509, 9.364, 9.226, 9.093, 8.966, 8.844, 8.726, 8.614, 8.506, 8.401, 8.301, 8.203, 8.11, 8.019, 7.931, 7.847, 7.764, 7.685, 7.608, 7.533, 7.46, 7.389, 7.32, 7.254, 7.188, 7.125, 7.063, 7.003, 6.945, 6.888, 6.832, 6.777, 6.724, 6.672, 6.622, 6.572, 6.523, 6.476, 6.43, 6.384, 6.34, 6.296, 6.253, 6.212, 6.171, 6.13, 6.091, 6.052, 6.014, 5.977, 5.94, 5.905, 5.869, 5.835, 5.801, 5.767, 5.734, 5.702, 5.67, 5.639, 5.608, 5.578, 5.548, 5.519, 5.49, 5.462, 5.434, 5.406, 5.379]$"
      ],
      "text/plain": [
       "<IPython.core.display.Markdown object>"
      ]
     },
     "metadata": {},
     "output_type": "display_data"
    },
    {
     "data": {
      "text/markdown": [
       "$\\Gamma=25$"
      ],
      "text/plain": [
       "<IPython.core.display.Markdown object>"
      ]
     },
     "metadata": {},
     "output_type": "display_data"
    },
    {
     "data": {
      "text/markdown": [
       "**Profit:** 1120.35€"
      ],
      "text/plain": [
       "<IPython.core.display.Markdown object>"
      ]
     },
     "metadata": {},
     "output_type": "display_data"
    },
    {
     "data": {
      "text/markdown": [
       "**Optimal solution:** $[53.794, 38.038, 31.058, 26.897, 24.057, 21.961, 20.332, 19.019, 17.931, 17.011, 16.219, 15.529, 14.92, 14.377, 13.889, 13.448, 13.047, 12.679, 12.341, 12.029, 11.739, 11.469, 11.217, 10.981, 10.759, 10.55, 10.353, 10.166, 9.989, 9.821, 9.662, 9.509, 9.364, 9.226, 9.093, 8.966, 8.844, 8.726, 8.614, 8.506, 8.401, 8.301, 8.203, 8.11, 8.019, 7.931, 7.847, 7.764, 7.685, 7.608, 7.533, 7.46, 7.389, 7.32, 7.254, 7.188, 7.125, 7.063, 7.003, 6.945, 6.888, 6.832, 6.777, 6.724, 6.672, 6.622, 6.572, 6.523, 6.476, 6.43, 6.384, 6.34, 6.296, 6.253, 6.212, 6.171, 6.13, 6.091, 6.052, 6.014, 5.977, 5.94, 5.905, 5.869, 5.835, 5.801, 5.767, 5.734, 5.702, 5.67, 5.639, 5.608, 5.578, 5.548, 5.519, 5.49, 5.462, 5.434, 5.406, 5.379]$"
      ],
      "text/plain": [
       "<IPython.core.display.Markdown object>"
      ]
     },
     "metadata": {},
     "output_type": "display_data"
    },
    {
     "data": {
      "text/markdown": [
       "$\\Gamma=26$"
      ],
      "text/plain": [
       "<IPython.core.display.Markdown object>"
      ]
     },
     "metadata": {},
     "output_type": "display_data"
    },
    {
     "data": {
      "text/markdown": [
       "**Profit:** 1118.45€"
      ],
      "text/plain": [
       "<IPython.core.display.Markdown object>"
      ]
     },
     "metadata": {},
     "output_type": "display_data"
    },
    {
     "data": {
      "text/markdown": [
       "**Optimal solution:** $[53.794, 38.038, 31.058, 26.897, 24.057, 21.961, 20.332, 19.019, 17.931, 17.011, 16.219, 15.529, 14.92, 14.377, 13.889, 13.448, 13.047, 12.679, 12.341, 12.029, 11.739, 11.469, 11.217, 10.981, 10.759, 10.55, 10.353, 10.166, 9.989, 9.821, 9.662, 9.509, 9.364, 9.226, 9.093, 8.966, 8.844, 8.726, 8.614, 8.506, 8.401, 8.301, 8.203, 8.11, 8.019, 7.931, 7.847, 7.764, 7.685, 7.608, 7.533, 7.46, 7.389, 7.32, 7.254, 7.188, 7.125, 7.063, 7.003, 6.945, 6.888, 6.832, 6.777, 6.724, 6.672, 6.622, 6.572, 6.523, 6.476, 6.43, 6.384, 6.34, 6.296, 6.253, 6.212, 6.171, 6.13, 6.091, 6.052, 6.014, 5.977, 5.94, 5.905, 5.869, 5.835, 5.801, 5.767, 5.734, 5.702, 5.67, 5.639, 5.608, 5.578, 5.548, 5.519, 5.49, 5.462, 5.434, 5.406, 5.379]$"
      ],
      "text/plain": [
       "<IPython.core.display.Markdown object>"
      ]
     },
     "metadata": {},
     "output_type": "display_data"
    },
    {
     "data": {
      "text/markdown": [
       "$\\Gamma=27$"
      ],
      "text/plain": [
       "<IPython.core.display.Markdown object>"
      ]
     },
     "metadata": {},
     "output_type": "display_data"
    },
    {
     "data": {
      "text/markdown": [
       "**Profit:** 1116.54€"
      ],
      "text/plain": [
       "<IPython.core.display.Markdown object>"
      ]
     },
     "metadata": {},
     "output_type": "display_data"
    },
    {
     "data": {
      "text/markdown": [
       "**Optimal solution:** $[53.794, 38.038, 31.058, 26.897, 24.057, 21.961, 20.332, 19.019, 17.931, 17.011, 16.219, 15.529, 14.92, 14.377, 13.889, 13.448, 13.047, 12.679, 12.341, 12.029, 11.739, 11.469, 11.217, 10.981, 10.759, 10.55, 10.353, 10.166, 9.989, 9.821, 9.662, 9.509, 9.364, 9.226, 9.093, 8.966, 8.844, 8.726, 8.614, 8.506, 8.401, 8.301, 8.203, 8.11, 8.019, 7.931, 7.847, 7.764, 7.685, 7.608, 7.533, 7.46, 7.389, 7.32, 7.254, 7.188, 7.125, 7.063, 7.003, 6.945, 6.888, 6.832, 6.777, 6.724, 6.672, 6.622, 6.572, 6.523, 6.476, 6.43, 6.384, 6.34, 6.296, 6.253, 6.212, 6.171, 6.13, 6.091, 6.052, 6.014, 5.977, 5.94, 5.905, 5.869, 5.835, 5.801, 5.767, 5.734, 5.702, 5.67, 5.639, 5.608, 5.578, 5.548, 5.519, 5.49, 5.462, 5.434, 5.406, 5.379]$"
      ],
      "text/plain": [
       "<IPython.core.display.Markdown object>"
      ]
     },
     "metadata": {},
     "output_type": "display_data"
    },
    {
     "data": {
      "text/markdown": [
       "$\\Gamma=28$"
      ],
      "text/plain": [
       "<IPython.core.display.Markdown object>"
      ]
     },
     "metadata": {},
     "output_type": "display_data"
    },
    {
     "data": {
      "text/markdown": [
       "**Profit:** 1115.03€"
      ],
      "text/plain": [
       "<IPython.core.display.Markdown object>"
      ]
     },
     "metadata": {},
     "output_type": "display_data"
    },
    {
     "data": {
      "text/markdown": [
       "**Optimal solution:** $[1000.0, 0.0, 0.0, 0.0, 0.0, 0.0, 0.0, 0.0, 0.0, 0.0, 0.0, 0.0, 0.0, 0.0, 0.0, 0.0, 0.0, 0.0, 0.0, 0.0, 0.0, 0.0, 0.0, 0.0, 0.0, 0.0, 0.0, 0.0, 0.0, 0.0, 0.0, 0.0, 0.0, 0.0, 0.0, 0.0, 0.0, 0.0, 0.0, 0.0, 0.0, 0.0, 0.0, 0.0, 0.0, 0.0, 0.0, 0.0, 0.0, 0.0, 0.0, 0.0, 0.0, 0.0, 0.0, 0.0, 0.0, 0.0, 0.0, 0.0, 0.0, 0.0, 0.0, 0.0, 0.0, 0.0, 0.0, 0.0, 0.0, 0.0, 0.0, 0.0, 0.0, 0.0, 0.0, 0.0, 0.0, 0.0, 0.0, 0.0, 0.0, 0.0, 0.0, 0.0, 0.0, 0.0, 0.0, 0.0, 0.0, 0.0, 0.0, 0.0, 0.0, 0.0, 0.0, 0.0, 0.0, 0.0, 0.0, 0.0]$"
      ],
      "text/plain": [
       "<IPython.core.display.Markdown object>"
      ]
     },
     "metadata": {},
     "output_type": "display_data"
    },
    {
     "data": {
      "text/markdown": [
       "$\\Gamma=29$"
      ],
      "text/plain": [
       "<IPython.core.display.Markdown object>"
      ]
     },
     "metadata": {},
     "output_type": "display_data"
    },
    {
     "data": {
      "text/markdown": [
       "**Profit:** 1115.03€"
      ],
      "text/plain": [
       "<IPython.core.display.Markdown object>"
      ]
     },
     "metadata": {},
     "output_type": "display_data"
    },
    {
     "data": {
      "text/markdown": [
       "**Optimal solution:** $[1000.0, 0.0, 0.0, 0.0, 0.0, 0.0, 0.0, 0.0, 0.0, 0.0, 0.0, 0.0, 0.0, 0.0, 0.0, 0.0, 0.0, 0.0, 0.0, 0.0, 0.0, 0.0, 0.0, 0.0, 0.0, 0.0, 0.0, 0.0, 0.0, 0.0, 0.0, 0.0, 0.0, 0.0, 0.0, 0.0, 0.0, 0.0, 0.0, 0.0, 0.0, 0.0, 0.0, 0.0, 0.0, 0.0, 0.0, 0.0, 0.0, 0.0, 0.0, 0.0, 0.0, 0.0, 0.0, 0.0, 0.0, 0.0, 0.0, 0.0, 0.0, 0.0, 0.0, 0.0, 0.0, 0.0, 0.0, 0.0, 0.0, 0.0, 0.0, 0.0, 0.0, 0.0, 0.0, 0.0, 0.0, 0.0, 0.0, 0.0, 0.0, 0.0, 0.0, 0.0, 0.0, 0.0, 0.0, 0.0, 0.0, 0.0, 0.0, 0.0, 0.0, 0.0, 0.0, 0.0, 0.0, 0.0, 0.0, 0.0]$"
      ],
      "text/plain": [
       "<IPython.core.display.Markdown object>"
      ]
     },
     "metadata": {},
     "output_type": "display_data"
    },
    {
     "data": {
      "text/markdown": [
       "$\\Gamma=30$"
      ],
      "text/plain": [
       "<IPython.core.display.Markdown object>"
      ]
     },
     "metadata": {},
     "output_type": "display_data"
    },
    {
     "data": {
      "text/markdown": [
       "**Profit:** 1115.03€"
      ],
      "text/plain": [
       "<IPython.core.display.Markdown object>"
      ]
     },
     "metadata": {},
     "output_type": "display_data"
    },
    {
     "data": {
      "text/markdown": [
       "**Optimal solution:** $[1000.0, 0.0, 0.0, 0.0, 0.0, 0.0, 0.0, 0.0, 0.0, 0.0, 0.0, 0.0, 0.0, 0.0, 0.0, 0.0, 0.0, 0.0, 0.0, 0.0, 0.0, 0.0, 0.0, 0.0, 0.0, 0.0, 0.0, 0.0, 0.0, 0.0, 0.0, 0.0, 0.0, 0.0, 0.0, 0.0, 0.0, 0.0, 0.0, 0.0, 0.0, 0.0, 0.0, 0.0, 0.0, 0.0, 0.0, 0.0, 0.0, 0.0, 0.0, 0.0, 0.0, 0.0, 0.0, 0.0, 0.0, 0.0, 0.0, 0.0, 0.0, 0.0, 0.0, 0.0, 0.0, 0.0, 0.0, 0.0, 0.0, 0.0, 0.0, 0.0, 0.0, 0.0, 0.0, 0.0, 0.0, 0.0, 0.0, 0.0, 0.0, 0.0, 0.0, 0.0, 0.0, 0.0, 0.0, 0.0, 0.0, 0.0, 0.0, 0.0, 0.0, 0.0, 0.0, 0.0, 0.0, 0.0, 0.0, 0.0]$"
      ],
      "text/plain": [
       "<IPython.core.display.Markdown object>"
      ]
     },
     "metadata": {},
     "output_type": "display_data"
    },
    {
     "data": {
      "text/markdown": [
       "$\\Gamma=31$"
      ],
      "text/plain": [
       "<IPython.core.display.Markdown object>"
      ]
     },
     "metadata": {},
     "output_type": "display_data"
    },
    {
     "data": {
      "text/markdown": [
       "**Profit:** 1115.03€"
      ],
      "text/plain": [
       "<IPython.core.display.Markdown object>"
      ]
     },
     "metadata": {},
     "output_type": "display_data"
    },
    {
     "data": {
      "text/markdown": [
       "**Optimal solution:** $[1000.0, 0.0, 0.0, 0.0, 0.0, 0.0, 0.0, 0.0, 0.0, 0.0, 0.0, 0.0, 0.0, 0.0, 0.0, 0.0, 0.0, 0.0, 0.0, 0.0, 0.0, 0.0, 0.0, 0.0, 0.0, 0.0, 0.0, 0.0, 0.0, 0.0, 0.0, 0.0, 0.0, 0.0, 0.0, 0.0, 0.0, 0.0, 0.0, 0.0, 0.0, 0.0, 0.0, 0.0, 0.0, 0.0, 0.0, 0.0, 0.0, 0.0, 0.0, 0.0, 0.0, 0.0, 0.0, 0.0, 0.0, 0.0, 0.0, 0.0, 0.0, 0.0, 0.0, 0.0, 0.0, 0.0, 0.0, 0.0, 0.0, 0.0, 0.0, 0.0, 0.0, 0.0, 0.0, 0.0, 0.0, 0.0, 0.0, 0.0, 0.0, 0.0, 0.0, 0.0, 0.0, 0.0, 0.0, 0.0, 0.0, 0.0, 0.0, 0.0, 0.0, 0.0, 0.0, 0.0, 0.0, 0.0, 0.0, 0.0]$"
      ],
      "text/plain": [
       "<IPython.core.display.Markdown object>"
      ]
     },
     "metadata": {},
     "output_type": "display_data"
    },
    {
     "data": {
      "text/markdown": [
       "$\\Gamma=32$"
      ],
      "text/plain": [
       "<IPython.core.display.Markdown object>"
      ]
     },
     "metadata": {},
     "output_type": "display_data"
    },
    {
     "data": {
      "text/markdown": [
       "**Profit:** 1115.03€"
      ],
      "text/plain": [
       "<IPython.core.display.Markdown object>"
      ]
     },
     "metadata": {},
     "output_type": "display_data"
    },
    {
     "data": {
      "text/markdown": [
       "**Optimal solution:** $[1000.0, 0.0, 0.0, 0.0, 0.0, 0.0, 0.0, 0.0, 0.0, 0.0, 0.0, 0.0, 0.0, 0.0, 0.0, 0.0, 0.0, 0.0, 0.0, 0.0, 0.0, 0.0, 0.0, 0.0, 0.0, 0.0, 0.0, 0.0, 0.0, 0.0, 0.0, 0.0, 0.0, 0.0, 0.0, 0.0, 0.0, 0.0, 0.0, 0.0, 0.0, 0.0, 0.0, 0.0, 0.0, 0.0, 0.0, 0.0, 0.0, 0.0, 0.0, 0.0, 0.0, 0.0, 0.0, 0.0, 0.0, 0.0, 0.0, 0.0, 0.0, 0.0, 0.0, 0.0, 0.0, 0.0, 0.0, 0.0, 0.0, 0.0, 0.0, 0.0, 0.0, 0.0, 0.0, 0.0, 0.0, 0.0, 0.0, 0.0, 0.0, 0.0, 0.0, 0.0, 0.0, 0.0, 0.0, 0.0, 0.0, 0.0, 0.0, 0.0, 0.0, 0.0, 0.0, 0.0, 0.0, 0.0, 0.0, 0.0]$"
      ],
      "text/plain": [
       "<IPython.core.display.Markdown object>"
      ]
     },
     "metadata": {},
     "output_type": "display_data"
    },
    {
     "data": {
      "text/markdown": [
       "$\\Gamma=33$"
      ],
      "text/plain": [
       "<IPython.core.display.Markdown object>"
      ]
     },
     "metadata": {},
     "output_type": "display_data"
    },
    {
     "data": {
      "text/markdown": [
       "**Profit:** 1115.03€"
      ],
      "text/plain": [
       "<IPython.core.display.Markdown object>"
      ]
     },
     "metadata": {},
     "output_type": "display_data"
    },
    {
     "data": {
      "text/markdown": [
       "**Optimal solution:** $[1000.0, 0.0, 0.0, 0.0, 0.0, 0.0, 0.0, 0.0, 0.0, 0.0, 0.0, 0.0, 0.0, 0.0, 0.0, 0.0, 0.0, 0.0, 0.0, 0.0, 0.0, 0.0, 0.0, 0.0, 0.0, 0.0, 0.0, 0.0, 0.0, 0.0, 0.0, 0.0, 0.0, 0.0, 0.0, 0.0, 0.0, 0.0, 0.0, 0.0, 0.0, 0.0, 0.0, 0.0, 0.0, 0.0, 0.0, 0.0, 0.0, 0.0, 0.0, 0.0, 0.0, 0.0, 0.0, 0.0, 0.0, 0.0, 0.0, 0.0, 0.0, 0.0, 0.0, 0.0, 0.0, 0.0, 0.0, 0.0, 0.0, 0.0, 0.0, 0.0, 0.0, 0.0, 0.0, 0.0, 0.0, 0.0, 0.0, 0.0, 0.0, 0.0, 0.0, 0.0, 0.0, 0.0, 0.0, 0.0, 0.0, 0.0, 0.0, 0.0, 0.0, 0.0, 0.0, 0.0, 0.0, 0.0, 0.0, 0.0]$"
      ],
      "text/plain": [
       "<IPython.core.display.Markdown object>"
      ]
     },
     "metadata": {},
     "output_type": "display_data"
    },
    {
     "data": {
      "text/markdown": [
       "$\\Gamma=34$"
      ],
      "text/plain": [
       "<IPython.core.display.Markdown object>"
      ]
     },
     "metadata": {},
     "output_type": "display_data"
    },
    {
     "data": {
      "text/markdown": [
       "**Profit:** 1115.03€"
      ],
      "text/plain": [
       "<IPython.core.display.Markdown object>"
      ]
     },
     "metadata": {},
     "output_type": "display_data"
    },
    {
     "data": {
      "text/markdown": [
       "**Optimal solution:** $[1000.0, 0.0, 0.0, 0.0, 0.0, 0.0, 0.0, 0.0, 0.0, 0.0, 0.0, 0.0, 0.0, 0.0, 0.0, 0.0, 0.0, 0.0, 0.0, 0.0, 0.0, 0.0, 0.0, 0.0, 0.0, 0.0, 0.0, 0.0, 0.0, 0.0, 0.0, 0.0, 0.0, 0.0, 0.0, 0.0, 0.0, 0.0, 0.0, 0.0, 0.0, 0.0, 0.0, 0.0, 0.0, 0.0, 0.0, 0.0, 0.0, 0.0, 0.0, 0.0, 0.0, 0.0, 0.0, 0.0, 0.0, 0.0, 0.0, 0.0, 0.0, 0.0, 0.0, 0.0, 0.0, 0.0, 0.0, 0.0, 0.0, 0.0, 0.0, 0.0, 0.0, 0.0, 0.0, 0.0, 0.0, 0.0, 0.0, 0.0, 0.0, 0.0, 0.0, 0.0, 0.0, 0.0, 0.0, 0.0, 0.0, 0.0, 0.0, 0.0, 0.0, 0.0, 0.0, 0.0, 0.0, 0.0, 0.0, 0.0]$"
      ],
      "text/plain": [
       "<IPython.core.display.Markdown object>"
      ]
     },
     "metadata": {},
     "output_type": "display_data"
    },
    {
     "data": {
      "text/markdown": [
       "$\\Gamma=35$"
      ],
      "text/plain": [
       "<IPython.core.display.Markdown object>"
      ]
     },
     "metadata": {},
     "output_type": "display_data"
    },
    {
     "data": {
      "text/markdown": [
       "**Profit:** 1115.03€"
      ],
      "text/plain": [
       "<IPython.core.display.Markdown object>"
      ]
     },
     "metadata": {},
     "output_type": "display_data"
    },
    {
     "data": {
      "text/markdown": [
       "**Optimal solution:** $[1000.0, 0.0, 0.0, 0.0, 0.0, 0.0, 0.0, 0.0, 0.0, 0.0, 0.0, 0.0, 0.0, 0.0, 0.0, 0.0, 0.0, 0.0, 0.0, 0.0, 0.0, 0.0, 0.0, 0.0, 0.0, 0.0, 0.0, 0.0, 0.0, 0.0, 0.0, 0.0, 0.0, 0.0, 0.0, 0.0, 0.0, 0.0, 0.0, 0.0, 0.0, 0.0, 0.0, 0.0, 0.0, 0.0, 0.0, 0.0, 0.0, 0.0, 0.0, 0.0, 0.0, 0.0, 0.0, 0.0, 0.0, 0.0, 0.0, 0.0, 0.0, 0.0, 0.0, 0.0, 0.0, 0.0, 0.0, 0.0, 0.0, 0.0, 0.0, 0.0, 0.0, 0.0, 0.0, 0.0, 0.0, 0.0, 0.0, 0.0, 0.0, 0.0, 0.0, 0.0, 0.0, 0.0, 0.0, 0.0, 0.0, 0.0, 0.0, 0.0, 0.0, 0.0, 0.0, 0.0, 0.0, 0.0, 0.0, 0.0]$"
      ],
      "text/plain": [
       "<IPython.core.display.Markdown object>"
      ]
     },
     "metadata": {},
     "output_type": "display_data"
    },
    {
     "data": {
      "text/markdown": [
       "$\\Gamma=36$"
      ],
      "text/plain": [
       "<IPython.core.display.Markdown object>"
      ]
     },
     "metadata": {},
     "output_type": "display_data"
    },
    {
     "data": {
      "text/markdown": [
       "**Profit:** 1115.03€"
      ],
      "text/plain": [
       "<IPython.core.display.Markdown object>"
      ]
     },
     "metadata": {},
     "output_type": "display_data"
    },
    {
     "data": {
      "text/markdown": [
       "**Optimal solution:** $[1000.0, 0.0, 0.0, 0.0, 0.0, 0.0, 0.0, 0.0, 0.0, 0.0, 0.0, 0.0, 0.0, 0.0, 0.0, 0.0, 0.0, 0.0, 0.0, 0.0, 0.0, 0.0, 0.0, 0.0, 0.0, 0.0, 0.0, 0.0, 0.0, 0.0, 0.0, 0.0, 0.0, 0.0, 0.0, 0.0, 0.0, 0.0, 0.0, 0.0, 0.0, 0.0, 0.0, 0.0, 0.0, 0.0, 0.0, 0.0, 0.0, 0.0, 0.0, 0.0, 0.0, 0.0, 0.0, 0.0, 0.0, 0.0, 0.0, 0.0, 0.0, 0.0, 0.0, 0.0, 0.0, 0.0, 0.0, 0.0, 0.0, 0.0, 0.0, 0.0, 0.0, 0.0, 0.0, 0.0, 0.0, 0.0, 0.0, 0.0, 0.0, 0.0, 0.0, 0.0, 0.0, 0.0, 0.0, 0.0, 0.0, 0.0, 0.0, 0.0, 0.0, 0.0, 0.0, 0.0, 0.0, 0.0, 0.0, 0.0]$"
      ],
      "text/plain": [
       "<IPython.core.display.Markdown object>"
      ]
     },
     "metadata": {},
     "output_type": "display_data"
    },
    {
     "data": {
      "text/markdown": [
       "$\\Gamma=37$"
      ],
      "text/plain": [
       "<IPython.core.display.Markdown object>"
      ]
     },
     "metadata": {},
     "output_type": "display_data"
    },
    {
     "data": {
      "text/markdown": [
       "**Profit:** 1115.03€"
      ],
      "text/plain": [
       "<IPython.core.display.Markdown object>"
      ]
     },
     "metadata": {},
     "output_type": "display_data"
    },
    {
     "data": {
      "text/markdown": [
       "**Optimal solution:** $[1000.0, 0.0, 0.0, 0.0, 0.0, 0.0, 0.0, 0.0, 0.0, 0.0, 0.0, 0.0, 0.0, 0.0, 0.0, 0.0, 0.0, 0.0, 0.0, 0.0, 0.0, 0.0, 0.0, 0.0, 0.0, 0.0, 0.0, 0.0, 0.0, 0.0, 0.0, 0.0, 0.0, 0.0, 0.0, 0.0, 0.0, 0.0, 0.0, 0.0, 0.0, 0.0, 0.0, 0.0, 0.0, 0.0, 0.0, 0.0, 0.0, 0.0, 0.0, 0.0, 0.0, 0.0, 0.0, 0.0, 0.0, 0.0, 0.0, 0.0, 0.0, 0.0, 0.0, 0.0, 0.0, 0.0, 0.0, 0.0, 0.0, 0.0, 0.0, 0.0, 0.0, 0.0, 0.0, 0.0, 0.0, 0.0, 0.0, 0.0, 0.0, 0.0, 0.0, 0.0, 0.0, 0.0, 0.0, 0.0, 0.0, 0.0, 0.0, 0.0, 0.0, 0.0, 0.0, 0.0, 0.0, 0.0, 0.0, 0.0]$"
      ],
      "text/plain": [
       "<IPython.core.display.Markdown object>"
      ]
     },
     "metadata": {},
     "output_type": "display_data"
    },
    {
     "data": {
      "text/markdown": [
       "$\\Gamma=38$"
      ],
      "text/plain": [
       "<IPython.core.display.Markdown object>"
      ]
     },
     "metadata": {},
     "output_type": "display_data"
    },
    {
     "data": {
      "text/markdown": [
       "**Profit:** 1115.03€"
      ],
      "text/plain": [
       "<IPython.core.display.Markdown object>"
      ]
     },
     "metadata": {},
     "output_type": "display_data"
    },
    {
     "data": {
      "text/markdown": [
       "**Optimal solution:** $[1000.0, 0.0, 0.0, 0.0, 0.0, 0.0, 0.0, 0.0, 0.0, 0.0, 0.0, 0.0, 0.0, 0.0, 0.0, 0.0, 0.0, 0.0, 0.0, 0.0, 0.0, 0.0, 0.0, 0.0, 0.0, 0.0, 0.0, 0.0, 0.0, 0.0, 0.0, 0.0, 0.0, 0.0, 0.0, 0.0, 0.0, 0.0, 0.0, 0.0, 0.0, 0.0, 0.0, 0.0, 0.0, 0.0, 0.0, 0.0, 0.0, 0.0, 0.0, 0.0, 0.0, 0.0, 0.0, 0.0, 0.0, 0.0, 0.0, 0.0, 0.0, 0.0, 0.0, 0.0, 0.0, 0.0, 0.0, 0.0, 0.0, 0.0, 0.0, 0.0, 0.0, 0.0, 0.0, 0.0, 0.0, 0.0, 0.0, 0.0, 0.0, 0.0, 0.0, 0.0, 0.0, 0.0, 0.0, 0.0, 0.0, 0.0, 0.0, 0.0, 0.0, 0.0, 0.0, 0.0, 0.0, 0.0, 0.0, 0.0]$"
      ],
      "text/plain": [
       "<IPython.core.display.Markdown object>"
      ]
     },
     "metadata": {},
     "output_type": "display_data"
    },
    {
     "data": {
      "text/markdown": [
       "$\\Gamma=39$"
      ],
      "text/plain": [
       "<IPython.core.display.Markdown object>"
      ]
     },
     "metadata": {},
     "output_type": "display_data"
    },
    {
     "data": {
      "text/markdown": [
       "**Profit:** 1115.03€"
      ],
      "text/plain": [
       "<IPython.core.display.Markdown object>"
      ]
     },
     "metadata": {},
     "output_type": "display_data"
    },
    {
     "data": {
      "text/markdown": [
       "**Optimal solution:** $[1000.0, 0.0, 0.0, 0.0, 0.0, 0.0, 0.0, 0.0, 0.0, 0.0, 0.0, 0.0, 0.0, 0.0, 0.0, 0.0, 0.0, 0.0, 0.0, 0.0, 0.0, 0.0, 0.0, 0.0, 0.0, 0.0, 0.0, 0.0, 0.0, 0.0, 0.0, 0.0, 0.0, 0.0, 0.0, 0.0, 0.0, 0.0, 0.0, 0.0, 0.0, 0.0, 0.0, 0.0, 0.0, 0.0, 0.0, 0.0, 0.0, 0.0, 0.0, 0.0, 0.0, 0.0, 0.0, 0.0, 0.0, 0.0, 0.0, 0.0, 0.0, 0.0, 0.0, 0.0, 0.0, 0.0, 0.0, 0.0, 0.0, 0.0, 0.0, 0.0, 0.0, 0.0, 0.0, 0.0, 0.0, 0.0, 0.0, 0.0, 0.0, 0.0, 0.0, 0.0, 0.0, 0.0, 0.0, 0.0, 0.0, 0.0, 0.0, 0.0, 0.0, 0.0, 0.0, 0.0, 0.0, 0.0, 0.0, 0.0]$"
      ],
      "text/plain": [
       "<IPython.core.display.Markdown object>"
      ]
     },
     "metadata": {},
     "output_type": "display_data"
    },
    {
     "data": {
      "text/markdown": [
       "$\\Gamma=40$"
      ],
      "text/plain": [
       "<IPython.core.display.Markdown object>"
      ]
     },
     "metadata": {},
     "output_type": "display_data"
    },
    {
     "data": {
      "text/markdown": [
       "**Profit:** 1115.03€"
      ],
      "text/plain": [
       "<IPython.core.display.Markdown object>"
      ]
     },
     "metadata": {},
     "output_type": "display_data"
    },
    {
     "data": {
      "text/markdown": [
       "**Optimal solution:** $[1000.0, 0.0, 0.0, 0.0, 0.0, 0.0, 0.0, 0.0, 0.0, 0.0, 0.0, 0.0, 0.0, 0.0, 0.0, 0.0, 0.0, 0.0, 0.0, 0.0, 0.0, 0.0, 0.0, 0.0, 0.0, 0.0, 0.0, 0.0, 0.0, 0.0, 0.0, 0.0, 0.0, 0.0, 0.0, 0.0, 0.0, 0.0, 0.0, 0.0, 0.0, 0.0, 0.0, 0.0, 0.0, 0.0, 0.0, 0.0, 0.0, 0.0, 0.0, 0.0, 0.0, 0.0, 0.0, 0.0, 0.0, 0.0, 0.0, 0.0, 0.0, 0.0, 0.0, 0.0, 0.0, 0.0, 0.0, 0.0, 0.0, 0.0, 0.0, 0.0, 0.0, 0.0, 0.0, 0.0, 0.0, 0.0, 0.0, 0.0, 0.0, 0.0, 0.0, 0.0, 0.0, 0.0, 0.0, 0.0, 0.0, 0.0, 0.0, 0.0, 0.0, 0.0, 0.0, 0.0, 0.0, 0.0, 0.0, 0.0]$"
      ],
      "text/plain": [
       "<IPython.core.display.Markdown object>"
      ]
     },
     "metadata": {},
     "output_type": "display_data"
    },
    {
     "data": {
      "text/markdown": [
       "$\\Gamma=41$"
      ],
      "text/plain": [
       "<IPython.core.display.Markdown object>"
      ]
     },
     "metadata": {},
     "output_type": "display_data"
    },
    {
     "data": {
      "text/markdown": [
       "**Profit:** 1115.03€"
      ],
      "text/plain": [
       "<IPython.core.display.Markdown object>"
      ]
     },
     "metadata": {},
     "output_type": "display_data"
    },
    {
     "data": {
      "text/markdown": [
       "**Optimal solution:** $[1000.0, 0.0, 0.0, 0.0, 0.0, 0.0, 0.0, 0.0, 0.0, 0.0, 0.0, 0.0, 0.0, 0.0, 0.0, 0.0, 0.0, 0.0, 0.0, 0.0, 0.0, 0.0, 0.0, 0.0, 0.0, 0.0, 0.0, 0.0, 0.0, 0.0, 0.0, 0.0, 0.0, 0.0, 0.0, 0.0, 0.0, 0.0, 0.0, 0.0, 0.0, 0.0, 0.0, 0.0, 0.0, 0.0, 0.0, 0.0, 0.0, 0.0, 0.0, 0.0, 0.0, 0.0, 0.0, 0.0, 0.0, 0.0, 0.0, 0.0, 0.0, 0.0, 0.0, 0.0, 0.0, 0.0, 0.0, 0.0, 0.0, 0.0, 0.0, 0.0, 0.0, 0.0, 0.0, 0.0, 0.0, 0.0, 0.0, 0.0, 0.0, 0.0, 0.0, 0.0, 0.0, 0.0, 0.0, 0.0, 0.0, 0.0, 0.0, 0.0, 0.0, 0.0, 0.0, 0.0, 0.0, 0.0, 0.0, 0.0]$"
      ],
      "text/plain": [
       "<IPython.core.display.Markdown object>"
      ]
     },
     "metadata": {},
     "output_type": "display_data"
    },
    {
     "data": {
      "text/markdown": [
       "$\\Gamma=42$"
      ],
      "text/plain": [
       "<IPython.core.display.Markdown object>"
      ]
     },
     "metadata": {},
     "output_type": "display_data"
    },
    {
     "data": {
      "text/markdown": [
       "**Profit:** 1115.03€"
      ],
      "text/plain": [
       "<IPython.core.display.Markdown object>"
      ]
     },
     "metadata": {},
     "output_type": "display_data"
    },
    {
     "data": {
      "text/markdown": [
       "**Optimal solution:** $[1000.0, 0.0, 0.0, 0.0, 0.0, 0.0, 0.0, 0.0, 0.0, 0.0, 0.0, 0.0, 0.0, 0.0, 0.0, 0.0, 0.0, 0.0, 0.0, 0.0, 0.0, 0.0, 0.0, 0.0, 0.0, 0.0, 0.0, 0.0, 0.0, 0.0, 0.0, 0.0, 0.0, 0.0, 0.0, 0.0, 0.0, 0.0, 0.0, 0.0, 0.0, 0.0, 0.0, 0.0, 0.0, 0.0, 0.0, 0.0, 0.0, 0.0, 0.0, 0.0, 0.0, 0.0, 0.0, 0.0, 0.0, 0.0, 0.0, 0.0, 0.0, 0.0, 0.0, 0.0, 0.0, 0.0, 0.0, 0.0, 0.0, 0.0, 0.0, 0.0, 0.0, 0.0, 0.0, 0.0, 0.0, 0.0, 0.0, 0.0, 0.0, 0.0, 0.0, 0.0, 0.0, 0.0, 0.0, 0.0, 0.0, 0.0, 0.0, 0.0, 0.0, 0.0, 0.0, 0.0, 0.0, 0.0, 0.0, 0.0]$"
      ],
      "text/plain": [
       "<IPython.core.display.Markdown object>"
      ]
     },
     "metadata": {},
     "output_type": "display_data"
    },
    {
     "data": {
      "text/markdown": [
       "$\\Gamma=43$"
      ],
      "text/plain": [
       "<IPython.core.display.Markdown object>"
      ]
     },
     "metadata": {},
     "output_type": "display_data"
    },
    {
     "data": {
      "text/markdown": [
       "**Profit:** 1115.03€"
      ],
      "text/plain": [
       "<IPython.core.display.Markdown object>"
      ]
     },
     "metadata": {},
     "output_type": "display_data"
    },
    {
     "data": {
      "text/markdown": [
       "**Optimal solution:** $[1000.0, 0.0, 0.0, 0.0, 0.0, 0.0, 0.0, 0.0, 0.0, 0.0, 0.0, 0.0, 0.0, 0.0, 0.0, 0.0, 0.0, 0.0, 0.0, 0.0, 0.0, 0.0, 0.0, 0.0, 0.0, 0.0, 0.0, 0.0, 0.0, 0.0, 0.0, 0.0, 0.0, 0.0, 0.0, 0.0, 0.0, 0.0, 0.0, 0.0, 0.0, 0.0, 0.0, 0.0, 0.0, 0.0, 0.0, 0.0, 0.0, 0.0, 0.0, 0.0, 0.0, 0.0, 0.0, 0.0, 0.0, 0.0, 0.0, 0.0, 0.0, 0.0, 0.0, 0.0, 0.0, 0.0, 0.0, 0.0, 0.0, 0.0, 0.0, 0.0, 0.0, 0.0, 0.0, 0.0, 0.0, 0.0, 0.0, 0.0, 0.0, 0.0, 0.0, 0.0, 0.0, 0.0, 0.0, 0.0, 0.0, 0.0, 0.0, 0.0, 0.0, 0.0, 0.0, 0.0, 0.0, 0.0, 0.0, 0.0]$"
      ],
      "text/plain": [
       "<IPython.core.display.Markdown object>"
      ]
     },
     "metadata": {},
     "output_type": "display_data"
    },
    {
     "data": {
      "text/markdown": [
       "$\\Gamma=44$"
      ],
      "text/plain": [
       "<IPython.core.display.Markdown object>"
      ]
     },
     "metadata": {},
     "output_type": "display_data"
    },
    {
     "data": {
      "text/markdown": [
       "**Profit:** 1115.03€"
      ],
      "text/plain": [
       "<IPython.core.display.Markdown object>"
      ]
     },
     "metadata": {},
     "output_type": "display_data"
    },
    {
     "data": {
      "text/markdown": [
       "**Optimal solution:** $[1000.0, 0.0, 0.0, 0.0, 0.0, 0.0, 0.0, 0.0, 0.0, 0.0, 0.0, 0.0, 0.0, 0.0, 0.0, 0.0, 0.0, 0.0, 0.0, 0.0, 0.0, 0.0, 0.0, 0.0, 0.0, 0.0, 0.0, 0.0, 0.0, 0.0, 0.0, 0.0, 0.0, 0.0, 0.0, 0.0, 0.0, 0.0, 0.0, 0.0, 0.0, 0.0, 0.0, 0.0, 0.0, 0.0, 0.0, 0.0, 0.0, 0.0, 0.0, 0.0, 0.0, 0.0, 0.0, 0.0, 0.0, 0.0, 0.0, 0.0, 0.0, 0.0, 0.0, 0.0, 0.0, 0.0, 0.0, 0.0, 0.0, 0.0, 0.0, 0.0, 0.0, 0.0, 0.0, 0.0, 0.0, 0.0, 0.0, 0.0, 0.0, 0.0, 0.0, 0.0, 0.0, 0.0, 0.0, 0.0, 0.0, 0.0, 0.0, 0.0, 0.0, 0.0, 0.0, 0.0, 0.0, 0.0, 0.0, 0.0]$"
      ],
      "text/plain": [
       "<IPython.core.display.Markdown object>"
      ]
     },
     "metadata": {},
     "output_type": "display_data"
    },
    {
     "data": {
      "text/markdown": [
       "$\\Gamma=45$"
      ],
      "text/plain": [
       "<IPython.core.display.Markdown object>"
      ]
     },
     "metadata": {},
     "output_type": "display_data"
    },
    {
     "data": {
      "text/markdown": [
       "**Profit:** 1115.03€"
      ],
      "text/plain": [
       "<IPython.core.display.Markdown object>"
      ]
     },
     "metadata": {},
     "output_type": "display_data"
    },
    {
     "data": {
      "text/markdown": [
       "**Optimal solution:** $[1000.0, 0.0, 0.0, 0.0, 0.0, 0.0, 0.0, 0.0, 0.0, 0.0, 0.0, 0.0, 0.0, 0.0, 0.0, 0.0, 0.0, 0.0, 0.0, 0.0, 0.0, 0.0, 0.0, 0.0, 0.0, 0.0, 0.0, 0.0, 0.0, 0.0, 0.0, 0.0, 0.0, 0.0, 0.0, 0.0, 0.0, 0.0, 0.0, 0.0, 0.0, 0.0, 0.0, 0.0, 0.0, 0.0, 0.0, 0.0, 0.0, 0.0, 0.0, 0.0, 0.0, 0.0, 0.0, 0.0, 0.0, 0.0, 0.0, 0.0, 0.0, 0.0, 0.0, 0.0, 0.0, 0.0, 0.0, 0.0, 0.0, 0.0, 0.0, 0.0, 0.0, 0.0, 0.0, 0.0, 0.0, 0.0, 0.0, 0.0, 0.0, 0.0, 0.0, 0.0, 0.0, 0.0, 0.0, 0.0, 0.0, 0.0, 0.0, 0.0, 0.0, 0.0, 0.0, 0.0, 0.0, 0.0, 0.0, 0.0]$"
      ],
      "text/plain": [
       "<IPython.core.display.Markdown object>"
      ]
     },
     "metadata": {},
     "output_type": "display_data"
    },
    {
     "data": {
      "text/markdown": [
       "$\\Gamma=46$"
      ],
      "text/plain": [
       "<IPython.core.display.Markdown object>"
      ]
     },
     "metadata": {},
     "output_type": "display_data"
    },
    {
     "data": {
      "text/markdown": [
       "**Profit:** 1115.03€"
      ],
      "text/plain": [
       "<IPython.core.display.Markdown object>"
      ]
     },
     "metadata": {},
     "output_type": "display_data"
    },
    {
     "data": {
      "text/markdown": [
       "**Optimal solution:** $[1000.0, 0.0, 0.0, 0.0, 0.0, 0.0, 0.0, 0.0, 0.0, 0.0, 0.0, 0.0, 0.0, 0.0, 0.0, 0.0, 0.0, 0.0, 0.0, 0.0, 0.0, 0.0, 0.0, 0.0, 0.0, 0.0, 0.0, 0.0, 0.0, 0.0, 0.0, 0.0, 0.0, 0.0, 0.0, 0.0, 0.0, 0.0, 0.0, 0.0, 0.0, 0.0, 0.0, 0.0, 0.0, 0.0, 0.0, 0.0, 0.0, 0.0, 0.0, 0.0, 0.0, 0.0, 0.0, 0.0, 0.0, 0.0, 0.0, 0.0, 0.0, 0.0, 0.0, 0.0, 0.0, 0.0, 0.0, 0.0, 0.0, 0.0, 0.0, 0.0, 0.0, 0.0, 0.0, 0.0, 0.0, 0.0, 0.0, 0.0, 0.0, 0.0, 0.0, 0.0, 0.0, 0.0, 0.0, 0.0, 0.0, 0.0, 0.0, 0.0, 0.0, 0.0, 0.0, 0.0, 0.0, 0.0, 0.0, 0.0]$"
      ],
      "text/plain": [
       "<IPython.core.display.Markdown object>"
      ]
     },
     "metadata": {},
     "output_type": "display_data"
    },
    {
     "data": {
      "text/markdown": [
       "$\\Gamma=47$"
      ],
      "text/plain": [
       "<IPython.core.display.Markdown object>"
      ]
     },
     "metadata": {},
     "output_type": "display_data"
    },
    {
     "data": {
      "text/markdown": [
       "**Profit:** 1115.03€"
      ],
      "text/plain": [
       "<IPython.core.display.Markdown object>"
      ]
     },
     "metadata": {},
     "output_type": "display_data"
    },
    {
     "data": {
      "text/markdown": [
       "**Optimal solution:** $[1000.0, 0.0, 0.0, 0.0, 0.0, 0.0, 0.0, 0.0, 0.0, 0.0, 0.0, 0.0, 0.0, 0.0, 0.0, 0.0, 0.0, 0.0, 0.0, 0.0, 0.0, 0.0, 0.0, 0.0, 0.0, 0.0, 0.0, 0.0, 0.0, 0.0, 0.0, 0.0, 0.0, 0.0, 0.0, 0.0, 0.0, 0.0, 0.0, 0.0, 0.0, 0.0, 0.0, 0.0, 0.0, 0.0, 0.0, 0.0, 0.0, 0.0, 0.0, 0.0, 0.0, 0.0, 0.0, 0.0, 0.0, 0.0, 0.0, 0.0, 0.0, 0.0, 0.0, 0.0, 0.0, 0.0, 0.0, 0.0, 0.0, 0.0, 0.0, 0.0, 0.0, 0.0, 0.0, 0.0, 0.0, 0.0, 0.0, 0.0, 0.0, 0.0, 0.0, 0.0, 0.0, 0.0, 0.0, 0.0, 0.0, 0.0, 0.0, 0.0, 0.0, 0.0, 0.0, 0.0, 0.0, 0.0, 0.0, 0.0]$"
      ],
      "text/plain": [
       "<IPython.core.display.Markdown object>"
      ]
     },
     "metadata": {},
     "output_type": "display_data"
    },
    {
     "data": {
      "text/markdown": [
       "$\\Gamma=48$"
      ],
      "text/plain": [
       "<IPython.core.display.Markdown object>"
      ]
     },
     "metadata": {},
     "output_type": "display_data"
    },
    {
     "data": {
      "text/markdown": [
       "**Profit:** 1115.03€"
      ],
      "text/plain": [
       "<IPython.core.display.Markdown object>"
      ]
     },
     "metadata": {},
     "output_type": "display_data"
    },
    {
     "data": {
      "text/markdown": [
       "**Optimal solution:** $[1000.0, 0.0, 0.0, 0.0, 0.0, 0.0, 0.0, 0.0, 0.0, 0.0, 0.0, 0.0, 0.0, 0.0, 0.0, 0.0, 0.0, 0.0, 0.0, 0.0, 0.0, 0.0, 0.0, 0.0, 0.0, 0.0, 0.0, 0.0, 0.0, 0.0, 0.0, 0.0, 0.0, 0.0, 0.0, 0.0, 0.0, 0.0, 0.0, 0.0, 0.0, 0.0, 0.0, 0.0, 0.0, 0.0, 0.0, 0.0, 0.0, 0.0, 0.0, 0.0, 0.0, 0.0, 0.0, 0.0, 0.0, 0.0, 0.0, 0.0, 0.0, 0.0, 0.0, 0.0, 0.0, 0.0, 0.0, 0.0, 0.0, 0.0, 0.0, 0.0, 0.0, 0.0, 0.0, 0.0, 0.0, 0.0, 0.0, 0.0, 0.0, 0.0, 0.0, 0.0, 0.0, 0.0, 0.0, 0.0, 0.0, 0.0, 0.0, 0.0, 0.0, 0.0, 0.0, 0.0, 0.0, 0.0, 0.0, 0.0]$"
      ],
      "text/plain": [
       "<IPython.core.display.Markdown object>"
      ]
     },
     "metadata": {},
     "output_type": "display_data"
    },
    {
     "data": {
      "text/markdown": [
       "$\\Gamma=49$"
      ],
      "text/plain": [
       "<IPython.core.display.Markdown object>"
      ]
     },
     "metadata": {},
     "output_type": "display_data"
    },
    {
     "data": {
      "text/markdown": [
       "**Profit:** 1115.03€"
      ],
      "text/plain": [
       "<IPython.core.display.Markdown object>"
      ]
     },
     "metadata": {},
     "output_type": "display_data"
    },
    {
     "data": {
      "text/markdown": [
       "**Optimal solution:** $[1000.0, 0.0, 0.0, 0.0, 0.0, 0.0, 0.0, 0.0, 0.0, 0.0, 0.0, 0.0, 0.0, 0.0, 0.0, 0.0, 0.0, 0.0, 0.0, 0.0, 0.0, 0.0, 0.0, 0.0, 0.0, 0.0, 0.0, 0.0, 0.0, 0.0, 0.0, 0.0, 0.0, 0.0, 0.0, 0.0, 0.0, 0.0, 0.0, 0.0, 0.0, 0.0, 0.0, 0.0, 0.0, 0.0, 0.0, 0.0, 0.0, 0.0, 0.0, 0.0, 0.0, 0.0, 0.0, 0.0, 0.0, 0.0, 0.0, 0.0, 0.0, 0.0, 0.0, 0.0, 0.0, 0.0, 0.0, 0.0, 0.0, 0.0, 0.0, 0.0, 0.0, 0.0, 0.0, 0.0, 0.0, 0.0, 0.0, 0.0, 0.0, 0.0, 0.0, 0.0, 0.0, 0.0, 0.0, 0.0, 0.0, 0.0, 0.0, 0.0, 0.0, 0.0, 0.0, 0.0, 0.0, 0.0, 0.0, 0.0]$"
      ],
      "text/plain": [
       "<IPython.core.display.Markdown object>"
      ]
     },
     "metadata": {},
     "output_type": "display_data"
    },
    {
     "data": {
      "text/markdown": [
       "$\\Gamma=50$"
      ],
      "text/plain": [
       "<IPython.core.display.Markdown object>"
      ]
     },
     "metadata": {},
     "output_type": "display_data"
    },
    {
     "data": {
      "text/markdown": [
       "**Profit:** 1115.03€"
      ],
      "text/plain": [
       "<IPython.core.display.Markdown object>"
      ]
     },
     "metadata": {},
     "output_type": "display_data"
    },
    {
     "data": {
      "text/markdown": [
       "**Optimal solution:** $[1000.0, 0.0, 0.0, 0.0, 0.0, 0.0, 0.0, 0.0, 0.0, 0.0, 0.0, 0.0, 0.0, 0.0, 0.0, 0.0, 0.0, 0.0, 0.0, 0.0, 0.0, 0.0, 0.0, 0.0, 0.0, 0.0, 0.0, 0.0, 0.0, 0.0, 0.0, 0.0, 0.0, 0.0, 0.0, 0.0, 0.0, 0.0, 0.0, 0.0, 0.0, 0.0, 0.0, 0.0, 0.0, 0.0, 0.0, 0.0, 0.0, 0.0, 0.0, 0.0, 0.0, 0.0, 0.0, 0.0, 0.0, 0.0, 0.0, 0.0, 0.0, 0.0, 0.0, 0.0, 0.0, 0.0, 0.0, 0.0, 0.0, 0.0, 0.0, 0.0, 0.0, 0.0, 0.0, 0.0, 0.0, 0.0, 0.0, 0.0, 0.0, 0.0, 0.0, 0.0, 0.0, 0.0, 0.0, 0.0, 0.0, 0.0, 0.0, 0.0, 0.0, 0.0, 0.0, 0.0, 0.0, 0.0, 0.0, 0.0]$"
      ],
      "text/plain": [
       "<IPython.core.display.Markdown object>"
      ]
     },
     "metadata": {},
     "output_type": "display_data"
    }
   ],
   "source": [
    "for gamma in range(51):\n",
    "    profit, x = portfolio(Gamma=gamma, printflag=False)\n",
    "    display(Markdown(f\"$\\Gamma={gamma:.0f}$\"))\n",
    "    display(Markdown(f\"**Profit:** {profit:.2f}€\"))\n",
    "    display(Markdown(f\"**Optimal solution:** ${x}$\"))"
   ]
  },
  {
   "cell_type": "code",
   "execution_count": 25,
   "id": "e611f8ef",
   "metadata": {},
   "outputs": [
    {
     "ename": "TypeError",
     "evalue": "portfolio() got an unexpected keyword argument 'Gamma'",
     "output_type": "error",
     "traceback": [
      "\u001b[0;31m---------------------------------------------------------------------------\u001b[0m",
      "\u001b[0;31mTypeError\u001b[0m                                 Traceback (most recent call last)",
      "Input \u001b[0;32mIn [25]\u001b[0m, in \u001b[0;36m<cell line: 39>\u001b[0;34m()\u001b[0m\n\u001b[1;32m     36\u001b[0m         display(Markdown(\u001b[38;5;124mf\u001b[39m\u001b[38;5;124m\"\u001b[39m\u001b[38;5;124m**Maximizes objective value to:** $\u001b[39m\u001b[38;5;132;01m{\u001b[39;00mmodel\u001b[38;5;241m.\u001b[39mprofit()\u001b[38;5;132;01m:\u001b[39;00m\u001b[38;5;124m.2f\u001b[39m\u001b[38;5;132;01m}\u001b[39;00m\u001b[38;5;124m$€\u001b[39m\u001b[38;5;124m\"\u001b[39m))\n\u001b[1;32m     37\u001b[0m     \u001b[38;5;28;01mreturn\u001b[39;00m model\u001b[38;5;241m.\u001b[39mprofit(), [\u001b[38;5;28mround\u001b[39m(model\u001b[38;5;241m.\u001b[39mx[i]\u001b[38;5;241m.\u001b[39mvalue,\u001b[38;5;241m3\u001b[39m) \u001b[38;5;28;01mfor\u001b[39;00m i \u001b[38;5;129;01min\u001b[39;00m model\u001b[38;5;241m.\u001b[39mindices]\n\u001b[0;32m---> 39\u001b[0m profit, x \u001b[38;5;241m=\u001b[39m \u001b[43mportfolio\u001b[49m\u001b[43m(\u001b[49m\u001b[43mGamma\u001b[49m\u001b[38;5;241;43m=\u001b[39;49m\u001b[38;5;241;43m20\u001b[39;49m\u001b[43m,\u001b[49m\u001b[43m \u001b[49m\u001b[43mprintflag\u001b[49m\u001b[38;5;241;43m=\u001b[39;49m\u001b[38;5;28;43;01mTrue\u001b[39;49;00m\u001b[43m)\u001b[49m\n",
      "\u001b[0;31mTypeError\u001b[0m: portfolio() got an unexpected keyword argument 'Gamma'"
     ]
    }
   ],
   "source": [
    "def portfolio():\n",
    "\n",
    "    model = pyo.ConcreteModel()\n",
    "\n",
    "    model.n = 10\n",
    "\n",
    "    def indices_rule(model):\n",
    "        return range(1,model.n+1)\n",
    "\n",
    "    model.indices = pyo.Set(initialize=indices_rule)\n",
    "\n",
    "    model.capital = 1000\n",
    "    model.x = pyo.Var(model.indices, within=pyo.NonNegativeReals) \n",
    "    model.xtilde = pyo.Var(model.indices, within=pyo.NonNegativeReals) \n",
    "    model.w = pyo.Var(within=pyo.NonNegativeReals) \n",
    "\n",
    "    model.budget = pyo.Constraint(expr=pyo.summation(model.x) +  model.xtilde == model.capital)\n",
    "\n",
    "    def deltareturn(j):\n",
    "        return (0.05/300) * math.sqrt(45300 * j)\n",
    "\n",
    "    def nominalreturn(j):\n",
    "        return 1.15 + j * (0.05/100)\n",
    "\n",
    "    def total_return(model):\n",
    "        return model.w\n",
    "    \n",
    "    model.profit = pyo.Objective(rule=total_return, sense=pyo.maximize)\n",
    "\n",
    "    result = cbc_solver.solve(model)\n",
    "    if printflag:\n",
    "        display(Markdown(f\"**Solver status:** *{result.solver.status}, {result.solver.termination_condition}*\"))\n",
    "        display(Markdown(f\"**Solution:**\"))\n",
    "        for i in model.indices:\n",
    "            display(Markdown(f\" $x_{ {i} } = {model.x[i].value:.3f}$\"))\n",
    "        display(Markdown(f\"**Maximizes objective value to:** ${model.profit():.2f}$€\"))\n",
    "    return model.profit(), [round(model.x[i].value,3) for i in model.indices]\n",
    "\n",
    "profit, x = portfolio(Gamma=20, printflag=True)"
   ]
  },
  {
   "cell_type": "code",
   "execution_count": null,
   "id": "900808e6-65e7-48c9-892b-6a0abc726f59",
   "metadata": {},
   "outputs": [],
   "source": []
  },
  {
   "cell_type": "code",
   "execution_count": null,
   "id": "b98deb45-cea7-4497-9c90-ae54f83c3721",
   "metadata": {},
   "outputs": [],
   "source": []
  }
 ],
 "metadata": {
  "kernelspec": {
   "display_name": "Python 3 (ipykernel)",
   "language": "python",
   "name": "python3"
  },
  "language_info": {
   "codemirror_mode": {
    "name": "ipython",
    "version": 3
   },
   "file_extension": ".py",
   "mimetype": "text/x-python",
   "name": "python",
   "nbconvert_exporter": "python",
   "pygments_lexer": "ipython3",
   "version": "3.9.7"
  },
  "varInspector": {
   "cols": {
    "lenName": 16,
    "lenType": 16,
    "lenVar": 40
   },
   "kernels_config": {
    "python": {
     "delete_cmd_postfix": "",
     "delete_cmd_prefix": "del ",
     "library": "var_list.py",
     "varRefreshCmd": "print(var_dic_list())"
    },
    "r": {
     "delete_cmd_postfix": ") ",
     "delete_cmd_prefix": "rm(",
     "library": "var_list.r",
     "varRefreshCmd": "cat(var_dic_list()) "
    }
   },
   "types_to_exclude": [
    "module",
    "function",
    "builtin_function_or_method",
    "instance",
    "_Feature"
   ],
   "window_display": false
  }
 },
 "nbformat": 4,
 "nbformat_minor": 5
}