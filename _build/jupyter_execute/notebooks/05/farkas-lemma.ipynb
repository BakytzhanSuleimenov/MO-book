{
 "cells": [
  {
   "cell_type": "markdown",
   "id": "fff78e0f-6079-41f9-970f-1854b1b50d54",
   "metadata": {},
   "source": [
    "# Minimum Risk-Free Rate of Return\n",
    "\n",
    "\n",
    "Application of Farka's lemma and convex duality. - Ar\n",
    "\n",
    "\n",
    "## Farka's lemma\n",
    "\n",
    "Farka's lemma, first published by the Hungarian mathematician and physicist Gyula Farkas in 1902, is one of foundations for the theory of linear programming and optimization. \n",
    "\n",
    "\n",
    "## Assets\n",
    "\n",
    "* A: Price today is 30  Next year the price might go up to 40, stay at 30, or fall to 20\n",
    "* B: Price today is 40. Next year the price might go to up 50, stay at 40, or fall to 30.\n",
    "* I have the means to convert 1 unit of to 1 unit of B, A -> B, at a cost 5\n",
    "* A risk free return exists that converts 100 to 105.\n",
    "* I have $1000 to invest. \n",
    "\n",
    "$$P = P_A x_A + P_B x_B + P_f x_f$$"
   ]
  },
  {
   "cell_type": "code",
   "execution_count": null,
   "id": "d263d24b-4c32-4aed-a137-9ae516be2743",
   "metadata": {},
   "outputs": [],
   "source": [
    "import pandas as pd\n",
    "\n",
    "scenarios_a = [20, 30, 40]\n",
    "scenarios_b = [30, 40, 50]\n",
    "\n",
    "\n"
   ]
  },
  {
   "cell_type": "markdown",
   "id": "dbc964b1-e486-4e65-9087-72c819c39096",
   "metadata": {},
   "source": [
    "## Example\n",
    "\n",
    "The owner of a house building business has decided to sell the operation and needs to establish a fair price. The business is highly variable due to the changing relationships between the cost of materials, labor, and the market price of existing houses. In years when the market price of houses falls below the cost of construction there is no reason to build houses for sale. The value of the operations is in those years when a profit can be earned that is hiring than a risk-free investment alternative.\n",
    "\n",
    "| Scenario | Materials | Labor | Market Price | Operating Net |\n",
    "| :------- | :-------: | :---: | :----------: | :----: |\n",
    "| A | 100 | 300 | 350 | -10 |\n",
    "| B | 120 | 350 | 400 | 70 |\n",
    "| C | 80 | 250 | 350 | 20 |\n",
    "\n",
    "* Cost of materials:  \n",
    "\n",
    "of owning the business fo\n",
    "\n",
    "* Convert 2A -> P (commodity goods). There's a cost to operate\n",
    "* Owner holds option to produce quantity q of P at time T\n",
    "* Multiple price scenarios for A and P\n",
    "* There's a risk free alternative investment with payoff Rf\n",
    "\n",
    "Determine -- difference between seller and buyer"
   ]
  },
  {
   "cell_type": "code",
   "execution_count": null,
   "id": "65b4b6aa-d83b-4c9a-a6d1-66417d0c5147",
   "metadata": {},
   "outputs": [],
   "source": []
  }
 ],
 "metadata": {
  "kernelspec": {
   "display_name": "Python 3 (ipykernel)",
   "language": "python",
   "name": "python3"
  },
  "language_info": {
   "codemirror_mode": {
    "name": "ipython",
    "version": 3
   },
   "file_extension": ".py",
   "mimetype": "text/x-python",
   "name": "python",
   "nbconvert_exporter": "python",
   "pygments_lexer": "ipython3",
   "version": "3.9.7"
  }
 },
 "nbformat": 4,
 "nbformat_minor": 5
}