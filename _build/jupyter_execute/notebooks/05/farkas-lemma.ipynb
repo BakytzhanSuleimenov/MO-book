{
 "cells": [
  {
   "cell_type": "markdown",
   "id": "adbd322f-58c7-4e4d-8bee-230c1516846f",
   "metadata": {},
   "source": [
    "# Minimum Risk-Free Rate of Return\n",
    "\n",
    "\n",
    "Application of Farka's lemma and convex duality. - Ar\n",
    "\n",
    "\n",
    "## Example\n",
    "\n",
    "* Convert 2A -> P (commodity goods). There's a cost to operate\n",
    "* Owner holds option to produce quantity q of P at time T\n",
    "* Multiple price scenarios for A and P\n",
    "* There's a risk free alternative investment with payoff Rf\n",
    "\n",
    "Determine -- difference between seller and buyer\n",
    "\n"
   ]
  }
 ],
 "metadata": {
  "kernelspec": {
   "display_name": "Python 3 (ipykernel)",
   "language": "python",
   "name": "python3"
  },
  "language_info": {
   "codemirror_mode": {
    "name": "ipython",
    "version": 3
   },
   "file_extension": ".py",
   "mimetype": "text/x-python",
   "name": "python",
   "nbconvert_exporter": "python",
   "pygments_lexer": "ipython3",
   "version": "3.9.7"
  }
 },
 "nbformat": 4,
 "nbformat_minor": 5
}