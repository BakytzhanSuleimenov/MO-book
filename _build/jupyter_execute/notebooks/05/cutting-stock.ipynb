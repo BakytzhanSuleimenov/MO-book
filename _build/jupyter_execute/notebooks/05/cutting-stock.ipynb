{
 "cells": [
  {
   "cell_type": "markdown",
   "metadata": {
    "id": "_eaxyfyDjXUh"
   },
   "source": [
    "# Extra Material: Cutting Stock\n",
    "\n",
    "The cutting stock problem is familiar to anyone who has cut parts out of stock materials. In the one-dimensional case, the stock materials are available in predetermined lengths and prices. The task is to cut a specific parts from the stocks materials. The question is then: how should one determine which parts to cut from each piece of stock material to minimize cost? This problem applies broadly to commercial applications, including the allocation of non-physical resources like capital budgeting or resource allocation.\n",
    "\n",
    "This notebook presents several models and solution algorithms for the cutting stock problem.\n"
   ]
  },
  {
   "cell_type": "code",
   "execution_count": 1,
   "metadata": {
    "colab": {
     "base_uri": "https://localhost:8080/"
    },
    "executionInfo": {
     "elapsed": 52005,
     "status": "ok",
     "timestamp": 1683316564313,
     "user": {
      "displayName": "Jeffrey Kantor",
      "userId": "09038942003589296665"
     },
     "user_tz": 240
    },
    "id": "bmKKVtw8jcK6",
    "outputId": "a84b1ba2-6a3f-4453-c6aa-3bfc4a4760f6"
   },
   "outputs": [],
   "source": [
    "# install Pyomo and solvers\n",
    "import sys\n",
    "import os\n",
    "\n",
    "if 'google.colab' in sys.modules:\n",
    "    !pip install idaes-pse --pre >/dev/null 2>/dev/null\n",
    "    !idaes get-extensions --to ./bin \n",
    "    os.environ['PATH'] += ':bin'\n",
    "    \n",
    "SOLVER_MILO = \"cbc\"\n",
    "SOLVER_MINLO = \"couenne\""
   ]
  },
  {
   "cell_type": "markdown",
   "metadata": {
    "id": "IYpKQkbd7fnS"
   },
   "source": [
    "## Problem formulation\n",
    "\n",
    "Consider a set ${S}$ of available stock materials that can be cut to size to produce a set of finished parts. Each stock $s\\in S$ is characterized by a length $l^S_s$, costs $c_s$ per piece, and is available in unlimited quantity. A customer order is received to product a set of finished products $F$. Each finished product $f\\in F$ is specified by a required number $d_f$ and length $l^F_f$. The **cutting stock problem** find a minimum cost solution to fulfilling the customer order by cutting finished products from the available stocks.\n",
    "\n",
    "This problem is illustrated is by the following tables of data for the example given by Gilmore and Gamory (1961).\n",
    "\n",
    "**Stocks**\n",
    "\n",
    "| stocks <br> $s$ | length <br> $l^S_s$ | cost <br> $c_s$ |\n",
    "| :--: | :--: | :--: |\n",
    "| A | 5 | 6 |\n",
    "| B | 6 | 7 |\n",
    "| C | 9 |10 |\n",
    "\n",
    "**Finished Parts**\n",
    "\n",
    "| finished parts <br> $f$ | length <br> $l^F_f$ | demand <br> $d_f$ |\n",
    "| :--: | :--: | :--: |\n",
    "| S | 2 | 20 |\n",
    "| M | 3 | 10 |\n",
    "| L | 4 | 20 |\n",
    "\n",
    "This information is represented in Python as nested dictionaries using the stock and finished part labels as keys."
   ]
  },
  {
   "cell_type": "code",
   "execution_count": 2,
   "metadata": {},
   "outputs": [],
   "source": [
    "stocks = {\n",
    "    'A': {'length': 5, 'cost': 6},\n",
    "    'B': {'length': 6, 'cost': 7},\n",
    "    'C': {'length': 9, 'cost': 10},\n",
    "}\n",
    "\n",
    "finish = {\n",
    "    'S': {'length': 2, 'demand': 20},\n",
    "    'M': {'length': 3, 'demand': 10},\n",
    "    'L': {'length': 4, 'demand': 20},\n",
    "}"
   ]
  },
  {
   "cell_type": "markdown",
   "metadata": {
    "id": "nu-V5mAWD_h0"
   },
   "source": [
    "## Patterns\n",
    "\n",
    "One approach to solving this problem would be creating a list of each finished parts, a list of stocks of each length, then a set of binary decision variables assigning each finished product to a particular piece of stock. The objective would be to minimize the cost of stock required to produced the finished parts. This approach might work well for a  small problem, but the computational complexity would scale too rapidly with the size of the problem to be practical for business applications.\n",
    "\n",
    "To address computational complexity, Gilmore and Gamory introduced an additional data structure that they called \"activities\" and that are now referred to as \"patterns\" in the current literature. A pattern is recipe for cutting a single stock item into one or more finished parts. Each pattern $p$ is specified by the stock $s_p$ used for the pattern, and by a set of integers $a_{pf}$ for $f\\in F$ that specify the number of finished parts of type $f$ cut from stock $s_p$. \n",
    "\n",
    "A pattern $p\\in P$ is feasible for stock $s_p\\in S$ if \n",
    "\n",
    "$$\n",
    "\\begin{align}\n",
    "\\sum_{f\\in F}a_{pf}l^F_f  & \\leq   l^S_{s_p}\n",
    "\\end{align}\n",
    "$$\n",
    "\n",
    "The following cell presents a simple Pyomo model to produce a list of feasible patterns for given sets of stocks and finished products. Each pattern is a dictionary that specifies an associated stock item, and a dictionary of cuts that give the number of finished parts of each type that are cut from the stock."
   ]
  },
  {
   "cell_type": "code",
   "execution_count": 3,
   "metadata": {},
   "outputs": [
    {
     "data": {
      "text/plain": [
       "[{'stock': 'A', 'cuts': {'S': 2, 'M': 0, 'L': 0}},\n",
       " {'stock': 'A', 'cuts': {'S': 0, 'M': 1, 'L': 0}},\n",
       " {'stock': 'A', 'cuts': {'S': 0, 'M': 0, 'L': 1}},\n",
       " {'stock': 'B', 'cuts': {'S': 3, 'M': 0, 'L': 0}},\n",
       " {'stock': 'B', 'cuts': {'S': 0, 'M': 2, 'L': 0}},\n",
       " {'stock': 'B', 'cuts': {'S': 0, 'M': 0, 'L': 1}},\n",
       " {'stock': 'C', 'cuts': {'S': 4, 'M': 0, 'L': 0}},\n",
       " {'stock': 'C', 'cuts': {'S': 0, 'M': 3, 'L': 0}},\n",
       " {'stock': 'C', 'cuts': {'S': 0, 'M': 0, 'L': 2}}]"
      ]
     },
     "execution_count": 3,
     "metadata": {},
     "output_type": "execute_result"
    }
   ],
   "source": [
    "# create a list of feasible patterns\n",
    "\n",
    "def make_patterns(stocks, finish):\n",
    "    patterns = []\n",
    "    for s in stocks:\n",
    "        for f in finish:\n",
    "            a = {f: 0 for f in finish}\n",
    "            a[f] = int(stocks[s]['length']/finish[f]['length'])\n",
    "            patterns.append({'stock': s, 'cuts': a})    \n",
    "    return patterns\n",
    "\n",
    "patterns = make_patterns(stocks, finish)\n",
    "patterns"
   ]
  },
  {
   "cell_type": "code",
   "execution_count": 4,
   "metadata": {},
   "outputs": [
    {
     "data": {
      "text/plain": [
       "Text(0.5, 1.0, 'Patterns')"
      ]
     },
     "execution_count": 4,
     "metadata": {},
     "output_type": "execute_result"
    },
    {
     "data": {
      "image/png": "[encoded data removed]",
      "text/plain": [
       "<Figure size 800x370 with 1 Axes>"
      ]
     },
     "metadata": {},
     "output_type": "display_data"
    }
   ],
   "source": [
    "import matplotlib.pyplot as plt\n",
    "import matplotlib.colors as mcolors\n",
    "\n",
    "def plot_patterns(stocks, finish, patterns, x=[0]*len(patterns)):\n",
    "    lw = 0.3\n",
    "    fig, ax = plt.subplots(1, 1, figsize=(8, 0.1 + 0.4*len(patterns)))\n",
    "    colors = ['b', 'g', 'r', 'c', 'm', 'y']\n",
    "    colors = {f: colors[k % len(colors)] for k, f in enumerate(finish.keys())}\n",
    "    for k, pattern in enumerate(patterns):\n",
    "        s = pattern['stock']      \n",
    "        ax.text(-0.1, k, f\"{int(x[k])} x {s} \" if x[k] > 0 else f\"0 x {s} \", ha=\"right\", va=\"center\")\n",
    "        ax.fill_between((0, stocks[s]['length']), (k - lw, k - lw), (k + lw, k + lw), color=\"k\", lw=lw, alpha=0.1)\n",
    "        xa = 0\n",
    "        for f, n  in pattern['cuts'].items():\n",
    "            length = finish[f]['length']\n",
    "            for q in range(n):\n",
    "                xb = xa + length\n",
    "                ax.fill_between((xa, xb), (k - lw, k - lw), (k + lw, k + lw), alpha=1.0, color=colors[f])\n",
    "                ax.text((xa + xb)/2, k, f, fontsize=6, color=\"w\", weight=\"bold\", ha=\"center\", va=\"center\")\n",
    "                ax.plot((xb-0.02, xb+0.02), (k, k), solid_capstyle=\"butt\", lw=lw, color=\"w\")\n",
    "                xa = xb \n",
    "    ax.spines[['top', 'right', 'left', 'bottom']].set_visible(False)\n",
    "    ax.set_yticks(())\n",
    "    return ax\n",
    "\n",
    "ax = plot_patterns(stocks, finish, patterns)\n",
    "ax.set_title(\"Patterns\")"
   ]
  },
  {
   "cell_type": "markdown",
   "metadata": {},
   "source": [
    "## Optimal cutting using known patterns\n",
    "\n",
    "Given a list of patterns, the optimization problem is to compute how many copies of each pattern to cut to meet the demand for finished parts at minimum cost. Let the index $s_p$ denote the stock specified by pattern $p$, and let $x_{s_p}$ denote the number pieces of stock $s_p$ is used.\n",
    "\n",
    "For a given list of patterns, the minimum cost optimization problem is then a mixed integer linear optimization problem subject to meeting demand constraints for each finished item.\n",
    "\n",
    "$$\n",
    "\\begin{align}\n",
    "\\min & \\sum_{p\\in P} c_{s_p} x_{s_p} \\\\\n",
    "\\text{s.t.}\\qquad\n",
    "& \\sum_{p\\in P}a_{pf} x_{s_p} \\geq d_f && \\forall f\\in F\\\\\n",
    "& x_{s_p}  \\in \\mathbb{Z}_+ && \\forall p\\in P\\\\\n",
    "\\end{align}\n",
    "$$\n",
    "\n",
    "The next cell is a Pyomo implementation of this optimization model."
   ]
  },
  {
   "cell_type": "code",
   "execution_count": 5,
   "metadata": {},
   "outputs": [
    {
     "data": {
      "image/png": "[encoded data removed]",
      "text/plain": [
       "<Figure size 800x210 with 1 Axes>"
      ]
     },
     "metadata": {},
     "output_type": "display_data"
    }
   ],
   "source": [
    "import pyomo.environ as pyo\n",
    "\n",
    "# Given dictionaries of stocks and finished parts, and a list of patterns, \n",
    "# find minimum choice of patterns to cut\n",
    "\n",
    "def cut_patterns(stocks, finish, patterns):\n",
    "    m = pyo.ConcreteModel()\n",
    "\n",
    "    m.S = pyo.Set(initialize=list(stocks.keys()))\n",
    "    m.F = pyo.Set(initialize=list(finish.keys()))\n",
    "    m.P = pyo.RangeSet(0, len(patterns)-1)\n",
    "    \n",
    "    m.x = pyo.Var(m.P, domain=pyo.NonNegativeIntegers)\n",
    "\n",
    "    @m.Objective(sense=pyo.minimize)\n",
    "    def cost(m):\n",
    "        s = {p: patterns[p]['stock'] for p in m.P}\n",
    "        c = {p:  stocks[s[p]]['cost'] for p in m.P}\n",
    "        return sum(c[p] * m.x[p] for p in m.P)\n",
    "\n",
    "    @m.Constraint(m.F)\n",
    "    def demand(m, f):\n",
    "        a = {p: patterns[p]['cuts'][f] for p in m.P}\n",
    "        return sum(a[p] * m.x[p] for p in m.P) >= finish[f]['demand']\n",
    "    \n",
    "    solver = pyo.SolverFactory('cbc')\n",
    "    solver.solve(m)\n",
    "\n",
    "    return m\n",
    "\n",
    "m = cut_patterns(stocks, finish, patterns)\n",
    "x = [m.x[p]() for p in m.P]\n",
    "k = [k for k, p in enumerate(m.P) if m.x[p]() > 0]\n",
    "\n",
    "ax = plot_patterns(stocks, finish, [patterns[k] for k in k], [x[k] for k in k])\n",
    "ax.set_title(f\"cost = {m.cost()}\");"
   ]
  },
  {
   "cell_type": "markdown",
   "metadata": {},
   "source": [
    "## Cutting Stock Problem: Bilinear reformulation\n",
    "\n",
    "The `cut_patterns` model requires a list cutting patterns, which may or may not include the patterns corresponding to an optimal solution cutting stock problem. To address this issue, we next create a model that simultaneously solves for an optimal patterns and cutting list.\n",
    "\n",
    "Let binary variable $b_{sp}\\in\\mathbb{Z}_2$ denote the assignment of stock $s$ to pattern $p$, and let $P = 0, 1, \\ldots, N_p-1$ index a list of patterns. For sufficiently large $N_p$, an optimal solution to the stock cutting problem is given by the model\n",
    "\n",
    "$$\n",
    "\\begin{align}\n",
    "\\min & \\sum_{s\\in S} \\sum_{p\\in P} c_{s} b_{sp} x_{p} \\\\\n",
    "\\text{s.t.}\\qquad\n",
    "& \\sum_{s\\in S}b_{sp} =  1 && \\forall p\\in P \\\\\n",
    "& \\sum_{f\\in F}a_{fp}l^F_f  \\leq \\sum_{s\\in S} b_{sp} l^S_s && \\forall p\\in P \\\\\n",
    "& \\sum_{p\\in P}a_{fp} x_{p} \\geq d_f && \\forall f\\in F\\\\\n",
    "& a_{fp}, x_p  \\in \\mathbb{Z}_+ && \\forall f\\in F,  \\forall p\\in P \\\\\n",
    "& b_{sp} \\in \\mathbb{Z}_2 && \\forall s\\in S,  \\forall p\\in P \\\\\n",
    "\\end{align}\n",
    "$$\n",
    "\n",
    "This is a challenging optimization problem with a cost objective that is bilinear with respect to the the decision variables $b_{sp}$ and $x_p$, and a set of constraints for the demand of finished parts that are bilinear in the decision variables $a_{fp}$ and $x_p$.s Because the constraints are a lower bound on a positive sum of bilinear terms, a simple substitution to create rotated quadratic cones fails to produce a convex conic program.\n",
    "\n",
    "The following model is a direct translation of the bilinear optimization model into Pyomo."
   ]
  },
  {
   "cell_type": "code",
   "execution_count": 6,
   "metadata": {},
   "outputs": [
    {
     "data": {
      "image/png": "[encoded data removed]",
      "text/plain": [
       "<Figure size 800x90 with 1 Axes>"
      ]
     },
     "metadata": {},
     "output_type": "display_data"
    }
   ],
   "source": [
    "import pyomo.environ as pyo\n",
    "\n",
    "def bilinear_cut_stock(stocks, finish, Np):\n",
    "    m = pyo.ConcreteModel()\n",
    "\n",
    "    m.S = pyo.Set(initialize=list(stocks.keys()))\n",
    "    m.F = pyo.Set(initialize=list(finish.keys()))\n",
    "    m.P = pyo.RangeSet(0, Np-1)\n",
    "\n",
    "    m.a = pyo.Var(m.F, m.P, domain=pyo.NonNegativeIntegers)\n",
    "    m.b = pyo.Var(m.S, m.P, domain=pyo.Binary)\n",
    "    m.x = pyo.Var(m.P, domain=pyo.NonNegativeIntegers)\n",
    "\n",
    "    # minimize cost\n",
    "    @m.Objective(sense=pyo.minimize)\n",
    "    def cost(m):\n",
    "        c = {s:  stocks[s]['cost'] for s in m.S}\n",
    "        return sum(c[s]* m.b[s, p] * m.x[p] for s in m.S for p in m.P)\n",
    "\n",
    "    # assign one stock to each pattern\n",
    "    @m.Constraint(m.P)\n",
    "    def assign_each_stock_to_pattern(m, p):\n",
    "        return sum(m.b[s, p] for s in m.S) == 1\n",
    "\n",
    "    # pattern feasibility\n",
    "    @m.Constraint(m.P)\n",
    "    def feasible_pattern(m, p):\n",
    "        return sum(m.a[f, p] * finish[f]['length'] for f in m.F) <= sum(m.b[s, p] * stocks[s]['length'] for s in m.S)\n",
    "\n",
    "    # demand constraints\n",
    "    @m.Constraint(m.F)\n",
    "    def demand(m, f):\n",
    "        return sum(m.a[f, p] * m.x[p] for p in m.P) >= finish[f]['demand']\n",
    "\n",
    "    pyo.SolverFactory('couenne').solve(m)\n",
    "    \n",
    "    return m\n",
    "\n",
    "\n",
    "m = bilinear_cut_stock(stocks, finish, 2)\n",
    "\n",
    "soln_patterns = []\n",
    "for p in m.P:\n",
    "    a = {f: round(m.a[f, p]()) for f in m.F}\n",
    "    soln_patterns.append({'stock': [s for s in m.S if m.b[s, p]() > 0][0], 'cuts': a})\n",
    "    \n",
    "x = [round(m.x[p]()) for p in m.P]\n",
    "ax = plot_patterns(stocks, finish, soln_patterns, x)\n",
    "ax.set_title(f\"cost = {m.cost():0.2f}\");"
   ]
  },
  {
   "cell_type": "markdown",
   "metadata": {},
   "source": [
    "## Pattern generation\n",
    "\n",
    "From limited testing, the bilinear model for the cutting stock problem appears to work well for small data sets, but does not scale well for larger problem instances, at least with the solvers included in the testing. This shouldn't be surprising given the non-convex nature of the problem, the exclusive use of integer and binary decision variables, and a high degree of symmetry in the model equations.\n",
    "\n",
    "$$\n",
    "\\begin{align}\n",
    "\\min & \\sum_{p\\in P} c_{s_p} x_{s_p} + x' \\sum_{s\\in S} b_s c_s\\\\\n",
    "\\text{s.t.}\\qquad\n",
    "& \\sum_{s\\in S}b'_{s} =  1  \\\\\n",
    "& \\sum_{f\\in F}a'_{f}l^F_f  \\leq \\sum_{s\\in S} b'_{s} l^S_s  \\\\\n",
    "& \\sum_{p\\in P}a_{fp} x_{s_p}  + a'_f x'\\geq d_f && \\forall f\\in F\\\\\n",
    "& a'_{f}, x_p  \\in \\mathbb{Z}_+ && \\forall f\\in F,  \\forall p\\in P \\\\\n",
    "& b'_{s} \\in \\mathbb{Z}_2 && \\forall s\\in S \\\\\n",
    "\\end{align}\n",
    "$$\n"
   ]
  },
  {
   "cell_type": "code",
   "execution_count": 7,
   "metadata": {},
   "outputs": [],
   "source": [
    "def pattern_generation(stocks, finish, patterns):\n",
    "    m = pyo.ConcreteModel()\n",
    "\n",
    "    m.S = pyo.Set(initialize=list(stocks.keys()))\n",
    "    m.F = pyo.Set(initialize=list(finish.keys()))\n",
    "    m.P = pyo.RangeSet(0, len(patterns)-1)\n",
    "    \n",
    "    m.x = pyo.Var(m.P, domain=pyo.NonNegativeReals)\n",
    "    m.xp = pyo.Var(domain=pyo.NonNegativeReals)\n",
    "    \n",
    "    m.ap = pyo.Var(m.F, domain=pyo.NonNegativeIntegers)\n",
    "    m.bp = pyo.Var(m.S, domain=pyo.Binary)\n",
    "\n",
    "    @m.Objective(sense=pyo.minimize)\n",
    "    def cost(m):\n",
    "        s = {p: patterns[p]['stock'] for p in m.P}\n",
    "        c = {p:  stocks[s[p]]['cost'] for p in m.P}\n",
    "        return sum(c[p] * m.x[p] for p in m.P) + m.xp * sum(m.bp[s] * stocks[s]['cost'] for s in m.S)\n",
    "    \n",
    "    @m.Constraint()\n",
    "    def sum_to_one(m):\n",
    "        return sum(m.bp[s] for s in m.S) == 1\n",
    "    \n",
    "    @m.Constraint()\n",
    "    def add_pattern(m):\n",
    "        return sum(m.ap[f] * finish[f]['length'] for f in m.F) <= sum(m.bp[s] * stocks[s]['length'] for s in m.S)\n",
    "\n",
    "    @m.Constraint(m.F)\n",
    "    def demand(m, f):\n",
    "        return sum(patterns[p]['cuts'][f] * m.x[p] for p in m.P) + m.ap[f] * m.xp >= finish[f]['demand']\n",
    "    \n",
    "    solver = pyo.SolverFactory('couenne')\n",
    "    solver.solve(m)\n",
    "    \n",
    "    return m"
   ]
  },
  {
   "cell_type": "code",
   "execution_count": 8,
   "metadata": {},
   "outputs": [
    {
     "name": "stdout",
     "output_type": "stream",
     "text": [
      "173.3333319727273\n",
      "{'stock': 'C', 'cuts': {'S': 1, 'M': 1, 'L': 1}}\n"
     ]
    }
   ],
   "source": [
    "stocks = {\n",
    "    'A': {'length': 5, 'cost': 6},\n",
    "    'B': {'length': 6, 'cost': 7},\n",
    "    'C': {'length': 9, 'cost': 10},\n",
    "}\n",
    "\n",
    "finish = {\n",
    "    'S': {'length': 2, 'demand': 20},\n",
    "    'M': {'length': 3, 'demand': 10},\n",
    "    'L': {'length': 4, 'demand': 20},\n",
    "}\n",
    "\n",
    "patterns = make_patterns(stocks, finish)\n",
    "m = pattern_generation(stocks, finish, patterns)\n",
    "\n",
    "new_pattern = {'stock': [s for s in m.S if m.bp[s]() > 0.5][0], 'cuts': {f: round(m.ap[f]()) for f in m.F}}\n",
    "\n",
    "print(m.cost())\n",
    "print(new_pattern)"
   ]
  },
  {
   "cell_type": "markdown",
   "metadata": {},
   "source": [
    "## A Solution Algorithm"
   ]
  },
  {
   "cell_type": "code",
   "execution_count": 9,
   "metadata": {},
   "outputs": [
    {
     "name": "stdout",
     "output_type": "stream",
     "text": [
      "Iteration  0\n",
      "Iteration  1\n",
      "Iteration  2\n",
      "Iteration  3\n",
      "\n",
      "Finished\n"
     ]
    },
    {
     "data": {
      "image/png": "[encoded data removed]",
      "text/plain": [
       "<Figure size 800x90 with 1 Axes>"
      ]
     },
     "metadata": {},
     "output_type": "display_data"
    }
   ],
   "source": [
    "# an (inefficient) algorithm\n",
    "\n",
    "def cutting_stock(stocks, finish):\n",
    "    \n",
    "    # create an initial list of patterns\n",
    "    patterns = make_patterns(stocks, finish)\n",
    "    \n",
    "    done = False\n",
    "    for k in range(20):\n",
    "        print(f\"Iteration {k:2}\")\n",
    "        m = pattern_generation(stocks, finish, patterns)\n",
    "        new_pattern = {'stock': [s for s in m.S if m.bp[s]() > 0.5][0], 'cuts': {f: round(m.ap[f]()) for f in m.F}}\n",
    "        \n",
    "        # terminate if pattern no new patterns are being generated\n",
    "        if new_pattern in patterns:\n",
    "            done = True\n",
    "            break\n",
    "        else:\n",
    "            patterns.append(new_pattern)\n",
    "            \n",
    "    if done:\n",
    "        print(\"\\nFinished\")\n",
    "        \n",
    "        m = cut_patterns(stocks, finish, patterns)\n",
    "        x = [round(m.x[p]()) for p in m.P]      \n",
    "        idx = [p for p in m.P if m.x[p]() > 0.1]\n",
    "        x = [round(m.x[p]()) for p in idx]\n",
    "        patterns = [patterns[p] for p in idx]\n",
    "        ax = plot_patterns(stocks, finish, patterns, x)\n",
    "        ax.set_title(f\"cost = {m.cost():0.2f}\");\n",
    "    else:\n",
    "        print(\"\\nDidn't Converge\")\n",
    "        \n",
    "cutting_stock(stocks, finish)"
   ]
  },
  {
   "cell_type": "code",
   "execution_count": 10,
   "metadata": {},
   "outputs": [
    {
     "name": "stdout",
     "output_type": "stream",
     "text": [
      "Iteration  0\n",
      "Iteration  1\n",
      "Iteration  2\n",
      "Iteration  3\n",
      "Iteration  4\n",
      "Iteration  5\n",
      "Iteration  6\n",
      "Iteration  7\n",
      "Iteration  8\n",
      "Iteration  9\n",
      "Iteration 10\n",
      "\n",
      "Finished\n"
     ]
    },
    {
     "data": {
      "image/png": "[encoded data removed]",
      "text/plain": [
       "<Figure size 800x650 with 1 Axes>"
      ]
     },
     "metadata": {},
     "output_type": "display_data"
    }
   ],
   "source": [
    "# https://jump.dev/JuMP.jl/stable/tutorials/algorithms/cutting_stock_column_generation/#:~:text=The%20cutting%20stock%20problem%20is,while%20maximizing%20the%20total%20profit.\n",
    "\n",
    "stocks = {\n",
    "    'log': {'length': 100, 'cost': 1},\n",
    "}\n",
    "\n",
    "finish = {\n",
    "    1:  {'length': 75.0, 'demand': 38},\n",
    "    2:  {'length': 75.0, 'demand': 44},\n",
    "    3:  {'length': 75.0, 'demand': 30},\n",
    "    4:  {'length': 75.0, 'demand': 41},\n",
    "    5:  {'length': 75.0, 'demand': 36},\n",
    "    6:  {'length': 53.8, 'demand': 33},\n",
    "    7:  {'length': 53.0, 'demand': 36},\n",
    "    8:  {'length': 51.0, 'demand': 41},\n",
    "    9:  {'length': 50.2, 'demand': 35},\n",
    "    10: {'length': 32.2, 'demand': 37},\n",
    "    11: {'length': 30.8, 'demand': 44},\n",
    "    12: {'length': 29.8, 'demand': 49},\n",
    "    13: {'length': 20.1, 'demand': 37},\n",
    "    14: {'length': 16.2, 'demand': 36},\n",
    "    15: {'length': 14.5, 'demand': 42},\n",
    "    16: {'length': 11.0, 'demand': 33},\n",
    "    17: {'length':  8.6, 'demand': 47},\n",
    "    18: {'length':  8.2, 'demand': 35},\n",
    "    19: {'length':  6.6, 'demand': 49},\n",
    "    20: {'length':  5.1, 'demand': 42},\n",
    "}\n",
    "\n",
    "cutting_stock(stocks, finish)"
   ]
  },
  {
   "cell_type": "markdown",
   "metadata": {
    "id": "DOmXamBBuM17"
   },
   "source": [
    "## Read problem data from Google sheets"
   ]
  },
  {
   "cell_type": "markdown",
   "metadata": {
    "id": "RbMtlRjbY7YO"
   },
   "source": [
    "https://docs.google.com/spreadsheets/d/1ZX7KJ2kwTGgyqEv_a3LOG0nQSxsc38Ykk53A7vGWAFU/edit#gid=1104632299"
   ]
  },
  {
   "cell_type": "code",
   "execution_count": 11,
   "metadata": {
    "id": "BZtYAaoxDwsS"
   },
   "outputs": [],
   "source": [
    "import pandas as pd\n",
    "\n",
    "def read_google_sheet(sheet_id, sheet_name):\n",
    "    \"\"\"\n",
    "    Reads a Google Sheet and returns a pandas DataFrame.\n",
    "\n",
    "    This function reads a Google Sheet with the specified sheet ID and sheet name,\n",
    "    and returns a pandas DataFrame with the data. The column names are converted to\n",
    "    lowercase.\n",
    "\n",
    "    Args:\n",
    "        sheet_id (str): The Google Sheet ID.\n",
    "        sheet_name (str): The name of the sheet to read.\n",
    "\n",
    "    Returns:\n",
    "        df (pd.DataFrame): A pandas DataFrame containing the data from the Google Sheet.\n",
    "    \"\"\"\n",
    "    url = f\"https://docs.google.com/spreadsheets/d/{sheet_id}/gviz/tq?tqx=out:csv&sheet={sheet_name}\"\n",
    "    df = pd.read_csv(url)\n",
    "    df.columns = map(str.lower, df.columns)\n",
    "    return df"
   ]
  },
  {
   "cell_type": "code",
   "execution_count": 12,
   "metadata": {
    "colab": {
     "base_uri": "https://localhost:8080/",
     "height": 783
    },
    "executionInfo": {
     "elapsed": 265,
     "status": "ok",
     "timestamp": 1683039209383,
     "user": {
      "displayName": "Jeffrey Kantor",
      "userId": "09038942003589296665"
     },
     "user_tz": 240
    },
    "id": "s13K6p_eu5IQ",
    "outputId": "840858ba-6d3c-41f7-df59-e381947c2f72"
   },
   "outputs": [
    {
     "name": "stdout",
     "output_type": "stream",
     "text": [
      "\n",
      "Settings\n"
     ]
    },
    {
     "data": {
      "text/html": [
       "<div>\n",
       "<style scoped>\n",
       "    .dataframe tbody tr th:only-of-type {\n",
       "        vertical-align: middle;\n",
       "    }\n",
       "\n",
       "    .dataframe tbody tr th {\n",
       "        vertical-align: top;\n",
       "    }\n",
       "\n",
       "    .dataframe thead th {\n",
       "        text-align: right;\n",
       "    }\n",
       "</style>\n",
       "<table border=\"1\" class=\"dataframe\">\n",
       "  <thead>\n",
       "    <tr style=\"text-align: right;\">\n",
       "      <th></th>\n",
       "      <th>setting</th>\n",
       "      <th>value</th>\n",
       "    </tr>\n",
       "  </thead>\n",
       "  <tbody>\n",
       "    <tr>\n",
       "      <th>0</th>\n",
       "      <td>kerf</td>\n",
       "      <td>0.125</td>\n",
       "    </tr>\n",
       "  </tbody>\n",
       "</table>\n",
       "</div>"
      ],
      "text/plain": [
       "  setting  value\n",
       "0    kerf  0.125"
      ]
     },
     "metadata": {},
     "output_type": "display_data"
    },
    {
     "name": "stdout",
     "output_type": "stream",
     "text": [
      "\n",
      "Finish\n"
     ]
    },
    {
     "data": {
      "text/html": [
       "<div>\n",
       "<style scoped>\n",
       "    .dataframe tbody tr th:only-of-type {\n",
       "        vertical-align: middle;\n",
       "    }\n",
       "\n",
       "    .dataframe tbody tr th {\n",
       "        vertical-align: top;\n",
       "    }\n",
       "\n",
       "    .dataframe thead th {\n",
       "        text-align: right;\n",
       "    }\n",
       "</style>\n",
       "<table border=\"1\" class=\"dataframe\">\n",
       "  <thead>\n",
       "    <tr style=\"text-align: right;\">\n",
       "      <th></th>\n",
       "      <th>kind</th>\n",
       "      <th>length</th>\n",
       "      <th>quantity</th>\n",
       "      <th>label</th>\n",
       "    </tr>\n",
       "  </thead>\n",
       "  <tbody>\n",
       "    <tr>\n",
       "      <th>0</th>\n",
       "      <td>2x4</td>\n",
       "      <td>29</td>\n",
       "      <td>8</td>\n",
       "      <td>legs</td>\n",
       "    </tr>\n",
       "    <tr>\n",
       "      <th>1</th>\n",
       "      <td>2x4</td>\n",
       "      <td>48</td>\n",
       "      <td>4</td>\n",
       "      <td>long aprons</td>\n",
       "    </tr>\n",
       "    <tr>\n",
       "      <th>2</th>\n",
       "      <td>2x4</td>\n",
       "      <td>18</td>\n",
       "      <td>4</td>\n",
       "      <td>short aprons</td>\n",
       "    </tr>\n",
       "    <tr>\n",
       "      <th>3</th>\n",
       "      <td>2x6</td>\n",
       "      <td>54</td>\n",
       "      <td>8</td>\n",
       "      <td>table top</td>\n",
       "    </tr>\n",
       "  </tbody>\n",
       "</table>\n",
       "</div>"
      ],
      "text/plain": [
       "  kind  length  quantity         label\n",
       "0  2x4      29         8          legs\n",
       "1  2x4      48         4   long aprons\n",
       "2  2x4      18         4  short aprons\n",
       "3  2x6      54         8     table top"
      ]
     },
     "metadata": {},
     "output_type": "display_data"
    },
    {
     "name": "stdout",
     "output_type": "stream",
     "text": [
      "\n",
      "Stocks\n"
     ]
    },
    {
     "data": {
      "text/html": [
       "<div>\n",
       "<style scoped>\n",
       "    .dataframe tbody tr th:only-of-type {\n",
       "        vertical-align: middle;\n",
       "    }\n",
       "\n",
       "    .dataframe tbody tr th {\n",
       "        vertical-align: top;\n",
       "    }\n",
       "\n",
       "    .dataframe thead th {\n",
       "        text-align: right;\n",
       "    }\n",
       "</style>\n",
       "<table border=\"1\" class=\"dataframe\">\n",
       "  <thead>\n",
       "    <tr style=\"text-align: right;\">\n",
       "      <th></th>\n",
       "      <th>kind</th>\n",
       "      <th>length</th>\n",
       "      <th>price</th>\n",
       "    </tr>\n",
       "  </thead>\n",
       "  <tbody>\n",
       "    <tr>\n",
       "      <th>0</th>\n",
       "      <td>2x4</td>\n",
       "      <td>36</td>\n",
       "      <td>1.68</td>\n",
       "    </tr>\n",
       "    <tr>\n",
       "      <th>1</th>\n",
       "      <td>2x4</td>\n",
       "      <td>48</td>\n",
       "      <td>1.86</td>\n",
       "    </tr>\n",
       "    <tr>\n",
       "      <th>2</th>\n",
       "      <td>2x4</td>\n",
       "      <td>72</td>\n",
       "      <td>2.57</td>\n",
       "    </tr>\n",
       "    <tr>\n",
       "      <th>3</th>\n",
       "      <td>2x4</td>\n",
       "      <td>84</td>\n",
       "      <td>2.65</td>\n",
       "    </tr>\n",
       "    <tr>\n",
       "      <th>4</th>\n",
       "      <td>2x4</td>\n",
       "      <td>96</td>\n",
       "      <td>2.92</td>\n",
       "    </tr>\n",
       "    <tr>\n",
       "      <th>5</th>\n",
       "      <td>2x4</td>\n",
       "      <td>120</td>\n",
       "      <td>3.67</td>\n",
       "    </tr>\n",
       "    <tr>\n",
       "      <th>6</th>\n",
       "      <td>2x4</td>\n",
       "      <td>144</td>\n",
       "      <td>4.40</td>\n",
       "    </tr>\n",
       "    <tr>\n",
       "      <th>7</th>\n",
       "      <td>2x4</td>\n",
       "      <td>168</td>\n",
       "      <td>5.14</td>\n",
       "    </tr>\n",
       "    <tr>\n",
       "      <th>8</th>\n",
       "      <td>2x4</td>\n",
       "      <td>192</td>\n",
       "      <td>6.92</td>\n",
       "    </tr>\n",
       "    <tr>\n",
       "      <th>9</th>\n",
       "      <td>2x4</td>\n",
       "      <td>216</td>\n",
       "      <td>8.62</td>\n",
       "    </tr>\n",
       "    <tr>\n",
       "      <th>10</th>\n",
       "      <td>2x4</td>\n",
       "      <td>240</td>\n",
       "      <td>10.40</td>\n",
       "    </tr>\n",
       "    <tr>\n",
       "      <th>11</th>\n",
       "      <td>2x6</td>\n",
       "      <td>96</td>\n",
       "      <td>4.43</td>\n",
       "    </tr>\n",
       "    <tr>\n",
       "      <th>12</th>\n",
       "      <td>2x6</td>\n",
       "      <td>192</td>\n",
       "      <td>9.36</td>\n",
       "    </tr>\n",
       "  </tbody>\n",
       "</table>\n",
       "</div>"
      ],
      "text/plain": [
       "   kind  length  price\n",
       "0   2x4      36   1.68\n",
       "1   2x4      48   1.86\n",
       "2   2x4      72   2.57\n",
       "3   2x4      84   2.65\n",
       "4   2x4      96   2.92\n",
       "5   2x4     120   3.67\n",
       "6   2x4     144   4.40\n",
       "7   2x4     168   5.14\n",
       "8   2x4     192   6.92\n",
       "9   2x4     216   8.62\n",
       "10  2x4     240  10.40\n",
       "11  2x6      96   4.43\n",
       "12  2x6     192   9.36"
      ]
     },
     "metadata": {},
     "output_type": "display_data"
    }
   ],
   "source": [
    "# Google Sheet ID\n",
    "sheet_id = \"1ZX7KJ2kwTGgyqEv_a3LOG0nQSxsc38Ykk53A7vGWAFU\"\n",
    "\n",
    "# read settings\n",
    "settings_df = read_google_sheet(sheet_id, \"settings\")\n",
    "print(\"\\nSettings\")\n",
    "display(settings_df)\n",
    "\n",
    "# read parts\n",
    "finish_df = read_google_sheet(sheet_id, \"finish\")\n",
    "print(\"\\nFinish\")\n",
    "display(finish_df)\n",
    "\n",
    "# read and display stocks\n",
    "stocks_df = read_google_sheet(sheet_id, \"stocks\")\n",
    "#stocks = stocks.drop([\"price\"], axis=1)\n",
    "if not \"price\" in stocks_df.columns:\n",
    "    stocks[\"price\"] = stocks_df[\"length\"]\n",
    "print(\"\\nStocks\")\n",
    "display(stocks_df)"
   ]
  },
  {
   "cell_type": "code",
   "execution_count": 13,
   "metadata": {
    "id": "c2tfCmEo3QDC"
   },
   "outputs": [
    {
     "name": "stdout",
     "output_type": "stream",
     "text": [
      "Kind = 2x6\n",
      "Iteration  0\n",
      "\n",
      "Finished\n",
      "Kind = 2x4\n",
      "Iteration  0\n",
      "Iteration  1\n",
      "\n",
      "Finished\n"
     ]
    },
    {
     "data": {
      "image/png": "[encoded data removed]",
      "text/plain": [
       "<Figure size 800x90 with 1 Axes>"
      ]
     },
     "metadata": {},
     "output_type": "display_data"
    },
    {
     "data": {
      "image/png": "[encoded data removed]",
      "text/plain": [
       "<Figure size 800x90 with 1 Axes>"
      ]
     },
     "metadata": {},
     "output_type": "display_data"
    }
   ],
   "source": [
    "kinds = tuple(set(finish_df['kind']))\n",
    "\n",
    "for kind in kinds:\n",
    "    print(f\"Kind = {kind}\")\n",
    "    \n",
    "    finish = dict()\n",
    "    for i in finish_df.loc[finish_df['kind'] == kind].index:\n",
    "        finish[finish_df.loc[i, 'label']] = {'length': finish_df.loc[i, 'length'],\n",
    "                                             'demand': finish_df.loc[i, 'quantity']}\n",
    "        \n",
    "    stocks = dict()\n",
    "    for i in stocks_df.loc[stocks_df['kind'] == kind].index:\n",
    "        stocks[stocks_df.loc[i, 'length']] = {'length': stocks_df.loc[i, 'length'],\n",
    "                                             'cost': stocks_df.loc[i, 'price']}\n",
    "    \n",
    "    cutting_stock(stocks, finish)\n"
   ]
  },
  {
   "cell_type": "markdown",
   "metadata": {
    "id": "LLM-1Fqm3BKd"
   },
   "source": [
    "## References\n",
    "\n",
    "The one dimensional cutting stock problem addressed in this notebook is generally attributed to two classic papers by Gilmore and Gomory. This first paper considers the more general case of stocks available in multiple lengths, while the second paper specializes to the needs of a paper trimming operation.\n",
    "\n",
    "> Gilmore, P. C., & Gomory, R. E. (1961). A linear programming approach to the cutting-stock problem. Operations research, 9(6), 849-859. [[jstor](https://www.jstor.org/stable/pdf/167051.pdf)]\n",
    "\n",
    "> Gilmore, P. C., & Gomory, R. E. (1963). A linear programming approach to the cutting stock problem—Part II. Operations research, 11(6), 863-888. [[jstor](https://www.jstor.org/stable/pdf/167827.pdf)]\n",
    "\n",
    "The solution proposed by Gilmore and Gamory has been refined over time and now generally referred to as \"column generation\". A number of tutorial implemenations are available, these are representative:\n",
    "\n",
    "> * [Mathworks/Matlab: Cutting Stock Problem](https://www.mathworks.com/help/optim/ug/cutting-stock-problem-based.html)\n",
    "* [AIMMS: Cutting Stock Problem](https://download.aimms.com/aimms/download/manuals/AIMMS3OM_CuttingStock.pdf)\n",
    "* [SCIP:Bin packing and cutting stock problems](https://scipbook.readthedocs.io/en/latest/bpp.html)\n",
    "* [PuLP: Implementation](https://github.com/coin-or/pulp/blob/master/examples/CGcolumnwise.py)\n",
    "\n",
    "More recently, the essential bilinear structure of the problem has been noted, and various convex transformations of the problem have been studied:\n",
    "\n",
    "> Harjunkoski, I., Westerlund, T., Pörn, R., & Skrifvars, H. (1998). Different transformations for solving non-convex trim-loss problems by MINLP. European Journal of Operational Research, 105(3), 594-603. [[abo.fi](http://users.abo.fi/twesterl/some-selected-papers/49.%20EJOR-IH-TW-RP-HS-1998.pdf)][[sciencedirect](https://www.sciencedirect.com/science/article/pii/S0377221797000660)]\n",
    "\n",
    "> Harjunkoski, I., Pörn, R., & Westerlund, T. (1999). Exploring the convex transformations for solving non-convex bilinear integer problems. Computers & Chemical Engineering, 23, S471-S474. [[sciencedirect](https://www.sciencedirect.com/science/article/pii/S0098135499801161)"
   ]
  },
  {
   "cell_type": "code",
   "execution_count": null,
   "metadata": {},
   "outputs": [],
   "source": []
  }
 ],
 "metadata": {
  "colab": {
   "authorship_tag": "ABX9TyMAEgtZ2QtPtbxWXdXZAIk/",
   "provenance": []
  },
  "kernelspec": {
   "display_name": "Python 3 (ipykernel)",
   "language": "python",
   "name": "python3"
  },
  "language_info": {
   "codemirror_mode": {
    "name": "ipython",
    "version": 3
   },
   "file_extension": ".py",
   "mimetype": "text/x-python",
   "name": "python",
   "nbconvert_exporter": "python",
   "pygments_lexer": "ipython3",
   "version": "3.9.16"
  }
 },
 "nbformat": 4,
 "nbformat_minor": 4
}