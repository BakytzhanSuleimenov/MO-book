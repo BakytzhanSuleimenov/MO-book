{
 "cells": [
  {
   "cell_type": "markdown",
   "metadata": {
    "id": "BgpJa9pthV3-"
   },
   "source": [
    "# Extra material: Refinery production and shadow pricing\n",
    "\n",
    "This is a simple linear programming problem in six variables, but with four equality constraints it allows for a graphical explanation of some unusually large shadow prices for manufacturing capacity. The notebook presents also contrasts Pyomo with CVXPY modeling."
   ]
  },
  {
   "cell_type": "code",
   "execution_count": 1,
   "metadata": {},
   "outputs": [
    {
     "name": "stdout",
     "output_type": "stream",
     "text": [
      "pyomo was previously installed\n",
      "cbc was previously installed\n"
     ]
    },
    {
     "data": {
      "text/plain": [
       "True"
      ]
     },
     "execution_count": 1,
     "metadata": {},
     "output_type": "execute_result"
    }
   ],
   "source": [
    "# install Pyomo and solvers\n",
    "import requests\n",
    "import types\n",
    "\n",
    "url = \"https://raw.githubusercontent.com/mobook/MO-book/main/python/helper.py\"\n",
    "helper = types.ModuleType(\"helper\")\n",
    "exec(requests.get(url).content, helper.__dict__)\n",
    "\n",
    "helper.install_pyomo()\n",
    "helper.install_cbc()"
   ]
  },
  {
   "cell_type": "markdown",
   "metadata": {
    "id": "BgpJa9pthV3-"
   },
   "source": [
    "This example derived from Example 19.3 from Seborg, Edgar, Mellichamp, and Doyle. The changes include updating prices, new solutions using optimization modeling languages, adding constraints, and adjusting parameter values to demonstrate the significance of duals and their interpretation as shadow prices."
   ]
  },
  {
   "cell_type": "markdown",
   "metadata": {},
   "source": [
    "## Problem data"
   ]
  },
  {
   "cell_type": "code",
   "execution_count": 2,
   "metadata": {
    "colab": {
     "base_uri": "https://localhost:8080/",
     "height": 365
    },
    "executionInfo": {
     "elapsed": 303,
     "status": "ok",
     "timestamp": 1649679696767,
     "user": {
      "displayName": "Jeffrey Kantor",
      "userId": "09038942003589296665"
     },
     "user_tz": 240
    },
    "id": "pogEPVlQgbuT",
    "outputId": "8f70dadc-1ae4-4b98-ece2-3c48f5f12878"
   },
   "outputs": [
    {
     "data": {
      "text/html": [
       "<div>\n",
       "<style scoped>\n",
       "    .dataframe tbody tr th:only-of-type {\n",
       "        vertical-align: middle;\n",
       "    }\n",
       "\n",
       "    .dataframe tbody tr th {\n",
       "        vertical-align: top;\n",
       "    }\n",
       "\n",
       "    .dataframe thead th {\n",
       "        text-align: right;\n",
       "    }\n",
       "</style>\n",
       "<table border=\"1\" class=\"dataframe\">\n",
       "  <thead>\n",
       "    <tr style=\"text-align: right;\">\n",
       "      <th></th>\n",
       "      <th>capacity</th>\n",
       "      <th>price</th>\n",
       "    </tr>\n",
       "  </thead>\n",
       "  <tbody>\n",
       "    <tr>\n",
       "      <th>gasoline</th>\n",
       "      <td>24000</td>\n",
       "      <td>108</td>\n",
       "    </tr>\n",
       "    <tr>\n",
       "      <th>kerosine</th>\n",
       "      <td>2000</td>\n",
       "      <td>72</td>\n",
       "    </tr>\n",
       "    <tr>\n",
       "      <th>fuel oil</th>\n",
       "      <td>6000</td>\n",
       "      <td>63</td>\n",
       "    </tr>\n",
       "    <tr>\n",
       "      <th>residual</th>\n",
       "      <td>2500</td>\n",
       "      <td>30</td>\n",
       "    </tr>\n",
       "  </tbody>\n",
       "</table>\n",
       "</div>"
      ],
      "text/plain": [
       "          capacity  price\n",
       "gasoline     24000    108\n",
       "kerosine      2000     72\n",
       "fuel oil      6000     63\n",
       "residual      2500     30"
      ]
     },
     "metadata": {},
     "output_type": "display_data"
    },
    {
     "data": {
      "text/html": [
       "<div>\n",
       "<style scoped>\n",
       "    .dataframe tbody tr th:only-of-type {\n",
       "        vertical-align: middle;\n",
       "    }\n",
       "\n",
       "    .dataframe tbody tr th {\n",
       "        vertical-align: top;\n",
       "    }\n",
       "\n",
       "    .dataframe thead th {\n",
       "        text-align: right;\n",
       "    }\n",
       "</style>\n",
       "<table border=\"1\" class=\"dataframe\">\n",
       "  <thead>\n",
       "    <tr style=\"text-align: right;\">\n",
       "      <th></th>\n",
       "      <th>available</th>\n",
       "      <th>price</th>\n",
       "      <th>process cost</th>\n",
       "    </tr>\n",
       "  </thead>\n",
       "  <tbody>\n",
       "    <tr>\n",
       "      <th>crude 1</th>\n",
       "      <td>28000.0</td>\n",
       "      <td>72.0</td>\n",
       "      <td>1.5</td>\n",
       "    </tr>\n",
       "    <tr>\n",
       "      <th>crude 2</th>\n",
       "      <td>15000.0</td>\n",
       "      <td>45.0</td>\n",
       "      <td>3.0</td>\n",
       "    </tr>\n",
       "  </tbody>\n",
       "</table>\n",
       "</div>"
      ],
      "text/plain": [
       "         available  price  process cost\n",
       "crude 1    28000.0   72.0           1.5\n",
       "crude 2    15000.0   45.0           3.0"
      ]
     },
     "metadata": {},
     "output_type": "display_data"
    },
    {
     "data": {
      "text/html": [
       "<div>\n",
       "<style scoped>\n",
       "    .dataframe tbody tr th:only-of-type {\n",
       "        vertical-align: middle;\n",
       "    }\n",
       "\n",
       "    .dataframe tbody tr th {\n",
       "        vertical-align: top;\n",
       "    }\n",
       "\n",
       "    .dataframe thead th {\n",
       "        text-align: right;\n",
       "    }\n",
       "</style>\n",
       "<table border=\"1\" class=\"dataframe\">\n",
       "  <thead>\n",
       "    <tr style=\"text-align: right;\">\n",
       "      <th></th>\n",
       "      <th>gasoline</th>\n",
       "      <th>kerosine</th>\n",
       "      <th>fuel oil</th>\n",
       "      <th>residual</th>\n",
       "    </tr>\n",
       "  </thead>\n",
       "  <tbody>\n",
       "    <tr>\n",
       "      <th>crude 1</th>\n",
       "      <td>80</td>\n",
       "      <td>5</td>\n",
       "      <td>10</td>\n",
       "      <td>5</td>\n",
       "    </tr>\n",
       "    <tr>\n",
       "      <th>crude 2</th>\n",
       "      <td>44</td>\n",
       "      <td>10</td>\n",
       "      <td>36</td>\n",
       "      <td>10</td>\n",
       "    </tr>\n",
       "  </tbody>\n",
       "</table>\n",
       "</div>"
      ],
      "text/plain": [
       "         gasoline  kerosine  fuel oil  residual\n",
       "crude 1        80         5        10         5\n",
       "crude 2        44        10        36        10"
      ]
     },
     "metadata": {},
     "output_type": "display_data"
    }
   ],
   "source": [
    "import pandas as pd\n",
    "\n",
    "products = pd.DataFrame({\n",
    "    \"gasoline\": {\"capacity\": 24000, \"price\": 108},\n",
    "    \"kerosine\": {\"capacity\":  2000, \"price\": 72},\n",
    "    \"fuel oil\": {\"capacity\":  6000, \"price\": 63},\n",
    "    \"residual\": {\"capacity\":  2500, \"price\": 30},\n",
    "}).T\n",
    "\n",
    "crudes = pd.DataFrame({\n",
    "    \"crude 1\": {\"available\": 28000, \"price\": 72, \"process cost\": 1.5},\n",
    "    \"crude 2\": {\"available\": 15000, \"price\": 45, \"process cost\": 3},\n",
    "}).T\n",
    "\n",
    "# note: volumetric yields may not add to 100%\n",
    "yields = pd.DataFrame({\n",
    "    \"crude 1\": {\"gasoline\": 80, \"kerosine\": 5, \"fuel oil\": 10, \"residual\": 5},\n",
    "    \"crude 2\": {\"gasoline\": 44, \"kerosine\": 10, \"fuel oil\": 36, \"residual\": 10},\n",
    "}).T\n",
    "\n",
    "display(products)\n",
    "display(crudes)\n",
    "display(yields)"
   ]
  },
  {
   "cell_type": "markdown",
   "metadata": {
    "id": "Mx0f8UVO6wu3"
   },
   "source": [
    "## Pyomo Model"
   ]
  },
  {
   "cell_type": "code",
   "execution_count": 3,
   "metadata": {
    "id": "3NBWq4z86vkW"
   },
   "outputs": [
    {
     "name": "stdout",
     "output_type": "stream",
     "text": [
      "860275.8620689679\n"
     ]
    }
   ],
   "source": [
    "import pyomo.environ as pyo\n",
    "\n",
    "m = pyo.ConcreteModel()\n",
    "\n",
    "m.CRUDES = pyo.Set(initialize=crudes.index)\n",
    "m.PRODUCTS = pyo.Set(initialize=products.index)\n",
    "\n",
    "# decision variables\n",
    "m.x = pyo.Var(m.CRUDES, domain=pyo.NonNegativeReals)\n",
    "m.y = pyo.Var(m.PRODUCTS, domain=pyo.NonNegativeReals)\n",
    "\n",
    "# objective\n",
    "@m.Expression()\n",
    "def revenue(m):\n",
    "    return sum(products.loc[p, \"price\"] * m.y[p] for p in m.PRODUCTS)\n",
    "\n",
    "@m.Expression()\n",
    "def feed_cost(m):\n",
    "    return sum(crudes.loc[c, \"price\"] * m.x[c] for c in m.CRUDES)\n",
    "\n",
    "@m.Expression()\n",
    "def process_cost(m):\n",
    "    return sum(crudes.loc[c, \"process cost\"] * m.x[c] for c in m.CRUDES)\n",
    "\n",
    "@m.Objective(sense=pyo.maximize)\n",
    "def profit(m):\n",
    "    return m.revenue - m.feed_cost - m.process_cost\n",
    "\n",
    "# constraints\n",
    "@m.Constraint(m.PRODUCTS)\n",
    "def balances(m, p):\n",
    "    return m.y[p] == sum(yields.loc[c, p] * m.x[c] for c in m.CRUDES)/100\n",
    "\n",
    "@m.Constraint(m.CRUDES)\n",
    "def feeds(m, c):\n",
    "    return m.x[c] <= crudes.loc[c, \"available\"]\n",
    "\n",
    "@m.Constraint(m.PRODUCTS)\n",
    "def capacity(m, p):\n",
    "    return m.y[p] <= products.loc[p, \"capacity\"]\n",
    "\n",
    "# solution\n",
    "pyo.SolverFactory('glpk').solve(m)\n",
    "print(m.profit())\n"
   ]
  },
  {
   "cell_type": "markdown",
   "metadata": {
    "id": "0-l7-qpxZs7Y"
   },
   "source": [
    "## CVXPY Model\n",
    "\n",
    "The `CVXPY` library for disciplined convex programming is tightly integrated with `numpy`, the standard Python library for the numerical linear algebra. For example, where `Pyomo` uses explicit indexing in constraints, summations, and other objects, `CVXPY` uses the implicit indexing implied when doing matrix and vector operations. \n",
    "\n",
    "Another sharp contrast with `Pyomo` is that `CXVPY` has no specific object to describe a set,or to define a objects variables or other modeling objects over arbitrary sets. `CVXPY` insteady uses the zero-based indexing familiar to Python users. \n",
    "\n",
    "The following cell demonstrates these differences by presenting a `CVXPY` model for the small refinery example. "
   ]
  },
  {
   "cell_type": "code",
   "execution_count": 4,
   "metadata": {
    "colab": {
     "base_uri": "https://localhost:8080/"
    },
    "executionInfo": {
     "elapsed": 286,
     "status": "ok",
     "timestamp": 1649686878638,
     "user": {
      "displayName": "Jeffrey Kantor",
      "userId": "09038942003589296665"
     },
     "user_tz": 240
    },
    "id": "ou4iqNTogpvd",
    "outputId": "f0374e13-a30c-4e2c-b55f-83ec25a84654"
   },
   "outputs": [
    {
     "data": {
      "text/plain": [
       "860275.861556892"
      ]
     },
     "execution_count": 4,
     "metadata": {},
     "output_type": "execute_result"
    }
   ],
   "source": [
    "import numpy as np\n",
    "import cvxpy as cp\n",
    "\n",
    "# decision variables\n",
    "x = cp.Variable(len(crudes.index), pos=True, name=\"crudes\")\n",
    "y = cp.Variable(len(products.index), pos=True, name=\"products\")\n",
    "\n",
    "# objective\n",
    "revenue = products[\"price\"].to_numpy().T @ y\n",
    "feed_cost = crudes[\"price\"].to_numpy().T @ x\n",
    "process_cost = crudes[\"process cost\"].to_numpy().T @ x\n",
    "profit = revenue - feed_cost - process_cost\n",
    "objective = cp.Maximize(profit)\n",
    "\n",
    "# constraints\n",
    "balances = y == yields.to_numpy().T @ x/100\n",
    "feeds = x <= crudes[\"available\"].to_numpy()\n",
    "capacity = y <= products[\"capacity\"].to_numpy()\n",
    "constraints = [balances, feeds, capacity]\n",
    "\n",
    "# solution\n",
    "problem = cp.Problem(objective, constraints)\n",
    "problem.solve()\n"
   ]
  },
  {
   "cell_type": "markdown",
   "metadata": {
    "id": "rc7Bvxy8VCX7"
   },
   "source": [
    "## Crude oil feed results"
   ]
  },
  {
   "cell_type": "code",
   "execution_count": 5,
   "metadata": {
    "colab": {
     "base_uri": "https://localhost:8080/",
     "height": 112
    },
    "executionInfo": {
     "elapsed": 328,
     "status": "ok",
     "timestamp": 1649686883612,
     "user": {
      "displayName": "Jeffrey Kantor",
      "userId": "09038942003589296665"
     },
     "user_tz": 240
    },
    "id": "kgFALj_rK1b8",
    "outputId": "13077e14-2051-4cae-b3af-57be582e9425"
   },
   "outputs": [
    {
     "data": {
      "text/html": [
       "<div>\n",
       "<style scoped>\n",
       "    .dataframe tbody tr th:only-of-type {\n",
       "        vertical-align: middle;\n",
       "    }\n",
       "\n",
       "    .dataframe tbody tr th {\n",
       "        vertical-align: top;\n",
       "    }\n",
       "\n",
       "    .dataframe thead th {\n",
       "        text-align: right;\n",
       "    }\n",
       "</style>\n",
       "<table border=\"1\" class=\"dataframe\">\n",
       "  <thead>\n",
       "    <tr style=\"text-align: right;\">\n",
       "      <th></th>\n",
       "      <th>available</th>\n",
       "      <th>price</th>\n",
       "      <th>process cost</th>\n",
       "      <th>consumption</th>\n",
       "      <th>shadow price</th>\n",
       "    </tr>\n",
       "  </thead>\n",
       "  <tbody>\n",
       "    <tr>\n",
       "      <th>crude 1</th>\n",
       "      <td>28000.0</td>\n",
       "      <td>72.0</td>\n",
       "      <td>1.5</td>\n",
       "      <td>26206.9</td>\n",
       "      <td>0.0</td>\n",
       "    </tr>\n",
       "    <tr>\n",
       "      <th>crude 2</th>\n",
       "      <td>15000.0</td>\n",
       "      <td>45.0</td>\n",
       "      <td>3.0</td>\n",
       "      <td>6896.6</td>\n",
       "      <td>0.0</td>\n",
       "    </tr>\n",
       "  </tbody>\n",
       "</table>\n",
       "</div>"
      ],
      "text/plain": [
       "         available  price  process cost  consumption  shadow price\n",
       "crude 1    28000.0   72.0           1.5      26206.9           0.0\n",
       "crude 2    15000.0   45.0           3.0       6896.6           0.0"
      ]
     },
     "metadata": {},
     "output_type": "display_data"
    }
   ],
   "source": [
    "results_crudes = crudes\n",
    "results_crudes[\"consumption\"] = x.value\n",
    "results_crudes[\"shadow price\"] = feeds.dual_value\n",
    "\n",
    "display(results_crudes.round(1))"
   ]
  },
  {
   "cell_type": "markdown",
   "metadata": {
    "id": "KbaNCZtRVQB5"
   },
   "source": [
    "## Refinery production results"
   ]
  },
  {
   "cell_type": "code",
   "execution_count": 6,
   "metadata": {
    "colab": {
     "base_uri": "https://localhost:8080/",
     "height": 175
    },
    "executionInfo": {
     "elapsed": 6,
     "status": "ok",
     "timestamp": 1649679830703,
     "user": {
      "displayName": "Jeffrey Kantor",
      "userId": "09038942003589296665"
     },
     "user_tz": 240
    },
    "id": "lem9nBSThVoj",
    "outputId": "c66f2d1d-f5a4-4086-b0f9-a48ba976f048"
   },
   "outputs": [
    {
     "data": {
      "text/html": [
       "<div>\n",
       "<style scoped>\n",
       "    .dataframe tbody tr th:only-of-type {\n",
       "        vertical-align: middle;\n",
       "    }\n",
       "\n",
       "    .dataframe tbody tr th {\n",
       "        vertical-align: top;\n",
       "    }\n",
       "\n",
       "    .dataframe thead th {\n",
       "        text-align: right;\n",
       "    }\n",
       "</style>\n",
       "<table border=\"1\" class=\"dataframe\">\n",
       "  <thead>\n",
       "    <tr style=\"text-align: right;\">\n",
       "      <th></th>\n",
       "      <th>capacity</th>\n",
       "      <th>price</th>\n",
       "      <th>production</th>\n",
       "      <th>unused capacity</th>\n",
       "      <th>shadow price</th>\n",
       "    </tr>\n",
       "  </thead>\n",
       "  <tbody>\n",
       "    <tr>\n",
       "      <th>gasoline</th>\n",
       "      <td>24000</td>\n",
       "      <td>108</td>\n",
       "      <td>24000.0</td>\n",
       "      <td>0.0</td>\n",
       "      <td>14.0</td>\n",
       "    </tr>\n",
       "    <tr>\n",
       "      <th>kerosine</th>\n",
       "      <td>2000</td>\n",
       "      <td>72</td>\n",
       "      <td>2000.0</td>\n",
       "      <td>0.0</td>\n",
       "      <td>262.6</td>\n",
       "    </tr>\n",
       "    <tr>\n",
       "      <th>fuel oil</th>\n",
       "      <td>6000</td>\n",
       "      <td>63</td>\n",
       "      <td>5103.4</td>\n",
       "      <td>896.6</td>\n",
       "      <td>0.0</td>\n",
       "    </tr>\n",
       "    <tr>\n",
       "      <th>residual</th>\n",
       "      <td>2500</td>\n",
       "      <td>30</td>\n",
       "      <td>2000.0</td>\n",
       "      <td>500.0</td>\n",
       "      <td>0.0</td>\n",
       "    </tr>\n",
       "  </tbody>\n",
       "</table>\n",
       "</div>"
      ],
      "text/plain": [
       "          capacity  price  production  unused capacity  shadow price\n",
       "gasoline     24000    108     24000.0              0.0          14.0\n",
       "kerosine      2000     72      2000.0              0.0         262.6\n",
       "fuel oil      6000     63      5103.4            896.6           0.0\n",
       "residual      2500     30      2000.0            500.0           0.0"
      ]
     },
     "metadata": {},
     "output_type": "display_data"
    }
   ],
   "source": [
    "results_products = products\n",
    "results_products[\"production\"] = y.value\n",
    "results_products[\"unused capacity\"] = products[\"capacity\"] - y.value\n",
    "results_products[\"shadow price\"] = capacity.dual_value\n",
    "\n",
    "display(results_products.round(1))"
   ]
  },
  {
   "cell_type": "markdown",
   "metadata": {
    "id": "qvaoi0nbYM6P"
   },
   "source": [
    "## Why is the shadow price of kerosine so high?"
   ]
  },
  {
   "cell_type": "code",
   "execution_count": 7,
   "metadata": {
    "colab": {
     "base_uri": "https://localhost:8080/",
     "height": 421
    },
    "executionInfo": {
     "elapsed": 1303,
     "status": "ok",
     "timestamp": 1649679998701,
     "user": {
      "displayName": "Jeffrey Kantor",
      "userId": "09038942003589296665"
     },
     "user_tz": 240
    },
    "id": "ebwOwbkbYSRt",
    "outputId": "bb2d121c-9fc2-4e01-a59b-f83b9bf6d913"
   },
   "outputs": [
    {
     "data": {
      "text/plain": [
       "(0.0, 24000.0)"
      ]
     },
     "execution_count": 7,
     "metadata": {},
     "output_type": "execute_result"
    },
    {
     "data": {
      "image/png": "[encoded data removed]",
      "text/plain": [
       "<Figure size 720x432 with 1 Axes>"
      ]
     },
     "metadata": {
      "needs_background": "light"
     },
     "output_type": "display_data"
    }
   ],
   "source": [
    "import matplotlib.pyplot as plt\n",
    "import numpy as np\n",
    "\n",
    "fig, ax = plt.subplots(figsize=(10, 6))\n",
    "ylim = 24000\n",
    "xlim = 32000\n",
    "\n",
    "ax.axvline(crudes[\"available\"][0], linestyle='--', label=\"Crude 1\")\n",
    "ax.axhline(crudes[\"available\"][1], linestyle='--', label=\"Crude 2\")\n",
    "\n",
    "xplot = np.linspace(0, xlim)\n",
    "for product in products.index:\n",
    "    b = 100*products.loc[product, \"capacity\"]/yields[product][1]\n",
    "    m = - yields[product][0]/yields[product][1]\n",
    "    line = ax.plot(xplot, m*xplot + b, label=product)\n",
    "    ax.fill_between(xplot, m*xplot + b, 30000, color=line[0].get_color(), alpha=0.2)\n",
    "\n",
    "ax.plot(x.value[0], x.value[1], 'ro', ms=10, label=\"max profit\")\n",
    "ax.set_title(\"Feasible operating regime\")\n",
    "ax.set_xlabel(crudes.index[0])\n",
    "ax.set_ylabel(crudes.index[1])\n",
    "ax.legend()\n",
    "ax.set_xlim(0, xlim)\n",
    "ax.set_ylim(0, ylim)"
   ]
  },
  {
   "cell_type": "markdown",
   "metadata": {
    "id": "sTzw6XBdgLOB"
   },
   "source": [
    "## Suggested Exercises\n",
    "\n",
    "1. Suppose the refinery makes a substantial investment to double kerosine production in order to increase profits. What becomes the limiting constraint?\n",
    "\n",
    "2. How do prices of crudes and products change the location of the optimum operating point?\n",
    "\n",
    "2. A refinery is a financial asset for the conversion of commodity crude oils into commodity hydrocarbons. What economic value can be assigned to owning the option to convert crude oils into other commodities?"
   ]
  }
 ],
 "metadata": {
  "colab": {
   "authorship_tag": "ABX9TyNMXnKCrhjINF2uMGDZR+XZ",
   "name": "refinery-production.ipynb",
   "provenance": []
  },
  "kernelspec": {
   "display_name": "Python 3 (ipykernel)",
   "language": "python",
   "name": "python3"
  },
  "language_info": {
   "codemirror_mode": {
    "name": "ipython",
    "version": 3
   },
   "file_extension": ".py",
   "mimetype": "text/x-python",
   "name": "python",
   "nbconvert_exporter": "python",
   "pygments_lexer": "ipython3",
   "version": "3.10.6"
  }
 },
 "nbformat": 4,
 "nbformat_minor": 4
}