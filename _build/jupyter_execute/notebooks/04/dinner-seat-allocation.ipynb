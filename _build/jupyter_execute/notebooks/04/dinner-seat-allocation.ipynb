{
 "cells": [
  {
   "cell_type": "markdown",
   "metadata": {
    "id": "uRtp1E6mSnM2"
   },
   "source": [
    "# Dinner seating arrangement"
   ]
  },
  {
   "cell_type": "code",
   "execution_count": 1,
   "metadata": {
    "colab": {
     "base_uri": "https://localhost:8080/"
    },
    "executionInfo": {
     "elapsed": 11922,
     "status": "ok",
     "timestamp": 1623766790525,
     "user": {
      "displayName": "Joaquim Gromicho",
      "photoUrl": "",
      "userId": "14375950305363805729"
     },
     "user_tz": -120
    },
    "id": "ZqMzwFwqxHRQ",
    "outputId": "2fa9999b-2efc-46f2-af99-cae5af57ba7d"
   },
   "outputs": [
    {
     "name": "stdout",
     "output_type": "stream",
     "text": [
      "pyomo was previously installed\n",
      "cbc was previously installed\n",
      "glpk was previously installed\n"
     ]
    },
    {
     "data": {
      "text/plain": [
       "True"
      ]
     },
     "execution_count": 1,
     "metadata": {},
     "output_type": "execute_result"
    }
   ],
   "source": [
    "# install Pyomo and solvers\n",
    "import requests\n",
    "import types\n",
    "\n",
    "url = \"https://raw.githubusercontent.com/mobook/MO-book/main/python/helper.py\"\n",
    "helper = types.ModuleType(\"helper\")\n",
    "exec(requests.get(url).content, helper.__dict__)\n",
    "\n",
    "helper.install_pyomo()\n",
    "helper.install_cbc()\n",
    "helper.install_glpk()"
   ]
  },
  {
   "cell_type": "markdown",
   "metadata": {
    "id": "uRtp1E6mSnM2"
   },
   "source": [
    "## Problem description\n",
    "\n",
    "Consider organizing a wedding dinner at which your objective is that the guests from different families mingle with each other. One of the ways to do so is to seat people at the tables in such a way that no more people than a given threshold $k$ from the same family take a seat at the same table. How could we solve a problem like this? First, we need the problem data -- for each family $f$ we need to know the number of its members $m_f$, and for each table $t$ we need to know its capacity $c_t$. Using this data and the tools we learned so far, we can formulate this problem as an LP.\n",
    "\n",
    "If we do not care about the specific people, but only about the number of people from a given family, then we can use variable $x_{ft}$  for the number of persons from family $f$ to be seated at table $t$. Since we were not provided with any objective function, we can focus on finding a feasible solution by setting the objective function to be constant, say $0$, which means that we do not differentiate between the various feasible solutions. \n",
    "\n",
    "The mathematical formulation of this seating problem is:\n",
    "\n",
    "$$\n",
    "\\begin{align*}\n",
    "    \\min_{x_{ft}} \\quad & 0 \\label{ch4eq.Dina.problem.1}\\\\\n",
    "    \\text{s.t.} \\quad & \\sum\\limits_{f} x_{ft} \\leq c_t & \\forall \\, t \\in T \\\\\n",
    "    & \\sum\\limits_{t} x_{ft} = m_f & \\forall \\, f \\in F \\\\\n",
    "    & 0 \\leq x_{ft} \\leq k.\n",
    "\\end{align*}\n",
    "$$\n",
    "\n",
    "The two constraints ensure that (i) for each table the seating capacity is not exceeded and that (ii) each family is fully seated and that the number of elements of each family at each table does not exceed $k$."
   ]
  },
  {
   "cell_type": "markdown",
   "metadata": {
    "id": "AqUu7i2kxV98"
   },
   "source": [
    "## Implementation"
   ]
  },
  {
   "cell_type": "code",
   "execution_count": 2,
   "metadata": {
    "id": "g3Jo-pwb4ltx"
   },
   "outputs": [],
   "source": [
    "import pyomo.environ as pyo\n",
    "from IPython.display import display\n",
    "import networkx as nx\n",
    "import matplotlib.pyplot as plt\n",
    "import pandas as pd\n",
    "\n",
    "def TableSeat( members, capacity, k, domain=pyo.NonNegativeReals ):\n",
    "    m   = pyo.ConcreteModel(\"Dina's seat plan\")\n",
    "    m.F = pyo.Set( initialize=range( len(members) ) )\n",
    "    m.T = pyo.Set( initialize=range( len(capacity) ) )\n",
    "    m.M = pyo.Param( m.F, initialize=members )\n",
    "    m.C = pyo.Param( m.T, initialize=capacity )\n",
    "    m.x = pyo.Var( m.F, m.T, bounds=(0,k), domain=domain )\n",
    "    \n",
    "    @m.Objective( sense=pyo.maximize )\n",
    "    def goal(m):\n",
    "        return 0\n",
    "\n",
    "    @m.Constraint( m.T )    \n",
    "    def capacity( m, t ):\n",
    "        return pyo.quicksum( m.x[f,t] for f in m.F  ) <= m.C[t]\n",
    "    \n",
    "    @m.Constraint( m.F )\n",
    "    def seat( m, f ):\n",
    "        return pyo.quicksum( m.x[f,t] for t in m.T ) == m.M[f]\n",
    "        \n",
    "    return m\n",
    "\n",
    "def TableSeatAsMaxFlow( members, capacity, k, domain=pyo.NonNegativeReals ):\n",
    "    m   = pyo.ConcreteModel(\"Dina's seat plan\")\n",
    "    m.F = pyo.Set( initialize=range( len(members) ) )\n",
    "    m.T = pyo.Set( initialize=range( len(capacity) ) )\n",
    "    m.M = pyo.Param( m.F, initialize=members )\n",
    "    m.C = pyo.Param( m.T, initialize=capacity )\n",
    "    m.x = pyo.Var( m.F, m.T, bounds=(0,k), domain=domain )\n",
    "    \n",
    "    @m.Objective( sense=pyo.maximize )\n",
    "    def goal(m):\n",
    "        return pyo.quicksum( m.x[f,t] for t in m.T for f in m.F )\n",
    "\n",
    "    @m.Constraint( m.T )    \n",
    "    def capacity( m, t ):\n",
    "        return pyo.quicksum( m.x[f,t] for f in m.F  ) <= m.C[t]\n",
    "    \n",
    "    @m.Constraint( m.F )\n",
    "    def seat( m, f ):\n",
    "        return pyo.quicksum( m.x[f,t] for t in m.T ) <= m.M[f]\n",
    "        \n",
    "    return m\n",
    "\n",
    "def Reset( model ) -> None:\n",
    "    for v in model.component_data_objects(ctype=pyo.Var, descend_into=True):\n",
    "        v.set_value(None)\n",
    "        \n",
    "def GetSolution( model ):\n",
    "    import pandas as pd\n",
    "    sol = pd.DataFrame()\n",
    "    for idx,x in model.x.items():\n",
    "        sol.loc[idx]=x()\n",
    "    return sol\n",
    "    \n",
    "def Report( model, results, type=int ):\n",
    "    solver = pyo.SolverFactory('cbc')\n",
    "    print(results.solver.status, results.solver.termination_condition )\n",
    "    if results.solver.termination_condition == 'optimal':\n",
    "        sol = GetSolution(model).astype(type)\n",
    "        display( sol )\n",
    "        print('objective       ', pyo.value( seatplan.goal ) )\n",
    "        print('places at table ', list(sol.sum(axis=0)))\n",
    "        print('members seated  ', list(sol.sum(axis=1)))"
   ]
  },
  {
   "cell_type": "markdown",
   "metadata": {},
   "source": [
    "Let us now consider and solve a specific instance of this problem with family sizes $m = (6,8,2,9,13,1)$, table capacities $c = (8,8,10,4,9)$, and threshold $k=3$. "
   ]
  },
  {
   "cell_type": "code",
   "execution_count": 3,
   "metadata": {
    "colab": {
     "base_uri": "https://localhost:8080/",
     "height": 337
    },
    "executionInfo": {
     "elapsed": 293,
     "status": "ok",
     "timestamp": 1623769075200,
     "user": {
      "displayName": "Joaquim Gromicho",
      "photoUrl": "",
      "userId": "14375950305363805729"
     },
     "user_tz": -120
    },
    "id": "glauQ3YqSnM6",
    "outputId": "5d75d95c-4176-4d59-f4fa-4d1d27adbdf4"
   },
   "outputs": [
    {
     "name": "stdout",
     "output_type": "stream",
     "text": [
      "WARNING: Constant objective detected, replacing with a placeholder to prevent\n",
      "    solver failure.\n",
      "CPU times: user 13.5 ms, sys: 23.2 ms, total: 36.7 ms\n",
      "Wall time: 63.5 ms\n",
      "ok optimal\n"
     ]
    },
    {
     "data": {
      "text/html": [
       "<div>\n",
       "<style scoped>\n",
       "    .dataframe tbody tr th:only-of-type {\n",
       "        vertical-align: middle;\n",
       "    }\n",
       "\n",
       "    .dataframe tbody tr th {\n",
       "        vertical-align: top;\n",
       "    }\n",
       "\n",
       "    .dataframe thead th {\n",
       "        text-align: right;\n",
       "    }\n",
       "</style>\n",
       "<table border=\"1\" class=\"dataframe\">\n",
       "  <thead>\n",
       "    <tr style=\"text-align: right;\">\n",
       "      <th></th>\n",
       "      <th>0</th>\n",
       "      <th>1</th>\n",
       "      <th>2</th>\n",
       "      <th>3</th>\n",
       "      <th>4</th>\n",
       "    </tr>\n",
       "  </thead>\n",
       "  <tbody>\n",
       "    <tr>\n",
       "      <th>0</th>\n",
       "      <td>2</td>\n",
       "      <td>3</td>\n",
       "      <td>1</td>\n",
       "      <td>0</td>\n",
       "      <td>0</td>\n",
       "    </tr>\n",
       "    <tr>\n",
       "      <th>1</th>\n",
       "      <td>2</td>\n",
       "      <td>0</td>\n",
       "      <td>3</td>\n",
       "      <td>0</td>\n",
       "      <td>3</td>\n",
       "    </tr>\n",
       "    <tr>\n",
       "      <th>2</th>\n",
       "      <td>2</td>\n",
       "      <td>0</td>\n",
       "      <td>0</td>\n",
       "      <td>0</td>\n",
       "      <td>0</td>\n",
       "    </tr>\n",
       "    <tr>\n",
       "      <th>3</th>\n",
       "      <td>0</td>\n",
       "      <td>2</td>\n",
       "      <td>3</td>\n",
       "      <td>1</td>\n",
       "      <td>3</td>\n",
       "    </tr>\n",
       "    <tr>\n",
       "      <th>4</th>\n",
       "      <td>1</td>\n",
       "      <td>3</td>\n",
       "      <td>3</td>\n",
       "      <td>3</td>\n",
       "      <td>3</td>\n",
       "    </tr>\n",
       "    <tr>\n",
       "      <th>5</th>\n",
       "      <td>1</td>\n",
       "      <td>0</td>\n",
       "      <td>0</td>\n",
       "      <td>0</td>\n",
       "      <td>0</td>\n",
       "    </tr>\n",
       "  </tbody>\n",
       "</table>\n",
       "</div>"
      ],
      "text/plain": [
       "   0  1  2  3  4\n",
       "0  2  3  1  0  0\n",
       "1  2  0  3  0  3\n",
       "2  2  0  0  0  0\n",
       "3  0  2  3  1  3\n",
       "4  1  3  3  3  3\n",
       "5  1  0  0  0  0"
      ]
     },
     "metadata": {},
     "output_type": "display_data"
    },
    {
     "name": "stdout",
     "output_type": "stream",
     "text": [
      "objective        0.0\n",
      "places at table  [8, 8, 10, 4, 9]\n",
      "members seated   [6, 8, 2, 9, 13, 1]\n"
     ]
    }
   ],
   "source": [
    "seatplan = TableSeat( [6,8,2,9,13,1], [8,8,10,4,9], 3 )\n",
    "\n",
    "%time results = pyo.SolverFactory('cbc').solve(seatplan)\n",
    "\n",
    "Report( seatplan, results )"
   ]
  },
  {
   "cell_type": "markdown",
   "metadata": {},
   "source": [
    "A peculiar fact is that although we did not explicitly require that all variables $x_{ft}$ be integer, the optimal solution turned out to be integer anyway. This is no coincidence as it follows from a certain property of the problem we solve. This means that also for larger versions of this problem, we can solve them with LP instead of MILP solvers to find integer solutions, gaining a huge computational advantage.\n",
    "\n",
    "Our objective was that we make members of different families mingle as much as possible. Is $k = 3$ the lowest possible number for which a feasible table allocation exists or can we make the tables even more diverse by bringing this number down?\n",
    "\n",
    "In order to find out, we change the objective function and try to minimize $k$, obtaining the following problem:"
   ]
  },
  {
   "cell_type": "code",
   "execution_count": 4,
   "metadata": {
    "id": "GJxtvN9gS2xW"
   },
   "outputs": [],
   "source": [
    "def TableSeatMinimizeMaxGroupAtTable( members, capacity, nature=pyo.NonNegativeReals ):\n",
    "    m   = pyo.ConcreteModel(\"Dina's seat plan\")\n",
    "    m.F = pyo.Set( initialize=range( len(members) ) )\n",
    "    m.T = pyo.Set( initialize=range( len(capacity) ) )\n",
    "    m.M = pyo.Param( m.F, initialize=members )\n",
    "    m.C = pyo.Param( m.T, initialize=capacity )\n",
    "    m.x = pyo.Var( m.F, m.T, domain=nature )\n",
    "    m.k = pyo.Var( domain=nature )\n",
    "    \n",
    "    @m.Objective( sense=pyo.minimize )\n",
    "    def goal(m):\n",
    "        return m.k\n",
    "    \n",
    "    @m.Constraint( m.T )    \n",
    "    def capacity( m, t ):\n",
    "        return pyo.quicksum( m.x[f,t] for f in m.F  ) <= m.C[t]\n",
    "    \n",
    "    @m.Constraint( m.F )\n",
    "    def seat( m, f ):\n",
    "        return pyo.quicksum( m.x[f,t] for t in m.T ) == m.M[f]\n",
    "\n",
    "    @m.Constraint( m.F, m.T )\n",
    "    def bound( m, f, t ):\n",
    "        return m.x[f,t] <= m.k\n",
    "\n",
    "    return m"
   ]
  },
  {
   "cell_type": "markdown",
   "metadata": {},
   "source": [
    "We now solve the same instance as before."
   ]
  },
  {
   "cell_type": "code",
   "execution_count": 5,
   "metadata": {
    "colab": {
     "base_uri": "https://localhost:8080/",
     "height": 337
    },
    "executionInfo": {
     "elapsed": 269,
     "status": "ok",
     "timestamp": 1623768701481,
     "user": {
      "displayName": "Joaquim Gromicho",
      "photoUrl": "",
      "userId": "14375950305363805729"
     },
     "user_tz": -120
    },
    "id": "amuwHXmGt_va",
    "outputId": "9056e7b0-1a7e-4017-e31b-ecbffa4a312b"
   },
   "outputs": [
    {
     "name": "stdout",
     "output_type": "stream",
     "text": [
      "CPU times: user 11.4 ms, sys: 20.4 ms, total: 31.8 ms\n",
      "Wall time: 61 ms\n",
      "ok optimal\n"
     ]
    },
    {
     "data": {
      "text/html": [
       "<div>\n",
       "<style scoped>\n",
       "    .dataframe tbody tr th:only-of-type {\n",
       "        vertical-align: middle;\n",
       "    }\n",
       "\n",
       "    .dataframe tbody tr th {\n",
       "        vertical-align: top;\n",
       "    }\n",
       "\n",
       "    .dataframe thead th {\n",
       "        text-align: right;\n",
       "    }\n",
       "</style>\n",
       "<table border=\"1\" class=\"dataframe\">\n",
       "  <thead>\n",
       "    <tr style=\"text-align: right;\">\n",
       "      <th></th>\n",
       "      <th>0</th>\n",
       "      <th>1</th>\n",
       "      <th>2</th>\n",
       "      <th>3</th>\n",
       "      <th>4</th>\n",
       "    </tr>\n",
       "  </thead>\n",
       "  <tbody>\n",
       "    <tr>\n",
       "      <th>0</th>\n",
       "      <td>2.6</td>\n",
       "      <td>2.2</td>\n",
       "      <td>0.0</td>\n",
       "      <td>0.0</td>\n",
       "      <td>1.2</td>\n",
       "    </tr>\n",
       "    <tr>\n",
       "      <th>1</th>\n",
       "      <td>1.0</td>\n",
       "      <td>2.6</td>\n",
       "      <td>1.8</td>\n",
       "      <td>0.0</td>\n",
       "      <td>2.6</td>\n",
       "    </tr>\n",
       "    <tr>\n",
       "      <th>2</th>\n",
       "      <td>0.0</td>\n",
       "      <td>0.0</td>\n",
       "      <td>2.0</td>\n",
       "      <td>0.0</td>\n",
       "      <td>0.0</td>\n",
       "    </tr>\n",
       "    <tr>\n",
       "      <th>3</th>\n",
       "      <td>1.8</td>\n",
       "      <td>0.6</td>\n",
       "      <td>2.6</td>\n",
       "      <td>1.4</td>\n",
       "      <td>2.6</td>\n",
       "    </tr>\n",
       "    <tr>\n",
       "      <th>4</th>\n",
       "      <td>2.6</td>\n",
       "      <td>2.6</td>\n",
       "      <td>2.6</td>\n",
       "      <td>2.6</td>\n",
       "      <td>2.6</td>\n",
       "    </tr>\n",
       "    <tr>\n",
       "      <th>5</th>\n",
       "      <td>0.0</td>\n",
       "      <td>0.0</td>\n",
       "      <td>1.0</td>\n",
       "      <td>0.0</td>\n",
       "      <td>0.0</td>\n",
       "    </tr>\n",
       "  </tbody>\n",
       "</table>\n",
       "</div>"
      ],
      "text/plain": [
       "     0    1    2    3    4\n",
       "0  2.6  2.2  0.0  0.0  1.2\n",
       "1  1.0  2.6  1.8  0.0  2.6\n",
       "2  0.0  0.0  2.0  0.0  0.0\n",
       "3  1.8  0.6  2.6  1.4  2.6\n",
       "4  2.6  2.6  2.6  2.6  2.6\n",
       "5  0.0  0.0  1.0  0.0  0.0"
      ]
     },
     "metadata": {},
     "output_type": "display_data"
    },
    {
     "name": "stdout",
     "output_type": "stream",
     "text": [
      "objective        2.6\n",
      "places at table  [8.0, 8.0, 10.0, 4.0, 9.0]\n",
      "members seated   [6.000000000000001, 8.0, 2.0, 9.0, 13.0, 1.0]\n"
     ]
    }
   ],
   "source": [
    "seatplan = TableSeatMinimizeMaxGroupAtTable( [6,8,2,9,13,1], [8,8,10,4,9], nature=pyo.NonNegativeReals )\n",
    "\n",
    "%time results = pyo.SolverFactory('cbc').solve(seatplan)\n",
    "\n",
    "Report( seatplan, results, type=float )"
   ]
  },
  {
   "cell_type": "markdown",
   "metadata": {},
   "source": [
    "Unfortunately, this solution is no longer integer. Mathematically, this is due to the fact that the \"structure\" that previously ensured integrality of solutions at no extra cost, has been lost as a result of making $k$ a decision variable. To find the solution to this problem we need to impose that the variables are integers."
   ]
  },
  {
   "cell_type": "code",
   "execution_count": 6,
   "metadata": {
    "id": "9mHD-wjuuLg2"
   },
   "outputs": [],
   "source": [
    "def TableSeatMinimizeNumberOfTables( members, capacity, k, nature=pyo.NonNegativeReals ):\n",
    "    m   = pyo.ConcreteModel(\"Dina's seat plan\")\n",
    "    m.F = pyo.Set( initialize=range( len(members) ) )\n",
    "    m.T = pyo.Set( initialize=range( len(capacity) ) )\n",
    "    m.M = pyo.Param( m.F, initialize=members )\n",
    "    m.C = pyo.Param( m.T, initialize=capacity )\n",
    "    m.x = pyo.Var( m.F, m.T, bounds=(0,k), domain=nature )\n",
    "    m.y = pyo.Var( m.T, within=pyo.Binary )\n",
    "    \n",
    "    @m.Objective( sense=pyo.minimize )\n",
    "    def goal(m):\n",
    "        return pyo.quicksum(m.y[t] for t in m.T)\n",
    "    \n",
    "    @m.Constraint( m.T )    \n",
    "    def capacity( m, t ):\n",
    "        return pyo.quicksum( m.x[f,t] for f in m.F  ) <= m.C[t]*m.y[t]\n",
    "    \n",
    "    @m.Constraint( m.F )\n",
    "    def seat( m, f ):\n",
    "        return pyo.quicksum( m.x[f,t] for t in m.T ) == m.M[f]\n",
    "\n",
    "    return m"
   ]
  },
  {
   "cell_type": "markdown",
   "metadata": {},
   "source": [
    "Using a MILP solver such as `cbc`, we recover the original optimal value $k = 3$."
   ]
  },
  {
   "cell_type": "code",
   "execution_count": 7,
   "metadata": {
    "colab": {
     "base_uri": "https://localhost:8080/",
     "height": 337
    },
    "executionInfo": {
     "elapsed": 264,
     "status": "ok",
     "timestamp": 1623769068597,
     "user": {
      "displayName": "Joaquim Gromicho",
      "photoUrl": "",
      "userId": "14375950305363805729"
     },
     "user_tz": -120
    },
    "id": "ouJSU34n38KF",
    "outputId": "7e40163d-ddd3-4a07-9009-fd40d68b52c0"
   },
   "outputs": [
    {
     "name": "stdout",
     "output_type": "stream",
     "text": [
      "CPU times: user 12.5 ms, sys: 22.1 ms, total: 34.6 ms\n",
      "Wall time: 62.1 ms\n",
      "ok optimal\n"
     ]
    },
    {
     "data": {
      "text/html": [
       "<div>\n",
       "<style scoped>\n",
       "    .dataframe tbody tr th:only-of-type {\n",
       "        vertical-align: middle;\n",
       "    }\n",
       "\n",
       "    .dataframe tbody tr th {\n",
       "        vertical-align: top;\n",
       "    }\n",
       "\n",
       "    .dataframe thead th {\n",
       "        text-align: right;\n",
       "    }\n",
       "</style>\n",
       "<table border=\"1\" class=\"dataframe\">\n",
       "  <thead>\n",
       "    <tr style=\"text-align: right;\">\n",
       "      <th></th>\n",
       "      <th>0</th>\n",
       "      <th>1</th>\n",
       "      <th>2</th>\n",
       "      <th>3</th>\n",
       "      <th>4</th>\n",
       "    </tr>\n",
       "  </thead>\n",
       "  <tbody>\n",
       "    <tr>\n",
       "      <th>0</th>\n",
       "      <td>3</td>\n",
       "      <td>0</td>\n",
       "      <td>3</td>\n",
       "      <td>0</td>\n",
       "      <td>0</td>\n",
       "    </tr>\n",
       "    <tr>\n",
       "      <th>1</th>\n",
       "      <td>3</td>\n",
       "      <td>2</td>\n",
       "      <td>0</td>\n",
       "      <td>0</td>\n",
       "      <td>3</td>\n",
       "    </tr>\n",
       "    <tr>\n",
       "      <th>2</th>\n",
       "      <td>0</td>\n",
       "      <td>0</td>\n",
       "      <td>1</td>\n",
       "      <td>1</td>\n",
       "      <td>0</td>\n",
       "    </tr>\n",
       "    <tr>\n",
       "      <th>3</th>\n",
       "      <td>0</td>\n",
       "      <td>3</td>\n",
       "      <td>3</td>\n",
       "      <td>0</td>\n",
       "      <td>3</td>\n",
       "    </tr>\n",
       "    <tr>\n",
       "      <th>4</th>\n",
       "      <td>1</td>\n",
       "      <td>3</td>\n",
       "      <td>3</td>\n",
       "      <td>3</td>\n",
       "      <td>3</td>\n",
       "    </tr>\n",
       "    <tr>\n",
       "      <th>5</th>\n",
       "      <td>1</td>\n",
       "      <td>0</td>\n",
       "      <td>0</td>\n",
       "      <td>0</td>\n",
       "      <td>0</td>\n",
       "    </tr>\n",
       "  </tbody>\n",
       "</table>\n",
       "</div>"
      ],
      "text/plain": [
       "   0  1  2  3  4\n",
       "0  3  0  3  0  0\n",
       "1  3  2  0  0  3\n",
       "2  0  0  1  1  0\n",
       "3  0  3  3  0  3\n",
       "4  1  3  3  3  3\n",
       "5  1  0  0  0  0"
      ]
     },
     "metadata": {},
     "output_type": "display_data"
    },
    {
     "name": "stdout",
     "output_type": "stream",
     "text": [
      "objective        5.0\n",
      "places at table  [8, 8, 10, 4, 9]\n",
      "members seated   [6, 8, 2, 9, 13, 1]\n"
     ]
    }
   ],
   "source": [
    "seatplan = TableSeatMinimizeNumberOfTables( [6,8,2,9,13,1], [8,8,10,4,9], 3, pyo.NonNegativeIntegers )\n",
    "\n",
    "%time results = pyo.SolverFactory('cbc').solve(seatplan)\n",
    "\n",
    "Report( seatplan, results, type=int )"
   ]
  },
  {
   "cell_type": "markdown",
   "metadata": {
    "id": "5klBA6ebVDf3"
   },
   "source": [
    "# Reformulation as max flow problem"
   ]
  },
  {
   "cell_type": "markdown",
   "metadata": {},
   "source": [
    "However, using a MILP solver is not necessarily the best approach for problems like this. Many real-life situations (assigning people to work/course groups) require solving really large problems.  There exist algorithms that can leverage the special **network structure** of the problem at hand and which work better than LP solvers. To see this we can visualize the seating problem using a graph where:\n",
    "\n",
    "* the nodes on the left-hand side stand for the families and the numbers next to them provide the family size\n",
    "* the nodes on the left-hand side stand for the tables and the numbers next to them provide the table size\n",
    "* each left-to-right arrow stand comes with a number denoting the capacity of arc $(f, t)$ -- how many people of family $f$ can be assigned to table $t$.\n",
    "\n",
    "![](dina_model_basic.png)"
   ]
  },
  {
   "cell_type": "markdown",
   "metadata": {},
   "source": [
    "If we see each family as a place of supply (people) and tables as places of demand (people), then we can see our original problem as literally sending people from families $f$ to tables $t$ so that everyone is assigned to some table, the tables' capacities are respected, and no table gets more than $k = 3$ members of the same family.\n",
    "\n",
    "By adding two more nodes to the graph above, we can formulate the problem as a slightly different flow problem where all the data is formulated as the arc capacity, see figure beloow. In a network like this, we can imagine a problem of sending resources from the _root node_ \"door\" to the _sink node_ \"seat\", subject to the restriction that for any node apart from $s$ and $t$, the sum of incoming and outgoing flows are equal (_balance constraint_). If there exists a flow in this new graph that respects the arc capacities and the sum of outgoing flows at $s$ is equal to $\\sum_{f \\in F} m_f = 39$, it means that there exists a family-to-table assignment that meets our requirements.\n",
    "\n",
    "![](dina_model.png)"
   ]
  },
  {
   "cell_type": "code",
   "execution_count": 12,
   "metadata": {
    "id": "aSJ7UOokVfnu"
   },
   "outputs": [],
   "source": [
    "def ModelAsNetwork( members, capacity, k ):\n",
    "    families = [f'f{i}' for i in range(len(members))]\n",
    "    tables = [f't{j}' for j in range(len(capacity))]\n",
    "    G = nx.DiGraph()\n",
    "    G.add_node('door',layer=0)\n",
    "    for f in families:\n",
    "        G.add_node(f,layer=1)\n",
    "    for t in tables:\n",
    "        G.add_node(t,layer=2)\n",
    "    G.add_node('seat',layer=3)\n",
    "    for f,n in zip(families,members):\n",
    "        G.add_edge('door', f, capacity=n)\n",
    "    for f in families:\n",
    "        for t in tables:\n",
    "            G.add_edge(f,t, capacity=k)\n",
    "    for t,n in zip(tables,capacity):\n",
    "        G.add_edge(t, 'seat', capacity=n)\n",
    "    return G"
   ]
  },
  {
   "cell_type": "code",
   "execution_count": 13,
   "metadata": {},
   "outputs": [],
   "source": [
    "G = ModelAsNetwork( [6,8,2,9,13,1], [8,8,10,4,9], 3 )\n",
    "labels = { (e[0],e[1]) : e[2] for e in G.edges(data='capacity') }"
   ]
  },
  {
   "cell_type": "code",
   "execution_count": 14,
   "metadata": {
    "id": "vRHT74fEV6KX"
   },
   "outputs": [
    {
     "name": "stdout",
     "output_type": "stream",
     "text": [
      "CPU times: user 1.08 ms, sys: 22 µs, total: 1.11 ms\n",
      "Wall time: 1.11 ms\n"
     ]
    }
   ],
   "source": [
    "%time flow_value, flow_dict = nx.maximum_flow(G, 'door', 'seat')"
   ]
  },
  {
   "cell_type": "code",
   "execution_count": 15,
   "metadata": {
    "colab": {
     "base_uri": "https://localhost:8080/",
     "height": 206
    },
    "executionInfo": {
     "elapsed": 214,
     "status": "ok",
     "timestamp": 1643283766270,
     "user": {
      "displayName": "Joaquim Gromicho",
      "photoUrl": "https://lh3.googleusercontent.com/a/default-user=s64",
      "userId": "14375950305363805729"
     },
     "user_tz": -60
    },
    "id": "JL9vgcULV-TG",
    "outputId": "15de4861-1a77-485e-e91f-c03f8d55a917"
   },
   "outputs": [
    {
     "data": {
      "text/html": [
       "<div>\n",
       "<style scoped>\n",
       "    .dataframe tbody tr th:only-of-type {\n",
       "        vertical-align: middle;\n",
       "    }\n",
       "\n",
       "    .dataframe tbody tr th {\n",
       "        vertical-align: top;\n",
       "    }\n",
       "\n",
       "    .dataframe thead th {\n",
       "        text-align: right;\n",
       "    }\n",
       "</style>\n",
       "<table border=\"1\" class=\"dataframe\">\n",
       "  <thead>\n",
       "    <tr style=\"text-align: right;\">\n",
       "      <th></th>\n",
       "      <th>f0</th>\n",
       "      <th>f1</th>\n",
       "      <th>f2</th>\n",
       "      <th>f3</th>\n",
       "      <th>f4</th>\n",
       "      <th>f5</th>\n",
       "    </tr>\n",
       "  </thead>\n",
       "  <tbody>\n",
       "    <tr>\n",
       "      <th>t0</th>\n",
       "      <td>2</td>\n",
       "      <td>0</td>\n",
       "      <td>0</td>\n",
       "      <td>2</td>\n",
       "      <td>3</td>\n",
       "      <td>1</td>\n",
       "    </tr>\n",
       "    <tr>\n",
       "      <th>t1</th>\n",
       "      <td>0</td>\n",
       "      <td>2</td>\n",
       "      <td>0</td>\n",
       "      <td>3</td>\n",
       "      <td>3</td>\n",
       "      <td>0</td>\n",
       "    </tr>\n",
       "    <tr>\n",
       "      <th>t2</th>\n",
       "      <td>1</td>\n",
       "      <td>3</td>\n",
       "      <td>0</td>\n",
       "      <td>3</td>\n",
       "      <td>3</td>\n",
       "      <td>0</td>\n",
       "    </tr>\n",
       "    <tr>\n",
       "      <th>t3</th>\n",
       "      <td>0</td>\n",
       "      <td>0</td>\n",
       "      <td>1</td>\n",
       "      <td>0</td>\n",
       "      <td>3</td>\n",
       "      <td>0</td>\n",
       "    </tr>\n",
       "    <tr>\n",
       "      <th>t4</th>\n",
       "      <td>3</td>\n",
       "      <td>3</td>\n",
       "      <td>1</td>\n",
       "      <td>1</td>\n",
       "      <td>1</td>\n",
       "      <td>0</td>\n",
       "    </tr>\n",
       "  </tbody>\n",
       "</table>\n",
       "</div>"
      ],
      "text/plain": [
       "    f0  f1  f2  f3  f4  f5\n",
       "t0   2   0   0   2   3   1\n",
       "t1   0   2   0   3   3   0\n",
       "t2   1   3   0   3   3   0\n",
       "t3   0   0   1   0   3   0\n",
       "t4   3   3   1   1   1   0"
      ]
     },
     "execution_count": 15,
     "metadata": {},
     "output_type": "execute_result"
    }
   ],
   "source": [
    "members, capacity = [6,8,2,9,13,1], [8,8,10,4,9]\n",
    "families = [f'f{i:.0f}' for i in range(len(members))]\n",
    "tables = [f't{j:.0f}' for j in range(len(capacity))]\n",
    "pd.DataFrame(flow_dict).loc[tables,families].astype('int')"
   ]
  }
 ],
 "metadata": {
  "colab": {
   "collapsed_sections": [],
   "name": "DSE-5.1 2021 - Dina's tables resolution with additional requirements.ipynb",
   "provenance": []
  },
  "kernelspec": {
   "display_name": "Python 3 (ipykernel)",
   "language": "python",
   "name": "python3"
  },
  "language_info": {
   "codemirror_mode": {
    "name": "ipython",
    "version": 3
   },
   "file_extension": ".py",
   "mimetype": "text/x-python",
   "name": "python",
   "nbconvert_exporter": "python",
   "pygments_lexer": "ipython3",
   "version": "3.10.6"
  }
 },
 "nbformat": 4,
 "nbformat_minor": 4
}