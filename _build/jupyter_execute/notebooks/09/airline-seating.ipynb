{
 "cells": [
  {
   "cell_type": "code",
   "execution_count": 1,
   "id": "ea71de65",
   "metadata": {
    "ExecuteTime": {
     "end_time": "2022-09-30T21:49:05.660595Z",
     "start_time": "2022-09-30T21:49:05.457825Z"
    }
   },
   "outputs": [
    {
     "name": "stdout",
     "output_type": "stream",
     "text": [
      "pyomo was previously installed\n",
      "glpk was previously installed\n",
      "cbc was previously installed\n",
      "ipopt was previously installed\n"
     ]
    },
    {
     "data": {
      "text/plain": [
       "True"
      ]
     },
     "execution_count": 1,
     "metadata": {},
     "output_type": "execute_result"
    }
   ],
   "source": [
    "# install Pyomo and solvers\n",
    "import requests\n",
    "import types\n",
    "\n",
    "url = \"https://raw.githubusercontent.com/jckantor/MO-book/main/python/helper.py\"\n",
    "helper = types.ModuleType(\"helper\")\n",
    "exec(requests.get(url).content, helper.__dict__)\n",
    "\n",
    "helper.install_pyomo()\n",
    "helper.install_glpk()\n",
    "helper.install_cbc()\n",
    "helper.install_ipopt()"
   ]
  },
  {
   "cell_type": "code",
   "execution_count": 2,
   "id": "e91fbe82",
   "metadata": {
    "ExecuteTime": {
     "end_time": "2022-09-30T21:49:07.404490Z",
     "start_time": "2022-09-30T21:49:05.663157Z"
    }
   },
   "outputs": [],
   "source": [
    "%matplotlib inline\n",
    "import pyomo.environ as pyo\n",
    "import numpy as np\n",
    "import pandas as pd\n",
    "import seaborn as sns\n",
    "import matplotlib.pyplot as plt\n",
    "import math\n",
    "import logging\n",
    "from IPython.display import Markdown\n",
    "\n",
    "cbc_solver = pyo.SolverFactory('cbc')\n",
    "glpk_solver = pyo.SolverFactory('glpk')\n",
    "ipopt_solver = pyo.SolverFactory('ipopt')"
   ]
  },
  {
   "cell_type": "markdown",
   "id": "b6a619b6",
   "metadata": {},
   "source": [
    "# Airline seat allocation problem\n",
    "\n",
    "An airlines is trying to decide how to partition a new plane for the Amsterdam-Buenos Aires route. This plane can seat 200 economy class passengers. A section can be created for first class seats but each of these seats takes the space of 2 economy class seats. A business class section can also be created, but each of these seats takes as much space as 1.5 economy class seats. The profit on a first class ticket is, however, three times the profit of an economy ticket, while a business class ticket has a profit of two times an economy ticket's profit. Once the plane is partitioned into these seating classes, it cannot be changed. The airlines knows, however, that the plane will not always be full in each section. They have decided that three scenarios will occur with about the same frequency: \n",
    "\n",
    "(1) weekday morning and evening traffic, \n",
    "\n",
    "(2) weekend traffic, \n",
    "\n",
    "(3) weekday midday traffic. \n",
    "\n",
    "Under Scenario 1, they think they can sell as many as 20 first class tickets, 50 business class tickets, and 200 economy tickets. Under Scenario 2, these figures are $10 , 25 $, and $175$, while under Scenario 3, they are $5 , 10$, and $150$. The following table reports the forecast demand in the three scenarios.\n",
    "\n",
    "| Scenario | First class seats | Business class seats | Economy class seats |\n",
    "| :-: | :-: | :-: | :-: |\n",
    "| Scenario 1 | 20 | 50 | 200 |\n",
    "| Scenario 2 | 10 | 25 | 175 |\n",
    "| Scenario 3 | 5 | 10 | 150 |\n",
    "\n",
    "Despite these estimates, the airline will not sell more tickets than seats in each of the sections (hence no overbooking strategy).\n",
    "\n",
    "(a) Implement and solve the extensive form of the stochastic program for the optimal seat allocation aiming to maximize the airline profit."
   ]
  },
  {
   "cell_type": "code",
   "execution_count": 3,
   "id": "bca01a38",
   "metadata": {
    "ExecuteTime": {
     "end_time": "2022-09-30T21:49:07.527384Z",
     "start_time": "2022-09-30T21:49:07.409149Z"
    }
   },
   "outputs": [
    {
     "data": {
      "text/markdown": [
       "**Solver status:** *ok, optimal*"
      ],
      "text/plain": [
       "<IPython.core.display.Markdown object>"
      ]
     },
     "metadata": {},
     "output_type": "display_data"
    },
    {
     "data": {
      "text/markdown": [
       "**Solution:**"
      ],
      "text/plain": [
       "<IPython.core.display.Markdown object>"
      ]
     },
     "metadata": {},
     "output_type": "display_data"
    },
    {
     "data": {
      "text/markdown": [
       "(seat allocation) $x_F = 10$, $e_B = 20$, $e_E = 150$"
      ],
      "text/plain": [
       "<IPython.core.display.Markdown object>"
      ]
     },
     "metadata": {},
     "output_type": "display_data"
    },
    {
     "data": {
      "text/markdown": [
       "(equivalent seat allocation) $e_F = 20$, $e_B = 30$, $e_E = 150$"
      ],
      "text/plain": [
       "<IPython.core.display.Markdown object>"
      ]
     },
     "metadata": {},
     "output_type": "display_data"
    },
    {
     "data": {
      "text/markdown": [
       "(recourse sell action scenario 1) $s_F = 10$, $s_B = 20$, $s_E = 150$"
      ],
      "text/plain": [
       "<IPython.core.display.Markdown object>"
      ]
     },
     "metadata": {},
     "output_type": "display_data"
    },
    {
     "data": {
      "text/markdown": [
       "(recourse sell action scenario 2) $s_F = 10$, $s_B = 20$, $s_E = 150$"
      ],
      "text/plain": [
       "<IPython.core.display.Markdown object>"
      ]
     },
     "metadata": {},
     "output_type": "display_data"
    },
    {
     "data": {
      "text/markdown": [
       "(recourse sell action scenario 3) $s_F = 5$, $s_B = 10$, $s_E = 150$"
      ],
      "text/plain": [
       "<IPython.core.display.Markdown object>"
      ]
     },
     "metadata": {},
     "output_type": "display_data"
    },
    {
     "data": {
      "text/markdown": [
       "**Optimal objective value:** $208$ (in units of economy ticket price)"
      ],
      "text/plain": [
       "<IPython.core.display.Markdown object>"
      ]
     },
     "metadata": {},
     "output_type": "display_data"
    }
   ],
   "source": [
    "model = pyo.ConcreteModel()\n",
    "\n",
    "model.classes = pyo.Set(initialize=['F', 'B', 'E'])\n",
    "model.totalseats = 200\n",
    "model.pricefactor_F = 3.0\n",
    "model.pricefactor_B = 2.0\n",
    "model.seatfactor_F = 2.0 \n",
    "model.seatfactor_B = 1.5\n",
    "\n",
    "# first stage variables\n",
    "model.seats = pyo.Var(model.classes, within=pyo.NonNegativeIntegers) \n",
    "\n",
    "# first stage constraint\n",
    "model.equivalentseatsF = pyo.Expression(expr=model.seats['F']*model.seatfactor_F)\n",
    "model.equivalentseatsB = pyo.Expression(expr=model.seats['B']*model.seatfactor_B)\n",
    "model.equivalentseatsE = pyo.Expression(expr=model.seats['E'])\n",
    "model.planeseats = pyo.Constraint(expr=model.equivalentseatsF + model.equivalentseatsB + model.equivalentseatsE <= model.totalseats)\n",
    "\n",
    "model.scenarios = pyo.Set(initialize=[1,2,3])\n",
    "\n",
    "# second stage variables (labelled as 1,2,3 depending on the scenario)\n",
    "model.sell = pyo.Var(model.classes, model.scenarios, within=pyo.NonNegativeIntegers)\n",
    "\n",
    "# second stage constraints\n",
    "model.demandF_1 = pyo.Constraint(expr= model.sell['F',1] <= 20)\n",
    "model.limitF_1 = pyo.Constraint(expr= model.sell['F',1] <= model.seats['F'])\n",
    "model.demandF_2 = pyo.Constraint(expr= model.sell['F',2] <= 10)\n",
    "model.limitF_2 = pyo.Constraint(expr= model.sell['F',2] <= model.seats['F'])\n",
    "model.demandF_3 = pyo.Constraint(expr= model.sell['F',3] <= 5)\n",
    "model.limitF_3 = pyo.Constraint(expr= model.sell['F',3] <= model.seats['F'])\n",
    "model.demandB_1 = pyo.Constraint(expr= model.sell['B',1] <= 50)\n",
    "model.limitB_1 = pyo.Constraint(expr= model.sell['B',1] <= model.seats['B'])\n",
    "model.demandB_2 = pyo.Constraint(expr= model.sell['B',2] <= 25)\n",
    "model.limitB_2 = pyo.Constraint(expr= model.sell['B',2] <= model.seats['B'])\n",
    "model.demandB_3 = pyo.Constraint(expr= model.sell['B',3] <= 10)\n",
    "model.limitB_3 = pyo.Constraint(expr= model.sell['B',3] <= model.seats['B'])\n",
    "model.demandE_1 = pyo.Constraint(expr= model.sell['E',1] <= 200)\n",
    "model.limitE_1 = pyo.Constraint(expr= model.sell['E',1] <= model.seats['E'])\n",
    "model.demandE_2 = pyo.Constraint(expr= model.sell['E',2] <= 175)\n",
    "model.limitE_2 = pyo.Constraint(expr= model.sell['E',2] <= model.seats['E'])\n",
    "model.demandE_3 = pyo.Constraint(expr= model.sell['E',3] <= 150)\n",
    "model.limitE_3 = pyo.Constraint(expr= model.sell['E',3] <= model.seats['E'])\n",
    "\n",
    "def second_stage_profit(model):\n",
    "    total_1 = model.sell['F',1] * model.pricefactor_F + model.sell['B',1] * model.pricefactor_B + model.sell['E',1]\n",
    "    total_2 = model.sell['F',2] * model.pricefactor_F + model.sell['B',2] * model.pricefactor_B + model.sell['E',2]\n",
    "    total_3 = model.sell['F',3] * model.pricefactor_F + model.sell['B',3] * model.pricefactor_B + model.sell['E',3]\n",
    "    return (total_1 + total_2 + total_3)/3.0\n",
    "\n",
    "model.second_stage_profit = pyo.Expression(rule=second_stage_profit)\n",
    "\n",
    "def total_profit(model):\n",
    "    return model.second_stage_profit\n",
    "\n",
    "model.total_expected_profit = pyo.Objective(rule=total_profit, sense=pyo.maximize)\n",
    "\n",
    "result = cbc_solver.solve(model)\n",
    "display(Markdown(f\"**Solver status:** *{result.solver.status}, {result.solver.termination_condition}*\"))\n",
    "display(Markdown(f\"**Solution:**\"))\n",
    "display(Markdown(f\"(seat allocation) $x_F = {model.seats['F'].value:.0f}$, $e_B = {model.seats['B'].value:.0f}$, $e_E = {model.seats['E'].value:.0f}$\"))\n",
    "display(Markdown(f\"(equivalent seat allocation) $e_F = {model.equivalentseatsF.expr():.0f}$, $e_B = {model.equivalentseatsB.expr():.0f}$, $e_E = {model.equivalentseatsE.expr():.0f}$\"))\n",
    "display(Markdown(f\"(recourse sell action scenario 1) $s_F = {model.sell['F',1].value:.0f}$, $s_B = {model.sell['B',1].value:.0f}$, $s_E = {model.sell['E',1].value:.0f}$\"))\n",
    "display(Markdown(f\"(recourse sell action scenario 2) $s_F = {model.sell['F',2].value:.0f}$, $s_B = {model.sell['B',2].value:.0f}$, $s_E = {model.sell['E',2].value:.0f}$\"))\n",
    "display(Markdown(f\"(recourse sell action scenario 3) $s_F = {model.sell['F',3].value:.0f}$, $s_B = {model.sell['B',3].value:.0f}$, $s_E = {model.sell['E',3].value:.0f}$\"))\n",
    "display(Markdown(f\"**Optimal objective value:** ${model.total_expected_profit():.0f}$ (in units of economy ticket price)\"))"
   ]
  },
  {
   "cell_type": "markdown",
   "id": "801f475e",
   "metadata": {},
   "source": [
    "Assume now that the airline wishes a special guarantee for its clients enrolled in its loyalty program. In particular, it wants $98\\%$ probability to cover the demand of first-class seats and $95\\%$ probability to cover the demand of business class seats (by clients of the loyalty program). First-class passengers are covered if they get a first-class seat. Business class passengers are covered if they get either a business or a first-class seat (upgrade). Assume weekday demands of loyalty-program passengers are normally distributed, say $\\xi_F \\sim \\mathcal N(16,16)$ and $\\xi_B \\sim \\mathcal N(30,48)$ for first-class and business, respectively. Also assume that the demands for first-class and business class seats are independent.\n",
    "Let $x_1$ be the number of first-class seats and $x_2$ the number of business seats. The probabilistic constraints are simply\n",
    "\n",
    "$$\n",
    "\t\\mathbb P(x_1 \\geq \\xi_F ) \\geq 0.98, \\qquad \\text{ and } \\qquad \\mathbb P(x_1 +x_2 \\geq \\xi_F + \\xi_B ) \\geq 0.95.\n",
    "$$\n",
    "\n",
    "In Exercise 3 of the tutorial you rewrote these equivalently as linear constraints, specifically \n",
    "\n",
    "$$\n",
    "\t(x_1 - 16)/\\sqrt{16} \\geq 2.054 \\qquad \\text{ and } \\qquad (x_1 +x_2 - 46)/ \\sqrt{64} \\geq 1.645.\n",
    "$$\n",
    "\n",
    "(b) Add to your implementation of the extensive form the two equivalent deterministic constraints corresponding to the two chance constraints and find the new optimal solution meeting these additional constraints. How is it different from the previous one?"
   ]
  },
  {
   "cell_type": "code",
   "execution_count": 4,
   "id": "8e54813e",
   "metadata": {
    "ExecuteTime": {
     "end_time": "2022-09-30T21:49:07.622168Z",
     "start_time": "2022-09-30T21:49:07.531014Z"
    }
   },
   "outputs": [
    {
     "data": {
      "text/markdown": [
       "**Solver status:** *ok, optimal*"
      ],
      "text/plain": [
       "<IPython.core.display.Markdown object>"
      ]
     },
     "metadata": {},
     "output_type": "display_data"
    },
    {
     "data": {
      "text/markdown": [
       "**Solution:**"
      ],
      "text/plain": [
       "<IPython.core.display.Markdown object>"
      ]
     },
     "metadata": {},
     "output_type": "display_data"
    },
    {
     "data": {
      "text/markdown": [
       "(seat allocation) $x_F = 25$, $e_B = 35$, $e_E = 97$"
      ],
      "text/plain": [
       "<IPython.core.display.Markdown object>"
      ]
     },
     "metadata": {},
     "output_type": "display_data"
    },
    {
     "data": {
      "text/markdown": [
       "(equivalent seat allocation) $e_F = 50$, $e_B = 52$, $e_E = 97$"
      ],
      "text/plain": [
       "<IPython.core.display.Markdown object>"
      ]
     },
     "metadata": {},
     "output_type": "display_data"
    },
    {
     "data": {
      "text/markdown": [
       "(recourse sell action scenario 1) $s_F = 20$, $s_B = 35$, $s_E = 97$"
      ],
      "text/plain": [
       "<IPython.core.display.Markdown object>"
      ]
     },
     "metadata": {},
     "output_type": "display_data"
    },
    {
     "data": {
      "text/markdown": [
       "(recourse sell action scenario 2) $s_F = 10$, $s_B = 25$, $s_E = 97$"
      ],
      "text/plain": [
       "<IPython.core.display.Markdown object>"
      ]
     },
     "metadata": {},
     "output_type": "display_data"
    },
    {
     "data": {
      "text/markdown": [
       "(recourse sell action scenario 3) $s_F = 5$, $s_B = 10$, $s_E = 97$"
      ],
      "text/plain": [
       "<IPython.core.display.Markdown object>"
      ]
     },
     "metadata": {},
     "output_type": "display_data"
    },
    {
     "data": {
      "text/markdown": [
       "**Optimal objective value:** $179$ (in units of economy ticket price)"
      ],
      "text/plain": [
       "<IPython.core.display.Markdown object>"
      ]
     },
     "metadata": {},
     "output_type": "display_data"
    }
   ],
   "source": [
    "model = pyo.ConcreteModel()\n",
    "\n",
    "model.classes = pyo.Set(initialize=['F', 'B', 'E'])\n",
    "model.totalseats = 200\n",
    "model.pricefactor_F = 3.0\n",
    "model.pricefactor_B = 2.0\n",
    "model.seatfactor_F = 2.0 \n",
    "model.seatfactor_B = 1.5\n",
    "\n",
    "# first stage variables\n",
    "model.seats = pyo.Var(model.classes, within=pyo.NonNegativeIntegers) \n",
    "\n",
    "# first stage constraint\n",
    "model.equivalentseatsF = pyo.Expression(expr=model.seats['F']*model.seatfactor_F)\n",
    "model.equivalentseatsB = pyo.Expression(expr=model.seats['B']*model.seatfactor_B)\n",
    "model.equivalentseatsE = pyo.Expression(expr=model.seats['E'])\n",
    "model.planeseats = pyo.Constraint(expr=model.equivalentseatsF + model.equivalentseatsB + model.equivalentseatsE <= model.totalseats)\n",
    "model.loyaltyF = pyo.Constraint(expr = model.seats['F'] >= 24.22) #loyalty constraint 1\n",
    "model.loyaltyFB = pyo.Constraint(expr = model.seats['F']+model.seats['B'] >= 59.16)  #loyalty constraint 2\n",
    "\n",
    "model.scenarios = pyo.Set(initialize=[1,2,3])\n",
    "\n",
    "# second stage variables (labelled as 1,2,3 depending on the scenario)\n",
    "model.sell = pyo.Var(model.classes, model.scenarios, within=pyo.NonNegativeIntegers)\n",
    "\n",
    "# second stage constraints\n",
    "model.demandF_1 = pyo.Constraint(expr= model.sell['F',1] <= 20)\n",
    "model.limitF_1 = pyo.Constraint(expr= model.sell['F',1] <= model.seats['F'])\n",
    "model.demandF_2 = pyo.Constraint(expr= model.sell['F',2] <= 10)\n",
    "model.limitF_2 = pyo.Constraint(expr= model.sell['F',2] <= model.seats['F'])\n",
    "model.demandF_3 = pyo.Constraint(expr= model.sell['F',3] <= 5)\n",
    "model.limitF_3 = pyo.Constraint(expr= model.sell['F',3] <= model.seats['F'])\n",
    "model.demandB_1 = pyo.Constraint(expr= model.sell['B',1] <= 50)\n",
    "model.limitB_1 = pyo.Constraint(expr= model.sell['B',1] <= model.seats['B'])\n",
    "model.demandB_2 = pyo.Constraint(expr= model.sell['B',2] <= 25)\n",
    "model.limitB_2 = pyo.Constraint(expr= model.sell['B',2] <= model.seats['B'])\n",
    "model.demandB_3 = pyo.Constraint(expr= model.sell['B',3] <= 10)\n",
    "model.limitB_3 = pyo.Constraint(expr= model.sell['B',3] <= model.seats['B'])\n",
    "model.demandE_1 = pyo.Constraint(expr= model.sell['E',1] <= 200)\n",
    "model.limitE_1 = pyo.Constraint(expr= model.sell['E',1] <= model.seats['E'])\n",
    "model.demandE_2 = pyo.Constraint(expr= model.sell['E',2] <= 175)\n",
    "model.limitE_2 = pyo.Constraint(expr= model.sell['E',2] <= model.seats['E'])\n",
    "model.demandE_3 = pyo.Constraint(expr= model.sell['E',3] <= 150)\n",
    "model.limitE_3 = pyo.Constraint(expr= model.sell['E',3] <= model.seats['E'])\n",
    "\n",
    "def second_stage_profit(model):\n",
    "    total_1 = model.sell['F',1] * model.pricefactor_F + model.sell['B',1] * model.pricefactor_B + model.sell['E',1]\n",
    "    total_2 = model.sell['F',2] * model.pricefactor_F + model.sell['B',2] * model.pricefactor_B + model.sell['E',2]\n",
    "    total_3 = model.sell['F',3] * model.pricefactor_F + model.sell['B',3] * model.pricefactor_B + model.sell['E',3]\n",
    "    return (total_1 + total_2 + total_3)/3.0\n",
    "\n",
    "model.second_stage_profit = pyo.Expression(rule=second_stage_profit)\n",
    "\n",
    "def total_profit(model):\n",
    "    return model.second_stage_profit\n",
    "\n",
    "model.total_expected_profit = pyo.Objective(rule=total_profit, sense=pyo.maximize)\n",
    "\n",
    "result = cbc_solver.solve(model)\n",
    "display(Markdown(f\"**Solver status:** *{result.solver.status}, {result.solver.termination_condition}*\"))\n",
    "display(Markdown(f\"**Solution:**\"))\n",
    "display(Markdown(f\"(seat allocation) $x_F = {model.seats['F'].value:.0f}$, $e_B = {model.seats['B'].value:.0f}$, $e_E = {model.seats['E'].value:.0f}$\"))\n",
    "display(Markdown(f\"(equivalent seat allocation) $e_F = {model.equivalentseatsF.expr():.0f}$, $e_B = {model.equivalentseatsB.expr():.0f}$, $e_E = {model.equivalentseatsE.expr():.0f}$\"))\n",
    "display(Markdown(f\"(recourse sell action scenario 1) $s_F = {model.sell['F',1].value:.0f}$, $s_B = {model.sell['B',1].value:.0f}$, $s_E = {model.sell['E',1].value:.0f}$\"))\n",
    "display(Markdown(f\"(recourse sell action scenario 2) $s_F = {model.sell['F',2].value:.0f}$, $s_B = {model.sell['B',2].value:.0f}$, $s_E = {model.sell['E',2].value:.0f}$\"))\n",
    "display(Markdown(f\"(recourse sell action scenario 3) $s_F = {model.sell['F',3].value:.0f}$, $s_B = {model.sell['B',3].value:.0f}$, $s_E = {model.sell['E',3].value:.0f}$\"))\n",
    "display(Markdown(f\"**Optimal objective value:** ${model.total_expected_profit():.0f}$ (in units of economy ticket price)\"))"
   ]
  },
  {
   "cell_type": "markdown",
   "id": "e3e8e43c",
   "metadata": {},
   "source": [
    "Assume now that the ticket demand for the three categories is captured by a $3$-dimensional multivariate normal with mean $\\mu=(16,30,180)$ and covariance matrix \n",
    "$$\n",
    "\\Sigma= \\left(\n",
    "\\begin{array}{ccc}\n",
    " 3.5 & 3.7 & 2.5 \\\\\n",
    " 3.7 & 6.5 & 7.5 \\\\\n",
    " 2.5 & 7.5 & 25.2 \\\\\n",
    "\\end{array}\n",
    "\\right).\n",
    "$$\n",
    "\n",
    "(c) Solve approximately the airline seat allocation problem (with the loyalty constraints) using the Sample Average Approximation method. More specifically, sample $N=1000$ points from the multivariate normal distribution and solve the extensive form for the stochastic LP resulting from those $N=1000$ scenarios."
   ]
  },
  {
   "cell_type": "code",
   "execution_count": 5,
   "id": "a1275592",
   "metadata": {
    "ExecuteTime": {
     "end_time": "2022-09-30T21:49:08.708126Z",
     "start_time": "2022-09-30T21:49:07.626836Z"
    }
   },
   "outputs": [
    {
     "data": {
      "text/markdown": [
       "**Solver status:** *ok, optimal*"
      ],
      "text/plain": [
       "<IPython.core.display.Markdown object>"
      ]
     },
     "metadata": {},
     "output_type": "display_data"
    },
    {
     "data": {
      "text/markdown": [
       "**Solution:**"
      ],
      "text/plain": [
       "<IPython.core.display.Markdown object>"
      ]
     },
     "metadata": {},
     "output_type": "display_data"
    },
    {
     "data": {
      "text/markdown": [
       "(seat allocation) $x_F = 25$, $e_B = 35$, $e_E = 97$"
      ],
      "text/plain": [
       "<IPython.core.display.Markdown object>"
      ]
     },
     "metadata": {},
     "output_type": "display_data"
    },
    {
     "data": {
      "text/markdown": [
       "(equivalent seat allocation) $e_F = 50$, $e_B = 52$, $e_E = 97$"
      ],
      "text/plain": [
       "<IPython.core.display.Markdown object>"
      ]
     },
     "metadata": {},
     "output_type": "display_data"
    },
    {
     "data": {
      "text/markdown": [
       "**Optimal objective value:** $202$ (in units of economy ticket price)"
      ],
      "text/plain": [
       "<IPython.core.display.Markdown object>"
      ]
     },
     "metadata": {},
     "output_type": "display_data"
    }
   ],
   "source": [
    "def AirlineSAA(N, sample):\n",
    "\n",
    "    model = pyo.ConcreteModel()\n",
    "\n",
    "    def indices_rule(model):\n",
    "        return range(N)\n",
    "\n",
    "    model.scenarios = pyo.Set(initialize=indices_rule)\n",
    "    model.demandF = pyo.Param(model.scenarios, initialize=dict(enumerate(sample[:,0])))\n",
    "    model.demandB = pyo.Param(model.scenarios, initialize=dict(enumerate(sample[:,1])))\n",
    "    model.demandE = pyo.Param(model.scenarios, initialize=dict(enumerate(sample[:,2])))\n",
    "\n",
    "    model.classes = pyo.Set(initialize=['F', 'B', 'E'])\n",
    "    model.totalseats = 200\n",
    "    model.pricefactor_F = 3.0\n",
    "    model.pricefactor_B = 2.0\n",
    "    model.seatfactor_F = 2.0 \n",
    "    model.seatfactor_B = 1.5\n",
    "\n",
    "    # first stage variables\n",
    "    model.seats = pyo.Var(model.classes, within=pyo.NonNegativeIntegers) \n",
    "\n",
    "    # first stage constraint\n",
    "    model.equivalentseatsF = pyo.Expression(expr=model.seats['F']*model.seatfactor_F)\n",
    "    model.equivalentseatsB = pyo.Expression(expr=model.seats['B']*model.seatfactor_B)\n",
    "    model.equivalentseatsE = pyo.Expression(expr=model.seats['E'])\n",
    "    model.planeseats = pyo.Constraint(expr=model.equivalentseatsF + model.equivalentseatsB + model.equivalentseatsE <= model.totalseats)\n",
    "    model.loyaltyF = pyo.Constraint(expr = model.seats['F'] >= 24.22)\n",
    "    model.loyaltyFB = pyo.Constraint(expr = model.seats['F']+model.seats['B'] >= 59.16)\n",
    "\n",
    "    # second stage variables\n",
    "    model.sell = pyo.Var(model.classes, model.scenarios, within=pyo.NonNegativeIntegers)\n",
    "\n",
    "    # second stage constraints\n",
    "    model.demandFlim = pyo.ConstraintList()\n",
    "    model.limitF = pyo.ConstraintList()\n",
    "    model.demandBlim = pyo.ConstraintList()\n",
    "    model.limitB = pyo.ConstraintList()\n",
    "    model.demandElim = pyo.ConstraintList()\n",
    "    model.limitE = pyo.ConstraintList()\n",
    "    for i in model.scenarios:\n",
    "        model.demandFlim.add(expr= model.sell['F',i] <= model.demandF[i])\n",
    "        model.limitF.add(expr= model.sell['F',i] <= model.seats['F'])\n",
    "        model.demandBlim.add(expr= model.sell['B',i] <= model.demandB[i])\n",
    "        model.limitB.add(expr= model.sell['B',i] <= model.seats['B'])\n",
    "        model.demandElim.add(expr= model.sell['E',i] <= model.demandE[i])\n",
    "        model.limitE.add(expr= model.sell['E',i] <= model.seats['E'])\n",
    "\n",
    "    def second_stage_profit(model):\n",
    "        return sum([model.sell['F',i] * model.pricefactor_F + model.sell['B',i] * model.pricefactor_B + model.sell['E',i] for i in model.scenarios])/float(N)\n",
    "\n",
    "    model.second_stage_profit = pyo.Expression(rule=second_stage_profit)\n",
    "\n",
    "    def total_profit(model):\n",
    "        return model.second_stage_profit\n",
    "\n",
    "    model.total_expected_profit = pyo.Objective(rule=total_profit, sense=pyo.maximize)\n",
    "\n",
    "    result = cbc_solver.solve(model)\n",
    "    display(Markdown(f\"**Solver status:** *{result.solver.status}, {result.solver.termination_condition}*\"))\n",
    "    display(Markdown(f\"**Solution:**\"))\n",
    "    display(Markdown(f\"(seat allocation) $x_F = {model.seats['F'].value:.0f}$, $e_B = {model.seats['B'].value:.0f}$, $e_E = {model.seats['E'].value:.0f}$\"))\n",
    "    display(Markdown(f\"(equivalent seat allocation) $e_F = {model.equivalentseatsF.expr():.0f}$, $e_B = {model.equivalentseatsB.expr():.0f}$, $e_E = {model.equivalentseatsE.expr():.0f}$\"))\n",
    "    display(Markdown(f\"**Optimal objective value:** ${model.total_expected_profit():.0f}$ (in units of economy ticket price)\"))\n",
    "\n",
    "N = 1000\n",
    "np.random.seed(1)\n",
    "samples = np.random.multivariate_normal([16, 30, 180],[[3.5, 3.7, 2.5],[3.7, 6.5, 7.5],[2.5, 7.5, 25.2]], N)\n",
    "AirlineSAA(N, samples)"
   ]
  }
 ],
 "metadata": {
  "kernelspec": {
   "display_name": "Python 3 (ipykernel)",
   "language": "python",
   "name": "python3"
  },
  "language_info": {
   "codemirror_mode": {
    "name": "ipython",
    "version": 3
   },
   "file_extension": ".py",
   "mimetype": "text/x-python",
   "name": "python",
   "nbconvert_exporter": "python",
   "pygments_lexer": "ipython3",
   "version": "3.9.7"
  },
  "varInspector": {
   "cols": {
    "lenName": 16,
    "lenType": 16,
    "lenVar": 40
   },
   "kernels_config": {
    "python": {
     "delete_cmd_postfix": "",
     "delete_cmd_prefix": "del ",
     "library": "var_list.py",
     "varRefreshCmd": "print(var_dic_list())"
    },
    "r": {
     "delete_cmd_postfix": ") ",
     "delete_cmd_prefix": "rm(",
     "library": "var_list.r",
     "varRefreshCmd": "cat(var_dic_list()) "
    }
   },
   "types_to_exclude": [
    "module",
    "function",
    "builtin_function_or_method",
    "instance",
    "_Feature"
   ],
   "window_display": false
  }
 },
 "nbformat": 4,
 "nbformat_minor": 5
}