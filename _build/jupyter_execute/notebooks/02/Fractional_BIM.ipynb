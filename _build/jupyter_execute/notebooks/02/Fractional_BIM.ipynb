{
 "cells": [
  {
   "cell_type": "code",
   "execution_count": null,
   "metadata": {
    "colab": {
     "base_uri": "https://localhost:8080/"
    },
    "id": "5ssUqKOaPVaE",
    "outputId": "38c1005a-39f4-4307-e305-19a4c9819396"
   },
   "outputs": [
    {
     "name": "stdout",
     "output_type": "stream",
     "text": [
      "\u001b[K     |████████████████████████████████| 9.2 MB 4.0 MB/s \n",
      "\u001b[K     |████████████████████████████████| 49 kB 3.4 MB/s \n",
      "\u001b[?25h"
     ]
    }
   ],
   "source": [
    "!pip install -q pyomo"
   ]
  },
  {
   "cell_type": "code",
   "execution_count": null,
   "metadata": {
    "colab": {
     "base_uri": "https://localhost:8080/"
    },
    "id": "MMz8ySCNcOwd",
    "outputId": "924eaecd-6b40-435e-fcb1-ece27edc750c"
   },
   "outputs": [
    {
     "name": "stdout",
     "output_type": "stream",
     "text": [
      "Reading package lists... Done\n",
      "Building dependency tree       \n",
      "Reading state information... Done\n",
      "The following additional packages will be installed:\n",
      "  libamd2 libbtf1 libcamd2 libccolamd2 libcholmod3 libcolamd2 libcxsparse3\n",
      "  libglpk40 libgmp-dev libgmpxx4ldbl libgraphblas1 libklu1 libldl2 libmetis5\n",
      "  libpython3.8 libpython3.8-dev libpython3.8-minimal libpython3.8-stdlib\n",
      "  librbio2 libspqr2 libsuitesparse-dev libsuitesparseconfig5 libumfpack5\n",
      "  python3.8 python3.8-minimal\n",
      "Suggested packages:\n",
      "  libiodbc2-dev gmp-doc libgmp10-doc libmpfr-dev python3.8-venv python3.8-doc\n",
      "  binfmt-support\n",
      "The following NEW packages will be installed:\n",
      "  libamd2 libbtf1 libcamd2 libccolamd2 libcholmod3 libcolamd2 libcxsparse3\n",
      "  libglpk-dev libglpk40 libgmp-dev libgmp3-dev libgmpxx4ldbl libgraphblas1\n",
      "  libklu1 libldl2 libmetis5 libpython3.8 libpython3.8-dev libpython3.8-minimal\n",
      "  libpython3.8-stdlib librbio2 libspqr2 libsuitesparse-dev\n",
      "  libsuitesparseconfig5 libumfpack5 python3.8 python3.8-dev python3.8-minimal\n",
      "0 upgraded, 28 newly installed, 0 to remove and 37 not upgraded.\n",
      "Need to get 15.0 MB of archives.\n",
      "After this operation, 69.4 MB of additional disk space will be used.\n",
      "Get:1 http://archive.ubuntu.com/ubuntu bionic/main amd64 libsuitesparseconfig5 amd64 1:5.1.2-2 [9,044 B]\n",
      "Get:2 http://archive.ubuntu.com/ubuntu bionic/main amd64 libamd2 amd64 1:5.1.2-2 [19.5 kB]\n",
      "Get:3 http://archive.ubuntu.com/ubuntu bionic/main amd64 libbtf1 amd64 1:5.1.2-2 [10.6 kB]\n",
      "Get:4 http://archive.ubuntu.com/ubuntu bionic/main amd64 libcamd2 amd64 1:5.1.2-2 [20.9 kB]\n",
      "Get:5 http://archive.ubuntu.com/ubuntu bionic/main amd64 libccolamd2 amd64 1:5.1.2-2 [21.7 kB]\n",
      "Get:6 http://archive.ubuntu.com/ubuntu bionic/main amd64 libcolamd2 amd64 1:5.1.2-2 [16.2 kB]\n",
      "Get:7 http://archive.ubuntu.com/ubuntu bionic/main amd64 libmetis5 amd64 5.1.0.dfsg-5 [169 kB]\n",
      "Get:8 http://archive.ubuntu.com/ubuntu bionic/main amd64 libcholmod3 amd64 1:5.1.2-2 [300 kB]\n",
      "Err:9 http://ppa.launchpad.net/deadsnakes/ppa/ubuntu bionic/main amd64 libpython3.8-minimal amd64 3.8.12-1+bionic1\n",
      "  404  Not Found [IP: 91.189.95.85 80]\n",
      "Get:10 http://archive.ubuntu.com/ubuntu bionic/main amd64 libcxsparse3 amd64 1:5.1.2-2 [63.9 kB]\n",
      "Err:11 http://ppa.launchpad.net/deadsnakes/ppa/ubuntu bionic/main amd64 python3.8-minimal amd64 3.8.12-1+bionic1\n",
      "  404  Not Found [IP: 91.189.95.85 80]\n",
      "Get:12 http://archive.ubuntu.com/ubuntu bionic/universe amd64 libglpk40 amd64 4.65-1 [378 kB]\n",
      "Err:13 http://ppa.launchpad.net/deadsnakes/ppa/ubuntu bionic/main amd64 libpython3.8-stdlib amd64 3.8.12-1+bionic1\n",
      "  404  Not Found [IP: 91.189.95.85 80]\n",
      "Err:14 http://ppa.launchpad.net/deadsnakes/ppa/ubuntu bionic/main amd64 libpython3.8 amd64 3.8.12-1+bionic1\n",
      "  404  Not Found [IP: 91.189.95.85 80]\n",
      "Err:15 http://ppa.launchpad.net/deadsnakes/ppa/ubuntu bionic/main amd64 libpython3.8-dev amd64 3.8.12-1+bionic1\n",
      "  404  Not Found [IP: 91.189.95.85 80]\n",
      "Err:16 http://ppa.launchpad.net/deadsnakes/ppa/ubuntu bionic/main amd64 python3.8 amd64 3.8.12-1+bionic1\n",
      "  404  Not Found [IP: 91.189.95.85 80]\n",
      "Err:17 http://ppa.launchpad.net/deadsnakes/ppa/ubuntu bionic/main amd64 python3.8-dev amd64 3.8.12-1+bionic1\n",
      "  404  Not Found [IP: 91.189.95.85 80]\n",
      "Get:18 http://archive.ubuntu.com/ubuntu bionic/main amd64 libgmpxx4ldbl amd64 2:6.1.2+dfsg-2 [8,964 B]\n",
      "Get:19 http://archive.ubuntu.com/ubuntu bionic/main amd64 libgmp-dev amd64 2:6.1.2+dfsg-2 [316 kB]\n",
      "Get:20 http://archive.ubuntu.com/ubuntu bionic/main amd64 libgraphblas1 amd64 1:5.1.2-2 [384 kB]\n",
      "Get:21 http://archive.ubuntu.com/ubuntu bionic/main amd64 libklu1 amd64 1:5.1.2-2 [69.3 kB]\n",
      "Get:22 http://archive.ubuntu.com/ubuntu bionic/main amd64 libldl2 amd64 1:5.1.2-2 [10.3 kB]\n",
      "Get:23 http://archive.ubuntu.com/ubuntu bionic/main amd64 libumfpack5 amd64 1:5.1.2-2 [229 kB]\n",
      "Get:24 http://archive.ubuntu.com/ubuntu bionic/main amd64 librbio2 amd64 1:5.1.2-2 [24.0 kB]\n",
      "Get:25 http://archive.ubuntu.com/ubuntu bionic/main amd64 libspqr2 amd64 1:5.1.2-2 [64.2 kB]\n",
      "Get:26 http://archive.ubuntu.com/ubuntu bionic/main amd64 libsuitesparse-dev amd64 1:5.1.2-2 [1,235 kB]\n",
      "Get:27 http://archive.ubuntu.com/ubuntu bionic/universe amd64 libglpk-dev amd64 4.65-1 [445 kB]\n",
      "Get:28 http://archive.ubuntu.com/ubuntu bionic/main amd64 libgmp3-dev amd64 2:6.1.2+dfsg-2 [1,996 B]\n",
      "Fetched 3,797 kB in 11s (361 kB/s)\n",
      "E: Failed to fetch http://ppa.launchpad.net/deadsnakes/ppa/ubuntu/pool/main/p/python3.8/libpython3.8-minimal_3.8.12-1+bionic1_amd64.deb  404  Not Found [IP: 91.189.95.85 80]\n",
      "E: Failed to fetch http://ppa.launchpad.net/deadsnakes/ppa/ubuntu/pool/main/p/python3.8/python3.8-minimal_3.8.12-1+bionic1_amd64.deb  404  Not Found [IP: 91.189.95.85 80]\n",
      "E: Failed to fetch http://ppa.launchpad.net/deadsnakes/ppa/ubuntu/pool/main/p/python3.8/libpython3.8-stdlib_3.8.12-1+bionic1_amd64.deb  404  Not Found [IP: 91.189.95.85 80]\n",
      "E: Failed to fetch http://ppa.launchpad.net/deadsnakes/ppa/ubuntu/pool/main/p/python3.8/libpython3.8_3.8.12-1+bionic1_amd64.deb  404  Not Found [IP: 91.189.95.85 80]\n",
      "E: Failed to fetch http://ppa.launchpad.net/deadsnakes/ppa/ubuntu/pool/main/p/python3.8/libpython3.8-dev_3.8.12-1+bionic1_amd64.deb  404  Not Found [IP: 91.189.95.85 80]\n",
      "E: Failed to fetch http://ppa.launchpad.net/deadsnakes/ppa/ubuntu/pool/main/p/python3.8/python3.8_3.8.12-1+bionic1_amd64.deb  404  Not Found [IP: 91.189.95.85 80]\n",
      "E: Failed to fetch http://ppa.launchpad.net/deadsnakes/ppa/ubuntu/pool/main/p/python3.8/python3.8-dev_3.8.12-1+bionic1_amd64.deb  404  Not Found [IP: 91.189.95.85 80]\n",
      "E: Unable to fetch some archives, maybe run apt-get update or try with --fix-missing?\n",
      "Selecting previously unselected package libsuitesparseconfig5:amd64.\n",
      "(Reading database ... 155229 files and directories currently installed.)\n",
      "Preparing to unpack .../libsuitesparseconfig5_1%3a5.1.2-2_amd64.deb ...\n",
      "Unpacking libsuitesparseconfig5:amd64 (1:5.1.2-2) ...\n",
      "Selecting previously unselected package libamd2:amd64.\n",
      "Preparing to unpack .../libamd2_1%3a5.1.2-2_amd64.deb ...\n",
      "Unpacking libamd2:amd64 (1:5.1.2-2) ...\n",
      "Selecting previously unselected package libcolamd2:amd64.\n",
      "Preparing to unpack .../libcolamd2_1%3a5.1.2-2_amd64.deb ...\n",
      "Unpacking libcolamd2:amd64 (1:5.1.2-2) ...\n",
      "Selecting previously unselected package libglpk40:amd64.\n",
      "Preparing to unpack .../libglpk40_4.65-1_amd64.deb ...\n",
      "Unpacking libglpk40:amd64 (4.65-1) ...\n",
      "Selecting previously unselected package glpk-utils.\n",
      "Preparing to unpack .../glpk-utils_4.65-1_amd64.deb ...\n",
      "Unpacking glpk-utils (4.65-1) ...\n",
      "Setting up libsuitesparseconfig5:amd64 (1:5.1.2-2) ...\n",
      "Setting up libcolamd2:amd64 (1:5.1.2-2) ...\n",
      "Setting up libamd2:amd64 (1:5.1.2-2) ...\n",
      "Setting up libglpk40:amd64 (4.65-1) ...\n",
      "Setting up glpk-utils (4.65-1) ...\n",
      "Processing triggers for libc-bin (2.27-3ubuntu1.3) ...\n",
      "/sbin/ldconfig.real: /usr/local/lib/python3.7/dist-packages/ideep4py/lib/libmkldnn.so.0 is not a symbolic link\n",
      "\n",
      "Processing triggers for man-db (2.8.3-2ubuntu0.1) ...\n"
     ]
    }
   ],
   "source": [
    "# we add glpk now\n",
    "!sudo apt install libglpk-dev python3.8-dev libgmp3-dev\n",
    "!apt-get install -y -qq glpk-utils"
   ]
  },
  {
   "cell_type": "code",
   "execution_count": null,
   "metadata": {
    "id": "SKIqjt5CPSJf"
   },
   "outputs": [],
   "source": [
    "import pyomo.environ as pyo"
   ]
  },
  {
   "cell_type": "code",
   "execution_count": null,
   "metadata": {
    "id": "m33AGCU_PSJw"
   },
   "outputs": [],
   "source": [
    "def BIM_with_revenues_minus_costs():\n",
    "    model    = pyo.ConcreteModel('BIM')\n",
    "    \n",
    "    model.x1 = pyo.Var(within=pyo.NonNegativeReals)\n",
    "    model.x2 = pyo.Var(within=pyo.NonNegativeReals)\n",
    "\n",
    "    model.revenue       = pyo.Expression( expr = 12*model.x1  +   9*model.x2 )\n",
    "    model.variable_cost = pyo.Expression( expr = 7/6*model.x1 + 5/6*model.x2 )\n",
    "    model.fixed_cost    = 100\n",
    "\n",
    "    model.profit    = pyo.Objective( sense= pyo.maximize\n",
    "      , expr = model.revenue - model.variable_cost - model.fixed_cost )\n",
    "\n",
    "    model.silicon   = pyo.Constraint(expr =    model.x1              <= 1000)\n",
    "    model.germanium = pyo.Constraint(expr =                 model.x2 <= 1500)\n",
    "    model.plastic   = pyo.Constraint(expr =    model.x1 +   model.x2 <= 1750)\n",
    "    model.copper    = pyo.Constraint(expr =  4*model.x1 + 2*model.x2 <= 4800)\n",
    "\n",
    "    return model"
   ]
  },
  {
   "cell_type": "code",
   "execution_count": null,
   "metadata": {
    "id": "VIsJHE5oXTKw"
   },
   "outputs": [],
   "source": [
    "def BIM_with_revenues_over_costs():\n",
    "    model    = pyo.ConcreteModel('BIM')\n",
    "    \n",
    "    model.y1 = pyo.Var(within=pyo.NonNegativeReals)\n",
    "    model.y2 = pyo.Var(within=pyo.NonNegativeReals)\n",
    "    model.t  = pyo.Var(within=pyo.NonNegativeReals)\n",
    "\n",
    "    model.revenue       = pyo.Expression( expr = 12*model.y1  +   9*model.y2 )\n",
    "    model.variable_cost = pyo.Expression( expr = 7/6*model.y1 + 5/6*model.y2 )\n",
    "    model.fixed_cost    = 100\n",
    "\n",
    "    model.profit    = pyo.Objective( sense= pyo.maximize\n",
    "                                   , expr = model.revenue)\n",
    "\n",
    "    model.silicon   = pyo.Constraint(expr =    model.y1              <= 1000*model.t)\n",
    "    model.germanium = pyo.Constraint(expr =                 model.y2 <= 1500*model.t)\n",
    "    model.plastic   = pyo.Constraint(expr =    model.y1 +   model.y2 <= 1750*model.t)\n",
    "    model.copper    = pyo.Constraint(expr =  4*model.y1 + 2*model.y2 <= 4800*model.t)\n",
    "    model.frac      = pyo.Constraint(expr = model.variable_cost+model.fixed_cost*model.t == 1 )\n",
    "    \n",
    "    return model"
   ]
  },
  {
   "cell_type": "code",
   "execution_count": null,
   "metadata": {
    "colab": {
     "base_uri": "https://localhost:8080/"
    },
    "id": "l5emuDb-2xFf",
    "outputId": "6909d47d-77be-4a3a-8b76-498362de06ea"
   },
   "outputs": [
    {
     "name": "stdout",
     "output_type": "stream",
     "text": [
      "X=(650.0,1100.0) value=15925.000 revenue=17700.000 cost=1775.000\n"
     ]
    }
   ],
   "source": [
    "BIM_linear = BIM_with_revenues_minus_costs()\n",
    "results = pyo.SolverFactory('glpk').solve(BIM_linear)\n",
    "\n",
    "print('X=({:.1f},{:.1f}) value={:.3f} revenue={:.3f} cost={:.3f}'.format(\n",
    "    pyo.value(BIM_linear.x1),\n",
    "    pyo.value(BIM_linear.x2),\n",
    "    pyo.value(BIM_linear.profit),\n",
    "    pyo.value(BIM_linear.revenue),\n",
    "    pyo.value(BIM_linear.variable_cost)+pyo.value(BIM_linear.fixed_cost)))"
   ]
  },
  {
   "cell_type": "code",
   "execution_count": null,
   "metadata": {
    "colab": {
     "base_uri": "https://localhost:8080/"
    },
    "id": "FNqp7mptZDXl",
    "outputId": "b8b4f309-c735-4c44-9e38-4eed88357d7c"
   },
   "outputs": [
    {
     "name": "stdout",
     "output_type": "stream",
     "text": [
      "X=(250.0,1500.0) value=10.051 revenue=16500.000 cost=1641.667\n"
     ]
    }
   ],
   "source": [
    "BIM_fractional = BIM_with_revenues_over_costs()\n",
    "results = pyo.SolverFactory('glpk').solve(BIM_fractional)\n",
    "t = pyo.value(BIM_fractional.t)\n",
    "print('X=({:.1f},{:.1f}) value={:.3f} revenue={:.3f} cost={:.3f}'.format(\n",
    "    pyo.value(BIM_fractional.y1/t),\n",
    "    pyo.value(BIM_fractional.y2/t),\n",
    "    pyo.value(BIM_fractional.profit/(BIM_fractional.variable_cost+BIM_fractional.fixed_cost*t)),\n",
    "    pyo.value(BIM_fractional.revenue/t),\n",
    "    pyo.value(BIM_fractional.variable_cost/t)+pyo.value(BIM_fractional.fixed_cost)))"
   ]
  }
 ],
 "metadata": {
  "colab": {
   "collapsed_sections": [],
   "name": "Fractional BIM.ipynb",
   "provenance": []
  },
  "kernelspec": {
   "display_name": "Python 3",
   "language": "python",
   "name": "python3"
  },
  "language_info": {
   "codemirror_mode": {
    "name": "ipython",
    "version": 3
   },
   "file_extension": ".py",
   "mimetype": "text/x-python",
   "name": "python",
   "nbconvert_exporter": "python",
   "pygments_lexer": "ipython3",
   "version": "3.8.8"
  }
 },
 "nbformat": 4,
 "nbformat_minor": 0
}