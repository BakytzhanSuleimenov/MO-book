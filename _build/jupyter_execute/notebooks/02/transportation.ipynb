{
 "cells": [
  {
   "cell_type": "markdown",
   "metadata": {
    "id": "29pdp1JR8j9Q"
   },
   "source": [
    "# Transportation and Allocation Models\n",
    "\n",
    "This notebook presents a transportation model to optimally allocate the delivery of a commodity from multiple sources to multiple destinations. The model invites a discussion of the pitfalls in optimizing a global objective for customers who may have an uneven share of the resulting benefits, then through model refinement arrives at a group cost-sharing plan to delivery costs.\n",
    "\n",
    "Didactically, notebook presents techniques for Pyomo modeling and reporting including: \n",
    "\n",
    "* `pyo.Expression` decorator\n",
    "* Accessing the duals (i.e., shadow prices)\n",
    "* Methods for reporting the solution and duals.\n",
    "    * Pyomo `.display()` method for Pyomo objects\n",
    "    * Manually formatted reports\n",
    "    * Pandas \n",
    "    * Graphviz for display of results as a directed graph.\n",
    "   "
   ]
  },
  {
   "cell_type": "code",
   "execution_count": 1,
   "metadata": {
    "colab": {
     "base_uri": "https://localhost:8080/"
    },
    "executionInfo": {
     "elapsed": 37997,
     "status": "ok",
     "timestamp": 1648245802654,
     "user": {
      "displayName": "Jeffrey Kantor",
      "photoUrl": "https://lh3.googleusercontent.com/a-/AOh14Gg_n8V7bVINy02QRuRgOoMo11Ri7NKU3OUKdC1bkQ=s64",
      "userId": "09038942003589296665"
     },
     "user_tz": 240
    },
    "id": "EeD3Cxq-z0N8",
    "outputId": "1d16549e-6de8-418b-e89a-2481493c27da"
   },
   "outputs": [],
   "source": [
    "import sys\n",
    "if \"google.colab\" in sys.modules:\n",
    "    !wget -N -q https://raw.githubusercontent.com/jckantor/MO-book/main/tools/install_on_colab.py \n",
    "    %run install_on_colab.py"
   ]
  },
  {
   "cell_type": "markdown",
   "metadata": {
    "id": "64wBrRBAGkvN",
    "tags": []
   },
   "source": [
    "## Problem: Distributing Gasoline to Franchise Operators\n",
    "\n",
    "YaYa Gas-n-Grub is franchisor and operator for a network of regional convenience stores selling gasoline and convenience items in the United States. Each store is individually owned by a YaYa Gas-n-Grub franchisee who pays feea to the franchisor for services.\n",
    "\n",
    "Gasoline is delivered by truck from regional distribution terminals. Each delivery truck carries 8,000 gallons delivered at a fixed charge of 700 dollars per delivery, or 8.75 cents per gallon. The franchise owners are eager to reduce delivery costs to boost profits.\n",
    "\n",
    "YaYa Gas-n-Grub decides to accept proposals from other distribution terminals, \"A\" and \"B\", to supply the franchise operators. Rather than a fixed fee per delivery, they proposed pricing based on location. But they already have existing customers, \"A\" and \"B\" can only provide a limited amount of gasoline to new customers totaling 100,000 and 150,000 gallons respectively. The only difference between the new suppliers and the current supplier is the delivery charge.\n",
    "\n",
    "The following chart shows the pricing of gasoline delivery in cents/gallon.\n",
    "\n",
    "| Store Owner | Demand |  Terminal A | Terminal B | Current Supplier |\n",
    "| :-------- | ------------: | ---------: | -------: | --------: |\n",
    "| Alice | 30,000 | 8.3 | 10.2 | 8.75 |\n",
    "| Badri  | 40,000 | 8.1 | 12.0 | 8.75 |\n",
    "| Cara  | 50,000 | 8.3 | - | 8.75 |\n",
    "| Dan   | 80,000 | 9.3 | 8.0 |  8.75 |\n",
    "| Emma  | 30,000 | 10.1 | 10.0 | 8.75 |\n",
    "| Fujita | 45,000 | 9.8 | 10.0 | 8.75 |\n",
    "| Grace | 80,000 | -  | 8.0 | 8.75 |\n",
    "| Helen | 18,000 | 7.5 | 10.0 | 8.75 |\n",
    "| **TOTALS**| 313,000 | 100,000 | 150,000 | 500, 000 | 370,000 |\n",
    "\n",
    "As the franchisor and operator of YaYa Gas-n-Grub, the problem is to allocate the delivery of gasoline to minimize the cost to the franchise owners. The following model will present a global objective to minimize the total cost of delivery to all franchise owners. "
   ]
  },
  {
   "cell_type": "markdown",
   "metadata": {},
   "source": [
    "## Model 1: Minimize Total Delivery Cost\n",
    "\n",
    "The decision variables for this example are labeled $x_{d, s}$ where subscript $d \\in 1, \\dots, n_d$ refers to the destination of the delivery and subscript $s \\in 1, \\dots, n_s$ to the source. The value of $x_{d,s}$ is the volume of gasoline shipped to destination $d$ from source $s$.\n",
    "\n",
    "Given the cost rate $r_{d, s}$ for shipping one unit of goods from $d$ to $s$, the objective is to minimize the total cost of transporting gasoline from the sources to the destinations as given by\n",
    "\n",
    "$$\n",
    "\\begin{align*}\n",
    "\\text{objective: total delivery cost}\\qquad\\min & \\sum_{d=1}^{n_d} \\sum_{s=1}^{n_s} r_{d, s} x_{d, x} \\\\\n",
    "\\end{align*}\n",
    "$$\n",
    "\n",
    "subject to meeting the demand requirements, $D_d$, at all destinations, and satisfying the supply constraints, $S_s$, at all sources.\n",
    "\n",
    "$$\n",
    "\\begin{align*}\n",
    "\\text{demand constraints}\\qquad\\sum_{s=1}^{n_s} x_{d, s} & = D_d & \\forall s\\in 1, \\dots, n_s \\\\\n",
    "\\text{supply constraints}\\qquad\\sum_{d=1}^{n_d} x_{d, x} & \\leq S_s & \\forall d\\in 1, \\dots, n_d \\\\\n",
    "\\end{align*}\n",
    "$$\n"
   ]
  },
  {
   "cell_type": "markdown",
   "metadata": {},
   "source": [
    "## Data Entry\n",
    "\n",
    "The data is stored into Pandas DataFrame and Series objects. Note the use of a large rates to avoid assigning shipments to destination, source pairs not allowed by the problem statement."
   ]
  },
  {
   "cell_type": "code",
   "execution_count": 2,
   "metadata": {
    "colab": {
     "base_uri": "https://localhost:8080/",
     "height": 580
    },
    "executionInfo": {
     "elapsed": 914,
     "status": "ok",
     "timestamp": 1648245803564,
     "user": {
      "displayName": "Jeffrey Kantor",
      "photoUrl": "https://lh3.googleusercontent.com/a-/AOh14Gg_n8V7bVINy02QRuRgOoMo11Ri7NKU3OUKdC1bkQ=s64",
      "userId": "09038942003589296665"
     },
     "user_tz": 240
    },
    "id": "3At5SbxRuiRp",
    "outputId": "f7f3779a-2eef-468f-c885-b929262fa968"
   },
   "outputs": [
    {
     "data": {
      "text/html": [
       "<br><b>Gasoline Supply (Gallons)</b>"
      ],
      "text/plain": [
       "<IPython.core.display.HTML object>"
      ]
     },
     "metadata": {},
     "output_type": "display_data"
    },
    {
     "data": {
      "text/html": [
       "<div>\n",
       "<style scoped>\n",
       "    .dataframe tbody tr th:only-of-type {\n",
       "        vertical-align: middle;\n",
       "    }\n",
       "\n",
       "    .dataframe tbody tr th {\n",
       "        vertical-align: top;\n",
       "    }\n",
       "\n",
       "    .dataframe thead th {\n",
       "        text-align: right;\n",
       "    }\n",
       "</style>\n",
       "<table border=\"1\" class=\"dataframe\">\n",
       "  <thead>\n",
       "    <tr style=\"text-align: right;\">\n",
       "      <th></th>\n",
       "      <th>supply</th>\n",
       "    </tr>\n",
       "  </thead>\n",
       "  <tbody>\n",
       "    <tr>\n",
       "      <th>Terminal A</th>\n",
       "      <td>100000</td>\n",
       "    </tr>\n",
       "    <tr>\n",
       "      <th>Terminal B</th>\n",
       "      <td>80000</td>\n",
       "    </tr>\n",
       "    <tr>\n",
       "      <th>Current Supplier</th>\n",
       "      <td>500000</td>\n",
       "    </tr>\n",
       "  </tbody>\n",
       "</table>\n",
       "</div>"
      ],
      "text/plain": [
       "                  supply\n",
       "Terminal A        100000\n",
       "Terminal B         80000\n",
       "Current Supplier  500000"
      ]
     },
     "metadata": {},
     "output_type": "display_data"
    },
    {
     "data": {
      "text/html": [
       "<br><b>Gasoline Demand (Gallons)</b>"
      ],
      "text/plain": [
       "<IPython.core.display.HTML object>"
      ]
     },
     "metadata": {},
     "output_type": "display_data"
    },
    {
     "data": {
      "text/html": [
       "<div>\n",
       "<style scoped>\n",
       "    .dataframe tbody tr th:only-of-type {\n",
       "        vertical-align: middle;\n",
       "    }\n",
       "\n",
       "    .dataframe tbody tr th {\n",
       "        vertical-align: top;\n",
       "    }\n",
       "\n",
       "    .dataframe thead th {\n",
       "        text-align: right;\n",
       "    }\n",
       "</style>\n",
       "<table border=\"1\" class=\"dataframe\">\n",
       "  <thead>\n",
       "    <tr style=\"text-align: right;\">\n",
       "      <th></th>\n",
       "      <th>demand</th>\n",
       "    </tr>\n",
       "  </thead>\n",
       "  <tbody>\n",
       "    <tr>\n",
       "      <th>Alice</th>\n",
       "      <td>30000</td>\n",
       "    </tr>\n",
       "    <tr>\n",
       "      <th>Badri</th>\n",
       "      <td>40000</td>\n",
       "    </tr>\n",
       "    <tr>\n",
       "      <th>Cara</th>\n",
       "      <td>50000</td>\n",
       "    </tr>\n",
       "    <tr>\n",
       "      <th>Dan</th>\n",
       "      <td>20000</td>\n",
       "    </tr>\n",
       "    <tr>\n",
       "      <th>Emma</th>\n",
       "      <td>30000</td>\n",
       "    </tr>\n",
       "    <tr>\n",
       "      <th>Fujita</th>\n",
       "      <td>45000</td>\n",
       "    </tr>\n",
       "    <tr>\n",
       "      <th>Grace</th>\n",
       "      <td>80000</td>\n",
       "    </tr>\n",
       "    <tr>\n",
       "      <th>Helen</th>\n",
       "      <td>18000</td>\n",
       "    </tr>\n",
       "  </tbody>\n",
       "</table>\n",
       "</div>"
      ],
      "text/plain": [
       "        demand\n",
       "Alice    30000\n",
       "Badri    40000\n",
       "Cara     50000\n",
       "Dan      20000\n",
       "Emma     30000\n",
       "Fujita   45000\n",
       "Grace    80000\n",
       "Helen    18000"
      ]
     },
     "metadata": {},
     "output_type": "display_data"
    },
    {
     "data": {
      "text/html": [
       "<br><b>Transportation Rates (US cents per Gallon)</b>"
      ],
      "text/plain": [
       "<IPython.core.display.HTML object>"
      ]
     },
     "metadata": {},
     "output_type": "display_data"
    },
    {
     "data": {
      "text/html": [
       "<div>\n",
       "<style scoped>\n",
       "    .dataframe tbody tr th:only-of-type {\n",
       "        vertical-align: middle;\n",
       "    }\n",
       "\n",
       "    .dataframe tbody tr th {\n",
       "        vertical-align: top;\n",
       "    }\n",
       "\n",
       "    .dataframe thead th {\n",
       "        text-align: right;\n",
       "    }\n",
       "</style>\n",
       "<table border=\"1\" class=\"dataframe\">\n",
       "  <thead>\n",
       "    <tr style=\"text-align: right;\">\n",
       "      <th></th>\n",
       "      <th>Terminal A</th>\n",
       "      <th>Terminal B</th>\n",
       "      <th>Current Supplier</th>\n",
       "    </tr>\n",
       "    <tr>\n",
       "      <th>Destination</th>\n",
       "      <th></th>\n",
       "      <th></th>\n",
       "      <th></th>\n",
       "    </tr>\n",
       "  </thead>\n",
       "  <tbody>\n",
       "    <tr>\n",
       "      <th>Alice</th>\n",
       "      <td>8.3</td>\n",
       "      <td>10.2</td>\n",
       "      <td>8.75</td>\n",
       "    </tr>\n",
       "    <tr>\n",
       "      <th>Badri</th>\n",
       "      <td>8.1</td>\n",
       "      <td>12.0</td>\n",
       "      <td>8.75</td>\n",
       "    </tr>\n",
       "    <tr>\n",
       "      <th>Cara</th>\n",
       "      <td>8.3</td>\n",
       "      <td>100.0</td>\n",
       "      <td>8.75</td>\n",
       "    </tr>\n",
       "    <tr>\n",
       "      <th>Dan</th>\n",
       "      <td>9.3</td>\n",
       "      <td>8.0</td>\n",
       "      <td>8.75</td>\n",
       "    </tr>\n",
       "    <tr>\n",
       "      <th>Emma</th>\n",
       "      <td>10.1</td>\n",
       "      <td>10.0</td>\n",
       "      <td>8.75</td>\n",
       "    </tr>\n",
       "    <tr>\n",
       "      <th>Fujita</th>\n",
       "      <td>9.8</td>\n",
       "      <td>10.0</td>\n",
       "      <td>8.75</td>\n",
       "    </tr>\n",
       "    <tr>\n",
       "      <th>Grace</th>\n",
       "      <td>100.0</td>\n",
       "      <td>8.0</td>\n",
       "      <td>8.75</td>\n",
       "    </tr>\n",
       "    <tr>\n",
       "      <th>Helen</th>\n",
       "      <td>7.5</td>\n",
       "      <td>10.0</td>\n",
       "      <td>8.75</td>\n",
       "    </tr>\n",
       "  </tbody>\n",
       "</table>\n",
       "</div>"
      ],
      "text/plain": [
       "             Terminal A  Terminal B  Current Supplier\n",
       "Destination                                          \n",
       "Alice               8.3        10.2              8.75\n",
       "Badri               8.1        12.0              8.75\n",
       "Cara                8.3       100.0              8.75\n",
       "Dan                 9.3         8.0              8.75\n",
       "Emma               10.1        10.0              8.75\n",
       "Fujita              9.8        10.0              8.75\n",
       "Grace             100.0         8.0              8.75\n",
       "Helen               7.5        10.0              8.75"
      ]
     },
     "metadata": {},
     "output_type": "display_data"
    }
   ],
   "source": [
    "import pandas as pd\n",
    "from IPython.display import display, HTML\n",
    "\n",
    "rates = pd.DataFrame([\n",
    "    [\"Alice\", 8.3, 10.2, 8.75],\n",
    "    [\"Badri\", 8.1, 12.0, 8.75],\n",
    "    [\"Cara\", 8.3, 100.0, 8.75],\n",
    "    [\"Dan\", 9.3, 8.0, 8.75],\n",
    "    [\"Emma\", 10.1, 10.0, 8.75],\n",
    "    [\"Fujita\", 9.8, 10.0, 8.75],\n",
    "    [\"Grace\", 100, 8.0, 8.75],\n",
    "    [\"Helen\", 7.5, 10.0, 8.75]],\n",
    "    columns = [\"Destination\", \"Terminal A\", \"Terminal B\", \"Current Supplier\"]\n",
    ").set_index(\"Destination\")\n",
    "\n",
    "demand = pd.Series({\n",
    "    \"Alice\": 30000,\n",
    "    \"Badri\": 40000,\n",
    "    \"Cara\": 50000,\n",
    "    \"Dan\": 20000,\n",
    "    \"Emma\": 30000,\n",
    "    \"Fujita\": 45000,\n",
    "    \"Grace\": 80000,\n",
    "    \"Helen\": 18000}, \n",
    "    name=\"demand\")\n",
    "\n",
    "supply = pd.Series({\n",
    "    \"Terminal A\": 100000,\n",
    "    \"Terminal B\": 80000,\n",
    "    \"Current Supplier\": 500000}, \n",
    "    name = \"supply\")\n",
    "\n",
    "display(HTML(\"<br><b>Gasoline Supply (Gallons)</b>\"))\n",
    "display(supply.to_frame())\n",
    "\n",
    "display(HTML(\"<br><b>Gasoline Demand (Gallons)</b>\"))\n",
    "display(demand.to_frame())\n",
    "\n",
    "display(HTML(\"<br><b>Transportation Rates (US cents per Gallon)</b>\"))\n",
    "display(rates)"
   ]
  },
  {
   "cell_type": "markdown",
   "metadata": {},
   "source": [
    "## Pyomo Model 1: Minimize Total Delivery Cost\n",
    "\n",
    "The pyomo model is an implementation of the mathematical model described above. The sets and indices have been designated with more descriptive symbols readability and maintenance. "
   ]
  },
  {
   "cell_type": "code",
   "execution_count": 3,
   "metadata": {
    "colab": {
     "base_uri": "https://localhost:8080/",
     "height": 335
    },
    "executionInfo": {
     "elapsed": 132,
     "status": "ok",
     "timestamp": 1648245803693,
     "user": {
      "displayName": "Jeffrey Kantor",
      "photoUrl": "https://lh3.googleusercontent.com/a-/AOh14Gg_n8V7bVINy02QRuRgOoMo11Ri7NKU3OUKdC1bkQ=s64",
      "userId": "09038942003589296665"
     },
     "user_tz": 240
    },
    "id": "mE7aYAcw3b54",
    "outputId": "1b7de611-2e0d-4916-ce96-6a0bbc447e7c"
   },
   "outputs": [
    {
     "name": "stdout",
     "output_type": "stream",
     "text": [
      "Old Delivery Costs = $ 27387.5\n",
      "New Delivery Costs = $ 26113.5\n"
     ]
    },
    {
     "data": {
      "text/html": [
       "<div>\n",
       "<style scoped>\n",
       "    .dataframe tbody tr th:only-of-type {\n",
       "        vertical-align: middle;\n",
       "    }\n",
       "\n",
       "    .dataframe tbody tr th {\n",
       "        vertical-align: top;\n",
       "    }\n",
       "\n",
       "    .dataframe thead th {\n",
       "        text-align: right;\n",
       "    }\n",
       "</style>\n",
       "<table border=\"1\" class=\"dataframe\">\n",
       "  <thead>\n",
       "    <tr style=\"text-align: right;\">\n",
       "      <th></th>\n",
       "      <th>Terminal A</th>\n",
       "      <th>Terminal B</th>\n",
       "      <th>Current Supplier</th>\n",
       "      <th>current costs</th>\n",
       "      <th>contract costs</th>\n",
       "      <th>savings</th>\n",
       "      <th>contract rate</th>\n",
       "      <th>marginal cost</th>\n",
       "    </tr>\n",
       "  </thead>\n",
       "  <tbody>\n",
       "    <tr>\n",
       "      <th>Alice</th>\n",
       "      <td>30000.0</td>\n",
       "      <td>0.0</td>\n",
       "      <td>0.0</td>\n",
       "      <td>2625.0</td>\n",
       "      <td>2490.0</td>\n",
       "      <td>135.0</td>\n",
       "      <td>0.0830</td>\n",
       "      <td>0.0875</td>\n",
       "    </tr>\n",
       "    <tr>\n",
       "      <th>Badri</th>\n",
       "      <td>40000.0</td>\n",
       "      <td>0.0</td>\n",
       "      <td>0.0</td>\n",
       "      <td>3500.0</td>\n",
       "      <td>3240.0</td>\n",
       "      <td>260.0</td>\n",
       "      <td>0.0810</td>\n",
       "      <td>0.0855</td>\n",
       "    </tr>\n",
       "    <tr>\n",
       "      <th>Cara</th>\n",
       "      <td>12000.0</td>\n",
       "      <td>0.0</td>\n",
       "      <td>38000.0</td>\n",
       "      <td>4375.0</td>\n",
       "      <td>4321.0</td>\n",
       "      <td>54.0</td>\n",
       "      <td>0.0864</td>\n",
       "      <td>0.0875</td>\n",
       "    </tr>\n",
       "    <tr>\n",
       "      <th>Dan</th>\n",
       "      <td>0.0</td>\n",
       "      <td>20000.0</td>\n",
       "      <td>0.0</td>\n",
       "      <td>1750.0</td>\n",
       "      <td>1600.0</td>\n",
       "      <td>150.0</td>\n",
       "      <td>0.0800</td>\n",
       "      <td>0.0875</td>\n",
       "    </tr>\n",
       "    <tr>\n",
       "      <th>Emma</th>\n",
       "      <td>0.0</td>\n",
       "      <td>0.0</td>\n",
       "      <td>30000.0</td>\n",
       "      <td>2625.0</td>\n",
       "      <td>2625.0</td>\n",
       "      <td>0.0</td>\n",
       "      <td>0.0875</td>\n",
       "      <td>0.0875</td>\n",
       "    </tr>\n",
       "    <tr>\n",
       "      <th>Fujita</th>\n",
       "      <td>0.0</td>\n",
       "      <td>0.0</td>\n",
       "      <td>45000.0</td>\n",
       "      <td>3937.5</td>\n",
       "      <td>3937.5</td>\n",
       "      <td>0.0</td>\n",
       "      <td>0.0875</td>\n",
       "      <td>0.0875</td>\n",
       "    </tr>\n",
       "    <tr>\n",
       "      <th>Grace</th>\n",
       "      <td>0.0</td>\n",
       "      <td>60000.0</td>\n",
       "      <td>20000.0</td>\n",
       "      <td>7000.0</td>\n",
       "      <td>6550.0</td>\n",
       "      <td>450.0</td>\n",
       "      <td>0.0819</td>\n",
       "      <td>0.0875</td>\n",
       "    </tr>\n",
       "    <tr>\n",
       "      <th>Helen</th>\n",
       "      <td>18000.0</td>\n",
       "      <td>0.0</td>\n",
       "      <td>0.0</td>\n",
       "      <td>1575.0</td>\n",
       "      <td>1350.0</td>\n",
       "      <td>225.0</td>\n",
       "      <td>0.0750</td>\n",
       "      <td>0.0795</td>\n",
       "    </tr>\n",
       "  </tbody>\n",
       "</table>\n",
       "</div>"
      ],
      "text/plain": [
       "        Terminal A  Terminal B  Current Supplier  current costs  \\\n",
       "Alice      30000.0         0.0               0.0         2625.0   \n",
       "Badri      40000.0         0.0               0.0         3500.0   \n",
       "Cara       12000.0         0.0           38000.0         4375.0   \n",
       "Dan            0.0     20000.0               0.0         1750.0   \n",
       "Emma           0.0         0.0           30000.0         2625.0   \n",
       "Fujita         0.0         0.0           45000.0         3937.5   \n",
       "Grace          0.0     60000.0           20000.0         7000.0   \n",
       "Helen      18000.0         0.0               0.0         1575.0   \n",
       "\n",
       "        contract costs  savings  contract rate  marginal cost  \n",
       "Alice           2490.0    135.0         0.0830         0.0875  \n",
       "Badri           3240.0    260.0         0.0810         0.0855  \n",
       "Cara            4321.0     54.0         0.0864         0.0875  \n",
       "Dan             1600.0    150.0         0.0800         0.0875  \n",
       "Emma            2625.0      0.0         0.0875         0.0875  \n",
       "Fujita          3937.5      0.0         0.0875         0.0875  \n",
       "Grace           6550.0    450.0         0.0819         0.0875  \n",
       "Helen           1350.0    225.0         0.0750         0.0795  "
      ]
     },
     "metadata": {},
     "output_type": "display_data"
    },
    {
     "data": {
      "image/png": "[encoded data removed]",
      "text/plain": [
       "<Figure size 432x288 with 1 Axes>"
      ]
     },
     "metadata": {
      "filenames": {
       "image/png": "/Users/jeff/Google Drive/GitHub/MO-book/_build/jupyter_execute/notebooks/02/transportation_7_2.png"
      },
      "needs_background": "light"
     },
     "output_type": "display_data"
    }
   ],
   "source": [
    "import pyomo.environ as pyo\n",
    "\n",
    "def transport(supply, demand, rates):\n",
    "    m = pyo.ConcreteModel()\n",
    "\n",
    "    m.SOURCES = pyo.Set(initialize=rates.columns)\n",
    "    m.DESTINATIONS = pyo.Set(initialize=rates.index)\n",
    "\n",
    "    m.x = pyo.Var(m.DESTINATIONS, m.SOURCES, domain=pyo.NonNegativeReals)\n",
    "\n",
    "    @m.Param(m.DESTINATIONS, m.SOURCES)\n",
    "    def Rates(m, dst, src):\n",
    "        return rates.loc[dst, src]\n",
    "\n",
    "    @m.Objective(sense=pyo.minimize)\n",
    "    def total_cost(m):\n",
    "        return sum(m.Rates[dst, src]*m.x[dst, src] for dst, src in m.DESTINATIONS * m.SOURCES)\n",
    "    \n",
    "    @m.Expression(m.DESTINATIONS)\n",
    "    def cost_to_destination(m, dst):\n",
    "        return sum(m.Rates[dst, src]*m.x[dst, src] for src in m.SOURCES)\n",
    "\n",
    "    @m.Expression(m.DESTINATIONS)\n",
    "    def shipped_to_destination(m, dst):\n",
    "        return sum(m.x[dst, src] for src in m.SOURCES)\n",
    "\n",
    "    @m.Expression(m.SOURCES)\n",
    "    def shipped_from_source(m, src):\n",
    "        return sum(m.x[dst, src] for dst in m.DESTINATIONS)\n",
    "\n",
    "    @m.Constraint(m.SOURCES)\n",
    "    def supply_constraint(m, src):\n",
    "        return m.shipped_from_source[src] <= supply[src]\n",
    "\n",
    "    @m.Constraint(m.DESTINATIONS)\n",
    "    def demand_constraint(m, dst):\n",
    "        return m.shipped_to_destination[dst] == demand[dst]\n",
    "\n",
    "    m.dual = pyo.Suffix(direction=pyo.Suffix.IMPORT)\n",
    "    pyo.SolverFactory('cbc').solve(m)\n",
    "\n",
    "    return m\n",
    "\n",
    "m = transport(supply, demand, rates/100)\n",
    "\n",
    "results = pd.DataFrame({dst: {src: m.x[dst, src]() for src in m.SOURCES} for dst in m.DESTINATIONS}).T\n",
    "results[\"current costs\"] = 700*demand/8000\n",
    "results[\"contract costs\"] = pd.Series({dst: m.cost_to_destination[dst]() for dst in m.DESTINATIONS})\n",
    "results[\"savings\"] = results[\"current costs\"].round(1) - results[\"contract costs\"].round(1)\n",
    "results[\"contract rate\"] = round(results[\"contract costs\"]/demand, 4)\n",
    "results[\"marginal cost\"]  = pd.Series({dst: m.dual[m.demand_constraint[dst]] for dst in m.DESTINATIONS})\n",
    "\n",
    "print(f\"Old Delivery Costs = $ {sum(demand)*700/8000}\")\n",
    "print(f\"New Delivery Costs = $ {m.total_cost()}\")\n",
    "display(results)\n",
    "\n",
    "results.plot(y=\"savings\", kind=\"bar\")\n",
    "model1_results = results"
   ]
  },
  {
   "cell_type": "markdown",
   "metadata": {},
   "source": [
    "## Model 2: Minimize Cost Rate for Franchise Owners\n",
    "\n",
    "Minimizing total costs provides no guarantee that individual franchise owners will benefit equally, or in fact benefit at all, from minimizing total costs. In this example neither \"Emma\" or \"Fujita\" would save any money on delivery costs, and the majority of savings goes to just two of the franchisees.  Without a better distribution of the benefits there may be little enthusiasm among the franchisees to adopt change.\n",
    "\n",
    "This observation motivates an attempt at a second model. In this case the objective is minimize a common rate for the cost of gasoline distribution.\n",
    "\n",
    "$$\n",
    "\\begin{align*}\n",
    "\\text{objective: common distribution rate}\\qquad\\min \\rho \\\\\n",
    "\\end{align*}\n",
    "$$\n",
    "\n",
    "subject to meeting the demand and supply constraints, $S_s$, at all sources.\n",
    "\n",
    "$$\n",
    "\\begin{align*}\n",
    "\\text{common cost rate}\\qquad\\sum_{s=1}^{n_s} r_{d, s} x_{d, s} & \\leq \\rho D_s & \\forall s\\in 1, \\dots, n_s\\\\\n",
    "\\text{demand constraints}\\qquad\\sum_{s=1}^{n_s} x_{d, s} & = D_d & \\forall s\\in 1, \\dots, n_s \\\\\n",
    "\\text{supply constraints}\\qquad\\sum_{d=1}^{n_d} x_{d, x} & \\leq S_s & \\forall d\\in 1, \\dots, n_d \\\\\n",
    "\\end{align*}\n",
    "$$\n",
    "\n",
    "The following Pyomo model implements this formulation."
   ]
  },
  {
   "cell_type": "code",
   "execution_count": 4,
   "metadata": {},
   "outputs": [
    {
     "name": "stdout",
     "output_type": "stream",
     "text": [
      "Old Delivery Costs = $ 27387.5\n",
      "New Delivery Costs = $ 27387.49999\n"
     ]
    },
    {
     "data": {
      "text/html": [
       "<div>\n",
       "<style scoped>\n",
       "    .dataframe tbody tr th:only-of-type {\n",
       "        vertical-align: middle;\n",
       "    }\n",
       "\n",
       "    .dataframe tbody tr th {\n",
       "        vertical-align: top;\n",
       "    }\n",
       "\n",
       "    .dataframe thead th {\n",
       "        text-align: right;\n",
       "    }\n",
       "</style>\n",
       "<table border=\"1\" class=\"dataframe\">\n",
       "  <thead>\n",
       "    <tr style=\"text-align: right;\">\n",
       "      <th></th>\n",
       "      <th>Terminal A</th>\n",
       "      <th>Terminal B</th>\n",
       "      <th>Current Supplier</th>\n",
       "      <th>current costs</th>\n",
       "      <th>contract costs</th>\n",
       "      <th>savings</th>\n",
       "      <th>contract rate</th>\n",
       "      <th>marginal cost</th>\n",
       "    </tr>\n",
       "  </thead>\n",
       "  <tbody>\n",
       "    <tr>\n",
       "      <th>Alice</th>\n",
       "      <td>0.0</td>\n",
       "      <td>0.0</td>\n",
       "      <td>30000.0</td>\n",
       "      <td>2625.0</td>\n",
       "      <td>2625.0</td>\n",
       "      <td>0.0</td>\n",
       "      <td>0.0875</td>\n",
       "      <td>0.000000</td>\n",
       "    </tr>\n",
       "    <tr>\n",
       "      <th>Badri</th>\n",
       "      <td>0.0</td>\n",
       "      <td>0.0</td>\n",
       "      <td>40000.0</td>\n",
       "      <td>3500.0</td>\n",
       "      <td>3500.0</td>\n",
       "      <td>0.0</td>\n",
       "      <td>0.0875</td>\n",
       "      <td>0.000000</td>\n",
       "    </tr>\n",
       "    <tr>\n",
       "      <th>Cara</th>\n",
       "      <td>0.0</td>\n",
       "      <td>0.0</td>\n",
       "      <td>50000.0</td>\n",
       "      <td>4375.0</td>\n",
       "      <td>4375.0</td>\n",
       "      <td>0.0</td>\n",
       "      <td>0.0875</td>\n",
       "      <td>0.000002</td>\n",
       "    </tr>\n",
       "    <tr>\n",
       "      <th>Dan</th>\n",
       "      <td>0.0</td>\n",
       "      <td>0.0</td>\n",
       "      <td>20000.0</td>\n",
       "      <td>1750.0</td>\n",
       "      <td>1750.0</td>\n",
       "      <td>0.0</td>\n",
       "      <td>0.0875</td>\n",
       "      <td>0.000000</td>\n",
       "    </tr>\n",
       "    <tr>\n",
       "      <th>Emma</th>\n",
       "      <td>0.0</td>\n",
       "      <td>0.0</td>\n",
       "      <td>30000.0</td>\n",
       "      <td>2625.0</td>\n",
       "      <td>2625.0</td>\n",
       "      <td>0.0</td>\n",
       "      <td>0.0875</td>\n",
       "      <td>0.000000</td>\n",
       "    </tr>\n",
       "    <tr>\n",
       "      <th>Fujita</th>\n",
       "      <td>0.0</td>\n",
       "      <td>0.0</td>\n",
       "      <td>45000.0</td>\n",
       "      <td>3937.5</td>\n",
       "      <td>3937.5</td>\n",
       "      <td>0.0</td>\n",
       "      <td>0.0875</td>\n",
       "      <td>0.000000</td>\n",
       "    </tr>\n",
       "    <tr>\n",
       "      <th>Grace</th>\n",
       "      <td>652.2</td>\n",
       "      <td>79347.8</td>\n",
       "      <td>0.0</td>\n",
       "      <td>7000.0</td>\n",
       "      <td>7000.0</td>\n",
       "      <td>0.0</td>\n",
       "      <td>0.0875</td>\n",
       "      <td>0.000000</td>\n",
       "    </tr>\n",
       "    <tr>\n",
       "      <th>Helen</th>\n",
       "      <td>-0.0</td>\n",
       "      <td>0.0</td>\n",
       "      <td>18000.0</td>\n",
       "      <td>1575.0</td>\n",
       "      <td>1575.0</td>\n",
       "      <td>0.0</td>\n",
       "      <td>0.0875</td>\n",
       "      <td>0.000000</td>\n",
       "    </tr>\n",
       "  </tbody>\n",
       "</table>\n",
       "</div>"
      ],
      "text/plain": [
       "        Terminal A  Terminal B  Current Supplier  current costs  \\\n",
       "Alice          0.0         0.0           30000.0         2625.0   \n",
       "Badri          0.0         0.0           40000.0         3500.0   \n",
       "Cara           0.0         0.0           50000.0         4375.0   \n",
       "Dan            0.0         0.0           20000.0         1750.0   \n",
       "Emma           0.0         0.0           30000.0         2625.0   \n",
       "Fujita         0.0         0.0           45000.0         3937.5   \n",
       "Grace        652.2     79347.8               0.0         7000.0   \n",
       "Helen         -0.0         0.0           18000.0         1575.0   \n",
       "\n",
       "        contract costs  savings  contract rate  marginal cost  \n",
       "Alice           2625.0      0.0         0.0875       0.000000  \n",
       "Badri           3500.0      0.0         0.0875       0.000000  \n",
       "Cara            4375.0      0.0         0.0875       0.000002  \n",
       "Dan             1750.0      0.0         0.0875       0.000000  \n",
       "Emma            2625.0      0.0         0.0875       0.000000  \n",
       "Fujita          3937.5      0.0         0.0875       0.000000  \n",
       "Grace           7000.0      0.0         0.0875       0.000000  \n",
       "Helen           1575.0      0.0         0.0875       0.000000  "
      ]
     },
     "metadata": {},
     "output_type": "display_data"
    },
    {
     "data": {
      "text/plain": [
       "<AxesSubplot:>"
      ]
     },
     "execution_count": 4,
     "metadata": {},
     "output_type": "execute_result"
    },
    {
     "data": {
      "image/png": "[encoded data removed]",
      "text/plain": [
       "<Figure size 432x288 with 1 Axes>"
      ]
     },
     "metadata": {
      "filenames": {
       "image/png": "/Users/jeff/Google Drive/GitHub/MO-book/_build/jupyter_execute/notebooks/02/transportation_9_3.png"
      },
      "needs_background": "light"
     },
     "output_type": "display_data"
    }
   ],
   "source": [
    "import pyomo.environ as pyo\n",
    "\n",
    "def transport(supply, demand, rates):\n",
    "    m = pyo.ConcreteModel()\n",
    "\n",
    "    m.SOURCES = pyo.Set(initialize=rates.columns)\n",
    "    m.DESTINATIONS = pyo.Set(initialize=rates.index)\n",
    "\n",
    "    m.x = pyo.Var(m.DESTINATIONS, m.SOURCES, domain=pyo.NonNegativeReals)\n",
    "    m.rate = pyo.Var()\n",
    "\n",
    "    @m.Param(m.DESTINATIONS, m.SOURCES)\n",
    "    def Rates(m, dst, src):\n",
    "        return rates.loc[dst, src]\n",
    "    \n",
    "    @m.Objective(sense=pyo.minimize)\n",
    "    def delivery_rate(m):\n",
    "        return m.rate\n",
    "    \n",
    "    @m.Expression(m.DESTINATIONS)\n",
    "    def cost_to_destination(m, dst):\n",
    "        return sum(m.Rates[dst, src]*m.x[dst, src] for src in m.SOURCES)\n",
    "    \n",
    "    @m.Expression()\n",
    "    def total_cost(m):\n",
    "        return sum(m.cost_to_destination[dst] for dst in m.DESTINATIONS)\n",
    "    \n",
    "    @m.Constraint(m.DESTINATIONS)\n",
    "    def rate_to_destination(m, dst):\n",
    "        return m.cost_to_destination[dst] == m.rate * demand[dst]\n",
    "\n",
    "    @m.Expression(m.DESTINATIONS)\n",
    "    def shipped_to_destination(m, dst):\n",
    "        return sum(m.x[dst, src] for src in m.SOURCES)\n",
    "\n",
    "    @m.Expression(m.SOURCES)\n",
    "    def shipped_from_source(m, src):\n",
    "        return sum(m.x[dst, src] for dst in m.DESTINATIONS)\n",
    "\n",
    "    @m.Constraint(m.SOURCES)\n",
    "    def supply_constraint(m, src):\n",
    "        return m.shipped_from_source[src] <= supply[src]\n",
    "\n",
    "    @m.Constraint(m.DESTINATIONS)\n",
    "    def demand_constraint(m, dst):\n",
    "        return m.shipped_to_destination[dst] == demand[dst]\n",
    "\n",
    "    m.dual = pyo.Suffix(direction=pyo.Suffix.IMPORT)\n",
    "    pyo.SolverFactory('cbc').solve(m)\n",
    "\n",
    "    return m\n",
    "\n",
    "m = transport(supply, demand, rates/100)\n",
    "\n",
    "results = round(pd.DataFrame({dst: {src: m.x[dst, src]() for src in m.SOURCES} for dst in m.DESTINATIONS}).T, 1)\n",
    "results[\"current costs\"] = 700*demand/8000\n",
    "results[\"contract costs\"] = round(pd.Series({dst: m.cost_to_destination[dst]() for dst in m.DESTINATIONS}), 1)\n",
    "results[\"savings\"] = results[\"current costs\"].round(1) - results[\"contract costs\"].round(1)\n",
    "results[\"contract rate\"] = round(results[\"contract costs\"]/demand, 4)\n",
    "results[\"marginal cost\"]  = pd.Series({dst: m.dual[m.demand_constraint[dst]] for dst in m.DESTINATIONS})\n",
    "\n",
    "print(f\"Old Delivery Costs = $ {sum(demand)*700/8000}\")\n",
    "print(f\"New Delivery Costs = $ {m.total_cost()}\")\n",
    "display(results)\n",
    "\n",
    "results.plot(y=\"savings\", kind=\"bar\")"
   ]
  },
  {
   "cell_type": "markdown",
   "metadata": {},
   "source": [
    "## Model 3: Minimize Total Cost for a Cost-Sharing Plan\n",
    "\n",
    "The prior two models demonstrated some practical difficulties in realizing the benefits of a cost optimization plan. Model 1 will likely fail in a franchisor/franchisee arrangement because the realized savings would be fore the benefit of a few. \n",
    "\n",
    "Model 2 was an attempt to remedy the problem by solving for an allocation of deliveries that would lower the cost rate that would be paid by each franchisee directly to the gasoline distributors. Perhaps surprisingly, the resulting solution offered no savings to any franchisee. Inspecting the data shows the source of the problem is that two franschisees, \"Emma\" and \"Fujita\", simply have no lower cost alternative than the current supplier. Therefore finding a distribution plan with direct payments to the distributors that lowers everyone's cost is an impossible task.\n",
    "\n",
    "The third model addresses this problem with a plan to share the cost savings among the franchisees. In this plan, the franchisor would collect delivery fees from the franchisees to pay the gasoline distributors. The optimization objective returns to the problem to minimizing total delivery costs, but then adds a constraint that defines a common cost rate to charge all franchisees. By offering a benefit to all parties, the franchisor offers incentive for group participation in contracting for gasoline distribution services.\n",
    "\n",
    "\n",
    "$$\n",
    "\\begin{align*}\n",
    "\\text{objective: total delivery cost}\\qquad\\min  C \\\\\n",
    "\\end{align*}\n",
    "$$\n",
    "\n",
    "subject to meeting the demand and supply constraints, $S_s$, at all sources.\n",
    "\n",
    "$$\n",
    "\\begin{align*}\n",
    "\\text{total cost}\\qquad \\sum_{d=1}^{n_d} \\sum_{s=1}^{n_s} r_{d, s} x_{d, x} & = C \\\\\n",
    "\\text{uniform cost sharing rate}\\qquad\\sum_{s=1}^{n_s} r_{d, s} x_{d, s} & = \\rho D_s & \\forall s\\in 1, \\dots, n_s\\\\\n",
    "\\text{demand constraints}\\qquad\\sum_{s=1}^{n_s} x_{d, s} & = D_d & \\forall s\\in 1, \\dots, n_s \\\\\n",
    "\\text{supply constraints}\\qquad\\sum_{d=1}^{n_d} x_{d, x} & \\leq S_s & \\forall d\\in 1, \\dots, n_d \\\\\n",
    "\\end{align*}\n",
    "$$"
   ]
  },
  {
   "cell_type": "code",
   "execution_count": 5,
   "metadata": {},
   "outputs": [
    {
     "name": "stdout",
     "output_type": "stream",
     "text": [
      "Old Delivery Costs = $ 27387.5\n",
      "New Delivery Costs = $ 26113.5\n"
     ]
    },
    {
     "data": {
      "text/html": [
       "<div>\n",
       "<style scoped>\n",
       "    .dataframe tbody tr th:only-of-type {\n",
       "        vertical-align: middle;\n",
       "    }\n",
       "\n",
       "    .dataframe tbody tr th {\n",
       "        vertical-align: top;\n",
       "    }\n",
       "\n",
       "    .dataframe thead th {\n",
       "        text-align: right;\n",
       "    }\n",
       "</style>\n",
       "<table border=\"1\" class=\"dataframe\">\n",
       "  <thead>\n",
       "    <tr style=\"text-align: right;\">\n",
       "      <th></th>\n",
       "      <th>Terminal A</th>\n",
       "      <th>Terminal B</th>\n",
       "      <th>Current Supplier</th>\n",
       "      <th>current costs</th>\n",
       "      <th>contract costs</th>\n",
       "      <th>savings</th>\n",
       "      <th>contract rate</th>\n",
       "      <th>marginal cost</th>\n",
       "    </tr>\n",
       "  </thead>\n",
       "  <tbody>\n",
       "    <tr>\n",
       "      <th>Alice</th>\n",
       "      <td>30000.0</td>\n",
       "      <td>0.0</td>\n",
       "      <td>0.0</td>\n",
       "      <td>2625.0</td>\n",
       "      <td>2502.9</td>\n",
       "      <td>122.1</td>\n",
       "      <td>0.0834</td>\n",
       "      <td>0.0875</td>\n",
       "    </tr>\n",
       "    <tr>\n",
       "      <th>Badri</th>\n",
       "      <td>40000.0</td>\n",
       "      <td>0.0</td>\n",
       "      <td>0.0</td>\n",
       "      <td>3500.0</td>\n",
       "      <td>3337.2</td>\n",
       "      <td>162.8</td>\n",
       "      <td>0.0834</td>\n",
       "      <td>0.0855</td>\n",
       "    </tr>\n",
       "    <tr>\n",
       "      <th>Cara</th>\n",
       "      <td>12000.0</td>\n",
       "      <td>0.0</td>\n",
       "      <td>38000.0</td>\n",
       "      <td>4375.0</td>\n",
       "      <td>4171.5</td>\n",
       "      <td>203.5</td>\n",
       "      <td>0.0834</td>\n",
       "      <td>0.0875</td>\n",
       "    </tr>\n",
       "    <tr>\n",
       "      <th>Dan</th>\n",
       "      <td>0.0</td>\n",
       "      <td>20000.0</td>\n",
       "      <td>0.0</td>\n",
       "      <td>1750.0</td>\n",
       "      <td>1668.6</td>\n",
       "      <td>81.4</td>\n",
       "      <td>0.0834</td>\n",
       "      <td>0.0875</td>\n",
       "    </tr>\n",
       "    <tr>\n",
       "      <th>Emma</th>\n",
       "      <td>0.0</td>\n",
       "      <td>0.0</td>\n",
       "      <td>30000.0</td>\n",
       "      <td>2625.0</td>\n",
       "      <td>2502.9</td>\n",
       "      <td>122.1</td>\n",
       "      <td>0.0834</td>\n",
       "      <td>0.0875</td>\n",
       "    </tr>\n",
       "    <tr>\n",
       "      <th>Fujita</th>\n",
       "      <td>0.0</td>\n",
       "      <td>0.0</td>\n",
       "      <td>45000.0</td>\n",
       "      <td>3937.5</td>\n",
       "      <td>3754.3</td>\n",
       "      <td>183.2</td>\n",
       "      <td>0.0834</td>\n",
       "      <td>0.0875</td>\n",
       "    </tr>\n",
       "    <tr>\n",
       "      <th>Grace</th>\n",
       "      <td>0.0</td>\n",
       "      <td>60000.0</td>\n",
       "      <td>20000.0</td>\n",
       "      <td>7000.0</td>\n",
       "      <td>6674.4</td>\n",
       "      <td>325.6</td>\n",
       "      <td>0.0834</td>\n",
       "      <td>0.0875</td>\n",
       "    </tr>\n",
       "    <tr>\n",
       "      <th>Helen</th>\n",
       "      <td>18000.0</td>\n",
       "      <td>0.0</td>\n",
       "      <td>0.0</td>\n",
       "      <td>1575.0</td>\n",
       "      <td>1501.7</td>\n",
       "      <td>73.3</td>\n",
       "      <td>0.0834</td>\n",
       "      <td>0.0795</td>\n",
       "    </tr>\n",
       "  </tbody>\n",
       "</table>\n",
       "</div>"
      ],
      "text/plain": [
       "        Terminal A  Terminal B  Current Supplier  current costs  \\\n",
       "Alice      30000.0         0.0               0.0         2625.0   \n",
       "Badri      40000.0         0.0               0.0         3500.0   \n",
       "Cara       12000.0         0.0           38000.0         4375.0   \n",
       "Dan            0.0     20000.0               0.0         1750.0   \n",
       "Emma           0.0         0.0           30000.0         2625.0   \n",
       "Fujita         0.0         0.0           45000.0         3937.5   \n",
       "Grace          0.0     60000.0           20000.0         7000.0   \n",
       "Helen      18000.0         0.0               0.0         1575.0   \n",
       "\n",
       "        contract costs  savings  contract rate  marginal cost  \n",
       "Alice           2502.9    122.1         0.0834         0.0875  \n",
       "Badri           3337.2    162.8         0.0834         0.0855  \n",
       "Cara            4171.5    203.5         0.0834         0.0875  \n",
       "Dan             1668.6     81.4         0.0834         0.0875  \n",
       "Emma            2502.9    122.1         0.0834         0.0875  \n",
       "Fujita          3754.3    183.2         0.0834         0.0875  \n",
       "Grace           6674.4    325.6         0.0834         0.0875  \n",
       "Helen           1501.7     73.3         0.0834         0.0795  "
      ]
     },
     "metadata": {},
     "output_type": "display_data"
    },
    {
     "data": {
      "image/png": "[encoded data removed]",
      "text/plain": [
       "<Figure size 432x288 with 1 Axes>"
      ]
     },
     "metadata": {
      "filenames": {
       "image/png": "/Users/jeff/Google Drive/GitHub/MO-book/_build/jupyter_execute/notebooks/02/transportation_11_2.png"
      },
      "needs_background": "light"
     },
     "output_type": "display_data"
    }
   ],
   "source": [
    "import pyomo.environ as pyo\n",
    "\n",
    "def transport(supply, demand, rates):\n",
    "    m = pyo.ConcreteModel()\n",
    "\n",
    "    m.SOURCES = pyo.Set(initialize=rates.columns)\n",
    "    m.DESTINATIONS = pyo.Set(initialize=rates.index)\n",
    "\n",
    "    m.x = pyo.Var(m.DESTINATIONS, m.SOURCES, domain=pyo.NonNegativeReals)\n",
    "    m.rate = pyo.Var()\n",
    "\n",
    "    @m.Param(m.DESTINATIONS, m.SOURCES)\n",
    "    def Rates(m, dst, src):\n",
    "        return rates.loc[dst, src]\n",
    "    \n",
    "    @m.Objective()\n",
    "    def total_cost(m):\n",
    "        return sum(m.Rates[dst, src]*m.x[dst, src] for dst, src in m.DESTINATIONS * m.SOURCES)\n",
    "    \n",
    "    @m.Expression(m.DESTINATIONS)\n",
    "    def cost_to_destination(m, dst):\n",
    "        return m.rate * demand[dst]\n",
    "    \n",
    "    @m.Constraint()\n",
    "    def allocate_costs(m):\n",
    "        return sum(m.cost_to_destination[dst] for dst in m.DESTINATIONS) == m.total_cost\n",
    "\n",
    "    @m.Expression(m.DESTINATIONS)\n",
    "    def shipped_to_destination(m, dst):\n",
    "        return sum(m.x[dst, src] for src in m.SOURCES)\n",
    "\n",
    "    @m.Expression(m.SOURCES)\n",
    "    def shipped_from_source(m, src):\n",
    "        return sum(m.x[dst, src] for dst in m.DESTINATIONS)\n",
    "\n",
    "    @m.Constraint(m.SOURCES)\n",
    "    def supply_constraint(m, src):\n",
    "        return m.shipped_from_source[src] <= supply[src]\n",
    "\n",
    "    @m.Constraint(m.DESTINATIONS)\n",
    "    def demand_constraint(m, dst):\n",
    "        return m.shipped_to_destination[dst] == demand[dst]\n",
    "\n",
    "    m.dual = pyo.Suffix(direction=pyo.Suffix.IMPORT)\n",
    "    pyo.SolverFactory('cbc').solve(m)\n",
    "\n",
    "    return m\n",
    "\n",
    "m = transport(supply, demand, rates/100)\n",
    "\n",
    "results = round(pd.DataFrame({dst: {src: m.x[dst, src]() for src in m.SOURCES} for dst in m.DESTINATIONS}).T, 1)\n",
    "results[\"current costs\"] = 700*demand/8000\n",
    "results[\"contract costs\"] = round(pd.Series({dst: m.cost_to_destination[dst]() for dst in m.DESTINATIONS}), 1)\n",
    "results[\"savings\"] = results[\"current costs\"].round(1) - results[\"contract costs\"].round(1)\n",
    "results[\"contract rate\"] = round(results[\"contract costs\"]/demand, 4)\n",
    "results[\"marginal cost\"]  = pd.Series({dst: m.dual[m.demand_constraint[dst]] for dst in m.DESTINATIONS})\n",
    "\n",
    "print(f\"Old Delivery Costs = $ {sum(demand)*700/8000}\")\n",
    "print(f\"New Delivery Costs = $ {m.total_cost()}\")\n",
    "display(results)\n",
    "\n",
    "results.plot(y=\"savings\", kind=\"bar\")\n",
    "model3_results = results"
   ]
  },
  {
   "cell_type": "markdown",
   "metadata": {},
   "source": [
    "## Comparing Model Results\n",
    "\n",
    "The following charts demonstrate the difference in outcomes for Model 1 and Model 3 (Model 2 was left out as entirely inadequate). The group cost-sharing arrangement produces the same group savings, but distributes the benefits in a manner likely to be more acceptable to the majority of participants."
   ]
  },
  {
   "cell_type": "code",
   "execution_count": 6,
   "metadata": {},
   "outputs": [
    {
     "data": {
      "text/plain": [
       "Text(0.5, 1.0, 'delivery cost rate by franchise')"
      ]
     },
     "execution_count": 6,
     "metadata": {},
     "output_type": "execute_result"
    },
    {
     "data": {
      "image/png": "[encoded data removed]",
      "text/plain": [
       "<Figure size 864x216 with 2 Axes>"
      ]
     },
     "metadata": {
      "filenames": {
       "image/png": "/Users/jeff/Google Drive/GitHub/MO-book/_build/jupyter_execute/notebooks/02/transportation_13_1.png"
      },
      "needs_background": "light"
     },
     "output_type": "display_data"
    }
   ],
   "source": [
    "import matplotlib.pyplot as plt\n",
    "\n",
    "fig, ax = plt.subplots(1, 2, figsize=(12, 3))\n",
    "alpha = 0.45\n",
    "\n",
    "model1_results.plot(y=[\"savings\"], kind=\"bar\", ax=ax[0], color='g', alpha=alpha)\n",
    "model1_results.plot(y=\"savings\", marker='o', ax=ax[0], color='g', alpha=alpha)\n",
    "\n",
    "model3_results.plot(y=\"savings\", kind=\"bar\", ax=ax[0], color='r', alpha=alpha)\n",
    "model3_results.plot(y=\"savings\", marker='o', ax=ax[0], color='r', alpha=alpha)\n",
    "ax[0].legend([\"Model 1\", \"Model 3\"])\n",
    "ax[0].set_title(\"delivery costs by franchise\")\n",
    "\n",
    "model1_results.plot(y=[\"contract rate\"], kind=\"bar\", ax=ax[1], color='g', alpha=alpha)\n",
    "model1_results.plot(y=\"contract rate\", marker='o', ax=ax[1], color='g', alpha=alpha)\n",
    "\n",
    "model3_results.plot(y=\"contract rate\", kind=\"bar\", ax=ax[1], color='r', alpha=alpha)\n",
    "model3_results.plot(y=\"contract rate\", marker='o', ax=ax[1], color='r', alpha=alpha)\n",
    "ax[1].set_ylim(0.07, 0.09)\n",
    "ax[1].legend([\"Model 1\", \"Model 3\"])\n",
    "ax[1].set_title(\"delivery cost rate by franchise\")"
   ]
  },
  {
   "cell_type": "markdown",
   "metadata": {
    "id": "MSz7FMVQ3pXy"
   },
   "source": [
    "## Didactics: Reporting Solutions\n",
    "\n",
    "Pyomo models can produce considerable amounts of data that must be summarized and presented for analysis and decision making. In this application, for example, the individual franchise owners receive differing amounts of savings which is certain to result in considerable discussion and possibly negotiation with the franchisor. \n",
    "\n",
    "The following cells demonstrate techniques for extracting and displaying information generated by a Pyomo model. "
   ]
  },
  {
   "cell_type": "markdown",
   "metadata": {
    "id": "MSz7FMVQ3pXy"
   },
   "source": [
    "### Pyomo `.display()` method\n",
    "\n",
    "Pyomo provides a default `.display()` method for most Pyomo objects. The default display is often sufficient for model reporting requirements, particularly when initially developing a new application."
   ]
  },
  {
   "cell_type": "code",
   "execution_count": 7,
   "metadata": {
    "colab": {
     "base_uri": "https://localhost:8080/"
    },
    "executionInfo": {
     "elapsed": 9,
     "status": "ok",
     "timestamp": 1648245803693,
     "user": {
      "displayName": "Jeffrey Kantor",
      "photoUrl": "https://lh3.googleusercontent.com/a-/AOh14Gg_n8V7bVINy02QRuRgOoMo11Ri7NKU3OUKdC1bkQ=s64",
      "userId": "09038942003589296665"
     },
     "user_tz": 240
    },
    "id": "iM_E8MMhDJe3",
    "outputId": "a0c8cb57-3bc5-4a63-d10b-884fe489dd2d"
   },
   "outputs": [
    {
     "name": "stdout",
     "output_type": "stream",
     "text": [
      "SOURCES : Size=1, Index=None, Ordered=Insertion\n",
      "    Key  : Dimen : Domain : Size : Members\n",
      "    None :     1 :    Any :    3 : {'Terminal A', 'Terminal B', 'Current Supplier'}\n",
      "DESTINATIONS : Size=1, Index=None, Ordered=Insertion\n",
      "    Key  : Dimen : Domain : Size : Members\n",
      "    None :     1 :    Any :    8 : {'Alice', 'Badri', 'Cara', 'Dan', 'Emma', 'Fujita', 'Grace', 'Helen'}\n"
     ]
    }
   ],
   "source": [
    "# display elements of sets\n",
    "m.SOURCES.display()\n",
    "m.DESTINATIONS.display()"
   ]
  },
  {
   "cell_type": "code",
   "execution_count": 8,
   "metadata": {
    "colab": {
     "base_uri": "https://localhost:8080/"
    },
    "executionInfo": {
     "elapsed": 6,
     "status": "ok",
     "timestamp": 1648245803694,
     "user": {
      "displayName": "Jeffrey Kantor",
      "photoUrl": "https://lh3.googleusercontent.com/a-/AOh14Gg_n8V7bVINy02QRuRgOoMo11Ri7NKU3OUKdC1bkQ=s64",
      "userId": "09038942003589296665"
     },
     "user_tz": 240
    },
    "id": "Q4_x-6Tq7q-L",
    "outputId": "e11fc05e-eb14-49d5-b949-7acde54ca81a"
   },
   "outputs": [
    {
     "name": "stdout",
     "output_type": "stream",
     "text": [
      "Rates : Size=24, Index=Rates_index, Domain=Any, Default=None, Mutable=False\n",
      "    Key                            : Value\n",
      "     ('Alice', 'Current Supplier') :              0.0875\n",
      "           ('Alice', 'Terminal A') :               0.083\n",
      "           ('Alice', 'Terminal B') :               0.102\n",
      "     ('Badri', 'Current Supplier') :              0.0875\n",
      "           ('Badri', 'Terminal A') :               0.081\n",
      "           ('Badri', 'Terminal B') :                0.12\n",
      "      ('Cara', 'Current Supplier') :              0.0875\n",
      "            ('Cara', 'Terminal A') :               0.083\n",
      "            ('Cara', 'Terminal B') :                 1.0\n",
      "       ('Dan', 'Current Supplier') :              0.0875\n",
      "             ('Dan', 'Terminal A') : 0.09300000000000001\n",
      "             ('Dan', 'Terminal B') :                0.08\n",
      "      ('Emma', 'Current Supplier') :              0.0875\n",
      "            ('Emma', 'Terminal A') : 0.10099999999999999\n",
      "            ('Emma', 'Terminal B') :                 0.1\n",
      "    ('Fujita', 'Current Supplier') :              0.0875\n",
      "          ('Fujita', 'Terminal A') :               0.098\n",
      "          ('Fujita', 'Terminal B') :                 0.1\n",
      "     ('Grace', 'Current Supplier') :              0.0875\n",
      "           ('Grace', 'Terminal A') :                 1.0\n",
      "           ('Grace', 'Terminal B') :                0.08\n",
      "     ('Helen', 'Current Supplier') :              0.0875\n",
      "           ('Helen', 'Terminal A') :               0.075\n",
      "           ('Helen', 'Terminal B') :                 0.1\n"
     ]
    }
   ],
   "source": [
    "# display elements of an indexed parameter\n",
    "m.Rates.display()"
   ]
  },
  {
   "cell_type": "code",
   "execution_count": 9,
   "metadata": {
    "colab": {
     "base_uri": "https://localhost:8080/"
    },
    "executionInfo": {
     "elapsed": 11,
     "status": "ok",
     "timestamp": 1648245803831,
     "user": {
      "displayName": "Jeffrey Kantor",
      "photoUrl": "https://lh3.googleusercontent.com/a-/AOh14Gg_n8V7bVINy02QRuRgOoMo11Ri7NKU3OUKdC1bkQ=s64",
      "userId": "09038942003589296665"
     },
     "user_tz": 240
    },
    "id": "MCNd7Rfn7uvx",
    "outputId": "8f302d1f-0ca6-4401-ba87-82a49aeb1a79"
   },
   "outputs": [
    {
     "name": "stdout",
     "output_type": "stream",
     "text": [
      "shipped_to_destination : Size=8\n",
      "    Key    : Value\n",
      "     Alice : 30000.0\n",
      "     Badri : 40000.0\n",
      "      Cara : 50000.0\n",
      "       Dan : 20000.0\n",
      "      Emma : 30000.0\n",
      "    Fujita : 45000.0\n",
      "     Grace : 80000.0\n",
      "     Helen : 18000.0\n"
     ]
    }
   ],
   "source": [
    "# display elements of Pyomo Expression\n",
    "m.shipped_to_destination.display()"
   ]
  },
  {
   "cell_type": "code",
   "execution_count": 10,
   "metadata": {
    "colab": {
     "base_uri": "https://localhost:8080/"
    },
    "executionInfo": {
     "elapsed": 9,
     "status": "ok",
     "timestamp": 1648245803831,
     "user": {
      "displayName": "Jeffrey Kantor",
      "photoUrl": "https://lh3.googleusercontent.com/a-/AOh14Gg_n8V7bVINy02QRuRgOoMo11Ri7NKU3OUKdC1bkQ=s64",
      "userId": "09038942003589296665"
     },
     "user_tz": 240
    },
    "id": "9l55dw4F72Sd",
    "outputId": "4a503570-0218-48d6-e055-c98df4af70c9"
   },
   "outputs": [
    {
     "name": "stdout",
     "output_type": "stream",
     "text": [
      "shipped_from_source : Size=3\n",
      "    Key              : Value\n",
      "    Current Supplier : 133000.0\n",
      "          Terminal A : 100000.0\n",
      "          Terminal B :  80000.0\n"
     ]
    }
   ],
   "source": [
    "m.shipped_from_source.display()"
   ]
  },
  {
   "cell_type": "code",
   "execution_count": 11,
   "metadata": {
    "colab": {
     "base_uri": "https://localhost:8080/"
    },
    "executionInfo": {
     "elapsed": 8,
     "status": "ok",
     "timestamp": 1648245803832,
     "user": {
      "displayName": "Jeffrey Kantor",
      "photoUrl": "https://lh3.googleusercontent.com/a-/AOh14Gg_n8V7bVINy02QRuRgOoMo11Ri7NKU3OUKdC1bkQ=s64",
      "userId": "09038942003589296665"
     },
     "user_tz": 240
    },
    "id": "fFJGLwMD4GyD",
    "outputId": "17b22caf-3b31-44d2-9b1f-7850ff8d83a4"
   },
   "outputs": [
    {
     "name": "stdout",
     "output_type": "stream",
     "text": [
      "total_cost : Size=1, Index=None, Active=True\n",
      "    Key  : Active : Value\n",
      "    None :   True : 26113.5\n"
     ]
    }
   ],
   "source": [
    "# display Pyomo Objective\n",
    "m.total_cost.display()"
   ]
  },
  {
   "cell_type": "code",
   "execution_count": 12,
   "metadata": {
    "colab": {
     "base_uri": "https://localhost:8080/"
    },
    "executionInfo": {
     "elapsed": 7,
     "status": "ok",
     "timestamp": 1648245803832,
     "user": {
      "displayName": "Jeffrey Kantor",
      "photoUrl": "https://lh3.googleusercontent.com/a-/AOh14Gg_n8V7bVINy02QRuRgOoMo11Ri7NKU3OUKdC1bkQ=s64",
      "userId": "09038942003589296665"
     },
     "user_tz": 240
    },
    "id": "OVyigB1r30mU",
    "outputId": "b9814e96-12e6-4b84-b291-a54f54ab9b84"
   },
   "outputs": [
    {
     "name": "stdout",
     "output_type": "stream",
     "text": [
      "supply_constraint : Size=3\n",
      "    Key              : Lower : Body     : Upper\n",
      "    Current Supplier :  None : 133000.0 : 500000.0\n",
      "          Terminal A :  None : 100000.0 : 100000.0\n",
      "          Terminal B :  None :  80000.0 :  80000.0\n",
      "demand_constraint : Size=8\n",
      "    Key    : Lower   : Body    : Upper\n",
      "     Alice : 30000.0 : 30000.0 : 30000.0\n",
      "     Badri : 40000.0 : 40000.0 : 40000.0\n",
      "      Cara : 50000.0 : 50000.0 : 50000.0\n",
      "       Dan : 20000.0 : 20000.0 : 20000.0\n",
      "      Emma : 30000.0 : 30000.0 : 30000.0\n",
      "    Fujita : 45000.0 : 45000.0 : 45000.0\n",
      "     Grace : 80000.0 : 80000.0 : 80000.0\n",
      "     Helen : 18000.0 : 18000.0 : 18000.0\n"
     ]
    }
   ],
   "source": [
    "# display indexed Pyomo Constraint\n",
    "m.supply_constraint.display()\n",
    "m.demand_constraint.display()"
   ]
  },
  {
   "cell_type": "code",
   "execution_count": 13,
   "metadata": {
    "colab": {
     "base_uri": "https://localhost:8080/"
    },
    "executionInfo": {
     "elapsed": 215,
     "status": "ok",
     "timestamp": 1648245804043,
     "user": {
      "displayName": "Jeffrey Kantor",
      "photoUrl": "https://lh3.googleusercontent.com/a-/AOh14Gg_n8V7bVINy02QRuRgOoMo11Ri7NKU3OUKdC1bkQ=s64",
      "userId": "09038942003589296665"
     },
     "user_tz": 240
    },
    "id": "unS9VkMx3_XK",
    "outputId": "4aa8062d-22a8-4ef7-81e8-394dfdee450d"
   },
   "outputs": [
    {
     "name": "stdout",
     "output_type": "stream",
     "text": [
      "x : Size=24, Index=x_index\n",
      "    Key                            : Lower : Value   : Upper : Fixed : Stale : Domain\n",
      "     ('Alice', 'Current Supplier') :     0 :     0.0 :  None : False : False : NonNegativeReals\n",
      "           ('Alice', 'Terminal A') :     0 : 30000.0 :  None : False : False : NonNegativeReals\n",
      "           ('Alice', 'Terminal B') :     0 :     0.0 :  None : False : False : NonNegativeReals\n",
      "     ('Badri', 'Current Supplier') :     0 :     0.0 :  None : False : False : NonNegativeReals\n",
      "           ('Badri', 'Terminal A') :     0 : 40000.0 :  None : False : False : NonNegativeReals\n",
      "           ('Badri', 'Terminal B') :     0 :     0.0 :  None : False : False : NonNegativeReals\n",
      "      ('Cara', 'Current Supplier') :     0 : 38000.0 :  None : False : False : NonNegativeReals\n",
      "            ('Cara', 'Terminal A') :     0 : 12000.0 :  None : False : False : NonNegativeReals\n",
      "            ('Cara', 'Terminal B') :     0 :     0.0 :  None : False : False : NonNegativeReals\n",
      "       ('Dan', 'Current Supplier') :     0 :     0.0 :  None : False : False : NonNegativeReals\n",
      "             ('Dan', 'Terminal A') :     0 :     0.0 :  None : False : False : NonNegativeReals\n",
      "             ('Dan', 'Terminal B') :     0 : 20000.0 :  None : False : False : NonNegativeReals\n",
      "      ('Emma', 'Current Supplier') :     0 : 30000.0 :  None : False : False : NonNegativeReals\n",
      "            ('Emma', 'Terminal A') :     0 :     0.0 :  None : False : False : NonNegativeReals\n",
      "            ('Emma', 'Terminal B') :     0 :     0.0 :  None : False : False : NonNegativeReals\n",
      "    ('Fujita', 'Current Supplier') :     0 : 45000.0 :  None : False : False : NonNegativeReals\n",
      "          ('Fujita', 'Terminal A') :     0 :     0.0 :  None : False : False : NonNegativeReals\n",
      "          ('Fujita', 'Terminal B') :     0 :     0.0 :  None : False : False : NonNegativeReals\n",
      "     ('Grace', 'Current Supplier') :     0 : 20000.0 :  None : False : False : NonNegativeReals\n",
      "           ('Grace', 'Terminal A') :     0 :     0.0 :  None : False : False : NonNegativeReals\n",
      "           ('Grace', 'Terminal B') :     0 : 60000.0 :  None : False : False : NonNegativeReals\n",
      "     ('Helen', 'Current Supplier') :     0 :     0.0 :  None : False : False : NonNegativeReals\n",
      "           ('Helen', 'Terminal A') :     0 : 18000.0 :  None : False : False : NonNegativeReals\n",
      "           ('Helen', 'Terminal B') :     0 :     0.0 :  None : False : False : NonNegativeReals\n"
     ]
    }
   ],
   "source": [
    "# display Pyomo decision variables\n",
    "m.x.display()"
   ]
  },
  {
   "cell_type": "markdown",
   "metadata": {
    "id": "LunXtQzj4fw2"
   },
   "source": [
    "### Manually formatted reports\n",
    "\n",
    "Following solution, the value associated with Pyomo objects are returned by calling the object as a function. The following cell demonstrates the construction of a custom report using Python f-strings and Pyomo methods."
   ]
  },
  {
   "cell_type": "code",
   "execution_count": 14,
   "metadata": {
    "colab": {
     "base_uri": "https://localhost:8080/"
    },
    "executionInfo": {
     "elapsed": 9,
     "status": "ok",
     "timestamp": 1648245804044,
     "user": {
      "displayName": "Jeffrey Kantor",
      "photoUrl": "https://lh3.googleusercontent.com/a-/AOh14Gg_n8V7bVINy02QRuRgOoMo11Ri7NKU3OUKdC1bkQ=s64",
      "userId": "09038942003589296665"
     },
     "user_tz": 240
    },
    "id": "XjjOpAIWz2Qr",
    "outputId": "c94a9976-7955-4ef5-9f0c-3fcb4c984014"
   },
   "outputs": [
    {
     "name": "stdout",
     "output_type": "stream",
     "text": [
      "\n",
      "Objective: cost\n",
      "cost = 26113.5\n",
      "\n",
      "Constraint: supply_constraint\n",
      "Terminal A    100000.00     -0.00\n",
      "Terminal B    80000.00     -0.01\n",
      "Current Supplier  133000.00      0.00\n",
      "\n",
      "Constraint: demand_constraint\n",
      "Alice         30000.00      0.09\n",
      "Badri         40000.00      0.09\n",
      "Cara          50000.00      0.09\n",
      "Dan           20000.00      0.09\n",
      "Emma          30000.00      0.09\n",
      "Fujita        45000.00      0.09\n",
      "Grace         80000.00      0.09\n",
      "Helen         18000.00      0.08\n",
      "\n",
      "Decision variables: x\n",
      "Terminal A   -> Alice         30000.00\n",
      "Terminal A   -> Badri         40000.00\n",
      "Terminal A   -> Cara          12000.00\n",
      "Terminal A   -> Dan               0.00\n",
      "Terminal A   -> Emma              0.00\n",
      "Terminal A   -> Fujita            0.00\n",
      "Terminal A   -> Grace             0.00\n",
      "Terminal A   -> Helen         18000.00\n",
      "\n",
      "Terminal B   -> Alice             0.00\n",
      "Terminal B   -> Badri             0.00\n",
      "Terminal B   -> Cara              0.00\n",
      "Terminal B   -> Dan           20000.00\n",
      "Terminal B   -> Emma              0.00\n",
      "Terminal B   -> Fujita            0.00\n",
      "Terminal B   -> Grace         60000.00\n",
      "Terminal B   -> Helen             0.00\n",
      "\n",
      "Current Supplier -> Alice             0.00\n",
      "Current Supplier -> Badri             0.00\n",
      "Current Supplier -> Cara          38000.00\n",
      "Current Supplier -> Dan               0.00\n",
      "Current Supplier -> Emma          30000.00\n",
      "Current Supplier -> Fujita        45000.00\n",
      "Current Supplier -> Grace         20000.00\n",
      "Current Supplier -> Helen             0.00\n",
      "\n"
     ]
    }
   ],
   "source": [
    "# Objective report\n",
    "print(\"\\nObjective: cost\")\n",
    "print(f\"cost = {m.total_cost()}\")\n",
    "\n",
    "# Constraint reports\n",
    "print(\"\\nConstraint: supply_constraint\")\n",
    "for src in m.SOURCES:\n",
    "    print(f\"{src:12s}  {m.supply_constraint[src]():8.2f}  {m.dual[m.supply_constraint[src]]:8.2f}\")\n",
    "\n",
    "print(\"\\nConstraint: demand_constraint\")\n",
    "for dst in m.DESTINATIONS:\n",
    "    print(f\"{dst:12s}  {m.demand_constraint[dst]():8.2f}  {m.dual[m.demand_constraint[dst]]:8.2f}\")\n",
    "\n",
    "# Decision variable reports\n",
    "print(\"\\nDecision variables: x\")\n",
    "for src in m.SOURCES:\n",
    "    for dst in m.DESTINATIONS:\n",
    "        print(f\"{src:12s} -> {dst:12s}  {m.x[dst, src]():8.2f}\")\n",
    "    print()"
   ]
  },
  {
   "cell_type": "markdown",
   "metadata": {
    "id": "aSDT9Pea4pi0"
   },
   "source": [
    "### Pandas\n",
    "\n",
    "The Python Pandas library provides a highly flexible framework for data science applications. The next cell demonstrates the translation of Pyomo object values to Pandas DataFrames"
   ]
  },
  {
   "cell_type": "code",
   "execution_count": 15,
   "metadata": {
    "colab": {
     "base_uri": "https://localhost:8080/",
     "height": 997
    },
    "executionInfo": {
     "elapsed": 304,
     "status": "ok",
     "timestamp": 1648245804342,
     "user": {
      "displayName": "Jeffrey Kantor",
      "photoUrl": "https://lh3.googleusercontent.com/a-/AOh14Gg_n8V7bVINy02QRuRgOoMo11Ri7NKU3OUKdC1bkQ=s64",
      "userId": "09038942003589296665"
     },
     "user_tz": 240
    },
    "id": "60SUal2L4snU",
    "outputId": "d6bc7c1a-bf01-48c9-811d-4923af2e0447"
   },
   "outputs": [
    {
     "data": {
      "text/html": [
       "<div>\n",
       "<style scoped>\n",
       "    .dataframe tbody tr th:only-of-type {\n",
       "        vertical-align: middle;\n",
       "    }\n",
       "\n",
       "    .dataframe tbody tr th {\n",
       "        vertical-align: top;\n",
       "    }\n",
       "\n",
       "    .dataframe thead th {\n",
       "        text-align: right;\n",
       "    }\n",
       "</style>\n",
       "<table border=\"1\" class=\"dataframe\">\n",
       "  <thead>\n",
       "    <tr style=\"text-align: right;\">\n",
       "      <th></th>\n",
       "      <th>supply</th>\n",
       "      <th>shipped</th>\n",
       "      <th>sensitivity</th>\n",
       "    </tr>\n",
       "  </thead>\n",
       "  <tbody>\n",
       "    <tr>\n",
       "      <th>Terminal A</th>\n",
       "      <td>100000.0</td>\n",
       "      <td>100000.0</td>\n",
       "      <td>-0.0045</td>\n",
       "    </tr>\n",
       "    <tr>\n",
       "      <th>Terminal B</th>\n",
       "      <td>80000.0</td>\n",
       "      <td>80000.0</td>\n",
       "      <td>-0.0075</td>\n",
       "    </tr>\n",
       "    <tr>\n",
       "      <th>Current Supplier</th>\n",
       "      <td>500000.0</td>\n",
       "      <td>133000.0</td>\n",
       "      <td>0.0000</td>\n",
       "    </tr>\n",
       "  </tbody>\n",
       "</table>\n",
       "</div>"
      ],
      "text/plain": [
       "                    supply   shipped  sensitivity\n",
       "Terminal A        100000.0  100000.0      -0.0045\n",
       "Terminal B         80000.0   80000.0      -0.0075\n",
       "Current Supplier  500000.0  133000.0       0.0000"
      ]
     },
     "metadata": {},
     "output_type": "display_data"
    },
    {
     "data": {
      "text/html": [
       "<div>\n",
       "<style scoped>\n",
       "    .dataframe tbody tr th:only-of-type {\n",
       "        vertical-align: middle;\n",
       "    }\n",
       "\n",
       "    .dataframe tbody tr th {\n",
       "        vertical-align: top;\n",
       "    }\n",
       "\n",
       "    .dataframe thead th {\n",
       "        text-align: right;\n",
       "    }\n",
       "</style>\n",
       "<table border=\"1\" class=\"dataframe\">\n",
       "  <thead>\n",
       "    <tr style=\"text-align: right;\">\n",
       "      <th></th>\n",
       "      <th>demand</th>\n",
       "      <th>shipped</th>\n",
       "      <th>sensitivity</th>\n",
       "    </tr>\n",
       "  </thead>\n",
       "  <tbody>\n",
       "    <tr>\n",
       "      <th>Alice</th>\n",
       "      <td>30000.0</td>\n",
       "      <td>30000.0</td>\n",
       "      <td>0.0875</td>\n",
       "    </tr>\n",
       "    <tr>\n",
       "      <th>Badri</th>\n",
       "      <td>40000.0</td>\n",
       "      <td>40000.0</td>\n",
       "      <td>0.0855</td>\n",
       "    </tr>\n",
       "    <tr>\n",
       "      <th>Cara</th>\n",
       "      <td>50000.0</td>\n",
       "      <td>50000.0</td>\n",
       "      <td>0.0875</td>\n",
       "    </tr>\n",
       "    <tr>\n",
       "      <th>Dan</th>\n",
       "      <td>20000.0</td>\n",
       "      <td>20000.0</td>\n",
       "      <td>0.0875</td>\n",
       "    </tr>\n",
       "    <tr>\n",
       "      <th>Emma</th>\n",
       "      <td>30000.0</td>\n",
       "      <td>30000.0</td>\n",
       "      <td>0.0875</td>\n",
       "    </tr>\n",
       "    <tr>\n",
       "      <th>Fujita</th>\n",
       "      <td>45000.0</td>\n",
       "      <td>45000.0</td>\n",
       "      <td>0.0875</td>\n",
       "    </tr>\n",
       "    <tr>\n",
       "      <th>Grace</th>\n",
       "      <td>80000.0</td>\n",
       "      <td>80000.0</td>\n",
       "      <td>0.0875</td>\n",
       "    </tr>\n",
       "    <tr>\n",
       "      <th>Helen</th>\n",
       "      <td>18000.0</td>\n",
       "      <td>18000.0</td>\n",
       "      <td>0.0795</td>\n",
       "    </tr>\n",
       "  </tbody>\n",
       "</table>\n",
       "</div>"
      ],
      "text/plain": [
       "         demand  shipped  sensitivity\n",
       "Alice   30000.0  30000.0       0.0875\n",
       "Badri   40000.0  40000.0       0.0855\n",
       "Cara    50000.0  50000.0       0.0875\n",
       "Dan     20000.0  20000.0       0.0875\n",
       "Emma    30000.0  30000.0       0.0875\n",
       "Fujita  45000.0  45000.0       0.0875\n",
       "Grace   80000.0  80000.0       0.0875\n",
       "Helen   18000.0  18000.0       0.0795"
      ]
     },
     "metadata": {},
     "output_type": "display_data"
    },
    {
     "data": {
      "text/html": [
       "<div>\n",
       "<style scoped>\n",
       "    .dataframe tbody tr th:only-of-type {\n",
       "        vertical-align: middle;\n",
       "    }\n",
       "\n",
       "    .dataframe tbody tr th {\n",
       "        vertical-align: top;\n",
       "    }\n",
       "\n",
       "    .dataframe thead th {\n",
       "        text-align: right;\n",
       "    }\n",
       "</style>\n",
       "<table border=\"1\" class=\"dataframe\">\n",
       "  <thead>\n",
       "    <tr style=\"text-align: right;\">\n",
       "      <th></th>\n",
       "      <th>Terminal A</th>\n",
       "      <th>Terminal B</th>\n",
       "      <th>Current Supplier</th>\n",
       "    </tr>\n",
       "  </thead>\n",
       "  <tbody>\n",
       "    <tr>\n",
       "      <th>Alice</th>\n",
       "      <td>30000.0</td>\n",
       "      <td>0.0</td>\n",
       "      <td>0.0</td>\n",
       "    </tr>\n",
       "    <tr>\n",
       "      <th>Badri</th>\n",
       "      <td>40000.0</td>\n",
       "      <td>0.0</td>\n",
       "      <td>0.0</td>\n",
       "    </tr>\n",
       "    <tr>\n",
       "      <th>Cara</th>\n",
       "      <td>12000.0</td>\n",
       "      <td>0.0</td>\n",
       "      <td>38000.0</td>\n",
       "    </tr>\n",
       "    <tr>\n",
       "      <th>Dan</th>\n",
       "      <td>0.0</td>\n",
       "      <td>20000.0</td>\n",
       "      <td>0.0</td>\n",
       "    </tr>\n",
       "    <tr>\n",
       "      <th>Emma</th>\n",
       "      <td>0.0</td>\n",
       "      <td>0.0</td>\n",
       "      <td>30000.0</td>\n",
       "    </tr>\n",
       "    <tr>\n",
       "      <th>Fujita</th>\n",
       "      <td>0.0</td>\n",
       "      <td>0.0</td>\n",
       "      <td>45000.0</td>\n",
       "    </tr>\n",
       "    <tr>\n",
       "      <th>Grace</th>\n",
       "      <td>0.0</td>\n",
       "      <td>60000.0</td>\n",
       "      <td>20000.0</td>\n",
       "    </tr>\n",
       "    <tr>\n",
       "      <th>Helen</th>\n",
       "      <td>18000.0</td>\n",
       "      <td>0.0</td>\n",
       "      <td>0.0</td>\n",
       "    </tr>\n",
       "  </tbody>\n",
       "</table>\n",
       "</div>"
      ],
      "text/plain": [
       "        Terminal A  Terminal B  Current Supplier\n",
       "Alice      30000.0         0.0               0.0\n",
       "Badri      40000.0         0.0               0.0\n",
       "Cara       12000.0         0.0           38000.0\n",
       "Dan            0.0     20000.0               0.0\n",
       "Emma           0.0         0.0           30000.0\n",
       "Fujita         0.0         0.0           45000.0\n",
       "Grace          0.0     60000.0           20000.0\n",
       "Helen      18000.0         0.0               0.0"
      ]
     },
     "metadata": {},
     "output_type": "display_data"
    },
    {
     "data": {
      "text/plain": [
       "<AxesSubplot:>"
      ]
     },
     "execution_count": 15,
     "metadata": {},
     "output_type": "execute_result"
    },
    {
     "data": {
      "image/png": "[encoded data removed]",
      "text/plain": [
       "<Figure size 432x288 with 1 Axes>"
      ]
     },
     "metadata": {
      "filenames": {
       "image/png": "/Users/jeff/Google Drive/GitHub/MO-book/_build/jupyter_execute/notebooks/02/transportation_26_4.png"
      },
      "needs_background": "light"
     },
     "output_type": "display_data"
    }
   ],
   "source": [
    "suppliers = pd.DataFrame({src: {\"supply\": supply[src], \n",
    "                              \"shipped\": m.supply_constraint[src](), \n",
    "                              \"sensitivity\": m.dual[m.supply_constraint[src]]}\n",
    "                          for src in m.SOURCES}).T\n",
    "\n",
    "display(suppliers)\n",
    "\n",
    "customers = pd.DataFrame({dst: {\"demand\": demand[dst], \n",
    "                              \"shipped\": m.demand_constraint[dst](), \n",
    "                              \"sensitivity\": m.dual[m.demand_constraint[dst]]}\n",
    "                          for dst in m.DESTINATIONS}).T\n",
    "\n",
    "display(customers)\n",
    "\n",
    "shipments = pd.DataFrame({dst: {src: m.x[dst, src]() for src in m.SOURCES} for dst in m.DESTINATIONS}).T\n",
    "display(shipments)\n",
    "shipments.plot(kind=\"bar\")\n"
   ]
  },
  {
   "cell_type": "markdown",
   "metadata": {
    "id": "LpPZWhkK5Vky",
    "tags": []
   },
   "source": [
    "### Graphviz\n",
    "\n",
    "The `graphviz` utility is a collection of tools for visually graphs and directed graphs. Unfortunately, the package can be troublesome to install on laptops in a way that is compatible with many JupyterLab installations. Accordingly, the following cell is intended for use on Google Colab which provides a preinstalled version of `graphviz`."
   ]
  },
  {
   "cell_type": "code",
   "execution_count": 16,
   "metadata": {
    "colab": {
     "base_uri": "https://localhost:8080/",
     "height": 268
    },
    "executionInfo": {
     "elapsed": 145,
     "status": "ok",
     "timestamp": 1648245804485,
     "user": {
      "displayName": "Jeffrey Kantor",
      "photoUrl": "https://lh3.googleusercontent.com/a-/AOh14Gg_n8V7bVINy02QRuRgOoMo11Ri7NKU3OUKdC1bkQ=s64",
      "userId": "09038942003589296665"
     },
     "user_tz": 240
    },
    "id": "etWChv-k0VyS",
    "outputId": "9f52151f-6593-465f-d8a3-e5ef62aff814"
   },
   "outputs": [],
   "source": [
    "import graphviz\n",
    "from graphviz import Digraph\n",
    "import sys\n",
    "\n",
    "if \"google.colab\" in sys.modules:\n",
    "\n",
    "    dot = Digraph(\n",
    "        node_attr = {\"fontsize\": \"10\", \"shape\": \"rectangle\", \"style\": \"filled\"},\n",
    "        edge_attr = {\"fontsize\": \"10\"}\n",
    "    )\n",
    "\n",
    "    for src in m.SOURCES:\n",
    "        label = f\"{src}\" \\\n",
    "                + f\"\\nsupply = {supply[src]}\" \\\n",
    "                + f\"\\nshipped = {m.supply_constraint[src]()}\" \\\n",
    "                + f\"\\nsens  = {m.dual[m.supply_constraint[src]]}\"\n",
    "        dot.node(src, label=label, fillcolor=\"lightblue\")\n",
    "\n",
    "    for dst in m.DESTINATIONS:\n",
    "        label = f\"{dst}\" \\\n",
    "                + f\"\\ndemand = {demand[dst]}\"\\\n",
    "                + f\"\\nshipped = {m.demand_constraint[dst]()}\" \\\n",
    "                + f\"\\nsens  = {m.dual[m.demand_constraint[dst]]}\"\n",
    "        dot.node(dst, label=label, fillcolor=\"gold\")\n",
    "\n",
    "    for src in m.SOURCES:\n",
    "        for dst in m.DESTINATIONS:\n",
    "            if m.x[dst, src]() > 0:\n",
    "                dot.edge(src, dst, f\"rate = {rates.loc[dst, src]}\\nshipped = {m.x[dst, src]()}\")\n",
    "\n",
    "    display(dot)"
   ]
  },
  {
   "cell_type": "code",
   "execution_count": null,
   "metadata": {
    "executionInfo": {
     "elapsed": 5,
     "status": "ok",
     "timestamp": 1648245804486,
     "user": {
      "displayName": "Jeffrey Kantor",
      "photoUrl": "https://lh3.googleusercontent.com/a-/AOh14Gg_n8V7bVINy02QRuRgOoMo11Ri7NKU3OUKdC1bkQ=s64",
      "userId": "09038942003589296665"
     },
     "user_tz": 240
    },
    "id": "Z1cUrG6h_3W3"
   },
   "outputs": [],
   "source": []
  }
 ],
 "metadata": {
  "colab": {
   "collapsed_sections": [],
   "name": "Transportation.ipynb",
   "provenance": []
  },
  "kernelspec": {
   "display_name": "Python 3 (ipykernel)",
   "language": "python",
   "name": "python3"
  },
  "language_info": {
   "codemirror_mode": {
    "name": "ipython",
    "version": 3
   },
   "file_extension": ".py",
   "mimetype": "text/x-python",
   "name": "python",
   "nbconvert_exporter": "python",
   "pygments_lexer": "ipython3",
   "version": "3.9.7"
  }
 },
 "nbformat": 4,
 "nbformat_minor": 4
}