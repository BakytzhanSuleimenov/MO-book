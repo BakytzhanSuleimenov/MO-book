{
 "cells": [
  {
   "cell_type": "markdown",
   "metadata": {
    "pycharm": {}
   },
   "source": [
    "# Obtaining Historical Stock Data\n",
    "\n",
    "Keywords: stock price data\n",
    "\n",
    "The purpose of this notebook is to download historical trading data for a selected group of the stocks from Alpha Vantage for use with other notebooks. Use of this notebook requires you so enter your personal Alpha Vantage api key into a file `data/api_key.txt`.  The trading data is stored as individual `.csv` files in a designated directory. Subsequent notebooks read and consolidate that data into a singe file.  \n",
    "\n",
    "You only need to run this notebook if you wish to analyze a different set of stocks, if you wish to update data for the existing set."
   ]
  },
  {
   "cell_type": "markdown",
   "metadata": {},
   "source": [
    "## Imports"
   ]
  },
  {
   "cell_type": "code",
   "execution_count": 6,
   "metadata": {},
   "outputs": [],
   "source": [
    "import os\n",
    "import pandas as pd\n",
    "import requests\n",
    "import time\n",
    "import datetime as datetime\n",
    "from pandas_datareader import data, wb, DataReader"
   ]
  },
  {
   "cell_type": "markdown",
   "metadata": {},
   "source": [
    "## Select Stocks to Download"
   ]
  },
  {
   "cell_type": "code",
   "execution_count": 7,
   "metadata": {},
   "outputs": [],
   "source": [
    "asset_symbols = ['AXP', 'AAPL', 'AMGN', 'BA', 'CAT', 'CRM', 'CSCO', 'CVX', 'DIS', 'DOW', \\\n",
    "                 'GS', 'HD', 'IBM', 'INTC', 'JNJ', 'JPM', 'KO', 'MCD', 'MMM', 'MRK', \\\n",
    "                 'MSFT', 'NKE', 'PG','TRV', 'UNH', 'V','VZ', 'WBA', 'WMT','XOM']\n",
    "\n",
    "# historical period\n",
    "end_date = datetime.datetime.today().date()\n",
    "start_date = end_date - datetime.timedelta(3*365)"
   ]
  },
  {
   "cell_type": "code",
   "execution_count": 7,
   "metadata": {},
   "outputs": [
    {
     "name": "stdout",
     "output_type": "stream",
     "text": [
      "downloading AXP success\n",
      "downloading AAPL success\n",
      "downloading AMGN success\n",
      "downloading BA success\n",
      "downloading CAT success\n",
      "downloading CRM success\n",
      "downloading CSCO success\n",
      "downloading CVX success\n",
      "downloading DIS success\n",
      "downloading DOW success\n",
      "downloading GS success\n",
      "downloading HD success\n",
      "downloading IBM success\n",
      "downloading INTC success\n",
      "downloading JNJ success\n",
      "downloading JPM success\n",
      "downloading KO success\n",
      "downloading MCD success\n",
      "downloading MMM success\n",
      "downloading MRK success\n",
      "downloading MSFT success\n",
      "downloading NKE success\n",
      "downloading PG success\n",
      "downloading TRV success\n",
      "downloading UNH success\n",
      "downloading V success\n",
      "downloading VZ success\n",
      "downloading WBA success\n",
      "downloading WMT success\n",
      "downloading XOM success\n"
     ]
    }
   ],
   "source": [
    "# create data directory if none exists\n",
    "data_dir = os.path.join('data', 'stocks')\n",
    "os.makedirs(data_dir, exist_ok=True)\n",
    "\n",
    "# get daily price data from yahoo financ\n",
    "def get_stock_data(s, path=data_dir):\n",
    "    print(\"downloading\", s, end=\"\")\n",
    "    data = DataReader(s, \"yahoo\", start_date, end_date)\n",
    "    filename = os.path.join(data_dir, s + '.csv')\n",
    "    data.to_csv(filename)\n",
    "    print(f\" saved to {filename}\")\n",
    "    \n",
    "for s in asset_symbols:\n",
    "    get_stock_data(s)"
   ]
  }
 ],
 "metadata": {
  "kernelspec": {
   "display_name": "Python 3 (ipykernel)",
   "language": "python",
   "name": "python3"
  },
  "language_info": {
   "codemirror_mode": {
    "name": "ipython",
    "version": 3
   },
   "file_extension": ".py",
   "mimetype": "text/x-python",
   "name": "python",
   "nbconvert_exporter": "python",
   "pygments_lexer": "ipython3",
   "version": "3.9.7"
  }
 },
 "nbformat": 4,
 "nbformat_minor": 4
}