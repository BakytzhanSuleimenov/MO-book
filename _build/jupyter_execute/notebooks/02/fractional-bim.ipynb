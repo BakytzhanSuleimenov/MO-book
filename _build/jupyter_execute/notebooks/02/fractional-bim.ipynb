{
 "cells": [
  {
   "cell_type": "markdown",
   "metadata": {},
   "source": [
    "# Fractional BIM"
   ]
  },
  {
   "cell_type": "code",
   "execution_count": 1,
   "metadata": {
    "colab": {
     "base_uri": "https://localhost:8080/"
    },
    "id": "5ssUqKOaPVaE",
    "outputId": "38c1005a-39f4-4307-e305-19a4c9819396"
   },
   "outputs": [
    {
     "name": "stdout",
     "output_type": "stream",
     "text": [
      "pyomo was previously installed\n",
      "glpk was previously installed\n"
     ]
    },
    {
     "data": {
      "text/plain": [
       "True"
      ]
     },
     "execution_count": 1,
     "metadata": {},
     "output_type": "execute_result"
    }
   ],
   "source": [
    "# install Pyomo and solvers\n",
    "import requests\n",
    "import imp\n",
    "\n",
    "url = \"https://raw.githubusercontent.com/jckantor/MO-book/main/python/helper.py\"\n",
    "helper = imp.new_module(\"helper\")\n",
    "exec(requests.get(url).content, helper.__dict__)\n",
    "\n",
    "helper.install_pyomo()\n",
    "helper.install_glpk()"
   ]
  },
  {
   "cell_type": "code",
   "execution_count": 2,
   "metadata": {
    "id": "SKIqjt5CPSJf"
   },
   "outputs": [],
   "source": [
    "import pyomo.environ as pyo"
   ]
  },
  {
   "cell_type": "code",
   "execution_count": 3,
   "metadata": {
    "id": "m33AGCU_PSJw"
   },
   "outputs": [],
   "source": [
    "def BIM_with_revenues_minus_costs():\n",
    "    \n",
    "    model    = pyo.ConcreteModel('BIM')\n",
    "    \n",
    "    model.x1 = pyo.Var(domain=pyo.NonNegativeReals)\n",
    "    model.x2 = pyo.Var(domain=pyo.NonNegativeReals)\n",
    "\n",
    "    model.revenue       = pyo.Expression( expr = 12*model.x1  +   9*model.x2 )\n",
    "    model.variable_cost = pyo.Expression( expr = 7/6*model.x1 + 5/6*model.x2 )\n",
    "    model.fixed_cost    = 100\n",
    "\n",
    "    model.profit    = pyo.Objective( sense= pyo.maximize\n",
    "      , expr = model.revenue - model.variable_cost - model.fixed_cost )\n",
    "\n",
    "    model.silicon   = pyo.Constraint(expr =    model.x1              <= 1000)\n",
    "    model.germanium = pyo.Constraint(expr =                 model.x2 <= 1500)\n",
    "    model.plastic   = pyo.Constraint(expr =    model.x1 +   model.x2 <= 1750)\n",
    "    model.copper    = pyo.Constraint(expr =  4*model.x1 + 2*model.x2 <= 4800)\n",
    "\n",
    "    return model"
   ]
  },
  {
   "cell_type": "code",
   "execution_count": 4,
   "metadata": {
    "id": "VIsJHE5oXTKw"
   },
   "outputs": [],
   "source": [
    "def BIM_with_revenues_over_costs():\n",
    "    model    = pyo.ConcreteModel('BIM')\n",
    "    \n",
    "    model.y1 = pyo.Var(within=pyo.NonNegativeReals)\n",
    "    model.y2 = pyo.Var(within=pyo.NonNegativeReals)\n",
    "    model.t  = pyo.Var(within=pyo.NonNegativeReals)\n",
    "\n",
    "    model.revenue       = pyo.Expression( expr = 12*model.y1  +   9*model.y2 )\n",
    "    model.variable_cost = pyo.Expression( expr = 7/6*model.y1 + 5/6*model.y2 )\n",
    "    model.fixed_cost    = 100\n",
    "\n",
    "    model.profit    = pyo.Objective( sense= pyo.maximize\n",
    "                                   , expr = model.revenue)\n",
    "\n",
    "    model.silicon   = pyo.Constraint(expr =    model.y1              <= 1000*model.t)\n",
    "    model.germanium = pyo.Constraint(expr =                 model.y2 <= 1500*model.t)\n",
    "    model.plastic   = pyo.Constraint(expr =    model.y1 +   model.y2 <= 1750*model.t)\n",
    "    model.copper    = pyo.Constraint(expr =  4*model.y1 + 2*model.y2 <= 4800*model.t)\n",
    "    model.frac      = pyo.Constraint(expr = model.variable_cost+model.fixed_cost*model.t == 1 )\n",
    "    \n",
    "    return model"
   ]
  },
  {
   "cell_type": "code",
   "execution_count": 5,
   "metadata": {
    "colab": {
     "base_uri": "https://localhost:8080/"
    },
    "id": "l5emuDb-2xFf",
    "outputId": "6909d47d-77be-4a3a-8b76-498362de06ea"
   },
   "outputs": [
    {
     "name": "stdout",
     "output_type": "stream",
     "text": [
      "X=(650.0,1100.0) value=15925.000 revenue=17700.000 cost=1775.000\n"
     ]
    }
   ],
   "source": [
    "BIM_linear = BIM_with_revenues_minus_costs()\n",
    "results = pyo.SolverFactory('glpk').solve(BIM_linear)\n",
    "\n",
    "print('X=({:.1f},{:.1f}) value={:.3f} revenue={:.3f} cost={:.3f}'.format(\n",
    "    pyo.value(BIM_linear.x1),\n",
    "    pyo.value(BIM_linear.x2),\n",
    "    pyo.value(BIM_linear.profit),\n",
    "    pyo.value(BIM_linear.revenue),\n",
    "    pyo.value(BIM_linear.variable_cost)+pyo.value(BIM_linear.fixed_cost)))"
   ]
  },
  {
   "cell_type": "code",
   "execution_count": 6,
   "metadata": {
    "colab": {
     "base_uri": "https://localhost:8080/"
    },
    "id": "FNqp7mptZDXl",
    "outputId": "b8b4f309-c735-4c44-9e38-4eed88357d7c"
   },
   "outputs": [
    {
     "name": "stdout",
     "output_type": "stream",
     "text": [
      "X=(250.0,1500.0) value=10.051 revenue=16500.000 cost=1641.667\n"
     ]
    }
   ],
   "source": [
    "BIM_fractional = BIM_with_revenues_over_costs()\n",
    "results = pyo.SolverFactory('glpk').solve(BIM_fractional)\n",
    "t = pyo.value(BIM_fractional.t)\n",
    "print('X=({:.1f},{:.1f}) value={:.3f} revenue={:.3f} cost={:.3f}'.format(\n",
    "    pyo.value(BIM_fractional.y1/t),\n",
    "    pyo.value(BIM_fractional.y2/t),\n",
    "    pyo.value(BIM_fractional.profit/(BIM_fractional.variable_cost+BIM_fractional.fixed_cost*t)),\n",
    "    pyo.value(BIM_fractional.revenue/t),\n",
    "    pyo.value(BIM_fractional.variable_cost/t)+pyo.value(BIM_fractional.fixed_cost)))"
   ]
  },
  {
   "cell_type": "code",
   "execution_count": null,
   "metadata": {},
   "outputs": [],
   "source": []
  }
 ],
 "metadata": {
  "colab": {
   "collapsed_sections": [],
   "name": "Fractional BIM.ipynb",
   "provenance": []
  },
  "kernelspec": {
   "display_name": "Python 3 (ipykernel)",
   "language": "python",
   "name": "python3"
  },
  "language_info": {
   "codemirror_mode": {
    "name": "ipython",
    "version": 3
   },
   "file_extension": ".py",
   "mimetype": "text/x-python",
   "name": "python",
   "nbconvert_exporter": "python",
   "pygments_lexer": "ipython3",
   "version": "3.9.7"
  }
 },
 "nbformat": 4,
 "nbformat_minor": 4
}