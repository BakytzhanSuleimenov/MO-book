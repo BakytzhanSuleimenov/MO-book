{
 "cells": [
  {
   "cell_type": "markdown",
   "metadata": {
    "pycharm": {}
   },
   "source": [
    "# Download Historical Stock Data\n",
    "\n",
    "Use this notebook to download daily trading data for a group of the stocks from Yahoo Finance. The trading data is stored in a designated sub-directory (default `./data/stocks/`) as individual `.csv` files for each stock. Subsequent notebooks can read and consolidate the stock price data. \n",
    "\n",
    "Run the cells in the notebook once to create data sets for use by other notebook, or to refresh a previously stored set of data. The function will overwrite any existing data sets."
   ]
  },
  {
   "cell_type": "markdown",
   "metadata": {
    "pycharm": {},
    "tags": []
   },
   "source": [
    "## Installing and Testing `pandas_datareader`\n",
    "\n",
    "The notebook uses the `pandas_datareader` module to read data from Yahoo Finance. Web interfaces for financial services are notoriously fickle and subject to change, and a particular issue with Google Colaboratory. The following cell tests if `pandas_datareader` installed and functional. It will attempt to upgrade and restart the Python kernel. If you encounter repeated errors please report this as an issue for this notebook. "
   ]
  },
  {
   "cell_type": "code",
   "execution_count": 3,
   "metadata": {},
   "outputs": [
    {
     "name": "stdout",
     "output_type": "stream",
     "text": [
      "pandas_datareader is installed and appears to be working correctly.\n"
     ]
    }
   ],
   "source": [
    "import sys\n",
    "import os\n",
    "\n",
    "# attempt to install. If not found then try install\n",
    "try:\n",
    "    import pandas_datareader as pdr\n",
    "    \n",
    "except:\n",
    "    !pip install -q pandas_datareader\n",
    "    from pandas_datareader import data, wb, DataReader\n",
    "    \n",
    "# test download. If fail, then upgrade and restart kernal\n",
    "try: \n",
    "    goog = pdr.DataReader(\"GOOG\", \"yahoo\")\n",
    "    print(\"pandas_datareader is installed and appears to be working correctly.\")\n",
    "except:\n",
    "    !pip install pandas_datareader --upgrade\n",
    "    os.kill(os.getpid(), 9)\n",
    "    "
   ]
  },
  {
   "cell_type": "markdown",
   "metadata": {},
   "source": [
    "## Stocks to Download\n",
    "\n",
    "Edit the following cell to download a list of stock symbols from Yahoo Finance,  `n_years` to change the historical period, or change the data directory."
   ]
  },
  {
   "cell_type": "code",
   "execution_count": 1,
   "metadata": {},
   "outputs": [],
   "source": [
    "import os\n",
    "\n",
    "# list of stock symbols\n",
    "assets = ['AXP', 'AAPL', 'AMGN', 'BA', 'CAT', 'CRM', 'CSCO', 'CVX', 'DIS', 'DOW', \\\n",
    "         'GS', 'HD', 'IBM', 'INTC', 'JNJ', 'JPM', 'KO', 'MCD', 'MMM', 'MRK', \\\n",
    "         'MSFT', 'NKE', 'PG','TRV', 'UNH', 'V', 'VZ', 'WBA', 'WMT', 'XOM']\n",
    "\n",
    "# number of years\n",
    "n_years = 3.0\n",
    "\n",
    "# create data directory\n",
    "data_dir = os.path.join('data', 'stocks')\n",
    "os.makedirs(data_dir, exist_ok=True)\n"
   ]
  },
  {
   "cell_type": "markdown",
   "metadata": {},
   "source": [
    "## Downloads\n",
    "\n",
    "Run the following cell to download the historical stock data."
   ]
  },
  {
   "cell_type": "code",
   "execution_count": 2,
   "metadata": {},
   "outputs": [
    {
     "name": "stdout",
     "output_type": "stream",
     "text": [
      "Downloading AXP    saved to data/stocks/AXP.csv\n",
      "Downloading AAPL   saved to data/stocks/AAPL.csv\n",
      "Downloading AMGN   saved to data/stocks/AMGN.csv\n",
      "Downloading BA     saved to data/stocks/BA.csv\n",
      "Downloading CAT    saved to data/stocks/CAT.csv\n",
      "Downloading CRM    saved to data/stocks/CRM.csv\n",
      "Downloading CSCO   saved to data/stocks/CSCO.csv\n",
      "Downloading CVX    saved to data/stocks/CVX.csv\n",
      "Downloading DIS    saved to data/stocks/DIS.csv\n",
      "Downloading DOW    saved to data/stocks/DOW.csv\n",
      "Downloading GS     saved to data/stocks/GS.csv\n",
      "Downloading HD     saved to data/stocks/HD.csv\n",
      "Downloading IBM    saved to data/stocks/IBM.csv\n",
      "Downloading INTC   saved to data/stocks/INTC.csv\n",
      "Downloading JNJ    saved to data/stocks/JNJ.csv\n",
      "Downloading JPM    saved to data/stocks/JPM.csv\n",
      "Downloading KO     saved to data/stocks/KO.csv\n",
      "Downloading MCD    saved to data/stocks/MCD.csv\n",
      "Downloading MMM    saved to data/stocks/MMM.csv\n",
      "Downloading MRK    saved to data/stocks/MRK.csv\n",
      "Downloading MSFT   saved to data/stocks/MSFT.csv\n",
      "Downloading NKE    saved to data/stocks/NKE.csv\n",
      "Downloading PG     saved to data/stocks/PG.csv\n",
      "Downloading TRV    saved to data/stocks/TRV.csv\n",
      "Downloading UNH    saved to data/stocks/UNH.csv\n",
      "Downloading V      saved to data/stocks/V.csv\n",
      "Downloading VZ     saved to data/stocks/VZ.csv\n",
      "Downloading WBA    saved to data/stocks/WBA.csv\n",
      "Downloading WMT    saved to data/stocks/WMT.csv\n",
      "Downloading XOM    saved to data/stocks/XOM.csv\n"
     ]
    }
   ],
   "source": [
    "import pandas as pd\n",
    "import datetime as datetime\n",
    "\n",
    "# historical period\n",
    "end_date = datetime.datetime.today().date()\n",
    "start_date = end_date - datetime.timedelta(round(n_years*365))\n",
    "\n",
    "# get daily price data from yahoo finance\n",
    "def get_stock_data(s, path=data_dir):\n",
    "    try:\n",
    "        print(f\"Downloading {s:6s}\", end=\"\")\n",
    "        data = pdr.DataReader(s, \"yahoo\", start_date, end_date)\n",
    "        try:\n",
    "            filename = os.path.join(data_dir, s + '.csv')\n",
    "            data.to_csv(filename) \n",
    "            print(f\" saved to {filename}\")\n",
    "        except: \n",
    "            print(\"save failed\")\n",
    "    except:\n",
    "        print(f\"download failed\")      \n",
    "    \n",
    "for s in assets:\n",
    "    get_stock_data(s)\n",
    "    "
   ]
  },
  {
   "cell_type": "code",
   "execution_count": null,
   "metadata": {},
   "outputs": [],
   "source": []
  }
 ],
 "metadata": {
  "kernelspec": {
   "display_name": "Python 3 (ipykernel)",
   "language": "python",
   "name": "python3"
  },
  "language_info": {
   "codemirror_mode": {
    "name": "ipython",
    "version": 3
   },
   "file_extension": ".py",
   "mimetype": "text/x-python",
   "name": "python",
   "nbconvert_exporter": "python",
   "pygments_lexer": "ipython3",
   "version": "3.9.7"
  }
 },
 "nbformat": 4,
 "nbformat_minor": 4
}