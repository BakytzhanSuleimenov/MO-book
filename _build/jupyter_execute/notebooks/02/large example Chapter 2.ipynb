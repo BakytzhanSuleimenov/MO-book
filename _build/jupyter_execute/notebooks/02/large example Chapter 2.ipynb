{
 "cells": [
  {
   "cell_type": "markdown",
   "metadata": {
    "id": "9hBrO0SNlv6f",
    "tags": []
   },
   "source": [
    "\n",
    "## Caroline's raw material planning\n",
    "\n",
    "<img align='right' src='https://drive.google.com/uc?export=view&id=1FYTs46ptGHrOaUMEi5BzePH9Gl3YM_2C' width=200>\n",
    "\n",
    "As we know, BIM produces logic and memory chips using copper, silicon, germanium and plastic. \n",
    "\n",
    "Each chip has the following consumption of materials:\n",
    "\n",
    "| chip   | copper | silicon | germanium | plastic |\n",
    "|:-------|-------:|--------:|----------:|--------:|\n",
    "|Logic   |    0.4 |       1 |           |       1 |\n",
    "|Memory  |    0.2 |         |         1 |       1 |\n",
    "\n",
    "BIM hired Caroline to manage the acquisition and the inventory of these raw materials. \n",
    "\n",
    "Caroline conducted a data analysis which lead to the following prediction of monthly demands for her trophies: \n",
    "\n",
    "| chip   | Jan | Feb | Mar | Apr | May | Jun | Jul | Aug | Sep | Oct | Nov | Dec |\n",
    "|:-------|----:|----:|----:|----:|----:|----:|----:|----:|----:|----:|----:|----:|\n",
    "|Logic   |  88 | 125 | 260 | 217 | 238 | 286 | 248 | 238 | 265 | 293 | 259 | 244 |\n",
    "|Memory  |  47 |  62 |  81 |  65 |  95 | 118 |  86 |  89 |  82 |  82 |  84 | 66  |\n",
    "\n",
    "As you recall, BIM has the following stock at the moment:\n",
    "\n",
    "|copper|silicon|germanium|plastic|\n",
    "|-----:|------:|--------:|------:|\n",
    "|   480|  1000 |     1500|  1750 |\n",
    "\n",
    "BIM would like to have at least the following stock at the end of the year:\n",
    "\n",
    "|copper|silicon|germanium|plastic|\n",
    "|-----:|------:|--------:|------:|\n",
    "|   200|   500 |      500|  1000 |\n",
    "\n",
    "Each product can be acquired at each month, but the unit prices vary as follows:\n",
    "\n",
    "| product  | Jan | Feb | Mar | Apr | May | Jun | Jul | Aug | Sep | Oct | Nov | Dec |\n",
    "|:---------|----:|----:|----:|----:|----:|----:|----:|----:|----:|----:|----:|----:|\n",
    "|copper    |   1 |   1 |   1 |   2 |   2 |   3 |   3 |   2 |   2 |   1 |   1 |   2 |\n",
    "|silicon   |   4 |   3 |   3 |   3 |   5 |   5 |   6 |   5 |   4 |   3 |   3 |   5 |\n",
    "|germanium |   5 |   5 |   5 |   3 |   3 |   3 |   3 |   2 |   3 |   4 |   5 |   6 |\n",
    "|plastic   | 0.1 | 0.1 | 0.1 | 0.1 | 0.1 | 0.1 | 0.1 | 0.1 | 0.1 | 0.1 | 0.1 | 0.1 |\n",
    "\n",
    "The inventory is limited by a capacity of a total of 9000 units per month, regardless of the composition of products in stock. \n",
    "The holding costs of the inventory are 0.05 per unit per month regardless of the product.\n",
    "\n",
    "Caroline cannot spend more than 5000 per month on acquisition.\n",
    "\n",
    "Note that Caroline aims at minimizing the acquisition and holding costs of the materials while meeting the required quantities for production. \n",
    "The production is made to order, meaning that no inventory of chips is kept.\n",
    "\n",
    "Please help Caroline to model the material planning and solve it with the data above. "
   ]
  },
  {
   "cell_type": "code",
   "execution_count": 63,
   "metadata": {
    "id": "M5Nh7EXxlv6h"
   },
   "outputs": [],
   "source": [
    "import sys\n",
    "if 'google.colab' in sys.modules:\n",
    "    import shutil\n",
    "    if not shutil.which('pyomo'):\n",
    "        !pip install -q pyomo\n",
    "        assert(shutil.which('pyomo'))\n",
    "\n",
    "    # cbc\n",
    "    !apt-get install -y -qq coinor-cbc"
   ]
  },
  {
   "cell_type": "markdown",
   "metadata": {},
   "source": [
    "To be self contained... alternative is to upload and read a file. "
   ]
  },
  {
   "cell_type": "code",
   "execution_count": 64,
   "metadata": {},
   "outputs": [],
   "source": [
    "demand_data = '''chip,Jan,Feb,Mar,Apr,May,Jun,Jul,Aug,Sep,Oct,Nov,Dec\n",
    "Logic,88,125,260,217,238,286,248,238,265,293,259,244\n",
    "Memory,47,62,81,65,95,118,86,89,82,82,84,66'''"
   ]
  },
  {
   "cell_type": "code",
   "execution_count": 65,
   "metadata": {
    "colab": {
     "base_uri": "https://localhost:8080/",
     "height": 143
    },
    "id": "rvWwY74i7qEy",
    "outputId": "47766087-eb87-44e7-d3e2-ac2c00af78f4"
   },
   "outputs": [
    {
     "data": {
      "text/html": [
       "<div>\n",
       "<style scoped>\n",
       "    .dataframe tbody tr th:only-of-type {\n",
       "        vertical-align: middle;\n",
       "    }\n",
       "\n",
       "    .dataframe tbody tr th {\n",
       "        vertical-align: top;\n",
       "    }\n",
       "\n",
       "    .dataframe thead th {\n",
       "        text-align: right;\n",
       "    }\n",
       "</style>\n",
       "<table border=\"1\" class=\"dataframe\">\n",
       "  <thead>\n",
       "    <tr style=\"text-align: right;\">\n",
       "      <th></th>\n",
       "      <th>Jan</th>\n",
       "      <th>Feb</th>\n",
       "      <th>Mar</th>\n",
       "      <th>Apr</th>\n",
       "      <th>May</th>\n",
       "      <th>Jun</th>\n",
       "      <th>Jul</th>\n",
       "      <th>Aug</th>\n",
       "      <th>Sep</th>\n",
       "      <th>Oct</th>\n",
       "      <th>Nov</th>\n",
       "      <th>Dec</th>\n",
       "    </tr>\n",
       "    <tr>\n",
       "      <th>chip</th>\n",
       "      <th></th>\n",
       "      <th></th>\n",
       "      <th></th>\n",
       "      <th></th>\n",
       "      <th></th>\n",
       "      <th></th>\n",
       "      <th></th>\n",
       "      <th></th>\n",
       "      <th></th>\n",
       "      <th></th>\n",
       "      <th></th>\n",
       "      <th></th>\n",
       "    </tr>\n",
       "  </thead>\n",
       "  <tbody>\n",
       "    <tr>\n",
       "      <th>Logic</th>\n",
       "      <td>88</td>\n",
       "      <td>125</td>\n",
       "      <td>260</td>\n",
       "      <td>217</td>\n",
       "      <td>238</td>\n",
       "      <td>286</td>\n",
       "      <td>248</td>\n",
       "      <td>238</td>\n",
       "      <td>265</td>\n",
       "      <td>293</td>\n",
       "      <td>259</td>\n",
       "      <td>244</td>\n",
       "    </tr>\n",
       "    <tr>\n",
       "      <th>Memory</th>\n",
       "      <td>47</td>\n",
       "      <td>62</td>\n",
       "      <td>81</td>\n",
       "      <td>65</td>\n",
       "      <td>95</td>\n",
       "      <td>118</td>\n",
       "      <td>86</td>\n",
       "      <td>89</td>\n",
       "      <td>82</td>\n",
       "      <td>82</td>\n",
       "      <td>84</td>\n",
       "      <td>66</td>\n",
       "    </tr>\n",
       "  </tbody>\n",
       "</table>\n",
       "</div>"
      ],
      "text/plain": [
       "        Jan  Feb  Mar  Apr  May  Jun  Jul  Aug  Sep  Oct  Nov  Dec\n",
       "chip                                                              \n",
       "Logic    88  125  260  217  238  286  248  238  265  293  259  244\n",
       "Memory   47   62   81   65   95  118   86   89   82   82   84   66"
      ]
     },
     "execution_count": 65,
     "metadata": {},
     "output_type": "execute_result"
    }
   ],
   "source": [
    "from io import StringIO\n",
    "import pandas as pd\n",
    "demand_chips = pd.read_csv( StringIO(demand_data), index_col='chip' )\n",
    "demand_chips"
   ]
  },
  {
   "cell_type": "code",
   "execution_count": 66,
   "metadata": {},
   "outputs": [],
   "source": [
    "price_data = '''product,Jan,Feb,Mar,Apr,May,Jun,Jul,Aug,Sep,Oct,Nov,Dec\n",
    "copper,1,1,1,2,2,3,3,2,2,1,1,2\n",
    "silicon,4,3,3,3,5,5,6,5,4,3,3,5\n",
    "germanium,5,5,5,3,3,3,3,2,3,4,5,6\n",
    "plastic,0.1,0.1,0.1,0.1,0.1,0.1,0.1,0.1,0.1,0.1,0.1,0.1'''"
   ]
  },
  {
   "cell_type": "code",
   "execution_count": 67,
   "metadata": {},
   "outputs": [
    {
     "data": {
      "text/html": [
       "<div>\n",
       "<style scoped>\n",
       "    .dataframe tbody tr th:only-of-type {\n",
       "        vertical-align: middle;\n",
       "    }\n",
       "\n",
       "    .dataframe tbody tr th {\n",
       "        vertical-align: top;\n",
       "    }\n",
       "\n",
       "    .dataframe thead th {\n",
       "        text-align: right;\n",
       "    }\n",
       "</style>\n",
       "<table border=\"1\" class=\"dataframe\">\n",
       "  <thead>\n",
       "    <tr style=\"text-align: right;\">\n",
       "      <th></th>\n",
       "      <th>Jan</th>\n",
       "      <th>Feb</th>\n",
       "      <th>Mar</th>\n",
       "      <th>Apr</th>\n",
       "      <th>May</th>\n",
       "      <th>Jun</th>\n",
       "      <th>Jul</th>\n",
       "      <th>Aug</th>\n",
       "      <th>Sep</th>\n",
       "      <th>Oct</th>\n",
       "      <th>Nov</th>\n",
       "      <th>Dec</th>\n",
       "    </tr>\n",
       "    <tr>\n",
       "      <th>product</th>\n",
       "      <th></th>\n",
       "      <th></th>\n",
       "      <th></th>\n",
       "      <th></th>\n",
       "      <th></th>\n",
       "      <th></th>\n",
       "      <th></th>\n",
       "      <th></th>\n",
       "      <th></th>\n",
       "      <th></th>\n",
       "      <th></th>\n",
       "      <th></th>\n",
       "    </tr>\n",
       "  </thead>\n",
       "  <tbody>\n",
       "    <tr>\n",
       "      <th>copper</th>\n",
       "      <td>1.0</td>\n",
       "      <td>1.0</td>\n",
       "      <td>1.0</td>\n",
       "      <td>2.0</td>\n",
       "      <td>2.0</td>\n",
       "      <td>3.0</td>\n",
       "      <td>3.0</td>\n",
       "      <td>2.0</td>\n",
       "      <td>2.0</td>\n",
       "      <td>1.0</td>\n",
       "      <td>1.0</td>\n",
       "      <td>2.0</td>\n",
       "    </tr>\n",
       "    <tr>\n",
       "      <th>silicon</th>\n",
       "      <td>4.0</td>\n",
       "      <td>3.0</td>\n",
       "      <td>3.0</td>\n",
       "      <td>3.0</td>\n",
       "      <td>5.0</td>\n",
       "      <td>5.0</td>\n",
       "      <td>6.0</td>\n",
       "      <td>5.0</td>\n",
       "      <td>4.0</td>\n",
       "      <td>3.0</td>\n",
       "      <td>3.0</td>\n",
       "      <td>5.0</td>\n",
       "    </tr>\n",
       "    <tr>\n",
       "      <th>germanium</th>\n",
       "      <td>5.0</td>\n",
       "      <td>5.0</td>\n",
       "      <td>5.0</td>\n",
       "      <td>3.0</td>\n",
       "      <td>3.0</td>\n",
       "      <td>3.0</td>\n",
       "      <td>3.0</td>\n",
       "      <td>2.0</td>\n",
       "      <td>3.0</td>\n",
       "      <td>4.0</td>\n",
       "      <td>5.0</td>\n",
       "      <td>6.0</td>\n",
       "    </tr>\n",
       "    <tr>\n",
       "      <th>plastic</th>\n",
       "      <td>0.1</td>\n",
       "      <td>0.1</td>\n",
       "      <td>0.1</td>\n",
       "      <td>0.1</td>\n",
       "      <td>0.1</td>\n",
       "      <td>0.1</td>\n",
       "      <td>0.1</td>\n",
       "      <td>0.1</td>\n",
       "      <td>0.1</td>\n",
       "      <td>0.1</td>\n",
       "      <td>0.1</td>\n",
       "      <td>0.1</td>\n",
       "    </tr>\n",
       "  </tbody>\n",
       "</table>\n",
       "</div>"
      ],
      "text/plain": [
       "           Jan  Feb  Mar  Apr  May  Jun  Jul  Aug  Sep  Oct  Nov  Dec\n",
       "product                                                              \n",
       "copper     1.0  1.0  1.0  2.0  2.0  3.0  3.0  2.0  2.0  1.0  1.0  2.0\n",
       "silicon    4.0  3.0  3.0  3.0  5.0  5.0  6.0  5.0  4.0  3.0  3.0  5.0\n",
       "germanium  5.0  5.0  5.0  3.0  3.0  3.0  3.0  2.0  3.0  4.0  5.0  6.0\n",
       "plastic    0.1  0.1  0.1  0.1  0.1  0.1  0.1  0.1  0.1  0.1  0.1  0.1"
      ]
     },
     "execution_count": 67,
     "metadata": {},
     "output_type": "execute_result"
    }
   ],
   "source": [
    "price = pd.read_csv( StringIO(price_data), index_col='product' )\n",
    "price"
   ]
  },
  {
   "cell_type": "markdown",
   "metadata": {
    "id": "YcUgGn2alv6i"
   },
   "source": [
    "# A possible resolution"
   ]
  },
  {
   "cell_type": "markdown",
   "metadata": {
    "id": "tm2MaCYUlv6j"
   },
   "source": [
    "## A simple dataframe with the consumptions"
   ]
  },
  {
   "cell_type": "code",
   "execution_count": 68,
   "metadata": {
    "colab": {
     "base_uri": "https://localhost:8080/",
     "height": 174
    },
    "id": "I0Wl0BXOlv6j",
    "outputId": "2f785ea2-a004-4cd6-a65b-75eee443ef71"
   },
   "outputs": [
    {
     "data": {
      "text/html": [
       "<div>\n",
       "<style scoped>\n",
       "    .dataframe tbody tr th:only-of-type {\n",
       "        vertical-align: middle;\n",
       "    }\n",
       "\n",
       "    .dataframe tbody tr th {\n",
       "        vertical-align: top;\n",
       "    }\n",
       "\n",
       "    .dataframe thead th {\n",
       "        text-align: right;\n",
       "    }\n",
       "</style>\n",
       "<table border=\"1\" class=\"dataframe\">\n",
       "  <thead>\n",
       "    <tr style=\"text-align: right;\">\n",
       "      <th></th>\n",
       "      <th>Logic</th>\n",
       "      <th>Memory</th>\n",
       "    </tr>\n",
       "  </thead>\n",
       "  <tbody>\n",
       "    <tr>\n",
       "      <th>silicon</th>\n",
       "      <td>1</td>\n",
       "      <td>0</td>\n",
       "    </tr>\n",
       "    <tr>\n",
       "      <th>plastic</th>\n",
       "      <td>1</td>\n",
       "      <td>1</td>\n",
       "    </tr>\n",
       "    <tr>\n",
       "      <th>copper</th>\n",
       "      <td>4</td>\n",
       "      <td>2</td>\n",
       "    </tr>\n",
       "    <tr>\n",
       "      <th>germanium</th>\n",
       "      <td>0</td>\n",
       "      <td>1</td>\n",
       "    </tr>\n",
       "  </tbody>\n",
       "</table>\n",
       "</div>"
      ],
      "text/plain": [
       "           Logic  Memory\n",
       "silicon        1       0\n",
       "plastic        1       1\n",
       "copper         4       2\n",
       "germanium      0       1"
      ]
     },
     "execution_count": 68,
     "metadata": {},
     "output_type": "execute_result"
    }
   ],
   "source": [
    "use = dict()\n",
    "use['Logic'] = { 'silicon' : 1, 'plastic' : 1, 'copper' : 4 }\n",
    "use['Memory'] = { 'germanium' : 1, 'plastic' : 1, 'copper' : 2 }\n",
    "use = pd.DataFrame.from_dict( use ).fillna(0).astype( int )\n",
    "use"
   ]
  },
  {
   "cell_type": "markdown",
   "metadata": {
    "id": "3-ED4cy3lv6k"
   },
   "source": [
    "## A simple matrix multiplication"
   ]
  },
  {
   "cell_type": "code",
   "execution_count": 69,
   "metadata": {
    "colab": {
     "base_uri": "https://localhost:8080/",
     "height": 174
    },
    "id": "m8daTOpBlv6k",
    "outputId": "3bff6de3-8759-4dde-95f9-321d3231ccc7"
   },
   "outputs": [
    {
     "data": {
      "text/html": [
       "<div>\n",
       "<style scoped>\n",
       "    .dataframe tbody tr th:only-of-type {\n",
       "        vertical-align: middle;\n",
       "    }\n",
       "\n",
       "    .dataframe tbody tr th {\n",
       "        vertical-align: top;\n",
       "    }\n",
       "\n",
       "    .dataframe thead th {\n",
       "        text-align: right;\n",
       "    }\n",
       "</style>\n",
       "<table border=\"1\" class=\"dataframe\">\n",
       "  <thead>\n",
       "    <tr style=\"text-align: right;\">\n",
       "      <th></th>\n",
       "      <th>Jan</th>\n",
       "      <th>Feb</th>\n",
       "      <th>Mar</th>\n",
       "      <th>Apr</th>\n",
       "      <th>May</th>\n",
       "      <th>Jun</th>\n",
       "      <th>Jul</th>\n",
       "      <th>Aug</th>\n",
       "      <th>Sep</th>\n",
       "      <th>Oct</th>\n",
       "      <th>Nov</th>\n",
       "      <th>Dec</th>\n",
       "    </tr>\n",
       "  </thead>\n",
       "  <tbody>\n",
       "    <tr>\n",
       "      <th>silicon</th>\n",
       "      <td>88</td>\n",
       "      <td>125</td>\n",
       "      <td>260</td>\n",
       "      <td>217</td>\n",
       "      <td>238</td>\n",
       "      <td>286</td>\n",
       "      <td>248</td>\n",
       "      <td>238</td>\n",
       "      <td>265</td>\n",
       "      <td>293</td>\n",
       "      <td>259</td>\n",
       "      <td>244</td>\n",
       "    </tr>\n",
       "    <tr>\n",
       "      <th>plastic</th>\n",
       "      <td>135</td>\n",
       "      <td>187</td>\n",
       "      <td>341</td>\n",
       "      <td>282</td>\n",
       "      <td>333</td>\n",
       "      <td>404</td>\n",
       "      <td>334</td>\n",
       "      <td>327</td>\n",
       "      <td>347</td>\n",
       "      <td>375</td>\n",
       "      <td>343</td>\n",
       "      <td>310</td>\n",
       "    </tr>\n",
       "    <tr>\n",
       "      <th>copper</th>\n",
       "      <td>446</td>\n",
       "      <td>624</td>\n",
       "      <td>1202</td>\n",
       "      <td>998</td>\n",
       "      <td>1142</td>\n",
       "      <td>1380</td>\n",
       "      <td>1164</td>\n",
       "      <td>1130</td>\n",
       "      <td>1224</td>\n",
       "      <td>1336</td>\n",
       "      <td>1204</td>\n",
       "      <td>1108</td>\n",
       "    </tr>\n",
       "    <tr>\n",
       "      <th>germanium</th>\n",
       "      <td>47</td>\n",
       "      <td>62</td>\n",
       "      <td>81</td>\n",
       "      <td>65</td>\n",
       "      <td>95</td>\n",
       "      <td>118</td>\n",
       "      <td>86</td>\n",
       "      <td>89</td>\n",
       "      <td>82</td>\n",
       "      <td>82</td>\n",
       "      <td>84</td>\n",
       "      <td>66</td>\n",
       "    </tr>\n",
       "  </tbody>\n",
       "</table>\n",
       "</div>"
      ],
      "text/plain": [
       "           Jan  Feb   Mar  Apr   May   Jun   Jul   Aug   Sep   Oct   Nov   Dec\n",
       "silicon     88  125   260  217   238   286   248   238   265   293   259   244\n",
       "plastic    135  187   341  282   333   404   334   327   347   375   343   310\n",
       "copper     446  624  1202  998  1142  1380  1164  1130  1224  1336  1204  1108\n",
       "germanium   47   62    81   65    95   118    86    89    82    82    84    66"
      ]
     },
     "execution_count": 69,
     "metadata": {},
     "output_type": "execute_result"
    }
   ],
   "source": [
    "demand = use.dot( demand_chips )\n",
    "demand"
   ]
  },
  {
   "cell_type": "code",
   "execution_count": 81,
   "metadata": {},
   "outputs": [],
   "source": [
    "import pyomo.environ as pyo"
   ]
  },
  {
   "cell_type": "code",
   "execution_count": 121,
   "metadata": {},
   "outputs": [],
   "source": [
    "m = pyo.ConcreteModel()"
   ]
  },
  {
   "cell_type": "markdown",
   "metadata": {},
   "source": [
    "# Add the relevant data to the model"
   ]
  },
  {
   "cell_type": "code",
   "execution_count": 122,
   "metadata": {},
   "outputs": [],
   "source": [
    "m.Time        = demand.columns\n",
    "m.Product     = demand.index\n",
    "m.Demand      = demand\n",
    "m.UnitPrice   = price\n",
    "m.HoldingCost = .05\n",
    "m.StockLimit  = 9000\n",
    "m.Budget      = 2000"
   ]
  },
  {
   "cell_type": "code",
   "execution_count": 123,
   "metadata": {},
   "outputs": [],
   "source": [
    "m.existing = {'silicon' : 1000, 'germanium': 1500, 'plastic': 1750, 'copper' : 4800 }\n",
    "m.desired  = {'silicon' :  500, 'germanium':  500, 'plastic': 1000, 'copper' : 2000 }"
   ]
  },
  {
   "cell_type": "markdown",
   "metadata": {},
   "source": [
    "# Some care to deal with the `time` index"
   ]
  },
  {
   "cell_type": "code",
   "execution_count": 124,
   "metadata": {},
   "outputs": [],
   "source": [
    "m.first = m.Time[0]\n",
    "m.last  = m.Time[-1]\n",
    "m.prev  = { j : i for i,j in zip(m.Time,m.Time[1:]) }"
   ]
  },
  {
   "cell_type": "markdown",
   "metadata": {},
   "source": [
    "# Variables for the decision (buy) and consequence (stock)"
   ]
  },
  {
   "cell_type": "code",
   "execution_count": 125,
   "metadata": {},
   "outputs": [],
   "source": [
    "m.buy   = pyo.Var( m.Product, m.Time, within=pyo.NonNegativeReals )\n",
    "m.stock = pyo.Var( m.Product, m.Time, within=pyo.NonNegativeReals )"
   ]
  },
  {
   "cell_type": "markdown",
   "metadata": {},
   "source": [
    "# The constraints that balance acquisition with inventory and demand"
   ]
  },
  {
   "cell_type": "code",
   "execution_count": 126,
   "metadata": {},
   "outputs": [],
   "source": [
    "def BalanceRule( m, p, t ):\n",
    "    if t == m.first:\n",
    "        return m.existing[p] + m.buy[p,t] == m.Demand.loc[p,t] + m.stock[p,t]\n",
    "    else:\n",
    "        return m.buy[p,t] + m.stock[p,m.prev[t]] == m.Demand.loc[p,t] + m.stock[p,t]"
   ]
  },
  {
   "cell_type": "code",
   "execution_count": 127,
   "metadata": {},
   "outputs": [],
   "source": [
    "m.balance = pyo.Constraint( m.Product, m.Time, rule = BalanceRule )"
   ]
  },
  {
   "cell_type": "markdown",
   "metadata": {},
   "source": [
    "# The remaining constraints\n",
    "\n",
    "Note that these rules are so simple, one liners, that it is better to just define them 'on the spot' as anonymous (or `'lambda`) functions. "
   ]
  },
  {
   "cell_type": "markdown",
   "metadata": {},
   "source": [
    "## Ensure the desired inventory at the end of the horizon"
   ]
  },
  {
   "cell_type": "code",
   "execution_count": 128,
   "metadata": {},
   "outputs": [],
   "source": [
    "m.finish = pyo.Constraint( m.Product, rule = lambda m, p : m.stock[p,m.last] >= m.desired[p] )"
   ]
  },
  {
   "cell_type": "markdown",
   "metadata": {},
   "source": [
    "## Ensure that the inventory fits the capacity"
   ]
  },
  {
   "cell_type": "code",
   "execution_count": 129,
   "metadata": {},
   "outputs": [],
   "source": [
    "m.inventory = pyo.Constraint( m.Time, rule = lambda m, t : sum( m.stock[p,t] for p in m.Product ) <= m.StockLimit )"
   ]
  },
  {
   "cell_type": "markdown",
   "metadata": {},
   "source": [
    "## Ensure that the acquisition fits the budget"
   ]
  },
  {
   "cell_type": "code",
   "execution_count": 130,
   "metadata": {},
   "outputs": [],
   "source": [
    "m.budget = pyo.Constraint( m.Time, rule = lambda m, t : sum( m.UnitPrice.loc[p,t]*m.buy[p,t] for p in m.Product ) <= m.Budget )"
   ]
  },
  {
   "cell_type": "code",
   "execution_count": 131,
   "metadata": {},
   "outputs": [],
   "source": [
    "m.obj = pyo.Objective( expr = sum( m.UnitPrice.loc[p,t]*m.buy[p,t] for p in m.Product for t in m.Time )\n",
    "                              + sum( m.HoldingCost*m.stock[p,t] for p in m.Product for t in m.Time )\n",
    "                      , sense = pyo.minimize )"
   ]
  },
  {
   "cell_type": "code",
   "execution_count": 132,
   "metadata": {},
   "outputs": [
    {
     "data": {
      "text/plain": [
       "{'Problem': [{'Name': 'unknown', 'Lower bound': 25908.12916666666, 'Upper bound': 25908.12916666666, 'Number of objectives': 1, 'Number of constraints': 76, 'Number of variables': 96, 'Number of binary variables': 0, 'Number of integer variables': 0, 'Number of continuous variables': 96, 'Number of nonzeros': 240, 'Sense': 1, 'Number of solutions': 1}], 'Solver': [{'Name': 'Gurobi 9.50', 'Status': 'ok', 'Wallclock time': 0.0010051727294921875, 'Termination condition': 'optimal', 'Termination message': 'Model was solved to optimality (subject to tolerances), and an optimal solution is available.'}], 'Solution': [OrderedDict([('number of solutions', 0), ('number of solutions displayed', 0)])]}"
      ]
     },
     "execution_count": 132,
     "metadata": {},
     "output_type": "execute_result"
    }
   ],
   "source": [
    "pyo.SolverFactory( 'gurobi_direct' ).solve(m)"
   ]
  },
  {
   "cell_type": "code",
   "execution_count": 133,
   "metadata": {},
   "outputs": [],
   "source": [
    "def ShowDouble( X, I,J ):\n",
    "    return pd.DataFrame.from_records( [ [ X[i,j].value for j in J ] for i in I ], index=I, columns=J )"
   ]
  },
  {
   "cell_type": "code",
   "execution_count": 134,
   "metadata": {},
   "outputs": [
    {
     "data": {
      "text/html": [
       "<div>\n",
       "<style scoped>\n",
       "    .dataframe tbody tr th:only-of-type {\n",
       "        vertical-align: middle;\n",
       "    }\n",
       "\n",
       "    .dataframe tbody tr th {\n",
       "        vertical-align: top;\n",
       "    }\n",
       "\n",
       "    .dataframe thead th {\n",
       "        text-align: right;\n",
       "    }\n",
       "</style>\n",
       "<table border=\"1\" class=\"dataframe\">\n",
       "  <thead>\n",
       "    <tr style=\"text-align: right;\">\n",
       "      <th></th>\n",
       "      <th>Jan</th>\n",
       "      <th>Feb</th>\n",
       "      <th>Mar</th>\n",
       "      <th>Apr</th>\n",
       "      <th>May</th>\n",
       "      <th>Jun</th>\n",
       "      <th>Jul</th>\n",
       "      <th>Aug</th>\n",
       "      <th>Sep</th>\n",
       "      <th>Oct</th>\n",
       "      <th>Nov</th>\n",
       "      <th>Dec</th>\n",
       "    </tr>\n",
       "  </thead>\n",
       "  <tbody>\n",
       "    <tr>\n",
       "      <th>silicon</th>\n",
       "      <td>444.666667</td>\n",
       "      <td>559.0</td>\n",
       "      <td>0.0</td>\n",
       "      <td>666.666667</td>\n",
       "      <td>0.0</td>\n",
       "      <td>400.0</td>\n",
       "      <td>65.05</td>\n",
       "      <td>0.00</td>\n",
       "      <td>125.616667</td>\n",
       "      <td>0.0</td>\n",
       "      <td>0.0</td>\n",
       "      <td>0.0</td>\n",
       "    </tr>\n",
       "    <tr>\n",
       "      <th>plastic</th>\n",
       "      <td>0.000000</td>\n",
       "      <td>0.0</td>\n",
       "      <td>0.0</td>\n",
       "      <td>0.000000</td>\n",
       "      <td>0.0</td>\n",
       "      <td>0.0</td>\n",
       "      <td>266.00</td>\n",
       "      <td>327.00</td>\n",
       "      <td>1065.000000</td>\n",
       "      <td>0.0</td>\n",
       "      <td>0.0</td>\n",
       "      <td>1310.0</td>\n",
       "    </tr>\n",
       "    <tr>\n",
       "      <th>copper</th>\n",
       "      <td>221.333333</td>\n",
       "      <td>323.0</td>\n",
       "      <td>2000.0</td>\n",
       "      <td>0.000000</td>\n",
       "      <td>1000.0</td>\n",
       "      <td>0.0</td>\n",
       "      <td>0.00</td>\n",
       "      <td>983.65</td>\n",
       "      <td>695.516667</td>\n",
       "      <td>2000.0</td>\n",
       "      <td>2000.0</td>\n",
       "      <td>934.5</td>\n",
       "    </tr>\n",
       "    <tr>\n",
       "      <th>germanium</th>\n",
       "      <td>0.000000</td>\n",
       "      <td>0.0</td>\n",
       "      <td>0.0</td>\n",
       "      <td>0.000000</td>\n",
       "      <td>0.0</td>\n",
       "      <td>0.0</td>\n",
       "      <td>0.00</td>\n",
       "      <td>0.00</td>\n",
       "      <td>0.000000</td>\n",
       "      <td>0.0</td>\n",
       "      <td>0.0</td>\n",
       "      <td>0.0</td>\n",
       "    </tr>\n",
       "  </tbody>\n",
       "</table>\n",
       "</div>"
      ],
      "text/plain": [
       "                  Jan    Feb     Mar         Apr     May    Jun     Jul  \\\n",
       "silicon    444.666667  559.0     0.0  666.666667     0.0  400.0   65.05   \n",
       "plastic      0.000000    0.0     0.0    0.000000     0.0    0.0  266.00   \n",
       "copper     221.333333  323.0  2000.0    0.000000  1000.0    0.0    0.00   \n",
       "germanium    0.000000    0.0     0.0    0.000000     0.0    0.0    0.00   \n",
       "\n",
       "              Aug          Sep     Oct     Nov     Dec  \n",
       "silicon      0.00   125.616667     0.0     0.0     0.0  \n",
       "plastic    327.00  1065.000000     0.0     0.0  1310.0  \n",
       "copper     983.65   695.516667  2000.0  2000.0   934.5  \n",
       "germanium    0.00     0.000000     0.0     0.0     0.0  "
      ]
     },
     "execution_count": 134,
     "metadata": {},
     "output_type": "execute_result"
    }
   ],
   "source": [
    "ShowDouble( m.buy, m.Product, m.Time )"
   ]
  },
  {
   "cell_type": "code",
   "execution_count": 118,
   "metadata": {},
   "outputs": [
    {
     "data": {
      "text/html": [
       "<div>\n",
       "<style scoped>\n",
       "    .dataframe tbody tr th:only-of-type {\n",
       "        vertical-align: middle;\n",
       "    }\n",
       "\n",
       "    .dataframe tbody tr th {\n",
       "        vertical-align: top;\n",
       "    }\n",
       "\n",
       "    .dataframe thead th {\n",
       "        text-align: right;\n",
       "    }\n",
       "</style>\n",
       "<table border=\"1\" class=\"dataframe\">\n",
       "  <thead>\n",
       "    <tr style=\"text-align: right;\">\n",
       "      <th></th>\n",
       "      <th>Jan</th>\n",
       "      <th>Feb</th>\n",
       "      <th>Mar</th>\n",
       "      <th>Apr</th>\n",
       "      <th>May</th>\n",
       "      <th>Jun</th>\n",
       "      <th>Jul</th>\n",
       "      <th>Aug</th>\n",
       "      <th>Sep</th>\n",
       "      <th>Oct</th>\n",
       "      <th>Nov</th>\n",
       "      <th>Dec</th>\n",
       "    </tr>\n",
       "  </thead>\n",
       "  <tbody>\n",
       "    <tr>\n",
       "      <th>silicon</th>\n",
       "      <td>912.0</td>\n",
       "      <td>787.0</td>\n",
       "      <td>527.0</td>\n",
       "      <td>1275.0</td>\n",
       "      <td>1037.0</td>\n",
       "      <td>751.0</td>\n",
       "      <td>503.0</td>\n",
       "      <td>265.0</td>\n",
       "      <td>0.0</td>\n",
       "      <td>785.1</td>\n",
       "      <td>744.0</td>\n",
       "      <td>500.0</td>\n",
       "    </tr>\n",
       "    <tr>\n",
       "      <th>plastic</th>\n",
       "      <td>1615.0</td>\n",
       "      <td>1428.0</td>\n",
       "      <td>1087.0</td>\n",
       "      <td>805.0</td>\n",
       "      <td>472.0</td>\n",
       "      <td>68.0</td>\n",
       "      <td>0.0</td>\n",
       "      <td>0.0</td>\n",
       "      <td>0.0</td>\n",
       "      <td>0.0</td>\n",
       "      <td>0.0</td>\n",
       "      <td>1000.0</td>\n",
       "    </tr>\n",
       "    <tr>\n",
       "      <th>copper</th>\n",
       "      <td>4354.0</td>\n",
       "      <td>3730.0</td>\n",
       "      <td>6076.0</td>\n",
       "      <td>5078.0</td>\n",
       "      <td>3936.0</td>\n",
       "      <td>2556.0</td>\n",
       "      <td>1392.0</td>\n",
       "      <td>262.0</td>\n",
       "      <td>0.0</td>\n",
       "      <td>0.0</td>\n",
       "      <td>3108.0</td>\n",
       "      <td>2000.0</td>\n",
       "    </tr>\n",
       "    <tr>\n",
       "      <th>germanium</th>\n",
       "      <td>1453.0</td>\n",
       "      <td>1391.0</td>\n",
       "      <td>1310.0</td>\n",
       "      <td>1245.0</td>\n",
       "      <td>1150.0</td>\n",
       "      <td>1032.0</td>\n",
       "      <td>946.0</td>\n",
       "      <td>857.0</td>\n",
       "      <td>775.0</td>\n",
       "      <td>693.0</td>\n",
       "      <td>609.0</td>\n",
       "      <td>543.0</td>\n",
       "    </tr>\n",
       "  </tbody>\n",
       "</table>\n",
       "</div>"
      ],
      "text/plain": [
       "              Jan     Feb     Mar     Apr     May     Jun     Jul    Aug  \\\n",
       "silicon     912.0   787.0   527.0  1275.0  1037.0   751.0   503.0  265.0   \n",
       "plastic    1615.0  1428.0  1087.0   805.0   472.0    68.0     0.0    0.0   \n",
       "copper     4354.0  3730.0  6076.0  5078.0  3936.0  2556.0  1392.0  262.0   \n",
       "germanium  1453.0  1391.0  1310.0  1245.0  1150.0  1032.0   946.0  857.0   \n",
       "\n",
       "             Sep    Oct     Nov     Dec  \n",
       "silicon      0.0  785.1   744.0   500.0  \n",
       "plastic      0.0    0.0     0.0  1000.0  \n",
       "copper       0.0    0.0  3108.0  2000.0  \n",
       "germanium  775.0  693.0   609.0   543.0  "
      ]
     },
     "execution_count": 118,
     "metadata": {},
     "output_type": "execute_result"
    }
   ],
   "source": [
    "ShowDouble( m.stock, m.Product, m.Time )"
   ]
  },
  {
   "cell_type": "code",
   "execution_count": 119,
   "metadata": {},
   "outputs": [
    {
     "data": {
      "text/plain": [
       "<AxesSubplot:>"
      ]
     },
     "execution_count": 119,
     "metadata": {},
     "output_type": "execute_result"
    },
    {
     "data": {
      "image/png": "[encoded data removed]",
      "text/plain": [
       "<Figure size 1440x288 with 1 Axes>"
      ]
     },
     "metadata": {
      "filenames": {
       "image/png": "/Users/jeff/Google Drive/GitHub/MO-book/_build/jupyter_execute/notebooks/02/large example Chapter 2_36_1.png"
      },
      "needs_background": "light"
     },
     "output_type": "display_data"
    }
   ],
   "source": [
    "ShowDouble( m.stock, m.Product, m.Time ).T.plot(drawstyle='steps-mid',grid=True, figsize=(20,4))"
   ]
  },
  {
   "cell_type": "markdown",
   "metadata": {},
   "source": [
    "# Notes\n",
    "\n",
    "* The budget is not limitative. \n",
    "* With the given budget the solution remains integer. \n",
    "* Lowering the budget to 2000 forces acquiring fractional quantities. \n",
    "* Lower values of the budget end up making the problem infeasible."
   ]
  }
 ],
 "metadata": {
  "colab": {
   "collapsed_sections": [],
   "name": "DSE-5.1 2021 - Francis' material planning - a possible resolution.ipynb",
   "provenance": []
  },
  "kernelspec": {
   "display_name": "Python 3 (ipykernel)",
   "language": "python",
   "name": "python3"
  },
  "language_info": {
   "codemirror_mode": {
    "name": "ipython",
    "version": 3
   },
   "file_extension": ".py",
   "mimetype": "text/x-python",
   "name": "python",
   "nbconvert_exporter": "python",
   "pygments_lexer": "ipython3",
   "version": "3.9.7"
  }
 },
 "nbformat": 4,
 "nbformat_minor": 4
}