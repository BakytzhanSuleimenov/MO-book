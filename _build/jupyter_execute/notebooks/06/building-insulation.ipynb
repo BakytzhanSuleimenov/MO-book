{
 "cells": [
  {
   "cell_type": "markdown",
   "metadata": {
    "id": "9AbZs78ppzEO"
   },
   "source": [
    "# Building Insulation"
   ]
  },
  {
   "cell_type": "markdown",
   "metadata": {
    "id": "-1sFCsTgp8Mk"
   },
   "source": [
    "The decision on much it invest in insulating a building is determined by a tradeoff between the capital costs of insulation and the annual operating costs for heating and air conditioning. This notebook shows the formulation and solution of an optimization problem using conic programming.\n"
   ]
  },
  {
   "cell_type": "markdown",
   "metadata": {
    "id": "c19B4gzzKAqx"
   },
   "source": [
    "## Bibliographic Notes\n",
    "\n",
    "To the best of my knowledge, this problem is not well-known example in the mathematical optimization literature. There are a number of application papers with differing levels of detail. \n",
    "\n",
    "> Hasan, A. (1999). Optimizing insulation thickness for buildings using life cycle cost. Applied energy, 63(2), 115-124. https://www.sciencedirect.com/science/article/pii/S0306261999000239\n",
    "\n",
    "> Kaynakli, O. (2012). A review of the economical and optimum thermal insulation thickness for building applications. Renewable and Sustainable Energy Reviews, 16(1), 415-425. https://www.sciencedirect.com/science/article/pii/S1364032111004163\n",
    "\n",
    "> Nyers, J., Kajtar, L., Tomić, S., & Nyers, A. (2015). Investment-savings method for energy-economic optimization of external wall thermal insulation thickness. Energy and Buildings, 86, 268-274.  https://www.sciencedirect.com/science/article/pii/S0378778814008688"
   ]
  },
  {
   "cell_type": "markdown",
   "metadata": {
    "id": "ivrv3B4GsJgb"
   },
   "source": [
    "## A Simple Model\n",
    "\n",
    "Consider a wall or surface separating conditioned interior space in a building at temperature $T_i$ from the external environment at temperature $T_o$. Heat conduction through the wall is given by\n",
    "\n",
    "$$\\dot{Q} = UA (T_i - T_o)$$\n",
    "\n",
    "where $U$ is the overall heat transfer coefficient. For sake of simplicity, we assume the annual energy costs are proportional to $U$.\n",
    "\n",
    "We assume the building surface can be insulated by adding layers of up to $M$ different materials. Each material is characterized by a thickness $x_m$, a thermal conductivity $k_m$, an annualized cost of installing a unit area of the material of thickness $x_m$ given by an affine expression\n",
    "\n",
    "$$a_m + b_m x_m$$\n",
    "\n",
    "For a surface constructed from up to $M$ layers of different insulating materials, the inverse of the overall heat transfer coefficient is a determined by a sum of serial thermal \"resistences\"\n",
    "\n",
    "$$\\frac{1}{U} = R_0 + \\sum_{m=1}^M R_m$$\n",
    "\n",
    "where $R_0$ is thermal resistance of the necessary structural elements that would be installed in an \"uninsulated\" building.\n",
    "\n",
    "The thermal resistences are $R_m = \\frac{x_m}{k_m}$ such that\n",
    "\n",
    "$$\\frac{1}{U} = R_0 + \\sum_{m=1}^M \\frac{x_m}{k_m}$$\n",
    "\n",
    "Depending on the application, there may be an upper limit on the thickness of the insulation\n",
    "\n",
    "$$\\sum_{m=1}^M x_m \\leq T$$\n",
    "\n",
    "Alternatively, there may be a annualized shadow cost associated with the adding to wall thicknenss which could then be added to the cost objective."
   ]
  },
  {
   "cell_type": "markdown",
   "metadata": {
    "id": "-WPtrJrA-MZn"
   },
   "source": [
    "## Mixed Integer Optimization Problem with Hyperbolic Constraint\n",
    "\n",
    "\n",
    "The economic objective is to minimize the combined annual energy operating expenses and capital cost of insulationn. Let $\\alpha$ be a coefficient for the proportional relationship of the overall heat transfer coefficient $U$ to the annual energy costs.  \n",
    "\n",
    "$$\\min \\alpha U + \\sum_{m=1}^M (a_my_m + b_mx_m) $$\n",
    "\n",
    "subject to constraints\n",
    "\n",
    "$$\n",
    "\\begin{align}\n",
    "R & = R_0 + \\sum_{m=1}^M\\frac{x_m}{k_m} \\\\\n",
    "\\sum_{m=1}^M x_m & \\leq T \\\\\n",
    "x_m & \\geq 0 \\\\\n",
    "y_m & \\in \\text{Binary} \\\\\n",
    "x_m & \\leq Ty_m \\\\\n",
    "R U & \\geq 1 \\\\\n",
    "R, U & > 0\n",
    "\\end{align}\n",
    "$$\n",
    "\n",
    "where binary variables $y_m$ indicate whether layer $m$ is included in the insulation package, and $x_m$ is the thickness of layer $m$ if included."
   ]
  },
  {
   "cell_type": "markdown",
   "metadata": {
    "id": "RhEjq2he7cZN"
   },
   "source": [
    "\n",
    "## Formulation as a linear objective with a second order cone constraint\n"
   ]
  },
  {
   "cell_type": "code",
   "execution_count": null,
   "metadata": {
    "id": "wyKWC64fpyEQ"
   },
   "outputs": [],
   "source": []
  }
 ],
 "metadata": {
  "colab": {
   "authorship_tag": "ABX9TyOV9mKU3y2wZsTKQNuwa6V8",
   "provenance": []
  },
  "kernelspec": {
   "display_name": "Python 3",
   "name": "python3"
  },
  "language_info": {
   "name": "python"
  }
 },
 "nbformat": 4,
 "nbformat_minor": 0
}