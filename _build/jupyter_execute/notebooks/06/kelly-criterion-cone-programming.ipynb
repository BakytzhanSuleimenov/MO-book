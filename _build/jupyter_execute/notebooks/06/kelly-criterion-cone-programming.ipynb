{
 "cells": [
  {
   "cell_type": "markdown",
   "metadata": {
    "id": "dhj50n2iVNjE"
   },
   "source": [
    "# Kelly Criterion and Exponential Cones\n",
    "\n",
    "The Kelly Criterion for the size of optimal bets was originally proposed in 1956 by John Kelly at Bell Laboratories. He identified an analogy between gambling and encoding information for transmission on noisy channels, then finding that by choosing bet sizes appropriately, then\n",
    "\n",
    "> The maximum exponential rate of growth of he gambler's capital is equal to the rate of transmission of informration over the channel.\n",
    "\n",
    "The idea actually pre-dates Kelly. In 1738, the famous mathematician Daniel Bernoulli offered a resolution to the St. Petersburg paradox (proposed by his cousin, Nicholas Bernoulli in 1711) by suggesting one should choose bets of investments with the highest geometric mean of outcomes.\n",
    "\n",
    "As described by William Poundstone in the popular book \"Fortune's Formula\", following Kelly's paper, this idea this was quickly picked up by both gamblers and investors, with many colorful adventures by early adopters in both Las Vegas and Wall Street.\n",
    "\n",
    "Following the analysis of Cajas (2021), this notebook presents a version of the the problem analysis demonstrating the applcation of exponential cone programming. "
   ]
  },
  {
   "cell_type": "markdown",
   "metadata": {
    "id": "m5SH8kDP6E-8"
   },
   "source": [
    "## Problem\n",
    "\n",
    "The classical presentation of the Kelly Criterion is to consider a betting proposition offering odds of $b$ for an outcome with propability $p$. In that case a bet pays off $b+1$ unit of money for every unit of money wagered. If we let $x$ represent the fraction of wealth that is wagered, then the gross returns are given by \n",
    "\n",
    "$$\n",
    "\\begin{align}\n",
    "R_1 & = 1 + b w && p_1 = p \\\\\n",
    "R_2 & = 1 - w && p_2 = (1-p) \\\\\n",
    "\\end{align}\n",
    "$$\n",
    "\n",
    "The objective is to maximum the expected log return\n",
    "\n",
    "$$\n",
    "\\begin{align}\n",
    "\\max_w p_1 \\ln (R_1) + p_2 \\ln (R_2) \\\\\n",
    "\\end{align}\n",
    "$$\n",
    "\n",
    "Follow Cajas (2021), we introduce decision variables $q_i$ where \n",
    "$$\n",
    "\\begin{align}\n",
    "q_i & \\leq \\ln(R_i) \\\\\n",
    "\\exp(q_i) & \\leq R_i \\\\\n",
    "\\end{align}\n",
    "$$\n",
    "\n",
    "The problem is now\n",
    "\n",
    "$$\n",
    "\\begin{align*}\n",
    "\\max\\quad & \\sum_i p_i q_i \\\\\n",
    "\\text{s.t.}\\quad & \\exp(q_i) \\leq R_i & \\forall i\\in I\\\\\n",
    "& R_i = 1 + \\sum_{j} b_{ij} w_j & \\forall i\\in I\n",
    "\\end{align*}\n",
    "$$\n",
    "\n",
    "A primal exponential cone is a convex set $K_{exp} = \\{(x,y,r)\\}$ such that i\n",
    "\n",
    "$$y \\exp(\\frac{x}{y}) \\leq r$$\n",
    "\n",
    "and $y, r \\geq 0$. With this notation, the Kelly problem becomes\n",
    "\n",
    "$$\n",
    "\\begin{align*}\n",
    "\\max\\quad & \\sum_i p_i q_i \\\\\n",
    "\\text{s.t.}\\quad & (q_i, 1, R_i) \\in K_{exp} & \\forall i\\in I\\\\\n",
    "& R_i = 1 + \\sum_j b_{ij} w_j & \\forall i\\in I\n",
    "\\end{align*}\n",
    "$$\n"
   ]
  },
  {
   "cell_type": "markdown",
   "metadata": {
    "id": "9ZDbr76kVHcd"
   },
   "source": [
    "## Example 1: Proposition Betting"
   ]
  },
  {
   "cell_type": "markdown",
   "metadata": {
    "id": "WD8sbJJ4VSbY"
   },
   "source": [
    "## Example 2: Luenberger's Betting Wheel\n",
    "\n",
    "* https://www.nsm.buffalo.edu/~hassard/458/spreadsheets/betting_wheel.html\n",
    "* https://www.math.nyu.edu/~kohn/undergrad.finance/2003/hw2.pdf\n"
   ]
  },
  {
   "cell_type": "markdown",
   "metadata": {
    "id": "QpUuSsQAVZy3"
   },
   "source": [
    "## Example 3: Volatility Pumping with Index Funds"
   ]
  },
  {
   "cell_type": "markdown",
   "metadata": {
    "id": "xKqddfbBVkjQ"
   },
   "source": [
    "## Example 4: Portfolio Design with Drawdown Constraints"
   ]
  },
  {
   "cell_type": "markdown",
   "metadata": {
    "id": "75LnwBd7Tqv0"
   },
   "source": [
    "## Relationship with Relative Entropy Optimization\n",
    "\n",
    "Kullback-Leibler divergence\n",
    "\n",
    "$$D_{KL}(P \\| Q)$$"
   ]
  },
  {
   "cell_type": "markdown",
   "metadata": {
    "id": "kSUeNxY4VWya"
   },
   "source": [
    "## Bibliographic Notes\n",
    "\n",
    "> Cajas, D. (2021). Kelly Portfolio Optimization: A Disciplined Convex Programming Framework. Available at SSRN 3833617. https://papers.ssrn.com/sol3/papers.cfm?abstract_id=3833617\n",
    "\n",
    "> Busseti, E., Ryu, E. K., & Boyd, S. (2016). Risk-constrained Kelly gambling. The Journal of Investing, 25(3), 118-134. https://arxiv.org/pdf/1603.06183.pdf\n",
    "\n",
    "\n",
    "> Fu, A., Narasimhan, B., & Boyd, S. (2017). CVXR: An R package for disciplined convex optimization. arXiv preprint arXiv:1711.07582. https://arxiv.org/abs/1711.07582\n",
    "\n",
    "> Poundstone, W. (2010). Fortune's formula: The untold story of the scientific betting system that beat the casinos and Wall Street. Hill and Wang. "
   ]
  }
 ],
 "metadata": {
  "colab": {
   "authorship_tag": "ABX9TyPhmD90QRW9TniemQWeinpD",
   "provenance": []
  },
  "kernelspec": {
   "display_name": "Python 3 (ipykernel)",
   "language": "python",
   "name": "python3"
  },
  "language_info": {
   "codemirror_mode": {
    "name": "ipython",
    "version": 3
   },
   "file_extension": ".py",
   "mimetype": "text/x-python",
   "name": "python",
   "nbconvert_exporter": "python",
   "pygments_lexer": "ipython3",
   "version": "3.9.7"
  }
 },
 "nbformat": 4,
 "nbformat_minor": 4
}