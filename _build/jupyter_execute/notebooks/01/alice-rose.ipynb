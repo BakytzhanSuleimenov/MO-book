{
 "cells": [
  {
   "cell_type": "markdown",
   "metadata": {
    "id": "EiLWP-Y8yau3"
   },
   "source": [
    "# A first example\n",
    "\n",
    "In this notebook we consider a simple problem to compare how a simple problem can be approached both analytically (using calculus) and numerically (using mathematical optimization). In this course we will be mostly concerned about the second approach, having to deal with high-dimensional and complex problems for which analytical solutions are beyond reach."
   ]
  },
  {
   "cell_type": "code",
   "execution_count": 1,
   "metadata": {},
   "outputs": [
    {
     "name": "stdout",
     "output_type": "stream",
     "text": [
      "pyomo was previously installed\n",
      "ipopt was previously installed\n"
     ]
    },
    {
     "data": {
      "text/plain": [
       "True"
      ]
     },
     "execution_count": 1,
     "metadata": {},
     "output_type": "execute_result"
    }
   ],
   "source": [
    "# install Pyomo and solvers\n",
    "import requests\n",
    "import types\n",
    "\n",
    "url = \"https://raw.githubusercontent.com/mobook/MO-book/main/python/helper.py\"\n",
    "helper = types.ModuleType(\"helper\")\n",
    "exec(requests.get(url).content, helper.__dict__)\n",
    "\n",
    "helper.install_pyomo()\n",
    "helper.install_ipopt()"
   ]
  },
  {
   "cell_type": "markdown",
   "metadata": {
    "id": "bQVtF0kTHAqb"
   },
   "source": [
    "## Alice's rose problem description\n",
    "\n",
    "Alice receives a beautiful rose but she has only a lemonade glass where to put the rose, which looks quite unstable. Adding a bit of water should help, but too much water will also compromises stabiliity! What is the _optimal_ level of water for her rose on a lemonade glass?\n",
    "\n",
    "[Archimedes]( https://en.wikipedia.org/wiki/Archimedes) taught us how to compute the _center of gravity_ of the glass with water, which has height\n",
    "$h = \\frac{m_w}{m_w+m_g} h_w + \\frac{m_g}{m_w+m_g} h_g$ where\n",
    "* $m_w$ the mass of water \n",
    "* $m_g$ the mass of glass\n",
    "* $h_w$ the height of the center of gravity of the water in the glass\n",
    "* $h_g$ the height of the center of gravity of the glass without water \n",
    "\n",
    "Since Alice's glass is $20$ cm tall, $4$ cm wide and weighs $100$ gram, Alice may fill the glass with water up to height $x$ cm, provided that $0 \\leq x \\leq 20$ since the water must fit in the glass.\n",
    "\n",
    "The volume of water is $\\pi r^2 x$ with $r$ the radius of the base, i.e. $r=2$. The volume is therefore $4\\pi x$ cubic centimetres. Since the density of water can be [taken](https://en.wikipedia.org/wiki/Gram_per_cubic_centimetre) as being $1$ gram per cubic centimeter we have:\n",
    "\n",
    "* $m_w = 4\\pi x$\n",
    "* $m_g = 100$\n",
    "* $h_w = \\frac{x}{2}$\n",
    "* $h_g = \\frac{20}{2} = 10$ \n",
    "\n",
    "We can then finally obtain the following formula for the height of the center of gravity of the glass with water:\n",
    "\n",
    "$$\n",
    "h = \\frac{4\\pi x}{4\\pi x + 100} \\frac{x}{2} + \\frac{100}{4\\pi x + 100} 10 = \\frac{4\\pi x^2 + 2000}{8\\pi x + 200}\n",
    "$$\n",
    "\n",
    "The full optimization problem then becomes\n",
    "\n",
    "$$\n",
    "\\begin{array}{rl}\n",
    "\\min    & \\dfrac{4\\pi x^2 + 2000}{8\\pi x + 200}  \\\\\n",
    "s.t.    & x \\geq 0   \\\\\n",
    "        & x \\leq 20  \\\\\n",
    "\\end{array}\n",
    "$$"
   ]
  },
  {
   "cell_type": "markdown",
   "metadata": {
    "id": "xpGwXzWcyavQ"
   },
   "source": [
    "## Analytical solution using sympy and math packages\n",
    "\n",
    "As you learned in calculus courses, you should know that the minima and maxima of a given differentiable function $h(x)$ should be searched among the stationary points, i.e., the points of the domain where the derivative $h'(x)$ becomes equal to zero. We can do these calculations using the [sympy](https://www.sympy.org/en/index.html) and [math](https://docs.python.org/3/library/math.html) packages. We have two different options, depending on whether we want to treat $\\pi$ as a number or as symbol."
   ]
  },
  {
   "cell_type": "markdown",
   "metadata": {},
   "source": [
    "### Treating $\\pi$ as a number"
   ]
  },
  {
   "cell_type": "code",
   "execution_count": 24,
   "metadata": {
    "colab": {
     "base_uri": "https://localhost:8080/",
     "height": 37
    },
    "id": "RdylbEWhyavT",
    "outputId": "afddb7f5-26d8-4ac6-81d7-b37bc4afa707"
   },
   "outputs": [
    {
     "data": {
      "text/latex": [
       "$\\displaystyle \\left\\{-22.8735, -7.95775, 6.95804\\right\\}$"
      ],
      "text/plain": [
       "{-22.8735, -7.95775, 6.95804}"
      ]
     },
     "execution_count": 24,
     "metadata": {},
     "output_type": "execute_result"
    }
   ],
   "source": [
    "import sympy\n",
    "import math\n",
    "\n",
    "# x is a symbol and pi is a number\n",
    "x = sympy.Symbol('x')\n",
    "pi = math.pi\n",
    "\n",
    "# h(x) is a function of x, and hprime its derivative h'(x)\n",
    "h = (4*pi*x**2 + 2000)/(8*pi*x+200)\n",
    "hprime = sympy.diff(h, x)\n",
    "\n",
    "# calculate the values of x that solve the equatioin h'(x)=0\n",
    "sol = sympy.solveset(hprime, x)\n",
    "sol.evalf(6)"
   ]
  },
  {
   "cell_type": "markdown",
   "metadata": {
    "id": "ZmscpICaRwwy"
   },
   "source": [
    "The equation $h^\\prime(x) = 0$ has two solutions in the domain $[0,20]$: one negative and one positive. Obviously, only the positive one $x^* \\approx 6.95804$ makes sense in the context of Alice's problem and, since its value is between $0$ and $20$, it is indeed feasible. The sign of the second derivative tells us whether this stationary point is a *maximum*, a *minimum* or a *saddle point*. Since $h^{\\prime\\prime}(x^*) > 0$ it is indeed a (local) **minimum**."
   ]
  },
  {
   "cell_type": "markdown",
   "metadata": {
    "id": "tp_3g1Lvyave"
   },
   "source": [
    "### Treating $\\pi$ as a symbol"
   ]
  },
  {
   "cell_type": "code",
   "execution_count": 25,
   "metadata": {
    "colab": {
     "base_uri": "https://localhost:8080/",
     "height": 68
    },
    "id": "0VJ6-cDNyavg",
    "outputId": "788c3068-7470-46a6-9374-6333c63f0130"
   },
   "outputs": [
    {
     "data": {
      "text/latex": [
       "$\\displaystyle \\left\\{\\frac{- 5 \\sqrt{5} \\sqrt{4 \\pi + 5} - 25}{\\pi}, \\frac{5 \\sqrt{5} \\sqrt{4 \\pi + 5} - 25}{\\pi}\\right\\}$"
      ],
      "text/plain": [
       "{(-5*sqrt(5)*sqrt(4*pi + 5) - 25)/pi, (5*sqrt(5)*sqrt(4*pi + 5) - 25)/pi}"
      ]
     },
     "metadata": {},
     "output_type": "display_data"
    },
    {
     "data": {
      "text/latex": [
       "$\\displaystyle 6.95804$"
      ],
      "text/plain": [
       "6.95804"
      ]
     },
     "execution_count": 25,
     "metadata": {},
     "output_type": "execute_result"
    }
   ],
   "source": [
    "# now both x and pi are symbols\n",
    "pi = sympy.Symbol('pi')\n",
    "\n",
    "# we redefine h with x and pi as symbols\n",
    "h = (4*pi*x**2 + 2000)/(8*pi*x + 200)\n",
    "\n",
    "# calculate the derivative analytically\n",
    "hprime = sympy.diff(h, x)\n",
    "\n",
    "# calculate the solutions of h'(x)=0 analytically\n",
    "solution = sympy.solveset(sympy.diff(h, x), x )\n",
    "display(solution)\n",
    "\n",
    "# approximate the numerical value of the positive of the two solutions\n",
    "s = max(solution.subs(pi, math.pi).evalf(6))\n",
    "s"
   ]
  },
  {
   "cell_type": "markdown",
   "metadata": {
    "id": "7suf1EW_yav1"
   },
   "source": [
    "Let us visualize the function $h(x)$ and the point $x^*$ that we identified."
   ]
  },
  {
   "cell_type": "code",
   "execution_count": 31,
   "metadata": {
    "id": "EtJnFA6Dyav2"
   },
   "outputs": [
    {
     "data": {
      "image/png": "[encoded data removed]",
      "text/plain": [
       "<Figure size 1300x800 with 1 Axes>"
      ]
     },
     "metadata": {
      "filenames": {
       "image/png": "/Users/ale/Google Drive/GitHub/MO-book/_build/jupyter_execute/notebooks/01/alice-rose_10_0.png"
      }
     },
     "output_type": "display_data"
    }
   ],
   "source": [
    "import matplotlib.pyplot as plt\n",
    "import numpy as np\n",
    "    \n",
    "def plot_alice(h, s, start, stop, width=18, height=8):\n",
    "\n",
    "    plt.rcParams[\"figure.figsize\"] = (13,8)\n",
    "\n",
    "    x = sympy.Symbol('x')\n",
    "    f = sympy.lambdify(x, h.subs( pi, math.pi))\n",
    "\n",
    "    x = np.linspace(start=start,stop=stop,num=100) \n",
    "    y = f(x)\n",
    "\n",
    "    plt.plot(x,y,label='$'+sympy.latex(h)+'$',linewidth=3)\n",
    "    plt.plot(s,f(s), 'ro', label='$x^*$', markersize=12)\n",
    "\n",
    "    plt.legend()\n",
    "    plt.show() \n",
    "    \n",
    "plot_alice( h, s, 0, 20 )"
   ]
  },
  {
   "cell_type": "markdown",
   "metadata": {
    "id": "ZEI3EKoMyawB"
   },
   "source": []
  },
  {
   "cell_type": "markdown",
   "metadata": {
    "id": "ZEI3EKoMyawB"
   },
   "source": [
    "## Beyond the analytical solution\n",
    "\n",
    "In general, constrained optimization problems have much more involved, complicated, and high-dimensional feasible regions and/or non-differentiable objective functions. For this reason, it makes sense to frame and solve problem differently using techniques from mathematical optimization. The way we implement and numerically solve these optimization problems in Python is using the `Pyomo` package. `Pyomo` has the advantage of completely separating modeling from solving, which allows us to switch solver without recoding a problem to scratch! "
   ]
  },
  {
   "cell_type": "code",
   "execution_count": 33,
   "metadata": {
    "colab": {
     "base_uri": "https://localhost:8080/"
    },
    "id": "slUMa7NIyawD",
    "outputId": "04f0ca69-82f9-47b0-9f01-d8c27829c8a8"
   },
   "outputs": [
    {
     "name": "stdout",
     "output_type": "stream",
     "text": [
      "1 Var Declarations\n",
      "    h : Size=1, Index=None\n",
      "        Key  : Lower : Value : Upper : Fixed : Stale : Domain\n",
      "        None :     0 :  None :    20 : False :  True :  Reals\n",
      "\n",
      "1 Objective Declarations\n",
      "    cog : Size=1, Index=None, Active=True\n",
      "        Key  : Active : Sense    : Expression\n",
      "        None :   True : minimize : (12.566370614359172*h**2 + 2000)/(25.132741228718345*h + 200)\n",
      "\n",
      "2 Declarations: h cog\n"
     ]
    }
   ],
   "source": [
    "import pyomo.environ as pyo\n",
    "\n",
    "alice = pyo.ConcreteModel('Alice')\n",
    "alice.h = pyo.Var(bounds=(0,20))\n",
    "\n",
    "@alice.Objective(sense=pyo.minimize)\n",
    "def cog(m):\n",
    "    return (4*math.pi*alice.h**2 + 2000)/(8*math.pi*alice.h + 200)\n",
    "\n",
    "alice.pprint()"
   ]
  },
  {
   "cell_type": "markdown",
   "metadata": {
    "id": "gOUsETqbX4J3"
   },
   "source": [
    "We will use `ipopt` as solver, which is a generic solver for non-linear problems. In case you are using Google Colab, we refer again to [this notebook](https://nbviewer.jupyter.org/github/jckantor/ND-Pyomo-Cookbook/blob/master/notebooks/01.02-Running-Pyomo-on-Google-Colab.ipynb) to learn how to run `Pyomo` and how to install solvers on Google Colab. For a complete overview of `Pyomo` please check the [cookbook](https://jckantor.github.io/ND-Pyomo-Cookbook/)."
   ]
  },
  {
   "cell_type": "code",
   "execution_count": 34,
   "metadata": {
    "colab": {
     "base_uri": "https://localhost:8080/"
    },
    "id": "MnIEZZ7Ryawy",
    "outputId": "9103d60d-c7da-4b31-dc41-38869d60b75a"
   },
   "outputs": [
    {
     "name": "stdout",
     "output_type": "stream",
     "text": [
      "Solver status: ok  Solver termination condition: optimal\n",
      "Model Alice\n",
      "\n",
      "  Variables:\n",
      "    h : Size=1, Index=None\n",
      "        Key  : Lower : Value            : Upper : Fixed : Stale : Domain\n",
      "        None :     0 : 6.95803921230998 :    20 : False : False :  Reals\n",
      "\n",
      "  Objectives:\n",
      "    cog : Size=1, Index=None, Active=True\n",
      "        Key  : Active : Value\n",
      "        None :   True : 6.95803920980307\n",
      "\n",
      "  Constraints:\n",
      "    None\n"
     ]
    }
   ],
   "source": [
    "results = pyo.SolverFactory('ipopt').solve(alice)\n",
    "print(\"Solver status:\",results.solver.status,\" Solver termination condition:\",results.solver.termination_condition )\n",
    "alice.display()"
   ]
  },
  {
   "cell_type": "markdown",
   "metadata": {
    "id": "fyMVJjGYHiG6"
   },
   "source": [
    "## Conclusions\n",
    "\n",
    "This notebook shows how to solve Alice's problem: finding the most stable amount of water in a vase. \n",
    "\n",
    "The notebook shows how to solve the problem analytically with `sympy`, how to use `matplotlib` to visualize the function and the optimum, and how to model Alice's problem using `Pyomo` and solve it with `ipopt`.\n"
   ]
  }
 ],
 "metadata": {
  "colab": {
   "collapsed_sections": [],
   "name": "DSE-5.1 2021 - Alice's rose.ipynb",
   "provenance": []
  },
  "kernelspec": {
   "display_name": "Python 3 (ipykernel)",
   "language": "python",
   "name": "python3"
  },
  "language_info": {
   "codemirror_mode": {
    "name": "ipython",
    "version": 3
   },
   "file_extension": ".py",
   "mimetype": "text/x-python",
   "name": "python",
   "nbconvert_exporter": "python",
   "pygments_lexer": "ipython3",
   "version": "3.10.6"
  }
 },
 "nbformat": 4,
 "nbformat_minor": 4
}