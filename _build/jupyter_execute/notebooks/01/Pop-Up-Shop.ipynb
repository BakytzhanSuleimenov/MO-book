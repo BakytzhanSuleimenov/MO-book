{
 "cells": [
  {
   "cell_type": "markdown",
   "metadata": {
    "pycharm": {}
   },
   "source": [
    "# Scenario Analysis: Pop Up Shop\n",
    "\n",
    "![](https://upload.wikimedia.org/wikipedia/commons/thumb/c/c5/Weich_Couture_Alpaca%2C_D%C3%BCsseldorf%2C_December_2020_%2809%29.jpg/1200px-Weich_Couture_Alpaca%2C_D%C3%BCsseldorf%2C_December_2020_%2809%29.jpg)\n",
    "\n",
    "Kürschner (talk) 17:51, 1 December 2020 (UTC), CC0, via Wikimedia Commons"
   ]
  },
  {
   "cell_type": "markdown",
   "metadata": {
    "tags": []
   },
   "source": [
    "## The problem\n",
    "\n",
    "You've been offered an opportunity to operate a pop-up shop to sell a unique commemorative item for each event held at a famous location. The items cost &euro;12 each and you will be able to sell them for 40&euro;. Unsold items can be returned to the supplier but you will receive only &euro;2 due to their commemorative nature.\n",
    "\n",
    "| Parameter | Symbol | Value |\n",
    "| :---: | :---: | :---: |\n",
    "| sales price | $r$ | 40 &euro; |\n",
    "| unit cost | $c$ | 12 &euro; |\n",
    "| salvage value | $w$ | 2 &euro; |\n",
    "\n",
    "The more you sell the more profit you will earn. Demand for these items, however, will be high only if the weather is good. Historical data suggests the following scenarios."
   ]
  },
  {
   "cell_type": "markdown",
   "metadata": {
    "tags": []
   },
   "source": [
    "| Scenario ($s$) | Demand ($d_s$) | Probability ($p_s$) |\n",
    "| :---: | :-----: | :----------: |\n",
    "| Sunny Skies | 650 | 0.10 |\n",
    "| Good Weather | 400 | 0.60 |\n",
    "| Poor Weather | 200 | 0.30 |\n",
    "\n",
    "Below we create a pandas DataFrame object to store the scenario data."
   ]
  },
  {
   "cell_type": "code",
   "execution_count": 1,
   "metadata": {},
   "outputs": [
    {
     "data": {
      "text/html": [
       "<div>\n",
       "<style scoped>\n",
       "    .dataframe tbody tr th:only-of-type {\n",
       "        vertical-align: middle;\n",
       "    }\n",
       "\n",
       "    .dataframe tbody tr th {\n",
       "        vertical-align: top;\n",
       "    }\n",
       "\n",
       "    .dataframe thead th {\n",
       "        text-align: right;\n",
       "    }\n",
       "</style>\n",
       "<table border=\"1\" class=\"dataframe\">\n",
       "  <thead>\n",
       "    <tr style=\"text-align: right;\">\n",
       "      <th></th>\n",
       "      <th>prob</th>\n",
       "      <th>demand</th>\n",
       "    </tr>\n",
       "  </thead>\n",
       "  <tbody>\n",
       "    <tr>\n",
       "      <th>sunny skies</th>\n",
       "      <td>0.1</td>\n",
       "      <td>650.0</td>\n",
       "    </tr>\n",
       "    <tr>\n",
       "      <th>good weather</th>\n",
       "      <td>0.6</td>\n",
       "      <td>400.0</td>\n",
       "    </tr>\n",
       "    <tr>\n",
       "      <th>poor weather</th>\n",
       "      <td>0.3</td>\n",
       "      <td>200.0</td>\n",
       "    </tr>\n",
       "  </tbody>\n",
       "</table>\n",
       "</div>"
      ],
      "text/plain": [
       "              prob  demand\n",
       "sunny skies    0.1   650.0\n",
       "good weather   0.6   400.0\n",
       "poor weather   0.3   200.0"
      ]
     },
     "metadata": {},
     "output_type": "display_data"
    }
   ],
   "source": [
    "import numpy as np\n",
    "import pandas as pd\n",
    "\n",
    "# price information\n",
    "r = 40\n",
    "c = 12\n",
    "w = 2\n",
    "\n",
    "# scenario information\n",
    "scenarios = {\n",
    "    \"sunny skies\" : {\"prob\": 0.10, \"demand\": 650},\n",
    "    \"good weather\": {\"prob\": 0.60, \"demand\": 400},\n",
    "    \"poor weather\": {\"prob\": 0.30, \"demand\": 200},\n",
    "}\n",
    "\n",
    "df = pd.DataFrame.from_dict(scenarios).T\n",
    "display(df)"
   ]
  },
  {
   "cell_type": "markdown",
   "metadata": {
    "tags": []
   },
   "source": [
    "The problem is to determine how many items to order for the pop-up shop. The dilemma is that the weather won't be known until after the order is placed. Ordering enough items to meet demand for a good weather day results in a  financial penalty on returned goods if the weather is poor. On the other hand, ordering just enough items to satisfy demand on a poor weather day leaves \"money on the table\" if the weather is good.\n",
    "\n",
    "How many items should order for sale at the event?"
   ]
  },
  {
   "cell_type": "markdown",
   "metadata": {
    "tags": []
   },
   "source": [
    "## Expected value for the mean scenario (EVM)\n",
    " \n",
    "A naive solution to this proc is to place an order equal to the expected demand. The expected demand is given by\n",
    "\n",
    "\\begin{align*}\n",
    "\\mathbb E[D] & = \\sum_{s\\in S} p_s d_s \n",
    "\\end{align*}\n",
    "\n",
    "Choosing an order size $x = \\mathbb E[d]$ results in an expected profit we call the **expected value of the mean scenario (EVM)**. \n",
    "\n",
    "Given an order size $x$, $y_s$ will be the number of items sold if scenario $s$ should occur. The amount sold is the lesser of the demand $d_s$ and $x$.\n",
    "\n",
    "\\begin{align*}\n",
    "y_s & = \\min(d_s, x) & \\forall s \\in S\n",
    "\\end{align*}\n",
    "\n",
    "After completing event, the remaining inventory $x - y_s$ will be sold at the salvage price $w$. Taking into account the revenue from sales $r y_s$, the salvage value of the unsold inventory $w(x - y_s)$, and the cost of the order $c x$, the resulting profit $f_s$ for scenario $s$ is given by\n",
    "\n",
    "\\begin{align*}\n",
    "f_s & = r y_s + w (x - y_s) - c  x & \\forall s \\in S\n",
    "\\end{align*}\n",
    "\n",
    "The average or expected profit is given by\n",
    "\n",
    "\\begin{align*}\n",
    "\\text{EVM} = \\mathbb E[f] & = \\sum_{s\\in S} p_s f_s\n",
    "\\end{align*}\n",
    "\n",
    "These calculations can be executed using operations on the pandas dataframe. Let's begin by calculating the expected demand."
   ]
  },
  {
   "cell_type": "code",
   "execution_count": 2,
   "metadata": {},
   "outputs": [
    {
     "name": "stdout",
     "output_type": "stream",
     "text": [
      "Expected demand = 365.0\n"
     ]
    }
   ],
   "source": [
    "expected_demand = sum(df[\"prob\"] * df[\"demand\"])\n",
    "print(f\"Expected demand = {expected_demand}\")"
   ]
  },
  {
   "cell_type": "markdown",
   "metadata": {},
   "source": [
    "Subsequent calculations can be done directly with pandas dataframe holding the scenario data."
   ]
  },
  {
   "cell_type": "code",
   "execution_count": 3,
   "metadata": {},
   "outputs": [
    {
     "name": "stdout",
     "output_type": "stream",
     "text": [
      "Mean demand = 365.0\n",
      "Expected value of the mean demand (EVM) = 8339.0\n"
     ]
    },
    {
     "data": {
      "text/html": [
       "<div>\n",
       "<style scoped>\n",
       "    .dataframe tbody tr th:only-of-type {\n",
       "        vertical-align: middle;\n",
       "    }\n",
       "\n",
       "    .dataframe tbody tr th {\n",
       "        vertical-align: top;\n",
       "    }\n",
       "\n",
       "    .dataframe thead th {\n",
       "        text-align: right;\n",
       "    }\n",
       "</style>\n",
       "<table border=\"1\" class=\"dataframe\">\n",
       "  <thead>\n",
       "    <tr style=\"text-align: right;\">\n",
       "      <th></th>\n",
       "      <th>prob</th>\n",
       "      <th>demand</th>\n",
       "      <th>order</th>\n",
       "      <th>sold</th>\n",
       "      <th>salvage</th>\n",
       "      <th>profit</th>\n",
       "    </tr>\n",
       "  </thead>\n",
       "  <tbody>\n",
       "    <tr>\n",
       "      <th>sunny skies</th>\n",
       "      <td>0.1</td>\n",
       "      <td>650.0</td>\n",
       "      <td>365.0</td>\n",
       "      <td>365.0</td>\n",
       "      <td>0.0</td>\n",
       "      <td>10220.0</td>\n",
       "    </tr>\n",
       "    <tr>\n",
       "      <th>good weather</th>\n",
       "      <td>0.6</td>\n",
       "      <td>400.0</td>\n",
       "      <td>365.0</td>\n",
       "      <td>365.0</td>\n",
       "      <td>0.0</td>\n",
       "      <td>10220.0</td>\n",
       "    </tr>\n",
       "    <tr>\n",
       "      <th>poor weather</th>\n",
       "      <td>0.3</td>\n",
       "      <td>200.0</td>\n",
       "      <td>365.0</td>\n",
       "      <td>200.0</td>\n",
       "      <td>165.0</td>\n",
       "      <td>3950.0</td>\n",
       "    </tr>\n",
       "  </tbody>\n",
       "</table>\n",
       "</div>"
      ],
      "text/plain": [
       "              prob  demand  order   sold  salvage   profit\n",
       "sunny skies    0.1   650.0  365.0  365.0      0.0  10220.0\n",
       "good weather   0.6   400.0  365.0  365.0      0.0  10220.0\n",
       "poor weather   0.3   200.0  365.0  200.0    165.0   3950.0"
      ]
     },
     "metadata": {},
     "output_type": "display_data"
    }
   ],
   "source": [
    "df[\"order\"] = expected_demand\n",
    "df[\"sold\"] = df[[\"demand\", \"order\"]].min(axis=1)\n",
    "df[\"salvage\"] = df[\"order\"] - df[\"sold\"]\n",
    "df[\"profit\"] = r * df[\"sold\"] + w * df[\"salvage\"] - c * df[\"order\"]\n",
    "\n",
    "EVM = sum(df[\"prob\"] * df[\"profit\"])\n",
    "\n",
    "print(f\"Mean demand = {expected_demand}\")\n",
    "print(f\"Expected value of the mean demand (EVM) = {EVM}\")\n",
    "display(df)"
   ]
  },
  {
   "cell_type": "markdown",
   "metadata": {
    "tags": []
   },
   "source": [
    "## Expected value of the stochastic solution (EV)\n",
    "\n",
    "The optimization problem is to find the order size $x$ that maximizes expected profit subject to operational constraints on the decision variables. The variables $x$ and $y_s$ are non-negative, while $f_s$ can take on both positive and negative values. Operationally, the amount of goods sold in scenario $s$ has to be less than the order size $x$ and customer demand $d_s$. \n",
    "\n",
    "The problem to be solved is\n",
    "\n",
    "$$\n",
    "\\begin{align*}\n",
    "\\text{EV} = & \\max_{x, y_s} \\mathbb E[F] = \\sum_{s\\in S} p_s f_s \\\\\n",
    "\\text{subject to:} \\\\\n",
    "f_s & = r y_s + w(x - y_s) - c x & \\forall s \\in S\\\\\n",
    "y_s & \\leq x & \\forall s \\in S \\\\\n",
    "y_s & \\leq d_s & \\forall s \\in S\n",
    "\\end{align*}\n",
    "$$\n",
    "\n",
    "where $S$ is the set of all scenarios under consideration."
   ]
  },
  {
   "cell_type": "code",
   "execution_count": 4,
   "metadata": {},
   "outputs": [],
   "source": [
    "import sys\n",
    "at_colab = \"google.colab\" in sys.modules\n",
    "\n",
    "if at_colab:\n",
    "    _=!pip install -q pyomo\n",
    "    _=!wget -N -q \"https://ampl.com/dl/open/ipopt/ipopt-linux64.zip\"\n",
    "    _=!unzip -o -q ipopt-linux64\n",
    "    _=!apt-get install -y -q coinor-cbc\n",
    "    _=!pip install -q cplex\n",
    "    _=!pip install -q gurobipy\n",
    "    _=!pip install -q xpress"
   ]
  },
  {
   "cell_type": "code",
   "execution_count": 80,
   "metadata": {},
   "outputs": [
    {
     "name": "stdout",
     "output_type": "stream",
     "text": [
      "Solver Termination Condition: optimal\n",
      "Expected Profit: 8920.0\n",
      "\n"
     ]
    },
    {
     "data": {
      "text/html": [
       "<div>\n",
       "<style scoped>\n",
       "    .dataframe tbody tr th:only-of-type {\n",
       "        vertical-align: middle;\n",
       "    }\n",
       "\n",
       "    .dataframe tbody tr th {\n",
       "        vertical-align: top;\n",
       "    }\n",
       "\n",
       "    .dataframe thead th {\n",
       "        text-align: right;\n",
       "    }\n",
       "</style>\n",
       "<table border=\"1\" class=\"dataframe\">\n",
       "  <thead>\n",
       "    <tr style=\"text-align: right;\">\n",
       "      <th></th>\n",
       "      <th>demand</th>\n",
       "      <th>p</th>\n",
       "      <th>order</th>\n",
       "      <th>sold</th>\n",
       "      <th>salvage</th>\n",
       "      <th>profit</th>\n",
       "    </tr>\n",
       "  </thead>\n",
       "  <tbody>\n",
       "    <tr>\n",
       "      <th>sunny skies</th>\n",
       "      <td>650.0</td>\n",
       "      <td>0.1</td>\n",
       "      <td>400.0</td>\n",
       "      <td>400.0</td>\n",
       "      <td>0.0</td>\n",
       "      <td>11200.0</td>\n",
       "    </tr>\n",
       "    <tr>\n",
       "      <th>good weather</th>\n",
       "      <td>400.0</td>\n",
       "      <td>0.6</td>\n",
       "      <td>400.0</td>\n",
       "      <td>400.0</td>\n",
       "      <td>0.0</td>\n",
       "      <td>11200.0</td>\n",
       "    </tr>\n",
       "    <tr>\n",
       "      <th>poor weather</th>\n",
       "      <td>200.0</td>\n",
       "      <td>0.3</td>\n",
       "      <td>400.0</td>\n",
       "      <td>200.0</td>\n",
       "      <td>200.0</td>\n",
       "      <td>3600.0</td>\n",
       "    </tr>\n",
       "  </tbody>\n",
       "</table>\n",
       "</div>"
      ],
      "text/plain": [
       "              demand    p  order   sold  salvage   profit\n",
       "sunny skies    650.0  0.1  400.0  400.0      0.0  11200.0\n",
       "good weather   400.0  0.6  400.0  400.0      0.0  11200.0\n",
       "poor weather   200.0  0.3  400.0  200.0    200.0   3600.0"
      ]
     },
     "metadata": {},
     "output_type": "display_data"
    }
   ],
   "source": [
    "import pyomo.environ as pyo\n",
    "import pandas as pd\n",
    "\n",
    "# price information\n",
    "r = 40\n",
    "c = 12\n",
    "w = 2  \n",
    "\n",
    "# scenario information\n",
    "scenarios = {\n",
    "    \"sunny skies\" : {\"demand\": 650, \"p\": 0.1},\n",
    "    \"good weather\": {\"demand\": 400, \"p\": 0.6},\n",
    "    \"poor weather\": {\"demand\": 200, \"p\": 0.3},\n",
    "}\n",
    "\n",
    "# specify solver\n",
    "solver = pyo.SolverFactory('cbc')\n",
    "\n",
    "# create model instance\n",
    "m = pyo.ConcreteModel('Pet Shop')\n",
    "\n",
    "# decision variables\n",
    "m.S = pyo.Set(initialize=scenarios.keys())\n",
    "m.x = pyo.Var(within=pyo.NonNegativeReals)\n",
    "m.y = pyo.Var(m.S, within=pyo.NonNegativeReals)\n",
    "m.f = pyo.Var(m.S)\n",
    "\n",
    "# objective\n",
    "m.EV = pyo.Objective(expr=sum([scenarios[s][\"p\"]*m.f[s] for s in m.S]), sense=pyo.maximize)\n",
    "\n",
    "# constraints\n",
    "m.constraints = pyo.ConstraintList()\n",
    "for s in m.S:\n",
    "    m.constraints.add(m.f[s] == r*m.y[s] + w*(m.x - m.y[s]) - c*m.x)\n",
    "    m.constraints.add(m.y[s] <= m.x)\n",
    "    m.constraints.add(m.y[s] <= scenarios[s][\"demand\"])\n",
    "\n",
    "# solve\n",
    "results = solver.solve(m)\n",
    "\n",
    "# display solution using Pandas\n",
    "print(\"Solver Termination Condition:\", results.solver.termination_condition)\n",
    "print(\"Expected Profit:\", m.EV())\n",
    "print()\n",
    "for s in m.S:\n",
    "    scenarios[s][\"order\"] = m.x()\n",
    "    scenarios[s][\"sold\"] = m.y[s]()\n",
    "    scenarios[s][\"salvage\"] = m.x() - m.y[s]()\n",
    "    scenarios[s][\"profit\"] = m.f[s]()\n",
    "    \n",
    "df = pd.DataFrame.from_dict(scenarios).T\n",
    "display(df)"
   ]
  },
  {
   "cell_type": "markdown",
   "metadata": {},
   "source": [
    "FINALIZE NARRATIVE IN BOOK, THEN MATCH TO THE BOOK."
   ]
  },
  {
   "cell_type": "markdown",
   "metadata": {},
   "source": [
    "Optimizing the expected value of the profit over all scenarios provides an expected profit of 8,920&euro;, an increase of 581&euro; that is the result of placing a larger order. In poor weather conditions there will be more returns and lower profit, but that is more than compensated by the increased profits in good weather conditions. The value of the stochastic solution is the additional profit compared to ordering to meet expected in demand. In this case,\n",
    "\n",
    "$$\\text{VSS} = \\text{EV} - \\text{EVM} = 8,920 - 8,339 = 581$$"
   ]
  },
  {
   "cell_type": "markdown",
   "metadata": {},
   "source": [
    "## Expected value with perfect information (EVPI)\n",
    "\n",
    "An essential element of the model for maximizing expected profit is the requirement that size of the order be decided before knowing what scenario will unfold. The decision for $x$ has to be made \"here and now\" with probablistic information about the future, but no specific information which specific future will transpire.\n",
    "\n",
    "But what if that infomration about the future could be obtained? How much additional profit could be realized if one could travel into the future to determine which scenario will take place, then place today's order accordingly?\n",
    "\n",
    "To compute the expect profit with perfect information, we will allow the decision varaible $x_s$ to \n",
    "\n",
    "$$\n",
    "\\begin{align*}\n",
    "\\text{EVPI} = & \\max_{x_s, y_s} \\mathbb E[f] = \\sum_{s\\in S} p_s f_s \\\\\n",
    "\\text{subject to:} \\\\\n",
    "f_s & = r y_s + w(x - y_s) - c x & \\forall s \\in S\\\\\n",
    "y_s & \\leq x_s & \\forall s \\in S \\\\\n",
    "y_s & \\leq d_s & \\forall s \\in S\n",
    "\\end{align*}\n",
    "$$\n"
   ]
  },
  {
   "cell_type": "code",
   "execution_count": 367,
   "metadata": {},
   "outputs": [
    {
     "data": {
      "image/png": "[encoded data removed]",
      "text/plain": [
       "<Figure size 432x288 with 1 Axes>"
      ]
     },
     "metadata": {
      "filenames": {
       "image/png": "/Users/jeff/Google Drive/GitHub/MO-book/_build/jupyter_execute/notebooks/01/Pop-Up-Shop_15_0.png"
      },
      "needs_background": "light"
     },
     "output_type": "display_data"
    }
   ],
   "source": [
    "x = np.linspace(0, 700, 701)\n",
    "ep = pd.DataFrame({\"order\":x, \"Expected Profit\": [expected_profit(x) for x in x]})\n",
    "ax = ep.plot(x=\"order\", title=\"Expected Profit\", grid=True)\n",
    "\n",
    "for s in df.index:\n",
    "    x = df.loc[s, \"demand\"]\n",
    "    ax.plot(x, expected_profit(x), 'b.', ms=10)\n",
    "    "
   ]
  },
  {
   "cell_type": "markdown",
   "metadata": {},
   "source": [
    "We begin by encoding the problem data using Python objects. The scenario information as a pandas DataFrame ... a commonly used technique in Python to store structured data. The set of scenarios is the index to the dataframe."
   ]
  }
 ],
 "metadata": {
  "kernelspec": {
   "display_name": "Python 3 (ipykernel)",
   "language": "python",
   "name": "python3"
  },
  "language_info": {
   "codemirror_mode": {
    "name": "ipython",
    "version": 3
   },
   "file_extension": ".py",
   "mimetype": "text/x-python",
   "name": "python",
   "nbconvert_exporter": "python",
   "pygments_lexer": "ipython3",
   "version": "3.9.7"
  }
 },
 "nbformat": 4,
 "nbformat_minor": 4
}