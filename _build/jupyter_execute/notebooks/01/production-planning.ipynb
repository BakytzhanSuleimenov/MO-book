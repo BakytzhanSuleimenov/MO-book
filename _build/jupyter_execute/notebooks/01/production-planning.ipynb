{
 "cells": [
  {
   "cell_type": "markdown",
   "metadata": {
    "id": "AVkGJGu-Ob6L"
   },
   "source": [
    "```{index} single: Pyomo; variables \n",
    "```\n",
    "```{index} single: Pyomo; expressions \n",
    "```\n",
    "```{index} single: Pyomo; sets \n",
    "```\n",
    "```{index} single: Pyomo; decorators\n",
    "```\n",
    "```{index} single: solver; cbc\n",
    "```\n",
    "\n",
    "# Pyomo Tutorial Example: Production Planning\n",
    "\n",
    "Pyomo is an algebraic modeling language embedded within Python for creating mathematical optimization applications. Pyomo can create objects representing decision variables, expressions, objective functions, and constraints. Much of the utility of Pyomo comes from methods to transform and solve models with a choice of open-source and commercial solvers. \n",
    "\n",
    "The purpose of this notebook is to introduce the basic elements of Pyomo with a case study of a small production planning problem. A more complete version of the problem is revisited in Chapter 10 to demonstrate stochastic and robust optimization. This notebook introduces components from the Pyomo library common to most applications:\n",
    "\n",
    "* [Variables](https://pyomo.readthedocs.io/en/latest/pyomo_modeling_components/Variables.html)\n",
    "* [Objectives](https://pyomo.readthedocs.io/en/latest/pyomo_modeling_components/Objectives.html)\n",
    "* [Constraints](https://pyomo.readthedocs.io/en/latest/pyomo_modeling_components/Constraints.html)\n",
    "* [Expressions](https://pyomo.readthedocs.io/en/latest/pyomo_modeling_components/Expressions.html)\n",
    "<<<<<<< local\n",
    "* [SolverFactory]()\n",
    "=======\n",
    "* [Parameters](https://pyomo.readthedocs.io/en/latest/pyomo_modeling_components/Parameters.html)\n",
    "* [Sets](https://pyomo.readthedocs.io/en/latest/pyomo_modeling_components/Sets.html)\n",
    ">>>>>>> remote\n",
    "\n",
    "The notebook begins with a statement of production planning problem and presentation of a mathematical model. The mathematical model is then translated into series of Pyomo models of increasing abstraction.\n",
    "\n",
    "The first version of the model is a direct translation of the mathematics into corresponding Pyomo components using `Var()`, `Objective()`, `Constraint` and `SolverFactory`. No attempt is made at generalizing the model, and parameter values are used directly in expressions. \n",
    "\n",
    "Version 2 refactors the Pyomo model by using Python data structures to represent problem data, and employing `Set()` to create indices for decision variables and constraints. This provides a model that can be reused for \n",
    "\n",
    "Version 3 of the model extends \n",
    "\n",
    "This generates a satisfactory solution and would be enough for examples involving a small number of decision variables and constraints. This version of the model provides a tutorial introduction to the use of variables, expressions, objectives, and constraints.\n",
    "\n",
    "Version 2 of the model introduces the use of sets, parameters, indexed variables, and indexed constraints. These additional components of the Pyomo library are essential to building scalable and maintainable models for more complex applications. \n",
    "\n",
    "One feature of these notebooks is the use of Python decorators to designate Pyomo objectives, constraints, and other model components. This is a relatively new feature available in recent versions of Pyomo. Decorators are a less commonly used feature of Python that may be unfamiliar to new users, but are well worth the effort of learning for a remarkable gain in the readability and maintenance of Pyomo models.\n",
    "\n",
    "So let's get started."
   ]
  },
  {
   "cell_type": "markdown",
   "id": "980d74e0",
   "metadata": {},
   "source": [
    "<span style=\"color:red\">**<<<<<<< local**</span>"
   ]
  },
  {
   "cell_type": "markdown",
   "metadata": {},
   "source": [
    "## A Production Planning Problem\n",
    "\n",
    "A company produces two versions of a product. Each version is made from the same raw material that costs 10€ per gram, and each version requires two different types of specialized labor to finish. \n",
    "\n",
    "$U$ is the higher priced version of the product. $U$ sells for  270€ per unit and requires 10 grams of raw material, one hour of labor type $A$, two hours of labor type $B$. The market demand for $U$ is limited to forty units per week. $V$ is the lower priced version of the product with unlimited demand that sells for 210€ per unit and requires 9 grams of raw material, 1 hour of labor type $A$ and 1 hour of labor type $B$. This data is summarized in the following table:\n",
    "\n",
    "| Version | Raw Material <br> required | Labor A <br> required | Labor B <br> required | Market <br> Demand | Price |\n",
    "| :-: | :-: | :-: | :-: | :-: | :-: | \n",
    "| U | 10 g | 1 hr | 2 hr | $\\leq$ 40 units | 270€ |\n",
    "| V |  9 g | 1 hr | 1 hr | unlimited | 210€ |\n",
    "\n",
    "Weekly production at the company is limited by the availability of labor and by the inventory of raw material. The raw material has a shelf life of one week and must be ordered in advance. Any raw material left over at the end of the week is discarded. The following table details the cost and availability of raw material and labor.\n",
    "\n",
    "| Resource | Amount <br> Available | Cost | \n",
    "| :-: | :-: | :-: |\n",
    "| Raw Material | ? | 10€ / g |\n",
    "| Labor A | 80 hours | 50€ / hour |\n",
    "| Labor B | 100 hours | 40€ / hour | \n",
    "\n",
    "The company wishes to maximize gross profits. \n",
    "\n",
    "1. How much raw material should be ordered in advance for each week? \n",
    "2. How many units of $U$ and $V$ should the company produce each week? "
   ]
  },
  {
   "cell_type": "markdown",
   "metadata": {},
   "source": [
    "## Mathematical Model\n",
    "\n",
    "A starting point for the development of a mathematical model is to create a list of relevant decision variables. Some of decision variables may prove redundant later, tut for now we seek to identify quantities that may be useful in expressing the problem objectives and constraints. A candidate set of decision variable is listed in the following table with a symbol, description, and any lower and upper bounds that are known from the problem data.\n",
    "\n",
    "| Decision Variable | Description | lower bound | upper bound |\n",
    "| :-: | :--- | :-: | :-: |\n",
    "| $x_M$ | amount of raw material used | 0 | - |\n",
    "| $x_A$ | amount of Labor A used | 0 | 80 |\n",
    "| $x_B$ | amount of Labor B used | 0 | 100 |\n",
    "| $y_U$ | number of $U$ units to produce | 0 | 40 |\n",
    "| $y_V$ | number of $V$ units to product | 0 | - |\n",
    "| revenue | amount of revenue generated by sales | - | - |\n",
    "| expense | cost of raw materials and labor | - | - |\n",
    "| profit | difference between revenue and expense | - | - |\n",
    "\n",
    "The problem objective is to maximize profit\n",
    "\n",
    "$$\\max\\ \\text{profit}$$\n",
    "\n",
    "where profit is defined as the difference between revenue and expense. \n",
    "\n",
    "$$\n",
    "\\begin{aligned}\n",
    "\\text{profit} & = \\text{revenue} - \\text{expense} \\\\\n",
    "\\end{aligned}\n",
    "$$\n",
    "\n",
    "Revenue and profit are linear expressions that can be written in terms of the decision variables.\n",
    "\n",
    "$$\n",
    "\\begin{aligned}\n",
    "\\text{revenue} & = 270 y_U + 210 y_V \\\\\n",
    "\\text{expense} & = 10 x_M + 50 x_A + 40 x_B  \\\\\n",
    "\\end{aligned}\n",
    "$$\n",
    "\n",
    "The quantity of products produced is limited by the available resources. For each resource there is a corresponding linear constraint that limits production.\n",
    "\n",
    "$$\n",
    "\\begin{aligned}\n",
    "10 y_U + 9 y_V  & \\leq x_M & & \\text{raw material}\\\\\n",
    "2 y_U + 1 y_V & \\leq x_A & &\\text{labor A} \\\\\n",
    "1 y_U + 1 y_V & \\leq x_B & & \\text{labor B}\\\\\n",
    "\\end{aligned}\n",
    "$$\n",
    "\n",
    "This completes the mathematical description of this example of a production planning problem. The next is create a Pyomo model t"
   ]
  },
  {
   "cell_type": "markdown",
   "id": "6265c376",
   "metadata": {},
   "source": [
    "<span style=\"color:red\">**=======**</span>"
   ]
  },
  {
   "cell_type": "markdown",
   "metadata": {},
   "source": [
    "## A Production Planning Problem"
   ]
  },
  {
   "cell_type": "markdown",
   "metadata": {},
   "source": [
    "### Problem Statement\n",
    "\n",
    "A small company has developed two versions of a new product. Each version of the product is made from the same raw material that costs 10€ per gram, and requires two different types of specialized labor to produce. \n",
    "\n",
    "$U$ is the higher priced version of the product. $U$ sells for  270€ per unit and requires 10 grams of raw material, one hour of labor type $A$, two hours of labor type $B$. Because of the higher price, the market demand for $U$ is limited to forty units per week. $V$ is the lower priced version of the product that sells for 210€ per unit with unlimited demand and requires 9 grams of raw material, 1 hour of labor type $A$ and 1 hour of labor type $B$. This data is summarized in the following table:\n",
    "\n",
    "| Version | Raw material <br> required | Labor A <br> required | Labor B <br> required | Market <br> demand | Price |\n",
    "| :-: | :-: | :-: | :-: | :-: | :-: | \n",
    "| U | 10 g | 1 hr | 2 hr | $\\leq$ 40 units | 270€ |\n",
    "| V |  9 g | 1 hr | 1 hr | unlimited | 210€ |\n",
    "\n",
    "Weekly production at the company is limited by the availability of labor and the inventory of raw material. The raw material must be ordered in advance and has a short shelf life. Any raw material left over at the end of the week is discarded. The following table details the cost and availability of raw material and labor.\n",
    "\n",
    "| Resource | Amount <br> available | Cost | \n",
    "| :-: | :-: | :-: |\n",
    "| Raw Material | ? | 10€ / g |\n",
    "| Labor A | 80 hours | 50€ / hour |\n",
    "| Labor B | 100 hours | 40€ / hour | \n",
    "\n",
    "The company wishes to maximize gross profits. How much raw material should be ordered in advance for each week? How many units of $U$ and $V$ should the company produce each week? "
   ]
  },
  {
   "cell_type": "markdown",
   "metadata": {},
   "source": [
    "### Mathematical Model\n",
    "\n",
    "The above is an example of an optimization problem. Formulating such a problem in a mathematical fashion always involves three crucial elements: **decision variables, constraints, and an objective function**, which we will now introduce.\n",
    "\n",
    "The starting point for the development of a mathematical model is to create a list of relevant decision variables. Some of the decision variables may prove redundant later, tut for now we seek to identify quantities that may be useful in expressing the problem objectives and constraints. A candidate set of decision variable is listed in the following table with a symbol, description, and any lower and upper bounds that are known from the problem data.\n",
    "\n",
    "| Decision variable | Description | Lower bound | Upper bound |\n",
    "| :-: | :--- | :-: | :-: |\n",
    "| $x_M$ | amount of raw material used | 0 | - |\n",
    "| $x_A$ | amount of Labor A used | 0 | 80 |\n",
    "| $x_B$ | amount of Labor B used | 0 | 100 |\n",
    "| $y_U$ | number of $U$ units to produce | 0 | 40 |\n",
    "| $y_V$ | number of $V$ units to product | 0 | - |\n",
    "\n",
    "Using the decision variables above, we are able to formulate the **objective function** to be maximized -- the profit,\n",
    "\n",
    "$$\\max\\ \\text{profit}$$\n",
    "\n",
    "which is equal to the difference between revenue and the costs:which equals the difference between revenue and the costs:\n",
    "\n",
    "$$\n",
    "\\begin{aligned}\n",
    "\\text{profit} & = \\text{revenue} - \\text{expense} \\\\\n",
    "\\end{aligned}\n",
    "$$\n",
    "\n",
    "Revenue and profit are linear expressions that can be written in terms of the decision variables.\n",
    "\n",
    "$$\n",
    "\\begin{aligned}\n",
    "\\text{revenue} & = 270 y_U + 210 y_V \\\\\n",
    "\\text{expense} & = 10 x_M + 50 x_A + 40 x_B  \\\\\n",
    "\\end{aligned}\n",
    "$$\n",
    "\n",
    "The decision variables $y_U, y_V, x_M ,x_A ,x_B$ cannot take any value, but they need to specify specific conditions. maximize the profit formula we cannot, however, just pick any values. Instead, they have to satisfy certain **constraints**, expressed as equalities or inequalities involving the decision variables. For each resource there is a corresponding linear constraint that limits production, namely:\n",
    "\n",
    "$$\n",
    "\\begin{aligned}\n",
    "10 y_U + 9 y_V  & \\leq x_M & & \\text{(raw material)}\\\\\n",
    "2 y_U + 1 y_V & \\leq x_A & &\\text{(labor A)} \\\\\n",
    "1 y_U + 1 y_V & \\leq x_B & & \\text{(labor B)}\\\\\n",
    "\\end{aligned}\n",
    "$$\n",
    "\n",
    "We are now ready to formulate the full mathematical optimization problem in the following canonical way: first we state the objective function to be maximized (or minimized), then we list all the constraints, and lastly we report all the decision variables and their bounds:\n",
    "\n",
    "$$\n",
    "\\begin{align}\n",
    "\\max \\quad & 270 y_U + 210 y_V - 10 x_M - 50 x_A - 40 x_B \\\\\n",
    "\\text{such that = s.t.} \\quad & 10 y_U + 9 y_V  \\leq x_M \\nonumber \\\\\n",
    " & 2 y_U + 1 y_V \\leq x_A \\nonumber \\\\\n",
    " & 1 y_U + 1 y_V \\leq x_B \\nonumber \\\\\n",
    " & 0 \\leq x_M \\nonumber \\\\\n",
    " & 0 \\leq x_A \\leq 80 \\nonumber \\\\\n",
    " & 0 \\leq x_B \\leq 100 \\nonumber \\\\\n",
    " & 0 \\leq y_U \\leq 40 \\nonumber \\\\\n",
    " & 0 \\leq y_V.\\nonumber \n",
    "\\end{align}\n",
    "$$\n",
    "\n",
    "This completes the mathematical description of this example of a production planning problem. \n",
    "\n",
    "In many textbooks it is customary to write the decision variables also under the $\\min$ symbol so as to clearly distinguish between the variables and any other parameters (which might also be expressed as symbols or letters) in the problem formulation. Throughout this book, however, we stick to the convention that the decision variables are only those for which explicitly state their domains as part of the problem formulation.\n",
    "\n",
    "An **optimal solution** of the problem is any vector of decision variables that meets the constraints and achieves the maximum/minimum objective.\n",
    "\n",
    "However, even for a simple problem like this one, it is not immediately clear what the optimal solution is. This is exactly where mathematical optimization algorithms come into play -- they are generic procedures that can find the optimal solutions of problems as long as these problems can be formulated in a standardized fashion as above. For a practitioner, mathematical optimization very often boils down to formulating the problem as a model above, and then passing it over to one of the open-source or commercial software packages that can solve such a model, regardless of what was the original *story* behind the model. In order to do so, we need an interface of communication between the models and the algorithms. In this book, we opt for a Python-based interface which is the ```Pyomo``` modelling package.\n",
    "\n",
    "The next step is thus creating the corresponding Pyomo model."
   ]
  },
  {
   "cell_type": "markdown",
   "id": "ddd9857a",
   "metadata": {},
   "source": [
    "<span style=\"color:red\">**>>>>>>> remote**</span>"
   ]
  },
  {
   "cell_type": "markdown",
   "metadata": {},
   "source": [
    "## Version 1: Scalar Variables and Constraints\n",
    "\n",
    "This first version of a Pyomo model uses components from the Pyomo library to represent the decision variables, expressions, objectives, and constraints as they appear in the mathematical model for this production planning problem. This is a direct translation of the mathematical model to Pyomo using the basic elements of Pyomo."
   ]
  },
  {
   "cell_type": "markdown",
   "metadata": {},
   "source": [
    "<<<<<<< local\n",
    "### Step 0.Install Pyomo and solvers\n",
    "=======\n",
    "**Step 0. Installing Pyomo and solvers.**\n",
    ">>>>>>> remote\n",
    "\n",
    "Before going further, the first step is to install the Pyomo library and any solvers that may be used to compute numerical solutions. The following cell downloads a Python module that will check for (and if necessary install) Pyomo and a linear solver on Google Colab and most laptops."
   ]
  },
  {
   "cell_type": "code",
   "execution_count": null,
   "metadata": {
    "colab": {
     "base_uri": "https://localhost:8080/"
    },
    "execution": {
     "iopub.execute_input": "2023-01-18T15:12:59.544577Z",
     "iopub.status.busy": "2023-01-18T15:12:59.544243Z",
     "iopub.status.idle": "2023-01-18T15:12:59.835910Z",
     "shell.execute_reply": "2023-01-18T15:12:59.834966Z",
     "shell.execute_reply.started": "2023-01-18T15:12:59.544550Z"
    },
    "executionInfo": {
     "elapsed": 29660,
     "status": "ok",
     "timestamp": 1669503785335,
     "user": {
      "displayName": "Jeffrey Kantor",
      "userId": "09038942003589296665"
     },
     "user_tz": 300
    },
    "id": "4AYeavKO4ze7",
    "outputId": "ca2adb8b-b6cc-4a90-f2d8-e91e2718c4b1"
   },
   "outputs": [
    {
     "name": "stdout",
     "output_type": "stream",
     "text": [
      "pyomo was previously installed\n",
      "cbc was previously installed\n"
     ]
    },
    {
     "data": {
      "text/plain": [
       "True"
      ]
     },
     "execution_count": null,
     "metadata": {},
     "output_type": "execute_result"
    }
   ],
   "source": [
    "import requests\n",
    "import types\n",
    "\n",
    "url = \"https://raw.githubusercontent.com/mobook/MO-book/main/python/helper.py\"\n",
    "helper = types.ModuleType(\"helper\")\n",
    "exec(requests.get(url).content, helper.__dict__)\n",
    "\n",
    "helper.install_pyomo()\n",
    "helper.install_cbc()"
   ]
  },
  {
   "cell_type": "markdown",
   "metadata": {},
   "source": [
    "### Step 1. Import Pyomo\n",
    "\n",
    "The first step in creating a Pyomo model is to import the needed components from the Pyomo library into the Python environment. Importing  `pyomo.environ` will provides the most commonly used components for Pyomo model building. \n",
    "\n",
    "This collection of notebooks uses a consistent convention of assigning a `pyo` prefix to objects imported from `pyomo.environ`."
   ]
  },
  {
   "cell_type": "code",
   "execution_count": null,
   "metadata": {
    "execution": {
     "iopub.execute_input": "2023-01-18T15:12:59.838576Z",
     "iopub.status.busy": "2023-01-18T15:12:59.838238Z",
     "iopub.status.idle": "2023-01-18T15:13:00.423480Z",
     "shell.execute_reply": "2023-01-18T15:13:00.422776Z",
     "shell.execute_reply.started": "2023-01-18T15:12:59.838548Z"
    }
   },
   "outputs": [],
   "source": [
    "import pyomo.environ as pyo"
   ]
  },
  {
   "cell_type": "markdown",
   "metadata": {},
   "source": [
    "### Step 2. Create a `ConcreteModel` object\n",
    "\n",
    "A Pyomo model is stored in a Python workspace with a standard Python variable name. The model object can be created with either `pyo.ConcreteModel()` or `pyo.AbstractModel()`. `pyo.ConcreteModel` is used when the problem data is known at the time the model is created, which is the case here. `pyo,AbstractModel` is useful for situations where the model is created before the model data is known. \n",
    "\n",
    "The following cell creates a ConcreteModel object and stores it in a Python variable named `model`. The name can be any valid Python variable, but keep in mind the name will be a prefix for every variable and constraint. "
   ]
  },
  {
   "cell_type": "code",
   "execution_count": null,
   "metadata": {
    "execution": {
     "iopub.execute_input": "2023-01-18T15:13:00.424688Z",
     "iopub.status.busy": "2023-01-18T15:13:00.424334Z",
     "iopub.status.idle": "2023-01-18T15:13:00.431116Z",
     "shell.execute_reply": "2023-01-18T15:13:00.429930Z",
     "shell.execute_reply.started": "2023-01-18T15:13:00.424665Z"
    }
   },
   "outputs": [],
   "source": [
    "model = pyo.ConcreteModel(\"Production Planning: Version 1\")"
   ]
  },
  {
   "cell_type": "markdown",
   "metadata": {},
   "source": [
    "The `.display()` method is a convenient means of displaying the current contents of a Pyomo model."
   ]
  },
  {
   "cell_type": "code",
   "execution_count": 23,
   "metadata": {},
   "outputs": [
    {
     "name": "stdout",
     "output_type": "stream",
     "text": [
      "Model 'Production Planning: Version 1'\n",
      "\n",
      "  Variables:\n",
      "    None\n",
      "\n",
      "  Objectives:\n",
      "    None\n",
      "\n",
      "  Constraints:\n",
      "    None\n"
     ]
    }
   ],
   "source": [
    "model.display()"
   ]
  },
  {
   "cell_type": "markdown",
   "metadata": {},
   "source": [
    "<<<<<<< local\n",
    "### Step 3. Create decision variables\n",
    "=======\n",
    "**Step 3. Create and add decision variables.**\n",
    ">>>>>>> remote\n",
    "\n",
    "Decision variables are created with the Pyomo `Var()` class. Variables are assigned to attributes of the model object using the Python 'dot' notation. `Var()` accepts optional keyword arguments. \n",
    "\n",
    "* The optional `bounds` keyword specifies a tuple containing lower and upper bounds. A good modeling practice is to specify any known and fixed bounds on the decision variables as they are created. If one of the bounds is unknown, use `None` as a placeholder.\n",
    "\n",
    "<<<<<<< local\n",
    "* The `initialize` keyword specifies initial values for the decision variables. This isn't normally required, but is useful in this tutorial example where we want to display the model as it is being built.\n",
    "\n",
    "* The optional `domain` keyword specifies the type of decision variable. By default, the domain is all real numbers including negative and positive values. \n",
    "=======\n",
    "In addition, the `initialize` keyword is used below to specify initial values for the decision variables. This is not normally required, but is useful for this tutorial example where we want to display the model as it is being built.\n",
    "\n",
    "The optional `domain` keyword specifies the type of decision variable. By default, the domain is all real numbers, hence including both negative and positive values. \n",
    ">>>>>>> remote"
   ]
  },
  {
   "cell_type": "code",
   "execution_count": null,
   "metadata": {
    "execution": {
     "iopub.execute_input": "2023-01-18T15:13:00.434153Z",
     "iopub.status.busy": "2023-01-18T15:13:00.433847Z",
     "iopub.status.idle": "2023-01-18T15:13:00.442651Z",
     "shell.execute_reply": "2023-01-18T15:13:00.441837Z",
     "shell.execute_reply.started": "2023-01-18T15:13:00.434128Z"
    }
   },
   "outputs": [
    {
     "name": "stdout",
     "output_type": "stream",
     "text": [
      "Model 'Production Planning: Version 1'\n",
      "\n",
      "  Variables:\n",
      "    x_M : Size=1, Index=None\n",
      "        Key  : Lower : Value : Upper : Fixed : Stale : Domain\n",
      "        None :     0 :     0 :  None : False : False :  Reals\n",
      "    x_A : Size=1, Index=None\n",
      "        Key  : Lower : Value : Upper : Fixed : Stale : Domain\n",
      "        None :     0 :     0 :    80 : False : False :  Reals\n",
      "    x_B : Size=1, Index=None\n",
      "        Key  : Lower : Value : Upper : Fixed : Stale : Domain\n",
      "        None :     0 :     0 :   100 : False : False :  Reals\n",
      "    y_U : Size=1, Index=None\n",
      "        Key  : Lower : Value : Upper : Fixed : Stale : Domain\n",
      "        None :     0 :     0 :    40 : False : False :  Reals\n",
      "    y_V : Size=1, Index=None\n",
      "        Key  : Lower : Value : Upper : Fixed : Stale : Domain\n",
      "        None :     0 :     0 :  None : False : False :  Reals\n",
      "\n",
      "  Objectives:\n",
      "    None\n",
      "\n",
      "  Constraints:\n",
      "    None\n"
     ]
    }
   ],
   "source": [
    "model.x_M = pyo.Var(bounds=(0, None), initialize=0)\n",
    "model.x_A = pyo.Var(bounds=(0, 80), initialize=0)\n",
    "model.x_B = pyo.Var(bounds=(0, 100), initialize=0)\n",
    "\n",
    "model.y_U = pyo.Var(bounds=(0, 40), initialize=0)\n",
    "model.y_V = pyo.Var(bounds=(0, None), initialize=0)\n",
    "\n",
    "model.display()"
   ]
  },
  {
   "cell_type": "markdown",
   "metadata": {},
   "source": [
    "### Step 4. Create expressions\n",
    "\n",
    "The difference between revenue and expense is equal to the gross profit. The following cell creates linear expressions for revenue and expense which are then assigned the expressions to attributes called `model.revenue` and `model.expense`. We can print the expressions to verify correctness."
   ]
  },
  {
   "cell_type": "code",
   "execution_count": null,
   "metadata": {
    "execution": {
     "iopub.execute_input": "2023-01-18T15:13:00.444402Z",
     "iopub.status.busy": "2023-01-18T15:13:00.443955Z",
     "iopub.status.idle": "2023-01-18T15:13:00.455399Z",
     "shell.execute_reply": "2023-01-18T15:13:00.453720Z",
     "shell.execute_reply.started": "2023-01-18T15:13:00.444366Z"
    }
   },
   "outputs": [
    {
     "name": "stdout",
     "output_type": "stream",
     "text": [
      "270*y_U + 210*y_V\n",
      "10*x_M + 50*x_A + 40*x_B\n"
     ]
    }
   ],
   "source": [
    "model.revenue = 270 * model.y_U + 210 * model.y_V\n",
    "model.expense = 10 * model.x_M + 50 * model.x_A + 40 * model.x_B\n",
    "\n",
    "print(model.revenue)\n",
    "print(model.expense)"
   ]
  },
  {
   "cell_type": "markdown",
   "metadata": {},
   "source": [
    "### Step 5. Create objective\n",
    "\n",
    "The objective is to maximize gross profit, where gross profit is defined as the difference between revenue and expense.\n",
    "\n",
    "The Pyomo class `Objective` creates the objective for a Pyomo model. The required keyword argument `expr` specifies the expression to be optimized. The optional keyword argument `sense` specifies whether it is a minimization or maximization problem. For clarity, it is good practice is to always include the `sense` keyword argument.\n",
    "\n",
    "    model.profit = pyo.Objective(expr = model.revenue - model.expense, sense = pyo.maximize)\n",
    "    \n",
    "An alternative way to declare an objective is available in more recent releases of Pyomo. This approach uses a Python decorator to 'tag' function that returns a Pyomo expression as the objective function. \n",
    "\n",
    "    @model.Objective(sense = pyo.maximize)\n",
    "    def profit(model):\n",
    "        return model.revenue - model.expense\n",
    "\n",
    "Decorators are a feature of Python that change the behavior of a function without altering the function itself. The Pyomo library provides decorators to declare objectives, expression, constraints, and other objects for optimization applications. Decorators improve the readability and maintainability of more complex models. Without going into the details of how decorators are implemented, one can think of them as a means for tagging functions for the purpose of creating model objects.\n",
    "\n",
    "When using Pyomo decorators, the name of the function will create a model attribute. The function to be tagged with a Pyomo decorator must have the model object as the first argument. The decorator itself may have arguments. For example, the `sense` keyword is used to set the sense of an objective.\n"
   ]
  },
  {
   "cell_type": "code",
   "execution_count": null,
   "metadata": {
    "execution": {
     "iopub.execute_input": "2023-01-18T15:13:00.457971Z",
     "iopub.status.busy": "2023-01-18T15:13:00.457592Z",
     "iopub.status.idle": "2023-01-18T15:13:00.463853Z",
     "shell.execute_reply": "2023-01-18T15:13:00.463078Z",
     "shell.execute_reply.started": "2023-01-18T15:13:00.457947Z"
    }
   },
   "outputs": [
    {
     "name": "stdout",
     "output_type": "stream",
     "text": [
      "WARNING: Implicitly replacing the Component attribute profit (type=<class\n",
      "    'pyomo.core.base.objective.ScalarObjective'>) on block 'Production\n",
      "    Planning: Version 1' with a new Component (type=<class\n",
      "    'pyomo.core.base.objective.ScalarObjective'>). This is usually indicative\n",
      "    of a modelling error. To avoid this warning, use block.del_component() and\n",
      "    block.add_component().\n",
      "Model 'Production Planning: Version 1'\n",
      "\n",
      "  Variables:\n",
      "    x_M : Size=1, Index=None\n",
      "        Key  : Lower : Value : Upper : Fixed : Stale : Domain\n",
      "        None :     0 :     0 :  None : False : False :  Reals\n",
      "    x_A : Size=1, Index=None\n",
      "        Key  : Lower : Value : Upper : Fixed : Stale : Domain\n",
      "        None :     0 :     0 :    80 : False : False :  Reals\n",
      "    x_B : Size=1, Index=None\n",
      "        Key  : Lower : Value : Upper : Fixed : Stale : Domain\n",
      "        None :     0 :     0 :   100 : False : False :  Reals\n",
      "    y_U : Size=1, Index=None\n",
      "        Key  : Lower : Value : Upper : Fixed : Stale : Domain\n",
      "        None :     0 :     0 :    40 : False : False :  Reals\n",
      "    y_V : Size=1, Index=None\n",
      "        Key  : Lower : Value : Upper : Fixed : Stale : Domain\n",
      "        None :     0 :     0 :  None : False : False :  Reals\n",
      "\n",
      "  Objectives:\n",
      "    profit : Size=1, Index=None, Active=True\n",
      "        Key  : Active : Value\n",
      "        None :   True :     0\n",
      "\n",
      "  Constraints:\n",
      "    None\n"
     ]
    }
   ],
   "source": [
    "@model.Objective(sense=pyo.maximize)\n",
    "def profit(model):\n",
    "    return model.revenue - model.expense\n",
    "\n",
    "model.display()"
   ]
  },
  {
   "cell_type": "markdown",
   "metadata": {},
   "source": [
    "**Step 6. Add the constraints.**\n",
    "\n",
    "Constraints are logical relationships between expressions that define the range of feasible solutions in an optimization problem. The logical relationships can be `==`, `<=`, or `>=`. \n",
    "\n",
    "`pyo.Constraint()` is a Pyomo library component to creating scalar constraints. A constraint consists of a logical relationship between expressions is passed as a keyword argument `expr` to `pyo.Constraint()`. For this application, the constraints are expressed as  \n",
    "\n",
    "    model.raw_materials = pyo.Constraint(expr = 10 * model.y_U + 9 * model.y_V <= model.x_M)\n",
    "    model.labor_A = pyo.Constraint(expr = 2 * model.y_U + 1 * model.y_V <= model.x_A)\n",
    "    model.labor_B = pyo.Constraint(expr = 1 * model.y_U + 1 * model.y_V <= model.x_B)\n",
    "    \n",
    "Alternatively, the decorator syntax for constraints provides a readable and maintainable means to express more complex constraints. For the present example, the constraints would be written\n",
    "\n",
    "    @model.Constraint()\n",
    "    def raw_materials(model):\n",
    "        return 10 * model.y_U + 9 * model.y_V <= model.x_M\n",
    "\n",
    "    @model.Constraint()\n",
    "    def labor_A(model):\n",
    "        return 2 * model.y_U + 1 * model.y_V <= model.x_A\n",
    "\n",
    "    @model.Constraint()\n",
    "    def labor_B(model):\n",
    "        return 2 * model.y_U + 1 * model.y_V <= model.x_A\n",
    "\n",
    "These are demonstrated in the following cell."
   ]
  },
  {
   "cell_type": "code",
   "execution_count": null,
   "metadata": {
    "execution": {
     "iopub.execute_input": "2023-01-18T15:13:00.465563Z",
     "iopub.status.busy": "2023-01-18T15:13:00.465120Z",
     "iopub.status.idle": "2023-01-18T15:13:00.479427Z",
     "shell.execute_reply": "2023-01-18T15:13:00.478044Z",
     "shell.execute_reply.started": "2023-01-18T15:13:00.465533Z"
    }
   },
   "outputs": [
    {
     "name": "stderr",
     "output_type": "stream",
     "text": [
      "<<<<<<< local\n"
     ]
    },
    {
     "name": "stdout",
     "output_type": "stream",
     "text": [
      "5 Var Declarations\n",
      "    x_A : Size=1, Index=None\n",
      "        Key  : Lower : Value : Upper : Fixed : Stale : Domain\n",
      "        None :     0 :     0 :    80 : False : False :  Reals\n",
      "    x_B : Size=1, Index=None\n",
      "        Key  : Lower : Value : Upper : Fixed : Stale : Domain\n",
      "        None :     0 :     0 :   100 : False : False :  Reals\n",
      "    x_M : Size=1, Index=None\n",
      "        Key  : Lower : Value : Upper : Fixed : Stale : Domain\n",
      "        None :     0 :     0 :  None : False : False :  Reals\n",
      "    y_U : Size=1, Index=None\n",
      "        Key  : Lower : Value : Upper : Fixed : Stale : Domain\n",
      "        None :     0 :     0 :    40 : False : False :  Reals\n",
      "    y_V : Size=1, Index=None\n",
      "        Key  : Lower : Value : Upper : Fixed : Stale : Domain\n",
      "        None :     0 :     0 :  None : False : False :  Reals\n",
      "\n",
      "1 Objective Declarations\n",
      "    profit : Size=1, Index=None, Active=True\n",
      "        Key  : Active : Sense    : Expression\n",
      "        None :   True : maximize : 270*y_U + 210*y_V - (10*x_M + 50*x_A + 40*x_B)\n",
      "\n",
      "3 Constraint Declarations\n",
      "    labor_A : Size=1, Index=None, Active=True\n",
      "        Key  : Lower : Body              : Upper : Active\n",
      "        None :  -Inf : 2*y_U + y_V - x_A :   0.0 :   True\n",
      "    labor_B : Size=1, Index=None, Active=True\n",
      "        Key  : Lower : Body            : Upper : Active\n",
      "        None :  -Inf : y_U + y_V - x_B :   0.0 :   True\n",
      "    raw_materials : Size=1, Index=None, Active=True\n",
      "        Key  : Lower : Body                 : Upper : Active\n",
      "        None :  -Inf : 10*y_U + 9*y_V - x_M :   0.0 :   True\n",
      "\n",
      "9 Declarations: x_M x_A x_B y_U y_V profit raw_materials labor_A labor_B\n"
     ]
    },
    {
     "name": "stderr",
     "output_type": "stream",
     "text": [
      "=======\n"
     ]
    },
    {
     "name": "stdout",
     "output_type": "stream",
     "text": [
      "Model 'Production Planning: Version 1'\n",
      "\n",
      "  Variables:\n",
      "    x_M : Size=1, Index=None\n",
      "        Key  : Lower : Value : Upper : Fixed : Stale : Domain\n",
      "        None :     0 :     0 :  None : False : False :  Reals\n",
      "    x_A : Size=1, Index=None\n",
      "        Key  : Lower : Value : Upper : Fixed : Stale : Domain\n",
      "        None :     0 :     0 :    80 : False : False :  Reals\n",
      "    x_B : Size=1, Index=None\n",
      "        Key  : Lower : Value : Upper : Fixed : Stale : Domain\n",
      "        None :     0 :     0 :   100 : False : False :  Reals\n",
      "    y_U : Size=1, Index=None\n",
      "        Key  : Lower : Value : Upper : Fixed : Stale : Domain\n",
      "        None :     0 :     0 :    40 : False : False :  Reals\n",
      "    y_V : Size=1, Index=None\n",
      "        Key  : Lower : Value : Upper : Fixed : Stale : Domain\n",
      "        None :     0 :     0 :  None : False : False :  Reals\n",
      "\n",
      "  Objectives:\n",
      "    profit : Size=1, Index=None, Active=True\n",
      "        Key  : Active : Value\n",
      "        None :   True :     0\n",
      "\n",
      "  Constraints:\n",
      "    raw_materials : Size=1\n",
      "        Key  : Lower : Body : Upper\n",
      "        None :  None :    0 :   0.0\n",
      "    labor_A : Size=1\n",
      "        Key  : Lower : Body : Upper\n",
      "        None :  None :    0 :   0.0\n",
      "    labor_B : Size=1\n",
      "        Key  : Lower : Body : Upper\n",
      "        None :  None :    0 :   0.0\n"
     ]
    },
    {
     "name": "stderr",
     "output_type": "stream",
     "text": [
      ">>>>>>> remote\n"
     ]
    }
   ],
   "source": [
    "@model.Constraint()\n",
    "def raw_materials(model):\n",
    "    return 10 * model.y_U + 9 * model.y_V <= model.x_M\n",
    "\n",
    "@model.Constraint()\n",
    "def labor_A(model):\n",
    "    return 2 * model.y_U + 1 * model.y_V <= model.x_A\n",
    "\n",
    "@model.Constraint()\n",
    "def labor_B(model):\n",
    "    return 1 * model.y_U + 1 * model.y_V <= model.x_B\n",
    "\n",
    "model.pprint()"
   ]
  },
  {
   "cell_type": "markdown",
   "metadata": {},
   "source": [
    "**Step 7. Solve the model.**\n",
    "\n",
    "With the model now fully specified, the next step is to compute a solution. This is done by creating a solver object using `SolverFactory`, then applying the solver to the model, as shown in the following cell.\n",
    "\n",
    "EXPAND DISCUSSION REGARDING SOLVERS."
   ]
  },
  {
   "cell_type": "code",
   "execution_count": null,
   "metadata": {
    "execution": {
     "iopub.execute_input": "2023-01-18T15:13:00.481367Z",
     "iopub.status.busy": "2023-01-18T15:13:00.480754Z",
     "iopub.status.idle": "2023-01-18T15:13:00.635542Z",
     "shell.execute_reply": "2023-01-18T15:13:00.634606Z",
     "shell.execute_reply.started": "2023-01-18T15:13:00.481335Z"
    }
   },
   "outputs": [
    {
     "name": "stdout",
     "output_type": "stream",
     "text": [
      "5 Var Declarations\n",
      "    x_A : Size=1, Index=None\n",
      "        Key  : Lower : Value : Upper : Fixed : Stale : Domain\n",
      "        None :     0 :  80.0 :    80 : False : False :  Reals\n",
      "    x_B : Size=1, Index=None\n",
      "        Key  : Lower : Value : Upper : Fixed : Stale : Domain\n",
      "        None :     0 :  80.0 :   100 : False : False :  Reals\n",
      "    x_M : Size=1, Index=None\n",
      "        Key  : Lower : Value : Upper : Fixed : Stale : Domain\n",
      "        None :     0 : 720.0 :  None : False : False :  Reals\n",
      "    y_U : Size=1, Index=None\n",
      "        Key  : Lower : Value : Upper : Fixed : Stale : Domain\n",
      "        None :     0 :   0.0 :    40 : False : False :  Reals\n",
      "    y_V : Size=1, Index=None\n",
      "        Key  : Lower : Value : Upper : Fixed : Stale : Domain\n",
      "        None :     0 :  80.0 :  None : False : False :  Reals\n",
      "\n",
      "1 Objective Declarations\n",
      "    profit : Size=1, Index=None, Active=True\n",
      "        Key  : Active : Sense    : Expression\n",
      "        None :   True : maximize : 270*y_U + 210*y_V - (10*x_M + 50*x_A + 40*x_B)\n",
      "\n",
      "3 Constraint Declarations\n",
      "    labor_A : Size=1, Index=None, Active=True\n",
      "        Key  : Lower : Body              : Upper : Active\n",
      "        None :  -Inf : 2*y_U + y_V - x_A :   0.0 :   True\n",
      "    labor_B : Size=1, Index=None, Active=True\n",
      "        Key  : Lower : Body            : Upper : Active\n",
      "        None :  -Inf : y_U + y_V - x_B :   0.0 :   True\n",
      "    raw_materials : Size=1, Index=None, Active=True\n",
      "        Key  : Lower : Body                 : Upper : Active\n",
      "        None :  -Inf : 10*y_U + 9*y_V - x_M :   0.0 :   True\n",
      "\n",
      "9 Declarations: x_M x_A x_B y_U y_V profit raw_materials labor_A labor_B\n"
     ]
    }
   ],
   "source": [
    "solver = pyo.SolverFactory(\"cbc\")\n",
    "solver.solve(model)\n",
    "\n",
    "model.pprint()"
   ]
  },
  {
   "cell_type": "markdown",
   "metadata": {},
   "source": [
    "**Step 8. Reporting the solution.**\n",
    "\n",
    "WRITE THIS STEP.\n",
    "\n",
    "For an overview of other ways to report and visualize the solutions, see also the appendix of [this notebook](../04/gasoline-distribution.ipynb)."
   ]
  },
  {
   "cell_type": "markdown",
   "metadata": {},
   "source": [
    "## Version 2: Creating a Data-Driven Model\n"
   ]
  },
  {
   "cell_type": "code",
   "execution_count": 9,
   "metadata": {
    "execution": {
     "iopub.execute_input": "2023-01-18T15:13:00.637896Z",
     "iopub.status.busy": "2023-01-18T15:13:00.637349Z",
     "iopub.status.idle": "2023-01-18T15:13:01.211963Z",
     "shell.execute_reply": "2023-01-18T15:13:01.210997Z",
     "shell.execute_reply.started": "2023-01-18T15:13:00.637862Z"
    }
   },
   "outputs": [
    {
     "data": {
      "text/html": [
       "<div>\n",
       "<style scoped>\n",
       "    .dataframe tbody tr th:only-of-type {\n",
       "        vertical-align: middle;\n",
       "    }\n",
       "\n",
       "    .dataframe tbody tr th {\n",
       "        vertical-align: top;\n",
       "    }\n",
       "\n",
       "    .dataframe thead th {\n",
       "        text-align: right;\n",
       "    }\n",
       "</style>\n",
       "<table border=\"1\" class=\"dataframe\">\n",
       "  <thead>\n",
       "    <tr style=\"text-align: right;\">\n",
       "      <th></th>\n",
       "      <th>U</th>\n",
       "      <th>V</th>\n",
       "    </tr>\n",
       "  </thead>\n",
       "  <tbody>\n",
       "    <tr>\n",
       "      <th>price</th>\n",
       "      <td>270</td>\n",
       "      <td>210.0</td>\n",
       "    </tr>\n",
       "    <tr>\n",
       "      <th>demand</th>\n",
       "      <td>40</td>\n",
       "      <td>NaN</td>\n",
       "    </tr>\n",
       "  </tbody>\n",
       "</table>\n",
       "</div>"
      ],
      "text/plain": [
       "          U      V\n",
       "price   270  210.0\n",
       "demand   40    NaN"
      ]
     },
     "metadata": {},
     "output_type": "display_data"
    },
    {
     "data": {
      "text/html": [
       "<div>\n",
       "<style scoped>\n",
       "    .dataframe tbody tr th:only-of-type {\n",
       "        vertical-align: middle;\n",
       "    }\n",
       "\n",
       "    .dataframe tbody tr th {\n",
       "        vertical-align: top;\n",
       "    }\n",
       "\n",
       "    .dataframe thead th {\n",
       "        text-align: right;\n",
       "    }\n",
       "</style>\n",
       "<table border=\"1\" class=\"dataframe\">\n",
       "  <thead>\n",
       "    <tr style=\"text-align: right;\">\n",
       "      <th></th>\n",
       "      <th>M</th>\n",
       "      <th>labor A</th>\n",
       "      <th>labor B</th>\n",
       "    </tr>\n",
       "  </thead>\n",
       "  <tbody>\n",
       "    <tr>\n",
       "      <th>price</th>\n",
       "      <td>10.0</td>\n",
       "      <td>50</td>\n",
       "      <td>40</td>\n",
       "    </tr>\n",
       "    <tr>\n",
       "      <th>available</th>\n",
       "      <td>NaN</td>\n",
       "      <td>100</td>\n",
       "      <td>80</td>\n",
       "    </tr>\n",
       "  </tbody>\n",
       "</table>\n",
       "</div>"
      ],
      "text/plain": [
       "              M  labor A  labor B\n",
       "price      10.0       50       40\n",
       "available   NaN      100       80"
      ]
     },
     "metadata": {},
     "output_type": "display_data"
    },
    {
     "data": {
      "text/html": [
       "<div>\n",
       "<style scoped>\n",
       "    .dataframe tbody tr th:only-of-type {\n",
       "        vertical-align: middle;\n",
       "    }\n",
       "\n",
       "    .dataframe tbody tr th {\n",
       "        vertical-align: top;\n",
       "    }\n",
       "\n",
       "    .dataframe thead th {\n",
       "        text-align: right;\n",
       "    }\n",
       "</style>\n",
       "<table border=\"1\" class=\"dataframe\">\n",
       "  <thead>\n",
       "    <tr style=\"text-align: right;\">\n",
       "      <th></th>\n",
       "      <th>U</th>\n",
       "      <th>V</th>\n",
       "    </tr>\n",
       "  </thead>\n",
       "  <tbody>\n",
       "    <tr>\n",
       "      <th>M</th>\n",
       "      <td>10</td>\n",
       "      <td>9</td>\n",
       "    </tr>\n",
       "    <tr>\n",
       "      <th>labor A</th>\n",
       "      <td>2</td>\n",
       "      <td>1</td>\n",
       "    </tr>\n",
       "    <tr>\n",
       "      <th>labor B</th>\n",
       "      <td>1</td>\n",
       "      <td>1</td>\n",
       "    </tr>\n",
       "  </tbody>\n",
       "</table>\n",
       "</div>"
      ],
      "text/plain": [
       "          U  V\n",
       "M        10  9\n",
       "labor A   2  1\n",
       "labor B   1  1"
      ]
     },
     "metadata": {},
     "output_type": "display_data"
    }
   ],
   "source": [
    "import pandas as pd\n",
    "\n",
    "product_data = {\n",
    "    \"U\": {\"price\": 270, \"demand\": 40},\n",
    "    \"V\": {\"price\": 210, \"demand\": None},\n",
    "}\n",
    "\n",
    "display(pd.DataFrame(product_data))\n",
    "\n",
    "resource_data = {\n",
    "    \"M\": {\"price\": 10, \"available\": None},\n",
    "    \"labor A\": {\"price\": 50, \"available\": 100},\n",
    "    \"labor B\": {\"price\": 40, \"available\":  80},\n",
    "}\n",
    "\n",
    "display(pd.DataFrame(resource_data))\n",
    "\n",
    "process_data = {\n",
    "    \"U\": {\"M\": 10, \"labor A\": 2, \"labor B\": 1},\n",
    "    \"V\": {\"M\":  9, \"labor A\": 1, \"labor B\": 1},\n",
    "}\n",
    "\n",
    "display(pd.DataFrame(process_data))"
   ]
  },
  {
   "cell_type": "markdown",
   "metadata": {},
   "source": [
    "**Enhancement 1: Create sets of products and resources**"
   ]
  },
  {
   "cell_type": "code",
   "execution_count": 10,
   "metadata": {
    "execution": {
     "iopub.execute_input": "2023-01-18T15:13:01.216700Z",
     "iopub.status.busy": "2023-01-18T15:13:01.215917Z",
     "iopub.status.idle": "2023-01-18T15:13:01.346737Z",
     "shell.execute_reply": "2023-01-18T15:13:01.345715Z",
     "shell.execute_reply.started": "2023-01-18T15:13:01.216599Z"
    },
    "tags": []
   },
   "outputs": [
    {
     "name": "stdout",
     "output_type": "stream",
     "text": [
      "Model 'Production Planning: Version 2'\n",
      "\n",
      "  Variables:\n",
      "    x : Size=3, Index=RESOURCES\n",
      "        Key     : Lower : Value : Upper : Fixed : Stale : Domain\n",
      "              M :     0 : 740.0 :  None : False : False :  Reals\n",
      "        labor A :     0 : 100.0 :   100 : False : False :  Reals\n",
      "        labor B :     0 :  80.0 :    80 : False : False :  Reals\n",
      "    y : Size=2, Index=PRODUCTS\n",
      "        Key : Lower : Value : Upper : Fixed : Stale : Domain\n",
      "          U :     0 :  20.0 :    40 : False : False :  Reals\n",
      "          V :     0 :  60.0 :  None : False : False :  Reals\n",
      "\n",
      "  Objectives:\n",
      "    profit : Size=1, Index=None, Active=True\n",
      "        Key  : Active : Value\n",
      "        None :   True : 2400.0\n",
      "\n",
      "  Constraints:\n",
      "    resource : Size=3\n",
      "        Key     : Lower : Body : Upper\n",
      "              M :  None :  0.0 :   0.0\n",
      "        labor A :  None :  0.0 :   0.0\n",
      "        labor B :  None :  0.0 :   0.0\n"
     ]
    }
   ],
   "source": [
    "model = pyo.ConcreteModel(\"Production Planning: Version 2\")\n",
    "\n",
    "model.PRODUCTS = pyo.Set(initialize=product_data.keys())\n",
    "model.RESOURCES = pyo.Set(initialize=resource_data.keys())\n",
    "\n",
    "def x_bounds(model, r):\n",
    "    return(0, resource_data[r][\"available\"])\n",
    "model.x = pyo.Var(model.RESOURCES, bounds=x_bounds)\n",
    "\n",
    "def y_bounds(model, p):\n",
    "    return(0, product_data[p][\"demand\"])\n",
    "model.y = pyo.Var(model.PRODUCTS, bounds=y_bounds)\n",
    "\n",
    "@model.Objective(sense=pyo.maximize)\n",
    "def profit(model):\n",
    "    model.expense = sum(resource_data[r][\"price\"] * model.x[r] for r in model.RESOURCES)\n",
    "    model.revenue = sum(product_data[p][\"price\"] * model.y[p] for p in model.PRODUCTS)\n",
    "    return model.revenue - model.expense\n",
    "\n",
    "@model.Constraint(model.RESOURCES)\n",
    "def resource(model, r):\n",
    "    return sum(process_data[p][r] * model.y[p] for p in model.PRODUCTS) <= model.x[r]\n",
    "\n",
    "solver = pyo.SolverFactory('cbc')\n",
    "solver.solve(model)\n",
    "    \n",
    "model.display()"
   ]
  },
  {
   "cell_type": "markdown",
   "metadata": {},
   "source": [
    "To learn how to write consistent, readable, and maintainable Pyomo code for modeling and optimizationconsistent, see the [Pyomo style guide](../../pyomo_style_guide.md)"
   ]
  }
 ],
 "metadata": {
  "colab": {
   "authorship_tag": "ABX9TyNdeOT6zd9sxPjQMDuW2VRf",
   "provenance": []
  },
  "kernelspec": {
   "display_name": "Python 3 (ipykernel)",
   "language": "python",
   "name": "python3"
  },
  "language_info": {
   "codemirror_mode": {
    "name": "ipython",
    "version": 3
   },
   "file_extension": ".py",
   "mimetype": "text/x-python",
   "name": "python",
   "nbconvert_exporter": "python",
   "pygments_lexer": "ipython3",
   "version": "3.10.6"
  },
  "latex_envs": {
   "LaTeX_envs_menu_present": true,
   "autoclose": false,
   "autocomplete": true,
   "bibliofile": "biblio.bib",
   "cite_by": "apalike",
   "current_citInitial": 1,
   "eqLabelWithNumbers": true,
   "eqNumInitial": 1,
   "hotkeys": {
    "equation": "Ctrl-E",
    "itemize": "Ctrl-I"
   },
   "labels_anchors": false,
   "latex_user_defs": false,
   "report_style_numbering": false,
   "user_envs_cfg": false
  }
 },
 "nbformat": 4,
 "nbformat_minor": 4
}