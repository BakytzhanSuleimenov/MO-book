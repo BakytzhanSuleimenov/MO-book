{
 "cells": [
  {
   "cell_type": "markdown",
   "id": "8a57cf99-9019-4022-9546-4f86b1d9ca88",
   "metadata": {
    "ExecuteTime": {
     "end_time": "2022-09-30T21:49:22.516232Z",
     "start_time": "2022-09-30T21:49:22.430418Z"
    }
   },
   "source": [
    "```{index} single: application; resource allocation\n",
    "```\n",
    "```{index} single: solver; cbc\n",
    "```\n",
    "```{index} pandas dataframe\n",
    "```\n",
    "```{index} single: Pyomo; sets\n",
    "```\n",
    "```{index} stochastic optimization\n",
    "```\n",
    "```{index} two-stage problem\n",
    "```\n",
    "\n",
    "# Extra: The farmer's problem and its variants\n",
    "\n",
    "The [Farmer's Problem](https://www.math.uh.edu/~rohop/Spring_15/Chapter1.pdf) is a teaching example presented in the well-known textbook by John Birge and Francois Louveaux.\n",
    "\n",
    "* Birge, John R., and Francois Louveaux. Introduction to stochastic programming. Springer Science & Business Media, 2011."
   ]
  },
  {
   "cell_type": "code",
   "execution_count": 1,
   "id": "9720e9d1",
   "metadata": {
    "ExecuteTime": {
     "end_time": "2022-09-30T21:49:20.540447Z",
     "start_time": "2022-09-30T21:49:20.292334Z"
    }
   },
   "outputs": [],
   "source": [
    "# install pyomo and select solver\n",
    "import sys\n",
    "\n",
    "SOLVER = \"cbc\"\n",
    "\n",
    "if \"google.colab\" in sys.modules:\n",
    "    !pip install highspy >/dev/null\n",
    "    SOLVER = \"appsi_highs\""
   ]
  },
  {
   "cell_type": "code",
   "execution_count": 2,
   "id": "330cd1f1",
   "metadata": {
    "ExecuteTime": {
     "end_time": "2022-09-30T21:49:22.291926Z",
     "start_time": "2022-09-30T21:49:20.543823Z"
    }
   },
   "outputs": [],
   "source": [
    "import numpy as np\n",
    "import pandas as pd\n",
    "import matplotlib.pyplot as plt\n",
    "import pyomo.environ as pyo"
   ]
  },
  {
   "cell_type": "markdown",
   "id": "4bdf92e9-c0b8-407e-8db3-817896abeadd",
   "metadata": {
    "ExecuteTime": {
     "end_time": "2022-09-30T21:49:22.516232Z",
     "start_time": "2022-09-30T21:49:22.430418Z"
    }
   },
   "source": [
    "## Problem Statement\n",
    "\n",
    "In the [farmer's problem](https://www.math.uh.edu/~rohop/Spring_15/Chapter1.pdf), a European farmer must allocate 500 acres of land among three different crops (wheat, corn, and sugar beets) aiming to maximize profit. The following information is given:\n",
    "\n",
    "* Planting one acre of wheat, corn and beet costs 150, 230 and 260 euro, respectively.\n",
    "\n",
    "* The mean yields are 2.5, 3.0, and 20.0 tons per acre for wheat, corn, and sugar beets, respectively. The yields can vary up to 20% from nominal conditions depending on weather.\n",
    "\n",
    "* At least 200 tons of wheat and 240 tons of corn are needed for cattle feed. Cattle feed can be raised on the farm or purchased from a wholesaler. \n",
    "\n",
    "* The mean selling prices have been \\\\$170 and \\\\$150 per ton of wheat and corn, respectively, over the last decade. The purchase prices are 40% more due to wholesaler's margins and transportation costs.\n",
    "\n",
    "* Sugar beets are a profitable crop expected to sell at 36 euro per ton, but there is a quota on sugar beet production. Any amount in excess of the quota can be sold at only 10 euro per ton. The farmer's quota for next year is 6,000 tons.\n",
    "\n",
    "Create three solutions for the farmer to consider.\n",
    "\n",
    "1. How should the farmer allocate land to maximize profit for the mean weather conditions?\n",
    "\n",
    "2. The second solution should explicitly consider the impact of weather. How should the farmer allocate land to maximize expected profit if the yields could go up or down by 20% due to weather conditions? What is the profit under each scenario?\n",
    "\n",
    "3. During your interview you learned the farmer needs a minimal profit each year to stay in business. How would you allocate land use to maximize the worst case profit?  \n",
    "\n",
    "4. Determine the tradeoff between risk and return by computing the mean expected profit when the minimum required profit is the worst case found in part 3, and \\\\$58,000, \\\\$56,000, \\\\$54,000, \\\\$52,000, \\\\$50,000, and \\\\$48,000. Compare these solutions to part 2 by plotting the expected loss in profit. \n",
    "\n",
    "5. What would be your advice to the farmer regarding land allocation?"
   ]
  },
  {
   "cell_type": "markdown",
   "id": "a5555bbd-5865-412a-8933-eceab4f29ceb",
   "metadata": {
    "ExecuteTime": {
     "end_time": "2022-09-30T21:49:22.516232Z",
     "start_time": "2022-09-30T21:49:22.430418Z"
    }
   },
   "source": [
    "## Data Summary\n",
    "\n",
    "| Scenario | Yield for wheat <br> (tons/acre)| Yield for corn <br> (tons/acre) | Yield for beets <br> (tons/acre) |\n",
    "| :-- | :-: | :-: | :-: |\n",
    "| Good weather | 3 | 3.6 | 24 |\n",
    "| Average weather | 2.5 | 3 | 20 |\n",
    "| Bad weather | 2 | 2.4 | 16 |\n",
    "\n",
    "We first consider the case in which all the prices are fixed and not weather-dependent. The following table summarizes the data.\n",
    "\n",
    "| Commodity | Sell <br> Price <br> (euro/ton) | Market <br> Demand <br> (tons) | Excess Price | Buy <br> Price <br> (euro/ton) | Cattle Feed <br> Required <br> (tons) | Planting <br> Cost <br> (euro/acre) |\n",
    "| :-- | :--: | :--: | :--: | :--: | :--: | :--: |\n",
    "| Wheat | 170 | - | _ | 238 | 200 | 150 |\n",
    "| Corn | 150 | - | - | 210 | 240 | 230 |\n",
    "| Beets | 36 | 6000 | 10 | 0 | - | 260 |\n"
   ]
  },
  {
   "cell_type": "markdown",
   "id": "4b603542-8a50-42dc-8327-412d771d8beb",
   "metadata": {},
   "source": [
    "## Data Modeling"
   ]
  },
  {
   "cell_type": "code",
   "execution_count": 3,
   "id": "d747fa6a-117a-4828-804b-01a0fa7da3ba",
   "metadata": {},
   "outputs": [
    {
     "data": {
      "text/html": [
       "<div>\n",
       "<style scoped>\n",
       "    .dataframe tbody tr th:only-of-type {\n",
       "        vertical-align: middle;\n",
       "    }\n",
       "\n",
       "    .dataframe tbody tr th {\n",
       "        vertical-align: top;\n",
       "    }\n",
       "\n",
       "    .dataframe thead th {\n",
       "        text-align: right;\n",
       "    }\n",
       "</style>\n",
       "<table border=\"1\" class=\"dataframe\">\n",
       "  <thead>\n",
       "    <tr style=\"text-align: right;\">\n",
       "      <th></th>\n",
       "      <th>wheat</th>\n",
       "      <th>corn</th>\n",
       "      <th>beets</th>\n",
       "    </tr>\n",
       "  </thead>\n",
       "  <tbody>\n",
       "    <tr>\n",
       "      <th>good</th>\n",
       "      <td>3.0</td>\n",
       "      <td>3.6</td>\n",
       "      <td>24.0</td>\n",
       "    </tr>\n",
       "    <tr>\n",
       "      <th>average</th>\n",
       "      <td>2.5</td>\n",
       "      <td>3.0</td>\n",
       "      <td>20.0</td>\n",
       "    </tr>\n",
       "    <tr>\n",
       "      <th>poor</th>\n",
       "      <td>2.0</td>\n",
       "      <td>2.4</td>\n",
       "      <td>16.0</td>\n",
       "    </tr>\n",
       "  </tbody>\n",
       "</table>\n",
       "</div>"
      ],
      "text/plain": [
       "         wheat  corn  beets\n",
       "good       3.0   3.6   24.0\n",
       "average    2.5   3.0   20.0\n",
       "poor       2.0   2.4   16.0"
      ]
     },
     "metadata": {},
     "output_type": "display_data"
    }
   ],
   "source": [
    "yields = pd.DataFrame(\n",
    "    {\n",
    "        \"good\": {\"wheat\": 3.0, \"corn\": 3.6, \"beets\": 24},\n",
    "        \"average\": {\"wheat\": 2.5, \"corn\": 3.0, \"beets\": 20},\n",
    "        \"poor\": {\"wheat\": 2.0, \"corn\": 2.4, \"beets\": 16},\n",
    "    }\n",
    ").T\n",
    "display(yields)"
   ]
  },
  {
   "cell_type": "code",
   "execution_count": 4,
   "id": "b2e950c8-7a4e-41e1-b0a3-940bed3714c2",
   "metadata": {},
   "outputs": [
    {
     "data": {
      "text/html": [
       "<div>\n",
       "<style scoped>\n",
       "    .dataframe tbody tr th:only-of-type {\n",
       "        vertical-align: middle;\n",
       "    }\n",
       "\n",
       "    .dataframe tbody tr th {\n",
       "        vertical-align: top;\n",
       "    }\n",
       "\n",
       "    .dataframe thead th {\n",
       "        text-align: right;\n",
       "    }\n",
       "</style>\n",
       "<table border=\"1\" class=\"dataframe\">\n",
       "  <thead>\n",
       "    <tr style=\"text-align: right;\">\n",
       "      <th></th>\n",
       "      <th>planting cost</th>\n",
       "      <th>sell</th>\n",
       "      <th>buy</th>\n",
       "      <th>required</th>\n",
       "      <th>quota</th>\n",
       "      <th>excess</th>\n",
       "    </tr>\n",
       "  </thead>\n",
       "  <tbody>\n",
       "    <tr>\n",
       "      <th>wheat</th>\n",
       "      <td>150.0</td>\n",
       "      <td>170.0</td>\n",
       "      <td>238.0</td>\n",
       "      <td>200.0</td>\n",
       "      <td>20000.0</td>\n",
       "      <td>0.0</td>\n",
       "    </tr>\n",
       "    <tr>\n",
       "      <th>corn</th>\n",
       "      <td>230.0</td>\n",
       "      <td>150.0</td>\n",
       "      <td>210.0</td>\n",
       "      <td>240.0</td>\n",
       "      <td>20000.0</td>\n",
       "      <td>0.0</td>\n",
       "    </tr>\n",
       "    <tr>\n",
       "      <th>beets</th>\n",
       "      <td>260.0</td>\n",
       "      <td>36.0</td>\n",
       "      <td>20000.0</td>\n",
       "      <td>0.0</td>\n",
       "      <td>6000.0</td>\n",
       "      <td>10.0</td>\n",
       "    </tr>\n",
       "  </tbody>\n",
       "</table>\n",
       "</div>"
      ],
      "text/plain": [
       "       planting cost   sell      buy  required    quota  excess\n",
       "wheat          150.0  170.0    238.0     200.0  20000.0     0.0\n",
       "corn           230.0  150.0    210.0     240.0  20000.0     0.0\n",
       "beets          260.0   36.0  20000.0       0.0   6000.0    10.0"
      ]
     },
     "metadata": {},
     "output_type": "display_data"
    }
   ],
   "source": [
    "crops = pd.DataFrame(\n",
    "    {\n",
    "        \"wheat\": {\n",
    "            \"planting cost\": 150,\n",
    "            \"sell\": 170,\n",
    "            \"buy\": 238,\n",
    "            \"required\": 200,\n",
    "        },\n",
    "        \"corn\": {\n",
    "            \"planting cost\": 230,\n",
    "            \"sell\": 150,\n",
    "            \"buy\": 210,\n",
    "            \"required\": 240,\n",
    "        },\n",
    "        \"beets\": {\n",
    "            \"planting cost\": 260,\n",
    "            \"sell\": 36,\n",
    "            \"quota\": 6000,\n",
    "            \"excess\": 10,\n",
    "        },\n",
    "    }\n",
    ").T\n",
    "\n",
    "# fill NaN\n",
    "\n",
    "bigM = 20000\n",
    "crops[\"buy\"].fillna(bigM, inplace=True)\n",
    "crops[\"quota\"].fillna(bigM, inplace=True)\n",
    "crops[\"required\"].fillna(0, inplace=True)\n",
    "crops[\"excess\"].fillna(0, inplace=True)\n",
    "\n",
    "display(crops)"
   ]
  },
  {
   "cell_type": "markdown",
   "id": "bdb1ffea-d504-49aa-b985-2974808b0dad",
   "metadata": {},
   "source": [
    "## Model Building"
   ]
  },
  {
   "cell_type": "code",
   "execution_count": 5,
   "id": "68d1a2c2-62c8-4d34-a248-9bad1c05ef5b",
   "metadata": {},
   "outputs": [],
   "source": [
    "import pyomo.environ as pyo\n",
    "import pyomo.gdp as gdp\n",
    "\n",
    "\n",
    "def farmer(crops, yields, total_land=500):\n",
    "    m = pyo.ConcreteModel(\"Farmer's Problem\")\n",
    "\n",
    "    m.CROPS = pyo.Set(initialize=crops.index)\n",
    "    m.SCENARIOS = pyo.Set(initialize=yields.index)\n",
    "\n",
    "    # first stage variables\n",
    "    m.acres = pyo.Var(m.CROPS, bounds=(0, total_land))\n",
    "\n",
    "    # second stage variables (all units in tons)\n",
    "    bounds = (0, yields.max().max() * total_land)\n",
    "    m.grow = pyo.Var(m.SCENARIOS, m.CROPS, bounds=bounds)\n",
    "    m.buy = pyo.Var(m.SCENARIOS, m.CROPS, bounds=bounds)\n",
    "    m.sell = pyo.Var(m.SCENARIOS, m.CROPS, bounds=bounds)\n",
    "    m.excess = pyo.Var(m.SCENARIOS, m.CROPS, bounds=bounds)\n",
    "\n",
    "    # first stage model\n",
    "    @m.Constraint()\n",
    "    def limit_on_planted_land(m):\n",
    "        return pyo.summation(m.acres) <= total_land\n",
    "\n",
    "    # second stage model\n",
    "    @m.Constraint(m.SCENARIOS, m.CROPS)\n",
    "    def crop_yield(m, s, c):\n",
    "        return m.grow[s, c] == yields.loc[s, c] * m.acres[c]\n",
    "\n",
    "    @m.Constraint(m.SCENARIOS, m.CROPS)\n",
    "    def balance(m, s, c):\n",
    "        return (\n",
    "            m.grow[s, c] + m.buy[s, c]\n",
    "            == m.sell[s, c] + crops.loc[c, \"required\"] + m.excess[s, c]\n",
    "        )\n",
    "\n",
    "    @m.Disjunction(m.SCENARIOS, m.CROPS, xor=True)\n",
    "    def quota(m, s, c):\n",
    "        under_quota = [\n",
    "            m.grow[s, c] <= crops.loc[c, \"quota\"],\n",
    "            m.excess[s, c] == 0,\n",
    "        ]\n",
    "        over_quota = [\n",
    "            m.grow[s, c] >= crops.loc[c, \"quota\"],\n",
    "            m.sell[s, c] <= crops.loc[c, \"quota\"],\n",
    "        ]\n",
    "        return [under_quota, over_quota]\n",
    "\n",
    "    # expressions for objective functions\n",
    "    @m.Expression(m.SCENARIOS, m.CROPS)\n",
    "    def expense(m, s, c):\n",
    "        return (\n",
    "            crops.loc[c, \"planting cost\"] * m.acres[c]\n",
    "            + crops.loc[c, \"buy\"] * m.buy[s, c]\n",
    "        )\n",
    "\n",
    "    @m.Expression(m.SCENARIOS, m.CROPS)\n",
    "    def revenue(m, s, c):\n",
    "        return (\n",
    "            crops.loc[c, \"sell\"] * m.sell[s, c]\n",
    "            + crops.loc[c, \"excess\"] * m.excess[s, c]\n",
    "        )\n",
    "\n",
    "    @m.Expression(m.SCENARIOS)\n",
    "    def scenario_profit(m, s):\n",
    "        return sum(m.revenue[s, c] - m.expense[s, c] for c in m.CROPS)\n",
    "\n",
    "    pyo.TransformationFactory(\"gdp.bigm\").apply_to(m)\n",
    "    return m"
   ]
  },
  {
   "cell_type": "code",
   "execution_count": 6,
   "id": "bc71fb08-f582-4836-b8ff-bd4a71289fa0",
   "metadata": {},
   "outputs": [],
   "source": [
    "def farm_report(m):\n",
    "    print(f\"Objective = {m.objective():0.2f}\")\n",
    "    for s in m.SCENARIOS:\n",
    "        print(f\"\\nScenario: {s}\")\n",
    "        print(f\"Scenario profit = {m.scenario_profit[s]()}\")\n",
    "        df = pd.DataFrame()\n",
    "        df[\"plant [acres]\"] = pd.Series({c: m.acres[c]() for c in m.CROPS})\n",
    "        df[\"grow [tons]\"] = pd.Series({c: m.grow[s, c]() for c in m.CROPS})\n",
    "        df[\"buy [tons]\"] = pd.Series({c: m.buy[s, c]() for c in m.CROPS})\n",
    "        df[\"feed [tons]\"] = pd.Series(\n",
    "            {c: commodities.loc[c, \"required\"] for c in m.CROPS}\n",
    "        )\n",
    "        df[\"quota [tons]\"] = pd.Series(\n",
    "            {c: crops.loc[c, \"quota\"] for c in m.CROPS}\n",
    "        )\n",
    "        df[\"sell [tons]\"] = pd.Series({c: m.sell[s, c]() for c in m.CROPS})\n",
    "        df[\"excess [tons]\"] = pd.Series({c: m.excess[s, c]() for c in m.CROPS})\n",
    "        df[\"revenue [euro]\"] = pd.Series(\n",
    "            {c: m.revenue[s, c]() for c in m.CROPS}\n",
    "        )\n",
    "        df[\"expense [euro]\"] = pd.Series(\n",
    "            {c: m.expense[s, c]() for c in m.CROPS}\n",
    "        )\n",
    "        df[\"profit [euro]\"] = pd.Series(\n",
    "            {c: m.revenue[s, c]() - m.expense[s, c]() for c in m.CROPS}\n",
    "        )\n",
    "        display(df.round(2))"
   ]
  },
  {
   "cell_type": "markdown",
   "id": "6cb1b583-211f-4a2a-beaf-d3a7d869a97b",
   "metadata": {},
   "source": [
    "## 1. Mean Solution"
   ]
  },
  {
   "cell_type": "code",
   "execution_count": 7,
   "id": "ab97bf99-d50c-4c19-9625-853c50b9c6a0",
   "metadata": {},
   "outputs": [
    {
     "name": "stdout",
     "output_type": "stream",
     "text": [
      "Objective = 118600.00\n",
      "\n",
      "Scenario: mean\n",
      "Scenario profit = 118600.0\n"
     ]
    },
    {
     "ename": "NameError",
     "evalue": "name 'commodities' is not defined",
     "output_type": "error",
     "traceback": [
      "\u001b[0;31m---------------------------------------------------------------------------\u001b[0m",
      "\u001b[0;31mNameError\u001b[0m                                 Traceback (most recent call last)",
      "\u001b[0;32m/var/folders/cm/z3t28j296f98jdp1vqyplkz00000gn/T/ipykernel_4919/455194242.py\u001b[0m in \u001b[0;36m<cell line: 8>\u001b[0;34m()\u001b[0m\n\u001b[1;32m      6\u001b[0m \u001b[0;34m\u001b[0m\u001b[0m\n\u001b[1;32m      7\u001b[0m \u001b[0mpyo\u001b[0m\u001b[0;34m.\u001b[0m\u001b[0mSolverFactory\u001b[0m\u001b[0;34m(\u001b[0m\u001b[0mSOLVER\u001b[0m\u001b[0;34m)\u001b[0m\u001b[0;34m.\u001b[0m\u001b[0msolve\u001b[0m\u001b[0;34m(\u001b[0m\u001b[0mm\u001b[0m\u001b[0;34m)\u001b[0m\u001b[0;34m\u001b[0m\u001b[0;34m\u001b[0m\u001b[0m\n\u001b[0;32m----> 8\u001b[0;31m \u001b[0mfarm_report\u001b[0m\u001b[0;34m(\u001b[0m\u001b[0mm\u001b[0m\u001b[0;34m)\u001b[0m\u001b[0;34m\u001b[0m\u001b[0;34m\u001b[0m\u001b[0m\n\u001b[0m",
      "\u001b[0;32m/var/folders/cm/z3t28j296f98jdp1vqyplkz00000gn/T/ipykernel_4919/616703041.py\u001b[0m in \u001b[0;36mfarm_report\u001b[0;34m(m)\u001b[0m\n\u001b[1;32m      9\u001b[0m         \u001b[0mdf\u001b[0m\u001b[0;34m[\u001b[0m\u001b[0;34m\"buy [tons]\"\u001b[0m\u001b[0;34m]\u001b[0m \u001b[0;34m=\u001b[0m \u001b[0mpd\u001b[0m\u001b[0;34m.\u001b[0m\u001b[0mSeries\u001b[0m\u001b[0;34m(\u001b[0m\u001b[0;34m{\u001b[0m\u001b[0mc\u001b[0m\u001b[0;34m:\u001b[0m \u001b[0mm\u001b[0m\u001b[0;34m.\u001b[0m\u001b[0mbuy\u001b[0m\u001b[0;34m[\u001b[0m\u001b[0ms\u001b[0m\u001b[0;34m,\u001b[0m \u001b[0mc\u001b[0m\u001b[0;34m]\u001b[0m\u001b[0;34m(\u001b[0m\u001b[0;34m)\u001b[0m \u001b[0;32mfor\u001b[0m \u001b[0mc\u001b[0m \u001b[0;32min\u001b[0m \u001b[0mm\u001b[0m\u001b[0;34m.\u001b[0m\u001b[0mCROPS\u001b[0m\u001b[0;34m}\u001b[0m\u001b[0;34m)\u001b[0m\u001b[0;34m\u001b[0m\u001b[0;34m\u001b[0m\u001b[0m\n\u001b[1;32m     10\u001b[0m         df[\"feed [tons]\"] = pd.Series(\n\u001b[0;32m---> 11\u001b[0;31m             \u001b[0;34m{\u001b[0m\u001b[0mc\u001b[0m\u001b[0;34m:\u001b[0m \u001b[0mcommodities\u001b[0m\u001b[0;34m.\u001b[0m\u001b[0mloc\u001b[0m\u001b[0;34m[\u001b[0m\u001b[0mc\u001b[0m\u001b[0;34m,\u001b[0m \u001b[0;34m\"required\"\u001b[0m\u001b[0;34m]\u001b[0m \u001b[0;32mfor\u001b[0m \u001b[0mc\u001b[0m \u001b[0;32min\u001b[0m \u001b[0mm\u001b[0m\u001b[0;34m.\u001b[0m\u001b[0mCROPS\u001b[0m\u001b[0;34m}\u001b[0m\u001b[0;34m\u001b[0m\u001b[0;34m\u001b[0m\u001b[0m\n\u001b[0m\u001b[1;32m     12\u001b[0m         )\n\u001b[1;32m     13\u001b[0m         df[\"quota [tons]\"] = pd.Series(\n",
      "\u001b[0;32m/var/folders/cm/z3t28j296f98jdp1vqyplkz00000gn/T/ipykernel_4919/616703041.py\u001b[0m in \u001b[0;36m<dictcomp>\u001b[0;34m(.0)\u001b[0m\n\u001b[1;32m      9\u001b[0m         \u001b[0mdf\u001b[0m\u001b[0;34m[\u001b[0m\u001b[0;34m\"buy [tons]\"\u001b[0m\u001b[0;34m]\u001b[0m \u001b[0;34m=\u001b[0m \u001b[0mpd\u001b[0m\u001b[0;34m.\u001b[0m\u001b[0mSeries\u001b[0m\u001b[0;34m(\u001b[0m\u001b[0;34m{\u001b[0m\u001b[0mc\u001b[0m\u001b[0;34m:\u001b[0m \u001b[0mm\u001b[0m\u001b[0;34m.\u001b[0m\u001b[0mbuy\u001b[0m\u001b[0;34m[\u001b[0m\u001b[0ms\u001b[0m\u001b[0;34m,\u001b[0m \u001b[0mc\u001b[0m\u001b[0;34m]\u001b[0m\u001b[0;34m(\u001b[0m\u001b[0;34m)\u001b[0m \u001b[0;32mfor\u001b[0m \u001b[0mc\u001b[0m \u001b[0;32min\u001b[0m \u001b[0mm\u001b[0m\u001b[0;34m.\u001b[0m\u001b[0mCROPS\u001b[0m\u001b[0;34m}\u001b[0m\u001b[0;34m)\u001b[0m\u001b[0;34m\u001b[0m\u001b[0;34m\u001b[0m\u001b[0m\n\u001b[1;32m     10\u001b[0m         df[\"feed [tons]\"] = pd.Series(\n\u001b[0;32m---> 11\u001b[0;31m             \u001b[0;34m{\u001b[0m\u001b[0mc\u001b[0m\u001b[0;34m:\u001b[0m \u001b[0mcommodities\u001b[0m\u001b[0;34m.\u001b[0m\u001b[0mloc\u001b[0m\u001b[0;34m[\u001b[0m\u001b[0mc\u001b[0m\u001b[0;34m,\u001b[0m \u001b[0;34m\"required\"\u001b[0m\u001b[0;34m]\u001b[0m \u001b[0;32mfor\u001b[0m \u001b[0mc\u001b[0m \u001b[0;32min\u001b[0m \u001b[0mm\u001b[0m\u001b[0;34m.\u001b[0m\u001b[0mCROPS\u001b[0m\u001b[0;34m}\u001b[0m\u001b[0;34m\u001b[0m\u001b[0;34m\u001b[0m\u001b[0m\n\u001b[0m\u001b[1;32m     12\u001b[0m         )\n\u001b[1;32m     13\u001b[0m         df[\"quota [tons]\"] = pd.Series(\n",
      "\u001b[0;31mNameError\u001b[0m: name 'commodities' is not defined"
     ]
    }
   ],
   "source": [
    "m = farmer(crops, pd.DataFrame(yields.mean(), columns=[\"mean\"]).T)\n",
    "\n",
    "@m.Objective(sense=pyo.maximize)\n",
    "def objective(m):\n",
    "    return pyo.summation(m.scenario_profit)\n",
    "\n",
    "pyo.SolverFactory(SOLVER).solve(m)\n",
    "farm_report(m)"
   ]
  },
  {
   "cell_type": "markdown",
   "id": "fd7d91a0-843a-4e9f-8d6c-a38363ab8f32",
   "metadata": {},
   "source": [
    "## 2. Stochastic Solution\n"
   ]
  },
  {
   "cell_type": "markdown",
   "id": "86d44583-34a3-49f5-8c91-511c1501731f",
   "metadata": {},
   "source": [
    "The problem statement asks for a number of different analyses. In a consulting situation, it is possible the client would ask more \"what if\" questions after hearing the initial results. For these reasons, we build a function that returns a Pyomo model the variables and expressions needed to address all parts of the problem. "
   ]
  },
  {
   "cell_type": "code",
   "execution_count": null,
   "id": "8c8c2d36-4f70-4e1a-a5f2-a45dc0a013ed",
   "metadata": {},
   "outputs": [],
   "source": [
    "# maximize mean profit\n",
    "m = farmer(crops, yields)\n",
    "\n",
    "\n",
    "@m.Objective(sense=pyo.maximize)\n",
    "def objective(m):\n",
    "    return pyo.summation(m.scenario_profit) / len(m.SCENARIOS)\n",
    "\n",
    "\n",
    "pyo.SolverFactory(SOLVER).solve(m)\n",
    "farm_report(m)"
   ]
  },
  {
   "cell_type": "markdown",
   "id": "b724882a-b695-40e9-bcab-753b4110bf48",
   "metadata": {},
   "source": [
    "## 3. Worst Case Solution"
   ]
  },
  {
   "cell_type": "code",
   "execution_count": null,
   "id": "8eb8181a-fe4b-4e19-adb8-11ee3aad1620",
   "metadata": {},
   "outputs": [],
   "source": [
    "# find worst case profit\n",
    "m = farmer(crops, yields)\n",
    "\n",
    "m.worst_case_profit = pyo.Var()\n",
    "\n",
    "\n",
    "@m.Constraint(m.SCENARIOS)\n",
    "def lower_bound_profit(m, s):\n",
    "    return m.worst_case_profit <= m.scenario_profit[s]\n",
    "\n",
    "\n",
    "@m.Objective(sense=pyo.maximize)\n",
    "def objective(m):\n",
    "    return m.worst_case_profit\n",
    "\n",
    "\n",
    "pyo.SolverFactory(SOLVER).solve(m)\n",
    "farm_report(m)"
   ]
  },
  {
   "cell_type": "code",
   "execution_count": null,
   "id": "73a50577-21cc-476f-a1ad-7b705a2a20f7",
   "metadata": {},
   "outputs": [],
   "source": [
    "worst_case_profit = m.worst_case_profit()\n",
    "\n",
    "# maximize expected profit subject to worst case as lower bound\n",
    "\n",
    "m = farmer(crops, yields)\n",
    "\n",
    "\n",
    "@m.Constraint(m.SCENARIOS)\n",
    "def lower_bound_profit(m, s):\n",
    "    return worst_case_profit <= m.scenario_profit[s]\n",
    "\n",
    "\n",
    "@m.Objective(sense=pyo.maximize)\n",
    "def objective(m):\n",
    "    return pyo.summation(m.scenario_profit) / len(m.SCENARIOS)\n",
    "\n",
    "\n",
    "pyo.SolverFactory(SOLVER).solve(m)\n",
    "farm_report(m)"
   ]
  },
  {
   "cell_type": "markdown",
   "id": "72d58dac-b8f9-44f9-aebc-1853589f6b98",
   "metadata": {},
   "source": [
    "## 4. Risk versus Return"
   ]
  },
  {
   "cell_type": "code",
   "execution_count": null,
   "id": "c108ff25-9005-4a3a-99ff-94389fd62816",
   "metadata": {},
   "outputs": [],
   "source": [
    "df = pd.DataFrame()\n",
    "\n",
    "for wc in np.linspace(48820, 59950, 50):\n",
    "    m = farmer(crops, yields)\n",
    "\n",
    "    @m.Constraint(m.SCENARIOS)\n",
    "    def min_profit(m, s):\n",
    "        return m.scenario_profit[s] >= wc\n",
    "\n",
    "    # maximize mean profit\n",
    "    @m.Objective(sense=pyo.maximize)\n",
    "    def objective(m):\n",
    "        return pyo.summation(m.scenario_profit) / len(m.SCENARIOS)\n",
    "\n",
    "    pyo.SolverFactory(SOLVER).solve(m)\n",
    "\n",
    "    df.loc[wc, \"return\"] = m.objective()\n",
    "    df.loc[wc, \"wc\"] = wc\n",
    "\n",
    "df.plot(\n",
    "    x=\"wc\", y=\"return\", xlabel=\"worst case\", ylabel=\"mean return\", grid=True\n",
    ")"
   ]
  },
  {
   "cell_type": "markdown",
   "id": "f40722ea-5cd9-4207-9877-09b5bf040098",
   "metadata": {},
   "source": [
    "## 5. Recommended Planting Strategy"
   ]
  },
  {
   "cell_type": "code",
   "execution_count": null,
   "id": "fe026b43-3e02-4de4-9c02-b677fc61a3e5",
   "metadata": {},
   "outputs": [],
   "source": [
    "df = pd.DataFrame()\n",
    "\n",
    "for wc in np.linspace(56750, 56820, 50):\n",
    "    m = farmer(crops, yields)\n",
    "\n",
    "    @m.Constraint(m.SCENARIOS)\n",
    "    def min_profit(m, s):\n",
    "        return m.scenario_profit[s] >= wc\n",
    "\n",
    "    # maximize mean profit\n",
    "    @m.Objective(sense=pyo.maximize)\n",
    "    def objective(m):\n",
    "        return pyo.summation(m.scenario_profit) / len(m.SCENARIOS)\n",
    "\n",
    "    pyo.SolverFactory(SOLVER).solve(m)\n",
    "\n",
    "    df.loc[wc, \"return\"] = m.objective()\n",
    "    df.loc[wc, \"wc\"] = wc\n",
    "\n",
    "df.plot(\n",
    "    x=\"wc\", y=\"return\", xlabel=\"worst case\", ylabel=\"mean return\", grid=True\n",
    ")"
   ]
  },
  {
   "cell_type": "markdown",
   "id": "5e93ba71-3df5-472b-b9bf-a54c4be68237",
   "metadata": {},
   "source": [
    "What we see is that the worst case can be raised from 48,820 to 56,800 (a difference of 7,980 euro) at a cost of reducing the expected from from 108,390 to 107,100 (a reduction of 1,290 euro). This improvement in worst-case performance may be worth the reduction in mean profit."
   ]
  },
  {
   "cell_type": "code",
   "execution_count": null,
   "id": "54d3eb2d-d32b-4b27-bb95-26709f217d6a",
   "metadata": {},
   "outputs": [],
   "source": [
    "wc = 56800\n",
    "\n",
    "m = farmer(crops, yields)\n",
    "\n",
    "\n",
    "@m.Constraint(m.SCENARIOS)\n",
    "def min_profit(m, s):\n",
    "    return m.scenario_profit[s] >= wc\n",
    "\n",
    "\n",
    "# maximize mean profit\n",
    "@m.Objective(sense=pyo.maximize)\n",
    "def objective(m):\n",
    "    return pyo.summation(m.scenario_profit) / len(m.SCENARIOS)\n",
    "\n",
    "\n",
    "pyo.SolverFactory(SOLVER).solve(m)\n",
    "\n",
    "farm_report(m)"
   ]
  },
  {
   "cell_type": "markdown",
   "id": "13e4cbb7-9248-424e-a825-4af1f4f89977",
   "metadata": {},
   "source": [
    "## Bibliographic Notes\n",
    "\n",
    "The Farmer's Problem is well known in the stochastic programming community. Examples of treatments include the following web resources:\n",
    "\n",
    "- http://user.engineering.uiowa.edu/~dbricker/stacks_pdf1/slpwr_farmer.pdf\n",
    "- https://www.math.uh.edu/~rohop/Spring_15/Chapter1.pdf"
   ]
  }
 ],
 "metadata": {
  "kernelspec": {
   "display_name": "Python 3 (ipykernel)",
   "language": "python",
   "name": "python3"
  },
  "language_info": {
   "codemirror_mode": {
    "name": "ipython",
    "version": 3
   },
   "file_extension": ".py",
   "mimetype": "text/x-python",
   "name": "python",
   "nbconvert_exporter": "python",
   "pygments_lexer": "ipython3",
   "version": "3.9.16"
  },
  "varInspector": {
   "cols": {
    "lenName": 16,
    "lenType": 16,
    "lenVar": 40
   },
   "kernels_config": {
    "python": {
     "delete_cmd_postfix": "",
     "delete_cmd_prefix": "del ",
     "library": "var_list.py",
     "varRefreshCmd": "print(var_dic_list())"
    },
    "r": {
     "delete_cmd_postfix": ") ",
     "delete_cmd_prefix": "rm(",
     "library": "var_list.r",
     "varRefreshCmd": "cat(var_dic_list()) "
    }
   },
   "types_to_exclude": [
    "module",
    "function",
    "builtin_function_or_method",
    "instance",
    "_Feature"
   ],
   "window_display": false
  }
 },
 "nbformat": 4,
 "nbformat_minor": 5
}