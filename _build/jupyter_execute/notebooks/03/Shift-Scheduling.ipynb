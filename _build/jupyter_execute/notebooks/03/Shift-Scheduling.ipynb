{
 "cells": [
  {
   "cell_type": "markdown",
   "metadata": {
    "id": "Va6a1JliHzHO"
   },
   "source": [
    "# Shift Scheduling\n",
    "\n",
    "An article entitled [\"Modeling and optimization of a weekly workforce with Python and Pyomo\"](https://towardsdatascience.com/modeling-and-optimization-of-a-weekly-workforce-with-python-and-pyomo-29484ba065bb) by [Christian Carballo Lozano](https://medium.com/@ccarballolozano) posted on the [Towards Data Science](https://towardsdatascience.com/) blog showed how to build a Pyomo model to schedule weekly shifts for a small campus food store. The article was primarily intended as a tutorial introduction to Pyomo (see the [github](https://github.com/ccarballolozano/blog-post-codes/blob/master/Modeling-and-optimization-of-a-weekly-workforce-with-Python-and-Pyomo/Modeling%20and%20optimization%20of%20a%20weekly%20workforce%20with%20Python%20and%20Pyomo.ipynb) repository for the code). \n",
    "\n",
    "Here we revisit the example with a new model demonstrating  use of Pyomo decorators and of Pyomo sets, and how to use the model solution to create useful visualizations and reports for workers and managers."
   ]
  },
  {
   "cell_type": "code",
   "execution_count": 1,
   "metadata": {
    "colab": {
     "base_uri": "https://localhost:8080/",
     "height": 213
    },
    "executionInfo": {
     "elapsed": 9216,
     "status": "ok",
     "timestamp": 1647782901780,
     "user": {
      "displayName": "Jeffrey Kantor",
      "photoUrl": "https://lh3.googleusercontent.com/a-/AOh14Gg_n8V7bVINy02QRuRgOoMo11Ri7NKU3OUKdC1bkQ=s64",
      "userId": "09038942003589296665"
     },
     "user_tz": 240
    },
    "id": "iTmwYjZcHx3X",
    "outputId": "0c6ab3ce-1d86-4dca-932d-a8767e436cca"
   },
   "outputs": [
    {
     "name": "stdout",
     "output_type": "stream",
     "text": [
      "pyomo was previously installed\n",
      "cbc was previously installed\n"
     ]
    },
    {
     "data": {
      "text/plain": [
       "True"
      ]
     },
     "execution_count": 1,
     "metadata": {},
     "output_type": "execute_result"
    }
   ],
   "source": [
    "# install Pyomo and solvers\n",
    "import requests\n",
    "import types\n",
    "\n",
    "url = \"https://raw.githubusercontent.com/mobook/MO-book/main/python/helper.py\"\n",
    "helper = types.ModuleType(\"helper\")\n",
    "exec(requests.get(url).content, helper.__dict__)\n",
    "\n",
    "helper.install_pyomo()\n",
    "helper.install_cbc()"
   ]
  },
  {
   "cell_type": "markdown",
   "metadata": {
    "id": "e1gXyjsjuJjg"
   },
   "source": [
    "## Problem Statement\n",
    "\n",
    "From the original article:\n",
    "\n",
    "> A new food store has been opened at the University Campus which will be open 24 hours a day, 7 days a week. Each day, there are three eight-hour shifts. Morning shift is from 6:00 to 14:00, evening shift is from 14:00 to 22:00 and night shift is from 22:00 to 6:00 of the next day.\n",
    "\n",
    "> During the night there is only one worker while during the day there are two, except on Sunday that there is only one for each shift. Each worker will not exceed a maximum of 40 hours per week and have to rest for 12 hours between two shifts.\n",
    "\n",
    "> As for the weekly rest days, an employee who rests one Sunday will also prefer to do the same that Saturday.\n",
    "In principle, there are available ten employees, which is clearly over-sized. The less the workers are needed, the more the resources for other stores."
   ]
  },
  {
   "cell_type": "markdown",
   "metadata": {
    "id": "h2Z4Ll__vSyF",
    "tags": []
   },
   "source": [
    "## Analysis"
   ]
  },
  {
   "cell_type": "markdown",
   "metadata": {
    "id": "h2Z4Ll__vSyF",
    "tags": []
   },
   "source": [
    "### Model sets\n",
    "\n",
    "This problem requires assignment of an unspecified number of workers to a predetermined set of shifts. There are three shifts per day, seven days per week. These observations suggest the need for three ordered sets:\n",
    "\n",
    "* `WORKERS` with $N$ elements representing workers. $N$ is as input to a function creating an instance of the model.\n",
    "\n",
    "* `DAYS` with labeling the days of the week.\n",
    "\n",
    "* `SHIFTS` labeling the shifts each day.\n",
    "\n",
    "The problem describes additional considerations that suggest the utility of several additional sets.\n",
    "\n",
    "* `SLOTS` is an ordered set of (day, shift) pairs describing all of the available shifts during the week. \n",
    "\n",
    "* `BLOCKS` is an order set of all overlapping 24 hour periods in the week. An element of the set contains the (day, shift) period in the corresponding period. This set will be used to limit worker assignments to no more than one for each 24 hour period.\n",
    "\n",
    "* `WEEKENDS` is a the set of all (day, shift) pairs on a weekend. This set will be used to implement worker preferences on weekend scheduling.\n",
    "\n",
    "These additional sets improve the readability of the model.\n",
    "\n",
    "$$\n",
    "\\begin{align*}\n",
    "\\text{WORKERS} & = \\{w_1, w_2, \\ldots, w_1\\} \\text{ set of all workers} \\\\\n",
    "\\text{DAYS} & = \\{\\text{Mon}, \\text{Tues}, \\ldots, \\text{Sun}\\} \\text{ days of the week} \\\\\n",
    "\\text{SHIFTS} & = \\{\\text{morning}, \\text{evening}, \\text{night}\\} \\text{ 8 hour daily shifts} \\\\\n",
    "\\text{SLOTS} & = \\text{DAYS} \\times \\text{SHIFTS} \\text{ ordered set of all (day, shift) pairs}\\\\\n",
    "\\text{BLOCKS} & \\subset \\text{SLOTS} \\times \\text{SLOTS} \\times \\text{SLOTS}  \\text{ all 24 blocks of consecutive slots} \\\\\n",
    "\\text{WEEKENDS} & \\subset \\text{SLOTS} \\text{ subset of slots corresponding to weekends} \\\\\n",
    "\\end{align*}\n",
    "$$"
   ]
  },
  {
   "cell_type": "markdown",
   "metadata": {
    "id": "h2Z4Ll__vSyF",
    "tags": []
   },
   "source": [
    "### Model parameters\n",
    "\n",
    "$$\n",
    "\\begin{align*}\n",
    "N & = \\text{ number of workers} \\\\\n",
    "\\text{WorkersRequired}_{d, s} & = \\text{ number of workers required for each day, shift pair } (d, s) \\\\\n",
    "\\end{align*}\n",
    "$$"
   ]
  },
  {
   "cell_type": "markdown",
   "metadata": {
    "id": "h2Z4Ll__vSyF",
    "tags": []
   },
   "source": [
    "### Model decision variables\n",
    "\n",
    "$$\n",
    "\\begin{align*}\n",
    "\\text{assign}_{w, d, s} & = \\begin{cases}1\\quad\\text{if worker } w \\text{ is assigned to day, shift pair } (d,s)\\in \\text{SLOTS} \\\\ 0\\quad \\text{otherwise} \\end{cases} \\\\\n",
    "\\text{weekend}_{w} & = \\begin{cases}1\\quad\\text{if worker } w \\text{ is assigned to a weekend day, shift pair } (d,s)\\in\\text{WEEKENDS} \\\\ 0\\quad \\text{otherwise} \\end{cases} \\\\\n",
    "\\text{needed}_{w} & = \\begin{cases}1\\quad\\text{if worker } w \\text{ is needed during the week} \\\\ 0\\quad \\text{otherwise} \\end{cases} \\\\\n",
    "\\end{align*}\n",
    "$$"
   ]
  },
  {
   "cell_type": "markdown",
   "metadata": {
    "id": "h2Z4Ll__vSyF",
    "tags": []
   },
   "source": [
    "### Model constraints\n",
    "\n",
    "Assign workers to each shift to meet staffing requirement.\n",
    "\n",
    "$$\\begin{align*}\n",
    "\\\\\n",
    "\\sum_{w\\in\\text{ WORKERS}} \\text{assign}_{w, d, s} & \\geq \\text{WorkersRequired}_{d, s} & \\forall (d, s) \\in \\text{SLOTS} \\\\\n",
    "\\end{align*}$$\n",
    "\n",
    "Assign no more than 40 hours per week to each worker.\n",
    "\n",
    "$$\\begin{align*}\n",
    "\\\\\n",
    "8\\sum_{d,s\\in\\text{ SLOTS}} \\text{assign}_{w, d, s} & \\leq 40 & \\forall w \\in \\text{WORKERS} \\\\\n",
    "\\\\\n",
    "\\end{align*}$$\n",
    "\n",
    "Assign no more than one shift in each 24 hour period.\n",
    "\n",
    "$$\\begin{align*}\n",
    "\\\\\n",
    "\\text{assign}_{w, d_1,s_1} + \\text{assign}_{w, d_2, s_2} + \\text{assign}_{w, d_3, s_3} & \\leq 1 & \\forall w \\in \\text{WORKERS} \\\\ & & \\forall ((d_1, s_1), (d_2, s_2), (d_3, s_3))\\in \\text{BLOCKS} \\\\\n",
    "\\\\\n",
    "\\end{align*}$$\n",
    "\n",
    "Indicator if worker has been assigned any shift.\n",
    "\n",
    "$$\\begin{align*}\n",
    "\\\\\n",
    "\\sum_{d,s\\in\\text{ SLOTS}} \\text{assign}_{w,d,s} & \\leq M_{\\text{SLOTS}}\\cdot\\text{needed}_w & \\forall w\\in \\text{WORKERS} \\\\\n",
    "\\\\\n",
    "\\end{align*}$$\n",
    "\n",
    "Indicator if worker has been assigned a weekend shift.\n",
    "\n",
    "$$\\begin{align*}\n",
    "\\\\\n",
    "\\sum_{d,s\\in\\text{ WEEKENDS}} \\text{assign}_{w,d,s} & \\leq M_{\\text{WEEKENDS}}\\cdot\\text{weekend}_w & \\forall w\\in \\text{WORKERS} \\\\\n",
    "\\\\\n",
    "\\end{align*}$$"
   ]
  },
  {
   "cell_type": "markdown",
   "metadata": {
    "id": "h2Z4Ll__vSyF",
    "tags": []
   },
   "source": [
    "### Model objective\n",
    "\n",
    "The model objective is to minimize the overall number of workers needed to fill the shift and work requirements while also attempting to meet worker preferences regarding weekend shift assignments. This is formulated here as an objective for minimizing a weighted sum of the number of workers needed to meet all shift requirements and the number of workers assigned to weekend shifts. The positive weight $\\gamma$ determines the relative importance of these two measures of a desirable shift schedule.\n",
    "\n",
    "$$\n",
    "\\begin{align*}\n",
    "\\min \\left(\\sum_{w\\in\\text{ WORKERS}} \\text{needed}_w + \\gamma\\sum_{w\\in\\text{ WORKERS}} \\text{weekend}_w)\n",
    "\\right)\\end{align*}\n",
    "$$"
   ]
  },
  {
   "cell_type": "markdown",
   "metadata": {
    "id": "JbhSiHcox4Ef"
   },
   "source": [
    "## Pyomo Modeling"
   ]
  },
  {
   "cell_type": "code",
   "execution_count": 2,
   "metadata": {
    "executionInfo": {
     "elapsed": 470,
     "status": "ok",
     "timestamp": 1647782911667,
     "user": {
      "displayName": "Jeffrey Kantor",
      "photoUrl": "https://lh3.googleusercontent.com/a-/AOh14Gg_n8V7bVINy02QRuRgOoMo11Ri7NKU3OUKdC1bkQ=s64",
      "userId": "09038942003589296665"
     },
     "user_tz": 240
    },
    "id": "4Vvt0azzH0J7"
   },
   "outputs": [],
   "source": [
    "import pyomo.environ as pyo\n",
    "\n",
    "def shift_schedule(N=10, hours=40):\n",
    "    \"\"\"return a solved model assigning N workers to shifts\"\"\"\n",
    "\n",
    "    m = pyo.ConcreteModel('workforce')\n",
    "\n",
    "    # ordered set of avaiable workers\n",
    "    m.WORKERS = pyo.Set(initialize=[f\"W{i:02d}\" for i in range(1, N+1)])\n",
    "\n",
    "    # ordered sets of days and shifts\n",
    "    m.DAYS = pyo.Set(initialize=['Mon', 'Tue', 'Wed', 'Thu', 'Fri', 'Sat', 'Sun'])\n",
    "    m.SHIFTS = pyo.Set(initialize=['morning', 'evening', 'night'])\n",
    "\n",
    "    # ordered set of day, shift time slots \n",
    "    m.SLOTS = pyo.Set(initialize = m.DAYS * m.SHIFTS)\n",
    "\n",
    "    # ordered set of 24 hour time blocks \n",
    "    m.BLOCKS = pyo.Set(initialize = [[m.SLOTS.at(i), m.SLOTS.at(i+1), m.SLOTS.at(i+2)] \n",
    "                                     for i in range(1, len(m.SLOTS)-1)])\n",
    "    \n",
    "    # ordered set of weekend shifts\n",
    "    m.WEEKENDS = pyo.Set(initialize = m.SLOTS, filter = lambda m, day, shift: day in ['Sat', 'Sun'])\n",
    "\n",
    "    # parameter of worker requirements\n",
    "    @m.Param(m.SLOTS)\n",
    "    def WorkersRequired(m, day, shift):\n",
    "        if shift in ['night'] or day in ['Sun']:\n",
    "            return 1\n",
    "        return 2\n",
    "    \n",
    "    # max hours per week per worker\n",
    "    m.Hours = pyo.Param(mutable=True, default=hours)\n",
    "\n",
    "    # decision variable: assign[worker, day, shift] = 1 assigns worker to a time slot\n",
    "    m.assign = pyo.Var(m.WORKERS, m.SLOTS, domain=pyo.Binary)\n",
    "\n",
    "    # decision variables: weekend[worker] = 1 worker is assigned weekend shift\n",
    "    m.weekend = pyo.Var(m.WORKERS, domain=pyo.Binary)\n",
    "\n",
    "    # decision variable: needed[worker] = 1 \n",
    "    m.needed = pyo.Var(m.WORKERS, domain=pyo.Binary)\n",
    "                \n",
    "    # assign a sufficient number of workers for each time slot\n",
    "    @m.Constraint(m.SLOTS)\n",
    "    def required_workers(m, day, shift):\n",
    "        return m.WorkersRequired[day, shift] == sum(m.assign[worker, day, shift] for worker in m.WORKERS)\n",
    "\n",
    "    # workers limited to forty hours per week assuming 8 hours per shift\n",
    "    @m.Constraint(m.WORKERS)\n",
    "    def forty_hour_limit(m, worker):\n",
    "        return 8*sum(m.assign[worker, day, shift] for day, shift in m.SLOTS) <= m.Hours\n",
    "\n",
    "    # workers are assigned no more than one time slot per 24 time block\n",
    "    @m.Constraint(m.WORKERS, m.BLOCKS)\n",
    "    def required_rest(m, worker, d1, s1, d2, s2, d3, s3):\n",
    "        return m.assign[worker, d1, s1] + m.assign[worker, d2, s2] + m.assign[worker, d3, s3] <= 1\n",
    "    \n",
    "    # determine if a worker is assigned to any shift\n",
    "    @m.Constraint(m.WORKERS)\n",
    "    def is_needed(m, worker):\n",
    "        return sum(m.assign[worker, day, shift] for day, shift in m.SLOTS) <= len(m.SLOTS)*m.needed[worker]\n",
    "\n",
    "    # determine if a worker is assigned to a weekend shift\n",
    "    @m.Constraint(m.WORKERS)\n",
    "    def is__weekend(m, worker):\n",
    "        return 6*m.weekend[worker] >= sum(m.assign[worker, day, shift] for day, shift in m.WEEKENDS)\n",
    "\n",
    "    # minimize a blended objective of needed workers and needed weekend workers\n",
    "    @m.Objective(sense=pyo.minimize)\n",
    "    def minimize_workers(m):\n",
    "        return sum(i*m.needed[worker] + 0.1*i*m.weekend[worker] for i, worker in enumerate(m.WORKERS))\n",
    "\n",
    "    solver = pyo.SolverFactory('cbc')\n",
    "    solver.solve(m)\n",
    "\n",
    "    return m\n",
    "\n",
    "m = shift_schedule(10, 40)"
   ]
  },
  {
   "cell_type": "markdown",
   "metadata": {
    "id": "s9A7zkSAhC8-"
   },
   "source": [
    "## Visualizing the Solution\n",
    "\n",
    "Scheduling applications generate a considerable amount of data to be used by the participants. The following cells demonstrate the preparation of charts and reports that can be used to communicate scheduling information to the store management and shift workers."
   ]
  },
  {
   "cell_type": "code",
   "execution_count": 3,
   "metadata": {
    "colab": {
     "base_uri": "https://localhost:8080/",
     "height": 295
    },
    "executionInfo": {
     "elapsed": 739,
     "status": "ok",
     "timestamp": 1647784587745,
     "user": {
      "displayName": "Jeffrey Kantor",
      "photoUrl": "https://lh3.googleusercontent.com/a-/AOh14Gg_n8V7bVINy02QRuRgOoMo11Ri7NKU3OUKdC1bkQ=s64",
      "userId": "09038942003589296665"
     },
     "user_tz": 240
    },
    "id": "Gk8SAHcPPbXo",
    "outputId": "2f249296-4170-4aaf-eae8-b03d5c13d8c8"
   },
   "outputs": [
    {
     "data": {
      "image/png": "[encoded data removed]",
      "text/plain": [
       "<Figure size 864x288 with 1 Axes>"
      ]
     },
     "metadata": {
      "filenames": {
       "image/png": "/Users/ale/Google Drive/GitHub/MO-book/_build/jupyter_execute/notebooks/03/Shift-Scheduling_12_0.png"
      },
      "needs_background": "light"
     },
     "output_type": "display_data"
    }
   ],
   "source": [
    "import matplotlib.pyplot as plt\n",
    "from matplotlib.patches import Rectangle\n",
    "\n",
    "def visualize(m):\n",
    "    \n",
    "    bw = 1.0\n",
    "    workers = [worker for worker in m.WORKERS]\n",
    "    fig, ax = plt.subplots(1, 1, figsize=(12, 1 + 0.3*len(m.WORKERS)))\n",
    "    ax.set_title('Shift Schedule')\n",
    "    \n",
    "    # x axis styling\n",
    "    ax.set_xlim(0, len(m.SLOTS))\n",
    "    colors = ['teal', 'gold', 'magenta']\n",
    "    for i in range(len(m.SLOTS) + 1):\n",
    "        ax.axvline(i, lw=0.3)\n",
    "        ax.fill_between([i, i+1], [0]*2, [len(m.WORKERS)]*2, alpha=0.1, color=colors[i%3])\n",
    "    for i in range(len(m.DAYS) + 1):\n",
    "        ax.axvline(3*i, lw=1)\n",
    "    ax.set_xticks([3*i + 1.5 for i in range(len(m.DAYS))])\n",
    "    ax.set_xticklabels(m.DAYS)\n",
    "    ax.set_xlabel('Shift')\n",
    "\n",
    "    # y axis styling\n",
    "    ax.set_ylim(0, len(m.WORKERS))\n",
    "    for j in range(len(m.WORKERS) + 1):\n",
    "        ax.axhline(j, lw=0.3) \n",
    "    ax.set_yticks([j + 0.5 for j in range(len(m.WORKERS))])\n",
    "    ax.set_yticklabels(workers)\n",
    "    ax.set_ylabel('Worker')\n",
    "    \n",
    "    # show shift assignments\n",
    "    for i, slot in enumerate(m.SLOTS):\n",
    "        day, shift = slot\n",
    "        for j, worker in enumerate(m.WORKERS):\n",
    "            if round(m.assign[worker, day, shift]()):\n",
    "                ax.add_patch(Rectangle((i, j + (1-bw)/2), 1, bw, edgecolor='b'))\n",
    "                ax.text(i + 1/2, j + 1/2, worker, ha='center', va='center', color='w')\n",
    "    \n",
    "    # display needed and weekend data\n",
    "    for j, worker in enumerate(m.WORKERS):\n",
    "        if not m.needed[worker]():\n",
    "            ax.fill_between([0, len(m.SLOTS)], [j, j], [j+1, j+1], color='k', alpha=0.3)\n",
    "        if m.needed[worker]() and not m.weekend[worker]():\n",
    "            ax.fill_between([15, len(m.SLOTS)], [j, j], [j+1, j+1], color='k', alpha=0.3)\n",
    "        \n",
    "visualize(m)\n"
   ]
  },
  {
   "cell_type": "markdown",
   "metadata": {},
   "source": [
    "## Implementing the Schedule with Reports\n",
    "\n",
    "Optimal planning models can generate large amounts of data that need to be summarized and communicated to individuals for implementation. \n",
    "\n",
    "### Creating a master schedule with categorical data\n",
    "\n",
    "The following cell creates a pandas DataFrame comprising all active assignments from the solved model. The data consists of all (worker, day, shift) tuples for which the Boolean decision variable m.assign equals one.    \n",
    "\n",
    "The data is categorical consisting of a unique id for each worker, a day of the week, or the name of a shift. Each of the categories has a natural ordering that should be used in creating reports. This is implemented using the `CategoricalDtype` class."
   ]
  },
  {
   "cell_type": "code",
   "execution_count": 4,
   "metadata": {
    "executionInfo": {
     "elapsed": 470,
     "status": "ok",
     "timestamp": 1647782911667,
     "user": {
      "displayName": "Jeffrey Kantor",
      "photoUrl": "https://lh3.googleusercontent.com/a-/AOh14Gg_n8V7bVINy02QRuRgOoMo11Ri7NKU3OUKdC1bkQ=s64",
      "userId": "09038942003589296665"
     },
     "user_tz": 240
    },
    "id": "4Vvt0azzH0J7"
   },
   "outputs": [
    {
     "data": {
      "text/html": [
       "<div>\n",
       "<style scoped>\n",
       "    .dataframe tbody tr th:only-of-type {\n",
       "        vertical-align: middle;\n",
       "    }\n",
       "\n",
       "    .dataframe tbody tr th {\n",
       "        vertical-align: top;\n",
       "    }\n",
       "\n",
       "    .dataframe thead th {\n",
       "        text-align: right;\n",
       "    }\n",
       "</style>\n",
       "<table border=\"1\" class=\"dataframe\">\n",
       "  <thead>\n",
       "    <tr style=\"text-align: right;\">\n",
       "      <th></th>\n",
       "      <th>worker</th>\n",
       "      <th>day</th>\n",
       "      <th>shift</th>\n",
       "    </tr>\n",
       "  </thead>\n",
       "  <tbody>\n",
       "    <tr>\n",
       "      <th>19</th>\n",
       "      <td>W05</td>\n",
       "      <td>Mon</td>\n",
       "      <td>morning</td>\n",
       "    </tr>\n",
       "    <tr>\n",
       "      <th>29</th>\n",
       "      <td>W07</td>\n",
       "      <td>Mon</td>\n",
       "      <td>morning</td>\n",
       "    </tr>\n",
       "    <tr>\n",
       "      <th>14</th>\n",
       "      <td>W04</td>\n",
       "      <td>Mon</td>\n",
       "      <td>evening</td>\n",
       "    </tr>\n",
       "    <tr>\n",
       "      <th>24</th>\n",
       "      <td>W06</td>\n",
       "      <td>Mon</td>\n",
       "      <td>evening</td>\n",
       "    </tr>\n",
       "    <tr>\n",
       "      <th>0</th>\n",
       "      <td>W01</td>\n",
       "      <td>Mon</td>\n",
       "      <td>night</td>\n",
       "    </tr>\n",
       "    <tr>\n",
       "      <th>20</th>\n",
       "      <td>W05</td>\n",
       "      <td>Tue</td>\n",
       "      <td>morning</td>\n",
       "    </tr>\n",
       "    <tr>\n",
       "      <th>30</th>\n",
       "      <td>W07</td>\n",
       "      <td>Tue</td>\n",
       "      <td>morning</td>\n",
       "    </tr>\n",
       "    <tr>\n",
       "      <th>5</th>\n",
       "      <td>W02</td>\n",
       "      <td>Tue</td>\n",
       "      <td>evening</td>\n",
       "    </tr>\n",
       "    <tr>\n",
       "      <th>25</th>\n",
       "      <td>W06</td>\n",
       "      <td>Tue</td>\n",
       "      <td>evening</td>\n",
       "    </tr>\n",
       "    <tr>\n",
       "      <th>10</th>\n",
       "      <td>W03</td>\n",
       "      <td>Tue</td>\n",
       "      <td>night</td>\n",
       "    </tr>\n",
       "    <tr>\n",
       "      <th>1</th>\n",
       "      <td>W01</td>\n",
       "      <td>Wed</td>\n",
       "      <td>morning</td>\n",
       "    </tr>\n",
       "    <tr>\n",
       "      <th>21</th>\n",
       "      <td>W05</td>\n",
       "      <td>Wed</td>\n",
       "      <td>morning</td>\n",
       "    </tr>\n",
       "    <tr>\n",
       "      <th>6</th>\n",
       "      <td>W02</td>\n",
       "      <td>Wed</td>\n",
       "      <td>evening</td>\n",
       "    </tr>\n",
       "    <tr>\n",
       "      <th>15</th>\n",
       "      <td>W04</td>\n",
       "      <td>Wed</td>\n",
       "      <td>evening</td>\n",
       "    </tr>\n",
       "    <tr>\n",
       "      <th>26</th>\n",
       "      <td>W06</td>\n",
       "      <td>Wed</td>\n",
       "      <td>night</td>\n",
       "    </tr>\n",
       "    <tr>\n",
       "      <th>11</th>\n",
       "      <td>W03</td>\n",
       "      <td>Thu</td>\n",
       "      <td>morning</td>\n",
       "    </tr>\n",
       "    <tr>\n",
       "      <th>31</th>\n",
       "      <td>W07</td>\n",
       "      <td>Thu</td>\n",
       "      <td>morning</td>\n",
       "    </tr>\n",
       "    <tr>\n",
       "      <th>16</th>\n",
       "      <td>W04</td>\n",
       "      <td>Thu</td>\n",
       "      <td>evening</td>\n",
       "    </tr>\n",
       "    <tr>\n",
       "      <th>22</th>\n",
       "      <td>W05</td>\n",
       "      <td>Thu</td>\n",
       "      <td>evening</td>\n",
       "    </tr>\n",
       "    <tr>\n",
       "      <th>27</th>\n",
       "      <td>W06</td>\n",
       "      <td>Thu</td>\n",
       "      <td>night</td>\n",
       "    </tr>\n",
       "    <tr>\n",
       "      <th>7</th>\n",
       "      <td>W02</td>\n",
       "      <td>Fri</td>\n",
       "      <td>morning</td>\n",
       "    </tr>\n",
       "    <tr>\n",
       "      <th>32</th>\n",
       "      <td>W07</td>\n",
       "      <td>Fri</td>\n",
       "      <td>morning</td>\n",
       "    </tr>\n",
       "    <tr>\n",
       "      <th>2</th>\n",
       "      <td>W01</td>\n",
       "      <td>Fri</td>\n",
       "      <td>evening</td>\n",
       "    </tr>\n",
       "    <tr>\n",
       "      <th>17</th>\n",
       "      <td>W04</td>\n",
       "      <td>Fri</td>\n",
       "      <td>evening</td>\n",
       "    </tr>\n",
       "    <tr>\n",
       "      <th>28</th>\n",
       "      <td>W06</td>\n",
       "      <td>Fri</td>\n",
       "      <td>night</td>\n",
       "    </tr>\n",
       "    <tr>\n",
       "      <th>8</th>\n",
       "      <td>W02</td>\n",
       "      <td>Sat</td>\n",
       "      <td>morning</td>\n",
       "    </tr>\n",
       "    <tr>\n",
       "      <th>23</th>\n",
       "      <td>W05</td>\n",
       "      <td>Sat</td>\n",
       "      <td>morning</td>\n",
       "    </tr>\n",
       "    <tr>\n",
       "      <th>3</th>\n",
       "      <td>W01</td>\n",
       "      <td>Sat</td>\n",
       "      <td>evening</td>\n",
       "    </tr>\n",
       "    <tr>\n",
       "      <th>18</th>\n",
       "      <td>W04</td>\n",
       "      <td>Sat</td>\n",
       "      <td>evening</td>\n",
       "    </tr>\n",
       "    <tr>\n",
       "      <th>12</th>\n",
       "      <td>W03</td>\n",
       "      <td>Sat</td>\n",
       "      <td>night</td>\n",
       "    </tr>\n",
       "    <tr>\n",
       "      <th>9</th>\n",
       "      <td>W02</td>\n",
       "      <td>Sun</td>\n",
       "      <td>morning</td>\n",
       "    </tr>\n",
       "    <tr>\n",
       "      <th>4</th>\n",
       "      <td>W01</td>\n",
       "      <td>Sun</td>\n",
       "      <td>evening</td>\n",
       "    </tr>\n",
       "    <tr>\n",
       "      <th>13</th>\n",
       "      <td>W03</td>\n",
       "      <td>Sun</td>\n",
       "      <td>night</td>\n",
       "    </tr>\n",
       "  </tbody>\n",
       "</table>\n",
       "</div>"
      ],
      "text/plain": [
       "   worker  day    shift\n",
       "19    W05  Mon  morning\n",
       "29    W07  Mon  morning\n",
       "14    W04  Mon  evening\n",
       "24    W06  Mon  evening\n",
       "0     W01  Mon    night\n",
       "20    W05  Tue  morning\n",
       "30    W07  Tue  morning\n",
       "5     W02  Tue  evening\n",
       "25    W06  Tue  evening\n",
       "10    W03  Tue    night\n",
       "1     W01  Wed  morning\n",
       "21    W05  Wed  morning\n",
       "6     W02  Wed  evening\n",
       "15    W04  Wed  evening\n",
       "26    W06  Wed    night\n",
       "11    W03  Thu  morning\n",
       "31    W07  Thu  morning\n",
       "16    W04  Thu  evening\n",
       "22    W05  Thu  evening\n",
       "27    W06  Thu    night\n",
       "7     W02  Fri  morning\n",
       "32    W07  Fri  morning\n",
       "2     W01  Fri  evening\n",
       "17    W04  Fri  evening\n",
       "28    W06  Fri    night\n",
       "8     W02  Sat  morning\n",
       "23    W05  Sat  morning\n",
       "3     W01  Sat  evening\n",
       "18    W04  Sat  evening\n",
       "12    W03  Sat    night\n",
       "9     W02  Sun  morning\n",
       "4     W01  Sun  evening\n",
       "13    W03  Sun    night"
      ]
     },
     "execution_count": 4,
     "metadata": {},
     "output_type": "execute_result"
    }
   ],
   "source": [
    "import pandas as pd\n",
    "\n",
    "schedule = pd.DataFrame([[w, d, s] for w in m.WORKERS for d, s in m.SLOTS if m.assign[w, d, s]()], \n",
    "                        columns=[\"worker\", \"day\", \"shift\"])\n",
    "\n",
    "# create and assign a worker category type\n",
    "worker_type = pd.CategoricalDtype(categories=m.WORKERS, ordered=True)\n",
    "schedule[\"worker\"] = schedule[\"worker\"].astype(worker_type)\n",
    "\n",
    "# create and assign a day category type\n",
    "day_type = pd.CategoricalDtype(categories=m.DAYS, ordered=True)\n",
    "schedule[\"day\"] = schedule[\"day\"].astype(day_type)\n",
    "\n",
    "# create and assign a shift category type\n",
    "shift_type = pd.CategoricalDtype(categories=m.SHIFTS, ordered=True)\n",
    "schedule[\"shift\"] = schedule[\"shift\"].astype(shift_type)\n",
    "\n",
    "# demonstrate sorting and display of the master schedule\n",
    "schedule.sort_values(by=[\"day\", \"shift\", \"worker\"])"
   ]
  },
  {
   "cell_type": "markdown",
   "metadata": {},
   "source": [
    "### Reports for workers\n",
    "\n",
    "Each worker should receive a report detailing their shift assignments. The reports are created by sorting the master schedule by worker, day, and shift, then grouping by worker. "
   ]
  },
  {
   "cell_type": "code",
   "execution_count": 5,
   "metadata": {
    "executionInfo": {
     "elapsed": 470,
     "status": "ok",
     "timestamp": 1647782911667,
     "user": {
      "displayName": "Jeffrey Kantor",
      "photoUrl": "https://lh3.googleusercontent.com/a-/AOh14Gg_n8V7bVINy02QRuRgOoMo11Ri7NKU3OUKdC1bkQ=s64",
      "userId": "09038942003589296665"
     },
     "user_tz": 240
    },
    "id": "4Vvt0azzH0J7"
   },
   "outputs": [
    {
     "name": "stdout",
     "output_type": "stream",
     "text": [
      "\n",
      " Work schedule for W01\n",
      "worker day   shift\n",
      "   W01 Mon   night\n",
      "   W01 Wed morning\n",
      "   W01 Fri evening\n",
      "   W01 Sat evening\n",
      "   W01 Sun evening\n",
      "\n",
      " Work schedule for W02\n",
      "worker day   shift\n",
      "   W02 Tue evening\n",
      "   W02 Wed evening\n",
      "   W02 Fri morning\n",
      "   W02 Sat morning\n",
      "   W02 Sun morning\n",
      "\n",
      " Work schedule for W03\n",
      "worker day   shift\n",
      "   W03 Tue   night\n",
      "   W03 Thu morning\n",
      "   W03 Sat   night\n",
      "   W03 Sun   night\n",
      "\n",
      " Work schedule for W04\n",
      "worker day   shift\n",
      "   W04 Mon evening\n",
      "   W04 Wed evening\n",
      "   W04 Thu evening\n",
      "   W04 Fri evening\n",
      "   W04 Sat evening\n",
      "\n",
      " Work schedule for W05\n",
      "worker day   shift\n",
      "   W05 Mon morning\n",
      "   W05 Tue morning\n",
      "   W05 Wed morning\n",
      "   W05 Thu evening\n",
      "   W05 Sat morning\n",
      "\n",
      " Work schedule for W06\n",
      "worker day   shift\n",
      "   W06 Mon evening\n",
      "   W06 Tue evening\n",
      "   W06 Wed   night\n",
      "   W06 Thu   night\n",
      "   W06 Fri   night\n",
      "\n",
      " Work schedule for W07\n",
      "worker day   shift\n",
      "   W07 Mon morning\n",
      "   W07 Tue morning\n",
      "   W07 Thu morning\n",
      "   W07 Fri morning\n",
      "\n",
      " Work schedule for W08\n",
      "   no assigned shifts\n",
      "\n",
      " Work schedule for W09\n",
      "   no assigned shifts\n",
      "\n",
      " Work schedule for W10\n",
      "   no assigned shifts\n"
     ]
    }
   ],
   "source": [
    "# sort schedule by worker\n",
    "schedule = schedule.sort_values(by=[\"worker\", \"day\", \"shift\"])\n",
    "\n",
    "# print worker schedules\n",
    "for worker, worker_schedule in schedule.groupby('worker'):\n",
    "    print(f\"\\n Work schedule for {worker}\")\n",
    "    if len(worker_schedule) > 0:   \n",
    "        for s in worker_schedule.to_string(index=False).split('\\n'):\n",
    "            print(s)\n",
    "    else:\n",
    "        print(\"   no assigned shifts\")"
   ]
  },
  {
   "cell_type": "markdown",
   "metadata": {},
   "source": [
    "### Reports for store managers\n",
    "\n",
    "The store managers need reports listing workers by assigned day and shift."
   ]
  },
  {
   "cell_type": "code",
   "execution_count": 6,
   "metadata": {
    "executionInfo": {
     "elapsed": 470,
     "status": "ok",
     "timestamp": 1647782911667,
     "user": {
      "displayName": "Jeffrey Kantor",
      "photoUrl": "https://lh3.googleusercontent.com/a-/AOh14Gg_n8V7bVINy02QRuRgOoMo11Ri7NKU3OUKdC1bkQ=s64",
      "userId": "09038942003589296665"
     },
     "user_tz": 240
    },
    "id": "4Vvt0azzH0J7"
   },
   "outputs": [
    {
     "name": "stdout",
     "output_type": "stream",
     "text": [
      "\n",
      "Shift schedule for Mon\n",
      "   morning shift: W05, W07\n",
      "   evening shift: W04, W06\n",
      "   night shift: W01\n",
      "\n",
      "Shift schedule for Tue\n",
      "   morning shift: W05, W07\n",
      "   evening shift: W02, W06\n",
      "   night shift: W03\n",
      "\n",
      "Shift schedule for Wed\n",
      "   morning shift: W01, W05\n",
      "   evening shift: W02, W04\n",
      "   night shift: W06\n",
      "\n",
      "Shift schedule for Thu\n",
      "   morning shift: W03, W07\n",
      "   evening shift: W04, W05\n",
      "   night shift: W06\n",
      "\n",
      "Shift schedule for Fri\n",
      "   morning shift: W02, W07\n",
      "   evening shift: W01, W04\n",
      "   night shift: W06\n",
      "\n",
      "Shift schedule for Sat\n",
      "   morning shift: W02, W05\n",
      "   evening shift: W01, W04\n",
      "   night shift: W03\n",
      "\n",
      "Shift schedule for Sun\n",
      "   morning shift: W02\n",
      "   evening shift: W01\n",
      "   night shift: W03\n"
     ]
    }
   ],
   "source": [
    "# sort by day, shift, worker\n",
    "schedule = schedule.sort_values(by=[\"day\", \"shift\", \"worker\"])\n",
    "\n",
    "for day, day_schedule in schedule.groupby([\"day\"]):\n",
    "    print(f\"\\nShift schedule for {day}\")\n",
    "    for shift, shift_schedule in day_schedule.groupby([\"shift\"]):\n",
    "        print(f\"   {shift} shift: \", end=\"\")\n",
    "        print(', '.join([worker for worker in shift_schedule[\"worker\"].values]))"
   ]
  },
  {
   "cell_type": "markdown",
   "metadata": {
    "id": "s4nX2GyHnyX6"
   },
   "source": [
    "## Suggested Exercises\n",
    "\n",
    "1. How many workers will be required to operate the food store if all workers are limited to four shifts per week, i.e., 32 hours?  How about 3 shifts or 24 hours per week?\n",
    "\n",
    "2. Add a second class of workers called \"manager\".  There needs to be one manager on duty for every shift, that morning shifts require 3 staff on duty, evening shifts 2,\n",
    "and night shifts 1.\n",
    "\n",
    "3. Add a third class of workers called \"part_time\". Part time workers are limited to no more than 30 hours per week.\n",
    "\n",
    "4. Modify the problem formulation and objective to spread the shifts out amongst all workers, attempting to equalize the total number of assigned shifts, and similar numbers of day, evening, night, and weekend shifts.\n",
    "\n",
    "5. Find the minimum cost staffing plan assuming managers cost 30 euros per hour + 100 euros per week in fixed benefits, regular workers cost 20 euros per hour plus 80 euros per week in fixed benefits, and part time workers cosst 15 euros per week with no benefits."
   ]
  },
  {
   "cell_type": "code",
   "execution_count": null,
   "metadata": {
    "id": "hpk1I82wprmx"
   },
   "outputs": [],
   "source": []
  }
 ],
 "metadata": {
  "colab": {
   "authorship_tag": "ABX9TyN0pZdoEjyEz2xT0l+FPAg2",
   "collapsed_sections": [],
   "name": "Shift-Scheduling.ipynb",
   "provenance": []
  },
  "kernelspec": {
   "display_name": "Python 3 (ipykernel)",
   "language": "python",
   "name": "python3"
  },
  "language_info": {
   "codemirror_mode": {
    "name": "ipython",
    "version": 3
   },
   "file_extension": ".py",
   "mimetype": "text/x-python",
   "name": "python",
   "nbconvert_exporter": "python",
   "pygments_lexer": "ipython3",
   "version": "3.9.7"
  }
 },
 "nbformat": 4,
 "nbformat_minor": 4
}