{
 "cells": [
  {
   "cell_type": "markdown",
   "id": "cb8973c5-fa49-44ac-9ed9-0eec8081e69b",
   "metadata": {},
   "source": [
    "# Production Model with Disjuncts"
   ]
  },
  {
   "cell_type": "code",
   "execution_count": 2,
   "id": "57201ece-5aad-4a81-864a-9d29f3482885",
   "metadata": {},
   "outputs": [],
   "source": [
    "# Import Pyomo and solvers for Google Colab\n",
    "import sys\n",
    "if \"google.colab\" in sys.modules:\n",
    "    !wget -N -q https://raw.githubusercontent.com/jckantor/MO-book/main/tools/install_on_colab.py \n",
    "    %run install_on_colab.py"
   ]
  },
  {
   "cell_type": "markdown",
   "id": "c1e98d83-34eb-45a4-a6e6-5eb733f80fcc",
   "metadata": {
    "tags": []
   },
   "source": [
    "## Production Model\n",
    "\n",
    "$$\n",
    "\\begin{align*}\n",
    "\\max_{x, y \\geq 0} &\\quad \\text{profit}\n",
    "\\\\\n",
    "\\text{subject to:}\\qquad\\qquad\n",
    "\\\\\n",
    "\\text{profit} & = 40 x + 30 y \\\\\n",
    "x & \\leq 40 & \\text{Demand}\\\\\n",
    "x + y & \\leq 80 & \\text{Labor A} \\\\\n",
    "2 x + y & \\leq 100 & \\text{Labor B} \\\\\n",
    "\\end{align*}\n",
    "$$"
   ]
  },
  {
   "cell_type": "code",
   "execution_count": 3,
   "id": "0291f0fe-a9f6-4427-900a-70bd0e5ac916",
   "metadata": {},
   "outputs": [
    {
     "name": "stdout",
     "output_type": "stream",
     "text": [
      "Profit = 2600.0\n",
      "Production X = 20.0\n",
      "Production Y = 60.0\n"
     ]
    }
   ],
   "source": [
    "import pyomo.environ as pyo\n",
    "\n",
    "model = pyo.ConcreteModel(\"Multi-Product Plant\")\n",
    "\n",
    "# decision variables\n",
    "model.profit = pyo.Var()\n",
    "model.production_x = pyo.Var(domain=pyo.NonNegativeReals)\n",
    "model.production_y = pyo.Var(domain=pyo.NonNegativeReals)\n",
    "\n",
    "# profit objective\n",
    "@model.Objective(sense=pyo.maximize)\n",
    "def maximize_profit(model):\n",
    "    return  model.profit\n",
    "\n",
    "# constraints\n",
    "@model.Constraint()\n",
    "def profit_expr(model):\n",
    "    return model.profit == 40*model.production_x + 30*model.production_y\n",
    "\n",
    "@model.Constraint()\n",
    "def demand(model):\n",
    "    return model.production_x <= 40\n",
    "\n",
    "@model.Constraint()\n",
    "def laborA(model):\n",
    "    return model.production_x + model.production_y <= 80\n",
    "\n",
    "@model.Constraint()\n",
    "def laborB(model):\n",
    "    return 2*model.production_x + model.production_y <= 100\n",
    "\n",
    "# solve\n",
    "pyo.SolverFactory('cbc').solve(model)\n",
    "\n",
    "print(f\"Profit = {model.profit()}\")\n",
    "print(f\"Production X = {model.production_x()}\")\n",
    "print(f\"Production Y = {model.production_y()}\")"
   ]
  },
  {
   "cell_type": "markdown",
   "id": "31dfdc49-c671-4cf6-966e-74985de748e1",
   "metadata": {},
   "source": [
    "## Would a new technology improve profit?\n",
    "\n",
    "Labor B is a relatively high cost for the production of product X.  A new technology has been developed with the potential to lower cost by reducing the time required to finish product X to 1.5 hours, but require a more highly skilled labor type C at a unit cost of $60 per hour. Would \n",
    "\n",
    "\n",
    "$$\n",
    "\\begin{align*}\n",
    "\\max_{x, y \\geq 0} &\\quad \\text{profit}\\\\\n",
    "\\\\\n",
    "\\text{subject to:}\\qquad\\qquad\n",
    "\\\\\n",
    "x & \\leq 40 & \\text{Demand}\\\\\n",
    "x + y & \\leq 80 & \\text{Labor A} \\\\\n",
    "\\\\\n",
    "\\begin{bmatrix}\n",
    "\\text{profit} = 40x + 30y\\\\\n",
    "2 x + y \\leq 100\n",
    "\\end{bmatrix}\n",
    "& \\veebar\n",
    "\\begin{bmatrix}\n",
    "\\text{profit} = 60x + 30y\\\\\n",
    "1.5 x + y \\leq 100\n",
    "\\end{bmatrix}\n",
    "\\end{align*}\n",
    "$$"
   ]
  },
  {
   "cell_type": "code",
   "execution_count": 4,
   "id": "34c8ab74-219a-4fcd-9914-1cc861db20f7",
   "metadata": {},
   "outputs": [
    {
     "name": "stdout",
     "output_type": "stream",
     "text": [
      "Profit = 3600.0\n",
      "Production X = 40.0\n",
      "Production Y = 40.0\n"
     ]
    }
   ],
   "source": [
    "import pyomo.environ as pyo\n",
    "import pyomo.gdp as gdp\n",
    "\n",
    "model = pyo.ConcreteModel(\"Multi-Product Plant\")\n",
    "\n",
    "# decision variables\n",
    "model.profit = pyo.Var(bounds=(-10000, 10000))\n",
    "model.production_x = pyo.Var(domain=pyo.NonNegativeReals, bounds=(0, 200))\n",
    "model.production_y = pyo.Var(domain=pyo.NonNegativeReals, bounds=(0, 200))\n",
    "\n",
    "# profit objective\n",
    "@model.Objective(sense=pyo.maximize)\n",
    "def maximize_profit(model):\n",
    "    return  model.profit\n",
    "\n",
    "@model.Constraint()\n",
    "def demand(model):\n",
    "    return model.production_x <= 40\n",
    "\n",
    "@model.Constraint()\n",
    "def laborA(model):\n",
    "    return model.production_x + model.production_y <= 80\n",
    "\n",
    "@model.Disjunct()\n",
    "def technology_A(disjunct):\n",
    "    model = disjunct.model()\n",
    "    disjunct.laborB = \\\n",
    "        pyo.Constraint(expr = 2*model.production_x + model.production_y <= 100)\n",
    "    disjunct.profit_expr = \\\n",
    "        pyo.Constraint(expr = model.profit == 40*model.production_x + 30*model.production_y)\n",
    "\n",
    "@model.Disjunct()\n",
    "def technology_B(disjunct):\n",
    "    model = disjunct.model()\n",
    "    disjunct.laborB = \\\n",
    "        pyo.Constraint(expr = 1.5*model.production_x + model.production_y <= 100)\n",
    "    disjunct.profit_expr = \\\n",
    "        pyo.Constraint(expr = model.profit == 60*model.production_x + 30*model.production_y)\n",
    "\n",
    "@model.Disjunction(xor=True)\n",
    "def technology(model):\n",
    "    return [model.technology_A, model.technology_B]\n",
    "\n",
    "# solve\n",
    "pyo.TransformationFactory(\"gdp.bigm\").apply_to(model)\n",
    "pyo.SolverFactory('cbc').solve(model)\n",
    "\n",
    "print(f\"Profit = {model.profit()}\")\n",
    "print(f\"Production X = {model.production_x()}\")\n",
    "print(f\"Production Y = {model.production_y()}\")"
   ]
  },
  {
   "cell_type": "code",
   "execution_count": 5,
   "id": "7e0dcacb-16d3-4031-99b0-e10c7b68050e",
   "metadata": {},
   "outputs": [
    {
     "name": "stdout",
     "output_type": "stream",
     "text": [
      "Profit = 3600.0\n",
      "x = 40.0\n",
      "y = 40.0\n"
     ]
    }
   ],
   "source": [
    "model = pyo.ConcreteModel()\n",
    "          \n",
    "model.profit = pyo.Var(bounds=(-1000, 10000))\n",
    "model.x = pyo.Var(domain=pyo.NonNegativeReals, bounds=(0, 1000))\n",
    "model.y = pyo.Var(domain=pyo.NonNegativeReals, bounds=(0, 1000))\n",
    "\n",
    "@model.Objective(sense=pyo.maximize)\n",
    "def maximize_profit(model):\n",
    "    return model.profit\n",
    "\n",
    "@model.Constraint()\n",
    "def demand(model):\n",
    "    return model.x <= 40\n",
    "\n",
    "@model.Constraint()\n",
    "def laborA(model):\n",
    "    return model.x + model.y <= 80\n",
    "\n",
    "@model.Disjunction(xor=True)\n",
    "def technologies(model):\n",
    "    return [[model.profit == 40*model.x + 30*model.y,\n",
    "             2*model.x + model.y <= 100],\n",
    "            \n",
    "            [model.profit == 60*model.x + 30*model.y,\n",
    "             1.5*model.x + model.y <= 100]]\n",
    "            \n",
    "\n",
    "pyo.TransformationFactory(\"gdp.bigm\").apply_to(model)\n",
    "pyo.SolverFactory('cbc').solve(model)\n",
    "\n",
    "print(f\"Profit = {model.profit()}\")\n",
    "print(f\"x = {model.x()}\")\n",
    "print(f\"y = {model.y()}\")"
   ]
  },
  {
   "cell_type": "code",
   "execution_count": null,
   "id": "8bffbd40-1aa1-4f46-925f-246886542836",
   "metadata": {},
   "outputs": [],
   "source": []
  }
 ],
 "metadata": {
  "kernelspec": {
   "display_name": "Python 3 (ipykernel)",
   "language": "python",
   "name": "python3"
  },
  "language_info": {
   "codemirror_mode": {
    "name": "ipython",
    "version": 3
   },
   "file_extension": ".py",
   "mimetype": "text/x-python",
   "name": "python",
   "nbconvert_exporter": "python",
   "pygments_lexer": "ipython3",
   "version": "3.9.7"
  }
 },
 "nbformat": 4,
 "nbformat_minor": 5
}