{
 "cells": [
  {
   "cell_type": "markdown",
   "metadata": {
    "colab_type": "text",
    "id": "9O_tHTY_PL_s"
   },
   "source": [
    "# Maintenance Planning"
   ]
  },
  {
   "cell_type": "markdown",
   "metadata": {
    "colab_type": "text",
    "id": "Y_yzzUJQDJtr"
   },
   "source": [
    "## Problem statement\n",
    "\n",
    "\n",
    "A process unit is operating over a maintenance planning horizon from $1$ to $T$ days.  On day $t$ the unit makes a profit $c[t]$ which is known in advance. The unit needs to shut down for $P$ maintenance periods during the planning period.  Once started, a maintenance period takes $M$ days to finish.\n",
    "\n",
    "Find a maintenance schedule that allows the maximum profit to be produced."
   ]
  },
  {
   "cell_type": "markdown",
   "metadata": {},
   "source": [
    "## Imports"
   ]
  },
  {
   "cell_type": "code",
   "execution_count": 1,
   "metadata": {},
   "outputs": [],
   "source": [
    "import matplotlib.pyplot as plt\n",
    "import numpy as np\n",
    "import pandas as pd\n",
    "import pyomo.environ as pyo\n",
    "import pyomo.gdp as gdp"
   ]
  },
  {
   "cell_type": "markdown",
   "metadata": {
    "colab_type": "text",
    "id": "RrSgeD0ewWpE"
   },
   "source": [
    "## Modeling with disjunctive constraints\n",
    "\n",
    "The model is comprised of two sets of the binary variables indexed 1 to $T$. Binary variables $x_t$ correspond to the operating mode of the process unit, with $x_t=1$ indicating the unit is operating on day $t$ and able to earn a profit $c_t$. Binary variable $y_t=1$ indicates the first day of a maintenance period during which the unit is not operating and earning $0$ profit."
   ]
  },
  {
   "cell_type": "markdown",
   "metadata": {
    "colab_type": "text",
    "id": "RrSgeD0ewWpE"
   },
   "source": [
    "### Objective\n",
    "\n",
    "The planning objective is to maximize profit realized during the days the plant is operational. \n",
    "\n",
    "$$\n",
    "\\begin{align*}\n",
    "\\mbox{Profit} & = \\max_{x, y} \\sum_{t=1}^T c_t x_t\n",
    "\\end{align*}\n",
    "$$\n",
    "\n",
    "subject to completing $P$ maintenance periods.  "
   ]
  },
  {
   "cell_type": "markdown",
   "metadata": {
    "colab_type": "text",
    "id": "RrSgeD0ewWpE"
   },
   "source": [
    "### Constraints\n",
    "\n",
    "**Number of maintenance periods is equal to P.**\n",
    "\n",
    "Completing $P$ maintenance periods requires a total of $P$ starts.\n",
    "\n",
    "$$\n",
    "\\begin{align*}\n",
    "\\sum_{t=1}^T y_t &  = P \\\\\n",
    "\\end{align*}\n",
    "$$\n",
    "\n",
    "**Maintenance periods do not overlap.**\n",
    "\n",
    "No more than one maintenance period can start in any consecutive set of M days.\n",
    "\n",
    "$$\n",
    "\\begin{align*}\n",
    "\\sum_{s=0}^{M-1}y_{t+s} & \\leq 1 \\qquad \\forall t = 1, 2, \\ldots, T-M+1\n",
    "\\end{align*}\n",
    "$$\n",
    "\n",
    "This last requirement could be modified if some period of time should occur between maintenance periods.\n",
    "\n",
    "**The unit must shut down for M days following a maintenance start.**\n",
    "\n",
    "The final requirement is a disjunctive constraint that says either $y_t = 0$ or the sum $\\sum_{s}^{M-1}x_{t+s} = 0$, but not both. Mathematically, this forms a set of constraints reading\n",
    "\n",
    "$$\n",
    "\\begin{align*}\n",
    "\\left(y_t = 0\\right) \\veebar \\left(\\sum_{s=0}^{M-1}x_{t+s} = 0\\right)\\qquad \\forall t = 1, 2, \\ldots, T-M+1\n",
    "\\end{align*}\n",
    "$$\n",
    "\n",
    "where $\\veebar$ denotes an exclusive or condition."
   ]
  },
  {
   "cell_type": "markdown",
   "metadata": {},
   "source": [
    "## Pyomo solution"
   ]
  },
  {
   "cell_type": "markdown",
   "metadata": {
    "colab_type": "text",
    "id": "Bae6-dR_lYkm"
   },
   "source": [
    "### Parameter values"
   ]
  },
  {
   "cell_type": "code",
   "execution_count": 2,
   "metadata": {
    "colab": {},
    "colab_type": "code",
    "id": "L5TaVPbkEPZ0"
   },
   "outputs": [],
   "source": [
    "# problem parameters\n",
    "T = 90        # planning period from 1..T\n",
    "M = 3         # length of maintenance period\n",
    "P = 4         # number of maintenance periods\n",
    "\n",
    "# daily profits\n",
    "c = {k: np.random.uniform() for k in range(1, T+1)}"
   ]
  },
  {
   "cell_type": "markdown",
   "metadata": {
    "colab_type": "text",
    "id": "e28FWA1GlNyQ"
   },
   "source": [
    "### Pyomo model\n",
    "\n",
    "The disjunctive constraints can be represented directly in Pyomo using the [Generalized Disjunctive Programming](https://pyomo.readthedocs.io/en/latest/modeling_extensions/gdp.html) extension. The GDP extension transforms the disjunctive constraints to an MILP using convex hull and cutting plane methods."
   ]
  },
  {
   "cell_type": "code",
   "execution_count": 3,
   "metadata": {
    "colab": {
     "base_uri": "https://localhost:8080/",
     "height": 1014
    },
    "colab_type": "code",
    "executionInfo": {
     "elapsed": 1543,
     "status": "ok",
     "timestamp": 1557947668999,
     "user": {
      "displayName": "Jeffrey Kantor",
      "photoUrl": "https://lh5.googleusercontent.com/-8zK5aAW5RMQ/AAAAAAAAAAI/AAAAAAAAKB0/kssUQyz8DTQ/s64/photo.jpg",
      "userId": "09038942003589296665"
     },
     "user_tz": 240
    },
    "id": "cUARDFzP9fla",
    "outputId": "ba0f2867-3a14-4314-c09f-bb4a76ebd1a7"
   },
   "outputs": [
    {
     "data": {
      "image/png": "[encoded data removed]",
      "text/plain": [
       "<Figure size 648x288 with 3 Axes>"
      ]
     },
     "metadata": {
      "filenames": {
       "image/png": "/Users/jeff/Google Drive/GitHub/MO-book/_build/jupyter_execute/notebooks/03/maintenance-planning_11_0.png"
      },
      "needs_background": "light"
     },
     "output_type": "display_data"
    }
   ],
   "source": [
    "def maintenance_planning(c, M, P):\n",
    "    m = pyo.ConcreteModel()\n",
    "\n",
    "    T = len(c)\n",
    "    m.T = pyo.RangeSet(1, T)\n",
    "    m.Y = pyo.RangeSet(1, T - M + 1)\n",
    "    m.S = pyo.RangeSet(0, M - 1)\n",
    "\n",
    "    m.c = pyo.Param(m.T, initialize = c)\n",
    "    m.x = pyo.Var(m.T, domain=pyo.Binary)\n",
    "    m.y = pyo.Var(m.T, domain=pyo.Binary)\n",
    "\n",
    "    @m.Objective(sense=pyo.maximize)\n",
    "    def profit(m):\n",
    "        return sum(m.c[t]*m.x[t] for t in m.T)\n",
    "\n",
    "    @m.Constraint()\n",
    "    def required_maintenance(m):\n",
    "        return P == sum(m.y[t] for t in m.Y)\n",
    "    \n",
    "    @m.Constraint(m.Y)\n",
    "    def no_overlap(m, t):\n",
    "        return sum(m.y[t+s] for s in m.S) <= 1\n",
    "    \n",
    "    @m.Disjunction(m.Y, xor=True)\n",
    "    def required_shutdown(m, t):\n",
    "        return [[m.y[t]==0], [sum(m.x[t+s] for s in m.S) == 0]]\n",
    "\n",
    "    pyo.TransformationFactory(\"gdp.hull\").apply_to(m)\n",
    "    \n",
    "    return m\n",
    "\n",
    "def plot_schedule(m):\n",
    "    fig,ax = plt.subplots(3, 1, figsize=(9,4))\n",
    "    \n",
    "    ax[0].bar(m.T, [m.c[t] for t in m.T])\n",
    "    ax[0].set_title('daily profit $c_t$')\n",
    "    \n",
    "    ax[1].bar(m.T, [m.x[t]() for t in m.T], label='normal operation')\n",
    "    ax[1].set_title('unit operating schedule $x_t$')\n",
    "    \n",
    "    ax[2].bar(m.Y, [m.y[t]() for t in m.Y])\n",
    "    ax[2].set_title(str(P) + ' maintenance starts $y_t$')\n",
    "    for a in ax:\n",
    "        a.set_xlim(0.1, len(m.T)+0.9)\n",
    "        \n",
    "    plt.tight_layout()\n",
    "\n",
    "model = maintenance_planning(c, 4, 3)\n",
    "pyo.SolverFactory('cbc').solve(model)\n",
    "plot_schedule(model)"
   ]
  },
  {
   "cell_type": "markdown",
   "metadata": {
    "colab_type": "text",
    "id": "gcy3yD4J_6OC"
   },
   "source": [
    "## Ramping constraints\n",
    "\n",
    "Prior to maintenance shutdown, a large processing unit may take some time to safely ramp down from full production. And then require more time to safely ramp back up to full production following maintenace. To provide for ramp-down and ramp-up periods, we modify the problem formation in the following ways.\n",
    "\n",
    "* The variable denoting unit operation, $x_t$ is changed from a binary variable to a continuous variable $0 \\leq x_t \\leq 1$ denoting the fraction of total capacity at which the unit is operating on day $t$.\n",
    "\n",
    "* Two new variable sequences, $0 \\leq u_t^+ \\leq u_t^{+,\\max}$ and $0\\leq u_t^- \\leq u_t^{-,\\max}$, are introduced which denote the fraction increase or decrease in unit capacity to completed on day $t$.\n",
    "\n",
    "* An additional sequence of equality constraints is introduced relating $x_t$ to $u_t^+$ and $u_t^-$.\n",
    "\n",
    "$$\n",
    "\\begin{align*}\n",
    "x_{t} & = x_{t-1} + u^+_t - u^-_t\n",
    "\\end{align*}\n",
    "$$\n",
    "\n",
    "We begin the Pyomo model by specifying the constraints, then modifying the Big-M formulation to add the features described above."
   ]
  },
  {
   "cell_type": "code",
   "execution_count": 4,
   "metadata": {
    "colab": {},
    "colab_type": "code",
    "id": "9fRtZc5nCInh"
   },
   "outputs": [],
   "source": [
    "upos_max = 0.3334\n",
    "uneg_max = 0.5000"
   ]
  },
  {
   "cell_type": "code",
   "execution_count": 5,
   "metadata": {
    "colab": {
     "base_uri": "https://localhost:8080/",
     "height": 297
    },
    "colab_type": "code",
    "executionInfo": {
     "elapsed": 3307,
     "status": "ok",
     "timestamp": 1557947674808,
     "user": {
      "displayName": "Jeffrey Kantor",
      "photoUrl": "https://lh5.googleusercontent.com/-8zK5aAW5RMQ/AAAAAAAAAAI/AAAAAAAAKB0/kssUQyz8DTQ/s64/photo.jpg",
      "userId": "09038942003589296665"
     },
     "user_tz": 240
    },
    "id": "ESHZWcEaA9gP",
    "outputId": "030e96a8-1ae1-47f5-f4c6-d83378818838"
   },
   "outputs": [
    {
     "data": {
      "image/png": "[encoded data removed]",
      "text/plain": [
       "<Figure size 648x288 with 3 Axes>"
      ]
     },
     "metadata": {
      "filenames": {
       "image/png": "/Users/jeff/Google Drive/GitHub/MO-book/_build/jupyter_execute/notebooks/03/maintenance-planning_14_0.png"
      },
      "needs_background": "light"
     },
     "output_type": "display_data"
    }
   ],
   "source": [
    "def maintenance_planning_ramp(c, M, P):\n",
    "    m = pyo.ConcreteModel()\n",
    "\n",
    "    T = len(c)\n",
    "    m.T = pyo.RangeSet(1, T)\n",
    "    m.Y = pyo.RangeSet(1, T - M + 1)\n",
    "    m.S = pyo.RangeSet(0, M - 1)\n",
    "\n",
    "    m.c = pyo.Param(m.T, initialize = c)\n",
    "    m.x = pyo.Var(m.T, bounds=(0, 1))\n",
    "    m.y = pyo.Var(m.T, domain=pyo.Binary)\n",
    "    m.upos = pyo.Var(m.T, bounds=(0, upos_max))\n",
    "    m.uneg = pyo.Var(m.T, bounds=(0, uneg_max))\n",
    "    \n",
    "    @m.Objective(sense=pyo.maximize)\n",
    "    def profit(m):\n",
    "        return sum(m.c[t]*m.x[t] for t in m.T)\n",
    "\n",
    "    @m.Constraint()\n",
    "    def required_maintenance(m):\n",
    "        return P == sum(m.y[t] for t in m.Y)\n",
    "    \n",
    "    @m.Constraint(m.Y)\n",
    "    def no_overlap(m, t):\n",
    "        return sum(m.y[t+s] for s in m.S) <= 1\n",
    "    \n",
    "    @m.Disjunction(m.Y, xor=True)\n",
    "    def required_shutdown(m, t):\n",
    "        return [[m.y[t]==0], [sum(m.x[t+s] for s in m.S) == 0]]\n",
    "    \n",
    "    @m.Constraint(m.T)\n",
    "    def ramp(m, t):\n",
    "        if t == 1:\n",
    "            return pyo.Constraint.Skip\n",
    "        else:\n",
    "            return m.x[t] == m.x[t-1] + m.upos[t] - m.uneg[t]\n",
    "\n",
    "    pyo.TransformationFactory(\"gdp.hull\").apply_to(m)\n",
    "    \n",
    "    return m\n",
    "  \n",
    "m = maintenance_planning_ramp(c, M, P)\n",
    "pyo.SolverFactory('cbc').solve(m)\n",
    "plot_schedule(m)"
   ]
  },
  {
   "cell_type": "markdown",
   "metadata": {
    "colab_type": "text",
    "id": "HM_k7HkbThAe"
   },
   "source": [
    "## Specifying the minimum number of operational days between maintenance periods\n",
    "\n",
    "Up to this point we have imposed no constraints on the frequency of maintenance periods. Without such constraints, particularly when ramping constraints are imposed, is that maintenance periods will be scheduled back-to-back, which is clearly not a useful result for most situations.\n",
    "\n",
    "The next revision of the model is to incorporate a requirement that $N$ operational days be scheduled between any mainteance periods. This does allow for maintenance to be postponed until the very end of the planning period. The disjunctive constraints read\n",
    "\n",
    "$$\n",
    "\\begin{align*}\n",
    "\\left(y_t = 0\\right) \\veebar \\left(\\sum_{s=0}^{(M + N -1) \\wedge (t + s \\leq T)}x_{t+s} = 0\\right)\\qquad \\forall t = 1, 2, \\ldots, T-M+1\n",
    "\\end{align*}\n",
    "$$\n",
    "\n",
    "where the upper bound on the summation is needed to handle the terminal condition. \n",
    "\n",
    "Paradoxically, this is an example where the Big-M method provides a much faster solution.\n",
    "\n",
    "$$\n",
    "\\begin{align*}\n",
    "\\sum_{s=0}^{(M + N -1) \\wedge (t + s \\leq T)}x_{t+s} \\leq (M+N)(1-y_t) \\qquad \\forall t = 1, 2, \\ldots, T-M+1\n",
    "\\end{align*}\n",
    "$$\n",
    "\n",
    "The following cell implements both sets of constraints. "
   ]
  },
  {
   "cell_type": "code",
   "execution_count": 6,
   "metadata": {
    "colab": {},
    "colab_type": "code",
    "id": "fEOMGHPvUJzJ"
   },
   "outputs": [],
   "source": [
    "N = 10  # minimum number of operational days between maintenance periods"
   ]
  },
  {
   "cell_type": "code",
   "execution_count": 7,
   "metadata": {
    "colab": {
     "base_uri": "https://localhost:8080/",
     "height": 297
    },
    "colab_type": "code",
    "executionInfo": {
     "elapsed": 3249,
     "status": "ok",
     "timestamp": 1557947681109,
     "user": {
      "displayName": "Jeffrey Kantor",
      "photoUrl": "https://lh5.googleusercontent.com/-8zK5aAW5RMQ/AAAAAAAAAAI/AAAAAAAAKB0/kssUQyz8DTQ/s64/photo.jpg",
      "userId": "09038942003589296665"
     },
     "user_tz": 240
    },
    "id": "m93Na6TkUqDb",
    "outputId": "cae87fae-7eba-46c3-ea3b-7e2427c4f529"
   },
   "outputs": [
    {
     "data": {
      "image/png": "[encoded data removed]",
      "text/plain": [
       "<Figure size 648x288 with 3 Axes>"
      ]
     },
     "metadata": {
      "filenames": {
       "image/png": "/Users/jeff/Google Drive/GitHub/MO-book/_build/jupyter_execute/notebooks/03/maintenance-planning_17_0.png"
      },
      "needs_background": "light"
     },
     "output_type": "display_data"
    }
   ],
   "source": [
    "def maintenance_planning_ramp_operational(c, T, M, P, N):\n",
    "    m = pyo.ConcreteModel()\n",
    "\n",
    "    m.T = pyo.RangeSet(1, T)\n",
    "    m.Y = pyo.RangeSet(1, T - M + 1)\n",
    "    m.S = pyo.RangeSet(0, M - 1)\n",
    "    m.W = pyo.RangeSet(0, M + N - 1)\n",
    "\n",
    "    m.c = pyo.Param(m.T, initialize = c)\n",
    "    m.x = pyo.Var(m.T, bounds=(0, 1))\n",
    "    m.y = pyo.Var(m.T, domain=pyo.Binary)\n",
    "    m.upos = pyo.Var(m.T, bounds=(0, upos_max))\n",
    "    m.uneg = pyo.Var(m.T, bounds=(0, uneg_max))\n",
    "\n",
    "    @m.Objective(sense=pyo.maximize)\n",
    "    def profit(m):\n",
    "        return sum(m.c[t]*m.x[t] for t in m.T)\n",
    "    \n",
    "    # ramp constraint\n",
    "    @m.Constraint(m.T)\n",
    "    def ramp(m, t):\n",
    "        if t > 1:\n",
    "            return m.x[t] == m.x[t-1] + m.upos[t] - m.uneg[t]\n",
    "        return pyo.Constraint.Skip\n",
    "      \n",
    "    # required number P of maintenance starts\n",
    "    @m.Constraint()\n",
    "    def sumy(m):\n",
    "        return sum(m.y[t] for t in m.Y) == P\n",
    "\n",
    "    # no more than one maintenance start in the period of length M\n",
    "    @m.Constraint(m.Y)\n",
    "    def sprd(m, t):\n",
    "        return sum(m.y[t+s] for s in m.W if t + s <= T) <= 1\n",
    "\n",
    "    # Choose one or the other the following methods. Comment out the method not used.\n",
    "\n",
    "    #@m.Disjunction(m.Y)\n",
    "    #def disj(m, t):\n",
    "    #    return [m.y[t] == 0, \n",
    "    #            sum(m.x[t+s] for s in m.W if t + s <= T) == 0]\n",
    "    #pyo.TransformationFactory('gdp.bigm').apply_to(m)\n",
    "    \n",
    "    # disjunctive constraints, big-M method.\n",
    "    @m.Constraint(m.Y)\n",
    "    def bigm(m, t):\n",
    "        return sum(m.x[t+s] for s in m.S) <= (M+N)*(1 - m.y[t])\n",
    "    \n",
    "    return m\n",
    "\n",
    "m = maintenance_planning_ramp_operational(c, T, M, P, N)\n",
    "pyo.SolverFactory('cbc').solve(m)\n",
    "plot_schedule(m)"
   ]
  },
  {
   "cell_type": "markdown",
   "metadata": {
    "colab_type": "text",
    "id": "3j0fLxBOwSch"
   },
   "source": [
    "## Exercises\n",
    "\n",
    "1. Rather than specify how many maintenance periods must be accomodated, modify the model so that the process unit can operate no more than $N$ days without a maintenance shutdown.  (Hint. You may to introduce an additional set of binary variables, $z_t$ to denote the start of an operational period.)\n",
    "\n",
    "2. Do a systematic comparison of the Big-M, Convex Hull, and Cutting Plane techniques for implementing the disjunctive constraints. Your comparison should include a measure of complexity (such as the number of decision variables and constraints in the resulting transformed problems), computational effort, and the effect of solver (such as glpk vs cbc)."
   ]
  }
 ],
 "metadata": {
  "colab": {
   "collapsed_sections": [],
   "name": "04.03-Maintenance-Planning.ipynb",
   "provenance": [
    {
     "file_id": "https://github.com/jckantor/ND-Pyomo-Cookbook/blob/master/notebooks/04.03-Maintenance-Planning.ipynb",
     "timestamp": 1556576712896
    }
   ],
   "toc_visible": true,
   "version": "0.3.2"
  },
  "kernelspec": {
   "display_name": "Python 3 (ipykernel)",
   "language": "python",
   "name": "python3"
  },
  "language_info": {
   "codemirror_mode": {
    "name": "ipython",
    "version": 3
   },
   "file_extension": ".py",
   "mimetype": "text/x-python",
   "name": "python",
   "nbconvert_exporter": "python",
   "pygments_lexer": "ipython3",
   "version": "3.9.7"
  }
 },
 "nbformat": 4,
 "nbformat_minor": 4
}