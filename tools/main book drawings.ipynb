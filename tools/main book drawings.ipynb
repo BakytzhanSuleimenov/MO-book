{
 "cells": [
  {
   "cell_type": "code",
   "execution_count": null,
   "id": "75579996",
   "metadata": {
    "executionInfo": {
     "elapsed": 230,
     "status": "ok",
     "timestamp": 1643295291264,
     "user": {
      "displayName": "Joaquim Gromicho",
      "photoUrl": "https://lh3.googleusercontent.com/a/default-user=s64",
      "userId": "14375950305363805729"
     },
     "user_tz": -60
    },
    "id": "75579996"
   },
   "outputs": [],
   "source": [
    "import matplotlib.pyplot as plt\n",
    "\n",
    "%matplotlib inline\n",
    "\n",
    "# https://stackoverflow.com/questions/17687213/how-to-obtain-the-same-font-style-size-etc-in-matplotlib-output-as-in-latex\n",
    "params = {'text.usetex' : True,\n",
    "          'font.size'   : 10, # the book seems to be in 10pt, change if needed\n",
    "          'font.family' : 'lmodern',\n",
    "          }\n",
    "\n",
    "plt.rcParams.update(params)\n",
    "default_size_inches = (3.54,3.54) \n",
    "plt.rcParams['figure.figsize'] = default_size_inches"
   ]
  },
  {
   "cell_type": "code",
   "execution_count": null,
   "id": "aed2e9e2",
   "metadata": {},
   "outputs": [],
   "source": [
    "[ k for k in plt.rcParams.keys() if 'font' in k ]"
   ]
  },
  {
   "cell_type": "code",
   "execution_count": null,
   "id": "b586264b",
   "metadata": {
    "colab": {
     "base_uri": "https://localhost:8080/",
     "height": 35
    },
    "executionInfo": {
     "elapsed": 366,
     "status": "ok",
     "timestamp": 1643295291990,
     "user": {
      "displayName": "Joaquim Gromicho",
      "photoUrl": "https://lh3.googleusercontent.com/a/default-user=s64",
      "userId": "14375950305363805729"
     },
     "user_tz": -60
    },
    "id": "b586264b",
    "outputId": "978a4606-c13a-43aa-ed21-da59b2f1b16b"
   },
   "outputs": [],
   "source": [
    "import pyomo.environ as pyo\n",
    "import pyomo\n",
    "pyomo.__version__"
   ]
  },
  {
   "cell_type": "code",
   "execution_count": null,
   "id": "483ca84b",
   "metadata": {},
   "outputs": [],
   "source": [
    "%load_ext autoreload\n",
    "%autoreload 2"
   ]
  },
  {
   "cell_type": "code",
   "execution_count": null,
   "id": "d0cca6d3",
   "metadata": {},
   "outputs": [],
   "source": [
    "import sys\n",
    "sys.path.append('./code/')\n",
    "import draw"
   ]
  },
  {
   "cell_type": "code",
   "execution_count": null,
   "id": "5601c91d",
   "metadata": {},
   "outputs": [],
   "source": [
    "draw.SetOutputPath( '/work in progress/MO book/results' )"
   ]
  },
  {
   "cell_type": "markdown",
   "id": "c920862b",
   "metadata": {},
   "source": [
    "# Chapter one"
   ]
  },
  {
   "cell_type": "code",
   "execution_count": null,
   "id": "L8HIF9mx5mYm",
   "metadata": {
    "colab": {
     "base_uri": "https://localhost:8080/",
     "height": 68
    },
    "executionInfo": {
     "elapsed": 2226,
     "status": "ok",
     "timestamp": 1643295332450,
     "user": {
      "displayName": "Joaquim Gromicho",
      "photoUrl": "https://lh3.googleusercontent.com/a/default-user=s64",
      "userId": "14375950305363805729"
     },
     "user_tz": -60
    },
    "id": "L8HIF9mx5mYm",
    "outputId": "0c1f0e57-bec9-4db1-9ae9-84318169b407"
   },
   "outputs": [],
   "source": [
    "import sympy, math, numpy as np, sys\n",
    "\n",
    "x  = sympy.Symbol('x')\n",
    "\n",
    "# now pi is a symbol, just like x\n",
    "pi = sympy.Symbol('pi')\n",
    "\n",
    "# we redefine h using the same right-hand-side code as before, \n",
    "# but now with x and pi as symbols\n",
    "h = (pi*x**2 + 500)/(2*pi*x+50)\n",
    "\n",
    "# to have the drivative on the symbol pi we need it from the new version of h\n",
    "hprime = sympy.diff( h, x )\n",
    "\n",
    "solution = sympy.solveset( sympy.diff( h, x ), x )\n",
    "solution"
   ]
  },
  {
   "cell_type": "code",
   "execution_count": null,
   "id": "8Xxqu9nb6Aio",
   "metadata": {
    "colab": {
     "base_uri": "https://localhost:8080/",
     "height": 106
    },
    "executionInfo": {
     "elapsed": 331,
     "status": "ok",
     "timestamp": 1643295332775,
     "user": {
      "displayName": "Joaquim Gromicho",
      "photoUrl": "https://lh3.googleusercontent.com/a/default-user=s64",
      "userId": "14375950305363805729"
     },
     "user_tz": -60
    },
    "id": "8Xxqu9nb6Aio",
    "outputId": "45387991-a9da-4b4a-b732-a412fa3ede80"
   },
   "outputs": [],
   "source": [
    "def Preety( formula ):\n",
    "    from sympy import latex\n",
    "    from IPython.display import display, Math\n",
    "    display( Math( latex( formula ) ) )\n",
    "\n",
    "Preety( h )\n",
    "Preety( sympy.simplify( h ) )\n",
    "Preety( hprime )\n",
    "Preety( sympy.simplify( hprime ) )"
   ]
  },
  {
   "cell_type": "code",
   "execution_count": null,
   "id": "GaurTgF_6FbW",
   "metadata": {
    "colab": {
     "base_uri": "https://localhost:8080/",
     "height": 65
    },
    "executionInfo": {
     "elapsed": 6,
     "status": "ok",
     "timestamp": 1643295332776,
     "user": {
      "displayName": "Joaquim Gromicho",
      "photoUrl": "https://lh3.googleusercontent.com/a/default-user=s64",
      "userId": "14375950305363805729"
     },
     "user_tz": -60
    },
    "id": "GaurTgF_6FbW",
    "outputId": "32f47ab4-4eff-4809-d0c2-e6857ef03eee"
   },
   "outputs": [],
   "source": [
    "Preety( solution )\n",
    "\n",
    "s = max(solution.subs( pi, math.pi ).evalf())\n",
    "\n",
    "print(s)"
   ]
  },
  {
   "cell_type": "code",
   "execution_count": null,
   "id": "OMbxUPPt5OFw",
   "metadata": {
    "executionInfo": {
     "elapsed": 228,
     "status": "ok",
     "timestamp": 1643295333000,
     "user": {
      "displayName": "Joaquim Gromicho",
      "photoUrl": "https://lh3.googleusercontent.com/a/default-user=s64",
      "userId": "14375950305363805729"
     },
     "user_tz": -60
    },
    "id": "OMbxUPPt5OFw"
   },
   "outputs": [],
   "source": [
    "def Plot( h, s=None, start=0, stop=20, width=18, height=8, file_name=None ):\n",
    "    with plt.rc_context({'figure.figsize': (width,height)}): \n",
    "        plt.rcParams['figure.figsize'] = (width,height)\n",
    "\n",
    "        plt.grid()\n",
    "        plt.xlabel(r'$x$')\n",
    "        plt.ylabel(r'$h(x)$')\n",
    "\n",
    "        plt.xticks(np.arange(start, stop+1, step=1))\n",
    "\n",
    "        x = sympy.Symbol('x')\n",
    "        f = sympy.lambdify( x, h.subs( pi, math.pi ) )\n",
    "\n",
    "        import numpy\n",
    "        x = numpy.linspace(start=start,stop=stop,num=100) \n",
    "        y = f(x)\n",
    "\n",
    "        plt.plot(x,y,label='$h(x)='+sympy.latex(h)+'$',linewidth=3)\n",
    "        if s is None:\n",
    "            x = numpy.linspace(start=start,stop=stop,num=stop-start+1) \n",
    "            y = f(x)\n",
    "            plt.plot(x,y, 'bo', label='some points', markersize=8)\n",
    "        else:\n",
    "            plt.plot(s,f(s), 'ro', label='$x^*$ optimum', markersize=8)\n",
    "\n",
    "        plt.legend()\n",
    "\n",
    "        if file_name is not None:\n",
    "            plt.savefig( draw._output_path+file_name, bbox_inches='tight', pad_inches=0 )\n",
    "\n",
    "        plt.show()"
   ]
  },
  {
   "cell_type": "code",
   "execution_count": null,
   "id": "cvCf5EV65zlz",
   "metadata": {
    "colab": {
     "base_uri": "https://localhost:8080/",
     "height": 497
    },
    "executionInfo": {
     "elapsed": 1519,
     "status": "ok",
     "timestamp": 1643295334517,
     "user": {
      "displayName": "Joaquim Gromicho",
      "photoUrl": "https://lh3.googleusercontent.com/a/default-user=s64",
      "userId": "14375950305363805729"
     },
     "user_tz": -60
    },
    "id": "cvCf5EV65zlz",
    "outputId": "2ce3621c-dca9-4d0c-bc20-2a9cf94789c7"
   },
   "outputs": [],
   "source": [
    "Plot( h, None, 0, 20, 8, 5, 'AliceSome.pdf' )"
   ]
  },
  {
   "cell_type": "code",
   "execution_count": null,
   "id": "TrhtNXWB536T",
   "metadata": {
    "colab": {
     "base_uri": "https://localhost:8080/",
     "height": 497
    },
    "executionInfo": {
     "elapsed": 1207,
     "status": "ok",
     "timestamp": 1643295335720,
     "user": {
      "displayName": "Joaquim Gromicho",
      "photoUrl": "https://lh3.googleusercontent.com/a/default-user=s64",
      "userId": "14375950305363805729"
     },
     "user_tz": -60
    },
    "id": "TrhtNXWB536T",
    "outputId": "87acbe5c-ca61-4c3d-8d85-f4629c579b28"
   },
   "outputs": [],
   "source": [
    "Plot( h, s, 0, 20, 6, 3, 'AliceOptimum.pdf' )"
   ]
  },
  {
   "cell_type": "markdown",
   "id": "f3eb9ddf",
   "metadata": {},
   "source": [
    "# Chapter two"
   ]
  },
  {
   "cell_type": "code",
   "execution_count": null,
   "id": "6a71cb5d",
   "metadata": {},
   "outputs": [],
   "source": [
    "def SimpleDraw( model ):\n",
    "    with plt.rc_context({'figure.figsize': (8,6)}):\n",
    "        return draw.Draw( model, isolines=True, file_name=model.name+'.pdf' )"
   ]
  },
  {
   "cell_type": "code",
   "execution_count": null,
   "id": "92eb880f",
   "metadata": {},
   "outputs": [],
   "source": [
    "def CreateBIM():\n",
    "    m    = pyo.ConcreteModel('BIM')\n",
    "    \n",
    "    m.x1 = pyo.Var( within=pyo.NonNegativeReals )\n",
    "    m.x2 = pyo.Var( within=pyo.NonNegativeReals )\n",
    "\n",
    "    m.obj       = pyo.Objective( sense= pyo.maximize\n",
    "                               , expr = 12*m.x1 + 9*m.x2 )\n",
    "\n",
    "    m.silicon   = pyo.Constraint(expr =    m.x1          <= 1000)\n",
    "    m.germanium = pyo.Constraint(expr =             m.x2 <= 1500)\n",
    "    m.plastic   = pyo.Constraint(expr =    m.x1 +   m.x2 <= 1750)\n",
    "    m.copper    = pyo.Constraint(expr =  4*m.x1 + 2*m.x2 <= 4800)\n",
    "    \n",
    "    return m"
   ]
  },
  {
   "cell_type": "code",
   "execution_count": null,
   "id": "b7876cc7",
   "metadata": {},
   "outputs": [],
   "source": [
    "SimpleDraw( CreateBIM() )"
   ]
  },
  {
   "cell_type": "code",
   "execution_count": null,
   "id": "6MU3qbgv-3uc",
   "metadata": {
    "colab": {
     "base_uri": "https://localhost:8080/",
     "height": 499
    },
    "executionInfo": {
     "elapsed": 3232,
     "status": "ok",
     "timestamp": 1643295338949,
     "user": {
      "displayName": "Joaquim Gromicho",
      "photoUrl": "https://lh3.googleusercontent.com/a/default-user=s64",
      "userId": "14375950305363805729"
     },
     "user_tz": -60
    },
    "id": "6MU3qbgv-3uc",
    "outputId": "2ff34e63-797d-4465-86dc-f9f1b748580c"
   },
   "outputs": [],
   "source": [
    "basicfeasiblesolutions = draw.Draw( CreateBIM(), 'BuildingMicrochips.pdf' )"
   ]
  },
  {
   "cell_type": "code",
   "execution_count": null,
   "id": "Mtqci70VBDP9",
   "metadata": {
    "colab": {
     "base_uri": "https://localhost:8080/",
     "height": 17
    },
    "executionInfo": {
     "elapsed": 11,
     "status": "ok",
     "timestamp": 1643295338950,
     "user": {
      "displayName": "Joaquim Gromicho",
      "photoUrl": "https://lh3.googleusercontent.com/a/default-user=s64",
      "userId": "14375950305363805729"
     },
     "user_tz": -60
    },
    "id": "Mtqci70VBDP9",
    "outputId": "4604b28c-ea80-4ca6-9a32-3107aa2acc2b"
   },
   "outputs": [],
   "source": [
    "basicfeasiblesolutions.rename(columns={'x1': '$x_1$', 'x2': '$x_2$'}).astype(int).to_latex(draw._output_path+'chips.tex')\n",
    "if 'google.colab' in sys.modules:\n",
    "    import os\n",
    "    from google.colab import files\n",
    "    files.download( 'chips.tex' )"
   ]
  },
  {
   "cell_type": "markdown",
   "id": "82977cd4",
   "metadata": {},
   "source": [
    "# Chapter three"
   ]
  },
  {
   "cell_type": "markdown",
   "id": "gxV0Ada048pn",
   "metadata": {
    "id": "gxV0Ada048pn"
   },
   "source": [
    "The first version was a copy of [the model on this deck](http://web.tecnico.ulisboa.pt/mcasquilho/compute/_linpro/TaylorB_module_c.pdf]).\n",
    "\n",
    "Below several versions of possible models."
   ]
  },
  {
   "cell_type": "code",
   "execution_count": null,
   "id": "MXqkQ-Eu4uko",
   "metadata": {
    "executionInfo": {
     "elapsed": 4,
     "status": "ok",
     "timestamp": 1643295292327,
     "user": {
      "displayName": "Joaquim Gromicho",
      "photoUrl": "https://lh3.googleusercontent.com/a/default-user=s64",
      "userId": "14375950305363805729"
     },
     "user_tz": -60
    },
    "id": "MXqkQ-Eu4uko"
   },
   "outputs": [],
   "source": [
    "def CreateBBaExample():\n",
    "    model    = pyo.ConcreteModel('BBa')\n",
    "    \n",
    "    model.x1 = pyo.Var( within=pyo.NonNegativeReals )\n",
    "    model.x2 = pyo.Var( within=pyo.NonNegativeReals )\n",
    "\n",
    "    model.obj = pyo.Objective( sense= pyo.maximize\n",
    "                                    , expr = 2*model.x1 + 3*model.x2 )\n",
    "\n",
    "    model.c1  = pyo.Constraint(expr =  2*model.x1 +  1*model.x2 <=  10)\n",
    "    model.c2  = pyo.Constraint(expr =  3*model.x1 +  6*model.x2 <=  40)\n",
    "    \n",
    "    return model"
   ]
  },
  {
   "cell_type": "code",
   "execution_count": null,
   "id": "E5H8E0Xw41jg",
   "metadata": {
    "colab": {
     "base_uri": "https://localhost:8080/",
     "height": 438
    },
    "executionInfo": {
     "elapsed": 1318,
     "status": "ok",
     "timestamp": 1643295293642,
     "user": {
      "displayName": "Joaquim Gromicho",
      "photoUrl": "https://lh3.googleusercontent.com/a/default-user=s64",
      "userId": "14375950305363805729"
     },
     "user_tz": -60
    },
    "id": "E5H8E0Xw41jg",
    "outputId": "bfd6d5c6-8aeb-4428-9d31-d638d4ddb866"
   },
   "outputs": [],
   "source": [
    "draw.Draw( CreateBBaExample(), integer=True, isolines=True, file_name=CreateBBaExample().name+'.pdf', title='First B\\&B example' )"
   ]
  },
  {
   "cell_type": "code",
   "execution_count": null,
   "id": "84003df3",
   "metadata": {
    "colab": {
     "base_uri": "https://localhost:8080/",
     "height": 1000
    },
    "executionInfo": {
     "elapsed": 14058,
     "status": "ok",
     "timestamp": 1643295321420,
     "user": {
      "displayName": "Joaquim Gromicho",
      "photoUrl": "https://lh3.googleusercontent.com/a/default-user=s64",
      "userId": "14375950305363805729"
     },
     "user_tz": -60
    },
    "id": "VdxPo6Fs_7Kx",
    "outputId": "69de78b4-5126-410e-f444-50d107192330",
    "scrolled": true
   },
   "outputs": [],
   "source": [
    "sol,root = draw.BB( CreateBBaExample(), solver='gurobi_direct' )"
   ]
  },
  {
   "cell_type": "code",
   "execution_count": null,
   "id": "fe2bab5e",
   "metadata": {},
   "outputs": [],
   "source": [
    "draw.ToTikz(root, 'BBa.tex', fig_only=True )"
   ]
  },
  {
   "cell_type": "code",
   "execution_count": null,
   "id": "d7188079",
   "metadata": {},
   "outputs": [],
   "source": [
    "draw.DrawBB(root, 'BB.pdf')"
   ]
  },
  {
   "cell_type": "code",
   "execution_count": null,
   "id": "krauKkRL8nTc",
   "metadata": {
    "colab": {
     "base_uri": "https://localhost:8080/",
     "height": 17
    },
    "executionInfo": {
     "elapsed": 348,
     "status": "ok",
     "timestamp": 1643295321763,
     "user": {
      "displayName": "Joaquim Gromicho",
      "photoUrl": "https://lh3.googleusercontent.com/a/default-user=s64",
      "userId": "14375950305363805729"
     },
     "user_tz": -60
    },
    "id": "krauKkRL8nTc",
    "outputId": "c5dfd52e-7f2c-476e-fdcc-f11623a9312e"
   },
   "outputs": [],
   "source": [
    "draw.DotExporter(root).to_picture(draw._output_path+'BBplain.pdf')"
   ]
  },
  {
   "cell_type": "code",
   "execution_count": null,
   "id": "38e6343d",
   "metadata": {},
   "outputs": [],
   "source": [
    "def CreateBBbExample():\n",
    "    m    = pyo.ConcreteModel('BBb')\n",
    "    \n",
    "    m.x1 = pyo.Var( within=pyo.NonNegativeReals )\n",
    "    m.x2 = pyo.Var( within=pyo.NonNegativeReals )\n",
    "\n",
    "    m.obj= pyo.Objective( sense= pyo.maximize\n",
    "                        , expr =  1*m.x1 + 2*m.x2 )\n",
    "\n",
    "    m.c1 = pyo.Constraint(expr = -4*m.x1 + 5*m.x2 <= 11)\n",
    "    m.c2 = pyo.Constraint(expr =  5*m.x1 - 2*m.x2 <=  9)\n",
    "    \n",
    "    return m"
   ]
  },
  {
   "cell_type": "code",
   "execution_count": null,
   "id": "00e729e6",
   "metadata": {},
   "outputs": [],
   "source": [
    "draw.Draw( CreateBBbExample(), integer=True, isolines=False, file_name=None, title='test' )"
   ]
  },
  {
   "cell_type": "code",
   "execution_count": null,
   "id": "0882d9e6",
   "metadata": {},
   "outputs": [],
   "source": [
    "sol,root = draw.BB( CreateBBbExample(), solver='gurobi_direct' )"
   ]
  },
  {
   "cell_type": "code",
   "execution_count": null,
   "id": "b10783ce",
   "metadata": {},
   "outputs": [],
   "source": [
    "draw.ToTikz(root, 'BBb.tex', fig_only=True )"
   ]
  },
  {
   "cell_type": "code",
   "execution_count": null,
   "id": "c63500d1",
   "metadata": {},
   "outputs": [],
   "source": [
    "draw.DotExporter(root).to_dotfile(draw._output_path+'test.dot')"
   ]
  },
  {
   "cell_type": "code",
   "execution_count": null,
   "id": "19768910",
   "metadata": {},
   "outputs": [],
   "source": [
    "draw.DrawBB(root,'BBBook.pdf')"
   ]
  },
  {
   "cell_type": "code",
   "execution_count": null,
   "id": "uWVnmy_d1MiK",
   "metadata": {
    "executionInfo": {
     "elapsed": 3,
     "status": "ok",
     "timestamp": 1643295324809,
     "user": {
      "displayName": "Joaquim Gromicho",
      "photoUrl": "https://lh3.googleusercontent.com/a/default-user=s64",
      "userId": "14375950305363805729"
     },
     "user_tz": -60
    },
    "id": "uWVnmy_d1MiK"
   },
   "outputs": [],
   "source": [
    "def CreateBIMmodified():\n",
    "    m    = pyo.ConcreteModel('BIMmodified')\n",
    "    \n",
    "    m.x1 = pyo.Var( within=pyo.NonNegativeReals )\n",
    "    m.x2 = pyo.Var( within=pyo.NonNegativeReals )\n",
    "\n",
    "    m.obj       = pyo.Objective( sense= pyo.maximize\n",
    "                               , expr = 12*m.x1 + 9*m.x2 )\n",
    "\n",
    "    m.silicon   = pyo.Constraint(expr =    m.x1          <= 900 )\n",
    "    m.germanium = pyo.Constraint(expr =             m.x2 <= 1350)\n",
    "    m.plastic   = pyo.Constraint(expr =    m.x1 +   m.x2 <= 1801)\n",
    "    m.copper    = pyo.Constraint(expr =  4*m.x1 + 2*m.x2 <= 4903)\n",
    "    \n",
    "    return m"
   ]
  },
  {
   "cell_type": "code",
   "execution_count": null,
   "id": "f0cfe5c7",
   "metadata": {},
   "outputs": [],
   "source": [
    "sol,root = draw.BB( CreateBIMmodified(), solver='gurobi_direct', draw_integer=False, xlim=(-50,1050), ylim=(-50,1550) )"
   ]
  },
  {
   "cell_type": "code",
   "execution_count": null,
   "id": "defebbf7",
   "metadata": {},
   "outputs": [],
   "source": [
    "draw.ToTikz(root, 'BIMmodified.tex', fig_only=True )"
   ]
  },
  {
   "cell_type": "code",
   "execution_count": null,
   "id": "501d6600",
   "metadata": {},
   "outputs": [],
   "source": [
    "def CreateBIMperturbed():\n",
    "    m    = pyo.ConcreteModel('BIMperturbed')\n",
    "    \n",
    "    m.x1 = pyo.Var( within=pyo.NonNegativeReals )\n",
    "    m.x2 = pyo.Var( within=pyo.NonNegativeReals )\n",
    "\n",
    "    m.obj       = pyo.Objective( sense= pyo.maximize\n",
    "                               , expr = 12*m.x1 + 9*m.x2 )\n",
    "\n",
    "    m.silicon   = pyo.Constraint(expr =    m.x1                <= 1000 )\n",
    "    m.germanium = pyo.Constraint(expr =                   m.x2 <= 1500)\n",
    "    m.plastic   = pyo.Constraint(expr =    m.x1    +      m.x2 <= 1750)\n",
    "    m.copper    = pyo.Constraint(expr =  4.04*m.x1 + 2.02*m.x2 <= 4800)\n",
    "    \n",
    "    return m"
   ]
  },
  {
   "cell_type": "code",
   "execution_count": null,
   "id": "f0c0b2ec",
   "metadata": {},
   "outputs": [],
   "source": [
    "sol,root = draw.BB( CreateBIMperturbed(), solver='gurobi_direct', draw_integer=False, xlim=(-50,1050), ylim=(-50,1550) )"
   ]
  },
  {
   "cell_type": "code",
   "execution_count": null,
   "id": "752d997f",
   "metadata": {},
   "outputs": [],
   "source": [
    "draw.ToTikz(root, 'BIMperturbed.tex', fig_only=True )"
   ]
  },
  {
   "cell_type": "code",
   "execution_count": null,
   "id": "72967122",
   "metadata": {},
   "outputs": [],
   "source": [
    "draw.Draw( CreateBIM(), integer=False, isolines=True, file_name=None, title='First B\\&B example' )"
   ]
  },
  {
   "cell_type": "code",
   "execution_count": null,
   "id": "938edeb8",
   "metadata": {},
   "outputs": [],
   "source": [
    "nx,ny = 6,5\n",
    "F = { (2,1), (3,1), (4,1), (2,2), (3,2), (4,2), (3,3), (4,3), (3,4) }\n",
    "\n",
    "import itertools  \n",
    "points = list(itertools.product( range(0,nx+1), range(0,ny+1) ) )\n",
    "feasible   = [ p for p in points if p in F ]\n",
    "infeasible = [ p for p in points if not p in F ]\n",
    "if infeasible:\n",
    "    plt.plot( *zip(*infeasible), 'ro', zorder=2, markersize=9)\n",
    "if feasible:\n",
    "    plt.plot( *zip(*feasible), 'bo', zorder=2, markersize=9)\n",
    "    \n",
    "def Pol( coord, style, alpha, width ):\n",
    "    coord.append(coord[0]) #repeat the first point to create a 'closed loop'\n",
    "    plt.plot(*zip(*coord),style, alpha=alpha, linewidth=width, zorder=1) \n",
    "\n",
    "Pol( [ (1.6,.5), (2.5,5), (4.5,3.5), (4,.5) ], 'g-', 1, 2 )\n",
    "Pol( [ (2,1), (2,2), (2.5, 3.5), (3.5, 4.5), (4,3), (4,1) ], 'm--', .8, 3 )\n",
    "Pol( [ (2,1), (2,2), (3,4), (4,3), (4,1) ], 'c-.', 1, 3 )\n",
    "\n",
    "ax = plt.gca()\n",
    "\n",
    "# Hide the right and top spines\n",
    "for position in ['left','right','top','bottom']:\n",
    "    ax.spines[position].set_visible(False)\n",
    "    \n",
    "ax.xaxis.set_visible(False)\n",
    "ax.yaxis.set_visible(False)\n",
    "\n",
    "plt.savefig( draw._output_path+'3regions.pdf', bbox_inches='tight', pad_inches=0 )\n",
    "plt.show()"
   ]
  }
 ],
 "metadata": {
  "colab": {
   "collapsed_sections": [],
   "name": "main book drawings.ipynb",
   "provenance": [
    {
     "file_id": "1VyIiakYLyO2z_co8JcYXQS6PPlXHrhUL",
     "timestamp": 1635686699062
    },
    {
     "file_id": "1FHuFubyIZXrOFUm3tbQzrFsZMiPu-fQh",
     "timestamp": 1631530700322
    }
   ]
  },
  "kernelspec": {
   "display_name": "Python 3 (ipykernel)",
   "language": "python",
   "name": "python3"
  },
  "language_info": {
   "codemirror_mode": {
    "name": "ipython",
    "version": 3
   },
   "file_extension": ".py",
   "mimetype": "text/x-python",
   "name": "python",
   "nbconvert_exporter": "python",
   "pygments_lexer": "ipython3",
   "version": "3.9.9"
  }
 },
 "nbformat": 4,
 "nbformat_minor": 5
}
