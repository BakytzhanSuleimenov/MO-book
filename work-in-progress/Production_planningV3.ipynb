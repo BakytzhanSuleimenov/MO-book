{
 "cells": [
  {
   "cell_type": "markdown",
   "metadata": {
    "id": "EGHWDWjMMXj3"
   },
   "source": [
    "# Production Planning"
   ]
  },
  {
   "cell_type": "code",
   "execution_count": 40,
   "metadata": {
    "id": "H0yyNlRJMXj5",
    "outputId": "24103e04-ae96-47b0-976c-dfe18ae77496"
   },
   "outputs": [
    {
     "data": {
      "text/plain": [
       "'production'"
      ]
     },
     "metadata": {},
     "output_type": "display_data"
    },
    {
     "data": {
      "text/html": [
       "<div>\n",
       "<style scoped>\n",
       "    .dataframe tbody tr th:only-of-type {\n",
       "        vertical-align: middle;\n",
       "    }\n",
       "\n",
       "    .dataframe tbody tr th {\n",
       "        vertical-align: top;\n",
       "    }\n",
       "\n",
       "    .dataframe thead th {\n",
       "        text-align: right;\n",
       "    }\n",
       "</style>\n",
       "<table border=\"1\" class=\"dataframe\">\n",
       "  <thead>\n",
       "    <tr style=\"text-align: right;\">\n",
       "      <th></th>\n",
       "      <th>Grinding</th>\n",
       "      <th>V_drilling</th>\n",
       "      <th>H_drilling</th>\n",
       "      <th>Boring</th>\n",
       "      <th>Planing</th>\n",
       "    </tr>\n",
       "    <tr>\n",
       "      <th>Product</th>\n",
       "      <th></th>\n",
       "      <th></th>\n",
       "      <th></th>\n",
       "      <th></th>\n",
       "      <th></th>\n",
       "    </tr>\n",
       "  </thead>\n",
       "  <tbody>\n",
       "    <tr>\n",
       "      <th>0</th>\n",
       "      <td>0.5</td>\n",
       "      <td>0.1</td>\n",
       "      <td>0.2</td>\n",
       "      <td>0.05</td>\n",
       "      <td>0.00</td>\n",
       "    </tr>\n",
       "    <tr>\n",
       "      <th>1</th>\n",
       "      <td>0.7</td>\n",
       "      <td>0.2</td>\n",
       "      <td>0.0</td>\n",
       "      <td>0.03</td>\n",
       "      <td>0.00</td>\n",
       "    </tr>\n",
       "    <tr>\n",
       "      <th>2</th>\n",
       "      <td>0.0</td>\n",
       "      <td>0.0</td>\n",
       "      <td>0.8</td>\n",
       "      <td>0.00</td>\n",
       "      <td>0.01</td>\n",
       "    </tr>\n",
       "    <tr>\n",
       "      <th>3</th>\n",
       "      <td>0.0</td>\n",
       "      <td>0.3</td>\n",
       "      <td>0.0</td>\n",
       "      <td>0.07</td>\n",
       "      <td>0.00</td>\n",
       "    </tr>\n",
       "    <tr>\n",
       "      <th>4</th>\n",
       "      <td>0.3</td>\n",
       "      <td>0.0</td>\n",
       "      <td>0.0</td>\n",
       "      <td>0.10</td>\n",
       "      <td>0.05</td>\n",
       "    </tr>\n",
       "    <tr>\n",
       "      <th>5</th>\n",
       "      <td>0.2</td>\n",
       "      <td>0.6</td>\n",
       "      <td>0.0</td>\n",
       "      <td>0.00</td>\n",
       "      <td>0.00</td>\n",
       "    </tr>\n",
       "    <tr>\n",
       "      <th>6</th>\n",
       "      <td>0.5</td>\n",
       "      <td>0.0</td>\n",
       "      <td>0.6</td>\n",
       "      <td>0.08</td>\n",
       "      <td>0.05</td>\n",
       "    </tr>\n",
       "  </tbody>\n",
       "</table>\n",
       "</div>"
      ],
      "text/plain": [
       "         Grinding  V_drilling  H_drilling  Boring  Planing\n",
       "Product                                                   \n",
       "0             0.5         0.1         0.2    0.05     0.00\n",
       "1             0.7         0.2         0.0    0.03     0.00\n",
       "2             0.0         0.0         0.8    0.00     0.01\n",
       "3             0.0         0.3         0.0    0.07     0.00\n",
       "4             0.3         0.0         0.0    0.10     0.05\n",
       "5             0.2         0.6         0.0    0.00     0.00\n",
       "6             0.5         0.0         0.6    0.08     0.05"
      ]
     },
     "metadata": {},
     "output_type": "display_data"
    },
    {
     "data": {
      "text/plain": [
       "'profit'"
      ]
     },
     "metadata": {},
     "output_type": "display_data"
    },
    {
     "data": {
      "text/plain": [
       "Product\n",
       "0    7.0\n",
       "1    6.0\n",
       "2    8.0\n",
       "3    4.0\n",
       "4    8.0\n",
       "5    9.0\n",
       "6    3.0\n",
       "Name: Profit, dtype: float64"
      ]
     },
     "metadata": {},
     "output_type": "display_data"
    },
    {
     "data": {
      "text/plain": [
       "Grinding      4.0\n",
       "V_drilling    2.0\n",
       "H_drilling    3.0\n",
       "Boring        1.0\n",
       "Planing       1.0\n",
       "dtype: float64"
      ]
     },
     "metadata": {},
     "output_type": "display_data"
    }
   ],
   "source": [
    "from io import StringIO\n",
    "\n",
    "import numpy as np\n",
    "import pandas as pd\n",
    "import pyomo.environ as pyo\n",
    "import matplotlib.pyplot as plt\n",
    "\n",
    "# Data from Problem 12.3 from the book Model Building in Mathematical Programming (H. Paul Williams)\n",
    "# Two entries in the top row changed\n",
    "\n",
    "file = StringIO(\"\"\"\n",
    "10 6 8 4 11 9 3\n",
    "0.5 0.7 – – 0.3 0.2 0.5\n",
    "0.1 0.2 – 0.3 – 0.6 –\n",
    "0.2 – 0.8 – – – 0.6\n",
    "0.05 0.03 – 0.07 0.1 – 0.08\n",
    " – – 0.01 – 0.05 – 0.05\n",
    " \"\"\")\n",
    "\n",
    "# Column names for the big Data Frame\n",
    "columns = [\"Profit\", \"Grinding\", \"V_drilling\", \"H_drilling\", \"Boring\", \"Planing\"]\n",
    "\n",
    "production = pd.read_csv(file, header=None, sep=\"\\s+\", na_values=[\"–\"]).fillna(0).T\n",
    "production.columns = columns\n",
    "production.reindex(list(range(production.shape[0])))\n",
    "production.index.name = \"Product\"\n",
    "\n",
    "# keep profit coefficients in a separate series\n",
    "profit = production[\"Profit\"]\n",
    "production.drop(\"Profit\", axis=1, inplace=True)\n",
    "\n",
    "# A little modification to the profit data to make the products more \"competitive\" against each other\n",
    "profit[0] = 7\n",
    "profit[4] = 8\n",
    "\n",
    "# Numbers of machines of different types\n",
    "nb_machines = pd.Series(\n",
    "    [4, 2, 3, 1, 1], \n",
    "    index=[\"Grinding\", \"V_drilling\", \"H_drilling\", \"Boring\", \"Planing\"],\n",
    "    dtype = 'float64'\n",
    ")\n",
    "# total hours per month = 24 working days times 8 hours\n",
    "hours = 24 * 8\n",
    "\n",
    "production.drop(\"Profit\", axis = 1, inplace = True)\n",
    "display(\"production\", production)\n",
    "display(\"profit\", profit)\n",
    "display(nb_machines)"
   ]
  },
  {
   "cell_type": "markdown",
   "metadata": {
    "id": "VlUaJFMYMXj8"
   },
   "source": [
    "## Nominal Model\n",
    "\n",
    "The nominal model for this production planning problem is given by\n",
    "\n",
    "$$\n",
    "\\begin{align*}\n",
    "\\min \\; &\\; \\sum_{p\\in P} c_p x_p \\\\\n",
    "\\text{s.t.} \\; &\\; \\sum_{p\\in P} a_{p, r} x_p \\leq b_r & \\forall r\\in R \\\\\n",
    "& \\; x_p \\geq 0 & \\forall p\\in P\n",
    "\\end{align*}\n",
    "$$\n",
    "\n",
    "where\n",
    "\n",
    "* decision variable $x_p$ is the production of product for $p\\in P$, \n",
    "* $c_p$ is the profit contribution of each unit of product $p\\in P$ that is produced, \n",
    "* $a_{r,p}$ are the hours of resource machine $r\\in R$ required to produce one unit of $p\\in P$, and\n",
    "* $b_r = n_r H$ is the total available hours of resource $r\\in R$, where $n_r$ is the number of available machines of type $r$ and $H$ is the planning horizon in hours.\n",
    "\n",
    "In generic form, the model can be written\n",
    "\n",
    "$$\n",
    "\\begin{align*}\n",
    "\\min \\; & \\; c^\\top x \\\\\n",
    "\\text{s.t.} \\; & \\; A x \\leq b \\\\\n",
    "& \\; x \\geq 0\n",
    "\\end{align*}\n",
    "$$\n",
    "\n",
    "The following cell presents a function that creates and solves a Pyomo model for the generic linear program where the data is given in Pandas DataFrames."
   ]
  },
  {
   "cell_type": "code",
   "execution_count": 17,
   "metadata": {
    "id": "AUSDaeoXMXj-",
    "outputId": "39806098-80d3-4a9c-e180-0cbfe1dff124"
   },
   "outputs": [
    {
     "name": "stdout",
     "output_type": "stream",
     "text": [
      "Model Nominal Production Planning\n",
      "\n",
      "  Variables:\n",
      "    x : Size=7, Index=P\n",
      "        Key : Lower : Value  : Upper : Fixed : Stale : Domain\n",
      "          0 :     0 :    0.0 :  None : False : False : NonNegativeIntegers\n",
      "          1 :     0 :  116.0 :  None : False : False : NonNegativeIntegers\n",
      "          2 :     0 :  720.0 :  None : False : False : NonNegativeIntegers\n",
      "          3 :     0 :   -0.0 :  None : False : False : NonNegativeIntegers\n",
      "          4 :     0 : 1885.0 :  None : False : False : NonNegativeIntegers\n",
      "          5 :     0 :  601.0 :  None : False : False : NonNegativeIntegers\n",
      "          6 :     0 :   -0.0 :  None : False : False : NonNegativeIntegers\n",
      "\n",
      "  Objectives:\n",
      "    objective : Size=1, Index=None, Active=True\n",
      "        Key  : Active : Value\n",
      "        None :   True : 26945.0\n",
      "\n",
      "  Constraints:\n",
      "    resource : Size=5\n",
      "        Key        : Lower : Body               : Upper\n",
      "            Boring :  None :             191.98 : 192.0\n",
      "          Grinding :  None :  766.9000000000001 : 768.0\n",
      "        H_drilling :  None :              576.0 : 576.0\n",
      "           Planing :  None :             101.45 : 192.0\n",
      "        V_drilling :  None : 383.79999999999995 : 384.0\n"
     ]
    }
   ],
   "source": [
    "# creating and solving a nominal production model\n",
    "\n",
    "def lp(a, b, c, title=None):\n",
    "    \"\"\"Returns a generic linear program where data is given in Pandas DataFrames.\n",
    "    \"\"\"\n",
    "    \n",
    "    m = pyo.ConcreteModel(title)\n",
    "\n",
    "    m.P = pyo.Set(initialize=c.index)\n",
    "    m.R = pyo.Set(initialize=b.index)\n",
    "\n",
    "    # Variables = how much of each product we make\n",
    "    m.x = pyo.Var(m.P, domain=pyo.NonNegativeIntegers)\n",
    "    \n",
    "    @m.Objective(sense=pyo.maximize)\n",
    "    def objective(m):\n",
    "        return c @ m.x\n",
    "\n",
    "    @m.Constraint(m.R)\n",
    "    def resource(m, r):\n",
    "        return a[r] @ m.x <= b[r]\n",
    "    \n",
    "    m.solver = pyo.SolverFactory(\"gurobi\")\n",
    "    m.solver.solve(m)\n",
    "    \n",
    "    return m\n",
    "\n",
    "\n",
    "m = lp(a = production, \n",
    "       b = nb_machines * hours, \n",
    "       c = profit, \n",
    "       title = \"Nominal Production Planning\")\n",
    "\n",
    "m.display()"
   ]
  },
  {
   "cell_type": "code",
   "execution_count": 64,
   "metadata": {},
   "outputs": [
    {
     "data": {
      "text/plain": [
       "26099.29"
      ]
     },
     "metadata": {},
     "output_type": "display_data"
    },
    {
     "data": {
      "text/plain": [
       "Product\n",
       "0       0.00\n",
       "1      74.63\n",
       "2     708.00\n",
       "3       0.00\n",
       "4    1839.65\n",
       "5     585.59\n",
       "6       0.00\n",
       "dtype: float64"
      ]
     },
     "metadata": {},
     "output_type": "display_data"
    }
   ],
   "source": [
    "# Simulation like in the textbook file\n",
    "\n",
    "Nsim = 100\n",
    "big_M = 10 ** 5\n",
    "desired_production = pd.Series({i : m.x[i]() for i in production.index})\n",
    "import itertools\n",
    "\n",
    "simulated_profits = pd.Series([0.0 for i_sim in range(Nsim)])\n",
    "simulated_production = pd.DataFrame(np.zeros((Nsim, len(profit)), 'int64'),\n",
    "                                   columns = production.index)\n",
    "\n",
    "for i_sim in range(Nsim):\n",
    "    a_pert = production * (0.9 + 0.2 * np.random.rand(*production.shape))\n",
    "    total_profit = 0.0\n",
    "    resources_left = nb_machines * hours\n",
    "    order_of_products = np.random.permutation(production.index)\n",
    "    \n",
    "    for p in order_of_products:\n",
    "        # max qu\n",
    "        produced_quantity = min([np.floor(resources_left[i] / a_pert.loc[p, i]) \n",
    "                                 if a_pert.loc[p, i] > 10 **-4 else desired_production[p]\n",
    "                                 for i in production.columns])\n",
    "        \n",
    "        total_profit += produced_quantity * profit[p]\n",
    "        simulated_production.loc[i_sim, p] = produced_quantity\n",
    "        # update remaining resources\n",
    "        for i in production.columns:\n",
    "            resources_left[i] -= produced_quantity * a_pert.loc[p, i]\n",
    "    \n",
    "    simulated_profits[i_sim] = total_profit\n",
    "\n",
    "display(simulated_profits.mean())\n",
    "display(simulated_production.mean())\n",
    "\n",
    "production_comparison = pd.concat([desired_production, simulated_production.mean()])"
   ]
  },
  {
   "cell_type": "code",
   "execution_count": 65,
   "metadata": {},
   "outputs": [
    {
     "data": {
      "text/plain": [
       "'\\\\begin{tabular}{lrr}\\n\\\\toprule\\n{} &  Desired &  Realized \\\\\\\\\\nProduct &          &           \\\\\\\\\\n\\\\midrule\\n0       &      0.0 &      0.00 \\\\\\\\\\n1       &    116.0 &     74.63 \\\\\\\\\\n2       &    720.0 &    708.00 \\\\\\\\\\n3       &     -0.0 &      0.00 \\\\\\\\\\n4       &   1885.0 &   1839.65 \\\\\\\\\\n5       &    601.0 &    585.59 \\\\\\\\\\n6       &     -0.0 &      0.00 \\\\\\\\\\n\\\\bottomrule\\n\\\\end{tabular}\\n'"
      ]
     },
     "execution_count": 65,
     "metadata": {},
     "output_type": "execute_result"
    }
   ],
   "source": [
    "production_comparison = pd.concat([desired_production, simulated_production.mean()], axis = 1)\n",
    "production_comparison.columns = [\"Desired\", \"Realized\"]\n",
    "production_comparison.to_latex()"
   ]
  },
  {
   "cell_type": "code",
   "execution_count": 66,
   "metadata": {},
   "outputs": [
    {
     "data": {
      "text/plain": [
       "-3.138652811282238"
      ]
     },
     "execution_count": 66,
     "metadata": {},
     "output_type": "execute_result"
    }
   ],
   "source": [
    "(simulated_profits.mean() - 26945) / 26945 * 100"
   ]
  },
  {
   "cell_type": "markdown",
   "metadata": {
    "id": "3SP50Id-MXkB"
   },
   "source": [
    "## Displaying the solution"
   ]
  },
  {
   "cell_type": "code",
   "execution_count": null,
   "metadata": {
    "id": "CMrj_eLfMXkC",
    "outputId": "0c92c733-a5cb-4f69-cfbb-b6e2ac45dfd6"
   },
   "outputs": [
    {
     "data": {
      "image/png": "[encoded data removed]",
      "text/plain": [
       "<Figure size 576x576 with 2 Axes>"
      ]
     },
     "metadata": {
      "needs_background": "light"
     },
     "output_type": "display_data"
    }
   ],
   "source": [
    "def display_plan(m, ax=None):\n",
    "    \n",
    "    if ax is None:\n",
    "        fig, ax = plt.subplots(2, 1, figsize=(8, 8))\n",
    "\n",
    "    x = pd.Series({p: m.x[p]() for p in m.P}, name=m.name)\n",
    "    x.plot(ax=ax[0], kind=\"bar\", xlabel=\"Product\", ylabel=\"quantity\",\n",
    "           title=m.name  + f\": objective = {m.objective():0.2f}\", grid=True)\n",
    "\n",
    "    resources = pd.concat([hours*nb_machines, production.T @ x], axis=1)\n",
    "    resources.columns = [\"available\", \"plan\"]\n",
    "    resources.plot(ax=ax[1], kind=\"bar\", xlabel=\"Resource\", ylabel=\"Hours\", title=\"Machine Plan\", grid=True)\n",
    "    \n",
    "    fig.tight_layout()\n",
    "    \n",
    "    return ax\n",
    "\n",
    "display_plan(m);"
   ]
  },
  {
   "cell_type": "markdown",
   "metadata": {
    "id": "COPYU5juMXkD"
   },
   "source": [
    "## Are Nominal Solutions Robust to Uncertain Parameters?\n",
    "\n",
    "Can the nominal production plan be executed with the available resources? \n",
    "\n",
    "The answer is yes if the linear program accurately captures all of the resource constraints. That implies precise and accurate knowledge of the processing times for each task on each machine, and no other constraints are present. If so then it will be possible to execute the nominal plan with the available resources.\n",
    "\n",
    "But what if the parameters are not known with precision and accuracy? Suppose, for example, the time required to perform operation $r$ on product $p$ is $\\tilde{a]_{r, p}$ instead of the nominal value $a_{r, p}$, where\n",
    "\n",
    "$$ a_{r, p} - a'_{r, p} \\leq \\tilde{a}_{r, p} \\leq a_{r, p} + a'_{r, p}$$\n",
    "\n",
    "and $a'_{r, p}$ is a maximum perturbation defining an interval of possible parameters values. A robust production plan is a plan $x_p$ for $p\\in P$ which satisfies the problem constraints for all possible realizations of the parameters $\\tilde{a}_{r, p}$.\n",
    "\n",
    "The following cells present use simulation to demonstrate some of the consequences of uncertainty for the optimization of production planning."
   ]
  },
  {
   "cell_type": "markdown",
   "metadata": {
    "id": "glsMoQwKMXkE"
   },
   "source": [
    "### Scenario Generation\n",
    "\n",
    "To test whether this robustness property holds for the example, the following cell uses a single parameter $d_{max}$ to define the maximum deviation in each parameter $a_{r, p}$.\n",
    "\n",
    "$$\n",
    "\\begin{align*}\n",
    "a'_{r, p} = d_{max} a_{r, p}\n",
    "\\end{align*}\n",
    "$$\n",
    "\n",
    "A scenario refers to a single realization of the matrix of values $\\tilde{a}_{r, p}$ for all $r\\in R$ and $p \\in P$. The following cell introduces a scenario generator that can be used for simulations. The scenario generator uses a quasirandom low-discrepancy sequence to more evenly sample the uncertainty space."
   ]
  },
  {
   "cell_type": "code",
   "execution_count": null,
   "metadata": {
    "id": "pvTMhUc2MXkF",
    "outputId": "0ceb9e6f-7ca9-45d7-a85c-00f55c312e60"
   },
   "outputs": [
    {
     "name": "stdout",
     "output_type": "stream",
     "text": [
      "\n",
      "Scenario 0:\n",
      "         Grinding  V_drilling  H_drilling    Boring   Planing\n",
      "Product                                                      \n",
      "0        0.491525    0.100198    0.205004  0.051715  0.000000\n",
      "1        0.698691    0.194797    0.000000  0.031130  0.000000\n",
      "2        0.000000    0.000000    0.794492  0.000000  0.010063\n",
      "3        0.000000    0.289505    0.000000  0.067116  0.000000\n",
      "4        0.296508    0.000000    0.000000  0.101002  0.050069\n",
      "5        0.209002    0.624423    0.000000  0.000000  0.000000\n",
      "6        0.492751    0.000000    0.613353  0.080746  0.050041\n",
      "\n",
      "Scenario 1:\n",
      "         Grinding  V_drilling  H_drilling    Boring   Planing\n",
      "Product                                                      \n",
      "0        0.503030    0.095520    0.195445  0.048113  0.000000\n",
      "1        0.729904    0.203196    0.000000  0.029001  0.000000\n",
      "2        0.000000    0.000000    0.829487  0.000000  0.009673\n",
      "3        0.000000    0.303952    0.000000  0.070409  0.000000\n",
      "4        0.304711    0.000000    0.000000  0.095907  0.048024\n",
      "5        0.198811    0.583871    0.000000  0.000000  0.000000\n",
      "6        0.506072    0.000000    0.599920  0.078878  0.049878\n",
      "\n",
      "Scenario 2:\n",
      "         Grinding  V_drilling  H_drilling    Boring   Planing\n",
      "Product                                                      \n",
      "0        0.522827    0.103599    0.204588  0.050286  0.000000\n",
      "1        0.701196    0.199283    0.000000  0.029971  0.000000\n",
      "2        0.000000    0.000000    0.771700  0.000000  0.009975\n",
      "3        0.000000    0.315000    0.000000  0.072248  0.000000\n",
      "4        0.285374    0.000000    0.000000  0.103238  0.051664\n",
      "5        0.191483    0.600523    0.000000  0.000000  0.000000\n",
      "6        0.477958    0.000000    0.622679  0.076405  0.047617\n"
     ]
    }
   ],
   "source": [
    "from scipy.stats import qmc\n",
    "\n",
    "# a Python generator\n",
    "def scenario_generator(production, d_max=0):\n",
    "    nr, np = production.shape\n",
    "    sampler = qmc.Sobol(d=np*nr)\n",
    "    while True:\n",
    "        z = 2*(sampler.random().reshape(nr, np) - 0.5)\n",
    "        yield (1 + d_max * z) * production\n",
    "        \n",
    "# create an instance of the generator\n",
    "d_max = 0.05\n",
    "scenario = scenario_generator(production, d_max)\n",
    "\n",
    "# demonstrate use\n",
    "for n in range(3):\n",
    "    a = next(scenario)\n",
    "    print(f\"\\nScenario {n}:\")\n",
    "    print(a)"
   ]
  },
  {
   "cell_type": "markdown",
   "metadata": {
    "id": "EEr4C3AlMXkG"
   },
   "source": [
    "The next cell solves for the nominal production plan using nominal process parameters $a_{r, p}$. The cell tests whether the nominal production plan satisfies all of the production constraints for a random realization $\\tilde{a}_{r, p}$."
   ]
  },
  {
   "cell_type": "code",
   "execution_count": null,
   "metadata": {
    "id": "bFuASKMGMXkG",
    "outputId": "0a347545-de77-4ee0-aa5a-44326c8c0bfc"
   },
   "outputs": [
    {
     "data": {
      "image/png": "[encoded data removed]",
      "text/plain": [
       "<Figure size 576x576 with 2 Axes>"
      ]
     },
     "metadata": {
      "needs_background": "light"
     },
     "output_type": "display_data"
    }
   ],
   "source": [
    "# define a nominal set of parameter values\n",
    "\n",
    "# solve for production plan using nominal parameter values\n",
    "m = lp(a = production,\n",
    "       b = nb_machines * hours, \n",
    "       c = profit,\n",
    "       title = \"Nominal Production Planning\")\n",
    "\n",
    "x = pd.Series({p: m.x[p]() for p in m.P})\n",
    "\n",
    "d_max = 0.05\n",
    "scenaro = scenario_generator(production, d_max)\n",
    "a = next(scenario)\n",
    "\n",
    "b = pd.concat([nb_machines * hours, a.T @ x], axis=1)\n",
    "b.columns = [\"available\", \"required\"]\n",
    "b[\"slack\"] = b[\"available\"] - b[\"required\"]\n",
    "\n",
    "fig, ax = plt.subplots(2, 1, figsize=(8, 8))\n",
    "\n",
    "b[[\"available\", \"required\"]].plot(ax=ax[0], kind=\"bar\", grid=True, \n",
    "                                  ylabel=\"hourse\", title=\"Comparison of Plan to Actual\")\n",
    "b[\"slack\"].plot(ax=ax[1], kind=\"bar\", grid=True, legend=False, title=\"Resource Slack\",\n",
    "           color=(b[\"slack\"] > 0).map({True: 'g', False: 'r'}), ylabel=\"hours idle\")\n",
    "fig.tight_layout()"
   ]
  },
  {
   "cell_type": "markdown",
   "metadata": {
    "id": "5dypjd9KMXkH"
   },
   "source": [
    "For a more systematic assessment of the \"here-and-now\" decision to use the nominal production plan, the following cell simulates the resource requirements for $N$ scenarios that are possible for the given uncertainty set."
   ]
  },
  {
   "cell_type": "code",
   "execution_count": null,
   "metadata": {
    "id": "lLWxlLKNMXkI",
    "outputId": "3833a30c-c9a3-4926-deef-8fb07228eb5b"
   },
   "outputs": [
    {
     "data": {
      "image/png": "[encoded data removed]",
      "text/plain": [
       "<Figure size 432x864 with 5 Axes>"
      ]
     },
     "metadata": {
      "needs_background": "light"
     },
     "output_type": "display_data"
    }
   ],
   "source": [
    "dmax = 0.05\n",
    "scenario = scenario_generator(production, dmax)\n",
    "\n",
    "s = []\n",
    "N = 1000\n",
    "for n in range(N):\n",
    "    a = next(scenario)\n",
    "    s.append((a.T @ x).to_numpy())\n",
    "\n",
    "s = pd.DataFrame(s, columns=a.columns)\n",
    "\n",
    "fig, ax = plt.subplots(len(nb_machines), 1, figsize=(6, 12))\n",
    "for k, r in enumerate(nb_machines.index):\n",
    "    s[r].hist(ax=ax[k], bins=30)\n",
    "    ax[k].set_title(r)\n",
    "    ax[k].set_xlabel(\"hours\")\n",
    "    ax[k].axvline(nb_machines[r] * hours, lw=1, alpha=0.3, color=\"r\")\n",
    "    ax[k].axvspan(nb_machines[r] * hours, ax[k].get_xlim()[1], alpha=0.3, color='r')\n",
    "    ax[k].legend([\"available\", \"infeasible\"])\n",
    "\n",
    "fig.tight_layout()"
   ]
  },
  {
   "cell_type": "markdown",
   "metadata": {
    "id": "AwvqDO6oMXkJ"
   },
   "source": [
    "Each of the active constraints appears to be violated on about half of all simulations. But the situation is worse than that because, for a given simulation, a violation of any constraint is an unacceptable result. The next cell computes how many simulations violate at least one constraint. "
   ]
  },
  {
   "cell_type": "code",
   "execution_count": null,
   "metadata": {
    "id": "2kOlIwDyMXkJ",
    "outputId": "559578c9-4bed-4953-c076-67353c5bfeed"
   },
   "outputs": [
    {
     "name": "stdout",
     "output_type": "stream",
     "text": [
      "936 out of 1000 simiulations violate at least one constraint.\n"
     ]
    }
   ],
   "source": [
    "print(f\"{N - (s <= nb_machines * hours).T.all().sum()} out of {N} simiulations violate at least one constraint.\")"
   ]
  },
  {
   "cell_type": "markdown",
   "metadata": {
    "id": "aU_CqqnPMXkK"
   },
   "source": [
    "### Reduced profitability"
   ]
  },
  {
   "cell_type": "code",
   "execution_count": null,
   "metadata": {
    "id": "VkWzmah2MXkK",
    "outputId": "772f6e4b-66b3-4770-eba2-173a8f18ceef"
   },
   "outputs": [
    {
     "name": "stdout",
     "output_type": "stream",
     "text": [
      "Nominal profit = 26950.67506\n"
     ]
    }
   ],
   "source": [
    "# nominal solution\n",
    "\n",
    "m = lp(a = production,\n",
    "       b = nb_machines * hours, \n",
    "       c = profit, \n",
    "       title = \"Nominal Production Planning\")\n",
    "\n",
    "x_nominal = np.array([m.x[p]() for p in m.P])\n",
    "print(f\"Nominal profit = {profit @ x_nominal}\")\n",
    "\n",
    "# production scenarios\n",
    "dmax = 0.05\n",
    "scenario = scenario_generator(production, dmax)\n",
    "\n",
    "s = []\n",
    "N = 100\n",
    "for n in range(N):\n",
    "    m = lp(a = next(scenario),\n",
    "       b = nb_machines * hours, \n",
    "       c = profit, \n",
    "       title = \"Production Planning\")\n",
    "    \n",
    "    @m.Constraint(m.P)\n",
    "    def limit(m, p):\n",
    "        return m.x[p] <= x_nominal[p]\n",
    "    \n",
    "    m.solver.solve(m)\n",
    "    s.append(m.objective())\n"
   ]
  },
  {
   "cell_type": "code",
   "execution_count": null,
   "metadata": {
    "id": "1FHLNS6ZMXkL",
    "outputId": "f098ba81-c983-480e-f739-207579d16852"
   },
   "outputs": [
    {
     "data": {
      "text/plain": [
       "<matplotlib.lines.Line2D at 0x7f9c5b593580>"
      ]
     },
     "execution_count": 190,
     "metadata": {},
     "output_type": "execute_result"
    },
    {
     "data": {
      "image/png": "[encoded data removed]",
      "text/plain": [
       "<Figure size 432x288 with 1 Axes>"
      ]
     },
     "metadata": {
      "needs_background": "light"
     },
     "output_type": "display_data"
    }
   ],
   "source": [
    "s = pd.Series(s)\n",
    "ax = s.hist(bins=30)\n",
    "ax.set_title(\"Distribution of Profits\")\n",
    "ax.axvline(m_nominal.objective(profit @ x_nominal), color='r', lw=3)\n",
    "ax.axvline(s.mean(), color='g', lw=3)"
   ]
  },
  {
   "cell_type": "code",
   "execution_count": null,
   "metadata": {
    "id": "OlcCFCwbMXkM"
   },
   "outputs": [],
   "source": [
    "\n",
    "    m = lp(a = next(scenario),\n",
    "           b = nb_machines * hours, \n",
    "           c = profit, \n",
    "           title = \"Production Planning\")\n",
    "\n",
    "s = []\n",
    "N = 1000\n",
    "for n in range(N):\n",
    "    a = next(scenario)\n",
    "\n",
    "    m.\n",
    "    s.append((a.T @ x).to_numpy())\n",
    "\n",
    "s = pd.DataFrame(s, columns=a.columns)\n",
    "\n",
    "fig, ax = plt.subplots(len(nb_machines), 1, figsize=(6, 12))\n",
    "for k, r in enumerate(nb_machines.index):\n",
    "    s[r].hist(ax=ax[k], bins=30)\n",
    "    ax[k].set_title(r)\n",
    "    ax[k].set_xlabel(\"hours\")\n",
    "    ax[k].axvline(nb_machines[r] * hours, lw=1, alpha=0.3, color=\"r\")\n",
    "    ax[k].axvspan(nb_machines[r] * hours, ax[k].get_xlim()[1], alpha=0.3, color='r')\n",
    "    ax[k].legend([\"available\", \"infeasible\"])\n",
    "\n",
    "fig.tight_layout()"
   ]
  },
  {
   "cell_type": "markdown",
   "metadata": {
    "id": "WfNwGWq3MXkM"
   },
   "source": [
    "## \"Wait-and-See\" and the Case of Perfect Information"
   ]
  },
  {
   "cell_type": "code",
   "execution_count": null,
   "metadata": {
    "id": "hS7j1aNYMXkM"
   },
   "outputs": [],
   "source": [
    "# simulate N \"wait-and-see\" production planning scenarios\n",
    "X = []\n",
    "s = []\n",
    "N = 1000\n",
    "\n",
    "for a in scenario_generator(N, production, dmax):\n",
    "    m = lp(a = a,\n",
    "           b = nb_machines * hours, \n",
    "           c = profit, \n",
    "           title = \"Production Planning\")\n",
    "    s.append(m.objective())\n",
    "    X.append([m.x[p]() for p in m.P])\n",
    "    \n",
    "X = pd.DataFrame(X, columns=profit.index)"
   ]
  },
  {
   "cell_type": "markdown",
   "metadata": {
    "id": "SXgwJ3F_MXkN"
   },
   "source": [
    "The mean profit."
   ]
  },
  {
   "cell_type": "code",
   "execution_count": null,
   "metadata": {
    "id": "hsKlHLy7MXkN",
    "outputId": "d665bb29-cbcd-4cdf-f7d9-1fc4dbcad272"
   },
   "outputs": [
    {
     "data": {
      "text/plain": [
       "26715.86739"
      ]
     },
     "execution_count": 131,
     "metadata": {},
     "output_type": "execute_result"
    },
    {
     "data": {
      "image/png": "[encoded data removed]",
      "text/plain": [
       "<Figure size 432x288 with 1 Axes>"
      ]
     },
     "metadata": {
      "needs_background": "light"
     },
     "output_type": "display_data"
    }
   ],
   "source": [
    "s = pd.Series(s)\n",
    "ax = s.hist(bins=30)\n",
    "ax.set_title(\"Distribution of Profits\")\n",
    "ax.axvline(m_nominal.objective(), color='r', lw=3)\n",
    "ax.axvline(s.mean(), color='g', lw=3)\n",
    "\n",
    "s.min()"
   ]
  },
  {
   "cell_type": "code",
   "execution_count": null,
   "metadata": {
    "id": "o8pmJ7NyMXkO",
    "outputId": "a9efa787-6eb3-48e3-e155-05624d3836e7"
   },
   "outputs": [
    {
     "data": {
      "image/png": "[encoded data removed]",
      "text/plain": [
       "<Figure size 432x864 with 7 Axes>"
      ]
     },
     "metadata": {
      "needs_background": "light"
     },
     "output_type": "display_data"
    }
   ],
   "source": [
    "fig, ax = plt.subplots(len(profit), 1, figsize=(6, 12))\n",
    "for k, p in enumerate(profit.index):\n",
    "    X[p].hist(ax=ax[k], bins=30)\n",
    "    ax[k].set_title(f\"product {p}\")\n",
    "    ax[k].set_xlabel(\"number\")\n",
    "    ax[k].axvline(x_nominal[p], color='r', lw=3)\n",
    "\n",
    "fig.tight_layout()"
   ]
  },
  {
   "cell_type": "markdown",
   "metadata": {
    "id": "M8_APo4IMXkO"
   },
   "source": [
    "## Robust Optimization to the \"Here-and-Now\" Decision\n",
    "\n",
    "The robust optimization problem is given by\n",
    "\n",
    "$$\n",
    "\\begin{align*}\n",
    "\\min \\; &\\; \\sum_{p\\in P} c_p x_p \\\\\n",
    "\\text{s.t.} \\; &\\; \\sum_{p\\in P} \\tilde{a}_{p, r} x_p \\leq b_r & \\forall r\\in R \\\\\n",
    "& \\; x_p \\geq 0 & \\forall p\\in P\n",
    "\\end{align*}\n",
    "$$\n",
    "\n",
    "where $\\tilde{a}_{p, r}$ denotes an uncertain coefficient. The uncertainty is modeled as \n",
    "\n",
    "$$\\tilde{a}_{p, r} = a_{p, r} + z_{p, r} a'_{p, r}$$\n",
    "\n",
    "where $a'_{p, r}$ is the maximum perturbation in coefficient $a_{p, r}$, and \n",
    "\n",
    "$$\n",
    "\\begin{align*}\n",
    "| z_{p, r} | & \\leq 1 & \\forall p\\in P, r \\in R\\\\\n",
    "\\sum_{p\\in P} |z_{p, r}| & \\leq d & \\forall r\\in R\n",
    "\\end{align*}\n",
    "$$\n",
    "\n",
    "where $d$ is the 'uncertainty budget'. Together, these constraints form the uncertainty set $\\cal{Z}$. The first constraint is a 'box' (or 'unit box', or 'interval') constraint that limits the range of each $\\tilde{a}_{r, p} \\in [a_{r,p} - a'_{r,p}, a_{r,p} + a'_{r,p}]$. For each $r\\in R$, the floor (or integer part) of $d$ determines the number of elements of $\\tilde{a}_{r, p}$ for $p \\in P$ that can simultaneously reach the limits of the interval."
   ]
  },
  {
   "cell_type": "code",
   "execution_count": null,
   "metadata": {
    "id": "UhQMO8G3MXkP",
    "outputId": "0201ea98-9796-4719-9dc6-9d0c4b68ec98"
   },
   "outputs": [
    {
     "name": "stdout",
     "output_type": "stream",
     "text": [
      "robustness_margin : Size=5\n",
      "    Key        : Value\n",
      "        Boring :  1.865353048\n",
      "      Grinding :     5.596059\n",
      "    H_drilling :    5.7029703\n",
      "       Planing : 91.603636129\n",
      "    V_drilling :   3.56439972\n"
     ]
    }
   ],
   "source": [
    "def rc(a, a_perturbation, b, c, d=1, title=None):\n",
    "    \"\"\"Returns robust counterpart.\"\"\"\n",
    "    \n",
    "    unc_budget = d\n",
    "    \n",
    "    m = pyo.ConcreteModel(title)\n",
    "\n",
    "    m.P = pyo.Set(initialize=c.index)\n",
    "    m.R = pyo.Set(initialize=b.index)\n",
    "\n",
    "    # Variables = how much of each product we make\n",
    "    m.x = pyo.Var(m.P, domain=pyo.NonNegativeReals)\n",
    "    \n",
    "    # sensitivity\n",
    "    m.lam = pyo.Var(m.R, domain=pyo.NonNegativeReals)\n",
    "    m.s = pyo.Var(m.R, m.P, domain=pyo.NonNegativeReals)\n",
    "    \n",
    "    @m.Objective(sense=pyo.maximize)\n",
    "    def objective(m):\n",
    "        return c @ m.x\n",
    "    \n",
    "    @m.Expression(m.R)\n",
    "    def robustness_margin(m, r):\n",
    "        return pyo.quicksum(m.s[r, :]) + unc_budget * m.lam[r]\n",
    "    \n",
    "    @m.Constraint(m.R)\n",
    "    def resource(m, r):\n",
    "        return a[r] @ m.x + m.robustness_margin[r] <= b[r]\n",
    "    \n",
    "    @m.Constraint(m.R, m.P)\n",
    "    def sensitivity(m, r, p):\n",
    "        return m.s[r, p] >= a_perturbation.loc[p, r] * m.x[p] - m.lam[r]\n",
    "    \n",
    "    pyo.SolverFactory(\"cbc\").solve(m)\n",
    "    \n",
    "    return m\n",
    "\n",
    "\n",
    "m = rc(a = production, \n",
    "       a_perturbation = dmax*production,\n",
    "       b = nb_machines*hours,\n",
    "       c = profit, \n",
    "       d = 1,\n",
    "       title = \"Robust Production Planning\")\n",
    "\n",
    "m.robustness_margin.display()"
   ]
  },
  {
   "cell_type": "markdown",
   "metadata": {
    "id": "I6vWDaxuMXkP"
   },
   "source": []
  },
  {
   "cell_type": "code",
   "execution_count": null,
   "metadata": {
    "id": "W3N1-DbNMXkQ",
    "outputId": "4c0d6274-d264-49cc-a3e7-73d4de60f2ae"
   },
   "outputs": [
    {
     "data": {
      "text/plain": [
       "26692.26277"
      ]
     },
     "metadata": {},
     "output_type": "display_data"
    }
   ],
   "source": [
    "# compute profits for each plan by taking dot product\n",
    "\n",
    "x_robust = np.array([m.x[p]() for p in m.P])\n",
    "display(x_robust.T @ profit)"
   ]
  },
  {
   "cell_type": "markdown",
   "metadata": {
    "id": "Uht5MM5iMXkR"
   },
   "source": [
    "## Value of Perfect Information"
   ]
  },
  {
   "cell_type": "code",
   "execution_count": null,
   "metadata": {
    "id": "Y-GbTE0jMXkS",
    "outputId": "19da4324-3738-4ecf-9dc6-2c7e7dcb630f"
   },
   "outputs": [
    {
     "data": {
      "text/plain": [
       "259.83320421400276"
      ]
     },
     "execution_count": 130,
     "metadata": {},
     "output_type": "execute_result"
    }
   ],
   "source": [
    "s.mean() - x_robust.T @ profit"
   ]
  },
  {
   "cell_type": "code",
   "execution_count": null,
   "metadata": {
    "id": "ZTZG6gOqMXkS"
   },
   "outputs": [],
   "source": []
  }
 ],
 "metadata": {
  "colab": {
   "name": "Production_planningV2.ipynb",
   "provenance": []
  },
  "kernelspec": {
   "display_name": "Python 3",
   "language": "python",
   "name": "python3"
  },
  "language_info": {
   "codemirror_mode": {
    "name": "ipython",
    "version": 3
   },
   "file_extension": ".py",
   "mimetype": "text/x-python",
   "name": "python",
   "nbconvert_exporter": "python",
   "pygments_lexer": "ipython3",
   "version": "3.6.6"
  },
  "latex_envs": {
   "LaTeX_envs_menu_present": true,
   "autoclose": false,
   "autocomplete": true,
   "bibliofile": "biblio.bib",
   "cite_by": "apalike",
   "current_citInitial": 1,
   "eqLabelWithNumbers": true,
   "eqNumInitial": 1,
   "hotkeys": {
    "equation": "Ctrl-E",
    "itemize": "Ctrl-I"
   },
   "labels_anchors": false,
   "latex_user_defs": false,
   "report_style_numbering": false,
   "user_envs_cfg": false
  }
 },
 "nbformat": 4,
 "nbformat_minor": 1
}
