{
 "cells": [
  {
   "cell_type": "markdown",
   "id": "a34a67db-e0d7-41e7-a9cf-48f0df06ce6d",
   "metadata": {},
   "source": [
    "# IDAES Modeling"
   ]
  },
  {
   "cell_type": "markdown",
   "id": "7741b25a-9b63-4427-9d7a-95ea81ad4d4e",
   "metadata": {},
   "source": [
    "Docs: https://idaes-pse.readthedocs.io/en/stable/index.html\n",
    "Video: https://www.youtube.com/channel/UCpp3J_990C0Oz_CbxRDfr6g\n"
   ]
  },
  {
   "cell_type": "markdown",
   "id": "748d3cf7-cee5-4dc9-8efd-28f9672d7b22",
   "metadata": {},
   "source": [
    "## IDAES Flash Tutorial"
   ]
  },
  {
   "cell_type": "code",
   "execution_count": 2,
   "id": "1c3e76be-fc57-4041-893a-d0a09042f7f1",
   "metadata": {},
   "outputs": [
    {
     "name": "stdout",
     "output_type": "stream",
     "text": [
      "Degrees of Freedom = 0\n",
      "2022-02-21 19:22:52 [INFO] idaes.init.fs.flash.control_volume.properties_in: Initialization Step 1 optimal - Optimal Solution Found.\n",
      "2022-02-21 19:22:53 [INFO] idaes.init.fs.flash.control_volume.properties_in: Initialization Step 2 optimal - Optimal Solution Found.\n",
      "2022-02-21 19:22:53 [INFO] idaes.init.fs.flash.control_volume.properties_in: Initialization Step 3 optimal - Optimal Solution Found.\n",
      "2022-02-21 19:22:53 [INFO] idaes.init.fs.flash.control_volume.properties_in: Initialization Step 4 optimal - Optimal Solution Found.\n",
      "2022-02-21 19:22:54 [INFO] idaes.init.fs.flash.control_volume.properties_in: Initialization Step 5 optimal - Optimal Solution Found.\n",
      "2022-02-21 19:22:54 [INFO] idaes.init.fs.flash.control_volume.properties_out: Initialization Step 1 optimal - Optimal Solution Found.\n",
      "2022-02-21 19:22:54 [INFO] idaes.init.fs.flash.control_volume.properties_out: Initialization Step 2 optimal - Optimal Solution Found.\n",
      "2022-02-21 19:22:55 [INFO] idaes.init.fs.flash.control_volume.properties_out: Initialization Step 3 optimal - Optimal Solution Found.\n",
      "2022-02-21 19:22:55 [INFO] idaes.init.fs.flash.control_volume.properties_out: Initialization Step 4 optimal - Optimal Solution Found.\n",
      "2022-02-21 19:22:55 [INFO] idaes.init.fs.flash.control_volume.properties_out: Initialization Step 5 optimal - Optimal Solution Found.\n",
      "2022-02-21 19:22:55 [INFO] idaes.init.fs.flash.control_volume.properties_out: State Released.\n",
      "2022-02-21 19:22:55 [INFO] idaes.init.fs.flash.control_volume: Initialization Complete\n",
      "2022-02-21 19:22:56 [INFO] idaes.init.fs.flash.control_volume.properties_in: State Released.\n",
      "2022-02-21 19:22:56 [INFO] idaes.init.fs.flash: Initialization Complete: optimal - Optimal Solution Found\n",
      "\n",
      "====================================================================================\n",
      "Unit : fs.flash                                                            Time: 0.0\n",
      "------------------------------------------------------------------------------------\n",
      "    Unit Performance\n",
      "\n",
      "    Variables: \n",
      "\n",
      "    Key             : Value  : Fixed : Bounds\n",
      "          Heat Duty : 0.0000 :  True : (None, None)\n",
      "    Pressure Change : 0.0000 :  True : (None, None)\n",
      "\n",
      "------------------------------------------------------------------------------------\n",
      "    Stream Table\n",
      "                              Inlet    Vapor Outlet  Liquid Outlet\n",
      "    flow_mol                   1.0000      0.39612       0.60388  \n",
      "    mole_frac_comp benzene    0.50000      0.63398       0.41212  \n",
      "    mole_frac_comp toluene    0.50000      0.36602       0.58788  \n",
      "    temperature                368.00       368.00        368.00  \n",
      "    pressure               1.0132e+05   1.0132e+05    1.0132e+05  \n",
      "====================================================================================\n"
     ]
    }
   ],
   "source": [
    "from pyomo.environ import ConcreteModel, SolverFactory, Constraint, value\n",
    "from idaes.core import FlowsheetBlock\n",
    "import idaes.logger as idaeslogger\n",
    "from idaes.generic_models.properties.activity_coeff_models.BTX_activity_coeff_VLE import BTXParameterBlock\n",
    "from idaes.generic_models.unit_models import Flash\n",
    "from idaes.core.util.model_statistics import degrees_of_freedom\n",
    "\n",
    "# create model instance\n",
    "m = ConcreteModel()\n",
    "\n",
    "# add a flowsheet block\n",
    "m.fs = FlowsheetBlock(default={\"dynamic\": False}) \n",
    "\n",
    "# specify physical properties package\n",
    "m.fs.properties = BTXParameterBlock(default={\"valid_phase\": ('Liq', 'Vap'),\n",
    "                                            \"activity_coeff_model\": \"Ideal\",\n",
    "                                            \"state_vars\": \"FTPz\"})\n",
    "\n",
    "# specify flash unit\n",
    "m.fs.flash = Flash(default={\"property_package\": m.fs.properties})\n",
    "\n",
    "# inlet conditions\n",
    "m.fs.flash.inlet.flow_mol.fix(1.0)\n",
    "m.fs.flash.inlet.temperature.fix(368.0)\n",
    "m.fs.flash.inlet.pressure.fix(101325.0)\n",
    "m.fs.flash.inlet.mole_frac_comp[0, \"benzene\"].fix(0.5)\n",
    "m.fs.flash.inlet.mole_frac_comp[0, \"toluene\"].fix(0.5)\n",
    "\n",
    "# flash unit specifications\n",
    "m.fs.flash.heat_duty.fix(0.0)\n",
    "m.fs.flash.deltaP.fix(0.0)\n",
    "\n",
    "# verify all degrees of freedom have been fully specified\n",
    "print(\"Degrees of Freedom =\", degrees_of_freedom(m))\n",
    "\n",
    "# initialize flash unit\n",
    "m.fs.flash.initialize(outlvl=idaeslogger.INFO)\n",
    "\n",
    "# solve\n",
    "solver = SolverFactory(\"ipopt\")\n",
    "status = solver.solve(m, tee=False)\n",
    "\n",
    "# prepare report\n",
    "m.fs.flash.report()"
   ]
  },
  {
   "cell_type": "code",
   "execution_count": 34,
   "id": "e8173226-1366-4648-b7e4-e88dde9c1e5f",
   "metadata": {},
   "outputs": [
    {
     "name": "stdout",
     "output_type": "stream",
     "text": [
      "Loading saved flowsheet from '.json'\n",
      "Saving flowsheet to default file '.json' in current directory (/Users/jeff/Google Drive/GitHub/MO-book/work-in-progress)\n",
      "Flowsheet visualization at: http://localhost:61434/app?id=\n"
     ]
    }
   ],
   "source": [
    "m.fs.visualize(\"\")"
   ]
  },
  {
   "cell_type": "code",
   "execution_count": 35,
   "id": "25841a64-66e4-4a0d-a7c9-d37167269a23",
   "metadata": {},
   "outputs": [
    {
     "name": "stdout",
     "output_type": "stream",
     "text": [
      "Vap. Outlet Temperature =  368.0\n"
     ]
    }
   ],
   "source": [
    "print('Vap. Outlet Temperature = ', value(m.fs.flash.vap_outlet.temperature[0]))"
   ]
  },
  {
   "cell_type": "code",
   "execution_count": 36,
   "id": "3aeda4ca-086f-4440-bbbc-400b8b8f1cec",
   "metadata": {},
   "outputs": [
    {
     "name": "stdout",
     "output_type": "stream",
     "text": [
      "_Vap_temperature_ref : Size=1, Index=fs._time, ReferenceTo=fs.flash.control_volume.properties_out[:].component('temperature')\n",
      "    Key : Lower : Value : Upper : Fixed : Stale : Domain\n",
      "    0.0 :     0 : 368.0 :  None : False : False : NonNegativeReals\n",
      "vap_outlet : Size=1\n",
      "    Key  : Name           : Value\n",
      "    None :       flow_mol : {0.0: 0.3961181748774182}\n",
      "         : mole_frac_comp : {(0.0, 'benzene'): 0.6339766485081291, (0.0, 'toluene'): 0.3660233514918707}\n",
      "         :       pressure : {0.0: 101325.0}\n",
      "         :    temperature : {0.0: 368.0}\n"
     ]
    }
   ],
   "source": [
    "m.fs.flash.vap_outlet.temperature.display()\n",
    "m.fs.flash.vap_outlet.display()"
   ]
  },
  {
   "cell_type": "code",
   "execution_count": 53,
   "id": "3a525504-873f-49f0-98f2-dd2b5dca30ec",
   "metadata": {},
   "outputs": [
    {
     "name": "stdout",
     "output_type": "stream",
     "text": [
      "Degrees of Freedom = 3\n"
     ]
    }
   ],
   "source": [
    "from pyomo.environ import ConcreteModel, SolverFactory, Constraint, value\n",
    "from idaes.core import FlowsheetBlock\n",
    "import idaes.logger as idaeslogger\n",
    "from idaes.generic_models.properties.activity_coeff_models.BTX_activity_coeff_VLE import BTXParameterBlock\n",
    "from idaes.generic_models.unit_models import Product\n",
    "from idaes.core.util.model_statistics import degrees_of_freedom\n",
    "\n",
    "m = ConcreteModel()\n",
    "m.fs = FlowsheetBlock(default={\"dynamic\": False}) \n",
    "\n",
    "m.fs.properties = BTXParameterBlock(default={\"valid_phase\": ('Liq', 'Vap'),\n",
    "                                            \"activity_coeff_model\": \"Ideal\",\n",
    "                                            \"state_vars\": \"FTPz\"})\n",
    "\n",
    "m.fs.product = Product(default={\"property_package\": m.fs.properties})\n",
    "\n",
    "m.fs.product.inlet.temperature.fix(368.0)\n",
    "m.fs.product.inlet.pressure.fix(101325.0)\n",
    "\n",
    "\n",
    "print(\"Degrees of Freedom =\", degrees_of_freedom(m))\n"
   ]
  },
  {
   "cell_type": "code",
   "execution_count": null,
   "id": "8a68bcda-0359-4282-8958-b6fd1d1970f3",
   "metadata": {},
   "outputs": [],
   "source": []
  }
 ],
 "metadata": {
  "kernelspec": {
   "display_name": "Python 3 (ipykernel)",
   "language": "python",
   "name": "python3"
  },
  "language_info": {
   "codemirror_mode": {
    "name": "ipython",
    "version": 3
   },
   "file_extension": ".py",
   "mimetype": "text/x-python",
   "name": "python",
   "nbconvert_exporter": "python",
   "pygments_lexer": "ipython3",
   "version": "3.9.7"
  }
 },
 "nbformat": 4,
 "nbformat_minor": 5
}
