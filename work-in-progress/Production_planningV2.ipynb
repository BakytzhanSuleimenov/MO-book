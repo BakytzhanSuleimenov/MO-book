{
 "cells": [
  {
   "cell_type": "markdown",
   "metadata": {},
   "source": [
    "# Production Planning"
   ]
  },
  {
   "cell_type": "code",
   "execution_count": 103,
   "metadata": {},
   "outputs": [
    {
     "data": {
      "text/plain": [
       "'production'"
      ]
     },
     "metadata": {},
     "output_type": "display_data"
    },
    {
     "data": {
      "text/html": [
       "<div>\n",
       "<style scoped>\n",
       "    .dataframe tbody tr th:only-of-type {\n",
       "        vertical-align: middle;\n",
       "    }\n",
       "\n",
       "    .dataframe tbody tr th {\n",
       "        vertical-align: top;\n",
       "    }\n",
       "\n",
       "    .dataframe thead th {\n",
       "        text-align: right;\n",
       "    }\n",
       "</style>\n",
       "<table border=\"1\" class=\"dataframe\">\n",
       "  <thead>\n",
       "    <tr style=\"text-align: right;\">\n",
       "      <th></th>\n",
       "      <th>Grinding</th>\n",
       "      <th>V_drilling</th>\n",
       "      <th>H_drilling</th>\n",
       "      <th>Boring</th>\n",
       "      <th>Planing</th>\n",
       "    </tr>\n",
       "    <tr>\n",
       "      <th>Product</th>\n",
       "      <th></th>\n",
       "      <th></th>\n",
       "      <th></th>\n",
       "      <th></th>\n",
       "      <th></th>\n",
       "    </tr>\n",
       "  </thead>\n",
       "  <tbody>\n",
       "    <tr>\n",
       "      <th>0</th>\n",
       "      <td>0.5</td>\n",
       "      <td>0.1</td>\n",
       "      <td>0.2</td>\n",
       "      <td>0.05</td>\n",
       "      <td>0.00</td>\n",
       "    </tr>\n",
       "    <tr>\n",
       "      <th>1</th>\n",
       "      <td>0.7</td>\n",
       "      <td>0.2</td>\n",
       "      <td>0.0</td>\n",
       "      <td>0.03</td>\n",
       "      <td>0.00</td>\n",
       "    </tr>\n",
       "    <tr>\n",
       "      <th>2</th>\n",
       "      <td>0.0</td>\n",
       "      <td>0.0</td>\n",
       "      <td>0.8</td>\n",
       "      <td>0.00</td>\n",
       "      <td>0.01</td>\n",
       "    </tr>\n",
       "    <tr>\n",
       "      <th>3</th>\n",
       "      <td>0.0</td>\n",
       "      <td>0.3</td>\n",
       "      <td>0.0</td>\n",
       "      <td>0.07</td>\n",
       "      <td>0.00</td>\n",
       "    </tr>\n",
       "    <tr>\n",
       "      <th>4</th>\n",
       "      <td>0.3</td>\n",
       "      <td>0.0</td>\n",
       "      <td>0.0</td>\n",
       "      <td>0.10</td>\n",
       "      <td>0.05</td>\n",
       "    </tr>\n",
       "    <tr>\n",
       "      <th>5</th>\n",
       "      <td>0.2</td>\n",
       "      <td>0.6</td>\n",
       "      <td>0.0</td>\n",
       "      <td>0.00</td>\n",
       "      <td>0.00</td>\n",
       "    </tr>\n",
       "    <tr>\n",
       "      <th>6</th>\n",
       "      <td>0.5</td>\n",
       "      <td>0.0</td>\n",
       "      <td>0.6</td>\n",
       "      <td>0.08</td>\n",
       "      <td>0.05</td>\n",
       "    </tr>\n",
       "  </tbody>\n",
       "</table>\n",
       "</div>"
      ],
      "text/plain": [
       "         Grinding  V_drilling  H_drilling  Boring  Planing\n",
       "Product                                                   \n",
       "0             0.5         0.1         0.2    0.05     0.00\n",
       "1             0.7         0.2         0.0    0.03     0.00\n",
       "2             0.0         0.0         0.8    0.00     0.01\n",
       "3             0.0         0.3         0.0    0.07     0.00\n",
       "4             0.3         0.0         0.0    0.10     0.05\n",
       "5             0.2         0.6         0.0    0.00     0.00\n",
       "6             0.5         0.0         0.6    0.08     0.05"
      ]
     },
     "metadata": {},
     "output_type": "display_data"
    },
    {
     "data": {
      "text/plain": [
       "'profit'"
      ]
     },
     "metadata": {},
     "output_type": "display_data"
    },
    {
     "data": {
      "text/plain": [
       "Product\n",
       "0    7.0\n",
       "1    6.0\n",
       "2    8.0\n",
       "3    4.0\n",
       "4    8.0\n",
       "5    9.0\n",
       "6    3.0\n",
       "Name: Profit, dtype: float64"
      ]
     },
     "metadata": {},
     "output_type": "display_data"
    }
   ],
   "source": [
    "from io import StringIO\n",
    "\n",
    "import numpy as np\n",
    "import pandas as pd\n",
    "import pyomo.environ as pyo\n",
    "import matplotlib.pyplot as plt\n",
    "\n",
    "# Data from Problem 12.3 from the book Model Building in Mathematical Programming (H. Paul Williams)\n",
    "# Two entries in the top row changed\n",
    "\n",
    "file = StringIO(\"\"\"\n",
    "10 6 8 4 11 9 3\n",
    "0.5 0.7 – – 0.3 0.2 0.5\n",
    "0.1 0.2 – 0.3 – 0.6 –\n",
    "0.2 – 0.8 – – – 0.6\n",
    "0.05 0.03 – 0.07 0.1 – 0.08\n",
    " – – 0.01 – 0.05 – 0.05\n",
    " \"\"\")\n",
    "\n",
    "# Column names for the big Data Frame\n",
    "columns = [\"Profit\", \"Grinding\", \"V_drilling\", \"H_drilling\", \"Boring\", \"Planing\"]\n",
    "\n",
    "production = pd.read_csv(file, header=None, sep=\"\\s+\", na_values=[\"–\"]).fillna(0).T\n",
    "production.columns = columns\n",
    "production.reindex(list(range(production.shape[0])))\n",
    "production.index.name = \"Product\"\n",
    "\n",
    "# keep profit coefficients in a separate series\n",
    "profit = production[\"Profit\"]\n",
    "production.drop(\"Profit\", axis=1, inplace=True)\n",
    "\n",
    "# A little modification to the profit data to make the products more \"competitive\" against each other\n",
    "profit[0] = 7\n",
    "profit[4] = 8\n",
    "\n",
    "# Numbers of machines of different types\n",
    "nb_machines = pd.Series(\n",
    "    [4, 2, 3, 1, 1], index=[\"Grinding\", \"V_drilling\", \"H_drilling\", \"Boring\", \"Planing\"]\n",
    ")\n",
    "# total hours per month = 24 working days times 8 hours\n",
    "hours = 24 * 8\n",
    "\n",
    "display(\"production\", production)\n",
    "display(\"profit\", profit)"
   ]
  },
  {
   "cell_type": "markdown",
   "metadata": {},
   "source": [
    "## Nominal Model\n",
    "\n",
    "The nominal model for this production planning problem can be represented as\n",
    "\n",
    "$$\n",
    "\\begin{align*}\n",
    "\\min \\; &\\; \\sum_{p\\in P} c_p x_p \\\\\n",
    "\\text{s.t.} \\; &\\; \\sum_{p\\in P} a_{p, r} x_p \\leq b_r & \\forall r\\in R \\\\\n",
    "& \\; x_p \\geq 0 & \\forall p\\in P\n",
    "\\end{align*}\n",
    "$$\n",
    "\n",
    "where\n",
    "\n",
    "* decision variables $x_p$ is the production of product $p\\in P$, \n",
    "* $c_p$ is the profit contribution of each unit of $p\\in P$ produced, \n",
    "* $a_{r,p}$ are the hours of resource machine $r\\in R$ required for each unit of $p\\in P$, and\n",
    "* $b_r = n_r H$ is the total hours of resource $r\\in R$ where $n_r$ is the number of available machines of type $r$, and $H$ is the planning horizon in hours.\n",
    "\n",
    "The following cell presents a function to create and solve a Pyomo model for the generic linear program, then calls that function using the example problem data.\n",
    "\n",
    "$$\n",
    "\\begin{align*}\n",
    "\\min \\; & \\; c^\\top x \\\\\n",
    "\\text{s.t.} \\; & \\; A x \\leq b \\\\\n",
    "& \\; x \\geq 0\n",
    "\\end{align*}\n",
    "$$"
   ]
  },
  {
   "cell_type": "code",
   "execution_count": 109,
   "metadata": {},
   "outputs": [
    {
     "name": "stdout",
     "output_type": "stream",
     "text": [
      "Model Nominal Production Planning\n",
      "\n",
      "  Variables:\n",
      "    x : Size=7, Index=P\n",
      "        Key : Lower : Value     : Upper : Fixed : Stale : Domain\n",
      "          0 :     0 :       0.0 :  None : False : False : NonNegativeReals\n",
      "          1 :     0 : 117.79141 :  None : False : False : NonNegativeReals\n",
      "          2 :     0 :     720.0 :  None : False : False : NonNegativeReals\n",
      "          3 :     0 :       0.0 :  None : False : False : NonNegativeReals\n",
      "          4 :     0 : 1884.6626 :  None : False : False : NonNegativeReals\n",
      "          5 :     0 :  600.7362 :  None : False : False : NonNegativeReals\n",
      "          6 :     0 :       0.0 :  None : False : False : NonNegativeReals\n",
      "\n",
      "  Objectives:\n",
      "    objective : Size=1, Index=None, Active=True\n",
      "        Key  : Active : Value\n",
      "        None :   True : 26950.67506\n",
      "\n",
      "  Constraints:\n",
      "    resource : Size=5\n",
      "        Key        : Lower : Body               : Upper\n",
      "            Boring :  None : 192.00000230000003 : 192.0\n",
      "          Grinding :  None :         768.000007 : 768.0\n",
      "        H_drilling :  None :              576.0 : 576.0\n",
      "           Planing :  None : 101.43313000000002 : 192.0\n",
      "        V_drilling :  None : 384.00000200000005 : 384.0\n"
     ]
    }
   ],
   "source": [
    "# creating and solving a nominal production model\n",
    "\n",
    "def lp(a, b, c, title=None):\n",
    "    \"\"\"Returns a generic linear program where data is given in Pandas DataFrames.\n",
    "    \"\"\"\n",
    "    \n",
    "    m = pyo.ConcreteModel(title)\n",
    "\n",
    "    m.P = pyo.Set(initialize=c.index)\n",
    "    m.R = pyo.Set(initialize=b.index)\n",
    "\n",
    "    # Variables = how much of each product we make\n",
    "    m.x = pyo.Var(m.P, domain=pyo.NonNegativeReals)\n",
    "    \n",
    "    @m.Objective(sense=pyo.maximize)\n",
    "    def objective(m):\n",
    "        return c @ m.x\n",
    "\n",
    "    @m.Constraint(m.R)\n",
    "    def resource(m, r):\n",
    "        return a[r] @ m.x <= b[r]\n",
    "    \n",
    "    pyo.SolverFactory(\"cbc\").solve(m)\n",
    "    \n",
    "    return m\n",
    "\n",
    "\n",
    "m = lp(a = production, \n",
    "       b = nb_machines*hours, \n",
    "       c = profit, \n",
    "       title = \"Nominal Production Planning\")\n",
    "\n",
    "m.display()"
   ]
  },
  {
   "cell_type": "code",
   "execution_count": 99,
   "metadata": {},
   "outputs": [
    {
     "name": "stdout",
     "output_type": "stream",
     "text": [
      "26950.67506\n"
     ]
    },
    {
     "data": {
      "image/png": "[encoded data removed]",
      "text/plain": [
       "<Figure size 864x432 with 2 Axes>"
      ]
     },
     "metadata": {
      "needs_background": "light"
     },
     "output_type": "display_data"
    }
   ],
   "source": [
    "def display_plan(m, ax=None):\n",
    "    \n",
    "    if ax is None:\n",
    "        fig, ax = plt.subplots(2, 1, figsize=(12, 6))\n",
    "        \n",
    "    print(m.objective())\n",
    "\n",
    "    x = pd.Series({p: m.x[p]() for p in m.P}, name=m.name)\n",
    "    x.plot(ax=ax[0], kind=\"bar\", xlabel=\"Product\", ylabel=\"quantity\",\n",
    "           title=m.name  + f\": objective = {m.objective():0.2f}\", grid=True)\n",
    "\n",
    "    resources = pd.concat([hours*nb_machines, production.T @ x], axis=1)\n",
    "    resources.columns = [\"machines\", \"plan\"]\n",
    "    resources.plot(ax=ax[1], kind=\"bar\", xlabel=\"Resource\", ylabel=\"Hours\", grid=True)\n",
    "    \n",
    "    fig.tight_layout()\n",
    "    \n",
    "    return ax\n",
    "\n",
    "display_plan(m);"
   ]
  },
  {
   "cell_type": "markdown",
   "metadata": {},
   "source": [
    "## Robust Optimization\n",
    "\n",
    "The robust optimization problem is given by\n",
    "\n",
    "$$\n",
    "\\begin{align*}\n",
    "\\min \\; &\\; \\sum_{p\\in P} c_p x_p \\\\\n",
    "\\text{s.t.} \\; &\\; \\sum_{p\\in P} \\tilde{a}_{p, r} x_p \\leq b_r & \\forall r\\in R \\\\\n",
    "& \\; x_p \\geq 0 & \\forall p\\in P\n",
    "\\end{align*}\n",
    "$$\n",
    "\n",
    "where $\\tilde{a}_{p, r}$ denotes an uncertain coefficient. The uncertainty is modeled as \n",
    "\n",
    "$$\\tilde{a}_{p, r} = a_{p, r} + z_{p, r} a'_{p, r}$$\n",
    "\n",
    "where $a'_{p, r}$ is the maximum perturbation in coefficient $a_{p, r}$, and \n",
    "\n",
    "$$\n",
    "\\begin{align*}\n",
    "| z_{p, r} | & \\leq 1 & \\forall p\\in P, r \\in R\\\\\n",
    "\\sum_{p\\in P} |z_{p, r}| & \\leq d & \\forall r\\in R\n",
    "\\end{align*}\n",
    "$$\n",
    "\n",
    "where $d$ is the 'uncertainty budget'. Together, these constraints form the uncertainty set $\\cal{Z}$. The first constraint is a 'box' (or 'unit box', or 'interval') constraint that limits the range of each $\\tilde{a}_{r, p} \\in [a_{r,p} - a'_{r,p}, a_{r,p} + a'_{r,p}]$. For each $r\\in R$, the floor (or integer part) of $d$ determines the number of elements of $\\tilde{a}_{r, p}$ for $\\p in P$ that can simultaneously reach the limits of the interval."
   ]
  },
  {
   "cell_type": "code",
   "execution_count": 102,
   "metadata": {},
   "outputs": [
    {
     "name": "stdout",
     "output_type": "stream",
     "text": [
      "robustness_margin : Size=5\n",
      "    Key        : Value\n",
      "        Boring : 8.959628259999999\n",
      "      Grinding :        26.8788847\n",
      "    H_drilling :         27.428571\n",
      "       Planing :       95.54657514\n",
      "    V_drilling :        17.0641884\n"
     ]
    }
   ],
   "source": [
    "def rc(a, a_perturbation, b, c, d=1, title=None):\n",
    "    \"\"\"Returns robust counterpart.\"\"\"\n",
    "    \n",
    "    unc_budget = 1\n",
    "    \n",
    "    m = pyo.ConcreteModel(title)\n",
    "\n",
    "    m.P = pyo.Set(initialize=c.index)\n",
    "    m.R = pyo.Set(initialize=b.index)\n",
    "\n",
    "    # Variables = how much of each product we make\n",
    "    m.x = pyo.Var(m.P, domain=pyo.NonNegativeReals)\n",
    "    \n",
    "    # sensitivity\n",
    "    m.lam = pyo.Var(m.R, domain=pyo.NonNegativeReals)\n",
    "    m.s = pyo.Var(m.R, m.P, domain=pyo.NonNegativeReals)\n",
    "    \n",
    "    @m.Objective(sense=pyo.maximize)\n",
    "    def objective(m):\n",
    "        return pyo.quicksum(m.x[p] * c.loc[p] for p in m.P)\n",
    "    \n",
    "    @m.Expression(m.R)\n",
    "    def robustness_margin(m, r):\n",
    "        return pyo.quicksum(m.s[r, p] for p in m.P) + unc_budget * m.lam[r]\n",
    "\n",
    "    @m.Constraint(m.R)\n",
    "    def resource(m, r):\n",
    "        return b[r] >= pyo.quicksum(m.x[p] * a.loc[p, r] for p in m.P) + m.robustness_margin[r]\n",
    "    \n",
    "    @m.Constraint(m.R, m.P)\n",
    "    def sensitivity(m, r, p):\n",
    "        return m.s[r, p] >= a_perturbation.loc[p, r] * m.x[p] - m.lam[r]\n",
    "    \n",
    "    pyo.SolverFactory(\"cbc\").solve(m)\n",
    "    \n",
    "    return m\n",
    "\n",
    "m = rc(a = production, \n",
    "       a_perturbation = 0.05*production,\n",
    "       b = nb_machines*hours,\n",
    "       c = profit, \n",
    "       d = 1,\n",
    "       title = \"Robust Production Planning\")\n",
    "\n",
    "m.robustness_margin.display()"
   ]
  },
  {
   "cell_type": "markdown",
   "metadata": {},
   "source": [
    "## Is the Nominal Solution Robust to Uncertain Parameters?\n",
    "\n",
    "Suppose the actual number of hours required to process each product on each machine is subject to some degree of uncertainty. For example, suppose r"
   ]
  },
  {
   "cell_type": "code",
   "execution_count": 32,
   "metadata": {},
   "outputs": [
    {
     "data": {
      "text/plain": [
       "array([[0.85366655, 0.38817038, 0.52333519, 0.24875468, 0.27408678],\n",
       "       [0.2985187 , 0.04126641, 0.07766843, 0.89292629, 0.20317096],\n",
       "       [0.20042193, 0.82892677, 0.20104202, 0.51095057, 0.27849991],\n",
       "       [0.53999333, 0.14609457, 0.08291732, 0.08253205, 0.53156308],\n",
       "       [0.85576218, 0.81333425, 0.99928072, 0.0944774 , 0.3323154 ],\n",
       "       [0.71618646, 0.91633735, 0.05859758, 0.14011735, 0.41663535],\n",
       "       [0.48037503, 0.51866547, 0.2137381 , 0.80993264, 0.54758338]])"
      ]
     },
     "execution_count": 32,
     "metadata": {},
     "output_type": "execute_result"
    }
   ],
   "source": [
    "np.random.uniform(size=production.shape)"
   ]
  },
  {
   "cell_type": "code",
   "execution_count": 27,
   "metadata": {},
   "outputs": [
    {
     "data": {
      "image/png": "[encoded data removed]",
      "text/plain": [
       "<Figure size 864x432 with 2 Axes>"
      ]
     },
     "metadata": {
      "needs_background": "light"
     },
     "output_type": "display_data"
    }
   ],
   "source": [
    "dmax = 1.0\n",
    "m = production_model(nb_machines, \n",
    "                     (1 + dmax)*production, \n",
    "                     profit, \n",
    "                     hours)\n",
    "display_plan(m);"
   ]
  },
  {
   "cell_type": "code",
   "execution_count": 26,
   "metadata": {},
   "outputs": [
    {
     "data": {
      "image/png": "[encoded data removed]",
      "text/plain": [
       "<Figure size 432x288 with 1 Axes>"
      ]
     },
     "metadata": {
      "needs_background": "light"
     },
     "output_type": "display_data"
    }
   ],
   "source": [
    "fig, ax = plt.subplots(1, 1)\n",
    "\n",
    "def np_map(func, array):\n",
    "    return np.array(list(map(func, array)))\n",
    "\n",
    "dmax = np.linspace(0, 1.0, 21)\n",
    "total_profit = np_map(lambda d: production_model(nb_machines, production/(1+d), profit, hours).total_profit(), dmax)\n",
    "\n",
    "ax.plot(dmax, total_profit/total_profit[0])\n",
    "ax.set_ylim(0,)\n",
    "ax.set_xlabel('dmax')\n",
    "ax.set_ylabel('profit')\n",
    "ax.grid(True)"
   ]
  },
  {
   "cell_type": "markdown",
   "metadata": {},
   "source": [
    "## Robust Optimization\n",
    "\n",
    "$$\n",
    "\\begin{align*}\n",
    "\\min \\; &\\; \\sum_{p\\in P} c_p x_p \\\\\n",
    "\\text{s.t.} \\; &\\; \\sum_{r\\in R} (1 + z_{p, r})h_{p, r} x_p \\leq n_r H & \\forall p\\in P, \\forall |z_{p, r}| \\leq \\Delta\n",
    "\\end{align*}\n",
    "$$\n",
    "\n",
    "\n",
    "$$\n",
    "\\begin{align*}\n",
    "\\min \\; &\\; \\sum_{p\\in P} c_p x_p \\\\\n",
    "\\text{s.t.} \\; &\\; \\sum_{r\\in R} h_{p, r} x_p + \\sum_{r\\in R} z_{p, r}h_{p, r} x_p \\leq n_r H & \\forall p\\in P, \\forall |z_{p, r}| \\leq \\Delta\n",
    "\\end{align*}\n",
    "$$\n",
    "\n",
    "where $z_{p,r}$ are parameters expressing the relative uncertainty in the time required to perform operation with resource $r$\n",
    "\n",
    "$$|z_{p, r}| \\leq \\Delta$$\n",
    "\n",
    "where $\\Delta$ establishes an upper bound on the relative uncertainty. \n",
    "\n",
    "$$s_{p, r} = z_{p, r} h_{p, r}$$"
   ]
  },
  {
   "cell_type": "code",
   "execution_count": 13,
   "metadata": {},
   "outputs": [
    {
     "data": {
      "text/plain": [
       "'production perturbation'"
      ]
     },
     "metadata": {},
     "output_type": "display_data"
    },
    {
     "data": {
      "text/html": [
       "<div>\n",
       "<style scoped>\n",
       "    .dataframe tbody tr th:only-of-type {\n",
       "        vertical-align: middle;\n",
       "    }\n",
       "\n",
       "    .dataframe tbody tr th {\n",
       "        vertical-align: top;\n",
       "    }\n",
       "\n",
       "    .dataframe thead th {\n",
       "        text-align: right;\n",
       "    }\n",
       "</style>\n",
       "<table border=\"1\" class=\"dataframe\">\n",
       "  <thead>\n",
       "    <tr style=\"text-align: right;\">\n",
       "      <th></th>\n",
       "      <th>Grinding</th>\n",
       "      <th>V_drilling</th>\n",
       "      <th>H_drilling</th>\n",
       "      <th>Boring</th>\n",
       "      <th>Planing</th>\n",
       "    </tr>\n",
       "    <tr>\n",
       "      <th>Product</th>\n",
       "      <th></th>\n",
       "      <th></th>\n",
       "      <th></th>\n",
       "      <th></th>\n",
       "      <th></th>\n",
       "    </tr>\n",
       "  </thead>\n",
       "  <tbody>\n",
       "    <tr>\n",
       "      <th>0</th>\n",
       "      <td>0.025</td>\n",
       "      <td>0.005</td>\n",
       "      <td>0.01</td>\n",
       "      <td>0.0025</td>\n",
       "      <td>0.0000</td>\n",
       "    </tr>\n",
       "    <tr>\n",
       "      <th>1</th>\n",
       "      <td>0.035</td>\n",
       "      <td>0.010</td>\n",
       "      <td>0.00</td>\n",
       "      <td>0.0015</td>\n",
       "      <td>0.0000</td>\n",
       "    </tr>\n",
       "    <tr>\n",
       "      <th>2</th>\n",
       "      <td>0.000</td>\n",
       "      <td>0.000</td>\n",
       "      <td>0.04</td>\n",
       "      <td>0.0000</td>\n",
       "      <td>0.0005</td>\n",
       "    </tr>\n",
       "    <tr>\n",
       "      <th>3</th>\n",
       "      <td>0.000</td>\n",
       "      <td>0.015</td>\n",
       "      <td>0.00</td>\n",
       "      <td>0.0035</td>\n",
       "      <td>0.0000</td>\n",
       "    </tr>\n",
       "    <tr>\n",
       "      <th>4</th>\n",
       "      <td>0.015</td>\n",
       "      <td>0.000</td>\n",
       "      <td>0.00</td>\n",
       "      <td>0.0050</td>\n",
       "      <td>0.0025</td>\n",
       "    </tr>\n",
       "    <tr>\n",
       "      <th>5</th>\n",
       "      <td>0.010</td>\n",
       "      <td>0.030</td>\n",
       "      <td>0.00</td>\n",
       "      <td>0.0000</td>\n",
       "      <td>0.0000</td>\n",
       "    </tr>\n",
       "    <tr>\n",
       "      <th>6</th>\n",
       "      <td>0.025</td>\n",
       "      <td>0.000</td>\n",
       "      <td>0.03</td>\n",
       "      <td>0.0040</td>\n",
       "      <td>0.0025</td>\n",
       "    </tr>\n",
       "  </tbody>\n",
       "</table>\n",
       "</div>"
      ],
      "text/plain": [
       "         Grinding  V_drilling  H_drilling  Boring  Planing\n",
       "Product                                                   \n",
       "0           0.025       0.005        0.01  0.0025   0.0000\n",
       "1           0.035       0.010        0.00  0.0015   0.0000\n",
       "2           0.000       0.000        0.04  0.0000   0.0005\n",
       "3           0.000       0.015        0.00  0.0035   0.0000\n",
       "4           0.015       0.000        0.00  0.0050   0.0025\n",
       "5           0.010       0.030        0.00  0.0000   0.0000\n",
       "6           0.025       0.000        0.03  0.0040   0.0025"
      ]
     },
     "metadata": {},
     "output_type": "display_data"
    },
    {
     "data": {
      "text/html": [
       "<div>\n",
       "<style scoped>\n",
       "    .dataframe tbody tr th:only-of-type {\n",
       "        vertical-align: middle;\n",
       "    }\n",
       "\n",
       "    .dataframe tbody tr th {\n",
       "        vertical-align: top;\n",
       "    }\n",
       "\n",
       "    .dataframe thead th {\n",
       "        text-align: right;\n",
       "    }\n",
       "</style>\n",
       "<table border=\"1\" class=\"dataframe\">\n",
       "  <thead>\n",
       "    <tr style=\"text-align: right;\">\n",
       "      <th></th>\n",
       "      <th>Nominal</th>\n",
       "      <th>Robust</th>\n",
       "    </tr>\n",
       "    <tr>\n",
       "      <th>Product</th>\n",
       "      <th></th>\n",
       "      <th></th>\n",
       "    </tr>\n",
       "  </thead>\n",
       "  <tbody>\n",
       "    <tr>\n",
       "      <th>0</th>\n",
       "      <td>0.00000</td>\n",
       "      <td>0.00000</td>\n",
       "    </tr>\n",
       "    <tr>\n",
       "      <th>1</th>\n",
       "      <td>117.79141</td>\n",
       "      <td>128.26024</td>\n",
       "    </tr>\n",
       "    <tr>\n",
       "      <th>2</th>\n",
       "      <td>720.00000</td>\n",
       "      <td>685.71429</td>\n",
       "    </tr>\n",
       "    <tr>\n",
       "      <th>3</th>\n",
       "      <td>0.00000</td>\n",
       "      <td>0.00000</td>\n",
       "    </tr>\n",
       "    <tr>\n",
       "      <th>4</th>\n",
       "      <td>1884.66260</td>\n",
       "      <td>1791.92560</td>\n",
       "    </tr>\n",
       "    <tr>\n",
       "      <th>5</th>\n",
       "      <td>600.73620</td>\n",
       "      <td>568.80627</td>\n",
       "    </tr>\n",
       "    <tr>\n",
       "      <th>6</th>\n",
       "      <td>0.00000</td>\n",
       "      <td>0.00000</td>\n",
       "    </tr>\n",
       "  </tbody>\n",
       "</table>\n",
       "</div>"
      ],
      "text/plain": [
       "            Nominal      Robust\n",
       "Product                        \n",
       "0           0.00000     0.00000\n",
       "1         117.79141   128.26024\n",
       "2         720.00000   685.71429\n",
       "3           0.00000     0.00000\n",
       "4        1884.66260  1791.92560\n",
       "5         600.73620   568.80627\n",
       "6           0.00000     0.00000"
      ]
     },
     "metadata": {},
     "output_type": "display_data"
    }
   ],
   "source": [
    "# We shall now solve the robust problem with each (product, machine) time deviating\n",
    "# by at most max_perturbation * 100%,\n",
    "# and per machine the  at most unc_budget products in total deviate by their max\n",
    "\n",
    "max_perturbation = 0.05\n",
    "unc_budget = 1\n",
    "\n",
    "production_perturbation = production.applymap(lambda x: x * max_perturbation)\n",
    "display(\"production perturbation\", production_perturbation)\n",
    "\n",
    "m = pyo.ConcreteModel(\"Production planning\")\n",
    "\n",
    "m.products = pyo.Set(initialize=profit.index)\n",
    "m.resources = pyo.Set(initialize=production.columns)\n",
    "\n",
    "# Old variables\n",
    "m.p = pyo.Var(m.products, domain=pyo.NonNegativeReals)\n",
    "\n",
    "# Variable which will act as a proxy on s >= abs(duration - nominal duration)\n",
    "m.s = pyo.Var(m.products, m.resources, domain=pyo.NonNegativeReals)\n",
    "\n",
    "# Dual variable related to the budget constraint in the uncertainty set\n",
    "m.lam = pyo.Var(m.resources, domain=pyo.NonNegativeReals)\n",
    "\n",
    "@m.Objective(sense=pyo.maximize)\n",
    "def total_profit(m):\n",
    "    return pyo.quicksum(m.p[product] * profit.loc[product] for product in m.products)\n",
    "\n",
    "@m.Constraint(m.resources)\n",
    "def machine_availability(m, resource):\n",
    "    return pyo.quicksum(m.p[product] * production.loc[product, resource] for product in m.products) \\\n",
    "            + pyo.quicksum(m.s[product, resource] for product in m.products) + unc_budget * m.lam[resource] \\\n",
    "            <= hours * nb_machines[resource]\n",
    "\n",
    "@m.Constraint(m.products, m.resources)\n",
    "def constraint2(m, product, resource):\n",
    "    return m.s[product, resource] >= m.p[product] * production_perturbation.loc[product, resource] - m.lam[resource]\n",
    "\n",
    "solver = pyo.SolverFactory(\"cbc\")\n",
    "solver.solve(m)\n",
    "\n",
    "# Extract the solution\n",
    "robust_plan = pd.Series({i: m.p[i]() for i in m.products}, name=\"Robust\")\n",
    "production_plans = pd.concat([nominal_plan, robust_plan], axis=1)\n",
    "production_plans.index.name = \"Product\"\n",
    "display(production_plans)"
   ]
  },
  {
   "cell_type": "code",
   "execution_count": 21,
   "metadata": {},
   "outputs": [
    {
     "data": {
      "text/plain": [
       "<AxesSubplot:title={'center':'Production Plans'}, xlabel='product', ylabel='quantity'>"
      ]
     },
     "execution_count": 21,
     "metadata": {},
     "output_type": "execute_result"
    },
    {
     "data": {
      "image/png": "[encoded data removed]",
      "text/plain": [
       "<Figure size 432x288 with 1 Axes>"
      ]
     },
     "metadata": {
      "needs_background": "light"
     },
     "output_type": "display_data"
    }
   ],
   "source": [
    "production_plans.plot(kind=\"bar\", xlabel=\"product\", ylabel=\"quantity\", title=\"Production Plans\", grid=True)"
   ]
  },
  {
   "cell_type": "code",
   "execution_count": 22,
   "metadata": {},
   "outputs": [
    {
     "data": {
      "text/plain": [
       "Nominal    26950.67506\n",
       "Robust     25709.93699\n",
       "dtype: float64"
      ]
     },
     "metadata": {},
     "output_type": "display_data"
    }
   ],
   "source": [
    "# compute profits for each plan by taking dot product\n",
    "display(production_plans.T @ profit)"
   ]
  },
  {
   "cell_type": "code",
   "execution_count": null,
   "metadata": {},
   "outputs": [],
   "source": []
  }
 ],
 "metadata": {
  "kernelspec": {
   "display_name": "Python 3 (ipykernel)",
   "language": "python",
   "name": "python3"
  },
  "language_info": {
   "codemirror_mode": {
    "name": "ipython",
    "version": 3
   },
   "file_extension": ".py",
   "mimetype": "text/x-python",
   "name": "python",
   "nbconvert_exporter": "python",
   "pygments_lexer": "ipython3",
   "version": "3.9.7"
  },
  "latex_envs": {
   "LaTeX_envs_menu_present": true,
   "autoclose": false,
   "autocomplete": true,
   "bibliofile": "biblio.bib",
   "cite_by": "apalike",
   "current_citInitial": 1,
   "eqLabelWithNumbers": true,
   "eqNumInitial": 1,
   "hotkeys": {
    "equation": "Ctrl-E",
    "itemize": "Ctrl-I"
   },
   "labels_anchors": false,
   "latex_user_defs": false,
   "report_style_numbering": false,
   "user_envs_cfg": false
  }
 },
 "nbformat": 4,
 "nbformat_minor": 4
}
