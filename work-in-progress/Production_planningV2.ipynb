{
 "cells": [
  {
   "cell_type": "markdown",
   "metadata": {},
   "source": [
    "# Production Planning"
   ]
  },
  {
   "cell_type": "code",
   "execution_count": 78,
   "metadata": {},
   "outputs": [
    {
     "data": {
      "text/plain": [
       "'production'"
      ]
     },
     "metadata": {},
     "output_type": "display_data"
    },
    {
     "data": {
      "text/html": [
       "<div>\n",
       "<style scoped>\n",
       "    .dataframe tbody tr th:only-of-type {\n",
       "        vertical-align: middle;\n",
       "    }\n",
       "\n",
       "    .dataframe tbody tr th {\n",
       "        vertical-align: top;\n",
       "    }\n",
       "\n",
       "    .dataframe thead th {\n",
       "        text-align: right;\n",
       "    }\n",
       "</style>\n",
       "<table border=\"1\" class=\"dataframe\">\n",
       "  <thead>\n",
       "    <tr style=\"text-align: right;\">\n",
       "      <th></th>\n",
       "      <th>Grinding</th>\n",
       "      <th>V_drilling</th>\n",
       "      <th>H_drilling</th>\n",
       "      <th>Boring</th>\n",
       "      <th>Planing</th>\n",
       "    </tr>\n",
       "    <tr>\n",
       "      <th>Product</th>\n",
       "      <th></th>\n",
       "      <th></th>\n",
       "      <th></th>\n",
       "      <th></th>\n",
       "      <th></th>\n",
       "    </tr>\n",
       "  </thead>\n",
       "  <tbody>\n",
       "    <tr>\n",
       "      <th>0</th>\n",
       "      <td>0.5</td>\n",
       "      <td>0.1</td>\n",
       "      <td>0.2</td>\n",
       "      <td>0.05</td>\n",
       "      <td>0.00</td>\n",
       "    </tr>\n",
       "    <tr>\n",
       "      <th>1</th>\n",
       "      <td>0.7</td>\n",
       "      <td>0.2</td>\n",
       "      <td>0.0</td>\n",
       "      <td>0.03</td>\n",
       "      <td>0.00</td>\n",
       "    </tr>\n",
       "    <tr>\n",
       "      <th>2</th>\n",
       "      <td>0.0</td>\n",
       "      <td>0.0</td>\n",
       "      <td>0.8</td>\n",
       "      <td>0.00</td>\n",
       "      <td>0.01</td>\n",
       "    </tr>\n",
       "    <tr>\n",
       "      <th>3</th>\n",
       "      <td>0.0</td>\n",
       "      <td>0.3</td>\n",
       "      <td>0.0</td>\n",
       "      <td>0.07</td>\n",
       "      <td>0.00</td>\n",
       "    </tr>\n",
       "    <tr>\n",
       "      <th>4</th>\n",
       "      <td>0.3</td>\n",
       "      <td>0.0</td>\n",
       "      <td>0.0</td>\n",
       "      <td>0.10</td>\n",
       "      <td>0.05</td>\n",
       "    </tr>\n",
       "    <tr>\n",
       "      <th>5</th>\n",
       "      <td>0.2</td>\n",
       "      <td>0.6</td>\n",
       "      <td>0.0</td>\n",
       "      <td>0.00</td>\n",
       "      <td>0.00</td>\n",
       "    </tr>\n",
       "    <tr>\n",
       "      <th>6</th>\n",
       "      <td>0.5</td>\n",
       "      <td>0.0</td>\n",
       "      <td>0.6</td>\n",
       "      <td>0.08</td>\n",
       "      <td>0.05</td>\n",
       "    </tr>\n",
       "  </tbody>\n",
       "</table>\n",
       "</div>"
      ],
      "text/plain": [
       "         Grinding  V_drilling  H_drilling  Boring  Planing\n",
       "Product                                                   \n",
       "0             0.5         0.1         0.2    0.05     0.00\n",
       "1             0.7         0.2         0.0    0.03     0.00\n",
       "2             0.0         0.0         0.8    0.00     0.01\n",
       "3             0.0         0.3         0.0    0.07     0.00\n",
       "4             0.3         0.0         0.0    0.10     0.05\n",
       "5             0.2         0.6         0.0    0.00     0.00\n",
       "6             0.5         0.0         0.6    0.08     0.05"
      ]
     },
     "metadata": {},
     "output_type": "display_data"
    },
    {
     "data": {
      "text/plain": [
       "'profit'"
      ]
     },
     "metadata": {},
     "output_type": "display_data"
    },
    {
     "data": {
      "text/plain": [
       "Product\n",
       "0    7.0\n",
       "1    6.0\n",
       "2    8.0\n",
       "3    4.0\n",
       "4    8.0\n",
       "5    9.0\n",
       "6    3.0\n",
       "Name: Profit, dtype: float64"
      ]
     },
     "metadata": {},
     "output_type": "display_data"
    }
   ],
   "source": [
    "from io import StringIO\n",
    "\n",
    "import numpy as np\n",
    "import pandas as pd\n",
    "import pyomo.environ as pyo\n",
    "import matplotlib.pyplot as plt\n",
    "\n",
    "# Data from Problem 12.3 from the book Model Building in Mathematical Programming (H. Paul Williams)\n",
    "# Two entries in the top row changed\n",
    "\n",
    "file = StringIO(\"\"\"\n",
    "10 6 8 4 11 9 3\n",
    "0.5 0.7 – – 0.3 0.2 0.5\n",
    "0.1 0.2 – 0.3 – 0.6 –\n",
    "0.2 – 0.8 – – – 0.6\n",
    "0.05 0.03 – 0.07 0.1 – 0.08\n",
    " – – 0.01 – 0.05 – 0.05\n",
    " \"\"\")\n",
    "\n",
    "# Column names for the big Data Frame\n",
    "columns = [\"Profit\", \"Grinding\", \"V_drilling\", \"H_drilling\", \"Boring\", \"Planing\"]\n",
    "\n",
    "production = pd.read_csv(file, header=None, sep=\"\\s+\", na_values=[\"–\"]).fillna(0).T\n",
    "production.columns = columns\n",
    "production.reindex(list(range(production.shape[0])))\n",
    "production.index.name = \"Product\"\n",
    "\n",
    "# keep profit coefficients in a separate series\n",
    "profit = production[\"Profit\"]\n",
    "production.drop(\"Profit\", axis=1, inplace=True)\n",
    "\n",
    "# A little modification to the profit data to make the products more \"competitive\" against each other\n",
    "profit[0] = 7\n",
    "profit[4] = 8\n",
    "\n",
    "# Numbers of machines of different types\n",
    "nb_machines = pd.Series(\n",
    "    [4, 2, 3, 1, 1], index=[\"Grinding\", \"V_drilling\", \"H_drilling\", \"Boring\", \"Planing\"]\n",
    ")\n",
    "# total hours per month = 24 working days times 8 hours\n",
    "hours = 24 * 8\n",
    "\n",
    "display(\"production\", production)\n",
    "display(\"profit\", profit)"
   ]
  },
  {
   "cell_type": "markdown",
   "metadata": {},
   "source": [
    "## Nominal Model\n",
    "\n",
    "The nominal model for this production planning problem can be represented as\n",
    "\n",
    "$$\n",
    "\\begin{align*}\n",
    "\\min \\; &\\; \\sum_{p\\in P} c_p x_p \\\\\n",
    "\\text{s.t.} \\; &\\; \\sum_{p\\in P} a_{p, r} x_p \\leq b_r & \\forall r\\in R \\\\\n",
    "& \\; x_p \\geq 0 & \\forall p\\in P\n",
    "\\end{align*}\n",
    "$$\n",
    "\n",
    "where\n",
    "\n",
    "* decision variables $x_p$ is the production of product $p\\in P$, \n",
    "* $c_p$ is the profit contribution of each unit of $p\\in P$ produced, \n",
    "* $a_{r,p}$ are the hours of resource machine $r\\in R$ required for each unit of $p\\in P$, and\n",
    "* $b_r = n_r H$ is the total hours of resource $r\\in R$ where $n_r$ is the number of available machines of type $r$, and $H$ is the planning horizon in hours.\n",
    "\n",
    "The following cell presents a function to create and solve a Pyomo model for the generic linear program, then calls that function using the example problem data.\n",
    "\n",
    "$$\n",
    "\\begin{align*}\n",
    "\\min \\; & \\; c^\\top x \\\\\n",
    "\\text{s.t.} \\; & \\; A x \\leq b \\\\\n",
    "& \\; x \\geq 0\n",
    "\\end{align*}\n",
    "$$"
   ]
  },
  {
   "cell_type": "code",
   "execution_count": 79,
   "metadata": {},
   "outputs": [
    {
     "name": "stdout",
     "output_type": "stream",
     "text": [
      "Model Nominal Production Planning\n",
      "\n",
      "  Variables:\n",
      "    x : Size=7, Index=P\n",
      "        Key : Lower : Value     : Upper : Fixed : Stale : Domain\n",
      "          0 :     0 :       0.0 :  None : False : False : NonNegativeReals\n",
      "          1 :     0 : 117.79141 :  None : False : False : NonNegativeReals\n",
      "          2 :     0 :     720.0 :  None : False : False : NonNegativeReals\n",
      "          3 :     0 :       0.0 :  None : False : False : NonNegativeReals\n",
      "          4 :     0 : 1884.6626 :  None : False : False : NonNegativeReals\n",
      "          5 :     0 :  600.7362 :  None : False : False : NonNegativeReals\n",
      "          6 :     0 :       0.0 :  None : False : False : NonNegativeReals\n",
      "\n",
      "  Objectives:\n",
      "    objective : Size=1, Index=None, Active=True\n",
      "        Key  : Active : Value\n",
      "        None :   True : 26950.67506\n",
      "\n",
      "  Constraints:\n",
      "    resource : Size=5\n",
      "        Key        : Lower : Body               : Upper\n",
      "            Boring :  None : 192.00000230000003 : 192.0\n",
      "          Grinding :  None :         768.000007 : 768.0\n",
      "        H_drilling :  None :              576.0 : 576.0\n",
      "           Planing :  None : 101.43313000000002 : 192.0\n",
      "        V_drilling :  None : 384.00000200000005 : 384.0\n"
     ]
    }
   ],
   "source": [
    "# creating and solving a nominal production model\n",
    "\n",
    "def lp(a, b, c, title=None):\n",
    "    \"\"\"Returns a generic linear program where data is given in Pandas DataFrames.\n",
    "    \"\"\"\n",
    "    \n",
    "    m = pyo.ConcreteModel(title)\n",
    "\n",
    "    m.P = pyo.Set(initialize=c.index)\n",
    "    m.R = pyo.Set(initialize=b.index)\n",
    "\n",
    "    # Variables = how much of each product we make\n",
    "    m.x = pyo.Var(m.P, domain=pyo.NonNegativeReals)\n",
    "    \n",
    "    @m.Objective(sense=pyo.maximize)\n",
    "    def objective(m):\n",
    "        return c @ m.x\n",
    "\n",
    "    @m.Constraint(m.R)\n",
    "    def resource(m, r):\n",
    "        return a[r] @ m.x <= b[r]\n",
    "    \n",
    "    pyo.SolverFactory(\"cbc\").solve(m)\n",
    "    \n",
    "    return m\n",
    "\n",
    "\n",
    "m = lp(a = production, \n",
    "       b = nb_machines * hours, \n",
    "       c = profit, \n",
    "       title = \"Nominal Production Planning\")\n",
    "\n",
    "m.display()"
   ]
  },
  {
   "cell_type": "code",
   "execution_count": 80,
   "metadata": {},
   "outputs": [
    {
     "data": {
      "image/png": "[encoded data removed]",
      "text/plain": [
       "<Figure size 432x576 with 2 Axes>"
      ]
     },
     "metadata": {
      "needs_background": "light"
     },
     "output_type": "display_data"
    }
   ],
   "source": [
    "def display_plan(m, ax=None):\n",
    "    \n",
    "    if ax is None:\n",
    "        fig, ax = plt.subplots(2, 1, figsize=(6, 8))\n",
    "\n",
    "    x = pd.Series({p: m.x[p]() for p in m.P}, name=m.name)\n",
    "    x.plot(ax=ax[0], kind=\"bar\", xlabel=\"Product\", ylabel=\"quantity\",\n",
    "           title=m.name  + f\": objective = {m.objective():0.2f}\", grid=True)\n",
    "\n",
    "    resources = pd.concat([hours*nb_machines, production.T @ x], axis=1)\n",
    "    resources.columns = [\"available\", \"plan\"]\n",
    "    resources.plot(ax=ax[1], kind=\"bar\", xlabel=\"Resource\", ylabel=\"Hours\", title=\"Machine Plan\", grid=True)\n",
    "    \n",
    "    fig.tight_layout()\n",
    "    \n",
    "    return ax\n",
    "\n",
    "display_plan(m);"
   ]
  },
  {
   "cell_type": "markdown",
   "metadata": {},
   "source": [
    "## Is the Nominal Solution Robust to Uncertain Parameters?\n",
    "\n",
    "Given a production plan, can the plan be executed with the available resources? \n",
    "\n",
    "If the linear program used to determine the plan accurately captures all of the resource constraints, then the answer should be yes. If the time required to perform each of the necessary operations are known with precision and accuracy, and if no other constraints are present, and if the computed solution satisfies all of the constraints in the problem, then it should be possible to execute the plan with the available resources.\n",
    "\n",
    "But what if the parameters are not known with precision and accuracy?\n",
    "\n",
    "Suppose, for example, that the time required to perform operation $r$ on product $p$, which has a nominal value $a_{r, p}$, could have any value between $a_{r, p} - a'_{r, p}$ and $a_{r, p} + a'_{r, p}$, where $a'_{r, p}$ is the maximum perturbation which defines an interval of possible parameters values. \n",
    "\n"
   ]
  },
  {
   "cell_type": "code",
   "execution_count": 82,
   "metadata": {},
   "outputs": [
    {
     "data": {
      "image/png": "[encoded data removed]",
      "text/plain": [
       "<Figure size 432x576 with 2 Axes>"
      ]
     },
     "metadata": {
      "needs_background": "light"
     },
     "output_type": "display_data"
    }
   ],
   "source": [
    "# define a nominal set of parameter values\n",
    "dmax = 0.10\n",
    "a_nominal = production\n",
    "a_perturbation =  dmax * production\n",
    "\n",
    "# solve for production plan using nominal parameter values\n",
    "m_nominal = lp(a = a_nominal, \n",
    "               b = nb_machines * hours, \n",
    "               c = profit, \n",
    "               title = \"Nominal Production Planning\")\n",
    "\n",
    "x_nominal = pd.Series({p: m_nominal.x[p]() for p in m.P})\n",
    "\n",
    "# create a typical scenario\n",
    "z = np.random.uniform(low=-1, high=1, size=a_perturbation.shape)\n",
    "a = a_nominal + z * a_perturbation\n",
    "\n",
    "# can the nominal plan be executed for a typical scenario?\n",
    "b = pd.concat([nb_machines * hours, a.T @ x_nominal], axis=1)\n",
    "b.columns = [\"available\", \"required\"]\n",
    "b[\"slack\"] = b[\"available\"] - b[\"required\"]\n",
    "\n",
    "fig, ax = plt.subplots(2, 1, figsize=(6, 8))\n",
    "\n",
    "b[[\"available\", \"required\"]].plot(ax=ax[0], kind=\"bar\", grid=True, \n",
    "                                  ylabel=\"hourse\", title=\"Comparison of Plan to Actual\")\n",
    "b[\"slack\"].plot(ax=ax[1], kind=\"bar\", grid=True, legend=False, title=\"Resource Slack\",\n",
    "               color=(b[\"slack\"] > 0).map({True: 'g', False: 'r'}), ylabel=\"hours idle\")\n",
    "fig.tight_layout()"
   ]
  },
  {
   "cell_type": "markdown",
   "metadata": {},
   "source": [
    "For a more systematic assessment of the \"here-and-now\" decision to use the nominal production plan, the following cell simulates the resource requirements for $N$ scenarios that are possible for the given uncertainty set."
   ]
  },
  {
   "cell_type": "code",
   "execution_count": 168,
   "metadata": {},
   "outputs": [
    {
     "data": {
      "image/png": "[encoded data removed]",
      "text/plain": [
       "<Figure size 432x864 with 5 Axes>"
      ]
     },
     "metadata": {
      "needs_background": "light"
     },
     "output_type": "display_data"
    }
   ],
   "source": [
    "dmax = 0.10\n",
    "a_nominal = production\n",
    "a_perturbation =  dmax * production\n",
    "\n",
    "# solve for production plan using nominal parameter values\n",
    "m_nominal = lp(a = a_nominal, \n",
    "               b = nb_machines * hours, \n",
    "               c = profit, \n",
    "               title = \"Nominal Production Planning\")\n",
    "\n",
    "x_nominal = pd.Series({p: m_nominal.x[p]() for p in m.P})\n",
    "\n",
    "s = []\n",
    "\n",
    "N = 1000\n",
    "for n in range(N):\n",
    "    z = np.random.uniform(low=-1, high=1, size=a_perturbation.shape)\n",
    "    a = a_nominal + z * a_perturbation\n",
    "    s.append((a.T @ x_nominal).to_numpy())\n",
    "\n",
    "s = pd.DataFrame(s, columns=a.columns)\n",
    "\n",
    "fig, ax = plt.subplots(len(nb_machines), 1, figsize=(6, 12))\n",
    "for k, r in enumerate(nb_machines.index):\n",
    "    s[r].hist(ax=ax[k], bins=30)\n",
    "    ax[k].set_title(r)\n",
    "    ax[k].set_xlabel(\"hours\")\n",
    "    ax[k].axvline(nb_machines[r] * hours, lw=3, color=\"r\")\n",
    "    ax[k].legend([\"available\", \"required\"])\n",
    "\n",
    "fig.tight_layout()"
   ]
  },
  {
   "cell_type": "code",
   "execution_count": 186,
   "metadata": {},
   "outputs": [
    {
     "name": "stdout",
     "output_type": "stream",
     "text": [
      "933 out of 1000 simiulations violate at least one constraint.\n"
     ]
    }
   ],
   "source": [
    "print(f\"{N - (s <= nb_machines * hours).T.all().sum()} out of {N} simiulations violate at least one constraint.\")"
   ]
  },
  {
   "cell_type": "markdown",
   "metadata": {},
   "source": [
    "## \"Wait-and-See\" and the Case of Perfect Information"
   ]
  },
  {
   "cell_type": "code",
   "execution_count": 190,
   "metadata": {},
   "outputs": [
    {
     "name": "stdout",
     "output_type": "stream",
     "text": [
      "...................................................................................................."
     ]
    }
   ],
   "source": [
    "# simulate N \"wait-and-see\" production planning scenarios\n",
    "X = []\n",
    "s = []\n",
    "N = 1000\n",
    "\n",
    "for k in range(N):\n",
    "    if 0 == k % 10:\n",
    "        print(\".\", end=\"\")\n",
    "    z = np.random.uniform(low=-1, high=1, size=a_perturbation.shape)\n",
    "    m = lp(a = a_nominal + z * a_perturbation,\n",
    "            b = nb_machines * hours, \n",
    "            c = profit, \n",
    "            title = \"Nominal Production Planning\")\n",
    "    s.append(m.objective())\n",
    "    X.append([m.x[p]() for p in m.P])\n",
    "    \n",
    "X = pd.DataFrame(X, columns=profit.index)"
   ]
  },
  {
   "cell_type": "code",
   "execution_count": 194,
   "metadata": {},
   "outputs": [
    {
     "data": {
      "text/plain": [
       "24853.631419999998"
      ]
     },
     "execution_count": 194,
     "metadata": {},
     "output_type": "execute_result"
    },
    {
     "data": {
      "image/png": "[encoded data removed]",
      "text/plain": [
       "<Figure size 432x288 with 1 Axes>"
      ]
     },
     "metadata": {
      "needs_background": "light"
     },
     "output_type": "display_data"
    }
   ],
   "source": [
    "s = pd.Series(s)\n",
    "ax = s.hist(bins=30)\n",
    "ax.set_title(\"Distribution of Profits\")\n",
    "ax.axvline(m_nominal.objective(), color='r', lw=3)\n",
    "ax.axvline(s.mean(), color='g', lw=3)\n",
    "s.min()"
   ]
  },
  {
   "cell_type": "code",
   "execution_count": 165,
   "metadata": {},
   "outputs": [
    {
     "data": {
      "image/png": "[encoded data removed]",
      "text/plain": [
       "<Figure size 432x864 with 7 Axes>"
      ]
     },
     "metadata": {
      "needs_background": "light"
     },
     "output_type": "display_data"
    }
   ],
   "source": [
    "fig, ax = plt.subplots(len(profit), 1, figsize=(6, 12))\n",
    "for k, p in enumerate(profit.index):\n",
    "    X[p].hist(ax=ax[k], bins=30)\n",
    "    ax[k].set_title(f\"product {p}\")\n",
    "    ax[k].set_xlabel(\"number\")\n",
    "    ax[k].axvline(x_nominal[p], color='r', lw=3)\n",
    "\n",
    "fig.tight_layout()"
   ]
  },
  {
   "cell_type": "markdown",
   "metadata": {},
   "source": [
    "## Robust Optimization to the \"Here-and-Now\" Decision\n",
    "\n",
    "The robust optimization problem is given by\n",
    "\n",
    "$$\n",
    "\\begin{align*}\n",
    "\\min \\; &\\; \\sum_{p\\in P} c_p x_p \\\\\n",
    "\\text{s.t.} \\; &\\; \\sum_{p\\in P} \\tilde{a}_{p, r} x_p \\leq b_r & \\forall r\\in R \\\\\n",
    "& \\; x_p \\geq 0 & \\forall p\\in P\n",
    "\\end{align*}\n",
    "$$\n",
    "\n",
    "where $\\tilde{a}_{p, r}$ denotes an uncertain coefficient. The uncertainty is modeled as \n",
    "\n",
    "$$\\tilde{a}_{p, r} = a_{p, r} + z_{p, r} a'_{p, r}$$\n",
    "\n",
    "where $a'_{p, r}$ is the maximum perturbation in coefficient $a_{p, r}$, and \n",
    "\n",
    "$$\n",
    "\\begin{align*}\n",
    "| z_{p, r} | & \\leq 1 & \\forall p\\in P, r \\in R\\\\\n",
    "\\sum_{p\\in P} |z_{p, r}| & \\leq d & \\forall r\\in R\n",
    "\\end{align*}\n",
    "$$\n",
    "\n",
    "where $d$ is the 'uncertainty budget'. Together, these constraints form the uncertainty set $\\cal{Z}$. The first constraint is a 'box' (or 'unit box', or 'interval') constraint that limits the range of each $\\tilde{a}_{r, p} \\in [a_{r,p} - a'_{r,p}, a_{r,p} + a'_{r,p}]$. For each $r\\in R$, the floor (or integer part) of $d$ determines the number of elements of $\\tilde{a}_{r, p}$ for $\\p in P$ that can simultaneously reach the limits of the interval."
   ]
  },
  {
   "cell_type": "code",
   "execution_count": 189,
   "metadata": {},
   "outputs": [
    {
     "name": "stdout",
     "output_type": "stream",
     "text": [
      "robustness_margin : Size=5\n",
      "    Key        : Value\n",
      "        Boring :   17.0790751\n",
      "      Grinding :    51.237226\n",
      "    H_drilling :    52.363636\n",
      "       Planing : 100.05916845\n",
      "    V_drilling :   32.4059573\n",
      "Model Robust Production Planning\n",
      "\n",
      "  Variables:\n",
      "    x : Size=7, Index=P\n",
      "        Key : Lower : Value     : Upper : Fixed : Stale : Domain\n",
      "          0 :     0 :       0.0 :  None : False : False : NonNegativeReals\n",
      "          1 :     0 : 137.67237 :  None : False : False : NonNegativeReals\n",
      "          2 :     0 : 654.54545 :  None : False : False : NonNegativeReals\n",
      "          3 :     0 :       0.0 :  None : False : False : NonNegativeReals\n",
      "          4 :     0 : 1707.9075 :  None : False : False : NonNegativeReals\n",
      "          5 :     0 : 540.09928 :  None : False : False : NonNegativeReals\n",
      "          6 :     0 :       0.0 :  None : False : False : NonNegativeReals\n",
      "    lam : Size=5, Index=R\n",
      "        Key        : Lower : Value     : Upper : Fixed : Stale : Domain\n",
      "            Boring :     0 : 0.4130171 :  None : False : False : NonNegativeReals\n",
      "          Grinding :     0 : 10.801986 :  None : False : False : NonNegativeReals\n",
      "        H_drilling :     0 :       0.0 :  None : False : False : NonNegativeReals\n",
      "           Planing :     0 :       0.0 :  None : False : False : NonNegativeReals\n",
      "        V_drilling :     0 : 2.7534473 :  None : False : False : NonNegativeReals\n",
      "    s : Size=35, Index=s_index\n",
      "        Key               : Lower : Value      : Upper : Fixed : Stale : Domain\n",
      "            ('Boring', 0) :     0 :        0.0 :  None : False : False : NonNegativeReals\n",
      "            ('Boring', 1) :     0 :        0.0 :  None : False : False : NonNegativeReals\n",
      "            ('Boring', 2) :     0 :        0.0 :  None : False : False : NonNegativeReals\n",
      "            ('Boring', 3) :     0 :        0.0 :  None : False : False : NonNegativeReals\n",
      "            ('Boring', 4) :     0 :  16.666058 :  None : False : False : NonNegativeReals\n",
      "            ('Boring', 5) :     0 :        0.0 :  None : False : False : NonNegativeReals\n",
      "            ('Boring', 6) :     0 :        0.0 :  None : False : False : NonNegativeReals\n",
      "          ('Grinding', 0) :     0 :        0.0 :  None : False : False : NonNegativeReals\n",
      "          ('Grinding', 1) :     0 :        0.0 :  None : False : False : NonNegativeReals\n",
      "          ('Grinding', 2) :     0 :        0.0 :  None : False : False : NonNegativeReals\n",
      "          ('Grinding', 3) :     0 :        0.0 :  None : False : False : NonNegativeReals\n",
      "          ('Grinding', 4) :     0 :   40.43524 :  None : False : False : NonNegativeReals\n",
      "          ('Grinding', 5) :     0 :        0.0 :  None : False : False : NonNegativeReals\n",
      "          ('Grinding', 6) :     0 :        0.0 :  None : False : False : NonNegativeReals\n",
      "        ('H_drilling', 0) :     0 :        0.0 :  None : False : False : NonNegativeReals\n",
      "        ('H_drilling', 1) :     0 :        0.0 :  None : False : False : NonNegativeReals\n",
      "        ('H_drilling', 2) :     0 :  52.363636 :  None : False : False : NonNegativeReals\n",
      "        ('H_drilling', 3) :     0 :        0.0 :  None : False : False : NonNegativeReals\n",
      "        ('H_drilling', 4) :     0 :        0.0 :  None : False : False : NonNegativeReals\n",
      "        ('H_drilling', 5) :     0 :        0.0 :  None : False : False : NonNegativeReals\n",
      "        ('H_drilling', 6) :     0 :        0.0 :  None : False : False : NonNegativeReals\n",
      "           ('Planing', 0) :     0 :        0.0 :  None : False : False : NonNegativeReals\n",
      "           ('Planing', 1) :     0 :        0.0 :  None : False : False : NonNegativeReals\n",
      "           ('Planing', 2) :     0 : 0.65454545 :  None : False : False : NonNegativeReals\n",
      "           ('Planing', 3) :     0 :        0.0 :  None : False : False : NonNegativeReals\n",
      "           ('Planing', 4) :     0 :  99.404623 :  None : False : False : NonNegativeReals\n",
      "           ('Planing', 5) :     0 :        0.0 :  None : False : False : NonNegativeReals\n",
      "           ('Planing', 6) :     0 :        0.0 :  None : False : False : NonNegativeReals\n",
      "        ('V_drilling', 0) :     0 :        0.0 :  None : False : False : NonNegativeReals\n",
      "        ('V_drilling', 1) :     0 :        0.0 :  None : False : False : NonNegativeReals\n",
      "        ('V_drilling', 2) :     0 :        0.0 :  None : False : False : NonNegativeReals\n",
      "        ('V_drilling', 3) :     0 :        0.0 :  None : False : False : NonNegativeReals\n",
      "        ('V_drilling', 4) :     0 :        0.0 :  None : False : False : NonNegativeReals\n",
      "        ('V_drilling', 5) :     0 :   29.65251 :  None : False : False : NonNegativeReals\n",
      "        ('V_drilling', 6) :     0 :        0.0 :  None : False : False : NonNegativeReals\n",
      "\n",
      "  Objectives:\n",
      "    objective : Size=1, Index=None, Active=True\n",
      "        Key  : Active : Value\n",
      "        None :   True : 24586.55134\n",
      "\n",
      "  Constraints:\n",
      "    resource : Size=5\n",
      "        Key        : Lower : Body               : Upper\n",
      "            Boring :  None : 191.99999620000003 : 192.0\n",
      "          Grinding :  None :         767.999991 : 768.0\n",
      "        H_drilling :  None :         575.999996 : 576.0\n",
      "           Planing :  None : 191.99999795000002 : 192.0\n",
      "        V_drilling :  None :        383.9999993 : 384.0\n",
      "    sensitivity : Size=35\n",
      "        Key               : Lower : Body                   : Upper\n",
      "            ('Boring', 0) :  None :             -0.4130171 :   0.0\n",
      "            ('Boring', 1) :  None :  9.999999994736442e-09 :   0.0\n",
      "            ('Boring', 2) :  None :             -0.4130171 :   0.0\n",
      "            ('Boring', 3) :  None :             -0.4130171 :   0.0\n",
      "            ('Boring', 4) :  None : -9.999999761589606e-08 :   0.0\n",
      "            ('Boring', 5) :  None :             -0.4130171 :   0.0\n",
      "            ('Boring', 6) :  None :             -0.4130171 :   0.0\n",
      "          ('Grinding', 0) :  None :             -10.801986 :   0.0\n",
      "          ('Grinding', 1) :  None :    -1.1649200999999998 :   0.0\n",
      "          ('Grinding', 2) :  None :             -10.801986 :   0.0\n",
      "          ('Grinding', 3) :  None :             -10.801986 :   0.0\n",
      "          ('Grinding', 4) :  None : -9.999999974752427e-07 :   0.0\n",
      "          ('Grinding', 5) :  None : -3.999999975690116e-07 :   0.0\n",
      "          ('Grinding', 6) :  None :             -10.801986 :   0.0\n",
      "        ('H_drilling', 0) :  None :                    0.0 :   0.0\n",
      "        ('H_drilling', 1) :  None :                    0.0 :   0.0\n",
      "        ('H_drilling', 2) :  None :  7.105427357601002e-15 :   0.0\n",
      "        ('H_drilling', 3) :  None :                    0.0 :   0.0\n",
      "        ('H_drilling', 4) :  None :                    0.0 :   0.0\n",
      "        ('H_drilling', 5) :  None :                    0.0 :   0.0\n",
      "        ('H_drilling', 6) :  None :                    0.0 :   0.0\n",
      "           ('Planing', 0) :  None :                    0.0 :   0.0\n",
      "           ('Planing', 1) :  None :                    0.0 :   0.0\n",
      "           ('Planing', 2) :  None :                    0.0 :   0.0\n",
      "           ('Planing', 3) :  None :                    0.0 :   0.0\n",
      "           ('Planing', 4) :  None :     -90.86508549999999 :   0.0\n",
      "           ('Planing', 5) :  None :                    0.0 :   0.0\n",
      "           ('Planing', 6) :  None :                    0.0 :   0.0\n",
      "        ('V_drilling', 0) :  None :             -2.7534473 :   0.0\n",
      "        ('V_drilling', 1) :  None : 1.0000000072452053e-07 :   0.0\n",
      "        ('V_drilling', 2) :  None :             -2.7534473 :   0.0\n",
      "        ('V_drilling', 3) :  None :             -2.7534473 :   0.0\n",
      "        ('V_drilling', 4) :  None :             -2.7534473 :   0.0\n",
      "        ('V_drilling', 5) :  None :  -5.00000002290335e-07 :   0.0\n",
      "        ('V_drilling', 6) :  None :             -2.7534473 :   0.0\n"
     ]
    }
   ],
   "source": [
    "def rc(a, a_perturbation, b, c, d=1, title=None):\n",
    "    \"\"\"Returns robust counterpart.\"\"\"\n",
    "    \n",
    "    unc_budget = d\n",
    "    \n",
    "    m = pyo.ConcreteModel(title)\n",
    "\n",
    "    m.P = pyo.Set(initialize=c.index)\n",
    "    m.R = pyo.Set(initialize=b.index)\n",
    "\n",
    "    # Variables = how much of each product we make\n",
    "    m.x = pyo.Var(m.P, domain=pyo.NonNegativeReals)\n",
    "    \n",
    "    # sensitivity\n",
    "    m.lam = pyo.Var(m.R, domain=pyo.NonNegativeReals)\n",
    "    m.s = pyo.Var(m.R, m.P, domain=pyo.NonNegativeReals)\n",
    "    \n",
    "    @m.Objective(sense=pyo.maximize)\n",
    "    def objective(m):\n",
    "        return c @ m.x\n",
    "    \n",
    "    @m.Expression(m.R)\n",
    "    def robustness_margin(m, r):\n",
    "        return pyo.quicksum(m.s[r, :]) + unc_budget * m.lam[r]\n",
    "    \n",
    "    @m.Constraint(m.R)\n",
    "    def resource(m, r):\n",
    "        return a[r] @ m.x + m.robustness_margin[r] <= b[r]\n",
    "    \n",
    "    @m.Constraint(m.R, m.P)\n",
    "    def sensitivity(m, r, p):\n",
    "        return m.s[r, p] >= a_perturbation.loc[p, r] * m.x[p] - m.lam[r]\n",
    "    \n",
    "    pyo.SolverFactory(\"cbc\").solve(m)\n",
    "    \n",
    "    return m\n",
    "\n",
    "\n",
    "m = rc(a = production, \n",
    "       a_perturbation = 0.10*production,\n",
    "       b = nb_machines*hours,\n",
    "       c = profit, \n",
    "       d = 1,\n",
    "       title = \"Robust Production Planning\")\n",
    "\n",
    "m.robustness_margin.display()\n",
    "m.display()"
   ]
  },
  {
   "cell_type": "code",
   "execution_count": 167,
   "metadata": {},
   "outputs": [
    {
     "ename": "NameError",
     "evalue": "name 'production_plans' is not defined",
     "output_type": "error",
     "traceback": [
      "\u001b[0;31m---------------------------------------------------------------------------\u001b[0m",
      "\u001b[0;31mNameError\u001b[0m                                 Traceback (most recent call last)",
      "Input \u001b[0;32mIn [167]\u001b[0m, in \u001b[0;36m<cell line: 1>\u001b[0;34m()\u001b[0m\n\u001b[0;32m----> 1\u001b[0m \u001b[43mproduction_plans\u001b[49m\u001b[38;5;241m.\u001b[39mplot(kind\u001b[38;5;241m=\u001b[39m\u001b[38;5;124m\"\u001b[39m\u001b[38;5;124mbar\u001b[39m\u001b[38;5;124m\"\u001b[39m, xlabel\u001b[38;5;241m=\u001b[39m\u001b[38;5;124m\"\u001b[39m\u001b[38;5;124mproduct\u001b[39m\u001b[38;5;124m\"\u001b[39m, ylabel\u001b[38;5;241m=\u001b[39m\u001b[38;5;124m\"\u001b[39m\u001b[38;5;124mquantity\u001b[39m\u001b[38;5;124m\"\u001b[39m, title\u001b[38;5;241m=\u001b[39m\u001b[38;5;124m\"\u001b[39m\u001b[38;5;124mProduction Plans\u001b[39m\u001b[38;5;124m\"\u001b[39m, grid\u001b[38;5;241m=\u001b[39m\u001b[38;5;28;01mTrue\u001b[39;00m)\n",
      "\u001b[0;31mNameError\u001b[0m: name 'production_plans' is not defined"
     ]
    }
   ],
   "source": [
    "production_plans.plot(kind=\"bar\", xlabel=\"product\", ylabel=\"quantity\", title=\"Production Plans\", grid=True)"
   ]
  },
  {
   "cell_type": "code",
   "execution_count": 188,
   "metadata": {},
   "outputs": [
    {
     "ename": "NameError",
     "evalue": "name 'production_plans' is not defined",
     "output_type": "error",
     "traceback": [
      "\u001b[0;31m---------------------------------------------------------------------------\u001b[0m",
      "\u001b[0;31mNameError\u001b[0m                                 Traceback (most recent call last)",
      "Input \u001b[0;32mIn [188]\u001b[0m, in \u001b[0;36m<cell line: 2>\u001b[0;34m()\u001b[0m\n\u001b[1;32m      1\u001b[0m \u001b[38;5;66;03m# compute profits for each plan by taking dot product\u001b[39;00m\n\u001b[0;32m----> 2\u001b[0m display(\u001b[43mproduction_plans\u001b[49m\u001b[38;5;241m.\u001b[39mT \u001b[38;5;241m@\u001b[39m profit)\n",
      "\u001b[0;31mNameError\u001b[0m: name 'production_plans' is not defined"
     ]
    }
   ],
   "source": [
    "# compute profits for each plan by taking dot product\n",
    "display(production_plans.T @ profit)"
   ]
  },
  {
   "cell_type": "code",
   "execution_count": null,
   "metadata": {},
   "outputs": [],
   "source": []
  }
 ],
 "metadata": {
  "kernelspec": {
   "display_name": "Python 3 (ipykernel)",
   "language": "python",
   "name": "python3"
  },
  "language_info": {
   "codemirror_mode": {
    "name": "ipython",
    "version": 3
   },
   "file_extension": ".py",
   "mimetype": "text/x-python",
   "name": "python",
   "nbconvert_exporter": "python",
   "pygments_lexer": "ipython3",
   "version": "3.9.7"
  },
  "latex_envs": {
   "LaTeX_envs_menu_present": true,
   "autoclose": false,
   "autocomplete": true,
   "bibliofile": "biblio.bib",
   "cite_by": "apalike",
   "current_citInitial": 1,
   "eqLabelWithNumbers": true,
   "eqNumInitial": 1,
   "hotkeys": {
    "equation": "Ctrl-E",
    "itemize": "Ctrl-I"
   },
   "labels_anchors": false,
   "latex_user_defs": false,
   "report_style_numbering": false,
   "user_envs_cfg": false
  }
 },
 "nbformat": 4,
 "nbformat_minor": 4
}
