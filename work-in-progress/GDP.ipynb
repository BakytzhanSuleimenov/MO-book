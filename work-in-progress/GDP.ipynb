{
 "cells": [
  {
   "cell_type": "markdown",
   "id": "58c1d4af-1193-4247-81f8-076a6e1e84b2",
   "metadata": {},
   "source": [
    "## Generalized Disjunctive Programming"
   ]
  },
  {
   "cell_type": "markdown",
   "id": "f3c21ee5-c49c-4984-a418-d701d99eab45",
   "metadata": {},
   "source": [
    "## Examples\n",
    "\n",
    "https://towardsdatascience.com/schedule-optimisation-using-linear-programming-in-python-9b3e1bc241e1\n",
    "\n"
   ]
  },
  {
   "cell_type": "code",
   "execution_count": null,
   "id": "55621ef2-6a55-441d-893f-4d551fb27065",
   "metadata": {},
   "outputs": [],
   "source": []
  },
  {
   "cell_type": "markdown",
   "id": "273c3c93-59ab-47db-bdf8-f5c09b4c4417",
   "metadata": {},
   "source": [
    "A business needs to purchase new delivery vehicle for a regular set of routes totaling 1,500 km per day. The are several options as given in the following table.\n",
    "\n",
    "| Vehicle | Range (km) | Fixed Cost (&euro;) | Operating Cost |\n",
    "| :-----: | :---: | ---: |\n",
    "| A | 200 | 40,000 |\n",
    "| B | 150 | 30,000 |\n",
    "| C | 400 | 50,000 |\n",
    "\n",
    "To reduce training costs, the business will choose only one type of vehicle. Which should it be?"
   ]
  },
  {
   "cell_type": "markdown",
   "id": "1664f76e-ac38-4214-9a4f-6b8bdde00831",
   "metadata": {},
   "source": [
    "Customers\n",
    "\n",
    "| Customer | Distance (RT) | Load |\n",
    "| 1 | 120 | 300 |\n",
    "| 2 | 80 | 120 |\n"
   ]
  },
  {
   "cell_type": "code",
   "execution_count": 58,
   "id": "3c1f6381-5fe2-48f5-afd6-cae315a8579c",
   "metadata": {},
   "outputs": [
    {
     "data": {
      "text/html": [
       "<div>\n",
       "<style scoped>\n",
       "    .dataframe tbody tr th:only-of-type {\n",
       "        vertical-align: middle;\n",
       "    }\n",
       "\n",
       "    .dataframe tbody tr th {\n",
       "        vertical-align: top;\n",
       "    }\n",
       "\n",
       "    .dataframe thead th {\n",
       "        text-align: right;\n",
       "    }\n",
       "</style>\n",
       "<table border=\"1\" class=\"dataframe\">\n",
       "  <thead>\n",
       "    <tr style=\"text-align: right;\">\n",
       "      <th></th>\n",
       "      <th>cost</th>\n",
       "      <th>range</th>\n",
       "    </tr>\n",
       "  </thead>\n",
       "  <tbody>\n",
       "    <tr>\n",
       "      <th>A</th>\n",
       "      <td>40000</td>\n",
       "      <td>200</td>\n",
       "    </tr>\n",
       "    <tr>\n",
       "      <th>B</th>\n",
       "      <td>30000</td>\n",
       "      <td>150</td>\n",
       "    </tr>\n",
       "    <tr>\n",
       "      <th>C</th>\n",
       "      <td>50000</td>\n",
       "      <td>250</td>\n",
       "    </tr>\n",
       "  </tbody>\n",
       "</table>\n",
       "</div>"
      ],
      "text/plain": [
       "    cost  range\n",
       "A  40000    200\n",
       "B  30000    150\n",
       "C  50000    250"
      ]
     },
     "metadata": {},
     "output_type": "display_data"
    }
   ],
   "source": [
    "import pandas as pd\n",
    "\n",
    "vehicles = pd.DataFrame({\n",
    "    \"A\": {\"cost\": 40000, \"range\": 200},\n",
    "    \"B\": {\"cost\": 30000, \"range\": 150},\n",
    "    \"C\": {\"cost\": 50000, \"range\": 250},\n",
    "}).T\n",
    "\n",
    "display(vehicles)"
   ]
  },
  {
   "cell_type": "markdown",
   "id": "d12cf8bc-2830-45d6-bbd9-ca01894c9a4c",
   "metadata": {},
   "source": [
    "This first attempt ceates a Disjunction."
   ]
  },
  {
   "cell_type": "code",
   "execution_count": 78,
   "id": "2f011a1a-b1b7-41e7-8db5-545be4599497",
   "metadata": {},
   "outputs": [
    {
     "name": "stdout",
     "output_type": "stream",
     "text": [
      "Purchase 6.0 vehicles at a cost 300000.0\n"
     ]
    }
   ],
   "source": [
    "import pyomo.environ as pyo\n",
    "import pyomo.gdp as gdp\n",
    "\n",
    "# model\n",
    "m = pyo.ConcreteModel()\n",
    "\n",
    "m.VEHICLES = pyo.Set(initialize=vehicles.index)\n",
    "m.purchase = pyo.Var(m.VEHICLES, domain=pyo.NonNegativeIntegers, bounds=(0, 20))\n",
    "\n",
    "@m.Objective(sense=pyo.minimize)\n",
    "def cost(m):\n",
    "    return sum(m.purchase[v]*vehicles.loc[v, \"cost\"] for v in m.VEHICLES)\n",
    "\n",
    "@m.Disjunction()\n",
    "def range_requirement(m):\n",
    "    return [[m.purchase[v]*vehicles.loc[v, \"range\"] >= 1500] for v in m.VEHICLES]\n",
    "\n",
    "# solve\n",
    "pyo.TransformationFactory('gdp.hull').apply_to(m)\n",
    "pyo.SolverFactory('glpk').solve(m)\n",
    "\n",
    "# display\n",
    "for v in m.VEHICLES:\n",
    "    if m.purchase[v]() > 0:\n",
    "        print(f\"Purchase {m.purchase[v]()} vehicles at a cost {m.cost()}\")"
   ]
  },
  {
   "cell_type": "markdown",
   "id": "49094673-e613-48c8-a31c-8fcca9e6e4e8",
   "metadata": {},
   "source": [
    "Create separate Disjuncts, then combine the Disjuncts with a Disjunction. The reason to do this is that each Disjunct is a separate model block."
   ]
  },
  {
   "cell_type": "code",
   "execution_count": 82,
   "id": "f3ff3392-b75f-4904-8b90-be6994c95939",
   "metadata": {},
   "outputs": [
    {
     "name": "stdout",
     "output_type": "stream",
     "text": [
      "Purchase 6.0 vehicles at a cost 300000.0\n"
     ]
    }
   ],
   "source": [
    "import pyomo.environ as pyo\n",
    "import pyomo.gdp as gdp\n",
    "\n",
    "# model\n",
    "m = pyo.ConcreteModel()\n",
    "\n",
    "m.VEHICLES = pyo.Set(initialize=vehicles.index)\n",
    "m.purchase = pyo.Var(m.VEHICLES, domain=pyo.NonNegativeIntegers, bounds=(0, 200))\n",
    "\n",
    "@m.Objective(sense=pyo.minimize)\n",
    "def cost(m):\n",
    "    return sum(m.purchase[v]*vehicles.loc[v, \"cost\"] for v in m.VEHICLES)\n",
    "\n",
    "@m.Disjunct(m.VEHICLES)\n",
    "def vehicle_range(b, v):\n",
    "    m = b.model()\n",
    "    b.charge\n",
    "    b.range = pyo.Constraint(expr=m.purchase[v]*vehicles.loc[v, \"range\"] >= 1500)\n",
    "    \n",
    "@m.Disjunction()\n",
    "def range(m):\n",
    "    return [m.vehicle_range[v] for v in m.VEHICLES]\n",
    "    \n",
    "# solve\n",
    "pyo.TransformationFactory('gdp.hull').apply_to(m)\n",
    "pyo.SolverFactory('glpk').solve(m)\n",
    "\n",
    "# display\n",
    "for v in m.VEHICLES:\n",
    "    if m.purchase[v]() > 0:\n",
    "        print(f\"Purchase {m.purchase[v]()} vehicles at a cost {m.cost()}\")"
   ]
  },
  {
   "cell_type": "markdown",
   "id": "dc2ff43b-4516-4829-8bfd-0fea99fe5fcc",
   "metadata": {},
   "source": [
    "# Trivial Example"
   ]
  },
  {
   "cell_type": "code",
   "execution_count": 81,
   "id": "7eb141a8-7aa0-4228-b1c4-3b1173919714",
   "metadata": {},
   "outputs": [
    {
     "name": "stdout",
     "output_type": "stream",
     "text": [
      "0.0 1.0 1.0\n"
     ]
    }
   ],
   "source": [
    "import pyomo.environ as pyo\n",
    "import pyomo.gdp as gdp\n",
    "\n",
    "m = pyo.ConcreteModel()\n",
    "\n",
    "m.x = pyo.Var(domain=pyo.Binary)\n",
    "m.y = pyo.Var(domain=pyo.Binary)\n",
    "m.z = pyo.Var(domain=pyo.Binary)\n",
    "\n",
    "@m.Objective(sense=pyo.maximize)\n",
    "def obj(m):\n",
    "    return m.x + m.y + m.z\n",
    "\n",
    "@m.Disjunction(xor=True)\n",
    "def conditions(m):\n",
    "    return [[m.y ==0, m.z==0], \n",
    "            [m.x ==0]]\n",
    "    \n",
    "pyo.TransformationFactory('gdp.bigm').apply_to(m)\n",
    "pyo.SolverFactory('glpk').solve(m)\n",
    "\n",
    "print(m.x.value, m.y.value, m.z.value)\n",
    "    "
   ]
  },
  {
   "cell_type": "markdown",
   "id": "96e82fb3-83b6-46d8-8970-1612016eea8c",
   "metadata": {},
   "source": [
    "## Logic\n",
    "\n",
    "\n"
   ]
  },
  {
   "cell_type": "code",
   "execution_count": 7,
   "id": "f351e9d2-ecf9-4530-bcb8-21c2f179d119",
   "metadata": {},
   "outputs": [
    {
     "name": "stdout",
     "output_type": "stream",
     "text": [
      "{'fish': {'price': 12.8, 'wine pair': ['white']}, 'ham': {'price': 13.9, 'wine pair': ['white', 'red']}, 'beef': {'price': 11.3, 'wine pair:': ['red']}}\n",
      "{'cabernet': {'type': 'red', 'price': 8.3}, 'sauvignon blanc': {'type': 'white', 'price': 7.3}, 'pinot grigio': {'type': 'white', 'price': 4.5}}\n",
      "{'red', 'white'}\n"
     ]
    }
   ],
   "source": [
    "import pyomo.environ as pyo\n",
    "import pyomo.gdp as gdp\n",
    "\n",
    "foods = {\n",
    "    \"fish\": {\"price\": 12.80, \"wine pair\": [\"white\"]},\n",
    "    \"ham\": {\"price\": 13.90, \"wine pair\": [\"white\", \"red\"]},\n",
    "    \"beef\": {\"price\": 11.30, \"wine pair:\": [\"red\"]},\n",
    "}\n",
    "\n",
    "wines = {\n",
    "    \"cabernet\": {\"type\": \"red\", \"price\": 8.30},\n",
    "    \"sauvignon blanc\": {\"type\": \"white\", \"price\": 7.30},\n",
    "    \"pinot grigio\": {\"type\": \"white\", \"price\": 4.50},\n",
    "}\n",
    "\n",
    "types = {wines[wine][\"type\"] for wine in wines.keys()}\n",
    "\n",
    "print(foods)\n",
    "print(wines)\n",
    "print(types)"
   ]
  },
  {
   "cell_type": "code",
   "execution_count": 17,
   "id": "13356bac-ca68-4d63-9b2b-ee908b2a5164",
   "metadata": {},
   "outputs": [
    {
     "name": "stdout",
     "output_type": "stream",
     "text": [
      "beef 2.0\n",
      "pinot grigio 1.0\n"
     ]
    }
   ],
   "source": [
    "m = pyo.ConcreteModel()\n",
    "\n",
    "m.FOODS = pyo.Set(initialize=foods.keys())\n",
    "m.WINES = pyo.Set(initialize=wines.keys())\n",
    "m.TYPES = pyo.Set(initialize=list({wines[wine][\"type\"] for wine in wines.keys()}))\n",
    "m.PAIRS = m.FOODS * m.WINES\n",
    "\n",
    "#m.Pairings = pyo.Param(m.PAIRS, \n",
    "#                initialize = [1 if wines[wine][\"type\"] in foods[food][\"wine pair\"] else 0 for food, wine in m.PAIRS])\n",
    "\n",
    "m.entre = pyo.Var(m.FOODS, domain=pyo.NonNegativeIntegers)\n",
    "m.wine = pyo.Var(m.WINES, domain=pyo.NonNegativeIntegers)\n",
    "\n",
    "m.meal_order = pyo.Constraint(expr=sum(m.entre[food] for food in m.FOODS) == 2)\n",
    "m.wine_order = pyo.Constraint(expr=sum(m.wine[wine] for wine in m.WINES) >= 1)\n",
    "\n",
    "m.cost = pyo.Objective(expr = sum(m.entre[food]*foods[food][\"price\"] for food in m.FOODS) +\n",
    "                              sum(m.wine[wine]*wines[wine][\"price\"] for wine in m.WINES))\n",
    "\n",
    "#@m.Disjunction()\n",
    "#def pairings(m):\n",
    "#    pass\n",
    "\n",
    "pyo.SolverFactory('glpk').solve(m)\n",
    "\n",
    "for food in m.FOODS:\n",
    "    if m.entre[food].value > 0:\n",
    "        print(food, m.entre[food].value)\n",
    "\n",
    "for wine in m.WINES:\n",
    "    if m.wine[wine].value > 0:\n",
    "        print(wine, m.wine[wine].value)"
   ]
  },
  {
   "cell_type": "markdown",
   "id": "ca0c48c8-cb39-44db-9781-30321e9e23a0",
   "metadata": {},
   "source": [
    "Five people were eating apples, A finished before B, but behind C. D finished before E, but behind B. What was the finishing order?"
   ]
  },
  {
   "cell_type": "code",
   "execution_count": 3,
   "id": "a2e5a4eb-3e8a-4e70-ab84-733631a12240",
   "metadata": {},
   "outputs": [
    {
     "name": "stdout",
     "output_type": "stream",
     "text": [
      "17.8 ms ± 178 µs per loop (mean ± std. dev. of 7 runs, 100 loops each)\n",
      "222 ms ± 8.91 ms per loop (mean ± std. dev. of 7 runs, 1 loop each)\n",
      "1.69 ms ± 52.5 µs per loop (mean ± std. dev. of 7 runs, 1000 loops each)\n",
      "1.65 ms ± 40.2 µs per loop (mean ± std. dev. of 7 runs, 1000 loops each)\n",
      "77.3 ms ± 6.78 ms per loop (mean ± std. dev. of 7 runs, 10 loops each)\n",
      "C\n",
      "A\n",
      "B\n",
      "D\n",
      "E\n"
     ]
    }
   ],
   "source": [
    "import pyomo.environ as pyo\n",
    "\n",
    "m = pyo.ConcreteModel()\n",
    "\n",
    "m.people = pyo.Set(initialize=[\"A\", \"B\", \"C\", \"D\", \"E\"])\n",
    "m.finish = pyo.Var(m.people, domain=pyo.NonNegativeIntegers)\n",
    "m.total = pyo.Var()\n",
    "\n",
    "m.total_def = pyo.Constraint(m.people, rule=lambda m, p: m.finish[p] <= m.total)\n",
    "\n",
    "m.obj = pyo.Objective(expr=m.total)\n",
    "\n",
    "m.order = pyo.ConstraintList()\n",
    "m.order.add(m.finish[\"A\"] + 1 <= m.finish[\"B\"])\n",
    "m.order.add(m.finish[\"C\"] + 1 <= m.finish[\"A\"])\n",
    "m.order.add(m.finish[\"D\"] + 1 <= m.finish[\"E\"])\n",
    "m.order.add(m.finish[\"B\"] + 1 <= m.finish[\"D\"])\n",
    "\n",
    "solver = pyo.SolverFactory('glpk')\n",
    "%timeit solver.solve(m)\n",
    "\n",
    "solver = pyo.SolverFactory('cbc')\n",
    "%timeit solver.solve(m)\n",
    "\n",
    "solver = pyo.SolverFactory('g')\n",
    "%timeit solver.solve(m)\n",
    "\n",
    "solver = pyo.SolverFactory('gurobi', solver_io=\"python\")\n",
    "%timeit solver.solve(m)\n",
    "\n",
    "solver = pyo.SolverFactory('gurobi', executable=\"/usr/local/bin/gurobi.sh\")\n",
    "%timeit solver.solve(m)\n",
    "\n",
    "soln = {p: m.finish[p]() for p in m.people}\n",
    "for p in sorted(soln, key=soln.get):\n",
    "    print(p)"
   ]
  },
  {
   "cell_type": "markdown",
   "id": "62c12a76-2895-4e8e-aa4e-c1a6b2841782",
   "metadata": {},
   "source": [
    "Five people were eating apples, A finished before B, but behind C. D finished before E, but behind B. What was the finishing order?"
   ]
  },
  {
   "cell_type": "code",
   "execution_count": null,
   "id": "8066b09e-87fd-4582-a0a2-69bb3fe3b071",
   "metadata": {},
   "outputs": [],
   "source": [
    "import pyomo.environ as pyo\n",
    "\n",
    "\n"
   ]
  },
  {
   "cell_type": "code",
   "execution_count": 7,
   "id": "50e800ef-6bbb-432f-8039-bef1c03d3a67",
   "metadata": {},
   "outputs": [
    {
     "name": "stdout",
     "output_type": "stream",
     "text": [
      "3 Set Declarations\n",
      "    PAIRS : Size=1, Index=None, Ordered=Insertion\n",
      "        Key  : Dimen : Domain : Size : Members\n",
      "        None :     2 :    Any :   10 : {('A', 'B'), ('A', 'C'), ('A', 'D'), ('A', 'E'), ('B', 'C'), ('B', 'D'), ('B', 'E'), ('C', 'D'), ('C', 'E'), ('D', 'E')}\n",
      "    PERSONS : Size=1, Index=None, Ordered=Insertion\n",
      "        Key  : Dimen : Domain : Size : Members\n",
      "        None :     1 :    Any :    5 : {'A', 'B', 'C', 'D', 'E'}\n",
      "    order_index : Size=1, Index=None, Ordered=True\n",
      "        Key  : Dimen : Domain      : Size : Members\n",
      "        None :     4 : PAIRS*PAIRS :  100 : {('A', 'B', 'A', 'B'), ('A', 'B', 'A', 'C'), ('A', 'B', 'A', 'D'), ('A', 'B', 'A', 'E'), ('A', 'B', 'B', 'C'), ('A', 'B', 'B', 'D'), ('A', 'B', 'B', 'E'), ('A', 'B', 'C', 'D'), ('A', 'B', 'C', 'E'), ('A', 'B', 'D', 'E'), ('A', 'C', 'A', 'B'), ('A', 'C', 'A', 'C'), ('A', 'C', 'A', 'D'), ('A', 'C', 'A', 'E'), ('A', 'C', 'B', 'C'), ('A', 'C', 'B', 'D'), ('A', 'C', 'B', 'E'), ('A', 'C', 'C', 'D'), ('A', 'C', 'C', 'E'), ('A', 'C', 'D', 'E'), ('A', 'D', 'A', 'B'), ('A', 'D', 'A', 'C'), ('A', 'D', 'A', 'D'), ('A', 'D', 'A', 'E'), ('A', 'D', 'B', 'C'), ('A', 'D', 'B', 'D'), ('A', 'D', 'B', 'E'), ('A', 'D', 'C', 'D'), ('A', 'D', 'C', 'E'), ('A', 'D', 'D', 'E'), ('A', 'E', 'A', 'B'), ('A', 'E', 'A', 'C'), ('A', 'E', 'A', 'D'), ('A', 'E', 'A', 'E'), ('A', 'E', 'B', 'C'), ('A', 'E', 'B', 'D'), ('A', 'E', 'B', 'E'), ('A', 'E', 'C', 'D'), ('A', 'E', 'C', 'E'), ('A', 'E', 'D', 'E'), ('B', 'C', 'A', 'B'), ('B', 'C', 'A', 'C'), ('B', 'C', 'A', 'D'), ('B', 'C', 'A', 'E'), ('B', 'C', 'B', 'C'), ('B', 'C', 'B', 'D'), ('B', 'C', 'B', 'E'), ('B', 'C', 'C', 'D'), ('B', 'C', 'C', 'E'), ('B', 'C', 'D', 'E'), ('B', 'D', 'A', 'B'), ('B', 'D', 'A', 'C'), ('B', 'D', 'A', 'D'), ('B', 'D', 'A', 'E'), ('B', 'D', 'B', 'C'), ('B', 'D', 'B', 'D'), ('B', 'D', 'B', 'E'), ('B', 'D', 'C', 'D'), ('B', 'D', 'C', 'E'), ('B', 'D', 'D', 'E'), ('B', 'E', 'A', 'B'), ('B', 'E', 'A', 'C'), ('B', 'E', 'A', 'D'), ('B', 'E', 'A', 'E'), ('B', 'E', 'B', 'C'), ('B', 'E', 'B', 'D'), ('B', 'E', 'B', 'E'), ('B', 'E', 'C', 'D'), ('B', 'E', 'C', 'E'), ('B', 'E', 'D', 'E'), ('C', 'D', 'A', 'B'), ('C', 'D', 'A', 'C'), ('C', 'D', 'A', 'D'), ('C', 'D', 'A', 'E'), ('C', 'D', 'B', 'C'), ('C', 'D', 'B', 'D'), ('C', 'D', 'B', 'E'), ('C', 'D', 'C', 'D'), ('C', 'D', 'C', 'E'), ('C', 'D', 'D', 'E'), ('C', 'E', 'A', 'B'), ('C', 'E', 'A', 'C'), ('C', 'E', 'A', 'D'), ('C', 'E', 'A', 'E'), ('C', 'E', 'B', 'C'), ('C', 'E', 'B', 'D'), ('C', 'E', 'B', 'E'), ('C', 'E', 'C', 'D'), ('C', 'E', 'C', 'E'), ('C', 'E', 'D', 'E'), ('D', 'E', 'A', 'B'), ('D', 'E', 'A', 'C'), ('D', 'E', 'A', 'D'), ('D', 'E', 'A', 'E'), ('D', 'E', 'B', 'C'), ('D', 'E', 'B', 'D'), ('D', 'E', 'B', 'E'), ('D', 'E', 'C', 'D'), ('D', 'E', 'C', 'E'), ('D', 'E', 'D', 'E')}\n",
      "\n",
      "1 Objective Declarations\n",
      "    obj : Size=1, Index=None, Active=True\n",
      "        Key  : Active : Sense    : Expression\n",
      "        None :   True : minimize :        0.0\n",
      "\n",
      "1 BooleanVar Declarations\n",
      "    y : Size=10, Index=PAIRS\n",
      "        Key        : Value : Fixed : Stale\n",
      "        ('A', 'B') :  True :  True :  True\n",
      "        ('A', 'C') : False :  True :  True\n",
      "        ('A', 'D') :  None : False :  True\n",
      "        ('A', 'E') :  None : False :  True\n",
      "        ('B', 'C') :  None : False :  True\n",
      "        ('B', 'D') : False :  True :  True\n",
      "        ('B', 'E') :  None : False :  True\n",
      "        ('C', 'D') :  None : False :  True\n",
      "        ('C', 'E') :  None : False :  True\n",
      "        ('D', 'E') :  True :  True :  True\n",
      "\n",
      "1 LogicalConstraint Declarations\n",
      "    order : Size=10, Index=order_index, Active=True\n",
      "        Key                  : Body                       : Active\n",
      "        ('A', 'B', 'B', 'C') : y[A,B] ∧ y[B,C] --> y[A,C] :   True\n",
      "        ('A', 'B', 'B', 'D') : y[A,B] ∧ y[B,D] --> y[A,D] :   True\n",
      "        ('A', 'B', 'B', 'E') : y[A,B] ∧ y[B,E] --> y[A,E] :   True\n",
      "        ('A', 'C', 'C', 'D') : y[A,C] ∧ y[C,D] --> y[A,D] :   True\n",
      "        ('A', 'C', 'C', 'E') : y[A,C] ∧ y[C,E] --> y[A,E] :   True\n",
      "        ('A', 'D', 'D', 'E') : y[A,D] ∧ y[D,E] --> y[A,E] :   True\n",
      "        ('B', 'C', 'C', 'D') : y[B,C] ∧ y[C,D] --> y[B,D] :   True\n",
      "        ('B', 'C', 'C', 'E') : y[B,C] ∧ y[C,E] --> y[B,E] :   True\n",
      "        ('B', 'D', 'D', 'E') : y[B,D] ∧ y[D,E] --> y[B,E] :   True\n",
      "        ('C', 'D', 'D', 'E') : y[C,D] ∧ y[D,E] --> y[C,E] :   True\n",
      "\n",
      "6 Declarations: PERSONS PAIRS y order_index order obj\n",
      "WARNING: Constant objective detected, replacing with a placeholder to prevent\n",
      "    solver failure.\n",
      "A B True\n",
      "A C False\n",
      "A D None\n",
      "A E None\n",
      "B C None\n",
      "B D False\n",
      "B E None\n",
      "C D None\n",
      "C E None\n",
      "D E True\n"
     ]
    }
   ],
   "source": [
    "import pyomo.environ as pyo\n",
    "import pyomo.gdp as gdp\n",
    "\n",
    "m = pyo.ConcreteModel(name=\"Puzzle\")\n",
    "\n",
    "people = [\"A\", \"B\", \"C\", \"D\", \"E\"]\n",
    "pairs = [(a, b) for a in people for b in people if a < b]\n",
    "\n",
    "m.PERSONS = pyo.Set(initialize=people)\n",
    "m.PAIRS = pyo.Set(initialize=pairs)\n",
    "\n",
    "m.y = pyo.BooleanVar(m.PAIRS)\n",
    "\n",
    "@m.LogicalConstraint(m.PAIRS, m.PAIRS)\n",
    "def order(m, p, q, u, v):\n",
    "    if q == u:\n",
    "        return pyo.implies(pyo.land(m.y[p, q], m.y[q, v]), m.y[p, v])\n",
    "    else:\n",
    "        return pyo.Constraint.Skip\n",
    "\n",
    "m.obj = pyo.Objective(expr = 0)\n",
    "\n",
    "m.y[(\"A\", \"B\")].fix(True)\n",
    "m.y[(\"A\", \"C\")].fix(False)\n",
    "m.y[(\"D\", \"E\")].fix(True)\n",
    "m.y[(\"B\", \"D\")].fix(False)\n",
    "\n",
    "m.pprint()\n",
    "\n",
    "pyo.TransformationFactory('gdp.hull').apply_to(m)\n",
    "pyo.SolverFactory('glpk').solve(m)\n",
    "\n",
    "for p, q in m.PAIRS:\n",
    "    print(p, q, m.y[p, q]())"
   ]
  },
  {
   "cell_type": "code",
   "execution_count": 16,
   "id": "9ca6175a-5c6b-450e-a9c7-79ddca123339",
   "metadata": {},
   "outputs": [
    {
     "data": {
      "text/plain": [
       "<pyomo.core.base.set.OrderedScalarSet at 0x7fb802c8e820>"
      ]
     },
     "execution_count": 16,
     "metadata": {},
     "output_type": "execute_result"
    }
   ],
   "source": [
    "m.people"
   ]
  },
  {
   "cell_type": "code",
   "execution_count": 23,
   "id": "11d215ee-d021-43e3-ad29-58dcc72d7579",
   "metadata": {},
   "outputs": [],
   "source": [
    "people = [\"A\", \"B\", \"C\", \"D\", \"E\"]\n",
    "\n",
    "pairs = [(a, b) for a in people for b in people if a < b]"
   ]
  },
  {
   "cell_type": "code",
   "execution_count": null,
   "id": "ee0c5ed0-42b3-4ce5-bb46-0fe04d2673b0",
   "metadata": {},
   "outputs": [],
   "source": []
  }
 ],
 "metadata": {
  "kernelspec": {
   "display_name": "Python 3 (ipykernel)",
   "language": "python",
   "name": "python3"
  },
  "language_info": {
   "codemirror_mode": {
    "name": "ipython",
    "version": 3
   },
   "file_extension": ".py",
   "mimetype": "text/x-python",
   "name": "python",
   "nbconvert_exporter": "python",
   "pygments_lexer": "ipython3",
   "version": "3.9.7"
  }
 },
 "nbformat": 4,
 "nbformat_minor": 5
}
