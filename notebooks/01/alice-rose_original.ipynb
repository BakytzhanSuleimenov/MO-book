{
 "cells": [
  {
   "cell_type": "markdown",
   "metadata": {
    "id": "EiLWP-Y8yau3"
   },
   "source": [
    "# Alice's Rose"
   ]
  },
  {
   "cell_type": "markdown",
   "metadata": {
    "id": "MOJWot9KyavK"
   },
   "source": [
    "## Dependencies\n",
    "\n",
    "The `import` statement is special... it imports programmer's wisdom!\n",
    "The common usage is to acquire access to python packages."
   ]
  },
  {
   "cell_type": "code",
   "execution_count": 3,
   "metadata": {
    "id": "leT9mk_AyavL"
   },
   "outputs": [],
   "source": [
    "import sympy\n",
    "import math"
   ]
  },
  {
   "cell_type": "markdown",
   "metadata": {
    "id": "bQVtF0kTHAqb"
   },
   "source": [
    "## A Romantic Introduction to Matematical Optimization and to Python\n",
    "\n",
    "Note: this story was originally told in the book [Optimization](https://press.princeton.edu/books/hardcover/9780691102870/optimization) and the protagonist there is called Samantha, but we stick to the alphabetical order...\n",
    "\n",
    "As the story goes, Alice receives a beautiful rose. She has nothing but a lemonade glass to hold the rose and becomes very distressed when the ensemble falls down. \n",
    "\n",
    "Adding a bit of water helps! Not only that helps the rose, but it also helps the stability: glass, with some water, and rose stands!\n",
    "\n",
    "Alice thinks: if a bit of water helps, the let us fill the glass! \n",
    "\n",
    "However, it tilts and falls, as in the beginning, just much more wet. \n",
    "\n",
    "Alice has a problem to solve: what is the _optimal_ level of water for her rose on a lemonade glass?\n",
    "\n",
    "She learns from [Archimedes]( https://en.wikipedia.org/wiki/Archimedes) how to compute the _center of gravity_ of the glass with water, which has height\n",
    "$h = \\frac{m_w}{m_w+m_g} h_w + \\frac{m_g}{m_w+m_g} h_g$ with:\n",
    "\n",
    "* $m_w$ the mass of water \n",
    "* $m_g$ the mass of glass\n",
    "* $h_w$ the height of the center of gravity of the water in the glass\n",
    "* $h_g$ the height of the center of gravity of the glass without water \n",
    "\n",
    "Since Alice's glass is $20$ cm tall, $4$ cm wide and weighs $100$ gram, Alice may fill the glass with water up to height $x$ cm, provided that $0 \\leq x \\leq 20$ since the water must fit in the glass.\n",
    "\n",
    "The volume of water is $\\pi r^2 x$ with $r$ the radius of the base, i.e. $r=2$. \n",
    "The volume is therefore $4\\pi x$ cubic centimetres. \n",
    "\n",
    "Since the density of water can be [taken](https://en.wikipedia.org/wiki/Gram_per_cubic_centimetre) as being $1$ gram per cubic centimeter we have:\n",
    "\n",
    "* $m_w = 4\\pi x$\n",
    "* $m_g = 100$\n",
    "* $h_w = \\frac{x}{2}$\n",
    "* $h_g = \\frac{20}{2} = 10$ \n",
    "\n",
    "And from here we finally obtain the following formula for the height of the center of gravity of the glass with water:\n",
    "\n",
    "$$\n",
    "h = \\frac{4\\pi x}{4\\pi x + 100} \\frac{x}{2} + \\frac{100}{4\\pi x + 100} 10 = \\frac{4\\pi x^2 + 2000}{8\\pi x + 200}\n",
    "$$\n",
    "\n",
    "Alice's problem is therefore:\n",
    "\n",
    "$$\n",
    "\\begin{array}{rl}\n",
    "\\min    & \\frac{4\\pi x^2 + 2000}{8\\pi x + 200}  \\\\\n",
    "s.t.    & x \\geq 0   \\\\\n",
    "        & x \\leq 20  \\\\\n",
    "\\end{array}\n",
    "$$"
   ]
  },
  {
   "cell_type": "markdown",
   "metadata": {
    "id": "xpGwXzWcyavQ"
   },
   "source": [
    "## Analytical solution\n",
    "\n",
    "Alice learns from [Fermat]( https://en.wikipedia.org/wiki/Pierre_de_Fermat) that for a function to reach its highest and lowest points inside its domain the derivative must vanish. \n",
    "\n",
    "This is a good moment to play with symbolic mathematics in python, we will use [sympy](https://www.sympy.org/en/index.html)."
   ]
  },
  {
   "cell_type": "markdown",
   "metadata": {
    "id": "qT8FFt_myavR"
   },
   "source": [
    "### With $\\pi$ as a number"
   ]
  },
  {
   "cell_type": "code",
   "execution_count": 4,
   "metadata": {
    "colab": {
     "base_uri": "https://localhost:8080/",
     "height": 37
    },
    "id": "RdylbEWhyavT",
    "outputId": "afddb7f5-26d8-4ac6-81d7-b37bc4afa707"
   },
   "outputs": [
    {
     "data": {
      "text/latex": [
       "$\\displaystyle \\left\\{-22.8735335189926, -7.95774715459477, 6.95803920980307\\right\\}$"
      ],
      "text/plain": [
       "{-22.8735335189926, -7.95774715459477, 6.95803920980307}"
      ]
     },
     "execution_count": 4,
     "metadata": {},
     "output_type": "execute_result"
    }
   ],
   "source": [
    "# x is a symbol and pi is a number\n",
    "x = sympy.Symbol('x')\n",
    "pi = math.pi\n",
    "\n",
    "# h is a function of x, and hprime its derivative \n",
    "h = (4*pi*x**2 + 2000)/(8*pi*x+200)\n",
    "hprime = sympy.diff(h, x)\n",
    "\n",
    "# sol is(are) the value(s) of x that solve hprime(x) == 0\n",
    "sol = sympy.solveset(hprime, x)\n",
    "sol"
   ]
  },
  {
   "cell_type": "markdown",
   "metadata": {
    "id": "ZmscpICaRwwy"
   },
   "source": [
    "Above we see that the equation $h^\\prime(x) = 0$ has two solutions: one negative and one positive. \n",
    "Obviously, only the positive may be feasible for Alice. \n",
    "And, since its value is between $0$ and $20$, it is indeed feasible. \n",
    "\n",
    "You may recall that the sign of the second derivative tells you whether the root of the first derivative is a *maximum*, a *minimum* or a *saddle point*."
   ]
  },
  {
   "cell_type": "code",
   "execution_count": 5,
   "metadata": {
    "colab": {
     "base_uri": "https://localhost:8080/",
     "height": 37
    },
    "id": "GpckqHGpSS6R",
    "outputId": "3e005a92-027e-4f22-fe45-5b752c2197f1"
   },
   "outputs": [
    {
     "data": {
      "text/latex": [
       "$\\displaystyle 0.0670430626699561$"
      ],
      "text/plain": [
       "0.0670430626699561"
      ]
     },
     "execution_count": 5,
     "metadata": {},
     "output_type": "execute_result"
    }
   ],
   "source": [
    "opt = max(sol)\n",
    "sympy.diff(hprime, x).subs(x,opt).evalf()"
   ]
  },
  {
   "cell_type": "markdown",
   "metadata": {
    "id": "M8_Y742RTqy0"
   },
   "source": [
    "Since $h^{\\prime\\prime}(\\text{opt}) > 0$ it is indeed a (local) **minimum**."
   ]
  },
  {
   "cell_type": "markdown",
   "metadata": {
    "id": "tp_3g1Lvyave"
   },
   "source": [
    "### With $\\pi$ as a symbol"
   ]
  },
  {
   "cell_type": "code",
   "execution_count": 6,
   "metadata": {
    "colab": {
     "base_uri": "https://localhost:8080/",
     "height": 68
    },
    "id": "0VJ6-cDNyavg",
    "outputId": "788c3068-7470-46a6-9374-6333c63f0130"
   },
   "outputs": [
    {
     "data": {
      "text/latex": [
       "$\\displaystyle \\left\\{\\frac{- 5 \\sqrt{5} \\sqrt{4 \\pi + 5} - 25}{\\pi}, \\frac{5 \\sqrt{5} \\sqrt{4 \\pi + 5} - 25}{\\pi}\\right\\}$"
      ],
      "text/plain": [
       "{(-5*sqrt(5)*sqrt(4*pi + 5) - 25)/pi, (5*sqrt(5)*sqrt(4*pi + 5) - 25)/pi}"
      ]
     },
     "execution_count": 6,
     "metadata": {},
     "output_type": "execute_result"
    }
   ],
   "source": [
    "# now pi is a symbol, just like x\n",
    "pi = sympy.Symbol('pi')\n",
    "\n",
    "# we redefine h using the same right-hand-side code as before, \n",
    "# but now with x and pi as symbols\n",
    "h = (4*pi*x**2 + 2000)/(8*pi*x + 200)\n",
    "\n",
    "# to have the drivative on the symbol pi we need it from the new version of h\n",
    "hprime = sympy.diff(h, x)\n",
    "\n",
    "solution = sympy.solveset(sympy.diff(h, x), x )\n",
    "solution"
   ]
  },
  {
   "cell_type": "markdown",
   "metadata": {
    "id": "djJCX5ybyavt"
   },
   "source": [
    "### From a symbolic $\\pi$ to a numeric $\\pi$"
   ]
  },
  {
   "cell_type": "code",
   "execution_count": 7,
   "metadata": {
    "colab": {
     "base_uri": "https://localhost:8080/",
     "height": 65
    },
    "id": "ltdu9DYYyavu",
    "outputId": "8a7ffc1a-53c1-4ac6-b5d7-e522252f7cae"
   },
   "outputs": [
    {
     "name": "stdout",
     "output_type": "stream",
     "text": [
      "6.95803920980307\n"
     ]
    }
   ],
   "source": [
    "s = max(solution.subs(pi, math.pi).evalf())\n",
    "print(s)"
   ]
  },
  {
   "cell_type": "markdown",
   "metadata": {
    "id": "7suf1EW_yav1"
   },
   "source": [
    "### A picture says more than thousand words"
   ]
  },
  {
   "cell_type": "code",
   "execution_count": 8,
   "metadata": {
    "id": "EtJnFA6Dyav2"
   },
   "outputs": [],
   "source": [
    "import matplotlib.pyplot as plt\n",
    "import numpy as np\n",
    "    \n",
    "def plot_alice(h, s, start, stop, width=18, height=8):\n",
    "\n",
    "    plt.rcParams[\"figure.figsize\"] = (18,8)\n",
    "\n",
    "    x = sympy.Symbol('x')\n",
    "    f = sympy.lambdify(x, h.subs( pi, math.pi))\n",
    "\n",
    "    x = np.linspace(start=start,stop=stop,num=100) \n",
    "    y = f(x)\n",
    "\n",
    "    plt.plot(x,y,label='$'+sympy.latex(h)+'$',linewidth=3)\n",
    "    plt.plot(s,f(s), 'ro', label='optimum', markersize=12)\n",
    "\n",
    "    plt.legend()\n",
    "    plt.show() "
   ]
  },
  {
   "cell_type": "code",
   "execution_count": 9,
   "metadata": {
    "colab": {
     "base_uri": "https://localhost:8080/",
     "height": 483
    },
    "id": "nKbcr-4Xyav6",
    "outputId": "64e9c8e6-2a79-475b-ace0-9077bd80c80f"
   },
   "outputs": [
    {
     "data": {
      "image/png": "[encoded data removed]",
      "text/plain": [
       "<Figure size 1296x576 with 1 Axes>"
      ]
     },
     "metadata": {
      "needs_background": "light"
     },
     "output_type": "display_data"
    }
   ],
   "source": [
    "plot_alice( h, s, 0, 20 )"
   ]
  },
  {
   "cell_type": "markdown",
   "metadata": {
    "id": "ZEI3EKoMyawB"
   },
   "source": [
    "## What if we only care about the numerical solution?"
   ]
  },
  {
   "cell_type": "markdown",
   "metadata": {
    "id": "ZEI3EKoMyawB"
   },
   "source": [
    "### Introducing `pyomo`\n",
    "\n",
    "This is the moment to meet:\n",
    " * mathematical models expressed in `python`, using `pyomo`,\n",
    " * powerful numerical optimization algorithms and how to use them. \n",
    "\n",
    "We will see that `pyomo` completely separates modeling from solving, which allows us to switch solver without recoding! "
   ]
  },
  {
   "cell_type": "markdown",
   "metadata": {
    "id": "ZEI3EKoMyawB"
   },
   "source": [
    "### Notebook dependencies requiring installation on `colab`\n",
    "\n",
    "Note that [this notebook](https://nbviewer.jupyter.org/github/jckantor/ND-Pyomo-Cookbook/blob/master/notebooks/01.02-Running-Pyomo-on-Google-Colab.ipynb) explains how to run `Pyomo` on Google Colab. \n",
    "For a complete overview please check the [cookbook](https://jckantor.github.io/ND-Pyomo-Cookbook/)."
   ]
  },
  {
   "cell_type": "code",
   "execution_count": 10,
   "metadata": {
    "colab": {
     "base_uri": "https://localhost:8080/"
    },
    "id": "iU21fEfp0uMh",
    "outputId": "a7d2c19c-673d-483d-f0a4-8a07a37fca3c"
   },
   "outputs": [],
   "source": [
    "import shutil\n",
    "if not shutil.which('pyomo'):\n",
    "    !pip install -q pyomo\n",
    "    assert(shutil.which('pyomo'))"
   ]
  },
  {
   "cell_type": "code",
   "execution_count": 11,
   "metadata": {
    "colab": {
     "base_uri": "https://localhost:8080/"
    },
    "id": "slUMa7NIyawD",
    "outputId": "04f0ca69-82f9-47b0-9f01-d8c27829c8a8"
   },
   "outputs": [
    {
     "name": "stdout",
     "output_type": "stream",
     "text": [
      "1 Var Declarations\n",
      "    h : Size=1, Index=None\n",
      "        Key  : Lower : Value : Upper : Fixed : Stale : Domain\n",
      "        None :     0 :  None :    20 : False :  True :  Reals\n",
      "\n",
      "1 Objective Declarations\n",
      "    cog : Size=1, Index=None, Active=True\n",
      "        Key  : Active : Sense    : Expression\n",
      "        None :   True : minimize : (12.566370614359172*h**2 + 2000)/(25.132741228718345*h + 200)\n",
      "\n",
      "2 Declarations: h cog\n"
     ]
    }
   ],
   "source": [
    "import pyomo.environ as pyo\n",
    "\n",
    "alice = pyo.ConcreteModel('Alice')\n",
    "alice.h = pyo.Var(bounds=(0,20))\n",
    "\n",
    "@alice.Objective(sense=pyo.minimize)\n",
    "def cog(m):\n",
    "    return (4*math.pi*alice.h**2 + 2000)/(8*math.pi*alice.h + 200)\n",
    "\n",
    "alice.pprint()"
   ]
  },
  {
   "cell_type": "markdown",
   "metadata": {
    "id": "gOUsETqbX4J3"
   },
   "source": [
    "We will use `ipopt`. We refer again to [this notebook](https://nbviewer.jupyter.org/github/jckantor/ND-Pyomo-Cookbook/blob/master/notebooks/01.02-Running-Pyomo-on-Google-Colab.ipynb) explains how to run `Pyomo` **and how to install solvers** on Google Colab. For a complete overview please check the [cookbook](https://jckantor.github.io/ND-Pyomo-Cookbook/)."
   ]
  },
  {
   "cell_type": "code",
   "execution_count": 12,
   "metadata": {
    "id": "KYVln9xuRQm1"
   },
   "outputs": [],
   "source": [
    "import sys\n",
    "if 'google.colab' in sys.modules:\n",
    "    !wget -N -q 'https://ampl.com/dl/open/ipopt/ipopt-linux64.zip'\n",
    "    !unzip -o -q ipopt-linux64"
   ]
  },
  {
   "cell_type": "code",
   "execution_count": 13,
   "metadata": {
    "colab": {
     "base_uri": "https://localhost:8080/"
    },
    "id": "MnIEZZ7Ryawy",
    "outputId": "9103d60d-c7da-4b31-dc41-38869d60b75a"
   },
   "outputs": [
    {
     "name": "stdout",
     "output_type": "stream",
     "text": [
      "ok optimal\n",
      "Model Alice\n",
      "\n",
      "  Variables:\n",
      "    h : Size=1, Index=None\n",
      "        Key  : Lower : Value            : Upper : Fixed : Stale : Domain\n",
      "        None :     0 : 6.95803921230998 :    20 : False : False :  Reals\n",
      "\n",
      "  Objectives:\n",
      "    cog : Size=1, Index=None, Active=True\n",
      "        Key  : Active : Value\n",
      "        None :   True : 6.95803920980307\n",
      "\n",
      "  Constraints:\n",
      "    None\n"
     ]
    }
   ],
   "source": [
    "results = pyo.SolverFactory('ipopt').solve(alice)\n",
    "print(results.solver.status, results.solver.termination_condition )\n",
    "alice.display()"
   ]
  },
  {
   "cell_type": "markdown",
   "metadata": {
    "id": "fyMVJjGYHiG6"
   },
   "source": [
    "## Conclusion\n",
    "\n",
    "This notebook shows how to solve Alice's problem: finding the most stable amount of water in a vase. \n",
    "\n",
    "The notebook shows how to solve the problem analytically with `sympy`, how to use `matplotlib` to visualize the function and the optimum. And how to model Alice's problem on `pyomo` and solve it with `ipopt` both at [neos](https://neos-server.org/neos/solvers/index.html) and \"locally\" at your own Colab session.\n"
   ]
  },
  {
   "cell_type": "markdown",
   "metadata": {
    "id": "NoUiOWm_Ygzm"
   },
   "source": [
    "## Last remarks\n",
    "\n",
    "This notebook deferred installation of the packages needed to the moment that we needed them. This was deliberate, but subsequent notebooks will normally list all dependencies on their top part, which we often call the _preamble_. Furthermore, the `colab' dependencies will be streamlined in future notebooks. "
   ]
  },
  {
   "cell_type": "code",
   "execution_count": null,
   "metadata": {},
   "outputs": [],
   "source": []
  }
 ],
 "metadata": {
  "colab": {
   "collapsed_sections": [],
   "name": "DSE-5.1 2021 - Alice's rose.ipynb",
   "provenance": []
  },
  "kernelspec": {
   "display_name": "Python 3 (ipykernel)",
   "language": "python",
   "name": "python3"
  },
  "language_info": {
   "codemirror_mode": {
    "name": "ipython",
    "version": 3
   },
   "file_extension": ".py",
   "mimetype": "text/x-python",
   "name": "python",
   "nbconvert_exporter": "python",
   "pygments_lexer": "ipython3",
   "version": "3.10.6"
  }
 },
 "nbformat": 4,
 "nbformat_minor": 4
}
