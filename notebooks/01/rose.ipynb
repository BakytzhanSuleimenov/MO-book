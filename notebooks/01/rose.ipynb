{
 "cells": [
  {
   "cell_type": "markdown",
   "metadata": {
    "id": "EiLWP-Y8yau3"
   },
   "source": [
    "# A first example: enough water for a rose\n",
    "\n",
    "In this notebook we consider a simple problem to compare how a simple problem can be approached both analytically (using calculus) and numerically (using mathematical optimization). In this course we will be mostly concerned about the second approach, having to deal with high-dimensional and complex problems for which analytical solutions are beyond reach."
   ]
  },
  {
   "cell_type": "code",
   "execution_count": 1,
   "metadata": {
    "execution": {
     "iopub.execute_input": "2023-01-04T15:21:47.021614Z",
     "iopub.status.busy": "2023-01-04T15:21:47.020551Z",
     "iopub.status.idle": "2023-01-04T15:21:47.220722Z",
     "shell.execute_reply": "2023-01-04T15:21:47.219838Z",
     "shell.execute_reply.started": "2023-01-04T15:21:47.021562Z"
    }
   },
   "outputs": [
    {
     "name": "stdout",
     "output_type": "stream",
     "text": [
      "pyomo was previously installed\n",
      "ipopt was previously installed\n"
     ]
    },
    {
     "data": {
      "text/plain": [
       "True"
      ]
     },
     "execution_count": 1,
     "metadata": {},
     "output_type": "execute_result"
    }
   ],
   "source": [
    "# install Pyomo and solvers\n",
    "import requests\n",
    "import types\n",
    "\n",
    "url = \"https://raw.githubusercontent.com/mobook/MO-book/main/python/helper.py\"\n",
    "helper = types.ModuleType(\"helper\")\n",
    "exec(requests.get(url).content, helper.__dict__)\n",
    "\n",
    "helper.install_pyomo()\n",
    "helper.install_ipopt()"
   ]
  },
  {
   "cell_type": "markdown",
   "metadata": {
    "id": "bQVtF0kTHAqb"
   },
   "source": [
    "## Problem description\n",
    "\n",
    "Suppose you have a single long-stemmed rose, but at home, there is only a glass of cylindrical shape to put it in. When you place the rose in the glass, it tumbles but you realize that adding water will help to keep the rose more stable. How much water should you add? Intuitively one would say fill up the glass, but that makes it just as unstable as it was in the beginning. There should be an ideal level of water that makes the glass with the rose the most stable. We know that the stability of an object is closely related to the height of its center of gravity, so we will analyze this quantity depending on the water level.\n",
    "\n",
    "The empty glass has a diameter of $4$ (cm), height $20$ (cm), and mass $m_g=100$ (gr) and, ignoring the mass at its bottom, the height $h_g$ (in cm) of the center of gravity of the glass is at half of its total height, thus $h_g=10$. By homogeneity, a body of water that reaches height $x$ (in cm) when poured into the glass will have its center of gravity at height $h_w(x) = x/2$ and a total mass $m_w(x) = \\pi r^2 h_w(x) = 4 \\pi h_w(x)$ (in gr), where we used the fact that $1$ cubic cm of water weights $1$ gr.\n",
    "\n",
    "The height $h(x)$ of the center of mass of the system glass-and-water does depend on the water level $x$ and can be determined using the equation\n",
    "\n",
    "$$\n",
    "        m_g h_g+ m_w(x) h_w(x) = (m_g+m_w(x)) h(x).\n",
    "$$\n",
    "\n",
    "Solving for $h(x)$ we obtain\n",
    "\n",
    "$$\n",
    "        h(x)=\\frac{\\pi  x^2+500}{2 \\pi  x+50},\n",
    "$$\n",
    "\n",
    "which is plotted below as a function of $x$."
   ]
  },
  {
   "cell_type": "markdown",
   "metadata": {},
   "source": [
    "![hfunction_plot.png](/hfunction_plot.png)"
   ]
  },
  {
   "cell_type": "markdown",
   "metadata": {},
   "source": [
    "![hfunction_plot.png](https://github.com/mobook/MO-book/blob/main/notebooks/01/hfunction_plot.png)"
   ]
  },
  {
   "cell_type": "markdown",
   "metadata": {
    "execution": {
     "iopub.execute_input": "2023-01-04T15:18:34.906225Z",
     "iopub.status.busy": "2023-01-04T15:18:34.905750Z",
     "iopub.status.idle": "2023-01-04T15:18:35.037491Z",
     "shell.execute_reply": "2023-01-04T15:18:35.035492Z",
     "shell.execute_reply.started": "2023-01-04T15:18:34.906179Z"
    }
   },
   "source": [
    "![hfunction_plot.pdf](/hfunction_plot.pdf)"
   ]
  },
  {
   "cell_type": "markdown",
   "metadata": {
    "execution": {
     "iopub.execute_input": "2023-01-04T15:18:09.316903Z",
     "iopub.status.busy": "2023-01-04T15:18:09.316170Z",
     "iopub.status.idle": "2023-01-04T15:18:09.451408Z",
     "shell.execute_reply": "2023-01-04T15:18:09.450183Z",
     "shell.execute_reply.started": "2023-01-04T15:18:09.316860Z"
    },
    "tags": []
   },
   "source": [
    "![hfunction_plot.pdf](https://github.com/mobook/MO-book/blob/main/notebooks/01/hfunction_plot.pdf?raw=1)"
   ]
  },
  {
   "cell_type": "markdown",
   "metadata": {
    "execution": {
     "iopub.execute_input": "2023-01-04T15:10:23.481323Z",
     "iopub.status.busy": "2023-01-04T15:10:23.480945Z",
     "iopub.status.idle": "2023-01-04T15:10:23.494069Z",
     "shell.execute_reply": "2023-01-04T15:10:23.492700Z",
     "shell.execute_reply.started": "2023-01-04T15:10:23.481295Z"
    }
   },
   "source": [
    "As we can infer from the plot there is an optimum height $x^*$ of the water that brings the center of gravity as low as possible. We can find it by solving the following **constrained minimization problem**,\n",
    "\n",
    "\\begin{align*}\n",
    "    \\min \\quad & h(x) \\\\\n",
    "    \\text{s.t.} \\quad & 0 \\leq x \\leq 20,\n",
    "\\end{align*}\n",
    "\n",
    "where the **objective function** is the height $h(x)$ and we added a **constraint** $0 \\leq x \\leq 20$ since the water level is nonnegative and cannot exceed the glass height."
   ]
  },
  {
   "cell_type": "markdown",
   "metadata": {
    "id": "xpGwXzWcyavQ"
   },
   "source": [
    "## Analytical solution using sympy and math packages\n",
    "\n",
    "Using standard calculus techniques, we can search *analytically* for such a minimum by finding the zero(s) of the first derivative of the function $h(x)$, i.e. by solving\n",
    "\n",
    "$$\n",
    "        h'(x) = \\frac{\\pi  \\left(\\pi  x^2+50 x-500\\right)}{2 (\\pi  x+25)^2} = 0.\n",
    "$$\n",
    "\n",
    "Of the two solutions obtained by solving the quadratic equation at the numerator, only one lies in the interval $[0,20]$ as desired, namely\n",
    "\n",
    "$$\n",
    "        x^*= \\frac{5 \\sqrt{25 + 20 \\pi}-25}{\\pi } \\approx 6.958,\n",
    "$$\n",
    "\n",
    "hence just above one-third of the glass height, that is $20/3 \\approx 6.667$. Inspecting the value of the second derivative of $h(x)$ at the point $x^*$ reveals that $h''(x^*)>0$, confirming that $x^*$ is indeed a minimum. The water level $x^* \\approx 6.958$ is, using knowledge of physics, the one likely to make the glass most stable.Using standard calculus techniques, we can search *analytically* for such a minimum by finding the zero(s) of the first derivative of the function $h(x)$, i.e. by solving\n",
    "\n",
    "$$\n",
    "        h'(x) = \\frac{\\pi  \\left(\\pi  x^2+50 x-500\\right)}{2 (\\pi  x+25)^2} = 0.\n",
    "$$\n",
    "\n",
    "Of the two solutions obtained by solving the quadratic equation at the numerator, only one lies in the interval $[0,20]$ as desired, namely\n",
    "\n",
    "$$\n",
    "        x^*= \\frac{5 \\sqrt{25 + 20 \\pi}-25}{\\pi } \\approx 6.958,\n",
    "$$\n",
    "\n",
    "hence just above one-third of the glass height, that is $20/3 \\approx 6.667$. Inspecting the value of the second derivative of $h(x)$ at the point $x^*$ reveals that $h''(x^*)>0$, confirming that $x^*$ is indeed a minimum. The water level $x^* \\approx 6.958$ is, using knowledge of physics, the one likely to make the glass most stable."
   ]
  },
  {
   "cell_type": "markdown",
   "metadata": {},
   "source": [
    "We can do these calculations in Python using the [sympy](https://www.sympy.org/en/index.html) and [math](https://docs.python.org/3/library/math.html) packages. We have two different options, depending on whether we want to treat $\\pi$ as a number or as symbol."
   ]
  },
  {
   "cell_type": "markdown",
   "metadata": {},
   "source": [
    "### Treating $\\pi$ as a number"
   ]
  },
  {
   "cell_type": "code",
   "execution_count": 2,
   "metadata": {
    "colab": {
     "base_uri": "https://localhost:8080/",
     "height": 37
    },
    "execution": {
     "iopub.execute_input": "2023-01-04T15:21:47.224131Z",
     "iopub.status.busy": "2023-01-04T15:21:47.223558Z",
     "iopub.status.idle": "2023-01-04T15:21:47.878302Z",
     "shell.execute_reply": "2023-01-04T15:21:47.877303Z",
     "shell.execute_reply.started": "2023-01-04T15:21:47.224092Z"
    },
    "id": "RdylbEWhyavT",
    "outputId": "afddb7f5-26d8-4ac6-81d7-b37bc4afa707",
    "tags": []
   },
   "outputs": [
    {
     "data": {
      "text/latex": [
       "$\\displaystyle \\left\\{-22.8735, -7.95775, 6.95804\\right\\}$"
      ],
      "text/plain": [
       "{-22.8735, -7.95775, 6.95804}"
      ]
     },
     "execution_count": 2,
     "metadata": {},
     "output_type": "execute_result"
    }
   ],
   "source": [
    "import sympy\n",
    "import math\n",
    "\n",
    "# x is a symbol and pi is a number\n",
    "x = sympy.Symbol('x')\n",
    "pi = math.pi\n",
    "\n",
    "# h(x) is a function of x, and hprime its derivative h'(x)\n",
    "h = (4*pi*x**2 + 2000)/(8*pi*x+200)\n",
    "hprime = sympy.diff(h, x)\n",
    "\n",
    "# calculate the values of x that solve the equatioin h'(x)=0\n",
    "sol = sympy.solveset(hprime, x)\n",
    "sol.evalf(6)"
   ]
  },
  {
   "cell_type": "markdown",
   "metadata": {
    "id": "ZmscpICaRwwy"
   },
   "source": [
    "The equation $h^\\prime(x) = 0$ has two solutions in the domain $[0,20]$: one negative and one positive. Obviously, only the positive one $x^* \\approx 6.95804$ makes sense in the context of our problem and, since its value is between $0$ and $20$, it is indeed feasible. The sign of the second derivative tells us whether this stationary point is a *maximum*, a *minimum* or a *saddle point*. Since $h^{\\prime\\prime}(x^*) > 0$ it is indeed a (local) **minimum**."
   ]
  },
  {
   "cell_type": "markdown",
   "metadata": {
    "id": "tp_3g1Lvyave"
   },
   "source": [
    "### Treating $\\pi$ as a symbol"
   ]
  },
  {
   "cell_type": "code",
   "execution_count": 3,
   "metadata": {
    "colab": {
     "base_uri": "https://localhost:8080/",
     "height": 68
    },
    "execution": {
     "iopub.execute_input": "2023-01-04T15:21:47.879900Z",
     "iopub.status.busy": "2023-01-04T15:21:47.879444Z",
     "iopub.status.idle": "2023-01-04T15:21:48.442626Z",
     "shell.execute_reply": "2023-01-04T15:21:48.441648Z",
     "shell.execute_reply.started": "2023-01-04T15:21:47.879867Z"
    },
    "id": "0VJ6-cDNyavg",
    "outputId": "788c3068-7470-46a6-9374-6333c63f0130",
    "tags": []
   },
   "outputs": [
    {
     "data": {
      "text/latex": [
       "$\\displaystyle \\left\\{\\frac{- 5 \\sqrt{5} \\sqrt{4 \\pi + 5} - 25}{\\pi}, \\frac{5 \\sqrt{5} \\sqrt{4 \\pi + 5} - 25}{\\pi}\\right\\}$"
      ],
      "text/plain": [
       "{(-5*sqrt(5)*sqrt(4*pi + 5) - 25)/pi, (5*sqrt(5)*sqrt(4*pi + 5) - 25)/pi}"
      ]
     },
     "metadata": {},
     "output_type": "display_data"
    },
    {
     "data": {
      "text/latex": [
       "$\\displaystyle 6.95804$"
      ],
      "text/plain": [
       "6.95804"
      ]
     },
     "execution_count": 3,
     "metadata": {},
     "output_type": "execute_result"
    }
   ],
   "source": [
    "# now both x and pi are symbols\n",
    "pi = sympy.Symbol('pi')\n",
    "\n",
    "# we redefine h with x and pi as symbols\n",
    "h = (4*pi*x**2 + 2000)/(8*pi*x + 200)\n",
    "\n",
    "# calculate the derivative analytically\n",
    "hprime = sympy.diff(h, x)\n",
    "\n",
    "# calculate the solutions of h'(x)=0 analytically\n",
    "solution = sympy.solveset(sympy.diff(h, x), x )\n",
    "display(solution)\n",
    "\n",
    "# approximate the numerical value of the positive of the two solutions\n",
    "s = max(solution.subs(pi, math.pi).evalf(6))\n",
    "s"
   ]
  },
  {
   "cell_type": "markdown",
   "metadata": {
    "id": "7suf1EW_yav1"
   },
   "source": [
    "Let us visualize the function $h(x)$ and the point $x^*$ that we identified."
   ]
  },
  {
   "cell_type": "code",
   "execution_count": 4,
   "metadata": {
    "execution": {
     "iopub.execute_input": "2023-01-04T15:21:48.443935Z",
     "iopub.status.busy": "2023-01-04T15:21:48.443563Z",
     "iopub.status.idle": "2023-01-04T15:21:49.370994Z",
     "shell.execute_reply": "2023-01-04T15:21:49.369856Z",
     "shell.execute_reply.started": "2023-01-04T15:21:48.443911Z"
    },
    "id": "EtJnFA6Dyav2",
    "tags": []
   },
   "outputs": [
    {
     "data": {
      "image/png": "[encoded data removed]",
      "text/plain": [
       "<Figure size 1100x600 with 1 Axes>"
      ]
     },
     "metadata": {},
     "output_type": "display_data"
    }
   ],
   "source": [
    "import matplotlib.pyplot as plt\n",
    "import numpy as np\n",
    "    \n",
    "def plot_height(h, s, start, stop, width=11, height=6):\n",
    "\n",
    "    plt.rcParams[\"figure.figsize\"] = (width,height)\n",
    "\n",
    "    x = sympy.Symbol('x')\n",
    "    f = sympy.lambdify(x, h.subs( pi, math.pi))\n",
    "\n",
    "    x = np.linspace(start=start,stop=stop,num=100) \n",
    "    y = f(x)\n",
    "\n",
    "    plt.plot(x,y,label='$'+sympy.latex(h)+'$',linewidth=3)\n",
    "    plt.plot(s,f(s), 'ro', label='$x^*$', markersize=12)\n",
    "\n",
    "    plt.legend()\n",
    "    plt.show() \n",
    "    \n",
    "plot_height(h, s, 0, 20)"
   ]
  },
  {
   "cell_type": "markdown",
   "metadata": {
    "id": "ZEI3EKoMyawB"
   },
   "source": [
    "## Beyond the analytical solution\n",
    "\n",
    "In general, constrained optimization problems have much more involved, complicated, and high-dimensional feasible regions and/or non-differentiable objective functions. For this reason, it makes sense to frame and solve problem differently using techniques from mathematical optimization. The way we implement and numerically solve these optimization problems in Python is using the `Pyomo` package. `Pyomo` has the advantage of completely separating modeling from solving, which allows us to switch solver without recoding a problem to scratch! "
   ]
  },
  {
   "cell_type": "code",
   "execution_count": 5,
   "metadata": {
    "colab": {
     "base_uri": "https://localhost:8080/"
    },
    "execution": {
     "iopub.execute_input": "2023-01-04T15:21:49.373176Z",
     "iopub.status.busy": "2023-01-04T15:21:49.372670Z",
     "iopub.status.idle": "2023-01-04T15:21:49.656600Z",
     "shell.execute_reply": "2023-01-04T15:21:49.655788Z",
     "shell.execute_reply.started": "2023-01-04T15:21:49.373149Z"
    },
    "id": "slUMa7NIyawD",
    "outputId": "04f0ca69-82f9-47b0-9f01-d8c27829c8a8"
   },
   "outputs": [
    {
     "name": "stdout",
     "output_type": "stream",
     "text": [
      "1 Var Declarations\n",
      "    h : Size=1, Index=None\n",
      "        Key  : Lower : Value : Upper : Fixed : Stale : Domain\n",
      "        None :     0 :  None :    20 : False :  True :  Reals\n",
      "\n",
      "1 Objective Declarations\n",
      "    cog : Size=1, Index=None, Active=True\n",
      "        Key  : Active : Sense    : Expression\n",
      "        None :   True : minimize : (12.566370614359172*h**2 + 2000)/(25.132741228718345*h + 200)\n",
      "\n",
      "2 Declarations: h cog\n"
     ]
    }
   ],
   "source": [
    "import pyomo.environ as pyo\n",
    "\n",
    "model = pyo.ConcreteModel('Rose')\n",
    "model.h = pyo.Var(bounds=(0,20))\n",
    "\n",
    "@model.Objective(sense=pyo.minimize)\n",
    "def cog(m):\n",
    "    return (4*math.pi*model.h**2 + 2000)/(8*math.pi*model.h + 200)\n",
    "\n",
    "model.pprint()"
   ]
  },
  {
   "cell_type": "markdown",
   "metadata": {
    "id": "gOUsETqbX4J3"
   },
   "source": [
    "We will use `ipopt` as solver, which is a generic solver for non-linear problems. In case you are using Google Colab, we refer again to [this notebook](https://nbviewer.jupyter.org/github/jckantor/ND-Pyomo-Cookbook/blob/master/notebooks/01.02-Running-Pyomo-on-Google-Colab.ipynb) to learn how to run `Pyomo` and how to install solvers on Google Colab. For a complete overview of `Pyomo` please check the [cookbook](https://jckantor.github.io/ND-Pyomo-Cookbook/)."
   ]
  },
  {
   "cell_type": "code",
   "execution_count": 6,
   "metadata": {
    "colab": {
     "base_uri": "https://localhost:8080/"
    },
    "execution": {
     "iopub.execute_input": "2023-01-04T15:21:49.658629Z",
     "iopub.status.busy": "2023-01-04T15:21:49.658241Z",
     "iopub.status.idle": "2023-01-04T15:21:49.713427Z",
     "shell.execute_reply": "2023-01-04T15:21:49.711960Z",
     "shell.execute_reply.started": "2023-01-04T15:21:49.658601Z"
    },
    "id": "MnIEZZ7Ryawy",
    "outputId": "9103d60d-c7da-4b31-dc41-38869d60b75a"
   },
   "outputs": [
    {
     "name": "stdout",
     "output_type": "stream",
     "text": [
      "Solver status: ok  Solver termination condition: optimal\n",
      "Model Rose\n",
      "\n",
      "  Variables:\n",
      "    h : Size=1, Index=None\n",
      "        Key  : Lower : Value            : Upper : Fixed : Stale : Domain\n",
      "        None :     0 : 6.95803921230998 :    20 : False : False :  Reals\n",
      "\n",
      "  Objectives:\n",
      "    cog : Size=1, Index=None, Active=True\n",
      "        Key  : Active : Value\n",
      "        None :   True : 6.95803920980307\n",
      "\n",
      "  Constraints:\n",
      "    None\n"
     ]
    }
   ],
   "source": [
    "results = pyo.SolverFactory('ipopt').solve(model)\n",
    "print(\"Solver status:\",results.solver.status,\" Solver termination condition:\",results.solver.termination_condition )\n",
    "model.display()"
   ]
  },
  {
   "cell_type": "markdown",
   "metadata": {
    "id": "fyMVJjGYHiG6"
   },
   "source": [
    "## Conclusions\n",
    "\n",
    "This notebook shows how to solve the rose problem: finding the most stable amount of water in a glass. \n",
    "\n",
    "The notebook shows how to solve the problem analytically with `sympy`, how to use `matplotlib` to visualize the function and the optimum, and how to model the rose problem using `Pyomo` and solve it with `ipopt`."
   ]
  }
 ],
 "metadata": {
  "colab": {
   "collapsed_sections": [],
   "name": "DSE-5.1 2021 - Alice's rose.ipynb",
   "provenance": []
  },
  "kernelspec": {
   "display_name": "Python 3 (ipykernel)",
   "language": "python",
   "name": "python3"
  },
  "language_info": {
   "codemirror_mode": {
    "name": "ipython",
    "version": 3
   },
   "file_extension": ".py",
   "mimetype": "text/x-python",
   "name": "python",
   "nbconvert_exporter": "python",
   "pygments_lexer": "ipython3",
   "version": "3.10.6"
  }
 },
 "nbformat": 4,
 "nbformat_minor": 4
}
