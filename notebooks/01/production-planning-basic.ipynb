{
 "cells": [
  {
   "cell_type": "markdown",
   "metadata": {
    "id": "AVkGJGu-Ob6L"
   },
   "source": [
    "```{index} single: Pyomo; variables \n",
    "```\n",
    "```{index} single: Pyomo; expressions \n",
    "```\n",
    "```{index} single: Pyomo; objectives \n",
    "```\n",
    "```{index} single: Pyomo; constraints\n",
    "```\n",
    "```{index} single: Pyomo; decorators\n",
    "```\n",
    "```{index} single: solver; cbc\n",
    "```\n",
    "\n",
    "# A Simple Pyomo Model\n",
    "\n",
    "Pyomo is an algebraic modeling language embedded within Python for the purpose of implementing applications of mathematical optimization. Pyomo is used to create model object consisting of decision variables, expressions, objective functions, and constraints. Once a model has been specified, Pyomo includes methods to perform various transformations of the model, and then to solve models with a choice of open-source and commercial solvers. Pyomo is open source, not tied to any specific class of mathematical optimization problems, and undergoing continued development with contributed third-party packages.\n",
    "\n",
    "This notebook introduces the basic elements of Pyomo for the case study of a small production planning problem. A second notebook demonstrates additional features of Pyomo that make it possible to write \"data-driven\" applications. Finally, a more complete version of the problem is revisited in Chapter 10 to demonstrate stochastic and robust optimization. \n",
    "\n",
    "This notebook introduces components from the Pyomo library common to most applications:\n",
    "\n",
    "* [Variables](https://pyomo.readthedocs.io/en/latest/pyomo_modeling_components/Variables.html)\n",
    "* [Expressions](https://pyomo.readthedocs.io/en/latest/pyomo_modeling_components/Expressions.html)\n",
    "* [Objectives](https://pyomo.readthedocs.io/en/latest/pyomo_modeling_components/Objectives.html)\n",
    "* [Constraints](https://pyomo.readthedocs.io/en/latest/pyomo_modeling_components/Constraints.html)\n",
    "* [SolverFactory](https://pyomo.readthedocs.io/en/stable/solving_pyomo_models.html)\n",
    "\n",
    "This Pyomo model presented below is a direct translation of the mathematics into these basic Pyomo components. For brevity, the problem parameter values are incorporated directly in the model. This generates a satisfactory result for examples with a small number of decision variables and constraints.\n",
    "\n",
    "This notebook also introduces the use of Python decorators to designate Pyomo objectives, constraints, and other model components. This is a relatively new feature in Pyomo  available in recent versions. Decorators may be unfamiliar to new users of Python (or current users of Pyomo), but are  worth learning in return for a remarkable gain in the readability of Pyomo models."
   ]
  },
  {
   "cell_type": "markdown",
   "metadata": {},
   "source": [
    "## Preliminary Step: Install Pyomo and solvers\n",
    "\n",
    "We start by verifying the installation of Pyomo and any needed solvers. The following cell downloads a Python module that can check if Pyomo and designated solvers have been previously installed. If no installation is detected, the functions will perform the needed installations. This step needs to be done only once for a given installation of Python on a personal laptop. On Google Colab, however, this step must also be done for each new instance of a Colab session."
   ]
  },
  {
   "cell_type": "code",
   "execution_count": 1,
   "metadata": {
    "colab": {
     "base_uri": "https://localhost:8080/"
    },
    "executionInfo": {
     "elapsed": 29660,
     "status": "ok",
     "timestamp": 1669503785335,
     "user": {
      "displayName": "Jeffrey Kantor",
      "userId": "09038942003589296665"
     },
     "user_tz": 300
    },
    "id": "4AYeavKO4ze7",
    "outputId": "ca2adb8b-b6cc-4a90-f2d8-e91e2718c4b1",
    "tags": []
   },
   "outputs": [
    {
     "name": "stdout",
     "output_type": "stream",
     "text": [
      "pyomo was previously installed\n",
      "cbc was previously installed\n"
     ]
    },
    {
     "data": {
      "text/plain": [
       "True"
      ]
     },
     "execution_count": 1,
     "metadata": {},
     "output_type": "execute_result"
    }
   ],
   "source": [
    "import requests\n",
    "import types\n",
    "\n",
    "url = \"https://raw.githubusercontent.com/mobook/MO-book/main/python/helper.py\"\n",
    "helper = types.ModuleType(\"helper\")\n",
    "exec(requests.get(url).content, helper.__dict__)\n",
    "\n",
    "helper.install_pyomo()\n",
    "helper.install_cbc()"
   ]
  },
  {
   "cell_type": "markdown",
   "metadata": {},
   "source": [
    "## Step 1. Import Pyomo\n",
    "\n",
    "The first coding step for a new Pyomo model is to import the needed components into the Python environment. Importing  `pyomo.environ` provides the most commonly used components for Pyomo model building. This collection of notebooks uses a consistent convention of using `pyo` as a prefix to objects imported from `pyomo.environ`."
   ]
  },
  {
   "cell_type": "code",
   "execution_count": 2,
   "metadata": {
    "tags": []
   },
   "outputs": [],
   "source": [
    "import pyomo.environ as pyo"
   ]
  },
  {
   "cell_type": "markdown",
   "metadata": {},
   "source": [
    "## Step 2. Create a `ConcreteModel` object\n",
    "\n",
    "A Pyomo model is created in a Python workspace with a standard Python variable name. Here and in subsequent notebooks the model object is be created with `pyo.ConcreteModel()`. `pyo.ConcreteModel` is used when the problem data is known at the time the model is created. Pyomo also provides `pyo.AbstractModel()` for creating abstract models where problem data is provided later to create specific model instances. This same effect can be achieved in Python using the \"data driven\" approach demonstrated throughout this collection of notebooks.\n",
    "\n",
    "The following cell creates an instance of ConcreteModel object and stores it in a Python variable named `model`. The name can be any valid Python variable. Generally a short name is desirable since it will be a prefix for every Pyomo variable and constraint."
   ]
  },
  {
   "cell_type": "code",
   "execution_count": 3,
   "metadata": {
    "tags": []
   },
   "outputs": [],
   "source": [
    "# create model with optional problem name\n",
    "model = pyo.ConcreteModel(\"Production Planning: Version 1\")"
   ]
  },
  {
   "cell_type": "markdown",
   "metadata": {},
   "source": [
    "The `.display()` method is a convenient means of displaying and verifying the current contents of a Pyomo model. At this stage the major components of the model are empty."
   ]
  },
  {
   "cell_type": "code",
   "execution_count": 4,
   "metadata": {},
   "outputs": [
    {
     "name": "stdout",
     "output_type": "stream",
     "text": [
      "Model 'Production Planning: Version 1'\n",
      "\n",
      "  Variables:\n",
      "    None\n",
      "\n",
      "  Objectives:\n",
      "    None\n",
      "\n",
      "  Constraints:\n",
      "    None\n"
     ]
    }
   ],
   "source": [
    "#display model\n",
    "model.display()"
   ]
  },
  {
   "cell_type": "markdown",
   "metadata": {},
   "source": [
    "## Step 3. Create decision variables\n",
    "\n",
    "Decision variables are created with the Pyomo `Var()`. The decisions variables can be assigned to any valid Python identifier. Here we assign the decision variables to the model instance using the Python 'dot' notation using a name derived from the mathematical model. \n",
    "\n",
    "`Var()` accepts optional keyword arguments:\n",
    "\n",
    "* `bounds` specifies a tuple containing lower and upper bounds. A good modeling practice is to specify any known and fixed bounds on the decision variables as they are created. If one of the bounds is unknown, use `None` as a placeholder.\n",
    "\n",
    "* `initialize` specifies initial values for the decision variables. This isn't normally required, but is useful in this tutorial example where we want to display the model as it is being built.\n",
    "\n",
    "* `domain` keyword specifies the type of decision variable. By default, the domain is all real numbers including negative and positive values. \n",
    "\n",
    "The use of the optional keywords is shown in the following cell."
   ]
  },
  {
   "cell_type": "code",
   "execution_count": 5,
   "metadata": {
    "tags": []
   },
   "outputs": [
    {
     "name": "stdout",
     "output_type": "stream",
     "text": [
      "Model 'Production Planning: Version 1'\n",
      "\n",
      "  Variables:\n",
      "    x_M : Size=1, Index=None\n",
      "        Key  : Lower : Value : Upper : Fixed : Stale : Domain\n",
      "        None :     0 :     0 :  None : False : False :  Reals\n",
      "    x_A : Size=1, Index=None\n",
      "        Key  : Lower : Value : Upper : Fixed : Stale : Domain\n",
      "        None :     0 :     0 :    80 : False : False :  Reals\n",
      "    x_B : Size=1, Index=None\n",
      "        Key  : Lower : Value : Upper : Fixed : Stale : Domain\n",
      "        None :     0 :     0 :   100 : False : False :  Reals\n",
      "    y_U : Size=1, Index=None\n",
      "        Key  : Lower : Value : Upper : Fixed : Stale : Domain\n",
      "        None :     0 :     0 :    40 : False : False :  Reals\n",
      "    y_V : Size=1, Index=None\n",
      "        Key  : Lower : Value : Upper : Fixed : Stale : Domain\n",
      "        None :     0 :     0 :  None : False : False :  Reals\n",
      "\n",
      "  Objectives:\n",
      "    None\n",
      "\n",
      "  Constraints:\n",
      "    None\n"
     ]
    }
   ],
   "source": [
    "# create decision variables\n",
    "model.x_M = pyo.Var(bounds=(0, None), initialize=0)\n",
    "model.x_A = pyo.Var(bounds=(0, 80), initialize=0)\n",
    "model.x_B = pyo.Var(bounds=(0, 100), initialize=0)\n",
    "\n",
    "model.y_U = pyo.Var(bounds=(0, 40), initialize=0)\n",
    "model.y_V = pyo.Var(bounds=(0, None), initialize=0)\n",
    "\n",
    "# display updated model\n",
    "model.display()"
   ]
  },
  {
   "cell_type": "markdown",
   "metadata": {},
   "source": [
    "## Step 4. Create expressions\n",
    "\n",
    "The next cell creates linear expressions for revenue and cost and assigns them to the model as `model.revenue` and `model.cost`, respectively. These expressions will be used to create the profit objective. The expressions can be printed to verify correctness."
   ]
  },
  {
   "cell_type": "code",
   "execution_count": 6,
   "metadata": {
    "tags": []
   },
   "outputs": [
    {
     "name": "stdout",
     "output_type": "stream",
     "text": [
      "270*y_U + 210*y_V\n",
      "10*x_M + 50*x_A + 40*x_B\n"
     ]
    }
   ],
   "source": [
    "# create expressions\n",
    "model.revenue = 270 * model.y_U + 210 * model.y_V\n",
    "model.cost = 10 * model.x_M + 50 * model.x_A + 40 * model.x_B\n",
    "\n",
    "# expressions can be printed\n",
    "print(model.revenue)\n",
    "print(model.cost)"
   ]
  },
  {
   "cell_type": "markdown",
   "metadata": {},
   "source": [
    "## Step 5. Create objective\n",
    "\n",
    "The objective is to maximize profit, where  profit is defined as the difference between revenue and cost.\n",
    "\n",
    "The expression to be optimized is defined using the `expr` keyword argument. The type of optimization (minimization or maximization) can be specified using the `sense` keyword argument. For example, to maximize profit, defined as the difference between revenue and cost: \n",
    "\n",
    "    model.profit = pyo.Objective(expr = model.revenue - model.cost, sense = pyo.maximize)\n",
    "    \n",
    "Recent releases of Pyomo also provide a decorator syntax to create an objective function. Using the @model.Objective(sense = pyo.maximize) decorator:\n",
    "\n",
    "    @model.Objective(sense = pyo.maximize)\n",
    "    def profit(model):\n",
    "        return model.revenue - model.cost\n",
    "\n",
    "Decorators change the behavior of a function. In this case, the decorator `model.Objective()` modifies `profit()` to return an expression for the profit. The  keyword `sense` sets the type  objective (`pyo.maximize` or `pyo.minimize`). The decorated function profit() takes the Pyomo model as its first argument and its name is added to the model attributes.\n",
    "\n",
    "This alternative syntax allows for improved readability and maintainability of more complex models.  Decorators provide a way to simplify the syntax for creating different objects, such as objectives, expressions, constraints, etc., in optimization applications.  "
   ]
  },
  {
   "cell_type": "code",
   "execution_count": 7,
   "metadata": {
    "tags": []
   },
   "outputs": [
    {
     "name": "stdout",
     "output_type": "stream",
     "text": [
      "Model 'Production Planning: Version 1'\n",
      "\n",
      "  Variables:\n",
      "    x_M : Size=1, Index=None\n",
      "        Key  : Lower : Value : Upper : Fixed : Stale : Domain\n",
      "        None :     0 :     0 :  None : False : False :  Reals\n",
      "    x_A : Size=1, Index=None\n",
      "        Key  : Lower : Value : Upper : Fixed : Stale : Domain\n",
      "        None :     0 :     0 :    80 : False : False :  Reals\n",
      "    x_B : Size=1, Index=None\n",
      "        Key  : Lower : Value : Upper : Fixed : Stale : Domain\n",
      "        None :     0 :     0 :   100 : False : False :  Reals\n",
      "    y_U : Size=1, Index=None\n",
      "        Key  : Lower : Value : Upper : Fixed : Stale : Domain\n",
      "        None :     0 :     0 :    40 : False : False :  Reals\n",
      "    y_V : Size=1, Index=None\n",
      "        Key  : Lower : Value : Upper : Fixed : Stale : Domain\n",
      "        None :     0 :     0 :  None : False : False :  Reals\n",
      "\n",
      "  Objectives:\n",
      "    profit : Size=1, Index=None, Active=True\n",
      "        Key  : Active : Value\n",
      "        None :   True :     0\n",
      "\n",
      "  Constraints:\n",
      "    None\n"
     ]
    }
   ],
   "source": [
    "@model.Objective(sense=pyo.maximize)\n",
    "def profit(model):\n",
    "    return model.revenue - model.cost\n",
    "\n",
    "model.display()"
   ]
  },
  {
   "cell_type": "markdown",
   "metadata": {},
   "source": [
    "## Step 6. Add constraints\n",
    "\n",
    "Constraints are logical relationships between expressions that define the range of feasible solutions in an optimization problem. The logical relationships can be equality (`==`), less-than (`<=`), or greater-than (`>=`). \n",
    "\n",
    "`pyo.Constraint()` is a Pyomo class to creating constraints between expressions. A constraint consists of two expressions separated by one of the logical relationships. The constraint is passed as a keyword argument `expr` to `pyo.Constraint()`. For this application the constraints can be expressed as  \n",
    "\n",
    "    model.raw_materials = pyo.Constraint(expr = 10 * model.y_U + 9 * model.y_V <= model.x_M)\n",
    "    model.labor_A = pyo.Constraint(expr = 2 * model.y_U + 1 * model.y_V <= model.x_A)\n",
    "    model.labor_B = pyo.Constraint(expr = 1 * model.y_U + 1 * model.y_V <= model.x_B)\n",
    "    \n",
    "A `model.Constraint()` decorator is an alternative syntax. The decorator 'tags' the output of the following function as a constraint. For the present example the decorator system is would be"
   ]
  },
  {
   "cell_type": "code",
   "execution_count": 8,
   "metadata": {
    "tags": []
   },
   "outputs": [
    {
     "name": "stdout",
     "output_type": "stream",
     "text": [
      "5 Var Declarations\n",
      "    x_A : Size=1, Index=None\n",
      "        Key  : Lower : Value : Upper : Fixed : Stale : Domain\n",
      "        None :     0 :     0 :    80 : False : False :  Reals\n",
      "    x_B : Size=1, Index=None\n",
      "        Key  : Lower : Value : Upper : Fixed : Stale : Domain\n",
      "        None :     0 :     0 :   100 : False : False :  Reals\n",
      "    x_M : Size=1, Index=None\n",
      "        Key  : Lower : Value : Upper : Fixed : Stale : Domain\n",
      "        None :     0 :     0 :  None : False : False :  Reals\n",
      "    y_U : Size=1, Index=None\n",
      "        Key  : Lower : Value : Upper : Fixed : Stale : Domain\n",
      "        None :     0 :     0 :    40 : False : False :  Reals\n",
      "    y_V : Size=1, Index=None\n",
      "        Key  : Lower : Value : Upper : Fixed : Stale : Domain\n",
      "        None :     0 :     0 :  None : False : False :  Reals\n",
      "\n",
      "1 Objective Declarations\n",
      "    profit : Size=1, Index=None, Active=True\n",
      "        Key  : Active : Sense    : Expression\n",
      "        None :   True : maximize : 270*y_U + 210*y_V - (10*x_M + 50*x_A + 40*x_B)\n",
      "\n",
      "3 Constraint Declarations\n",
      "    labor_A : Size=1, Index=None, Active=True\n",
      "        Key  : Lower : Body              : Upper : Active\n",
      "        None :  -Inf : 2*y_U + y_V - x_A :   0.0 :   True\n",
      "    labor_B : Size=1, Index=None, Active=True\n",
      "        Key  : Lower : Body            : Upper : Active\n",
      "        None :  -Inf : y_U + y_V - x_B :   0.0 :   True\n",
      "    raw_materials : Size=1, Index=None, Active=True\n",
      "        Key  : Lower : Body                 : Upper : Active\n",
      "        None :  -Inf : 10*y_U + 9*y_V - x_M :   0.0 :   True\n",
      "\n",
      "9 Declarations: x_M x_A x_B y_U y_V profit raw_materials labor_A labor_B\n"
     ]
    }
   ],
   "source": [
    "@model.Constraint()\n",
    "def raw_materials(model):\n",
    "    return 10 * model.y_U + 9 * model.y_V <= model.x_M\n",
    "\n",
    "@model.Constraint()\n",
    "def labor_A(model):\n",
    "    return 2 * model.y_U + 1 * model.y_V <= model.x_A\n",
    "\n",
    "@model.Constraint()\n",
    "def labor_B(model):\n",
    "    return 1 * model.y_U + 1 * model.y_V <= model.x_B\n",
    "\n",
    "model.pprint()"
   ]
  },
  {
   "cell_type": "markdown",
   "metadata": {},
   "source": [
    "## Step 7. Solve the model\n",
    "\n",
    "With the model now fully specified, the next step is to compute a solution. A solver object is created with `SolverFactory`, then applied to the model as shown in the following cell. Here we have chosen to use the open source [COIN-OR Cbc](https://github.com/coin-or/Cbc)  (\"COIN-OR branch and cut\") solver for mixed integer linear programming. There are suitable solver, such as the open source GNU Linear Programming Kit [GLPK](https://en.wikibooks.org/wiki/GLPK) and commercial solvers such as CPLEX, Gurobi, and Mosek.\n",
    "\n",
    "This cell shows how to use create and use a solver. The optional keyword `tee=True` causes the solver to print its output to the output. This can be useful for verifying the model is bdebugging problems"
   ]
  },
  {
   "cell_type": "code",
   "execution_count": 9,
   "metadata": {
    "tags": []
   },
   "outputs": [
    {
     "name": "stdout",
     "output_type": "stream",
     "text": [
      "Welcome to the CBC MILP Solver \n",
      "Version: 2.10.5 \n",
      "Build Date: Apr 19 2021 \n",
      "\n",
      "command line - /Users/jeff/opt/anaconda3/bin/cbc -printingOptions all -import /var/folders/cm/z3t28j296f98jdp1vqyplkz00000gn/T/tmp75w_6tkf.pyomo.lp -stat=1 -solve -solu /var/folders/cm/z3t28j296f98jdp1vqyplkz00000gn/T/tmp75w_6tkf.pyomo.soln (default strategy 1)\n",
      "Option for printingOptions changed from normal to all\n",
      " CoinLpIO::readLp(): Maximization problem reformulated as minimization\n",
      "Coin0009I Switching back to maximization to get correct duals etc\n",
      "Presolve 3 (-1) rows, 5 (-1) columns and 9 (-1) elements\n",
      "Statistics for presolved model\n",
      "\n",
      "\n",
      "Problem has 3 rows, 5 columns (5 with objective) and 9 elements\n",
      "There are 3 singletons with objective \n",
      "Column breakdown:\n",
      "2 of type 0.0->inf, 3 of type 0.0->up, 0 of type lo->inf, \n",
      "0 of type lo->up, 0 of type free, 0 of type fixed, \n",
      "0 of type -inf->0.0, 0 of type -inf->up, 0 of type 0.0->1.0 \n",
      "Row breakdown:\n",
      "2 of type E 0.0, 0 of type E 1.0, 0 of type E -1.0, \n",
      "0 of type E other, 0 of type G 0.0, 0 of type G 1.0, \n",
      "0 of type G other, 1 of type L 0.0, 0 of type L 1.0, \n",
      "0 of type L other, 0 of type Range 0.0->1.0, 0 of type Range other, \n",
      "0 of type Free \n",
      "Presolve 3 (-1) rows, 5 (-1) columns and 9 (-1) elements\n",
      "0  Obj -0 Dual inf 480 (2)\n",
      "3  Obj 2400\n",
      "Optimal - objective value 2400\n",
      "After Postsolve, objective 2400, infeasibilities - dual 0 (0), primal 0 (0)\n",
      "Optimal objective 2400 - 3 iterations time 0.002, Presolve 0.00\n",
      "Total time (CPU seconds):       0.00   (Wallclock seconds):       0.00\n",
      "\n"
     ]
    }
   ],
   "source": [
    "solver = pyo.SolverFactory(\"cbc\")\n",
    "results = solver.solve(model, tee=True)"
   ]
  },
  {
   "cell_type": "markdown",
   "metadata": {},
   "source": [
    "The solver returns a results object that reports inforomation about the problem, and theti"
   ]
  },
  {
   "cell_type": "markdown",
   "metadata": {},
   "source": [
    "## Step 8. Reporting the solution\n",
    "\n",
    "Pyomo provides methods to display the solution to an optimization problem. The ba\n",
    "\n",
    "For an overview of other ways to report and visualize the solutions, see also the appendix of [this notebook](../04/gasoline-distribution.ipynb)."
   ]
  },
  {
   "cell_type": "code",
   "execution_count": 10,
   "metadata": {},
   "outputs": [
    {
     "data": {
      "text/plain": [
       "{'_ctypes': {pyomo.core.base.var.Var: [0, 4, 5],\n",
       "  pyomo.core.base.objective.Objective: [5, 5, 1],\n",
       "  pyomo.core.base.constraint.Constraint: [6, 8, 3]},\n",
       " '_decl': {'x_M': 0,\n",
       "  'x_A': 1,\n",
       "  'x_B': 2,\n",
       "  'y_U': 3,\n",
       "  'y_V': 4,\n",
       "  'profit': 5,\n",
       "  'raw_materials': 6,\n",
       "  'labor_A': 7,\n",
       "  'labor_B': 8},\n",
       " '_decl_order': [(<pyomo.core.base.var.ScalarVar at 0x7fa30c016890>, 1),\n",
       "  (<pyomo.core.base.var.ScalarVar at 0x7fa30c016900>, 2),\n",
       "  (<pyomo.core.base.var.ScalarVar at 0x7fa30c016970>, 3),\n",
       "  (<pyomo.core.base.var.ScalarVar at 0x7fa30c0169e0>, 4),\n",
       "  (<pyomo.core.base.var.ScalarVar at 0x7fa30c016a50>, None),\n",
       "  (<pyomo.core.base.objective.ScalarObjective at 0x7fa30c003ee0>, None),\n",
       "  (<pyomo.core.base.constraint.ScalarConstraint at 0x7fa30c016d60>, 7),\n",
       "  (<pyomo.core.base.constraint.ScalarConstraint at 0x7fa30c016e40>, 8),\n",
       "  (<pyomo.core.base.constraint.ScalarConstraint at 0x7fa30c021200>, None)],\n",
       " '_suppress_ctypes': set(),\n",
       " '_dense': True,\n",
       " '_ctype': pyomo.core.base.block.Block,\n",
       " 'doc': None,\n",
       " '_name': 'Production Planning: Version 1',\n",
       " '_constructed': True,\n",
       " '_parent': None,\n",
       " '_data': {None: <pyomo.core.base.PyomoModel.ConcreteModel at 0x7fa30c01b310>},\n",
       " '_implicit_subsets': None,\n",
       " '_index_set': <pyomo.core.base.global_set._UnindexedComponent_set at 0x7fa30b688910>,\n",
       " '_rule': None,\n",
       " 'statistics': Bunch(),\n",
       " 'config': PyomoConfig(),\n",
       " 'solutions': <pyomo.core.base.PyomoModel.ModelSolutions at 0x7fa30c026100>,\n",
       " 'x_M': <pyomo.core.base.var.ScalarVar at 0x7fa30c016890>,\n",
       " 'x_A': <pyomo.core.base.var.ScalarVar at 0x7fa30c016900>,\n",
       " 'x_B': <pyomo.core.base.var.ScalarVar at 0x7fa30c016970>,\n",
       " 'y_U': <pyomo.core.base.var.ScalarVar at 0x7fa30c0169e0>,\n",
       " 'y_V': <pyomo.core.base.var.ScalarVar at 0x7fa30c016a50>,\n",
       " 'revenue': <pyomo.core.expr.numeric_expr.SumExpression at 0x7fa30c020440>,\n",
       " 'cost': <pyomo.core.expr.numeric_expr.SumExpression at 0x7fa30c019bc0>,\n",
       " 'profit': <pyomo.core.base.objective.ScalarObjective at 0x7fa30c003ee0>,\n",
       " 'raw_materials': <pyomo.core.base.constraint.ScalarConstraint at 0x7fa30c016d60>,\n",
       " 'labor_A': <pyomo.core.base.constraint.ScalarConstraint at 0x7fa30c016e40>,\n",
       " 'labor_B': <pyomo.core.base.constraint.ScalarConstraint at 0x7fa30c021200>}"
      ]
     },
     "execution_count": 10,
     "metadata": {},
     "output_type": "execute_result"
    }
   ],
   "source": [
    "model.__dict__"
   ]
  },
  {
   "cell_type": "code",
   "execution_count": null,
   "metadata": {},
   "outputs": [],
   "source": []
  },
  {
   "cell_type": "code",
   "execution_count": null,
   "metadata": {},
   "outputs": [],
   "source": []
  },
  {
   "cell_type": "code",
   "execution_count": 11,
   "metadata": {},
   "outputs": [
    {
     "data": {
      "text/plain": [
       "720.0"
      ]
     },
     "execution_count": 11,
     "metadata": {},
     "output_type": "execute_result"
    }
   ],
   "source": [
    "pyo.value(model.x_M)"
   ]
  },
  {
   "cell_type": "code",
   "execution_count": 12,
   "metadata": {},
   "outputs": [
    {
     "data": {
      "text/plain": [
       "0.0"
      ]
     },
     "execution_count": 12,
     "metadata": {},
     "output_type": "execute_result"
    }
   ],
   "source": [
    "pyo.value(model.labor_A)"
   ]
  },
  {
   "cell_type": "code",
   "execution_count": 13,
   "metadata": {},
   "outputs": [
    {
     "data": {
      "text/plain": [
       "2400.0"
      ]
     },
     "execution_count": 13,
     "metadata": {},
     "output_type": "execute_result"
    }
   ],
   "source": [
    "pyo.value(model.profit)"
   ]
  },
  {
   "cell_type": "code",
   "execution_count": 14,
   "metadata": {},
   "outputs": [
    {
     "name": "stdout",
     "output_type": "stream",
     "text": [
      "5 Var Declarations\n",
      "    x_A : Size=1, Index=None\n",
      "        Key  : Lower : Value : Upper : Fixed : Stale : Domain\n",
      "        None :     0 :  80.0 :    80 : False : False :  Reals\n",
      "    x_B : Size=1, Index=None\n",
      "        Key  : Lower : Value : Upper : Fixed : Stale : Domain\n",
      "        None :     0 :  80.0 :   100 : False : False :  Reals\n",
      "    x_M : Size=1, Index=None\n",
      "        Key  : Lower : Value : Upper : Fixed : Stale : Domain\n",
      "        None :     0 : 720.0 :  None : False : False :  Reals\n",
      "    y_U : Size=1, Index=None\n",
      "        Key  : Lower : Value : Upper : Fixed : Stale : Domain\n",
      "        None :     0 :   0.0 :    40 : False : False :  Reals\n",
      "    y_V : Size=1, Index=None\n",
      "        Key  : Lower : Value : Upper : Fixed : Stale : Domain\n",
      "        None :     0 :  80.0 :  None : False : False :  Reals\n",
      "\n",
      "1 Objective Declarations\n",
      "    profit : Size=1, Index=None, Active=True\n",
      "        Key  : Active : Sense    : Expression\n",
      "        None :   True : maximize : 270*y_U + 210*y_V - (10*x_M + 50*x_A + 40*x_B)\n",
      "\n",
      "3 Constraint Declarations\n",
      "    labor_A : Size=1, Index=None, Active=True\n",
      "        Key  : Lower : Body              : Upper : Active\n",
      "        None :  -Inf : 2*y_U + y_V - x_A :   0.0 :   True\n",
      "    labor_B : Size=1, Index=None, Active=True\n",
      "        Key  : Lower : Body            : Upper : Active\n",
      "        None :  -Inf : y_U + y_V - x_B :   0.0 :   True\n",
      "    raw_materials : Size=1, Index=None, Active=True\n",
      "        Key  : Lower : Body                 : Upper : Active\n",
      "        None :  -Inf : 10*y_U + 9*y_V - x_M :   0.0 :   True\n",
      "\n",
      "9 Declarations: x_M x_A x_B y_U y_V profit raw_materials labor_A labor_B\n"
     ]
    }
   ],
   "source": [
    "model.pprint()"
   ]
  },
  {
   "cell_type": "code",
   "execution_count": null,
   "metadata": {},
   "outputs": [],
   "source": []
  },
  {
   "cell_type": "code",
   "execution_count": null,
   "metadata": {},
   "outputs": [],
   "source": []
  },
  {
   "cell_type": "code",
   "execution_count": null,
   "metadata": {},
   "outputs": [],
   "source": []
  },
  {
   "cell_type": "code",
   "execution_count": null,
   "metadata": {},
   "outputs": [],
   "source": []
  }
 ],
 "metadata": {
  "colab": {
   "authorship_tag": "ABX9TyNdeOT6zd9sxPjQMDuW2VRf",
   "provenance": []
  },
  "kernelspec": {
   "display_name": "Python 3 (ipykernel)",
   "language": "python",
   "name": "python3"
  },
  "language_info": {
   "codemirror_mode": {
    "name": "ipython",
    "version": 3
   },
   "file_extension": ".py",
   "mimetype": "text/x-python",
   "name": "python",
   "nbconvert_exporter": "python",
   "pygments_lexer": "ipython3",
   "version": "3.9.13"
  },
  "latex_envs": {
   "LaTeX_envs_menu_present": true,
   "autoclose": false,
   "autocomplete": true,
   "bibliofile": "biblio.bib",
   "cite_by": "apalike",
   "current_citInitial": 1,
   "eqLabelWithNumbers": true,
   "eqNumInitial": 1,
   "hotkeys": {
    "equation": "Ctrl-E",
    "itemize": "Ctrl-I"
   },
   "labels_anchors": false,
   "latex_user_defs": false,
   "report_style_numbering": false,
   "user_envs_cfg": false
  }
 },
 "nbformat": 4,
 "nbformat_minor": 4
}
