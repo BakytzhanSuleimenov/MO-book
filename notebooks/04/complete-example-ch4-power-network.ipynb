{
 "cells": [
  {
   "cell_type": "markdown",
   "metadata": {
    "id": "bDLJBWVorXGZ"
   },
   "source": [
    "# Energy dispatch problem\n",
    "\n",
    "To meet the energy demand, power plants run day and night across the country to produce electricy from a variety of sources such as fossil fuels and renewable energy. On the short-time scale, the best operating levels for electric power plants are derived every 15 minutes by solving the so-called *Optimal Power Flow (OPF)* model. The OPF model is an optimization problem with the objective of minimizing the total energy dispatching cost, while ensuring that the generation meets the total energy demand. Furthermore, the model takes into account many constraints, among which operational and physical constraints. \n"
   ]
  },
  {
   "cell_type": "markdown",
   "metadata": {
    "id": "xZEhOwp32CQM"
   },
   "source": [
    "## Background: Power networks and power flow physics\n",
    "\n",
    "We model the nation-wide transmission power network as a directed graph $G=(V, E)$, where $V$ represents the set of nodes (e.g., cities, industrial districts, power plants) and $E$ denotes the set of directed edges (e.g., physical transmission lines). \n",
    "\n",
    "Each node $i \\in V$ has a power injection $p_i$ and demand $d_i$. The set of nodes are separated into *generator* and *load* nodes. The set of generators $\\mathcal{G} \\subseteq V$ corresponds to the nodes $i \\in V$ for which $p_i \\geq 0$ and $d_i = 0$. Each generator $i \\in \\mathcal{G}$ has a minimum $p_i^{\\min}$ and maximum $p_i^{\\max}$ production capacity. The set of load nodes $\\mathcal{D} \\subseteq V$ corresponds to the nodes for which $p_i = 0$ and $d_i \\geq 0$. The load nodes thus correspond to the places where electricity is being consumed, e.g., cities and industrial districts. We say that supply and demand is *matched* if $\\sum_{i \\in V} p_i - d_i = 0$. Since we cannot store electricity in large volumes, supply must meet demand at all times, hence adjusting to it every 15 minutes by solving the OPF.\n",
    "\n",
    "Each edge $(i, j) \\in E$ carries a *power flow* $f_{ij} \\in R$ and has a capacity $f_{ij}^\\max \\geq 0$, i.e., the maximum power flow that it may carry. Note that our choice to model a *directed* graph is to make the modeling of the network easier. In particular, a directed edge $(i,j)$ may carry a 'negative' flow $f_{ij} < 0$, which implies that there is flow going from $j$ to $i$ where $f_{ji} = -f_{ij}$. The capacity does not depend on the direction of the flow, implying that the flow capacity constraints are given by $|f_{ij}| = |f_{ji}| \\leq f_{ij}^\\max$.\n",
    "\n",
    "One crucial difference of power flow problems compared to typical network flow problems is that the power flows cannot be controlled directly. Instead, as you might recall from high-school physics, the power flows are determined by the laws of electricity, which we will now present as the *power flow equations*. Ignore for a moment the flow capacity constraints. Let $\\theta_{i} \\in \\mathbb{R}$ denote the *phase angle* of node $i$. For each edge $(i,j)$, let $b_{ij} > 0$ denote the *line susceptance*. Assuming that supply and demand is matched, i.e., $\\sum_{i=1}^{n} p_i - d_i = 0$, the power flows $\\mathbf{f} \\in \\mathbb{R}^{m}$ and phase angles $\\mathbf{\\theta} \\in \\mathbb{R}^{n}$ are obtained by solving the following linear system of equations:\n",
    "\\begin{align}\n",
    "p_i - d_i &= \\sum_{j: (i, j) \\in E} f_{ij} - \\sum_{j: (j, i) \\in E} f_{ji}, & \\forall \\, i \\in V,\\\\\n",
    "  f_{ij} &=  b_{ij}(\\theta_i - \\theta_j), & \\forall \\, (i, j) \\in E.\n",
    "\\end{align}\n",
    "The first set of constraints ensures flow conservation and the second set of constrations captures the flow dependency on susceptances and angle differences. The DC power flow equations admit a unique power flow solution $\\mathbf{f}$ given matched power injections $\\mathbf{p}$ and demand $\\mathbf{d}$. \n",
    "\n",
    "For a given matched supply and demand vector $\\mathbf{p}$ and $\\mathbf{d}$, we can compute the power flows on the network by solving the linear equations as described above. There are exactly $|V|$ and $|E|$ equations for the $\\theta_i$ variables and $f_{ij}$ variables, meaning that this system of equations admit a solution."
   ]
  },
  {
   "cell_type": "markdown",
   "metadata": {
    "id": "4ZF8sTiZs7m0"
   },
   "source": [
    "## Optimal Power Flow\n",
    "We assumed above that the power injections $\\mathbf{p}$ were given. However, in practice, the power injections need to be determined for each generator in the power network, where some types of generators may be cheaper than others. Moreover, we need to take into account operational constraints, such as the maximum flow and generator limits. \n",
    "\n",
    "On the short-time scale, the power injections are calculated for each generator by solving the so-called *Optimal Power Flow (OPF)* problem. The goal of the OPF problem is to determine a solution $(\\mathbf{p}, \\mathbf{f}, \\mathbf{\\theta})$ with minimal costs such that:\n",
    "- Supply meets demand\n",
    "- Line capacity constraints are met\n",
    "- Generator capacity constraints are met\n",
    "\n",
    "Let $c_i > 0$ be the cost associated with the production of a unit energy by generator $i$. Then, the OPF problem can be formulated as\n",
    "\\begin{align}\n",
    "\\begin{array}{llll}\n",
    "\\max        & \\sum_{i \\in V} c_i p_i \\\\\n",
    "\\mbox{s.t.} & \\sum_{j: (i, j) \\in E} f_{ij} - \\sum_{j: (j, i) \\in E} f_{ji} = p_i - d_i & \\forall \\, i \\in V,\\\\\n",
    "& f_{ij} =  b_{ij}(\\theta_i - \\theta_j), & \\forall \\, (i, j) \\in E, \\\\\n",
    "            & |f_{ij}| \\leq  f_{ij}^{\\max}    & \\forall (i, j) \\in E,\\\\\n",
    "            & p_{i}^{\\min } \\leq p_{i} \\leq p_{i}^{\\max }         & \\forall i \\in V, \\\\\n",
    "            & p_i \\in \\mathbb{R}_{\\geq 0}        & \\forall i \\in V,                \\\\\n",
    "            & \\theta_i \\in \\mathbb{R} & \\forall i \\in V, \\\\\n",
    "            & f_{ij} \\in \\mathbb{R}                 & \\forall (i, j) \\in E                \\\\\n",
    "\\end{array}\n",
    "\\end{align}\n",
    "\n",
    "For simplicity, you may assume that all load nodes do not produce energy, i.e., $p_i = p_i^{\\min} = p_i^\\max = 0$ for all $i \\in \\mathcal{D}$. You may therefore model $p_i$ as decision variables for all nodes (both generator and load nodes). Similarly, you may assume that all generator nodes have no demand, i.e., $d_i = 0$ for all $i \\in \\mathcal{G}$.\n",
    "\n",
    "To summarize, the decision variables in the OPF problem are: \n",
    "- $p_i$ power injections\n",
    "- $\\theta_i$ phase angles\n",
    "- $f_{ij}$ power flows\n",
    "\n",
    "All the other quantities are instance dependent parameters."
   ]
  },
  {
   "cell_type": "markdown",
   "metadata": {
    "id": "BOJKv8sSuuV1"
   },
   "source": [
    "## Data\n"
   ]
  },
  {
   "cell_type": "markdown",
   "metadata": {
    "id": "-lny_r2OGnsJ"
   },
   "source": [
    "You will solve the OPF problem on the IEEE-118 power network, which is a standard test network consisting of 118 nodes and 179 edges. In the following, we will load the data into the notebook and provide a description of the data. Make sure to run the setup code below. We will first describe the data which are initially provided as `pandas.DataFrames`. We will then provide a new network data structure to easily access the data for the implementation of the optimization model."
   ]
  },
  {
   "cell_type": "markdown",
   "metadata": {
    "id": "NBPDMyoUuvxp"
   },
   "source": [
    "### Setup code"
   ]
  },
  {
   "cell_type": "code",
   "execution_count": 1,
   "metadata": {
    "ExecuteTime": {
     "end_time": "2022-03-23T18:11:17.642038Z",
     "start_time": "2022-03-23T18:11:12.866223Z"
    },
    "id": "bxwjVztvKQpk"
   },
   "outputs": [
    {
     "ename": "ModuleNotFoundError",
     "evalue": "No module named 'networkx'",
     "output_type": "error",
     "traceback": [
      "\u001b[0;31m---------------------------------------------------------------------------\u001b[0m",
      "\u001b[0;31mModuleNotFoundError\u001b[0m                       Traceback (most recent call last)",
      "Input \u001b[0;32mIn [1]\u001b[0m, in \u001b[0;36m<cell line: 9>\u001b[0;34m()\u001b[0m\n\u001b[1;32m      7\u001b[0m \u001b[38;5;28;01mimport\u001b[39;00m \u001b[38;5;21;01mmatplotlib\u001b[39;00m\u001b[38;5;21;01m.\u001b[39;00m\u001b[38;5;21;01mpyplot\u001b[39;00m \u001b[38;5;28;01mas\u001b[39;00m \u001b[38;5;21;01mplt\u001b[39;00m\n\u001b[1;32m      8\u001b[0m \u001b[38;5;28;01mfrom\u001b[39;00m \u001b[38;5;21;01mast\u001b[39;00m \u001b[38;5;28;01mimport\u001b[39;00m literal_eval \u001b[38;5;28;01mas\u001b[39;00m make_tuple\n\u001b[0;32m----> 9\u001b[0m \u001b[38;5;28;01mimport\u001b[39;00m \u001b[38;5;21;01mnetworkx\u001b[39;00m \u001b[38;5;28;01mas\u001b[39;00m \u001b[38;5;21;01mnx\u001b[39;00m\n\u001b[1;32m     10\u001b[0m \u001b[38;5;28;01mimport\u001b[39;00m \u001b[38;5;21;01mtime\u001b[39;00m \n\u001b[1;32m     12\u001b[0m \u001b[38;5;66;03m# Load GLPK solver\u001b[39;00m\n",
      "\u001b[0;31mModuleNotFoundError\u001b[0m: No module named 'networkx'"
     ]
    }
   ],
   "source": [
    "# Load packages\n",
    "import pyomo.environ as pyo\n",
    "from IPython.display import Markdown, HTML\n",
    "import numpy as np\n",
    "import numpy.random as rnd\n",
    "import pandas as pd\n",
    "import matplotlib.pyplot as plt\n",
    "from ast import literal_eval as make_tuple\n",
    "import networkx as nx\n",
    "import time \n",
    "\n",
    "# Load GLPK solver\n",
    "solver = pyo.SolverFactory('glpk', executable='/usr/bin/glpsol')"
   ]
  },
  {
   "cell_type": "markdown",
   "metadata": {
    "id": "4BgoE_qSM8aZ"
   },
   "source": [
    "### Data import"
   ]
  },
  {
   "cell_type": "code",
   "execution_count": null,
   "metadata": {
    "ExecuteTime": {
     "end_time": "2022-03-23T18:11:17.647734Z",
     "start_time": "2022-03-23T18:11:17.647718Z"
    },
    "id": "C98FtckVUESu"
   },
   "outputs": [],
   "source": [
    "# Download the data\n",
    "nodes_df = pd.read_csv('https://gist.githubusercontent.com/leonlan/0fce00d4ea330fd11d49f35c71ba5d8c/raw/146d180aad2ef67d451cd8745ccca98a6d2db68a/final_nodes.csv', index_col=0)\n",
    "edges_df = pd.read_csv('https://gist.githubusercontent.com/leonlan/0fce00d4ea330fd11d49f35c71ba5d8c/raw/5ce01cafcdf659e7f073fda31df731a1550683ef/final_edges.csv', index_col=0)\n",
    "\n",
    "# Read all instances\n",
    "nodes = nodes_df.groupby(\"instance\").apply(lambda data: data.set_index(\"node_id\").T.to_dict())\n",
    "edges = edges_df.set_index(edges_df[\"edge_id\"].apply(make_tuple)).T.to_dict()\n",
    "I = [{\"nodes\": n, \"edges\": edges} for n in nodes]\n",
    "\n",
    "# Initialize a network for demonstration purposes\n",
    "network = I[0]\n",
    "example_nodes = nodes_df[nodes_df.instance == 0]\n",
    "example_edges = nodes_df[nodes_df.instance == 0]"
   ]
  },
  {
   "cell_type": "markdown",
   "metadata": {
    "id": "DYkkFfFaKMRG"
   },
   "source": [
    "### Network data"
   ]
  },
  {
   "cell_type": "code",
   "execution_count": null,
   "metadata": {
    "ExecuteTime": {
     "end_time": "2022-03-23T18:11:17.649979Z",
     "start_time": "2022-03-23T18:11:17.649961Z"
    }
   },
   "outputs": [],
   "source": [
    "def visualize_network(network, edge_flows=None, ax=None):\n",
    "    \"\"\"Visualize a network instance, highlighting the generators in orange and the load buses in green.\"\"\"\n",
    "    plt.figure(figsize=[12, 10])\n",
    "    g = nx.DiGraph(network[\"edges\"].keys())\n",
    "    pos = nx.layout.kamada_kawai_layout(g, weight=None)\n",
    "\n",
    "    color_mapping = {'solar': '#ffcb36',\n",
    "     'wind': 'white',\n",
    "     'hydro': '#a5efff',\n",
    "     'coal': '#686868',\n",
    "     'gas': '#00ab4e',\n",
    "     np.nan: '#b6b6b6'}\n",
    "              \n",
    "    vertex2color = {i: color_mapping[data['energy_type']] for i, data in network['nodes'].items()}\n",
    "    v2c_list = [vertex2color[i] for i in g.nodes] # Order based on networkx\n",
    "\n",
    "    nodes = nx.draw_networkx_nodes(g, pos, node_size=250, node_color=v2c_list, linewidths=2,)\n",
    "    edges = nx.draw_networkx_edges(g, pos, width=2, edge_color='#595959',)\n",
    "\n",
    "    # Gives node colors\n",
    "    ax = plt.gca()\n",
    "    ax.collections[0].set_edgecolor(\"#595959\")\n",
    "    ax.set_axis_off()"
   ]
  },
  {
   "cell_type": "code",
   "execution_count": null,
   "metadata": {
    "ExecuteTime": {
     "end_time": "2022-03-23T18:11:17.651737Z",
     "start_time": "2022-03-23T18:11:17.651718Z"
    },
    "colab": {
     "base_uri": "https://localhost:8080/",
     "height": 575
    },
    "id": "Y9TQNZ44WvYw",
    "outputId": "755902d9-6a1b-48c0-f9e5-85a6a424dfe4"
   },
   "outputs": [],
   "source": [
    "visualize_network(network)"
   ]
  },
  {
   "cell_type": "markdown",
   "metadata": {
    "id": "rfhhtNijX9qV"
   },
   "source": [
    "The IEEE-118 network has 18 generators, of which:\n",
    "- 2 hydro plants (cyan)\n",
    "- 4 coal plants (dark gray)\n",
    "- 4 solarfarms (yellow)\n",
    "- 2 windmills (white)\n",
    "- 6 gas plants (green)\n",
    "\n",
    "Moreover, the network has 100 load nodes (gray). Each node has the following parameters: \n",
    "- `node_id`\n",
    "- `d`: demand\n",
    "- `p_min`: minimum production capacity\n",
    "- `p_max`: maximum production capacity\n",
    "- `c_var`: variable production costs\n",
    "- `is_generator`: boolean value to indicate whether the node is a generator or not\n",
    "- `energy_type`: the type of energy used for electricity production"
   ]
  },
  {
   "cell_type": "markdown",
   "metadata": {
    "id": "-s-TbCDsXp2m"
   },
   "source": [
    "All generator nodes can filtered by the `is_generator` parameter. All generators have a zero demand $d_i=0$. For the renewable energy sources (i.e., hydro, solar and wind) there are no variable costs `c_var`. For solar and wind, the production is fixed, i.e., `p_min = p_max`, meaning that all available solar and wind energy must be produced."
   ]
  },
  {
   "cell_type": "code",
   "execution_count": null,
   "metadata": {
    "ExecuteTime": {
     "end_time": "2022-03-23T18:11:17.653899Z",
     "start_time": "2022-03-23T18:11:17.653879Z"
    },
    "colab": {
     "base_uri": "https://localhost:8080/",
     "height": 614
    },
    "id": "lvjm6z_RqIWM",
    "outputId": "be17493a-b560-45d0-ac5e-fae4d64ccecd"
   },
   "outputs": [],
   "source": [
    " example_nodes[example_nodes.is_generator]"
   ]
  },
  {
   "cell_type": "markdown",
   "metadata": {
    "id": "uqSV2c7HKbKS"
   },
   "source": [
    "For the load nodes, the only important parameter is the demand $d_i \\geq 0$. All other parameters are either zero, `False`, or `NaN`."
   ]
  },
  {
   "cell_type": "code",
   "execution_count": null,
   "metadata": {
    "ExecuteTime": {
     "end_time": "2022-03-23T18:11:17.655599Z",
     "start_time": "2022-03-23T18:11:17.655580Z"
    },
    "colab": {
     "base_uri": "https://localhost:8080/",
     "height": 424
    },
    "id": "_07xln5tKWfr",
    "outputId": "1d2c6e86-6f52-485f-88cb-f3832ed185cb"
   },
   "outputs": [],
   "source": [
    " example_nodes[~example_nodes.is_generator]"
   ]
  },
  {
   "cell_type": "markdown",
   "metadata": {
    "id": "B1STSbdWG66p"
   },
   "source": [
    "### Edges"
   ]
  },
  {
   "cell_type": "markdown",
   "metadata": {
    "id": "n-6c0gu0G6u6"
   },
   "source": [
    "The IEEE-118 network has 179 edges. Each edge has the following parameters:\n",
    "- `edge_id`: the edge indices\n",
    "- `b`: the line susceptance, and\n",
    "- `f_max`: the maximum edge capacity."
   ]
  },
  {
   "cell_type": "code",
   "execution_count": null,
   "metadata": {
    "ExecuteTime": {
     "end_time": "2022-03-23T18:11:17.657053Z",
     "start_time": "2022-03-23T18:11:17.657034Z"
    },
    "colab": {
     "base_uri": "https://localhost:8080/",
     "height": 424
    },
    "id": "wKwPFK-PKi7-",
    "outputId": "5cb0ee57-3d01-4729-afd1-387d4e7a98fd"
   },
   "outputs": [],
   "source": [
    "edges_df"
   ]
  },
  {
   "cell_type": "markdown",
   "metadata": {
    "id": "eq4KDJO7Kk7F"
   },
   "source": [
    "### Network data structure\n",
    "When implementing optimization problems, it is often not the easiest way to access data directly through `pandas.DataFrames`. We have therefore provided a new type of data structure that will help to more easily implement an optimization problem. This data structure is also found in Exercise 5 & 6 from Computer Lab 1, which is as follows:\n",
    "```\n",
    "network = {\"nodes\": {i: {\"attr1\":  1, ...},\n",
    "                       ...\n",
    "                      },\n",
    "             \"edges\": {(i, j): {\"attr1\":  4, \"attr2\": 1, ...},\n",
    "                      ...\n",
    "                      }\n",
    "            }\n",
    "```\n",
    "In other words, each network consists of a dictionary, that contains a dictionary for nodes and edges, which again holds a dictionary for each node and edge. It might a be little bit confusing at first, but this data structure allows to easily access the parameters that you need for a specific constraint. For instance,"
   ]
  },
  {
   "cell_type": "code",
   "execution_count": null,
   "metadata": {
    "ExecuteTime": {
     "end_time": "2022-03-23T18:11:17.658270Z",
     "start_time": "2022-03-23T18:11:17.658256Z"
    },
    "colab": {
     "base_uri": "https://localhost:8080/"
    },
    "id": "PbM8vDT1NA1a",
    "outputId": "6d5c422d-3fcf-49ec-d3f5-78e8dd8bc3c8"
   },
   "outputs": [],
   "source": [
    "network['nodes'][1]['d']"
   ]
  },
  {
   "cell_type": "markdown",
   "metadata": {
    "id": "WrzBNPlPNVww"
   },
   "source": [
    "gives the demand of node `1`. To filter on generator nodes, you can use the following: "
   ]
  },
  {
   "cell_type": "code",
   "execution_count": null,
   "metadata": {
    "ExecuteTime": {
     "end_time": "2022-03-23T18:11:17.660266Z",
     "start_time": "2022-03-23T18:11:17.660227Z"
    },
    "colab": {
     "base_uri": "https://localhost:8080/"
    },
    "id": "0RarJ41Aarja",
    "outputId": "2e2be1bd-fb82-43a3-ca85-af43fde51c7e"
   },
   "outputs": [],
   "source": [
    "[i for i, data in network['nodes'].items() if data['is_generator']]"
   ]
  },
  {
   "cell_type": "markdown",
   "metadata": {
    "id": "6mA0zSPEhd6P"
   },
   "source": [
    "### Instances\n",
    "Since the OPF problem is solved every 15 minutes in practice, you will be given `24 * 4 = 96` network instances that need to be solved, hence solving an entire day's worth of OPF problems. The first instance thus corresponds to the power generation within time window `[00:00, 00:15]`, the second instance corresponds to `[00:15, 00:30]`, and so on. The data takes into account a realistic demand and (renewable energy) generation pattern. We assume that the decisions in each time window are independent of the previous and subsequent time windows, so every 15 minutes a new OPF instance is solved independently.\n",
    "\n",
    "The network instances are stored in the variable `I` as a list and can be accessed using indexing, i.e., `I[0]` gives the first network instance and `I[95]` gives the 96th network instance."
   ]
  },
  {
   "cell_type": "markdown",
   "metadata": {
    "id": "0GVlpC14Vixu"
   },
   "source": [
    "---"
   ]
  },
  {
   "cell_type": "markdown",
   "metadata": {
    "id": "Tejr2cdxtOWx"
   },
   "source": [
    "# Solving OPF\n",
    "Observe that the stated OPF problem contains absolute decision values. We first rewrite the OPF problem into a linear optimization problem."
   ]
  },
  {
   "cell_type": "markdown",
   "metadata": {
    "id": "e3OOTRW51cEj"
   },
   "source": [
    "\\begin{align}\n",
    "\\begin{array}{llll}\n",
    "\\min        & \\sum_{i \\in V} c_i p_i \\\\\n",
    "\\mbox{s.t.} & \\sum_{j: (i, j) \\in E} f^+_{ij} - f^-_{ij} - \\sum_{j: (j, i) \\in E} f^+_{ji} - f_{ji}^- = p_i - d_i & \\forall \\, i \\in V,\\\\\n",
    "& f^+_{ij} - f^-_{ij} =  b_{ij}(\\theta_i - \\theta_j), & \\forall \\, (i, j) \\in E, \\\\\n",
    "            & f^+_{ij} + f^-_{ij} \\leq  f_{ij}^{\\max}    & \\forall (i, j) \\in E,\\\\\n",
    "            & p_{i}^{\\min } \\leq p_{i} \\leq p_{i}^{\\max }         & \\forall i \\in V, \\\\\n",
    "            & p_i \\in \\mathbb{R}_{\\geq 0}        & \\forall i \\in V,                \\\\\n",
    "            & \\theta_i \\in \\mathbb{R} & \\forall i \\in V, \\\\\n",
    "            & f_{ij}^+, f_{ij}^- \\in \\mathbb{R}                 & \\forall (i, j) \\in E                \\\\\n",
    "\\end{array}\n",
    "\\end{align}"
   ]
  },
  {
   "cell_type": "markdown",
   "metadata": {},
   "source": [
    "We then implement the model using `pyomo` and solve it for all instances `I[0]` to `I[95]`, reporting the average objective value across all the 96 instances."
   ]
  },
  {
   "cell_type": "code",
   "execution_count": null,
   "metadata": {
    "ExecuteTime": {
     "end_time": "2022-03-23T18:11:17.662132Z",
     "start_time": "2022-03-23T18:11:17.662094Z"
    },
    "id": "Ef3-7skltzLA"
   },
   "outputs": [],
   "source": [
    "def OPF1(network):\n",
    "    \"\"\"\n",
    "    Input:\n",
    "    - network: a dictionary containing:\n",
    "      - a dictionary of nodes with a dictionary of attributes\n",
    "      - a dictionary of edges with a dictionary of attributes\n",
    "\n",
    "    Output:\n",
    "    - power_generation: a dictionary containing the power generation for each node\n",
    "    - power_flows: a dictionary containing the power flow for each edge\n",
    "    \"\"\"\n",
    "    \n",
    "    # Define a model\n",
    "    model = pyo.ConcreteModel(\"Q1\")\n",
    "\n",
    "    # Declare decision variables\n",
    "    model.p = pyo.Var(network[\"nodes\"], domain=pyo.NonNegativeReals)\n",
    "    model.theta = pyo.Var(network[\"nodes\"], domain=pyo.Reals)\n",
    "    model.fabs = pyo.Var(network[\"edges\"], domain=pyo.NonNegativeReals)\n",
    "    model.fp = pyo.Var(network[\"edges\"], domain=pyo.NonNegativeReals)\n",
    "    model.fm = pyo.Var(network[\"edges\"], domain=pyo.NonNegativeReals)\n",
    "\n",
    "    # Declare objective value\n",
    "    model.objective = pyo.Objective(expr = sum(data[\"c_var\"] * model.p[i] for i, data in network[\"nodes\"].items() if data[\"is_generator\"]), sense=pyo.minimize)\n",
    "\n",
    "    # Declare constraints\n",
    "    model.outgoing_flow = pyo.Expression(network[\"nodes\"], rule=lambda m, i: sum(m.fp[i, j] - m.fm[i, j] for j in network[\"nodes\"] if (i, j) in network[\"edges\"]))\n",
    "    model.incoming_flow = pyo.Expression(network[\"nodes\"], rule=lambda m, i: sum(m.fp[j, i] - m.fm[j, i] for j in network[\"nodes\"] if (j, i) in network[\"edges\"]))\n",
    "    model.flow_conservation = pyo.Constraint(network[\"nodes\"], rule=lambda m, i: m.outgoing_flow[i] - m.incoming_flow[i] == m.p[i] - network[\"nodes\"][i][\"d\"])\n",
    "    model.susceptance = pyo.Constraint(network[\"edges\"], rule=lambda m, i, j: m.fp[i, j] - m.fm[i, j] == network[\"edges\"][(i, j)][\"b\"] * (m.theta[i] - m.theta[j]))\n",
    "\n",
    "    model.abs_flows = pyo.Constraint(network[\"edges\"], rule=lambda m, *e: m.fabs[e] == m.fp[e] + m.fm[e])\n",
    "    model.flows_upper_bound = pyo.Constraint(network[\"edges\"], rule=lambda m, *e: m.fabs[e] <= network[\"edges\"][e][\"f_max\"])\n",
    "\n",
    "    model.generation_upper_bound = pyo.Constraint(network[\"nodes\"], rule=lambda m, i: m.p[i] <= network[\"nodes\"][i][\"p_max\"])\n",
    "    model.generation_lower_bound = pyo.Constraint(network[\"nodes\"], rule=lambda m, i: network[\"nodes\"][i][\"p_min\"] <= m.p[i])\n",
    "    \n",
    "    # Solve\n",
    "    result = solver.solve(model)\n",
    "    objective_value = model.objective()\n",
    "\n",
    "    return objective_value"
   ]
  },
  {
   "cell_type": "code",
   "execution_count": null,
   "metadata": {
    "ExecuteTime": {
     "end_time": "2022-03-23T18:11:17.664360Z",
     "start_time": "2022-03-23T18:11:17.664339Z"
    },
    "colab": {
     "base_uri": "https://localhost:8080/"
    },
    "id": "QLz2fF3mO4-G",
    "outputId": "c0a24850-b1c7-40ab-d6fb-f68ff70e1614"
   },
   "outputs": [],
   "source": [
    "print(f\"The average objective value over all instances is: {np.mean([OPF1(instance) for instance in I])}\")"
   ]
  },
  {
   "cell_type": "markdown",
   "metadata": {
    "id": "1oev1Tzdt8H7"
   },
   "source": [
    "# Strict fossil fuel policy pt.1\n",
    "Gas and coal plants emit CO2, while renewable energy sources are carbon neutral. For this reason, the Dutch government has decided to constrain the number of active fossil-fuel-based power plants for the generation of electricity. More specifically, a maximum of 2 gas plants and 1 coal plant may be *active* during a single OPF instance. Any plant that is set *inactive* for a specific instance cannot produce any electricity. \n",
    "\n",
    "We first write down the new model. To this end, we introduce new decision variables $x_i, i\\in V$ to the model, which indicate whether a generator $i$ is active or inactive."
   ]
  },
  {
   "cell_type": "markdown",
   "metadata": {
    "id": "xYasCqtb-OB4"
   },
   "source": [
    "\\begin{align}\n",
    "\\begin{array}{llll}\n",
    "\\min        & \\sum_{i \\in V} c_i p_i \\\\\n",
    "\\mbox{s.t.} & \\sum_{j: (i, j) \\in E} f^+_{ij} - f^-_{ij} - \\sum_{j: (j, i) \\in E} f^+_{ji} - f_{ji}^- = p_i - d_i & \\forall \\, i \\in V,\\\\\n",
    "& f^+_{ij} - f^-_{ij} =  b_{ij}(\\theta_i - \\theta_j), & \\forall \\, (i, j) \\in E, \\\\\n",
    "& f^{abs}_{ij} = f^+_{ij} + f^-_{ij}, & \\forall \\, (i, j) \\in E, \\\\\n",
    "            & f_{ij}^{abs} \\leq  f_{ij}^{\\max}    & \\forall (i, j) \\in E,\\\\\n",
    "            & p_{i}^{\\min } x_i \\leq p_{i} \\leq p_{i}^{\\max } x_i        & \\forall i \\in V, \\\\\n",
    "            & \\sum_{i \\in \\mathcal{G}_{\\text{gas}}} x_i \\leq 2 & \\\\\n",
    "            & \\sum_{i \\in \\mathcal{G}_{\\text{coal}}} x_i \\leq 1 &  \\\\\n",
    "            & p_i \\in \\mathbb{R}_{\\geq 0}        & \\forall i \\in V,                \\\\\n",
    "            & \\theta_i \\in \\mathbb{R} & \\forall i \\in V, \\\\\n",
    "            & f_{ij} \\in \\mathbb{R}                 & \\forall (i, j) \\in E                \\\\\n",
    "            & x_i  \\in \\{0, 1\\} & \\forall i \\in V\\\\\n",
    "\\end{array}\n",
    "\\end{align}"
   ]
  },
  {
   "cell_type": "markdown",
   "metadata": {
    "ExecuteTime": {
     "end_time": "2022-03-23T18:02:53.246060Z",
     "start_time": "2022-03-23T18:02:53.241912Z"
    }
   },
   "source": [
    "We then implement the new model using `pyomo` and solve it for all instances `I[0]` to `I[95]`, reporting the average objective value across the instances."
   ]
  },
  {
   "cell_type": "code",
   "execution_count": null,
   "metadata": {
    "ExecuteTime": {
     "end_time": "2022-03-23T18:11:17.666581Z",
     "start_time": "2022-03-23T18:11:17.666565Z"
    },
    "id": "26xrwlV9spHR"
   },
   "outputs": [],
   "source": [
    "def OPF2(network):\n",
    "    \"\"\"\n",
    "    Input:\n",
    "    - network: a dictionary containing:\n",
    "      - a dictionary of nodes with a dictionary of attributes\n",
    "      - a dictionary of edges with a dictionary of attributes\n",
    "\n",
    "    Output:\n",
    "    - power_generation: a dictionary containing the power generation for each node\n",
    "    - power_flows: a dictionary containing the power flow for each edge\n",
    "    \"\"\"\n",
    "    \n",
    "    # Define a model\n",
    "    model = pyo.ConcreteModel(\"Q2\")\n",
    "\n",
    "    # Declare decision variables\n",
    "    model.p = pyo.Var(network[\"nodes\"], domain=pyo.NonNegativeReals)\n",
    "    model.theta = pyo.Var(network[\"nodes\"], domain=pyo.Reals)\n",
    "    model.fabs = pyo.Var(network[\"edges\"], domain=pyo.NonNegativeReals)\n",
    "    model.fp = pyo.Var(network[\"edges\"], domain=pyo.NonNegativeReals)\n",
    "    model.fm = pyo.Var(network[\"edges\"], domain=pyo.NonNegativeReals)\n",
    "    model.x = pyo.Var(network[\"nodes\"], domain=pyo.Binary)\n",
    "\n",
    "    # Declare objective value\n",
    "    model.objective = pyo.Objective(expr = sum(data[\"c_var\"] * model.p[i] for i, data in network[\"nodes\"].items() if data[\"is_generator\"]), sense=pyo.minimize)\n",
    "\n",
    "    # Declare constraints\n",
    "    model.outgoing_flow = pyo.Expression(network[\"nodes\"], rule=lambda m, i: sum(m.fp[i, j] - m.fm[i, j] for j in network[\"nodes\"] if (i, j) in network[\"edges\"]))\n",
    "    model.incoming_flow = pyo.Expression(network[\"nodes\"], rule=lambda m, i: sum(m.fp[j, i] - m.fm[j, i] for j in network[\"nodes\"] if (j, i) in network[\"edges\"]))\n",
    "    model.flow_conservation = pyo.Constraint(network[\"nodes\"], rule=lambda m, i: m.outgoing_flow[i] - m.incoming_flow[i] == m.p[i] - network[\"nodes\"][i][\"d\"])\n",
    "    model.susceptance = pyo.Constraint(network[\"edges\"], rule=lambda m, i, j: m.fp[i, j] - m.fm[i, j] == network[\"edges\"][(i, j)][\"b\"] * (m.theta[i] - m.theta[j]))\n",
    "\n",
    "    model.abs_flows = pyo.Constraint(network[\"edges\"], rule=lambda m, *e: m.fabs[e] == m.fp[e] + m.fm[e])\n",
    "    model.flows_upper_bound = pyo.Constraint(network[\"edges\"], rule=lambda m, *e: m.fabs[e] <= network[\"edges\"][e][\"f_max\"])\n",
    "\n",
    "    model.generation_upperound = pyo.Constraint(network[\"nodes\"], rule=lambda m, i: m.p[i] <= network[\"nodes\"][i][\"p_max\"] * m.x[i])\n",
    "    model.generation_lower_bound = pyo.Constraint(network[\"nodes\"], rule=lambda m, i: network[\"nodes\"][i][\"p_min\"] * m.x[i] <= m.p[i])\n",
    "    \n",
    "    model.max_gas_plants = pyo.Constraint(rule = sum(model.x[i] for i, data in network[\"nodes\"].items() if data['energy_type'] == 'gas') <= 2)\n",
    "    model.max_coal_plants = pyo.Constraint(rule = sum(model.x[i] for i, data in network[\"nodes\"].items() if data['energy_type'] == 'coal') <= 1)\n",
    "\n",
    "    # Solve\n",
    "    result = solver.solve(model)\n",
    "    objective_value = model.objective()\n",
    "\n",
    "    return objective_value"
   ]
  },
  {
   "cell_type": "code",
   "execution_count": null,
   "metadata": {
    "ExecuteTime": {
     "end_time": "2022-03-23T18:11:17.668379Z",
     "start_time": "2022-03-23T18:11:17.668356Z"
    },
    "colab": {
     "base_uri": "https://localhost:8080/"
    },
    "id": "gyHAm3pnb4sn",
    "outputId": "0abb7915-d961-4ab4-a98e-5e1db43fa2be"
   },
   "outputs": [],
   "source": [
    "print(f\"The average objective value over all instances is: {np.mean([OPF2(instance) for instance in I])}\")"
   ]
  },
  {
   "cell_type": "markdown",
   "metadata": {
    "id": "VY8Kj9ZWc__P"
   },
   "source": [
    "# Strict fossil fuel policy pt.2\n",
    "The restriction on the number of gas and coal plants may pose a threat to the availability of electricity production when renewable energy sources fail to deliver. For this reason, the grid operators have decided to slightly change the constraint that was introduced for OPF2. If the total production of energy from renewable energy sources (i.e., solar, wind and hydro) is above 1000, then the number of gas and coal plants is restricted to 2 and 1, respectively. Otherwise, the restriction on the number of gas and coal plants is lifted. These constraints can be modeled as *either-or* constraints. \n",
    "  \n",
    "We first write down the new model, using big-$M$ constraints to model the either-or constraint."
   ]
  },
  {
   "cell_type": "markdown",
   "metadata": {
    "id": "JqsKBVwIddZ2"
   },
   "source": [
    "\\begin{align}\n",
    "\\begin{array}{llll}\n",
    "\\min        & \\sum_{i \\in V} c_i p_i \\\\\n",
    "\\mbox{s.t.} & \\sum_{j: (i, j) \\in E} f^+_{ij} - f^-_{ij} - \\sum_{j: (j, i) \\in E} f^+_{ji} - f_{ji}^- = p_i - d_i & \\forall \\, i \\in V,\\\\\n",
    "& f^+_{ij} - f^-_{ij} =  b_{ij}(\\theta_i - \\theta_j), & \\forall \\, (i, j) \\in E, \\\\\n",
    "& f^{abs}_{ij} = f^+_{ij} + f^-_{ij}, & \\forall \\, (i, j) \\in E, \\\\\n",
    "            & f_{ij}^{abs} \\leq  f_{ij}^{\\max}    & \\forall (i, j) \\in E,\\\\\n",
    "            & p_{i}^{\\min } x_i \\leq p_{i} \\leq p_{i}^{\\max } x_i        & \\forall i \\in V, \\\\\n",
    "            & \\sum_{i \\in \\mathcal{G}_{\\text{gas}}} x_i \\leq 2 + (1-y)M_0 & \\\\\n",
    "            & \\sum_{i \\in \\mathcal{G}_{\\text{coal}}} x_i \\leq 1 + (1-y)M_1 &  \\\\\n",
    "            & \\sum_{i \\in \\mathcal{G}_\\text{solar}} p_i + \\sum_{i \\in \\mathcal{G}_\\text{wind}} p_i + \\sum_{i \\in \\mathcal{G}_\\text{hydro}} p_i \\leq 1000 + yM_2&\\\\\n",
    "            & p_i \\in \\mathbb{R}_{\\geq 0}        & \\forall i \\in V,                \\\\\n",
    "            & \\theta_i \\in \\mathbb{R} & \\forall i \\in V, \\\\\n",
    "            & f_{ij} \\in \\mathbb{R}                 & \\forall (i, j) \\in E                \\\\\n",
    "            & x_i  \\in \\{0, 1\\} & \\forall i \\in V\\\\\n",
    "            & y \\in \\{0, 1\\} &\\\\\n",
    "\\end{array}\n",
    "\\end{align}"
   ]
  },
  {
   "cell_type": "markdown",
   "metadata": {},
   "source": [
    "We now implement the new model using `pyomo` and solve it for all instances `I[0]` to `I[95]`, reporting the average objective value across the instances."
   ]
  },
  {
   "cell_type": "code",
   "execution_count": null,
   "metadata": {
    "ExecuteTime": {
     "end_time": "2022-03-23T18:11:17.670681Z",
     "start_time": "2022-03-23T18:11:17.670630Z"
    },
    "id": "JSWgoI5SsjgR"
   },
   "outputs": [],
   "source": [
    "def OPF3(network):\n",
    "    \"\"\"\n",
    "    Input:\n",
    "    - network: a dictionary containing:\n",
    "      - a dictionary of nodes with a dictionary of attributes\n",
    "      - a dictionary of edges with a dictionary of attributes\n",
    "\n",
    "    Output:\n",
    "    - power_generation: a dictionary containing the power generation for each node\n",
    "    - power_flows: a dictionary containing the power flow for each edge\n",
    "    \"\"\"\n",
    "    \n",
    "    # Define a model\n",
    "    model = pyo.ConcreteModel(\"Q3\")\n",
    "\n",
    "    # Declare decision variables\n",
    "    model.p = pyo.Var(network[\"nodes\"], domain=pyo.NonNegativeReals)\n",
    "    model.theta = pyo.Var(network[\"nodes\"], domain=pyo.Reals)\n",
    "    model.fabs = pyo.Var(network[\"edges\"], domain=pyo.NonNegativeReals)\n",
    "    model.fp = pyo.Var(network[\"edges\"], domain=pyo.NonNegativeReals)\n",
    "    model.fm = pyo.Var(network[\"edges\"], domain=pyo.NonNegativeReals)\n",
    "    model.x = pyo.Var(network[\"nodes\"], domain=pyo.Binary)\n",
    "    model.y = pyo.Var(domain=pyo.Binary)\n",
    "\n",
    "    # Big-Ms\n",
    "    max_total_renewable_production = sum(data['p_max'] for i, data in network[\"nodes\"].items() if data['energy_type'] in ['solar', 'wind', 'hydro'])\n",
    "    M = [4, 3, max_total_renewable_production - 1000]\n",
    "\n",
    "    # Declare objective value\n",
    "    model.objective = pyo.Objective(expr = sum(data[\"c_var\"] * model.p[i] for i, data in network[\"nodes\"].items() if data[\"is_generator\"]), sense=pyo.minimize)\n",
    "\n",
    "    # Declare constraints\n",
    "    model.outgoing_flow = pyo.Expression(network[\"nodes\"], rule=lambda m, i: sum(m.fp[i, j] - m.fm[i, j] for j in network[\"nodes\"] if (i, j) in network[\"edges\"]))\n",
    "    model.incoming_flow = pyo.Expression(network[\"nodes\"], rule=lambda m, i: sum(m.fp[j, i] - m.fm[j, i] for j in network[\"nodes\"] if (j, i) in network[\"edges\"]))\n",
    "    model.flow_conservation = pyo.Constraint(network[\"nodes\"], rule=lambda m, i: m.outgoing_flow[i] - m.incoming_flow[i] == m.p[i] - network[\"nodes\"][i][\"d\"])\n",
    "    model.susceptance = pyo.Constraint(network[\"edges\"], rule=lambda m, i, j: m.fp[i, j] - m.fm[i, j] == network[\"edges\"][(i, j)][\"b\"] * (m.theta[i] - m.theta[j]))\n",
    "\n",
    "    model.abs_flows = pyo.Constraint(network[\"edges\"], rule=lambda m, *e: m.fabs[e] == m.fp[e] + m.fm[e])\n",
    "    model.flows_upper_bound = pyo.Constraint(network[\"edges\"], rule=lambda m, *e: m.fabs[e] <= network[\"edges\"][e][\"f_max\"])\n",
    "\n",
    "    model.generation_upper_bound = pyo.Constraint(network[\"nodes\"], rule=lambda m, i: m.p[i] <= network[\"nodes\"][i][\"p_max\"] * m.x[i])\n",
    "    model.generation_lower_bound = pyo.Constraint(network[\"nodes\"], rule=lambda m, i: network[\"nodes\"][i][\"p_min\"] * m.x[i] <= m.p[i])\n",
    "    \n",
    "    model.max_gas_plants = pyo.Constraint(rule = sum(model.x[i] for i, data in network[\"nodes\"].items() if data['energy_type'] == 'gas') <= 2 + (1 - model.y) * M[0])\n",
    "    model.max_coal_plants = pyo.Constraint(rule = sum(model.x[i] for i, data in network[\"nodes\"].items() if data['energy_type'] == 'coal') <= 1 + (1 - model.y) * M[1])\n",
    "\n",
    "    model.renewable_energy_production = pyo.Constraint(rule = sum(model.p[i] for i, data in network[\"nodes\"].items() if data['energy_type'] in ['solar', 'wind', 'hydro']) <= 1000 + model.y * M[2])\n",
    "    \n",
    "    # Solve\n",
    "    result = solver.solve(model)\n",
    "    objective_value = model.objective()\n",
    "\n",
    "    return objective_value"
   ]
  },
  {
   "cell_type": "code",
   "execution_count": null,
   "metadata": {
    "ExecuteTime": {
     "end_time": "2022-03-23T18:11:17.672765Z",
     "start_time": "2022-03-23T18:11:17.672746Z"
    },
    "colab": {
     "base_uri": "https://localhost:8080/"
    },
    "id": "v9S9D--ONiTU",
    "outputId": "86edf3cb-2089-4112-cf69-a9505ae71427"
   },
   "outputs": [],
   "source": [
    "print(f\"The average objective value over all instances is: {np.mean([OPF3(instance) for instance in I])}\")"
   ]
  },
  {
   "cell_type": "markdown",
   "metadata": {
    "id": "_k1ovuJ3M6cj"
   },
   "source": [
    "# Comparing the three models\n",
    "For all three implemented models, plot the objective values for all instances. Explain the differences between the objective values in view of the different feasible regions."
   ]
  },
  {
   "cell_type": "code",
   "execution_count": null,
   "metadata": {
    "ExecuteTime": {
     "end_time": "2022-03-23T18:11:17.674225Z",
     "start_time": "2022-03-23T18:11:17.674206Z"
    },
    "id": "GHgw23f1PprC"
   },
   "outputs": [],
   "source": [
    "objs = [[], [], []]\n",
    "for i, instance in enumerate(I):\n",
    "  objs[0].append(OPF1(instance))\n",
    "  objs[1].append(OPF2(instance))\n",
    "  objs[2].append(OPF3(instance))"
   ]
  },
  {
   "cell_type": "code",
   "execution_count": null,
   "metadata": {
    "ExecuteTime": {
     "end_time": "2022-03-23T18:11:17.676081Z",
     "start_time": "2022-03-23T18:11:17.676034Z"
    },
    "colab": {
     "base_uri": "https://localhost:8080/",
     "height": 295
    },
    "id": "EWdEKlqUoOD1",
    "outputId": "99235551-e889-40b9-f376-e0fb55e14403"
   },
   "outputs": [],
   "source": [
    "plt.plot(objs[0], color='blue', label='OPF1')\n",
    "plt.plot(objs[1], color='green', label='OPF2')\n",
    "plt.plot(objs[2], color='orange', label='OPF3')\n",
    "plt.title('Optimal objective values over all instances and models')\n",
    "plt.xlabel('Instance number')\n",
    "plt.ylabel('Optimal objective value')\n",
    "plt.legend()\n",
    "plt.show()"
   ]
  },
  {
   "cell_type": "markdown",
   "metadata": {
    "id": "7Hu_sSNArXCM"
   },
   "source": [
    "The goal of the OPF problem is to minimize the total costs of dispatching energy. In what follows, we refer to the earlier described models as OPF1, OPF2 and OPF3, respectively.\n",
    "\n",
    "OPF1 is the original OPF formulation, whereas OPF2 and OPF3 are restricted versions of OPF1. This means that the feasible region of OPF1 is at least as large as OPF2 and OPF3, where we may assume that $x_i = 1$ for all the generators $i$.\n",
    "\n",
    "If we let $F_1, F_2, F_3$ denote the feasible region of OPF1, OPF2 and OPF3, then we observe that\n",
    "which explains that the optimal objective value of OPF1 always remains below the optimal objectives values of OPF2 and OPF3.\n",
    "\n",
    "The most important observation to make is that based on the problem descriptions, we would expect OPF2 to take on the objective values of OPF1 or OPF3, depending on which of the either-or-constraints are activated. \n",
    "- OPF3 uses expensive generators, and possibly not all the renewable energy\n",
    "- OPF2 does only uses 1000 renewable energy power, because then it may keep using all the gas and coal generators. \n",
    "- OPF1 uses all renewable energy at all times, because it has the flexibility to use all generators in order to mitigate operational restrictions due to line flows."
   ]
  }
 ],
 "metadata": {
  "colab": {
   "collapsed_sections": [],
   "name": "Copy of First assignment - Mathematical Optimization 2021-2022 - Solutions",
   "provenance": [],
   "toc_visible": true
  },
  "kernelspec": {
   "display_name": "Python 3 (ipykernel)",
   "language": "python",
   "name": "python3"
  },
  "language_info": {
   "codemirror_mode": {
    "name": "ipython",
    "version": 3
   },
   "file_extension": ".py",
   "mimetype": "text/x-python",
   "name": "python",
   "nbconvert_exporter": "python",
   "pygments_lexer": "ipython3",
   "version": "3.10.2"
  },
  "toc": {
   "base_numbering": 1,
   "nav_menu": {},
   "number_sections": true,
   "sideBar": true,
   "skip_h1_title": false,
   "title_cell": "Table of Contents",
   "title_sidebar": "Contents",
   "toc_cell": false,
   "toc_position": {},
   "toc_section_display": true,
   "toc_window_display": false
  },
  "varInspector": {
   "cols": {
    "lenName": 16,
    "lenType": 16,
    "lenVar": 40
   },
   "kernels_config": {
    "python": {
     "delete_cmd_postfix": "",
     "delete_cmd_prefix": "del ",
     "library": "var_list.py",
     "varRefreshCmd": "print(var_dic_list())"
    },
    "r": {
     "delete_cmd_postfix": ") ",
     "delete_cmd_prefix": "rm(",
     "library": "var_list.r",
     "varRefreshCmd": "cat(var_dic_list()) "
    }
   },
   "types_to_exclude": [
    "module",
    "function",
    "builtin_function_or_method",
    "instance",
    "_Feature"
   ],
   "window_display": false
  }
 },
 "nbformat": 4,
 "nbformat_minor": 1
}
