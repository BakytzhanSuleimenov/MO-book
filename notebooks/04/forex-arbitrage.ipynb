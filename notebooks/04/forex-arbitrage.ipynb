{
 "cells": [
  {
   "cell_type": "markdown",
   "metadata": {
    "id": "uf-ZAG8ddOxf"
   },
   "source": [
    "# Forex Arbitrage\n",
    "\n",
    "This notebook presents an example of linear optimization on a network model for financial transactions. The goal is to identify whether or not an arbitrage opportunity exists given a matrix of cross-currency exchange rates. Other treatments of this problem and application are available, including the following links.\n",
    "\n",
    "* [Crypto Arbitrage Framework](https://github.com/hzjken/crypto-arbitrage-framework)\n",
    "* [Crypto Trading and Arbitrage Identification Strategies](https://nbviewer.org/github/rcroessmann/sharing_public/blob/master/arbitrage_identification.ipynb)\n"
   ]
  },
  {
   "cell_type": "code",
   "execution_count": 9,
   "metadata": {
    "colab": {
     "base_uri": "https://localhost:8080/"
    },
    "executionInfo": {
     "elapsed": 9828,
     "status": "ok",
     "timestamp": 1647615556911,
     "user": {
      "displayName": "Jeffrey Kantor",
      "photoUrl": "https://lh3.googleusercontent.com/a-/AOh14Gg_n8V7bVINy02QRuRgOoMo11Ri7NKU3OUKdC1bkQ=s64",
      "userId": "09038942003589296665"
     },
     "user_tz": 240
    },
    "id": "RkfYiXhygbos",
    "outputId": "e418700e-0848-495b-ed17-38e23604ce1e"
   },
   "outputs": [
    {
     "name": "stdout",
     "output_type": "stream",
     "text": [
      "pyomo was previously installed\n",
      "glpk was previously installed\n"
     ]
    },
    {
     "data": {
      "text/plain": [
       "True"
      ]
     },
     "execution_count": 9,
     "metadata": {},
     "output_type": "execute_result"
    }
   ],
   "source": [
    "# install pyomo and select solver\n",
    "import sys\n",
    "\n",
    "SOLVER = \"cbc\"\n",
    "\n",
    "if \"google.colab\" in sys.modules:\n",
    "    !pip install highspy >/dev/null\n",
    "    SOLVER = \"appsi_highs\""
   ]
  },
  {
   "cell_type": "markdown",
   "metadata": {
    "id": "uf-ZAG8ddOxf"
   },
   "source": [
    "## Problem\n",
    "\n",
    "Exchanging one currency for another is among the most common of all banking transactions. Currencies are normally priced relative to each other. \n",
    "\n",
    "At this moment of this writing, for example, the Japanese yen (symbol JPY) is priced at 0.00761 relative to the euro (symbol EUR). At this price 100 euros would purchase 100/0.00761 = 13,140.6 yen. Conversely, EUR is priced at 131.585 yen.  The 'round-trip' of 100 euros from EUR to JPY and back to EUR results in\n",
    "\n",
    "$$100 \\text{ EUR} \\times \\frac{1\\text{ JPY}}{0.00761\\text{ EUR}} {\\quad\\longrightarrow\\quad} 12,140.6 \\text{ JPY} \\times\\frac{1\\text{ EUR}}{131.585\\text{ JPY}} {\\quad\\longrightarrow\\quad} 99.9954\\text{ EUR}$$\n",
    "\n",
    "The small loss in this round-trip transaction is the fee collected by the brokers and banking system to provide these services. \n",
    "\n",
    "Needless to say, if a simple round-trip transaction like this reliably produced a net gain then there would many eager traders ready to take advantage of the situation. Trading situations offering a net gain with no risk are called arbitrage, and are the subject of intense interest by traders in the foreign exchange (forex) and crypto-currency markets around the globe.\n",
    "\n",
    "As one might expect, arbitrage opportunities involving a simple round-trip between a pair of currencies are almost non-existent in real-world markets. When the do appear, they are easily detected and rapid and automated trading  quickly exploit the situation. More complex arbitrage opportunities, however, can arise when working with three more currencies and a table of cross-currency exchange rates.\n",
    "\n"
   ]
  },
  {
   "cell_type": "markdown",
   "metadata": {
    "id": "J-ADrgCoQP3L"
   },
   "source": [
    "## Demonstration of Triangular Arbitrage\n",
    "\n",
    "Consider the following cross-currency matrix. \n",
    "\n",
    "| i <- J | USD | EUR | JPY |\n",
    "| :--- | :---: | :---: | :---: |\n",
    "| USD | 1.0 | 2.0 | 0.01 |\n",
    "| EUR | 0.5 | 1.0 | 0.0075 |\n",
    "| JPY | 100.0 | 133 1/3 | 1.0 |\n",
    "\n",
    "\n",
    "Entry $a_{m, n}$ is the number units of currency $m$ received in exchange for one unit of currency $n$.  We use the notation \n",
    "\n",
    "$$a_{m, n} = a_{m \\leftarrow n}$$\n",
    "\n",
    "as reminder of what the entries denote. For this data there are no two way arbitrage opportunities. We can check this by explicitly computing all two-way currency exchanges\n",
    "\n",
    "$$I \\rightarrow J \\rightarrow I$$\n",
    "\n",
    "by computing\n",
    "\n",
    "$$ a_{i \\leftarrow j} \\times a_{j \\leftarrow i}$$\n",
    "\n",
    "This data set shows no net cost and no arbitrage for conversion from one currency to another and back again."
   ]
  },
  {
   "cell_type": "code",
   "execution_count": 10,
   "metadata": {
    "colab": {
     "base_uri": "https://localhost:8080/",
     "height": 196
    },
    "executionInfo": {
     "elapsed": 208,
     "status": "ok",
     "timestamp": 1647604331600,
     "user": {
      "displayName": "Jeffrey Kantor",
      "photoUrl": "https://lh3.googleusercontent.com/a-/AOh14Gg_n8V7bVINy02QRuRgOoMo11Ri7NKU3OUKdC1bkQ=s64",
      "userId": "09038942003589296665"
     },
     "user_tz": 240
    },
    "id": "TsL1c79nx3aN",
    "outputId": "59b9aec9-bae7-426a-9556-27fc0787ebdd"
   },
   "outputs": [
    {
     "data": {
      "text/html": [
       "<div>\n",
       "<style scoped>\n",
       "    .dataframe tbody tr th:only-of-type {\n",
       "        vertical-align: middle;\n",
       "    }\n",
       "\n",
       "    .dataframe tbody tr th {\n",
       "        vertical-align: top;\n",
       "    }\n",
       "\n",
       "    .dataframe thead th {\n",
       "        text-align: right;\n",
       "    }\n",
       "</style>\n",
       "<table border=\"1\" class=\"dataframe\">\n",
       "  <thead>\n",
       "    <tr style=\"text-align: right;\">\n",
       "      <th></th>\n",
       "      <th>USD</th>\n",
       "      <th>EUR</th>\n",
       "      <th>JPY</th>\n",
       "    </tr>\n",
       "  </thead>\n",
       "  <tbody>\n",
       "    <tr>\n",
       "      <th>USD</th>\n",
       "      <td>1.0</td>\n",
       "      <td>2.000000</td>\n",
       "      <td>0.0100</td>\n",
       "    </tr>\n",
       "    <tr>\n",
       "      <th>EUR</th>\n",
       "      <td>0.5</td>\n",
       "      <td>1.000000</td>\n",
       "      <td>0.0075</td>\n",
       "    </tr>\n",
       "    <tr>\n",
       "      <th>JPY</th>\n",
       "      <td>100.0</td>\n",
       "      <td>133.333333</td>\n",
       "      <td>1.0000</td>\n",
       "    </tr>\n",
       "  </tbody>\n",
       "</table>\n",
       "</div>"
      ],
      "text/plain": [
       "       USD         EUR     JPY\n",
       "USD    1.0    2.000000  0.0100\n",
       "EUR    0.5    1.000000  0.0075\n",
       "JPY  100.0  133.333333  1.0000"
      ]
     },
     "metadata": {},
     "output_type": "display_data"
    },
    {
     "name": "stdout",
     "output_type": "stream",
     "text": [
      "1.0\n",
      "1.0\n",
      "1.0\n"
     ]
    }
   ],
   "source": [
    "import pandas as pd\n",
    "\n",
    "df = pd.DataFrame([[1.0, 0.5, 100], [2.0, 1.0, 1/0.0075], [0.01, 0.0075, 1.0]],\n",
    "                  columns = ['USD', 'EUR', 'JPY'],\n",
    "                  index = ['USD', 'EUR', 'JPY']).T\n",
    "\n",
    "display(df)\n",
    "\n",
    "# USD -> EUR -> USD\n",
    "print(df.loc['USD', 'EUR'] * df.loc['EUR', 'USD'])\n",
    "\n",
    "# USD -> JPY -> USD\n",
    "print(df.loc['USD', 'JPY'] * df.loc['JPY', 'USD'])\n",
    "\n",
    "# EUR -> JPY -> EUR\n",
    "print(df.loc['EUR', 'JPY'] * df.loc['JPY', 'EUR'])\n"
   ]
  },
  {
   "cell_type": "markdown",
   "metadata": {
    "id": "wmcvV5oiQ27w"
   },
   "source": [
    "Now consider a currency exchange comprised of three trades that returns back to the same currency.\n",
    "\n",
    "$$ I \\rightarrow J \\rightarrow K \\rightarrow I $$\n",
    "\n",
    "The net exchange rate can be computed as\n",
    "\n",
    "$$ a_{i \\leftarrow k} \\times a_{k \\leftarrow j} \\times a_{j \\leftarrow i} $$\n",
    "\n",
    "By direct calculation we see there is a three-way **triangular** arbitrage opportunity for this data set that returns a 50% increase in wealth."
   ]
  },
  {
   "cell_type": "code",
   "execution_count": 11,
   "metadata": {
    "colab": {
     "base_uri": "https://localhost:8080/"
    },
    "executionInfo": {
     "elapsed": 2,
     "status": "ok",
     "timestamp": 1647604332177,
     "user": {
      "displayName": "Jeffrey Kantor",
      "photoUrl": "https://lh3.googleusercontent.com/a-/AOh14Gg_n8V7bVINy02QRuRgOoMo11Ri7NKU3OUKdC1bkQ=s64",
      "userId": "09038942003589296665"
     },
     "user_tz": 240
    },
    "id": "MvHEDf2zUJqS",
    "outputId": "d8570d6e-d2b8-41af-dc6e-47c3afce010d"
   },
   "outputs": [
    {
     "name": "stdout",
     "output_type": "stream",
     "text": [
      "1.5\n"
     ]
    }
   ],
   "source": [
    "I = 'USD'\n",
    "J = 'JPY'\n",
    "K = 'EUR'\n",
    "\n",
    "print(df.loc[I, K] * df.loc[K, J] * df.loc[J, I])"
   ]
  },
  {
   "cell_type": "markdown",
   "metadata": {
    "id": "SGv4WjmTx3aO"
   },
   "source": [
    "Our challenge is create a model that can identify complex arbitrage opportunities that may exist in cross-currency forex markets."
   ]
  },
  {
   "cell_type": "markdown",
   "metadata": {
    "id": "Y_tuUX8XqnwA"
   },
   "source": [
    "## Modeling\n",
    "\n",
    "The cross-currency table $A$ provides exchange rates among currencies. Entry $a_{i,j}$ in row $i$, column $j$ tells us how many units of currency $i$ are received in exchange for one unit of currency $j$. We'll use the notation $a_{i, j} = a_{i\\leftarrow j}$ to remind ourselves of this relationship.\n",
    "\n",
    "We start with $w_j(0)$ units of currency $j \\in N$, where $N$ is the set of all currencies in the data set. We consider a sequence of trades $t = 1, 2, \\ldots, T$ where $w_j(t)$ is the amount of currency $j$ on hand after completing trade $t$.\n",
    "\n",
    "Each trade is executed in two phases. In the first phase an amount $x_{i\\leftarrow j}(t)$  of currency $j$ is committed for exchange to currency $i$. This allows a trade to include multiple currency transactions. After the commitment the unencumbered balance for currency $j$ must satisfy trading constraints. Each trade consists of simultaneous transactions in one or more currencies.\n",
    "\n",
    "$$w_j(t-1) - \\sum_{i\\ne j} x_{i\\leftarrow j}(t) \\geq 0$$\n",
    "\n",
    "Here a lower bound has been placed to prohibit short-selling of currency $j$. This constraint could be modified if leveraging is allowed on the exchange.\n",
    "\n",
    "The second phase of the trade is complete when the exchange credits all of the currency accounts according to\n",
    "\n",
    "$$ w_j(t) = w_j(t-1) - \\underbrace{\\sum_{i\\ne j} x_{i\\leftarrow j}(t)}_{\\text{outgoing}} + \\underbrace{\\sum_{i\\ne j} a_{j\\leftarrow i}x_{j\\leftarrow i}(t)}_{\\text{incoming}} $$\n",
    "\n",
    "We assume all trading fees and costs are represented in the bid/ask spreads represented by $a_{j\\leftarrow i}$\n",
    "\n",
    "The goal of this calculation is to find a set of transactions $x_{i\\leftarrow j}(t) \\geq 0$ to maximize the value of portfolio after a specified number of trades $T$.\n"
   ]
  },
  {
   "cell_type": "code",
   "execution_count": 12,
   "metadata": {
    "colab": {
     "base_uri": "https://localhost:8080/"
    },
    "executionInfo": {
     "elapsed": 133,
     "status": "ok",
     "timestamp": 1647604334065,
     "user": {
      "displayName": "Jeffrey Kantor",
      "photoUrl": "https://lh3.googleusercontent.com/a-/AOh14Gg_n8V7bVINy02QRuRgOoMo11Ri7NKU3OUKdC1bkQ=s64",
      "userId": "09038942003589296665"
     },
     "user_tz": 240
    },
    "id": "NzTVF6JOW8-S",
    "outputId": "cec33270-6287-4fc9-82a3-6b71471c1ab6"
   },
   "outputs": [
    {
     "name": "stdout",
     "output_type": "stream",
     "text": [
      "\n",
      "t = 0\n",
      "\n",
      "w[USD,0] =      0.00 \n",
      "w[EUR,0] =    100.00 \n",
      "w[JPY,0] =      0.00 \n",
      "\n",
      "t = 1\n",
      "\n",
      "EUR -> USD  Convert 100.0 EUR to 200.0 USD\n",
      "\n",
      "w[USD,1] =    200.00 \n",
      "w[EUR,1] =      0.00 \n",
      "w[JPY,1] =      0.00 \n",
      "\n",
      "t = 2\n",
      "\n",
      "USD -> JPY  Convert 200.0 USD to 20000.0 JPY\n",
      "\n",
      "w[USD,2] =      0.00 \n",
      "w[EUR,2] =      0.00 \n",
      "w[JPY,2] =  20000.00 \n",
      "\n",
      "t = 3\n",
      "\n",
      "JPY -> EUR  Convert 20000.0 JPY to 150.0 EUR\n",
      "\n",
      "w[USD,3] =      0.00 \n",
      "w[EUR,3] =    150.00 \n",
      "w[JPY,3] =      0.00 \n",
      "100.0\n",
      "150.0\n"
     ]
    }
   ],
   "source": [
    "import pyomo.environ as pyo\n",
    "import numpy as np\n",
    "from graphviz import Digraph\n",
    "\n",
    "def arbitrage(T, df, R='EUR'):\n",
    "\n",
    "    m = pyo.ConcreteModel()\n",
    "\n",
    "    # length of trading chain\n",
    "    m.T0 = pyo.RangeSet(0, T)\n",
    "\n",
    "    # number of transactions\n",
    "    m.T1 = pyo.RangeSet(1, T)\n",
    "\n",
    "    # currency *nodes*\n",
    "    m.NODES = pyo.Set(initialize=df.index)\n",
    "\n",
    "    # paths between currency nodes i -> j\n",
    "    m.ARCS = pyo.Set(initialize = m.NODES * m.NODES, filter = lambda arb, i, j: i != j)\n",
    "\n",
    "    # w[i, t] amount of currency i on hand after transaction t\n",
    "    m.w = pyo.Var(m.NODES, m.T0, domain=pyo.NonNegativeReals)\n",
    "\n",
    "    # x[m, n, t] amount of currency m converted to currency n in transaction t t\n",
    "    m.x = pyo.Var(m.ARCS, m.T1, domain=pyo.NonNegativeReals)\n",
    "    \n",
    "    # start with assignment of 100 units of a selected reserve currency\n",
    "    @m.Constraint(m.NODES)\n",
    "    def initial_condition(m, i):\n",
    "        if i == R:\n",
    "            return m.w[i, 0] == 100.0\n",
    "        return m.w[i, 0] == 0\n",
    "\n",
    "    # no shorting constraint\n",
    "    @m.Constraint(m.NODES, m.T1)\n",
    "    def max_trade(m, j, t):\n",
    "        return m.w[j, t-1] >= sum(m.x[i, j, t] for i in m.NODES if i != j)\n",
    "\n",
    "    # one round of transactions\n",
    "    @m.Constraint(m.NODES, m.T1)\n",
    "    def balances(m, j, t):\n",
    "        return m.w[j, t] == m.w[j, t-1] - sum(m.x[i, j, t] for i in m.NODES if i != j) \\\n",
    "                               + sum(df.loc[j, i]*m.x[j, i, t] for i in m.NODES if i != j)\n",
    "\n",
    "    @m.Objective(sense=pyo.maximize)\n",
    "    def wealth(m):\n",
    "        return m.w[R, T]\n",
    "\n",
    "    solver = pyo.SolverFactory('glpk')\n",
    "    solver.solve(m)\n",
    "\n",
    "    for t in m.T0:\n",
    "        print(f\"\\nt = {t}\\n\")\n",
    "        if t >= 1:\n",
    "            for i, j in m.ARCS:\n",
    "                if m.x[i,j,t]() > 0:\n",
    "                    print(f\"{j} -> {i}  Convert {m.x[i, j, t]()} {j} to {df.loc[i,j]*m.x[i,j,t]()} {i}\")\n",
    "            print()\n",
    "            \n",
    "        for i in m.NODES:\n",
    "            print(f\"w[{i},{t}] = {m.w[i, t]():9.2f} \")\n",
    "    \n",
    "    return m\n",
    "            \n",
    "\n",
    "m = arbitrage(3, df, 'EUR')\n",
    "print(m.w['EUR', 0]())\n",
    "print(m.w['EUR', 3]())\n"
   ]
  },
  {
   "cell_type": "markdown",
   "metadata": {
    "id": "vArKbEvA1E6u"
   },
   "source": [
    "## Display graph"
   ]
  },
  {
   "cell_type": "code",
   "execution_count": 13,
   "metadata": {},
   "outputs": [
    {
     "name": "stdout",
     "output_type": "stream",
     "text": [
      "\n",
      " 100.0 EUR -> 200.0 USD -> 20000.0 JPY -> 150.0 EUR\n"
     ]
    },
    {
     "data": {
      "image/png": "[encoded data removed]",
      "text/plain": [
       "<Figure size 432x288 with 1 Axes>"
      ]
     },
     "metadata": {},
     "output_type": "display_data"
    }
   ],
   "source": [
    "import networkx as nx\n",
    "\n",
    "def display_graph(m):\n",
    "    \n",
    "    path = []\n",
    "    \n",
    "    for t in m.T0:\n",
    "        for i in m.NODES:\n",
    "            if m.w[i, t]() >= 1e-6:\n",
    "                path.append(f\"{m.w[i, t]()} {i}\")\n",
    "    path = \" -> \".join(path)\n",
    "    print(\"\\n\", path)\n",
    "\n",
    "    G = nx.DiGraph()\n",
    "    for i in m.NODES:\n",
    "        G.add_node(i)\n",
    "    nodelist = set()\n",
    "    edge_labels = dict()\n",
    "     \n",
    "    for t in m.T1:\n",
    "        for i, j in m.ARCS:\n",
    "            if m.x[i, j, t]() > 0.1:\n",
    "                nodelist.add(i)\n",
    "                nodelist.add(j)\n",
    "                y = m.w[j, t-1]()\n",
    "                x = m.w[j, t]()\n",
    "                G.add_edge(j, i)\n",
    "                edge_labels[(j, i)] = df.loc[i, j]\n",
    "                \n",
    "    nodelist = list(nodelist)\n",
    "    pos = nx.spring_layout(G)\n",
    "    nx.draw(G, pos, with_labels=True, node_size=2000, nodelist=nodelist,\n",
    "            node_color=\"lightblue\", node_shape=\"s\", arrowsize=20, label=path)\n",
    "    nx.draw_networkx_edge_labels(G, pos, edge_labels=edge_labels)\n",
    "    \n",
    "display_graph(m)"
   ]
  },
  {
   "cell_type": "markdown",
   "metadata": {
    "id": "bT4Wc81yx3aQ"
   },
   "source": [
    "## FOREX data\n",
    "\n",
    "https://www.bloomberg.com/markets/currencies/cross-rates\n",
    "\n",
    "https://www.tradingview.com/markets/currencies/cross-rates-overview-prices/"
   ]
  },
  {
   "cell_type": "code",
   "execution_count": 14,
   "metadata": {
    "colab": {
     "base_uri": "https://localhost:8080/",
     "height": 300
    },
    "executionInfo": {
     "elapsed": 145,
     "status": "ok",
     "timestamp": 1647604159358,
     "user": {
      "displayName": "Jeffrey Kantor",
      "photoUrl": "https://lh3.googleusercontent.com/a-/AOh14Gg_n8V7bVINy02QRuRgOoMo11Ri7NKU3OUKdC1bkQ=s64",
      "userId": "09038942003589296665"
     },
     "user_tz": 240
    },
    "id": "fl_3XoLyV3Yb",
    "outputId": "0877b5b2-3998-4d71-e340-0a624984a1ec"
   },
   "outputs": [
    {
     "data": {
      "text/html": [
       "<div>\n",
       "<style scoped>\n",
       "    .dataframe tbody tr th:only-of-type {\n",
       "        vertical-align: middle;\n",
       "    }\n",
       "\n",
       "    .dataframe tbody tr th {\n",
       "        vertical-align: top;\n",
       "    }\n",
       "\n",
       "    .dataframe thead th {\n",
       "        text-align: right;\n",
       "    }\n",
       "</style>\n",
       "<table border=\"1\" class=\"dataframe\">\n",
       "  <thead>\n",
       "    <tr style=\"text-align: right;\">\n",
       "      <th></th>\n",
       "      <th>USD</th>\n",
       "      <th>EUR</th>\n",
       "      <th>JPY</th>\n",
       "      <th>GBP</th>\n",
       "      <th>CHF</th>\n",
       "      <th>CAD</th>\n",
       "      <th>AUD</th>\n",
       "      <th>HKD</th>\n",
       "    </tr>\n",
       "  </thead>\n",
       "  <tbody>\n",
       "    <tr>\n",
       "      <th>USD</th>\n",
       "      <td>1.0000</td>\n",
       "      <td>1.1096</td>\n",
       "      <td>0.0084</td>\n",
       "      <td>1.3148</td>\n",
       "      <td>1.0677</td>\n",
       "      <td>0.7915</td>\n",
       "      <td>0.7376</td>\n",
       "      <td>0.1279</td>\n",
       "    </tr>\n",
       "    <tr>\n",
       "      <th>EUR</th>\n",
       "      <td>0.9012</td>\n",
       "      <td>1.0000</td>\n",
       "      <td>0.0076</td>\n",
       "      <td>1.1849</td>\n",
       "      <td>0.9622</td>\n",
       "      <td>0.7133</td>\n",
       "      <td>0.6647</td>\n",
       "      <td>0.1153</td>\n",
       "    </tr>\n",
       "    <tr>\n",
       "      <th>JPY</th>\n",
       "      <td>118.6100</td>\n",
       "      <td>131.6097</td>\n",
       "      <td>1.0000</td>\n",
       "      <td>155.9484</td>\n",
       "      <td>126.6389</td>\n",
       "      <td>93.8816</td>\n",
       "      <td>87.4867</td>\n",
       "      <td>15.1724</td>\n",
       "    </tr>\n",
       "    <tr>\n",
       "      <th>GBP</th>\n",
       "      <td>0.7606</td>\n",
       "      <td>0.8439</td>\n",
       "      <td>0.0064</td>\n",
       "      <td>1.0000</td>\n",
       "      <td>0.8121</td>\n",
       "      <td>0.6020</td>\n",
       "      <td>0.5610</td>\n",
       "      <td>0.0973</td>\n",
       "    </tr>\n",
       "    <tr>\n",
       "      <th>CHF</th>\n",
       "      <td>0.9366</td>\n",
       "      <td>1.0393</td>\n",
       "      <td>0.0079</td>\n",
       "      <td>1.2314</td>\n",
       "      <td>1.0000</td>\n",
       "      <td>0.7413</td>\n",
       "      <td>0.6908</td>\n",
       "      <td>0.1198</td>\n",
       "    </tr>\n",
       "    <tr>\n",
       "      <th>CAD</th>\n",
       "      <td>1.2634</td>\n",
       "      <td>1.4019</td>\n",
       "      <td>0.0107</td>\n",
       "      <td>1.6611</td>\n",
       "      <td>1.3489</td>\n",
       "      <td>1.0000</td>\n",
       "      <td>0.9319</td>\n",
       "      <td>0.1616</td>\n",
       "    </tr>\n",
       "    <tr>\n",
       "      <th>AUD</th>\n",
       "      <td>1.3557</td>\n",
       "      <td>1.5043</td>\n",
       "      <td>0.0114</td>\n",
       "      <td>1.7825</td>\n",
       "      <td>1.4475</td>\n",
       "      <td>1.0731</td>\n",
       "      <td>1.0000</td>\n",
       "      <td>0.1734</td>\n",
       "    </tr>\n",
       "    <tr>\n",
       "      <th>HKD</th>\n",
       "      <td>7.8175</td>\n",
       "      <td>8.6743</td>\n",
       "      <td>0.0659</td>\n",
       "      <td>10.2784</td>\n",
       "      <td>8.3467</td>\n",
       "      <td>6.1877</td>\n",
       "      <td>5.7662</td>\n",
       "      <td>1.0000</td>\n",
       "    </tr>\n",
       "  </tbody>\n",
       "</table>\n",
       "</div>"
      ],
      "text/plain": [
       "          USD       EUR     JPY       GBP       CHF      CAD      AUD      HKD\n",
       "USD    1.0000    1.1096  0.0084    1.3148    1.0677   0.7915   0.7376   0.1279\n",
       "EUR    0.9012    1.0000  0.0076    1.1849    0.9622   0.7133   0.6647   0.1153\n",
       "JPY  118.6100  131.6097  1.0000  155.9484  126.6389  93.8816  87.4867  15.1724\n",
       "GBP    0.7606    0.8439  0.0064    1.0000    0.8121   0.6020   0.5610   0.0973\n",
       "CHF    0.9366    1.0393  0.0079    1.2314    1.0000   0.7413   0.6908   0.1198\n",
       "CAD    1.2634    1.4019  0.0107    1.6611    1.3489   1.0000   0.9319   0.1616\n",
       "AUD    1.3557    1.5043  0.0114    1.7825    1.4475   1.0731   1.0000   0.1734\n",
       "HKD    7.8175    8.6743  0.0659   10.2784    8.3467   6.1877   5.7662   1.0000"
      ]
     },
     "metadata": {},
     "output_type": "display_data"
    }
   ],
   "source": [
    "# data extracted 2022-03-17\n",
    "\n",
    "bloomberg = \"\"\"\n",
    "\tUSD\tEUR\tJPY\tGBP\tCHF\tCAD\tAUD\tHKD\n",
    "USD\t-\t1.1096\t0.0084\t1.3148\t1.0677\t0.7915\t0.7376\t0.1279\n",
    "EUR\t0.9012\t-\t0.0076\t1.1849\t0.9622\t0.7133\t0.6647\t0.1153\n",
    "JPY\t118.6100\t131.6097\t-\t155.9484\t126.6389\t93.8816\t87.4867\t15.1724\n",
    "GBP\t0.7606\t0.8439\t0.0064\t-\t0.8121\t0.6020\t0.5610\t0.0973\n",
    "CHF\t0.9366\t1.0393\t0.0079\t1.2314\t-\t0.7413\t0.6908\t0.1198\n",
    "CAD\t1.2634\t1.4019\t0.0107\t1.6611\t1.3489\t-\t0.9319\t0.1616\n",
    "AUD\t1.3557\t1.5043\t0.0114\t1.7825\t1.4475\t1.0731\t-\t0.1734\n",
    "HKD\t7.8175\t8.6743\t0.0659\t10.2784\t8.3467\t6.1877\t5.7662\t-\n",
    "\"\"\"\n",
    "\n",
    "import pandas as pd\n",
    "import io\n",
    "\n",
    "df = pd.read_csv(io.StringIO(bloomberg.replace('-', '1.0')), sep='\\t', index_col=0)\n",
    "display(df)"
   ]
  },
  {
   "cell_type": "code",
   "execution_count": 15,
   "metadata": {
    "colab": {
     "base_uri": "https://localhost:8080/",
     "height": 1000
    },
    "executionInfo": {
     "elapsed": 145,
     "status": "ok",
     "timestamp": 1647604160624,
     "user": {
      "displayName": "Jeffrey Kantor",
      "photoUrl": "https://lh3.googleusercontent.com/a-/AOh14Gg_n8V7bVINy02QRuRgOoMo11Ri7NKU3OUKdC1bkQ=s64",
      "userId": "09038942003589296665"
     },
     "user_tz": 240
    },
    "id": "KSJR6u-bW95v",
    "outputId": "e048ce29-74bd-4fba-dc7e-b3058e67e275"
   },
   "outputs": [
    {
     "name": "stdout",
     "output_type": "stream",
     "text": [
      "\n",
      "t = 0\n",
      "\n",
      "w[USD,0] =    100.00 \n",
      "w[EUR,0] =      0.00 \n",
      "w[JPY,0] =      0.00 \n",
      "w[GBP,0] =      0.00 \n",
      "w[CHF,0] =      0.00 \n",
      "w[CAD,0] =      0.00 \n",
      "w[AUD,0] =      0.00 \n",
      "w[HKD,0] =      0.00 \n",
      "\n",
      "t = 1\n",
      "\n",
      "USD -> JPY  Convert 100.0 USD to 11861.0 JPY\n",
      "\n",
      "w[USD,1] =      0.00 \n",
      "w[EUR,1] =      0.00 \n",
      "w[JPY,1] =  11861.00 \n",
      "w[GBP,1] =      0.00 \n",
      "w[CHF,1] =      0.00 \n",
      "w[CAD,1] =      0.00 \n",
      "w[AUD,1] =      0.00 \n",
      "w[HKD,1] =      0.00 \n",
      "\n",
      "t = 2\n",
      "\n",
      "GBP -> USD  Convert 1.46676560635998e-14 GBP to 1.928503419242102e-14 USD\n",
      "JPY -> CHF  Convert 2.28642127880772e-12 JPY to 1.806272810258099e-14 CHF\n",
      "JPY -> CAD  Convert 11861.0 JPY to 126.91269999999999 CAD\n",
      "\n",
      "w[USD,2] =      0.00 \n",
      "w[EUR,2] =      0.00 \n",
      "w[JPY,2] =      0.00 \n",
      "w[GBP,2] =      0.00 \n",
      "w[CHF,2] =     -0.00 \n",
      "w[CAD,2] =    126.91 \n",
      "w[AUD,2] =      0.00 \n",
      "w[HKD,2] =      0.00 \n",
      "\n",
      "t = 3\n",
      "\n",
      "CAD -> USD  Convert 126.9127 CAD to 100.45140205 USD\n",
      "\n",
      "w[USD,3] =    100.45 \n",
      "w[EUR,3] =      0.00 \n",
      "w[JPY,3] =      0.00 \n",
      "w[GBP,3] =      0.00 \n",
      "w[CHF,3] =     -0.00 \n",
      "w[CAD,3] =      0.00 \n",
      "w[AUD,3] =      0.00 \n",
      "w[HKD,3] =      0.00 \n"
     ]
    }
   ],
   "source": [
    "m = arbitrage(3, df, 'USD')"
   ]
  },
  {
   "cell_type": "code",
   "execution_count": 16,
   "metadata": {},
   "outputs": [
    {
     "name": "stdout",
     "output_type": "stream",
     "text": [
      "\n",
      " 100.0 USD -> 11861.0 JPY -> 126.9127 CAD -> 100.45140205 USD\n"
     ]
    },
    {
     "data": {
      "image/png": "[encoded data removed]",
      "text/plain": [
       "<Figure size 432x288 with 1 Axes>"
      ]
     },
     "metadata": {},
     "output_type": "display_data"
    }
   ],
   "source": [
    "display_graph(m)"
   ]
  },
  {
   "cell_type": "code",
   "execution_count": null,
   "metadata": {},
   "outputs": [],
   "source": []
  }
 ],
 "metadata": {
  "kernelspec": {
   "display_name": "Python 3 (ipykernel)",
   "language": "python",
   "name": "python3"
  },
  "language_info": {
   "codemirror_mode": {
    "name": "ipython",
    "version": 3
   },
   "file_extension": ".py",
   "mimetype": "text/x-python",
   "name": "python",
   "nbconvert_exporter": "python",
   "pygments_lexer": "ipython3",
   "version": "3.9.16"
  }
 },
 "nbformat": 4,
 "nbformat_minor": 4
}
