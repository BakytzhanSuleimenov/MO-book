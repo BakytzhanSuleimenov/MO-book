{
 "cells": [
  {
   "cell_type": "markdown",
   "metadata": {
    "id": "1x7ePclWkRV6"
   },
   "source": [
    "# Extra material: Shortest path in real life\n"
   ]
  },
  {
   "cell_type": "code",
   "execution_count": 1,
   "metadata": {
    "executionInfo": {
     "elapsed": 53237,
     "status": "ok",
     "timestamp": 1649511085204,
     "user": {
      "displayName": "Jeffrey Kantor",
      "userId": "09038942003589296665"
     },
     "user_tz": 240
    },
    "id": "VFCdRHLwIkEf"
   },
   "outputs": [],
   "source": [
    "import subprocess\n",
    "import sys\n",
    "\n",
    "class ColabInstaller():\n",
    "\n",
    "    def __init__(self):\n",
    "        reqs = subprocess.check_output([sys.executable, '-m', 'pip', 'freeze'])\n",
    "        self.installed_packages = [r.decode().split('==')[0] for r in reqs.split()]\n",
    "\n",
    "    def on_colab(self):\n",
    "        return \"google.colab\" in sys.modules\n",
    "\n",
    "    def install(self, package):\n",
    "        if self.on_colab():\n",
    "            subprocess.check_call([sys.executable, \"-m\", \"pip\", \"install\", \"-q\", package])\n",
    "            self.installed_packages.append(package)\n",
    "\n",
    "    def upgrade(self, package):\n",
    "        if self.on_colab():\n",
    "            subprocess.check_call([sys.executable, \"-m\", \"pip\", \"install\", \"-q\", \"--upgrade\", package])\n",
    "\n",
    "colab = ColabInstaller()\n",
    "colab.upgrade('numpy')\n",
    "colab.upgrade('matplotlib')\n",
    "colab.install('geopandas')\n",
    "colab.install('geopy')\n",
    "colab.install('osmnx')\n",
    "colab.install('osmnet')\n",
    "colab.install('pandana')\n",
    "colab.upgrade('geopy')"
   ]
  },
  {
   "cell_type": "markdown",
   "metadata": {
    "id": "8WKlnLZLmTDE"
   },
   "source": [
    "# Introduction\n",
    "\n",
    "Google brought with [maps]( https://www.google.com/maps) the world to our screens, including accurate geocoding and routing for several modalities. For the most, the usage of [maps]( https://www.google.com/maps) is interactive. As data and analytics professionals we often need a programmatically support for the services that [maps]( https://www.google.com/maps) offer us, preferably free. It also offers a plethora of [development support](https://developers.google.com/), but unfortunately most is paid. That is even more so for [maps]( https://developers.google.com/maps/documentation)."
   ]
  },
  {
   "cell_type": "markdown",
   "metadata": {
    "id": "wIcheEJ5x8qb"
   },
   "source": [
    "## Some background information and history \n",
    "[Geoff Boeing]( https://geoffboeing.com/about/) is a true leader in demystifying urban data analytics, with a strong emphasis on street networks. His [peer reviewed publications]( https://geoffboeing.com/publications/) are open and accompanied by usable demonstrations using his own [OSMnx]( https://geoffboeing.com/2018/03/osmnx-features-roundup/) package.\n",
    "Professor [Peter Sanders]( https://algo2.iti.kit.edu/english/sanders.php), see also his [Wikipedia]( https://en.wikipedia.org/wiki/Peter_Sanders_(computer_scientist)) page, has moved his interests to other areas but his [route planning]( http://algo2.iti.kit.edu/routeplanning.php) project shaped the world of truly scalable road routing algorithms. \n",
    "From his alumni I distinguish two persons:\n",
    " * [Dominik Schultes](http://algo2.iti.kit.edu/schultes/) who won the [DIMACS challenge on shortest paths]( http://www.diag.uniroma1.it//challenge9/data/tiger/) and made it to the [Scientific American top 50]( https://www.scientificamerican.com/article/sciam-50-the-fastest-way/). Before Dominik’s research scalable shortest paths on large national road networks where heuristics, now they are exact and can be computed at world scale. \n",
    " * [Dennis Luxen]( http://algo2.iti.kit.edu/english/luxen.php) for creating https://github.com/Project-OSRM/osrm-backend which offers a free, scalable, implementation of [contraction hierarchies]( https://en.wikipedia.org/wiki/Contraction_hierarchies).\n",
    " \n",
    "Finally, I mention [Fletcher Foti]( https://fletcherfoti.weebly.com/) who gave us [pandana]( http://udst.github.io/pandana/).\n",
    " \n"
   ]
  },
  {
   "cell_type": "markdown",
   "metadata": {
    "id": "1mcQfzGazi_6"
   },
   "source": [
    "## Geocoding\n",
    "\n",
    "The world is mapped with the [geographic coordinate system](https://en.wikipedia.org/wiki/Geographic_coordinate_system) but we have difficulties remembering [latitudes]( https://en.wikipedia.org/wiki/Latitude) and [longitudes]( https://en.wikipedia.org/wiki/Longitude).\n",
    "\n",
    "We learn and remember the world better from addresses. \n"
   ]
  },
  {
   "cell_type": "code",
   "execution_count": 2,
   "metadata": {
    "executionInfo": {
     "elapsed": 673,
     "status": "ok",
     "timestamp": 1649512179738,
     "user": {
      "displayName": "Jeffrey Kantor",
      "userId": "09038942003589296665"
     },
     "user_tz": 240
    },
    "id": "sZP6mcIJWQ4d"
   },
   "outputs": [],
   "source": [
    "import geopy\n",
    "    \n",
    "def FreeLocator():\n",
    "    return geopy.Photon(user_agent='myGeocoder')\n",
    "\n",
    "Amsterdam = FreeLocator().geocode('Amsterdam,NL')"
   ]
  },
  {
   "cell_type": "markdown",
   "metadata": {
    "id": "NqmI82RwFLmg"
   },
   "source": [
    "# Visualization"
   ]
  },
  {
   "cell_type": "code",
   "execution_count": 3,
   "metadata": {
    "colab": {
     "base_uri": "https://localhost:8080/",
     "height": 650
    },
    "executionInfo": {
     "elapsed": 5,
     "status": "ok",
     "timestamp": 1649512182220,
     "user": {
      "displayName": "Jeffrey Kantor",
      "userId": "09038942003589296665"
     },
     "user_tz": 240
    },
    "id": "xzp7cel6SC7E",
    "outputId": "7e837b6e-4bff-423d-99e1-ff2d37dec59a"
   },
   "outputs": [
    {
     "data": {
      "text/html": [
       "<div style=\"width:100%;\"><div style=\"position:relative;width:100%;height:0;padding-bottom:60%;\"><span style=\"color:#565656\">Make this Notebook Trusted to load map: File -> Trust Notebook</span><iframe srcdoc=\"&lt;!DOCTYPE html&gt;\n",
       "&lt;head&gt;    \n",
       "    &lt;meta http-equiv=&quot;content-type&quot; content=&quot;text/html; charset=UTF-8&quot; /&gt;\n",
       "    \n",
       "        &lt;script&gt;\n",
       "            L_NO_TOUCH = false;\n",
       "            L_DISABLE_3D = false;\n",
       "        &lt;/script&gt;\n",
       "    \n",
       "    &lt;style&gt;html, body {width: 100%;height: 100%;margin: 0;padding: 0;}&lt;/style&gt;\n",
       "    &lt;style&gt;#map {position:absolute;top:0;bottom:0;right:0;left:0;}&lt;/style&gt;\n",
       "    &lt;script src=&quot;https://cdn.jsdelivr.net/npm/leaflet@1.6.0/dist/leaflet.js&quot;&gt;&lt;/script&gt;\n",
       "    &lt;script src=&quot;https://code.jquery.com/jquery-1.12.4.min.js&quot;&gt;&lt;/script&gt;\n",
       "    &lt;script src=&quot;https://maxcdn.bootstrapcdn.com/bootstrap/3.2.0/js/bootstrap.min.js&quot;&gt;&lt;/script&gt;\n",
       "    &lt;script src=&quot;https://cdnjs.cloudflare.com/ajax/libs/Leaflet.awesome-markers/2.0.2/leaflet.awesome-markers.js&quot;&gt;&lt;/script&gt;\n",
       "    &lt;link rel=&quot;stylesheet&quot; href=&quot;https://cdn.jsdelivr.net/npm/leaflet@1.6.0/dist/leaflet.css&quot;/&gt;\n",
       "    &lt;link rel=&quot;stylesheet&quot; href=&quot;https://maxcdn.bootstrapcdn.com/bootstrap/3.2.0/css/bootstrap.min.css&quot;/&gt;\n",
       "    &lt;link rel=&quot;stylesheet&quot; href=&quot;https://maxcdn.bootstrapcdn.com/bootstrap/3.2.0/css/bootstrap-theme.min.css&quot;/&gt;\n",
       "    &lt;link rel=&quot;stylesheet&quot; href=&quot;https://maxcdn.bootstrapcdn.com/font-awesome/4.6.3/css/font-awesome.min.css&quot;/&gt;\n",
       "    &lt;link rel=&quot;stylesheet&quot; href=&quot;https://cdnjs.cloudflare.com/ajax/libs/Leaflet.awesome-markers/2.0.2/leaflet.awesome-markers.css&quot;/&gt;\n",
       "    &lt;link rel=&quot;stylesheet&quot; href=&quot;https://cdn.jsdelivr.net/gh/python-visualization/folium/folium/templates/leaflet.awesome.rotate.min.css&quot;/&gt;\n",
       "    \n",
       "            &lt;meta name=&quot;viewport&quot; content=&quot;width=device-width,\n",
       "                initial-scale=1.0, maximum-scale=1.0, user-scalable=no&quot; /&gt;\n",
       "            &lt;style&gt;\n",
       "                #map_a39514f4b7b5fd4aa5067b39abe1483e {\n",
       "                    position: relative;\n",
       "                    width: 100.0%;\n",
       "                    height: 100.0%;\n",
       "                    left: 0.0%;\n",
       "                    top: 0.0%;\n",
       "                }\n",
       "            &lt;/style&gt;\n",
       "        \n",
       "&lt;/head&gt;\n",
       "&lt;body&gt;    \n",
       "    \n",
       "            &lt;div class=&quot;folium-map&quot; id=&quot;map_a39514f4b7b5fd4aa5067b39abe1483e&quot; &gt;&lt;/div&gt;\n",
       "        \n",
       "&lt;/body&gt;\n",
       "&lt;script&gt;    \n",
       "    \n",
       "            var map_a39514f4b7b5fd4aa5067b39abe1483e = L.map(\n",
       "                &quot;map_a39514f4b7b5fd4aa5067b39abe1483e&quot;,\n",
       "                {\n",
       "                    center: [51.4940044, -0.0068219],\n",
       "                    crs: L.CRS.EPSG3857,\n",
       "                    zoom: 12,\n",
       "                    zoomControl: true,\n",
       "                    preferCanvas: false,\n",
       "                }\n",
       "            );\n",
       "\n",
       "            \n",
       "\n",
       "        \n",
       "    \n",
       "            var tile_layer_e792aec38d2673c725b7a49a2b66ee7d = L.tileLayer(\n",
       "                &quot;https://{s}.tile.openstreetmap.org/{z}/{x}/{y}.png&quot;,\n",
       "                {&quot;attribution&quot;: &quot;Data by \\u0026copy; \\u003ca href=\\&quot;http://openstreetmap.org\\&quot;\\u003eOpenStreetMap\\u003c/a\\u003e, under \\u003ca href=\\&quot;http://www.openstreetmap.org/copyright\\&quot;\\u003eODbL\\u003c/a\\u003e.&quot;, &quot;detectRetina&quot;: false, &quot;maxNativeZoom&quot;: 18, &quot;maxZoom&quot;: 18, &quot;minZoom&quot;: 0, &quot;noWrap&quot;: false, &quot;opacity&quot;: 1, &quot;subdomains&quot;: &quot;abc&quot;, &quot;tms&quot;: false}\n",
       "            ).addTo(map_a39514f4b7b5fd4aa5067b39abe1483e);\n",
       "        \n",
       "&lt;/script&gt;\" style=\"position:absolute;width:100%;height:100%;left:0;top:0;border:none !important;\" allowfullscreen webkitallowfullscreen mozallowfullscreen></iframe></div></div>"
      ],
      "text/plain": [
       "<folium.folium.Map at 0x107eaccd0>"
      ]
     },
     "execution_count": 3,
     "metadata": {},
     "output_type": "execute_result"
    }
   ],
   "source": [
    "import folium\n",
    "Map = folium.Map(location=(Amsterdam.latitude,Amsterdam.longitude), zoom_start=12)\n",
    "Map"
   ]
  },
  {
   "cell_type": "code",
   "execution_count": 5,
   "metadata": {
    "executionInfo": {
     "elapsed": 227,
     "status": "ok",
     "timestamp": 1649512233020,
     "user": {
      "displayName": "Jeffrey Kantor",
      "userId": "09038942003589296665"
     },
     "user_tz": 240
    },
    "id": "QKPFI2DOyYOL"
   },
   "outputs": [],
   "source": [
    "def locate_geopy(description):\n",
    "    location = FreeLocator().geocode(description)\n",
    "    if location is not None:\n",
    "        return location.latitude, location.longitude\n",
    "    return None, None"
   ]
  },
  {
   "cell_type": "code",
   "execution_count": 6,
   "metadata": {
    "colab": {
     "base_uri": "https://localhost:8080/",
     "height": 206
    },
    "executionInfo": {
     "elapsed": 197,
     "status": "ok",
     "timestamp": 1649512234572,
     "user": {
      "displayName": "Jeffrey Kantor",
      "userId": "09038942003589296665"
     },
     "user_tz": 240
    },
    "id": "VoHsYUGJraIK",
    "outputId": "6ce19b11-99fd-4c11-ce8a-e5138042b0c4"
   },
   "outputs": [
    {
     "data": {
      "text/html": [
       "<div>\n",
       "<style scoped>\n",
       "    .dataframe tbody tr th:only-of-type {\n",
       "        vertical-align: middle;\n",
       "    }\n",
       "\n",
       "    .dataframe tbody tr th {\n",
       "        vertical-align: top;\n",
       "    }\n",
       "\n",
       "    .dataframe thead th {\n",
       "        text-align: right;\n",
       "    }\n",
       "</style>\n",
       "<table border=\"1\" class=\"dataframe\">\n",
       "  <thead>\n",
       "    <tr style=\"text-align: right;\">\n",
       "      <th></th>\n",
       "      <th>address</th>\n",
       "      <th>color</th>\n",
       "      <th>city</th>\n",
       "      <th>country</th>\n",
       "    </tr>\n",
       "  </thead>\n",
       "  <tbody>\n",
       "    <tr>\n",
       "      <th>0</th>\n",
       "      <td>Centraal Station</td>\n",
       "      <td>blue</td>\n",
       "      <td>Amsterdam</td>\n",
       "      <td>NL</td>\n",
       "    </tr>\n",
       "    <tr>\n",
       "      <th>1</th>\n",
       "      <td>Amsterdam Business School</td>\n",
       "      <td>black</td>\n",
       "      <td>Amsterdam</td>\n",
       "      <td>NL</td>\n",
       "    </tr>\n",
       "    <tr>\n",
       "      <th>2</th>\n",
       "      <td>Artis</td>\n",
       "      <td>green</td>\n",
       "      <td>Amsterdam</td>\n",
       "      <td>NL</td>\n",
       "    </tr>\n",
       "    <tr>\n",
       "      <th>3</th>\n",
       "      <td>Arena</td>\n",
       "      <td>red</td>\n",
       "      <td>Amsterdam</td>\n",
       "      <td>NL</td>\n",
       "    </tr>\n",
       "    <tr>\n",
       "      <th>4</th>\n",
       "      <td>Ziggo Dome</td>\n",
       "      <td>purple</td>\n",
       "      <td>Amsterdam</td>\n",
       "      <td>NL</td>\n",
       "    </tr>\n",
       "  </tbody>\n",
       "</table>\n",
       "</div>"
      ],
      "text/plain": [
       "                     address   color       city country\n",
       "0           Centraal Station    blue  Amsterdam      NL\n",
       "1  Amsterdam Business School   black  Amsterdam      NL\n",
       "2                      Artis   green  Amsterdam      NL\n",
       "3                      Arena     red  Amsterdam      NL\n",
       "4                 Ziggo Dome  purple  Amsterdam      NL"
      ]
     },
     "execution_count": 6,
     "metadata": {},
     "output_type": "execute_result"
    }
   ],
   "source": [
    "import pandas as pd\n",
    "pd.options.display.float_format = '{:.6f}'.format\n",
    "\n",
    "data = {'address': [ 'Centraal Station',\n",
    "                     'Amsterdam Business School',\n",
    "                     'Artis',\n",
    "                     'Arena',\n",
    "                     'Ziggo Dome' ], \n",
    "        'color'  : [ 'blue',\n",
    "                     'black',                   \n",
    "                     'green',\n",
    "                     'red',\n",
    "                     'purple' ]}\n",
    "# Create DataFrame.\n",
    "df = pd.DataFrame(data)\n",
    "df['city']    = 'Amsterdam'\n",
    "df['country'] = 'NL'\n",
    "df"
   ]
  },
  {
   "cell_type": "code",
   "execution_count": 7,
   "metadata": {
    "colab": {
     "base_uri": "https://localhost:8080/",
     "height": 206
    },
    "executionInfo": {
     "elapsed": 3424,
     "status": "ok",
     "timestamp": 1649512246740,
     "user": {
      "displayName": "Jeffrey Kantor",
      "userId": "09038942003589296665"
     },
     "user_tz": 240
    },
    "id": "pQF5DWOxxqYT",
    "outputId": "b2029785-1fd5-4d17-8fc5-726fa573240e"
   },
   "outputs": [
    {
     "data": {
      "text/html": [
       "<div>\n",
       "<style scoped>\n",
       "    .dataframe tbody tr th:only-of-type {\n",
       "        vertical-align: middle;\n",
       "    }\n",
       "\n",
       "    .dataframe tbody tr th {\n",
       "        vertical-align: top;\n",
       "    }\n",
       "\n",
       "    .dataframe thead th {\n",
       "        text-align: right;\n",
       "    }\n",
       "</style>\n",
       "<table border=\"1\" class=\"dataframe\">\n",
       "  <thead>\n",
       "    <tr style=\"text-align: right;\">\n",
       "      <th></th>\n",
       "      <th>address</th>\n",
       "      <th>color</th>\n",
       "      <th>city</th>\n",
       "      <th>country</th>\n",
       "      <th>lat</th>\n",
       "      <th>lon</th>\n",
       "    </tr>\n",
       "  </thead>\n",
       "  <tbody>\n",
       "    <tr>\n",
       "      <th>0</th>\n",
       "      <td>Centraal Station</td>\n",
       "      <td>blue</td>\n",
       "      <td>Amsterdam</td>\n",
       "      <td>NL</td>\n",
       "      <td>52.378901</td>\n",
       "      <td>4.900581</td>\n",
       "    </tr>\n",
       "    <tr>\n",
       "      <th>1</th>\n",
       "      <td>Amsterdam Business School</td>\n",
       "      <td>black</td>\n",
       "      <td>Amsterdam</td>\n",
       "      <td>NL</td>\n",
       "      <td>52.365107</td>\n",
       "      <td>4.911718</td>\n",
       "    </tr>\n",
       "    <tr>\n",
       "      <th>2</th>\n",
       "      <td>Artis</td>\n",
       "      <td>green</td>\n",
       "      <td>Amsterdam</td>\n",
       "      <td>NL</td>\n",
       "      <td>-30.401207</td>\n",
       "      <td>-56.481521</td>\n",
       "    </tr>\n",
       "    <tr>\n",
       "      <th>3</th>\n",
       "      <td>Arena</td>\n",
       "      <td>red</td>\n",
       "      <td>Amsterdam</td>\n",
       "      <td>NL</td>\n",
       "      <td>52.315990</td>\n",
       "      <td>4.942931</td>\n",
       "    </tr>\n",
       "    <tr>\n",
       "      <th>4</th>\n",
       "      <td>Ziggo Dome</td>\n",
       "      <td>purple</td>\n",
       "      <td>Amsterdam</td>\n",
       "      <td>NL</td>\n",
       "      <td>52.313629</td>\n",
       "      <td>4.938207</td>\n",
       "    </tr>\n",
       "  </tbody>\n",
       "</table>\n",
       "</div>"
      ],
      "text/plain": [
       "                     address   color       city country        lat        lon\n",
       "0           Centraal Station    blue  Amsterdam      NL  52.378901   4.900581\n",
       "1  Amsterdam Business School   black  Amsterdam      NL  52.365107   4.911718\n",
       "2                      Artis   green  Amsterdam      NL -30.401207 -56.481521\n",
       "3                      Arena     red  Amsterdam      NL  52.315990   4.942931\n",
       "4                 Ziggo Dome  purple  Amsterdam      NL  52.313629   4.938207"
      ]
     },
     "execution_count": 7,
     "metadata": {},
     "output_type": "execute_result"
    }
   ],
   "source": [
    "locations = [ locate_geopy(','.join(row[['address','city','country']])) for _, row in df.iterrows() ]\n",
    "df['lat'] = [ loc[0] for loc in locations ]\n",
    "df['lon'] = [ loc[1] for loc in locations ]\n",
    "df"
   ]
  },
  {
   "cell_type": "code",
   "execution_count": 8,
   "metadata": {
    "colab": {
     "base_uri": "https://localhost:8080/",
     "height": 650
    },
    "executionInfo": {
     "elapsed": 150,
     "status": "ok",
     "timestamp": 1649512262080,
     "user": {
      "displayName": "Jeffrey Kantor",
      "userId": "09038942003589296665"
     },
     "user_tz": 240
    },
    "id": "3FxRIX8n2nYM",
    "outputId": "483f28ec-30a5-4139-8714-9e637e82f0b5"
   },
   "outputs": [
    {
     "data": {
      "text/html": [
       "<div style=\"width:100%;\"><div style=\"position:relative;width:100%;height:0;padding-bottom:60%;\"><span style=\"color:#565656\">Make this Notebook Trusted to load map: File -> Trust Notebook</span><iframe srcdoc=\"&lt;!DOCTYPE html&gt;\n",
       "&lt;head&gt;    \n",
       "    &lt;meta http-equiv=&quot;content-type&quot; content=&quot;text/html; charset=UTF-8&quot; /&gt;\n",
       "    \n",
       "        &lt;script&gt;\n",
       "            L_NO_TOUCH = false;\n",
       "            L_DISABLE_3D = false;\n",
       "        &lt;/script&gt;\n",
       "    \n",
       "    &lt;style&gt;html, body {width: 100%;height: 100%;margin: 0;padding: 0;}&lt;/style&gt;\n",
       "    &lt;style&gt;#map {position:absolute;top:0;bottom:0;right:0;left:0;}&lt;/style&gt;\n",
       "    &lt;script src=&quot;https://cdn.jsdelivr.net/npm/leaflet@1.6.0/dist/leaflet.js&quot;&gt;&lt;/script&gt;\n",
       "    &lt;script src=&quot;https://code.jquery.com/jquery-1.12.4.min.js&quot;&gt;&lt;/script&gt;\n",
       "    &lt;script src=&quot;https://maxcdn.bootstrapcdn.com/bootstrap/3.2.0/js/bootstrap.min.js&quot;&gt;&lt;/script&gt;\n",
       "    &lt;script src=&quot;https://cdnjs.cloudflare.com/ajax/libs/Leaflet.awesome-markers/2.0.2/leaflet.awesome-markers.js&quot;&gt;&lt;/script&gt;\n",
       "    &lt;link rel=&quot;stylesheet&quot; href=&quot;https://cdn.jsdelivr.net/npm/leaflet@1.6.0/dist/leaflet.css&quot;/&gt;\n",
       "    &lt;link rel=&quot;stylesheet&quot; href=&quot;https://maxcdn.bootstrapcdn.com/bootstrap/3.2.0/css/bootstrap.min.css&quot;/&gt;\n",
       "    &lt;link rel=&quot;stylesheet&quot; href=&quot;https://maxcdn.bootstrapcdn.com/bootstrap/3.2.0/css/bootstrap-theme.min.css&quot;/&gt;\n",
       "    &lt;link rel=&quot;stylesheet&quot; href=&quot;https://maxcdn.bootstrapcdn.com/font-awesome/4.6.3/css/font-awesome.min.css&quot;/&gt;\n",
       "    &lt;link rel=&quot;stylesheet&quot; href=&quot;https://cdnjs.cloudflare.com/ajax/libs/Leaflet.awesome-markers/2.0.2/leaflet.awesome-markers.css&quot;/&gt;\n",
       "    &lt;link rel=&quot;stylesheet&quot; href=&quot;https://cdn.jsdelivr.net/gh/python-visualization/folium/folium/templates/leaflet.awesome.rotate.min.css&quot;/&gt;\n",
       "    \n",
       "            &lt;meta name=&quot;viewport&quot; content=&quot;width=device-width,\n",
       "                initial-scale=1.0, maximum-scale=1.0, user-scalable=no&quot; /&gt;\n",
       "            &lt;style&gt;\n",
       "                #map_a39514f4b7b5fd4aa5067b39abe1483e {\n",
       "                    position: relative;\n",
       "                    width: 100.0%;\n",
       "                    height: 100.0%;\n",
       "                    left: 0.0%;\n",
       "                    top: 0.0%;\n",
       "                }\n",
       "            &lt;/style&gt;\n",
       "        \n",
       "&lt;/head&gt;\n",
       "&lt;body&gt;    \n",
       "    \n",
       "            &lt;div class=&quot;folium-map&quot; id=&quot;map_a39514f4b7b5fd4aa5067b39abe1483e&quot; &gt;&lt;/div&gt;\n",
       "        \n",
       "&lt;/body&gt;\n",
       "&lt;script&gt;    \n",
       "    \n",
       "            var map_a39514f4b7b5fd4aa5067b39abe1483e = L.map(\n",
       "                &quot;map_a39514f4b7b5fd4aa5067b39abe1483e&quot;,\n",
       "                {\n",
       "                    center: [51.4940044, -0.0068219],\n",
       "                    crs: L.CRS.EPSG3857,\n",
       "                    zoom: 12,\n",
       "                    zoomControl: true,\n",
       "                    preferCanvas: false,\n",
       "                }\n",
       "            );\n",
       "\n",
       "            \n",
       "\n",
       "        \n",
       "    \n",
       "            var tile_layer_e792aec38d2673c725b7a49a2b66ee7d = L.tileLayer(\n",
       "                &quot;https://{s}.tile.openstreetmap.org/{z}/{x}/{y}.png&quot;,\n",
       "                {&quot;attribution&quot;: &quot;Data by \\u0026copy; \\u003ca href=\\&quot;http://openstreetmap.org\\&quot;\\u003eOpenStreetMap\\u003c/a\\u003e, under \\u003ca href=\\&quot;http://www.openstreetmap.org/copyright\\&quot;\\u003eODbL\\u003c/a\\u003e.&quot;, &quot;detectRetina&quot;: false, &quot;maxNativeZoom&quot;: 18, &quot;maxZoom&quot;: 18, &quot;minZoom&quot;: 0, &quot;noWrap&quot;: false, &quot;opacity&quot;: 1, &quot;subdomains&quot;: &quot;abc&quot;, &quot;tms&quot;: false}\n",
       "            ).addTo(map_a39514f4b7b5fd4aa5067b39abe1483e);\n",
       "        \n",
       "    \n",
       "            var marker_d0bd33f3c2b68169afb4940577dc1911 = L.marker(\n",
       "                [52.378901, 4.9005805],\n",
       "                {}\n",
       "            ).addTo(map_a39514f4b7b5fd4aa5067b39abe1483e);\n",
       "        \n",
       "    \n",
       "            var icon_f48e3c9427f3c6cfcbf75705d883955c = L.AwesomeMarkers.icon(\n",
       "                {&quot;extraClasses&quot;: &quot;fa-rotate-0&quot;, &quot;icon&quot;: &quot;info-sign&quot;, &quot;iconColor&quot;: &quot;white&quot;, &quot;markerColor&quot;: &quot;blue&quot;, &quot;prefix&quot;: &quot;glyphicon&quot;}\n",
       "            );\n",
       "            marker_d0bd33f3c2b68169afb4940577dc1911.setIcon(icon_f48e3c9427f3c6cfcbf75705d883955c);\n",
       "        \n",
       "    \n",
       "            marker_d0bd33f3c2b68169afb4940577dc1911.bindTooltip(\n",
       "                `&lt;div&gt;\n",
       "                     Centraal Station\n",
       "                 &lt;/div&gt;`,\n",
       "                {&quot;sticky&quot;: true}\n",
       "            );\n",
       "        \n",
       "    \n",
       "            var marker_4ac4af3160ea2dcc3989f14a5034ae39 = L.marker(\n",
       "                [52.3651074, 4.9117176],\n",
       "                {}\n",
       "            ).addTo(map_a39514f4b7b5fd4aa5067b39abe1483e);\n",
       "        \n",
       "    \n",
       "            var icon_e7eaddb7678f3515a39117191ad0bf34 = L.AwesomeMarkers.icon(\n",
       "                {&quot;extraClasses&quot;: &quot;fa-rotate-0&quot;, &quot;icon&quot;: &quot;info-sign&quot;, &quot;iconColor&quot;: &quot;white&quot;, &quot;markerColor&quot;: &quot;black&quot;, &quot;prefix&quot;: &quot;glyphicon&quot;}\n",
       "            );\n",
       "            marker_4ac4af3160ea2dcc3989f14a5034ae39.setIcon(icon_e7eaddb7678f3515a39117191ad0bf34);\n",
       "        \n",
       "    \n",
       "            marker_4ac4af3160ea2dcc3989f14a5034ae39.bindTooltip(\n",
       "                `&lt;div&gt;\n",
       "                     Amsterdam Business School\n",
       "                 &lt;/div&gt;`,\n",
       "                {&quot;sticky&quot;: true}\n",
       "            );\n",
       "        \n",
       "    \n",
       "            var marker_406d34f7c7e37d94426c03e2e72ebc17 = L.marker(\n",
       "                [-30.4012065, -56.4815211],\n",
       "                {}\n",
       "            ).addTo(map_a39514f4b7b5fd4aa5067b39abe1483e);\n",
       "        \n",
       "    \n",
       "            var icon_cd88c95b7253211a72630ccd3ec2bc04 = L.AwesomeMarkers.icon(\n",
       "                {&quot;extraClasses&quot;: &quot;fa-rotate-0&quot;, &quot;icon&quot;: &quot;info-sign&quot;, &quot;iconColor&quot;: &quot;white&quot;, &quot;markerColor&quot;: &quot;green&quot;, &quot;prefix&quot;: &quot;glyphicon&quot;}\n",
       "            );\n",
       "            marker_406d34f7c7e37d94426c03e2e72ebc17.setIcon(icon_cd88c95b7253211a72630ccd3ec2bc04);\n",
       "        \n",
       "    \n",
       "            marker_406d34f7c7e37d94426c03e2e72ebc17.bindTooltip(\n",
       "                `&lt;div&gt;\n",
       "                     Artis\n",
       "                 &lt;/div&gt;`,\n",
       "                {&quot;sticky&quot;: true}\n",
       "            );\n",
       "        \n",
       "    \n",
       "            var marker_d370acbd8aab288ebcd3fc60d56b66f7 = L.marker(\n",
       "                [52.3159898, 4.9429305],\n",
       "                {}\n",
       "            ).addTo(map_a39514f4b7b5fd4aa5067b39abe1483e);\n",
       "        \n",
       "    \n",
       "            var icon_caa1e83e800d6d7e5ad369742270dcaf = L.AwesomeMarkers.icon(\n",
       "                {&quot;extraClasses&quot;: &quot;fa-rotate-0&quot;, &quot;icon&quot;: &quot;info-sign&quot;, &quot;iconColor&quot;: &quot;white&quot;, &quot;markerColor&quot;: &quot;red&quot;, &quot;prefix&quot;: &quot;glyphicon&quot;}\n",
       "            );\n",
       "            marker_d370acbd8aab288ebcd3fc60d56b66f7.setIcon(icon_caa1e83e800d6d7e5ad369742270dcaf);\n",
       "        \n",
       "    \n",
       "            marker_d370acbd8aab288ebcd3fc60d56b66f7.bindTooltip(\n",
       "                `&lt;div&gt;\n",
       "                     Arena\n",
       "                 &lt;/div&gt;`,\n",
       "                {&quot;sticky&quot;: true}\n",
       "            );\n",
       "        \n",
       "    \n",
       "            var marker_23762e4b837a0f5d6c6c803b31bddeab = L.marker(\n",
       "                [52.31362925, 4.938206841509185],\n",
       "                {}\n",
       "            ).addTo(map_a39514f4b7b5fd4aa5067b39abe1483e);\n",
       "        \n",
       "    \n",
       "            var icon_d85e0ff0a8c462dd8ac57dc82047ea21 = L.AwesomeMarkers.icon(\n",
       "                {&quot;extraClasses&quot;: &quot;fa-rotate-0&quot;, &quot;icon&quot;: &quot;info-sign&quot;, &quot;iconColor&quot;: &quot;white&quot;, &quot;markerColor&quot;: &quot;purple&quot;, &quot;prefix&quot;: &quot;glyphicon&quot;}\n",
       "            );\n",
       "            marker_23762e4b837a0f5d6c6c803b31bddeab.setIcon(icon_d85e0ff0a8c462dd8ac57dc82047ea21);\n",
       "        \n",
       "    \n",
       "            marker_23762e4b837a0f5d6c6c803b31bddeab.bindTooltip(\n",
       "                `&lt;div&gt;\n",
       "                     Ziggo Dome\n",
       "                 &lt;/div&gt;`,\n",
       "                {&quot;sticky&quot;: true}\n",
       "            );\n",
       "        \n",
       "&lt;/script&gt;\" style=\"position:absolute;width:100%;height:100%;left:0;top:0;border:none !important;\" allowfullscreen webkitallowfullscreen mozallowfullscreen></iframe></div></div>"
      ],
      "text/plain": [
       "<folium.folium.Map at 0x107eaccd0>"
      ]
     },
     "execution_count": 8,
     "metadata": {},
     "output_type": "execute_result"
    }
   ],
   "source": [
    "for _, row in df.iterrows():\n",
    "    folium.Marker((row.lat,row.lon),icon=folium.Icon(color=row.color), tooltip=row.address).add_to(Map)\n",
    "Map"
   ]
  },
  {
   "cell_type": "code",
   "execution_count": 9,
   "metadata": {
    "executionInfo": {
     "elapsed": 1170,
     "status": "ok",
     "timestamp": 1649512287295,
     "user": {
      "displayName": "Jeffrey Kantor",
      "userId": "09038942003589296665"
     },
     "user_tz": 240
    },
    "id": "3X8-HZv7wIOV"
   },
   "outputs": [
    {
     "name": "stderr",
     "output_type": "stream",
     "text": [
      "/Users/ale/.pyenv/versions/3.10.6/lib/python3.10/site-packages/osmnx/utils.py:192: UserWarning: The `utils.config` function is deprecated and will be removed in a future release. Instead, use the `settings` module directly to configure a global setting's value. For example, `ox.settings.log_console=True`.\n",
      "  warnings.warn(\n"
     ]
    }
   ],
   "source": [
    "import osmnx as ox\n",
    "import networkx as nx\n",
    "from IPython.display import display\n",
    "\n",
    "ox.config(log_console=True, use_cache=True)"
   ]
  },
  {
   "cell_type": "code",
   "execution_count": 10,
   "metadata": {
    "colab": {
     "base_uri": "https://localhost:8080/"
    },
    "executionInfo": {
     "elapsed": 149964,
     "status": "ok",
     "timestamp": 1649512437256,
     "user": {
      "displayName": "Jeffrey Kantor",
      "userId": "09038942003589296665"
     },
     "user_tz": 240
    },
    "id": "MJc3bZ2aoNco",
    "outputId": "970888a2-16ba-48e8-f947-b7abd88994dc"
   },
   "outputs": [
    {
     "name": "stdout",
     "output_type": "stream",
     "text": [
      "CPU times: user 58 s, sys: 1.07 s, total: 59.1 s\n",
      "Wall time: 2min 36s\n"
     ]
    }
   ],
   "source": [
    "%%time \n",
    "G_walk = ox.graph_from_place('Amsterdam, NL', network_type='walk')"
   ]
  },
  {
   "cell_type": "code",
   "execution_count": 11,
   "metadata": {
    "colab": {
     "base_uri": "https://localhost:8080/"
    },
    "executionInfo": {
     "elapsed": 215,
     "status": "ok",
     "timestamp": 1649509059812,
     "user": {
      "displayName": "",
      "userId": ""
     },
     "user_tz": 240
    },
    "id": "fZlbqvkjsvOQ",
    "outputId": "7c6e8422-4dfd-4363-a1c1-995c5d1c044b"
   },
   "outputs": [
    {
     "name": "stdout",
     "output_type": "stream",
     "text": [
      "37079 104568\n"
     ]
    }
   ],
   "source": [
    "print( G_walk.number_of_nodes(), G_walk.number_of_edges() )"
   ]
  },
  {
   "cell_type": "code",
   "execution_count": 12,
   "metadata": {
    "colab": {
     "base_uri": "https://localhost:8080/",
     "height": 206
    },
    "executionInfo": {
     "elapsed": 12,
     "status": "ok",
     "timestamp": 1649509059813,
     "user": {
      "displayName": "",
      "userId": ""
     },
     "user_tz": 240
    },
    "id": "ivIL3y76Rbpd",
    "outputId": "6af0a465-a9bd-42f9-940e-331feca07a0e"
   },
   "outputs": [
    {
     "data": {
      "text/html": [
       "<div>\n",
       "<style scoped>\n",
       "    .dataframe tbody tr th:only-of-type {\n",
       "        vertical-align: middle;\n",
       "    }\n",
       "\n",
       "    .dataframe tbody tr th {\n",
       "        vertical-align: top;\n",
       "    }\n",
       "\n",
       "    .dataframe thead th {\n",
       "        text-align: right;\n",
       "    }\n",
       "</style>\n",
       "<table border=\"1\" class=\"dataframe\">\n",
       "  <thead>\n",
       "    <tr style=\"text-align: right;\">\n",
       "      <th></th>\n",
       "      <th>address</th>\n",
       "      <th>color</th>\n",
       "      <th>city</th>\n",
       "      <th>country</th>\n",
       "      <th>lat</th>\n",
       "      <th>lon</th>\n",
       "      <th>osmnx</th>\n",
       "    </tr>\n",
       "  </thead>\n",
       "  <tbody>\n",
       "    <tr>\n",
       "      <th>0</th>\n",
       "      <td>Centraal Station</td>\n",
       "      <td>blue</td>\n",
       "      <td>Amsterdam</td>\n",
       "      <td>NL</td>\n",
       "      <td>52.378901</td>\n",
       "      <td>4.900581</td>\n",
       "      <td>5629072001</td>\n",
       "    </tr>\n",
       "    <tr>\n",
       "      <th>1</th>\n",
       "      <td>Amsterdam Business School</td>\n",
       "      <td>black</td>\n",
       "      <td>Amsterdam</td>\n",
       "      <td>NL</td>\n",
       "      <td>52.365107</td>\n",
       "      <td>4.911718</td>\n",
       "      <td>46356661</td>\n",
       "    </tr>\n",
       "    <tr>\n",
       "      <th>2</th>\n",
       "      <td>Artis</td>\n",
       "      <td>green</td>\n",
       "      <td>Amsterdam</td>\n",
       "      <td>NL</td>\n",
       "      <td>-30.401207</td>\n",
       "      <td>-56.481521</td>\n",
       "      <td>1768194163</td>\n",
       "    </tr>\n",
       "    <tr>\n",
       "      <th>3</th>\n",
       "      <td>Arena</td>\n",
       "      <td>red</td>\n",
       "      <td>Amsterdam</td>\n",
       "      <td>NL</td>\n",
       "      <td>52.315990</td>\n",
       "      <td>4.942931</td>\n",
       "      <td>4622542635</td>\n",
       "    </tr>\n",
       "    <tr>\n",
       "      <th>4</th>\n",
       "      <td>Ziggo Dome</td>\n",
       "      <td>purple</td>\n",
       "      <td>Amsterdam</td>\n",
       "      <td>NL</td>\n",
       "      <td>52.313629</td>\n",
       "      <td>4.938207</td>\n",
       "      <td>1925143759</td>\n",
       "    </tr>\n",
       "  </tbody>\n",
       "</table>\n",
       "</div>"
      ],
      "text/plain": [
       "                     address   color       city country        lat        lon  \\\n",
       "0           Centraal Station    blue  Amsterdam      NL  52.378901   4.900581   \n",
       "1  Amsterdam Business School   black  Amsterdam      NL  52.365107   4.911718   \n",
       "2                      Artis   green  Amsterdam      NL -30.401207 -56.481521   \n",
       "3                      Arena     red  Amsterdam      NL  52.315990   4.942931   \n",
       "4                 Ziggo Dome  purple  Amsterdam      NL  52.313629   4.938207   \n",
       "\n",
       "        osmnx  \n",
       "0  5629072001  \n",
       "1    46356661  \n",
       "2  1768194163  \n",
       "3  4622542635  \n",
       "4  1925143759  "
      ]
     },
     "execution_count": 12,
     "metadata": {},
     "output_type": "execute_result"
    }
   ],
   "source": [
    "df['osmnx'] = ox.distance.nearest_nodes(G_walk,df.lon,df.lat)\n",
    "df"
   ]
  },
  {
   "cell_type": "code",
   "execution_count": 13,
   "metadata": {
    "colab": {
     "base_uri": "https://localhost:8080/"
    },
    "executionInfo": {
     "elapsed": 12,
     "status": "ok",
     "timestamp": 1649509059814,
     "user": {
      "displayName": "",
      "userId": ""
     },
     "user_tz": 240
    },
    "id": "lhSfE3ec3bSw",
    "outputId": "ed5b20b7-afef-4746-9122-f4118774c555"
   },
   "outputs": [
    {
     "name": "stdout",
     "output_type": "stream",
     "text": [
      "CPU times: user 24.5 ms, sys: 2.73 ms, total: 27.2 ms\n",
      "Wall time: 26.8 ms\n",
      "[5629072001, 5629072000, 5629071975, 4239313191, 4239313081, 4239313075, 4239312638, 4239312409, 9683540350, 4239311933, 4239310797, 3189915006, 3175727789, 1263352467, 9807404628, 9959600367, 9283437392, 9982135036, 9982135039, 9982135032, 9982135049, 9982118415, 9971788071, 9807403578, 46411146, 46410382, 8238495242, 46409003, 46405684, 46402187, 5933448325, 4959039686, 9407636386, 1291587477, 9913510572, 8223730972, 1291587576, 8223730971, 8223752620, 46383339, 46380741, 46379359, 46374887, 46374082, 3781170573, 7995426344, 3781170150, 3781170147, 3781170139, 2021897089, 2021897044, 7223158294, 7223158307, 2021897032, 7223210075, 7223210071, 1291468055, 3160068713, 3160068154, 46356661]\n"
     ]
    }
   ],
   "source": [
    "%time route = nx.shortest_path(G_walk,df.iloc[0].osmnx,df.iloc[1].osmnx,weight='length')\n",
    "print(route)"
   ]
  },
  {
   "cell_type": "code",
   "execution_count": 14,
   "metadata": {
    "colab": {
     "base_uri": "https://localhost:8080/",
     "height": 865
    },
    "executionInfo": {
     "elapsed": 168,
     "status": "ok",
     "timestamp": 1649509059975,
     "user": {
      "displayName": "",
      "userId": ""
     },
     "user_tz": 240
    },
    "id": "lvgHmwaZUcVw",
    "outputId": "71c9d35f-fa78-4804-f8ca-1011223a03bd"
   },
   "outputs": [
    {
     "data": {
      "text/html": [
       "<div style=\"width:100%;\"><div style=\"position:relative;width:100%;height:0;padding-bottom:60%;\"><span style=\"color:#565656\">Make this Notebook Trusted to load map: File -> Trust Notebook</span><iframe srcdoc=\"&lt;!DOCTYPE html&gt;\n",
       "&lt;head&gt;    \n",
       "    &lt;meta http-equiv=&quot;content-type&quot; content=&quot;text/html; charset=UTF-8&quot; /&gt;\n",
       "    \n",
       "        &lt;script&gt;\n",
       "            L_NO_TOUCH = false;\n",
       "            L_DISABLE_3D = false;\n",
       "        &lt;/script&gt;\n",
       "    \n",
       "    &lt;style&gt;html, body {width: 100%;height: 100%;margin: 0;padding: 0;}&lt;/style&gt;\n",
       "    &lt;style&gt;#map {position:absolute;top:0;bottom:0;right:0;left:0;}&lt;/style&gt;\n",
       "    &lt;script src=&quot;https://cdn.jsdelivr.net/npm/leaflet@1.6.0/dist/leaflet.js&quot;&gt;&lt;/script&gt;\n",
       "    &lt;script src=&quot;https://code.jquery.com/jquery-1.12.4.min.js&quot;&gt;&lt;/script&gt;\n",
       "    &lt;script src=&quot;https://maxcdn.bootstrapcdn.com/bootstrap/3.2.0/js/bootstrap.min.js&quot;&gt;&lt;/script&gt;\n",
       "    &lt;script src=&quot;https://cdnjs.cloudflare.com/ajax/libs/Leaflet.awesome-markers/2.0.2/leaflet.awesome-markers.js&quot;&gt;&lt;/script&gt;\n",
       "    &lt;link rel=&quot;stylesheet&quot; href=&quot;https://cdn.jsdelivr.net/npm/leaflet@1.6.0/dist/leaflet.css&quot;/&gt;\n",
       "    &lt;link rel=&quot;stylesheet&quot; href=&quot;https://maxcdn.bootstrapcdn.com/bootstrap/3.2.0/css/bootstrap.min.css&quot;/&gt;\n",
       "    &lt;link rel=&quot;stylesheet&quot; href=&quot;https://maxcdn.bootstrapcdn.com/bootstrap/3.2.0/css/bootstrap-theme.min.css&quot;/&gt;\n",
       "    &lt;link rel=&quot;stylesheet&quot; href=&quot;https://maxcdn.bootstrapcdn.com/font-awesome/4.6.3/css/font-awesome.min.css&quot;/&gt;\n",
       "    &lt;link rel=&quot;stylesheet&quot; href=&quot;https://cdnjs.cloudflare.com/ajax/libs/Leaflet.awesome-markers/2.0.2/leaflet.awesome-markers.css&quot;/&gt;\n",
       "    &lt;link rel=&quot;stylesheet&quot; href=&quot;https://cdn.jsdelivr.net/gh/python-visualization/folium/folium/templates/leaflet.awesome.rotate.min.css&quot;/&gt;\n",
       "    \n",
       "            &lt;meta name=&quot;viewport&quot; content=&quot;width=device-width,\n",
       "                initial-scale=1.0, maximum-scale=1.0, user-scalable=no&quot; /&gt;\n",
       "            &lt;style&gt;\n",
       "                #map_1eec0b6c1e82976ec36a5856e0fab37b {\n",
       "                    position: relative;\n",
       "                    width: 100.0%;\n",
       "                    height: 100.0%;\n",
       "                    left: 0.0%;\n",
       "                    top: 0.0%;\n",
       "                }\n",
       "            &lt;/style&gt;\n",
       "        \n",
       "&lt;/head&gt;\n",
       "&lt;body&gt;    \n",
       "    \n",
       "            &lt;div class=&quot;folium-map&quot; id=&quot;map_1eec0b6c1e82976ec36a5856e0fab37b&quot; &gt;&lt;/div&gt;\n",
       "        \n",
       "&lt;/body&gt;\n",
       "&lt;script&gt;    \n",
       "    \n",
       "            var map_1eec0b6c1e82976ec36a5856e0fab37b = L.map(\n",
       "                &quot;map_1eec0b6c1e82976ec36a5856e0fab37b&quot;,\n",
       "                {\n",
       "                    center: [52.3718573306941, 4.907596117370764],\n",
       "                    crs: L.CRS.EPSG3857,\n",
       "                    zoom: 1,\n",
       "                    zoomControl: true,\n",
       "                    preferCanvas: false,\n",
       "                }\n",
       "            );\n",
       "\n",
       "            \n",
       "\n",
       "        \n",
       "    \n",
       "            var tile_layer_d3e1966651a02b513ee0804298f95a42 = L.tileLayer(\n",
       "                &quot;https://cartodb-basemaps-{s}.global.ssl.fastly.net/light_all/{z}/{x}/{y}.png&quot;,\n",
       "                {&quot;attribution&quot;: &quot;\\u0026copy; \\u003ca href=\\&quot;http://www.openstreetmap.org/copyright\\&quot;\\u003eOpenStreetMap\\u003c/a\\u003e contributors \\u0026copy; \\u003ca href=\\&quot;http://cartodb.com/attributions\\&quot;\\u003eCartoDB\\u003c/a\\u003e, CartoDB \\u003ca href =\\&quot;http://cartodb.com/attributions\\&quot;\\u003eattributions\\u003c/a\\u003e&quot;, &quot;detectRetina&quot;: false, &quot;maxNativeZoom&quot;: 18, &quot;maxZoom&quot;: 18, &quot;minZoom&quot;: 0, &quot;noWrap&quot;: false, &quot;opacity&quot;: 1, &quot;subdomains&quot;: &quot;abc&quot;, &quot;tms&quot;: false}\n",
       "            ).addTo(map_1eec0b6c1e82976ec36a5856e0fab37b);\n",
       "        \n",
       "    \n",
       "            var poly_line_b6625a02c95be8d232854336bcc3a48c = L.polyline(\n",
       "                [[52.378908, 4.9005558], [52.3788886, 4.9005366]],\n",
       "                {&quot;bubblingMouseEvents&quot;: true, &quot;color&quot;: &quot;#3388ff&quot;, &quot;dashArray&quot;: null, &quot;dashOffset&quot;: null, &quot;fill&quot;: false, &quot;fillColor&quot;: &quot;#3388ff&quot;, &quot;fillOpacity&quot;: 0.2, &quot;fillRule&quot;: &quot;evenodd&quot;, &quot;lineCap&quot;: &quot;round&quot;, &quot;lineJoin&quot;: &quot;round&quot;, &quot;noClip&quot;: false, &quot;opacity&quot;: 1.0, &quot;smoothFactor&quot;: 1.0, &quot;stroke&quot;: true, &quot;weight&quot;: 3}\n",
       "            ).addTo(map_1eec0b6c1e82976ec36a5856e0fab37b);\n",
       "        \n",
       "    \n",
       "            var poly_line_7c5ce8e81adbde42cbf7eee3fd12a379 = L.polyline(\n",
       "                [[52.3788886, 4.9005366], [52.3788842, 4.9005322]],\n",
       "                {&quot;bubblingMouseEvents&quot;: true, &quot;color&quot;: &quot;#3388ff&quot;, &quot;dashArray&quot;: null, &quot;dashOffset&quot;: null, &quot;fill&quot;: false, &quot;fillColor&quot;: &quot;#3388ff&quot;, &quot;fillOpacity&quot;: 0.2, &quot;fillRule&quot;: &quot;evenodd&quot;, &quot;lineCap&quot;: &quot;round&quot;, &quot;lineJoin&quot;: &quot;round&quot;, &quot;noClip&quot;: false, &quot;opacity&quot;: 1.0, &quot;smoothFactor&quot;: 1.0, &quot;stroke&quot;: true, &quot;weight&quot;: 3}\n",
       "            ).addTo(map_1eec0b6c1e82976ec36a5856e0fab37b);\n",
       "        \n",
       "    \n",
       "            var poly_line_89be5a70924448b39794cf9959c4fad2 = L.polyline(\n",
       "                [[52.3788842, 4.9005322], [52.3788759, 4.900524], [52.3788645, 4.9005127], [52.3787763, 4.9004253], [52.3787537, 4.9004028]],\n",
       "                {&quot;bubblingMouseEvents&quot;: true, &quot;color&quot;: &quot;#3388ff&quot;, &quot;dashArray&quot;: null, &quot;dashOffset&quot;: null, &quot;fill&quot;: false, &quot;fillColor&quot;: &quot;#3388ff&quot;, &quot;fillOpacity&quot;: 0.2, &quot;fillRule&quot;: &quot;evenodd&quot;, &quot;lineCap&quot;: &quot;round&quot;, &quot;lineJoin&quot;: &quot;round&quot;, &quot;noClip&quot;: false, &quot;opacity&quot;: 1.0, &quot;smoothFactor&quot;: 1.0, &quot;stroke&quot;: true, &quot;weight&quot;: 3}\n",
       "            ).addTo(map_1eec0b6c1e82976ec36a5856e0fab37b);\n",
       "        \n",
       "    \n",
       "            var poly_line_fd605eb3fe0269cd052cb1c7e7093df6 = L.polyline(\n",
       "                [[52.3787537, 4.9004028], [52.3787464, 4.9003956]],\n",
       "                {&quot;bubblingMouseEvents&quot;: true, &quot;color&quot;: &quot;#3388ff&quot;, &quot;dashArray&quot;: null, &quot;dashOffset&quot;: null, &quot;fill&quot;: false, &quot;fillColor&quot;: &quot;#3388ff&quot;, &quot;fillOpacity&quot;: 0.2, &quot;fillRule&quot;: &quot;evenodd&quot;, &quot;lineCap&quot;: &quot;round&quot;, &quot;lineJoin&quot;: &quot;round&quot;, &quot;noClip&quot;: false, &quot;opacity&quot;: 1.0, &quot;smoothFactor&quot;: 1.0, &quot;stroke&quot;: true, &quot;weight&quot;: 3}\n",
       "            ).addTo(map_1eec0b6c1e82976ec36a5856e0fab37b);\n",
       "        \n",
       "    \n",
       "            var poly_line_89d13030bb97b1c9e6a21af3c9eeee4d = L.polyline(\n",
       "                [[52.3787464, 4.9003956], [52.3787393, 4.9003887]],\n",
       "                {&quot;bubblingMouseEvents&quot;: true, &quot;color&quot;: &quot;#3388ff&quot;, &quot;dashArray&quot;: null, &quot;dashOffset&quot;: null, &quot;fill&quot;: false, &quot;fillColor&quot;: &quot;#3388ff&quot;, &quot;fillOpacity&quot;: 0.2, &quot;fillRule&quot;: &quot;evenodd&quot;, &quot;lineCap&quot;: &quot;round&quot;, &quot;lineJoin&quot;: &quot;round&quot;, &quot;noClip&quot;: false, &quot;opacity&quot;: 1.0, &quot;smoothFactor&quot;: 1.0, &quot;stroke&quot;: true, &quot;weight&quot;: 3}\n",
       "            ).addTo(map_1eec0b6c1e82976ec36a5856e0fab37b);\n",
       "        \n",
       "    \n",
       "            var poly_line_bdb5248693897403f3936e2274c14462 = L.polyline(\n",
       "                [[52.3787393, 4.9003887], [52.3787178, 4.900368], [52.3786285, 4.9002817], [52.3785828, 4.9002376], [52.3785705, 4.9002257]],\n",
       "                {&quot;bubblingMouseEvents&quot;: true, &quot;color&quot;: &quot;#3388ff&quot;, &quot;dashArray&quot;: null, &quot;dashOffset&quot;: null, &quot;fill&quot;: false, &quot;fillColor&quot;: &quot;#3388ff&quot;, &quot;fillOpacity&quot;: 0.2, &quot;fillRule&quot;: &quot;evenodd&quot;, &quot;lineCap&quot;: &quot;round&quot;, &quot;lineJoin&quot;: &quot;round&quot;, &quot;noClip&quot;: false, &quot;opacity&quot;: 1.0, &quot;smoothFactor&quot;: 1.0, &quot;stroke&quot;: true, &quot;weight&quot;: 3}\n",
       "            ).addTo(map_1eec0b6c1e82976ec36a5856e0fab37b);\n",
       "        \n",
       "    \n",
       "            var poly_line_1868830dbd0f5976b79cc79e42b41308 = L.polyline(\n",
       "                [[52.3785705, 4.9002257], [52.378527, 4.9003446], [52.3785192, 4.9003658], [52.3785135, 4.9003796]],\n",
       "                {&quot;bubblingMouseEvents&quot;: true, &quot;color&quot;: &quot;#3388ff&quot;, &quot;dashArray&quot;: null, &quot;dashOffset&quot;: null, &quot;fill&quot;: false, &quot;fillColor&quot;: &quot;#3388ff&quot;, &quot;fillOpacity&quot;: 0.2, &quot;fillRule&quot;: &quot;evenodd&quot;, &quot;lineCap&quot;: &quot;round&quot;, &quot;lineJoin&quot;: &quot;round&quot;, &quot;noClip&quot;: false, &quot;opacity&quot;: 1.0, &quot;smoothFactor&quot;: 1.0, &quot;stroke&quot;: true, &quot;weight&quot;: 3}\n",
       "            ).addTo(map_1eec0b6c1e82976ec36a5856e0fab37b);\n",
       "        \n",
       "    \n",
       "            var poly_line_96021051626952743bfd19703f0d879c = L.polyline(\n",
       "                [[52.3785135, 4.9003796], [52.3784858, 4.900353], [52.3784723, 4.9003403]],\n",
       "                {&quot;bubblingMouseEvents&quot;: true, &quot;color&quot;: &quot;#3388ff&quot;, &quot;dashArray&quot;: null, &quot;dashOffset&quot;: null, &quot;fill&quot;: false, &quot;fillColor&quot;: &quot;#3388ff&quot;, &quot;fillOpacity&quot;: 0.2, &quot;fillRule&quot;: &quot;evenodd&quot;, &quot;lineCap&quot;: &quot;round&quot;, &quot;lineJoin&quot;: &quot;round&quot;, &quot;noClip&quot;: false, &quot;opacity&quot;: 1.0, &quot;smoothFactor&quot;: 1.0, &quot;stroke&quot;: true, &quot;weight&quot;: 3}\n",
       "            ).addTo(map_1eec0b6c1e82976ec36a5856e0fab37b);\n",
       "        \n",
       "    \n",
       "            var poly_line_89a1eec793eda851868691d2c7fb0884 = L.polyline(\n",
       "                [[52.3784723, 4.9003403], [52.3784551, 4.9003242], [52.3784105, 4.9002808], [52.3783904, 4.9002612]],\n",
       "                {&quot;bubblingMouseEvents&quot;: true, &quot;color&quot;: &quot;#3388ff&quot;, &quot;dashArray&quot;: null, &quot;dashOffset&quot;: null, &quot;fill&quot;: false, &quot;fillColor&quot;: &quot;#3388ff&quot;, &quot;fillOpacity&quot;: 0.2, &quot;fillRule&quot;: &quot;evenodd&quot;, &quot;lineCap&quot;: &quot;round&quot;, &quot;lineJoin&quot;: &quot;round&quot;, &quot;noClip&quot;: false, &quot;opacity&quot;: 1.0, &quot;smoothFactor&quot;: 1.0, &quot;stroke&quot;: true, &quot;weight&quot;: 3}\n",
       "            ).addTo(map_1eec0b6c1e82976ec36a5856e0fab37b);\n",
       "        \n",
       "    \n",
       "            var poly_line_55f0f278e5200ce72a7036c154e38419 = L.polyline(\n",
       "                [[52.3783904, 4.9002612], [52.3783752, 4.9003031], [52.3781886, 4.9008169]],\n",
       "                {&quot;bubblingMouseEvents&quot;: true, &quot;color&quot;: &quot;#3388ff&quot;, &quot;dashArray&quot;: null, &quot;dashOffset&quot;: null, &quot;fill&quot;: false, &quot;fillColor&quot;: &quot;#3388ff&quot;, &quot;fillOpacity&quot;: 0.2, &quot;fillRule&quot;: &quot;evenodd&quot;, &quot;lineCap&quot;: &quot;round&quot;, &quot;lineJoin&quot;: &quot;round&quot;, &quot;noClip&quot;: false, &quot;opacity&quot;: 1.0, &quot;smoothFactor&quot;: 1.0, &quot;stroke&quot;: true, &quot;weight&quot;: 3}\n",
       "            ).addTo(map_1eec0b6c1e82976ec36a5856e0fab37b);\n",
       "        \n",
       "    \n",
       "            var poly_line_d6a634485735b9b9e5599469a0256266 = L.polyline(\n",
       "                [[52.3781886, 4.9008169], [52.3781011, 4.9010576]],\n",
       "                {&quot;bubblingMouseEvents&quot;: true, &quot;color&quot;: &quot;#3388ff&quot;, &quot;dashArray&quot;: null, &quot;dashOffset&quot;: null, &quot;fill&quot;: false, &quot;fillColor&quot;: &quot;#3388ff&quot;, &quot;fillOpacity&quot;: 0.2, &quot;fillRule&quot;: &quot;evenodd&quot;, &quot;lineCap&quot;: &quot;round&quot;, &quot;lineJoin&quot;: &quot;round&quot;, &quot;noClip&quot;: false, &quot;opacity&quot;: 1.0, &quot;smoothFactor&quot;: 1.0, &quot;stroke&quot;: true, &quot;weight&quot;: 3}\n",
       "            ).addTo(map_1eec0b6c1e82976ec36a5856e0fab37b);\n",
       "        \n",
       "    \n",
       "            var poly_line_84f55e4e3826027c0a9a29bf47e4fe5b = L.polyline(\n",
       "                [[52.3781011, 4.9010576], [52.3780911, 4.9010482], [52.3780143, 4.9009759], [52.3780019, 4.9009648]],\n",
       "                {&quot;bubblingMouseEvents&quot;: true, &quot;color&quot;: &quot;#3388ff&quot;, &quot;dashArray&quot;: null, &quot;dashOffset&quot;: null, &quot;fill&quot;: false, &quot;fillColor&quot;: &quot;#3388ff&quot;, &quot;fillOpacity&quot;: 0.2, &quot;fillRule&quot;: &quot;evenodd&quot;, &quot;lineCap&quot;: &quot;round&quot;, &quot;lineJoin&quot;: &quot;round&quot;, &quot;noClip&quot;: false, &quot;opacity&quot;: 1.0, &quot;smoothFactor&quot;: 1.0, &quot;stroke&quot;: true, &quot;weight&quot;: 3}\n",
       "            ).addTo(map_1eec0b6c1e82976ec36a5856e0fab37b);\n",
       "        \n",
       "    \n",
       "            var poly_line_55c521f16f6e4c98cc71fde2be79fd9f = L.polyline(\n",
       "                [[52.3780019, 4.9009648], [52.3779201, 4.9009115]],\n",
       "                {&quot;bubblingMouseEvents&quot;: true, &quot;color&quot;: &quot;#3388ff&quot;, &quot;dashArray&quot;: null, &quot;dashOffset&quot;: null, &quot;fill&quot;: false, &quot;fillColor&quot;: &quot;#3388ff&quot;, &quot;fillOpacity&quot;: 0.2, &quot;fillRule&quot;: &quot;evenodd&quot;, &quot;lineCap&quot;: &quot;round&quot;, &quot;lineJoin&quot;: &quot;round&quot;, &quot;noClip&quot;: false, &quot;opacity&quot;: 1.0, &quot;smoothFactor&quot;: 1.0, &quot;stroke&quot;: true, &quot;weight&quot;: 3}\n",
       "            ).addTo(map_1eec0b6c1e82976ec36a5856e0fab37b);\n",
       "        \n",
       "    \n",
       "            var poly_line_6960d8750ea0be2b5f603b9228f9d302 = L.polyline(\n",
       "                [[52.3779201, 4.9009115], [52.3778853, 4.9009029]],\n",
       "                {&quot;bubblingMouseEvents&quot;: true, &quot;color&quot;: &quot;#3388ff&quot;, &quot;dashArray&quot;: null, &quot;dashOffset&quot;: null, &quot;fill&quot;: false, &quot;fillColor&quot;: &quot;#3388ff&quot;, &quot;fillOpacity&quot;: 0.2, &quot;fillRule&quot;: &quot;evenodd&quot;, &quot;lineCap&quot;: &quot;round&quot;, &quot;lineJoin&quot;: &quot;round&quot;, &quot;noClip&quot;: false, &quot;opacity&quot;: 1.0, &quot;smoothFactor&quot;: 1.0, &quot;stroke&quot;: true, &quot;weight&quot;: 3}\n",
       "            ).addTo(map_1eec0b6c1e82976ec36a5856e0fab37b);\n",
       "        \n",
       "    \n",
       "            var poly_line_a5db0167b2e0377d82adfdfa3ccd537e = L.polyline(\n",
       "                [[52.3778853, 4.9009029], [52.3778744, 4.900898], [52.3778653, 4.9008988]],\n",
       "                {&quot;bubblingMouseEvents&quot;: true, &quot;color&quot;: &quot;#3388ff&quot;, &quot;dashArray&quot;: null, &quot;dashOffset&quot;: null, &quot;fill&quot;: false, &quot;fillColor&quot;: &quot;#3388ff&quot;, &quot;fillOpacity&quot;: 0.2, &quot;fillRule&quot;: &quot;evenodd&quot;, &quot;lineCap&quot;: &quot;round&quot;, &quot;lineJoin&quot;: &quot;round&quot;, &quot;noClip&quot;: false, &quot;opacity&quot;: 1.0, &quot;smoothFactor&quot;: 1.0, &quot;stroke&quot;: true, &quot;weight&quot;: 3}\n",
       "            ).addTo(map_1eec0b6c1e82976ec36a5856e0fab37b);\n",
       "        \n",
       "    \n",
       "            var poly_line_29bd660e3753c98b2bd5149fe028e3c8 = L.polyline(\n",
       "                [[52.3778653, 4.9008988], [52.3778624, 4.9008991], [52.3778442, 4.9009007], [52.3778327, 4.9009018]],\n",
       "                {&quot;bubblingMouseEvents&quot;: true, &quot;color&quot;: &quot;#3388ff&quot;, &quot;dashArray&quot;: null, &quot;dashOffset&quot;: null, &quot;fill&quot;: false, &quot;fillColor&quot;: &quot;#3388ff&quot;, &quot;fillOpacity&quot;: 0.2, &quot;fillRule&quot;: &quot;evenodd&quot;, &quot;lineCap&quot;: &quot;round&quot;, &quot;lineJoin&quot;: &quot;round&quot;, &quot;noClip&quot;: false, &quot;opacity&quot;: 1.0, &quot;smoothFactor&quot;: 1.0, &quot;stroke&quot;: true, &quot;weight&quot;: 3}\n",
       "            ).addTo(map_1eec0b6c1e82976ec36a5856e0fab37b);\n",
       "        \n",
       "    \n",
       "            var poly_line_70373ad2cce8146544273b48d6256982 = L.polyline(\n",
       "                [[52.3778327, 4.9009018], [52.3778203, 4.9009029], [52.3778141, 4.9009034]],\n",
       "                {&quot;bubblingMouseEvents&quot;: true, &quot;color&quot;: &quot;#3388ff&quot;, &quot;dashArray&quot;: null, &quot;dashOffset&quot;: null, &quot;fill&quot;: false, &quot;fillColor&quot;: &quot;#3388ff&quot;, &quot;fillOpacity&quot;: 0.2, &quot;fillRule&quot;: &quot;evenodd&quot;, &quot;lineCap&quot;: &quot;round&quot;, &quot;lineJoin&quot;: &quot;round&quot;, &quot;noClip&quot;: false, &quot;opacity&quot;: 1.0, &quot;smoothFactor&quot;: 1.0, &quot;stroke&quot;: true, &quot;weight&quot;: 3}\n",
       "            ).addTo(map_1eec0b6c1e82976ec36a5856e0fab37b);\n",
       "        \n",
       "    \n",
       "            var poly_line_9b7bb1593e0e9a66931efd54f9204cbe = L.polyline(\n",
       "                [[52.3778141, 4.9009034], [52.3778019, 4.9009743], [52.3777207, 4.9014441]],\n",
       "                {&quot;bubblingMouseEvents&quot;: true, &quot;color&quot;: &quot;#3388ff&quot;, &quot;dashArray&quot;: null, &quot;dashOffset&quot;: null, &quot;fill&quot;: false, &quot;fillColor&quot;: &quot;#3388ff&quot;, &quot;fillOpacity&quot;: 0.2, &quot;fillRule&quot;: &quot;evenodd&quot;, &quot;lineCap&quot;: &quot;round&quot;, &quot;lineJoin&quot;: &quot;round&quot;, &quot;noClip&quot;: false, &quot;opacity&quot;: 1.0, &quot;smoothFactor&quot;: 1.0, &quot;stroke&quot;: true, &quot;weight&quot;: 3}\n",
       "            ).addTo(map_1eec0b6c1e82976ec36a5856e0fab37b);\n",
       "        \n",
       "    \n",
       "            var poly_line_fce4c0c79ee005d6f1d5628c5f393531 = L.polyline(\n",
       "                [[52.3777207, 4.9014441], [52.3776886, 4.9015511], [52.3776627, 4.9016141], [52.3775779, 4.9017583]],\n",
       "                {&quot;bubblingMouseEvents&quot;: true, &quot;color&quot;: &quot;#3388ff&quot;, &quot;dashArray&quot;: null, &quot;dashOffset&quot;: null, &quot;fill&quot;: false, &quot;fillColor&quot;: &quot;#3388ff&quot;, &quot;fillOpacity&quot;: 0.2, &quot;fillRule&quot;: &quot;evenodd&quot;, &quot;lineCap&quot;: &quot;round&quot;, &quot;lineJoin&quot;: &quot;round&quot;, &quot;noClip&quot;: false, &quot;opacity&quot;: 1.0, &quot;smoothFactor&quot;: 1.0, &quot;stroke&quot;: true, &quot;weight&quot;: 3}\n",
       "            ).addTo(map_1eec0b6c1e82976ec36a5856e0fab37b);\n",
       "        \n",
       "    \n",
       "            var poly_line_323b89d3676151883100924f0806cbc9 = L.polyline(\n",
       "                [[52.3775779, 4.9017583], [52.3775434, 4.9018229]],\n",
       "                {&quot;bubblingMouseEvents&quot;: true, &quot;color&quot;: &quot;#3388ff&quot;, &quot;dashArray&quot;: null, &quot;dashOffset&quot;: null, &quot;fill&quot;: false, &quot;fillColor&quot;: &quot;#3388ff&quot;, &quot;fillOpacity&quot;: 0.2, &quot;fillRule&quot;: &quot;evenodd&quot;, &quot;lineCap&quot;: &quot;round&quot;, &quot;lineJoin&quot;: &quot;round&quot;, &quot;noClip&quot;: false, &quot;opacity&quot;: 1.0, &quot;smoothFactor&quot;: 1.0, &quot;stroke&quot;: true, &quot;weight&quot;: 3}\n",
       "            ).addTo(map_1eec0b6c1e82976ec36a5856e0fab37b);\n",
       "        \n",
       "    \n",
       "            var poly_line_2b163dc400e20444096328e025b065d9 = L.polyline(\n",
       "                [[52.3775434, 4.9018229], [52.3774643, 4.9019698], [52.3774237, 4.9020189], [52.3773912, 4.9020476], [52.3773637, 4.9020658], [52.3773292, 4.9020763], [52.3772898, 4.9020771], [52.3772503, 4.9020667], [52.3772037, 4.9020451], [52.3771584, 4.9020169], [52.3770723, 4.901944]],\n",
       "                {&quot;bubblingMouseEvents&quot;: true, &quot;color&quot;: &quot;#3388ff&quot;, &quot;dashArray&quot;: null, &quot;dashOffset&quot;: null, &quot;fill&quot;: false, &quot;fillColor&quot;: &quot;#3388ff&quot;, &quot;fillOpacity&quot;: 0.2, &quot;fillRule&quot;: &quot;evenodd&quot;, &quot;lineCap&quot;: &quot;round&quot;, &quot;lineJoin&quot;: &quot;round&quot;, &quot;noClip&quot;: false, &quot;opacity&quot;: 1.0, &quot;smoothFactor&quot;: 1.0, &quot;stroke&quot;: true, &quot;weight&quot;: 3}\n",
       "            ).addTo(map_1eec0b6c1e82976ec36a5856e0fab37b);\n",
       "        \n",
       "    \n",
       "            var poly_line_e44926c89bd3bd9ab2d0fcf6409de7eb = L.polyline(\n",
       "                [[52.3770723, 4.901944], [52.3770541, 4.9020207], [52.3770447, 4.9020609], [52.377044, 4.9020641]],\n",
       "                {&quot;bubblingMouseEvents&quot;: true, &quot;color&quot;: &quot;#3388ff&quot;, &quot;dashArray&quot;: null, &quot;dashOffset&quot;: null, &quot;fill&quot;: false, &quot;fillColor&quot;: &quot;#3388ff&quot;, &quot;fillOpacity&quot;: 0.2, &quot;fillRule&quot;: &quot;evenodd&quot;, &quot;lineCap&quot;: &quot;round&quot;, &quot;lineJoin&quot;: &quot;round&quot;, &quot;noClip&quot;: false, &quot;opacity&quot;: 1.0, &quot;smoothFactor&quot;: 1.0, &quot;stroke&quot;: true, &quot;weight&quot;: 3}\n",
       "            ).addTo(map_1eec0b6c1e82976ec36a5856e0fab37b);\n",
       "        \n",
       "    \n",
       "            var poly_line_0951a3fc19cc61c7eca7f41b3e406c5f = L.polyline(\n",
       "                [[52.377044, 4.9020641], [52.3770401, 4.9020807]],\n",
       "                {&quot;bubblingMouseEvents&quot;: true, &quot;color&quot;: &quot;#3388ff&quot;, &quot;dashArray&quot;: null, &quot;dashOffset&quot;: null, &quot;fill&quot;: false, &quot;fillColor&quot;: &quot;#3388ff&quot;, &quot;fillOpacity&quot;: 0.2, &quot;fillRule&quot;: &quot;evenodd&quot;, &quot;lineCap&quot;: &quot;round&quot;, &quot;lineJoin&quot;: &quot;round&quot;, &quot;noClip&quot;: false, &quot;opacity&quot;: 1.0, &quot;smoothFactor&quot;: 1.0, &quot;stroke&quot;: true, &quot;weight&quot;: 3}\n",
       "            ).addTo(map_1eec0b6c1e82976ec36a5856e0fab37b);\n",
       "        \n",
       "    \n",
       "            var poly_line_72131cffc0444810e39f5deb04e4dead = L.polyline(\n",
       "                [[52.3770401, 4.9020807], [52.37699, 4.9020507], [52.3769364, 4.9020417], [52.3768707, 4.9020742]],\n",
       "                {&quot;bubblingMouseEvents&quot;: true, &quot;color&quot;: &quot;#3388ff&quot;, &quot;dashArray&quot;: null, &quot;dashOffset&quot;: null, &quot;fill&quot;: false, &quot;fillColor&quot;: &quot;#3388ff&quot;, &quot;fillOpacity&quot;: 0.2, &quot;fillRule&quot;: &quot;evenodd&quot;, &quot;lineCap&quot;: &quot;round&quot;, &quot;lineJoin&quot;: &quot;round&quot;, &quot;noClip&quot;: false, &quot;opacity&quot;: 1.0, &quot;smoothFactor&quot;: 1.0, &quot;stroke&quot;: true, &quot;weight&quot;: 3}\n",
       "            ).addTo(map_1eec0b6c1e82976ec36a5856e0fab37b);\n",
       "        \n",
       "    \n",
       "            var poly_line_7d29bdc2a7fb42dd99214574fe015ec4 = L.polyline(\n",
       "                [[52.3768707, 4.9020742], [52.3768393, 4.9021154], [52.3767277, 4.9022551]],\n",
       "                {&quot;bubblingMouseEvents&quot;: true, &quot;color&quot;: &quot;#3388ff&quot;, &quot;dashArray&quot;: null, &quot;dashOffset&quot;: null, &quot;fill&quot;: false, &quot;fillColor&quot;: &quot;#3388ff&quot;, &quot;fillOpacity&quot;: 0.2, &quot;fillRule&quot;: &quot;evenodd&quot;, &quot;lineCap&quot;: &quot;round&quot;, &quot;lineJoin&quot;: &quot;round&quot;, &quot;noClip&quot;: false, &quot;opacity&quot;: 1.0, &quot;smoothFactor&quot;: 1.0, &quot;stroke&quot;: true, &quot;weight&quot;: 3}\n",
       "            ).addTo(map_1eec0b6c1e82976ec36a5856e0fab37b);\n",
       "        \n",
       "    \n",
       "            var poly_line_86aef65c8eb780689b6c6a333b7345a1 = L.polyline(\n",
       "                [[52.3767277, 4.9022551], [52.3766598, 4.9023242], [52.376613, 4.9023767], [52.3763593, 4.9026618], [52.37631, 4.9027194], [52.376281, 4.9027552], [52.3762685, 4.9027707]],\n",
       "                {&quot;bubblingMouseEvents&quot;: true, &quot;color&quot;: &quot;#3388ff&quot;, &quot;dashArray&quot;: null, &quot;dashOffset&quot;: null, &quot;fill&quot;: false, &quot;fillColor&quot;: &quot;#3388ff&quot;, &quot;fillOpacity&quot;: 0.2, &quot;fillRule&quot;: &quot;evenodd&quot;, &quot;lineCap&quot;: &quot;round&quot;, &quot;lineJoin&quot;: &quot;round&quot;, &quot;noClip&quot;: false, &quot;opacity&quot;: 1.0, &quot;smoothFactor&quot;: 1.0, &quot;stroke&quot;: true, &quot;weight&quot;: 3}\n",
       "            ).addTo(map_1eec0b6c1e82976ec36a5856e0fab37b);\n",
       "        \n",
       "    \n",
       "            var poly_line_fabeeb95c192b3c79b50d990ae3586ef = L.polyline(\n",
       "                [[52.3762685, 4.9027707], [52.3762199, 4.9028307], [52.3761311, 4.9029372]],\n",
       "                {&quot;bubblingMouseEvents&quot;: true, &quot;color&quot;: &quot;#3388ff&quot;, &quot;dashArray&quot;: null, &quot;dashOffset&quot;: null, &quot;fill&quot;: false, &quot;fillColor&quot;: &quot;#3388ff&quot;, &quot;fillOpacity&quot;: 0.2, &quot;fillRule&quot;: &quot;evenodd&quot;, &quot;lineCap&quot;: &quot;round&quot;, &quot;lineJoin&quot;: &quot;round&quot;, &quot;noClip&quot;: false, &quot;opacity&quot;: 1.0, &quot;smoothFactor&quot;: 1.0, &quot;stroke&quot;: true, &quot;weight&quot;: 3}\n",
       "            ).addTo(map_1eec0b6c1e82976ec36a5856e0fab37b);\n",
       "        \n",
       "    \n",
       "            var poly_line_fe3b8361b0ea2a54f10fbc79ab489081 = L.polyline(\n",
       "                [[52.3761311, 4.9029372], [52.3759985, 4.9031073], [52.3759444, 4.9031691], [52.3759023, 4.9032092], [52.3758444, 4.9032556], [52.3758072, 4.903279], [52.3757691, 4.9032909], [52.3756965, 4.9033039]],\n",
       "                {&quot;bubblingMouseEvents&quot;: true, &quot;color&quot;: &quot;#3388ff&quot;, &quot;dashArray&quot;: null, &quot;dashOffset&quot;: null, &quot;fill&quot;: false, &quot;fillColor&quot;: &quot;#3388ff&quot;, &quot;fillOpacity&quot;: 0.2, &quot;fillRule&quot;: &quot;evenodd&quot;, &quot;lineCap&quot;: &quot;round&quot;, &quot;lineJoin&quot;: &quot;round&quot;, &quot;noClip&quot;: false, &quot;opacity&quot;: 1.0, &quot;smoothFactor&quot;: 1.0, &quot;stroke&quot;: true, &quot;weight&quot;: 3}\n",
       "            ).addTo(map_1eec0b6c1e82976ec36a5856e0fab37b);\n",
       "        \n",
       "    \n",
       "            var poly_line_c2742352377cf3148bf496a825038581 = L.polyline(\n",
       "                [[52.3756965, 4.9033039], [52.3754625, 4.9033026], [52.3754101, 4.9033081], [52.3753672, 4.9033197], [52.3753076, 4.9033421], [52.3752582, 4.9033718], [52.3752209, 4.9034073], [52.3751906, 4.9034441], [52.3751456, 4.9035061], [52.3749837, 4.9037408], [52.3749071, 4.9038807]],\n",
       "                {&quot;bubblingMouseEvents&quot;: true, &quot;color&quot;: &quot;#3388ff&quot;, &quot;dashArray&quot;: null, &quot;dashOffset&quot;: null, &quot;fill&quot;: false, &quot;fillColor&quot;: &quot;#3388ff&quot;, &quot;fillOpacity&quot;: 0.2, &quot;fillRule&quot;: &quot;evenodd&quot;, &quot;lineCap&quot;: &quot;round&quot;, &quot;lineJoin&quot;: &quot;round&quot;, &quot;noClip&quot;: false, &quot;opacity&quot;: 1.0, &quot;smoothFactor&quot;: 1.0, &quot;stroke&quot;: true, &quot;weight&quot;: 3}\n",
       "            ).addTo(map_1eec0b6c1e82976ec36a5856e0fab37b);\n",
       "        \n",
       "    \n",
       "            var poly_line_f962dec70dadfad36b1fc1bec7f49966 = L.polyline(\n",
       "                [[52.3749071, 4.9038807], [52.3748472, 4.9039851]],\n",
       "                {&quot;bubblingMouseEvents&quot;: true, &quot;color&quot;: &quot;#3388ff&quot;, &quot;dashArray&quot;: null, &quot;dashOffset&quot;: null, &quot;fill&quot;: false, &quot;fillColor&quot;: &quot;#3388ff&quot;, &quot;fillOpacity&quot;: 0.2, &quot;fillRule&quot;: &quot;evenodd&quot;, &quot;lineCap&quot;: &quot;round&quot;, &quot;lineJoin&quot;: &quot;round&quot;, &quot;noClip&quot;: false, &quot;opacity&quot;: 1.0, &quot;smoothFactor&quot;: 1.0, &quot;stroke&quot;: true, &quot;weight&quot;: 3}\n",
       "            ).addTo(map_1eec0b6c1e82976ec36a5856e0fab37b);\n",
       "        \n",
       "    \n",
       "            var poly_line_d69981afa4d290de326e005b40e23132 = L.polyline(\n",
       "                [[52.3748472, 4.9039851], [52.3748146, 4.9040434]],\n",
       "                {&quot;bubblingMouseEvents&quot;: true, &quot;color&quot;: &quot;#3388ff&quot;, &quot;dashArray&quot;: null, &quot;dashOffset&quot;: null, &quot;fill&quot;: false, &quot;fillColor&quot;: &quot;#3388ff&quot;, &quot;fillOpacity&quot;: 0.2, &quot;fillRule&quot;: &quot;evenodd&quot;, &quot;lineCap&quot;: &quot;round&quot;, &quot;lineJoin&quot;: &quot;round&quot;, &quot;noClip&quot;: false, &quot;opacity&quot;: 1.0, &quot;smoothFactor&quot;: 1.0, &quot;stroke&quot;: true, &quot;weight&quot;: 3}\n",
       "            ).addTo(map_1eec0b6c1e82976ec36a5856e0fab37b);\n",
       "        \n",
       "    \n",
       "            var poly_line_63e5d8b700461563efa9b9ebfce22dde = L.polyline(\n",
       "                [[52.3748146, 4.9040434], [52.3745522, 4.9045236], [52.3737427, 4.9060495], [52.373463, 4.9065518], [52.3732841, 4.9068577], [52.3730755, 4.9071938], [52.3729495, 4.9074072], [52.372917, 4.907465]],\n",
       "                {&quot;bubblingMouseEvents&quot;: true, &quot;color&quot;: &quot;#3388ff&quot;, &quot;dashArray&quot;: null, &quot;dashOffset&quot;: null, &quot;fill&quot;: false, &quot;fillColor&quot;: &quot;#3388ff&quot;, &quot;fillOpacity&quot;: 0.2, &quot;fillRule&quot;: &quot;evenodd&quot;, &quot;lineCap&quot;: &quot;round&quot;, &quot;lineJoin&quot;: &quot;round&quot;, &quot;noClip&quot;: false, &quot;opacity&quot;: 1.0, &quot;smoothFactor&quot;: 1.0, &quot;stroke&quot;: true, &quot;weight&quot;: 3}\n",
       "            ).addTo(map_1eec0b6c1e82976ec36a5856e0fab37b);\n",
       "        \n",
       "    \n",
       "            var poly_line_64006b8cbfc1b204b2b031440c7b4972 = L.polyline(\n",
       "                [[52.372917, 4.907465], [52.3727641, 4.9077242], [52.3727065, 4.9078229], [52.3726324, 4.9079588], [52.3725228, 4.9081156], [52.3724842, 4.9081919], [52.3724523, 4.9082735], [52.3724197, 4.9083685], [52.3723966, 4.9084835]],\n",
       "                {&quot;bubblingMouseEvents&quot;: true, &quot;color&quot;: &quot;#3388ff&quot;, &quot;dashArray&quot;: null, &quot;dashOffset&quot;: null, &quot;fill&quot;: false, &quot;fillColor&quot;: &quot;#3388ff&quot;, &quot;fillOpacity&quot;: 0.2, &quot;fillRule&quot;: &quot;evenodd&quot;, &quot;lineCap&quot;: &quot;round&quot;, &quot;lineJoin&quot;: &quot;round&quot;, &quot;noClip&quot;: false, &quot;opacity&quot;: 1.0, &quot;smoothFactor&quot;: 1.0, &quot;stroke&quot;: true, &quot;weight&quot;: 3}\n",
       "            ).addTo(map_1eec0b6c1e82976ec36a5856e0fab37b);\n",
       "        \n",
       "    \n",
       "            var poly_line_ca38e2915d7077c8e7a80aa85ef826f5 = L.polyline(\n",
       "                [[52.3723966, 4.9084835], [52.3723348, 4.9086986], [52.372289, 4.908877], [52.3722276, 4.9090607], [52.3720024, 4.9097206], [52.3719172, 4.909907], [52.3717969, 4.9102597]],\n",
       "                {&quot;bubblingMouseEvents&quot;: true, &quot;color&quot;: &quot;#3388ff&quot;, &quot;dashArray&quot;: null, &quot;dashOffset&quot;: null, &quot;fill&quot;: false, &quot;fillColor&quot;: &quot;#3388ff&quot;, &quot;fillOpacity&quot;: 0.2, &quot;fillRule&quot;: &quot;evenodd&quot;, &quot;lineCap&quot;: &quot;round&quot;, &quot;lineJoin&quot;: &quot;round&quot;, &quot;noClip&quot;: false, &quot;opacity&quot;: 1.0, &quot;smoothFactor&quot;: 1.0, &quot;stroke&quot;: true, &quot;weight&quot;: 3}\n",
       "            ).addTo(map_1eec0b6c1e82976ec36a5856e0fab37b);\n",
       "        \n",
       "    \n",
       "            var poly_line_0be5987a8c730d851afe36adf9f0e650 = L.polyline(\n",
       "                [[52.3717969, 4.9102597], [52.3717155, 4.910413], [52.3716893, 4.9104504]],\n",
       "                {&quot;bubblingMouseEvents&quot;: true, &quot;color&quot;: &quot;#3388ff&quot;, &quot;dashArray&quot;: null, &quot;dashOffset&quot;: null, &quot;fill&quot;: false, &quot;fillColor&quot;: &quot;#3388ff&quot;, &quot;fillOpacity&quot;: 0.2, &quot;fillRule&quot;: &quot;evenodd&quot;, &quot;lineCap&quot;: &quot;round&quot;, &quot;lineJoin&quot;: &quot;round&quot;, &quot;noClip&quot;: false, &quot;opacity&quot;: 1.0, &quot;smoothFactor&quot;: 1.0, &quot;stroke&quot;: true, &quot;weight&quot;: 3}\n",
       "            ).addTo(map_1eec0b6c1e82976ec36a5856e0fab37b);\n",
       "        \n",
       "    \n",
       "            var poly_line_686d72150da5672c83eb1d21e3da6dc7 = L.polyline(\n",
       "                [[52.3716893, 4.9104504], [52.3716324, 4.9105084]],\n",
       "                {&quot;bubblingMouseEvents&quot;: true, &quot;color&quot;: &quot;#3388ff&quot;, &quot;dashArray&quot;: null, &quot;dashOffset&quot;: null, &quot;fill&quot;: false, &quot;fillColor&quot;: &quot;#3388ff&quot;, &quot;fillOpacity&quot;: 0.2, &quot;fillRule&quot;: &quot;evenodd&quot;, &quot;lineCap&quot;: &quot;round&quot;, &quot;lineJoin&quot;: &quot;round&quot;, &quot;noClip&quot;: false, &quot;opacity&quot;: 1.0, &quot;smoothFactor&quot;: 1.0, &quot;stroke&quot;: true, &quot;weight&quot;: 3}\n",
       "            ).addTo(map_1eec0b6c1e82976ec36a5856e0fab37b);\n",
       "        \n",
       "    \n",
       "            var poly_line_cab32a99a258f389b4702b28ea257dc6 = L.polyline(\n",
       "                [[52.3716324, 4.9105084], [52.3715946, 4.9105252], [52.3715602, 4.9105277]],\n",
       "                {&quot;bubblingMouseEvents&quot;: true, &quot;color&quot;: &quot;#3388ff&quot;, &quot;dashArray&quot;: null, &quot;dashOffset&quot;: null, &quot;fill&quot;: false, &quot;fillColor&quot;: &quot;#3388ff&quot;, &quot;fillOpacity&quot;: 0.2, &quot;fillRule&quot;: &quot;evenodd&quot;, &quot;lineCap&quot;: &quot;round&quot;, &quot;lineJoin&quot;: &quot;round&quot;, &quot;noClip&quot;: false, &quot;opacity&quot;: 1.0, &quot;smoothFactor&quot;: 1.0, &quot;stroke&quot;: true, &quot;weight&quot;: 3}\n",
       "            ).addTo(map_1eec0b6c1e82976ec36a5856e0fab37b);\n",
       "        \n",
       "    \n",
       "            var poly_line_19ae715fb5839a4c71416114bfbb2285 = L.polyline(\n",
       "                [[52.3715602, 4.9105277], [52.3715316, 4.9106728], [52.3713972, 4.9110334]],\n",
       "                {&quot;bubblingMouseEvents&quot;: true, &quot;color&quot;: &quot;#3388ff&quot;, &quot;dashArray&quot;: null, &quot;dashOffset&quot;: null, &quot;fill&quot;: false, &quot;fillColor&quot;: &quot;#3388ff&quot;, &quot;fillOpacity&quot;: 0.2, &quot;fillRule&quot;: &quot;evenodd&quot;, &quot;lineCap&quot;: &quot;round&quot;, &quot;lineJoin&quot;: &quot;round&quot;, &quot;noClip&quot;: false, &quot;opacity&quot;: 1.0, &quot;smoothFactor&quot;: 1.0, &quot;stroke&quot;: true, &quot;weight&quot;: 3}\n",
       "            ).addTo(map_1eec0b6c1e82976ec36a5856e0fab37b);\n",
       "        \n",
       "    \n",
       "            var poly_line_a6240099a9d759fd70c47b7dbaed7966 = L.polyline(\n",
       "                [[52.3713972, 4.9110334], [52.3713726, 4.911], [52.3709328, 4.9103818]],\n",
       "                {&quot;bubblingMouseEvents&quot;: true, &quot;color&quot;: &quot;#3388ff&quot;, &quot;dashArray&quot;: null, &quot;dashOffset&quot;: null, &quot;fill&quot;: false, &quot;fillColor&quot;: &quot;#3388ff&quot;, &quot;fillOpacity&quot;: 0.2, &quot;fillRule&quot;: &quot;evenodd&quot;, &quot;lineCap&quot;: &quot;round&quot;, &quot;lineJoin&quot;: &quot;round&quot;, &quot;noClip&quot;: false, &quot;opacity&quot;: 1.0, &quot;smoothFactor&quot;: 1.0, &quot;stroke&quot;: true, &quot;weight&quot;: 3}\n",
       "            ).addTo(map_1eec0b6c1e82976ec36a5856e0fab37b);\n",
       "        \n",
       "    \n",
       "            var poly_line_51987e9eb8ba9e93d5e04e159fda2103 = L.polyline(\n",
       "                [[52.3709328, 4.9103818], [52.3708951, 4.9104588], [52.3703794, 4.9113094]],\n",
       "                {&quot;bubblingMouseEvents&quot;: true, &quot;color&quot;: &quot;#3388ff&quot;, &quot;dashArray&quot;: null, &quot;dashOffset&quot;: null, &quot;fill&quot;: false, &quot;fillColor&quot;: &quot;#3388ff&quot;, &quot;fillOpacity&quot;: 0.2, &quot;fillRule&quot;: &quot;evenodd&quot;, &quot;lineCap&quot;: &quot;round&quot;, &quot;lineJoin&quot;: &quot;round&quot;, &quot;noClip&quot;: false, &quot;opacity&quot;: 1.0, &quot;smoothFactor&quot;: 1.0, &quot;stroke&quot;: true, &quot;weight&quot;: 3}\n",
       "            ).addTo(map_1eec0b6c1e82976ec36a5856e0fab37b);\n",
       "        \n",
       "    \n",
       "            var poly_line_a5954a314841fa5e10eb3d4444ea10e1 = L.polyline(\n",
       "                [[52.3703794, 4.9113094], [52.3700934, 4.910849]],\n",
       "                {&quot;bubblingMouseEvents&quot;: true, &quot;color&quot;: &quot;#3388ff&quot;, &quot;dashArray&quot;: null, &quot;dashOffset&quot;: null, &quot;fill&quot;: false, &quot;fillColor&quot;: &quot;#3388ff&quot;, &quot;fillOpacity&quot;: 0.2, &quot;fillRule&quot;: &quot;evenodd&quot;, &quot;lineCap&quot;: &quot;round&quot;, &quot;lineJoin&quot;: &quot;round&quot;, &quot;noClip&quot;: false, &quot;opacity&quot;: 1.0, &quot;smoothFactor&quot;: 1.0, &quot;stroke&quot;: true, &quot;weight&quot;: 3}\n",
       "            ).addTo(map_1eec0b6c1e82976ec36a5856e0fab37b);\n",
       "        \n",
       "    \n",
       "            var poly_line_4d0d955889bc22e0fdabfd76a2bb9877 = L.polyline(\n",
       "                [[52.3700934, 4.910849], [52.3699634, 4.9106485], [52.3693969, 4.9097752], [52.3692958, 4.9096563]],\n",
       "                {&quot;bubblingMouseEvents&quot;: true, &quot;color&quot;: &quot;#3388ff&quot;, &quot;dashArray&quot;: null, &quot;dashOffset&quot;: null, &quot;fill&quot;: false, &quot;fillColor&quot;: &quot;#3388ff&quot;, &quot;fillOpacity&quot;: 0.2, &quot;fillRule&quot;: &quot;evenodd&quot;, &quot;lineCap&quot;: &quot;round&quot;, &quot;lineJoin&quot;: &quot;round&quot;, &quot;noClip&quot;: false, &quot;opacity&quot;: 1.0, &quot;smoothFactor&quot;: 1.0, &quot;stroke&quot;: true, &quot;weight&quot;: 3}\n",
       "            ).addTo(map_1eec0b6c1e82976ec36a5856e0fab37b);\n",
       "        \n",
       "    \n",
       "            var poly_line_2997a2ef99410904da04983ebbaa2601 = L.polyline(\n",
       "                [[52.3692958, 4.9096563], [52.3692119, 4.9097761], [52.3691361, 4.9099085], [52.3690983, 4.909973]],\n",
       "                {&quot;bubblingMouseEvents&quot;: true, &quot;color&quot;: &quot;#3388ff&quot;, &quot;dashArray&quot;: null, &quot;dashOffset&quot;: null, &quot;fill&quot;: false, &quot;fillColor&quot;: &quot;#3388ff&quot;, &quot;fillOpacity&quot;: 0.2, &quot;fillRule&quot;: &quot;evenodd&quot;, &quot;lineCap&quot;: &quot;round&quot;, &quot;lineJoin&quot;: &quot;round&quot;, &quot;noClip&quot;: false, &quot;opacity&quot;: 1.0, &quot;smoothFactor&quot;: 1.0, &quot;stroke&quot;: true, &quot;weight&quot;: 3}\n",
       "            ).addTo(map_1eec0b6c1e82976ec36a5856e0fab37b);\n",
       "        \n",
       "    \n",
       "            var poly_line_8c61614fad6216db5e8cec713d328482 = L.polyline(\n",
       "                [[52.3690983, 4.909973], [52.3690388, 4.9100436], [52.3688637, 4.9103047], [52.3687973, 4.9103881], [52.3687836, 4.9104053], [52.3687361, 4.9104416], [52.3686995, 4.9104537]],\n",
       "                {&quot;bubblingMouseEvents&quot;: true, &quot;color&quot;: &quot;#3388ff&quot;, &quot;dashArray&quot;: null, &quot;dashOffset&quot;: null, &quot;fill&quot;: false, &quot;fillColor&quot;: &quot;#3388ff&quot;, &quot;fillOpacity&quot;: 0.2, &quot;fillRule&quot;: &quot;evenodd&quot;, &quot;lineCap&quot;: &quot;round&quot;, &quot;lineJoin&quot;: &quot;round&quot;, &quot;noClip&quot;: false, &quot;opacity&quot;: 1.0, &quot;smoothFactor&quot;: 1.0, &quot;stroke&quot;: true, &quot;weight&quot;: 3}\n",
       "            ).addTo(map_1eec0b6c1e82976ec36a5856e0fab37b);\n",
       "        \n",
       "    \n",
       "            var poly_line_b476de6d0e4e2d0e3e1a1c514b0a7082 = L.polyline(\n",
       "                [[52.3686995, 4.9104537], [52.3686413, 4.9104208]],\n",
       "                {&quot;bubblingMouseEvents&quot;: true, &quot;color&quot;: &quot;#3388ff&quot;, &quot;dashArray&quot;: null, &quot;dashOffset&quot;: null, &quot;fill&quot;: false, &quot;fillColor&quot;: &quot;#3388ff&quot;, &quot;fillOpacity&quot;: 0.2, &quot;fillRule&quot;: &quot;evenodd&quot;, &quot;lineCap&quot;: &quot;round&quot;, &quot;lineJoin&quot;: &quot;round&quot;, &quot;noClip&quot;: false, &quot;opacity&quot;: 1.0, &quot;smoothFactor&quot;: 1.0, &quot;stroke&quot;: true, &quot;weight&quot;: 3}\n",
       "            ).addTo(map_1eec0b6c1e82976ec36a5856e0fab37b);\n",
       "        \n",
       "    \n",
       "            var poly_line_cf07fa9a71b53ef159fe37663a4eaa95 = L.polyline(\n",
       "                [[52.3686413, 4.9104208], [52.3685762, 4.910384], [52.3684859, 4.9103036], [52.3682348, 4.91005], [52.3680948, 4.9099131], [52.3679775, 4.9097893], [52.3674698, 4.9093285]],\n",
       "                {&quot;bubblingMouseEvents&quot;: true, &quot;color&quot;: &quot;#3388ff&quot;, &quot;dashArray&quot;: null, &quot;dashOffset&quot;: null, &quot;fill&quot;: false, &quot;fillColor&quot;: &quot;#3388ff&quot;, &quot;fillOpacity&quot;: 0.2, &quot;fillRule&quot;: &quot;evenodd&quot;, &quot;lineCap&quot;: &quot;round&quot;, &quot;lineJoin&quot;: &quot;round&quot;, &quot;noClip&quot;: false, &quot;opacity&quot;: 1.0, &quot;smoothFactor&quot;: 1.0, &quot;stroke&quot;: true, &quot;weight&quot;: 3}\n",
       "            ).addTo(map_1eec0b6c1e82976ec36a5856e0fab37b);\n",
       "        \n",
       "    \n",
       "            var poly_line_2be25b338a7825a3ec10288ccd604a3d = L.polyline(\n",
       "                [[52.3674698, 4.9093285], [52.3674539, 4.9093745], [52.3674498, 4.9093876], [52.3674241, 4.9094577]],\n",
       "                {&quot;bubblingMouseEvents&quot;: true, &quot;color&quot;: &quot;#3388ff&quot;, &quot;dashArray&quot;: null, &quot;dashOffset&quot;: null, &quot;fill&quot;: false, &quot;fillColor&quot;: &quot;#3388ff&quot;, &quot;fillOpacity&quot;: 0.2, &quot;fillRule&quot;: &quot;evenodd&quot;, &quot;lineCap&quot;: &quot;round&quot;, &quot;lineJoin&quot;: &quot;round&quot;, &quot;noClip&quot;: false, &quot;opacity&quot;: 1.0, &quot;smoothFactor&quot;: 1.0, &quot;stroke&quot;: true, &quot;weight&quot;: 3}\n",
       "            ).addTo(map_1eec0b6c1e82976ec36a5856e0fab37b);\n",
       "        \n",
       "    \n",
       "            var poly_line_a941bd8907183f669202f962b032ebef = L.polyline(\n",
       "                [[52.3674241, 4.9094577], [52.3673964, 4.9094439], [52.3673549, 4.9094371], [52.3673308, 4.9094374]],\n",
       "                {&quot;bubblingMouseEvents&quot;: true, &quot;color&quot;: &quot;#3388ff&quot;, &quot;dashArray&quot;: null, &quot;dashOffset&quot;: null, &quot;fill&quot;: false, &quot;fillColor&quot;: &quot;#3388ff&quot;, &quot;fillOpacity&quot;: 0.2, &quot;fillRule&quot;: &quot;evenodd&quot;, &quot;lineCap&quot;: &quot;round&quot;, &quot;lineJoin&quot;: &quot;round&quot;, &quot;noClip&quot;: false, &quot;opacity&quot;: 1.0, &quot;smoothFactor&quot;: 1.0, &quot;stroke&quot;: true, &quot;weight&quot;: 3}\n",
       "            ).addTo(map_1eec0b6c1e82976ec36a5856e0fab37b);\n",
       "        \n",
       "    \n",
       "            var poly_line_5a14fa6453c9adc5c04e212d7741945a = L.polyline(\n",
       "                [[52.3673308, 4.9094374], [52.3672939, 4.9094459], [52.3672642, 4.9094715], [52.3672369, 4.9095384]],\n",
       "                {&quot;bubblingMouseEvents&quot;: true, &quot;color&quot;: &quot;#3388ff&quot;, &quot;dashArray&quot;: null, &quot;dashOffset&quot;: null, &quot;fill&quot;: false, &quot;fillColor&quot;: &quot;#3388ff&quot;, &quot;fillOpacity&quot;: 0.2, &quot;fillRule&quot;: &quot;evenodd&quot;, &quot;lineCap&quot;: &quot;round&quot;, &quot;lineJoin&quot;: &quot;round&quot;, &quot;noClip&quot;: false, &quot;opacity&quot;: 1.0, &quot;smoothFactor&quot;: 1.0, &quot;stroke&quot;: true, &quot;weight&quot;: 3}\n",
       "            ).addTo(map_1eec0b6c1e82976ec36a5856e0fab37b);\n",
       "        \n",
       "    \n",
       "            var poly_line_2c9ef2edf6014d4283f7f6c02084d5f0 = L.polyline(\n",
       "                [[52.3672369, 4.9095384], [52.3669152, 4.9105058], [52.3666409, 4.9112945], [52.3665509, 4.9115542]],\n",
       "                {&quot;bubblingMouseEvents&quot;: true, &quot;color&quot;: &quot;#3388ff&quot;, &quot;dashArray&quot;: null, &quot;dashOffset&quot;: null, &quot;fill&quot;: false, &quot;fillColor&quot;: &quot;#3388ff&quot;, &quot;fillOpacity&quot;: 0.2, &quot;fillRule&quot;: &quot;evenodd&quot;, &quot;lineCap&quot;: &quot;round&quot;, &quot;lineJoin&quot;: &quot;round&quot;, &quot;noClip&quot;: false, &quot;opacity&quot;: 1.0, &quot;smoothFactor&quot;: 1.0, &quot;stroke&quot;: true, &quot;weight&quot;: 3}\n",
       "            ).addTo(map_1eec0b6c1e82976ec36a5856e0fab37b);\n",
       "        \n",
       "    \n",
       "            var poly_line_7ee5c5b8bd8057cd45920483039f2c3a = L.polyline(\n",
       "                [[52.3665509, 4.9115542], [52.3664919, 4.911715], [52.3664705, 4.9117824]],\n",
       "                {&quot;bubblingMouseEvents&quot;: true, &quot;color&quot;: &quot;#3388ff&quot;, &quot;dashArray&quot;: null, &quot;dashOffset&quot;: null, &quot;fill&quot;: false, &quot;fillColor&quot;: &quot;#3388ff&quot;, &quot;fillOpacity&quot;: 0.2, &quot;fillRule&quot;: &quot;evenodd&quot;, &quot;lineCap&quot;: &quot;round&quot;, &quot;lineJoin&quot;: &quot;round&quot;, &quot;noClip&quot;: false, &quot;opacity&quot;: 1.0, &quot;smoothFactor&quot;: 1.0, &quot;stroke&quot;: true, &quot;weight&quot;: 3}\n",
       "            ).addTo(map_1eec0b6c1e82976ec36a5856e0fab37b);\n",
       "        \n",
       "    \n",
       "            var poly_line_941a8090e6ddb7ff92fc6d47646cc182 = L.polyline(\n",
       "                [[52.3664705, 4.9117824], [52.3664569, 4.911821], [52.3664464, 4.9118531]],\n",
       "                {&quot;bubblingMouseEvents&quot;: true, &quot;color&quot;: &quot;#3388ff&quot;, &quot;dashArray&quot;: null, &quot;dashOffset&quot;: null, &quot;fill&quot;: false, &quot;fillColor&quot;: &quot;#3388ff&quot;, &quot;fillOpacity&quot;: 0.2, &quot;fillRule&quot;: &quot;evenodd&quot;, &quot;lineCap&quot;: &quot;round&quot;, &quot;lineJoin&quot;: &quot;round&quot;, &quot;noClip&quot;: false, &quot;opacity&quot;: 1.0, &quot;smoothFactor&quot;: 1.0, &quot;stroke&quot;: true, &quot;weight&quot;: 3}\n",
       "            ).addTo(map_1eec0b6c1e82976ec36a5856e0fab37b);\n",
       "        \n",
       "    \n",
       "            var poly_line_31d8b22dfacd42acb3eb11f48a381c22 = L.polyline(\n",
       "                [[52.3664464, 4.9118531], [52.3664424, 4.9118653], [52.3664262, 4.9119108], [52.3663564, 4.9121067]],\n",
       "                {&quot;bubblingMouseEvents&quot;: true, &quot;color&quot;: &quot;#3388ff&quot;, &quot;dashArray&quot;: null, &quot;dashOffset&quot;: null, &quot;fill&quot;: false, &quot;fillColor&quot;: &quot;#3388ff&quot;, &quot;fillOpacity&quot;: 0.2, &quot;fillRule&quot;: &quot;evenodd&quot;, &quot;lineCap&quot;: &quot;round&quot;, &quot;lineJoin&quot;: &quot;round&quot;, &quot;noClip&quot;: false, &quot;opacity&quot;: 1.0, &quot;smoothFactor&quot;: 1.0, &quot;stroke&quot;: true, &quot;weight&quot;: 3}\n",
       "            ).addTo(map_1eec0b6c1e82976ec36a5856e0fab37b);\n",
       "        \n",
       "    \n",
       "            var poly_line_5f093558c3980b4cbcef189224ef7ba3 = L.polyline(\n",
       "                [[52.3663564, 4.9121067], [52.3663137, 4.9122264], [52.3662572, 4.9122879], [52.3662321, 4.9123152]],\n",
       "                {&quot;bubblingMouseEvents&quot;: true, &quot;color&quot;: &quot;#3388ff&quot;, &quot;dashArray&quot;: null, &quot;dashOffset&quot;: null, &quot;fill&quot;: false, &quot;fillColor&quot;: &quot;#3388ff&quot;, &quot;fillOpacity&quot;: 0.2, &quot;fillRule&quot;: &quot;evenodd&quot;, &quot;lineCap&quot;: &quot;round&quot;, &quot;lineJoin&quot;: &quot;round&quot;, &quot;noClip&quot;: false, &quot;opacity&quot;: 1.0, &quot;smoothFactor&quot;: 1.0, &quot;stroke&quot;: true, &quot;weight&quot;: 3}\n",
       "            ).addTo(map_1eec0b6c1e82976ec36a5856e0fab37b);\n",
       "        \n",
       "    \n",
       "            var poly_line_f5cb2c7a412e3047f55cad8c63bbfe84 = L.polyline(\n",
       "                [[52.3662321, 4.9123152], [52.365937, 4.9131703]],\n",
       "                {&quot;bubblingMouseEvents&quot;: true, &quot;color&quot;: &quot;#3388ff&quot;, &quot;dashArray&quot;: null, &quot;dashOffset&quot;: null, &quot;fill&quot;: false, &quot;fillColor&quot;: &quot;#3388ff&quot;, &quot;fillOpacity&quot;: 0.2, &quot;fillRule&quot;: &quot;evenodd&quot;, &quot;lineCap&quot;: &quot;round&quot;, &quot;lineJoin&quot;: &quot;round&quot;, &quot;noClip&quot;: false, &quot;opacity&quot;: 1.0, &quot;smoothFactor&quot;: 1.0, &quot;stroke&quot;: true, &quot;weight&quot;: 3}\n",
       "            ).addTo(map_1eec0b6c1e82976ec36a5856e0fab37b);\n",
       "        \n",
       "    \n",
       "            var poly_line_05ddbbbd2c82b1ebf282d8a08480ca15 = L.polyline(\n",
       "                [[52.365937, 4.9131703], [52.3659262, 4.9131601], [52.3658622, 4.9131069], [52.3658423, 4.9130883]],\n",
       "                {&quot;bubblingMouseEvents&quot;: true, &quot;color&quot;: &quot;#3388ff&quot;, &quot;dashArray&quot;: null, &quot;dashOffset&quot;: null, &quot;fill&quot;: false, &quot;fillColor&quot;: &quot;#3388ff&quot;, &quot;fillOpacity&quot;: 0.2, &quot;fillRule&quot;: &quot;evenodd&quot;, &quot;lineCap&quot;: &quot;round&quot;, &quot;lineJoin&quot;: &quot;round&quot;, &quot;noClip&quot;: false, &quot;opacity&quot;: 1.0, &quot;smoothFactor&quot;: 1.0, &quot;stroke&quot;: true, &quot;weight&quot;: 3}\n",
       "            ).addTo(map_1eec0b6c1e82976ec36a5856e0fab37b);\n",
       "        \n",
       "    \n",
       "            var poly_line_24531308cacbf5ef2b367d7adaa63de3 = L.polyline(\n",
       "                [[52.3658423, 4.9130883], [52.3654626, 4.9127428]],\n",
       "                {&quot;bubblingMouseEvents&quot;: true, &quot;color&quot;: &quot;#3388ff&quot;, &quot;dashArray&quot;: null, &quot;dashOffset&quot;: null, &quot;fill&quot;: false, &quot;fillColor&quot;: &quot;#3388ff&quot;, &quot;fillOpacity&quot;: 0.2, &quot;fillRule&quot;: &quot;evenodd&quot;, &quot;lineCap&quot;: &quot;round&quot;, &quot;lineJoin&quot;: &quot;round&quot;, &quot;noClip&quot;: false, &quot;opacity&quot;: 1.0, &quot;smoothFactor&quot;: 1.0, &quot;stroke&quot;: true, &quot;weight&quot;: 3}\n",
       "            ).addTo(map_1eec0b6c1e82976ec36a5856e0fab37b);\n",
       "        \n",
       "    \n",
       "            var poly_line_3ff6bfbd4a06a79ca13f90dd7eb9fb8f = L.polyline(\n",
       "                [[52.3654626, 4.9127428], [52.3652847, 4.9125809]],\n",
       "                {&quot;bubblingMouseEvents&quot;: true, &quot;color&quot;: &quot;#3388ff&quot;, &quot;dashArray&quot;: null, &quot;dashOffset&quot;: null, &quot;fill&quot;: false, &quot;fillColor&quot;: &quot;#3388ff&quot;, &quot;fillOpacity&quot;: 0.2, &quot;fillRule&quot;: &quot;evenodd&quot;, &quot;lineCap&quot;: &quot;round&quot;, &quot;lineJoin&quot;: &quot;round&quot;, &quot;noClip&quot;: false, &quot;opacity&quot;: 1.0, &quot;smoothFactor&quot;: 1.0, &quot;stroke&quot;: true, &quot;weight&quot;: 3}\n",
       "            ).addTo(map_1eec0b6c1e82976ec36a5856e0fab37b);\n",
       "        \n",
       "    \n",
       "            var poly_line_b22b80de67589e356a073128d7420950 = L.polyline(\n",
       "                [[52.3652847, 4.9125809], [52.3650421, 4.9123601]],\n",
       "                {&quot;bubblingMouseEvents&quot;: true, &quot;color&quot;: &quot;#3388ff&quot;, &quot;dashArray&quot;: null, &quot;dashOffset&quot;: null, &quot;fill&quot;: false, &quot;fillColor&quot;: &quot;#3388ff&quot;, &quot;fillOpacity&quot;: 0.2, &quot;fillRule&quot;: &quot;evenodd&quot;, &quot;lineCap&quot;: &quot;round&quot;, &quot;lineJoin&quot;: &quot;round&quot;, &quot;noClip&quot;: false, &quot;opacity&quot;: 1.0, &quot;smoothFactor&quot;: 1.0, &quot;stroke&quot;: true, &quot;weight&quot;: 3}\n",
       "            ).addTo(map_1eec0b6c1e82976ec36a5856e0fab37b);\n",
       "        \n",
       "    \n",
       "            map_1eec0b6c1e82976ec36a5856e0fab37b.fitBounds(\n",
       "                [[52.3650421, 4.9002257], [52.378908, 4.9131703]],\n",
       "                {}\n",
       "            );\n",
       "        \n",
       "&lt;/script&gt;\" style=\"position:absolute;width:100%;height:100%;left:0;top:0;border:none !important;\" allowfullscreen webkitallowfullscreen mozallowfullscreen></iframe></div></div>"
      ],
      "text/plain": [
       "<folium.folium.Map at 0x10fef1a80>"
      ]
     },
     "metadata": {},
     "output_type": "display_data"
    }
   ],
   "source": [
    "route_map = ox.plot_route_folium(G_walk, route)\n",
    "display(route_map)"
   ]
  },
  {
   "cell_type": "code",
   "execution_count": 15,
   "metadata": {
    "colab": {
     "base_uri": "https://localhost:8080/"
    },
    "executionInfo": {
     "elapsed": 196,
     "status": "ok",
     "timestamp": 1649509060167,
     "user": {
      "displayName": "",
      "userId": ""
     },
     "user_tz": 240
    },
    "id": "LtAuoADtumsI",
    "outputId": "06797d6d-da1c-476f-c18a-b124e442c1b9"
   },
   "outputs": [
    {
     "name": "stdout",
     "output_type": "stream",
     "text": [
      "CPU times: user 118 ms, sys: 10.3 ms, total: 128 ms\n",
      "Wall time: 131 ms\n"
     ]
    }
   ],
   "source": [
    "%%time \n",
    "nodes = pd.DataFrame.from_dict(dict(G_walk.nodes(data=True)), orient='index')"
   ]
  },
  {
   "cell_type": "code",
   "execution_count": 16,
   "metadata": {
    "colab": {
     "base_uri": "https://localhost:8080/"
    },
    "executionInfo": {
     "elapsed": 4471,
     "status": "ok",
     "timestamp": 1641927453409,
     "user": {
      "displayName": "Joaquim Gromicho",
      "photoUrl": "https://lh3.googleusercontent.com/a/default-user=s64",
      "userId": "14375950305363805729"
     },
     "user_tz": -60
    },
    "id": "XhE7KVf7xpT9",
    "outputId": "066f0de0-b786-42c4-99af-7ce22ee0c1e0"
   },
   "outputs": [
    {
     "name": "stderr",
     "output_type": "stream",
     "text": [
      "/Users/ale/.pyenv/versions/3.10.6/lib/python3.10/site-packages/pandas/core/dtypes/cast.py:127: ShapelyDeprecationWarning: The array interface is deprecated and will no longer work in Shapely 2.0. Convert the '.coords' to a numpy array instead.\n",
      "  arr = construct_1d_object_array_from_listlike(values)\n"
     ]
    },
    {
     "name": "stdout",
     "output_type": "stream",
     "text": [
      "CPU times: user 4.23 s, sys: 66.7 ms, total: 4.29 s\n",
      "Wall time: 4.32 s\n"
     ]
    }
   ],
   "source": [
    "%%time \n",
    "edges = nx.to_pandas_edgelist(G_walk)"
   ]
  },
  {
   "cell_type": "code",
   "execution_count": 17,
   "metadata": {
    "colab": {
     "base_uri": "https://localhost:8080/"
    },
    "executionInfo": {
     "elapsed": 185,
     "status": "ok",
     "timestamp": 1641927468989,
     "user": {
      "displayName": "Joaquim Gromicho",
      "photoUrl": "https://lh3.googleusercontent.com/a/default-user=s64",
      "userId": "14375950305363805729"
     },
     "user_tz": -60
    },
    "id": "B4B2ffbCHskS",
    "outputId": "c9deca61-8bc5-4393-ff2b-4be1544eec8f"
   },
   "outputs": [
    {
     "data": {
      "text/plain": [
       "count   37079.000000\n",
       "mean        2.821840\n",
       "std         0.994714\n",
       "min         1.000000\n",
       "25%         3.000000\n",
       "50%         3.000000\n",
       "75%         3.000000\n",
       "max         7.000000\n",
       "Name: street_count, dtype: float64"
      ]
     },
     "execution_count": 17,
     "metadata": {},
     "output_type": "execute_result"
    }
   ],
   "source": [
    "nodes.street_count.describe()"
   ]
  },
  {
   "cell_type": "code",
   "execution_count": 18,
   "metadata": {
    "colab": {
     "base_uri": "https://localhost:8080/"
    },
    "executionInfo": {
     "elapsed": 184,
     "status": "ok",
     "timestamp": 1641927471305,
     "user": {
      "displayName": "Joaquim Gromicho",
      "photoUrl": "https://lh3.googleusercontent.com/a/default-user=s64",
      "userId": "14375950305363805729"
     },
     "user_tz": -60
    },
    "id": "UC-BTpkgHy3P",
    "outputId": "bd644e97-e5bd-4703-f760-dd27e0898cd3"
   },
   "outputs": [
    {
     "data": {
      "text/plain": [
       "count   104568.000000\n",
       "mean        52.067069\n",
       "std         66.243924\n",
       "min          0.048000\n",
       "25%         14.511750\n",
       "50%         32.674000\n",
       "75%         65.676500\n",
       "max       1550.813000\n",
       "Name: length, dtype: float64"
      ]
     },
     "execution_count": 18,
     "metadata": {},
     "output_type": "execute_result"
    }
   ],
   "source": [
    "edges.length.describe()"
   ]
  },
  {
   "cell_type": "code",
   "execution_count": 19,
   "metadata": {
    "colab": {
     "base_uri": "https://localhost:8080/"
    },
    "executionInfo": {
     "elapsed": 173,
     "status": "ok",
     "timestamp": 1641927472748,
     "user": {
      "displayName": "Joaquim Gromicho",
      "photoUrl": "https://lh3.googleusercontent.com/a/default-user=s64",
      "userId": "14375950305363805729"
     },
     "user_tz": -60
    },
    "id": "t0H9Mz9dH4OX",
    "outputId": "096a8d05-aba6-4481-bc05-6db12fe99c7d"
   },
   "outputs": [
    {
     "data": {
      "text/plain": [
       "source                                              2632720004\n",
       "target                                              4340833704\n",
       "osmid                                                  7039463\n",
       "length                                             1550.813000\n",
       "width                                                      NaN\n",
       "junction                                                   NaN\n",
       "tunnel                                                     NaN\n",
       "lanes                                                      NaN\n",
       "oneway                                                   False\n",
       "geometry     LINESTRING (5.0484437 52.4098672, 5.0492122 52...\n",
       "est_width                                                  NaN\n",
       "name                                             Uitdammerdijk\n",
       "reversed                                                 False\n",
       "highway                                               tertiary\n",
       "service                                                    NaN\n",
       "ref                                                        NaN\n",
       "access                                                     NaN\n",
       "bridge                                                     NaN\n",
       "maxspeed                                                   NaN\n",
       "area                                                       NaN\n",
       "Name: 56277, dtype: object"
      ]
     },
     "execution_count": 19,
     "metadata": {},
     "output_type": "execute_result"
    }
   ],
   "source": [
    "edges.loc[edges.length.idxmax()]"
   ]
  },
  {
   "cell_type": "code",
   "execution_count": 20,
   "metadata": {
    "colab": {
     "base_uri": "https://localhost:8080/"
    },
    "executionInfo": {
     "elapsed": 207,
     "status": "ok",
     "timestamp": 1641927477407,
     "user": {
      "displayName": "Joaquim Gromicho",
      "photoUrl": "https://lh3.googleusercontent.com/a/default-user=s64",
      "userId": "14375950305363805729"
     },
     "user_tz": -60
    },
    "id": "MVl96deCIn1Z",
    "outputId": "3480f706-3bef-4d73-fde8-a6a4a7cc65f8"
   },
   "outputs": [
    {
     "name": "stdout",
     "output_type": "stream",
     "text": [
      "CPU times: user 815 µs, sys: 1e+03 ns, total: 816 µs\n",
      "Wall time: 826 µs\n",
      "[2632720004, 4868500506, 46526747, 3646762450, 46515220, 7896482872, 7896482772, 7896482536, 2876000370, 2876030674, 46525998, 2875982072, 2876049179, 2876046111, 2834850861, 3380450298, 3380450325, 3380450323, 1970783754, 1970783822, 1970783783, 1970783792, 1970789262, 1970785372, 46546263, 3478950226, 2869259996, 2876043898, 46544942]\n"
     ]
    }
   ],
   "source": [
    "%time longest = nx.shortest_path(G_walk,2632720004,46544942,weight='length')\n",
    "print(longest)"
   ]
  },
  {
   "cell_type": "code",
   "execution_count": 21,
   "metadata": {
    "colab": {
     "base_uri": "https://localhost:8080/",
     "height": 456
    },
    "executionInfo": {
     "elapsed": 190,
     "status": "ok",
     "timestamp": 1641927483194,
     "user": {
      "displayName": "Joaquim Gromicho",
      "photoUrl": "https://lh3.googleusercontent.com/a/default-user=s64",
      "userId": "14375950305363805729"
     },
     "user_tz": -60
    },
    "id": "o__XD4wpJLg_",
    "outputId": "f017077c-d251-4c12-dae5-1cb0a4d39c15"
   },
   "outputs": [
    {
     "data": {
      "text/html": [
       "<div style=\"width:100%;\"><div style=\"position:relative;width:100%;height:0;padding-bottom:60%;\"><span style=\"color:#565656\">Make this Notebook Trusted to load map: File -> Trust Notebook</span><iframe srcdoc=\"&lt;!DOCTYPE html&gt;\n",
       "&lt;head&gt;    \n",
       "    &lt;meta http-equiv=&quot;content-type&quot; content=&quot;text/html; charset=UTF-8&quot; /&gt;\n",
       "    \n",
       "        &lt;script&gt;\n",
       "            L_NO_TOUCH = false;\n",
       "            L_DISABLE_3D = false;\n",
       "        &lt;/script&gt;\n",
       "    \n",
       "    &lt;style&gt;html, body {width: 100%;height: 100%;margin: 0;padding: 0;}&lt;/style&gt;\n",
       "    &lt;style&gt;#map {position:absolute;top:0;bottom:0;right:0;left:0;}&lt;/style&gt;\n",
       "    &lt;script src=&quot;https://cdn.jsdelivr.net/npm/leaflet@1.6.0/dist/leaflet.js&quot;&gt;&lt;/script&gt;\n",
       "    &lt;script src=&quot;https://code.jquery.com/jquery-1.12.4.min.js&quot;&gt;&lt;/script&gt;\n",
       "    &lt;script src=&quot;https://maxcdn.bootstrapcdn.com/bootstrap/3.2.0/js/bootstrap.min.js&quot;&gt;&lt;/script&gt;\n",
       "    &lt;script src=&quot;https://cdnjs.cloudflare.com/ajax/libs/Leaflet.awesome-markers/2.0.2/leaflet.awesome-markers.js&quot;&gt;&lt;/script&gt;\n",
       "    &lt;link rel=&quot;stylesheet&quot; href=&quot;https://cdn.jsdelivr.net/npm/leaflet@1.6.0/dist/leaflet.css&quot;/&gt;\n",
       "    &lt;link rel=&quot;stylesheet&quot; href=&quot;https://maxcdn.bootstrapcdn.com/bootstrap/3.2.0/css/bootstrap.min.css&quot;/&gt;\n",
       "    &lt;link rel=&quot;stylesheet&quot; href=&quot;https://maxcdn.bootstrapcdn.com/bootstrap/3.2.0/css/bootstrap-theme.min.css&quot;/&gt;\n",
       "    &lt;link rel=&quot;stylesheet&quot; href=&quot;https://maxcdn.bootstrapcdn.com/font-awesome/4.6.3/css/font-awesome.min.css&quot;/&gt;\n",
       "    &lt;link rel=&quot;stylesheet&quot; href=&quot;https://cdnjs.cloudflare.com/ajax/libs/Leaflet.awesome-markers/2.0.2/leaflet.awesome-markers.css&quot;/&gt;\n",
       "    &lt;link rel=&quot;stylesheet&quot; href=&quot;https://cdn.jsdelivr.net/gh/python-visualization/folium/folium/templates/leaflet.awesome.rotate.min.css&quot;/&gt;\n",
       "    \n",
       "            &lt;meta name=&quot;viewport&quot; content=&quot;width=device-width,\n",
       "                initial-scale=1.0, maximum-scale=1.0, user-scalable=no&quot; /&gt;\n",
       "            &lt;style&gt;\n",
       "                #map_a667cb330c1724b9a646b56c822adf67 {\n",
       "                    position: relative;\n",
       "                    width: 100.0%;\n",
       "                    height: 100.0%;\n",
       "                    left: 0.0%;\n",
       "                    top: 0.0%;\n",
       "                }\n",
       "            &lt;/style&gt;\n",
       "        \n",
       "&lt;/head&gt;\n",
       "&lt;body&gt;    \n",
       "    \n",
       "            &lt;div class=&quot;folium-map&quot; id=&quot;map_a667cb330c1724b9a646b56c822adf67&quot; &gt;&lt;/div&gt;\n",
       "        \n",
       "&lt;/body&gt;\n",
       "&lt;script&gt;    \n",
       "    \n",
       "            var map_a667cb330c1724b9a646b56c822adf67 = L.map(\n",
       "                &quot;map_a667cb330c1724b9a646b56c822adf67&quot;,\n",
       "                {\n",
       "                    center: [52.40669741971747, 5.024024034527207],\n",
       "                    crs: L.CRS.EPSG3857,\n",
       "                    zoom: 1,\n",
       "                    zoomControl: true,\n",
       "                    preferCanvas: false,\n",
       "                }\n",
       "            );\n",
       "\n",
       "            \n",
       "\n",
       "        \n",
       "    \n",
       "            var tile_layer_85ca5ee70d3f8ab9b0958ae558b3ace9 = L.tileLayer(\n",
       "                &quot;https://cartodb-basemaps-{s}.global.ssl.fastly.net/light_all/{z}/{x}/{y}.png&quot;,\n",
       "                {&quot;attribution&quot;: &quot;\\u0026copy; \\u003ca href=\\&quot;http://www.openstreetmap.org/copyright\\&quot;\\u003eOpenStreetMap\\u003c/a\\u003e contributors \\u0026copy; \\u003ca href=\\&quot;http://cartodb.com/attributions\\&quot;\\u003eCartoDB\\u003c/a\\u003e, CartoDB \\u003ca href =\\&quot;http://cartodb.com/attributions\\&quot;\\u003eattributions\\u003c/a\\u003e&quot;, &quot;detectRetina&quot;: false, &quot;maxNativeZoom&quot;: 18, &quot;maxZoom&quot;: 18, &quot;minZoom&quot;: 0, &quot;noWrap&quot;: false, &quot;opacity&quot;: 1, &quot;subdomains&quot;: &quot;abc&quot;, &quot;tms&quot;: false}\n",
       "            ).addTo(map_a667cb330c1724b9a646b56c822adf67);\n",
       "        \n",
       "    \n",
       "            var poly_line_4445df7adbde3d4c4bc673374140377d = L.polyline(\n",
       "                [[52.4098672, 5.0484437], [52.4094882, 5.0481011], [52.4092278, 5.0478833], [52.4089609, 5.0476735]],\n",
       "                {&quot;bubblingMouseEvents&quot;: true, &quot;color&quot;: &quot;#3388ff&quot;, &quot;dashArray&quot;: null, &quot;dashOffset&quot;: null, &quot;fill&quot;: false, &quot;fillColor&quot;: &quot;#3388ff&quot;, &quot;fillOpacity&quot;: 0.2, &quot;fillRule&quot;: &quot;evenodd&quot;, &quot;lineCap&quot;: &quot;round&quot;, &quot;lineJoin&quot;: &quot;round&quot;, &quot;noClip&quot;: false, &quot;opacity&quot;: 1.0, &quot;smoothFactor&quot;: 1.0, &quot;stroke&quot;: true, &quot;weight&quot;: 3}\n",
       "            ).addTo(map_a667cb330c1724b9a646b56c822adf67);\n",
       "        \n",
       "    \n",
       "            var poly_line_5a65b083abd2ba24950571cb2c308a4b = L.polyline(\n",
       "                [[52.4089609, 5.0476735], [52.4084633, 5.0472729], [52.4077928, 5.0467457], [52.4073764, 5.0464191], [52.4071597, 5.0462581], [52.4070967, 5.0462022]],\n",
       "                {&quot;bubblingMouseEvents&quot;: true, &quot;color&quot;: &quot;#3388ff&quot;, &quot;dashArray&quot;: null, &quot;dashOffset&quot;: null, &quot;fill&quot;: false, &quot;fillColor&quot;: &quot;#3388ff&quot;, &quot;fillOpacity&quot;: 0.2, &quot;fillRule&quot;: &quot;evenodd&quot;, &quot;lineCap&quot;: &quot;round&quot;, &quot;lineJoin&quot;: &quot;round&quot;, &quot;noClip&quot;: false, &quot;opacity&quot;: 1.0, &quot;smoothFactor&quot;: 1.0, &quot;stroke&quot;: true, &quot;weight&quot;: 3}\n",
       "            ).addTo(map_a667cb330c1724b9a646b56c822adf67);\n",
       "        \n",
       "    \n",
       "            var poly_line_47e164e7b24ef72b1eeb697ede2f9580 = L.polyline(\n",
       "                [[52.4070967, 5.0462022], [52.4070129, 5.046098], [52.4069722, 5.0460328], [52.4069366, 5.0459639], [52.406901, 5.0458719], [52.4068564, 5.0456985]],\n",
       "                {&quot;bubblingMouseEvents&quot;: true, &quot;color&quot;: &quot;#3388ff&quot;, &quot;dashArray&quot;: null, &quot;dashOffset&quot;: null, &quot;fill&quot;: false, &quot;fillColor&quot;: &quot;#3388ff&quot;, &quot;fillOpacity&quot;: 0.2, &quot;fillRule&quot;: &quot;evenodd&quot;, &quot;lineCap&quot;: &quot;round&quot;, &quot;lineJoin&quot;: &quot;round&quot;, &quot;noClip&quot;: false, &quot;opacity&quot;: 1.0, &quot;smoothFactor&quot;: 1.0, &quot;stroke&quot;: true, &quot;weight&quot;: 3}\n",
       "            ).addTo(map_a667cb330c1724b9a646b56c822adf67);\n",
       "        \n",
       "    \n",
       "            var poly_line_de4cac6a2e56e537f10aadadad3797a3 = L.polyline(\n",
       "                [[52.4068564, 5.0456985], [52.4068369, 5.045587], [52.4064108, 5.043865], [52.4063374, 5.0434715], [52.4062865, 5.0431458], [52.4062256, 5.0427761], [52.4061617, 5.0425162], [52.406057, 5.0423144], [52.4055508, 5.0413756], [52.4054664, 5.041119], [52.4053913, 5.0407697], [52.4052348, 5.0391158], [52.4051613, 5.0386472], [52.4050613, 5.0382672], [52.4049891, 5.0380887], [52.4048454, 5.0378191], [52.404394, 5.0372309], [52.4041258, 5.0368865], [52.4039098, 5.0366198], [52.4037223, 5.0363717], [52.4036203, 5.0362253], [52.4035325, 5.0360648], [52.4034655, 5.0359291]],\n",
       "                {&quot;bubblingMouseEvents&quot;: true, &quot;color&quot;: &quot;#3388ff&quot;, &quot;dashArray&quot;: null, &quot;dashOffset&quot;: null, &quot;fill&quot;: false, &quot;fillColor&quot;: &quot;#3388ff&quot;, &quot;fillOpacity&quot;: 0.2, &quot;fillRule&quot;: &quot;evenodd&quot;, &quot;lineCap&quot;: &quot;round&quot;, &quot;lineJoin&quot;: &quot;round&quot;, &quot;noClip&quot;: false, &quot;opacity&quot;: 1.0, &quot;smoothFactor&quot;: 1.0, &quot;stroke&quot;: true, &quot;weight&quot;: 3}\n",
       "            ).addTo(map_a667cb330c1724b9a646b56c822adf67);\n",
       "        \n",
       "    \n",
       "            var poly_line_f6036ade4da2a29499d3cf09820c9543 = L.polyline(\n",
       "                [[52.4034655, 5.0359291], [52.403497, 5.0358817], [52.4035335, 5.0358516], [52.403578, 5.035828], [52.4036686, 5.0357962]],\n",
       "                {&quot;bubblingMouseEvents&quot;: true, &quot;color&quot;: &quot;#3388ff&quot;, &quot;dashArray&quot;: null, &quot;dashOffset&quot;: null, &quot;fill&quot;: false, &quot;fillColor&quot;: &quot;#3388ff&quot;, &quot;fillOpacity&quot;: 0.2, &quot;fillRule&quot;: &quot;evenodd&quot;, &quot;lineCap&quot;: &quot;round&quot;, &quot;lineJoin&quot;: &quot;round&quot;, &quot;noClip&quot;: false, &quot;opacity&quot;: 1.0, &quot;smoothFactor&quot;: 1.0, &quot;stroke&quot;: true, &quot;weight&quot;: 3}\n",
       "            ).addTo(map_a667cb330c1724b9a646b56c822adf67);\n",
       "        \n",
       "    \n",
       "            var poly_line_3f84375945d4e72f2afe446d950b0853 = L.polyline(\n",
       "                [[52.4036686, 5.0357962], [52.4037745, 5.0357636], [52.4038448, 5.0357413], [52.4039116, 5.035719], [52.4040628, 5.0356613], [52.4042269, 5.0356064], [52.4045098, 5.035522], [52.4046536, 5.0354823], [52.4047243, 5.0354642], [52.4047907, 5.0354492], [52.4049254, 5.0354248], [52.4049901, 5.0354138]],\n",
       "                {&quot;bubblingMouseEvents&quot;: true, &quot;color&quot;: &quot;#3388ff&quot;, &quot;dashArray&quot;: null, &quot;dashOffset&quot;: null, &quot;fill&quot;: false, &quot;fillColor&quot;: &quot;#3388ff&quot;, &quot;fillOpacity&quot;: 0.2, &quot;fillRule&quot;: &quot;evenodd&quot;, &quot;lineCap&quot;: &quot;round&quot;, &quot;lineJoin&quot;: &quot;round&quot;, &quot;noClip&quot;: false, &quot;opacity&quot;: 1.0, &quot;smoothFactor&quot;: 1.0, &quot;stroke&quot;: true, &quot;weight&quot;: 3}\n",
       "            ).addTo(map_a667cb330c1724b9a646b56c822adf67);\n",
       "        \n",
       "    \n",
       "            var poly_line_83b9883e7fee794daaa971e9a804bb95 = L.polyline(\n",
       "                [[52.4049901, 5.0354138], [52.4050591, 5.0354018], [52.4051897, 5.0353769], [52.4052547, 5.0353609], [52.4052875, 5.0353512], [52.4053205, 5.0353403], [52.4053548, 5.0353267], [52.4053919, 5.0353083], [52.4054572, 5.0352762], [52.4054955, 5.0352536], [52.4055332, 5.0352324], [52.4056008, 5.0351973], [52.4056561, 5.0351767], [52.4056889, 5.0351687], [52.4057172, 5.0351644], [52.4057458, 5.0351616], [52.4057985, 5.0351659], [52.4058483, 5.0351771], [52.4059229, 5.0352036], [52.4059607, 5.0352189], [52.4059979, 5.0352343]],\n",
       "                {&quot;bubblingMouseEvents&quot;: true, &quot;color&quot;: &quot;#3388ff&quot;, &quot;dashArray&quot;: null, &quot;dashOffset&quot;: null, &quot;fill&quot;: false, &quot;fillColor&quot;: &quot;#3388ff&quot;, &quot;fillOpacity&quot;: 0.2, &quot;fillRule&quot;: &quot;evenodd&quot;, &quot;lineCap&quot;: &quot;round&quot;, &quot;lineJoin&quot;: &quot;round&quot;, &quot;noClip&quot;: false, &quot;opacity&quot;: 1.0, &quot;smoothFactor&quot;: 1.0, &quot;stroke&quot;: true, &quot;weight&quot;: 3}\n",
       "            ).addTo(map_a667cb330c1724b9a646b56c822adf67);\n",
       "        \n",
       "    \n",
       "            var poly_line_5710c656158fe0ee474a6278ac4a3975 = L.polyline(\n",
       "                [[52.4059979, 5.0352343], [52.4062515, 5.0353301], [52.4063575, 5.035364], [52.406472, 5.0354092], [52.4066923, 5.0355015], [52.40699, 5.03562], [52.4071664, 5.0356927], [52.4073445, 5.0356984], [52.4073918, 5.0356705], [52.4074325, 5.0356373], [52.4075307, 5.0355234], [52.4076475, 5.0353153]],\n",
       "                {&quot;bubblingMouseEvents&quot;: true, &quot;color&quot;: &quot;#3388ff&quot;, &quot;dashArray&quot;: null, &quot;dashOffset&quot;: null, &quot;fill&quot;: false, &quot;fillColor&quot;: &quot;#3388ff&quot;, &quot;fillOpacity&quot;: 0.2, &quot;fillRule&quot;: &quot;evenodd&quot;, &quot;lineCap&quot;: &quot;round&quot;, &quot;lineJoin&quot;: &quot;round&quot;, &quot;noClip&quot;: false, &quot;opacity&quot;: 1.0, &quot;smoothFactor&quot;: 1.0, &quot;stroke&quot;: true, &quot;weight&quot;: 3}\n",
       "            ).addTo(map_a667cb330c1724b9a646b56c822adf67);\n",
       "        \n",
       "    \n",
       "            var poly_line_59497dc2592039a8683895c5e3fec61d = L.polyline(\n",
       "                [[52.4076475, 5.0353153], [52.4077255, 5.0351764], [52.4078575, 5.0347906], [52.4079098, 5.0343907], [52.407913, 5.0339592], [52.4077429, 5.0333323], [52.4073611, 5.0321111], [52.4072573, 5.0316835], [52.4072439, 5.0314034], [52.4072516, 5.0312223]],\n",
       "                {&quot;bubblingMouseEvents&quot;: true, &quot;color&quot;: &quot;#3388ff&quot;, &quot;dashArray&quot;: null, &quot;dashOffset&quot;: null, &quot;fill&quot;: false, &quot;fillColor&quot;: &quot;#3388ff&quot;, &quot;fillOpacity&quot;: 0.2, &quot;fillRule&quot;: &quot;evenodd&quot;, &quot;lineCap&quot;: &quot;round&quot;, &quot;lineJoin&quot;: &quot;round&quot;, &quot;noClip&quot;: false, &quot;opacity&quot;: 1.0, &quot;smoothFactor&quot;: 1.0, &quot;stroke&quot;: true, &quot;weight&quot;: 3}\n",
       "            ).addTo(map_a667cb330c1724b9a646b56c822adf67);\n",
       "        \n",
       "    \n",
       "            var poly_line_9dfa2466e7ee5f83ceb46f6db80857ab = L.polyline(\n",
       "                [[52.4072516, 5.0312223], [52.4073164, 5.0308918], [52.407447, 5.0304556], [52.4074572, 5.030191], [52.4073995, 5.0296898], [52.4073974, 5.0291942], [52.40755, 5.02816], [52.4075817, 5.0278355], [52.4075234, 5.0274342], [52.4070648, 5.0261158], [52.4068343, 5.0255901]],\n",
       "                {&quot;bubblingMouseEvents&quot;: true, &quot;color&quot;: &quot;#3388ff&quot;, &quot;dashArray&quot;: null, &quot;dashOffset&quot;: null, &quot;fill&quot;: false, &quot;fillColor&quot;: &quot;#3388ff&quot;, &quot;fillOpacity&quot;: 0.2, &quot;fillRule&quot;: &quot;evenodd&quot;, &quot;lineCap&quot;: &quot;round&quot;, &quot;lineJoin&quot;: &quot;round&quot;, &quot;noClip&quot;: false, &quot;opacity&quot;: 1.0, &quot;smoothFactor&quot;: 1.0, &quot;stroke&quot;: true, &quot;weight&quot;: 3}\n",
       "            ).addTo(map_a667cb330c1724b9a646b56c822adf67);\n",
       "        \n",
       "    \n",
       "            var poly_line_4a7df18bc788056ca3c0d721ebfda8ca = L.polyline(\n",
       "                [[52.4068343, 5.0255901], [52.4068547, 5.0255597], [52.4069396, 5.0254328], [52.407036, 5.0252874]],\n",
       "                {&quot;bubblingMouseEvents&quot;: true, &quot;color&quot;: &quot;#3388ff&quot;, &quot;dashArray&quot;: null, &quot;dashOffset&quot;: null, &quot;fill&quot;: false, &quot;fillColor&quot;: &quot;#3388ff&quot;, &quot;fillOpacity&quot;: 0.2, &quot;fillRule&quot;: &quot;evenodd&quot;, &quot;lineCap&quot;: &quot;round&quot;, &quot;lineJoin&quot;: &quot;round&quot;, &quot;noClip&quot;: false, &quot;opacity&quot;: 1.0, &quot;smoothFactor&quot;: 1.0, &quot;stroke&quot;: true, &quot;weight&quot;: 3}\n",
       "            ).addTo(map_a667cb330c1724b9a646b56c822adf67);\n",
       "        \n",
       "    \n",
       "            var poly_line_6fdfde5f697078f87942e447d951e82f = L.polyline(\n",
       "                [[52.407036, 5.0252874], [52.4071005, 5.02519], [52.4072849, 5.0249266]],\n",
       "                {&quot;bubblingMouseEvents&quot;: true, &quot;color&quot;: &quot;#3388ff&quot;, &quot;dashArray&quot;: null, &quot;dashOffset&quot;: null, &quot;fill&quot;: false, &quot;fillColor&quot;: &quot;#3388ff&quot;, &quot;fillOpacity&quot;: 0.2, &quot;fillRule&quot;: &quot;evenodd&quot;, &quot;lineCap&quot;: &quot;round&quot;, &quot;lineJoin&quot;: &quot;round&quot;, &quot;noClip&quot;: false, &quot;opacity&quot;: 1.0, &quot;smoothFactor&quot;: 1.0, &quot;stroke&quot;: true, &quot;weight&quot;: 3}\n",
       "            ).addTo(map_a667cb330c1724b9a646b56c822adf67);\n",
       "        \n",
       "    \n",
       "            var poly_line_a1e754cb35b3b42a063300fe90ab24bd = L.polyline(\n",
       "                [[52.4072849, 5.0249266], [52.407345, 5.0248787], [52.4075014, 5.0247617], [52.4076907, 5.0247664], [52.408682, 5.024941]],\n",
       "                {&quot;bubblingMouseEvents&quot;: true, &quot;color&quot;: &quot;#3388ff&quot;, &quot;dashArray&quot;: null, &quot;dashOffset&quot;: null, &quot;fill&quot;: false, &quot;fillColor&quot;: &quot;#3388ff&quot;, &quot;fillOpacity&quot;: 0.2, &quot;fillRule&quot;: &quot;evenodd&quot;, &quot;lineCap&quot;: &quot;round&quot;, &quot;lineJoin&quot;: &quot;round&quot;, &quot;noClip&quot;: false, &quot;opacity&quot;: 1.0, &quot;smoothFactor&quot;: 1.0, &quot;stroke&quot;: true, &quot;weight&quot;: 3}\n",
       "            ).addTo(map_a667cb330c1724b9a646b56c822adf67);\n",
       "        \n",
       "    \n",
       "            var poly_line_adbbbaa85789753b208e89d7089d3816 = L.polyline(\n",
       "                [[52.408682, 5.024941], [52.40879, 5.02496], [52.408963, 5.02498], [52.4089258, 5.0247837], [52.4085809, 5.0243118], [52.4084278, 5.0241359], [52.4076815, 5.0231616], [52.406508, 5.0217449], [52.4055318, 5.0206046], [52.4047502, 5.0196831], [52.4046945, 5.0196355], [52.4045739, 5.0194959], [52.4042378, 5.0191145], [52.4035349, 5.0182957]],\n",
       "                {&quot;bubblingMouseEvents&quot;: true, &quot;color&quot;: &quot;#3388ff&quot;, &quot;dashArray&quot;: null, &quot;dashOffset&quot;: null, &quot;fill&quot;: false, &quot;fillColor&quot;: &quot;#3388ff&quot;, &quot;fillOpacity&quot;: 0.2, &quot;fillRule&quot;: &quot;evenodd&quot;, &quot;lineCap&quot;: &quot;round&quot;, &quot;lineJoin&quot;: &quot;round&quot;, &quot;noClip&quot;: false, &quot;opacity&quot;: 1.0, &quot;smoothFactor&quot;: 1.0, &quot;stroke&quot;: true, &quot;weight&quot;: 3}\n",
       "            ).addTo(map_a667cb330c1724b9a646b56c822adf67);\n",
       "        \n",
       "    \n",
       "            var poly_line_8c06694b317635f04bfbe147d7a5fe8c = L.polyline(\n",
       "                [[52.4035349, 5.0182957], [52.4034787, 5.0182302], [52.4032592, 5.0179919], [52.4023648, 5.0169802], [52.4011711, 5.0156763], [52.4007759, 5.0152401], [52.4002465, 5.0146698], [52.3999817, 5.0144173], [52.3990367, 5.0134287], [52.3987747, 5.0131416], [52.3981222, 5.0124859], [52.3970992, 5.0115429]],\n",
       "                {&quot;bubblingMouseEvents&quot;: true, &quot;color&quot;: &quot;#3388ff&quot;, &quot;dashArray&quot;: null, &quot;dashOffset&quot;: null, &quot;fill&quot;: false, &quot;fillColor&quot;: &quot;#3388ff&quot;, &quot;fillOpacity&quot;: 0.2, &quot;fillRule&quot;: &quot;evenodd&quot;, &quot;lineCap&quot;: &quot;round&quot;, &quot;lineJoin&quot;: &quot;round&quot;, &quot;noClip&quot;: false, &quot;opacity&quot;: 1.0, &quot;smoothFactor&quot;: 1.0, &quot;stroke&quot;: true, &quot;weight&quot;: 3}\n",
       "            ).addTo(map_a667cb330c1724b9a646b56c822adf67);\n",
       "        \n",
       "    \n",
       "            var poly_line_2c5ef3daaf2cc2839da598a64506c83b = L.polyline(\n",
       "                [[52.3970992, 5.0115429], [52.397133, 5.0114448], [52.3971636, 5.0113335], [52.3973141, 5.0110062], [52.3974516, 5.010443], [52.3974671, 5.0103507], [52.3974981, 5.0101625], [52.3976617, 5.0101625], [52.3985357, 5.0102859], [52.3992852, 5.0103449], [52.4001127, 5.0105181], [52.4004243, 5.0105863], [52.4004405, 5.0103222], [52.4004875, 5.0103147], [52.4005807, 5.0103464]],\n",
       "                {&quot;bubblingMouseEvents&quot;: true, &quot;color&quot;: &quot;#3388ff&quot;, &quot;dashArray&quot;: null, &quot;dashOffset&quot;: null, &quot;fill&quot;: false, &quot;fillColor&quot;: &quot;#3388ff&quot;, &quot;fillOpacity&quot;: 0.2, &quot;fillRule&quot;: &quot;evenodd&quot;, &quot;lineCap&quot;: &quot;round&quot;, &quot;lineJoin&quot;: &quot;round&quot;, &quot;noClip&quot;: false, &quot;opacity&quot;: 1.0, &quot;smoothFactor&quot;: 1.0, &quot;stroke&quot;: true, &quot;weight&quot;: 3}\n",
       "            ).addTo(map_a667cb330c1724b9a646b56c822adf67);\n",
       "        \n",
       "    \n",
       "            var poly_line_0585db05e5aac7f5d811d5d7376303ce = L.polyline(\n",
       "                [[52.4005807, 5.0103464], [52.4006298, 5.010164], [52.4006397, 5.0100192], [52.4006152, 5.0097277], [52.4005873, 5.0095364], [52.4005498, 5.0093863]],\n",
       "                {&quot;bubblingMouseEvents&quot;: true, &quot;color&quot;: &quot;#3388ff&quot;, &quot;dashArray&quot;: null, &quot;dashOffset&quot;: null, &quot;fill&quot;: false, &quot;fillColor&quot;: &quot;#3388ff&quot;, &quot;fillOpacity&quot;: 0.2, &quot;fillRule&quot;: &quot;evenodd&quot;, &quot;lineCap&quot;: &quot;round&quot;, &quot;lineJoin&quot;: &quot;round&quot;, &quot;noClip&quot;: false, &quot;opacity&quot;: 1.0, &quot;smoothFactor&quot;: 1.0, &quot;stroke&quot;: true, &quot;weight&quot;: 3}\n",
       "            ).addTo(map_a667cb330c1724b9a646b56c822adf67);\n",
       "        \n",
       "    \n",
       "            var poly_line_323b5945ed599d7b6cac69932868454e = L.polyline(\n",
       "                [[52.4005498, 5.0093863], [52.4009395, 5.0094894], [52.4016297, 5.0096946], [52.4020425, 5.0098059], [52.4024089, 5.0097934], [52.4028614, 5.0098751], [52.4038608, 5.0100391], [52.4043256, 5.0101357], [52.4046005, 5.0102054], [52.4048001, 5.0104146], [52.4048629, 5.010421]],\n",
       "                {&quot;bubblingMouseEvents&quot;: true, &quot;color&quot;: &quot;#3388ff&quot;, &quot;dashArray&quot;: null, &quot;dashOffset&quot;: null, &quot;fill&quot;: false, &quot;fillColor&quot;: &quot;#3388ff&quot;, &quot;fillOpacity&quot;: 0.2, &quot;fillRule&quot;: &quot;evenodd&quot;, &quot;lineCap&quot;: &quot;round&quot;, &quot;lineJoin&quot;: &quot;round&quot;, &quot;noClip&quot;: false, &quot;opacity&quot;: 1.0, &quot;smoothFactor&quot;: 1.0, &quot;stroke&quot;: true, &quot;weight&quot;: 3}\n",
       "            ).addTo(map_a667cb330c1724b9a646b56c822adf67);\n",
       "        \n",
       "    \n",
       "            var poly_line_2e37ba80fe8381cef29df3e3b0cdf80f = L.polyline(\n",
       "                [[52.4048629, 5.010421], [52.4049315, 5.0104221], [52.40502, 5.0104088], [52.4050846, 5.010412]],\n",
       "                {&quot;bubblingMouseEvents&quot;: true, &quot;color&quot;: &quot;#3388ff&quot;, &quot;dashArray&quot;: null, &quot;dashOffset&quot;: null, &quot;fill&quot;: false, &quot;fillColor&quot;: &quot;#3388ff&quot;, &quot;fillOpacity&quot;: 0.2, &quot;fillRule&quot;: &quot;evenodd&quot;, &quot;lineCap&quot;: &quot;round&quot;, &quot;lineJoin&quot;: &quot;round&quot;, &quot;noClip&quot;: false, &quot;opacity&quot;: 1.0, &quot;smoothFactor&quot;: 1.0, &quot;stroke&quot;: true, &quot;weight&quot;: 3}\n",
       "            ).addTo(map_a667cb330c1724b9a646b56c822adf67);\n",
       "        \n",
       "    \n",
       "            var poly_line_f04af4d72a23a7935e09b3ccaa290e91 = L.polyline(\n",
       "                [[52.4050846, 5.010412], [52.4051435, 5.0109806], [52.4050175, 5.0114929], [52.404965, 5.0126135]],\n",
       "                {&quot;bubblingMouseEvents&quot;: true, &quot;color&quot;: &quot;#3388ff&quot;, &quot;dashArray&quot;: null, &quot;dashOffset&quot;: null, &quot;fill&quot;: false, &quot;fillColor&quot;: &quot;#3388ff&quot;, &quot;fillOpacity&quot;: 0.2, &quot;fillRule&quot;: &quot;evenodd&quot;, &quot;lineCap&quot;: &quot;round&quot;, &quot;lineJoin&quot;: &quot;round&quot;, &quot;noClip&quot;: false, &quot;opacity&quot;: 1.0, &quot;smoothFactor&quot;: 1.0, &quot;stroke&quot;: true, &quot;weight&quot;: 3}\n",
       "            ).addTo(map_a667cb330c1724b9a646b56c822adf67);\n",
       "        \n",
       "    \n",
       "            var poly_line_04c64f52757b2c1bf862379a744345e9 = L.polyline(\n",
       "                [[52.404965, 5.0126135], [52.4050283, 5.0126067], [52.4070979, 5.0128622], [52.4072467, 5.0132509], [52.4073112, 5.0132571], [52.4080011, 5.0133236], [52.4080248, 5.013274], [52.408033, 5.0132005], [52.4080404, 5.0128279], [52.4081025, 5.0125457], [52.4087799, 5.0126209], [52.4087785, 5.012562], [52.4087766, 5.0124814], [52.4096355, 5.0126161], [52.4100758, 5.0126852], [52.4100844, 5.0127975], [52.4100627, 5.0129105], [52.4112898, 5.0130715], [52.4112668, 5.0137426], [52.4112657, 5.0138547], [52.4115517, 5.0146424], [52.4115536, 5.0147207], [52.4115188, 5.0148954]],\n",
       "                {&quot;bubblingMouseEvents&quot;: true, &quot;color&quot;: &quot;#3388ff&quot;, &quot;dashArray&quot;: null, &quot;dashOffset&quot;: null, &quot;fill&quot;: false, &quot;fillColor&quot;: &quot;#3388ff&quot;, &quot;fillOpacity&quot;: 0.2, &quot;fillRule&quot;: &quot;evenodd&quot;, &quot;lineCap&quot;: &quot;round&quot;, &quot;lineJoin&quot;: &quot;round&quot;, &quot;noClip&quot;: false, &quot;opacity&quot;: 1.0, &quot;smoothFactor&quot;: 1.0, &quot;stroke&quot;: true, &quot;weight&quot;: 3}\n",
       "            ).addTo(map_a667cb330c1724b9a646b56c822adf67);\n",
       "        \n",
       "    \n",
       "            var poly_line_593e635eed8063a138d610e97038b356 = L.polyline(\n",
       "                [[52.4115188, 5.0148954], [52.4115068, 5.0151722], [52.4113301, 5.0160198], [52.4111403, 5.016406], [52.4110999, 5.0164844], [52.4110683, 5.0165455], [52.4103474, 5.0166656], [52.4102867, 5.0166757]],\n",
       "                {&quot;bubblingMouseEvents&quot;: true, &quot;color&quot;: &quot;#3388ff&quot;, &quot;dashArray&quot;: null, &quot;dashOffset&quot;: null, &quot;fill&quot;: false, &quot;fillColor&quot;: &quot;#3388ff&quot;, &quot;fillOpacity&quot;: 0.2, &quot;fillRule&quot;: &quot;evenodd&quot;, &quot;lineCap&quot;: &quot;round&quot;, &quot;lineJoin&quot;: &quot;round&quot;, &quot;noClip&quot;: false, &quot;opacity&quot;: 1.0, &quot;smoothFactor&quot;: 1.0, &quot;stroke&quot;: true, &quot;weight&quot;: 3}\n",
       "            ).addTo(map_a667cb330c1724b9a646b56c822adf67);\n",
       "        \n",
       "    \n",
       "            var poly_line_b927c727895f490632c6f36151471bc4 = L.polyline(\n",
       "                [[52.4102867, 5.0166757], [52.4103076, 5.0167865], [52.4103192, 5.0168747], [52.4104538, 5.0179031], [52.4104712, 5.0180364], [52.4106479, 5.0190878]],\n",
       "                {&quot;bubblingMouseEvents&quot;: true, &quot;color&quot;: &quot;#3388ff&quot;, &quot;dashArray&quot;: null, &quot;dashOffset&quot;: null, &quot;fill&quot;: false, &quot;fillColor&quot;: &quot;#3388ff&quot;, &quot;fillOpacity&quot;: 0.2, &quot;fillRule&quot;: &quot;evenodd&quot;, &quot;lineCap&quot;: &quot;round&quot;, &quot;lineJoin&quot;: &quot;round&quot;, &quot;noClip&quot;: false, &quot;opacity&quot;: 1.0, &quot;smoothFactor&quot;: 1.0, &quot;stroke&quot;: true, &quot;weight&quot;: 3}\n",
       "            ).addTo(map_a667cb330c1724b9a646b56c822adf67);\n",
       "        \n",
       "    \n",
       "            var poly_line_afb1a2ccf355469c96c610c31b0b4ef9 = L.polyline(\n",
       "                [[52.4106479, 5.0190878], [52.4103796, 5.019694], [52.4102519, 5.01993], [52.4101407, 5.0203055], [52.4101101, 5.0204525], [52.4100491, 5.0207454], [52.4099411, 5.0213999], [52.4099967, 5.0216305], [52.4102814, 5.0220758], [52.410481, 5.0224513], [52.4109489, 5.0225103], [52.410997, 5.0228123], [52.4110781, 5.0230967], [52.4110825, 5.0235939], [52.4110824, 5.0236587], [52.4110988, 5.0238207], [52.4111321, 5.0240429], [52.4111633, 5.0242744], [52.4111798, 5.0244986], [52.4111773, 5.0247238], [52.4111919, 5.0248661], [52.41122, 5.0249705], [52.4112576, 5.0250293], [52.4113267, 5.0250639], [52.4113878, 5.0251217], [52.4114007, 5.0252235], [52.4113987, 5.0253244], [52.4116292, 5.0253377], [52.4120225, 5.025398], [52.4123511, 5.025461], [52.4125779, 5.0255111], [52.4127976, 5.0255517], [52.413358, 5.0256477]],\n",
       "                {&quot;bubblingMouseEvents&quot;: true, &quot;color&quot;: &quot;#3388ff&quot;, &quot;dashArray&quot;: null, &quot;dashOffset&quot;: null, &quot;fill&quot;: false, &quot;fillColor&quot;: &quot;#3388ff&quot;, &quot;fillOpacity&quot;: 0.2, &quot;fillRule&quot;: &quot;evenodd&quot;, &quot;lineCap&quot;: &quot;round&quot;, &quot;lineJoin&quot;: &quot;round&quot;, &quot;noClip&quot;: false, &quot;opacity&quot;: 1.0, &quot;smoothFactor&quot;: 1.0, &quot;stroke&quot;: true, &quot;weight&quot;: 3}\n",
       "            ).addTo(map_a667cb330c1724b9a646b56c822adf67);\n",
       "        \n",
       "    \n",
       "            var poly_line_091964ca18d1eb43aacb1c03149fe42b = L.polyline(\n",
       "                [[52.413358, 5.0256477], [52.4134566, 5.0259318], [52.4135155, 5.0262867], [52.4135251, 5.0263986], [52.4135046, 5.0267755], [52.4135172, 5.0269059], [52.4135649, 5.0272434], [52.4136033, 5.0278609], [52.4136279, 5.0283426], [52.4136401, 5.0284911]],\n",
       "                {&quot;bubblingMouseEvents&quot;: true, &quot;color&quot;: &quot;#3388ff&quot;, &quot;dashArray&quot;: null, &quot;dashOffset&quot;: null, &quot;fill&quot;: false, &quot;fillColor&quot;: &quot;#3388ff&quot;, &quot;fillOpacity&quot;: 0.2, &quot;fillRule&quot;: &quot;evenodd&quot;, &quot;lineCap&quot;: &quot;round&quot;, &quot;lineJoin&quot;: &quot;round&quot;, &quot;noClip&quot;: false, &quot;opacity&quot;: 1.0, &quot;smoothFactor&quot;: 1.0, &quot;stroke&quot;: true, &quot;weight&quot;: 3}\n",
       "            ).addTo(map_a667cb330c1724b9a646b56c822adf67);\n",
       "        \n",
       "    \n",
       "            var poly_line_5d504fb528403e6e1a307fd8502ebff8 = L.polyline(\n",
       "                [[52.4136401, 5.0284911], [52.4136652, 5.0287061], [52.4136688, 5.028833]],\n",
       "                {&quot;bubblingMouseEvents&quot;: true, &quot;color&quot;: &quot;#3388ff&quot;, &quot;dashArray&quot;: null, &quot;dashOffset&quot;: null, &quot;fill&quot;: false, &quot;fillColor&quot;: &quot;#3388ff&quot;, &quot;fillOpacity&quot;: 0.2, &quot;fillRule&quot;: &quot;evenodd&quot;, &quot;lineCap&quot;: &quot;round&quot;, &quot;lineJoin&quot;: &quot;round&quot;, &quot;noClip&quot;: false, &quot;opacity&quot;: 1.0, &quot;smoothFactor&quot;: 1.0, &quot;stroke&quot;: true, &quot;weight&quot;: 3}\n",
       "            ).addTo(map_a667cb330c1724b9a646b56c822adf67);\n",
       "        \n",
       "    \n",
       "            var poly_line_bc7ff7924e15987c2e1f9a24947b403f = L.polyline(\n",
       "                [[52.4136688, 5.028833], [52.4136609, 5.029288], [52.4136511, 5.0294881], [52.4136113, 5.0302975], [52.4135699, 5.0306957], [52.4135356, 5.0309564]],\n",
       "                {&quot;bubblingMouseEvents&quot;: true, &quot;color&quot;: &quot;#3388ff&quot;, &quot;dashArray&quot;: null, &quot;dashOffset&quot;: null, &quot;fill&quot;: false, &quot;fillColor&quot;: &quot;#3388ff&quot;, &quot;fillOpacity&quot;: 0.2, &quot;fillRule&quot;: &quot;evenodd&quot;, &quot;lineCap&quot;: &quot;round&quot;, &quot;lineJoin&quot;: &quot;round&quot;, &quot;noClip&quot;: false, &quot;opacity&quot;: 1.0, &quot;smoothFactor&quot;: 1.0, &quot;stroke&quot;: true, &quot;weight&quot;: 3}\n",
       "            ).addTo(map_a667cb330c1724b9a646b56c822adf67);\n",
       "        \n",
       "    \n",
       "            var poly_line_89477b1d70187d72541496abe05c7605 = L.polyline(\n",
       "                [[52.4135356, 5.0309564], [52.4133644, 5.0320046], [52.4132978, 5.0323266], [52.4132489, 5.0324582], [52.4131678, 5.0326018], [52.4129962, 5.0329363]],\n",
       "                {&quot;bubblingMouseEvents&quot;: true, &quot;color&quot;: &quot;#3388ff&quot;, &quot;dashArray&quot;: null, &quot;dashOffset&quot;: null, &quot;fill&quot;: false, &quot;fillColor&quot;: &quot;#3388ff&quot;, &quot;fillOpacity&quot;: 0.2, &quot;fillRule&quot;: &quot;evenodd&quot;, &quot;lineCap&quot;: &quot;round&quot;, &quot;lineJoin&quot;: &quot;round&quot;, &quot;noClip&quot;: false, &quot;opacity&quot;: 1.0, &quot;smoothFactor&quot;: 1.0, &quot;stroke&quot;: true, &quot;weight&quot;: 3}\n",
       "            ).addTo(map_a667cb330c1724b9a646b56c822adf67);\n",
       "        \n",
       "    \n",
       "            map_a667cb330c1724b9a646b56c822adf67.fitBounds(\n",
       "                [[52.3970992, 5.0093863], [52.4136688, 5.0484437]],\n",
       "                {}\n",
       "            );\n",
       "        \n",
       "&lt;/script&gt;\" style=\"position:absolute;width:100%;height:100%;left:0;top:0;border:none !important;\" allowfullscreen webkitallowfullscreen mozallowfullscreen></iframe></div></div>"
      ],
      "text/plain": [
       "<folium.folium.Map at 0x1476d21a0>"
      ]
     },
     "metadata": {},
     "output_type": "display_data"
    }
   ],
   "source": [
    "route_map = ox.plot_route_folium(G_walk, longest)\n",
    "display(route_map)"
   ]
  },
  {
   "cell_type": "markdown",
   "metadata": {
    "id": "mBQlDYHLJY4r"
   },
   "source": [
    "# Dijkstra on steroids for road networks"
   ]
  },
  {
   "cell_type": "code",
   "execution_count": 22,
   "metadata": {
    "colab": {
     "base_uri": "https://localhost:8080/"
    },
    "executionInfo": {
     "elapsed": 2440,
     "status": "ok",
     "timestamp": 1641927488680,
     "user": {
      "displayName": "Joaquim Gromicho",
      "photoUrl": "https://lh3.googleusercontent.com/a/default-user=s64",
      "userId": "14375950305363805729"
     },
     "user_tz": -60
    },
    "id": "F1hkcDtxyU2n",
    "outputId": "e59bf0ac-8878-49c6-9081-f6ec2feceb4f"
   },
   "outputs": [
    {
     "ename": "ModuleNotFoundError",
     "evalue": "No module named 'pandana'",
     "output_type": "error",
     "traceback": [
      "\u001b[0;31m---------------------------------------------------------------------------\u001b[0m",
      "\u001b[0;31mModuleNotFoundError\u001b[0m                       Traceback (most recent call last)",
      "File \u001b[0;32m<timed exec>:1\u001b[0m\n",
      "\u001b[0;31mModuleNotFoundError\u001b[0m: No module named 'pandana'"
     ]
    }
   ],
   "source": [
    "%%time\n",
    "import pandana\n",
    "network = pandana.Network(nodes['x'], nodes['y'], edges['source'], edges['target'], edges[['length']],twoway=True)"
   ]
  },
  {
   "cell_type": "code",
   "execution_count": 23,
   "metadata": {
    "colab": {
     "base_uri": "https://localhost:8080/",
     "height": 206
    },
    "executionInfo": {
     "elapsed": 186,
     "status": "ok",
     "timestamp": 1641927490567,
     "user": {
      "displayName": "Joaquim Gromicho",
      "photoUrl": "https://lh3.googleusercontent.com/a/default-user=s64",
      "userId": "14375950305363805729"
     },
     "user_tz": -60
    },
    "id": "uDSZz6-mEn9V",
    "outputId": "339a0500-9dc6-46ac-9ae1-4fac817e8b56"
   },
   "outputs": [
    {
     "ename": "NameError",
     "evalue": "name 'network' is not defined",
     "output_type": "error",
     "traceback": [
      "\u001b[0;31m---------------------------------------------------------------------------\u001b[0m",
      "\u001b[0;31mNameError\u001b[0m                                 Traceback (most recent call last)",
      "Cell \u001b[0;32mIn [23], line 1\u001b[0m\n\u001b[0;32m----> 1\u001b[0m \u001b[43mnetwork\u001b[49m\u001b[38;5;241m.\u001b[39mnodes_df\u001b[38;5;241m.\u001b[39mhead()\n",
      "\u001b[0;31mNameError\u001b[0m: name 'network' is not defined"
     ]
    }
   ],
   "source": [
    "network.nodes_df.head()"
   ]
  },
  {
   "cell_type": "code",
   "execution_count": null,
   "metadata": {
    "colab": {
     "base_uri": "https://localhost:8080/",
     "height": 206
    },
    "executionInfo": {
     "elapsed": 183,
     "status": "ok",
     "timestamp": 1641927492506,
     "user": {
      "displayName": "Joaquim Gromicho",
      "photoUrl": "https://lh3.googleusercontent.com/a/default-user=s64",
      "userId": "14375950305363805729"
     },
     "user_tz": -60
    },
    "id": "2s9oN0d0zSEo",
    "outputId": "9f27307b-0c22-4a99-8c14-798869bd2549"
   },
   "outputs": [],
   "source": [
    "network.edges_df.head()"
   ]
  },
  {
   "cell_type": "code",
   "execution_count": null,
   "metadata": {
    "colab": {
     "base_uri": "https://localhost:8080/",
     "height": 267
    },
    "executionInfo": {
     "elapsed": 184,
     "status": "ok",
     "timestamp": 1641927494516,
     "user": {
      "displayName": "Joaquim Gromicho",
      "photoUrl": "https://lh3.googleusercontent.com/a/default-user=s64",
      "userId": "14375950305363805729"
     },
     "user_tz": -60
    },
    "id": "9WYP7SxSFEnT",
    "outputId": "b3e784f9-82c6-41cc-8dea-6e797303a506"
   },
   "outputs": [],
   "source": [
    "df['pandana'] = network.get_node_ids(df.lon, df.lat).values\n",
    "df"
   ]
  },
  {
   "cell_type": "code",
   "execution_count": null,
   "metadata": {
    "colab": {
     "base_uri": "https://localhost:8080/"
    },
    "executionInfo": {
     "elapsed": 184,
     "status": "ok",
     "timestamp": 1641927503370,
     "user": {
      "displayName": "Joaquim Gromicho",
      "photoUrl": "https://lh3.googleusercontent.com/a/default-user=s64",
      "userId": "14375950305363805729"
     },
     "user_tz": -60
    },
    "id": "9u7qzX-mCV1R",
    "outputId": "1ddd557f-3a00-48e5-eaa9-46e5791f5c57"
   },
   "outputs": [],
   "source": [
    "%time path_pandana = network.shortest_path(df.iloc[2].pandana, df.iloc[3].pandana)"
   ]
  },
  {
   "cell_type": "code",
   "execution_count": null,
   "metadata": {
    "colab": {
     "base_uri": "https://localhost:8080/"
    },
    "executionInfo": {
     "elapsed": 183,
     "status": "ok",
     "timestamp": 1641927504929,
     "user": {
      "displayName": "Joaquim Gromicho",
      "photoUrl": "https://lh3.googleusercontent.com/a/default-user=s64",
      "userId": "14375950305363805729"
     },
     "user_tz": -60
    },
    "id": "FWeq2BDGHEHf",
    "outputId": "21a43123-ba6b-426e-8b69-f073bbdf7598"
   },
   "outputs": [],
   "source": [
    "%time path_nx = nx.shortest_path(G_walk,df.iloc[2].osmnx,df.iloc[3].osmnx,weight='length')"
   ]
  },
  {
   "cell_type": "code",
   "execution_count": null,
   "metadata": {
    "colab": {
     "base_uri": "https://localhost:8080/"
    },
    "executionInfo": {
     "elapsed": 188,
     "status": "ok",
     "timestamp": 1641927506799,
     "user": {
      "displayName": "Joaquim Gromicho",
      "photoUrl": "https://lh3.googleusercontent.com/a/default-user=s64",
      "userId": "14375950305363805729"
     },
     "user_tz": -60
    },
    "id": "IieUfEQBHL7-",
    "outputId": "9bafeb02-21fa-4568-ac53-c23b0f4e182f"
   },
   "outputs": [],
   "source": [
    "A = set(path_pandana)\n",
    "B = set(path_nx)\n",
    "(A | B) - (A & B)"
   ]
  },
  {
   "cell_type": "code",
   "execution_count": null,
   "metadata": {
    "colab": {
     "base_uri": "https://localhost:8080/"
    },
    "executionInfo": {
     "elapsed": 163,
     "status": "ok",
     "timestamp": 1641927511062,
     "user": {
      "displayName": "Joaquim Gromicho",
      "photoUrl": "https://lh3.googleusercontent.com/a/default-user=s64",
      "userId": "14375950305363805729"
     },
     "user_tz": -60
    },
    "id": "a42yTMx-YX_C",
    "outputId": "a947eaf5-de86-4b9c-97a9-5762268f17ea"
   },
   "outputs": [],
   "source": [
    "origs = [o for o in df.pandana for d in df.pandana]\n",
    "dests = [d for o in df.pandana for d in df.pandana]\n",
    "%time distances = network.shortest_path_lengths(origs, dests)"
   ]
  },
  {
   "cell_type": "code",
   "execution_count": null,
   "metadata": {
    "colab": {
     "base_uri": "https://localhost:8080/",
     "height": 201
    },
    "executionInfo": {
     "elapsed": 161,
     "status": "error",
     "timestamp": 1649512437414,
     "user": {
      "displayName": "Jeffrey Kantor",
      "userId": "09038942003589296665"
     },
     "user_tz": 240
    },
    "id": "TXsxhV2HWpR3",
    "outputId": "a2288974-1dbd-481c-b303-c872d2c38fda"
   },
   "outputs": [],
   "source": [
    "import numpy as np \n",
    "\n",
    "n = len(df)\n",
    "pd.options.display.float_format = '{:.2f}'.format\n",
    "pd.DataFrame(np.array(list(distances)).reshape(n,n),index=df.address,columns=df.address)"
   ]
  },
  {
   "cell_type": "code",
   "execution_count": null,
   "metadata": {
    "executionInfo": {
     "elapsed": 6,
     "status": "aborted",
     "timestamp": 1649512437411,
     "user": {
      "displayName": "Jeffrey Kantor",
      "userId": "09038942003589296665"
     },
     "user_tz": 240
    },
    "id": "Tiu4Hy3PgkzR"
   },
   "outputs": [],
   "source": [
    "np.random.seed(2021)\n",
    "n = 500\n",
    "sample = np.random.choice(np.array(network.nodes_df.index.values.tolist()), n, replace=False)\n",
    "origs = [o for o in sample for d in sample]\n",
    "dests = [d for o in sample for d in sample]"
   ]
  },
  {
   "cell_type": "code",
   "execution_count": null,
   "metadata": {
    "executionInfo": {
     "elapsed": 6,
     "status": "aborted",
     "timestamp": 1649512437411,
     "user": {
      "displayName": "Jeffrey Kantor",
      "userId": "09038942003589296665"
     },
     "user_tz": 240
    },
    "id": "c7DtZR5j1b28"
   },
   "outputs": [],
   "source": [
    "%time distances = network.shortest_path_lengths(origs, dests)\n",
    "%time table = pd.DataFrame(np.array(list(distances)).reshape(n,n),index=sample,columns=sample)"
   ]
  },
  {
   "cell_type": "code",
   "execution_count": null,
   "metadata": {
    "executionInfo": {
     "elapsed": 7,
     "status": "aborted",
     "timestamp": 1649512437412,
     "user": {
      "displayName": "Jeffrey Kantor",
      "userId": "09038942003589296665"
     },
     "user_tz": 240
    },
    "id": "V0AxQ6HBIJ59"
   },
   "outputs": [],
   "source": [
    "departure = table.max(axis=1).idxmax()\n",
    "arrival = table.loc[departure].idxmax()\n",
    "%time path_pandana = network.shortest_path(departure, arrival)\n",
    "%time path_nx = nx.shortest_path(G_walk,departure,arrival,weight='length')\n",
    "A = set(path_pandana)\n",
    "B = set(path_nx)\n",
    "(A | B) - (A & B)"
   ]
  },
  {
   "cell_type": "code",
   "execution_count": null,
   "metadata": {
    "executionInfo": {
     "elapsed": 6,
     "status": "aborted",
     "timestamp": 1649512437412,
     "user": {
      "displayName": "Jeffrey Kantor",
      "userId": "09038942003589296665"
     },
     "user_tz": 240
    },
    "id": "7kwy3jNRzKEM"
   },
   "outputs": [],
   "source": [
    "%time paths = network.shortest_paths(origs,dests)"
   ]
  },
  {
   "cell_type": "code",
   "execution_count": null,
   "metadata": {
    "executionInfo": {
     "elapsed": 7,
     "status": "aborted",
     "timestamp": 1649512437413,
     "user": {
      "displayName": "Jeffrey Kantor",
      "userId": "09038942003589296665"
     },
     "user_tz": 240
    },
    "id": "KEd0VAmB5uRZ"
   },
   "outputs": [],
   "source": [
    "sum(map(len,paths))"
   ]
  },
  {
   "cell_type": "code",
   "execution_count": null,
   "metadata": {
    "executionInfo": {
     "elapsed": 7,
     "status": "aborted",
     "timestamp": 1649512437413,
     "user": {
      "displayName": "Jeffrey Kantor",
      "userId": "09038942003589296665"
     },
     "user_tz": 240
    },
    "id": "wF1tD_8-2WbS"
   },
   "outputs": [],
   "source": [
    "for u,v in zip(paths[1][:-1],paths[1][1:]):\n",
    "    print(G_walk.get_edge_data(u,v)[0].get('name',''))"
   ]
  },
  {
   "cell_type": "code",
   "execution_count": null,
   "metadata": {
    "executionInfo": {
     "elapsed": 8,
     "status": "aborted",
     "timestamp": 1649512437414,
     "user": {
      "displayName": "Jeffrey Kantor",
      "userId": "09038942003589296665"
     },
     "user_tz": 240
    },
    "id": "Yn_bweCP3TYr"
   },
   "outputs": [],
   "source": [
    "route_map = ox.plot_route_folium(G_walk, paths[1],color='red',map=Map)\n",
    "display(route_map)"
   ]
  }
 ],
 "metadata": {
  "colab": {
   "collapsed_sections": [],
   "name": "Copy of Shortest Path on road networks.ipynb",
   "provenance": [
    {
     "file_id": "https://github.com/jckantor/MO-book/blob/main/notebooks/04/shortest-path-on-road-networks.ipynb",
     "timestamp": 1649511000126
    }
   ]
  },
  "kernelspec": {
   "display_name": "Python 3 (ipykernel)",
   "language": "python",
   "name": "python3"
  },
  "language_info": {
   "codemirror_mode": {
    "name": "ipython",
    "version": 3
   },
   "file_extension": ".py",
   "mimetype": "text/x-python",
   "name": "python",
   "nbconvert_exporter": "python",
   "pygments_lexer": "ipython3",
   "version": "3.10.6"
  }
 },
 "nbformat": 4,
 "nbformat_minor": 4
}
