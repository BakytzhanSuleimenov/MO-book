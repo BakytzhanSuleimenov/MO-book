{
 "cells": [
  {
   "cell_type": "markdown",
   "metadata": {
    "id": "AVkGJGu-Ob6L"
   },
   "source": [
    "```{index} single: Pyomo; block\n",
    "```\n",
    "```{index} single: application; production planning\n",
    "```\n",
    "```{index} single: solver; cbc\n",
    "```\n",
    "```{index} single: Pyomo; persistent solvers\n",
    "```\n",
    "```{index} robust optimization\n",
    "```\n",
    "```{index} two-stage problem\n",
    "```\n",
    "\n",
    "# Robust Production Planning\n",
    "\n",
    "The purpose of this notebook is to demonstrate a range of techniques for robust optimization using a common example.\n",
    "\n",
    "* Robust Optimization\n",
    "* Constraint and Column Generation (Section 10.1)\n",
    "* Decision Rules\n",
    "* Stochastic Optimization\n",
    "* Progressive Hedging in Pyomo Overview: https://www.osti.gov/servlets/purl/1524963\n",
    "* PyROS solver"
   ]
  },
  {
   "cell_type": "markdown",
   "metadata": {},
   "source": [
    "## Bibliographic Notes\n",
    "\n",
    "> Li, C., & Grossmann, I. E. (2021). A review of stochastic programming methods for optimization of process systems under uncertainty. Frontiers in Chemical Engineering, 2, 622241. https://www.frontiersin.org/articles/10.3389/fceng.2020.622241/full\n",
    "\n",
    "> Wiebe, J., & Misener, R. (2022). ROmodel: modeling robust optimization problems in Pyomo. Optimization and Engineering, 23(4), 1873-1894. https://link.springer.com/article/10.1007/s11081-021-09703-2\n",
    "\n",
    "> Isenberg, N., Siirola, J., & Gounaris, C. (2020, November). Pyros: A pyomo robust optimization solver for robust process design. In 2020 Virtual AIChE Annual Meeting. AIChE. https://aiche.confex.com/aiche/2020/meetingapp.cgi/Paper/602399"
   ]
  },
  {
   "cell_type": "code",
   "execution_count": 1,
   "metadata": {
    "colab": {
     "base_uri": "https://localhost:8080/"
    },
    "execution": {
     "iopub.execute_input": "2023-01-18T17:08:58.647306Z",
     "iopub.status.busy": "2023-01-18T17:08:58.646685Z",
     "iopub.status.idle": "2023-01-18T17:08:58.894933Z",
     "shell.execute_reply": "2023-01-18T17:08:58.893840Z",
     "shell.execute_reply.started": "2023-01-18T17:08:58.647276Z"
    },
    "executionInfo": {
     "elapsed": 29660,
     "status": "ok",
     "timestamp": 1669503785335,
     "user": {
      "displayName": "Jeffrey Kantor",
      "userId": "09038942003589296665"
     },
     "user_tz": 300
    },
    "id": "4AYeavKO4ze7",
    "outputId": "ca2adb8b-b6cc-4a90-f2d8-e91e2718c4b1"
   },
   "outputs": [
    {
     "name": "stdout",
     "output_type": "stream",
     "text": [
      "pyomo was previously installed\n",
      "cbc was previously installed\n"
     ]
    },
    {
     "data": {
      "text/plain": [
       "True"
      ]
     },
     "execution_count": 1,
     "metadata": {},
     "output_type": "execute_result"
    }
   ],
   "source": [
    "# install Pyomo and solvers\n",
    "import requests\n",
    "import types\n",
    "\n",
    "url = \"https://raw.githubusercontent.com/mobook/MO-book/main/python/helper.py\"\n",
    "helper = types.ModuleType(\"helper\")\n",
    "exec(requests.get(url).content, helper.__dict__)\n",
    "\n",
    "helper.install_pyomo()\n",
    "helper.install_cbc()"
   ]
  },
  {
   "cell_type": "markdown",
   "metadata": {
    "id": "9QY1ZEaYR26f"
   },
   "source": [
    "## Multi-product factory (adapted from Chapter 3)\n",
    "\n",
    "A small startup company has announced the initial production of two models, $U$ and $V$, of a new product. Here is what they know about the production of $U$ and $V$:\n",
    "\n",
    "* Model $U$ is the higher priced version requiring 10 units of raw material. The labor requirement is estimated to be 1 hour of labor A and 2 hours of labor B. The $U$ model will sell for 270€ per unit.\n",
    "\n",
    "* Model $V$ requires 9 units of the same raw materials and is estimated to require 1 hour of labor A and 1 hour of labor B. Model $V$ sells for 210€ per unit with unlimited demand.\n",
    "\n",
    "* A pre-production  marketing campaign offers guaranteed delivery of model $U$ in return for a down payment. The number of units to be sold with a delivery guarantee is unknown, but will be limited to 20 units. Because of the higher price, the overall demand is limited so no more than 40 units will be produced.\n",
    "\n",
    "* The raw materials cost 10€ per unit. The raw materials have a long lead time and must be ordered now. Unused raw materials have no waste value. \n",
    "\n",
    "* Given current staffing, there are 80 hours of labor A available at a cost of 50€/hour, and 100 hours of labor B available at a cost of 40€/hour.\n",
    "\n",
    "* The company will not have not accurate knowledge of the labor required to produce each product until production starts. The estimated amount of labor A and labor B needed for each unit produced could be off by 20% and 40%, respectively. The uncertainty for labor A is independent of the uncertainty associated with labor B.\n",
    "\n",
    "The company COO must decide how much raw material to order now without complete information about labor needed to manufacture the models, or knowledge about the outcome of the pre-production marketing campaign. If the COO orders too much now then raw material will be left over and wasted. If the COO orders too little now then the manufacturing opportunity will be lost. In either case, the profit realized will be less than than the potential.\n",
    "\n",
    "Help the COO make the decision on how much raw material to order now."
   ]
  },
  {
   "cell_type": "markdown",
   "metadata": {
    "id": "5SAqtvFU6f0l",
    "tags": []
   },
   "source": [
    "## Model for nominal conditions\n",
    "\n",
    "To establish a baseline for this problem, we start with a simple model for operation under nominal conditions.\n",
    "\n",
    "$$\n",
    "\\begin{align*}\n",
    "\\max_{w, x, y \\geq 0} \\quad & - 10 w + 140 u + 120 v \\\\\n",
    "\\text{s.t.} \\quad &\n",
    "u \\geq 0 && \\text{(pre-production orders)}\\\\\n",
    "& u  \\leq 40 && \\text{(demand)}\\\\\n",
    "& u + v \\leq 80 && \\text{(labor A)}\\\\\n",
    "& 2 u +  v \\leq 100 && \\text{(labor B)}\\\\\n",
    "& -w + 10 u + 9 v  \\leq 0 && \\text{(raw materials)} \\\\\n",
    "\\end{align*}\n",
    "$$\n",
    "\n",
    "We can see that $w = 10 u + 9 v$ at an optimum, so that \n",
    "\n",
    "$$J = (40 - 50 z_A - 80 z_B)u + (30 - 50 z_A - 40 z_B)v$$\n",
    "\n"
   ]
  },
  {
   "cell_type": "code",
   "execution_count": 2,
   "metadata": {
    "colab": {
     "base_uri": "https://localhost:8080/"
    },
    "execution": {
     "iopub.execute_input": "2023-01-18T17:09:00.194188Z",
     "iopub.status.busy": "2023-01-18T17:09:00.193813Z",
     "iopub.status.idle": "2023-01-18T17:09:00.602825Z",
     "shell.execute_reply": "2023-01-18T17:09:00.601638Z",
     "shell.execute_reply.started": "2023-01-18T17:09:00.194159Z"
    },
    "executionInfo": {
     "elapsed": 175,
     "status": "ok",
     "timestamp": 1669503824698,
     "user": {
      "displayName": "Jeffrey Kantor",
      "userId": "09038942003589296665"
     },
     "user_tz": 300
    },
    "id": "vdaRPGcf2dv8",
    "outputId": "b5986073-3be9-461e-8bd7-501c001334b1"
   },
   "outputs": [
    {
     "name": "stdout",
     "output_type": "stream",
     "text": [
      "profit : Size=1, Index=None, Active=True\n",
      "    Key  : Active : Value\n",
      "    None :   True : 2600.0\n",
      "w : Size=1, Index=None\n",
      "    Key  : Lower : Value : Upper : Fixed : Stale : Domain\n",
      "    None :     0 : 740.0 :  None : False : False : NonNegativeReals\n",
      "u : Size=1, Index=None\n",
      "    Key  : Lower : Value : Upper : Fixed : Stale : Domain\n",
      "    None :     0 :  20.0 :    40 : False : False : NonNegativeReals\n",
      "v : Size=1, Index=None\n",
      "    Key  : Lower : Value : Upper : Fixed : Stale : Domain\n",
      "    None :     0 :  60.0 :  None : False : False : NonNegativeReals\n"
     ]
    }
   ],
   "source": [
    "import pyomo.environ as pyo\n",
    "\n",
    "m = pyo.ConcreteModel()\n",
    "\n",
    "m.w = pyo.Var(domain=pyo.NonNegativeReals)\n",
    "m.u = pyo.Var(domain=pyo.NonNegativeReals, bounds=(0, 40))\n",
    "m.v = pyo.Var(domain=pyo.NonNegativeReals)\n",
    "\n",
    "@m.Constraint()\n",
    "def labor_A(m):\n",
    "    return m.u + m.v <= 80\n",
    "\n",
    "@m.Constraint()\n",
    "def labor_B(m):\n",
    "    return 2*m.u + m.v <= 100\n",
    "\n",
    "@m.Constraint()\n",
    "def raw_materials(m):\n",
    "    return -m.w + 10*m.u + 9*m.v <= 0\n",
    "\n",
    "@m.Objective(sense=pyo.maximize)\n",
    "def profit(m):\n",
    "    return - 10*m.w + 140*m.u + 120*m.v\n",
    "\n",
    "solver = pyo.SolverFactory('cbc')\n",
    "solver.solve(m)\n",
    "\n",
    "m.profit.display()\n",
    "m.w.display()\n",
    "m.u.display()\n",
    "m.v.display()"
   ]
  },
  {
   "cell_type": "code",
   "execution_count": 3,
   "metadata": {
    "colab": {
     "base_uri": "https://localhost:8080/",
     "height": 380
    },
    "execution": {
     "iopub.execute_input": "2023-01-18T17:09:00.687980Z",
     "iopub.status.busy": "2023-01-18T17:09:00.687297Z",
     "iopub.status.idle": "2023-01-18T17:09:01.430672Z",
     "shell.execute_reply": "2023-01-18T17:09:01.429620Z",
     "shell.execute_reply.started": "2023-01-18T17:09:00.687946Z"
    },
    "executionInfo": {
     "elapsed": 378,
     "status": "ok",
     "timestamp": 1669503826541,
     "user": {
      "displayName": "Jeffrey Kantor",
      "userId": "09038942003589296665"
     },
     "user_tz": 300
    },
    "id": "FxY2eRnSQ7Hi",
    "outputId": "5ae403ca-f955-4b69-a8be-0edc50fd1be2"
   },
   "outputs": [
    {
     "data": {
      "text/plain": [
       "[<matplotlib.lines.Line2D at 0x11b874190>]"
      ]
     },
     "execution_count": 3,
     "metadata": {},
     "output_type": "execute_result"
    },
    {
     "data": {
      "image/png": "[encoded data removed]",
      "text/plain": [
       "<Figure size 1200x1200 with 1 Axes>"
      ]
     },
     "metadata": {},
     "output_type": "display_data"
    }
   ],
   "source": [
    "import matplotlib.pyplot as plt\n",
    "import numpy as np\n",
    "\n",
    "fig = plt.figure(figsize=(12, 12))\n",
    "ax = plt.subplot(211, xlabel=\"qty u\", ylabel=\"qty v\", \n",
    "                 aspect=1, xlim=(0, 80), ylim=(0, 80))\n",
    "\n",
    "u = np.linspace(0, 80)\n",
    "\n",
    "ax.plot(u, (80 - u), lw=2, label=\"labor A\")\n",
    "ax.plot(u, (100 - 2*u), lw=2, label=\"labor B\")\n",
    "ax.plot([40]*2, ax.get_ylim(), lw=2, label=\"demand\")\n",
    "\n",
    "ax.fill_between(u, (80 - u), 100, alpha=0.2)\n",
    "ax.fill_between(u, (100 - 2*u), 100, alpha=0.2)\n",
    "ax.fill_between([40, ax.get_xlim()[1]], [0]*2, [100]*2, alpha=0.2)\n",
    "\n",
    "ax.legend(loc=\"upper right\")\n",
    "\n",
    "for profit in [600*k for k in range(20)]:\n",
    "    ax.plot(u, (profit - 40*u)/30, 'r:', alpha=1, lw=0.5)\n",
    "\n",
    "ax.plot(m.u.value, m.v.value, 'r.', ms=20)"
   ]
  },
  {
   "cell_type": "markdown",
   "metadata": {},
   "source": [
    "## What is the worst-case?\n",
    "\n",
    "The problem outlines three sources of uncertainty:\n",
    "\n",
    "* $z_A$: Relative uncertainty in the amount of labor A required to produce each unit of product.\n",
    "* $z_B$: Relative uncertainty is the amount of labor B required to produce each unit of product.\n",
    "* $z_U$: Uncertainty in number initial orders for product $U$.\n",
    "\n",
    "where\n",
    "\n",
    "$$\\begin{align}\n",
    "|z_A| & \\leq 0.20 && \\pm\\text{20% uncertainty in Labor }A \\\\\n",
    "|z_B| & \\leq 0.40 && \\pm\\text{40% uncertainty in Labor }B \\\\\n",
    "z_U & \\leq 20 &&  \\text{uncertainty in initial orders for }U \\\\\n",
    "\\end{align}$$\n",
    "\n",
    "If production is not constrained, the unit profit for each device would be given by\n",
    "\n",
    "$$\n",
    "\\begin{align}\n",
    "P_U & = 270 - 50(1+z_A) - 80(1+z_B) - 100) \\\\\n",
    "& = 40 - 50 z_A - 80 z_B \\\\\n",
    "\\implies P_U & \\in [-2, 82] \\\\\n",
    "\\\\\n",
    "P_V & = 210 - 50(1+z_A) - 40(1+z_B) - 90) \\\\\n",
    "& = 30 - 50 z_A - 40 z_B \\\\\n",
    "\\implies P_V  & \\in [4, 56]\n",
    "\\end{align}\n",
    "$$\n",
    "\n",
    "The impact of uncertainty associated with initial orders, $z_U$, depends on $z_A$, $z_B$, and the sensitivity of the optimal profit to the incremental production of $U$ and $V$ under constraints makes is difficult to determine, *apriori*, the worst-case operating conditions."
   ]
  },
  {
   "cell_type": "code",
   "execution_count": 4,
   "metadata": {
    "execution": {
     "iopub.execute_input": "2023-01-18T17:09:01.962917Z",
     "iopub.status.busy": "2023-01-18T17:09:01.962083Z",
     "iopub.status.idle": "2023-01-18T17:09:02.045607Z",
     "shell.execute_reply": "2023-01-18T17:09:02.044776Z",
     "shell.execute_reply.started": "2023-01-18T17:09:01.962886Z"
    }
   },
   "outputs": [
    {
     "data": {
      "application/vnd.jupyter.widget-view+json": {
       "model_id": "3d7dc2e5d2df4c4abb56bf6ee8fba235",
       "version_major": 2,
       "version_minor": 0
      },
      "text/plain": [
       "FloatSlider(value=0.0, description='z_A', max=0.15, readout_format='0.3f', step=0.001)"
      ]
     },
     "metadata": {},
     "output_type": "display_data"
    }
   ],
   "source": [
    "import ipywidgets as widgets\n",
    "\n",
    "widgets.FloatSlider(value=0.0, min=0.0, max=0.15, step=0.001, description=\"z_A\", readout_format=\"0.3f\")"
   ]
  },
  {
   "cell_type": "markdown",
   "metadata": {},
   "source": [
    "Next we formulate the robust optimization problem where the objective is to maximize the worst case profit subject to constraints and uncertainty. \n",
    "\n",
    "$$\\begin{align}\n",
    "\\max \\quad & -10 w + \\tau \\\\\n",
    "\\text{s.t.}\\quad \n",
    "& (140 - 50z_A - 80z_B) u + (120 - 50z_A - 40z_B) v \\geq  \\tau && \\text{(worst-case profit)} \\\\\n",
    "& u \\geq z_U && \\text{(pre-production orders)} \\\\\n",
    "& u \\leq 40(1 + z_D) && \\text{(demand)}\\\\\n",
    "& (1 + z_A) u + (1 + z_B) v \\leq 80 && \\text{(labor A)} \\\\\n",
    "& 2 (1 + z_A) u + (1 + z_B) v \\leq 100 && \\text{(labor B)} \\\\\n",
    "& -w + 10 u + 9 v \\leq 0 && \\text{(raw materials)} \\\\\n",
    "\\end{align}$$"
   ]
  },
  {
   "cell_type": "code",
   "execution_count": 5,
   "metadata": {
    "execution": {
     "iopub.execute_input": "2023-01-18T17:09:14.779585Z",
     "iopub.status.busy": "2023-01-18T17:09:14.778990Z",
     "iopub.status.idle": "2023-01-18T17:09:15.097212Z",
     "shell.execute_reply": "2023-01-18T17:09:15.095689Z",
     "shell.execute_reply.started": "2023-01-18T17:09:14.779555Z"
    }
   },
   "outputs": [
    {
     "data": {
      "text/plain": [
       "[<matplotlib.lines.Line2D at 0x11bab7f10>]"
      ]
     },
     "execution_count": 5,
     "metadata": {},
     "output_type": "execute_result"
    },
    {
     "data": {
      "image/png": "[encoded data removed]",
      "text/plain": [
       "<Figure size 1200x1200 with 1 Axes>"
      ]
     },
     "metadata": {},
     "output_type": "display_data"
    }
   ],
   "source": [
    "import matplotlib.pyplot as plt\n",
    "import numpy as np\n",
    "\n",
    "z_A = 0.15\n",
    "z_B = 0.25\n",
    "z_D = 0.5\n",
    "\n",
    "fig = plt.figure(figsize=(12, 12))\n",
    "ax = plt.subplot(211, xlabel=\"qty U\", ylabel=\"qty V\", \n",
    "                 aspect=1, xlim=(0, 80), ylim=(0, 80))\n",
    "\n",
    "u = np.linspace(0, 80)\n",
    "\n",
    "ax.plot(u, (80 - u*(1 + z_B))/(1 + z_B), lw=2, label=\"labor A\")\n",
    "ax.plot(u, (100 - 2*u*(1 + z_B))/(1 + z_B), lw=2, label=\"labor B\")\n",
    "ax.plot([40*(1 + z_D)]*2, ax.get_ylim(), lw=2, label=\"demand\")\n",
    "\n",
    "ax.fill_between(u, (80 - u*(1 + z_B))/(1 + z_B), 100, alpha=0.2)\n",
    "ax.fill_between(u, (100 - 2*u*(1 + z_B))/(1 + z_B), 100, alpha=0.2)\n",
    "ax.fill_between([40*(1 + z_D), ax.get_xlim()[1]], [0]*2, [100]*2, alpha=0.2)\n",
    "\n",
    "ax.plot(0, 0, 'r:', alpha=1, lw=1, label=\"profit (w = 10u + 9v)\")\n",
    "ax.legend(loc=\"upper right\")\n",
    "\n",
    "for profit in [600*k for k in range(20)]:\n",
    "    ax.plot(u, (profit - 40*u)/30, 'r:', alpha=1, lw=0.5)\n",
    "\n",
    "ax.plot(m.u.value, m.v.value, 'r.', ms=20)"
   ]
  },
  {
   "cell_type": "markdown",
   "metadata": {
    "id": "T1PdLJo3EGv5"
   },
   "source": [
    "## Two-stage robust optimization (cf. Section 10.1)\n",
    "\n",
    "Next we formulate the robust optimization problem where the objective is to maximize the worst case profit subject to constraints and uncertainty. \n",
    "\n",
    "$$\\begin{align}\n",
    "\\max \\quad & -10 w + \\tau \\\\\n",
    "\\text{s.t.}\\quad & (140 - 50z_A - 80z_B) u + (120 - 50z_A - 40z_B) v \\geq  \\tau && \\text{(worst-case profit)} \\\\\n",
    "& u \\leq 40(1 + z_D) && \\text{(demand)}\\\\\n",
    "& (1 + z_A) u + (1 + z_B) v \\leq 80 && \\text{(labor A)} \\\\\n",
    "& 2 (1 + z_A) u + (1 + z_B) v \\leq 100 && \\text{(labor B)} \\\\\n",
    "& -w + 10 u + 9 v \\leq 0 && \\text{(raw materials)} \\\\\n",
    "\\end{align}$$\n",
    "\n",
    "where\n",
    "\n",
    "$$\\begin{align}\n",
    "|z_A| & \\leq 0.15 && \\pm\\text{15% uncertainty in Labor }A \\\\\n",
    "|z_B| & \\leq 0.25 && \\pm\\text{25% uncertainty in Labor }B \\\\\n",
    "|z_D| & \\leq 0.50 && \\pm\\text{50% uncertainty in demand } \\\\\n",
    "\\end{align}$$\n",
    "\n",
    "This is a system in the form\n",
    "\n",
    "$$\\begin{align}\n",
    "\\max\\limits_{x, y, \\tau} \\quad & c^\\top x + \\tau \\\\\n",
    "\\text{s.t.} \\quad & q(z)^\\top y \\geq \\tau \\\\\n",
    "& C (z) x + D(z) y \\leq e(z)\n",
    "\\end{align}$$\n",
    "\n",
    "where $x$, $y$, and $z$ are the first-stage, second-stage, and uncertainty variables, respectively. Note t\n",
    "\n",
    "$$\n",
    "x = \\begin{pmatrix} w \\end{pmatrix}\n",
    "\\quad\n",
    "y = \\begin{pmatrix} u \\\\ v \\end{pmatrix}\n",
    "\\quad\n",
    "z = \\begin{pmatrix} z_A \\\\ z_B \\\\ z_D \\end{pmatrix}\n",
    "$$\n",
    "\n",
    "Then defining\n",
    "\n",
    "$$\n",
    "c = \\begin{pmatrix} -10 \\end{pmatrix}\n",
    "$$\n",
    "\n",
    "$$\n",
    "q(z) = \\begin{pmatrix} 140 - 50z_A - 80z_B \\\\ 120 - 50z_A - 40z_B \\end{pmatrix} \\\\\n",
    "$$\n",
    "\n",
    "$$\n",
    "C(z)  = \\begin{pmatrix} 0 \\\\ 0 \\\\ 0 \\\\ -1 \\end{pmatrix} \n",
    "\\quad\n",
    "D(z) = \\begin{pmatrix} 1 & 0 \\\\ 1+z_A & 1 + z_A \\\\ 2(1+z_B) & 1 + z_B \\\\ 10 & 9 \\end{pmatrix}\n",
    "\\quad\n",
    "e(z) = \\begin{pmatrix} 40(1+z_D) \\\\ 80 \\\\ 100 \\\\ 0 \\end{pmatrix} \\\\\n",
    "$$\n",
    "\n",
    "The following cell is a function that evaluates the system matrix coefficients for a particular $z\\in Z$ and returns numerical values indexed in nested dictionaries.\n"
   ]
  },
  {
   "cell_type": "code",
   "execution_count": 6,
   "metadata": {
    "execution": {
     "iopub.execute_input": "2023-01-18T17:09:19.461646Z",
     "iopub.status.busy": "2023-01-18T17:09:19.460811Z",
     "iopub.status.idle": "2023-01-18T17:09:19.469727Z",
     "shell.execute_reply": "2023-01-18T17:09:19.468821Z",
     "shell.execute_reply.started": "2023-01-18T17:09:19.461614Z"
    }
   },
   "outputs": [
    {
     "name": "stdout",
     "output_type": "stream",
     "text": [
      "c = {'w': -10}\n",
      "q = {'u': 140, 'v': 120}\n",
      "C = {'demand': {'w': 0}, 'labor A': {'w': 0}, 'labor B': {'w': 0}, 'raw materials': {'w': -1}}\n",
      "D = {'demand': {'u': 1, 'v': 0}, 'labor A': {'u': 1, 'v': 1}, 'labor B': {'u': 2, 'v': 1}, 'raw materials': {'u': 10, 'v': 9}}\n",
      "e = {'demand': 40, 'labor A': 80, 'labor B': 100, 'raw materials': 0}\n"
     ]
    }
   ],
   "source": [
    "# function to return c, q, C, D, e evaluated for a scenario\n",
    "\n",
    "def model_params(z_A=0, z_B=0, z_D=0):\n",
    "    \n",
    "    c = {\"w\": -10}\n",
    "\n",
    "    q = {\"u\": 140 - 50*z_A - 80*z_B,\n",
    "         \"v\": 120 - 50*z_A - 40*z_B}\n",
    "\n",
    "    C = {\"demand\" : {\"w\": 0},\n",
    "         \"labor A\": {\"w\": 0},\n",
    "         \"labor B\": {\"w\": 0},\n",
    "         \"raw materials\": {\"w\": -1}}\n",
    "\n",
    "    D = {\"demand\": {\"u\": 1, \"v\": 0},\n",
    "         \"labor A\": {\"u\": 1, \"v\": 1 + z_A},\n",
    "         \"labor B\": {\"u\": 2 + 2 * z_B, \"v\": 1 + z_B},\n",
    "         \"raw materials\": {\"u\": 10, \"v\": 9}}\n",
    "\n",
    "    e = { \"demand\": 40 * (1 + z_D),\n",
    "          \"labor A\": 80,\n",
    "          \"labor B\": 100,\n",
    "          \"raw materials\": 0}\n",
    "\n",
    "    return c, q, C, D, e\n",
    "\n",
    "c, q, C, D, e = model_params()\n",
    "\n",
    "print(f\"c = {c}\")\n",
    "print(f\"q = {q}\")\n",
    "print(f\"C = {C}\")\n",
    "print(f\"D = {D}\")\n",
    "print(f\"e = {e}\")"
   ]
  },
  {
   "cell_type": "markdown",
   "metadata": {},
   "source": [
    "The next cell creates a Pyomo model to maximize the worst case profit for a set of scenarios."
   ]
  },
  {
   "cell_type": "code",
   "execution_count": 7,
   "metadata": {
    "execution": {
     "iopub.execute_input": "2023-01-18T17:09:21.646401Z",
     "iopub.status.busy": "2023-01-18T17:09:21.645537Z",
     "iopub.status.idle": "2023-01-18T17:09:21.714611Z",
     "shell.execute_reply": "2023-01-18T17:09:21.713458Z",
     "shell.execute_reply.started": "2023-01-18T17:09:21.646370Z"
    }
   },
   "outputs": [
    {
     "name": "stdout",
     "output_type": "stream",
     "text": [
      "min_profit : Size=1, Index=None, Active=True\n",
      "    Key  : Active : Value\n",
      "    None :   True : 2600.0\n",
      "x : Size=1, Index=x_index\n",
      "    Key : Lower : Value : Upper : Fixed : Stale : Domain\n",
      "      w :     0 : 740.0 :  None : False : False : NonNegativeReals\n",
      "   0: 2600.0\n"
     ]
    }
   ],
   "source": [
    "import pyomo.environ as pyo\n",
    "import numpy as np\n",
    "\n",
    "def max_min_profit(model_params, Z):\n",
    "    \n",
    "    m = pyo.ConcreteModel()\n",
    "\n",
    "    # first stage variables\n",
    "    c, *_ = model_params()\n",
    "    m.x = pyo.Var(c.keys(), domain=pyo.NonNegativeReals)\n",
    "    m.t = pyo.Var()\n",
    "    \n",
    "    m.SCENARIOS = pyo.Set(initialize=range(len(Z)))\n",
    "    \n",
    "    @m.Block(m.SCENARIOS)\n",
    "    def scenario(b, s):\n",
    "\n",
    "        # get model parameters for the scenario\n",
    "        c, q, C, D, e = model_params(**Z[s])\n",
    "        \n",
    "        # second stage variables\n",
    "        b.y = pyo.Var(q.keys(), domain=pyo.NonNegativeReals)\n",
    "        \n",
    "        # profit for each scenaario\n",
    "        @b.Expression()\n",
    "        def profit(b, s):\n",
    "            return sum(c[i] * b.model().x[i] for i in c.keys()) + sum(q[j] * b.y[j] for j in q.keys())\n",
    "\n",
    "        @b.Constraint()\n",
    "        def stage_net_profit(b):\n",
    "            return sum(q[j] * b.y[j] for j in q.keys()) >= b.model().t\n",
    "\n",
    "        @b.Constraint(D.keys())\n",
    "        def model_constraints(b, k):\n",
    "            return  sum(C[k][i]*b.model().x[i] for i in c.keys()) + sum(D[k][j]*b.y[j] for j in q.keys()) <= e[k]\n",
    "    \n",
    "    # worst case profit\n",
    "    @m.Objective(sense=pyo.maximize)\n",
    "    def min_profit(m):\n",
    "        return sum(c[i] * m.x[i] for i in c.keys()) + m.t\n",
    "    \n",
    "    solver = pyo.SolverFactory('cbc')\n",
    "    solver.solve(m)\n",
    "    return m\n",
    "\n",
    "m = max_min_profit(model_params, [{\"z_A\": 0, \"z_B\":0, \"z_D\": 0}])\n",
    "m.min_profit.display()\n",
    "m.x.display()\n",
    "\n",
    "for s in m.SCENARIOS:\n",
    "    print(f\"{s:4d}: {m.scenario[s].profit.expr()}\")\n",
    "    "
   ]
  },
  {
   "cell_type": "markdown",
   "metadata": {},
   "source": [
    "## Random Scenarios"
   ]
  },
  {
   "cell_type": "markdown",
   "metadata": {
    "id": "S7es9QiyN2Bj"
   },
   "source": [
    "\n",
    "$$\n",
    "\\begin{align}\n",
    "\\max\\limits_{x, y^1, \\ldots, j^k, \\tau} \\quad & c^\\top x + \\tau \\\\\n",
    "\\text{s.t.} \\quad & q(z^j)^\\top y^j \\geq \\tau, && j = 1, \\ldots, k \\\\\n",
    "& C (z^j) x + D(z^j) y^j \\leq e(z^j)  &&  j = 1, \\ldots, k\n",
    "\\end{align}\n",
    "$$\n"
   ]
  },
  {
   "cell_type": "code",
   "execution_count": 8,
   "metadata": {
    "execution": {
     "iopub.execute_input": "2023-01-18T17:09:24.488483Z",
     "iopub.status.busy": "2023-01-18T17:09:24.488016Z",
     "iopub.status.idle": "2023-01-18T17:09:24.503551Z",
     "shell.execute_reply": "2023-01-18T17:09:24.502493Z",
     "shell.execute_reply.started": "2023-01-18T17:09:24.488443Z"
    }
   },
   "outputs": [],
   "source": [
    "k =1000\n",
    "\n",
    "Z = [{\"z_A\": 0.15*np.random.uniform(-1, 1),\n",
    "      \"z_B\": 0.25*np.random.uniform(-1, 1),\n",
    "      \"z_D\": 0.5*np.random.uniform(-1, 1)} for j in range(k)]"
   ]
  },
  {
   "cell_type": "code",
   "execution_count": 9,
   "metadata": {
    "execution": {
     "iopub.execute_input": "2023-01-18T17:09:25.133537Z",
     "iopub.status.busy": "2023-01-18T17:09:25.133177Z",
     "iopub.status.idle": "2023-01-18T17:09:26.324103Z",
     "shell.execute_reply": "2023-01-18T17:09:26.322969Z",
     "shell.execute_reply.started": "2023-01-18T17:09:25.133509Z"
    }
   },
   "outputs": [
    {
     "name": "stdout",
     "output_type": "stream",
     "text": [
      "min_profit : Size=1, Index=None, Active=True\n",
      "    Key  : Active : Value\n",
      "    None :   True : 973.1867000000002\n",
      "x : Size=1, Index=x_index\n",
      "    Key : Lower : Value     : Upper : Fixed : Stale : Domain\n",
      "      w :     0 : 651.62636 :  None : False : False : NonNegativeReals\n"
     ]
    }
   ],
   "source": [
    "m = max_min_profit(model_params, Z)\n",
    "m.min_profit.display()\n",
    "m.x.display()"
   ]
  },
  {
   "cell_type": "code",
   "execution_count": 12,
   "metadata": {
    "execution": {
     "iopub.execute_input": "2023-01-18T17:09:37.902229Z",
     "iopub.status.busy": "2023-01-18T17:09:37.901848Z",
     "iopub.status.idle": "2023-01-18T17:09:39.329431Z",
     "shell.execute_reply": "2023-01-18T17:09:39.328678Z",
     "shell.execute_reply.started": "2023-01-18T17:09:37.902199Z"
    },
    "tags": []
   },
   "outputs": [
    {
     "data": {
      "image/png": "[encoded data removed]",
      "text/plain": [
       "<Figure size 800x400 with 2 Axes>"
      ]
     },
     "metadata": {},
     "output_type": "display_data"
    }
   ],
   "source": [
    "fig = plt.figure(figsize=(8, 4))\n",
    "\n",
    "ax = plt.subplot(121, aspect=1, xlabel=\"Qty U\", ylabel=\"Qty V\", xlim=(0, 80), ylim=(0, 80))\n",
    "for s in m.SCENARIOS:\n",
    "    ax.plot(m.scenario[s].y[\"u\"].value, m.scenario[s].y[\"v\"].value, 'k.', alpha=0.1)\n",
    "    \n",
    "ax = plt.subplot(122)\n",
    "ax.hist([m.scenario[s].profit.expr() for s in m.SCENARIOS]);"
   ]
  },
  {
   "cell_type": "markdown",
   "metadata": {},
   "source": [
    "## Comparing solution for expected profit to maximum worst-case profit\n",
    "\n",
    "Assuming equiprobable scenarios, let $r_j$ be the net revenue from the the $j^{th}$ scenario.\n",
    "\n",
    "$$\n",
    "\\begin{align}\n",
    "\\max\\limits_{x, y^1, \\ldots, j^k, \\tau} \\quad & c^\\top x + \\frac{1}{k}\\sum_{j=1}^k r_j \\\\\n",
    "\\text{s.t.} \\quad & q(z^j)^\\top y^j = r_j && j = 1, \\ldots, k \\\\\n",
    "& C (z^j) x + D(z^j) y^j \\leq e(z^j)  &&  j = 1, \\ldots, k\n",
    "\\end{align}\n",
    "$$\n"
   ]
  },
  {
   "cell_type": "code",
   "execution_count": 13,
   "metadata": {
    "execution": {
     "iopub.execute_input": "2023-01-18T17:09:45.599494Z",
     "iopub.status.busy": "2023-01-18T17:09:45.598904Z",
     "iopub.status.idle": "2023-01-18T17:09:45.667756Z",
     "shell.execute_reply": "2023-01-18T17:09:45.666737Z",
     "shell.execute_reply.started": "2023-01-18T17:09:45.599465Z"
    }
   },
   "outputs": [
    {
     "name": "stdout",
     "output_type": "stream",
     "text": [
      "min_profit : Size=1, Index=None, Active=True\n",
      "    Key  : Active : Value\n",
      "    None :   True : 2600.0\n"
     ]
    }
   ],
   "source": [
    "import pyomo.environ as pyo\n",
    "import numpy as np\n",
    "\n",
    "def expected_profit(model_params, Z):\n",
    "    \n",
    "    m = pyo.ConcreteModel()\n",
    "    \n",
    "    # first stage variables\n",
    "    c, *_ = model_params()\n",
    "    m.x = pyo.Var(c.keys(), domain=pyo.NonNegativeReals)\n",
    "\n",
    "    m.SCENARIOS = pyo.Set(initialize=range(len(Z)))\n",
    "    \n",
    "    @m.Block(m.SCENARIOS)\n",
    "    def scenario(b, s):\n",
    "\n",
    "        # get model parameters\n",
    "        c, q, C, D, e = model_params(**Z[s])\n",
    "        \n",
    "        # second stage variables and constraints\n",
    "        b.y = pyo.Var(q.keys(), domain=pyo.NonNegativeReals)\n",
    "        b.r = pyo.Var()\n",
    "        \n",
    "        @b.Constraint()\n",
    "        def profit(b):\n",
    "            return sum(q[j] * b.y[j] for j in q.keys()) == b.r\n",
    "\n",
    "        @b.Constraint(D.keys())\n",
    "        def stage_two(b, k):\n",
    "            return  sum(C[k][i]*b.model().x[i] for i in c.keys()) + sum(D[k][j]*b.y[j] for j in q.keys()) <= e[k]\n",
    "                   \n",
    "    @m.Expression(m.SCENARIOS)\n",
    "    def profit(m, s):\n",
    "        return sum(c[i] * m.x[i] for i in c.keys()) + m.scenario[s].r\n",
    "    \n",
    "    @m.Objective(sense=pyo.maximize)\n",
    "    def expected_profit(m):\n",
    "        return sum(m.profit[s] for s in m.SCENARIOS) / len(m.SCENARIOS)\n",
    "\n",
    "    solver = pyo.SolverFactory('cbc')\n",
    "    solver.solve(m)\n",
    "    return m\n",
    "\n",
    "m = max_min_profit(model_params, [{\"z_A\": 0, \"z_B\":0, \"z_D\": 0}])\n",
    "m.min_profit.display()"
   ]
  },
  {
   "cell_type": "code",
   "execution_count": 15,
   "metadata": {
    "execution": {
     "iopub.execute_input": "2023-01-18T17:09:56.330216Z",
     "iopub.status.busy": "2023-01-18T17:09:56.329496Z",
     "iopub.status.idle": "2023-01-18T17:09:57.562225Z",
     "shell.execute_reply": "2023-01-18T17:09:57.561079Z",
     "shell.execute_reply.started": "2023-01-18T17:09:56.330173Z"
    },
    "tags": []
   },
   "outputs": [
    {
     "name": "stdout",
     "output_type": "stream",
     "text": [
      "expected_profit : Size=1, Index=None, Active=True\n",
      "    Key  : Active : Value\n",
      "    None :   True : 2560.333236499997\n",
      "x : Size=1, Index=x_index\n",
      "    Key : Lower : Value     : Upper : Fixed : Stale : Domain\n",
      "      w :     0 : 710.52446 :  None : False : False : NonNegativeReals\n"
     ]
    }
   ],
   "source": [
    "m = expected_profit(model_params, Z)\n",
    "m.expected_profit.display()\n",
    "m.x.display()"
   ]
  },
  {
   "cell_type": "code",
   "execution_count": 23,
   "metadata": {
    "execution": {
     "iopub.execute_input": "2023-01-18T17:13:04.355630Z",
     "iopub.status.busy": "2023-01-18T17:13:04.354880Z",
     "iopub.status.idle": "2023-01-18T17:13:05.799898Z",
     "shell.execute_reply": "2023-01-18T17:13:05.798925Z",
     "shell.execute_reply.started": "2023-01-18T17:13:04.355594Z"
    },
    "tags": []
   },
   "outputs": [
    {
     "data": {
      "image/png": "[encoded data removed]",
      "text/plain": [
       "<Figure size 800x400 with 2 Axes>"
      ]
     },
     "metadata": {},
     "output_type": "display_data"
    }
   ],
   "source": [
    "fig = plt.figure(figsize=(8, 4))\n",
    "\n",
    "ax = plt.subplot(121, aspect=1, xlabel=\"Qty U\", ylabel=\"Qty V\", xlim=(0, 80), ylim=(0, 80))\n",
    "for s in m.SCENARIOS:\n",
    "    # print(m.scenario[s].y[\"u\"].value)\n",
    "    ax.plot(m.scenario[s].y[\"u\"].value, m.scenario[s].y[\"v\"].value, 'k.', alpha=0.1)\n",
    "    \n",
    "ax = plt.subplot(122)\n",
    "ax.hist([m.profit[s].expr() for s in m.SCENARIOS], bins=30);"
   ]
  },
  {
   "cell_type": "code",
   "execution_count": 26,
   "metadata": {
    "execution": {
     "iopub.execute_input": "2023-01-18T17:13:41.605382Z",
     "iopub.status.busy": "2023-01-18T17:13:41.604964Z",
     "iopub.status.idle": "2023-01-18T17:13:41.619514Z",
     "shell.execute_reply": "2023-01-18T17:13:41.618584Z",
     "shell.execute_reply.started": "2023-01-18T17:13:41.605352Z"
    },
    "tags": []
   },
   "outputs": [],
   "source": [
    "c, q, C, D, e = model_params()\n",
    "\n",
    "Y = [{j: m.scenario[s].y[j].value for j in q.keys()} for s in m.SCENARIOS]"
   ]
  },
  {
   "cell_type": "markdown",
   "metadata": {},
   "source": [
    "## Deprecated"
   ]
  },
  {
   "cell_type": "code",
   "execution_count": 249,
   "metadata": {},
   "outputs": [
    {
     "name": "stdout",
     "output_type": "stream",
     "text": [
      "min_profit : Size=1, Index=None, Active=True\n",
      "    Key  : Active : Value\n",
      "    None :   True : -2600.0\n",
      "x : Size=1, Index=I\n",
      "    Key : Lower : Value : Upper : Fixed : Stale : Domain\n",
      "      w :     0 : 740.0 :  None : False : False : NonNegativeReals\n"
     ]
    }
   ],
   "source": [
    "import pyomo.environ as pyo\n",
    "import numpy as np\n",
    "\n",
    "def produce(scenarios=[{\"z_A\": 0, \"z_B\":0, \"z_D\": 0}]):\n",
    "\n",
    "    m = pyo.ConcreteModel()\n",
    "\n",
    "    # first stage variables\n",
    "    m.I = pyo.Set(initialize=[\"w\"])\n",
    "    m.x = pyo.Var(m.I, domain=pyo.NonNegativeReals)\n",
    "    m.t = pyo.Var()\n",
    "\n",
    "    # first stage objective\n",
    "    m.c = pyo.Param(m.I, initialize={\"w\": 10})\n",
    "\n",
    "    @m.Objective()\n",
    "    def min_profit(m):\n",
    "        return sum(m.c[i] * m.x[i] for i in m.I) + m.t\n",
    "    \n",
    "    # second stage variables and constraints\n",
    "    m.scenarios = pyo.Param(range(len(scenarios)), domain=pyo.Any, initialize=scenarios)\n",
    "\n",
    "    @m.Block(m.scenarios_index)\n",
    "    def scenario(b, s):\n",
    "        \n",
    "        b.z_A = b.model().scenarios[s][\"z_A\"]\n",
    "        b.z_B = b.model().scenarios[s][\"z_B\"]\n",
    "        b.z_D = b.model().scenarios[s][\"z_D\"]\n",
    "\n",
    "        b.J = pyo.Set(initialize=[\"U\", \"V\"])\n",
    "        b.K = pyo.Set(initialize=[\"demand\", \"labor A\", \"labor B\", \"raw materials\"])\n",
    "\n",
    "        b.q = pyo.Param(b.J, initialize={\n",
    "            \"U\": -140 + 50*b.z_A + 80*b.z_B,\n",
    "            \"V\": -120 + 50*b.z_A + 40*b.z_B\n",
    "        })\n",
    "\n",
    "        b.C = pyo.Param(b.K, b.model().I, initialize={\n",
    "            (\"demand\", \"w\"): 0, \n",
    "            (\"labor A\", \"w\"): 0, \n",
    "            (\"labor B\", \"w\"): 0, \n",
    "            (\"raw materials\", \"w\"): -1\n",
    "        })\n",
    "\n",
    "        b.D = pyo.Param(b.K, b.J, initialize={\n",
    "            (\"demand\", \"U\"): 1, \n",
    "            (\"demand\", \"V\"): 0,\n",
    "            (\"labor A\", \"U\"): 1, \n",
    "            (\"labor A\", \"V\"): 1 + b.z_A,\n",
    "            (\"labor B\", \"U\"): 2 + 2 * b.z_B, \n",
    "            (\"labor B\", \"V\"): 1 + b.z_B,\n",
    "            (\"raw materials\", \"U\"): 10, \n",
    "            (\"raw materials\", \"V\"): 9\n",
    "        })\n",
    "\n",
    "        b.e = pyo.Param(b.K, initialize={\n",
    "            \"demand\": 40 * (1 + b.z_D),\n",
    "            \"labor A\": 80,\n",
    "            \"labor B\": 100,\n",
    "            \"raw materials\": 0\n",
    "        })\n",
    "\n",
    "        b.y = pyo.Var(b.J, domain=pyo.NonNegativeReals)\n",
    "\n",
    "        @b.Constraint()\n",
    "        def profit(b):\n",
    "            return sum(b.q[j] * b.y[j] for j in b.J) <= b.model().t\n",
    "\n",
    "        @b.Constraint(b.K)\n",
    "        def stage_two(b, k):\n",
    "            Cx = sum(b.C[k, i] * b.model().x[i] for i in b.model().I)\n",
    "            Dy = sum(b.D[k, j] * b.y[j] for j in b.J)\n",
    "            return  Cx + Dy <= b.e[k]\n",
    "\n",
    "    solver = pyo.SolverFactory('cbc')\n",
    "    solver.solve(m)\n",
    "\n",
    "    m.min_profit.display()\n",
    "    m.x.display()\n",
    "    \n",
    "\n",
    "produce()"
   ]
  },
  {
   "cell_type": "code",
   "execution_count": 98,
   "metadata": {
    "colab": {
     "base_uri": "https://localhost:8080/"
    },
    "executionInfo": {
     "elapsed": 234,
     "status": "ok",
     "timestamp": 1669521938786,
     "user": {
      "displayName": "Jeffrey Kantor",
      "userId": "09038942003589296665"
     },
     "user_tz": 300
    },
    "id": "wHWfpVFuOf5j",
    "outputId": "a2543923-50d9-4984-d03b-cd74f82fe2ca"
   },
   "outputs": [
    {
     "name": "stdout",
     "output_type": "stream",
     "text": [
      "min_profit : Size=1, Index=None, Active=True\n",
      "    Key  : Active : Value\n",
      "    None :   True : -2600.0\n",
      "w : Size=1, Index=None\n",
      "    Key  : Lower : Value : Upper : Fixed : Stale : Domain\n",
      "    None :     0 : 740.0 :  None : False : False : NonNegativeReals\n"
     ]
    }
   ],
   "source": [
    "import pyomo.environ as pyo\n",
    "import numpy as np\n",
    "\n",
    "m = pyo.ConcreteModel()\n",
    "\n",
    "m.SCENARIOS = pyo.RangeSet(1)\n",
    "\n",
    "m.X = pyo.Set(initialize=[\"raw materials\", \"tau\"])\n",
    "m.Y = pyo.Set(initialize=[\"U\", \"V\"])\n",
    "\n",
    "m.w = pyo.Var(domain=pyo.NonNegativeReals)\n",
    "m.t = pyo.Var()\n",
    "\n",
    "@m.Objective()\n",
    "def min_profit(m):\n",
    "    return 10*m.w + m.t\n",
    "\n",
    "@m.Block(m.SCENARIOS)\n",
    "def scenario(b, s):\n",
    "\n",
    "    z_A = 0.0*np.random.uniform(-1, 1)\n",
    "    z_B = 0.0*np.random.uniform(-1, 1)\n",
    "    z_D = 0.0*np.random.uniform(-1, 1)\n",
    "    \n",
    "    b.y = pyo.Var(m.Y, domain=pyo.NonNegativeReals)\n",
    "\n",
    "    b.u = pyo.Var(domain=pyo.NonNegativeReals)\n",
    "    b.v = pyo.Var(domain=pyo.NonNegativeReals)\n",
    "\n",
    "    @b.Constraint()\n",
    "    def profit(b):\n",
    "        q_u = -140 + 50 * z_A + 80 * z_B\n",
    "        q_v = -120 + 50 * z_A + 40 * z_B\n",
    "        return q_u * b.u + q_v * b.v <= b.model().t\n",
    "    \n",
    "    @b.Constraint()\n",
    "    def demand(b):\n",
    "        return b.u <= 40*(1 + z_D)\n",
    "\n",
    "    @b.Constraint()\n",
    "    def labor_A(b):\n",
    "        return (1 + z_A)*b.u + (1 + z_B)*b.v <= 80\n",
    "\n",
    "    @b.Constraint()\n",
    "    def labor_B(b):\n",
    "        return 2*(1 + z_A)*b.u + (1 + z_B)*b.v <= 100\n",
    "\n",
    "    @b.Constraint()\n",
    "    def raw_materials(b):\n",
    "        return -b.model().w + 10*b.u + 9*b.v <= 0\n",
    "    \n",
    "solver = pyo.SolverFactory('cbc')\n",
    "solver.solve(m)\n",
    "\n",
    "m.min_profit.display()\n",
    "m.w.display()"
   ]
  },
  {
   "cell_type": "code",
   "execution_count": 76,
   "metadata": {},
   "outputs": [
    {
     "ename": "AttributeError",
     "evalue": "'ConcreteModel' object has no attribute 'SCENARIOS'",
     "output_type": "error",
     "traceback": [
      "\u001b[0;31m---------------------------------------------------------------------------\u001b[0m",
      "\u001b[0;31mAttributeError\u001b[0m                            Traceback (most recent call last)",
      "\u001b[0;32m/var/folders/cm/z3t28j296f98jdp1vqyplkz00000gn/T/ipykernel_8613/349610467.py\u001b[0m in \u001b[0;36m<module>\u001b[0;34m\u001b[0m\n\u001b[1;32m      3\u001b[0m \u001b[0;34m\u001b[0m\u001b[0m\n\u001b[1;32m      4\u001b[0m \u001b[0mm\u001b[0m \u001b[0;34m=\u001b[0m \u001b[0mpyo\u001b[0m\u001b[0;34m.\u001b[0m\u001b[0mConcreteModel\u001b[0m\u001b[0;34m(\u001b[0m\u001b[0;34m)\u001b[0m\u001b[0;34m\u001b[0m\u001b[0;34m\u001b[0m\u001b[0m\n\u001b[0;32m----> 5\u001b[0;31m \u001b[0mm\u001b[0m\u001b[0;34m.\u001b[0m\u001b[0mstages\u001b[0m \u001b[0;34m=\u001b[0m \u001b[0mpyo\u001b[0m\u001b[0;34m.\u001b[0m\u001b[0mBlock\u001b[0m\u001b[0;34m(\u001b[0m\u001b[0mm\u001b[0m\u001b[0;34m.\u001b[0m\u001b[0mSCENARIOS\u001b[0m\u001b[0;34m)\u001b[0m\u001b[0;34m\u001b[0m\u001b[0;34m\u001b[0m\u001b[0m\n\u001b[0m\u001b[1;32m      6\u001b[0m \u001b[0mm\u001b[0m\u001b[0;34m.\u001b[0m\u001b[0mw\u001b[0m \u001b[0;34m=\u001b[0m \u001b[0mpyo\u001b[0m\u001b[0;34m.\u001b[0m\u001b[0mVar\u001b[0m\u001b[0;34m(\u001b[0m\u001b[0mdomain\u001b[0m\u001b[0;34m=\u001b[0m\u001b[0mpyo\u001b[0m\u001b[0;34m.\u001b[0m\u001b[0mNonNegativeReals\u001b[0m\u001b[0;34m)\u001b[0m\u001b[0;34m\u001b[0m\u001b[0;34m\u001b[0m\u001b[0m\n\u001b[1;32m      7\u001b[0m \u001b[0mm\u001b[0m\u001b[0;34m.\u001b[0m\u001b[0mt\u001b[0m \u001b[0;34m=\u001b[0m \u001b[0mpyo\u001b[0m\u001b[0;34m.\u001b[0m\u001b[0mVar\u001b[0m\u001b[0;34m(\u001b[0m\u001b[0;34m)\u001b[0m\u001b[0;34m\u001b[0m\u001b[0;34m\u001b[0m\u001b[0m\n",
      "\u001b[0;32m~/opt/anaconda3/lib/python3.9/site-packages/pyomo/core/base/block.py\u001b[0m in \u001b[0;36m__getattr__\u001b[0;34m(self, val)\u001b[0m\n\u001b[1;32m    520\u001b[0m         \u001b[0;31m# Since the base classes don't support getattr, we can just\u001b[0m\u001b[0;34m\u001b[0m\u001b[0;34m\u001b[0m\u001b[0m\n\u001b[1;32m    521\u001b[0m         \u001b[0;31m# throw the \"normal\" AttributeError\u001b[0m\u001b[0;34m\u001b[0m\u001b[0;34m\u001b[0m\u001b[0m\n\u001b[0;32m--> 522\u001b[0;31m         raise AttributeError(\"'%s' object has no attribute '%s'\"\n\u001b[0m\u001b[1;32m    523\u001b[0m                              % (self.__class__.__name__, val))\n\u001b[1;32m    524\u001b[0m \u001b[0;34m\u001b[0m\u001b[0m\n",
      "\u001b[0;31mAttributeError\u001b[0m: 'ConcreteModel' object has no attribute 'SCENARIOS'"
     ]
    }
   ],
   "source": [
    "import pyomo.environ as pyo\n",
    "import numpy as np\n",
    "\n",
    "m = pyo.ConcreteModel()\n",
    "m.stages = pyo.Block(m.SCENARIOS)\n",
    "m.w = pyo.Var(domain=pyo.NonNegativeReals)\n",
    "m.t = pyo.Var()\n",
    "\n",
    "def scenario(z_A=0, z_B=0, z_D=0):\n",
    "\n",
    "    b = pyo.Block()\n",
    "    b.u = pyo.Var(domain=pyo.NonNegativeReals)\n",
    "    b.v = pyo.Var(domain=pyo.NonNegativeReals)\n",
    "\n",
    "    @b.Constraint()\n",
    "    def profit(b):\n",
    "        return (-140 + z_A*50 + 2*z_B*40)*b.u + (-120 + z_A*50 + z_B*40)*b.v <= b.model().t\n",
    "\n",
    "    @b.Constraint()\n",
    "    def demand(b):\n",
    "        return b.u <= 40*(1 + z_D)\n",
    "\n",
    "    @b.Constraint()\n",
    "    def labor_A(b):\n",
    "        return (1 + z_A)*b.u + (1 + z_B)*b.v <= 80\n",
    "\n",
    "    @b.Constraint()\n",
    "    def labor_B(b):\n",
    "        return 2*(1 + z_A)*b.u + (1 + z_B)*b.v <= 100\n",
    "\n",
    "    @b.Constraint()\n",
    "    def raw_materials(b):\n",
    "        return -b.model().w + 10*b.u + 9*b.v <= 0\n",
    "        \n",
    "    return b\n",
    "\n",
    "\n",
    "@m.Objective()\n",
    "def min_profit(m):\n",
    "    return 10*m.w + m.t\n",
    "\n",
    "solver = pyo.SolverFactory('mosek_persistent')\n",
    "solver.set_instance(m)\n",
    "\n",
    "m.stages[0] = scenario()\n",
    "solver.add_block(m.stage[0])\n",
    "\n",
    "solver.solve(m)\n",
    "\n",
    "m.min_profit.display()\n",
    "m.w.display()"
   ]
  },
  {
   "cell_type": "markdown",
   "metadata": {
    "id": "2Nt_x0XG8QK8"
   },
   "source": [
    "\n",
    "\n",
    "Let $\\xi_A$ and $\\xi_B$ denote the random numbers expressing the relative difference between the nominal and actual labor requirements for labor $A$ and $B$. For any particular realization\n",
    "\n",
    "$$\n",
    "\\begin{align*}\n",
    "\\max_{w, x,y, z \\geq 0} \\quad & -10 w + (140 - 50\\xi_A - 80\\xi_B)x(\\xi_A, \\xi_B) + (130 - 50\\xi_A - 40\\xi_B) y(\\xi_A, \\xi_B) \\\\\n",
    "\\text{s.t.} \\quad & x(\\xi_A, \\xi_B)  \\leq 40 & \\text{demand}\\\\\n",
    "& (1 + \\xi_A) x(\\xi_A, \\xi_B) + (1+\\xi_B) y \\leq 80 & \\text{labor A}\\\\\n",
    "& 2 (1+\\xi_A) x(\\xi_A, \\xi_B) + (1+\\xi_B) y \\leq 100 & \\text{labor B}\\\\\n",
    "& 10 x(\\xi_A, \\xi_B) + 9 y \\leq w & \\text{raw materials} \\\\\n",
    "\\end{align*}\n",
    "$$\n",
    "\n",
    "\n",
    "$$\n",
    "\\begin{align*}\n",
    "\\max_{w, x,y, z \\geq 0} \\quad & -10 w + \\mathbb{E}_{\\xi_A, \\xi_B}\\left[(140 - 50\\xi_A - 80\\xi_B)x + (130 - 50\\xi_A - 40\\xi_B) y \\right]\\\\\n",
    "\\text{s.t.} \\quad & x  \\leq 40 & \\text{demand}\\\\\n",
    "& (1 + \\xi_A)x + (1+\\xi_B) y \\leq 80 & \\text{labor A}\\\\\n",
    "& 2 (1+\\xi_A) x + (1+\\xi_B) y \\leq 100 & \\text{labor B}\\\\\n",
    "& 10 x + 9 y \\leq w & \\text{raw materials} \\\\\n",
    "\\end{align*}\n",
    "$$\n"
   ]
  },
  {
   "cell_type": "markdown",
   "metadata": {
    "id": "TfiqFDN8whRD"
   },
   "source": [
    "## Robust Optimization\n",
    "\n",
    "$$\n",
    "\\begin{align}\n",
    "\\min_{x} \\quad & c^\\top x \\\\\n",
    "\\text{s.t.} \\quad & (a_i + A_i z)^\\top x \\leq b_i + b_i^\\top z & \\ i = 1,\\ldots, m \\quad & \\forall z \\in Z\n",
    "\\end{align}\n",
    "$$\n",
    "\n",
    "where $\\bf{x}$ is \n",
    "\n",
    "$$\n",
    "\\bf{x} = \\begin{pmatrix}p \\\\ w \\\\ x \\\\ y \\end{pmatrix}\n",
    "$$"
   ]
  },
  {
   "cell_type": "markdown",
   "metadata": {
    "id": "F-yaaIqnQ820"
   },
   "source": [
    "## Persistent Solvers\n",
    "\n",
    "* https://pyomo.readthedocs.io/en/stable/advanced_topics/persistent_solvers.html"
   ]
  },
  {
   "cell_type": "markdown",
   "metadata": {
    "id": "z4k6l82LOgs8"
   },
   "source": [
    "## Bibliographic Notes\n",
    "\n",
    "* https://link.springer.com/content/pdf/10.1007/s11750-021-00593-2.pdf\n",
    "\n",
    "* Zeng, B., & Zhao, L. (2013). Solving two-stage robust optimization problems using a column-and-constraint generation method. Operations Research Letters, 41(5), 457-461. "
   ]
  },
  {
   "cell_type": "markdown",
   "metadata": {
    "id": "GqSNc0GKArAo"
   },
   "source": [
    "\n",
    "$$\\begin{align}\n",
    "\\max \\quad & -10 w + \\sum_\\xi p_\\xi f(\\xi, \\bf{x}_\\xi) \\\\\n",
    "& A(\\xi) \\bf{x}_\\xi \\geq b(\\xi)\n",
    "\\end{align}$$"
   ]
  }
 ],
 "metadata": {
  "colab": {
   "authorship_tag": "ABX9TyNdeOT6zd9sxPjQMDuW2VRf",
   "provenance": []
  },
  "kernelspec": {
   "display_name": "Python 3 (ipykernel)",
   "language": "python",
   "name": "python3"
  },
  "language_info": {
   "codemirror_mode": {
    "name": "ipython",
    "version": 3
   },
   "file_extension": ".py",
   "mimetype": "text/x-python",
   "name": "python",
   "nbconvert_exporter": "python",
   "pygments_lexer": "ipython3",
   "version": "3.9.7"
  }
 },
 "nbformat": 4,
 "nbformat_minor": 4
}
