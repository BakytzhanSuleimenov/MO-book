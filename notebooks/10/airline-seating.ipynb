{
 "cells": [
  {
   "cell_type": "markdown",
   "id": "b6a619b6",
   "metadata": {},
   "source": [
    "# Airline seat allocation problem\n",
    "\n",
    "An airlines is trying to decide how to partition a new plane for the Amsterdam-Buenos Aires route. This plane can seat 200 economy class passengers. A section can be created for first class seats but each of these seats takes the space of 2 economy class seats. A business class section can also be created, but each of these seats takes as much space as 1.5 economy class seats. The profit on a first class ticket is, however, three times the profit of an economy ticket, while a business class ticket has a profit of two times an economy ticket's profit. Once the plane is partitioned into these seating classes, it cannot be changed. The airlines knows, however, that the plane will not always be full in each section. They have decided that three scenarios will occur with about the same frequency: \n",
    "\n",
    "(1) weekday morning and evening traffic, \n",
    "\n",
    "(2) weekend traffic, \n",
    "\n",
    "(3) weekday midday traffic. \n",
    "\n",
    "Under Scenario 1, they think they can sell as many as 20 first class tickets, 50 business class tickets, and 200 economy tickets. Under Scenario 2, these figures are $10 , 25 $, and $175$, while under Scenario 3, they are $5 , 10$, and $150$. The following table reports the forecast demand in the three scenarios.\n",
    "\n",
    "| Scenario | First class seats | Business class seats | Economy class seats |\n",
    "| :-: | :-: | :-: | :-: |\n",
    "| Scenario 1 | 20 | 50 | 200 |\n",
    "| Scenario 2 | 10 | 25 | 175 |\n",
    "| Scenario 3 | 5 | 10 | 150 |\n",
    "\n",
    "Despite these estimates, the airline will not sell more tickets than seats in each of the sections (hence no overbooking strategy).\n",
    "\n",
    "(a) Implement and solve the extensive form of the stochastic program for the optimal seat allocation aiming to maximize the airline profit."
   ]
  },
  {
   "cell_type": "code",
   "execution_count": 24,
   "id": "ea71de65",
   "metadata": {
    "ExecuteTime": {
     "end_time": "2022-09-30T21:49:05.660595Z",
     "start_time": "2022-09-30T21:49:05.457825Z"
    }
   },
   "outputs": [
    {
     "name": "stdout",
     "output_type": "stream",
     "text": [
      "pyomo was previously installed\n",
      "glpk was previously installed\n",
      "cbc was previously installed\n",
      "ipopt was previously installed\n"
     ]
    },
    {
     "data": {
      "text/plain": [
       "True"
      ]
     },
     "execution_count": 24,
     "metadata": {},
     "output_type": "execute_result"
    }
   ],
   "source": [
    "# install Pyomo and solvers\n",
    "import requests\n",
    "import types\n",
    "\n",
    "url = \"https://raw.githubusercontent.com/jckantor/MO-book/main/python/helper.py\"\n",
    "helper = types.ModuleType(\"helper\")\n",
    "exec(requests.get(url).content, helper.__dict__)\n",
    "\n",
    "helper.install_pyomo()\n",
    "helper.install_glpk()\n",
    "helper.install_cbc()\n",
    "helper.install_ipopt()"
   ]
  },
  {
   "cell_type": "code",
   "execution_count": 27,
   "id": "e91fbe82",
   "metadata": {
    "ExecuteTime": {
     "end_time": "2022-09-30T21:49:07.404490Z",
     "start_time": "2022-09-30T21:49:05.663157Z"
    }
   },
   "outputs": [],
   "source": [
    "import pyomo.environ as pyo\n",
    "import numpy as np\n",
    "import pandas as pd\n",
    "import seaborn as sns\n",
    "import matplotlib.pyplot as plt\n",
    "import math\n",
    "import logging\n",
    "from IPython.display import Markdown\n",
    "from io import StringIO\n",
    "\n",
    "cbc_solver = pyo.SolverFactory('cbc')\n",
    "glpk_solver = pyo.SolverFactory('glpk')\n",
    "ipopt_solver = pyo.SolverFactory('ipopt')"
   ]
  },
  {
   "cell_type": "markdown",
   "id": "32d6794b-b3bb-4543-8d0e-23d1d3363863",
   "metadata": {},
   "source": [
    "## Model"
   ]
  },
  {
   "cell_type": "code",
   "execution_count": 3,
   "id": "bca01a38",
   "metadata": {
    "ExecuteTime": {
     "end_time": "2022-09-30T21:49:07.527384Z",
     "start_time": "2022-09-30T21:49:07.409149Z"
    }
   },
   "outputs": [
    {
     "data": {
      "text/markdown": [
       "**Solver status:** *ok, optimal*"
      ],
      "text/plain": [
       "<IPython.core.display.Markdown object>"
      ]
     },
     "metadata": {},
     "output_type": "display_data"
    },
    {
     "data": {
      "text/markdown": [
       "**Solution:**"
      ],
      "text/plain": [
       "<IPython.core.display.Markdown object>"
      ]
     },
     "metadata": {},
     "output_type": "display_data"
    },
    {
     "data": {
      "text/markdown": [
       "(seat allocation) $x_F = 10$, $e_B = 20$, $e_E = 150$"
      ],
      "text/plain": [
       "<IPython.core.display.Markdown object>"
      ]
     },
     "metadata": {},
     "output_type": "display_data"
    },
    {
     "data": {
      "text/markdown": [
       "(equivalent seat allocation) $e_F = 20$, $e_B = 30$, $e_E = 150$"
      ],
      "text/plain": [
       "<IPython.core.display.Markdown object>"
      ]
     },
     "metadata": {},
     "output_type": "display_data"
    },
    {
     "data": {
      "text/markdown": [
       "(recourse sell action scenario 1) $s_F = 10$, $s_B = 20$, $s_E = 150$"
      ],
      "text/plain": [
       "<IPython.core.display.Markdown object>"
      ]
     },
     "metadata": {},
     "output_type": "display_data"
    },
    {
     "data": {
      "text/markdown": [
       "(recourse sell action scenario 2) $s_F = 10$, $s_B = 20$, $s_E = 150$"
      ],
      "text/plain": [
       "<IPython.core.display.Markdown object>"
      ]
     },
     "metadata": {},
     "output_type": "display_data"
    },
    {
     "data": {
      "text/markdown": [
       "(recourse sell action scenario 3) $s_F = 5$, $s_B = 10$, $s_E = 150$"
      ],
      "text/plain": [
       "<IPython.core.display.Markdown object>"
      ]
     },
     "metadata": {},
     "output_type": "display_data"
    },
    {
     "data": {
      "text/markdown": [
       "**Optimal objective value:** $208$ (in units of economy ticket price)"
      ],
      "text/plain": [
       "<IPython.core.display.Markdown object>"
      ]
     },
     "metadata": {},
     "output_type": "display_data"
    }
   ],
   "source": [
    "model = pyo.ConcreteModel()\n",
    "\n",
    "model.classes = pyo.Set(initialize=['F', 'B', 'E'])\n",
    "model.totalseats = 200\n",
    "model.pricefactor_F = 3.0\n",
    "model.pricefactor_B = 2.0\n",
    "model.seatfactor_F = 2.0 \n",
    "model.seatfactor_B = 1.5\n",
    "\n",
    "# first stage variables\n",
    "model.seats = pyo.Var(model.classes, within=pyo.NonNegativeIntegers) \n",
    "\n",
    "# first stage constraint\n",
    "model.equivalentseatsF = pyo.Expression(expr=model.seats['F']*model.seatfactor_F)\n",
    "model.equivalentseatsB = pyo.Expression(expr=model.seats['B']*model.seatfactor_B)\n",
    "model.equivalentseatsE = pyo.Expression(expr=model.seats['E'])\n",
    "model.planeseats = pyo.Constraint(expr=model.equivalentseatsF + model.equivalentseatsB + model.equivalentseatsE <= model.totalseats)\n",
    "\n",
    "model.scenarios = pyo.Set(initialize=[1,2,3])\n",
    "\n",
    "# second stage variables (labelled as 1,2,3 depending on the scenario)\n",
    "model.sell = pyo.Var(model.classes, model.scenarios, within=pyo.NonNegativeIntegers)\n",
    "\n",
    "# second stage constraints\n",
    "model.demandF_1 = pyo.Constraint(expr= model.sell['F',1] <= 20)\n",
    "model.limitF_1 = pyo.Constraint(expr= model.sell['F',1] <= model.seats['F'])\n",
    "model.demandF_2 = pyo.Constraint(expr= model.sell['F',2] <= 10)\n",
    "model.limitF_2 = pyo.Constraint(expr= model.sell['F',2] <= model.seats['F'])\n",
    "model.demandF_3 = pyo.Constraint(expr= model.sell['F',3] <= 5)\n",
    "model.limitF_3 = pyo.Constraint(expr= model.sell['F',3] <= model.seats['F'])\n",
    "model.demandB_1 = pyo.Constraint(expr= model.sell['B',1] <= 50)\n",
    "model.limitB_1 = pyo.Constraint(expr= model.sell['B',1] <= model.seats['B'])\n",
    "model.demandB_2 = pyo.Constraint(expr= model.sell['B',2] <= 25)\n",
    "model.limitB_2 = pyo.Constraint(expr= model.sell['B',2] <= model.seats['B'])\n",
    "model.demandB_3 = pyo.Constraint(expr= model.sell['B',3] <= 10)\n",
    "model.limitB_3 = pyo.Constraint(expr= model.sell['B',3] <= model.seats['B'])\n",
    "model.demandE_1 = pyo.Constraint(expr= model.sell['E',1] <= 200)\n",
    "model.limitE_1 = pyo.Constraint(expr= model.sell['E',1] <= model.seats['E'])\n",
    "model.demandE_2 = pyo.Constraint(expr= model.sell['E',2] <= 175)\n",
    "model.limitE_2 = pyo.Constraint(expr= model.sell['E',2] <= model.seats['E'])\n",
    "model.demandE_3 = pyo.Constraint(expr= model.sell['E',3] <= 150)\n",
    "model.limitE_3 = pyo.Constraint(expr= model.sell['E',3] <= model.seats['E'])\n",
    "\n",
    "def second_stage_profit(model):\n",
    "    total_1 = model.sell['F',1] * model.pricefactor_F + model.sell['B',1] * model.pricefactor_B + model.sell['E',1]\n",
    "    total_2 = model.sell['F',2] * model.pricefactor_F + model.sell['B',2] * model.pricefactor_B + model.sell['E',2]\n",
    "    total_3 = model.sell['F',3] * model.pricefactor_F + model.sell['B',3] * model.pricefactor_B + model.sell['E',3]\n",
    "    return (total_1 + total_2 + total_3)/3.0\n",
    "\n",
    "model.second_stage_profit = pyo.Expression(rule=second_stage_profit)\n",
    "\n",
    "def total_profit(model):\n",
    "    return model.second_stage_profit\n",
    "\n",
    "model.total_expected_profit = pyo.Objective(rule=total_profit, sense=pyo.maximize)\n",
    "\n",
    "result = cbc_solver.solve(model)\n",
    "display(Markdown(f\"**Solver status:** *{result.solver.status}, {result.solver.termination_condition}*\"))\n",
    "display(Markdown(f\"**Solution:**\"))\n",
    "display(Markdown(f\"(seat allocation) $x_F = {model.seats['F'].value:.0f}$, $e_B = {model.seats['B'].value:.0f}$, $e_E = {model.seats['E'].value:.0f}$\"))\n",
    "display(Markdown(f\"(equivalent seat allocation) $e_F = {model.equivalentseatsF.expr():.0f}$, $e_B = {model.equivalentseatsB.expr():.0f}$, $e_E = {model.equivalentseatsE.expr():.0f}$\"))\n",
    "display(Markdown(f\"(recourse sell action scenario 1) $s_F = {model.sell['F',1].value:.0f}$, $s_B = {model.sell['B',1].value:.0f}$, $s_E = {model.sell['E',1].value:.0f}$\"))\n",
    "display(Markdown(f\"(recourse sell action scenario 2) $s_F = {model.sell['F',2].value:.0f}$, $s_B = {model.sell['B',2].value:.0f}$, $s_E = {model.sell['E',2].value:.0f}$\"))\n",
    "display(Markdown(f\"(recourse sell action scenario 3) $s_F = {model.sell['F',3].value:.0f}$, $s_B = {model.sell['B',3].value:.0f}$, $s_E = {model.sell['E',3].value:.0f}$\"))\n",
    "display(Markdown(f\"**Optimal objective value:** ${model.total_expected_profit():.0f}$ (in units of economy ticket price)\"))"
   ]
  },
  {
   "cell_type": "code",
   "execution_count": 31,
   "id": "b664a7a7-a0dd-49ba-9cfa-5846dfe86af2",
   "metadata": {},
   "outputs": [],
   "source": [
    "# seat data\n",
    "seat_data = {\n",
    "    \"F\": {\"price factor\": 3.0, \"seat factor\": 2.0},\n",
    "    \"B\": {\"price factor\": 2.0, \"seat factor\": 1.5},\n",
    "    \"E\": {\"price factor\": 1.0, \"seat factor\": 1.0},\n",
    "}\n",
    "\n",
    "# scenario data\n",
    "scenario_data = {\n",
    "    1: {'F': 20, 'B': 50, 'E': 200},\n",
    "    2: {'F': 10, 'B': 25, 'E': 175},\n",
    "    3: {'F':  5, 'B': 10, 'E': 150}\n",
    "}"
   ]
  },
  {
   "cell_type": "code",
   "execution_count": 31,
   "id": "ea52e904-8470-40fd-b0d7-8d1ea014f410",
   "metadata": {},
   "outputs": [
    {
     "data": {
      "text/html": [
       "<div>\n",
       "<style scoped>\n",
       "    .dataframe tbody tr th:only-of-type {\n",
       "        vertical-align: middle;\n",
       "    }\n",
       "\n",
       "    .dataframe tbody tr th {\n",
       "        vertical-align: top;\n",
       "    }\n",
       "\n",
       "    .dataframe thead th {\n",
       "        text-align: right;\n",
       "    }\n",
       "</style>\n",
       "<table border=\"1\" class=\"dataframe\">\n",
       "  <thead>\n",
       "    <tr style=\"text-align: right;\">\n",
       "      <th></th>\n",
       "      <th>price factor</th>\n",
       "      <th>seat factor</th>\n",
       "    </tr>\n",
       "    <tr>\n",
       "      <th>class</th>\n",
       "      <th></th>\n",
       "      <th></th>\n",
       "    </tr>\n",
       "  </thead>\n",
       "  <tbody>\n",
       "    <tr>\n",
       "      <th>F</th>\n",
       "      <td>3.0</td>\n",
       "      <td>2.0</td>\n",
       "    </tr>\n",
       "    <tr>\n",
       "      <th>B</th>\n",
       "      <td>2.0</td>\n",
       "      <td>1.5</td>\n",
       "    </tr>\n",
       "    <tr>\n",
       "      <th>E</th>\n",
       "      <td>1.0</td>\n",
       "      <td>1.0</td>\n",
       "    </tr>\n",
       "  </tbody>\n",
       "</table>\n",
       "</div>"
      ],
      "text/plain": [
       "        price factor   seat factor\n",
       "class                             \n",
       "F                3.0           2.0\n",
       "B                2.0           1.5\n",
       "E                1.0           1.0"
      ]
     },
     "metadata": {},
     "output_type": "display_data"
    },
    {
     "data": {
      "text/html": [
       "<div>\n",
       "<style scoped>\n",
       "    .dataframe tbody tr th:only-of-type {\n",
       "        vertical-align: middle;\n",
       "    }\n",
       "\n",
       "    .dataframe tbody tr th {\n",
       "        vertical-align: top;\n",
       "    }\n",
       "\n",
       "    .dataframe thead th {\n",
       "        text-align: right;\n",
       "    }\n",
       "</style>\n",
       "<table border=\"1\" class=\"dataframe\">\n",
       "  <thead>\n",
       "    <tr style=\"text-align: right;\">\n",
       "      <th></th>\n",
       "      <th>F</th>\n",
       "      <th>B</th>\n",
       "      <th>E</th>\n",
       "    </tr>\n",
       "  </thead>\n",
       "  <tbody>\n",
       "    <tr>\n",
       "      <th>0</th>\n",
       "      <td>20</td>\n",
       "      <td>50</td>\n",
       "      <td>200</td>\n",
       "    </tr>\n",
       "    <tr>\n",
       "      <th>1</th>\n",
       "      <td>10</td>\n",
       "      <td>25</td>\n",
       "      <td>175</td>\n",
       "    </tr>\n",
       "    <tr>\n",
       "      <th>2</th>\n",
       "      <td>5</td>\n",
       "      <td>10</td>\n",
       "      <td>150</td>\n",
       "    </tr>\n",
       "  </tbody>\n",
       "</table>\n",
       "</div>"
      ],
      "text/plain": [
       "    F   B    E\n",
       "0  20  50  200\n",
       "1  10  25  175\n",
       "2   5  10  150"
      ]
     },
     "metadata": {},
     "output_type": "display_data"
    }
   ],
   "source": [
    "seat_data = \"\"\"\n",
    "class, price factor, seat factor\n",
    "F, 3.0, 2.0\n",
    "B, 2.0, 1.5\n",
    "E, 1.0, 1.0\n",
    "\"\"\"\n",
    "\n",
    "seat_data = pd.read_csv(StringIO(seat_data), index_col=\"class\")\n",
    "display(seat_data)\n",
    "\n",
    "scenario_data = \"\"\"\n",
    "F, B, E\n",
    "20, 50, 200\n",
    "10, 25, 175\n",
    "5, 10, 150\n",
    "\"\"\"\n",
    "\n",
    "scenario_data = pd.read_csv(StringIO(scenario_data))\n",
    "display(scenario_data)"
   ]
  },
  {
   "cell_type": "code",
   "execution_count": 33,
   "id": "e43fe599-b8bd-482b-aab2-093b0243fd72",
   "metadata": {},
   "outputs": [
    {
     "name": "stdout",
     "output_type": "stream",
     "text": [
      "ERROR: Rule failed for Param 'price_factor' with index F: KeyError: 'price\n",
      "    factor'\n",
      "ERROR: Constructing component 'price_factor' from data=None failed: KeyError:\n",
      "    'price factor'\n"
     ]
    },
    {
     "ename": "KeyError",
     "evalue": "'price factor'",
     "output_type": "error",
     "traceback": [
      "\u001b[0;31m---------------------------------------------------------------------------\u001b[0m",
      "\u001b[0;31mKeyError\u001b[0m                                  Traceback (most recent call last)",
      "File \u001b[0;32m~/opt/anaconda3/lib/python3.9/site-packages/pandas/core/indexes/base.py:3621\u001b[0m, in \u001b[0;36mIndex.get_loc\u001b[0;34m(self, key, method, tolerance)\u001b[0m\n\u001b[1;32m   3620\u001b[0m \u001b[38;5;28;01mtry\u001b[39;00m:\n\u001b[0;32m-> 3621\u001b[0m     \u001b[38;5;28;01mreturn\u001b[39;00m \u001b[38;5;28;43mself\u001b[39;49m\u001b[38;5;241;43m.\u001b[39;49m\u001b[43m_engine\u001b[49m\u001b[38;5;241;43m.\u001b[39;49m\u001b[43mget_loc\u001b[49m\u001b[43m(\u001b[49m\u001b[43mcasted_key\u001b[49m\u001b[43m)\u001b[49m\n\u001b[1;32m   3622\u001b[0m \u001b[38;5;28;01mexcept\u001b[39;00m \u001b[38;5;167;01mKeyError\u001b[39;00m \u001b[38;5;28;01mas\u001b[39;00m err:\n",
      "File \u001b[0;32m~/opt/anaconda3/lib/python3.9/site-packages/pandas/_libs/index.pyx:136\u001b[0m, in \u001b[0;36mpandas._libs.index.IndexEngine.get_loc\u001b[0;34m()\u001b[0m\n",
      "File \u001b[0;32m~/opt/anaconda3/lib/python3.9/site-packages/pandas/_libs/index.pyx:163\u001b[0m, in \u001b[0;36mpandas._libs.index.IndexEngine.get_loc\u001b[0;34m()\u001b[0m\n",
      "File \u001b[0;32mpandas/_libs/hashtable_class_helper.pxi:5198\u001b[0m, in \u001b[0;36mpandas._libs.hashtable.PyObjectHashTable.get_item\u001b[0;34m()\u001b[0m\n",
      "File \u001b[0;32mpandas/_libs/hashtable_class_helper.pxi:5206\u001b[0m, in \u001b[0;36mpandas._libs.hashtable.PyObjectHashTable.get_item\u001b[0;34m()\u001b[0m\n",
      "\u001b[0;31mKeyError\u001b[0m: 'price factor'",
      "\nThe above exception was the direct cause of the following exception:\n",
      "\u001b[0;31mKeyError\u001b[0m                                  Traceback (most recent call last)",
      "Input \u001b[0;32mIn [33]\u001b[0m, in \u001b[0;36m<cell line: 7>\u001b[0;34m()\u001b[0m\n\u001b[1;32m      3\u001b[0m model\u001b[38;5;241m.\u001b[39mtotal_seats \u001b[38;5;241m=\u001b[39m pyo\u001b[38;5;241m.\u001b[39mParam(initialize\u001b[38;5;241m=\u001b[39m\u001b[38;5;241m200\u001b[39m)\n\u001b[1;32m      5\u001b[0m model\u001b[38;5;241m.\u001b[39mclasses \u001b[38;5;241m=\u001b[39m pyo\u001b[38;5;241m.\u001b[39mSet(initialize\u001b[38;5;241m=\u001b[39mseat_data\u001b[38;5;241m.\u001b[39mindex)\n\u001b[1;32m      7\u001b[0m \u001b[38;5;129;43m@model\u001b[39;49m\u001b[38;5;241;43m.\u001b[39;49m\u001b[43mParam\u001b[49m\u001b[43m(\u001b[49m\u001b[43mmodel\u001b[49m\u001b[38;5;241;43m.\u001b[39;49m\u001b[43mclasses\u001b[49m\u001b[43m)\u001b[49m\n\u001b[0;32m----> 8\u001b[0m \u001b[38;5;28;43;01mdef\u001b[39;49;00m\u001b[43m \u001b[49m\u001b[38;5;21;43mprice_factor\u001b[39;49m\u001b[43m(\u001b[49m\u001b[43mmodel\u001b[49m\u001b[43m,\u001b[49m\u001b[43m \u001b[49m\u001b[43mc\u001b[49m\u001b[43m)\u001b[49m\u001b[43m:\u001b[49m\n\u001b[1;32m      9\u001b[0m \u001b[43m    \u001b[49m\u001b[38;5;28;43;01mreturn\u001b[39;49;00m\u001b[43m \u001b[49m\u001b[43mseat_data\u001b[49m\u001b[38;5;241;43m.\u001b[39;49m\u001b[43mloc\u001b[49m\u001b[43m[\u001b[49m\u001b[43mc\u001b[49m\u001b[43m,\u001b[49m\u001b[43m \u001b[49m\u001b[38;5;124;43m\"\u001b[39;49m\u001b[38;5;124;43mprice factor\u001b[39;49m\u001b[38;5;124;43m\"\u001b[39;49m\u001b[43m]\u001b[49m\n\u001b[1;32m     11\u001b[0m \u001b[38;5;129m@model\u001b[39m\u001b[38;5;241m.\u001b[39mParam(model\u001b[38;5;241m.\u001b[39mclasses)\n\u001b[1;32m     12\u001b[0m \u001b[38;5;28;01mdef\u001b[39;00m \u001b[38;5;21mseat_factor\u001b[39m(model, c):\n",
      "File \u001b[0;32m~/opt/anaconda3/lib/python3.9/site-packages/pyomo/core/base/block.py:67\u001b[0m, in \u001b[0;36m_generic_component_decorator.__call__\u001b[0;34m(self, rule)\u001b[0m\n\u001b[1;32m     66\u001b[0m \u001b[38;5;28;01mdef\u001b[39;00m \u001b[38;5;21m__call__\u001b[39m(\u001b[38;5;28mself\u001b[39m, rule):\n\u001b[0;32m---> 67\u001b[0m     \u001b[38;5;28;43msetattr\u001b[39;49m\u001b[43m(\u001b[49m\n\u001b[1;32m     68\u001b[0m \u001b[43m        \u001b[49m\u001b[38;5;28;43mself\u001b[39;49m\u001b[38;5;241;43m.\u001b[39;49m\u001b[43m_block\u001b[49m\u001b[43m,\u001b[49m\n\u001b[1;32m     69\u001b[0m \u001b[43m        \u001b[49m\u001b[43mrule\u001b[49m\u001b[38;5;241;43m.\u001b[39;49m\u001b[38;5;18;43m__name__\u001b[39;49m\u001b[43m,\u001b[49m\n\u001b[1;32m     70\u001b[0m \u001b[43m        \u001b[49m\u001b[38;5;28;43mself\u001b[39;49m\u001b[38;5;241;43m.\u001b[39;49m\u001b[43m_component\u001b[49m\u001b[43m(\u001b[49m\u001b[38;5;241;43m*\u001b[39;49m\u001b[38;5;28;43mself\u001b[39;49m\u001b[38;5;241;43m.\u001b[39;49m\u001b[43m_args\u001b[49m\u001b[43m,\u001b[49m\u001b[43m \u001b[49m\u001b[43mrule\u001b[49m\u001b[38;5;241;43m=\u001b[39;49m\u001b[43mrule\u001b[49m\u001b[43m,\u001b[49m\u001b[43m \u001b[49m\u001b[38;5;241;43m*\u001b[39;49m\u001b[38;5;241;43m*\u001b[39;49m\u001b[43m(\u001b[49m\u001b[38;5;28;43mself\u001b[39;49m\u001b[38;5;241;43m.\u001b[39;49m\u001b[43m_kwds\u001b[49m\u001b[43m)\u001b[49m\u001b[43m)\u001b[49m\n\u001b[1;32m     71\u001b[0m \u001b[43m    \u001b[49m\u001b[43m)\u001b[49m\n\u001b[1;32m     72\u001b[0m     \u001b[38;5;28;01mreturn\u001b[39;00m rule\n",
      "File \u001b[0;32m~/opt/anaconda3/lib/python3.9/site-packages/pyomo/core/base/block.py:542\u001b[0m, in \u001b[0;36m_BlockData.__setattr__\u001b[0;34m(self, name, val)\u001b[0m\n\u001b[1;32m    537\u001b[0m \u001b[38;5;28;01mif\u001b[39;00m name \u001b[38;5;129;01mnot\u001b[39;00m \u001b[38;5;129;01min\u001b[39;00m \u001b[38;5;28mself\u001b[39m\u001b[38;5;241m.\u001b[39m\u001b[38;5;18m__dict__\u001b[39m:\n\u001b[1;32m    538\u001b[0m     \u001b[38;5;28;01mif\u001b[39;00m \u001b[38;5;28misinstance\u001b[39m(val, Component):\n\u001b[1;32m    539\u001b[0m         \u001b[38;5;66;03m#\u001b[39;00m\n\u001b[1;32m    540\u001b[0m         \u001b[38;5;66;03m# Pyomo components are added with the add_component method.\u001b[39;00m\n\u001b[1;32m    541\u001b[0m         \u001b[38;5;66;03m#\u001b[39;00m\n\u001b[0;32m--> 542\u001b[0m         \u001b[38;5;28;43mself\u001b[39;49m\u001b[38;5;241;43m.\u001b[39;49m\u001b[43madd_component\u001b[49m\u001b[43m(\u001b[49m\u001b[43mname\u001b[49m\u001b[43m,\u001b[49m\u001b[43m \u001b[49m\u001b[43mval\u001b[49m\u001b[43m)\u001b[49m\n\u001b[1;32m    543\u001b[0m     \u001b[38;5;28;01melse\u001b[39;00m:\n\u001b[1;32m    544\u001b[0m         \u001b[38;5;66;03m#\u001b[39;00m\n\u001b[1;32m    545\u001b[0m         \u001b[38;5;66;03m# Other Python objects are added with the standard __setattr__\u001b[39;00m\n\u001b[1;32m    546\u001b[0m         \u001b[38;5;66;03m# method.\u001b[39;00m\n\u001b[1;32m    547\u001b[0m         \u001b[38;5;66;03m#\u001b[39;00m\n\u001b[1;32m    548\u001b[0m         \u001b[38;5;28msuper\u001b[39m(_BlockData, \u001b[38;5;28mself\u001b[39m)\u001b[38;5;241m.\u001b[39m\u001b[38;5;21m__setattr__\u001b[39m(name, val)\n",
      "File \u001b[0;32m~/opt/anaconda3/lib/python3.9/site-packages/pyomo/core/base/block.py:1087\u001b[0m, in \u001b[0;36m_BlockData.add_component\u001b[0;34m(self, name, val)\u001b[0m\n\u001b[1;32m   1083\u001b[0m     logger\u001b[38;5;241m.\u001b[39mdebug(\u001b[38;5;124m\"\u001b[39m\u001b[38;5;124mConstructing \u001b[39m\u001b[38;5;132;01m%s\u001b[39;00m\u001b[38;5;124m \u001b[39m\u001b[38;5;124m'\u001b[39m\u001b[38;5;132;01m%s\u001b[39;00m\u001b[38;5;124m'\u001b[39m\u001b[38;5;124m on \u001b[39m\u001b[38;5;132;01m%s\u001b[39;00m\u001b[38;5;124m from data=\u001b[39m\u001b[38;5;132;01m%s\u001b[39;00m\u001b[38;5;124m\"\u001b[39m,\n\u001b[1;32m   1084\u001b[0m                  val\u001b[38;5;241m.\u001b[39m\u001b[38;5;18m__class__\u001b[39m\u001b[38;5;241m.\u001b[39m\u001b[38;5;18m__name__\u001b[39m, name,\n\u001b[1;32m   1085\u001b[0m                  _blockName, \u001b[38;5;28mstr\u001b[39m(data))\n\u001b[1;32m   1086\u001b[0m \u001b[38;5;28;01mtry\u001b[39;00m:\n\u001b[0;32m-> 1087\u001b[0m     \u001b[43mval\u001b[49m\u001b[38;5;241;43m.\u001b[39;49m\u001b[43mconstruct\u001b[49m\u001b[43m(\u001b[49m\u001b[43mdata\u001b[49m\u001b[43m)\u001b[49m\n\u001b[1;32m   1088\u001b[0m \u001b[38;5;28;01mexcept\u001b[39;00m:\n\u001b[1;32m   1089\u001b[0m     err \u001b[38;5;241m=\u001b[39m sys\u001b[38;5;241m.\u001b[39mexc_info()[\u001b[38;5;241m1\u001b[39m]\n",
      "File \u001b[0;32m~/opt/anaconda3/lib/python3.9/site-packages/pyomo/core/base/param.py:762\u001b[0m, in \u001b[0;36mParam.construct\u001b[0;34m(self, data)\u001b[0m\n\u001b[1;32m    758\u001b[0m \u001b[38;5;28mself\u001b[39m\u001b[38;5;241m.\u001b[39m_constructed \u001b[38;5;241m=\u001b[39m \u001b[38;5;28;01mNone\u001b[39;00m\n\u001b[1;32m    759\u001b[0m \u001b[38;5;66;03m#\u001b[39;00m\n\u001b[1;32m    760\u001b[0m \u001b[38;5;66;03m# Step #1: initialize data from rule value\u001b[39;00m\n\u001b[1;32m    761\u001b[0m \u001b[38;5;66;03m#\u001b[39;00m\n\u001b[0;32m--> 762\u001b[0m \u001b[38;5;28;43mself\u001b[39;49m\u001b[38;5;241;43m.\u001b[39;49m\u001b[43m_construct_from_rule_using_setitem\u001b[49m\u001b[43m(\u001b[49m\u001b[43m)\u001b[49m\n\u001b[1;32m    763\u001b[0m \u001b[38;5;66;03m#\u001b[39;00m\n\u001b[1;32m    764\u001b[0m \u001b[38;5;66;03m# Step #2: allow any user-specified (external) data to override\u001b[39;00m\n\u001b[1;32m    765\u001b[0m \u001b[38;5;66;03m# the initialization\u001b[39;00m\n\u001b[1;32m    766\u001b[0m \u001b[38;5;66;03m#\u001b[39;00m\n\u001b[1;32m    767\u001b[0m \u001b[38;5;28;01mif\u001b[39;00m data \u001b[38;5;129;01mis\u001b[39;00m \u001b[38;5;129;01mnot\u001b[39;00m \u001b[38;5;28;01mNone\u001b[39;00m:\n",
      "File \u001b[0;32m~/opt/anaconda3/lib/python3.9/site-packages/pyomo/core/base/indexed_component.py:710\u001b[0m, in \u001b[0;36mIndexedComponent._construct_from_rule_using_setitem\u001b[0;34m(self)\u001b[0m\n\u001b[1;32m    708\u001b[0m     \u001b[38;5;28;01melse\u001b[39;00m:\n\u001b[1;32m    709\u001b[0m         \u001b[38;5;28;01mfor\u001b[39;00m index \u001b[38;5;129;01min\u001b[39;00m \u001b[38;5;28mself\u001b[39m\u001b[38;5;241m.\u001b[39mindex_set():\n\u001b[0;32m--> 710\u001b[0m             \u001b[38;5;28mself\u001b[39m\u001b[38;5;241m.\u001b[39m_setitem_when_not_present(index, \u001b[43mrule\u001b[49m\u001b[43m(\u001b[49m\u001b[43mblock\u001b[49m\u001b[43m,\u001b[49m\u001b[43m \u001b[49m\u001b[43mindex\u001b[49m\u001b[43m)\u001b[49m)\n\u001b[1;32m    711\u001b[0m \u001b[38;5;28;01mexcept\u001b[39;00m:\n\u001b[1;32m    712\u001b[0m     err \u001b[38;5;241m=\u001b[39m sys\u001b[38;5;241m.\u001b[39mexc_info()[\u001b[38;5;241m1\u001b[39m]\n",
      "File \u001b[0;32m~/opt/anaconda3/lib/python3.9/site-packages/pyomo/core/base/initializer.py:252\u001b[0m, in \u001b[0;36mIndexedCallInitializer.__call__\u001b[0;34m(self, parent, idx)\u001b[0m\n\u001b[1;32m    250\u001b[0m     \u001b[38;5;28;01mreturn\u001b[39;00m \u001b[38;5;28mself\u001b[39m\u001b[38;5;241m.\u001b[39m_fcn(parent, \u001b[38;5;241m*\u001b[39midx)\n\u001b[1;32m    251\u001b[0m \u001b[38;5;28;01melse\u001b[39;00m:\n\u001b[0;32m--> 252\u001b[0m     \u001b[38;5;28;01mreturn\u001b[39;00m \u001b[38;5;28;43mself\u001b[39;49m\u001b[38;5;241;43m.\u001b[39;49m\u001b[43m_fcn\u001b[49m\u001b[43m(\u001b[49m\u001b[43mparent\u001b[49m\u001b[43m,\u001b[49m\u001b[43m \u001b[49m\u001b[43midx\u001b[49m\u001b[43m)\u001b[49m\n",
      "Input \u001b[0;32mIn [33]\u001b[0m, in \u001b[0;36mprice_factor\u001b[0;34m(model, c)\u001b[0m\n\u001b[1;32m      7\u001b[0m \u001b[38;5;129m@model\u001b[39m\u001b[38;5;241m.\u001b[39mParam(model\u001b[38;5;241m.\u001b[39mclasses)\n\u001b[1;32m      8\u001b[0m \u001b[38;5;28;01mdef\u001b[39;00m \u001b[38;5;21mprice_factor\u001b[39m(model, c):\n\u001b[0;32m----> 9\u001b[0m     \u001b[38;5;28;01mreturn\u001b[39;00m \u001b[43mseat_data\u001b[49m\u001b[38;5;241;43m.\u001b[39;49m\u001b[43mloc\u001b[49m\u001b[43m[\u001b[49m\u001b[43mc\u001b[49m\u001b[43m,\u001b[49m\u001b[43m \u001b[49m\u001b[38;5;124;43m\"\u001b[39;49m\u001b[38;5;124;43mprice factor\u001b[39;49m\u001b[38;5;124;43m\"\u001b[39;49m\u001b[43m]\u001b[49m\n",
      "File \u001b[0;32m~/opt/anaconda3/lib/python3.9/site-packages/pandas/core/indexing.py:960\u001b[0m, in \u001b[0;36m_LocationIndexer.__getitem__\u001b[0;34m(self, key)\u001b[0m\n\u001b[1;32m    958\u001b[0m     key \u001b[38;5;241m=\u001b[39m \u001b[38;5;28mtuple\u001b[39m(com\u001b[38;5;241m.\u001b[39mapply_if_callable(x, \u001b[38;5;28mself\u001b[39m\u001b[38;5;241m.\u001b[39mobj) \u001b[38;5;28;01mfor\u001b[39;00m x \u001b[38;5;129;01min\u001b[39;00m key)\n\u001b[1;32m    959\u001b[0m     \u001b[38;5;28;01mif\u001b[39;00m \u001b[38;5;28mself\u001b[39m\u001b[38;5;241m.\u001b[39m_is_scalar_access(key):\n\u001b[0;32m--> 960\u001b[0m         \u001b[38;5;28;01mreturn\u001b[39;00m \u001b[38;5;28;43mself\u001b[39;49m\u001b[38;5;241;43m.\u001b[39;49m\u001b[43mobj\u001b[49m\u001b[38;5;241;43m.\u001b[39;49m\u001b[43m_get_value\u001b[49m\u001b[43m(\u001b[49m\u001b[38;5;241;43m*\u001b[39;49m\u001b[43mkey\u001b[49m\u001b[43m,\u001b[49m\u001b[43m \u001b[49m\u001b[43mtakeable\u001b[49m\u001b[38;5;241;43m=\u001b[39;49m\u001b[38;5;28;43mself\u001b[39;49m\u001b[38;5;241;43m.\u001b[39;49m\u001b[43m_takeable\u001b[49m\u001b[43m)\u001b[49m\n\u001b[1;32m    961\u001b[0m     \u001b[38;5;28;01mreturn\u001b[39;00m \u001b[38;5;28mself\u001b[39m\u001b[38;5;241m.\u001b[39m_getitem_tuple(key)\n\u001b[1;32m    962\u001b[0m \u001b[38;5;28;01melse\u001b[39;00m:\n\u001b[1;32m    963\u001b[0m     \u001b[38;5;66;03m# we by definition only have the 0th axis\u001b[39;00m\n",
      "File \u001b[0;32m~/opt/anaconda3/lib/python3.9/site-packages/pandas/core/frame.py:3615\u001b[0m, in \u001b[0;36mDataFrame._get_value\u001b[0;34m(self, index, col, takeable)\u001b[0m\n\u001b[1;32m   3612\u001b[0m     series \u001b[38;5;241m=\u001b[39m \u001b[38;5;28mself\u001b[39m\u001b[38;5;241m.\u001b[39m_ixs(col, axis\u001b[38;5;241m=\u001b[39m\u001b[38;5;241m1\u001b[39m)\n\u001b[1;32m   3613\u001b[0m     \u001b[38;5;28;01mreturn\u001b[39;00m series\u001b[38;5;241m.\u001b[39m_values[index]\n\u001b[0;32m-> 3615\u001b[0m series \u001b[38;5;241m=\u001b[39m \u001b[38;5;28;43mself\u001b[39;49m\u001b[38;5;241;43m.\u001b[39;49m\u001b[43m_get_item_cache\u001b[49m\u001b[43m(\u001b[49m\u001b[43mcol\u001b[49m\u001b[43m)\u001b[49m\n\u001b[1;32m   3616\u001b[0m engine \u001b[38;5;241m=\u001b[39m \u001b[38;5;28mself\u001b[39m\u001b[38;5;241m.\u001b[39mindex\u001b[38;5;241m.\u001b[39m_engine\n\u001b[1;32m   3618\u001b[0m \u001b[38;5;28;01mif\u001b[39;00m \u001b[38;5;129;01mnot\u001b[39;00m \u001b[38;5;28misinstance\u001b[39m(\u001b[38;5;28mself\u001b[39m\u001b[38;5;241m.\u001b[39mindex, MultiIndex):\n\u001b[1;32m   3619\u001b[0m     \u001b[38;5;66;03m# CategoricalIndex: Trying to use the engine fastpath may give incorrect\u001b[39;00m\n\u001b[1;32m   3620\u001b[0m     \u001b[38;5;66;03m#  results if our categories are integers that dont match our codes\u001b[39;00m\n\u001b[1;32m   3621\u001b[0m     \u001b[38;5;66;03m# IntervalIndex: IntervalTree has no get_loc\u001b[39;00m\n",
      "File \u001b[0;32m~/opt/anaconda3/lib/python3.9/site-packages/pandas/core/frame.py:3931\u001b[0m, in \u001b[0;36mDataFrame._get_item_cache\u001b[0;34m(self, item)\u001b[0m\n\u001b[1;32m   3926\u001b[0m res \u001b[38;5;241m=\u001b[39m cache\u001b[38;5;241m.\u001b[39mget(item)\n\u001b[1;32m   3927\u001b[0m \u001b[38;5;28;01mif\u001b[39;00m res \u001b[38;5;129;01mis\u001b[39;00m \u001b[38;5;28;01mNone\u001b[39;00m:\n\u001b[1;32m   3928\u001b[0m     \u001b[38;5;66;03m# All places that call _get_item_cache have unique columns,\u001b[39;00m\n\u001b[1;32m   3929\u001b[0m     \u001b[38;5;66;03m#  pending resolution of GH#33047\u001b[39;00m\n\u001b[0;32m-> 3931\u001b[0m     loc \u001b[38;5;241m=\u001b[39m \u001b[38;5;28;43mself\u001b[39;49m\u001b[38;5;241;43m.\u001b[39;49m\u001b[43mcolumns\u001b[49m\u001b[38;5;241;43m.\u001b[39;49m\u001b[43mget_loc\u001b[49m\u001b[43m(\u001b[49m\u001b[43mitem\u001b[49m\u001b[43m)\u001b[49m\n\u001b[1;32m   3932\u001b[0m     res \u001b[38;5;241m=\u001b[39m \u001b[38;5;28mself\u001b[39m\u001b[38;5;241m.\u001b[39m_ixs(loc, axis\u001b[38;5;241m=\u001b[39m\u001b[38;5;241m1\u001b[39m)\n\u001b[1;32m   3934\u001b[0m     cache[item] \u001b[38;5;241m=\u001b[39m res\n",
      "File \u001b[0;32m~/opt/anaconda3/lib/python3.9/site-packages/pandas/core/indexes/base.py:3623\u001b[0m, in \u001b[0;36mIndex.get_loc\u001b[0;34m(self, key, method, tolerance)\u001b[0m\n\u001b[1;32m   3621\u001b[0m     \u001b[38;5;28;01mreturn\u001b[39;00m \u001b[38;5;28mself\u001b[39m\u001b[38;5;241m.\u001b[39m_engine\u001b[38;5;241m.\u001b[39mget_loc(casted_key)\n\u001b[1;32m   3622\u001b[0m \u001b[38;5;28;01mexcept\u001b[39;00m \u001b[38;5;167;01mKeyError\u001b[39;00m \u001b[38;5;28;01mas\u001b[39;00m err:\n\u001b[0;32m-> 3623\u001b[0m     \u001b[38;5;28;01mraise\u001b[39;00m \u001b[38;5;167;01mKeyError\u001b[39;00m(key) \u001b[38;5;28;01mfrom\u001b[39;00m \u001b[38;5;21;01merr\u001b[39;00m\n\u001b[1;32m   3624\u001b[0m \u001b[38;5;28;01mexcept\u001b[39;00m \u001b[38;5;167;01mTypeError\u001b[39;00m:\n\u001b[1;32m   3625\u001b[0m     \u001b[38;5;66;03m# If we have a listlike key, _check_indexing_error will raise\u001b[39;00m\n\u001b[1;32m   3626\u001b[0m     \u001b[38;5;66;03m#  InvalidIndexError. Otherwise we fall through and re-raise\u001b[39;00m\n\u001b[1;32m   3627\u001b[0m     \u001b[38;5;66;03m#  the TypeError.\u001b[39;00m\n\u001b[1;32m   3628\u001b[0m     \u001b[38;5;28mself\u001b[39m\u001b[38;5;241m.\u001b[39m_check_indexing_error(key)\n",
      "\u001b[0;31mKeyError\u001b[0m: 'price factor'"
     ]
    }
   ],
   "source": [
    "model = pyo.ConcreteModel()\n",
    "\n",
    "model.total_seats = pyo.Param(initialize=200)\n",
    "\n",
    "model.classes = pyo.Set(initialize=seat_data.index)\n",
    "\n",
    "@model.Param(model.classes)\n",
    "def price_factor(model, c):\n",
    "    return seat_data.loc[c, \"price factor\"]\n",
    "\n",
    "@model.Param(model.classes)\n",
    "def seat_factor(model, c):\n",
    "    return seat_data.loc[c, \"seat factor\"]  \n",
    "\n",
    "# first stage variables\n",
    "model.seats = pyo.Var(model.classes, domain=pyo.NonNegativeIntegers) \n",
    "\n",
    "@model.Expression(model.classes)\n",
    "def equivalent_seats(model, c):\n",
    "    return model.seats[c] * model.seat_factor[c]\n",
    "\n",
    "@model.Constraint()\n",
    "def plane_seats(model):\n",
    "    return sum(model.equivalent_seats[c] for c in model.classes) <= model.total_seats\n",
    "\n",
    "model.scenarios = pyo.Set(initialize=scenario_data.keys())\n",
    "\n",
    "# second stage variables (labeled as 1,2,3 depending on the scenario)\n",
    "model.sell = pyo.Var(model.classes, model.scenarios, domain=pyo.NonNegativeIntegers)\n",
    "\n",
    "# second stage constraints\n",
    "@model.Constraint(model.classes, model.scenarios)\n",
    "def demand(model, c, s):\n",
    "    return model.sell[c, s] <= scenario_data[s][c]\n",
    "\n",
    "@model.Constraint(model.classes, model.scenarios)\n",
    "def limit(model, c, s):\n",
    "    return model.sell[c, s] <= model.seats[c]\n",
    "\n",
    "# objective\n",
    "@model.Expression()\n",
    "def second_stage_profit(model):\n",
    "    total =  sum(sum(model.sell[c, s] * model.price_factor[c] for s in model.scenarios) for c in model.classes)\n",
    "    return total / len(model.scenarios)\n",
    "\n",
    "@model.Objective(sense=pyo.maximize)\n",
    "def total_expected_profit(model):\n",
    "    return model.second_stage_profit\n",
    "\n",
    "result = cbc_solver.solve(model)\n",
    "\n",
    "sout = f\"**Optimal objective value:** ${model.total_expected_profit():.0f}$ (in units of economy ticket price) <p>\"\n",
    "sout += \"**Solution:** <p>\"\n",
    "sout += \"\\n\\n\"\n",
    "sout += \"| Variable \" + \"\".join(f\"| ${c}$ \" for c in model.classes)\n",
    "sout += \"\\n| :--- \" + \"\".join([\"| :--: \"] * len(model.classes))\n",
    "sout += \"\\n| seat allocation\" + \"\".join(f\"| ${model.seats[c]():.0f}$\" for c in model.classes)\n",
    "sout += \"\\n| equivalent seat allocation\" + \"\".join(f\"| ${model.equivalent_seats[c].expr():.0f}$\" for c in model.classes)\n",
    "for s in model.scenarios:\n",
    "    sout += f\"\\n| recourse sell action scenario {s}\"\n",
    "    sout += \"\".join(f\"| ${model.sell[c, s]():.0f}$\" for c in model.classes)\n",
    "    \n",
    "display(Markdown(sout))"
   ]
  },
  {
   "cell_type": "markdown",
   "id": "801f475e",
   "metadata": {},
   "source": [
    "Assume now that the airline wishes a special guarantee for its clients enrolled in its loyalty program. In particular, it wants $98\\%$ probability to cover the demand of first-class seats and $95\\%$ probability to cover the demand of business class seats (by clients of the loyalty program). First-class passengers are covered if they get a first-class seat. Business class passengers are covered if they get either a business or a first-class seat (upgrade). Assume weekday demands of loyalty-program passengers are normally distributed, say $\\xi_F \\sim \\mathcal N(16,16)$ and $\\xi_B \\sim \\mathcal N(30,48)$ for first-class and business, respectively. Also assume that the demands for first-class and business class seats are independent.\n",
    "Let $x_1$ be the number of first-class seats and $x_2$ the number of business seats. The probabilistic constraints are simply\n",
    "\n",
    "$$\n",
    "\t\\mathbb P(x_1 \\geq \\xi_F ) \\geq 0.98, \\qquad \\text{ and } \\qquad \\mathbb P(x_1 +x_2 \\geq \\xi_F + \\xi_B ) \\geq 0.95.\n",
    "$$\n",
    "\n",
    "In Exercise 3 of the tutorial you rewrote these equivalently as linear constraints, specifically \n",
    "\n",
    "$$\n",
    "\t(x_1 - 16)/\\sqrt{16} \\geq 2.054 \\qquad \\text{ and } \\qquad (x_1 +x_2 - 46)/ \\sqrt{64} \\geq 1.645.\n",
    "$$\n",
    "\n",
    "(b) Add to your implementation of the extensive form the two equivalent deterministic constraints corresponding to the two chance constraints and find the new optimal solution meeting these additional constraints. How is it different from the previous one?"
   ]
  },
  {
   "cell_type": "code",
   "execution_count": 6,
   "id": "8e54813e",
   "metadata": {
    "ExecuteTime": {
     "end_time": "2022-09-30T21:49:07.622168Z",
     "start_time": "2022-09-30T21:49:07.531014Z"
    }
   },
   "outputs": [
    {
     "data": {
      "text/markdown": [
       "**Solver status:** *ok, optimal*"
      ],
      "text/plain": [
       "<IPython.core.display.Markdown object>"
      ]
     },
     "metadata": {},
     "output_type": "display_data"
    },
    {
     "data": {
      "text/markdown": [
       "**Solution:**"
      ],
      "text/plain": [
       "<IPython.core.display.Markdown object>"
      ]
     },
     "metadata": {},
     "output_type": "display_data"
    },
    {
     "data": {
      "text/markdown": [
       "(seat allocation) $x_F = 25$, $e_B = 35$, $e_E = 97$"
      ],
      "text/plain": [
       "<IPython.core.display.Markdown object>"
      ]
     },
     "metadata": {},
     "output_type": "display_data"
    },
    {
     "data": {
      "text/markdown": [
       "(equivalent seat allocation) $e_F = 50$, $e_B = 52$, $e_E = 97$"
      ],
      "text/plain": [
       "<IPython.core.display.Markdown object>"
      ]
     },
     "metadata": {},
     "output_type": "display_data"
    },
    {
     "data": {
      "text/markdown": [
       "(recourse sell action scenario 1) $s_F = 20$, $s_B = 35$, $s_E = 97$"
      ],
      "text/plain": [
       "<IPython.core.display.Markdown object>"
      ]
     },
     "metadata": {},
     "output_type": "display_data"
    },
    {
     "data": {
      "text/markdown": [
       "(recourse sell action scenario 2) $s_F = 10$, $s_B = 25$, $s_E = 97$"
      ],
      "text/plain": [
       "<IPython.core.display.Markdown object>"
      ]
     },
     "metadata": {},
     "output_type": "display_data"
    },
    {
     "data": {
      "text/markdown": [
       "(recourse sell action scenario 3) $s_F = 5$, $s_B = 10$, $s_E = 97$"
      ],
      "text/plain": [
       "<IPython.core.display.Markdown object>"
      ]
     },
     "metadata": {},
     "output_type": "display_data"
    },
    {
     "data": {
      "text/markdown": [
       "**Optimal objective value:** $179$ (in units of economy ticket price)"
      ],
      "text/plain": [
       "<IPython.core.display.Markdown object>"
      ]
     },
     "metadata": {},
     "output_type": "display_data"
    }
   ],
   "source": [
    "model = pyo.ConcreteModel()\n",
    "\n",
    "model.classes = pyo.Set(initialize=['F', 'B', 'E'])\n",
    "model.totalseats = 200\n",
    "model.pricefactor_F = 3.0\n",
    "model.pricefactor_B = 2.0\n",
    "model.seatfactor_F = 2.0 \n",
    "model.seatfactor_B = 1.5\n",
    "\n",
    "# first stage variables\n",
    "model.seats = pyo.Var(model.classes, within=pyo.NonNegativeIntegers) \n",
    "\n",
    "# first stage constraint\n",
    "model.equivalentseatsF = pyo.Expression(expr=model.seats['F']*model.seatfactor_F)\n",
    "model.equivalentseatsB = pyo.Expression(expr=model.seats['B']*model.seatfactor_B)\n",
    "model.equivalentseatsE = pyo.Expression(expr=model.seats['E'])\n",
    "model.planeseats = pyo.Constraint(expr=model.equivalentseatsF + model.equivalentseatsB + model.equivalentseatsE <= model.totalseats)\n",
    "model.loyaltyF = pyo.Constraint(expr = model.seats['F'] >= 24.22) #loyalty constraint 1\n",
    "model.loyaltyFB = pyo.Constraint(expr = model.seats['F']+model.seats['B'] >= 59.16)  #loyalty constraint 2\n",
    "\n",
    "model.scenarios = pyo.Set(initialize=[1,2,3])\n",
    "\n",
    "# second stage variables (labelled as 1,2,3 depending on the scenario)\n",
    "model.sell = pyo.Var(model.classes, model.scenarios, within=pyo.NonNegativeIntegers)\n",
    "\n",
    "# second stage constraints\n",
    "model.demandF_1 = pyo.Constraint(expr= model.sell['F',1] <= 20)\n",
    "model.limitF_1 = pyo.Constraint(expr= model.sell['F',1] <= model.seats['F'])\n",
    "model.demandF_2 = pyo.Constraint(expr= model.sell['F',2] <= 10)\n",
    "model.limitF_2 = pyo.Constraint(expr= model.sell['F',2] <= model.seats['F'])\n",
    "model.demandF_3 = pyo.Constraint(expr= model.sell['F',3] <= 5)\n",
    "model.limitF_3 = pyo.Constraint(expr= model.sell['F',3] <= model.seats['F'])\n",
    "model.demandB_1 = pyo.Constraint(expr= model.sell['B',1] <= 50)\n",
    "model.limitB_1 = pyo.Constraint(expr= model.sell['B',1] <= model.seats['B'])\n",
    "model.demandB_2 = pyo.Constraint(expr= model.sell['B',2] <= 25)\n",
    "model.limitB_2 = pyo.Constraint(expr= model.sell['B',2] <= model.seats['B'])\n",
    "model.demandB_3 = pyo.Constraint(expr= model.sell['B',3] <= 10)\n",
    "model.limitB_3 = pyo.Constraint(expr= model.sell['B',3] <= model.seats['B'])\n",
    "model.demandE_1 = pyo.Constraint(expr= model.sell['E',1] <= 200)\n",
    "model.limitE_1 = pyo.Constraint(expr= model.sell['E',1] <= model.seats['E'])\n",
    "model.demandE_2 = pyo.Constraint(expr= model.sell['E',2] <= 175)\n",
    "model.limitE_2 = pyo.Constraint(expr= model.sell['E',2] <= model.seats['E'])\n",
    "model.demandE_3 = pyo.Constraint(expr= model.sell['E',3] <= 150)\n",
    "model.limitE_3 = pyo.Constraint(expr= model.sell['E',3] <= model.seats['E'])\n",
    "\n",
    "def second_stage_profit(model):\n",
    "    total_1 = model.sell['F',1] * model.pricefactor_F + model.sell['B',1] * model.pricefactor_B + model.sell['E',1]\n",
    "    total_2 = model.sell['F',2] * model.pricefactor_F + model.sell['B',2] * model.pricefactor_B + model.sell['E',2]\n",
    "    total_3 = model.sell['F',3] * model.pricefactor_F + model.sell['B',3] * model.pricefactor_B + model.sell['E',3]\n",
    "    return (total_1 + total_2 + total_3)/3.0\n",
    "\n",
    "model.second_stage_profit = pyo.Expression(rule=second_stage_profit)\n",
    "\n",
    "def total_profit(model):\n",
    "    return model.second_stage_profit\n",
    "\n",
    "model.total_expected_profit = pyo.Objective(rule=total_profit, sense=pyo.maximize)\n",
    "\n",
    "result = cbc_solver.solve(model)\n",
    "display(Markdown(f\"**Solver status:** *{result.solver.status}, {result.solver.termination_condition}*\"))\n",
    "display(Markdown(f\"**Solution:**\"))\n",
    "display(Markdown(f\"(seat allocation) $x_F = {model.seats['F'].value:.0f}$, $e_B = {model.seats['B'].value:.0f}$, $e_E = {model.seats['E'].value:.0f}$\"))\n",
    "display(Markdown(f\"(equivalent seat allocation) $e_F = {model.equivalentseatsF.expr():.0f}$, $e_B = {model.equivalentseatsB.expr():.0f}$, $e_E = {model.equivalentseatsE.expr():.0f}$\"))\n",
    "display(Markdown(f\"(recourse sell action scenario 1) $s_F = {model.sell['F',1].value:.0f}$, $s_B = {model.sell['B',1].value:.0f}$, $s_E = {model.sell['E',1].value:.0f}$\"))\n",
    "display(Markdown(f\"(recourse sell action scenario 2) $s_F = {model.sell['F',2].value:.0f}$, $s_B = {model.sell['B',2].value:.0f}$, $s_E = {model.sell['E',2].value:.0f}$\"))\n",
    "display(Markdown(f\"(recourse sell action scenario 3) $s_F = {model.sell['F',3].value:.0f}$, $s_B = {model.sell['B',3].value:.0f}$, $s_E = {model.sell['E',3].value:.0f}$\"))\n",
    "display(Markdown(f\"**Optimal objective value:** ${model.total_expected_profit():.0f}$ (in units of economy ticket price)\"))"
   ]
  },
  {
   "cell_type": "markdown",
   "id": "e3e8e43c",
   "metadata": {},
   "source": [
    "Assume now that the ticket demand for the three categories is captured by a $3$-dimensional multivariate normal with mean $\\mu=(16,30,180)$ and covariance matrix \n",
    "$$\n",
    "\\Sigma= \\left(\n",
    "\\begin{array}{ccc}\n",
    " 3.5 & 3.7 & 2.5 \\\\\n",
    " 3.7 & 6.5 & 7.5 \\\\\n",
    " 2.5 & 7.5 & 25.2 \\\\\n",
    "\\end{array}\n",
    "\\right).\n",
    "$$\n",
    "\n",
    "(c) Solve approximately the airline seat allocation problem (with the loyalty constraints) using the Sample Average Approximation method. More specifically, sample $N=1000$ points from the multivariate normal distribution and solve the extensive form for the stochastic LP resulting from those $N=1000$ scenarios."
   ]
  },
  {
   "cell_type": "code",
   "execution_count": 5,
   "id": "a1275592",
   "metadata": {
    "ExecuteTime": {
     "end_time": "2022-09-30T21:49:08.708126Z",
     "start_time": "2022-09-30T21:49:07.626836Z"
    }
   },
   "outputs": [
    {
     "data": {
      "text/markdown": [
       "**Solver status:** *ok, optimal*"
      ],
      "text/plain": [
       "<IPython.core.display.Markdown object>"
      ]
     },
     "metadata": {},
     "output_type": "display_data"
    },
    {
     "data": {
      "text/markdown": [
       "**Solution:**"
      ],
      "text/plain": [
       "<IPython.core.display.Markdown object>"
      ]
     },
     "metadata": {},
     "output_type": "display_data"
    },
    {
     "data": {
      "text/markdown": [
       "(seat allocation) $x_F = 25$, $e_B = 35$, $e_E = 97$"
      ],
      "text/plain": [
       "<IPython.core.display.Markdown object>"
      ]
     },
     "metadata": {},
     "output_type": "display_data"
    },
    {
     "data": {
      "text/markdown": [
       "(equivalent seat allocation) $e_F = 50$, $e_B = 52$, $e_E = 97$"
      ],
      "text/plain": [
       "<IPython.core.display.Markdown object>"
      ]
     },
     "metadata": {},
     "output_type": "display_data"
    },
    {
     "data": {
      "text/markdown": [
       "**Optimal objective value:** $202$ (in units of economy ticket price)"
      ],
      "text/plain": [
       "<IPython.core.display.Markdown object>"
      ]
     },
     "metadata": {},
     "output_type": "display_data"
    }
   ],
   "source": [
    "def AirlineSAA(N, sample):\n",
    "\n",
    "    model = pyo.ConcreteModel()\n",
    "\n",
    "    def indices_rule(model):\n",
    "        return range(N)\n",
    "\n",
    "    model.scenarios = pyo.Set(initialize=indices_rule)\n",
    "    model.demandF = pyo.Param(model.scenarios, initialize=dict(enumerate(sample[:,0])))\n",
    "    model.demandB = pyo.Param(model.scenarios, initialize=dict(enumerate(sample[:,1])))\n",
    "    model.demandE = pyo.Param(model.scenarios, initialize=dict(enumerate(sample[:,2])))\n",
    "\n",
    "    model.classes = pyo.Set(initialize=['F', 'B', 'E'])\n",
    "    model.totalseats = 200\n",
    "    model.pricefactor_F = 3.0\n",
    "    model.pricefactor_B = 2.0\n",
    "    model.seatfactor_F = 2.0 \n",
    "    model.seatfactor_B = 1.5\n",
    "\n",
    "    # first stage variables\n",
    "    model.seats = pyo.Var(model.classes, within=pyo.NonNegativeIntegers) \n",
    "\n",
    "    # first stage constraint\n",
    "    model.equivalentseatsF = pyo.Expression(expr=model.seats['F']*model.seatfactor_F)\n",
    "    model.equivalentseatsB = pyo.Expression(expr=model.seats['B']*model.seatfactor_B)\n",
    "    model.equivalentseatsE = pyo.Expression(expr=model.seats['E'])\n",
    "    model.planeseats = pyo.Constraint(expr=model.equivalentseatsF + model.equivalentseatsB + model.equivalentseatsE <= model.totalseats)\n",
    "    model.loyaltyF = pyo.Constraint(expr = model.seats['F'] >= 24.22)\n",
    "    model.loyaltyFB = pyo.Constraint(expr = model.seats['F']+model.seats['B'] >= 59.16)\n",
    "\n",
    "    # second stage variables\n",
    "    model.sell = pyo.Var(model.classes, model.scenarios, within=pyo.NonNegativeIntegers)\n",
    "\n",
    "    # second stage constraints\n",
    "    model.demandFlim = pyo.ConstraintList()\n",
    "    model.limitF = pyo.ConstraintList()\n",
    "    model.demandBlim = pyo.ConstraintList()\n",
    "    model.limitB = pyo.ConstraintList()\n",
    "    model.demandElim = pyo.ConstraintList()\n",
    "    model.limitE = pyo.ConstraintList()\n",
    "    for i in model.scenarios:\n",
    "        model.demandFlim.add(expr= model.sell['F',i] <= model.demandF[i])\n",
    "        model.limitF.add(expr= model.sell['F',i] <= model.seats['F'])\n",
    "        model.demandBlim.add(expr= model.sell['B',i] <= model.demandB[i])\n",
    "        model.limitB.add(expr= model.sell['B',i] <= model.seats['B'])\n",
    "        model.demandElim.add(expr= model.sell['E',i] <= model.demandE[i])\n",
    "        model.limitE.add(expr= model.sell['E',i] <= model.seats['E'])\n",
    "\n",
    "    def second_stage_profit(model):\n",
    "        return sum([model.sell['F',i] * model.pricefactor_F + model.sell['B',i] * model.pricefactor_B + model.sell['E',i] for i in model.scenarios])/float(N)\n",
    "\n",
    "    model.second_stage_profit = pyo.Expression(rule=second_stage_profit)\n",
    "\n",
    "    def total_profit(model):\n",
    "        return model.second_stage_profit\n",
    "\n",
    "    model.total_expected_profit = pyo.Objective(rule=total_profit, sense=pyo.maximize)\n",
    "\n",
    "    result = cbc_solver.solve(model)\n",
    "    display(Markdown(f\"**Solver status:** *{result.solver.status}, {result.solver.termination_condition}*\"))\n",
    "    display(Markdown(f\"**Solution:**\"))\n",
    "    display(Markdown(f\"(seat allocation) $x_F = {model.seats['F'].value:.0f}$, $e_B = {model.seats['B'].value:.0f}$, $e_E = {model.seats['E'].value:.0f}$\"))\n",
    "    display(Markdown(f\"(equivalent seat allocation) $e_F = {model.equivalentseatsF.expr():.0f}$, $e_B = {model.equivalentseatsB.expr():.0f}$, $e_E = {model.equivalentseatsE.expr():.0f}$\"))\n",
    "    display(Markdown(f\"**Optimal objective value:** ${model.total_expected_profit():.0f}$ (in units of economy ticket price)\"))\n",
    "\n",
    "N = 1000\n",
    "np.random.seed(1)\n",
    "samples = np.random.multivariate_normal([16, 30, 180],[[3.5, 3.7, 2.5],[3.7, 6.5, 7.5],[2.5, 7.5, 25.2]], N)\n",
    "AirlineSAA(N, samples)"
   ]
  }
 ],
 "metadata": {
  "kernelspec": {
   "display_name": "Python 3 (ipykernel)",
   "language": "python",
   "name": "python3"
  },
  "language_info": {
   "codemirror_mode": {
    "name": "ipython",
    "version": 3
   },
   "file_extension": ".py",
   "mimetype": "text/x-python",
   "name": "python",
   "nbconvert_exporter": "python",
   "pygments_lexer": "ipython3",
   "version": "3.9.7"
  },
  "varInspector": {
   "cols": {
    "lenName": 16,
    "lenType": 16,
    "lenVar": 40
   },
   "kernels_config": {
    "python": {
     "delete_cmd_postfix": "",
     "delete_cmd_prefix": "del ",
     "library": "var_list.py",
     "varRefreshCmd": "print(var_dic_list())"
    },
    "r": {
     "delete_cmd_postfix": ") ",
     "delete_cmd_prefix": "rm(",
     "library": "var_list.r",
     "varRefreshCmd": "cat(var_dic_list()) "
    }
   },
   "types_to_exclude": [
    "module",
    "function",
    "builtin_function_or_method",
    "instance",
    "_Feature"
   ],
   "window_display": false
  }
 },
 "nbformat": 4,
 "nbformat_minor": 5
}
