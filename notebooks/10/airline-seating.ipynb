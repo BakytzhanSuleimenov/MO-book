{
 "cells": [
  {
   "cell_type": "markdown",
   "id": "dcadad27-4c87-4222-b248-17b1068311ff",
   "metadata": {
    "tags": []
   },
   "source": [
    "# Airline seat allocation problem\n",
    "\n",
    "## Attribution\n",
    "\n",
    "The following problem statement is adapted from an exercise presented by Birge and Louveaux (2011). \n",
    "\n",
    "* Birge, J. R., & Louveaux, F. (2011). Introduction to stochastic programming. Springer Science & Business Media.\n",
    "\n",
    "The adaptations include a minor change in problem parameters for consistency throughout the model development, and the addition of a treatment for sample average approximation (SAA) for chance constraints."
   ]
  },
  {
   "cell_type": "markdown",
   "id": "78a7e349-0b92-4f23-b76b-b1d0e1e153f0",
   "metadata": {
    "tags": []
   },
   "source": [
    "## Problem Statement\n",
    "\n",
    "An airline is deciding how to partition a new plane for the Amsterdam-Buenos Aires route. This plane can seat 200 economy class passengers. A section can be created for first class seats but each of these seats takes the space of 2 economy class seats. A business class section can also be created, but each of these takes the space of 1.5 economy class seats. The profit for a first class ticket is three times the profit of an economy ticket, while a business class ticket has a profit of two times an economy ticket's profit. Once the plane is partitioned into these seating classes, it cannot be changed. \n",
    "\n",
    "The airlines knows that the plane will not always be full in every section. The airline has decided  three scenarios will occur with about equal frequency: \n",
    "\n",
    "1. Weekday morning and evening traffic.\n",
    "2. Weekend traffic.\n",
    "3. Weekday midday traffic. \n",
    "\n",
    "Under Scenario 1 they think they can sell as many as 20 first class tickets, 50 business class tickets, and 200 economy tickets. Under Scenario 2, these figures are 10 , 24, and 175, while under Scenario 3, they are 6, 10, and 150. The following table summarizes the forecast demand for these three scenarios.\n",
    "\n",
    "| Scenario | First class seats | Business class seats | Economy class seats |\n",
    "| :-- | :-: | :-: | :-: |\n",
    "| (1) weekday morning and evening | 20 | 50 | 200 |\n",
    "| (2) weekend | 10 | 24 | 175 |\n",
    "| (3) weekday midday | 6 | 10 | 150 |\n",
    "| **Mean Scenario** | **12** | **28** | **175** |\n",
    "\n",
    "Despite these estimates, the airline will not sell more tickets than seats in each of the sections (hence no overbooking strategy). We further assume customers seeking a first-class or business class seat will not downgrade if those seats are not available.\n",
    "\n",
    "Implement and solve the extensive form of the stochastic program for the optimal seat allocation aiming to maximize the airline profit."
   ]
  },
  {
   "cell_type": "markdown",
   "id": "347cbd20-15e4-4634-8a05-e782dc0e0929",
   "metadata": {},
   "source": [
    "## Installation and Imports"
   ]
  },
  {
   "cell_type": "code",
   "execution_count": 1,
   "id": "ea71de65",
   "metadata": {
    "ExecuteTime": {
     "end_time": "2022-09-30T21:49:05.660595Z",
     "start_time": "2022-09-30T21:49:05.457825Z"
    }
   },
   "outputs": [
    {
     "name": "stdout",
     "output_type": "stream",
     "text": [
      "pyomo was previously installed\n",
      "cbc was previously installed\n"
     ]
    },
    {
     "data": {
      "text/plain": [
       "True"
      ]
     },
     "execution_count": 1,
     "metadata": {},
     "output_type": "execute_result"
    }
   ],
   "source": [
    "# install Pyomo and solvers\n",
    "import requests\n",
    "import types\n",
    "\n",
    "url = \"https://raw.githubusercontent.com/mobook/MO-book/main/python/helper.py\"\n",
    "helper = types.ModuleType(\"helper\")\n",
    "exec(requests.get(url).content, helper.__dict__)\n",
    "\n",
    "helper.install_pyomo()\n",
    "helper.install_cbc()"
   ]
  },
  {
   "cell_type": "code",
   "execution_count": 2,
   "id": "e91fbe82",
   "metadata": {
    "ExecuteTime": {
     "end_time": "2022-09-30T21:49:07.404490Z",
     "start_time": "2022-09-30T21:49:05.663157Z"
    }
   },
   "outputs": [],
   "source": [
    "import pyomo.environ as pyo\n",
    "import numpy as np\n",
    "import pandas as pd\n",
    "import matplotlib.pyplot as plt"
   ]
  },
  {
   "cell_type": "markdown",
   "id": "2f7df9f7-9a96-4358-9e47-50cd63d7611a",
   "metadata": {},
   "source": [
    "## Problem Data\n",
    "\n",
    "Pandas DataFrames and Pandas Series are used to encode problem data in the following cell, and to encode problem solutions in subsequent cells."
   ]
  },
  {
   "cell_type": "code",
   "execution_count": 3,
   "id": "51e9fdd8-d586-48e6-be86-0d97fbad8a3f",
   "metadata": {},
   "outputs": [],
   "source": [
    "# scenario data\n",
    "demand = pd.DataFrame({\n",
    "    \"morning and evening\": {'F': 20, 'B': 50, 'E': 200},\n",
    "    \"weekend\": {'F': 10, 'B': 24, 'E': 175},\n",
    "    \"midday\": {'F':  6, 'B': 10, 'E': 150}\n",
    "}).T\n",
    "\n",
    "# revenue and seat factor data|\n",
    "capacity = 200\n",
    "revenue_factor = pd.Series({\"F\": 3.0, \"B\": 2.0, \"E\": 1.0})\n",
    "seat_factor = pd.Series({\"F\": 2.0, \"B\": 1.5, \"E\": 1.0})"
   ]
  },
  {
   "cell_type": "markdown",
   "id": "cfbd3423-f10d-49a4-b7f7-f6545729c9cc",
   "metadata": {},
   "source": [
    "## Analytics\n",
    "\n",
    "The first-stage decision variables are $\\text{seats}_c$, the number of seats allocated or for each class $c\\in C$. We would like to provide a analysis showing the operational consequences for any proposed allocation of seats. For this purpose, we create a function ``seat_report()`` that show the tickets that can be sold in each scenario, the resulting revenue, and the unsatisfied demand ('spillage'). This is demonstrated for the case where the airplane is configured as entirely economy class."
   ]
  },
  {
   "cell_type": "code",
   "execution_count": 69,
   "id": "3eed107a-1fec-4d6c-9b01-f399fbe3bb99",
   "metadata": {},
   "outputs": [
    {
     "name": "stdout",
     "output_type": "stream",
     "text": [
      "\n",
      "Seat Allocation\n"
     ]
    },
    {
     "data": {
      "text/html": [
       "<div>\n",
       "<style scoped>\n",
       "    .dataframe tbody tr th:only-of-type {\n",
       "        vertical-align: middle;\n",
       "    }\n",
       "\n",
       "    .dataframe tbody tr th {\n",
       "        vertical-align: top;\n",
       "    }\n",
       "\n",
       "    .dataframe thead th {\n",
       "        text-align: right;\n",
       "    }\n",
       "</style>\n",
       "<table border=\"1\" class=\"dataframe\">\n",
       "  <thead>\n",
       "    <tr style=\"text-align: right;\">\n",
       "      <th></th>\n",
       "      <th>F</th>\n",
       "      <th>B</th>\n",
       "      <th>E</th>\n",
       "      <th>TOTAL</th>\n",
       "    </tr>\n",
       "  </thead>\n",
       "  <tbody>\n",
       "    <tr>\n",
       "      <th>seat allocation</th>\n",
       "      <td>0.0</td>\n",
       "      <td>0.0</td>\n",
       "      <td>200.0</td>\n",
       "      <td>200.0</td>\n",
       "    </tr>\n",
       "    <tr>\n",
       "      <th>economy equivalent seat allocation</th>\n",
       "      <td>0.0</td>\n",
       "      <td>0.0</td>\n",
       "      <td>200.0</td>\n",
       "      <td>200.0</td>\n",
       "    </tr>\n",
       "  </tbody>\n",
       "</table>\n",
       "</div>"
      ],
      "text/plain": [
       "                                      F    B      E  TOTAL\n",
       "seat allocation                     0.0  0.0  200.0  200.0\n",
       "economy equivalent seat allocation  0.0  0.0  200.0  200.0"
      ]
     },
     "metadata": {},
     "output_type": "display_data"
    },
    {
     "name": "stdout",
     "output_type": "stream",
     "text": [
      "\n",
      "Tickets Sold\n"
     ]
    },
    {
     "data": {
      "text/html": [
       "<div>\n",
       "<style scoped>\n",
       "    .dataframe tbody tr th:only-of-type {\n",
       "        vertical-align: middle;\n",
       "    }\n",
       "\n",
       "    .dataframe tbody tr th {\n",
       "        vertical-align: top;\n",
       "    }\n",
       "\n",
       "    .dataframe thead th {\n",
       "        text-align: right;\n",
       "    }\n",
       "</style>\n",
       "<table border=\"1\" class=\"dataframe\">\n",
       "  <thead>\n",
       "    <tr style=\"text-align: right;\">\n",
       "      <th></th>\n",
       "      <th>F</th>\n",
       "      <th>B</th>\n",
       "      <th>E</th>\n",
       "    </tr>\n",
       "  </thead>\n",
       "  <tbody>\n",
       "    <tr>\n",
       "      <th>morning and evening</th>\n",
       "      <td>0</td>\n",
       "      <td>0</td>\n",
       "      <td>200</td>\n",
       "    </tr>\n",
       "    <tr>\n",
       "      <th>weekend</th>\n",
       "      <td>0</td>\n",
       "      <td>0</td>\n",
       "      <td>175</td>\n",
       "    </tr>\n",
       "    <tr>\n",
       "      <th>midday</th>\n",
       "      <td>0</td>\n",
       "      <td>0</td>\n",
       "      <td>150</td>\n",
       "    </tr>\n",
       "  </tbody>\n",
       "</table>\n",
       "</div>"
      ],
      "text/plain": [
       "                     F  B    E\n",
       "morning and evening  0  0  200\n",
       "weekend              0  0  175\n",
       "midday               0  0  150"
      ]
     },
     "metadata": {},
     "output_type": "display_data"
    },
    {
     "name": "stdout",
     "output_type": "stream",
     "text": [
      "\n",
      "Seats not Sold\n"
     ]
    },
    {
     "data": {
      "text/html": [
       "<div>\n",
       "<style scoped>\n",
       "    .dataframe tbody tr th:only-of-type {\n",
       "        vertical-align: middle;\n",
       "    }\n",
       "\n",
       "    .dataframe tbody tr th {\n",
       "        vertical-align: top;\n",
       "    }\n",
       "\n",
       "    .dataframe thead th {\n",
       "        text-align: right;\n",
       "    }\n",
       "</style>\n",
       "<table border=\"1\" class=\"dataframe\">\n",
       "  <thead>\n",
       "    <tr style=\"text-align: right;\">\n",
       "      <th></th>\n",
       "      <th>F</th>\n",
       "      <th>B</th>\n",
       "      <th>E</th>\n",
       "    </tr>\n",
       "  </thead>\n",
       "  <tbody>\n",
       "    <tr>\n",
       "      <th>morning and evening</th>\n",
       "      <td>0</td>\n",
       "      <td>0</td>\n",
       "      <td>0</td>\n",
       "    </tr>\n",
       "    <tr>\n",
       "      <th>weekend</th>\n",
       "      <td>0</td>\n",
       "      <td>0</td>\n",
       "      <td>25</td>\n",
       "    </tr>\n",
       "    <tr>\n",
       "      <th>midday</th>\n",
       "      <td>0</td>\n",
       "      <td>0</td>\n",
       "      <td>50</td>\n",
       "    </tr>\n",
       "  </tbody>\n",
       "</table>\n",
       "</div>"
      ],
      "text/plain": [
       "                     F  B   E\n",
       "morning and evening  0  0   0\n",
       "weekend              0  0  25\n",
       "midday               0  0  50"
      ]
     },
     "metadata": {},
     "output_type": "display_data"
    },
    {
     "name": "stdout",
     "output_type": "stream",
     "text": [
      "\n",
      "Spillage (Unfulfilled Demand)\n"
     ]
    },
    {
     "data": {
      "text/html": [
       "<div>\n",
       "<style scoped>\n",
       "    .dataframe tbody tr th:only-of-type {\n",
       "        vertical-align: middle;\n",
       "    }\n",
       "\n",
       "    .dataframe tbody tr th {\n",
       "        vertical-align: top;\n",
       "    }\n",
       "\n",
       "    .dataframe thead th {\n",
       "        text-align: right;\n",
       "    }\n",
       "</style>\n",
       "<table border=\"1\" class=\"dataframe\">\n",
       "  <thead>\n",
       "    <tr style=\"text-align: right;\">\n",
       "      <th></th>\n",
       "      <th>F</th>\n",
       "      <th>B</th>\n",
       "      <th>E</th>\n",
       "    </tr>\n",
       "  </thead>\n",
       "  <tbody>\n",
       "    <tr>\n",
       "      <th>morning and evening</th>\n",
       "      <td>20</td>\n",
       "      <td>50</td>\n",
       "      <td>0</td>\n",
       "    </tr>\n",
       "    <tr>\n",
       "      <th>weekend</th>\n",
       "      <td>10</td>\n",
       "      <td>24</td>\n",
       "      <td>0</td>\n",
       "    </tr>\n",
       "    <tr>\n",
       "      <th>midday</th>\n",
       "      <td>6</td>\n",
       "      <td>10</td>\n",
       "      <td>0</td>\n",
       "    </tr>\n",
       "  </tbody>\n",
       "</table>\n",
       "</div>"
      ],
      "text/plain": [
       "                      F   B  E\n",
       "morning and evening  20  50  0\n",
       "weekend              10  24  0\n",
       "midday                6  10  0"
      ]
     },
     "metadata": {},
     "output_type": "display_data"
    },
    {
     "name": "stdout",
     "output_type": "stream",
     "text": [
      "\n",
      "Expected Revenue (in units of economy ticket price): 175.00\n"
     ]
    },
    {
     "data": {
      "image/png": "[encoded data removed]",
      "text/plain": [
       "<Figure size 576x288 with 1 Axes>"
      ]
     },
     "metadata": {
      "needs_background": "light"
     },
     "output_type": "display_data"
    },
    {
     "data": {
      "image/png": "[encoded data removed]",
      "text/plain": [
       "<Figure size 576x288 with 1 Axes>"
      ]
     },
     "metadata": {
      "needs_background": "light"
     },
     "output_type": "display_data"
    }
   ],
   "source": [
    "# function to report analytics for any given seat allocations\n",
    "def seat_report(seats, demand):\n",
    "    \n",
    "    classes = seats.index\n",
    "    \n",
    "    # report seat allocation\n",
    "    equivalent_seats = pd.DataFrame({\n",
    "        \"seat allocation\":  {c: seats[c] for c in classes},\n",
    "        \"economy equivalent seat allocation\": {c: seats[c] * seat_factor[c] for c in classes}\n",
    "    }).T\n",
    "    equivalent_seats[\"TOTAL\"] = equivalent_seats.sum(axis=1)\n",
    "    print(\"\\nSeat Allocation\")\n",
    "    display(equivalent_seats)\n",
    "    \n",
    "    # tickets sold\n",
    "    tickets = pd.DataFrame()\n",
    "    for c in classes:\n",
    "        tickets[c] = np.minimum(seats[c], demand[c])\n",
    "\n",
    "    print(\"\\nTickets Sold\")\n",
    "    display(tickets)\n",
    "    \n",
    "    # seats unsold\n",
    "    unsold = pd.DataFrame()\n",
    "    for c in classes:\n",
    "        unsold[c] = seats[c] - tickets[c]\n",
    "    print(\"\\nSeats not Sold\")\n",
    "    display(unsold)\n",
    "\n",
    "    # spillage (unmet demand)\n",
    "    spillage = demand - tickets\n",
    "    print(\"\\nSpillage (Unfulfilled Demand)\")\n",
    "    display(spillage)\n",
    "    \n",
    "    # compute revenue\n",
    "    revenue = tickets.dot(revenue_factor)\n",
    "    print(f\"\\nExpected Revenue (in units of economy ticket price): {revenue.mean():.2f}\")\n",
    "\n",
    "    # charts\n",
    "    fig, ax = plt.subplots(1, 1, figsize=(8, 4))\n",
    "    revenue.plot(ax=ax, kind=\"barh\", title=\"Revenue by Scenario\")\n",
    "    ax.plot([revenue.mean()]*2, ax.get_ylim(), \"--\", lw=1.4)\n",
    "    ax.set_xlabel(\"Revenue\")\n",
    "    \n",
    "    fig, ax = plt.subplots(1, 1, figsize=(8, 4))\n",
    "    tickets[classes].plot(ax=ax, kind=\"barh\", rot=0, stacked=False, title=\"Demand Scenarios\")\n",
    "    demand[classes].plot(ax=ax, kind=\"barh\", rot=0, stacked=False, title=\"Demand Scenarios\", alpha=0.2)\n",
    "    for c in classes:\n",
    "        ax.plot([seats[c]] * 2, ax.get_ylim(), \"--\", lw=1.4)\n",
    "    ax.set_xlabel(\"Seats\")\n",
    "\n",
    "    return\n",
    "\n",
    "# a trial solution \n",
    "seats_all_economy = pd.Series({\"F\": 0, \"B\": 0, \"E\": 200})\n",
    "seat_report(seats_all_economy, demand)"
   ]
  },
  {
   "cell_type": "markdown",
   "id": "60309d8c-a2e4-48ee-9510-d2cccb2fd1af",
   "metadata": {},
   "source": [
    "## Model 1. Deterministic Solution for the Average Scenario\n",
    "\n",
    "A common starting point in stochastic programming is to solve the deterministic problem where future demands are fixed at their mean values, then computing the expected value that results when using that solution. The resulting value of the objective has been called the *expectation of the expected value probem (EEV)* by Birge, or the *expected value of the mean (EVM)* solution by others.\n",
    "\n",
    "The objective function is to maximize ticket revenue.\n",
    "\n",
    "$$\n",
    "\\begin{align}\n",
    "\\max_{\\text{seats}_c, \\text{tickets}_c} & \\sum_{c\\in \\text{CLASSES}} r_c \\text{tickets}_c \n",
    "\\end{align}\n",
    "$$\n",
    "\n",
    "where $r_c$ is the revenue from selling a ticket for a seat in class $c\\in \\text{CLASSES}$. \n",
    "\n",
    "Let $\\text{seats}_c$ denote the number of seats of class $c \\in \\{F, B, E\\}$ installed in the new plane. Let $s_c$ be the scale factor denoting the number of economy seats displaced by one seat in class $c$. Then\n",
    "\n",
    "$$\n",
    "\\begin{align}\n",
    "\\sum_{c\\in \\text{CLASSES}} s_c \\text{seats}_c & \\leq \\text{capacity}\n",
    "\\end{align}\n",
    "$$\n",
    "\n",
    "where $\\text{capacity}$ is the total number of economy class seats that could fit on the plane. Let $\\bar{\\text{demand}}_c$ be the mean demand for seats of class $c\\in \\text{CLASSES}$, and let $\\text{tickets}_c$ be the number of tickets of class $c\\in \\text{CLASSES}$ that are sold. Then\n",
    "\n",
    "$$\n",
    "\\begin{align}\n",
    "\\text{tickets}_c & \\leq \\text{seats}_c & \\forall c\\in \\text{CLASSES} \\\\\n",
    "\\text{tickets}_c & \\leq \\text{mean demand}_c & \\forall c\\in \\text{CLASSES}\n",
    "\\end{align}\n",
    "$$\n",
    "\n",
    "The following cell presents a Pyomo model implementing this model."
   ]
  },
  {
   "cell_type": "code",
   "execution_count": 70,
   "id": "434a69fc-3bd2-4eb8-95f2-2613e82432b0",
   "metadata": {},
   "outputs": [
    {
     "name": "stdout",
     "output_type": "stream",
     "text": [
      "\n",
      "Seat Allocation\n"
     ]
    },
    {
     "data": {
      "text/html": [
       "<div>\n",
       "<style scoped>\n",
       "    .dataframe tbody tr th:only-of-type {\n",
       "        vertical-align: middle;\n",
       "    }\n",
       "\n",
       "    .dataframe tbody tr th {\n",
       "        vertical-align: top;\n",
       "    }\n",
       "\n",
       "    .dataframe thead th {\n",
       "        text-align: right;\n",
       "    }\n",
       "</style>\n",
       "<table border=\"1\" class=\"dataframe\">\n",
       "  <thead>\n",
       "    <tr style=\"text-align: right;\">\n",
       "      <th></th>\n",
       "      <th>F</th>\n",
       "      <th>B</th>\n",
       "      <th>E</th>\n",
       "      <th>TOTAL</th>\n",
       "    </tr>\n",
       "  </thead>\n",
       "  <tbody>\n",
       "    <tr>\n",
       "      <th>seat allocation</th>\n",
       "      <td>12.0</td>\n",
       "      <td>28.0</td>\n",
       "      <td>134.0</td>\n",
       "      <td>174.0</td>\n",
       "    </tr>\n",
       "    <tr>\n",
       "      <th>economy equivalent seat allocation</th>\n",
       "      <td>24.0</td>\n",
       "      <td>42.0</td>\n",
       "      <td>134.0</td>\n",
       "      <td>200.0</td>\n",
       "    </tr>\n",
       "  </tbody>\n",
       "</table>\n",
       "</div>"
      ],
      "text/plain": [
       "                                       F     B      E  TOTAL\n",
       "seat allocation                     12.0  28.0  134.0  174.0\n",
       "economy equivalent seat allocation  24.0  42.0  134.0  200.0"
      ]
     },
     "metadata": {},
     "output_type": "display_data"
    },
    {
     "name": "stdout",
     "output_type": "stream",
     "text": [
      "\n",
      "Tickets Sold\n"
     ]
    },
    {
     "data": {
      "text/html": [
       "<div>\n",
       "<style scoped>\n",
       "    .dataframe tbody tr th:only-of-type {\n",
       "        vertical-align: middle;\n",
       "    }\n",
       "\n",
       "    .dataframe tbody tr th {\n",
       "        vertical-align: top;\n",
       "    }\n",
       "\n",
       "    .dataframe thead th {\n",
       "        text-align: right;\n",
       "    }\n",
       "</style>\n",
       "<table border=\"1\" class=\"dataframe\">\n",
       "  <thead>\n",
       "    <tr style=\"text-align: right;\">\n",
       "      <th></th>\n",
       "      <th>F</th>\n",
       "      <th>B</th>\n",
       "      <th>E</th>\n",
       "    </tr>\n",
       "  </thead>\n",
       "  <tbody>\n",
       "    <tr>\n",
       "      <th>morning and evening</th>\n",
       "      <td>12.0</td>\n",
       "      <td>28.0</td>\n",
       "      <td>134.0</td>\n",
       "    </tr>\n",
       "    <tr>\n",
       "      <th>weekend</th>\n",
       "      <td>10.0</td>\n",
       "      <td>24.0</td>\n",
       "      <td>134.0</td>\n",
       "    </tr>\n",
       "    <tr>\n",
       "      <th>midday</th>\n",
       "      <td>6.0</td>\n",
       "      <td>10.0</td>\n",
       "      <td>134.0</td>\n",
       "    </tr>\n",
       "  </tbody>\n",
       "</table>\n",
       "</div>"
      ],
      "text/plain": [
       "                        F     B      E\n",
       "morning and evening  12.0  28.0  134.0\n",
       "weekend              10.0  24.0  134.0\n",
       "midday                6.0  10.0  134.0"
      ]
     },
     "metadata": {},
     "output_type": "display_data"
    },
    {
     "name": "stdout",
     "output_type": "stream",
     "text": [
      "\n",
      "Seats not Sold\n"
     ]
    },
    {
     "data": {
      "text/html": [
       "<div>\n",
       "<style scoped>\n",
       "    .dataframe tbody tr th:only-of-type {\n",
       "        vertical-align: middle;\n",
       "    }\n",
       "\n",
       "    .dataframe tbody tr th {\n",
       "        vertical-align: top;\n",
       "    }\n",
       "\n",
       "    .dataframe thead th {\n",
       "        text-align: right;\n",
       "    }\n",
       "</style>\n",
       "<table border=\"1\" class=\"dataframe\">\n",
       "  <thead>\n",
       "    <tr style=\"text-align: right;\">\n",
       "      <th></th>\n",
       "      <th>F</th>\n",
       "      <th>B</th>\n",
       "      <th>E</th>\n",
       "    </tr>\n",
       "  </thead>\n",
       "  <tbody>\n",
       "    <tr>\n",
       "      <th>morning and evening</th>\n",
       "      <td>0.0</td>\n",
       "      <td>0.0</td>\n",
       "      <td>0.0</td>\n",
       "    </tr>\n",
       "    <tr>\n",
       "      <th>weekend</th>\n",
       "      <td>2.0</td>\n",
       "      <td>4.0</td>\n",
       "      <td>0.0</td>\n",
       "    </tr>\n",
       "    <tr>\n",
       "      <th>midday</th>\n",
       "      <td>6.0</td>\n",
       "      <td>18.0</td>\n",
       "      <td>0.0</td>\n",
       "    </tr>\n",
       "  </tbody>\n",
       "</table>\n",
       "</div>"
      ],
      "text/plain": [
       "                       F     B    E\n",
       "morning and evening  0.0   0.0  0.0\n",
       "weekend              2.0   4.0  0.0\n",
       "midday               6.0  18.0  0.0"
      ]
     },
     "metadata": {},
     "output_type": "display_data"
    },
    {
     "name": "stdout",
     "output_type": "stream",
     "text": [
      "\n",
      "Spillage (Unfulfilled Demand)\n"
     ]
    },
    {
     "data": {
      "text/html": [
       "<div>\n",
       "<style scoped>\n",
       "    .dataframe tbody tr th:only-of-type {\n",
       "        vertical-align: middle;\n",
       "    }\n",
       "\n",
       "    .dataframe tbody tr th {\n",
       "        vertical-align: top;\n",
       "    }\n",
       "\n",
       "    .dataframe thead th {\n",
       "        text-align: right;\n",
       "    }\n",
       "</style>\n",
       "<table border=\"1\" class=\"dataframe\">\n",
       "  <thead>\n",
       "    <tr style=\"text-align: right;\">\n",
       "      <th></th>\n",
       "      <th>F</th>\n",
       "      <th>B</th>\n",
       "      <th>E</th>\n",
       "    </tr>\n",
       "  </thead>\n",
       "  <tbody>\n",
       "    <tr>\n",
       "      <th>morning and evening</th>\n",
       "      <td>8.0</td>\n",
       "      <td>22.0</td>\n",
       "      <td>66.0</td>\n",
       "    </tr>\n",
       "    <tr>\n",
       "      <th>weekend</th>\n",
       "      <td>0.0</td>\n",
       "      <td>0.0</td>\n",
       "      <td>41.0</td>\n",
       "    </tr>\n",
       "    <tr>\n",
       "      <th>midday</th>\n",
       "      <td>0.0</td>\n",
       "      <td>0.0</td>\n",
       "      <td>16.0</td>\n",
       "    </tr>\n",
       "  </tbody>\n",
       "</table>\n",
       "</div>"
      ],
      "text/plain": [
       "                       F     B     E\n",
       "morning and evening  8.0  22.0  66.0\n",
       "weekend              0.0   0.0  41.0\n",
       "midday               0.0   0.0  16.0"
      ]
     },
     "metadata": {},
     "output_type": "display_data"
    },
    {
     "name": "stdout",
     "output_type": "stream",
     "text": [
      "\n",
      "Expected Revenue (in units of economy ticket price): 203.33\n"
     ]
    },
    {
     "data": {
      "image/png": "[encoded data removed]",
      "text/plain": [
       "<Figure size 576x288 with 1 Axes>"
      ]
     },
     "metadata": {
      "needs_background": "light"
     },
     "output_type": "display_data"
    },
    {
     "data": {
      "image/png": "[encoded data removed]",
      "text/plain": [
       "<Figure size 576x288 with 1 Axes>"
      ]
     },
     "metadata": {
      "needs_background": "light"
     },
     "output_type": "display_data"
    }
   ],
   "source": [
    "def airline_EEV(demand):\n",
    "\n",
    "    m = pyo.ConcreteModel()\n",
    "    \n",
    "    m.CLASSES = pyo.Set(initialize=demand.columns)\n",
    "\n",
    "    # first stage variables and constraints\n",
    "    m.seats = pyo.Var(m.CLASSES, domain=pyo.NonNegativeIntegers) \n",
    "\n",
    "    @m.Constraint(m.CLASSES)\n",
    "    def plane_seats(m, c):\n",
    "        return sum(m.seats[c] * seat_factor[c] for c in m.CLASSES) <= capacity\n",
    "\n",
    "    # second stage variable and constraints\n",
    "    m.tickets = pyo.Var(m.CLASSES, domain=pyo.NonNegativeIntegers)\n",
    "\n",
    "    @m.Constraint(m.CLASSES)\n",
    "    def demand_limits(m, c):\n",
    "        return m.tickets[c] <= demand[c].mean()\n",
    "\n",
    "    @m.Constraint(m.CLASSES)\n",
    "    def seat_limits(m, c):\n",
    "        return m.tickets[c] <= m.seats[c]\n",
    "\n",
    "    # objective\n",
    "    @m.Objective(sense=pyo.maximize)\n",
    "    def revenue(m):\n",
    "        return sum(m.tickets[c] * revenue_factor[c] for c in m.CLASSES)\n",
    "    \n",
    "    return m\n",
    "\n",
    "def airline_solve(m):\n",
    "    pyo.SolverFactory('cbc').solve(m)\n",
    "    return pd.Series({c: m.seats[c]() for c in m.CLASSES})\n",
    "\n",
    "model_eev = airline_EEV(demand)\n",
    "seats_eev = airline_solve(model_eev)\n",
    "seat_report(seats_eev, demand)"
   ]
  },
  {
   "cell_type": "markdown",
   "id": "d1e11c9c-1ab7-4f33-938b-ca6b927640cb",
   "metadata": {
    "tags": []
   },
   "source": [
    "## Model 2. Extensive Form of a Stochastic Program\n",
    "\n",
    "The stochastic program accounts for uncertainty in demand by treating the number of tickets sold as scenario dependent, i.e., a second-stage or recourse decision variable, $\\text{tickets}_{c,s}$ that is indexed by both seat class and scenario. \n",
    "\n",
    "\n",
    "$$\n",
    "\\begin{align}\n",
    "\\max & \\frac{1}{N}\\sum_{\\substack{c\\in \\text{CLASSES} \\\\ s\\in \\text{SCENARIOS}}} r_c \\text{tickets}_{c, s} \n",
    "\\end{align}\n",
    "$$\n",
    "\n",
    "where $N$ is the number of scenarios. The first stage constraint remains unchanged\n",
    "\n",
    "$$\n",
    "\\begin{align}\n",
    "\\sum_{c\\in \\text{CLASSES}} s_c \\text{seats}_c & \\leq \\text{capacity}\n",
    "\\end{align}\n",
    "$$\n",
    "\n",
    "The second stage constraints are\n",
    "\n",
    "$$\n",
    "\\begin{align}\n",
    "\\text{tickets}_c & \\leq \\text{seats}_c & \\forall c\\in \\text{CLASSES} \\\\\n",
    "\\text{tickets}_c & \\leq \\text{demand}_{c, s} & \\forall (c, s) \\in \\text{CLASSES} \\times \\text{SCENARIOS}\n",
    "\\end{align}\n",
    "$$\n",
    "\n",
    "The following cell presents a Pyomo model implementing this model."
   ]
  },
  {
   "cell_type": "code",
   "execution_count": 71,
   "id": "be868fbe-efcf-4970-beaa-fd85718c8914",
   "metadata": {},
   "outputs": [
    {
     "name": "stdout",
     "output_type": "stream",
     "text": [
      "\n",
      "Seat Allocation\n"
     ]
    },
    {
     "data": {
      "text/html": [
       "<div>\n",
       "<style scoped>\n",
       "    .dataframe tbody tr th:only-of-type {\n",
       "        vertical-align: middle;\n",
       "    }\n",
       "\n",
       "    .dataframe tbody tr th {\n",
       "        vertical-align: top;\n",
       "    }\n",
       "\n",
       "    .dataframe thead th {\n",
       "        text-align: right;\n",
       "    }\n",
       "</style>\n",
       "<table border=\"1\" class=\"dataframe\">\n",
       "  <thead>\n",
       "    <tr style=\"text-align: right;\">\n",
       "      <th></th>\n",
       "      <th>F</th>\n",
       "      <th>B</th>\n",
       "      <th>E</th>\n",
       "      <th>TOTAL</th>\n",
       "    </tr>\n",
       "  </thead>\n",
       "  <tbody>\n",
       "    <tr>\n",
       "      <th>seat allocation</th>\n",
       "      <td>10.0</td>\n",
       "      <td>20.0</td>\n",
       "      <td>150.0</td>\n",
       "      <td>180.0</td>\n",
       "    </tr>\n",
       "    <tr>\n",
       "      <th>economy equivalent seat allocation</th>\n",
       "      <td>20.0</td>\n",
       "      <td>30.0</td>\n",
       "      <td>150.0</td>\n",
       "      <td>200.0</td>\n",
       "    </tr>\n",
       "  </tbody>\n",
       "</table>\n",
       "</div>"
      ],
      "text/plain": [
       "                                       F     B      E  TOTAL\n",
       "seat allocation                     10.0  20.0  150.0  180.0\n",
       "economy equivalent seat allocation  20.0  30.0  150.0  200.0"
      ]
     },
     "metadata": {},
     "output_type": "display_data"
    },
    {
     "name": "stdout",
     "output_type": "stream",
     "text": [
      "\n",
      "Tickets Sold\n"
     ]
    },
    {
     "data": {
      "text/html": [
       "<div>\n",
       "<style scoped>\n",
       "    .dataframe tbody tr th:only-of-type {\n",
       "        vertical-align: middle;\n",
       "    }\n",
       "\n",
       "    .dataframe tbody tr th {\n",
       "        vertical-align: top;\n",
       "    }\n",
       "\n",
       "    .dataframe thead th {\n",
       "        text-align: right;\n",
       "    }\n",
       "</style>\n",
       "<table border=\"1\" class=\"dataframe\">\n",
       "  <thead>\n",
       "    <tr style=\"text-align: right;\">\n",
       "      <th></th>\n",
       "      <th>F</th>\n",
       "      <th>B</th>\n",
       "      <th>E</th>\n",
       "    </tr>\n",
       "  </thead>\n",
       "  <tbody>\n",
       "    <tr>\n",
       "      <th>morning and evening</th>\n",
       "      <td>10.0</td>\n",
       "      <td>20.0</td>\n",
       "      <td>150.0</td>\n",
       "    </tr>\n",
       "    <tr>\n",
       "      <th>weekend</th>\n",
       "      <td>10.0</td>\n",
       "      <td>20.0</td>\n",
       "      <td>150.0</td>\n",
       "    </tr>\n",
       "    <tr>\n",
       "      <th>midday</th>\n",
       "      <td>6.0</td>\n",
       "      <td>10.0</td>\n",
       "      <td>150.0</td>\n",
       "    </tr>\n",
       "  </tbody>\n",
       "</table>\n",
       "</div>"
      ],
      "text/plain": [
       "                        F     B      E\n",
       "morning and evening  10.0  20.0  150.0\n",
       "weekend              10.0  20.0  150.0\n",
       "midday                6.0  10.0  150.0"
      ]
     },
     "metadata": {},
     "output_type": "display_data"
    },
    {
     "name": "stdout",
     "output_type": "stream",
     "text": [
      "\n",
      "Seats not Sold\n"
     ]
    },
    {
     "data": {
      "text/html": [
       "<div>\n",
       "<style scoped>\n",
       "    .dataframe tbody tr th:only-of-type {\n",
       "        vertical-align: middle;\n",
       "    }\n",
       "\n",
       "    .dataframe tbody tr th {\n",
       "        vertical-align: top;\n",
       "    }\n",
       "\n",
       "    .dataframe thead th {\n",
       "        text-align: right;\n",
       "    }\n",
       "</style>\n",
       "<table border=\"1\" class=\"dataframe\">\n",
       "  <thead>\n",
       "    <tr style=\"text-align: right;\">\n",
       "      <th></th>\n",
       "      <th>F</th>\n",
       "      <th>B</th>\n",
       "      <th>E</th>\n",
       "    </tr>\n",
       "  </thead>\n",
       "  <tbody>\n",
       "    <tr>\n",
       "      <th>morning and evening</th>\n",
       "      <td>0.0</td>\n",
       "      <td>0.0</td>\n",
       "      <td>0.0</td>\n",
       "    </tr>\n",
       "    <tr>\n",
       "      <th>weekend</th>\n",
       "      <td>0.0</td>\n",
       "      <td>0.0</td>\n",
       "      <td>0.0</td>\n",
       "    </tr>\n",
       "    <tr>\n",
       "      <th>midday</th>\n",
       "      <td>4.0</td>\n",
       "      <td>10.0</td>\n",
       "      <td>0.0</td>\n",
       "    </tr>\n",
       "  </tbody>\n",
       "</table>\n",
       "</div>"
      ],
      "text/plain": [
       "                       F     B    E\n",
       "morning and evening  0.0   0.0  0.0\n",
       "weekend              0.0   0.0  0.0\n",
       "midday               4.0  10.0  0.0"
      ]
     },
     "metadata": {},
     "output_type": "display_data"
    },
    {
     "name": "stdout",
     "output_type": "stream",
     "text": [
      "\n",
      "Spillage (Unfulfilled Demand)\n"
     ]
    },
    {
     "data": {
      "text/html": [
       "<div>\n",
       "<style scoped>\n",
       "    .dataframe tbody tr th:only-of-type {\n",
       "        vertical-align: middle;\n",
       "    }\n",
       "\n",
       "    .dataframe tbody tr th {\n",
       "        vertical-align: top;\n",
       "    }\n",
       "\n",
       "    .dataframe thead th {\n",
       "        text-align: right;\n",
       "    }\n",
       "</style>\n",
       "<table border=\"1\" class=\"dataframe\">\n",
       "  <thead>\n",
       "    <tr style=\"text-align: right;\">\n",
       "      <th></th>\n",
       "      <th>F</th>\n",
       "      <th>B</th>\n",
       "      <th>E</th>\n",
       "    </tr>\n",
       "  </thead>\n",
       "  <tbody>\n",
       "    <tr>\n",
       "      <th>morning and evening</th>\n",
       "      <td>10.0</td>\n",
       "      <td>30.0</td>\n",
       "      <td>50.0</td>\n",
       "    </tr>\n",
       "    <tr>\n",
       "      <th>weekend</th>\n",
       "      <td>0.0</td>\n",
       "      <td>4.0</td>\n",
       "      <td>25.0</td>\n",
       "    </tr>\n",
       "    <tr>\n",
       "      <th>midday</th>\n",
       "      <td>0.0</td>\n",
       "      <td>0.0</td>\n",
       "      <td>0.0</td>\n",
       "    </tr>\n",
       "  </tbody>\n",
       "</table>\n",
       "</div>"
      ],
      "text/plain": [
       "                        F     B     E\n",
       "morning and evening  10.0  30.0  50.0\n",
       "weekend               0.0   4.0  25.0\n",
       "midday                0.0   0.0   0.0"
      ]
     },
     "metadata": {},
     "output_type": "display_data"
    },
    {
     "name": "stdout",
     "output_type": "stream",
     "text": [
      "\n",
      "Expected Revenue (in units of economy ticket price): 209.33\n"
     ]
    },
    {
     "data": {
      "image/png": "[encoded data removed]",
      "text/plain": [
       "<Figure size 576x288 with 1 Axes>"
      ]
     },
     "metadata": {
      "needs_background": "light"
     },
     "output_type": "display_data"
    },
    {
     "data": {
      "image/png": "[encoded data removed]",
      "text/plain": [
       "<Figure size 576x288 with 1 Axes>"
      ]
     },
     "metadata": {
      "needs_background": "light"
     },
     "output_type": "display_data"
    }
   ],
   "source": [
    "def airline_SS(demand):\n",
    "\n",
    "    m = pyo.ConcreteModel()\n",
    "    \n",
    "    m.CLASSES = pyo.Set(initialize=demand.columns)\n",
    "    m.SCENARIOS = pyo.Set(initialize=demand.index)\n",
    "\n",
    "    # first stage variables and constraints\n",
    "    m.seats = pyo.Var(m.CLASSES, domain=pyo.NonNegativeIntegers) \n",
    "\n",
    "    @m.Constraint(m.CLASSES)\n",
    "    def plane_seats(m, c):\n",
    "        return sum(m.seats[c] * seat_factor[c] for c in m.CLASSES) <= capacity\n",
    "\n",
    "    # second stage variable and constraints\n",
    "    m.tickets = pyo.Var(m.CLASSES, m.SCENARIOS, domain=pyo.NonNegativeIntegers)\n",
    "\n",
    "    @m.Constraint(m.CLASSES, m.SCENARIOS)\n",
    "    def demand_limits(m, c, s):\n",
    "        return m.tickets[c, s] <= demand[c][s]\n",
    "\n",
    "    @m.Constraint(m.CLASSES, m.SCENARIOS)\n",
    "    def seat_limits(m, c, s):\n",
    "        return m.tickets[c, s] <= m.seats[c]\n",
    "\n",
    "    # objective\n",
    "    @m.Objective(sense=pyo.maximize)\n",
    "    def revenue(m):\n",
    "        return sum(m.tickets[c, s] * revenue_factor[c] for c in m.CLASSES for s in m.SCENARIOS)\n",
    "    \n",
    "    return m\n",
    "\n",
    "# create model\n",
    "model_ss = airline_SS(demand)\n",
    "seats_ss = airline_solve(model_ss)\n",
    "seat_report(seats_ss, demand)"
   ]
  },
  {
   "cell_type": "markdown",
   "id": "801f475e",
   "metadata": {
    "tags": []
   },
   "source": [
    "## Model 3. Chance Constraints\n",
    "\n",
    "The airline wishes a special guarantee for its clients enrolled in its loyalty program. In particular, it wants $98\\%$ probability to cover the demand of first-class seats and $95\\%$ probability to cover the demand of business class seats (by clients of the loyalty program). First-class passengers are covered if they can purchase a first-class seat. Business class passengers are covered if they purchase a business class seat or upgrade to a first-class seat. \n",
    "\n",
    "Assume weekday demands of loyalty-program passengers are Normally distributed as $\\xi_F \\sim \\mathcal N(\\mu_F, \\sigma_F^2)$ and $\\xi_B \\sim \\mathcal N(\\mu_B, \\sigma_B^2)$ for first-class and business, respectively. Assume that the demands for first-class and business class seats are independent.\n",
    "\n",
    "Let $\\text{seats}_F$ be the number of first-class seats and $\\text{seats}_B$ the number of business seats. The probabilistic constraints are\n",
    "\n",
    "$$\n",
    "\\mathbb P(\\text{seats}_F \\geq \\xi_F ) \\geq 0.98, \\qquad \\text{ and } \\qquad \\mathbb P(\\text{seats}_F + \\text{seats}_B \\geq \\xi_F + \\xi_B ) \\geq 0.95.\n",
    "$$\n",
    "\n",
    "These are can be written equivalently as linear constraints, specifically \n",
    "\n",
    "$$\n",
    "\\frac{\\text{seats}_F - \\mu_F}{\\sigma_F} \\geq 2.054 \\qquad \\text{ and } \\qquad \\frac{(\\text{seats}_F + \\text{seats}_B) - (\\mu_F + \\mu_B)}{\\sqrt{\\sigma_F^2 + \\sigma_B^2}} \\geq 1.645.\n",
    "$$\n",
    "\n",
    "| | $\\mu$ | $\\sigma$ |\n",
    "| :--: | :--: | :--: |\n",
    "| F | 12 | 4 |\n",
    "| B | 28 | 8 |\n",
    "| E | 175 | 20 |\n",
    "\n",
    "\n",
    "Add to your implementation of the extensive form the two equivalent deterministic constraints corresponding to the two chance constraints and find the new optimal solution meeting these additional constraints. How is the solution different from the previous one?"
   ]
  },
  {
   "cell_type": "code",
   "execution_count": 72,
   "id": "84a3c4d4-6c78-4857-85dd-d2d2d189a30d",
   "metadata": {},
   "outputs": [
    {
     "data": {
      "text/html": [
       "<div>\n",
       "<style scoped>\n",
       "    .dataframe tbody tr th:only-of-type {\n",
       "        vertical-align: middle;\n",
       "    }\n",
       "\n",
       "    .dataframe tbody tr th {\n",
       "        vertical-align: top;\n",
       "    }\n",
       "\n",
       "    .dataframe thead th {\n",
       "        text-align: right;\n",
       "    }\n",
       "</style>\n",
       "<table border=\"1\" class=\"dataframe\">\n",
       "  <thead>\n",
       "    <tr style=\"text-align: right;\">\n",
       "      <th></th>\n",
       "      <th>mu</th>\n",
       "      <th>sigma</th>\n",
       "    </tr>\n",
       "  </thead>\n",
       "  <tbody>\n",
       "    <tr>\n",
       "      <th>F</th>\n",
       "      <td>12.0</td>\n",
       "      <td>4</td>\n",
       "    </tr>\n",
       "    <tr>\n",
       "      <th>B</th>\n",
       "      <td>28.0</td>\n",
       "      <td>16</td>\n",
       "    </tr>\n",
       "    <tr>\n",
       "      <th>E</th>\n",
       "      <td>175.0</td>\n",
       "      <td>20</td>\n",
       "    </tr>\n",
       "  </tbody>\n",
       "</table>\n",
       "</div>"
      ],
      "text/plain": [
       "      mu  sigma\n",
       "F   12.0      4\n",
       "B   28.0     16\n",
       "E  175.0     20"
      ]
     },
     "metadata": {},
     "output_type": "display_data"
    }
   ],
   "source": [
    "mu = demand.mean()\n",
    "sigma = {\"F\": 4, \"B\": 16, \"E\": 20}\n",
    "display(pd.DataFrame({\"mu\": mu, \"sigma\": sigma}))"
   ]
  },
  {
   "cell_type": "markdown",
   "id": "f8dec142-cfd4-4739-b669-a0ac62bf1c57",
   "metadata": {},
   "source": [
    "The chance constraints are additional constraints imposed on the stochastic programming model. Rather than writing a function to create a whole new model, we can use the prior function to create and add the two chance constraints."
   ]
  },
  {
   "cell_type": "code",
   "execution_count": 73,
   "id": "2a3aeb53-b57f-4e00-91ed-1fb1ac4b75b8",
   "metadata": {},
   "outputs": [
    {
     "name": "stdout",
     "output_type": "stream",
     "text": [
      "\n",
      "Seat Allocation\n"
     ]
    },
    {
     "data": {
      "text/html": [
       "<div>\n",
       "<style scoped>\n",
       "    .dataframe tbody tr th:only-of-type {\n",
       "        vertical-align: middle;\n",
       "    }\n",
       "\n",
       "    .dataframe tbody tr th {\n",
       "        vertical-align: top;\n",
       "    }\n",
       "\n",
       "    .dataframe thead th {\n",
       "        text-align: right;\n",
       "    }\n",
       "</style>\n",
       "<table border=\"1\" class=\"dataframe\">\n",
       "  <thead>\n",
       "    <tr style=\"text-align: right;\">\n",
       "      <th></th>\n",
       "      <th>F</th>\n",
       "      <th>B</th>\n",
       "      <th>E</th>\n",
       "      <th>TOTAL</th>\n",
       "    </tr>\n",
       "  </thead>\n",
       "  <tbody>\n",
       "    <tr>\n",
       "      <th>seat allocation</th>\n",
       "      <td>21.0</td>\n",
       "      <td>47.0</td>\n",
       "      <td>87.0</td>\n",
       "      <td>155.0</td>\n",
       "    </tr>\n",
       "    <tr>\n",
       "      <th>economy equivalent seat allocation</th>\n",
       "      <td>42.0</td>\n",
       "      <td>70.5</td>\n",
       "      <td>87.0</td>\n",
       "      <td>199.5</td>\n",
       "    </tr>\n",
       "  </tbody>\n",
       "</table>\n",
       "</div>"
      ],
      "text/plain": [
       "                                       F     B     E  TOTAL\n",
       "seat allocation                     21.0  47.0  87.0  155.0\n",
       "economy equivalent seat allocation  42.0  70.5  87.0  199.5"
      ]
     },
     "metadata": {},
     "output_type": "display_data"
    },
    {
     "name": "stdout",
     "output_type": "stream",
     "text": [
      "\n",
      "Tickets Sold\n"
     ]
    },
    {
     "data": {
      "text/html": [
       "<div>\n",
       "<style scoped>\n",
       "    .dataframe tbody tr th:only-of-type {\n",
       "        vertical-align: middle;\n",
       "    }\n",
       "\n",
       "    .dataframe tbody tr th {\n",
       "        vertical-align: top;\n",
       "    }\n",
       "\n",
       "    .dataframe thead th {\n",
       "        text-align: right;\n",
       "    }\n",
       "</style>\n",
       "<table border=\"1\" class=\"dataframe\">\n",
       "  <thead>\n",
       "    <tr style=\"text-align: right;\">\n",
       "      <th></th>\n",
       "      <th>F</th>\n",
       "      <th>B</th>\n",
       "      <th>E</th>\n",
       "    </tr>\n",
       "  </thead>\n",
       "  <tbody>\n",
       "    <tr>\n",
       "      <th>morning and evening</th>\n",
       "      <td>20.0</td>\n",
       "      <td>47.0</td>\n",
       "      <td>87.0</td>\n",
       "    </tr>\n",
       "    <tr>\n",
       "      <th>weekend</th>\n",
       "      <td>10.0</td>\n",
       "      <td>24.0</td>\n",
       "      <td>87.0</td>\n",
       "    </tr>\n",
       "    <tr>\n",
       "      <th>midday</th>\n",
       "      <td>6.0</td>\n",
       "      <td>10.0</td>\n",
       "      <td>87.0</td>\n",
       "    </tr>\n",
       "  </tbody>\n",
       "</table>\n",
       "</div>"
      ],
      "text/plain": [
       "                        F     B     E\n",
       "morning and evening  20.0  47.0  87.0\n",
       "weekend              10.0  24.0  87.0\n",
       "midday                6.0  10.0  87.0"
      ]
     },
     "metadata": {},
     "output_type": "display_data"
    },
    {
     "name": "stdout",
     "output_type": "stream",
     "text": [
      "\n",
      "Seats not Sold\n"
     ]
    },
    {
     "data": {
      "text/html": [
       "<div>\n",
       "<style scoped>\n",
       "    .dataframe tbody tr th:only-of-type {\n",
       "        vertical-align: middle;\n",
       "    }\n",
       "\n",
       "    .dataframe tbody tr th {\n",
       "        vertical-align: top;\n",
       "    }\n",
       "\n",
       "    .dataframe thead th {\n",
       "        text-align: right;\n",
       "    }\n",
       "</style>\n",
       "<table border=\"1\" class=\"dataframe\">\n",
       "  <thead>\n",
       "    <tr style=\"text-align: right;\">\n",
       "      <th></th>\n",
       "      <th>F</th>\n",
       "      <th>B</th>\n",
       "      <th>E</th>\n",
       "    </tr>\n",
       "  </thead>\n",
       "  <tbody>\n",
       "    <tr>\n",
       "      <th>morning and evening</th>\n",
       "      <td>1.0</td>\n",
       "      <td>0.0</td>\n",
       "      <td>0.0</td>\n",
       "    </tr>\n",
       "    <tr>\n",
       "      <th>weekend</th>\n",
       "      <td>11.0</td>\n",
       "      <td>23.0</td>\n",
       "      <td>0.0</td>\n",
       "    </tr>\n",
       "    <tr>\n",
       "      <th>midday</th>\n",
       "      <td>15.0</td>\n",
       "      <td>37.0</td>\n",
       "      <td>0.0</td>\n",
       "    </tr>\n",
       "  </tbody>\n",
       "</table>\n",
       "</div>"
      ],
      "text/plain": [
       "                        F     B    E\n",
       "morning and evening   1.0   0.0  0.0\n",
       "weekend              11.0  23.0  0.0\n",
       "midday               15.0  37.0  0.0"
      ]
     },
     "metadata": {},
     "output_type": "display_data"
    },
    {
     "name": "stdout",
     "output_type": "stream",
     "text": [
      "\n",
      "Spillage (Unfulfilled Demand)\n"
     ]
    },
    {
     "data": {
      "text/html": [
       "<div>\n",
       "<style scoped>\n",
       "    .dataframe tbody tr th:only-of-type {\n",
       "        vertical-align: middle;\n",
       "    }\n",
       "\n",
       "    .dataframe tbody tr th {\n",
       "        vertical-align: top;\n",
       "    }\n",
       "\n",
       "    .dataframe thead th {\n",
       "        text-align: right;\n",
       "    }\n",
       "</style>\n",
       "<table border=\"1\" class=\"dataframe\">\n",
       "  <thead>\n",
       "    <tr style=\"text-align: right;\">\n",
       "      <th></th>\n",
       "      <th>F</th>\n",
       "      <th>B</th>\n",
       "      <th>E</th>\n",
       "    </tr>\n",
       "  </thead>\n",
       "  <tbody>\n",
       "    <tr>\n",
       "      <th>morning and evening</th>\n",
       "      <td>0.0</td>\n",
       "      <td>3.0</td>\n",
       "      <td>113.0</td>\n",
       "    </tr>\n",
       "    <tr>\n",
       "      <th>weekend</th>\n",
       "      <td>0.0</td>\n",
       "      <td>0.0</td>\n",
       "      <td>88.0</td>\n",
       "    </tr>\n",
       "    <tr>\n",
       "      <th>midday</th>\n",
       "      <td>0.0</td>\n",
       "      <td>0.0</td>\n",
       "      <td>63.0</td>\n",
       "    </tr>\n",
       "  </tbody>\n",
       "</table>\n",
       "</div>"
      ],
      "text/plain": [
       "                       F    B      E\n",
       "morning and evening  0.0  3.0  113.0\n",
       "weekend              0.0  0.0   88.0\n",
       "midday               0.0  0.0   63.0"
      ]
     },
     "metadata": {},
     "output_type": "display_data"
    },
    {
     "name": "stdout",
     "output_type": "stream",
     "text": [
      "\n",
      "Expected Revenue (in units of economy ticket price): 177.00\n"
     ]
    },
    {
     "data": {
      "image/png": "[encoded data removed]",
      "text/plain": [
       "<Figure size 576x288 with 1 Axes>"
      ]
     },
     "metadata": {
      "needs_background": "light"
     },
     "output_type": "display_data"
    },
    {
     "data": {
      "image/png": "[encoded data removed]",
      "text/plain": [
       "<Figure size 576x288 with 1 Axes>"
      ]
     },
     "metadata": {
      "needs_background": "light"
     },
     "output_type": "display_data"
    }
   ],
   "source": [
    "def airline_CC(demand):\n",
    "    # create model\n",
    "    m = airline_SS(demand)\n",
    "\n",
    "    # add chance constraints\n",
    "    @m.Constraint()\n",
    "    def first_class(m):\n",
    "        return (m.seats[\"F\"] - mu[\"F\"]) >= 2.054 * sigma[\"F\"]\n",
    "\n",
    "    # add chance constraints\n",
    "    @m.Constraint()\n",
    "    def business_class(m):\n",
    "        return m.seats[\"F\"]  + m.seats[\"B\"] - (mu[\"F\"] + mu[\"B\"]) >= \\\n",
    "                1.645 * np.sqrt(sigma[\"F\"]**2 + sigma[\"B\"]**2)\n",
    "    \n",
    "    return m\n",
    "\n",
    "# create and solve model\n",
    "model_cc = airline_CC(demand)\n",
    "seats_cc = airline_solve(model_cc)\n",
    "seat_report(seats_cc, demand)"
   ]
  },
  {
   "cell_type": "markdown",
   "id": "e3e8e43c",
   "metadata": {},
   "source": [
    "## Model 4. Sample Average Approximation\n",
    "\n",
    "Now assume the ticket demand for the three categories is captured by a $3$-dimensional multivariate normal distribution mean $\\mu=(\\mu_F, \\mu_B, \\mu_E)$, variances $(\\sigma_F^2, \\sigma_B^2, \\sigma_E^2)$ and a symmetric correlation matrix \n",
    "\n",
    "$$\n",
    "P = \\left(\n",
    "\\begin{array}{ccc}\n",
    "1 & \\rho_{FB} & \\rho_{FE} \\\\\n",
    "\\rho_{BF} & 1 & \\rho_{BE}\\\\\n",
    "\\rho_{EF} & \\rho_{EB} & 1 \\\\\n",
    "\\end{array}\n",
    "\\right)\n",
    "$$\n",
    "\n",
    "The covariance matrix is given by $\\Sigma = \\text{diag}(\\sigma)\\ P\\ \\text{diag}(\\sigma)$ or\n",
    "\n",
    "$$\n",
    "\\Sigma= \\left(\n",
    "\\begin{array}{ccc}\n",
    " \\sigma_F^2 & \\rho_{FB}\\sigma_F\\sigma_B & \\rho_{FE}\\sigma_F\\sigma_E \\\\\n",
    "\\rho_{BF}\\sigma_B\\sigma_F & \\sigma_B^2 & \\rho_{BE}\\sigma_B\\sigma_E\\\\\n",
    "\\rho_{EF}\\sigma_E\\sigma_F & \\rho_{EB}\\sigma_E\\sigma_B & \\sigma_E^2 \\\\\n",
    "\\end{array}\n",
    "\\right)\n",
    "$$\n",
    "\n",
    "We assume $\\rho_FB = 0.6$, $\\rho_{BE} = 0.4$ and $\\rho_{FE} = 0.2$.\n",
    "\n",
    "Find an approximate solution to the airline seat allocation problem with the loyalty constraints using the Sample Average Approximation method. Sample $N=1000$ points from the multivariate normal distribution and solve the extensive form for the stochastic LP resulting from those $N=1000$ scenarios."
   ]
  },
  {
   "cell_type": "markdown",
   "id": "10a9b698-59b8-42a9-ae7e-9c37a32d8a0c",
   "metadata": {},
   "source": [
    "### Scenario Generation"
   ]
  },
  {
   "cell_type": "code",
   "execution_count": 74,
   "id": "d537f6ac-407c-4d73-8f52-5f4ac31b8ec8",
   "metadata": {
    "ExecuteTime": {
     "end_time": "2022-09-30T21:49:08.708126Z",
     "start_time": "2022-09-30T21:49:07.626836Z"
    }
   },
   "outputs": [
    {
     "data": {
      "text/html": [
       "<div>\n",
       "<style scoped>\n",
       "    .dataframe tbody tr th:only-of-type {\n",
       "        vertical-align: middle;\n",
       "    }\n",
       "\n",
       "    .dataframe tbody tr th {\n",
       "        vertical-align: top;\n",
       "    }\n",
       "\n",
       "    .dataframe thead th {\n",
       "        text-align: right;\n",
       "    }\n",
       "</style>\n",
       "<table border=\"1\" class=\"dataframe\">\n",
       "  <thead>\n",
       "    <tr style=\"text-align: right;\">\n",
       "      <th></th>\n",
       "      <th>mu</th>\n",
       "      <th>sample means</th>\n",
       "    </tr>\n",
       "  </thead>\n",
       "  <tbody>\n",
       "    <tr>\n",
       "      <th>F</th>\n",
       "      <td>12.0</td>\n",
       "      <td>12.058</td>\n",
       "    </tr>\n",
       "    <tr>\n",
       "      <th>B</th>\n",
       "      <td>28.0</td>\n",
       "      <td>28.355</td>\n",
       "    </tr>\n",
       "    <tr>\n",
       "      <th>E</th>\n",
       "      <td>175.0</td>\n",
       "      <td>175.436</td>\n",
       "    </tr>\n",
       "  </tbody>\n",
       "</table>\n",
       "</div>"
      ],
      "text/plain": [
       "      mu  sample means\n",
       "F   12.0        12.058\n",
       "B   28.0        28.355\n",
       "E  175.0       175.436"
      ]
     },
     "metadata": {},
     "output_type": "display_data"
    },
    {
     "data": {
      "text/html": [
       "<div>\n",
       "<style scoped>\n",
       "    .dataframe tbody tr th:only-of-type {\n",
       "        vertical-align: middle;\n",
       "    }\n",
       "\n",
       "    .dataframe tbody tr th {\n",
       "        vertical-align: top;\n",
       "    }\n",
       "\n",
       "    .dataframe thead th {\n",
       "        text-align: right;\n",
       "    }\n",
       "</style>\n",
       "<table border=\"1\" class=\"dataframe\">\n",
       "  <thead>\n",
       "    <tr style=\"text-align: right;\">\n",
       "      <th></th>\n",
       "      <th>sigma</th>\n",
       "      <th>sample std dev</th>\n",
       "    </tr>\n",
       "  </thead>\n",
       "  <tbody>\n",
       "    <tr>\n",
       "      <th>F</th>\n",
       "      <td>4</td>\n",
       "      <td>4.046852</td>\n",
       "    </tr>\n",
       "    <tr>\n",
       "      <th>B</th>\n",
       "      <td>16</td>\n",
       "      <td>15.879708</td>\n",
       "    </tr>\n",
       "    <tr>\n",
       "      <th>E</th>\n",
       "      <td>20</td>\n",
       "      <td>19.503597</td>\n",
       "    </tr>\n",
       "  </tbody>\n",
       "</table>\n",
       "</div>"
      ],
      "text/plain": [
       "   sigma  sample std dev\n",
       "F      4        4.046852\n",
       "B     16       15.879708\n",
       "E     20       19.503597"
      ]
     },
     "metadata": {},
     "output_type": "display_data"
    },
    {
     "name": "stdout",
     "output_type": "stream",
     "text": [
      "\n",
      "Model Covariance\n"
     ]
    },
    {
     "data": {
      "text/html": [
       "<div>\n",
       "<style scoped>\n",
       "    .dataframe tbody tr th:only-of-type {\n",
       "        vertical-align: middle;\n",
       "    }\n",
       "\n",
       "    .dataframe tbody tr th {\n",
       "        vertical-align: top;\n",
       "    }\n",
       "\n",
       "    .dataframe thead th {\n",
       "        text-align: right;\n",
       "    }\n",
       "</style>\n",
       "<table border=\"1\" class=\"dataframe\">\n",
       "  <thead>\n",
       "    <tr style=\"text-align: right;\">\n",
       "      <th></th>\n",
       "      <th>F</th>\n",
       "      <th>B</th>\n",
       "      <th>E</th>\n",
       "    </tr>\n",
       "  </thead>\n",
       "  <tbody>\n",
       "    <tr>\n",
       "      <th>F</th>\n",
       "      <td>16.0</td>\n",
       "      <td>38.4</td>\n",
       "      <td>16.0</td>\n",
       "    </tr>\n",
       "    <tr>\n",
       "      <th>B</th>\n",
       "      <td>38.4</td>\n",
       "      <td>256.0</td>\n",
       "      <td>128.0</td>\n",
       "    </tr>\n",
       "    <tr>\n",
       "      <th>E</th>\n",
       "      <td>16.0</td>\n",
       "      <td>128.0</td>\n",
       "      <td>400.0</td>\n",
       "    </tr>\n",
       "  </tbody>\n",
       "</table>\n",
       "</div>"
      ],
      "text/plain": [
       "      F      B      E\n",
       "F  16.0   38.4   16.0\n",
       "B  38.4  256.0  128.0\n",
       "E  16.0  128.0  400.0"
      ]
     },
     "metadata": {},
     "output_type": "display_data"
    },
    {
     "name": "stdout",
     "output_type": "stream",
     "text": [
      "\n",
      "Sample Covariance\n"
     ]
    },
    {
     "data": {
      "text/html": [
       "<div>\n",
       "<style scoped>\n",
       "    .dataframe tbody tr th:only-of-type {\n",
       "        vertical-align: middle;\n",
       "    }\n",
       "\n",
       "    .dataframe tbody tr th {\n",
       "        vertical-align: top;\n",
       "    }\n",
       "\n",
       "    .dataframe thead th {\n",
       "        text-align: right;\n",
       "    }\n",
       "</style>\n",
       "<table border=\"1\" class=\"dataframe\">\n",
       "  <thead>\n",
       "    <tr style=\"text-align: right;\">\n",
       "      <th></th>\n",
       "      <th>F</th>\n",
       "      <th>B</th>\n",
       "      <th>E</th>\n",
       "    </tr>\n",
       "  </thead>\n",
       "  <tbody>\n",
       "    <tr>\n",
       "      <th>F</th>\n",
       "      <td>16.377013</td>\n",
       "      <td>40.352763</td>\n",
       "      <td>15.402114</td>\n",
       "    </tr>\n",
       "    <tr>\n",
       "      <th>B</th>\n",
       "      <td>40.352763</td>\n",
       "      <td>252.165140</td>\n",
       "      <td>121.395616</td>\n",
       "    </tr>\n",
       "    <tr>\n",
       "      <th>E</th>\n",
       "      <td>15.402114</td>\n",
       "      <td>121.395616</td>\n",
       "      <td>380.390294</td>\n",
       "    </tr>\n",
       "  </tbody>\n",
       "</table>\n",
       "</div>"
      ],
      "text/plain": [
       "           F           B           E\n",
       "F  16.377013   40.352763   15.402114\n",
       "B  40.352763  252.165140  121.395616\n",
       "E  15.402114  121.395616  380.390294"
      ]
     },
     "metadata": {},
     "output_type": "display_data"
    },
    {
     "data": {
      "image/png": "[encoded data removed]",
      "text/plain": [
       "<Figure size 720x720 with 9 Axes>"
      ]
     },
     "metadata": {
      "needs_background": "light"
     },
     "output_type": "display_data"
    }
   ],
   "source": [
    "# sample size\n",
    "N = 1000\n",
    "\n",
    "# assume mu and sigma are given (see above)\n",
    "\n",
    "# correlation matrix\n",
    "P = np.array([[1, 0.6, 0.2], [0.6, 1, 0.4], [0.2, 0.4, 1]])\n",
    "\n",
    "# build covariance matrix from covariances and correlations\n",
    "s = np.array(list(sigma.values()))\n",
    "S = np.diag(s) @ P @ np.diag(s)\n",
    "\n",
    "# create samples\n",
    "np.random.seed(1)\n",
    "samples = np.random.multivariate_normal(list(mu), S, N).round()\n",
    "\n",
    "# truncate to integers and non-negative values\n",
    "classes = demand.columns\n",
    "demand_saa = pd.DataFrame(samples, columns=classes)\n",
    "demand_saa[demand_saa < 0] = 0\n",
    "\n",
    "df = pd.DataFrame(mu, columns=[\"mu\"])\n",
    "df[\"sample means\"] = demand_saa.mean()\n",
    "display(df)\n",
    "\n",
    "df = pd.DataFrame(pd.Series(sigma), columns=[\"sigma\"])\n",
    "df[\"sample std dev\"] = demand_saa.std()\n",
    "display(df)\n",
    "\n",
    "print(\"\\nModel Covariance\")\n",
    "df = pd.DataFrame(S, index=classes, columns=classes)\n",
    "display(df)\n",
    "\n",
    "print(\"\\nSample Covariance\")\n",
    "display(pd.DataFrame(demand_saa.cov()))\n",
    "\n",
    "fig, ax = plt.subplots(3, 3, figsize=(10, 10))\n",
    "for i, ci  in enumerate(classes):\n",
    "    for j, cj in enumerate(classes):\n",
    "        if i==j:\n",
    "            demand_saa[ci].hist(ax=ax[i, i], bins=20)\n",
    "            ax[i, i].set_title(f\"Histogram {ci}\")\n",
    "        else:\n",
    "            ax[i, j].plot(demand_saa[ci], demand_saa[cj], '.', alpha=0.4)\n",
    "            ax[i, j].set_xlabel(ci)\n",
    "            ax[i, j].set_ylabel(cj)\n",
    "            ax[i, j].set_title(f\"Convariance: {ci} vs {cj}\")\n",
    "fig.tight_layout()"
   ]
  },
  {
   "cell_type": "code",
   "execution_count": 104,
   "id": "2c9fdfc2-7f45-4a08-ab45-6d8715443743",
   "metadata": {},
   "outputs": [
    {
     "name": "stdout",
     "output_type": "stream",
     "text": [
      "\n",
      "Seat Allocation\n"
     ]
    },
    {
     "data": {
      "text/html": [
       "<div>\n",
       "<style scoped>\n",
       "    .dataframe tbody tr th:only-of-type {\n",
       "        vertical-align: middle;\n",
       "    }\n",
       "\n",
       "    .dataframe tbody tr th {\n",
       "        vertical-align: top;\n",
       "    }\n",
       "\n",
       "    .dataframe thead th {\n",
       "        text-align: right;\n",
       "    }\n",
       "</style>\n",
       "<table border=\"1\" class=\"dataframe\">\n",
       "  <thead>\n",
       "    <tr style=\"text-align: right;\">\n",
       "      <th></th>\n",
       "      <th>F</th>\n",
       "      <th>B</th>\n",
       "      <th>E</th>\n",
       "      <th>TOTAL</th>\n",
       "    </tr>\n",
       "  </thead>\n",
       "  <tbody>\n",
       "    <tr>\n",
       "      <th>seat allocation</th>\n",
       "      <td>21.0</td>\n",
       "      <td>47.0</td>\n",
       "      <td>87.0</td>\n",
       "      <td>155.0</td>\n",
       "    </tr>\n",
       "    <tr>\n",
       "      <th>economy equivalent seat allocation</th>\n",
       "      <td>42.0</td>\n",
       "      <td>70.5</td>\n",
       "      <td>87.0</td>\n",
       "      <td>199.5</td>\n",
       "    </tr>\n",
       "  </tbody>\n",
       "</table>\n",
       "</div>"
      ],
      "text/plain": [
       "                                       F     B     E  TOTAL\n",
       "seat allocation                     21.0  47.0  87.0  155.0\n",
       "economy equivalent seat allocation  42.0  70.5  87.0  199.5"
      ]
     },
     "metadata": {},
     "output_type": "display_data"
    },
    {
     "name": "stdout",
     "output_type": "stream",
     "text": [
      "\n",
      "Mean Tickets Sold\n"
     ]
    },
    {
     "data": {
      "text/plain": [
       "F    12.035\n",
       "B    27.304\n",
       "E    87.000\n",
       "dtype: float64"
      ]
     },
     "metadata": {},
     "output_type": "display_data"
    },
    {
     "name": "stdout",
     "output_type": "stream",
     "text": [
      "\n",
      "Mean Seats not Sold\n"
     ]
    },
    {
     "data": {
      "text/plain": [
       "F     8.965\n",
       "B    19.696\n",
       "E     0.000\n",
       "dtype: float64"
      ]
     },
     "metadata": {},
     "output_type": "display_data"
    },
    {
     "name": "stdout",
     "output_type": "stream",
     "text": [
      "\n",
      "Mean Spillage (Unfulfilled Demand)\n"
     ]
    },
    {
     "data": {
      "text/plain": [
       "F     0.023\n",
       "B     1.051\n",
       "E    88.436\n",
       "dtype: float64"
      ]
     },
     "metadata": {},
     "output_type": "display_data"
    },
    {
     "name": "stdout",
     "output_type": "stream",
     "text": [
      "\n",
      "Expected Revenue (in units of economy ticket price): 177.71\n"
     ]
    },
    {
     "data": {
      "image/png": "[encoded data removed]",
      "text/plain": [
       "<Figure size 576x288 with 1 Axes>"
      ]
     },
     "metadata": {
      "needs_background": "light"
     },
     "output_type": "display_data"
    },
    {
     "data": {
      "image/png": "[encoded data removed]",
      "text/plain": [
       "<Figure size 864x216 with 3 Axes>"
      ]
     },
     "metadata": {
      "needs_background": "light"
     },
     "output_type": "display_data"
    }
   ],
   "source": [
    "model_ssa = airline_CC(demand_saa)\n",
    "seats_saa = airline_solve(model_ssa)\n",
    "\n",
    "# function to report analytics \n",
    "def seat_report_saa(seats, demand):\n",
    "    \n",
    "    classes = seats.index\n",
    "    \n",
    "    # report seat allocation\n",
    "    equivalent_seats = pd.DataFrame({\n",
    "        \"seat allocation\":  {c: seats[c] for c in classes},\n",
    "        \"economy equivalent seat allocation\": {c: seats[c] * seat_factor[c] for c in classes}\n",
    "    }).T\n",
    "    equivalent_seats[\"TOTAL\"] = equivalent_seats.sum(axis=1)\n",
    "    print(\"\\nSeat Allocation\")\n",
    "    display(equivalent_seats)\n",
    "    \n",
    "    # tickets sold\n",
    "    tickets = pd.DataFrame()\n",
    "    for c in classes:\n",
    "        tickets[c] = np.minimum(seats[c], demand[c])\n",
    "\n",
    "    print(\"\\nMean Tickets Sold\")\n",
    "    display(tickets.mean())\n",
    "    \n",
    "    # seats unsold\n",
    "    unsold = pd.DataFrame()\n",
    "    for c in classes:\n",
    "        unsold[c] = seats[c] - tickets[c]\n",
    "    print(\"\\nMean Seats not Sold\")\n",
    "    display(unsold.mean())\n",
    "\n",
    "    # spillage (unmet demand)\n",
    "    spillage = demand - tickets\n",
    "    print(\"\\nMean Spillage (Unfulfilled Demand)\")\n",
    "    display(spillage.mean())\n",
    "    \n",
    "    # compute revenue\n",
    "    revenue = tickets.dot(revenue_factor)\n",
    "    print(f\"\\nExpected Revenue (in units of economy ticket price): {revenue.mean():.2f}\")\n",
    "\n",
    "    # charts\n",
    "    fig, ax = plt.subplots(1, 1, figsize=(8, 4))\n",
    "    revenue.hist(ax=ax, bins=20)\n",
    "    ax.set_title(\"Revenue Histogram\")\n",
    "    \n",
    "    fig, ax = plt.subplots(1, 3, figsize=(12, 3))\n",
    "    for i, c in enumerate(classes):\n",
    "        tickets[c].hist(ax=ax[i], bins=20, alpha=0.4)\n",
    "        demand[c].hist(ax=ax[i], alpha=0.4)\n",
    "        ax[i].legend(['Tickets Sold', 'Demand'])\n",
    "        ax[i].set_xlim(0, 300)\n",
    "\n",
    "    return\n",
    "\n",
    "seat_report_saa(seats_saa, demand_saa)\n"
   ]
  },
  {
   "cell_type": "code",
   "execution_count": null,
   "id": "f1d03a13-2f0c-4dda-ab45-937288879014",
   "metadata": {},
   "outputs": [],
   "source": []
  },
  {
   "cell_type": "code",
   "execution_count": null,
   "id": "72828271-fd5c-4b68-8f2b-c855ece5dd6c",
   "metadata": {},
   "outputs": [],
   "source": []
  }
 ],
 "metadata": {
  "kernelspec": {
   "display_name": "Python 3 (ipykernel)",
   "language": "python",
   "name": "python3"
  },
  "language_info": {
   "codemirror_mode": {
    "name": "ipython",
    "version": 3
   },
   "file_extension": ".py",
   "mimetype": "text/x-python",
   "name": "python",
   "nbconvert_exporter": "python",
   "pygments_lexer": "ipython3",
   "version": "3.9.7"
  },
  "varInspector": {
   "cols": {
    "lenName": 16,
    "lenType": 16,
    "lenVar": 40
   },
   "kernels_config": {
    "python": {
     "delete_cmd_postfix": "",
     "delete_cmd_prefix": "del ",
     "library": "var_list.py",
     "varRefreshCmd": "print(var_dic_list())"
    },
    "r": {
     "delete_cmd_postfix": ") ",
     "delete_cmd_prefix": "rm(",
     "library": "var_list.r",
     "varRefreshCmd": "cat(var_dic_list()) "
    }
   },
   "types_to_exclude": [
    "module",
    "function",
    "builtin_function_or_method",
    "instance",
    "_Feature"
   ],
   "window_display": false
  }
 },
 "nbformat": 4,
 "nbformat_minor": 5
}
