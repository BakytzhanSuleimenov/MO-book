{
 "cells": [
  {
   "cell_type": "markdown",
   "metadata": {},
   "source": [
    "```{index} single: solver; cbc\n",
    "```\n",
    "```{index} pandas dataframe\n",
    "```\n",
    "```{index} sample average approximation\n",
    "```\n",
    "```{index} stochastic optimization\n",
    "```\n",
    "```{index} chance constraints\n",
    "```\n",
    "\n",
    "# Economic dispatch in energy systems"
   ]
  },
  {
   "cell_type": "code",
   "execution_count": null,
   "metadata": {
    "ExecuteTime": {
     "end_time": "2022-09-30T22:59:05.262585Z",
     "start_time": "2022-09-30T22:59:04.962753Z"
    },
    "colab": {
     "base_uri": "https://localhost:8080/"
    },
    "execution": {
     "iopub.execute_input": "2023-01-18T17:23:08.512539Z",
     "iopub.status.busy": "2023-01-18T17:23:08.511687Z",
     "iopub.status.idle": "2023-01-18T17:23:08.794095Z",
     "shell.execute_reply": "2023-01-18T17:23:08.793351Z",
     "shell.execute_reply.started": "2023-01-18T17:23:08.512505Z"
    },
    "id": "lAvinyZKD5Vp",
    "outputId": "e779c42a-9b61-4af7-b129-865b56a596a4"
   },
   "outputs": [],
   "source": [
    "# install Pyomo and solvers\n",
    "import requests\n",
    "import types\n",
    "\n",
    "url = \"https://raw.githubusercontent.com/mobook/MO-book/main/python/helper.py\"\n",
    "helper = types.ModuleType(\"helper\")\n",
    "exec(requests.get(url).content, helper.__dict__)\n",
    "\n",
    "helper.install_pyomo()\n",
    "helper.install_cbc()"
   ]
  },
  {
   "cell_type": "code",
   "execution_count": 9,
   "metadata": {
    "ExecuteTime": {
     "end_time": "2022-09-30T22:59:07.200005Z",
     "start_time": "2022-09-30T22:59:05.267305Z"
    },
    "execution": {
     "iopub.execute_input": "2023-01-18T17:23:08.796688Z",
     "iopub.status.busy": "2023-01-18T17:23:08.796249Z",
     "iopub.status.idle": "2023-01-18T17:23:10.845129Z",
     "shell.execute_reply": "2023-01-18T17:23:10.844168Z",
     "shell.execute_reply.started": "2023-01-18T17:23:08.796657Z"
    },
    "id": "RE8rff0jD8Bd"
   },
   "outputs": [],
   "source": [
    "import pyomo.environ as pyo\n",
    "import numpy as np\n",
    "import pandas as pd\n",
    "import matplotlib.pyplot as plt"
   ]
  },
  {
   "cell_type": "markdown",
   "metadata": {
    "id": "M7WCjvp4FISI"
   },
   "source": [
    "# Economic dispatch of energy\n",
    "\n",
    "In this notebook, we will explore the applications of chance constraints to an area where high-probability guarantees on the system's functioning are required - the _economic dispatch (ED)_ problem.\n",
    "\n",
    "The problem considers short-term determination of the optimal production of energy to meet all energy demand. Let $V$ denote a set of nodes, each of which is representing cities, industrial districts, or power generators or combinations of these. Each node $i \\in V$ **may** have:\n",
    "- a certain energy demand $d_i \\geq 0$; \n",
    "- a power generator whose energy production needs to be between $p_i^{min}$ and $p_i^{max}$ units of power. The cost of producting one unit of power at node $i$ is given by a variable cost $c_i \\geq 0$. \n",
    "Importantly, not all the nodes have demand and generation, more specifically it is possible for a node to have only generation or only demand.\n",
    "\n",
    "The goal is to determine for each node $i \\in V$ the optimal production level $p_i$, such that \n",
    "- the total energy demand is met\n",
    "- no production limits are exceeded\n",
    "- the total energy production costs are minimized. \n",
    "\n",
    "If we fully control the energy production and the customer demand is known, can formulate the problem as the following MILO problem:\n",
    "$$\n",
    "\\begin{align}\n",
    "\\begin{array}{llll}\n",
    "\\min        & \\sum_{i \\in V} c_i p_i\\\\\n",
    "\\text{s.t.} & \\sum_{i \\in V} p_i = \\sum_{i \\in V} d_i,\\\\\n",
    "& p_{i}^{min} \\leq p_{i} \\leq p_{i}^{max} & \\forall i \\in V.\n",
    "\\end{array}\n",
    "\\end{align}\n",
    "$$\n",
    "\n",
    "Now, assume that we have built several off-shore wind turbines. These wind turbines combined together produce a random nonnegative amount of extra energy, denoted by $\\omega$. For a fixed value of $\\omega$, the optimization proble to be solved is thus to 'fill in' to the remaining energy demand not satisfied by wind power:\n",
    "\n",
    "$$\n",
    "\\begin{align}\n",
    "\\begin{array}{llll}\n",
    "\\min        & \\sum_{i \\in V} c_i p_i\\\\\n",
    "\\text{s.t.} & \\omega + \\sum_{i \\in V} p_i = \\sum_{i \\in V} d_i,\\\\\n",
    "& p_{i}^{min} \\leq p_{i} \\leq p_{i}^{max} & \\forall i \\in V.\n",
    "\\end{array}\n",
    "\\end{align}\n",
    "$$\n",
    "\n",
    "The problem, however, is that $\\omega$ is a random variable and is typically not fully known before the generation levels $p_i$ of conventional generators have to be set. Because of stochastic fluctuations in wind power generation, the ED problem is best modeled as a stochastic optimization problem. The intermittency of wind generation makes it almost impossible to perfectly balance supply and demand on a real-time basis, but in practice there is some tolerance for error, i.e., certain degree of mismatch between supply and demand can be easily adjusted for. \n",
    "\n",
    "To formulate the problem under this assumption, let us denote by:\n",
    "- $\\Delta \\geq 0$ the tolerance of the absolute power mismatch between supply and demand;\n",
    "- $\\varepsilon \\in [0,1]$ is the risk level at which we are willing to accept for the supply to deviate from the demand more than $\\Delta$;\n",
    "- $\\omega \\in \\mathbb{R}_{\\geq 0}$ the nonnegative random variable describing the total power production of off-shore wind turbines.\n",
    "\n",
    "In this setting, instead of requiring that the supply and demand are matched perfectly, we require that the absolute difference remains below power threshold $\\Delta$ using the following chance constraint:\n",
    "\n",
    "$$\n",
    "\\begin{align}\n",
    "  \\mathbb{P} \\Big ( \\Big | \\omega + \\sum_{i \\in V } p_i  - \\sum_{i \\in V} d_i \\Big | \\leq \\Delta \\Big) \\geq 1 - \\varepsilon\n",
    "\\end{align}\n",
    "$$\n",
    "\n",
    "To make the problem MILO-formulable, we can break up this absolute-value function including constraint into two individual chance constraints - note that in this way we relax the constraint because requiring that two one-sided constraints hold with probability $1 - \\varepsilon$ each is not the same as requiring that together they hold with probability $1 - \\varepsilon$, but in practice we can fine-tune the $\\varepsilon$ to adapt for this change.\n",
    "\n",
    "Such breaking up leads us to the following optimization problem with chance constraints:\n",
    "\n",
    "$$\n",
    "\\begin{align}\n",
    "\\begin{array}{llll}\n",
    "\\min        & \\sum_{i \\in V } c_i p_i\\\\\n",
    "\\text{s.t.} & \\mathbb{P}(\\omega + \\sum_{i \\in V } p_i  - \\sum_{i \\in V} d_i \\leq \\Delta) \\geq 1 - ɛ\\\\\n",
    "& \\mathbb{P}(\\omega + \\sum_{i \\in V } p_i  - \\sum_{i \\in V} d_i \\geq -\\Delta) \\geq 1 - ɛ\\\\\n",
    "& p_{i}^{min } \\leq p_{i} \\leq p_{i}^{max } & \\forall i \\in V.\n",
    "\\end{array}\n",
    "\\end{align}\n",
    "$$\n",
    "\n",
    "In this notebook, we will solve this problem using the SAA approach to chance constraints, with the wind power production using modelled with historical data of 500 outcomes of the total wind producton.\n",
    "\n",
    "We first build a function that reads all the necessary node and wind production random sample data."
   ]
  },
  {
   "cell_type": "code",
   "execution_count": 3,
   "metadata": {},
   "outputs": [],
   "source": [
    "def read_economic_dispatch_data():\n",
    "    nodes_df = pd.read_csv(\n",
    "        \"nodes.csv\",\n",
    "        index_col=0,\n",
    "    )[[\"node_id\", \"d\", \"p_min\", \"p_max\", \"c_var\"]]\n",
    "\n",
    "    wind_production_samples_df = pd.read_csv(\n",
    "        \"discrete_wind.csv\"\n",
    "    ).T\n",
    "\n",
    "    # Read data\n",
    "    nodes = nodes_df.set_index(\"node_id\").T.to_dict()\n",
    "    wind_production_samples = list(wind_production_samples_df.to_dict().values())\n",
    "    wind_production_samples = [sum(d.values()) for d in wind_production_samples]\n",
    "\n",
    "    return nodes, wind_production_samples\n",
    "\n",
    "nodes, wind_production_samples = read_economic_dispatch_data()"
   ]
  },
  {
   "cell_type": "markdown",
   "metadata": {},
   "source": [
    "The `nodes` dictionary contains for every $i \\in V$ information about $p_i^{min}$, $p_i^{max}$, $c_i$, $d_i$. In our dataset, there is a clear separation of the nodes into nodes that only consume power, and nodes that only produce power, which can be seen by inspecting the node properties."
   ]
  },
  {
   "cell_type": "code",
   "execution_count": 4,
   "metadata": {},
   "outputs": [
    {
     "data": {
      "text/plain": [
       "{'d': 44.23034433319671, 'p_min': 0.0, 'p_max': 0.0, 'c_var': 0.0}"
      ]
     },
     "execution_count": 4,
     "metadata": {},
     "output_type": "execute_result"
    }
   ],
   "source": [
    "nodes[0] # first node properties"
   ]
  },
  {
   "cell_type": "markdown",
   "metadata": {},
   "source": [
    "The wind production samples can be accessed through the `wind_production_samples` variable - a list of 500 equiprobable outcomes for the wind generation."
   ]
  },
  {
   "cell_type": "code",
   "execution_count": 6,
   "metadata": {},
   "outputs": [
    {
     "data": {
      "text/plain": [
       "196.94632359541376"
      ]
     },
     "execution_count": 6,
     "metadata": {},
     "output_type": "execute_result"
    }
   ],
   "source": [
    "wind_production_samples[4] # fifth outcome"
   ]
  },
  {
   "cell_type": "markdown",
   "metadata": {},
   "source": [
    "With data at hand, we rewrite the chance-constrained ED problem as a mixed-integer linear optimization problem:\n",
    "\n",
    "\\begin{align}\n",
    "\\begin{array}{llll}\n",
    "\\min        & \\sum_{i \\in V} c_i(p_i)\\\\\n",
    "\\text{s.t.} & \\omega_j + \\sum_{i \\in V} p_i  - \\sum_{i \\in V} d_i \\leq \\Delta + u_jM_j & \\forall j = 1, \\dots, N\\\\\n",
    "&  \\omega_j + \\sum_{i \\in V} p_i  - \\sum_{i \\in V} d_i \\geq -\\Delta - u_jM_j & \\forall j = 1, \\dots, N\\\\\n",
    "& \\sum_{j=1}^{N}u_j \\leq \\varepsilon N \\\\\n",
    "& p_{i}^{min } \\leq p_{i} \\leq p_{i}^{max } & \\forall i \\in V, \\\\\n",
    "& u_j \\in \\{0, 1\\} & \\forall j = 1, ..., N,\n",
    "\\end{array}\n",
    "\\end{align}\n",
    "\n",
    "where we introduce a new binary variable $u_j$ for each sample $j=1, \\dots, N$. For each sample, the supply and demand constraints are deactivated when $u_j =1$ and $u_j=0$ otherwise. Note that we only use one single $u_j$ variable for each constraint. Having two separate $u^{(1)}_j$ and $u^{(2)}_j$ will yield the same objective value, but the model is incorrect w.r.t. the violation of the supply and demand constraint introduced earlier. The $M_j$'s here should be selected based on the data: one reasonable choice for $M_j$ that will certainly work out is to take it equal to the left-hand side minus $\\Delta$ while replacing $p_i$ for $p_i^{max}$.\n",
    "\n",
    "Now, we define the Python function which implements this model."
   ]
  },
  {
   "cell_type": "code",
   "execution_count": 10,
   "metadata": {},
   "outputs": [],
   "source": [
    "def economic_dispatch(nodes, samples, eps, Delta):\n",
    "    # Define a model\n",
    "    model = pyo.ConcreteModel(\"Q1\")\n",
    "\n",
    "    model.N = pyo.Set(initialize=range(len(samples)))\n",
    "    model.nodes = pyo.Set(initialize=nodes.keys())\n",
    "\n",
    "    M = {j: (samples[j] +\n",
    "          sum(data['p_max'] for _, data in nodes.items()) +\n",
    "          sum(data['d'] for _, data in nodes.items()) - Delta)\n",
    "          for j in range(len(samples))}\n",
    "\n",
    "    # Declare decision variables\n",
    "    model.p = pyo.Var(nodes, domain=pyo.NonNegativeReals)\n",
    "    model.u = pyo.Var(model.N, domain=pyo.Binary)\n",
    "\n",
    "    # Declare objective value\n",
    "    @model.Objective(sense=pyo.minimize)\n",
    "    def objective(m):\n",
    "        return sum(data[\"c_var\"] * m.p[i] for i, data in nodes.items())\n",
    "\n",
    "\n",
    "    @model.Constraint(model.N)\n",
    "    def supply_demand_leq(m, j):\n",
    "        wind = samples[j]\n",
    "        supply = sum(m.p[i] for i, data in nodes.items())\n",
    "        demand = sum(data['d'] for _, data in nodes.items())\n",
    "        return wind + supply - demand  <= Delta + M[j] * m.u[j]\n",
    "\n",
    "    @model.Constraint(model.N)\n",
    "    def supply_demand_geq(m, j):\n",
    "        wind = samples[j]\n",
    "        supply = sum(m.p[i] for i, data in nodes.items())\n",
    "        demand = sum(data['d'] for _, data in nodes.items())\n",
    "        return wind + supply - demand  >= -Delta - M[j] * m.u[j]\n",
    "\n",
    "    @model.Constraint()\n",
    "    def success_probability(m):\n",
    "        return sum(m.u[j] for j in model.N) <= eps * len(model.N)\n",
    "\n",
    "    @model.Constraint(model.nodes)\n",
    "    def generation_upper_bound(m, i):\n",
    "        return m.p[i] <= nodes[i][\"p_max\"]\n",
    "\n",
    "    @model.Constraint(model.nodes)\n",
    "    def generation_lower_bound(m, i):\n",
    "        return nodes[i][\"p_min\"] <= m.p[i]\n",
    "\n",
    "    return model"
   ]
  },
  {
   "cell_type": "markdown",
   "metadata": {},
   "source": [
    "For demonstration purposes, we now solve the model for the provided instance and wind production outcomes and report the optimal objective value you obtain for $\\varepsilon = 0.02$ and $\\Delta=1000$."
   ]
  },
  {
   "cell_type": "code",
   "execution_count": 13,
   "metadata": {},
   "outputs": [
    {
     "name": "stdout",
     "output_type": "stream",
     "text": [
      "Total demand: 3007.112013689768\n",
      "Delta: 1000\n",
      "Smallest wind production 273.71861055345124\n",
      "Model solution of total production: 1733.3934100000001\n",
      "Analytical solution of total production: 1733.3934031363167\n"
     ]
    }
   ],
   "source": [
    "# Data\n",
    "eps = 0.20\n",
    "Delta = 1000\n",
    "N = 500\n",
    "argMin = int(N*eps)\n",
    "\n",
    "# Solve model\n",
    "model = economic_dispatch(nodes, wind_production_samples, eps, Delta)\n",
    "result = pyo.SolverFactory('cbc').solve(model)\n",
    "\n",
    "# The production is equal to the total demand - Delta - smallest_wind_production\n",
    "sum_production = sum([model.p[x].value for x in model.p])\n",
    "sum_demand = sum(data['d'] for i, data in nodes.items())\n",
    "smallest_wind_production =  sorted([wind_production_samples[j] for j in range(N)])[argMin]\n",
    "\n",
    "print(\"Total demand:\", sum_demand)\n",
    "print(\"Delta:\", Delta)\n",
    "print(\"Smallest wind production\", smallest_wind_production)\n",
    "print(\"Model solution of total production:\", sum_production)\n",
    "\n",
    "# The total production should be produced by the cheapest generators.\n",
    "print(\"Analytical solution of total production:\", sum_demand - Delta - smallest_wind_production)"
   ]
  },
  {
   "cell_type": "markdown",
   "metadata": {},
   "source": [
    "Next, we will study the sensitivity of the optimal solution and value to the different risk guarantee levels - this helps the decision maker find a level that offers the best risk-reward tradeoff.\n",
    "\n",
    "To this end, we solve the same MILP varying the values first of $\\varepsilon \\in [0, 1]$ (for fixed $\\Delta=1000$) and then of $\\Delta \\in [0, 2000]$ (for fixed $\\varepsilon = 0.02$).     "
   ]
  },
  {
   "cell_type": "code",
   "execution_count": 14,
   "metadata": {},
   "outputs": [
    {
     "data": {
      "text/plain": [
       "Text(0, 0.5, 'objective value')"
      ]
     },
     "execution_count": 14,
     "metadata": {},
     "output_type": "execute_result"
    },
    {
     "data": {
      "image/png": "[encoded data removed]",
      "text/plain": [
       "<Figure size 640x480 with 1 Axes>"
      ]
     },
     "metadata": {},
     "output_type": "display_data"
    }
   ],
   "source": [
    "fixed_Delta = 1000\n",
    "\n",
    "feas_eps = []\n",
    "feas_objs = []\n",
    "\n",
    "for eps in np.linspace(0, 1, num=20):\n",
    "    model = economic_dispatch(nodes, wind_production_samples, eps, fixed_Delta)\n",
    "    result = pyo.SolverFactory('cbc').solve(model)\n",
    "\n",
    "    if result.solver.termination_condition == 'optimal':\n",
    "        feas_eps.append(eps)\n",
    "        feas_objs.append(model.objective())\n",
    "\n",
    "plt.plot(feas_eps, feas_objs, marker='o', linestyle='--')\n",
    "plt.xlabel('epsilon')\n",
    "plt.ylabel('objective value') "
   ]
  },
  {
   "cell_type": "code",
   "execution_count": 17,
   "metadata": {},
   "outputs": [
    {
     "name": "stdout",
     "output_type": "stream",
     "text": [
      "WARNING: Loading a SolverResults object with a warning status into\n",
      "    model.name=\"Q1\";\n",
      "      - termination condition: infeasible\n",
      "      - message from solver: <undefined>\n",
      "WARNING: Loading a SolverResults object with a warning status into\n",
      "    model.name=\"Q1\";\n",
      "      - termination condition: infeasible\n",
      "      - message from solver: <undefined>\n",
      "WARNING: Loading a SolverResults object with a warning status into\n",
      "    model.name=\"Q1\";\n",
      "      - termination condition: infeasible\n",
      "      - message from solver: <undefined>\n",
      "WARNING: Loading a SolverResults object with a warning status into\n",
      "    model.name=\"Q1\";\n",
      "      - termination condition: infeasible\n",
      "      - message from solver: <undefined>\n",
      "WARNING: Loading a SolverResults object with a warning status into\n",
      "    model.name=\"Q1\";\n",
      "      - termination condition: infeasible\n",
      "      - message from solver: <undefined>\n"
     ]
    },
    {
     "data": {
      "text/plain": [
       "Text(0, 0.5, 'objective value')"
      ]
     },
     "execution_count": 17,
     "metadata": {},
     "output_type": "execute_result"
    },
    {
     "data": {
      "image/png": "[encoded data removed]",
      "text/plain": [
       "<Figure size 640x480 with 1 Axes>"
      ]
     },
     "metadata": {},
     "output_type": "display_data"
    }
   ],
   "source": [
    "fixed_eps = 0.02\n",
    "\n",
    "feas_Deltas = []\n",
    "feas_objs = []\n",
    "\n",
    "for Delta in np.linspace(0, 2000, num=20):\n",
    "    model = economic_dispatch(nodes, wind_production_samples, fixed_eps, Delta)\n",
    "    result = pyo.SolverFactory('cbc').solve(model)\n",
    "\n",
    "    if result.solver.termination_condition == 'optimal':\n",
    "        feas_Deltas.append(Delta)\n",
    "        feas_objs.append(model.objective())\n",
    "\n",
    "plt.plot(feas_Deltas, feas_objs, marker='o', linestyle='--')\n",
    "plt.xlabel('$\\Delta$')\n",
    "plt.ylabel('objective value') "
   ]
  },
  {
   "cell_type": "markdown",
   "metadata": {},
   "source": [
    "Based on the above plots, we can make the following observations:\n",
    "\n",
    "- Smaller values $\\varepsilon$ and $\\Delta$ lead to more infeasibilities, which is to be expected. Smaller $\\varepsilon$ allow for less constraint violations/relaxations, whereas smaller Delta make constraints tighter (and thus easier to violate).\n",
    "- The reason why the plot becomes flat for high $\\varepsilon$ and $\\Delta$ values is because production is no longer needed. For instance, a high $\\varepsilon$ means we can ignore the $N\\varepsilon$ worst-case sample scenarios, whereas higher $\\Delta$ means that we do not need to produce to match demand."
   ]
  },
  {
   "cell_type": "markdown",
   "metadata": {},
   "source": [
    "## Analytical solution instead of using optimization solvers for speed improvement"
   ]
  },
  {
   "cell_type": "markdown",
   "metadata": {},
   "source": [
    "A careful reader may notice that in fact, the above optimization problems could have been solved analytically, i.e., we wouldn't even need optimization solvers to do our job. \n",
    "\n",
    "This is because the (deterministic) Economic Dispatch problem is always solved by producing using the cheapest generators. Therefore, any optimal solution will always use the cheapest generators possible. It will never violate the supply-demand balance by overproduction, since producing less will always lead to cheaper solutions.\n",
    "\n",
    "How this reasoning can be extended to the stochastic case? By adding chance constraints where the outcomes follow a equiprobable discrete distribution, we know that scenarios with low wind production will be violated before the scenarios with large wind production. Therefore, given $\\varepsilon$ and $\\Delta$, what will happen is that the $N\\varepsilon$ (rounded down) samples with lowest wind production will be deactivated. Therefore, the exact total production will be \n",
    "\n",
    "$$\n",
    "\\sum_{i \\in V} p_i = \\sum_{i \\in V}d_i - \\Delta - \\Omega\n",
    "$$\n",
    "\n",
    "where $\\Omega$ is the $N\\varepsilon$-th sample with smallest wind production. The $p_i$ can be determined by selecting the cheapest generators first.\n",
    "\n",
    "This fact teaches us an important lesson - it always makes sense to take a look at the structure of the problem at hand. It might turn out that we are able to come up with an analytical solution that can be found out in a few simple steps (or manually break down a big optimization problem into a number of smaller ones that can be solved easier).\n",
    "\n",
    "While this might not make a difference for problems that are solved once (time saved on coming up with an analytical solution might be too short compared to time saved on not using an optimization solver). However, when the optimization problem needs to be solved many, many times (for example, in a long-horizon simulation), the effort might pay off as the analytical-solution based simulation might work much faster than the one that explicitly calls an optimization solver every time).\n",
    "\n",
    "For a simple calculation, let's imagine that formulating the problem in Pyomo and solving it with any solver takes 0.5s per run (not unreasonable). Now, having an analytical solution to the problem can easily change this timing to 0.001s per run. Clearly, a difference of practically 0.5s is not worth spending the extra time.\n",
    "\n",
    "However, if this daily problem has to be solved 10000 times for a simulation of a power grid's performance. Then the total time spent becomes 5000s = 1.5h vs 10s = 1.5min, so the difference between the two is 1.5h. Now, imagine that you need to run many such simulations. The difference of 1.5h between the two simulations gets then multiplied by the number of simulations and thus, writing a simple code that finds the analytical solution fast, pays off easily."
   ]
  }
 ],
 "metadata": {
  "colab": {
   "collapsed_sections": [],
   "provenance": []
  },
  "kernelspec": {
   "display_name": "Python 3 (ipykernel)",
   "language": "python",
   "name": "python3"
  },
  "language_info": {
   "codemirror_mode": {
    "name": "ipython",
    "version": 3
   },
   "file_extension": ".py",
   "mimetype": "text/x-python",
   "name": "python",
   "nbconvert_exporter": "python",
   "pygments_lexer": "ipython3",
   "version": "3.11.0"
  },
  "varInspector": {
   "cols": {
    "lenName": 16,
    "lenType": 16,
    "lenVar": 40
   },
   "kernels_config": {
    "python": {
     "delete_cmd_postfix": "",
     "delete_cmd_prefix": "del ",
     "library": "var_list.py",
     "varRefreshCmd": "print(var_dic_list())"
    },
    "r": {
     "delete_cmd_postfix": ") ",
     "delete_cmd_prefix": "rm(",
     "library": "var_list.r",
     "varRefreshCmd": "cat(var_dic_list()) "
    }
   },
   "types_to_exclude": [
    "module",
    "function",
    "builtin_function_or_method",
    "instance",
    "_Feature"
   ],
   "window_display": false
  },
  "vscode": {
   "interpreter": {
    "hash": "3adc543de6f1ebf0dde9e446722c3cbe1a2af057ba1db6f4fc491bbc3445f9cd"
   }
  }
 },
 "nbformat": 4,
 "nbformat_minor": 4
}
