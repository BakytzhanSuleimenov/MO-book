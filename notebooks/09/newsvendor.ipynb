{
 "cells": [
  {
   "cell_type": "code",
   "execution_count": 1,
   "metadata": {
    "ExecuteTime": {
     "end_time": "2022-09-30T21:49:13.078945Z",
     "start_time": "2022-09-30T21:49:12.943916Z"
    },
    "colab": {
     "base_uri": "https://localhost:8080/"
    },
    "id": "lAvinyZKD5Vp",
    "outputId": "e779c42a-9b61-4af7-b129-865b56a596a4"
   },
   "outputs": [
    {
     "name": "stdout",
     "output_type": "stream",
     "text": [
      "pyomo was previously installed\n",
      "glpk was previously installed\n",
      "cbc was previously installed\n",
      "ipopt was previously installed\n"
     ]
    },
    {
     "data": {
      "text/plain": [
       "True"
      ]
     },
     "execution_count": 1,
     "metadata": {},
     "output_type": "execute_result"
    }
   ],
   "source": [
    "# install Pyomo and solvers\n",
    "import requests\n",
    "import types\n",
    "\n",
    "url = \"https://raw.githubusercontent.com/jckantor/MO-book/main/python/helper.py\"\n",
    "helper = types.ModuleType(\"helper\")\n",
    "exec(requests.get(url).content, helper.__dict__)\n",
    "\n",
    "helper.install_pyomo()\n",
    "helper.install_glpk()\n",
    "helper.install_cbc()\n",
    "helper.install_ipopt()"
   ]
  },
  {
   "cell_type": "code",
   "execution_count": 2,
   "metadata": {
    "ExecuteTime": {
     "end_time": "2022-09-30T21:49:14.805937Z",
     "start_time": "2022-09-30T21:49:13.087379Z"
    },
    "id": "RE8rff0jD8Bd"
   },
   "outputs": [],
   "source": [
    "%matplotlib inline\n",
    "import pyomo.environ as pyo\n",
    "import numpy as np\n",
    "import pandas as pd\n",
    "import seaborn as sns\n",
    "import matplotlib.pyplot as plt\n",
    "import math\n",
    "import logging\n",
    "from IPython.display import Markdown\n",
    "\n",
    "cbc_solver = pyo.SolverFactory('cbc')\n",
    "glpk_solver = pyo.SolverFactory('glpk')\n",
    "ipopt_solver = pyo.SolverFactory('ipopt')"
   ]
  },
  {
   "cell_type": "markdown",
   "metadata": {
    "id": "M7WCjvp4FISI"
   },
   "source": [
    "# News vendor problem \n",
    "\n",
    "Consider the news vendor problem seen at lecture and suppose that. Suppose the unit prices are $c = 10 , s = 25 , r = 5$, and that the newspaper demand $\\xi$ modelled as a continuous random variable.\n",
    "\n",
    "(a) Find the optimal solution of the news vendor problem using the explicit formula that features the inverse CDFs/quantile functions for the following three distributions:\n",
    " - a uniform distribution on the interval $[50,150]$;\n",
    "*Hint: see [Uniform distribution CDF and its inverse](https://en.wikipedia.org/wiki/Continuous_uniform_distribution#Cumulative_distribution_function)*\n",
    " - a Pareto distribution on the interval $[50,+\\infty)$ with $x_m=50$ and exponent $\\alpha=2$. *Hint: the inverse CDF for a Pareto distribution is given by* $H^{-1}(\\varepsilon) = \\frac{x_m}{(1-\\varepsilon)^{1/\\alpha}}$.\n",
    " - a Weibull distribution on the interval $[0,+\\infty)$ with shape parameter $k=2$ and scale parameter $\\lambda=113$, see [Weibull distribution CDF and its inverse](https://en.wikipedia.org/wiki/Weibull_distribution#Cumulative_distribution_function).\n"
   ]
  },
  {
   "cell_type": "code",
   "execution_count": 3,
   "metadata": {
    "ExecuteTime": {
     "end_time": "2022-09-30T21:49:14.826180Z",
     "start_time": "2022-09-30T21:49:14.812343Z"
    },
    "colab": {
     "base_uri": "https://localhost:8080/",
     "height": 101
    },
    "id": "5qLTVb1Y0OqR",
    "outputId": "431f7617-ee25-4ef0-ba6b-7fd34bab8700"
   },
   "outputs": [
    {
     "data": {
      "text/markdown": [
       "**Optimal solution** for uniform distribution: $125.00$"
      ],
      "text/plain": [
       "<IPython.core.display.Markdown object>"
      ]
     },
     "metadata": {},
     "output_type": "display_data"
    },
    {
     "data": {
      "text/markdown": [
       "**Optimal solution** for Pareto distribution: $100.00$"
      ],
      "text/plain": [
       "<IPython.core.display.Markdown object>"
      ]
     },
     "metadata": {},
     "output_type": "display_data"
    },
    {
     "data": {
      "text/markdown": [
       "**Optimal solution** for Weibull distribution: $133.05$"
      ],
      "text/plain": [
       "<IPython.core.display.Markdown object>"
      ]
     },
     "metadata": {},
     "output_type": "display_data"
    }
   ],
   "source": [
    "# Setting the parameters\n",
    "c = 10\n",
    "s = 25\n",
    "r = 5\n",
    "\n",
    "# Definining the three inverse CDFs/quantile functions for the three distributions\n",
    "def quantileuniform(epsilon, a, b):\n",
    "    return a + epsilon*(b-a)\n",
    "\n",
    "def quantilepareto(epsilon, xm, alpha):\n",
    "    return xm/(1.0-epsilon)**(1.0/alpha)\n",
    "\n",
    "def quantileweibull(epsilon, k, l):\n",
    "    return l*(-np.log(1-epsilon))**(1.0/k)\n",
    "\n",
    "# Calculating the optimal decision for each of the three distributions\n",
    "display(Markdown(f\"**Optimal solution** for uniform distribution: ${quantileuniform((s-c)/(s-r),50,150):.2f}$\"))\n",
    "display(Markdown(f\"**Optimal solution** for Pareto distribution: ${quantilepareto((s-c)/(s-r),50,2):.2f}$\"))\n",
    "display(Markdown(f\"**Optimal solution** for Weibull distribution: ${quantileweibull((s-c)/(s-r),2,113):.2f}$\"))"
   ]
  },
  {
   "cell_type": "markdown",
   "metadata": {
    "id": "DgCFrEGc1Gpc"
   },
   "source": [
    "Note that all the three distribution above have the same expected value, that is $\\mathbb E \\xi = 100$.\n",
    "\n",
    "(b) Find the optimal solution of the deterministic LP model obtained by assuming the demand is fixed $\\xi=\\bar{\\xi}$ and equal to the average demand $\\bar{\\xi} = \\mathbb E \\xi = 100$."
   ]
  },
  {
   "cell_type": "code",
   "execution_count": 4,
   "metadata": {
    "ExecuteTime": {
     "end_time": "2022-09-30T21:49:14.919132Z",
     "start_time": "2022-09-30T21:49:14.835243Z"
    },
    "colab": {
     "base_uri": "https://localhost:8080/",
     "height": 100
    },
    "id": "S0E2_cbI1beQ",
    "outputId": "3d8805fe-608a-4e12-bb41-8cc8872d6c28"
   },
   "outputs": [
    {
     "data": {
      "text/markdown": [
       "**Solver status:** *ok, optimal*"
      ],
      "text/plain": [
       "<IPython.core.display.Markdown object>"
      ]
     },
     "metadata": {},
     "output_type": "display_data"
    },
    {
     "data": {
      "text/markdown": [
       "**Optimal solution** for determistic demand equal to $100$: $x = 100.0$"
      ],
      "text/plain": [
       "<IPython.core.display.Markdown object>"
      ]
     },
     "metadata": {},
     "output_type": "display_data"
    },
    {
     "data": {
      "text/markdown": [
       "**Optimal deterministic profit:** $1500$€"
      ],
      "text/plain": [
       "<IPython.core.display.Markdown object>"
      ]
     },
     "metadata": {},
     "output_type": "display_data"
    }
   ],
   "source": [
    "# Two-stage stochastic LP\n",
    "\n",
    "c = 10\n",
    "s = 25\n",
    "r = 5\n",
    "\n",
    "model = pyo.ConcreteModel()\n",
    "model.xi = 100\n",
    "\n",
    "# first stage variable\n",
    "model.x = pyo.Var(within=pyo.NonNegativeReals) #bought\n",
    "\n",
    "def first_stage_profit(model):\n",
    "    return -c * model.x\n",
    "\n",
    "model.first_stage_profit = pyo.Expression(rule=first_stage_profit)\n",
    "\n",
    "# second stage variables\n",
    "model.y = pyo.Var(within=pyo.NonNegativeReals) #sold\n",
    "model.z = pyo.Var(within=pyo.NonNegativeReals) #unsold to be returned \n",
    "\n",
    "# second stage constraints\n",
    "model.cantsoldthingsidonthave = pyo.Constraint(expr=model.y <= model.xi)\n",
    "model.newspapersdonotdisappear = pyo.Constraint(expr=model.y + model.z == model.x)\n",
    "\n",
    "def second_stage_profit(model):\n",
    "    return s * model.y + r * model.z\n",
    "\n",
    "model.second_stage_profit = pyo.Expression(rule=second_stage_profit)\n",
    "\n",
    "def total_profit(model):\n",
    "    return model.first_stage_profit + model.second_stage_profit\n",
    "\n",
    "model.total_expected_profit = pyo.Objective(rule=total_profit, sense=pyo.maximize)\n",
    "\n",
    "result = cbc_solver.solve(model)\n",
    "\n",
    "display(Markdown(f\"**Solver status:** *{result.solver.status}, {result.solver.termination_condition}*\"))\n",
    "display(Markdown(f\"**Optimal solution** for determistic demand equal to $100$: $x = {model.x.value:.1f}$\"))\n",
    "display(Markdown(f\"**Optimal deterministic profit:** ${model.total_expected_profit():.0f}$€\"))"
   ]
  },
  {
   "cell_type": "markdown",
   "metadata": {
    "id": "HXaZi7kiWklC"
   },
   "source": [
    "We now assess how well we perform taking the average demand as optimal decision the news vendor problem for each of the three demand distributions above.\n",
    "\n",
    "(c) For a fixed decision variable $x=100$, approximate the expected profit of the news vendor for each of the three distributions above using the Sample Average Approximation method with $N=2500$ points. More specifically, generate $N=2500$ samples from the considered distribution and solve the extensive form of the stochastic LP resulting from those $N=2500$ scenarios."
   ]
  },
  {
   "cell_type": "code",
   "execution_count": 5,
   "metadata": {
    "ExecuteTime": {
     "end_time": "2022-09-30T21:49:16.620493Z",
     "start_time": "2022-09-30T21:49:14.922667Z"
    },
    "colab": {
     "base_uri": "https://localhost:8080/",
     "height": 106
    },
    "id": "c4xOfnMxVnzb",
    "outputId": "9e31a393-e49a-4fc6-b11f-0b98702eba71"
   },
   "outputs": [
    {
     "data": {
      "text/markdown": [
       "**Approximate expected optimal profit when using the average** $x=100$ with uniform demand: $1245.56$€"
      ],
      "text/plain": [
       "<IPython.core.display.Markdown object>"
      ]
     },
     "metadata": {},
     "output_type": "display_data"
    },
    {
     "data": {
      "text/markdown": [
       "**Approximate expected optimal profit when using the average** $x=100$ with Pareto demand: $1009.53$€"
      ],
      "text/plain": [
       "<IPython.core.display.Markdown object>"
      ]
     },
     "metadata": {},
     "output_type": "display_data"
    },
    {
     "data": {
      "text/markdown": [
       "**Approximate expected optimal profit when using the average** $x=100$ with Weibull demand: $1088.44$€"
      ],
      "text/plain": [
       "<IPython.core.display.Markdown object>"
      ]
     },
     "metadata": {},
     "output_type": "display_data"
    }
   ],
   "source": [
    "# SAA of the two-stage stochastic LP to calculate the expected profit when buying the average\n",
    "\n",
    "def NaiveNewsvendorSAA(N, sample, distributiontype):\n",
    "\n",
    "    model = pyo.ConcreteModel()\n",
    "\n",
    "    def indices_rule(model):\n",
    "        return range(N)\n",
    "    model.indices = pyo.Set(initialize=indices_rule)\n",
    "    model.xi = pyo.Param(model.indices, initialize=dict(enumerate(sample)))\n",
    "\n",
    "    # first stage variable\n",
    "    model.x = 100.0 #bought\n",
    "\n",
    "    def first_stage_profit(model):\n",
    "        return -c * model.x\n",
    "\n",
    "    model.first_stage_profit = pyo.Expression(rule=first_stage_profit)\n",
    "\n",
    "    # second stage variables\n",
    "    model.y = pyo.Var(model.indices, within=pyo.NonNegativeReals) #sold\n",
    "    model.z = pyo.Var(model.indices, within=pyo.NonNegativeReals) #unsold to be returned \n",
    "\n",
    "    # second stage constraints\n",
    "    model.cantsoldthingsidonthave = pyo.ConstraintList()\n",
    "    model.newspapersdonotdisappear = pyo.ConstraintList()\n",
    "    for i in model.indices:\n",
    "        model.cantsoldthingsidonthave.add(expr=model.y[i] <= model.xi[i])\n",
    "        model.newspapersdonotdisappear.add(expr=model.y[i] + model.z[i] == model.x)\n",
    "\n",
    "    def second_stage_profit(model):\n",
    "        return sum([s * model.y[i] + r * model.z[i] for i in model.indices])/float(N)\n",
    "\n",
    "    model.second_stage_profit = pyo.Expression(rule=second_stage_profit)\n",
    "\n",
    "    def total_profit(model):\n",
    "        return model.first_stage_profit + model.second_stage_profit\n",
    "\n",
    "    model.total_expected_profit = pyo.Objective(rule=total_profit, sense=pyo.maximize)\n",
    "\n",
    "    result = cbc_solver.solve(model)\n",
    "\n",
    "    display(Markdown(f\"**Approximate expected optimal profit when using the average** $x=100$ with {distributiontype} demand: ${model.total_expected_profit():.2f}$€\"))\n",
    "    return model.total_expected_profit()\n",
    "\n",
    "np.random.seed(20122020)\n",
    "N = 2500\n",
    "\n",
    "samples = np.random.uniform(low=50.0, high=150.0, size=N)\n",
    "naiveprofit_uniform = NaiveNewsvendorSAA(N, samples, 'uniform')\n",
    "\n",
    "shape = 2\n",
    "xm = 50\n",
    "samples = (np.random.pareto(a=shape, size=N) + 1) *  xm\n",
    "naiveprofit_pareto = NaiveNewsvendorSAA(N, samples, 'Pareto')\n",
    "\n",
    "shape=2\n",
    "scale=113\n",
    "samples = scale*np.random.weibull(a=shape, size=N)\n",
    "naiveprofit_weibull = NaiveNewsvendorSAA(N, samples, 'Weibull')"
   ]
  },
  {
   "cell_type": "markdown",
   "metadata": {
    "id": "JmWrcE-50O8n"
   },
   "source": [
    "(d) Solve approximately the news vendor problem for each of the three distributions above using the Sample Average Approximation method with $N=2500$ points. More specifically, generate $N=2500$ samples from the considered distribution and solve the extensive form of the stochastic LP resulting from those $N=2500$ scenarios. For each of the three distribution, compare the optimal expected profit with that obtained in (c) and calculate the value of the stochastic solution (VSS)."
   ]
  },
  {
   "cell_type": "code",
   "execution_count": 6,
   "metadata": {
    "ExecuteTime": {
     "end_time": "2022-09-30T21:49:20.237354Z",
     "start_time": "2022-09-30T21:49:16.628585Z"
    },
    "colab": {
     "base_uri": "https://localhost:8080/",
     "height": 415
    },
    "id": "Ad9JCgA9Ae1f",
    "outputId": "067043f8-c496-4b31-df1e-fd4da27c4d73"
   },
   "outputs": [
    {
     "data": {
      "text/markdown": [
       "**Approximate news vendor problem solution for:** uniform distribution **using:** $N=2500$ points"
      ],
      "text/plain": [
       "<IPython.core.display.Markdown object>"
      ]
     },
     "metadata": {},
     "output_type": "display_data"
    },
    {
     "data": {
      "text/markdown": [
       "**Solver status:** *ok, optimal*"
      ],
      "text/plain": [
       "<IPython.core.display.Markdown object>"
      ]
     },
     "metadata": {},
     "output_type": "display_data"
    },
    {
     "data": {
      "text/markdown": [
       "**Approximate optimal solution:** $x = 123.94$"
      ],
      "text/plain": [
       "<IPython.core.display.Markdown object>"
      ]
     },
     "metadata": {},
     "output_type": "display_data"
    },
    {
     "data": {
      "text/markdown": [
       "**Approximate expected optimal profit:** $1302.12$€"
      ],
      "text/plain": [
       "<IPython.core.display.Markdown object>"
      ]
     },
     "metadata": {},
     "output_type": "display_data"
    },
    {
     "data": {
      "text/markdown": [
       "**Value of the stochastic solution:** $1302.12-1245.56 = 56.56$€"
      ],
      "text/plain": [
       "<IPython.core.display.Markdown object>"
      ]
     },
     "metadata": {},
     "output_type": "display_data"
    },
    {
     "data": {
      "text/markdown": [
       "**Approximate news vendor problem solution for:** Pareto distribution **using:** $N=2500$ points"
      ],
      "text/plain": [
       "<IPython.core.display.Markdown object>"
      ]
     },
     "metadata": {},
     "output_type": "display_data"
    },
    {
     "data": {
      "text/markdown": [
       "**Solver status:** *ok, optimal*"
      ],
      "text/plain": [
       "<IPython.core.display.Markdown object>"
      ]
     },
     "metadata": {},
     "output_type": "display_data"
    },
    {
     "data": {
      "text/markdown": [
       "**Approximate optimal solution:** $x = 102.41$"
      ],
      "text/plain": [
       "<IPython.core.display.Markdown object>"
      ]
     },
     "metadata": {},
     "output_type": "display_data"
    },
    {
     "data": {
      "text/markdown": [
       "**Approximate expected optimal profit:** $1009.77$€"
      ],
      "text/plain": [
       "<IPython.core.display.Markdown object>"
      ]
     },
     "metadata": {},
     "output_type": "display_data"
    },
    {
     "data": {
      "text/markdown": [
       "**Value of the stochastic solution:** $1009.77-1009.53 = 0.24$€"
      ],
      "text/plain": [
       "<IPython.core.display.Markdown object>"
      ]
     },
     "metadata": {},
     "output_type": "display_data"
    },
    {
     "data": {
      "text/markdown": [
       "**Approximate news vendor problem solution for:** Weibull distribution **using:** $N=2500$ points"
      ],
      "text/plain": [
       "<IPython.core.display.Markdown object>"
      ]
     },
     "metadata": {},
     "output_type": "display_data"
    },
    {
     "data": {
      "text/markdown": [
       "**Solver status:** *ok, optimal*"
      ],
      "text/plain": [
       "<IPython.core.display.Markdown object>"
      ]
     },
     "metadata": {},
     "output_type": "display_data"
    },
    {
     "data": {
      "text/markdown": [
       "**Approximate optimal solution:** $x = 133.15$"
      ],
      "text/plain": [
       "<IPython.core.display.Markdown object>"
      ]
     },
     "metadata": {},
     "output_type": "display_data"
    },
    {
     "data": {
      "text/markdown": [
       "**Approximate expected optimal profit:** $1157.84$€"
      ],
      "text/plain": [
       "<IPython.core.display.Markdown object>"
      ]
     },
     "metadata": {},
     "output_type": "display_data"
    },
    {
     "data": {
      "text/markdown": [
       "**Value of the stochastic solution:** $1157.84-1088.44 = 69.40$€"
      ],
      "text/plain": [
       "<IPython.core.display.Markdown object>"
      ]
     },
     "metadata": {},
     "output_type": "display_data"
    }
   ],
   "source": [
    "# Two-stage stochastic LP for uniform distribution\n",
    "\n",
    "c = 10\n",
    "s = 25\n",
    "r = 5\n",
    "\n",
    "def NewsvendorSAA(N, sample, distributiontype):\n",
    "\n",
    "    model = pyo.ConcreteModel()\n",
    "\n",
    "    def indices_rule(model):\n",
    "        return range(N)\n",
    "    model.indices = pyo.Set(initialize=indices_rule)\n",
    "    model.xi = pyo.Param(model.indices, initialize=dict(enumerate(sample)))\n",
    "\n",
    "    # first stage variable\n",
    "    model.x = pyo.Var(within=pyo.NonNegativeReals) #bought\n",
    "\n",
    "    def first_stage_profit(model):\n",
    "        return -c * model.x\n",
    "\n",
    "    model.first_stage_profit = pyo.Expression(rule=first_stage_profit)\n",
    "\n",
    "    # second stage variables\n",
    "    model.y = pyo.Var(model.indices, within=pyo.NonNegativeReals) #sold\n",
    "    model.z = pyo.Var(model.indices, within=pyo.NonNegativeReals) #unsold to be returned \n",
    "\n",
    "    # second stage constraints\n",
    "    model.cantsoldthingsidonthave = pyo.ConstraintList()\n",
    "    model.newspapersdonotdisappear = pyo.ConstraintList()\n",
    "    for i in model.indices:\n",
    "        model.cantsoldthingsidonthave.add(expr=model.y[i] <= model.xi[i])\n",
    "        model.newspapersdonotdisappear.add(expr=model.y[i] + model.z[i] == model.x)\n",
    "\n",
    "    def second_stage_profit(model):\n",
    "        return sum([s * model.y[i] + r * model.z[i] for i in model.indices])/float(N)\n",
    "\n",
    "    model.second_stage_profit = pyo.Expression(rule=second_stage_profit)\n",
    "\n",
    "    def total_profit(model):\n",
    "        return model.first_stage_profit + model.second_stage_profit\n",
    "\n",
    "    model.total_expected_profit = pyo.Objective(rule=total_profit, sense=pyo.maximize)\n",
    "\n",
    "    result = cbc_solver.solve(model)\n",
    "\n",
    "    display(Markdown(f\"**Approximate news vendor problem solution for:** {distributiontype} distribution **using:** $N={N:.0f}$ points\"))\n",
    "    display(Markdown(f\"**Solver status:** *{result.solver.status}, {result.solver.termination_condition}*\"))\n",
    "    display(Markdown(f\"**Approximate optimal solution:** $x = {model.x.value:.2f}$\"))\n",
    "    display(Markdown(f\"**Approximate expected optimal profit:** ${model.total_expected_profit():.2f}$€\"))\n",
    "    return model.total_expected_profit()\n",
    "\n",
    "np.random.seed(20122020)\n",
    "N = 2500\n",
    "\n",
    "samples = np.random.uniform(low=50.0, high=150.0, size=N)\n",
    "smartprofit_uniform = NewsvendorSAA(N, samples, 'uniform')\n",
    "display(Markdown(f\"**Value of the stochastic solution:** ${smartprofit_uniform:.2f}-{naiveprofit_uniform:.2f} = {smartprofit_uniform-naiveprofit_uniform:.2f}$€\"))\n",
    "\n",
    "shape = 2\n",
    "xm = 50\n",
    "samples = (np.random.pareto(a=shape, size=N) + 1) *  xm\n",
    "smartprofit_pareto = NewsvendorSAA(N, samples, 'Pareto')\n",
    "display(Markdown(f\"**Value of the stochastic solution:** ${smartprofit_pareto:.2f}-{naiveprofit_pareto:.2f} = {smartprofit_pareto-naiveprofit_pareto:.2f}$€\"))\n",
    "\n",
    "shape=2\n",
    "scale=113\n",
    "samples = scale*np.random.weibull(a=shape, size=N)\n",
    "smartprofit_weibull =NewsvendorSAA(N, samples, 'Weibull')\n",
    "display(Markdown(f\"**Value of the stochastic solution:** ${smartprofit_weibull:.2f}-{naiveprofit_weibull:.2f} = {smartprofit_weibull-naiveprofit_weibull:.2f}$€\"))"
   ]
  }
 ],
 "metadata": {
  "colab": {
   "collapsed_sections": [],
   "provenance": []
  },
  "kernelspec": {
   "display_name": "Python 3 (ipykernel)",
   "language": "python",
   "name": "python3"
  },
  "language_info": {
   "codemirror_mode": {
    "name": "ipython",
    "version": 3
   },
   "file_extension": ".py",
   "mimetype": "text/x-python",
   "name": "python",
   "nbconvert_exporter": "python",
   "pygments_lexer": "ipython3",
   "version": "3.10.6"
  },
  "varInspector": {
   "cols": {
    "lenName": 16,
    "lenType": 16,
    "lenVar": 40
   },
   "kernels_config": {
    "python": {
     "delete_cmd_postfix": "",
     "delete_cmd_prefix": "del ",
     "library": "var_list.py",
     "varRefreshCmd": "print(var_dic_list())"
    },
    "r": {
     "delete_cmd_postfix": ") ",
     "delete_cmd_prefix": "rm(",
     "library": "var_list.r",
     "varRefreshCmd": "cat(var_dic_list()) "
    }
   },
   "types_to_exclude": [
    "module",
    "function",
    "builtin_function_or_method",
    "instance",
    "_Feature"
   ],
   "window_display": false
  }
 },
 "nbformat": 4,
 "nbformat_minor": 1
}
