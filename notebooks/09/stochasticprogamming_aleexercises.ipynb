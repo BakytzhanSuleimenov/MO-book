{
  "nbformat": 4,
  "nbformat_minor": 0,
  "metadata": {
    "colab": {
      "provenance": [],
      "collapsed_sections": []
    },
    "kernelspec": {
      "display_name": "Python 3",
      "language": "python",
      "name": "python3"
    },
    "language_info": {
      "codemirror_mode": {
        "name": "ipython",
        "version": 3
      },
      "file_extension": ".py",
      "mimetype": "text/x-python",
      "name": "python",
      "nbconvert_exporter": "python",
      "pygments_lexer": "ipython3",
      "version": "3.8.3"
    }
  },
  "cells": [
    {
      "cell_type": "code",
      "metadata": {
        "colab": {
          "base_uri": "https://localhost:8080/"
        },
        "id": "lAvinyZKD5Vp",
        "outputId": "e779c42a-9b61-4af7-b129-865b56a596a4"
      },
      "source": [
        "!pip install -q pyomo\n",
        " \n",
        "#we add cbc\n",
        "!apt-get install -y -qq coinor-cbc\n",
        " \n",
        "#we add ipopt\n",
        "!wget -N -q \"https://ampl.com/dl/open/ipopt/ipopt-linux64.zip\"\n",
        "!unzip -o -q ipopt-linux64\n",
        " \n",
        "#we add glpk\n",
        "!sudo apt install libglpk-dev python3.8-dev libgmp3-dev\n",
        "!apt-get install -y -qq glpk-utils\n",
        " \n",
        "#we add couenne\n",
        "!wget -N -q \"https://ampl.com/dl/open/couenne/couenne-linux64.zip\"\n",
        "!unzip -o -q couenne-linux64\n",
        " \n",
        "#we add bonmin\n",
        "!wget -N -q \"https://ampl.com/dl/open/bonmin/bonmin-linux64.zip\"\n",
        "!unzip -o -q bonmin-linux64\n",
        " \n",
        "#let us also try commercial solvers\n",
        "!pip install cplex\n",
        "!pip install xpress\n",
        "!pip install Mosek"
      ],
      "execution_count": null,
      "outputs": [
        {
          "name": "stdout",
          "output_type": "stream",
          "text": [
            "\u001b[K     |████████████████████████████████| 9.4MB 4.0MB/s \n",
            "\u001b[K     |████████████████████████████████| 51kB 3.8MB/s \n",
            "\u001b[K     |████████████████████████████████| 256kB 42.6MB/s \n",
            "\u001b[K     |████████████████████████████████| 163kB 44.0MB/s \n",
            "\u001b[?25hRequirement already satisfied: cvxpy in /usr/local/lib/python3.6/dist-packages (1.0.31)\n",
            "Requirement already satisfied: numpy>=1.15 in /usr/local/lib/python3.6/dist-packages (from cvxpy) (1.18.5)\n",
            "Requirement already satisfied: scs>=1.1.3 in /usr/local/lib/python3.6/dist-packages (from cvxpy) (2.1.2)\n",
            "Requirement already satisfied: osqp>=0.4.1 in /usr/local/lib/python3.6/dist-packages (from cvxpy) (0.6.1)\n",
            "Requirement already satisfied: ecos>=2 in /usr/local/lib/python3.6/dist-packages (from cvxpy) (2.0.7.post1)\n",
            "Requirement already satisfied: multiprocess in /usr/local/lib/python3.6/dist-packages (from cvxpy) (0.70.10)\n",
            "Requirement already satisfied: scipy>=1.1.0 in /usr/local/lib/python3.6/dist-packages (from cvxpy) (1.4.1)\n",
            "Requirement already satisfied: future in /usr/local/lib/python3.6/dist-packages (from osqp>=0.4.1->cvxpy) (0.16.0)\n",
            "Requirement already satisfied: dill>=0.3.2 in /usr/local/lib/python3.6/dist-packages (from multiprocess->cvxpy) (0.3.3)\n",
            "Selecting previously unselected package coinor-libcoinutils3v5.\n",
            "(Reading database ... 144793 files and directories currently installed.)\n",
            "Preparing to unpack .../0-coinor-libcoinutils3v5_2.10.14+repack1-1_amd64.deb ...\n",
            "Unpacking coinor-libcoinutils3v5 (2.10.14+repack1-1) ...\n",
            "Selecting previously unselected package coinor-libosi1v5.\n",
            "Preparing to unpack .../1-coinor-libosi1v5_0.107.9+repack1-1_amd64.deb ...\n",
            "Unpacking coinor-libosi1v5 (0.107.9+repack1-1) ...\n",
            "Selecting previously unselected package coinor-libclp1.\n",
            "Preparing to unpack .../2-coinor-libclp1_1.16.11+repack1-1_amd64.deb ...\n",
            "Unpacking coinor-libclp1 (1.16.11+repack1-1) ...\n",
            "Selecting previously unselected package coinor-libcgl1.\n",
            "Preparing to unpack .../3-coinor-libcgl1_0.59.10+repack1-1_amd64.deb ...\n",
            "Unpacking coinor-libcgl1 (0.59.10+repack1-1) ...\n",
            "Selecting previously unselected package coinor-libcbc3.\n",
            "Preparing to unpack .../4-coinor-libcbc3_2.9.9+repack1-1_amd64.deb ...\n",
            "Unpacking coinor-libcbc3 (2.9.9+repack1-1) ...\n",
            "Selecting previously unselected package coinor-cbc.\n",
            "Preparing to unpack .../5-coinor-cbc_2.9.9+repack1-1_amd64.deb ...\n",
            "Unpacking coinor-cbc (2.9.9+repack1-1) ...\n",
            "Setting up coinor-libcoinutils3v5 (2.10.14+repack1-1) ...\n",
            "Setting up coinor-libosi1v5 (0.107.9+repack1-1) ...\n",
            "Setting up coinor-libclp1 (1.16.11+repack1-1) ...\n",
            "Setting up coinor-libcgl1 (0.59.10+repack1-1) ...\n",
            "Setting up coinor-libcbc3 (2.9.9+repack1-1) ...\n",
            "Setting up coinor-cbc (2.9.9+repack1-1) ...\n",
            "Processing triggers for man-db (2.8.3-2ubuntu0.1) ...\n",
            "Processing triggers for libc-bin (2.27-3ubuntu1.2) ...\n",
            "/sbin/ldconfig.real: /usr/local/lib/python3.6/dist-packages/ideep4py/lib/libmkldnn.so.0 is not a symbolic link\n",
            "\n",
            "Reading package lists... Done\n",
            "Building dependency tree       \n",
            "Reading state information... Done\n",
            "The following additional packages will be installed:\n",
            "  libamd2 libbtf1 libcamd2 libccolamd2 libcholmod3 libcolamd2 libcxsparse3\n",
            "  libglpk40 libgmp-dev libgmpxx4ldbl libgraphblas1 libklu1 libldl2 libmetis5\n",
            "  libpython3.8 libpython3.8-dev libpython3.8-minimal libpython3.8-stdlib\n",
            "  librbio2 libspqr2 libsuitesparse-dev libsuitesparseconfig5 libumfpack5\n",
            "  python3.8 python3.8-minimal\n",
            "Suggested packages:\n",
            "  libiodbc2-dev default-libmysqlclient-dev gmp-doc libgmp10-doc libmpfr-dev\n",
            "  python3.8-venv python3.8-doc binfmt-support\n",
            "The following NEW packages will be installed:\n",
            "  libamd2 libbtf1 libcamd2 libccolamd2 libcholmod3 libcolamd2 libcxsparse3\n",
            "  libglpk-dev libglpk40 libgmp-dev libgmp3-dev libgmpxx4ldbl libgraphblas1\n",
            "  libklu1 libldl2 libmetis5 libpython3.8 libpython3.8-dev libpython3.8-minimal\n",
            "  libpython3.8-stdlib librbio2 libspqr2 libsuitesparse-dev\n",
            "  libsuitesparseconfig5 libumfpack5 python3.8 python3.8-dev python3.8-minimal\n",
            "0 upgraded, 28 newly installed, 0 to remove and 14 not upgraded.\n",
            "Need to get 64.8 MB of archives.\n",
            "After this operation, 140 MB of additional disk space will be used.\n",
            "Get:1 http://archive.ubuntu.com/ubuntu bionic-updates/universe amd64 libpython3.8-minimal amd64 3.8.0-3~18.04 [704 kB]\n",
            "Get:2 http://archive.ubuntu.com/ubuntu bionic-updates/universe amd64 python3.8-minimal amd64 3.8.0-3~18.04 [1,816 kB]\n",
            "Get:3 http://archive.ubuntu.com/ubuntu bionic/main amd64 libsuitesparseconfig5 amd64 1:5.1.2-2 [9,044 B]\n",
            "Get:4 http://archive.ubuntu.com/ubuntu bionic/main amd64 libamd2 amd64 1:5.1.2-2 [19.5 kB]\n",
            "Get:5 http://archive.ubuntu.com/ubuntu bionic/main amd64 libbtf1 amd64 1:5.1.2-2 [10.6 kB]\n",
            "Get:6 http://archive.ubuntu.com/ubuntu bionic/main amd64 libcamd2 amd64 1:5.1.2-2 [20.9 kB]\n",
            "Get:7 http://archive.ubuntu.com/ubuntu bionic/main amd64 libccolamd2 amd64 1:5.1.2-2 [21.7 kB]\n",
            "Get:8 http://archive.ubuntu.com/ubuntu bionic/main amd64 libcolamd2 amd64 1:5.1.2-2 [16.2 kB]\n",
            "Get:9 http://archive.ubuntu.com/ubuntu bionic/main amd64 libmetis5 amd64 5.1.0.dfsg-5 [169 kB]\n",
            "Get:10 http://archive.ubuntu.com/ubuntu bionic/main amd64 libcholmod3 amd64 1:5.1.2-2 [300 kB]\n",
            "Get:11 http://archive.ubuntu.com/ubuntu bionic/main amd64 libcxsparse3 amd64 1:5.1.2-2 [63.9 kB]\n",
            "Get:12 http://archive.ubuntu.com/ubuntu bionic/universe amd64 libglpk40 amd64 4.65-1 [378 kB]\n",
            "Get:13 http://archive.ubuntu.com/ubuntu bionic/main amd64 libgmpxx4ldbl amd64 2:6.1.2+dfsg-2 [8,964 B]\n",
            "Get:14 http://archive.ubuntu.com/ubuntu bionic/main amd64 libgmp-dev amd64 2:6.1.2+dfsg-2 [316 kB]\n",
            "Get:15 http://archive.ubuntu.com/ubuntu bionic/main amd64 libgraphblas1 amd64 1:5.1.2-2 [384 kB]\n",
            "Get:16 http://archive.ubuntu.com/ubuntu bionic/main amd64 libklu1 amd64 1:5.1.2-2 [69.3 kB]\n",
            "Get:17 http://archive.ubuntu.com/ubuntu bionic/main amd64 libldl2 amd64 1:5.1.2-2 [10.3 kB]\n",
            "Get:18 http://archive.ubuntu.com/ubuntu bionic/main amd64 libumfpack5 amd64 1:5.1.2-2 [229 kB]\n",
            "Get:19 http://archive.ubuntu.com/ubuntu bionic/main amd64 librbio2 amd64 1:5.1.2-2 [24.0 kB]\n",
            "Get:20 http://archive.ubuntu.com/ubuntu bionic/main amd64 libspqr2 amd64 1:5.1.2-2 [64.2 kB]\n",
            "Get:21 http://archive.ubuntu.com/ubuntu bionic/main amd64 libsuitesparse-dev amd64 1:5.1.2-2 [1,235 kB]\n",
            "Get:22 http://archive.ubuntu.com/ubuntu bionic/universe amd64 libglpk-dev amd64 4.65-1 [445 kB]\n",
            "Get:23 http://archive.ubuntu.com/ubuntu bionic/main amd64 libgmp3-dev amd64 2:6.1.2+dfsg-2 [1,996 B]\n",
            "Get:24 http://archive.ubuntu.com/ubuntu bionic-updates/universe amd64 libpython3.8-stdlib amd64 3.8.0-3~18.04 [1,677 kB]\n",
            "Get:25 http://archive.ubuntu.com/ubuntu bionic-updates/universe amd64 libpython3.8 amd64 3.8.0-3~18.04 [1,630 kB]\n",
            "Get:26 http://archive.ubuntu.com/ubuntu bionic-updates/universe amd64 libpython3.8-dev amd64 3.8.0-3~18.04 [54.3 MB]\n",
            "Get:27 http://archive.ubuntu.com/ubuntu bionic-updates/universe amd64 python3.8 amd64 3.8.0-3~18.04 [355 kB]\n",
            "Get:28 http://archive.ubuntu.com/ubuntu bionic-updates/universe amd64 python3.8-dev amd64 3.8.0-3~18.04 [510 kB]\n",
            "Fetched 64.8 MB in 8s (8,102 kB/s)\n",
            "debconf: unable to initialize frontend: Dialog\n",
            "debconf: (No usable dialog-like program is installed, so the dialog based frontend cannot be used. at /usr/share/perl5/Debconf/FrontEnd/Dialog.pm line 76, <> line 28.)\n",
            "debconf: falling back to frontend: Readline\n",
            "debconf: unable to initialize frontend: Readline\n",
            "debconf: (This frontend requires a controlling tty.)\n",
            "debconf: falling back to frontend: Teletype\n",
            "dpkg-preconfigure: unable to re-open stdin: \n",
            "Selecting previously unselected package libpython3.8-minimal:amd64.\n",
            "(Reading database ... 144838 files and directories currently installed.)\n",
            "Preparing to unpack .../00-libpython3.8-minimal_3.8.0-3~18.04_amd64.deb ...\n",
            "Unpacking libpython3.8-minimal:amd64 (3.8.0-3~18.04) ...\n",
            "Selecting previously unselected package python3.8-minimal.\n",
            "Preparing to unpack .../01-python3.8-minimal_3.8.0-3~18.04_amd64.deb ...\n",
            "Unpacking python3.8-minimal (3.8.0-3~18.04) ...\n",
            "Selecting previously unselected package libsuitesparseconfig5:amd64.\n",
            "Preparing to unpack .../02-libsuitesparseconfig5_1%3a5.1.2-2_amd64.deb ...\n",
            "Unpacking libsuitesparseconfig5:amd64 (1:5.1.2-2) ...\n",
            "Selecting previously unselected package libamd2:amd64.\n",
            "Preparing to unpack .../03-libamd2_1%3a5.1.2-2_amd64.deb ...\n",
            "Unpacking libamd2:amd64 (1:5.1.2-2) ...\n",
            "Selecting previously unselected package libbtf1:amd64.\n",
            "Preparing to unpack .../04-libbtf1_1%3a5.1.2-2_amd64.deb ...\n",
            "Unpacking libbtf1:amd64 (1:5.1.2-2) ...\n",
            "Selecting previously unselected package libcamd2:amd64.\n",
            "Preparing to unpack .../05-libcamd2_1%3a5.1.2-2_amd64.deb ...\n",
            "Unpacking libcamd2:amd64 (1:5.1.2-2) ...\n",
            "Selecting previously unselected package libccolamd2:amd64.\n",
            "Preparing to unpack .../06-libccolamd2_1%3a5.1.2-2_amd64.deb ...\n",
            "Unpacking libccolamd2:amd64 (1:5.1.2-2) ...\n",
            "Selecting previously unselected package libcolamd2:amd64.\n",
            "Preparing to unpack .../07-libcolamd2_1%3a5.1.2-2_amd64.deb ...\n",
            "Unpacking libcolamd2:amd64 (1:5.1.2-2) ...\n",
            "Selecting previously unselected package libmetis5:amd64.\n",
            "Preparing to unpack .../08-libmetis5_5.1.0.dfsg-5_amd64.deb ...\n",
            "Unpacking libmetis5:amd64 (5.1.0.dfsg-5) ...\n",
            "Selecting previously unselected package libcholmod3:amd64.\n",
            "Preparing to unpack .../09-libcholmod3_1%3a5.1.2-2_amd64.deb ...\n",
            "Unpacking libcholmod3:amd64 (1:5.1.2-2) ...\n",
            "Selecting previously unselected package libcxsparse3:amd64.\n",
            "Preparing to unpack .../10-libcxsparse3_1%3a5.1.2-2_amd64.deb ...\n",
            "Unpacking libcxsparse3:amd64 (1:5.1.2-2) ...\n",
            "Selecting previously unselected package libglpk40:amd64.\n",
            "Preparing to unpack .../11-libglpk40_4.65-1_amd64.deb ...\n",
            "Unpacking libglpk40:amd64 (4.65-1) ...\n",
            "Selecting previously unselected package libgmpxx4ldbl:amd64.\n",
            "Preparing to unpack .../12-libgmpxx4ldbl_2%3a6.1.2+dfsg-2_amd64.deb ...\n",
            "Unpacking libgmpxx4ldbl:amd64 (2:6.1.2+dfsg-2) ...\n",
            "Selecting previously unselected package libgmp-dev:amd64.\n",
            "Preparing to unpack .../13-libgmp-dev_2%3a6.1.2+dfsg-2_amd64.deb ...\n",
            "Unpacking libgmp-dev:amd64 (2:6.1.2+dfsg-2) ...\n",
            "Selecting previously unselected package libgraphblas1:amd64.\n",
            "Preparing to unpack .../14-libgraphblas1_1%3a5.1.2-2_amd64.deb ...\n",
            "Unpacking libgraphblas1:amd64 (1:5.1.2-2) ...\n",
            "Selecting previously unselected package libklu1:amd64.\n",
            "Preparing to unpack .../15-libklu1_1%3a5.1.2-2_amd64.deb ...\n",
            "Unpacking libklu1:amd64 (1:5.1.2-2) ...\n",
            "Selecting previously unselected package libldl2:amd64.\n",
            "Preparing to unpack .../16-libldl2_1%3a5.1.2-2_amd64.deb ...\n",
            "Unpacking libldl2:amd64 (1:5.1.2-2) ...\n",
            "Selecting previously unselected package libumfpack5:amd64.\n",
            "Preparing to unpack .../17-libumfpack5_1%3a5.1.2-2_amd64.deb ...\n",
            "Unpacking libumfpack5:amd64 (1:5.1.2-2) ...\n",
            "Selecting previously unselected package librbio2:amd64.\n",
            "Preparing to unpack .../18-librbio2_1%3a5.1.2-2_amd64.deb ...\n",
            "Unpacking librbio2:amd64 (1:5.1.2-2) ...\n",
            "Selecting previously unselected package libspqr2:amd64.\n",
            "Preparing to unpack .../19-libspqr2_1%3a5.1.2-2_amd64.deb ...\n",
            "Unpacking libspqr2:amd64 (1:5.1.2-2) ...\n",
            "Selecting previously unselected package libsuitesparse-dev:amd64.\n",
            "Preparing to unpack .../20-libsuitesparse-dev_1%3a5.1.2-2_amd64.deb ...\n",
            "Unpacking libsuitesparse-dev:amd64 (1:5.1.2-2) ...\n",
            "Selecting previously unselected package libglpk-dev:amd64.\n",
            "Preparing to unpack .../21-libglpk-dev_4.65-1_amd64.deb ...\n",
            "Unpacking libglpk-dev:amd64 (4.65-1) ...\n",
            "Selecting previously unselected package libgmp3-dev.\n",
            "Preparing to unpack .../22-libgmp3-dev_2%3a6.1.2+dfsg-2_amd64.deb ...\n",
            "Unpacking libgmp3-dev (2:6.1.2+dfsg-2) ...\n",
            "Selecting previously unselected package libpython3.8-stdlib:amd64.\n",
            "Preparing to unpack .../23-libpython3.8-stdlib_3.8.0-3~18.04_amd64.deb ...\n",
            "Unpacking libpython3.8-stdlib:amd64 (3.8.0-3~18.04) ...\n",
            "Selecting previously unselected package libpython3.8:amd64.\n",
            "Preparing to unpack .../24-libpython3.8_3.8.0-3~18.04_amd64.deb ...\n",
            "Unpacking libpython3.8:amd64 (3.8.0-3~18.04) ...\n",
            "Selecting previously unselected package libpython3.8-dev:amd64.\n",
            "Preparing to unpack .../25-libpython3.8-dev_3.8.0-3~18.04_amd64.deb ...\n",
            "Unpacking libpython3.8-dev:amd64 (3.8.0-3~18.04) ...\n",
            "Selecting previously unselected package python3.8.\n",
            "Preparing to unpack .../26-python3.8_3.8.0-3~18.04_amd64.deb ...\n",
            "Unpacking python3.8 (3.8.0-3~18.04) ...\n",
            "Selecting previously unselected package python3.8-dev.\n",
            "Preparing to unpack .../27-python3.8-dev_3.8.0-3~18.04_amd64.deb ...\n",
            "Unpacking python3.8-dev (3.8.0-3~18.04) ...\n",
            "Setting up libbtf1:amd64 (1:5.1.2-2) ...\n",
            "Setting up libldl2:amd64 (1:5.1.2-2) ...\n",
            "Setting up libcxsparse3:amd64 (1:5.1.2-2) ...\n",
            "Setting up libpython3.8-minimal:amd64 (3.8.0-3~18.04) ...\n",
            "Setting up libgraphblas1:amd64 (1:5.1.2-2) ...\n",
            "Setting up python3.8-minimal (3.8.0-3~18.04) ...\n",
            "Setting up libsuitesparseconfig5:amd64 (1:5.1.2-2) ...\n",
            "Setting up libmetis5:amd64 (5.1.0.dfsg-5) ...\n",
            "Setting up libcolamd2:amd64 (1:5.1.2-2) ...\n",
            "Setting up libccolamd2:amd64 (1:5.1.2-2) ...\n",
            "Setting up libgmpxx4ldbl:amd64 (2:6.1.2+dfsg-2) ...\n",
            "Setting up libpython3.8-stdlib:amd64 (3.8.0-3~18.04) ...\n",
            "Setting up libpython3.8:amd64 (3.8.0-3~18.04) ...\n",
            "Setting up libgmp-dev:amd64 (2:6.1.2+dfsg-2) ...\n",
            "Setting up libpython3.8-dev:amd64 (3.8.0-3~18.04) ...\n",
            "Setting up python3.8 (3.8.0-3~18.04) ...\n",
            "Setting up librbio2:amd64 (1:5.1.2-2) ...\n",
            "Setting up libcamd2:amd64 (1:5.1.2-2) ...\n",
            "Setting up python3.8-dev (3.8.0-3~18.04) ...\n",
            "Setting up libamd2:amd64 (1:5.1.2-2) ...\n",
            "Setting up libgmp3-dev (2:6.1.2+dfsg-2) ...\n",
            "Setting up libglpk40:amd64 (4.65-1) ...\n",
            "Setting up libklu1:amd64 (1:5.1.2-2) ...\n",
            "Setting up libcholmod3:amd64 (1:5.1.2-2) ...\n",
            "Setting up libspqr2:amd64 (1:5.1.2-2) ...\n",
            "Setting up libumfpack5:amd64 (1:5.1.2-2) ...\n",
            "Setting up libsuitesparse-dev:amd64 (1:5.1.2-2) ...\n",
            "Setting up libglpk-dev:amd64 (4.65-1) ...\n",
            "Processing triggers for libc-bin (2.27-3ubuntu1.2) ...\n",
            "/sbin/ldconfig.real: /usr/local/lib/python3.6/dist-packages/ideep4py/lib/libmkldnn.so.0 is not a symbolic link\n",
            "\n",
            "Processing triggers for man-db (2.8.3-2ubuntu0.1) ...\n",
            "Processing triggers for mime-support (3.60ubuntu1) ...\n",
            "Selecting previously unselected package glpk-utils.\n",
            "(Reading database ... 145854 files and directories currently installed.)\n",
            "Preparing to unpack .../glpk-utils_4.65-1_amd64.deb ...\n",
            "Unpacking glpk-utils (4.65-1) ...\n",
            "Setting up glpk-utils (4.65-1) ...\n",
            "Processing triggers for man-db (2.8.3-2ubuntu0.1) ...\n",
            "Collecting cplex\n",
            "\u001b[?25l  Downloading https://files.pythonhosted.org/packages/69/65/75bc076bec7a29ac65c9a8049d66effbf84db40d6f4f8e8137e9c9eaeb15/cplex-12.10.0.3-cp36-cp36m-manylinux1_x86_64.whl (31.0MB)\n",
            "\u001b[K     |████████████████████████████████| 31.0MB 138kB/s \n",
            "\u001b[?25hInstalling collected packages: cplex\n",
            "Successfully installed cplex-12.10.0.3\n",
            "Collecting xpress\n",
            "\u001b[?25l  Downloading https://files.pythonhosted.org/packages/0b/c7/f82745387b9a0cc55d428aa92c7c680e52ed51a1ac987c9c045921599f0c/xpress-8.11.0-cp36-cp36m-manylinux1_x86_64.whl (43.8MB)\n",
            "\u001b[K     |████████████████████████████████| 43.8MB 89kB/s \n",
            "\u001b[?25hRequirement already satisfied: numpy>=1.8 in /usr/local/lib/python3.6/dist-packages (from xpress) (1.18.5)\n",
            "Installing collected packages: xpress\n",
            "Successfully installed xpress-8.11.0\n",
            "Collecting Mosek\n",
            "\u001b[?25l  Downloading https://files.pythonhosted.org/packages/09/8e/d2cd85007e95ced87b034c4e65a3d5a4640a62db57862d289b41daaf94fa/Mosek-9.2.29-cp36-cp36m-manylinux1_x86_64.whl (10.1MB)\n",
            "\u001b[K     |████████████████████████████████| 10.1MB 4.5MB/s \n",
            "\u001b[?25hRequirement already satisfied: numpy in /usr/local/lib/python3.6/dist-packages (from Mosek) (1.18.5)\n",
            "Installing collected packages: Mosek\n",
            "Successfully installed Mosek-9.2.29\n"
          ]
        }
      ]
    },
    {
      "cell_type": "code",
      "metadata": {
        "id": "RE8rff0jD8Bd"
      },
      "source": [
        "%matplotlib inline\n",
        "import pyomo.environ as pyo\n",
        "import numpy as np\n",
        "import pandas as pd\n",
        "import seaborn as sns\n",
        "import matplotlib.pyplot as plt\n",
        "import math\n",
        "import logging\n",
        "from IPython.display import Markdown"
      ],
      "execution_count": null,
      "outputs": []
    },
    {
      "cell_type": "code",
      "metadata": {
        "id": "8IsKYwCOD8Uy"
      },
      "source": [
        "cbc_solver = pyo.SolverFactory('cbc', executable='/usr/bin/cbc')\n",
        "glpk_solver = pyo.SolverFactory('glpk')\n",
        "ipopt_solver = pyo.SolverFactory('ipopt', executable='/content/ipopt')"
      ],
      "execution_count": null,
      "outputs": []
    },
    {
      "cell_type": "markdown",
      "metadata": {
        "id": "Ac1DEuN_FXnH"
      },
      "source": [
        "# Exercise 1: Farmer's problem and some of its variants\n",
        "\n",
        "In the farmer's problem (please refer to the lecture notes or slides for a full description of the problem), a farmer has to allocate $500$ acres of land to three different types of crop aiming to maximize her profit. \n",
        "\n",
        "Recall that:\n",
        "\n",
        "*   Planting one acre of wheat, corn and beet costs 150, 230 and 260 euro, respectively.\n",
        "\n",
        "*   At least 200 tons of wheat and 240 tons of corn are needed for cattle feed, which can be purchased from a wholesaler if not harvested by her farm.\n",
        "\n",
        "*   Up to 6000 tons of sugar beets can be sold for 36 euro per ton, while any additional amounts can be sold for 10 euro per ton.\n",
        "\n",
        "*   Any wheat or corn not used for the cattle can be sold at 170 euro and 150 euro per ton of wheat and corn, respectively. The wholesaler sells the wheat or corn at a higher price, namely 238 euro and 210 euro per ton, respectively.\n",
        "\n",
        "In her decision, the farmer considers three weather scenarios, each one having a different yield in tons/acre per crop type as summarized by the following table.\n",
        "\n",
        "| Scenario | Yield for weath | Yield for corn | Yield for beets |\n",
        "| :-: | :-: | :-: | :-: |\n",
        "| Good weather | 3 | 3.6 | 24 |\n",
        "| Average weather | 2.5 | 3 | 20 |\n",
        "| Bad weather | 2 | 2.4 | 16 |\n",
        "\n",
        "We first consider the case in which all the prices are fixed and not weather-dependent. The following table summarizes them (unit=euro/ton)\n",
        "\n",
        "| Selling price for weath | Selling price for corn | Purchasing price for weath | Purchasing price for corn | Selling price for beets ($\\leq 6000$) | Selling price for beets ($> 6000$) |\n",
        "| :-: | :-: | :-: | :-: | :-: | :-: |\n",
        "| 170 | 150 | 238 | 210 | 36 | 10 |\n",
        "\n",
        "(a) Implement the extensive form of stochastic LP corresponding to the farmer's problem in Pyomo and solve it.\n"
      ]
    },
    {
      "cell_type": "code",
      "metadata": {
        "colab": {
          "base_uri": "https://localhost:8080/",
          "height": 290
        },
        "id": "lyubz-e6svp2",
        "outputId": "bddde857-bd7f-4ca3-e1fa-91d31435a01b"
      },
      "source": [
        "model = pyo.ConcreteModel()\n",
        "\n",
        "model.crops = pyo.Set(initialize=['W', 'C', 'S'])\n",
        "model.totalacres = 500\n",
        "model.factor_H = 1.2 # to obtain the yields in the good weather (high yield) case by multiplying the average ones\n",
        "model.factor_L = 0.8 # to obtain the yields in the bad weather (low yield) case by multiplying the average ones\n",
        "\n",
        "# first stage variables\n",
        "model.plant = pyo.Var(model.crops, within=pyo.NonNegativeReals) \n",
        "\n",
        "# first stage constraint\n",
        "model.total_acres = pyo.Constraint(expr=pyo.summation(model.plant) <= model.totalacres)\n",
        "\n",
        "model.scenarios = pyo.Set(initialize=['H', 'M', 'L'])  # high, medium, and low yield scenarios\n",
        "\n",
        "# second stage variables (labelled as H,M,L depending on the scenario)\n",
        "# the sell_extra variables refer to the amount of beets to be sold beyond the 6000 threshold, if any\n",
        "\n",
        "model.sell_H = pyo.Var(model.crops, within=pyo.NonNegativeReals)\n",
        "model.buy_H = pyo.Var(model.crops, within=pyo.NonNegativeReals)\n",
        "model.sell_extra_H = pyo.Var(within=pyo.NonNegativeReals) \n",
        "\n",
        "model.sell_M = pyo.Var(model.crops, within=pyo.NonNegativeReals)\n",
        "model.buy_M = pyo.Var(model.crops, within=pyo.NonNegativeReals)\n",
        "model.sell_extra_M = pyo.Var(within=pyo.NonNegativeReals)\n",
        "\n",
        "model.sell_L = pyo.Var(model.crops, within=pyo.NonNegativeReals)\n",
        "model.buy_L = pyo.Var(model.crops, within=pyo.NonNegativeReals)\n",
        "model.sell_extra_L = pyo.Var(within=pyo.NonNegativeReals)\n",
        "\n",
        "# second stage constraints\n",
        "model.feed_cattle_W_H = pyo.Constraint(expr=model.plant['W'] * 2.5 * model.factor_H - model.sell_H['W'] + model.buy_H['W'] >= 200)\n",
        "model.feed_cattle_C_H = pyo.Constraint(expr=model.plant['C'] * 3 * model.factor_H - model.sell_H['C'] + model.buy_H['C'] >= 240)\n",
        "model.sell_S_extra_H = pyo.Constraint(expr=model.plant['S'] * 20 * model.factor_H >= model.sell_H['S'] + model.sell_extra_H)\n",
        "model.sell_S_H = pyo.Constraint(expr=model.sell_H['S'] <= 6000)\n",
        "model.nobuy_H = pyo.Constraint(expr=model.buy_H['S'] == 0)\n",
        "\n",
        "model.feed_cattle_W_M = pyo.Constraint(expr=model.plant['W'] * 2.5 - model.sell_M['W'] + model.buy_M['W'] >= 200)\n",
        "model.feed_cattle_C_M = pyo.Constraint(expr=model.plant['C'] * 3 - model.sell_M['C'] + model.buy_M['C'] >= 240)\n",
        "model.sell_S_extra_M = pyo.Constraint(expr=model.plant['S'] * 20 >= model.sell_M['S'] + model.sell_extra_M)\n",
        "model.sell_S_M = pyo.Constraint(expr=model.sell_M['S'] <= 6000)\n",
        "model.nobuy_M = pyo.Constraint(expr=model.buy_M['S'] == 0)\n",
        "\n",
        "model.feed_cattle_W_L = pyo.Constraint(expr=model.plant['W'] * 2.5 * model.factor_L - model.sell_L['W'] + model.buy_L['W'] >= 200)\n",
        "model.feed_cattle_C_L = pyo.Constraint(expr=model.plant['C'] * 3 * model.factor_L - model.sell_L['C'] + model.buy_L['C'] >= 240)\n",
        "model.sell_S_extra_L = pyo.Constraint(expr=model.plant['S'] * 20 * model.factor_L >= model.sell_L['S'] + model.sell_extra_L)\n",
        "model.sell_S_L = pyo.Constraint(expr=model.sell_L['S'] <= 6000)\n",
        "model.nobuy_L = pyo.Constraint(expr=model.buy_L['S'] == 0)\n",
        "\n",
        "def first_stage_profit(model):\n",
        "    return -model.plant[\"W\"] * 150 - model.plant[\"C\"] * 230 - model.plant[\"S\"] * 260\n",
        "\n",
        "model.first_stage_profit = pyo.Expression(rule=first_stage_profit)\n",
        "\n",
        "def second_stage_profit(model):\n",
        "    total_H = -model.buy_H['W'] * 238 - model.buy_H['C'] * 210 + 36 * model.sell_H['S'] + 10 * model.sell_extra_H + model.sell_H['W'] * 170 + model.sell_H['C'] * 150\n",
        "    total_M = -model.buy_M['W'] * 238 - model.buy_M['C'] * 210 + 36 * model.sell_M['S'] + 10 * model.sell_extra_M + model.sell_M['W'] * 170 + model.sell_M['C'] * 150\n",
        "    total_L = -model.buy_L['W'] * 238 - model.buy_L['C'] * 210 + 36 * model.sell_L['S'] + 10 * model.sell_extra_L + model.sell_L['W'] * 170 + model.sell_L['C'] * 150\n",
        "    return (total_H + total_M + total_L)/3.0\n",
        "\n",
        "model.second_stage_profit = pyo.Expression(rule=second_stage_profit)\n",
        "\n",
        "def total_profit(model):\n",
        "    return model.first_stage_profit + model.second_stage_profit\n",
        "\n",
        "model.total_expected_profit = pyo.Objective(rule=total_profit, sense=pyo.maximize)\n",
        "\n",
        "result = cbc_solver.solve(model)\n",
        "display(Markdown(f\"**Solver status:** *{result.solver.status}, {result.solver.termination_condition}*\"))\n",
        "display(Markdown(f\"**Solution:**\"))\n",
        "display(Markdown(f\"(land allocation) $x_1 = {model.plant['W'].value:.1f}$, $x_2 = {model.plant['C'].value:.1f}$, $x_3 = {model.plant['S'].value:.1f}$\"))\n",
        "display(Markdown(f\"(recourse sell action high yield) $w_1 = {model.sell_H['W'].value:.1f}$, $w_2 = {model.sell_H['C'].value:.1f}$, $w_3 = {model.sell_H['S'].value:.1f}$, $w_4 = {model.sell_extra_H.value:.1f}$\"))\n",
        "display(Markdown(f\"(recourse purchase action high yield) $y_1 = {model.buy_H['W'].value:.1f}$, $y_2 = {model.buy_H['C'].value:.1f}$, $y_3 = {model.buy_H['S'].value:.1f}$\"))\n",
        "display(Markdown(f\"(recourse sell action medium yield) $w_1 = {model.sell_M['W'].value:.1f}$, $w_2 = {model.sell_M['C'].value:.1f}$, $w_3 = {model.sell_M['S'].value:.1f}$, $w_4 = {model.sell_extra_M.value:.1f}$\"))\n",
        "display(Markdown(f\"(recourse purchase action medium yield) $y_1 = {model.buy_M['W'].value:.1f}$, $y_2 = {model.buy_M['C'].value:.1f}$, $y_3 = {model.buy_M['S'].value:.1f}$\"))\n",
        "display(Markdown(f\"(recourse sell action low yield) $w_1 = {model.sell_L['W'].value:.1f}$, $w_2 = {model.sell_L['C'].value:.1f}$, $w_3 = {model.sell_L['S'].value:.1f}$, $w_4 = {model.sell_extra_L.value:.1f}$\"))\n",
        "display(Markdown(f\"(recourse purchase action low yield) $y_1 = {model.buy_L['W'].value:.1f}$, $y_2 = {model.buy_L['C'].value:.1f}$, $y_3 = {model.buy_L['S'].value:.1f}$\"))\n",
        "display(Markdown(f\"**Maximizes objective value to:** ${model.total_expected_profit():.0f}$€\"))"
      ],
      "execution_count": null,
      "outputs": [
        {
          "data": {
            "text/markdown": [
              "**Solver status:** *ok, optimal*"
            ],
            "text/plain": [
              "<IPython.core.display.Markdown object>"
            ]
          },
          "metadata": {
            "tags": []
          },
          "output_type": "display_data"
        },
        {
          "data": {
            "text/markdown": [
              "**Solution:**"
            ],
            "text/plain": [
              "<IPython.core.display.Markdown object>"
            ]
          },
          "metadata": {
            "tags": []
          },
          "output_type": "display_data"
        },
        {
          "data": {
            "text/markdown": [
              "(land allocation) $x_1 = 170.0$, $x_2 = 80.0$, $x_3 = 250.0$"
            ],
            "text/plain": [
              "<IPython.core.display.Markdown object>"
            ]
          },
          "metadata": {
            "tags": []
          },
          "output_type": "display_data"
        },
        {
          "data": {
            "text/markdown": [
              "(recourse sell action high yield) $w_1 = 310.0$, $w_2 = 48.0$, $w_3 = 6000.0$, $w_4 = 0.0$"
            ],
            "text/plain": [
              "<IPython.core.display.Markdown object>"
            ]
          },
          "metadata": {
            "tags": []
          },
          "output_type": "display_data"
        },
        {
          "data": {
            "text/markdown": [
              "(recourse purchase action high yield) $y_1 = 0.0$, $y_2 = 0.0$, $y_3 = 0.0$"
            ],
            "text/plain": [
              "<IPython.core.display.Markdown object>"
            ]
          },
          "metadata": {
            "tags": []
          },
          "output_type": "display_data"
        },
        {
          "data": {
            "text/markdown": [
              "(recourse sell action medium yield) $w_1 = 225.0$, $w_2 = 0.0$, $w_3 = 5000.0$, $w_4 = 0.0$"
            ],
            "text/plain": [
              "<IPython.core.display.Markdown object>"
            ]
          },
          "metadata": {
            "tags": []
          },
          "output_type": "display_data"
        },
        {
          "data": {
            "text/markdown": [
              "(recourse purchase action medium yield) $y_1 = 0.0$, $y_2 = 0.0$, $y_3 = 0.0$"
            ],
            "text/plain": [
              "<IPython.core.display.Markdown object>"
            ]
          },
          "metadata": {
            "tags": []
          },
          "output_type": "display_data"
        },
        {
          "data": {
            "text/markdown": [
              "(recourse sell action low yield) $w_1 = 140.0$, $w_2 = 0.0$, $w_3 = 4000.0$, $w_4 = 0.0$"
            ],
            "text/plain": [
              "<IPython.core.display.Markdown object>"
            ]
          },
          "metadata": {
            "tags": []
          },
          "output_type": "display_data"
        },
        {
          "data": {
            "text/markdown": [
              "(recourse purchase action low yield) $y_1 = 0.0$, $y_2 = 48.0$, $y_3 = 0.0$"
            ],
            "text/plain": [
              "<IPython.core.display.Markdown object>"
            ]
          },
          "metadata": {
            "tags": []
          },
          "output_type": "display_data"
        },
        {
          "data": {
            "text/markdown": [
              "**Maximizes objective value to:** $108390$€"
            ],
            "text/plain": [
              "<IPython.core.display.Markdown object>"
            ]
          },
          "metadata": {
            "tags": []
          },
          "output_type": "display_data"
        }
      ]
    },
    {
      "cell_type": "markdown",
      "metadata": {
        "id": "HdZFfHICvZ9J"
      },
      "source": [
        "Please note a second way to create this model which makes use of `pyomo` `blocks`. For an explanation of `blocks` refer to chapter 8 of the `pyomo` book that you may [download](https://vu.on.worldcat.org/oclc/988749903) from the VU library.\n",
        "\n",
        "We leave as an exercise to redo the rest of the questions using `blocks` and see how that may help.\n",
        "\n",
        "Note that for b) you will need to provide prices as parameters to the blocks. \n",
        "Note as well that is the resolution below already had done that, instead of typing the prices as numerical constants, then the changes would have been immediate. "
      ]
    },
    {
      "cell_type": "code",
      "metadata": {
        "colab": {
          "base_uri": "https://localhost:8080/",
          "height": 290
        },
        "id": "fA7nsFZ9tW2p",
        "outputId": "f0a89d14-6e22-4de9-d525-230fafe9c27b"
      },
      "source": [
        "m = pyo.ConcreteModel()\n",
        "\n",
        "m.crops = pyo.Set(initialize=['W', 'C', 'S'])\n",
        "m.totalacres = 500\n",
        "\n",
        "# first stage variables\n",
        "m.plant = pyo.Var(m.crops, within=pyo.NonNegativeReals) \n",
        "\n",
        "# first stage constraint\n",
        "m.total_acres = pyo.Constraint(expr=pyo.summation(m.plant) <= m.totalacres)\n",
        "\n",
        "m.scenarios = pyo.Set(initialize=['H', 'M', 'L'])  # high, medium, and low yield scenarios\n",
        "\n",
        "# this could be a dataframe, or any other data source\n",
        "nominal_yields = { 'W' : 2.5, 'C' :   3, 'S' : 20 }\n",
        "factor_yields  = { 'M' : 1, 'H' : 1.2, 'L' : 0.8 }\n",
        "m.yields = { s : { c : nominal_yields[c]*factor_yields[s] for c in m.crops } for s in m.scenarios }\n",
        "\n",
        "def scenario_block(b,s):\n",
        "  b.yields     = pyo.Param(m.crops,initialize=m.yields[s])\n",
        "  b.sell       = pyo.Var(m.crops, within=pyo.NonNegativeReals)\n",
        "  b.buy        = pyo.Var(m.crops, within=pyo.NonNegativeReals)\n",
        "  b.sell_extra = pyo.Var(within=pyo.NonNegativeReals) \n",
        "  b.sell_S     = pyo.Constraint(expr=b.sell['S'] <= 6000)\n",
        "  b.nobuy      = pyo.Constraint(expr=b.buy['S'] == 0)\n",
        "  b.profit     = pyo.Expression(expr= -238*b.buy['W'] -210*b.buy['C'] +36*b.sell['S'] + 10*b.sell_extra + 170*b.sell['W'] + 150*b.sell['C'])\n",
        "\n",
        "m.scenario = pyo.Block( m.scenarios, rule=scenario_block)\n",
        "\n",
        "# second stage (linking) constraints\n",
        "m.feed_cattle_W = pyo.Constraint(m.scenarios, rule = lambda m, s : m.plant['W'] * m.scenario[s].yields['W'] - m.scenario[s].sell['W'] + m.scenario[s].buy['W'] >= 200)\n",
        "m.feed_cattle_C = pyo.Constraint(m.scenarios, rule = lambda m, s : m.plant['C'] * m.scenario[s].yields['C'] - m.scenario[s].sell['C'] + m.scenario[s].buy['C'] >= 240)\n",
        "m.sell_S_extra  = pyo.Constraint(m.scenarios, rule = lambda m, s : m.plant['S'] * m.scenario[s].yields['S'] >= m.scenario[s].sell['S'] + m.scenario[s].sell_extra )\n",
        "\n",
        "m.first_stage_profit = pyo.Expression( expr = -150*m.plant[\"W\"] -230*m.plant[\"C\"] -260*m.plant[\"S\"] )\n",
        "m.total_expected_profit = pyo.Objective( rule = lambda m : m.first_stage_profit + sum(m.scenario[s].profit for s in m.scenarios)/3, sense=pyo.maximize )\n",
        "\n",
        "result = cbc_solver.solve(m)\n",
        "display(Markdown(f\"**Solver status:** *{result.solver.status}, {result.solver.termination_condition}*\"))\n",
        "display(Markdown(f\"**Solution:**\"))\n",
        "display(Markdown(f\"(land allocation) $x_1 = {m.plant['W'].value:.1f}$, $x_2 = {m.plant['C'].value:.1f}$, $x_3 = {m.plant['S'].value:.1f}$\"))\n",
        "spellout = { 'H' : 'high', 'M' : 'medium', 'L' : 'low' }\n",
        "for s in m.scenarios:\n",
        "  display(Markdown(f\"(recourse sell action {spellout[s]} yield) $w_1 = {m.scenario[s].sell['W'].value:.1f}$, $w_2 = {m.scenario[s].sell['C'].value:.1f}$, $w_3 = {m.scenario[s].sell['S'].value:.1f}$, $w_4 = {m.scenario[s].sell_extra.value:.1f}$\"))\n",
        "  display(Markdown(f\"(recourse purchase action {spellout[s]} yield) $y_1 = {m.scenario[s].buy['W'].value:.1f}$, $y_2 = {m.scenario[s].buy['C'].value:.1f}$, $y_3 = {m.scenario[s].buy['S'].value:.1f}$\"))\n",
        "display(Markdown(f\"**Maximizes objective value to:** ${m.total_expected_profit.expr():.0f}$€\"))"
      ],
      "execution_count": null,
      "outputs": [
        {
          "data": {
            "text/markdown": [
              "**Solver status:** *ok, optimal*"
            ],
            "text/plain": [
              "<IPython.core.display.Markdown object>"
            ]
          },
          "metadata": {
            "tags": []
          },
          "output_type": "display_data"
        },
        {
          "data": {
            "text/markdown": [
              "**Solution:**"
            ],
            "text/plain": [
              "<IPython.core.display.Markdown object>"
            ]
          },
          "metadata": {
            "tags": []
          },
          "output_type": "display_data"
        },
        {
          "data": {
            "text/markdown": [
              "(land allocation) $x_1 = 170.0$, $x_2 = 80.0$, $x_3 = 250.0$"
            ],
            "text/plain": [
              "<IPython.core.display.Markdown object>"
            ]
          },
          "metadata": {
            "tags": []
          },
          "output_type": "display_data"
        },
        {
          "data": {
            "text/markdown": [
              "(recourse sell action high yield) $w_1 = 310.0$, $w_2 = 48.0$, $w_3 = 6000.0$, $w_4 = 0.0$"
            ],
            "text/plain": [
              "<IPython.core.display.Markdown object>"
            ]
          },
          "metadata": {
            "tags": []
          },
          "output_type": "display_data"
        },
        {
          "data": {
            "text/markdown": [
              "(recourse purchase action high yield) $y_1 = 0.0$, $y_2 = 0.0$, $y_3 = 0.0$"
            ],
            "text/plain": [
              "<IPython.core.display.Markdown object>"
            ]
          },
          "metadata": {
            "tags": []
          },
          "output_type": "display_data"
        },
        {
          "data": {
            "text/markdown": [
              "(recourse sell action medium yield) $w_1 = 225.0$, $w_2 = 0.0$, $w_3 = 5000.0$, $w_4 = 0.0$"
            ],
            "text/plain": [
              "<IPython.core.display.Markdown object>"
            ]
          },
          "metadata": {
            "tags": []
          },
          "output_type": "display_data"
        },
        {
          "data": {
            "text/markdown": [
              "(recourse purchase action medium yield) $y_1 = 0.0$, $y_2 = 0.0$, $y_3 = 0.0$"
            ],
            "text/plain": [
              "<IPython.core.display.Markdown object>"
            ]
          },
          "metadata": {
            "tags": []
          },
          "output_type": "display_data"
        },
        {
          "data": {
            "text/markdown": [
              "(recourse sell action low yield) $w_1 = 140.0$, $w_2 = 0.0$, $w_3 = 4000.0$, $w_4 = 0.0$"
            ],
            "text/plain": [
              "<IPython.core.display.Markdown object>"
            ]
          },
          "metadata": {
            "tags": []
          },
          "output_type": "display_data"
        },
        {
          "data": {
            "text/markdown": [
              "(recourse purchase action low yield) $y_1 = 0.0$, $y_2 = 48.0$, $y_3 = 0.0$"
            ],
            "text/plain": [
              "<IPython.core.display.Markdown object>"
            ]
          },
          "metadata": {
            "tags": []
          },
          "output_type": "display_data"
        },
        {
          "data": {
            "text/markdown": [
              "**Maximizes objective value to:** $108390$€"
            ],
            "text/plain": [
              "<IPython.core.display.Markdown object>"
            ]
          },
          "metadata": {
            "tags": []
          },
          "output_type": "display_data"
        }
      ]
    },
    {
      "cell_type": "markdown",
      "metadata": {
        "id": "jAAO_du3swys"
      },
      "source": [
        "If the weather is good and yields are high for the farmer, they are probably so also for many other farmers. The total supply is thus increasing, which will lower the prices. Assume the prices going down by 10% for corn and wheat when the weather is good and going up by 10% when the weather is bad. These changes in prices affect both sales and purchases of corn and wheat, but sugar beet prices are not affected by yields. The following table summarizes the scenario-dependent prices:\n",
        "\n",
        "| Scenario | Selling price for weath | Selling price for corn | Purchasing price for weath | Purchasing price for corn | \n",
        "| :-: | :-: | :-: | :-: | :-: |\n",
        "| Good weather | 153| 135| 214| 189|\n",
        "| Average weather | 170 | 150 | 238 | 210 |\n",
        "| Bad weather |187| 165| 262| 231|\n",
        "\n",
        "(b) Implement the extensive form of stochastic LP corresponding to the farmer's problem in Pyomo that accounts also for the price changes and solve it.\n",
        "\n"
      ]
    },
    {
      "cell_type": "code",
      "metadata": {
        "colab": {
          "base_uri": "https://localhost:8080/",
          "height": 290
        },
        "id": "I3xR8V2Ms2m-",
        "outputId": "d33567c4-a277-4477-ae91-e3cf2ee5a2a8"
      },
      "source": [
        "model = pyo.ConcreteModel()\n",
        "\n",
        "model.crops = pyo.Set(initialize=['W', 'C', 'S'])\n",
        "model.totalacres = 500\n",
        "model.factor_H = 1.2 # to obtain the yields in the good weather (high yield) case by multiplying the average ones\n",
        "model.factor_L = 0.8 # to obtain the yields in the bad weather (low yield) case by multiplying the average ones\n",
        "model.pricefactor_H = 0.9 # to obtain the prices in the good weather (high yield) case by multiplying the average ones\n",
        "model.pricefactor_L = 1.1 # to obtain the prices in the bad weather (low yield) case by multiplying the average ones\n",
        "\n",
        "# first stage variables\n",
        "model.plant = pyo.Var(model.crops, within=pyo.NonNegativeReals) \n",
        "\n",
        "# first stage constraint\n",
        "model.total_acres = pyo.Constraint(expr=pyo.summation(model.plant) <= model.totalacres)\n",
        "\n",
        "model.scenarios = pyo.Set(initialize=['H', 'M', 'L'])  # high, medium, and low yield scenarios\n",
        "\n",
        "# second stage variables (labelled as H,M,L depending on the scenario)\n",
        "# the sell_extra variables refer to the amount of beets to be sold beyond the 6000 threshold, if any\n",
        "\n",
        "model.sell_H = pyo.Var(model.crops, within=pyo.NonNegativeReals)\n",
        "model.buy_H = pyo.Var(model.crops, within=pyo.NonNegativeReals)\n",
        "model.sell_extra_H = pyo.Var(within=pyo.NonNegativeReals) \n",
        "\n",
        "model.sell_M = pyo.Var(model.crops, within=pyo.NonNegativeReals)\n",
        "model.buy_M = pyo.Var(model.crops, within=pyo.NonNegativeReals)\n",
        "model.sell_extra_M = pyo.Var(within=pyo.NonNegativeReals)\n",
        "\n",
        "model.sell_L = pyo.Var(model.crops, within=pyo.NonNegativeReals)\n",
        "model.buy_L = pyo.Var(model.crops, within=pyo.NonNegativeReals)\n",
        "model.sell_extra_L = pyo.Var(within=pyo.NonNegativeReals)\n",
        "\n",
        "# second stage constraints\n",
        "model.feed_cattle_W_H = pyo.Constraint(expr=model.plant['W'] * 2.5 * model.factor_H - model.sell_H['W'] + model.buy_H['W'] >= 200)\n",
        "model.feed_cattle_C_H = pyo.Constraint(expr=model.plant['C'] * 3 * model.factor_H - model.sell_H['C'] + model.buy_H['C'] >= 240)\n",
        "model.sell_S_extra_H = pyo.Constraint(expr=model.plant['S'] * 20 * model.factor_H >= model.sell_H['S'] + model.sell_extra_H)\n",
        "model.sell_S_H = pyo.Constraint(expr=model.sell_H['S'] <= 6000)\n",
        "model.nobuy_H = pyo.Constraint(expr=model.buy_H['S'] == 0)\n",
        "\n",
        "model.feed_cattle_W_M = pyo.Constraint(expr=model.plant['W'] * 2.5 - model.sell_M['W'] + model.buy_M['W'] >= 200)\n",
        "model.feed_cattle_C_M = pyo.Constraint(expr=model.plant['C'] * 3 - model.sell_M['C'] + model.buy_M['C'] >= 240)\n",
        "model.sell_S_extra_M = pyo.Constraint(expr=model.plant['S'] * 20 >= model.sell_M['S'] + model.sell_extra_M)\n",
        "model.sell_S_M = pyo.Constraint(expr=model.sell_M['S'] <= 6000)\n",
        "model.nobuy_M = pyo.Constraint(expr=model.buy_M['S'] == 0)\n",
        "\n",
        "model.feed_cattle_W_L = pyo.Constraint(expr=model.plant['W'] * 2.5 * model.factor_L - model.sell_L['W'] + model.buy_L['W'] >= 200)\n",
        "model.feed_cattle_C_L = pyo.Constraint(expr=model.plant['C'] * 3 * model.factor_L - model.sell_L['C'] + model.buy_L['C'] >= 240)\n",
        "model.sell_S_extra_L = pyo.Constraint(expr=model.plant['S'] * 20 * model.factor_L >= model.sell_L['S'] + model.sell_extra_L)\n",
        "model.sell_S_L = pyo.Constraint(expr=model.sell_L['S'] <= 6000)\n",
        "model.nobuy_L = pyo.Constraint(expr=model.buy_L['S'] == 0)\n",
        "\n",
        "def first_stage_profit(model):\n",
        "    return -model.plant[\"W\"] * 150 - model.plant[\"C\"] * 230 - model.plant[\"S\"] * 260\n",
        "\n",
        "model.first_stage_profit = pyo.Expression(rule=first_stage_profit)\n",
        "\n",
        "def second_stage_profit(model):\n",
        "    total_H = -model.buy_H['W'] * 238 * model.pricefactor_H - model.buy_H['C'] * 210 * model.pricefactor_H + 36 * model.sell_H['S'] + 10 * model.sell_extra_H + model.sell_H['W'] * 170 * model.pricefactor_H + model.sell_H['C'] * 150 * model.pricefactor_H\n",
        "    total_M = -model.buy_M['W'] * 238 - model.buy_M['C'] * 210 + 36 * model.sell_M['S'] + 10 * model.sell_extra_M + model.sell_M['W'] * 170 + model.sell_M['C'] * 150\n",
        "    total_L = -model.buy_L['W'] * 238 * model.pricefactor_L - model.buy_L['C'] * 210 * model.pricefactor_L + 36 * model.sell_L['S'] + 10 * model.sell_extra_L + model.sell_L['W'] * 170 * model.pricefactor_L + model.sell_L['C'] * 150 * model.pricefactor_L\n",
        "    return (total_H + total_M + total_L)/3.0\n",
        "\n",
        "model.second_stage_profit = pyo.Expression(rule=second_stage_profit)\n",
        "\n",
        "def total_profit(model):\n",
        "    return model.first_stage_profit + model.second_stage_profit\n",
        "\n",
        "model.total_expected_profit = pyo.Objective(rule=total_profit, sense=pyo.maximize)\n",
        "\n",
        "result = cbc_solver.solve(model)\n",
        "display(Markdown(f\"**Solver status:** *{result.solver.status}, {result.solver.termination_condition}*\"))\n",
        "display(Markdown(f\"**Solution:**\"))\n",
        "display(Markdown(f\"(land allocation) $x_1 = {model.plant['W'].value:.1f}$, $x_2 = {model.plant['C'].value:.1f}$, $x_3 = {model.plant['S'].value:.1f}$\"))\n",
        "display(Markdown(f\"(recourse sell action high yield) $w_1 = {model.sell_H['W'].value:.1f}$, $w_2 = {model.sell_H['C'].value:.1f}$, $w_3 = {model.sell_H['S'].value:.1f}$, $w_4 = {model.sell_extra_H.value:.1f}$\"))\n",
        "display(Markdown(f\"(recourse purchase action high yield) $y_1 = {model.buy_H['W'].value:.1f}$, $y_2 = {model.buy_H['C'].value:.1f}$, $y_3 = {model.buy_H['S'].value:.1f}$\"))\n",
        "display(Markdown(f\"(recourse sell action medium yield) $w_1 = {model.sell_M['W'].value:.1f}$, $w_2 = {model.sell_M['C'].value:.1f}$, $w_3 = {model.sell_M['S'].value:.1f}$, $w_4 = {model.sell_extra_M.value:.1f}$\"))\n",
        "display(Markdown(f\"(recourse purchase action medium yield) $y_1 = {model.buy_M['W'].value:.1f}$, $y_2 = {model.buy_M['C'].value:.1f}$, $y_3 = {model.buy_M['S'].value:.1f}$\"))\n",
        "display(Markdown(f\"(recourse sell action low yield) $w_1 = {model.sell_L['W'].value:.1f}$, $w_2 = {model.sell_L['C'].value:.1f}$, $w_3 = {model.sell_L['S'].value:.1f}$, $w_4 = {model.sell_extra_L.value:.1f}$\"))\n",
        "display(Markdown(f\"(recourse purchase action low yield) $y_1 = {model.buy_L['W'].value:.1f}$, $y_2 = {model.buy_L['C'].value:.1f}$, $y_3 = {model.buy_L['S'].value:.1f}$\"))\n",
        "display(Markdown(f\"**Maximizes objective value to:** ${model.total_expected_profit():.0f}$€\"))"
      ],
      "execution_count": null,
      "outputs": [
        {
          "data": {
            "text/markdown": [
              "**Solver status:** *ok, optimal*"
            ],
            "text/plain": [
              "<IPython.core.display.Markdown object>"
            ]
          },
          "metadata": {
            "tags": []
          },
          "output_type": "display_data"
        },
        {
          "data": {
            "text/markdown": [
              "**Solution:**"
            ],
            "text/plain": [
              "<IPython.core.display.Markdown object>"
            ]
          },
          "metadata": {
            "tags": []
          },
          "output_type": "display_data"
        },
        {
          "data": {
            "text/markdown": [
              "(land allocation) $x_1 = 170.0$, $x_2 = 80.0$, $x_3 = 250.0$"
            ],
            "text/plain": [
              "<IPython.core.display.Markdown object>"
            ]
          },
          "metadata": {
            "tags": []
          },
          "output_type": "display_data"
        },
        {
          "data": {
            "text/markdown": [
              "(recourse sell action high yield) $w_1 = 310.0$, $w_2 = 48.0$, $w_3 = 6000.0$, $w_4 = 0.0$"
            ],
            "text/plain": [
              "<IPython.core.display.Markdown object>"
            ]
          },
          "metadata": {
            "tags": []
          },
          "output_type": "display_data"
        },
        {
          "data": {
            "text/markdown": [
              "(recourse purchase action high yield) $y_1 = 0.0$, $y_2 = 0.0$, $y_3 = 0.0$"
            ],
            "text/plain": [
              "<IPython.core.display.Markdown object>"
            ]
          },
          "metadata": {
            "tags": []
          },
          "output_type": "display_data"
        },
        {
          "data": {
            "text/markdown": [
              "(recourse sell action medium yield) $w_1 = 225.0$, $w_2 = 0.0$, $w_3 = 5000.0$, $w_4 = 0.0$"
            ],
            "text/plain": [
              "<IPython.core.display.Markdown object>"
            ]
          },
          "metadata": {
            "tags": []
          },
          "output_type": "display_data"
        },
        {
          "data": {
            "text/markdown": [
              "(recourse purchase action medium yield) $y_1 = 0.0$, $y_2 = 0.0$, $y_3 = 0.0$"
            ],
            "text/plain": [
              "<IPython.core.display.Markdown object>"
            ]
          },
          "metadata": {
            "tags": []
          },
          "output_type": "display_data"
        },
        {
          "data": {
            "text/markdown": [
              "(recourse sell action low yield) $w_1 = 140.0$, $w_2 = 0.0$, $w_3 = 4000.0$, $w_4 = 0.0$"
            ],
            "text/plain": [
              "<IPython.core.display.Markdown object>"
            ]
          },
          "metadata": {
            "tags": []
          },
          "output_type": "display_data"
        },
        {
          "data": {
            "text/markdown": [
              "(recourse purchase action low yield) $y_1 = 0.0$, $y_2 = 48.0$, $y_3 = 0.0$"
            ],
            "text/plain": [
              "<IPython.core.display.Markdown object>"
            ]
          },
          "metadata": {
            "tags": []
          },
          "output_type": "display_data"
        },
        {
          "data": {
            "text/markdown": [
              "**Maximizes objective value to:** $106851$€"
            ],
            "text/plain": [
              "<IPython.core.display.Markdown object>"
            ]
          },
          "metadata": {
            "tags": []
          },
          "output_type": "display_data"
        }
      ]
    },
    {
      "cell_type": "markdown",
      "metadata": {
        "id": "4_Ha2wHwAx-j"
      },
      "source": [
        "Consider again the case where prices are fixed and scenario-independent. The farmer possesses four fields of sizes $185$, $145$, $105$, and $65$ acres, respectively. (observe that the total of 500 acres is unchanged). For reasons of efficiency the farmer wants to raise only one type of crop on each fields. \n",
        "\n",
        "(c) Formulate this model as a two-stage stochastic program with a first-stage program with binary variables and solve it using once more the extensive form of the same stochastic program."
      ]
    },
    {
      "cell_type": "code",
      "metadata": {
        "colab": {
          "base_uri": "https://localhost:8080/",
          "height": 368
        },
        "id": "gFK9paBXBMbb",
        "outputId": "16754906-e15c-4871-e85c-06aa9615aed8"
      },
      "source": [
        "model = pyo.ConcreteModel()\n",
        "\n",
        "model.crops = pyo.Set(initialize=['W', 'C', 'S'])\n",
        "model.fields = pyo.Set(initialize=['1','2','3','4'])\n",
        "model.fieldsize = pyo.Param(model.fields, initialize={'1': 185.0, '2': 145.0, '3': 105.0, '4': 65.0}, within=pyo.NonNegativeReals)\n",
        "\n",
        "model.factor_H = 1.2 # to obtain the yields in the good weather (high yield) case by multiplying the average ones\n",
        "model.factor_L = 0.8 # to obtain the yields in the bad weather (low yield) case by multiplying the average ones\n",
        "model.pricefactor_H = 1.0 # to obtain the prices in the good weather (high yield) case by multiplying the average ones\n",
        "model.pricefactor_L = 1.0 # to obtain the prices in the bad weather (low yield) case by multiplying the average ones\n",
        "\n",
        "# first stage variables, which are now binary variables\n",
        "model.plant_W = pyo.Var(model.fields, within=pyo.Binary) \n",
        "model.plant_C = pyo.Var(model.fields, within=pyo.Binary) \n",
        "model.plant_S = pyo.Var(model.fields, within=pyo.Binary)\n",
        "\n",
        "# first stage constraint\n",
        "model.field1 = pyo.Constraint(expr=model.plant_W['1'] + model.plant_C['1'] + model.plant_S['1'] <= 1)\n",
        "model.field2 = pyo.Constraint(expr=model.plant_W['2'] + model.plant_C['2'] + model.plant_S['2'] <= 1)\n",
        "model.field3 = pyo.Constraint(expr=model.plant_W['3'] + model.plant_C['3'] + model.plant_S['3'] <= 1)\n",
        "model.field4 = pyo.Constraint(expr=model.plant_W['4'] + model.plant_C['4'] + model.plant_S['4'] <= 1)\n",
        "\n",
        "# we recalculate the total surface per type of crop\n",
        "model.totalWsurface = pyo.Expression(expr=np.sum([model.plant_W[i] * model.fieldsize[i] for i in model.fields]))\n",
        "model.totalCsurface = pyo.Expression(expr=np.sum([model.plant_C[i] * model.fieldsize[i] for i in model.fields]))\n",
        "model.totalSsurface = pyo.Expression(expr=np.sum([model.plant_S[i] * model.fieldsize[i] for i in model.fields]))\n",
        "\n",
        "model.scenarios = pyo.Set(initialize=['H', 'M', 'L'])  # high, medium, and low yield scenarios\n",
        "\n",
        "# second stage variables (labelled as H,M,L depending on the scenario)\n",
        "# the sell_extra variables refer to the amount of beets to be sold beyond the 6000 threshold, if any\n",
        "\n",
        "model.sell_H = pyo.Var(model.crops, within=pyo.NonNegativeReals)\n",
        "model.buy_H = pyo.Var(model.crops, within=pyo.NonNegativeReals)\n",
        "model.sell_extra_H = pyo.Var(within=pyo.NonNegativeReals) \n",
        "\n",
        "model.sell_M = pyo.Var(model.crops, within=pyo.NonNegativeReals)\n",
        "model.buy_M = pyo.Var(model.crops, within=pyo.NonNegativeReals)\n",
        "model.sell_extra_M = pyo.Var(within=pyo.NonNegativeReals)\n",
        "\n",
        "model.sell_L = pyo.Var(model.crops, within=pyo.NonNegativeReals)\n",
        "model.buy_L = pyo.Var(model.crops, within=pyo.NonNegativeReals)\n",
        "model.sell_extra_L = pyo.Var(within=pyo.NonNegativeReals)\n",
        "\n",
        "# second stage constraints\n",
        "model.feed_cattle_W_H = pyo.Constraint(expr=model.totalWsurface * 2.5 * model.factor_H - model.sell_H['W'] + model.buy_H['W'] >= 200)\n",
        "model.feed_cattle_C_H = pyo.Constraint(expr=model.totalCsurface * 3 * model.factor_H - model.sell_H['C'] + model.buy_H['C'] >= 240)\n",
        "model.sell_S_extra_H = pyo.Constraint(expr=model.totalSsurface * 20 * model.factor_H >= model.sell_H['S'] + model.sell_extra_H)\n",
        "model.sell_S_H = pyo.Constraint(expr=model.sell_H['S'] <= 6000)\n",
        "model.nobuy_H = pyo.Constraint(expr=model.buy_H['S'] == 0)\n",
        "\n",
        "model.feed_cattle_W_M = pyo.Constraint(expr=model.totalWsurface * 2.5 - model.sell_M['W'] + model.buy_M['W'] >= 200)\n",
        "model.feed_cattle_C_M = pyo.Constraint(expr=model.totalCsurface * 3 - model.sell_M['C'] + model.buy_M['C'] >= 240)\n",
        "model.sell_S_extra_M = pyo.Constraint(expr=model.totalSsurface * 20 >= model.sell_M['S'] + model.sell_extra_M)\n",
        "model.sell_S_M = pyo.Constraint(expr=model.sell_M['S'] <= 6000)\n",
        "model.nobuy_M = pyo.Constraint(expr=model.buy_M['S'] == 0)\n",
        "\n",
        "model.feed_cattle_W_L = pyo.Constraint(expr=model.totalWsurface * 2.5 * model.factor_L - model.sell_L['W'] + model.buy_L['W'] >= 200)\n",
        "model.feed_cattle_C_L = pyo.Constraint(expr=model.totalCsurface * 3 * model.factor_L - model.sell_L['C'] + model.buy_L['C'] >= 240)\n",
        "model.sell_S_extra_L = pyo.Constraint(expr=model.totalSsurface * 20 * model.factor_L >= model.sell_L['S'] + model.sell_extra_L)\n",
        "model.sell_S_L = pyo.Constraint(expr=model.sell_L['S'] <= 6000)\n",
        "model.nobuy_L = pyo.Constraint(expr=model.buy_L['S'] == 0)\n",
        "\n",
        "def first_stage_profit(model):\n",
        "    return -model.totalWsurface * 150 - model.totalCsurface * 230 - model.totalSsurface * 260\n",
        "\n",
        "model.first_stage_profit = pyo.Expression(rule=first_stage_profit)\n",
        "\n",
        "def second_stage_profit(model):\n",
        "    total_H = -model.buy_H['W'] * 238 * model.pricefactor_H - model.buy_H['C'] * 210 * model.pricefactor_H + 36 * model.sell_H['S'] + 10 * model.sell_extra_H + model.sell_H['W'] * 170 * model.pricefactor_H + model.sell_H['C'] * 150 * model.pricefactor_H\n",
        "    total_M = -model.buy_M['W'] * 238 - model.buy_M['C'] * 210 + 36 * model.sell_M['S'] + 10 * model.sell_extra_M + model.sell_M['W'] * 170 + model.sell_M['C'] * 150\n",
        "    total_L = -model.buy_L['W'] * 238 * model.pricefactor_L - model.buy_L['C'] * 210 * model.pricefactor_L + 36 * model.sell_L['S'] + 10 * model.sell_extra_L + model.sell_L['W'] * 170 * model.pricefactor_L + model.sell_L['C'] * 150 * model.pricefactor_L\n",
        "    return (total_H + total_M + total_L)/3.0\n",
        "\n",
        "model.second_stage_profit = pyo.Expression(rule=second_stage_profit)\n",
        "\n",
        "def total_profit(model):\n",
        "    return model.first_stage_profit + model.second_stage_profit\n",
        "\n",
        "model.total_expected_profit = pyo.Objective(rule=total_profit, sense=pyo.maximize)\n",
        "\n",
        "result = cbc_solver.solve(model)\n",
        "display(Markdown(f\"**Solver status:** *{result.solver.status}, {result.solver.termination_condition}*\"))\n",
        "display(Markdown(f\"**Solution:**\"))\n",
        "display(Markdown(f\"(wheat field allocation) $[{model.plant_W['1'].value:.0f}, {model.plant_W['2'].value:.0f}, {model.plant_W['3'].value:.0f}, {model.plant_W['4'].value:.0f}]$\"))\n",
        "display(Markdown(f\"(corn field allocation) $[{model.plant_C['1'].value:.0f}, {model.plant_C['2'].value:.0f}, {model.plant_C['3'].value:.0f}, {model.plant_C['4'].value:.0f}]$\"))\n",
        "display(Markdown(f\"(beet field allocation) $[{model.plant_S['1'].value:.0f}, {model.plant_S['2'].value:.0f}, {model.plant_S['3'].value:.0f}, {model.plant_S['4'].value:.0f}]$\"))\n",
        "display(Markdown(f\"(land field allocation) $x_1 = {model.totalWsurface.expr():.1f}$, $x_2 = {model.totalCsurface.expr():.1f}$, $x_3 = {model.totalSsurface.expr():.1f}$\"))\n",
        "display(Markdown(f\"(recourse sell action high yield) $w_1 = {model.sell_H['W'].value:.1f}$, $w_2 = {model.sell_H['C'].value:.1f}$, $w_3 = {model.sell_H['S'].value:.1f}$, $w_4 = {model.sell_extra_H.value:.1f}$\"))\n",
        "display(Markdown(f\"(recourse purchase action high yield) $y_1 = {model.buy_H['W'].value:.1f}$, $y_2 = {model.buy_H['C'].value:.1f}$, $y_3 = {model.buy_H['S'].value:.1f}$\"))\n",
        "display(Markdown(f\"(recourse sell action medium yield) $w_1 = {model.sell_M['W'].value:.1f}$, $w_2 = {model.sell_M['C'].value:.1f}$, $w_3 = {model.sell_M['S'].value:.1f}$, $w_4 = {model.sell_extra_M.value:.1f}$\"))\n",
        "display(Markdown(f\"(recourse purchase action medium yield) $y_1 = {model.buy_M['W'].value:.1f}$, $y_2 = {model.buy_M['C'].value:.1f}$, $y_3 = {model.buy_M['S'].value:.1f}$\"))\n",
        "display(Markdown(f\"(recourse sell action low yield) $w_1 = {model.sell_L['W'].value:.1f}$, $w_2 = {model.sell_L['C'].value:.1f}$, $w_3 = {model.sell_L['S'].value:.1f}$, $w_4 = {model.sell_extra_L.value:.1f}$\"))\n",
        "display(Markdown(f\"(recourse purchase action low yield) $y_1 = {model.buy_L['W'].value:.1f}$, $y_2 = {model.buy_L['C'].value:.1f}$, $y_3 = {model.buy_L['S'].value:.1f}$\"))\n",
        "display(Markdown(f\"**Maximizes objective value to:** ${model.total_expected_profit():.0f}$€\"))"
      ],
      "execution_count": null,
      "outputs": [
        {
          "data": {
            "text/markdown": [
              "**Solver status:** *ok, optimal*"
            ],
            "text/plain": [
              "<IPython.core.display.Markdown object>"
            ]
          },
          "metadata": {
            "tags": []
          },
          "output_type": "display_data"
        },
        {
          "data": {
            "text/markdown": [
              "**Solution:**"
            ],
            "text/plain": [
              "<IPython.core.display.Markdown object>"
            ]
          },
          "metadata": {
            "tags": []
          },
          "output_type": "display_data"
        },
        {
          "data": {
            "text/markdown": [
              "(wheat field allocation) $[0, 1, 0, 0]$"
            ],
            "text/plain": [
              "<IPython.core.display.Markdown object>"
            ]
          },
          "metadata": {
            "tags": []
          },
          "output_type": "display_data"
        },
        {
          "data": {
            "text/markdown": [
              "(corn field allocation) $[0, 0, 1, 0]$"
            ],
            "text/plain": [
              "<IPython.core.display.Markdown object>"
            ]
          },
          "metadata": {
            "tags": []
          },
          "output_type": "display_data"
        },
        {
          "data": {
            "text/markdown": [
              "(beet field allocation) $[1, 0, 0, 1]$"
            ],
            "text/plain": [
              "<IPython.core.display.Markdown object>"
            ]
          },
          "metadata": {
            "tags": []
          },
          "output_type": "display_data"
        },
        {
          "data": {
            "text/markdown": [
              "(land field allocation) $x_1 = 145.0$, $x_2 = 105.0$, $x_3 = 250.0$"
            ],
            "text/plain": [
              "<IPython.core.display.Markdown object>"
            ]
          },
          "metadata": {
            "tags": []
          },
          "output_type": "display_data"
        },
        {
          "data": {
            "text/markdown": [
              "(recourse sell action high yield) $w_1 = 235.0$, $w_2 = 138.0$, $w_3 = 6000.0$, $w_4 = 0.0$"
            ],
            "text/plain": [
              "<IPython.core.display.Markdown object>"
            ]
          },
          "metadata": {
            "tags": []
          },
          "output_type": "display_data"
        },
        {
          "data": {
            "text/markdown": [
              "(recourse purchase action high yield) $y_1 = 0.0$, $y_2 = 0.0$, $y_3 = 0.0$"
            ],
            "text/plain": [
              "<IPython.core.display.Markdown object>"
            ]
          },
          "metadata": {
            "tags": []
          },
          "output_type": "display_data"
        },
        {
          "data": {
            "text/markdown": [
              "(recourse sell action medium yield) $w_1 = 162.5$, $w_2 = 75.0$, $w_3 = 5000.0$, $w_4 = 0.0$"
            ],
            "text/plain": [
              "<IPython.core.display.Markdown object>"
            ]
          },
          "metadata": {
            "tags": []
          },
          "output_type": "display_data"
        },
        {
          "data": {
            "text/markdown": [
              "(recourse purchase action medium yield) $y_1 = 0.0$, $y_2 = 0.0$, $y_3 = 0.0$"
            ],
            "text/plain": [
              "<IPython.core.display.Markdown object>"
            ]
          },
          "metadata": {
            "tags": []
          },
          "output_type": "display_data"
        },
        {
          "data": {
            "text/markdown": [
              "(recourse sell action low yield) $w_1 = 90.0$, $w_2 = 12.0$, $w_3 = 4000.0$, $w_4 = 0.0$"
            ],
            "text/plain": [
              "<IPython.core.display.Markdown object>"
            ]
          },
          "metadata": {
            "tags": []
          },
          "output_type": "display_data"
        },
        {
          "data": {
            "text/markdown": [
              "(recourse purchase action low yield) $y_1 = 0.0$, $y_2 = 0.0$, $y_3 = 0.0$"
            ],
            "text/plain": [
              "<IPython.core.display.Markdown object>"
            ]
          },
          "metadata": {
            "tags": []
          },
          "output_type": "display_data"
        },
        {
          "data": {
            "text/markdown": [
              "**Maximizes objective value to:** $107975$€"
            ],
            "text/plain": [
              "<IPython.core.display.Markdown object>"
            ]
          },
          "metadata": {
            "tags": []
          },
          "output_type": "display_data"
        }
      ]
    },
    {
      "cell_type": "markdown",
      "metadata": {
        "id": "yBuwcFpXGU8T"
      },
      "source": [
        "Consider again the setting described in (a). The farmer would normally act as a risk-averse person and simply plan for the worst case. More precisely, the farmer maximizes her profit under the worst scenario, that is the bad weather one.\n",
        "\n",
        "(d) Solve the deterministic LP for the bad weather scenario to find the corresponding worst-case optimal land allocation. Using this land allocation, compute the loss in expected profit if that solution is taken."
      ]
    },
    {
      "cell_type": "code",
      "metadata": {
        "colab": {
          "base_uri": "https://localhost:8080/",
          "height": 179
        },
        "id": "pZ6WawJhXA3j",
        "outputId": "2eddb1ce-a3cd-452b-a0e8-9b58c0001abf"
      },
      "source": [
        "# Bad weather only\n",
        "model = pyo.ConcreteModel()\n",
        "\n",
        "model.crops = pyo.Set(initialize=['W', 'C', 'S'])\n",
        "model.totalacres = 500\n",
        "model.factor_H = 1.2 # to obtain the yields in the good weather (high yield) case by multiplying the average ones\n",
        "model.factor_L = 0.8 # to obtain the yields in the bad weather (low yield) case by multiplying the average ones\n",
        "\n",
        "# first stage variables\n",
        "model.plant = pyo.Var(model.crops, within=pyo.NonNegativeReals) \n",
        "\n",
        "# first stage constraint\n",
        "model.total_acres = pyo.Constraint(expr=pyo.summation(model.plant) <= model.totalacres)\n",
        "\n",
        "# second stage variables\n",
        "model.sell_L = pyo.Var(model.crops, within=pyo.NonNegativeReals)\n",
        "model.buy_L = pyo.Var(model.crops, within=pyo.NonNegativeReals)\n",
        "model.sell_extra_L = pyo.Var(within=pyo.NonNegativeReals)\n",
        "\n",
        "# second stage constraints\n",
        "model.feed_cattle_W_L = pyo.Constraint(expr=model.plant['W'] * 2.5 * model.factor_L - model.sell_L['W'] + model.buy_L['W'] >= 200)\n",
        "model.feed_cattle_C_L = pyo.Constraint(expr=model.plant['C'] * 3 * model.factor_L - model.sell_L['C'] + model.buy_L['C'] >= 240)\n",
        "model.sell_S_extra_L = pyo.Constraint(expr=model.plant['S'] * 20 * model.factor_L >= model.sell_L['S'] + model.sell_extra_L)\n",
        "model.sell_S_L = pyo.Constraint(expr=model.sell_L['S'] <= 6000)\n",
        "model.nobuy_L = pyo.Constraint(expr=model.buy_L['S'] == 0)\n",
        "\n",
        "def first_stage_profit(model):\n",
        "    return -model.plant[\"W\"] * 150 - model.plant[\"C\"] * 230 - model.plant[\"S\"] * 260\n",
        "\n",
        "model.first_stage_profit = pyo.Expression(rule=first_stage_profit)\n",
        "\n",
        "def second_stage_profit(model):\n",
        "    return -model.buy_L['W'] * 238 - model.buy_L['C'] * 210 + 36 * model.sell_L['S'] + 10 * model.sell_extra_L + model.sell_L['W'] * 170 + model.sell_L['C'] * 150\n",
        "\n",
        "model.second_stage_profit = pyo.Expression(rule=second_stage_profit)\n",
        "\n",
        "def total_profit(model):\n",
        "    return model.first_stage_profit + model.second_stage_profit\n",
        "\n",
        "model.total_expected_profit = pyo.Objective(rule=total_profit, sense=pyo.maximize)\n",
        "\n",
        "result = cbc_solver.solve(model)\n",
        "display(Markdown(f\"**Solver status:** *{result.solver.status}, {result.solver.termination_condition}*\"))\n",
        "display(Markdown(f\"**Solution:**\"))\n",
        "display(Markdown(f\"(land allocation) $x_1 = {model.plant['W'].value:.1f}$, $x_2 = {model.plant['C'].value:.1f}$, $x_3 = {model.plant['S'].value:.1f}$\"))\n",
        "display(Markdown(f\"(recourse sell action low yield) $w_1 = {model.sell_L['W'].value:.1f}$, $w_2 = {model.sell_L['C'].value:.1f}$, $w_3 = {model.sell_L['S'].value:.1f}$, $w_4 = {model.sell_extra_L.value:.1f}$\"))\n",
        "display(Markdown(f\"(recourse purchase action low yield) $y_1 = {model.buy_L['W'].value:.1f}$, $y_2 = {model.buy_L['C'].value:.1f}$, $y_3 = {model.buy_L['S'].value:.1f}$\"))\n",
        "display(Markdown(f\"**Maximizes objective value to:** ${model.total_expected_profit():.0f}$€\"))"
      ],
      "execution_count": null,
      "outputs": [
        {
          "data": {
            "text/markdown": [
              "**Solver status:** *ok, optimal*"
            ],
            "text/plain": [
              "<IPython.core.display.Markdown object>"
            ]
          },
          "metadata": {
            "tags": []
          },
          "output_type": "display_data"
        },
        {
          "data": {
            "text/markdown": [
              "**Solution:**"
            ],
            "text/plain": [
              "<IPython.core.display.Markdown object>"
            ]
          },
          "metadata": {
            "tags": []
          },
          "output_type": "display_data"
        },
        {
          "data": {
            "text/markdown": [
              "(land allocation) $x_1 = 100.0$, $x_2 = 25.0$, $x_3 = 375.0$"
            ],
            "text/plain": [
              "<IPython.core.display.Markdown object>"
            ]
          },
          "metadata": {
            "tags": []
          },
          "output_type": "display_data"
        },
        {
          "data": {
            "text/markdown": [
              "(recourse sell action low yield) $w_1 = 0.0$, $w_2 = 0.0$, $w_3 = 6000.0$, $w_4 = 0.0$"
            ],
            "text/plain": [
              "<IPython.core.display.Markdown object>"
            ]
          },
          "metadata": {
            "tags": []
          },
          "output_type": "display_data"
        },
        {
          "data": {
            "text/markdown": [
              "(recourse purchase action low yield) $y_1 = 0.0$, $y_2 = 180.0$, $y_3 = 0.0$"
            ],
            "text/plain": [
              "<IPython.core.display.Markdown object>"
            ]
          },
          "metadata": {
            "tags": []
          },
          "output_type": "display_data"
        },
        {
          "data": {
            "text/markdown": [
              "**Maximizes objective value to:** $59950$€"
            ],
            "text/plain": [
              "<IPython.core.display.Markdown object>"
            ]
          },
          "metadata": {
            "tags": []
          },
          "output_type": "display_data"
        }
      ]
    },
    {
      "cell_type": "code",
      "metadata": {
        "colab": {
          "base_uri": "https://localhost:8080/",
          "height": 290
        },
        "id": "Lk3o5hsUkszX",
        "outputId": "f5527071-a248-4313-c0ab-2e7bfd767fb5"
      },
      "source": [
        "# Expected profit when optimizing only against bad weather \n",
        "model = pyo.ConcreteModel()\n",
        "\n",
        "model.crops = pyo.Set(initialize=['W', 'C', 'S'])\n",
        "model.factor_H = 1.2 # to obtain the yields in the good weather (high yield) case by multiplying the average ones\n",
        "model.factor_L = 0.8 # to obtain the yields in the bad weather (low yield) case by multiplying the average ones\n",
        "\n",
        "# first stage variables are now parameters, since we set them equal to the optimal allocation for bad weather calculated in the previous cell\n",
        "model.plant = pyo.Param(model.crops, within=pyo.NonNegativeReals, initialize={'W': 100, 'C': 25, 'S': 375}) \n",
        "\n",
        "model.scenarios = pyo.Set(initialize=['H', 'M', 'L'])  # high, medium, and low yield scenarios\n",
        "\n",
        "# second stage variables (labelled as H,M,L depending on the scenario)\n",
        "# the sell_extra variables refer to the amount of beets to be sold beyond the 6000 threshold, if any\n",
        "model.sell_H = pyo.Var(model.crops, within=pyo.NonNegativeReals)\n",
        "model.buy_H = pyo.Var(model.crops, within=pyo.NonNegativeReals)\n",
        "model.sell_extra_H = pyo.Var(within=pyo.NonNegativeReals) \n",
        "\n",
        "model.sell_M = pyo.Var(model.crops, within=pyo.NonNegativeReals)\n",
        "model.buy_M = pyo.Var(model.crops, within=pyo.NonNegativeReals)\n",
        "model.sell_extra_M = pyo.Var(within=pyo.NonNegativeReals)\n",
        "\n",
        "model.sell_L = pyo.Var(model.crops, within=pyo.NonNegativeReals)\n",
        "model.buy_L = pyo.Var(model.crops, within=pyo.NonNegativeReals)\n",
        "model.sell_extra_L = pyo.Var(within=pyo.NonNegativeReals)\n",
        "\n",
        "# second stage constraints\n",
        "model.feed_cattle_W_H = pyo.Constraint(expr=model.plant['W'] * 2.5 * model.factor_H - model.sell_H['W'] + model.buy_H['W'] >= 200)\n",
        "model.feed_cattle_C_H = pyo.Constraint(expr=model.plant['C'] * 3 * model.factor_H - model.sell_H['C'] + model.buy_H['C'] >= 240)\n",
        "model.sell_S_extra_H = pyo.Constraint(expr=model.plant['S'] * 20 * model.factor_H >= model.sell_H['S'] + model.sell_extra_H)\n",
        "model.sell_S_H = pyo.Constraint(expr=model.sell_H['S'] <= 6000)\n",
        "model.nobuy_H = pyo.Constraint(expr=model.buy_H['S'] == 0)\n",
        "\n",
        "model.feed_cattle_W_M = pyo.Constraint(expr=model.plant['W'] * 2.5 - model.sell_M['W'] + model.buy_M['W'] >= 200)\n",
        "model.feed_cattle_C_M = pyo.Constraint(expr=model.plant['C'] * 3 - model.sell_M['C'] + model.buy_M['C'] >= 240)\n",
        "model.sell_S_extra_M = pyo.Constraint(expr=model.plant['S'] * 20 >= model.sell_M['S'] + model.sell_extra_M)\n",
        "model.sell_S_M = pyo.Constraint(expr=model.sell_M['S'] <= 6000)\n",
        "model.nobuy_M = pyo.Constraint(expr=model.buy_M['S'] == 0)\n",
        "\n",
        "model.feed_cattle_W_L = pyo.Constraint(expr=model.plant['W'] * 2.5 * model.factor_L - model.sell_L['W'] + model.buy_L['W'] >= 200)\n",
        "model.feed_cattle_C_L = pyo.Constraint(expr=model.plant['C'] * 3 * model.factor_L - model.sell_L['C'] + model.buy_L['C'] >= 240)\n",
        "model.sell_S_extra_L = pyo.Constraint(expr=model.plant['S'] * 20 * model.factor_L >= model.sell_L['S'] + model.sell_extra_L)\n",
        "model.sell_S_L = pyo.Constraint(expr=model.sell_L['S'] <= 6000)\n",
        "model.nobuy_L = pyo.Constraint(expr=model.buy_L['S'] == 0)\n",
        "\n",
        "def first_stage_profit(model):\n",
        "    return -model.plant[\"W\"] * 150 - model.plant[\"C\"] * 230 - model.plant[\"S\"] * 260\n",
        "\n",
        "model.first_stage_profit = pyo.Expression(rule=first_stage_profit)\n",
        "\n",
        "def second_stage_profit(model):\n",
        "    total_H = -model.buy_H['W'] * 238 - model.buy_H['C'] * 210 + 36 * model.sell_H['S'] + 10 * model.sell_extra_H + model.sell_H['W'] * 170 + model.sell_H['C'] * 150\n",
        "    total_M = -model.buy_M['W'] * 238 - model.buy_M['C'] * 210 + 36 * model.sell_M['S'] + 10 * model.sell_extra_M + model.sell_M['W'] * 170 + model.sell_M['C'] * 150\n",
        "    total_L = -model.buy_L['W'] * 238 - model.buy_L['C'] * 210 + 36 * model.sell_L['S'] + 10 * model.sell_extra_L + model.sell_L['W'] * 170 + model.sell_L['C'] * 150\n",
        "    return (total_H + total_M + total_L)/3.0\n",
        "\n",
        "model.second_stage_profit = pyo.Expression(rule=second_stage_profit)\n",
        "\n",
        "def total_profit(model):\n",
        "    return model.first_stage_profit + model.second_stage_profit\n",
        "\n",
        "model.total_expected_profit = pyo.Objective(rule=total_profit, sense=pyo.maximize)\n",
        "\n",
        "result = cbc_solver.solve(model)\n",
        "display(Markdown(f\"**Solver status:** *{result.solver.status}, {result.solver.termination_condition}*\"))\n",
        "display(Markdown(f\"**Solution:**\"))\n",
        "display(Markdown(f\"(land allocation) $x_1 = {model.plant['W']:.1f}$, $x_2 = {model.plant['C']:.1f}$, $x_3 = {model.plant['S']:.1f}$\"))\n",
        "display(Markdown(f\"(recourse sell action high yield) $w_1 = {model.sell_H['W'].value:.1f}$, $w_2 = {model.sell_H['C'].value:.1f}$, $w_3 = {model.sell_H['S'].value:.1f}$, $w_4 = {model.sell_extra_H.value:.1f}$\"))\n",
        "display(Markdown(f\"(recourse purchase action high yield) $y_1 = {model.buy_H['W'].value:.1f}$, $y_2 = {model.buy_H['C'].value:.1f}$, $y_3 = {model.buy_H['S'].value:.1f}$\"))\n",
        "display(Markdown(f\"(recourse sell action medium yield) $w_1 = {model.sell_M['W'].value:.1f}$, $w_2 = {model.sell_M['C'].value:.1f}$, $w_3 = {model.sell_M['S'].value:.1f}$, $w_4 = {model.sell_extra_M.value:.1f}$\"))\n",
        "display(Markdown(f\"(recourse purchase action medium yield) $y_1 = {model.buy_M['W'].value:.1f}$, $y_2 = {model.buy_M['C'].value:.1f}$, $y_3 = {model.buy_M['S'].value:.1f}$\"))\n",
        "display(Markdown(f\"(recourse sell action low yield) $w_1 = {model.sell_L['W'].value:.1f}$, $w_2 = {model.sell_L['C'].value:.1f}$, $w_3 = {model.sell_L['S'].value:.1f}$, $w_4 = {model.sell_extra_L.value:.1f}$\"))\n",
        "display(Markdown(f\"(recourse purchase action low yield) $y_1 = {model.buy_L['W'].value:.1f}$, $y_2 = {model.buy_L['C'].value:.1f}$, $y_3 = {model.buy_L['S'].value:.1f}$\"))\n",
        "display(Markdown(f\"**Maximizes objective value to:** ${model.total_expected_profit():.0f}$€\"))"
      ],
      "execution_count": null,
      "outputs": [
        {
          "data": {
            "text/markdown": [
              "**Solver status:** *ok, optimal*"
            ],
            "text/plain": [
              "<IPython.core.display.Markdown object>"
            ]
          },
          "metadata": {
            "tags": []
          },
          "output_type": "display_data"
        },
        {
          "data": {
            "text/markdown": [
              "**Solution:**"
            ],
            "text/plain": [
              "<IPython.core.display.Markdown object>"
            ]
          },
          "metadata": {
            "tags": []
          },
          "output_type": "display_data"
        },
        {
          "data": {
            "text/markdown": [
              "(land allocation) $x_1 = 100.0$, $x_2 = 25.0$, $x_3 = 375.0$"
            ],
            "text/plain": [
              "<IPython.core.display.Markdown object>"
            ]
          },
          "metadata": {
            "tags": []
          },
          "output_type": "display_data"
        },
        {
          "data": {
            "text/markdown": [
              "(recourse sell action high yield) $w_1 = 100.0$, $w_2 = 0.0$, $w_3 = 6000.0$, $w_4 = 3000.0$"
            ],
            "text/plain": [
              "<IPython.core.display.Markdown object>"
            ]
          },
          "metadata": {
            "tags": []
          },
          "output_type": "display_data"
        },
        {
          "data": {
            "text/markdown": [
              "(recourse purchase action high yield) $y_1 = 0.0$, $y_2 = 150.0$, $y_3 = 0.0$"
            ],
            "text/plain": [
              "<IPython.core.display.Markdown object>"
            ]
          },
          "metadata": {
            "tags": []
          },
          "output_type": "display_data"
        },
        {
          "data": {
            "text/markdown": [
              "(recourse sell action medium yield) $w_1 = 50.0$, $w_2 = 0.0$, $w_3 = 6000.0$, $w_4 = 1500.0$"
            ],
            "text/plain": [
              "<IPython.core.display.Markdown object>"
            ]
          },
          "metadata": {
            "tags": []
          },
          "output_type": "display_data"
        },
        {
          "data": {
            "text/markdown": [
              "(recourse purchase action medium yield) $y_1 = 0.0$, $y_2 = 165.0$, $y_3 = 0.0$"
            ],
            "text/plain": [
              "<IPython.core.display.Markdown object>"
            ]
          },
          "metadata": {
            "tags": []
          },
          "output_type": "display_data"
        },
        {
          "data": {
            "text/markdown": [
              "(recourse sell action low yield) $w_1 = 0.0$, $w_2 = 0.0$, $w_3 = 6000.0$, $w_4 = 0.0$"
            ],
            "text/plain": [
              "<IPython.core.display.Markdown object>"
            ]
          },
          "metadata": {
            "tags": []
          },
          "output_type": "display_data"
        },
        {
          "data": {
            "text/markdown": [
              "(recourse purchase action low yield) $y_1 = 0.0$, $y_2 = 180.0$, $y_3 = 0.0$"
            ],
            "text/plain": [
              "<IPython.core.display.Markdown object>"
            ]
          },
          "metadata": {
            "tags": []
          },
          "output_type": "display_data"
        },
        {
          "data": {
            "text/markdown": [
              "**Maximizes objective value to:** $86600$€"
            ],
            "text/plain": [
              "<IPython.core.display.Markdown object>"
            ]
          },
          "metadata": {
            "tags": []
          },
          "output_type": "display_data"
        }
      ]
    },
    {
      "cell_type": "markdown",
      "metadata": {
        "id": "8bXKwEqckS-w"
      },
      "source": [
        "(e) A different approach situation be to require a reasonable minimum profit under the worst case. Find the solution that maximizes the expected profit under the constraint that in the worst case the profit does not fall below $58.000$ euro. What is now the loss in expected profit?\n",
        "\n",
        "Repeat the same optimization also with other values of minimal profit: $56.000$, $54.000$, $52.000$, $50.000$, and $48.000$ euro. Graph the curve of expected profit loss and compare the associated optimal decisions."
      ]
    },
    {
      "cell_type": "code",
      "metadata": {
        "colab": {
          "base_uri": "https://localhost:8080/",
          "height": 179
        },
        "id": "LnesiRWpl3Jb",
        "outputId": "fe8d7ed6-4104-403c-acfa-33994d50d636"
      },
      "source": [
        "expectedprofit_noconstraints = 108390\n",
        "\n",
        "def FarmersWithMinimumProfit(minprofit):\n",
        "    model = pyo.ConcreteModel()\n",
        "\n",
        "    model.crops = pyo.Set(initialize=['W', 'C', 'S'])\n",
        "    model.totalacres = 500\n",
        "    model.factor_H = 1.2 # to obtain the yields in the good weather (high yield) case by multiplying the average ones\n",
        "    model.factor_L = 0.8 # to obtain the yields in the bad weather (low yield) case by multiplying the average ones\n",
        "    model.pricefactor_H = 1.0 # to obtain the prices in the good weather (high yield) case by multiplying the average ones\n",
        "    model.pricefactor_L = 1.0 # to obtain the prices in the bad weather (low yield) case by multiplying the average ones\n",
        "\n",
        "    # first stage variables\n",
        "    model.plant = pyo.Var(model.crops, within=pyo.NonNegativeReals) \n",
        "\n",
        "    # first stage constraint\n",
        "    model.total_acres = pyo.Constraint(expr=pyo.summation(model.plant) <= model.totalacres)\n",
        "\n",
        "    model.scenarios = pyo.Set(initialize=['H', 'M', 'L'])  # high, medium, and low yield scenarios\n",
        "\n",
        "    # second stage variables (labelled as H,M,L depending on the scenario)\n",
        "    # the sell_extra variables refer to the amount of beets to be sold beyond the 6000 threshold, if any\n",
        "    model.sell_H = pyo.Var(model.crops, within=pyo.NonNegativeReals)\n",
        "    model.buy_H = pyo.Var(model.crops, within=pyo.NonNegativeReals)\n",
        "    model.sell_extra_H = pyo.Var(within=pyo.NonNegativeReals) \n",
        "\n",
        "    model.sell_M = pyo.Var(model.crops, within=pyo.NonNegativeReals)\n",
        "    model.buy_M = pyo.Var(model.crops, within=pyo.NonNegativeReals)\n",
        "    model.sell_extra_M = pyo.Var(within=pyo.NonNegativeReals)\n",
        "\n",
        "    model.sell_L = pyo.Var(model.crops, within=pyo.NonNegativeReals)\n",
        "    model.buy_L = pyo.Var(model.crops, within=pyo.NonNegativeReals)\n",
        "    model.sell_extra_L = pyo.Var(within=pyo.NonNegativeReals)\n",
        "\n",
        "    # second stage constraints\n",
        "    model.feed_cattle_W_H = pyo.Constraint(expr=model.plant['W'] * 2.5 * model.factor_H - model.sell_H['W'] + model.buy_H['W'] >= 200)\n",
        "    model.feed_cattle_C_H = pyo.Constraint(expr=model.plant['C'] * 3 * model.factor_H - model.sell_H['C'] + model.buy_H['C'] >= 240)\n",
        "    model.sell_S_extra_H = pyo.Constraint(expr=model.plant['S'] * 20 * model.factor_H >= model.sell_H['S'] + model.sell_extra_H)\n",
        "    model.sell_S_H = pyo.Constraint(expr=model.sell_H['S'] <= 6000)\n",
        "    model.nobuy_H = pyo.Constraint(expr=model.buy_H['S'] == 0)\n",
        "\n",
        "    model.feed_cattle_W_M = pyo.Constraint(expr=model.plant['W'] * 2.5 - model.sell_M['W'] + model.buy_M['W'] >= 200)\n",
        "    model.feed_cattle_C_M = pyo.Constraint(expr=model.plant['C'] * 3 - model.sell_M['C'] + model.buy_M['C'] >= 240)\n",
        "    model.sell_S_extra_M = pyo.Constraint(expr=model.plant['S'] * 20 >= model.sell_M['S'] + model.sell_extra_M)\n",
        "    model.sell_S_M = pyo.Constraint(expr=model.sell_M['S'] <= 6000)\n",
        "    model.nobuy_M = pyo.Constraint(expr=model.buy_M['S'] == 0)\n",
        "\n",
        "    model.feed_cattle_W_L = pyo.Constraint(expr=model.plant['W'] * 2.5 * model.factor_L - model.sell_L['W'] + model.buy_L['W'] >= 200)\n",
        "    model.feed_cattle_C_L = pyo.Constraint(expr=model.plant['C'] * 3 * model.factor_L - model.sell_L['C'] + model.buy_L['C'] >= 240)\n",
        "    model.sell_S_extra_L = pyo.Constraint(expr=model.plant['S'] * 20 * model.factor_L >= model.sell_L['S'] + model.sell_extra_L)\n",
        "    model.sell_S_L = pyo.Constraint(expr=model.sell_L['S'] <= 6000)\n",
        "    model.nobuy_L = pyo.Constraint(expr=model.buy_L['S'] == 0)\n",
        "\n",
        "    def first_stage_profit(model):\n",
        "        return -model.plant[\"W\"] * 150 - model.plant[\"C\"] * 230 - model.plant[\"S\"] * 260\n",
        "\n",
        "    model.first_stage_profit = pyo.Expression(rule=first_stage_profit)\n",
        "\n",
        "    def second_stage_profit(model):\n",
        "        total_H = -model.buy_H['W'] * 238 * model.pricefactor_H - model.buy_H['C'] * 210 * model.pricefactor_H + 36 * model.sell_H['S'] + 10 * model.sell_extra_H + model.sell_H['W'] * 170 * model.pricefactor_H + model.sell_H['C'] * 150 * model.pricefactor_H\n",
        "        total_M = -model.buy_M['W'] * 238 - model.buy_M['C'] * 210 + 36 * model.sell_M['S'] + 10 * model.sell_extra_M + model.sell_M['W'] * 170 + model.sell_M['C'] * 150\n",
        "        total_L = -model.buy_L['W'] * 238 * model.pricefactor_L - model.buy_L['C'] * 210 * model.pricefactor_L + 36 * model.sell_L['S'] + 10 * model.sell_extra_L + model.sell_L['W'] * 170 * model.pricefactor_L + model.sell_L['C'] * 150 * model.pricefactor_L\n",
        "        return (total_H + total_M + total_L)/3.0\n",
        "\n",
        "    model.second_stage_profit = pyo.Expression(rule=second_stage_profit)\n",
        "\n",
        "    def total_profit(model):\n",
        "        return model.first_stage_profit + model.second_stage_profit\n",
        "\n",
        "    model.total_expected_profit = pyo.Objective(rule=total_profit, sense=pyo.maximize)\n",
        "\n",
        "    model.totalprofit_H = pyo.Expression(expr = -model.plant[\"W\"] * 150 - model.plant[\"C\"] * 230 - model.plant[\"S\"] * 260 -model.buy_H['W'] * 238 * model.pricefactor_H - model.buy_H['C'] * 210 * model.pricefactor_H + 36 * model.sell_H['S'] + 10 * model.sell_extra_H + model.sell_H['W'] * 170 * model.pricefactor_H + model.sell_H['C'] * 150 * model.pricefactor_H)\n",
        "    model.totalprofit_M = pyo.Expression(expr = -model.plant[\"W\"] * 150 - model.plant[\"C\"] * 230 - model.plant[\"S\"] * 260 -model.buy_M['W'] * 238 - model.buy_M['C'] * 210 + 36 * model.sell_M['S'] + 10 * model.sell_extra_M + model.sell_M['W'] * 170 + model.sell_M['C'] * 150)\n",
        "    model.totalprofit_L = pyo.Expression(expr = -model.plant[\"W\"] * 150 - model.plant[\"C\"] * 230 - model.plant[\"S\"] * 260 -model.buy_L['W'] * 238 * model.pricefactor_L - model.buy_L['C'] * 210 * model.pricefactor_L + 36 * model.sell_L['S'] + 10 * model.sell_extra_L + model.sell_L['W'] * 170 * model.pricefactor_L + model.sell_L['C'] * 150 * model.pricefactor_L)\n",
        "    model.minimum_profit = pyo.Constraint(expr=model.totalprofit_L >= minprofit)\n",
        "    result = cbc_solver.solve(model)\n",
        "\n",
        "    display(Markdown(f\"**Minimum profit threshold** of ${minprofit:.0f}$€ leads to an **optimal expected profit** of ${model.total_expected_profit():.0f}$€, with a **loss** of ${expectedprofit_noconstraints - model.total_expected_profit():.0f}$€\"))\n",
        "    return model.total_expected_profit()\n",
        "\n",
        "profitthresholds = [48000,50000,52000,54000,56000,58000]\n",
        "for minprofit in profitthresholds:\n",
        "    FarmersWithMinimumProfit(minprofit)"
      ],
      "execution_count": null,
      "outputs": [
        {
          "data": {
            "text/markdown": [
              "**Minimum profit threshold** of $48000$€ leads to an **optimal expected profit** of $108390$€, with a **loss** of $0$€"
            ],
            "text/plain": [
              "<IPython.core.display.Markdown object>"
            ]
          },
          "metadata": {
            "tags": []
          },
          "output_type": "display_data"
        },
        {
          "data": {
            "text/markdown": [
              "**Minimum profit threshold** of $50000$€ leads to an **optimal expected profit** of $108292$€, with a **loss** of $98$€"
            ],
            "text/plain": [
              "<IPython.core.display.Markdown object>"
            ]
          },
          "metadata": {
            "tags": []
          },
          "output_type": "display_data"
        },
        {
          "data": {
            "text/markdown": [
              "**Minimum profit threshold** of $52000$€ leads to an **optimal expected profit** of $107976$€, with a **loss** of $414$€"
            ],
            "text/plain": [
              "<IPython.core.display.Markdown object>"
            ]
          },
          "metadata": {
            "tags": []
          },
          "output_type": "display_data"
        },
        {
          "data": {
            "text/markdown": [
              "**Minimum profit threshold** of $54000$€ leads to an **optimal expected profit** of $107611$€, with a **loss** of $779$€"
            ],
            "text/plain": [
              "<IPython.core.display.Markdown object>"
            ]
          },
          "metadata": {
            "tags": []
          },
          "output_type": "display_data"
        },
        {
          "data": {
            "text/markdown": [
              "**Minimum profit threshold** of $56000$€ leads to an **optimal expected profit** of $107246$€, with a **loss** of $1144$€"
            ],
            "text/plain": [
              "<IPython.core.display.Markdown object>"
            ]
          },
          "metadata": {
            "tags": []
          },
          "output_type": "display_data"
        },
        {
          "data": {
            "text/markdown": [
              "**Minimum profit threshold** of $58000$€ leads to an **optimal expected profit** of $101176$€, with a **loss** of $7214$€"
            ],
            "text/plain": [
              "<IPython.core.display.Markdown object>"
            ]
          },
          "metadata": {
            "tags": []
          },
          "output_type": "display_data"
        }
      ]
    },
    {
      "cell_type": "markdown",
      "metadata": {
        "id": "M7WCjvp4FISI"
      },
      "source": [
        "# Exercise 2: News vendor problem \n",
        "\n",
        "Consider the news vendor problem seen at lecture and suppose that. Suppose the unit prices are $c = 10 , s = 25 , r = 5$, and that the newspaper demand $\\xi$ modelled as a continuous random variable.\n",
        "\n",
        "(a) Find the optimal solution of the news vendor problem using the explicit formula that features the inverse CDFs/quantile functions for the following three distributions:\n",
        " - a uniform distribution on the interval $[50,150]$;\n",
        "*Hint: see [Uniform distribution CDF and its inverse](https://en.wikipedia.org/wiki/Continuous_uniform_distribution#Cumulative_distribution_function)*\n",
        " - a Pareto distribution on the interval $[50,+\\infty)$ with $x_m=50$ and exponent $\\alpha=2$. *Hint: the inverse CDF for a Pareto distribution is given by* $H^{-1}(\\varepsilon) = \\frac{x_m}{(1-\\varepsilon)^{1/\\alpha}}$.\n",
        " - a Weibull distribution on the interval $[0,+\\infty)$ with shape parameter $k=2$ and scale parameter $\\lambda=113$, see [Weibull distribution CDF and its inverse](https://en.wikipedia.org/wiki/Weibull_distribution#Cumulative_distribution_function).\n"
      ]
    },
    {
      "cell_type": "code",
      "metadata": {
        "colab": {
          "base_uri": "https://localhost:8080/",
          "height": 101
        },
        "id": "5qLTVb1Y0OqR",
        "outputId": "431f7617-ee25-4ef0-ba6b-7fd34bab8700"
      },
      "source": [
        "# Setting the parameters\n",
        "c = 10\n",
        "s = 25\n",
        "r = 5\n",
        "\n",
        "# Definining the three inverse CDFs/quantile functions for the three distributions\n",
        "def quantileuniform(epsilon, a, b):\n",
        "  return a + epsilon*(b-a)\n",
        "\n",
        "def quantilepareto(epsilon, xm, alpha):\n",
        "  return xm/(1.0-epsilon)**(1.0/alpha)\n",
        "\n",
        "def quantileweibull(epsilon, k, l):\n",
        "  return l*(-np.log(1-epsilon))**(1.0/k)\n",
        "\n",
        "# Calculating the optimal decision for each of the three distributions\n",
        "display(Markdown(f\"**Optimal solution** for uniform distribution: ${quantileuniform((s-c)/(s-r),50,150):.2f}$\"))\n",
        "display(Markdown(f\"**Optimal solution** for Pareto distribution: ${quantilepareto((s-c)/(s-r),50,2):.2f}$\"))\n",
        "display(Markdown(f\"**Optimal solution** for Weibull distribution: ${quantileweibull((s-c)/(s-r),2,113):.2f}$\"))"
      ],
      "execution_count": null,
      "outputs": [
        {
          "data": {
            "text/markdown": [
              "**Optimal solution** for uniform distribution: $125.00$"
            ],
            "text/plain": [
              "<IPython.core.display.Markdown object>"
            ]
          },
          "metadata": {
            "tags": []
          },
          "output_type": "display_data"
        },
        {
          "data": {
            "text/markdown": [
              "**Optimal solution** for Pareto distribution: $100.00$"
            ],
            "text/plain": [
              "<IPython.core.display.Markdown object>"
            ]
          },
          "metadata": {
            "tags": []
          },
          "output_type": "display_data"
        },
        {
          "data": {
            "text/markdown": [
              "**Optimal solution** for Weibull distribution: $133.05$"
            ],
            "text/plain": [
              "<IPython.core.display.Markdown object>"
            ]
          },
          "metadata": {
            "tags": []
          },
          "output_type": "display_data"
        }
      ]
    },
    {
      "cell_type": "markdown",
      "metadata": {
        "id": "DgCFrEGc1Gpc"
      },
      "source": [
        "Note that all the three distribution above have the same expected value, that is $\\mathbb E \\xi = 100$.\n",
        "\n",
        "(b) Find the optimal solution of the deterministic LP model obtained by assuming the demand is fixed $\\xi=\\bar{\\xi}$ and equal to the average demand $\\bar{\\xi} = \\mathbb E \\xi = 100$."
      ]
    },
    {
      "cell_type": "code",
      "metadata": {
        "colab": {
          "base_uri": "https://localhost:8080/",
          "height": 100
        },
        "id": "S0E2_cbI1beQ",
        "outputId": "3d8805fe-608a-4e12-bb41-8cc8872d6c28"
      },
      "source": [
        "# Two-stage stochastic LP\n",
        "\n",
        "c = 10\n",
        "s = 25\n",
        "r = 5\n",
        "\n",
        "model = pyo.ConcreteModel()\n",
        "model.xi = 100\n",
        "\n",
        "# first stage variable\n",
        "model.x = pyo.Var(within=pyo.NonNegativeReals) #bought\n",
        "\n",
        "def first_stage_profit(model):\n",
        "    return -c * model.x\n",
        "\n",
        "model.first_stage_profit = pyo.Expression(rule=first_stage_profit)\n",
        "\n",
        "# second stage variables\n",
        "model.y = pyo.Var(within=pyo.NonNegativeReals) #sold\n",
        "model.z = pyo.Var(within=pyo.NonNegativeReals) #unsold to be returned \n",
        "\n",
        "# second stage constraints\n",
        "model.cantsoldthingsidonthave = pyo.Constraint(expr=model.y <= model.xi)\n",
        "model.newspapersdonotdisappear = pyo.Constraint(expr=model.y + model.z == model.x)\n",
        "\n",
        "def second_stage_profit(model):\n",
        "    return s * model.y + r * model.z\n",
        "\n",
        "model.second_stage_profit = pyo.Expression(rule=second_stage_profit)\n",
        "\n",
        "def total_profit(model):\n",
        "    return model.first_stage_profit + model.second_stage_profit\n",
        "\n",
        "model.total_expected_profit = pyo.Objective(rule=total_profit, sense=pyo.maximize)\n",
        "\n",
        "result = cbc_solver.solve(model)\n",
        "\n",
        "display(Markdown(f\"**Solver status:** *{result.solver.status}, {result.solver.termination_condition}*\"))\n",
        "display(Markdown(f\"**Optimal solution** for determistic demand equal to $100$: $x = {model.x.value:.1f}$\"))\n",
        "display(Markdown(f\"**Optimal deterministic profit:** ${model.total_expected_profit():.0f}$€\"))"
      ],
      "execution_count": null,
      "outputs": [
        {
          "data": {
            "text/markdown": [
              "**Solver status:** *ok, optimal*"
            ],
            "text/plain": [
              "<IPython.core.display.Markdown object>"
            ]
          },
          "metadata": {
            "tags": []
          },
          "output_type": "display_data"
        },
        {
          "data": {
            "text/markdown": [
              "**Optimal solution** for determistic demand equal to $100$: $x = 100.0$"
            ],
            "text/plain": [
              "<IPython.core.display.Markdown object>"
            ]
          },
          "metadata": {
            "tags": []
          },
          "output_type": "display_data"
        },
        {
          "data": {
            "text/markdown": [
              "**Optimal deterministic profit:** $1500$€"
            ],
            "text/plain": [
              "<IPython.core.display.Markdown object>"
            ]
          },
          "metadata": {
            "tags": []
          },
          "output_type": "display_data"
        }
      ]
    },
    {
      "cell_type": "markdown",
      "metadata": {
        "id": "HXaZi7kiWklC"
      },
      "source": [
        "We now assess how well we perform taking the average demand as optimal decision the news vendor problem for each of the three demand distributions above.\n",
        "\n",
        "(c) For a fixed decision variable $x=100$, approximate the expected profit of the news vendor for each of the three distributions above using the Sample Average Approximation method with $N=2500$ points. More specifically, generate $N=2500$ samples from the considered distribution and solve the extensive form of the stochastic LP resulting from those $N=2500$ scenarios."
      ]
    },
    {
      "cell_type": "code",
      "metadata": {
        "colab": {
          "base_uri": "https://localhost:8080/",
          "height": 106
        },
        "id": "c4xOfnMxVnzb",
        "outputId": "9e31a393-e49a-4fc6-b11f-0b98702eba71"
      },
      "source": [
        "# SAA of the two-stage stochastic LP to calculate the expected profit when buying the average\n",
        "\n",
        "def NaiveNewsvendorSAA(N, sample, distributiontype):\n",
        "\n",
        "    model = pyo.ConcreteModel()\n",
        "\n",
        "    def indices_rule(model):\n",
        "        return range(N)\n",
        "    model.indices = pyo.Set(initialize=indices_rule)\n",
        "    model.xi = pyo.Param(model.indices, initialize=dict(enumerate(sample)))\n",
        "\n",
        "    # first stage variable\n",
        "    model.x = 100.0 #bought\n",
        "\n",
        "    def first_stage_profit(model):\n",
        "        return -c * model.x\n",
        "\n",
        "    model.first_stage_profit = pyo.Expression(rule=first_stage_profit)\n",
        "\n",
        "    # second stage variables\n",
        "    model.y = pyo.Var(model.indices, within=pyo.NonNegativeReals) #sold\n",
        "    model.z = pyo.Var(model.indices, within=pyo.NonNegativeReals) #unsold to be returned \n",
        "\n",
        "    # second stage constraints\n",
        "    model.cantsoldthingsidonthave = pyo.ConstraintList()\n",
        "    model.newspapersdonotdisappear = pyo.ConstraintList()\n",
        "    for i in model.indices:\n",
        "        model.cantsoldthingsidonthave.add(expr=model.y[i] <= model.xi[i])\n",
        "        model.newspapersdonotdisappear.add(expr=model.y[i] + model.z[i] == model.x)\n",
        "\n",
        "    def second_stage_profit(model):\n",
        "        return sum([s * model.y[i] + r * model.z[i] for i in model.indices])/float(N)\n",
        "\n",
        "    model.second_stage_profit = pyo.Expression(rule=second_stage_profit)\n",
        "\n",
        "    def total_profit(model):\n",
        "        return model.first_stage_profit + model.second_stage_profit\n",
        "\n",
        "    model.total_expected_profit = pyo.Objective(rule=total_profit, sense=pyo.maximize)\n",
        "\n",
        "    result = cbc_solver.solve(model)\n",
        "\n",
        "    display(Markdown(f\"**Approximate expected optimal profit when using the average** $x=100$ with {distributiontype} demand: ${model.total_expected_profit():.2f}$€\"))\n",
        "    return model.total_expected_profit()\n",
        "\n",
        "np.random.seed(20122020)\n",
        "N = 2500\n",
        "\n",
        "samples = np.random.uniform(low=50.0, high=150.0, size=N)\n",
        "naiveprofit_uniform = NaiveNewsvendorSAA(N, samples, 'uniform')\n",
        "\n",
        "shape = 2\n",
        "xm = 50\n",
        "samples = (np.random.pareto(a=shape, size=N) + 1) *  xm\n",
        "naiveprofit_pareto = NaiveNewsvendorSAA(N, samples, 'Pareto')\n",
        "\n",
        "shape=2\n",
        "scale=113\n",
        "samples = scale*np.random.weibull(a=shape, size=N)\n",
        "naiveprofit_weibull = NaiveNewsvendorSAA(N, samples, 'Weibull')"
      ],
      "execution_count": null,
      "outputs": [
        {
          "data": {
            "text/markdown": [
              "**Approximate expected optimal profit when using the average** $x=100$ with uniform demand: $1245.56$€"
            ],
            "text/plain": [
              "<IPython.core.display.Markdown object>"
            ]
          },
          "metadata": {
            "tags": []
          },
          "output_type": "display_data"
        },
        {
          "data": {
            "text/markdown": [
              "**Approximate expected optimal profit when using the average** $x=100$ with Pareto demand: $1009.53$€"
            ],
            "text/plain": [
              "<IPython.core.display.Markdown object>"
            ]
          },
          "metadata": {
            "tags": []
          },
          "output_type": "display_data"
        },
        {
          "data": {
            "text/markdown": [
              "**Approximate expected optimal profit when using the average** $x=100$ with Weibull demand: $1088.44$€"
            ],
            "text/plain": [
              "<IPython.core.display.Markdown object>"
            ]
          },
          "metadata": {
            "tags": []
          },
          "output_type": "display_data"
        }
      ]
    },
    {
      "cell_type": "markdown",
      "metadata": {
        "id": "JmWrcE-50O8n"
      },
      "source": [
        "(d) Solve approximately the news vendor problem for each of the three distributions above using the Sample Average Approximation method with $N=2500$ points. More specifically, generate $N=2500$ samples from the considered distribution and solve the extensive form of the stochastic LP resulting from those $N=2500$ scenarios. For each of the three distribution, compare the optimal expected profit with that obtained in (c) and calculate the value of the stochastic solution (VSS)."
      ]
    },
    {
      "cell_type": "code",
      "metadata": {
        "colab": {
          "base_uri": "https://localhost:8080/",
          "height": 415
        },
        "id": "Ad9JCgA9Ae1f",
        "outputId": "067043f8-c496-4b31-df1e-fd4da27c4d73"
      },
      "source": [
        "# Two-stage stochastic LP for uniform distribution\n",
        "\n",
        "c = 10\n",
        "s = 25\n",
        "r = 5\n",
        "\n",
        "def NewsvendorSAA(N, sample, distributiontype):\n",
        "\n",
        "    model = pyo.ConcreteModel()\n",
        "\n",
        "    def indices_rule(model):\n",
        "        return range(N)\n",
        "    model.indices = pyo.Set(initialize=indices_rule)\n",
        "    model.xi = pyo.Param(model.indices, initialize=dict(enumerate(sample)))\n",
        "\n",
        "    # first stage variable\n",
        "    model.x = pyo.Var(within=pyo.NonNegativeReals) #bought\n",
        "\n",
        "    def first_stage_profit(model):\n",
        "        return -c * model.x\n",
        "\n",
        "    model.first_stage_profit = pyo.Expression(rule=first_stage_profit)\n",
        "\n",
        "    # second stage variables\n",
        "    model.y = pyo.Var(model.indices, within=pyo.NonNegativeReals) #sold\n",
        "    model.z = pyo.Var(model.indices, within=pyo.NonNegativeReals) #unsold to be returned \n",
        "\n",
        "    # second stage constraints\n",
        "    model.cantsoldthingsidonthave = pyo.ConstraintList()\n",
        "    model.newspapersdonotdisappear = pyo.ConstraintList()\n",
        "    for i in model.indices:\n",
        "        model.cantsoldthingsidonthave.add(expr=model.y[i] <= model.xi[i])\n",
        "        model.newspapersdonotdisappear.add(expr=model.y[i] + model.z[i] == model.x)\n",
        "\n",
        "    def second_stage_profit(model):\n",
        "        return sum([s * model.y[i] + r * model.z[i] for i in model.indices])/float(N)\n",
        "\n",
        "    model.second_stage_profit = pyo.Expression(rule=second_stage_profit)\n",
        "\n",
        "    def total_profit(model):\n",
        "        return model.first_stage_profit + model.second_stage_profit\n",
        "\n",
        "    model.total_expected_profit = pyo.Objective(rule=total_profit, sense=pyo.maximize)\n",
        "\n",
        "    result = cbc_solver.solve(model)\n",
        "\n",
        "    display(Markdown(f\"**Approximate news vendor problem solution for:** {distributiontype} distribution **using:** $N={N:.0f}$ points\"))\n",
        "    display(Markdown(f\"**Solver status:** *{result.solver.status}, {result.solver.termination_condition}*\"))\n",
        "    display(Markdown(f\"**Approximate optimal solution:** $x = {model.x.value:.2f}$\"))\n",
        "    display(Markdown(f\"**Approximate expected optimal profit:** ${model.total_expected_profit():.2f}$€\"))\n",
        "    return model.total_expected_profit()\n",
        "\n",
        "np.random.seed(20122020)\n",
        "N = 2500\n",
        "\n",
        "samples = np.random.uniform(low=50.0, high=150.0, size=N)\n",
        "smartprofit_uniform = NewsvendorSAA(N, samples, 'uniform')\n",
        "display(Markdown(f\"**Value of the stochastic solution:** ${smartprofit_uniform:.2f}-{naiveprofit_uniform:.2f} = {smartprofit_uniform-naiveprofit_uniform:.2f}$€\"))\n",
        "\n",
        "shape = 2\n",
        "xm = 50\n",
        "samples = (np.random.pareto(a=shape, size=N) + 1) *  xm\n",
        "smartprofit_pareto = NewsvendorSAA(N, samples, 'Pareto')\n",
        "display(Markdown(f\"**Value of the stochastic solution:** ${smartprofit_pareto:.2f}-{naiveprofit_pareto:.2f} = {smartprofit_pareto-naiveprofit_pareto:.2f}$€\"))\n",
        "\n",
        "shape=2\n",
        "scale=113\n",
        "samples = scale*np.random.weibull(a=shape, size=N)\n",
        "smartprofit_weibull =NewsvendorSAA(N, samples, 'Weibull')\n",
        "display(Markdown(f\"**Value of the stochastic solution:** ${smartprofit_weibull:.2f}-{naiveprofit_weibull:.2f} = {smartprofit_weibull-naiveprofit_weibull:.2f}$€\"))"
      ],
      "execution_count": null,
      "outputs": [
        {
          "data": {
            "text/markdown": [
              "**Approximate news vendor problem solution for:** uniform distribution **using:** $N=2500$ points"
            ],
            "text/plain": [
              "<IPython.core.display.Markdown object>"
            ]
          },
          "metadata": {
            "tags": []
          },
          "output_type": "display_data"
        },
        {
          "data": {
            "text/markdown": [
              "**Solver status:** *ok, optimal*"
            ],
            "text/plain": [
              "<IPython.core.display.Markdown object>"
            ]
          },
          "metadata": {
            "tags": []
          },
          "output_type": "display_data"
        },
        {
          "data": {
            "text/markdown": [
              "**Approximate optimal solution:** $x = 123.94$"
            ],
            "text/plain": [
              "<IPython.core.display.Markdown object>"
            ]
          },
          "metadata": {
            "tags": []
          },
          "output_type": "display_data"
        },
        {
          "data": {
            "text/markdown": [
              "**Approximate expected optimal profit:** $1302.12$€"
            ],
            "text/plain": [
              "<IPython.core.display.Markdown object>"
            ]
          },
          "metadata": {
            "tags": []
          },
          "output_type": "display_data"
        },
        {
          "data": {
            "text/markdown": [
              "**Value of the stochastic solution:** $1302.12-1245.56 = 56.56$€"
            ],
            "text/plain": [
              "<IPython.core.display.Markdown object>"
            ]
          },
          "metadata": {
            "tags": []
          },
          "output_type": "display_data"
        },
        {
          "data": {
            "text/markdown": [
              "**Approximate news vendor problem solution for:** Pareto distribution **using:** $N=2500$ points"
            ],
            "text/plain": [
              "<IPython.core.display.Markdown object>"
            ]
          },
          "metadata": {
            "tags": []
          },
          "output_type": "display_data"
        },
        {
          "data": {
            "text/markdown": [
              "**Solver status:** *ok, optimal*"
            ],
            "text/plain": [
              "<IPython.core.display.Markdown object>"
            ]
          },
          "metadata": {
            "tags": []
          },
          "output_type": "display_data"
        },
        {
          "data": {
            "text/markdown": [
              "**Approximate optimal solution:** $x = 102.41$"
            ],
            "text/plain": [
              "<IPython.core.display.Markdown object>"
            ]
          },
          "metadata": {
            "tags": []
          },
          "output_type": "display_data"
        },
        {
          "data": {
            "text/markdown": [
              "**Approximate expected optimal profit:** $1009.77$€"
            ],
            "text/plain": [
              "<IPython.core.display.Markdown object>"
            ]
          },
          "metadata": {
            "tags": []
          },
          "output_type": "display_data"
        },
        {
          "data": {
            "text/markdown": [
              "**Value of the stochastic solution:** $1009.77-1009.53 = 0.24$€"
            ],
            "text/plain": [
              "<IPython.core.display.Markdown object>"
            ]
          },
          "metadata": {
            "tags": []
          },
          "output_type": "display_data"
        },
        {
          "data": {
            "text/markdown": [
              "**Approximate news vendor problem solution for:** Weibull distribution **using:** $N=2500$ points"
            ],
            "text/plain": [
              "<IPython.core.display.Markdown object>"
            ]
          },
          "metadata": {
            "tags": []
          },
          "output_type": "display_data"
        },
        {
          "data": {
            "text/markdown": [
              "**Solver status:** *ok, optimal*"
            ],
            "text/plain": [
              "<IPython.core.display.Markdown object>"
            ]
          },
          "metadata": {
            "tags": []
          },
          "output_type": "display_data"
        },
        {
          "data": {
            "text/markdown": [
              "**Approximate optimal solution:** $x = 133.15$"
            ],
            "text/plain": [
              "<IPython.core.display.Markdown object>"
            ]
          },
          "metadata": {
            "tags": []
          },
          "output_type": "display_data"
        },
        {
          "data": {
            "text/markdown": [
              "**Approximate expected optimal profit:** $1157.84$€"
            ],
            "text/plain": [
              "<IPython.core.display.Markdown object>"
            ]
          },
          "metadata": {
            "tags": []
          },
          "output_type": "display_data"
        },
        {
          "data": {
            "text/markdown": [
              "**Value of the stochastic solution:** $1157.84-1088.44 = 69.40$€"
            ],
            "text/plain": [
              "<IPython.core.display.Markdown object>"
            ]
          },
          "metadata": {
            "tags": []
          },
          "output_type": "display_data"
        }
      ]
    },
    {
      "cell_type": "markdown",
      "metadata": {
        "id": "V5ArJDBQC0w7"
      },
      "source": [
        "# Exercise 3: Airline seat allocation problem\n",
        "\n",
        "**This is the same problem as in Exercise 3 of the Week 4 tutorial exercise sheet (use its solutions)**\n",
        "\n",
        "An airlines is trying to decide how to partition a new plane for the Amsterdam-Buenos Aires route. This plane can seat 200 economy class passengers. A section can be created for first class seats but each of these seats takes the space of 2 economy class seats. A business class section can also be created, but each of these seats takes as much space as 1.5 economy class seats. The profit on a first class ticket is, however, three times the profit of an economy ticket, while a business class ticket has a profit of two times an economy ticket's profit. Once the plane is partitioned into these seating classes, it cannot be changed. The airlines knows, however, that the plane will not always be full in each section. They have decided that three scenarios will occur with about the same frequency: \n",
        "\n",
        "(1) weekday morning and evening traffic, \n",
        "\n",
        "(2) weekend traffic, \n",
        "\n",
        "(3) weekday midday traffic. \n",
        "\n",
        "Under Scenario 1, they think they can sell as many as 20 first class tickets, 50 business class tickets, and 200 economy tickets. Under Scenario 2, these figures are $10 , 25 $, and $175$, while under Scenario 3, they are $5 , 10$, and $150$. The following table reports the forecast demand in the three scenarios.\n",
        "\n",
        "| Scenario | First class seats | Business class seats | Economy class seats |\n",
        "| :-: | :-: | :-: | :-: |\n",
        "| Scenario 1 | 20 | 50 | 200 |\n",
        "| Scenario 2 | 10 | 25 | 175 |\n",
        "| Scenario 3 | 5 | 10 | 150 |\n",
        "\n",
        "Despite these estimates, the airline will not sell more tickets than seats in each of the sections (hence no overbooking strategy).\n",
        "\n",
        "(a) Implement and solve the extensive form of the stochastic program for the optimal seat allocation aiming to maximize the airline profit."
      ]
    },
    {
      "cell_type": "code",
      "metadata": {
        "colab": {
          "base_uri": "https://localhost:8080/",
          "height": 235
        },
        "id": "isKz1-V3D_9O",
        "outputId": "01a9fb3e-7a13-463e-ad21-950b878efdf0"
      },
      "source": [
        "model = pyo.ConcreteModel()\n",
        "\n",
        "model.classes = pyo.Set(initialize=['F', 'B', 'E'])\n",
        "model.totalseats = 200\n",
        "model.pricefactor_F = 3.0\n",
        "model.pricefactor_B = 2.0\n",
        "model.seatfactor_F = 2.0 \n",
        "model.seatfactor_B = 1.5\n",
        "\n",
        "# first stage variables\n",
        "model.seats = pyo.Var(model.classes, within=pyo.NonNegativeIntegers) \n",
        "\n",
        "# first stage constraint\n",
        "model.equivalentseatsF = pyo.Expression(expr=model.seats['F']*model.seatfactor_F)\n",
        "model.equivalentseatsB = pyo.Expression(expr=model.seats['B']*model.seatfactor_B)\n",
        "model.equivalentseatsE = pyo.Expression(expr=model.seats['E'])\n",
        "model.planeseats = pyo.Constraint(expr=model.equivalentseatsF + model.equivalentseatsB + model.equivalentseatsE <= model.totalseats)\n",
        "\n",
        "model.scenarios = pyo.Set(initialize=[1,2,3])\n",
        "\n",
        "# second stage variables (labelled as 1,2,3 depending on the scenario)\n",
        "model.sell = pyo.Var(model.classes, model.scenarios, within=pyo.NonNegativeIntegers)\n",
        "\n",
        "# second stage constraints\n",
        "model.demandF_1 = pyo.Constraint(expr= model.sell['F',1] <= 20)\n",
        "model.limitF_1 = pyo.Constraint(expr= model.sell['F',1] <= model.seats['F'])\n",
        "model.demandF_2 = pyo.Constraint(expr= model.sell['F',2] <= 10)\n",
        "model.limitF_2 = pyo.Constraint(expr= model.sell['F',2] <= model.seats['F'])\n",
        "model.demandF_3 = pyo.Constraint(expr= model.sell['F',3] <= 5)\n",
        "model.limitF_3 = pyo.Constraint(expr= model.sell['F',3] <= model.seats['F'])\n",
        "model.demandB_1 = pyo.Constraint(expr= model.sell['B',1] <= 50)\n",
        "model.limitB_1 = pyo.Constraint(expr= model.sell['B',1] <= model.seats['B'])\n",
        "model.demandB_2 = pyo.Constraint(expr= model.sell['B',2] <= 25)\n",
        "model.limitB_2 = pyo.Constraint(expr= model.sell['B',2] <= model.seats['B'])\n",
        "model.demandB_3 = pyo.Constraint(expr= model.sell['B',3] <= 10)\n",
        "model.limitB_3 = pyo.Constraint(expr= model.sell['B',3] <= model.seats['B'])\n",
        "model.demandE_1 = pyo.Constraint(expr= model.sell['E',1] <= 200)\n",
        "model.limitE_1 = pyo.Constraint(expr= model.sell['E',1] <= model.seats['E'])\n",
        "model.demandE_2 = pyo.Constraint(expr= model.sell['E',2] <= 175)\n",
        "model.limitE_2 = pyo.Constraint(expr= model.sell['E',2] <= model.seats['E'])\n",
        "model.demandE_3 = pyo.Constraint(expr= model.sell['E',3] <= 150)\n",
        "model.limitE_3 = pyo.Constraint(expr= model.sell['E',3] <= model.seats['E'])\n",
        "\n",
        "def second_stage_profit(model):\n",
        "    total_1 = model.sell['F',1] * model.pricefactor_F + model.sell['B',1] * model.pricefactor_B + model.sell['E',1]\n",
        "    total_2 = model.sell['F',2] * model.pricefactor_F + model.sell['B',2] * model.pricefactor_B + model.sell['E',2]\n",
        "    total_3 = model.sell['F',3] * model.pricefactor_F + model.sell['B',3] * model.pricefactor_B + model.sell['E',3]\n",
        "    return (total_1 + total_2 + total_3)/3.0\n",
        "\n",
        "model.second_stage_profit = pyo.Expression(rule=second_stage_profit)\n",
        "\n",
        "def total_profit(model):\n",
        "    return model.second_stage_profit\n",
        "\n",
        "model.total_expected_profit = pyo.Objective(rule=total_profit, sense=pyo.maximize)\n",
        "\n",
        "result = cbc_solver.solve(model)\n",
        "display(Markdown(f\"**Solver status:** *{result.solver.status}, {result.solver.termination_condition}*\"))\n",
        "display(Markdown(f\"**Solution:**\"))\n",
        "display(Markdown(f\"(seat allocation) $x_F = {model.seats['F'].value:.0f}$, $e_B = {model.seats['B'].value:.0f}$, $e_E = {model.seats['E'].value:.0f}$\"))\n",
        "display(Markdown(f\"(equivalent seat allocation) $e_F = {model.equivalentseatsF.expr():.0f}$, $e_B = {model.equivalentseatsB.expr():.0f}$, $e_E = {model.equivalentseatsE.expr():.0f}$\"))\n",
        "display(Markdown(f\"(recourse sell action scenario 1) $s_F = {model.sell['F',1].value:.0f}$, $s_B = {model.sell['B',1].value:.0f}$, $s_E = {model.sell['E',1].value:.0f}$\"))\n",
        "display(Markdown(f\"(recourse sell action scenario 2) $s_F = {model.sell['F',2].value:.0f}$, $s_B = {model.sell['B',2].value:.0f}$, $s_E = {model.sell['E',2].value:.0f}$\"))\n",
        "display(Markdown(f\"(recourse sell action scenario 3) $s_F = {model.sell['F',3].value:.0f}$, $s_B = {model.sell['B',3].value:.0f}$, $s_E = {model.sell['E',3].value:.0f}$\"))\n",
        "display(Markdown(f\"**Optimal objective value:** ${model.total_expected_profit():.0f}$ (in units of economy ticket price)\"))"
      ],
      "execution_count": null,
      "outputs": [
        {
          "data": {
            "text/markdown": [
              "**Solver status:** *ok, optimal*"
            ],
            "text/plain": [
              "<IPython.core.display.Markdown object>"
            ]
          },
          "metadata": {
            "tags": []
          },
          "output_type": "display_data"
        },
        {
          "data": {
            "text/markdown": [
              "**Solution:**"
            ],
            "text/plain": [
              "<IPython.core.display.Markdown object>"
            ]
          },
          "metadata": {
            "tags": []
          },
          "output_type": "display_data"
        },
        {
          "data": {
            "text/markdown": [
              "(seat allocation) $x_F = 10$, $e_B = 20$, $e_E = 150$"
            ],
            "text/plain": [
              "<IPython.core.display.Markdown object>"
            ]
          },
          "metadata": {
            "tags": []
          },
          "output_type": "display_data"
        },
        {
          "data": {
            "text/markdown": [
              "(equivalent seat allocation) $e_F = 20$, $e_B = 30$, $e_E = 150$"
            ],
            "text/plain": [
              "<IPython.core.display.Markdown object>"
            ]
          },
          "metadata": {
            "tags": []
          },
          "output_type": "display_data"
        },
        {
          "data": {
            "text/markdown": [
              "(recourse sell action scenario 1) $s_F = 10$, $s_B = 20$, $s_E = 150$"
            ],
            "text/plain": [
              "<IPython.core.display.Markdown object>"
            ]
          },
          "metadata": {
            "tags": []
          },
          "output_type": "display_data"
        },
        {
          "data": {
            "text/markdown": [
              "(recourse sell action scenario 2) $s_F = 10$, $s_B = 20$, $s_E = 150$"
            ],
            "text/plain": [
              "<IPython.core.display.Markdown object>"
            ]
          },
          "metadata": {
            "tags": []
          },
          "output_type": "display_data"
        },
        {
          "data": {
            "text/markdown": [
              "(recourse sell action scenario 3) $s_F = 5$, $s_B = 10$, $s_E = 150$"
            ],
            "text/plain": [
              "<IPython.core.display.Markdown object>"
            ]
          },
          "metadata": {
            "tags": []
          },
          "output_type": "display_data"
        },
        {
          "data": {
            "text/markdown": [
              "**Optimal objective value:** $208$ (in units of economy ticket price)"
            ],
            "text/plain": [
              "<IPython.core.display.Markdown object>"
            ]
          },
          "metadata": {
            "tags": []
          },
          "output_type": "display_data"
        }
      ]
    },
    {
      "cell_type": "markdown",
      "metadata": {
        "id": "0v68RwhkEVDX"
      },
      "source": [
        "Assume now that the airline wishes a special guarantee for its clients enrolled in its loyalty program. In particular, it wants $98\\%$ probability to cover the demand of first-class seats and $95\\%$ probability to cover the demand of business class seats (by clients of the loyalty program). First-class passengers are covered if they get a first-class seat. Business class passengers are covered if they get either a business or a first-class seat (upgrade). Assume weekday demands of loyalty-program passengers are normally distributed, say $\\xi_F \\sim \\mathcal N(16,16)$ and $\\xi_B \\sim \\mathcal N(30,48)$ for first-class and business, respectively. Also assume that the demands for first-class and business class seats are independent.\n",
        "Let $x_1$ be the number of first-class seats and $x_2$ the number of business seats. The probabilistic constraints are simply\n",
        "\n",
        "$$\n",
        "\t\\mathbb P(x_1 \\geq \\xi_F ) \\geq 0.98, \\qquad \\text{ and } \\qquad \\mathbb P(x_1 +x_2 \\geq \\xi_F + \\xi_B ) \\geq 0.95.\n",
        "$$\n",
        "\n",
        "In Exercise 3 of the tutorial you rewrote these equivalently as linear constraints, specifically \n",
        "\n",
        "$$\n",
        "\t(x_1 - 16)/\\sqrt{16} \\geq 2.054 \\qquad \\text{ and } \\qquad (x_1 +x_2 - 46)/ \\sqrt{64} \\geq 1.645.\n",
        "$$\n",
        "\n",
        "(b) Add to your implementation of the extensive form the two equivalent deterministic constraints corresponding to the two chance constraints and find the new optimal solution meeting these additional constraints. How is it different from the previous one?"
      ]
    },
    {
      "cell_type": "code",
      "metadata": {
        "colab": {
          "base_uri": "https://localhost:8080/",
          "height": 235
        },
        "id": "U_iVy-wsGYoc",
        "outputId": "eaa141cf-5312-4298-c4f5-3983d2335e16"
      },
      "source": [
        "model = pyo.ConcreteModel()\n",
        "\n",
        "model.classes = pyo.Set(initialize=['F', 'B', 'E'])\n",
        "model.totalseats = 200\n",
        "model.pricefactor_F = 3.0\n",
        "model.pricefactor_B = 2.0\n",
        "model.seatfactor_F = 2.0 \n",
        "model.seatfactor_B = 1.5\n",
        "\n",
        "# first stage variables\n",
        "model.seats = pyo.Var(model.classes, within=pyo.NonNegativeIntegers) \n",
        "\n",
        "# first stage constraint\n",
        "model.equivalentseatsF = pyo.Expression(expr=model.seats['F']*model.seatfactor_F)\n",
        "model.equivalentseatsB = pyo.Expression(expr=model.seats['B']*model.seatfactor_B)\n",
        "model.equivalentseatsE = pyo.Expression(expr=model.seats['E'])\n",
        "model.planeseats = pyo.Constraint(expr=model.equivalentseatsF + model.equivalentseatsB + model.equivalentseatsE <= model.totalseats)\n",
        "model.loyaltyF = pyo.Constraint(expr = model.seats['F'] >= 24.22) #loyalty constraint 1\n",
        "model.loyaltyFB = pyo.Constraint(expr = model.seats['F']+model.seats['B'] >= 59.16)  #loyalty constraint 2\n",
        "\n",
        "model.scenarios = pyo.Set(initialize=[1,2,3])\n",
        "\n",
        "# second stage variables (labelled as 1,2,3 depending on the scenario)\n",
        "model.sell = pyo.Var(model.classes, model.scenarios, within=pyo.NonNegativeIntegers)\n",
        "\n",
        "# second stage constraints\n",
        "model.demandF_1 = pyo.Constraint(expr= model.sell['F',1] <= 20)\n",
        "model.limitF_1 = pyo.Constraint(expr= model.sell['F',1] <= model.seats['F'])\n",
        "model.demandF_2 = pyo.Constraint(expr= model.sell['F',2] <= 10)\n",
        "model.limitF_2 = pyo.Constraint(expr= model.sell['F',2] <= model.seats['F'])\n",
        "model.demandF_3 = pyo.Constraint(expr= model.sell['F',3] <= 5)\n",
        "model.limitF_3 = pyo.Constraint(expr= model.sell['F',3] <= model.seats['F'])\n",
        "model.demandB_1 = pyo.Constraint(expr= model.sell['B',1] <= 50)\n",
        "model.limitB_1 = pyo.Constraint(expr= model.sell['B',1] <= model.seats['B'])\n",
        "model.demandB_2 = pyo.Constraint(expr= model.sell['B',2] <= 25)\n",
        "model.limitB_2 = pyo.Constraint(expr= model.sell['B',2] <= model.seats['B'])\n",
        "model.demandB_3 = pyo.Constraint(expr= model.sell['B',3] <= 10)\n",
        "model.limitB_3 = pyo.Constraint(expr= model.sell['B',3] <= model.seats['B'])\n",
        "model.demandE_1 = pyo.Constraint(expr= model.sell['E',1] <= 200)\n",
        "model.limitE_1 = pyo.Constraint(expr= model.sell['E',1] <= model.seats['E'])\n",
        "model.demandE_2 = pyo.Constraint(expr= model.sell['E',2] <= 175)\n",
        "model.limitE_2 = pyo.Constraint(expr= model.sell['E',2] <= model.seats['E'])\n",
        "model.demandE_3 = pyo.Constraint(expr= model.sell['E',3] <= 150)\n",
        "model.limitE_3 = pyo.Constraint(expr= model.sell['E',3] <= model.seats['E'])\n",
        "\n",
        "def second_stage_profit(model):\n",
        "    total_1 = model.sell['F',1] * model.pricefactor_F + model.sell['B',1] * model.pricefactor_B + model.sell['E',1]\n",
        "    total_2 = model.sell['F',2] * model.pricefactor_F + model.sell['B',2] * model.pricefactor_B + model.sell['E',2]\n",
        "    total_3 = model.sell['F',3] * model.pricefactor_F + model.sell['B',3] * model.pricefactor_B + model.sell['E',3]\n",
        "    return (total_1 + total_2 + total_3)/3.0\n",
        "\n",
        "model.second_stage_profit = pyo.Expression(rule=second_stage_profit)\n",
        "\n",
        "def total_profit(model):\n",
        "    return model.second_stage_profit\n",
        "\n",
        "model.total_expected_profit = pyo.Objective(rule=total_profit, sense=pyo.maximize)\n",
        "\n",
        "result = cbc_solver.solve(model)\n",
        "display(Markdown(f\"**Solver status:** *{result.solver.status}, {result.solver.termination_condition}*\"))\n",
        "display(Markdown(f\"**Solution:**\"))\n",
        "display(Markdown(f\"(seat allocation) $x_F = {model.seats['F'].value:.0f}$, $e_B = {model.seats['B'].value:.0f}$, $e_E = {model.seats['E'].value:.0f}$\"))\n",
        "display(Markdown(f\"(equivalent seat allocation) $e_F = {model.equivalentseatsF.expr():.0f}$, $e_B = {model.equivalentseatsB.expr():.0f}$, $e_E = {model.equivalentseatsE.expr():.0f}$\"))\n",
        "display(Markdown(f\"(recourse sell action scenario 1) $s_F = {model.sell['F',1].value:.0f}$, $s_B = {model.sell['B',1].value:.0f}$, $s_E = {model.sell['E',1].value:.0f}$\"))\n",
        "display(Markdown(f\"(recourse sell action scenario 2) $s_F = {model.sell['F',2].value:.0f}$, $s_B = {model.sell['B',2].value:.0f}$, $s_E = {model.sell['E',2].value:.0f}$\"))\n",
        "display(Markdown(f\"(recourse sell action scenario 3) $s_F = {model.sell['F',3].value:.0f}$, $s_B = {model.sell['B',3].value:.0f}$, $s_E = {model.sell['E',3].value:.0f}$\"))\n",
        "display(Markdown(f\"**Optimal objective value:** ${model.total_expected_profit():.0f}$ (in units of economy ticket price)\"))"
      ],
      "execution_count": null,
      "outputs": [
        {
          "data": {
            "text/markdown": [
              "**Solver status:** *ok, optimal*"
            ],
            "text/plain": [
              "<IPython.core.display.Markdown object>"
            ]
          },
          "metadata": {
            "tags": []
          },
          "output_type": "display_data"
        },
        {
          "data": {
            "text/markdown": [
              "**Solution:**"
            ],
            "text/plain": [
              "<IPython.core.display.Markdown object>"
            ]
          },
          "metadata": {
            "tags": []
          },
          "output_type": "display_data"
        },
        {
          "data": {
            "text/markdown": [
              "(seat allocation) $x_F = 25$, $e_B = 35$, $e_E = 97$"
            ],
            "text/plain": [
              "<IPython.core.display.Markdown object>"
            ]
          },
          "metadata": {
            "tags": []
          },
          "output_type": "display_data"
        },
        {
          "data": {
            "text/markdown": [
              "(equivalent seat allocation) $e_F = 50$, $e_B = 52$, $e_E = 97$"
            ],
            "text/plain": [
              "<IPython.core.display.Markdown object>"
            ]
          },
          "metadata": {
            "tags": []
          },
          "output_type": "display_data"
        },
        {
          "data": {
            "text/markdown": [
              "(recourse sell action scenario 1) $s_F = 20$, $s_B = 35$, $s_E = 97$"
            ],
            "text/plain": [
              "<IPython.core.display.Markdown object>"
            ]
          },
          "metadata": {
            "tags": []
          },
          "output_type": "display_data"
        },
        {
          "data": {
            "text/markdown": [
              "(recourse sell action scenario 2) $s_F = 10$, $s_B = 25$, $s_E = 97$"
            ],
            "text/plain": [
              "<IPython.core.display.Markdown object>"
            ]
          },
          "metadata": {
            "tags": []
          },
          "output_type": "display_data"
        },
        {
          "data": {
            "text/markdown": [
              "(recourse sell action scenario 3) $s_F = 5$, $s_B = 10$, $s_E = 97$"
            ],
            "text/plain": [
              "<IPython.core.display.Markdown object>"
            ]
          },
          "metadata": {
            "tags": []
          },
          "output_type": "display_data"
        },
        {
          "data": {
            "text/markdown": [
              "**Optimal objective value:** $179$ (in units of economy ticket price)"
            ],
            "text/plain": [
              "<IPython.core.display.Markdown object>"
            ]
          },
          "metadata": {
            "tags": []
          },
          "output_type": "display_data"
        }
      ]
    },
    {
      "cell_type": "markdown",
      "metadata": {
        "id": "4wYs7m5aGiGg"
      },
      "source": [
        "Assume now that the ticket demand for the three categories is captured by a $3$-dimensional multivariate normal with mean $\\mu=(16,30,180)$ and covariance matrix \n",
        "$$\n",
        "\\Sigma= \\left(\n",
        "\\begin{array}{ccc}\n",
        " 3.5 & 3.7 & 2.5 \\\\\n",
        " 3.7 & 6.5 & 7.5 \\\\\n",
        " 2.5 & 7.5 & 25.2 \\\\\n",
        "\\end{array}\n",
        "\\right).\n",
        "$$\n",
        "\n",
        "(c) Solve approximately the airline seat allocation problem (with the loyalty constraints) using the Sample Average Approximation method. More specifically, sample $N=1000$ points from the multivariate normal distribution and solve the extensive form for the stochastic LP resulting from those $N=1000$ scenarios."
      ]
    },
    {
      "cell_type": "code",
      "metadata": {
        "colab": {
          "base_uri": "https://localhost:8080/",
          "height": 151
        },
        "id": "7AGT3nCKHwZ2",
        "outputId": "0703bd10-4a16-42d8-fe35-2f21c0fa8d78"
      },
      "source": [
        "def AirlineSAA(N, sample):\n",
        "\n",
        "    model = pyo.ConcreteModel()\n",
        "\n",
        "    def indices_rule(model):\n",
        "        return range(N)\n",
        "\n",
        "    model.scenarios = pyo.Set(initialize=indices_rule)\n",
        "    model.demandF = pyo.Param(model.scenarios, initialize=dict(enumerate(sample[:,0])))\n",
        "    model.demandB = pyo.Param(model.scenarios, initialize=dict(enumerate(sample[:,1])))\n",
        "    model.demandE = pyo.Param(model.scenarios, initialize=dict(enumerate(sample[:,2])))\n",
        "\n",
        "    model.classes = pyo.Set(initialize=['F', 'B', 'E'])\n",
        "    model.totalseats = 200\n",
        "    model.pricefactor_F = 3.0\n",
        "    model.pricefactor_B = 2.0\n",
        "    model.seatfactor_F = 2.0 \n",
        "    model.seatfactor_B = 1.5\n",
        "\n",
        "    # first stage variables\n",
        "    model.seats = pyo.Var(model.classes, within=pyo.NonNegativeIntegers) \n",
        "\n",
        "    # first stage constraint\n",
        "    model.equivalentseatsF = pyo.Expression(expr=model.seats['F']*model.seatfactor_F)\n",
        "    model.equivalentseatsB = pyo.Expression(expr=model.seats['B']*model.seatfactor_B)\n",
        "    model.equivalentseatsE = pyo.Expression(expr=model.seats['E'])\n",
        "    model.planeseats = pyo.Constraint(expr=model.equivalentseatsF + model.equivalentseatsB + model.equivalentseatsE <= model.totalseats)\n",
        "    model.loyaltyF = pyo.Constraint(expr = model.seats['F'] >= 24.22)\n",
        "    model.loyaltyFB = pyo.Constraint(expr = model.seats['F']+model.seats['B'] >= 59.16)\n",
        "\n",
        "    # second stage variables\n",
        "    model.sell = pyo.Var(model.classes, model.scenarios, within=pyo.NonNegativeIntegers)\n",
        "\n",
        "    # second stage constraints\n",
        "    model.demandFlim = pyo.ConstraintList()\n",
        "    model.limitF = pyo.ConstraintList()\n",
        "    model.demandBlim = pyo.ConstraintList()\n",
        "    model.limitB = pyo.ConstraintList()\n",
        "    model.demandElim = pyo.ConstraintList()\n",
        "    model.limitE = pyo.ConstraintList()\n",
        "    for i in model.scenarios:\n",
        "        model.demandFlim.add(expr= model.sell['F',i] <= model.demandF[i])\n",
        "        model.limitF.add(expr= model.sell['F',i] <= model.seats['F'])\n",
        "        model.demandBlim.add(expr= model.sell['B',i] <= model.demandB[i])\n",
        "        model.limitB.add(expr= model.sell['B',i] <= model.seats['B'])\n",
        "        model.demandElim.add(expr= model.sell['E',i] <= model.demandE[i])\n",
        "        model.limitE.add(expr= model.sell['E',i] <= model.seats['E'])\n",
        "\n",
        "    def second_stage_profit(model):\n",
        "        return sum([model.sell['F',i] * model.pricefactor_F + model.sell['B',i] * model.pricefactor_B + model.sell['E',i] for i in model.scenarios])/float(N)\n",
        "\n",
        "    model.second_stage_profit = pyo.Expression(rule=second_stage_profit)\n",
        "\n",
        "    def total_profit(model):\n",
        "        return model.second_stage_profit\n",
        "\n",
        "    model.total_expected_profit = pyo.Objective(rule=total_profit, sense=pyo.maximize)\n",
        "\n",
        "    result = cbc_solver.solve(model)\n",
        "    display(Markdown(f\"**Solver status:** *{result.solver.status}, {result.solver.termination_condition}*\"))\n",
        "    display(Markdown(f\"**Solution:**\"))\n",
        "    display(Markdown(f\"(seat allocation) $x_F = {model.seats['F'].value:.0f}$, $e_B = {model.seats['B'].value:.0f}$, $e_E = {model.seats['E'].value:.0f}$\"))\n",
        "    display(Markdown(f\"(equivalent seat allocation) $e_F = {model.equivalentseatsF.expr():.0f}$, $e_B = {model.equivalentseatsB.expr():.0f}$, $e_E = {model.equivalentseatsE.expr():.0f}$\"))\n",
        "    display(Markdown(f\"**Optimal objective value:** ${model.total_expected_profit():.0f}$ (in units of economy ticket price)\"))\n",
        "\n",
        "N = 1000\n",
        "np.random.seed(1)\n",
        "samples = np.random.multivariate_normal([16, 30, 180],[[3.5, 3.7, 2.5],[3.7, 6.5, 7.5],[2.5, 7.5, 25.2]], N)\n",
        "AirlineSAA(N, samples)"
      ],
      "execution_count": null,
      "outputs": [
        {
          "data": {
            "text/markdown": [
              "**Solver status:** *ok, optimal*"
            ],
            "text/plain": [
              "<IPython.core.display.Markdown object>"
            ]
          },
          "metadata": {
            "tags": []
          },
          "output_type": "display_data"
        },
        {
          "data": {
            "text/markdown": [
              "**Solution:**"
            ],
            "text/plain": [
              "<IPython.core.display.Markdown object>"
            ]
          },
          "metadata": {
            "tags": []
          },
          "output_type": "display_data"
        },
        {
          "data": {
            "text/markdown": [
              "(seat allocation) $x_F = 25$, $e_B = 35$, $e_E = 97$"
            ],
            "text/plain": [
              "<IPython.core.display.Markdown object>"
            ]
          },
          "metadata": {
            "tags": []
          },
          "output_type": "display_data"
        },
        {
          "data": {
            "text/markdown": [
              "(equivalent seat allocation) $e_F = 50$, $e_B = 52$, $e_E = 97$"
            ],
            "text/plain": [
              "<IPython.core.display.Markdown object>"
            ]
          },
          "metadata": {
            "tags": []
          },
          "output_type": "display_data"
        },
        {
          "data": {
            "text/markdown": [
              "**Optimal objective value:** $202$ (in units of economy ticket price)"
            ],
            "text/plain": [
              "<IPython.core.display.Markdown object>"
            ]
          },
          "metadata": {
            "tags": []
          },
          "output_type": "display_data"
        }
      ]
    },
    {
      "cell_type": "code",
      "metadata": {
        "id": "R-j4z-kAXtVX"
      },
      "source": [],
      "execution_count": null,
      "outputs": []
    }
  ]
}