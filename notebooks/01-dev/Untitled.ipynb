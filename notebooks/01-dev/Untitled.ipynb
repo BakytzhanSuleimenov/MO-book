{
 "cells": [
  {
   "cell_type": "markdown",
   "id": "25279cc7-c95d-450b-bfb1-e42b4ea44b63",
   "metadata": {},
   "source": [
    "# Numpy,Pyomo and Linear Algebra"
   ]
  },
  {
   "cell_type": "markdown",
   "id": "2e6b8ab4-07ca-4468-ac3c-aaedb5d26868",
   "metadata": {},
   "source": [
    "## Numpy\n",
    "\n"
   ]
  },
  {
   "cell_type": "code",
   "execution_count": 29,
   "id": "694016ee-ce78-4b9f-935a-5ac033a46c81",
   "metadata": {},
   "outputs": [
    {
     "name": "stdout",
     "output_type": "stream",
     "text": [
      "v = [1 2 3]\n",
      "w = [4 5 6]\n",
      "32\n",
      "[1 4 9]\n"
     ]
    }
   ],
   "source": [
    "import numpy as np\n",
    "\n",
    "# scalar\n",
    "s = 12.0\n",
    "\n",
    "# vectors\n",
    "v = np.array([1, 2, 3])\n",
    "w = np.array([4, 5, 6])\n",
    "\n",
    "print(\"v =\", v)\n",
    "print(\"w =\", w)\n",
    "print(\"vnp.dot(v, w))\n",
    "print(v * v)"
   ]
  },
  {
   "cell_type": "markdown",
   "id": "0d331290-32d0-4ad8-a0f3-3dda5af0d90a",
   "metadata": {},
   "source": [
    "### Scalar mulitplication"
   ]
  },
  {
   "cell_type": "code",
   "execution_count": 5,
   "id": "ccdf8b77-b79c-434b-b203-0064fec28026",
   "metadata": {},
   "outputs": [
    {
     "name": "stdout",
     "output_type": "stream",
     "text": [
      "[12. 48. 60.]\n"
     ]
    }
   ],
   "source": [
    "s = 12.0\n",
    "print(s * v)"
   ]
  },
  {
   "cell_type": "markdown",
   "id": "39c17ae7-eaa0-4a45-b66a-694fe6dcff74",
   "metadata": {},
   "source": [
    "### Matrix operations"
   ]
  },
  {
   "cell_type": "code",
   "execution_count": 7,
   "id": "0d0469dd-5e3a-41d4-8b60-e723b385128a",
   "metadata": {},
   "outputs": [
    {
     "name": "stdout",
     "output_type": "stream",
     "text": [
      "[[1. 2. 3.]\n",
      " [4. 5. 6.]\n",
      " [7. 8. 9.]]\n",
      "[[1. 4. 7.]\n",
      " [2. 5. 8.]\n",
      " [3. 6. 9.]]\n"
     ]
    }
   ],
   "source": [
    "A = np.array([\n",
    "    [1.0, 2.0, 3.0],\n",
    "    [4.0, 5.0, 6.0],\n",
    "    [7.0, 8.0, 9.0]\n",
    "])\n",
    "\n",
    "print(A)\n",
    "\n",
    "print(A.T)\n"
   ]
  },
  {
   "cell_type": "code",
   "execution_count": 8,
   "id": "f0749a09-47bc-4746-9d64-9c646009804d",
   "metadata": {},
   "outputs": [
    {
     "name": "stdout",
     "output_type": "stream",
     "text": [
      "[24. 54. 84.]\n"
     ]
    }
   ],
   "source": [
    "print(np.dot(A, v))"
   ]
  },
  {
   "cell_type": "markdown",
   "id": "2580262e-9b54-4a0c-ba87-8b57f1f92784",
   "metadata": {},
   "source": [
    "## Pyomo"
   ]
  },
  {
   "cell_type": "code",
   "execution_count": 22,
   "id": "45050b86-a248-446d-bb65-703ea256e98c",
   "metadata": {},
   "outputs": [
    {
     "ename": "TypeError",
     "evalue": "'_generic_component_decorator' object is not subscriptable",
     "output_type": "error",
     "traceback": [
      "\u001b[0;31m---------------------------------------------------------------------------\u001b[0m",
      "\u001b[0;31mTypeError\u001b[0m                                 Traceback (most recent call last)",
      "Input \u001b[0;32mIn [22]\u001b[0m, in \u001b[0;36m<cell line: 6>\u001b[0;34m()\u001b[0m\n\u001b[1;32m      3\u001b[0m m \u001b[38;5;241m=\u001b[39m pyo\u001b[38;5;241m.\u001b[39mConcreteModel()\n\u001b[1;32m      5\u001b[0m m\u001b[38;5;241m.\u001b[39mx \u001b[38;5;241m=\u001b[39m m\u001b[38;5;241m.\u001b[39mVar(\u001b[38;5;241m3\u001b[39m)\n\u001b[0;32m----> 6\u001b[0m m\u001b[38;5;241m.\u001b[39my \u001b[38;5;241m=\u001b[39m \u001b[38;5;28;43msum\u001b[39;49m\u001b[43m(\u001b[49m\u001b[43mv\u001b[49m\u001b[43m[\u001b[49m\u001b[43mj\u001b[49m\u001b[43m]\u001b[49m\u001b[43m \u001b[49m\u001b[38;5;241;43m*\u001b[39;49m\u001b[43m \u001b[49m\u001b[43mm\u001b[49m\u001b[38;5;241;43m.\u001b[39;49m\u001b[43mx\u001b[49m\u001b[43m[\u001b[49m\u001b[43mj\u001b[49m\u001b[43m]\u001b[49m\u001b[43m \u001b[49m\u001b[38;5;28;43;01mfor\u001b[39;49;00m\u001b[43m \u001b[49m\u001b[43mj\u001b[49m\u001b[43m \u001b[49m\u001b[38;5;129;43;01min\u001b[39;49;00m\u001b[43m \u001b[49m\u001b[38;5;28;43mrange\u001b[39;49m\u001b[43m(\u001b[49m\u001b[38;5;241;43m3\u001b[39;49m\u001b[43m)\u001b[49m\u001b[43m)\u001b[49m\n",
      "Input \u001b[0;32mIn [22]\u001b[0m, in \u001b[0;36m<genexpr>\u001b[0;34m(.0)\u001b[0m\n\u001b[1;32m      3\u001b[0m m \u001b[38;5;241m=\u001b[39m pyo\u001b[38;5;241m.\u001b[39mConcreteModel()\n\u001b[1;32m      5\u001b[0m m\u001b[38;5;241m.\u001b[39mx \u001b[38;5;241m=\u001b[39m m\u001b[38;5;241m.\u001b[39mVar(\u001b[38;5;241m3\u001b[39m)\n\u001b[0;32m----> 6\u001b[0m m\u001b[38;5;241m.\u001b[39my \u001b[38;5;241m=\u001b[39m \u001b[38;5;28msum\u001b[39m(v[j] \u001b[38;5;241m*\u001b[39m \u001b[43mm\u001b[49m\u001b[38;5;241;43m.\u001b[39;49m\u001b[43mx\u001b[49m\u001b[43m[\u001b[49m\u001b[43mj\u001b[49m\u001b[43m]\u001b[49m \u001b[38;5;28;01mfor\u001b[39;00m j \u001b[38;5;129;01min\u001b[39;00m \u001b[38;5;28mrange\u001b[39m(\u001b[38;5;241m3\u001b[39m))\n",
      "\u001b[0;31mTypeError\u001b[0m: '_generic_component_decorator' object is not subscriptable"
     ]
    }
   ],
   "source": [
    "import pyomo.environ as pyo\n",
    "\n",
    "m = pyo.ConcreteModel()\n",
    "\n",
    "m.x = m.Var(3)\n",
    "m.y = sum(v[j] * m.x[j] for j in range(3))"
   ]
  },
  {
   "cell_type": "code",
   "execution_count": null,
   "id": "ad1f4a45-61a5-4bc4-8660-28249c8403fb",
   "metadata": {},
   "outputs": [],
   "source": []
  }
 ],
 "metadata": {
  "kernelspec": {
   "display_name": "Python 3 (ipykernel)",
   "language": "python",
   "name": "python3"
  },
  "language_info": {
   "codemirror_mode": {
    "name": "ipython",
    "version": 3
   },
   "file_extension": ".py",
   "mimetype": "text/x-python",
   "name": "python",
   "nbconvert_exporter": "python",
   "pygments_lexer": "ipython3",
   "version": "3.9.7"
  }
 },
 "nbformat": 4,
 "nbformat_minor": 5
}
