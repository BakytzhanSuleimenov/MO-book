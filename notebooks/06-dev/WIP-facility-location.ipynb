{
 "cells": [
  {
   "cell_type": "markdown",
   "id": "edd4c534-29b6-4873-951e-7fe734fdaa8f",
   "metadata": {},
   "source": [
    "# Locating Service Facilities in an Urban Grid\n",
    "\n",
    "Concept:\n",
    "\n",
    "* Describe the classic facility location problem with using a 2-norm measure of Euclidean distances and the SOCP formulation.\n",
    "* Reset the problem in the context of a city grid with a 1-norm measure of distances.\n",
    "* Formulate the problem as linear program.\n",
    "* Formulate the problem with conic constraints\n",
    "\n",
    "$$\n",
    "\\sum_{i=1}^n (|x - x_i| + |y - y_i|)\n",
    "$$\n",
    "\n",
    "becomes\n",
    "\n",
    "$$\\sum_{i=1}^n (u_i + v_i)$$\n",
    "\n",
    "where\n",
    "\n",
    "$$\n",
    "\\begin{align*}\n",
    "\\|x - x_i\\|_2 & \\leq u_i \\\\\n",
    "\\|y - y_i\\|_2 & \\leq v_i \\\\\n",
    "\\end{align*}\n",
    "$$\n",
    "\n",
    "The `pyomo.kernel` implementation would create variables for each customer location, and two conic constraints.  Could consider creating a class object corresponding to each customer facility"
   ]
  },
  {
   "cell_type": "code",
   "execution_count": null,
   "id": "bbc3aaf3-fedb-425c-808b-d64247a19989",
   "metadata": {},
   "outputs": [],
   "source": []
  }
 ],
 "metadata": {
  "kernelspec": {
   "display_name": "Python 3 (ipykernel)",
   "language": "python",
   "name": "python3"
  },
  "language_info": {
   "codemirror_mode": {
    "name": "ipython",
    "version": 3
   },
   "file_extension": ".py",
   "mimetype": "text/x-python",
   "name": "python",
   "nbconvert_exporter": "python",
   "pygments_lexer": "ipython3",
   "version": "3.9.7"
  }
 },
 "nbformat": 4,
 "nbformat_minor": 5
}
