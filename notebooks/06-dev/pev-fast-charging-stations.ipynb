{
 "cells": [
  {
   "cell_type": "markdown",
   "id": "d78f5366-338e-4a27-848a-ef1463f0092a",
   "metadata": {},
   "source": [
    "# Battery Charging"
   ]
  },
  {
   "cell_type": "markdown",
   "id": "e8ae4037-9956-4037-9347-7cde9ce0ad5d",
   "metadata": {},
   "source": [
    "## Bibliographic notes\n",
    "\n",
    ">Zhang, H., Moura, S. J., Hu, Z., Qi, W., & Song, Y. (2017). A second-order cone programming model for planning PEV fast-charging stations. IEEE Transactions on power Systems, 33(3), 2763-2777. https://ieeexplore.ieee.org/iel7/59/4374138/08047328.pdf\n",
    "\n",
    ">Morstyn, T., Crozier, C., Deakin, M., & McCulloch, M. D. (2020). Conic optimization for electric vehicle station smart charging with battery voltage constraints. IEEE Transactions on Transportation Electrification, 6(2), 478-487. https://ieeexplore.ieee.org/iel7/6687316/7098407/09060993.pdf"
   ]
  },
  {
   "cell_type": "code",
   "execution_count": null,
   "id": "12e68522-cdcf-496b-8462-02e427a01a97",
   "metadata": {},
   "outputs": [],
   "source": []
  }
 ],
 "metadata": {
  "kernelspec": {
   "display_name": "Python 3 (ipykernel)",
   "language": "python",
   "name": "python3"
  },
  "language_info": {
   "codemirror_mode": {
    "name": "ipython",
    "version": 3
   },
   "file_extension": ".py",
   "mimetype": "text/x-python",
   "name": "python",
   "nbconvert_exporter": "python",
   "pygments_lexer": "ipython3",
   "version": "3.9.7"
  }
 },
 "nbformat": 4,
 "nbformat_minor": 5
}
