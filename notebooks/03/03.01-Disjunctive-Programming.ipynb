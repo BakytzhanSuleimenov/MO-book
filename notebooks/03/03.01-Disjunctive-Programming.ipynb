{
 "cells": [
  {
   "cell_type": "markdown",
   "metadata": {
    "id": "LRtLKOk7Z1XH"
   },
   "source": [
    "# Disjunctive Programming\n",
    "\n",
    "TODO: Rewrite following new style guide\n",
    "\n",
    "TODO: MS ... contrast bigm vs gdp"
   ]
  },
  {
   "cell_type": "markdown",
   "metadata": {},
   "source": [
    "## Logical Relationships\n",
    "\n",
    "MIT OpenCourseWare example: https://ocw.mit.edu/courses/sloan-school-of-management/15-053-optimization-methods-in-management-science-spring-2013/tutorials/MIT15_053S13_tut09.pdf\n",
    "\n",
    "K\n",
    "\n",
    "\n",
    "Example: Assign advertisers to television ad slots\n",
    "\n"
   ]
  },
  {
   "cell_type": "code",
   "execution_count": 4,
   "metadata": {},
   "outputs": [
    {
     "data": {
      "text/plain": [
       "{'Problem': [{'Name': 'unknown', 'Lower bound': 0.0, 'Upper bound': 0.0, 'Number of objectives': 1, 'Number of constraints': 0, 'Number of variables': 0, 'Number of binary variables': 0, 'Number of integer variables': 0, 'Number of continuous variables': 0, 'Number of nonzeros': 0, 'Sense': 1, 'Number of solutions': 1}], 'Solver': [{'Name': 'Gurobi 9.51', 'Status': 'ok', 'Wallclock time': 0.00021505355834960938, 'Termination condition': 'optimal', 'Termination message': 'Model was solved to optimality (subject to tolerances), and an optimal solution is available.'}], 'Solution': [OrderedDict([('number of solutions', 0), ('number of solutions displayed', 0)])]}"
      ]
     },
     "execution_count": 4,
     "metadata": {},
     "output_type": "execute_result"
    }
   ],
   "source": [
    "import pyomo.environ as pyo\n",
    "import pyomo.gdp as gdp\n",
    "\n",
    "m = pyo.ConcreteModel()\n",
    "\n",
    "pyo.TransformationFactory(\"gdp.bigm\").apply_to(m)\n",
    "pyo.SolverFactory(\"gurobi_direct\").solve(m)"
   ]
  },
  {
   "cell_type": "markdown",
   "metadata": {
    "id": "LRtLKOk7Z1XH"
   },
   "source": [
    "Disjunctive programming describes a class of optimization problems that include disjunctive (\"or\") constraints. These are encountered when there is a choice to be made, such as whether to do perform job A before job B on a machine, or use raw supplier X rather than Y in a supply chain, or open a retail store at location A, B, C, or D in a metropolitan area. "
   ]
  },
  {
   "cell_type": "code",
   "execution_count": 261,
   "metadata": {},
   "outputs": [
    {
     "data": {
      "image/png": "[encoded data removed]",
      "text/plain": [
       "<Figure size 864x216 with 1 Axes>"
      ]
     },
     "metadata": {
      "needs_background": "light"
     },
     "output_type": "display_data"
    }
   ],
   "source": [
    "import random\n",
    "import matplotlib.pyplot as plt\n",
    "\n",
    "n_boxes = 10\n",
    "\n",
    "boxes = dict()\n",
    "for n in range(n_boxes):\n",
    "    w = random.randint(10, 30)\n",
    "    h = random.randint(10, 30)\n",
    "    boxes[n] = {\"W\": w, \"H\": h, \"D\": }\n",
    "    \n",
    "print(boxes)\n",
    "\n",
    "fig, ax = plt.subplots(1, 1, figsize=(12, 3))\n",
    "x = 0\n",
    "for box in boxes.keys():\n",
    "    ax.rectangle("
   ]
  },
  {
   "cell_type": "code",
   "execution_count": 260,
   "metadata": {},
   "outputs": [
    {
     "name": "stdout",
     "output_type": "stream",
     "text": [
      "Box   0  Orientation 1.0  Width on Shelf 11.0\n",
      "Box   1  Orientation 3.0  Width on Shelf 18.0\n",
      "Box   2  Orientation 2.0  Width on Shelf 16.0\n",
      "Box   3  Orientation 3.0  Width on Shelf 12.0\n",
      "Box   4  Orientation 1.0  Width on Shelf 24.0\n",
      "Box   5  Orientation 1.0  Width on Shelf 15.0\n",
      "Box   6  Orientation 3.0  Width on Shelf 13.0\n",
      "Box   7  Orientation 2.0  Width on Shelf 16.0\n",
      "Box   8  Orientation 2.0  Width on Shelf 12.0\n",
      "Box   9  Orientation 1.0  Width on Shelf 10.0\n"
     ]
    }
   ],
   "source": [
    "import pyomo.environ as pyo\n",
    "import pyomo.gdp as gdp\n",
    "\n",
    "m = pyo.ConcreteModel()\n",
    "\n",
    "m.BOXES = pyo.Set(initialize=boxes.keys())\n",
    "m.width_on_shelf = pyo.Var(m.BOXES, domain=pyo.NonNegativeReals, bounds=(0, 50))\n",
    "m.orientation = pyo.Var(m.BOXES, domain=pyo.NonNegativeIntegers, bounds=(1, 3))\n",
    "\n",
    "@m.Objective(sense=pyo.minimize)\n",
    "def shelf_width(m):\n",
    "    return sum(m.width_on_shelf[box] for box in m.BOXES)\n",
    "\n",
    "@m.Disjunction(m.BOXES, xor=True)\n",
    "def orient_box(m, box):\n",
    "    return [[m.orientation[box]==1, \n",
    "             m.width_on_shelf[box]==boxes[box][\"W\"]],\n",
    "            \n",
    "            [m.orientation[box]==2,\n",
    "             m.width_on_shelf[box]==boxes[box][\"H\"]],\n",
    "            \n",
    "             [m.orientation[box]==3,\n",
    "             m.width_on_shelf[box]==boxes[box][\"D\"]],\n",
    "           ]\n",
    "\n",
    "pyo.TransformationFactory(\"gdp.bigm\").apply_to(m)\n",
    "pyo.SolverFactory(\"cbc\").solve(m)\n",
    "\n",
    "for box in m.BOXES:\n",
    "    print(f\"Box {box:3d}  Orientation {m.orientation[box]()}  Width on Shelf {m.width_on_shelf[box]():4.1f}\")"
   ]
  },
  {
   "cell_type": "markdown",
   "metadata": {},
   "source": [
    "Suppose we have a set of items to deliver to customer that need to bo packaged into boxes for express shipping. Express shipping requires each package to weigh less than 30 kg. \n",
    "\n"
   ]
  },
  {
   "cell_type": "code",
   "execution_count": 241,
   "metadata": {},
   "outputs": [
    {
     "name": "stdout",
     "output_type": "stream",
     "text": [
      "\n",
      "Packing list for Box 1\n",
      "    Item A: 12.00 kg\n",
      "    Item B:  8.00 kg\n",
      "    Item D: 10.00 kg\n",
      "     TOTAL: 30.00 kg\n",
      "\n",
      "Packing list for Box 2\n",
      "    Item B:  8.00 kg\n",
      "    Item C: 20.00 kg\n",
      "     TOTAL: 28.00 kg\n",
      "\n",
      "Packing list for Box 3\n",
      "    Item E: 25.00 kg\n",
      "     TOTAL: 25.00 kg\n"
     ]
    }
   ],
   "source": [
    "import pyomo.environ as pyo\n",
    "import pyomo.gdp as gdp\n",
    "\n",
    "# data dictionary\n",
    "weights = {\"A\": 12, \"B\": 8, \"C\": 20, \"D\": 10, \"E\": 25}\n",
    "\n",
    "m = pyo.ConcreteModel()\n",
    "\n",
    "m.BOXES = pyo.RangeSet(3)\n",
    "m.ITEMS = pyo.Set(initialize=weights.keys())\n",
    "\n",
    "m.assign = pyo.Var(m.ITEMS, m.BOXES, domain=pyo.Binary)\n",
    "m.use_box = pyo.Var(m.BOXES, domain=pyo.Binary)\n",
    "\n",
    "@m.Disjunction(m.ITEMS, xor=True)\n",
    "def assign_item_to_one_box(model, item):\n",
    "    return [[m.assign[item, box] == 1, m.use_box[box] == 1] for box in m.BOXES]\n",
    "\n",
    "@m.Disjunction(m.BOXES, xor=True)\n",
    "def assign_all_items(model, box):\n",
    "    return [m.assign[item, box] == 1 for item in m.ITEMS]\n",
    "\n",
    "@m.Constraint(m.BOXES)\n",
    "def weight_limit(model, box):\n",
    "    return sum(m.assign[item, box]*weights[item] for item in m.ITEMS) <= 30\n",
    "\n",
    "pyo.TransformationFactory(\"gdp.hull\").apply_to(m)\n",
    "\n",
    "pyo.SolverFactory('gurobi_direct').solve(m)\n",
    "\n",
    "for box in m.BOXES:\n",
    "    print(f\"\\nPacking list for Box {box}\")\n",
    "    for item in m.ITEMS:\n",
    "        if m.assign[item, box]():\n",
    "            print(f\"    Item {item}: {weights[item]:5.2f} kg\")\n",
    "    print(f\"     TOTAL: {m.weight_limit[box]():5.2f} kg\")"
   ]
  },
  {
   "cell_type": "markdown",
   "metadata": {},
   "source": [
    "## Logical"
   ]
  },
  {
   "cell_type": "code",
   "execution_count": null,
   "metadata": {},
   "outputs": [],
   "source": [
    "import pyomo.environ as pyo\n",
    "import pyomo.gdp as gdp\n",
    "\n",
    "m = pyo.ConcreteModel()\n",
    "\n",
    "m.x = pyo.Var(bounds=(0, 1000))\n",
    "m.y = pyo.Var(bounds=(0, 1000))\n",
    "\n"
   ]
  },
  {
   "cell_type": "markdown",
   "metadata": {
    "id": "-XCVZJk2__cT"
   },
   "source": [
    "## Installations and imports"
   ]
  },
  {
   "cell_type": "code",
   "execution_count": null,
   "metadata": {
    "id": "v_-eaAb3Z0np"
   },
   "outputs": [],
   "source": [
    "import pyomo.environ as pyo\n",
    "import pyomo.gdp as gdp\n",
    "import pandas as pd"
   ]
  },
  {
   "cell_type": "markdown",
   "metadata": {
    "id": "0AFDvlnda6br"
   },
   "source": [
    "## Problem statement\n",
    "\n"
   ]
  },
  {
   "cell_type": "markdown",
   "metadata": {
    "id": "eApCyKRVAPy0"
   },
   "source": [
    "### Component data"
   ]
  },
  {
   "cell_type": "code",
   "execution_count": 8,
   "metadata": {
    "colab": {
     "base_uri": "https://localhost:8080/",
     "height": 142
    },
    "executionInfo": {
     "elapsed": 648,
     "status": "ok",
     "timestamp": 1603203431565,
     "user": {
      "displayName": "Jeffrey Kantor",
      "photoUrl": "https://lh3.googleusercontent.com/a-/AOh14Gg_n8V7bVINy02QRuRgOoMo11Ri7NKU3OUKdC1bkQ=s64",
      "userId": "09038942003589296665"
     },
     "user_tz": 240
    },
    "id": "YQXecWx9ZwRp",
    "outputId": "6ea35497-ac06-480c-d0bd-71611bc78f7f"
   },
   "outputs": [
    {
     "data": {
      "text/html": [
       "<div>\n",
       "<style scoped>\n",
       "    .dataframe tbody tr th:only-of-type {\n",
       "        vertical-align: middle;\n",
       "    }\n",
       "\n",
       "    .dataframe tbody tr th {\n",
       "        vertical-align: top;\n",
       "    }\n",
       "\n",
       "    .dataframe thead th {\n",
       "        text-align: right;\n",
       "    }\n",
       "</style>\n",
       "<table border=\"1\" class=\"dataframe\">\n",
       "  <thead>\n",
       "    <tr style=\"text-align: right;\">\n",
       "      <th></th>\n",
       "      <th>cost</th>\n",
       "      <th>Vit A</th>\n",
       "      <th>Vit B</th>\n",
       "    </tr>\n",
       "  </thead>\n",
       "  <tbody>\n",
       "    <tr>\n",
       "      <th>A</th>\n",
       "      <td>2.0</td>\n",
       "      <td>0.5</td>\n",
       "      <td>0.2</td>\n",
       "    </tr>\n",
       "    <tr>\n",
       "      <th>B</th>\n",
       "      <td>2.0</td>\n",
       "      <td>0.4</td>\n",
       "      <td>0.1</td>\n",
       "    </tr>\n",
       "    <tr>\n",
       "      <th>C</th>\n",
       "      <td>5.0</td>\n",
       "      <td>0.3</td>\n",
       "      <td>0.3</td>\n",
       "    </tr>\n",
       "  </tbody>\n",
       "</table>\n",
       "</div>"
      ],
      "text/plain": [
       "   cost  Vit A  Vit B\n",
       "A   2.0    0.5    0.2\n",
       "B   2.0    0.4    0.1\n",
       "C   5.0    0.3    0.3"
      ]
     },
     "execution_count": 8,
     "metadata": {},
     "output_type": "execute_result"
    }
   ],
   "source": [
    "# load data as dictionary of components\n",
    "# component data consists of cost and composition \n",
    "comp_data = {\n",
    "    \"A\": {\"cost\": 2.0, \"Vit A\": 0.5, \"Vit B\": 0.2},\n",
    "    \"B\": {\"cost\": 2.0, \"Vit A\": 0.4, \"Vit B\": 0.1},\n",
    "    \"C\": {\"cost\": 5.0, \"Vit A\": 0.3, \"Vit B\": 0.3},\n",
    "}\n",
    "\n",
    "# use pandas to create a nice display\n",
    "pd.DataFrame.from_dict(comp_data, orient='index')"
   ]
  },
  {
   "cell_type": "markdown",
   "metadata": {
    "id": "6uQWK9n4a933"
   },
   "source": [
    "### Product Composition Requirements\n",
    "\n",
    "Find the lowest cost blend\n",
    "\n",
    "* Vit A: less than 0.4\n",
    "* Vit B: greater than 0.2\n",
    "\n",
    "Your code should be able to accept alternative specification for data and product requirements.\n"
   ]
  },
  {
   "cell_type": "code",
   "execution_count": 9,
   "metadata": {
    "colab": {
     "base_uri": "https://localhost:8080/",
     "height": 111
    },
    "executionInfo": {
     "elapsed": 293,
     "status": "ok",
     "timestamp": 1603203434898,
     "user": {
      "displayName": "Jeffrey Kantor",
      "photoUrl": "https://lh3.googleusercontent.com/a-/AOh14Gg_n8V7bVINy02QRuRgOoMo11Ri7NKU3OUKdC1bkQ=s64",
      "userId": "09038942003589296665"
     },
     "user_tz": 240
    },
    "id": "kaiRnfEQdJm1",
    "outputId": "28b73323-e120-4e70-e976-8884b0e195b1"
   },
   "outputs": [
    {
     "data": {
      "text/html": [
       "<div>\n",
       "<style scoped>\n",
       "    .dataframe tbody tr th:only-of-type {\n",
       "        vertical-align: middle;\n",
       "    }\n",
       "\n",
       "    .dataframe tbody tr th {\n",
       "        vertical-align: top;\n",
       "    }\n",
       "\n",
       "    .dataframe thead th {\n",
       "        text-align: right;\n",
       "    }\n",
       "</style>\n",
       "<table border=\"1\" class=\"dataframe\">\n",
       "  <thead>\n",
       "    <tr style=\"text-align: right;\">\n",
       "      <th></th>\n",
       "      <th>lb</th>\n",
       "      <th>ub</th>\n",
       "    </tr>\n",
       "  </thead>\n",
       "  <tbody>\n",
       "    <tr>\n",
       "      <th>Vit A</th>\n",
       "      <td>0.0</td>\n",
       "      <td>0.4</td>\n",
       "    </tr>\n",
       "    <tr>\n",
       "      <th>Vit B</th>\n",
       "      <td>0.2</td>\n",
       "      <td>1.0</td>\n",
       "    </tr>\n",
       "  </tbody>\n",
       "</table>\n",
       "</div>"
      ],
      "text/plain": [
       "        lb   ub\n",
       "Vit A  0.0  0.4\n",
       "Vit B  0.2  1.0"
      ]
     },
     "execution_count": 9,
     "metadata": {},
     "output_type": "execute_result"
    }
   ],
   "source": [
    "prod_req = {\n",
    "    \"Vit A\": {\"lb\": 0.0, \"ub\": 0.4},\n",
    "    \"Vit B\": {\"lb\": 0.2, \"ub\": 1.0},\n",
    "}\n",
    "pd.DataFrame.from_dict(prod_req, orient='index')"
   ]
  },
  {
   "cell_type": "markdown",
   "metadata": {
    "id": "w0MKxgb0cKtx"
   },
   "source": [
    "### Component Compatibility\n",
    "\n",
    "For this application, we consider an additional type of constraint specifying the incompatability of certain blends of components. For example, suppose we have a constraint:\n",
    "\n",
    "* A and B cannot be mixed together in the final product\n",
    "\n",
    "The constraint is specified by creating a list of incompatabile pairs."
   ]
  },
  {
   "cell_type": "code",
   "execution_count": 10,
   "metadata": {
    "id": "YA1C87la47CS"
   },
   "outputs": [],
   "source": [
    "excl_pairs = [(\"A\", \"B\")]"
   ]
  },
  {
   "cell_type": "markdown",
   "metadata": {
    "id": "O1yHzjPYUAaD"
   },
   "source": [
    "## Version 0: Neglecting the compatibility requirments"
   ]
  },
  {
   "cell_type": "code",
   "execution_count": 15,
   "metadata": {
    "colab": {
     "base_uri": "https://localhost:8080/",
     "height": 68
    },
    "executionInfo": {
     "elapsed": 288,
     "status": "ok",
     "timestamp": 1603203567142,
     "user": {
      "displayName": "Jeffrey Kantor",
      "photoUrl": "https://lh3.googleusercontent.com/a-/AOh14Gg_n8V7bVINy02QRuRgOoMo11Ri7NKU3OUKdC1bkQ=s64",
      "userId": "09038942003589296665"
     },
     "user_tz": 240
    },
    "id": "Enqmwye9TzVB",
    "outputId": "1dd776c2-2b1b-4009-a24c-e7e0dc25e842"
   },
   "outputs": [
    {
     "name": "stdout",
     "output_type": "stream",
     "text": [
      "A = 0.33333333\n",
      "B = 0.33333333\n",
      "C = 0.33333333\n"
     ]
    }
   ],
   "source": [
    "m = pyo.ConcreteModel()\n",
    "\n",
    "# define sets that will be used to index decision variables and constraints\n",
    "\n",
    "m.COMPONENTS = pyo.Set(initialize=comp_data.keys())\n",
    "m.REQUIREMENTS = pyo.Set(initialize=prod_req.keys())\n",
    "\n",
    "# decision variables\n",
    "m.x = pyo.Var(m.COMPONENTS, domain=pyo.NonNegativeReals)\n",
    "\n",
    "@m.Objective(sense=pyo.minimize)\n",
    "def cost(m):\n",
    "    return sum(m.x[c]*comp_data[c][\"cost\"] for c in m.COMPONENTS)\n",
    "\n",
    "@m.Constraint(m.COMPONENTS)\n",
    "def mass_fraction(m, c):\n",
    "    return sum(m.x[c] for c in m.COMPONENTS)==1)\n",
    "\n",
    "# com\n",
    "m.lb = pyo.Constraint(m.req, rule=lambda m, r: sum(m.x[c]*comp_data[c][r] for c in m.comp) >= prod_req[r][\"lb\"])\n",
    "m.ub = pyo.Constraint(m.req, rule=lambda m, r: sum(m.x[c]*comp_data[c][r] for c in m.comp) <= prod_req[r][\"ub\"])\n",
    "\n",
    "solver = pyo.SolverFactory('cbc')\n",
    "solver.solve(m)\n",
    "\n",
    "for c in m.comp:\n",
    "    print(f\"{c} = {m.x[c]()}\")"
   ]
  },
  {
   "cell_type": "markdown",
   "metadata": {
    "id": "byX-oOwvc5cg"
   },
   "source": [
    "## Version 1: Including compatibility requirements with Big-M\n",
    "\n",
    "The challenge of this problem are the disjunctive constraints associated with the component incompatability data. Here we associated a boolean variable for each pair, then use the boolean variable to determine which member of the pair to keep in the blend."
   ]
  },
  {
   "cell_type": "code",
   "execution_count": null,
   "metadata": {
    "colab": {
     "base_uri": "https://localhost:8080/",
     "height": 68
    },
    "executionInfo": {
     "elapsed": 498,
     "status": "ok",
     "timestamp": 1603203949801,
     "user": {
      "displayName": "Jeffrey Kantor",
      "photoUrl": "https://lh3.googleusercontent.com/a-/AOh14Gg_n8V7bVINy02QRuRgOoMo11Ri7NKU3OUKdC1bkQ=s64",
      "userId": "09038942003589296665"
     },
     "user_tz": 240
    },
    "id": "Pb1QoE0dZ4LO",
    "outputId": "b9183569-eaec-4544-c98e-52130a6a34a7"
   },
   "outputs": [
    {
     "name": "stdout",
     "output_type": "stream",
     "text": [
      "A = 0.0\n",
      "B = 0.5\n",
      "C = 0.5\n"
     ]
    }
   ],
   "source": [
    "m = ConcreteModel()\n",
    "\n",
    "# define sets that will be used to index decision variables and constraints\n",
    "# remember to use initialize keyword\n",
    "m.comp = Set(initialize=comp_data.keys())\n",
    "m.req = Set(initialize=prod_req.keys())\n",
    "\n",
    "# define a set to that includes the excluded pairs\n",
    "m.pairs = Set(initialize=excl_pairs)\n",
    "\n",
    "# decision variables\n",
    "m.x = Var(m.comp, domain=NonNegativeReals)\n",
    "\n",
    "# for each excluded pair, create a boolean variable. The value of the boolean\n",
    "# variable will determine which member of the pair is allowed in the product\n",
    "m.y = Var(m.pairs, domain=Boolean)\n",
    "\n",
    "# objective function\n",
    "m.cost = Objective(expr=sum(m.x[c]*comp_data[c][\"cost\"] for c in m.comp), sense=minimize)\n",
    "\n",
    "# structural constraints\n",
    "m.massfraction = Constraint(expr=sum(m.x[c] for c in m.comp)==1)\n",
    "\n",
    "# composition constraints\n",
    "m.lb = Constraint(m.req, rule=lambda m, r: sum(m.x[c]*comp_data[c][r] for c in m.comp) >= prod_req[r][\"lb\"])\n",
    "m.ub = Constraint(m.req, rule=lambda m, r: sum(m.x[c]*comp_data[c][r] for c in m.comp) <= prod_req[r][\"ub\"])\n",
    "\n",
    "# component incompatability constraints\n",
    "M = 100\n",
    "m.disj = ConstraintList()\n",
    "for pair in m.pairs:\n",
    "    a, b = pair\n",
    "    m.disj.add(m.x[a] <= M*m.y[pair])\n",
    "    m.disj.add(m.x[b] <= M*(1-m.y[pair]))\n",
    "\n",
    "solver = SolverFactory('cbc')\n",
    "solver.solve(m)\n",
    "\n",
    "for c in m.comp:\n",
    "    print(f\"{c} = {m.x[c]()}\")\n"
   ]
  },
  {
   "cell_type": "markdown",
   "metadata": {
    "id": "lXTRureoeN8-"
   },
   "source": [
    "## Version 2. Disjunctive Constraints"
   ]
  },
  {
   "cell_type": "code",
   "execution_count": null,
   "metadata": {
    "colab": {
     "base_uri": "https://localhost:8080/",
     "height": 68
    },
    "executionInfo": {
     "elapsed": 335,
     "status": "ok",
     "timestamp": 1603204548854,
     "user": {
      "displayName": "Jeffrey Kantor",
      "photoUrl": "https://lh3.googleusercontent.com/a-/AOh14Gg_n8V7bVINy02QRuRgOoMo11Ri7NKU3OUKdC1bkQ=s64",
      "userId": "09038942003589296665"
     },
     "user_tz": 240
    },
    "id": "QqrlorbPw3Yw",
    "outputId": "c8ed97b4-6d5c-415e-f7e5-fe3d4f391627"
   },
   "outputs": [
    {
     "name": "stdout",
     "output_type": "stream",
     "text": [
      "A = 0.0\n",
      "B = 0.5\n",
      "C = 0.5\n"
     ]
    }
   ],
   "source": [
    "m = ConcreteModel()\n",
    "\n",
    "# define sets that will be used to index decision variables and constraints\n",
    "# remember to use initialize keyword\n",
    "m.comp = Set(initialize=comp_data.keys())\n",
    "m.req = Set(initialize=prod_req.keys())\n",
    "\n",
    "# define a set to that includes the excluded pairs\n",
    "m.pairs = Set(initialize=excl_pairs)\n",
    "\n",
    "# decision variables\n",
    "m.x = Var(m.comp, domain=NonNegativeReals, bounds=(0, 1))\n",
    "\n",
    "# objective function\n",
    "m.cost = Objective(expr=sum(m.x[c]*comp_data[c][\"cost\"] for c in m.comp), sense=minimize)\n",
    "\n",
    "# structural constraints\n",
    "m.massfraction = Constraint(expr=sum(m.x[c] for c in m.comp)==1)\n",
    "\n",
    "# composition constraints\n",
    "m.lb = Constraint(m.req, rule=lambda m, r: sum(m.x[c]*comp_data[c][r] for c in m.comp) >= prod_req[r][\"lb\"])\n",
    "m.ub = Constraint(m.req, rule=lambda m, r: sum(m.x[c]*comp_data[c][r] for c in m.comp) <= prod_req[r][\"ub\"])\n",
    "\n",
    "# component incompatability constraints\n",
    "m.disj = Disjunction(m.pairs, rule=lambda m, a, b: [m.x[a] == 0, m.x[b] == 0])\n",
    "\n",
    "# apply transformations\n",
    "TransformationFactory('gdp.hull').apply_to(m)\n",
    "\n",
    "# solve\n",
    "solver = SolverFactory('cbc')\n",
    "solver.solve(m)\n",
    "\n",
    "for c in m.comp:\n",
    "    print(f\"{c} = {m.x[c]()}\")\n"
   ]
  },
  {
   "cell_type": "markdown",
   "metadata": {
    "id": "Sbpc_IPaC_5X"
   },
   "source": [
    "## Analysis "
   ]
  },
  {
   "cell_type": "code",
   "execution_count": null,
   "metadata": {
    "id": "keeCKOCDDnIV"
   },
   "outputs": [],
   "source": [
    "comp_data = {\n",
    "    \"A\": {\"cost\": 2.0, \"Vit A\": 0.5, \"Vit B\": 0.2},\n",
    "    \"B\": {\"cost\": 2.0, \"Vit A\": 0.4, \"Vit B\": 0.1},\n",
    "    \"C\": {\"cost\": 4.0, \"Vit A\": 0.3, \"Vit B\": 0.3},\n",
    "}\n",
    "\n",
    "prod_req = {\n",
    "    \"Vit A\": {\"lb\": 0.0, \"ub\": 0.4},\n",
    "    \"Vit B\": {\"lb\": 0.2, \"ub\": 1.0},\n",
    "}\n",
    "\n",
    "excl_pairs = [(\"A\", \"B\")]"
   ]
  },
  {
   "cell_type": "markdown",
   "metadata": {
    "id": "tBg0H7vFEPXK"
   },
   "source": [
    "\\begin{align*}\n",
    "x_A + x_B + x_C & = 1 \\\\\n",
    "0.5 x_A + 0.4 x_B + 0.3 x_C & \\leq 0.4 \\\\\n",
    "0.2 x_A + 0.1 x_B + 0.3 x_C & \\geq 0.2 \\\\\n",
    "\\end{align*}\n",
    "\n",
    "Solving for x_C\n",
    "\n",
    "\\begin{align*}\n",
    "x_C & = 1 - x_A - x_B\n",
    "\\end{align*}\n",
    "\n",
    "Substitution\n",
    "\n",
    "\\begin{align*}\n",
    "0.2 x_A + 0.1 x_B & \\leq 0.1 \\\\\n",
    "-0.1 x_A - 0.2 x_B & \\geq -0.1 \\\\\n",
    "\\end{align*}\n"
   ]
  },
  {
   "cell_type": "code",
   "execution_count": 1,
   "metadata": {
    "id": "iiyVCd3Pzik9"
   },
   "outputs": [
    {
     "ename": "NameError",
     "evalue": "name 'TransformationFactory' is not defined",
     "output_type": "error",
     "traceback": [
      "\u001b[0;31m---------------------------------------------------------------------------\u001b[0m",
      "\u001b[0;31mNameError\u001b[0m                                 Traceback (most recent call last)",
      "\u001b[0;32m<ipython-input-1-fbbae9bab80d>\u001b[0m in \u001b[0;36m<module>\u001b[0;34m\u001b[0m\n\u001b[0;32m----> 1\u001b[0;31m \u001b[0mTransformationFactory\u001b[0m\u001b[0;34m\u001b[0m\u001b[0;34m\u001b[0m\u001b[0m\n\u001b[0m",
      "\u001b[0;31mNameError\u001b[0m: name 'TransformationFactory' is not defined"
     ]
    }
   ],
   "source": [
    "TransformationFactory"
   ]
  },
  {
   "cell_type": "code",
   "execution_count": null,
   "metadata": {},
   "outputs": [],
   "source": []
  }
 ],
 "metadata": {
  "colab": {
   "collapsed_sections": [],
   "name": "Introduction-to-Disjunctive-Programming.ipynb",
   "provenance": [],
   "toc_visible": true
  },
  "kernelspec": {
   "display_name": "Python 3 (ipykernel)",
   "language": "python",
   "name": "python3"
  },
  "language_info": {
   "codemirror_mode": {
    "name": "ipython",
    "version": 3
   },
   "file_extension": ".py",
   "mimetype": "text/x-python",
   "name": "python",
   "nbconvert_exporter": "python",
   "pygments_lexer": "ipython3",
   "version": "3.9.7"
  }
 },
 "nbformat": 4,
 "nbformat_minor": 4
}
