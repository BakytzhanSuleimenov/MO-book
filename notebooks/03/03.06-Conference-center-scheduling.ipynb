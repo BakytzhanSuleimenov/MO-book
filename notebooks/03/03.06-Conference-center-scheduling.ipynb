{
 "cells": [
  {
   "cell_type": "markdown",
   "metadata": {},
   "source": [
    "## Application: Scheduling a Conference Center Hotel"
   ]
  },
  {
   "cell_type": "code",
   "execution_count": 4,
   "metadata": {},
   "outputs": [],
   "source": [
    "import pyomo.environ as pyo\n",
    "\n",
    "model = pyo.ConcreteModel()\n",
    "\n",
    "model.cars = \n",
    "\n",
    "model.x = pyo.Var(domain=pyo.NonNegativeReals)\n",
    "model.y = pyo.Var(domain=pyo.NonNegativeReals)\n",
    "\n",
    "@model.Constraint()\n",
    "def demand_constraint(model):\n",
    "  return model.x + model.y <= 40\n",
    "\n",
    "@model.Objective()\n",
    "def profit(model):\n",
    "  return 3*model.x + 4*model.y\n",
    "\n",
    "\n",
    "\n"
   ]
  },
  {
   "cell_type": "code",
   "execution_count": 5,
   "metadata": {},
   "outputs": [
    {
     "ename": "SyntaxError",
     "evalue": "invalid syntax (3104869001.py, line 5)",
     "output_type": "error",
     "traceback": [
      "\u001b[0;36m  File \u001b[0;32m\"/var/folders/cm/z3t28j296f98jdp1vqyplkz00000gn/T/ipykernel_25076/3104869001.py\"\u001b[0;36m, line \u001b[0;32m5\u001b[0m\n\u001b[0;31m    model.cars =\u001b[0m\n\u001b[0m                 ^\u001b[0m\n\u001b[0;31mSyntaxError\u001b[0m\u001b[0;31m:\u001b[0m invalid syntax\n"
     ]
    }
   ],
   "source": [
    "import pyomo.environ as pyo\n",
    "\n",
    "model = pyo.ConcreteModel()\n",
    "\n",
    "\n",
    "model.x = pyo.Var(domain=pyo.NonNegativeReals)\n",
    "model.y = pyo.Var(domain=pyo.NonNegativeReals)\n",
    "\n",
    "@model.Constraint()\n",
    "def demand_constraint(model):\n",
    "  return model.x + model.y <= 40\n",
    "\n",
    "@model.Objective()\n",
    "def profit(model):\n",
    "  return 3*model.x + 4*model.y\n"
   ]
  },
  {
   "cell_type": "code",
   "execution_count": null,
   "metadata": {},
   "outputs": [],
   "source": [
    "hotel_capacity = 330\n",
    "minimum_conference_size = 20\n",
    "\n",
    "def generate_conferences"
   ]
  }
 ],
 "metadata": {
  "colab": {
   "collapsed_sections": [],
   "name": "Introduction-to-Disjunctive-Programming.ipynb",
   "provenance": [],
   "toc_visible": true
  },
  "kernelspec": {
   "display_name": "Python 3 (ipykernel)",
   "language": "python",
   "name": "python3"
  },
  "language_info": {
   "codemirror_mode": {
    "name": "ipython",
    "version": 3
   },
   "file_extension": ".py",
   "mimetype": "text/x-python",
   "name": "python",
   "nbconvert_exporter": "python",
   "pygments_lexer": "ipython3",
   "version": "3.9.7"
  }
 },
 "nbformat": 4,
 "nbformat_minor": 4
}
