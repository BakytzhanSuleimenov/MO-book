{
 "cells": [
  {
   "cell_type": "markdown",
   "id": "cf9db689-23e6-4d6d-8dd3-68149c42301c",
   "metadata": {},
   "source": [
    "# Production Model with Disjunctions\n",
    "\n",
    "Disjunctions appear in applications where there is choice among discrete alternatives. Given two logical propositions $\\alpha$ and $\\beta$, the \"or\" disjunction is denoted by $\\vee$ and defined by the truth table\n",
    "\n",
    "| $\\alpha$ | $\\beta$ | $\\alpha \\vee \\beta$ |\n",
    "| :-: | :-: | :-: |\n",
    "| False | False | False |\n",
    "| True | False | True |\n",
    "| False | True | True |\n",
    "| True | True | True |\n",
    "\n",
    "The \"exclusive or\" is denoted by $\\veebar$ and defined by the truth table\n",
    "\n",
    "| $\\alpha$ | $\\beta$ | $\\alpha \\veebar \\beta$ |\n",
    "| :-: | :-: | :-: |\n",
    "| False | False | False |\n",
    "| True | False | True |\n",
    "| False | True | True |\n",
    "| True | True | False |\n",
    "\n",
    "This notebook shows how to express disjunctions in Pyomo models using  the Generalized Disjunctive Programming (GDP) extension for a simple production model.\n"
   ]
  },
  {
   "cell_type": "markdown",
   "id": "c1e98d83-34eb-45a4-a6e6-5eb733f80fcc",
   "metadata": {
    "tags": []
   },
   "source": [
    "## Production Model\n",
    "\n",
    "A small production facility produces two products, $X$ and $Y$. With current technology $\\alpha$, the facility is subject to under the following conditions and constraints:\n",
    "\n",
    "* Product $X$ requires 1 hour of labor A, 2 hours of labor B, and \\\\$100 of raw material. Product $X$ sells for \\\\$270 per unit. The daily demand is limited to 40 units.\n",
    "\n",
    "* Product $Y$ requires 1 hour of labor A, 1 hour of labor B, and \\\\$90 of raw material. Product $Y$ sells for \\\\$210 per unit with unlimited demand. \n",
    "\n",
    "* There are 50 hours per day of labor A available at a cost of \\\\$50/hour.\n",
    "\n",
    "* There are 100 hours per day of labor B available at a cost off \\\\$40/hour.\n",
    "\n",
    "Using the given data we see that net profit for each unit of $X$ and $Y$ is \\\\$40 and \\\\$30, respectively. The optimal product strategy is the solution to a linear program\n",
    "\n",
    "$$\n",
    "\\begin{align*}\n",
    "\\max_{x, y \\geq 0} &\\quad \\text{profit}\n",
    "\\\\\n",
    "\\text{subject to:}\\qquad\\qquad\n",
    "\\\\\n",
    "\\text{profit} & = 40 x + 30 y \\\\\n",
    "x & \\leq 40 & \\text{Demand}\\\\\n",
    "x + y & \\leq 80 & \\text{Labor A} \\\\\n",
    "2 x + y & \\leq 100 & \\text{Labor B} \\\\\n",
    "\\end{align*}\n",
    "$$\n",
    "\n",
    "Now suppose a new technology $\\beta$ is available that affects that lowers the cost of product $X$. With the new technology, only 1.5 hours of labor B is required per unit of $X$.\n",
    "\n",
    "270 - 100 - 50 - 2*40 = $40\n",
    "\n",
    "270 - 100 - 50 - 1.5*40 = $60"
   ]
  },
  {
   "cell_type": "markdown",
   "id": "91fc1a47-bb93-4f8d-9352-8dcea8415a49",
   "metadata": {},
   "source": [
    "In a machine scheduling problem, for example, the choice may be to start one job (\"A\") either before or after a different job (\"B\"), where $\\tau_A$ and $\\tau_B$ denote the start time of the jobs. Since one or the other of the two constraints must hold, but not both, this situation corresponds to an exclusive-or disjunction of  the two constraints represented as\n",
    "\n",
    "$$ \\underbrace{\\left[\\tau_A \\leq \\tau_B\\right]}_\\alpha \\veebar \\underbrace{\\left[\\tau_A \\geq \\tau_B\\right]}_\\beta$$\n",
    "\n",
    "There are several commonly used techniques for embedding disjunctions into mixed-integer linear programs. The \"big-M\" technique introduces a binary decision variable for every exclusive-or disjunction between two constraints. In this case, let\n",
    "\n",
    "\n",
    "\n",
    "The notebook presents a very simple production model where there is a choice between a baasi"
   ]
  },
  {
   "cell_type": "code",
   "execution_count": 1,
   "id": "57201ece-5aad-4a81-864a-9d29f3482885",
   "metadata": {},
   "outputs": [
    {
     "name": "stdout",
     "output_type": "stream",
     "text": [
      "pyomo was previously installed\n",
      "cbc was previously installed\n"
     ]
    },
    {
     "data": {
      "text/plain": [
       "True"
      ]
     },
     "execution_count": 1,
     "metadata": {},
     "output_type": "execute_result"
    }
   ],
   "source": [
    "# install Pyomo and solvers\n",
    "import requests\n",
    "import types\n",
    "\n",
    "url = \"https://raw.githubusercontent.com/mobook/MO-book/main/python/helper.py\"\n",
    "helper = types.ModuleType(\"helper\")\n",
    "exec(requests.get(url).content, helper.__dict__)\n",
    "\n",
    "helper.install_pyomo()\n",
    "helper.install_cbc()"
   ]
  },
  {
   "cell_type": "code",
   "execution_count": 2,
   "id": "0291f0fe-a9f6-4427-900a-70bd0e5ac916",
   "metadata": {},
   "outputs": [
    {
     "name": "stdout",
     "output_type": "stream",
     "text": [
      "Profit = 2600.0\n",
      "Production X = 20.0\n",
      "Production Y = 60.0\n"
     ]
    }
   ],
   "source": [
    "import pyomo.environ as pyo\n",
    "\n",
    "model = pyo.ConcreteModel(\"Multi-Product Plant\")\n",
    "\n",
    "# decision variables\n",
    "model.profit = pyo.Var()\n",
    "model.production_x = pyo.Var(domain=pyo.NonNegativeReals)\n",
    "model.production_y = pyo.Var(domain=pyo.NonNegativeReals)\n",
    "\n",
    "# profit objective\n",
    "@model.Objective(sense=pyo.maximize)\n",
    "def maximize_profit(model):\n",
    "    return  model.profit\n",
    "\n",
    "# constraints\n",
    "@model.Constraint()\n",
    "def profit_expr(model):\n",
    "    return model.profit == 40*model.production_x + 30*model.production_y\n",
    "\n",
    "@model.Constraint()\n",
    "def demand(model):\n",
    "    return model.production_x <= 40\n",
    "\n",
    "@model.Constraint()\n",
    "def laborA(model):\n",
    "    return model.production_x + model.production_y <= 80\n",
    "\n",
    "@model.Constraint()\n",
    "def laborB(model):\n",
    "    return 2*model.production_x + model.production_y <= 100\n",
    "\n",
    "# solve\n",
    "pyo.SolverFactory('cbc').solve(model)\n",
    "\n",
    "print(f\"Profit = {model.profit()}\")\n",
    "print(f\"Production X = {model.production_x()}\")\n",
    "print(f\"Production Y = {model.production_y()}\")"
   ]
  },
  {
   "cell_type": "markdown",
   "id": "31dfdc49-c671-4cf6-966e-74985de748e1",
   "metadata": {},
   "source": [
    "## Would a new technology improve profit?\n",
    "\n",
    "Labor B is a relatively high cost for the production of product X.  A new technology has been developed with the potential to lower cost by reducing the time required to finish product X to 1.5 hours, but require a more highly skilled labor type C at a unit cost of $60 per hour. Would \n",
    "\n",
    "\n",
    "$$\n",
    "\\begin{align*}\n",
    "\\max_{x, y \\geq 0} &\\quad \\text{profit}\\\\\n",
    "\\\\\n",
    "\\text{subject to:}\\qquad\\qquad\n",
    "\\\\\n",
    "x & \\leq 40 & \\text{Demand}\\\\\n",
    "x + y & \\leq 80 & \\text{Labor A} \\\\\n",
    "\\\\\n",
    "\\begin{bmatrix}\n",
    "\\text{profit} = 40x + 30y\\\\\n",
    "2 x + y \\leq 100\n",
    "\\end{bmatrix}\n",
    "& \\veebar\n",
    "\\begin{bmatrix}\n",
    "\\text{profit} = 60x + 30y\\\\\n",
    "1.5 x + y \\leq 100\n",
    "\\end{bmatrix}\n",
    "\\end{align*}\n",
    "$$"
   ]
  },
  {
   "cell_type": "code",
   "execution_count": 3,
   "id": "34c8ab74-219a-4fcd-9914-1cc861db20f7",
   "metadata": {},
   "outputs": [
    {
     "name": "stdout",
     "output_type": "stream",
     "text": [
      "Profit = 3600.0\n",
      "Production X = 40.0\n",
      "Production Y = 40.0\n"
     ]
    }
   ],
   "source": [
    "import pyomo.environ as pyo\n",
    "import pyomo.gdp as gdp\n",
    "\n",
    "model = pyo.ConcreteModel(\"Multi-Product Plant\")\n",
    "\n",
    "# decision variables\n",
    "model.profit = pyo.Var(bounds=(-10000, 10000))\n",
    "model.production_x = pyo.Var(domain=pyo.NonNegativeReals, bounds=(0, 200))\n",
    "model.production_y = pyo.Var(domain=pyo.NonNegativeReals, bounds=(0, 200))\n",
    "\n",
    "# profit objective\n",
    "@model.Objective(sense=pyo.maximize)\n",
    "def maximize_profit(model):\n",
    "    return  model.profit\n",
    "\n",
    "@model.Constraint()\n",
    "def demand(model):\n",
    "    return model.production_x <= 40\n",
    "\n",
    "@model.Constraint()\n",
    "def laborA(model):\n",
    "    return model.production_x + model.production_y <= 80\n",
    "\n",
    "@model.Disjunct()\n",
    "def technology_A(disjunct):\n",
    "    model = disjunct.model()\n",
    "    disjunct.laborB = \\\n",
    "        pyo.Constraint(expr = 2*model.production_x + model.production_y <= 100)\n",
    "    disjunct.profit_expr = \\\n",
    "        pyo.Constraint(expr = model.profit == 40*model.production_x + 30*model.production_y)\n",
    "\n",
    "@model.Disjunct()\n",
    "def technology_B(disjunct):\n",
    "    model = disjunct.model()\n",
    "    disjunct.laborB = \\\n",
    "        pyo.Constraint(expr = 1.5*model.production_x + model.production_y <= 100)\n",
    "    disjunct.profit_expr = \\\n",
    "        pyo.Constraint(expr = model.profit == 60*model.production_x + 30*model.production_y)\n",
    "\n",
    "@model.Disjunction(xor=True)\n",
    "def technology(model):\n",
    "    return [model.technology_A, model.technology_B]\n",
    "\n",
    "# solve\n",
    "pyo.TransformationFactory(\"gdp.bigm\").apply_to(model)\n",
    "pyo.SolverFactory('cbc').solve(model)\n",
    "\n",
    "print(f\"Profit = {model.profit()}\")\n",
    "print(f\"Production X = {model.production_x()}\")\n",
    "print(f\"Production Y = {model.production_y()}\")"
   ]
  },
  {
   "cell_type": "code",
   "execution_count": 4,
   "id": "7e0dcacb-16d3-4031-99b0-e10c7b68050e",
   "metadata": {},
   "outputs": [
    {
     "name": "stdout",
     "output_type": "stream",
     "text": [
      "Profit = 3600.0\n",
      "x = 40.0\n",
      "y = 40.0\n"
     ]
    }
   ],
   "source": [
    "model = pyo.ConcreteModel()\n",
    "          \n",
    "model.profit = pyo.Var(bounds=(-1000, 10000))\n",
    "model.x = pyo.Var(domain=pyo.NonNegativeReals, bounds=(0, 1000))\n",
    "model.y = pyo.Var(domain=pyo.NonNegativeReals, bounds=(0, 1000))\n",
    "\n",
    "@model.Objective(sense=pyo.maximize)\n",
    "def maximize_profit(model):\n",
    "    return model.profit\n",
    "\n",
    "@model.Constraint()\n",
    "def demand(model):\n",
    "    return model.x <= 40\n",
    "\n",
    "@model.Constraint()\n",
    "def laborA(model):\n",
    "    return model.x + model.y <= 80\n",
    "\n",
    "@model.Disjunction(xor=True)\n",
    "def technologies(model):\n",
    "    return [[model.profit == 40*model.x + 30*model.y,\n",
    "             2*model.x + model.y <= 100],\n",
    "            \n",
    "            [model.profit == 60*model.x + 30*model.y,\n",
    "             1.5*model.x + model.y <= 100]]\n",
    "            \n",
    "\n",
    "pyo.TransformationFactory(\"gdp.bigm\").apply_to(model)\n",
    "pyo.SolverFactory('cbc').solve(model)\n",
    "\n",
    "print(f\"Profit = {model.profit()}\")\n",
    "print(f\"x = {model.x()}\")\n",
    "print(f\"y = {model.y()}\")"
   ]
  },
  {
   "cell_type": "code",
   "execution_count": null,
   "id": "8bffbd40-1aa1-4f46-925f-246886542836",
   "metadata": {},
   "outputs": [],
   "source": []
  }
 ],
 "metadata": {
  "kernelspec": {
   "display_name": "Python 3 (ipykernel)",
   "language": "python",
   "name": "python3"
  },
  "language_info": {
   "codemirror_mode": {
    "name": "ipython",
    "version": 3
   },
   "file_extension": ".py",
   "mimetype": "text/x-python",
   "name": "python",
   "nbconvert_exporter": "python",
   "pygments_lexer": "ipython3",
   "version": "3.9.7"
  }
 },
 "nbformat": 4,
 "nbformat_minor": 5
}
