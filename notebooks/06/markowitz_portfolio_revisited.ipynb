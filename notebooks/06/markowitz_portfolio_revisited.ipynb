{
 "cells": [
  {
   "cell_type": "markdown",
   "id": "6b0b3c2f-3aaa-43fe-a8d0-2b696df5c1a6",
   "metadata": {
    "tags": []
   },
   "source": [
    "```{index} single: application; portfolio\n",
    "```\n",
    "```{index} single: application; investment\n",
    "```\n",
    "```{index} single: solver; cplex\n",
    "```\n",
    "\n",
    "# Markowitz portfolio optimization"
   ]
  },
  {
   "cell_type": "code",
   "execution_count": 2,
   "id": "5da22c67-5c34-4c3a-90a4-61222899e855",
   "metadata": {
    "execution": {
     "iopub.execute_input": "2023-01-18T22:16:56.661025Z",
     "iopub.status.busy": "2023-01-18T22:16:56.660691Z",
     "iopub.status.idle": "2023-01-18T22:16:56.956615Z",
     "shell.execute_reply": "2023-01-18T22:16:56.955853Z",
     "shell.execute_reply.started": "2023-01-18T22:16:56.661001Z"
    },
    "tags": []
   },
   "outputs": [
    {
     "name": "stdout",
     "output_type": "stream",
     "text": [
      "pyomo was previously installed\n",
      "cplex was previously installed\n"
     ]
    }
   ],
   "source": [
    "# install Pyomo and solvers\n",
    "import requests\n",
    "import types\n",
    "\n",
    "url = \"https://raw.githubusercontent.com/mobook/MO-book/main/python/helper.py\"\n",
    "helper = types.ModuleType(\"helper\")\n",
    "exec(requests.get(url).content, helper.__dict__)\n",
    "\n",
    "helper.install_pyomo()\n",
    "helper.install_cplex()"
   ]
  },
  {
   "cell_type": "code",
   "execution_count": 21,
   "id": "b13edf26",
   "metadata": {
    "execution": {
     "iopub.execute_input": "2023-01-18T22:22:06.873542Z",
     "iopub.status.busy": "2023-01-18T22:22:06.872775Z",
     "iopub.status.idle": "2023-01-18T22:22:06.878186Z",
     "shell.execute_reply": "2023-01-18T22:22:06.876979Z",
     "shell.execute_reply.started": "2023-01-18T22:22:06.873513Z"
    },
    "tags": []
   },
   "outputs": [],
   "source": [
    "from IPython.display import Markdown, HTML\n",
    "import numpy as np\n",
    "import pyomo.environ as pyo\n",
    "import matplotlib.pyplot as plt"
   ]
  },
  {
   "cell_type": "markdown",
   "id": "a82bd88d-7b16-4c82-b0b7-5dbd0d81b71c",
   "metadata": {
    "tags": []
   },
   "source": [
    "## Problem description and model formulation\n",
    "\n",
    "Consider again the [Markowitz portfolio optimization](../05/markowitz_portfolio.py) we presented earlier in Chapter 5. Recall that the matrix $\\Sigma$ describes the covariance among the uncertain return rates $r_i$, $i=1,\\dots, n$. Since $\\Sigma$ is positive semidefinite by definition, it allows for a Cholesky factorization, namely $\\Sigma = B B^\\top$. We can then rewrite the quadratic constraint as $\\|B^\\top x \\|_2 \\leq \\gamma$ and thus as $(\\gamma, B^\\top x) \\in \\mathcal{L}^{n+1}$ using the Lorentz cone. In this way, we realize that the original portfolio problem we formulated in~\\eqref{eq:portfolio} is in fact a conic quadratic optimization problem, which can thus be solved faster and more reliably.\n",
    "\n",
    "The optimal solution of this problem is the one with the maximum expected return while allowing for a specific level $\\gamma$ of risk. However, an investor could aim for a different trade-off between return and risk and formulate a slightly different optimization problem, namely\n",
    "\n",
    "$$\n",
    "\\begin{align*}\n",
    "    \\max \\quad  &  R \\tilde{x} + \\mu^\\top x - \\alpha x^\\top \\Sigma x \\\\\n",
    "    \\text{s.t.}\\quad\n",
    "    & \\sum_{i=1}^n x_i + \\tilde{x}  = C  \\\\\n",
    "    & \\tilde x \\geq 0\\\\\n",
    "    & x_i \\geq 0 & \\forall \\, i=1,\\dots,n. \n",
    "\\end{align*}\n",
    "$$\n",
    "\n",
    "where $\\alpha \\geq 0$ is a *risk tolerance* parameter that describes the relative importance of return vs. risk for the investor.\n",
    "\n",
    "The risk, quantified by the variance of the investment return $x^\\top \\Sigma x = x^\\top B^\\top B x$, appears now in the objective function as a penalty term. Note that even in this new formulation we have a conic problem since we can rewrite it as\n",
    "\n",
    "$$\n",
    "\\begin{align*}\n",
    "    \\max \\quad  &  R \\tilde{x} + \\mu^\\top x - \\alpha s \\\\\n",
    "    \\text{s.t.}\\quad\n",
    "    & \\sum_{i=1}^n x_i + \\tilde{x}  = C  \\\\\n",
    "    & \\| B^\\top x\\|^2_2 \\leq s \\\\\n",
    "    & \\tilde x \\geq 0 \\\\\n",
    "    & s \\geq 0\\\\\n",
    "    & x_i \\geq 0 & \\forall \\, i=1,\\dots,n. \n",
    "\\end{align*}\n",
    "$$\n",
    "\n",
    "Solving for all values of $\\alpha \\geq 0$, one can obtain the so-called **efficient frontier**."
   ]
  },
  {
   "cell_type": "code",
   "execution_count": 54,
   "id": "0e194e8d",
   "metadata": {
    "execution": {
     "iopub.execute_input": "2023-01-18T22:31:28.169732Z",
     "iopub.status.busy": "2023-01-18T22:31:28.168903Z",
     "iopub.status.idle": "2023-01-18T22:31:28.207999Z",
     "shell.execute_reply": "2023-01-18T22:31:28.207122Z",
     "shell.execute_reply.started": "2023-01-18T22:31:28.169698Z"
    },
    "tags": []
   },
   "outputs": [
    {
     "data": {
      "text/markdown": [
       "**Solver status:** *ok, optimal*"
      ],
      "text/plain": [
       "<IPython.core.display.Markdown object>"
      ]
     },
     "metadata": {},
     "output_type": "display_data"
    },
    {
     "data": {
      "text/markdown": [
       "**Solution:** $\\tilde x = 0.000$, $x_1 = 0.667$,  $x_2 = 0.150$,  $x_3 = 0.183$"
      ],
      "text/plain": [
       "<IPython.core.display.Markdown object>"
      ]
     },
     "metadata": {},
     "output_type": "display_data"
    },
    {
     "data": {
      "text/markdown": [
       "**Maximizes objective value to:** $1.02$"
      ],
      "text/plain": [
       "<IPython.core.display.Markdown object>"
      ]
     },
     "metadata": {},
     "output_type": "display_data"
    }
   ],
   "source": [
    "# Specify the initial capital, the risk tolerance, and the guaranteed return rate. \n",
    "C = 1\n",
    "alpha = 0.15\n",
    "R = 1.02\n",
    "\n",
    "# Specify the number of assets, their expected return, and their covariance matrix.\n",
    "n = 3\n",
    "mu = np.array([1.2, 1.1, 1.3])\n",
    "Sigma = np.array([[1.5, 0.5, 2], [0.5, 2, 0], [2, 0, 5]])\n",
    "\n",
    "# If you want to change the covariance matrix Sigma, ensure you input a semi-definite positive one.\n",
    "# The easiest way to generate a random covariance matrix is first generating a random m x m matrix A \n",
    "# and then taking the matrix A^T A (which is always semi-definite positive)\n",
    "# m = 3\n",
    "# A = np.random.rand(m, m)\n",
    "# Sigma = A.T @ A\n",
    "\n",
    "def markowitz_revisited(alpha, mu, Sigma):\n",
    "    \n",
    "    model = pyo.ConcreteModel(\"Markowitz portfolio optimization revisited\")\n",
    "\n",
    "    model.xtilde = pyo.Var(domain=pyo.NonNegativeReals)\n",
    "    model.x = pyo.Var(range(n), domain=pyo.NonNegativeReals)\n",
    "    model.s = pyo.Var(domain=pyo.NonNegativeReals)\n",
    "\n",
    "    @model.Objective(sense=pyo.maximize)\n",
    "    def objective(m):\n",
    "        return mu @ m.x + R * m.xtilde - alpha*m.s\n",
    "\n",
    "    @model.Constraint()\n",
    "    def bounded_variance(m):\n",
    "        return (m.x @ (Sigma @ m.x)) <= m.s**2\n",
    "\n",
    "    @model.Constraint()\n",
    "    def total_assets(m):\n",
    "        return sum(m.x[i] for i in range(n)) + m.xtilde == C\n",
    "\n",
    "    result = pyo.SolverFactory(\"cplex_direct\").solve(model)\n",
    "    \n",
    "    return result, model\n",
    "\n",
    "result, model = markowitz_revisited(alpha, mu, Sigma)\n",
    "\n",
    "display(Markdown(f\"**Solver status:** *{result.solver.status}, {result.solver.termination_condition}*\"))\n",
    "display(Markdown(f\"**Solution:** $\\\\tilde x = {model.xtilde.value:.3f}$, $x_1 = {model.x[0].value:.3f}$,  $x_2 = {model.x[1].value:.3f}$,  $x_3 = {model.x[2].value:.3f}$\"))\n",
    "display(Markdown(f\"**Maximizes objective value to:** ${model.objective():.2f}$\"))"
   ]
  },
  {
   "cell_type": "code",
   "execution_count": 43,
   "id": "9a2b00d7-433a-46c8-a4b6-c451244c9b0f",
   "metadata": {
    "execution": {
     "iopub.execute_input": "2023-01-18T22:30:13.633788Z",
     "iopub.status.busy": "2023-01-18T22:30:13.633370Z",
     "iopub.status.idle": "2023-01-18T22:30:14.322211Z",
     "shell.execute_reply": "2023-01-18T22:30:14.321352Z",
     "shell.execute_reply.started": "2023-01-18T22:30:13.633754Z"
    },
    "tags": []
   },
   "outputs": [
    {
     "data": {
      "image/png": "[encoded data removed]",
      "text/plain": [
       "<Figure size 640x480 with 1 Axes>"
      ]
     },
     "metadata": {},
     "output_type": "display_data"
    }
   ],
   "source": [
    "alpha_values = [0.005, 0.01, 0.02, 0.03, 0.04, 0.05, 0.06, 0.07, 0.08, 0.09, 0.1, 0.11, 0.12, 0.13, 0.14, 0.15, 0.16, 0.17, 0.18, 0.19, 0.20, 0.25, 0.5]\n",
    "objective = []\n",
    "\n",
    "for alpha in alpha_values:\n",
    "    _, model = markowitz_revisited(alpha, mu, Sigma)\n",
    "    objective.append(round(model.objective(),3))\n",
    "    \n",
    "plt.plot(alpha_values, objective)\n",
    "plt.xlabel(r'Risk tolerance $\\alpha$')\n",
    "plt.ylabel('Optimal objective value')\n",
    "plt.show()"
   ]
  }
 ],
 "metadata": {
  "kernelspec": {
   "display_name": "Python 3 (ipykernel)",
   "language": "python",
   "name": "python3"
  },
  "language_info": {
   "codemirror_mode": {
    "name": "ipython",
    "version": 3
   },
   "file_extension": ".py",
   "mimetype": "text/x-python",
   "name": "python",
   "nbconvert_exporter": "python",
   "pygments_lexer": "ipython3",
   "version": "3.10.6"
  },
  "varInspector": {
   "cols": {
    "lenName": 16,
    "lenType": 16,
    "lenVar": 40
   },
   "kernels_config": {
    "python": {
     "delete_cmd_postfix": "",
     "delete_cmd_prefix": "del ",
     "library": "var_list.py",
     "varRefreshCmd": "print(var_dic_list())"
    },
    "r": {
     "delete_cmd_postfix": ") ",
     "delete_cmd_prefix": "rm(",
     "library": "var_list.r",
     "varRefreshCmd": "cat(var_dic_list()) "
    }
   },
   "types_to_exclude": [
    "module",
    "function",
    "builtin_function_or_method",
    "instance",
    "_Feature"
   ],
   "window_display": false
  }
 },
 "nbformat": 4,
 "nbformat_minor": 5
}
