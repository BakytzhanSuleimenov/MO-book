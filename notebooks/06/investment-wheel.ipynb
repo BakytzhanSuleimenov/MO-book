{
 "cells": [
  {
   "cell_type": "markdown",
   "metadata": {
    "id": "dhj50n2iVNjE"
   },
   "source": [
    "# Luenberger's Investment Wheel"
   ]
  },
  {
   "cell_type": "code",
   "execution_count": 3,
   "metadata": {},
   "outputs": [
    {
     "name": "stdout",
     "output_type": "stream",
     "text": [
      "pyomo was previously installed\n",
      "mosek was previously installed\n"
     ]
    }
   ],
   "source": [
    "# install Pyomo and solvers\n",
    "import requests\n",
    "import types\n",
    "\n",
    "url = \"https://raw.githubusercontent.com/mobook/MO-book/main/python/helper.py\"\n",
    "helper = types.ModuleType(\"helper\")\n",
    "exec(requests.get(url).content, helper.__dict__)\n",
    "\n",
    "helper.install_pyomo()\n",
    "helper.install_mosek()"
   ]
  },
  {
   "cell_type": "markdown",
   "metadata": {
    "id": "WD8sbJJ4VSbY"
   },
   "source": [
    "## Problem statement\n",
    "\n",
    "David Luenberger presents an \"investment wheel\" in Chapter 18 of his book *Investment Science*. The wheel is divided into sectors, each marked with a number. An investor places wagers on one or more sectors before spinning the wheel.  When the wheel stops, the investor receives a payout equal to the wager times the number appearing next to the marker. The wagers on all other sectors are lost. The game is repeated indefinitely.\n",
    "\n",
    "![](investment-wheel.png)\n",
    "\n",
    "Given an initial wealth $W_0$, what is your investing strategy for repeated plays of the game?\n",
    "\n",
    "* Is there an investing strategy that almost surely grows? \n",
    "* What is the mean return for each spin of the wheel?"
   ]
  },
  {
   "cell_type": "code",
   "execution_count": 2,
   "metadata": {},
   "outputs": [],
   "source": [
    "# specify the investment wheel\n",
    "wheel = {\n",
    "    \"A\": {\"p\": 1/2, \"b\": 3},\n",
    "    \"B\": {\"p\": 1/3, \"b\": 2},\n",
    "    \"C\": {\"p\": 1/6, \"b\": 6},\n",
    "}"
   ]
  },
  {
   "cell_type": "markdown",
   "metadata": {},
   "source": [
    "## Simulation"
   ]
  },
  {
   "cell_type": "code",
   "execution_count": 17,
   "metadata": {},
   "outputs": [
    {
     "data": {
      "application/vnd.jupyter.widget-view+json": {
       "model_id": "3fb2f324f0c94f009850eb00e6eda36b",
       "version_major": 2,
       "version_minor": 0
      },
      "text/plain": [
       "interactive(children=(FloatSlider(value=0.5, description='wA', max=1.0, step=0.01), FloatSlider(value=0.5, des…"
      ]
     },
     "metadata": {},
     "output_type": "display_data"
    }
   ],
   "source": [
    "import numpy as np\n",
    "import matplotlib.pyplot as plt\n",
    "import bisect\n",
    "\n",
    "import ipywidgets as widgets\n",
    "\n",
    "def wheel_sim(w, T,  N):\n",
    "    \n",
    "    keys = list(wheel.keys())\n",
    "    b = {s: sectors[s][\"b\"] for s in keys}\n",
    "    p = {s: sectors[s][\"p\"] for s in keys}\n",
    "    q = np.cumsum(list(p.values()))\n",
    "    \n",
    "    fig, ax = plt.subplots(1, 1, figsize=(8, 3))  \n",
    "    colors = {s: ax.semilogy(0, 1, '.', ms=10)[0].get_color() for s in keys}\n",
    "\n",
    "    sum_logR = 0\n",
    "    N_logR = 0\n",
    "    \n",
    "    # repeat the simulation N times\n",
    "    for j in range(N):\n",
    "        wealth = 1.0\n",
    "        for k in range(T):\n",
    "            \n",
    "            # spin the wheel\n",
    "            spin = np.random.uniform()\n",
    "            sector = keys[bisect.bisect_left(q, spin)\n",
    "                         ]\n",
    "            # compute the return\n",
    "            R = 1 + w[sector] * b[sector] - sum(w[s] for s in sectors)\n",
    "            \n",
    "            ax.semilogy([k, k+1], [wealth, wealth *R], c=colors[sector], alpha=0.4)\n",
    "            ax.semilogy(k+1, wealth * R, '.', ms=4, c=colors[sector], alpha=0.4)\n",
    "            wealth = wealth * R\n",
    "            \n",
    "            sum_logR += np.log(R)\n",
    "            N_logR += 1\n",
    "\n",
    "    ax.set_xlim(0, T)\n",
    "    ax.set_ylim(0.01, 1000.0)\n",
    "    \n",
    "    ElogR = sum_logR/N_logR\n",
    "    ax.plot(np.exp(ElogR*np.linspace(0, T, T+1)), lw=5, alpha=0.5)\n",
    "    ax.set_title(f\"E[log(R)] = {ElogR:0.5f}\")\n",
    "    ax.set_ylabel(\"Wealth\")\n",
    "    ax.set_xlabel(\"Stages\")\n",
    "    ax.grid(True)\n",
    "    \n",
    "@widgets.interact\n",
    "def wheel_interact1(wA=(0.0, 1.0, 0.01), wB=(0.0, 1.0, 0.01), wC=(0.0, 1.0, 0.01)):\n",
    "    w = {\"A\": wA, \"B\": wB, \"C\": wC}\n",
    "    wheel_sim(w, 40, 20)\n"
   ]
  },
  {
   "cell_type": "markdown",
   "metadata": {
    "id": "WD8sbJJ4VSbY"
   },
   "source": [
    "## Modeling\n",
    "\n",
    "The investment wheel is an example of a game with $n=3$ outcomes. For each outcome $n$ there is a payout $b_n$ that occurs with probability $p_n$ as shown in the following table.\n",
    "\n",
    "| Outcome | Probability $p_n$ | Odds $b_n$ |\n",
    "| :--: | :--: | :--: |\n",
    "| A | 1/2 | 3 |\n",
    "| B | 1/3 | 2 |\n",
    "| C | 1/6 | 6 |\n",
    "\n",
    "If a fraction of wealth $w_n$ is wagered on each outcome $n$, then the gross returns are given in the following table.\n",
    "\n",
    "| Outcome | Probability $p_n$ | Gross Returns $R_n$ |\n",
    "| :--: | :--: | :--: |\n",
    "| A | 1/2 | 1 + 2$w_A$ - $w_B$ - $w_C$ |\n",
    "| B | 1/3 | 1 - $w_A$ + $w_B$ - $w_C$ |\n",
    "| C | 1/6 | 1 - $w_A$ - $w_B$ + 5$w_C$ |\n",
    "\n",
    "For a general game with $n$ outcomes,the optimization problem is to maximize expected log return \n",
    "\n",
    "$$\n",
    "\\begin{align}\n",
    "\\max_{w \\geq 0}\\quad & \\sum_{n\\in N} p_n \\log(R_n) \\\\\n",
    "\\text{s.t.}\\quad \\\\\n",
    "& \\sum_{n\\in N} w_n \\leq 1 \\\\\n",
    "& R_n = 1 + b_n w_n - \\sum_{n\\in N} w_n & \\forall n\\in N \\\\\n",
    "\\end{align}\n",
    "$$\n",
    "\n",
    "\n",
    "Reformulation of the objective function with exponential cones gives a conic program.\n",
    "\n",
    "$$\n",
    "\\begin{align}\n",
    "\\max_{w\\geq 0}\\quad & \\sum_{n\\in N} p_n q_n \\\\\n",
    "\\text{s.t.}\\quad \\\\\n",
    "& \\sum_{n\\in N} w_n \\leq 1 \\\\\n",
    "& R_n = 1 + b_n w_n - \\sum_{n\\in N} w_n & \\forall n\\in N \\\\\n",
    "& (R_n, 1, q_n) \\in K_{exp} & \\forall n \\in N \\\\\n",
    "\\end{align}\n",
    "$$\n",
    "\n",
    "The solution of this program is shown below."
   ]
  },
  {
   "cell_type": "code",
   "execution_count": 7,
   "metadata": {},
   "outputs": [
    {
     "name": "stdout",
     "output_type": "stream",
     "text": [
      "Expected Gross Return =  1.06991\n",
      "\n",
      "Sector A:  p = 0.5000   b = 3.00   w = 0.42322\n",
      "Sector B:  p = 0.3333   b = 2.00   w = 0.21814\n",
      "Sector C:  p = 0.1667   b = 6.00   w = 0.12826\n"
     ]
    }
   ],
   "source": [
    "import pyomo.kernel as pmo\n",
    "\n",
    "def wheel(sectors):\n",
    "\n",
    "    m = pmo.block()\n",
    "    \n",
    "    S = sectors.keys()\n",
    "\n",
    "    # decision variables\n",
    "    m.w = pmo.variable_dict({s: pmo.variable(lb=0) for s in S})\n",
    "    m.q = pmo.variable_dict({s: pmo.variable() for s in S})\n",
    "    \n",
    "    # objective\n",
    "    m.ElogR = pmo.objective(sum(sectors[s][\"p\"]*m.q[s] for s in S), sense=pmo.maximize)\n",
    "    \n",
    "    # expression for returns\n",
    "    m.R = pmo.expression_dict({s: pmo.expression(1 + sectors[s][\"b\"]*m.w[s] - sum(m.w[s] for s in S)) for s in S})\n",
    "    \n",
    "    # constraints\n",
    "    m.sum_w = pmo.constraint(sum(m.w[s] for s in S) <= 1)\n",
    "    m.conic = pmo.block_dict({s: pmo.conic.primal_exponential.as_domain(m.R[s], 1, m.q[s]) for s in S})\n",
    "\n",
    "    # solve with 'mosek_direct' (conic) or 'ipopt' (nonlinear)\n",
    "    pmo.SolverFactory('mosek_direct').solve(m)\n",
    "\n",
    "    return m\n",
    "        \n",
    "m = wheel(sectors)\n",
    "\n",
    "print(f\"Expected Gross Return = {np.exp(m.ElogR()): 0.5f}\\n\")\n",
    "for s in sectors.keys():\n",
    "    print(f\"Sector {s}:  p = {sectors[s]['p']:0.4f}   b = {sectors[s]['b']:0.2f}   w = {m.w[s]():0.5f}\")"
   ]
  },
  {
   "cell_type": "markdown",
   "metadata": {},
   "source": [
    "## Adding risk aversion\n",
    "\n",
    "For the risk constrained case, we consider a constraint\n",
    "\n",
    "$$\\mathbb{E}[R^{-\\lambda}] \\leq 1$$\n",
    "\n",
    "where $\\lambda$ is a risk aversion parameter.\n",
    "\n",
    "$$\\sum_{n\\in N} p_n R_n^{-\\lambda} \\leq 1$$\n",
    "\n",
    "Again\n",
    "\n",
    "$$\\sum_{n\\in N} e^{\\log(p_1) - \\lambda\\log(R_1)} \\leq 1$$\n",
    "\n",
    "Introducing $u_n \\geq e^{\\log(p_n) - \\lambda q_n}$ using the $q_n$ defined above, we get\n",
    "\n",
    "$$\n",
    "\\begin{align}\n",
    "\\sum_{n\\in N} u_n & \\leq 1 \\\\\n",
    "(u_n, 1, \\log(p_n) - \\lambda q_n) & \\in K_{exp} & \\forall n\\in N \\\\\n",
    "\\end{align}\n",
    "$$\n",
    "\n",
    "The risk-constrained investment wheel is now\n",
    "\n",
    "\n",
    "$$\n",
    "\\begin{align}\n",
    "\\max_{w\\geq 0}\\quad & \\sum_{n\\in N} p_n q_n \\\\\n",
    "\\text{s.t.}\\quad \\\\\n",
    "& \\sum_{n\\in N} w_n \\leq 1 \\\\\n",
    "&\\sum_{n\\in N} u_n  \\leq 1 \\\\\n",
    "& R_n = 1 + b_n w_n - \\sum_{n\\in N} w_n & \\forall n\\in N \\\\\n",
    "& (R_n, 1, q_n) \\in K_{exp} & \\forall n \\in N \\\\\n",
    "& (u_n, 1, \\log(p_n) - \\lambda q_n) \\in K_{exp} & \\forall n\\in N \\\\\n",
    "\\end{align}\n",
    "$$\n"
   ]
  },
  {
   "cell_type": "code",
   "execution_count": 20,
   "metadata": {},
   "outputs": [
    {
     "name": "stdout",
     "output_type": "stream",
     "text": [
      "Expected Gross Return =  1.06991\n",
      "\n",
      "Sector A:  p = 0.5000   b = 3.00   w = 0.42324\n",
      "Sector B:  p = 0.3333   b = 2.00   w = 0.21818\n",
      "Sector C:  p = 0.1667   b = 6.00   w = 0.12829\n"
     ]
    }
   ],
   "source": [
    "import pyomo.kernel as pmo\n",
    "\n",
    "def wheel_rc(sectors, lambd=0):\n",
    "\n",
    "    m = pmo.block()\n",
    "    \n",
    "    S = sectors.keys()\n",
    "\n",
    "    # decision variables\n",
    "    m.w = pmo.variable_dict({s: pmo.variable(lb=0) for s in S})\n",
    "    m.q = pmo.variable_dict({s: pmo.variable() for s in S})\n",
    "    \n",
    "    # objective\n",
    "    m.ElogR = pmo.objective(sum(sectors[s][\"p\"]*m.q[s] for s in S), sense=pmo.maximize)\n",
    "    \n",
    "    # expression for returns\n",
    "    m.R = pmo.expression_dict({s: pmo.expression(1 + sectors[s][\"b\"]*m.w[s] - sum(m.w[s] for s in S)) for s in S})\n",
    "    \n",
    "    # constraints\n",
    "    m.sum_w = pmo.constraint(sum(m.w[s] for s in S) <= 1)\n",
    "    m.conic = pmo.block_dict({s: pmo.conic.primal_exponential.as_domain(m.R[s], 1, m.q[s]) for s in S})\n",
    "    \n",
    "    # risk constraints\n",
    "    m.u = pmo.variable_dict({s: pmo.variable() for s in S})\n",
    "    m.sum_u = pmo.constraint(sum(m.u[s] for s in S) <= 1)\n",
    "    m.risk =  pmo.block_dict(\n",
    "        {s: pmo.conic.primal_exponential.as_domain(m.u[s], 1, np.log(sectors[s][\"p\"]) - lambd*m.q[s]) for s in S}\n",
    "    )\n",
    "\n",
    "    # solve with 'mosek_direct' (conic) or 'ipopt' (nonlinear)\n",
    "    pmo.SolverFactory('mosek_direct').solve(m)\n",
    "\n",
    "    return m\n",
    "        \n",
    "m = wheel_rc(sectors, 0)\n",
    "\n",
    "print(f\"Expected Gross Return = {np.exp(m.ElogR()): 0.5f}\\n\")\n",
    "for s in sectors.keys():\n",
    "    print(f\"Sector {s}:  p = {sectors[s]['p']:0.4f}   b = {sectors[s]['b']:0.2f}   w = {m.w[s]():0.5f}\")\n",
    "    "
   ]
  },
  {
   "cell_type": "code",
   "execution_count": 21,
   "metadata": {},
   "outputs": [
    {
     "data": {
      "application/vnd.jupyter.widget-view+json": {
       "model_id": "5bfdd870e3d148ffa0369a71025ee113",
       "version_major": 2,
       "version_minor": 0
      },
      "text/plain": [
       "interactive(children=(IntSlider(value=5, description='lambd', max=10), Output()), _dom_classes=('widget-intera…"
      ]
     },
     "metadata": {},
     "output_type": "display_data"
    }
   ],
   "source": [
    "@widgets.interact\n",
    "def wheel_interact2(lambd=(0, 10, 1)):\n",
    "    m = wheel_rc(sectors, lambd)\n",
    "    w = {s: m.w[s]() for s in sectors.keys()}\n",
    "    wheel_sim(w, 40, 20)\n"
   ]
  },
  {
   "cell_type": "markdown",
   "metadata": {},
   "source": [
    "## How does risk aversion change the solution?\n",
    "\n",
    "The following cell demonstrates the effect of increasing the risk aversion parameter $\\lambda$."
   ]
  },
  {
   "cell_type": "code",
   "execution_count": 9,
   "metadata": {},
   "outputs": [
    {
     "data": {
      "image/png": "[encoded data removed]",
      "text/plain": [
       "<Figure size 1000x400 with 2 Axes>"
      ]
     },
     "metadata": {},
     "output_type": "display_data"
    }
   ],
   "source": [
    "import matplotlib.pyplot as plt\n",
    "import numpy as np\n",
    "\n",
    "fig, ax = plt.subplots(2, 1, figsize=(10, 4))\n",
    "\n",
    "v = np.linspace(-1, 5)\n",
    "lambd = np.exp(v)\n",
    "results = [wheel_rsk(sectors, _) for _ in lambd]\n",
    "\n",
    "ax[0].semilogx(lambd, [np.exp(m.ElogR()) for m in results])\n",
    "ax[0].set_title('investment wheel return / spin')\n",
    "ax[0].grid(True)\n",
    "\n",
    "ax[1].semilogx(lambd, [[m.w[s]() for s in sectors.keys()] for m in results])\n",
    "ax[1].set_title('investment weights')\n",
    "ax[1].set_xlabel('risk aversion $\\lambda$')\n",
    "ax[1].legend([f\"(p, b) = ({sectors[s]['p']:0.3f}, {sectors[s]['b']:0.1f})\" for s in sectors.keys()],\n",
    "            bbox_to_anchor=(1.05, 1.05))\n",
    "ax[1].grid(True)\n",
    "ax[1].set_ylim(0, 0.6)\n",
    "\n",
    "fig.tight_layout()"
   ]
  },
  {
   "cell_type": "markdown",
   "metadata": {},
   "source": [
    "## Exercises\n",
    "\n",
    "1. Is there a deterministic investment strategy for the investment wheel?. That is, is there investment strategy that provides a fixed return regardless of the outcome of the spin? Set up and solve a model to find that strategy.\n",
    "\n",
    "2. Find the variance in the outcome of the wheel, and plot the variance as a function of the risk aversion parameter $\\lambda$. What is the relationship of variance and $\\lambda$ in the limit as $\\lambda \\rightarrow 0$? See the paper by Busseti, E., Ryu, E. K., & Boyd, S. (2016) for ideas on how to perform this analysis."
   ]
  },
  {
   "cell_type": "markdown",
   "metadata": {
    "id": "kSUeNxY4VWya"
   },
   "source": [
    "## Bibliographic Notes\n",
    "\n",
    "The Kelly Criterion has been included in many tutorial introductions to finance and probability, and the subject of popular accounts.\n",
    "\n",
    "> Poundstone, W. (2010). Fortune's formula: The untold story of the scientific betting system that beat the casinos and Wall Street. Hill and Wang. https://www.onlinecasinoground.nl/wp-content/uploads/2020/10/Fortunes-Formula-boek-van-William-Poundstone-oa-Kelly-Criterion.pdf\n",
    "\n",
    "> Thorp, E. O. (2017). A man for all markets: From Las Vegas to wall street, how i beat the dealer and the market. Random House.\n",
    "\n",
    "> Thorp, E. O. (2008). The Kelly criterion in blackjack sports betting, and the stock market. In Handbook of asset and liability management (pp. 385-428). North-Holland. https://www.palmislandtraders.com/econ136/thorpe_kelly_crit.pdf\n",
    "\n",
    "> MacLean, L. C., Thorp, E. O., & Ziemba, W. T. (2010). Good and bad properties of the Kelly criterion. Risk, 20(2), 1.  https://www.stat.berkeley.edu/~aldous/157/Papers/Good_Bad_Kelly.pdf\n",
    "\n",
    "> MacLean, L. C., Thorp, E. O., & Ziemba, W. T. (2011). The Kelly capital growth investment criterion: Theory and practice (Vol. 3). world scientific. https://www.worldscientific.com/worldscibooks/10.1142/7598#t=aboutBook\n",
    "\n",
    ">  https://en.wikipedia.org/wiki/Kelly_criterion\n",
    "\n",
    "Luenberger's investment wheel is \n",
    "\n",
    "> Luenberger, D. (2009). Investment science: International edition. OUP Catalogue.  https://global.oup.com/ushe/product/investment-science-9780199740086\n",
    "\n",
    "\n",
    "The utility of conic programming to solve problems involving log growth is more recent. Here are some representative papers.\n",
    "\n",
    "> Cajas, D. (2021). Kelly Portfolio Optimization: A Disciplined Convex Programming Framework. Available at SSRN 3833617. https://papers.ssrn.com/sol3/papers.cfm?abstract_id=3833617\n",
    "\n",
    "> Busseti, E., Ryu, E. K., & Boyd, S. (2016). Risk-constrained Kelly gambling. The Journal of Investing, 25(3), 118-134. https://arxiv.org/pdf/1603.06183.pdf\n",
    "\n",
    "\n",
    "> Fu, A., Narasimhan, B., & Boyd, S. (2017). CVXR: An R package for disciplined convex optimization. arXiv preprint arXiv:1711.07582. https://arxiv.org/abs/1711.07582\n",
    "\n",
    "> Sun, Q., & Boyd, S. (2018). Distributional robust Kelly gambling. arXiv preprint arXiv: 1812.10371. https://web.stanford.edu/~boyd/papers/pdf/robust_kelly.pdf\n",
    "\n",
    "The recent work by CH Hsieh extends these concepts in important ways for real-world implementation.\n",
    "\n",
    "> Hsieh, C. H. (2022). On Solving Robust Log-Optimal Portfolio: A Supporting Hyperplane Approximation Approach. arXiv preprint arXiv:2202.03858. https://arxiv.org/pdf/2202.03858\n"
   ]
  },
  {
   "cell_type": "code",
   "execution_count": null,
   "metadata": {},
   "outputs": [],
   "source": []
  }
 ],
 "metadata": {
  "colab": {
   "authorship_tag": "ABX9TyPhmD90QRW9TniemQWeinpD",
   "provenance": []
  },
  "kernelspec": {
   "display_name": "Python 3 (ipykernel)",
   "language": "python",
   "name": "python3"
  },
  "language_info": {
   "codemirror_mode": {
    "name": "ipython",
    "version": 3
   },
   "file_extension": ".py",
   "mimetype": "text/x-python",
   "name": "python",
   "nbconvert_exporter": "python",
   "pygments_lexer": "ipython3",
   "version": "3.9.7"
  }
 },
 "nbformat": 4,
 "nbformat_minor": 4
}
