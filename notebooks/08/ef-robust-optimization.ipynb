{
 "cells": [
  {
   "cell_type": "markdown",
   "metadata": {
    "id": "TP7ReUS8K3iE"
   },
   "source": [
    "# Companion notebook to EF's training on optimization with data uncertainty\n",
    "\n",
    "Sander Vlot & Joaquim Gromicho, 2021\n",
    "\n",
    "---\n",
    " > During this course we make use of Jupyter notebooks hosted by [Google Colab](https://colab.research.google.com/notebooks/intro.ipynb). \n",
    " The usage of this platform is allowed by ORTEC for **educational and personal experimentation only**. May you consider using it for a project please consult the IT department.\n",
    " Notebooks deployed on `colab` require neither python nor other dependencies to be installed on your own machine, you only need a browser (preferably `chrome`) and you may also need a google account if you want to execute them. \n",
    " \n",
    "---\n",
    "\n",
    "This notebook has been setup for `colab`. Check [the pyomo cookbook](https://jckantor.github.io/ND-Pyomo-Cookbook/) and in particular [the explanation on how to get pyomo and the solvers on colab](https://jckantor.github.io/ND-Pyomo-Cookbook/01.02-Running-Pyomo-on-Google-Colab.html).\n",
    "\n",
    "May you want to use on your own python distribution, then you should care for  the installation of the required packages and subsidiary applications. \n"
   ]
  },
  {
   "cell_type": "code",
   "execution_count": 1,
   "metadata": {
    "id": "69kabDUFLFPt"
   },
   "outputs": [
    {
     "name": "stdout",
     "output_type": "stream",
     "text": [
      "pyomo was previously installed\n",
      "cbc was previously installed\n",
      "ipopt was previously installed\n",
      "gurobi was previously installed\n",
      "Installing xpress via conda ... Collecting package metadata (current_repodata.json): ...working... done\n",
      "Solving environment: ...working... done\n",
      "\n",
      "## Package Plan ##\n",
      "\n",
      "  environment location: /Users/jeff/opt/anaconda3\n",
      "\n",
      "  added / updated specs:\n",
      "    - xpress\n",
      "\n",
      "\n",
      "The following packages will be downloaded:\n",
      "\n",
      "    package                    |            build\n",
      "    ---------------------------|-----------------\n",
      "    ca-certificates-2022.07.19 |       hecd8cb5_0         124 KB\n",
      "    certifi-2022.9.24          |   py39hecd8cb5_0         155 KB\n",
      "    conda-22.9.0               |   py39hecd8cb5_0         884 KB\n",
      "    openssl-1.1.1q             |       hca72f7f_0         2.2 MB\n",
      "    xpress-8.14.2              |           py39_0        44.8 MB  fico-xpress\n",
      "    ------------------------------------------------------------\n",
      "                                           Total:        48.2 MB\n",
      "\n",
      "The following NEW packages will be INSTALLED:\n",
      "\n",
      "  xpress             fico-xpress/osx-64::xpress-8.14.2-py39_0\n",
      "\n",
      "The following packages will be UPDATED:\n",
      "\n",
      "  ca-certificates                      2022.3.29-hecd8cb5_0 --> 2022.07.19-hecd8cb5_0\n",
      "  certifi                          2021.10.8-py39hecd8cb5_2 --> 2022.9.24-py39hecd8cb5_0\n",
      "  conda                               4.12.0-py39hecd8cb5_0 --> 22.9.0-py39hecd8cb5_0\n",
      "  openssl                                 1.1.1n-hca72f7f_0 --> 1.1.1q-hca72f7f_0\n",
      "\n",
      "\n",
      "Proceed ([y]/n)? \n",
      "\n",
      "Downloading and Extracting Packages\n",
      "xpress-8.14.2        | 44.8 MB   | ########## | 100% \n",
      "openssl-1.1.1q       | 2.2 MB    | ########## | 100% \n",
      "ca-certificates-2022 | 124 KB    | ########## | 100% \n",
      "certifi-2022.9.24    | 155 KB    | ########## | 100% \n",
      "conda-22.9.0         | 884 KB    | ########## | 100% \n",
      "Preparing transaction: ...working... done\n",
      "Verifying transaction: ...working... done\n",
      "Executing transaction: ...working... done\n",
      "installation successful\n",
      "cplex was previously installed\n"
     ]
    }
   ],
   "source": [
    "# install Pyomo and solvers\n",
    "import requests\n",
    "import types\n",
    "\n",
    "url = \"https://raw.githubusercontent.com/jckantor/MO-book/main/python/helper.py\"\n",
    "helper = types.ModuleType(\"helper\")\n",
    "exec(requests.get(url).content, helper.__dict__)\n",
    "\n",
    "helper.install_pyomo()\n",
    "helper.install_cbc()\n",
    "helper.install_ipopt()\n",
    "helper.install_gurobi()\n",
    "helper.install_xpress()\n",
    "helper.install_cplex()"
   ]
  },
  {
   "cell_type": "code",
   "execution_count": 2,
   "metadata": {
    "colab": {
     "base_uri": "https://localhost:8080/"
    },
    "executionInfo": {
     "elapsed": 1057,
     "status": "ok",
     "timestamp": 1633441686027,
     "user": {
      "displayName": "Joaquim Gromicho",
      "photoUrl": "https://lh3.googleusercontent.com/a/default-user=s64",
      "userId": "14375950305363805729"
     },
     "user_tz": -120
    },
    "id": "FgKPnbRbK3iF",
    "outputId": "f2ba546d-1f7f-4c0c-902a-cf2b7869643e"
   },
   "outputs": [
    {
     "name": "stdout",
     "output_type": "stream",
     "text": [
      "\n",
      "Pyomo Solvers and Solver Managers\n",
      "---------------------------------\n",
      "Pyomo uses 'solver managers' to execute 'solvers' that perform\n",
      "optimization and other forms of model analysis.  A solver directly\n",
      "executes an optimizer, typically using an executable found on the\n",
      "user's PATH environment.  Solver managers support a flexible mechanism\n",
      "for asyncronously executing solvers either locally or remotely.  The\n",
      "following solver managers are available in Pyomo:\n",
      "\n",
      "    neos       Asynchronously execute solvers on the NEOS server\n",
      "    serial     Synchronously execute solvers locally\n",
      "\n",
      "If no solver manager is specified, Pyomo uses the serial solver\n",
      "manager to execute solvers locally.  The neos solver manager is used\n",
      "to execute solvers on the NEOS optimization server.\n",
      "\n",
      "\n",
      "Serial Solver Interfaces\n",
      "------------------------\n",
      "The serial manager supports the following solver interfaces:\n",
      "\n",
      "CPLEX Error  1016: Community Edition. Problem size limits exceeded. Purchase at http://ibm.biz/error1016.\n",
      "Version identifier: 22.1.0.0 | 2022-03-27 | 54982fbec\n",
      "CPXPARAM_Read_DataCheck                          1\n",
      "Tried aggregator 1 time.\n",
      "LP Presolve eliminated 0 rows and 1 columns.\n",
      "All rows and columns eliminated.\n",
      "Presolve time = 0.00 sec. (0.00 ticks)\n",
      "   +appsi_cbc         2.10.5    Automated persistent interface to Cbc\n",
      "   +appsi_cplex       22.1      Automated persistent interface to\n",
      "                                Cplex\n",
      "    appsi_gurobi                Automated persistent interface to\n",
      "                                Gurobi\n",
      "   +appsi_ipopt       3.13.4    Automated persistent interface to\n",
      "                                Ipopt\n",
      "   *asl                         Interface for solvers using the AMPL\n",
      "                                Solver Library\n",
      "    baron                       The BARON MINLP solver\n",
      "   +cbc               2.10.5    The CBC LP/MIP solver\n",
      "    conopt                      The CONOPT NLP solver\n",
      "    contrib.gjh                 Interface to the AMPL GJH \"solver\"\n",
      "    cplex                       The CPLEX LP/MIP solver\n",
      "   +cplex_direct      22.1      Direct python interface to CPLEX\n",
      "   +cplex_persistent  22.1      Persistent python interface to CPLEX\n",
      "    cyipopt                     Cyipopt: direct python bindings to the\n",
      "                                Ipopt NLP solver\n",
      "    gams                        The GAMS modeling language\n",
      "   +gdpbb             19.5.7    [DEPRECATED] Branch and Bound based\n",
      "                                GDP Solver\n",
      "   +gdpopt            20.2.28   The GDPopt decomposition-based\n",
      "                                Generalized Disjunctive Programming\n",
      "                                (GDP) solver\n",
      "   +glpk              5.0       The GLPK LP/MIP solver\n",
      "   -gurobi            9.5.2     The GUROBI LP/MIP solver\n",
      "    gurobi_direct               Direct python interface to Gurobi\n",
      "    gurobi_persistent           Persistent python interface to Gurobi\n",
      "   +ipopt             3.13.4    The Ipopt NLP solver\n",
      "   +mindtpy           0.1       MindtPy: Mixed-Integer Nonlinear\n",
      "                                Decomposition Toolbox in Pyomo\n",
      "   +mosek             9.3.18    The MOSEK LP/QP/SOCP/MIP solver\n",
      "   +mosek_direct      9.3.18    Direct python interface to MOSEK\n",
      "   +mosek_persistent  9.3.18    Persistent python interface to MOSEK.\n",
      "   +mpec_minlp                  MPEC solver transforms to a MINLP\n",
      "   +mpec_nlp                    MPEC solver that optimizes a nonlinear\n",
      "                                transformation\n",
      "   +multistart                  MultiStart solver for NLPs\n",
      "    path                        Nonlinear MCP solver\n",
      "   *py                          Direct python solver interfaces\n",
      "    scip                        The SCIP LP/MIP solver\n",
      "   +trustregion       0...2...0 Trust region algorithm \"solver\" for\n",
      "                                black box/glass box optimization\n",
      "   +xpress            40.1.3    The XPRESS LP/MIP solver\n",
      "   +xpress_direct     40.1.3    Direct python interface to XPRESS\n",
      "   +xpress_persistent 40.1.3    Persistent python interface to Xpress\n",
      "\n",
      "The leading symbol (one of *, -, +) indicates the current solver\n",
      "availability.  A plus (+) indicates the solver is currently available\n",
      "to be run from Pyomo with the serial solver manager, and (if\n",
      "applicable) has a valid license.  A minus (-) indicates the solver\n",
      "executables are available but do not report having a valid license.\n",
      "The solver may still be usable in an unlicensed or \"demo\" mode for\n",
      "limited problem sizes. An asterisk (*) indicates meta-solvers or\n",
      "generic interfaces, which are always available.\n",
      "\n",
      "Pyomo also supports solver interfaces that are wrappers around third-\n",
      "party solver interfaces. These interfaces require a subsolver\n",
      "specification that indicates the solver being executed.  For example,\n",
      "the following indicates that the ipopt solver will be used:\n",
      "\n",
      "   asl:ipopt\n",
      "\n",
      "The asl interface provides a generic wrapper for all solvers that use\n",
      "the AMPL Solver Library.\n",
      "\n",
      "Note that subsolvers can not be enumerated automatically for these\n",
      "interfaces.  However, if a solver is specified that is not found,\n",
      "Pyomo assumes that the asl solver interface is being used.  Thus the\n",
      "following solver name will launch ipopt if the 'ipopt' executable is\n",
      "on the user's path:\n",
      "\n",
      "   ipopt\n",
      "\n",
      "\n",
      "NEOS Solver Interfaces\n",
      "----------------------\n",
      "The neos solver manager supports solver interfaces that can be\n",
      "executed remotely on the NEOS optimization server.  The following\n",
      "solver interfaces are available with your current system\n",
      "configuration:\n",
      "\n",
      "    bonmin       Heuristic MINLP solver\n",
      "    cbc          MILP solver\n",
      "    conopt       Feasible path NLP solver\n",
      "    couenne      Deterministic global MINLP solver\n",
      "    cplex        MILP solver\n",
      "    filmint      Heuristic MINLP solver\n",
      "    filter       SQP NLP solver\n",
      "    ipopt        Interior point NLP solver\n",
      "    knitro       Convex MINLP solver\n",
      "    l-bfgs-b     Bound-constrained NLP solver\n",
      "    lancelot     Augmented Lagrangian NLP solver\n",
      "    lgo          Lipschitz-Continuous Global Optimizer\n",
      "    loqo         Interior point NLP solver\n",
      "    minlp        Heuristic MINLP solver\n",
      "    minos        SLC NLP solver\n",
      "    minto        MILP solver\n",
      "    mosek        Interior point NLP solver\n",
      "    octeract     Deterministic global MINLP solver\n",
      "    ooqp         Convex QP solver\n",
      "    path         Nonlinear MCP solver\n",
      "    raposa       A Global Solver for Polynomial Programming Problems\n",
      "    snopt        SQP NLP solver\n",
      "\n"
     ]
    }
   ],
   "source": [
    "!pyomo help --solvers"
   ]
  },
  {
   "cell_type": "code",
   "execution_count": 3,
   "metadata": {
    "colab": {
     "base_uri": "https://localhost:8080/"
    },
    "executionInfo": {
     "elapsed": 17,
     "status": "ok",
     "timestamp": 1633441686027,
     "user": {
      "displayName": "Joaquim Gromicho",
      "photoUrl": "https://lh3.googleusercontent.com/a/default-user=s64",
      "userId": "14375950305363805729"
     },
     "user_tz": -120
    },
    "id": "oG-Z-V3pLtaa",
    "outputId": "79f3f9cb-c32c-4634-818b-2eae8fa2f215"
   },
   "outputs": [],
   "source": [
    "import pyomo.environ as pyo\n",
    "cbc    = pyo.SolverFactory('cbc')\n",
    "ipopt  = pyo.SolverFactory('ipopt')\n",
    "cplex  = pyo.SolverFactory('cplex_direct')\n",
    "gurobi = pyo.SolverFactory('gurobi_direct')\n",
    "xpress = pyo.SolverFactory('xpress_direct')"
   ]
  },
  {
   "cell_type": "code",
   "execution_count": 4,
   "metadata": {
    "id": "5RzYs5QRK3iE"
   },
   "outputs": [],
   "source": [
    "%matplotlib inline"
   ]
  },
  {
   "cell_type": "markdown",
   "metadata": {
    "id": "fDTCzz34K3iF"
   },
   "source": [
    "# Recall the Alice's production planning model\n",
    "\n",
    "Alice owns a company that produces trophies for\n",
    "* football\n",
    " * wood base, engraved plaque, brass football on top\n",
    " * €12 profit and uses 4 dm of wood\n",
    "* golf\n",
    " * wood base, engraved plaque, golf ball on top\n",
    " * €9 profit and uses 2 dm of wood\n",
    "\n",
    "Alice’s current stock of raw materials\n",
    "* 1000 footballs\n",
    "* 1500 golf balls\n",
    "* 1750 plaques\n",
    "* 480 m (4800 dm) of wood\n",
    "\n",
    "> Alice wonders what the optimal production plan should be, in other words: how many football and how many golf trophies should Alice produce to maximize his profit while respecting the availability of raw materials?\n",
    "\n",
    "***\n",
    "\n",
    "The following model __maximizes__ Alice's profit by deciding the number of $x_1$ football and $x_2$ golf trophies to produce.\n",
    "\n",
    "$$\n",
    "\\begin{array}{rrcrcl}\n",
    "\\max    & 12x_1 & + & 9x_2               \\\\\n",
    "s.t.    &   x_1 &   &      & \\leq & 1000 \\\\\n",
    "        &       &   &  x_2 & \\leq & 1500 \\\\\n",
    "        &   x_1 & + &  x_2 & \\leq & 1750 \\\\\n",
    "        &  4x_1 & + & 2x_2 & \\leq & 4800 \\\\\n",
    "        &   x_1 & , &  x_2 & \\geq & 0    \\\\\n",
    "\\end{array}\n",
    "$$"
   ]
  },
  {
   "cell_type": "code",
   "execution_count": 5,
   "metadata": {
    "id": "Ez-i12QiK3iG"
   },
   "outputs": [],
   "source": [
    "trophies = [ 'Football', 'Golf' ]\n",
    "profits  = { 'Football' : 12, 'Golf' :  9 }\n",
    "wood     = { 'Football' :  4, 'Golf' :  2 }\n",
    "\n",
    "Alice = pyo.ConcreteModel('Alice')\n",
    "\n",
    "Alice.x = pyo.Var(trophies,within=pyo.NonNegativeReals)\n",
    "\n",
    "Alice.profit    = pyo.Objective(expr = sum([profits[t]*Alice.x[t] for t in trophies]), sense=pyo.maximize)\n",
    "\n",
    "Alice.footballs = pyo.Constraint(expr = Alice.x['Football']  <= 1000)\n",
    "Alice.golfBalls = pyo.Constraint(expr = Alice.x['Golf']      <= 1500)\n",
    "Alice.plaques   = pyo.Constraint(expr = sum([Alice.x[t] for t in trophies]) <= 1750)\n",
    "Alice.wood      = pyo.Constraint(expr = sum(wood[t]*Alice.x[t] for t in trophies) <= 4800 ) "
   ]
  },
  {
   "cell_type": "code",
   "execution_count": 6,
   "metadata": {
    "colab": {
     "base_uri": "https://localhost:8080/"
    },
    "executionInfo": {
     "elapsed": 230,
     "status": "ok",
     "timestamp": 1633441686244,
     "user": {
      "displayName": "Joaquim Gromicho",
      "photoUrl": "https://lh3.googleusercontent.com/a/default-user=s64",
      "userId": "14375950305363805729"
     },
     "user_tz": -120
    },
    "id": "6PtUAIExK3iG",
    "outputId": "e2ff219d-f381-4879-9d76-bf34c2b9e6a0"
   },
   "outputs": [
    {
     "name": "stdout",
     "output_type": "stream",
     "text": [
      "CPU times: user 8.99 ms, sys: 17.3 ms, total: 26.3 ms\n",
      "Wall time: 75.4 ms\n",
      "ok optimal\n",
      "17700.0\n",
      "[650.0, 1100.0]\n",
      "Model Alice\n",
      "\n",
      "  Variables:\n",
      "    x : Size=2, Index=x_index\n",
      "        Key      : Lower : Value  : Upper : Fixed : Stale : Domain\n",
      "        Football :     0 :  650.0 :  None : False : False : NonNegativeReals\n",
      "            Golf :     0 : 1100.0 :  None : False : False : NonNegativeReals\n",
      "\n",
      "  Objectives:\n",
      "    profit : Size=1, Index=None, Active=True\n",
      "        Key  : Active : Value\n",
      "        None :   True : 17700.0\n",
      "\n",
      "  Constraints:\n",
      "    footballs : Size=1\n",
      "        Key  : Lower : Body  : Upper\n",
      "        None :  None : 650.0 : 1000.0\n",
      "    golfBalls : Size=1\n",
      "        Key  : Lower : Body   : Upper\n",
      "        None :  None : 1100.0 : 1500.0\n",
      "    plaques : Size=1\n",
      "        Key  : Lower : Body   : Upper\n",
      "        None :  None : 1750.0 : 1750.0\n",
      "    wood : Size=1\n",
      "        Key  : Lower : Body   : Upper\n",
      "        None :  None : 4800.0 : 4800.0\n"
     ]
    }
   ],
   "source": [
    "%time results = cbc.solve(Alice)\n",
    "print(results.solver.status, results.solver.termination_condition )\n",
    "\n",
    "print(Alice.profit.expr())\n",
    "print([Alice.x[t].value for t in trophies])\n",
    "\n",
    "Alice.display()"
   ]
  },
  {
   "cell_type": "code",
   "execution_count": 7,
   "metadata": {
    "colab": {
     "base_uri": "https://localhost:8080/"
    },
    "executionInfo": {
     "elapsed": 19,
     "status": "ok",
     "timestamp": 1633441686244,
     "user": {
      "displayName": "Joaquim Gromicho",
      "photoUrl": "https://lh3.googleusercontent.com/a/default-user=s64",
      "userId": "14375950305363805729"
     },
     "user_tz": -120
    },
    "id": "49FzAs-qK3iH",
    "outputId": "7033d566-6644-48c4-c977-b13c92e7893c"
   },
   "outputs": [
    {
     "name": "stdout",
     "output_type": "stream",
     "text": [
      "1 Set Declarations\n",
      "    x_index : Size=1, Index=None, Ordered=Insertion\n",
      "        Key  : Dimen : Domain : Size : Members\n",
      "        None :     1 :    Any :    2 : {'Football', 'Golf'}\n",
      "\n",
      "1 Var Declarations\n",
      "    x : Size=2, Index=x_index\n",
      "        Key      : Lower : Value  : Upper : Fixed : Stale : Domain\n",
      "        Football :     0 :  650.0 :  None : False : False : NonNegativeReals\n",
      "            Golf :     0 : 1100.0 :  None : False : False : NonNegativeReals\n",
      "\n",
      "1 Objective Declarations\n",
      "    profit : Size=1, Index=None, Active=True\n",
      "        Key  : Active : Sense    : Expression\n",
      "        None :   True : maximize : 12*x[Football] + 9*x[Golf]\n",
      "\n",
      "4 Constraint Declarations\n",
      "    footballs : Size=1, Index=None, Active=True\n",
      "        Key  : Lower : Body        : Upper  : Active\n",
      "        None :  -Inf : x[Football] : 1000.0 :   True\n",
      "    golfBalls : Size=1, Index=None, Active=True\n",
      "        Key  : Lower : Body    : Upper  : Active\n",
      "        None :  -Inf : x[Golf] : 1500.0 :   True\n",
      "    plaques : Size=1, Index=None, Active=True\n",
      "        Key  : Lower : Body                  : Upper  : Active\n",
      "        None :  -Inf : x[Football] + x[Golf] : 1750.0 :   True\n",
      "    wood : Size=1, Index=None, Active=True\n",
      "        Key  : Lower : Body                      : Upper  : Active\n",
      "        None :  -Inf : 4*x[Football] + 2*x[Golf] : 4800.0 :   True\n",
      "\n",
      "7 Declarations: x_index x profit footballs golfBalls plaques wood\n"
     ]
    }
   ],
   "source": [
    "Alice.pprint()"
   ]
  },
  {
   "cell_type": "code",
   "execution_count": 8,
   "metadata": {
    "id": "PtyY2xx9K3iH"
   },
   "outputs": [],
   "source": [
    "def ShowModelComponents( model ):\n",
    "    for v in model.component_objects(pyo.Var, active=True):\n",
    "        print (\"Variable  \",v)\n",
    "        varobject = getattr(model, str(v))\n",
    "        for index in varobject:\n",
    "            print (\"     \",index, varobject[index].value)\n",
    "    for o in model.component_objects(pyo.Objective, active=True):\n",
    "        print (\"Objective \",o)\n",
    "        varobject = getattr(model, str(o))\n",
    "        for index in varobject:\n",
    "            print (\"    \",index, varobject[index].expr())\n",
    "    for c in model.component_objects(pyo.Constraint, active=True):\n",
    "        print (\"Constraint\",c)\n",
    "        varobject = getattr(model, str(c))\n",
    "        for index in varobject:\n",
    "            print (\"     \",index, varobject[index].uslack())"
   ]
  },
  {
   "cell_type": "code",
   "execution_count": 9,
   "metadata": {
    "colab": {
     "base_uri": "https://localhost:8080/"
    },
    "executionInfo": {
     "elapsed": 18,
     "status": "ok",
     "timestamp": 1633441686245,
     "user": {
      "displayName": "Joaquim Gromicho",
      "photoUrl": "https://lh3.googleusercontent.com/a/default-user=s64",
      "userId": "14375950305363805729"
     },
     "user_tz": -120
    },
    "id": "JLVHv9EDK3iH",
    "outputId": "2eb60db4-b171-42f7-9850-e25565d725af"
   },
   "outputs": [
    {
     "name": "stdout",
     "output_type": "stream",
     "text": [
      "Variable   x\n",
      "      Football 650.0\n",
      "      Golf 1100.0\n",
      "Objective  profit\n",
      "     None 17700.0\n",
      "Constraint footballs\n",
      "      None 350.0\n",
      "Constraint golfBalls\n",
      "      None 400.0\n",
      "Constraint plaques\n",
      "      None 0.0\n",
      "Constraint wood\n",
      "      None 0.0\n"
     ]
    }
   ],
   "source": [
    "ShowModelComponents( Alice )"
   ]
  },
  {
   "cell_type": "code",
   "execution_count": 10,
   "metadata": {
    "id": "cv00HnWxK3iH"
   },
   "outputs": [],
   "source": [
    "def ShowDuals( model ):\n",
    "    import fractions\n",
    "    # display all duals\n",
    "    print (\"Duals\")\n",
    "    for c in model.component_objects(pyo.Constraint, active=True):\n",
    "        print (\"Constraint \",c)\n",
    "        for index in c:\n",
    "            print (\"      \", index, str(fractions.Fraction(model.dual[c[index]])))"
   ]
  },
  {
   "cell_type": "code",
   "execution_count": 11,
   "metadata": {
    "colab": {
     "base_uri": "https://localhost:8080/"
    },
    "executionInfo": {
     "elapsed": 14,
     "status": "ok",
     "timestamp": 1633441686245,
     "user": {
      "displayName": "Joaquim Gromicho",
      "photoUrl": "https://lh3.googleusercontent.com/a/default-user=s64",
      "userId": "14375950305363805729"
     },
     "user_tz": -120
    },
    "id": "AU2nbO99K3iH",
    "outputId": "cfacc40b-4691-48cd-b70d-12d9a82a3eda"
   },
   "outputs": [
    {
     "name": "stdout",
     "output_type": "stream",
     "text": [
      "CPU times: user 6.46 ms, sys: 11 ms, total: 17.4 ms\n",
      "Wall time: 37.9 ms\n",
      "ok optimal\n"
     ]
    }
   ],
   "source": [
    "Alice.dual = pyo.Suffix(direction=pyo.Suffix.IMPORT)\n",
    "\n",
    "%time results = cbc.solve(Alice)\n",
    "print(results.solver.status, results.solver.termination_condition )"
   ]
  },
  {
   "cell_type": "code",
   "execution_count": 12,
   "metadata": {
    "colab": {
     "base_uri": "https://localhost:8080/"
    },
    "executionInfo": {
     "elapsed": 12,
     "status": "ok",
     "timestamp": 1633441686245,
     "user": {
      "displayName": "Joaquim Gromicho",
      "photoUrl": "https://lh3.googleusercontent.com/a/default-user=s64",
      "userId": "14375950305363805729"
     },
     "user_tz": -120
    },
    "id": "u8tCCIFoK3iH",
    "outputId": "cc014b86-e652-4f83-fe29-f15251f253c9"
   },
   "outputs": [
    {
     "name": "stdout",
     "output_type": "stream",
     "text": [
      "Duals\n",
      "Constraint  footballs\n",
      "       None 0\n",
      "Constraint  golfBalls\n",
      "       None 0\n",
      "Constraint  plaques\n",
      "       None 6\n",
      "Constraint  wood\n",
      "       None 3/2\n"
     ]
    }
   ],
   "source": [
    "ShowDuals( Alice )"
   ]
  },
  {
   "cell_type": "code",
   "execution_count": 13,
   "metadata": {
    "id": "PsD98buFO28W"
   },
   "outputs": [],
   "source": [
    "def JustSolution( model ):\n",
    "  return [ pyo.value(model.profit) ] + [ pyo.value(model.x[i]) for i in trophies ]"
   ]
  },
  {
   "cell_type": "code",
   "execution_count": 14,
   "metadata": {
    "colab": {
     "base_uri": "https://localhost:8080/"
    },
    "executionInfo": {
     "elapsed": 26,
     "status": "ok",
     "timestamp": 1633441686454,
     "user": {
      "displayName": "Joaquim Gromicho",
      "photoUrl": "https://lh3.googleusercontent.com/a/default-user=s64",
      "userId": "14375950305363805729"
     },
     "user_tz": -120
    },
    "id": "oNXlJFQYPIbL",
    "outputId": "6468bc4c-c816-4736-c9aa-60499f8247fa"
   },
   "outputs": [
    {
     "data": {
      "text/plain": [
       "[17700.0, 650.0, 1100.0]"
      ]
     },
     "execution_count": 14,
     "metadata": {},
     "output_type": "execute_result"
    }
   ],
   "source": [
    "JustSolution( Alice )"
   ]
  },
  {
   "cell_type": "markdown",
   "metadata": {
    "id": "mlFIYk5KK3iH"
   },
   "source": [
    "## Betty: a tiny bit of data science... \n",
    "\n",
    "\n",
    "We start by simulating two samples of observed wood lengths for `f` football trophies and `g` golf trophies."
   ]
  },
  {
   "cell_type": "code",
   "execution_count": 15,
   "metadata": {
    "id": "5ppnDDbMK3iH"
   },
   "outputs": [],
   "source": [
    "import numpy as np \n",
    "np.random.seed(2021)\n",
    "\n",
    "n = 2000\n",
    "\n",
    "f = np.random.lognormal(np.log(4.), .005, n)\n",
    "g = np.random.lognormal(np.log(2.), .005, n)"
   ]
  },
  {
   "cell_type": "code",
   "execution_count": 16,
   "metadata": {
    "colab": {
     "base_uri": "https://localhost:8080/"
    },
    "executionInfo": {
     "elapsed": 19,
     "status": "ok",
     "timestamp": 1633441686455,
     "user": {
      "displayName": "Joaquim Gromicho",
      "photoUrl": "https://lh3.googleusercontent.com/a/default-user=s64",
      "userId": "14375950305363805729"
     },
     "user_tz": -120
    },
    "id": "MIq8mxDwK3iH",
    "outputId": "e413078a-3e54-4fd5-bc08-e917b95ccc09"
   },
   "outputs": [
    {
     "name": "stdout",
     "output_type": "stream",
     "text": [
      "[4.02988325 4.01354309 3.99163972 ... 4.00911981 4.01641535 4.01801911]\n",
      "[2.00803724 2.00844016 1.99734435 ... 2.00287521 2.00166029 1.99575931]\n"
     ]
    }
   ],
   "source": [
    "print(f)\n",
    "print(g)"
   ]
  },
  {
   "cell_type": "code",
   "execution_count": 17,
   "metadata": {
    "colab": {
     "base_uri": "https://localhost:8080/"
    },
    "executionInfo": {
     "elapsed": 17,
     "status": "ok",
     "timestamp": 1633441686455,
     "user": {
      "displayName": "Joaquim Gromicho",
      "photoUrl": "https://lh3.googleusercontent.com/a/default-user=s64",
      "userId": "14375950305363805729"
     },
     "user_tz": -120
    },
    "id": "tZeioC_oK3iH",
    "outputId": "d47f6a63-545a-47c0-b20b-1a26062d3313"
   },
   "outputs": [
    {
     "name": "stdout",
     "output_type": "stream",
     "text": [
      "3.9391412319072394 4.073440566603856 1.9688647783939281 2.0337017720382375\n"
     ]
    }
   ],
   "source": [
    "print( min(f), max(f), min(g), max(g) )"
   ]
  },
  {
   "cell_type": "code",
   "execution_count": 18,
   "metadata": {
    "colab": {
     "base_uri": "https://localhost:8080/",
     "height": 265
    },
    "executionInfo": {
     "elapsed": 440,
     "status": "ok",
     "timestamp": 1633441686880,
     "user": {
      "displayName": "Joaquim Gromicho",
      "photoUrl": "https://lh3.googleusercontent.com/a/default-user=s64",
      "userId": "14375950305363805729"
     },
     "user_tz": -120
    },
    "id": "_4x53N-eK3iI",
    "outputId": "04e69675-87e1-42cc-e77c-0fd087b36365"
   },
   "outputs": [
    {
     "data": {
      "image/png": "[encoded data removed]",
      "text/plain": [
       "<Figure size 432x288 with 1 Axes>"
      ]
     },
     "metadata": {
      "needs_background": "light"
     },
     "output_type": "display_data"
    }
   ],
   "source": [
    "import matplotlib.pyplot as plt\n",
    "\n",
    "plt.plot( f, '.' )\n",
    "plt.plot( g, '.' )\n",
    "plt.show()"
   ]
  },
  {
   "cell_type": "markdown",
   "metadata": {
    "id": "pueC81LcK3iI"
   },
   "source": [
    "What is the consequence of uncertainty? \n",
    "We compare the cumulative lengths with the nominal ones."
   ]
  },
  {
   "cell_type": "code",
   "execution_count": 19,
   "metadata": {
    "colab": {
     "base_uri": "https://localhost:8080/",
     "height": 265
    },
    "executionInfo": {
     "elapsed": 27,
     "status": "ok",
     "timestamp": 1633441686881,
     "user": {
      "displayName": "Joaquim Gromicho",
      "photoUrl": "https://lh3.googleusercontent.com/a/default-user=s64",
      "userId": "14375950305363805729"
     },
     "user_tz": -120
    },
    "id": "R-qTy2zDK3iI",
    "outputId": "def5d7cf-709c-4926-c9a3-3a57cc19761f"
   },
   "outputs": [
    {
     "data": {
      "image/png": "[encoded data removed]",
      "text/plain": [
       "<Figure size 432x288 with 1 Axes>"
      ]
     },
     "metadata": {
      "needs_background": "light"
     },
     "output_type": "display_data"
    }
   ],
   "source": [
    "cs = np.cumsum(g) - np.cumsum( [2]*len(g) )\n",
    "plt.plot(cs)\n",
    "plt.show()"
   ]
  },
  {
   "cell_type": "code",
   "execution_count": 20,
   "metadata": {
    "colab": {
     "base_uri": "https://localhost:8080/",
     "height": 248
    },
    "executionInfo": {
     "elapsed": 339,
     "status": "ok",
     "timestamp": 1633441687194,
     "user": {
      "displayName": "Joaquim Gromicho",
      "photoUrl": "https://lh3.googleusercontent.com/a/default-user=s64",
      "userId": "14375950305363805729"
     },
     "user_tz": -120
    },
    "id": "_U4aunHmK3iI",
    "outputId": "a2380a13-6de7-47f7-ccb6-15861d0d1d73"
   },
   "outputs": [
    {
     "data": {
      "image/png": "[encoded data removed]",
      "text/plain": [
       "<Figure size 432x288 with 1 Axes>"
      ]
     },
     "metadata": {},
     "output_type": "display_data"
    }
   ],
   "source": [
    "plt.pie( [ sum( cs > 0 ), sum( cs <= 0 ) ], labels = [ 'trouble!', 'ok' ], autopct='%1.1f%%', shadow=True, startangle=90, colors=[ 'red', 'green' ])\n",
    "plt.show()"
   ]
  },
  {
   "cell_type": "markdown",
   "metadata": {
    "id": "MO6fztcFK3iI"
   },
   "source": [
    "A very simple and somehow naïf uncertainty region can be taken as the observed minimal box around the data."
   ]
  },
  {
   "cell_type": "code",
   "execution_count": 21,
   "metadata": {
    "colab": {
     "base_uri": "https://localhost:8080/",
     "height": 282
    },
    "executionInfo": {
     "elapsed": 21,
     "status": "ok",
     "timestamp": 1633441687195,
     "user": {
      "displayName": "Joaquim Gromicho",
      "photoUrl": "https://lh3.googleusercontent.com/a/default-user=s64",
      "userId": "14375950305363805729"
     },
     "user_tz": -120
    },
    "id": "-YUKJpXWK3iI",
    "outputId": "6ffff6df-de4f-4355-9bba-86e5755e7cfd"
   },
   "outputs": [
    {
     "data": {
      "image/png": "[encoded data removed]",
      "text/plain": [
       "<Figure size 432x288 with 1 Axes>"
      ]
     },
     "metadata": {
      "needs_background": "light"
     },
     "output_type": "display_data"
    },
    {
     "name": "stdout",
     "output_type": "stream",
     "text": [
      "3.9391412319072394 4.073440566603856 1.9688647783939281 2.0337017720382375\n"
     ]
    }
   ],
   "source": [
    "import matplotlib.patches as patches\n",
    "\n",
    "plt.figure()\n",
    "plt.plot( f, g, '.' )\n",
    "currentAxis = plt.gca()\n",
    "currentAxis.add_patch(patches.Rectangle((min(f), min(g)), max(f)-min(f), max(g)-min(g),fill=False,color='r'))\n",
    "plt.show()\n",
    "\n",
    "print( min(f), max(f), min(g), max(g) )"
   ]
  },
  {
   "cell_type": "markdown",
   "metadata": {
    "id": "x-r6VhudK3iI"
   },
   "source": [
    "## Caroline's robust model for box uncertainty in wood consumption\n",
    "\n",
    "Suppose now that Alice notices that not _exactly_ 4 and 2 dm of wood are used, but some fluctuations are observed.\n",
    "Alice wants to be __sure__ that her model does not violate the wood constraint, therefore the following should hold:\n",
    "\n",
    "$$\n",
    "\\begin{array}{rrcrcl}\n",
    "\\max    &  12 x_1 & + &   9 x_2               \\\\\n",
    "s.t.    &     x_1 &   &         & \\leq & 1000 \\\\\n",
    "        &         &   &     x_2 & \\leq & 1500 \\\\\n",
    "        &     x_1 & + &     x_2 & \\leq & 1750 \\\\\n",
    "        & a_1 x_1 & + & a_2 x_2 & \\leq & 4800 & \\forall \\ell \\leq a \\leq u \\\\\n",
    "        &     x_1 & , &     x_2 & \\geq & 0    \\\\\n",
    "\\end{array}\n",
    "$$\n",
    "\n",
    "***\n",
    "\n",
    "A bit of linear duality (or even better: an introduction to robust optimization!) helps Alice how to deal with the above model that has an infinite number of constraints.\n",
    "The first thing to notice is that the wood consumption is modeled by constraints that are equivalent to bounding the following optimization problem:\n",
    "    \n",
    "$$\n",
    "\\begin{array}{rrr}\n",
    "\\max    & x_1 a_1 + x_2 a_2 & \\leq 4800 \\\\\n",
    "s.t.    & \\ell \\leq a \\leq u \n",
    "\\end{array}\n",
    "$$\n",
    "\n",
    "Or\n",
    "\n",
    "$$\n",
    "\\begin{array}{rrr}\n",
    "\\max    & x_1 a_1 + x_2 a_2 & \\leq 4800 \\\\\n",
    "s.t.    & a \\leq u \\\\\n",
    "        & -a \\leq -\\ell \n",
    "\\end{array}\n",
    "$$\n",
    "\n",
    "Now we use linear duality to realize that the above is equivalent to:\n",
    " \n",
    "$$\n",
    "\\begin{array}{rrr}\n",
    "\\min    & u y  - \\ell w & \\leq 4800 \\\\\n",
    "s.t.    & y - w = x \\\\\n",
    "        & y \\geq 0, w \\geq 0\n",
    "\\end{array}\n",
    "$$\n",
    "    \n",
    "and the constraint imposed by the last problem is equivalent to:\n",
    "\n",
    "$$\n",
    "\\begin{array}{rrl}\n",
    "   & u y  - \\ell w & \\leq 4800 \\\\\n",
    "   & y - w & = x \\\\\n",
    "   & y \\geq 0, w \\geq 0\n",
    "\\end{array}\n",
    "$$\n",
    "\n",
    "The only thing we need to do is add variables and constraints to Alice's model."
   ]
  },
  {
   "cell_type": "markdown",
   "metadata": {
    "id": "rd6jnzmmK3iI"
   },
   "source": [
    "# A model in `pyomo`"
   ]
  },
  {
   "cell_type": "code",
   "execution_count": 22,
   "metadata": {
    "id": "KdZk74bBK3iI"
   },
   "outputs": [],
   "source": [
    "def AliceWithBoxUncertainty( lower, upper, domain=pyo.NonNegativeReals ):\n",
    "\n",
    "    Alice = pyo.ConcreteModel('AliceBox')\n",
    "\n",
    "    Alice.x = pyo.Var(trophies,within=domain)\n",
    "\n",
    "    Alice.profit    = pyo.Objective(expr = sum([profits[t]*Alice.x[t] for t in trophies]), sense=pyo.maximize)\n",
    "\n",
    "    Alice.footballs = pyo.Constraint(expr = Alice.x['Football']  <= 1000)\n",
    "    Alice.golfBalls = pyo.Constraint(expr = Alice.x['Golf']      <= 1500)\n",
    "    Alice.plaques   = pyo.Constraint(expr = sum([Alice.x[t] for t in trophies]) <= 1750)\n",
    "\n",
    "    Alice.y = pyo.Var(trophies,domain=pyo.NonNegativeReals)\n",
    "    Alice.w = pyo.Var(trophies,domain=pyo.NonNegativeReals)\n",
    "\n",
    "    Alice.robustWood = pyo.Constraint(expr = sum([upper[t]*Alice.y[t] - lower[t]*Alice.w[t] for t in trophies]) <= 4800)\n",
    "\n",
    "    def PerVariable( model, t ):\n",
    "        return model.x[t] == model.y[t] - model.w[t] \n",
    "    \n",
    "    Alice.perVariable = pyo.Constraint(trophies,rule=PerVariable)\n",
    "\n",
    "    return Alice"
   ]
  },
  {
   "cell_type": "code",
   "execution_count": 23,
   "metadata": {
    "colab": {
     "base_uri": "https://localhost:8080/"
    },
    "executionInfo": {
     "elapsed": 187,
     "status": "ok",
     "timestamp": 1633443426763,
     "user": {
      "displayName": "Joaquim Gromicho",
      "photoUrl": "https://lh3.googleusercontent.com/a/default-user=s64",
      "userId": "14375950305363805729"
     },
     "user_tz": -120
    },
    "id": "_IV2eGlnK3iI",
    "outputId": "fd5fb400-1100-4142-ba6f-b06152152c0b"
   },
   "outputs": [
    {
     "name": "stdout",
     "output_type": "stream",
     "text": [
      "CPU times: user 5.77 ms, sys: 9.61 ms, total: 15.4 ms\n",
      "Wall time: 266 ms\n",
      "ok optimal\n"
     ]
    },
    {
     "data": {
      "text/plain": [
       "[17574.0, 608.0, 1142.0]"
      ]
     },
     "execution_count": 23,
     "metadata": {},
     "output_type": "execute_result"
    }
   ],
   "source": [
    "lower = upper = {}\n",
    "lower['Football'] = min(f)\n",
    "upper['Football'] = max(f)\n",
    "lower['Golf'] = min(g)\n",
    "upper['Golf'] = max(g)\n",
    "\n",
    "Alice = AliceWithBoxUncertainty( lower, upper, domain=pyo.NonNegativeIntegers )\n",
    "\n",
    "%time results = cbc.solve(Alice)\n",
    "print(results.solver.status, results.solver.termination_condition )\n",
    "\n",
    "JustSolution( Alice )"
   ]
  },
  {
   "cell_type": "code",
   "execution_count": 24,
   "metadata": {
    "colab": {
     "base_uri": "https://localhost:8080/"
    },
    "executionInfo": {
     "elapsed": 18,
     "status": "ok",
     "timestamp": 1633441687553,
     "user": {
      "displayName": "Joaquim Gromicho",
      "photoUrl": "https://lh3.googleusercontent.com/a/default-user=s64",
      "userId": "14375950305363805729"
     },
     "user_tz": -120
    },
    "id": "ZM3Ym0UkK3iI",
    "outputId": "0f195fd9-1969-425f-b843-fb4288d4bc44"
   },
   "outputs": [
    {
     "name": "stdout",
     "output_type": "stream",
     "text": [
      "CPU times: user 5.71 ms, sys: 9.22 ms, total: 14.9 ms\n",
      "Wall time: 261 ms\n",
      "ok optimal\n"
     ]
    },
    {
     "data": {
      "text/plain": [
       "[17568.0, 606.0, 1144.0]"
      ]
     },
     "execution_count": 24,
     "metadata": {},
     "output_type": "execute_result"
    }
   ],
   "source": [
    "# you can play with the amount of uncertainty. \n",
    "# In particular, if below you make delta equal to 0 you obtain the same result als the  nominal model.\n",
    "delta = 0.05\n",
    "\n",
    "def AliceWithSymmetricalBoxUncertainty( delta, domain=pyo.NonNegativeIntegers ):\n",
    "    lower = { trophy : wood[trophy] - delta for trophy in wood }\n",
    "    upper = { trophy : wood[trophy] + delta for trophy in wood }\n",
    "    return AliceWithBoxUncertainty( lower, upper, domain=domain )\n",
    "\n",
    "Alice = AliceWithSymmetricalBoxUncertainty( delta )\n",
    "%time results = cbc.solve(Alice)\n",
    "print(results.solver.status, results.solver.termination_condition )\n",
    "\n",
    "JustSolution( Alice )"
   ]
  },
  {
   "cell_type": "markdown",
   "metadata": {
    "id": "h4IvEuocK3iJ"
   },
   "source": [
    "# Integer optimization\n",
    "\n",
    "Alice's model gave integer solutions, but not the robust version. \n",
    "If we need integer solutions then we should impose that to the nature of the variables, which in this case of _box uncertainty_ is easy to do since the model remains linear, although it will be mixed integer. "
   ]
  },
  {
   "cell_type": "code",
   "execution_count": 25,
   "metadata": {
    "colab": {
     "base_uri": "https://localhost:8080/"
    },
    "executionInfo": {
     "elapsed": 16,
     "status": "ok",
     "timestamp": 1633441687554,
     "user": {
      "displayName": "Joaquim Gromicho",
      "photoUrl": "https://lh3.googleusercontent.com/a/default-user=s64",
      "userId": "14375950305363805729"
     },
     "user_tz": -120
    },
    "id": "lhAQo89qK3iJ",
    "outputId": "43b5ff1a-ade5-4704-e844-8c95a8dc7ba8"
   },
   "outputs": [
    {
     "name": "stdout",
     "output_type": "stream",
     "text": [
      "CPU times: user 5.92 ms, sys: 9.59 ms, total: 15.5 ms\n",
      "Wall time: 253 ms\n",
      "ok optimal\n"
     ]
    },
    {
     "data": {
      "text/plain": [
       "[17574.0, 608.0, 1142.0]"
      ]
     },
     "execution_count": 25,
     "metadata": {},
     "output_type": "execute_result"
    }
   ],
   "source": [
    "Alice = AliceWithBoxUncertainty( lower, upper, domain=pyo.NonNegativeIntegers )\n",
    "\n",
    "%time results = cbc.solve(Alice)\n",
    "print(results.solver.status, results.solver.termination_condition )\n",
    "\n",
    "JustSolution( Alice )"
   ]
  },
  {
   "cell_type": "code",
   "execution_count": 26,
   "metadata": {
    "colab": {
     "base_uri": "https://localhost:8080/",
     "height": 703
    },
    "executionInfo": {
     "elapsed": 808,
     "status": "ok",
     "timestamp": 1633441688349,
     "user": {
      "displayName": "Joaquim Gromicho",
      "photoUrl": "https://lh3.googleusercontent.com/a/default-user=s64",
      "userId": "14375950305363805729"
     },
     "user_tz": -120
    },
    "id": "1aGhPp8XPz4G",
    "outputId": "256b5175-ecc7-45c4-86eb-4925fb9a15a2"
   },
   "outputs": [
    {
     "data": {
      "text/html": [
       "<div>\n",
       "<style scoped>\n",
       "    .dataframe tbody tr th:only-of-type {\n",
       "        vertical-align: middle;\n",
       "    }\n",
       "\n",
       "    .dataframe tbody tr th {\n",
       "        vertical-align: top;\n",
       "    }\n",
       "\n",
       "    .dataframe thead th {\n",
       "        text-align: right;\n",
       "    }\n",
       "</style>\n",
       "<table border=\"1\" class=\"dataframe\">\n",
       "  <thead>\n",
       "    <tr style=\"text-align: right;\">\n",
       "      <th></th>\n",
       "      <th>value</th>\n",
       "      <th>Football</th>\n",
       "      <th>Golf</th>\n",
       "    </tr>\n",
       "  </thead>\n",
       "  <tbody>\n",
       "    <tr>\n",
       "      <th>0.000</th>\n",
       "      <td>17700.0</td>\n",
       "      <td>650.0</td>\n",
       "      <td>1100.0</td>\n",
       "    </tr>\n",
       "    <tr>\n",
       "      <th>0.025</th>\n",
       "      <td>17634.0</td>\n",
       "      <td>628.0</td>\n",
       "      <td>1122.0</td>\n",
       "    </tr>\n",
       "    <tr>\n",
       "      <th>0.050</th>\n",
       "      <td>17568.0</td>\n",
       "      <td>606.0</td>\n",
       "      <td>1144.0</td>\n",
       "    </tr>\n",
       "    <tr>\n",
       "      <th>0.075</th>\n",
       "      <td>17502.0</td>\n",
       "      <td>584.0</td>\n",
       "      <td>1166.0</td>\n",
       "    </tr>\n",
       "    <tr>\n",
       "      <th>0.100</th>\n",
       "      <td>17436.0</td>\n",
       "      <td>562.0</td>\n",
       "      <td>1188.0</td>\n",
       "    </tr>\n",
       "    <tr>\n",
       "      <th>0.125</th>\n",
       "      <td>17370.0</td>\n",
       "      <td>540.0</td>\n",
       "      <td>1210.0</td>\n",
       "    </tr>\n",
       "    <tr>\n",
       "      <th>0.150</th>\n",
       "      <td>17304.0</td>\n",
       "      <td>518.0</td>\n",
       "      <td>1232.0</td>\n",
       "    </tr>\n",
       "    <tr>\n",
       "      <th>0.175</th>\n",
       "      <td>17238.0</td>\n",
       "      <td>496.0</td>\n",
       "      <td>1254.0</td>\n",
       "    </tr>\n",
       "    <tr>\n",
       "      <th>0.200</th>\n",
       "      <td>17175.0</td>\n",
       "      <td>475.0</td>\n",
       "      <td>1275.0</td>\n",
       "    </tr>\n",
       "    <tr>\n",
       "      <th>0.225</th>\n",
       "      <td>17109.0</td>\n",
       "      <td>453.0</td>\n",
       "      <td>1297.0</td>\n",
       "    </tr>\n",
       "    <tr>\n",
       "      <th>0.250</th>\n",
       "      <td>17043.0</td>\n",
       "      <td>431.0</td>\n",
       "      <td>1319.0</td>\n",
       "    </tr>\n",
       "    <tr>\n",
       "      <th>0.275</th>\n",
       "      <td>16977.0</td>\n",
       "      <td>409.0</td>\n",
       "      <td>1341.0</td>\n",
       "    </tr>\n",
       "    <tr>\n",
       "      <th>0.300</th>\n",
       "      <td>16911.0</td>\n",
       "      <td>387.0</td>\n",
       "      <td>1363.0</td>\n",
       "    </tr>\n",
       "    <tr>\n",
       "      <th>0.325</th>\n",
       "      <td>16845.0</td>\n",
       "      <td>365.0</td>\n",
       "      <td>1385.0</td>\n",
       "    </tr>\n",
       "    <tr>\n",
       "      <th>0.350</th>\n",
       "      <td>16779.0</td>\n",
       "      <td>343.0</td>\n",
       "      <td>1407.0</td>\n",
       "    </tr>\n",
       "    <tr>\n",
       "      <th>0.375</th>\n",
       "      <td>16713.0</td>\n",
       "      <td>321.0</td>\n",
       "      <td>1429.0</td>\n",
       "    </tr>\n",
       "    <tr>\n",
       "      <th>0.400</th>\n",
       "      <td>16650.0</td>\n",
       "      <td>300.0</td>\n",
       "      <td>1450.0</td>\n",
       "    </tr>\n",
       "    <tr>\n",
       "      <th>0.425</th>\n",
       "      <td>16584.0</td>\n",
       "      <td>278.0</td>\n",
       "      <td>1472.0</td>\n",
       "    </tr>\n",
       "    <tr>\n",
       "      <th>0.450</th>\n",
       "      <td>16518.0</td>\n",
       "      <td>256.0</td>\n",
       "      <td>1494.0</td>\n",
       "    </tr>\n",
       "    <tr>\n",
       "      <th>0.475</th>\n",
       "      <td>16416.0</td>\n",
       "      <td>243.0</td>\n",
       "      <td>1500.0</td>\n",
       "    </tr>\n",
       "    <tr>\n",
       "      <th>0.500</th>\n",
       "      <td>16296.0</td>\n",
       "      <td>233.0</td>\n",
       "      <td>1500.0</td>\n",
       "    </tr>\n",
       "  </tbody>\n",
       "</table>\n",
       "</div>"
      ],
      "text/plain": [
       "         value  Football    Golf\n",
       "0.000  17700.0     650.0  1100.0\n",
       "0.025  17634.0     628.0  1122.0\n",
       "0.050  17568.0     606.0  1144.0\n",
       "0.075  17502.0     584.0  1166.0\n",
       "0.100  17436.0     562.0  1188.0\n",
       "0.125  17370.0     540.0  1210.0\n",
       "0.150  17304.0     518.0  1232.0\n",
       "0.175  17238.0     496.0  1254.0\n",
       "0.200  17175.0     475.0  1275.0\n",
       "0.225  17109.0     453.0  1297.0\n",
       "0.250  17043.0     431.0  1319.0\n",
       "0.275  16977.0     409.0  1341.0\n",
       "0.300  16911.0     387.0  1363.0\n",
       "0.325  16845.0     365.0  1385.0\n",
       "0.350  16779.0     343.0  1407.0\n",
       "0.375  16713.0     321.0  1429.0\n",
       "0.400  16650.0     300.0  1450.0\n",
       "0.425  16584.0     278.0  1472.0\n",
       "0.450  16518.0     256.0  1494.0\n",
       "0.475  16416.0     243.0  1500.0\n",
       "0.500  16296.0     233.0  1500.0"
      ]
     },
     "execution_count": 26,
     "metadata": {},
     "output_type": "execute_result"
    }
   ],
   "source": [
    "import pandas\n",
    "df = pandas.DataFrame()\n",
    "for delta in np.linspace(0,.5,21):\n",
    "  Alice = AliceWithSymmetricalBoxUncertainty( delta, domain=pyo.NonNegativeIntegers )\n",
    "  cbc.solve(Alice)\n",
    "  results = JustSolution( Alice )\n",
    "  df.at[delta,'value']     = results[0]\n",
    "  df.at[delta,trophies[0]] = results[1]\n",
    "  df.at[delta,trophies[1]] = results[2]\n",
    "df"
   ]
  },
  {
   "cell_type": "code",
   "execution_count": 27,
   "metadata": {
    "colab": {
     "base_uri": "https://localhost:8080/",
     "height": 282
    },
    "executionInfo": {
     "elapsed": 314,
     "status": "ok",
     "timestamp": 1633441688637,
     "user": {
      "displayName": "Joaquim Gromicho",
      "photoUrl": "https://lh3.googleusercontent.com/a/default-user=s64",
      "userId": "14375950305363805729"
     },
     "user_tz": -120
    },
    "id": "LfUxfNz7UcIO",
    "outputId": "937c90d3-d590-4e2d-f73c-91d6cb6df02a"
   },
   "outputs": [
    {
     "data": {
      "text/plain": [
       "<AxesSubplot:>"
      ]
     },
     "execution_count": 27,
     "metadata": {},
     "output_type": "execute_result"
    },
    {
     "data": {
      "image/png": "[encoded data removed]",
      "text/plain": [
       "<Figure size 432x288 with 1 Axes>"
      ]
     },
     "metadata": {
      "needs_background": "light"
     },
     "output_type": "display_data"
    }
   ],
   "source": [
    "df.plot()"
   ]
  },
  {
   "cell_type": "code",
   "execution_count": 28,
   "metadata": {
    "colab": {
     "base_uri": "https://localhost:8080/",
     "height": 282
    },
    "executionInfo": {
     "elapsed": 441,
     "status": "ok",
     "timestamp": 1633441689058,
     "user": {
      "displayName": "Joaquim Gromicho",
      "photoUrl": "https://lh3.googleusercontent.com/a/default-user=s64",
      "userId": "14375950305363805729"
     },
     "user_tz": -120
    },
    "id": "IFtSzgCIUj-D",
    "outputId": "c50e0414-3ad8-4516-9266-dfa6ca81a652"
   },
   "outputs": [
    {
     "data": {
      "text/plain": [
       "<AxesSubplot:>"
      ]
     },
     "execution_count": 28,
     "metadata": {},
     "output_type": "execute_result"
    },
    {
     "data": {
      "image/png": "[encoded data removed]",
      "text/plain": [
       "<Figure size 432x288 with 1 Axes>"
      ]
     },
     "metadata": {
      "needs_background": "light"
     },
     "output_type": "display_data"
    }
   ],
   "source": [
    "df[['Football','Golf']].plot()"
   ]
  },
  {
   "cell_type": "markdown",
   "metadata": {
    "id": "WNDlWBWFK3iJ"
   },
   "source": [
    "# Cardinality constrained uncertainty\n",
    "\n",
    "Each $a_j$ may deviate by at most $\\pm \\delta_j$ from the nominal value $\\bar{a}_j$ bun no more than $\\Gamma$ will actually deviate.\n",
    "\n",
    "$$\n",
    "\\begin{array}{rrcrcl}\n",
    "\\max    &  12 x_1 & + &   9 x_2               \\\\\n",
    "s.t.    &     x_1 &   &         & \\leq & 1000 \\\\\n",
    "        &         &   &     x_2 & \\leq & 1500 \\\\\n",
    "        &     x_1 & + &     x_2 & \\leq & 1750 \\\\\n",
    "        & a_1 x_1 & + & a_2 x_2 & \\leq & 4800 & \\forall a,y : a_j=\\bar{a}_j+\\delta_jy_j, \\|y\\|_\\infty \\leq 1, \\|y\\|_1\\leq \\Gamma \\\\\n",
    "        &     x_1 & , &     x_2 & \\geq & 0    \\\\\n",
    "\\end{array}\n",
    "$$\n",
    "\n",
    "As we have seen on the previous lecture, Lagrange duality yields the following modification to the problem as equivalent to the robust model stated above:\n",
    "\n",
    "$$\n",
    "\\begin{array}{rrcrcrcrcrcrcl}\n",
    "\\max    &  12 x_1 & + &   9 x_2               \\\\\n",
    "s.t.    &     x_1 &   &         & & & & & & & \\leq & 1000 \\\\\n",
    "        &         &   &     x_2 & & & & & & & \\leq & 1500 \\\\\n",
    "        &     x_1 & + &     x_2 & & & & & & & \\leq & 1750 \\\\\n",
    "        & a_1 x_1 & + & a_2 x_2 & + & \\lambda\\Gamma & + & z_1 & + & z_2 & \\leq & 4800 \\\\\n",
    "        &-d_1 x_1 &   &         & + & \\lambda & + & z_1 &   &     & \\geq & 0 \\\\\n",
    "        &         &   &-d_2 x_2 & + & \\lambda &   &     & + & z_2 & \\geq & 0 \\\\\n",
    "        &     x_1 & , &     x_2 & , & \\lambda & , & z_1 & , & z_2 & \\geq & 0    \\\\\n",
    "\\end{array}\n",
    "$$"
   ]
  },
  {
   "cell_type": "code",
   "execution_count": 29,
   "metadata": {
    "id": "pi13XIN0K3iJ"
   },
   "outputs": [],
   "source": [
    "def AliceWithGammaUncertainty( delta, gamma, domain=pyo.NonNegativeReals ):\n",
    "    Alice = pyo.ConcreteModel('AliceGamma')\n",
    "\n",
    "    Alice.x = pyo.Var(trophies,within=domain)\n",
    "\n",
    "    Alice.profit    = pyo.Objective(expr = sum([profits[t]*Alice.x[t] for t in trophies]), sense=pyo.maximize)\n",
    "\n",
    "    Alice.footballs = pyo.Constraint(expr = Alice.x['Football']  <= 1000)\n",
    "    Alice.golfBalls = pyo.Constraint(expr = Alice.x['Golf']      <= 1500)\n",
    "    Alice.plaques   = pyo.Constraint(expr = sum([Alice.x[t] for t in trophies]) <= 1750)\n",
    "\n",
    "    Alice.z   = pyo.Var(trophies,domain=pyo.NonNegativeReals)\n",
    "    Alice.lam = pyo.Var(domain=pyo.NonNegativeReals)\n",
    "\n",
    "    Alice.robustWood = pyo.Constraint( \\\n",
    "     expr = sum([wood[t]*Alice.x[t] for t in trophies]) \\\n",
    "          + gamma * Alice.lam \\\n",
    "          + sum(Alice.z[t] for t in trophies) <= 4800)\n",
    "\n",
    "    def up_rule( model, t ):\n",
    "        return model.z[t] >=  delta * model.x[t] - model.lam\n",
    "    def down_rule( model, t ):\n",
    "        return model.z[t] >= -delta * model.x[t] - model.lam\n",
    "    \n",
    "    Alice.up   = pyo.Constraint(trophies,rule=up_rule)\n",
    "    Alice.down = pyo.Constraint(trophies,rule=down_rule)\n",
    "\n",
    "    return Alice"
   ]
  },
  {
   "cell_type": "code",
   "execution_count": 30,
   "metadata": {
    "colab": {
     "base_uri": "https://localhost:8080/"
    },
    "executionInfo": {
     "elapsed": 208,
     "status": "ok",
     "timestamp": 1633444006313,
     "user": {
      "displayName": "Joaquim Gromicho",
      "photoUrl": "https://lh3.googleusercontent.com/a/default-user=s64",
      "userId": "14375950305363805729"
     },
     "user_tz": -120
    },
    "id": "uqk9fpA-K3iJ",
    "outputId": "709fae1e-0a7f-47e0-8155-9e296873ba1d"
   },
   "outputs": [
    {
     "name": "stdout",
     "output_type": "stream",
     "text": [
      "CPU times: user 6.06 ms, sys: 10.3 ms, total: 16.3 ms\n",
      "Wall time: 250 ms\n",
      "ok optimal\n"
     ]
    },
    {
     "data": {
      "text/plain": [
       "[17673.0, 641.0, 1109.0]"
      ]
     },
     "execution_count": 30,
     "metadata": {},
     "output_type": "execute_result"
    }
   ],
   "source": [
    "Alice = AliceWithGammaUncertainty( 0.01, 2, domain=pyo.NonNegativeIntegers )\n",
    "\n",
    "%time results = cbc.solve(Alice)\n",
    "print(results.solver.status, results.solver.termination_condition )\n",
    "JustSolution(Alice)"
   ]
  },
  {
   "cell_type": "markdown",
   "metadata": {
    "id": "FeH2kXz6K3iJ"
   },
   "source": [
    "# Ball uncertainty\n",
    "\n",
    "As [the documentation](https://pyomo.readthedocs.io/en/stable/library_reference/kernel/conic.html) says a conic constraint is expressed in 'pyomo' in simple variables.\n",
    "\n",
    "This [table](https://pyomo.readthedocs.io/en/stable/library_reference/kernel/syntax_comparison.html) is very useful. \n",
    "\n",
    "A straightforward remodulation leads to that:\n",
    "\n",
    "$$ \n",
    "  a_1x_1+a_2x_2 + \\Omega \\|x\\| \\leq 4800\n",
    "$$\n",
    "\n",
    "$$\n",
    "  \\Omega \\|x\\| \\leq 4800 - a_1x_1 - a_2x_2\n",
    "$$\n",
    "$$\n",
    "  \\|\\Omega x\\| \\leq 4800 - a_1x_1 - a_2x_2\n",
    "$$\n",
    "\n",
    "By defining $y = 4800 - a_1x_1 - a_2x_2$ we may write:\n",
    "$$\n",
    "  \\Omega^2 \\|x\\|^2 \\leq y^2\n",
    "$$\n",
    "\n",
    "$$\n",
    "  (\\Omega x_1)^2 + (\\Omega x_2)^2 \\leq y^2\n",
    "$$\n",
    "\n",
    "$$\n",
    "  \\|w\\|^2 \\leq y^2\n",
    "$$\n",
    "\n",
    "with $w = \\Omega x$."
   ]
  },
  {
   "cell_type": "markdown",
   "metadata": {
    "id": "PdNL7TLNB18o"
   },
   "source": [
    "## Documentation says that we need to use the kernel now"
   ]
  },
  {
   "cell_type": "code",
   "execution_count": 31,
   "metadata": {
    "id": "R8cxrfWvK3iJ"
   },
   "outputs": [],
   "source": [
    "import pyomo.kernel as pyk\n",
    "\n",
    "def AliceWithBallUncertainty( omega, domain_type=pyk.RealSet ):\n",
    "    \n",
    "    idxTrophies = range( len(trophies) )\n",
    "    \n",
    "    Alice = pyk.block()\n",
    "\n",
    "    Alice.x = pyk.variable_list()\n",
    "    for i in idxTrophies:\n",
    "        Alice.x.append( pyk.variable(lb=0,domain_type=domain_type) )\n",
    "    \n",
    "    Alice.profit    = pyk.objective(expr = sum(profits[trophies[i]]*Alice.x[i] for i in idxTrophies), sense=pyk.maximize)\n",
    "\n",
    "    Alice.footballs = pyk.constraint(expr = Alice.x[0]  <= 1000)\n",
    "    Alice.golfBalls = pyk.constraint(expr = Alice.x[1]  <= 1500)\n",
    "    Alice.plaques   = pyk.constraint(expr = sum([Alice.x[i] for i in idxTrophies]) <= 1750)\n",
    "\n",
    "    Alice.y = pyk.variable(lb=0)\n",
    "    Alice.w = pyk.variable_list()\n",
    "    for i in idxTrophies:\n",
    "        Alice.w.append( pyk.variable(lb=0) )\n",
    "\n",
    "    Alice.wood = pyk.constraint( expr = Alice.y == 4800 - sum(wood[trophies[i]]*Alice.x[i] for i in idxTrophies) ) \n",
    "\n",
    "    Alice.xtow = pyk.constraint_list()\n",
    "    for i in idxTrophies:\n",
    "        Alice.xtow.append( pyk.constraint( expr = Alice.w[i] == omega * Alice.x[i] ) )\n",
    "\n",
    "    from pyomo.core.kernel.conic import quadratic\n",
    "    Alice.robust = quadratic(Alice.y,Alice.w)\n",
    "\n",
    "    return Alice"
   ]
  },
  {
   "cell_type": "markdown",
   "metadata": {
    "id": "davY1fZlK3iJ"
   },
   "source": [
    "## Now the problem is nonlinear"
   ]
  },
  {
   "cell_type": "code",
   "execution_count": 32,
   "metadata": {
    "colab": {
     "base_uri": "https://localhost:8080/"
    },
    "executionInfo": {
     "elapsed": 31,
     "status": "ok",
     "timestamp": 1633441689059,
     "user": {
      "displayName": "Joaquim Gromicho",
      "photoUrl": "https://lh3.googleusercontent.com/a/default-user=s64",
      "userId": "14375950305363805729"
     },
     "user_tz": -120
    },
    "id": "x5v-UqFuK3iJ",
    "outputId": "905cb433-52f9-4f93-a00d-57f852355289"
   },
   "outputs": [
    {
     "name": "stdout",
     "output_type": "stream",
     "text": [
      "CPU times: user 6.6 ms, sys: 11.8 ms, total: 18.4 ms\n",
      "Wall time: 346 ms\n",
      "ok optimal\n",
      "17504.443278691946\n",
      "[584.8143737319464, 1165.185643767621]\n"
     ]
    }
   ],
   "source": [
    "Alice = AliceWithBallUncertainty( 0.1 )\n",
    "\n",
    "%time results = ipopt.solve(Alice)\n",
    "print(results.solver.status, results.solver.termination_condition )\n",
    "print(pyk.value(Alice.profit))\n",
    "print( [pyk.value(Alice.x[i]) for i in range(len(Alice.x))] )"
   ]
  },
  {
   "cell_type": "markdown",
   "metadata": {
    "id": "pABh5n4IK3iK"
   },
   "source": [
    "## But `cplex`, `gurobi` and `xpress` support second order cones"
   ]
  },
  {
   "cell_type": "code",
   "execution_count": 33,
   "metadata": {
    "id": "Y9VTJd3L3fiA"
   },
   "outputs": [],
   "source": [
    "conicsolver = gurobi"
   ]
  },
  {
   "cell_type": "code",
   "execution_count": 34,
   "metadata": {
    "colab": {
     "base_uri": "https://localhost:8080/"
    },
    "executionInfo": {
     "elapsed": 29,
     "status": "ok",
     "timestamp": 1633441689060,
     "user": {
      "displayName": "Joaquim Gromicho",
      "photoUrl": "https://lh3.googleusercontent.com/a/default-user=s64",
      "userId": "14375950305363805729"
     },
     "user_tz": -120
    },
    "id": "RB17G1AqK3iK",
    "outputId": "8f2d5c93-bb47-4574-a4d5-15a2f4cc6c54"
   },
   "outputs": [
    {
     "name": "stdout",
     "output_type": "stream",
     "text": [
      "WARNING: Could not create Model - gurobi message=License expired 2022-04-28\n",
      "\n",
      "    Set parameter Username\n"
     ]
    },
    {
     "ename": "ApplicationError",
     "evalue": "Could not create a gurobipy Model for <class 'pyomo.solvers.plugins.solvers.gurobi_direct.GurobiDirect'> solver plugin",
     "output_type": "error",
     "traceback": [
      "\u001b[0;31m---------------------------------------------------------------------------\u001b[0m",
      "\u001b[0;31mApplicationError\u001b[0m                          Traceback (most recent call last)",
      "File \u001b[0;32m<timed exec>:1\u001b[0m, in \u001b[0;36m<module>\u001b[0;34m\u001b[0m\n",
      "File \u001b[0;32m~/opt/anaconda3/lib/python3.9/site-packages/pyomo/solvers/plugins/solvers/direct_solver.py:69\u001b[0m, in \u001b[0;36mDirectSolver.solve\u001b[0;34m(self, *args, **kwds)\u001b[0m\n\u001b[1;32m     66\u001b[0m \u001b[38;5;28;01mdef\u001b[39;00m \u001b[38;5;21msolve\u001b[39m(\u001b[38;5;28mself\u001b[39m, \u001b[38;5;241m*\u001b[39margs, \u001b[38;5;241m*\u001b[39m\u001b[38;5;241m*\u001b[39mkwds):\n\u001b[1;32m     67\u001b[0m     \u001b[38;5;124;03m\"\"\" Solve the problem \"\"\"\u001b[39;00m\n\u001b[0;32m---> 69\u001b[0m     \u001b[38;5;28;43mself\u001b[39;49m\u001b[38;5;241;43m.\u001b[39;49m\u001b[43mavailable\u001b[49m\u001b[43m(\u001b[49m\u001b[43mexception_flag\u001b[49m\u001b[38;5;241;43m=\u001b[39;49m\u001b[38;5;28;43;01mTrue\u001b[39;49;00m\u001b[43m)\u001b[49m\n\u001b[1;32m     70\u001b[0m     \u001b[38;5;66;03m#\u001b[39;00m\n\u001b[1;32m     71\u001b[0m     \u001b[38;5;66;03m# If the inputs are models, then validate that they have been\u001b[39;00m\n\u001b[1;32m     72\u001b[0m     \u001b[38;5;66;03m# constructed! Collect suffix names to try and import from solution.\u001b[39;00m\n\u001b[1;32m     73\u001b[0m     \u001b[38;5;66;03m#\u001b[39;00m\n\u001b[1;32m     74\u001b[0m     _model \u001b[38;5;241m=\u001b[39m \u001b[38;5;28;01mNone\u001b[39;00m\n",
      "File \u001b[0;32m~/opt/anaconda3/lib/python3.9/site-packages/pyomo/solvers/plugins/solvers/gurobi_direct.py:145\u001b[0m, in \u001b[0;36mGurobiDirect.available\u001b[0;34m(self, exception_flag)\u001b[0m\n\u001b[1;32m    143\u001b[0m \u001b[38;5;28;01mif\u001b[39;00m exception_flag \u001b[38;5;129;01mand\u001b[39;00m \u001b[38;5;129;01mnot\u001b[39;00m \u001b[38;5;28mself\u001b[39m\u001b[38;5;241m.\u001b[39m_verified_license:\n\u001b[1;32m    144\u001b[0m     logger\u001b[38;5;241m.\u001b[39mwarning(GurobiDirect\u001b[38;5;241m.\u001b[39m_import_messages)\n\u001b[0;32m--> 145\u001b[0m     \u001b[38;5;28;01mraise\u001b[39;00m ApplicationError(\n\u001b[1;32m    146\u001b[0m         \u001b[38;5;124m\"\u001b[39m\u001b[38;5;124mCould not create a gurobipy Model for \u001b[39m\u001b[38;5;132;01m%s\u001b[39;00m\u001b[38;5;124m solver plugin\u001b[39m\u001b[38;5;124m\"\u001b[39m\n\u001b[1;32m    147\u001b[0m         \u001b[38;5;241m%\u001b[39m (\u001b[38;5;28mtype\u001b[39m(\u001b[38;5;28mself\u001b[39m),))\n\u001b[1;32m    148\u001b[0m \u001b[38;5;28;01mreturn\u001b[39;00m \u001b[38;5;28mself\u001b[39m\u001b[38;5;241m.\u001b[39m_verified_license\n",
      "\u001b[0;31mApplicationError\u001b[0m: Could not create a gurobipy Model for <class 'pyomo.solvers.plugins.solvers.gurobi_direct.GurobiDirect'> solver plugin"
     ]
    },
    {
     "name": "stdout",
     "output_type": "stream",
     "text": [
      "ok optimal\n",
      "17504.443278691946\n",
      "[584.8143737319464, 1165.185643767621]\n"
     ]
    }
   ],
   "source": [
    "%time results = conicsolver.solve(Alice)\n",
    "print(results.solver.status, results.solver.termination_condition )\n",
    "print(pyk.value(Alice.profit))\n",
    "print( [pyk.value(Alice.x[i]) for i in range(len(Alice.x))] )"
   ]
  },
  {
   "cell_type": "markdown",
   "metadata": {
    "id": "CGAcVL5yK3iK"
   },
   "source": [
    "## And therefore we can also have mixed integer models "
   ]
  },
  {
   "cell_type": "code",
   "execution_count": 35,
   "metadata": {
    "colab": {
     "base_uri": "https://localhost:8080/"
    },
    "executionInfo": {
     "elapsed": 526,
     "status": "ok",
     "timestamp": 1633441689559,
     "user": {
      "displayName": "Joaquim Gromicho",
      "photoUrl": "https://lh3.googleusercontent.com/a/default-user=s64",
      "userId": "14375950305363805729"
     },
     "user_tz": -120
    },
    "id": "WGJvS_K_K3iK",
    "outputId": "556705bc-5883-4c02-b6dd-394cfbc5e969"
   },
   "outputs": [
    {
     "name": "stdout",
     "output_type": "stream",
     "text": [
      "WARNING: Could not create Model - gurobi message=License expired 2022-04-28\n",
      "\n",
      "    Set parameter Username\n"
     ]
    },
    {
     "ename": "ApplicationError",
     "evalue": "Could not create a gurobipy Model for <class 'pyomo.solvers.plugins.solvers.gurobi_direct.GurobiDirect'> solver plugin",
     "output_type": "error",
     "traceback": [
      "\u001b[0;31m---------------------------------------------------------------------------\u001b[0m",
      "\u001b[0;31mApplicationError\u001b[0m                          Traceback (most recent call last)",
      "File \u001b[0;32m<timed exec>:1\u001b[0m, in \u001b[0;36m<module>\u001b[0;34m\u001b[0m\n",
      "File \u001b[0;32m~/opt/anaconda3/lib/python3.9/site-packages/pyomo/solvers/plugins/solvers/direct_solver.py:69\u001b[0m, in \u001b[0;36mDirectSolver.solve\u001b[0;34m(self, *args, **kwds)\u001b[0m\n\u001b[1;32m     66\u001b[0m \u001b[38;5;28;01mdef\u001b[39;00m \u001b[38;5;21msolve\u001b[39m(\u001b[38;5;28mself\u001b[39m, \u001b[38;5;241m*\u001b[39margs, \u001b[38;5;241m*\u001b[39m\u001b[38;5;241m*\u001b[39mkwds):\n\u001b[1;32m     67\u001b[0m     \u001b[38;5;124;03m\"\"\" Solve the problem \"\"\"\u001b[39;00m\n\u001b[0;32m---> 69\u001b[0m     \u001b[38;5;28;43mself\u001b[39;49m\u001b[38;5;241;43m.\u001b[39;49m\u001b[43mavailable\u001b[49m\u001b[43m(\u001b[49m\u001b[43mexception_flag\u001b[49m\u001b[38;5;241;43m=\u001b[39;49m\u001b[38;5;28;43;01mTrue\u001b[39;49;00m\u001b[43m)\u001b[49m\n\u001b[1;32m     70\u001b[0m     \u001b[38;5;66;03m#\u001b[39;00m\n\u001b[1;32m     71\u001b[0m     \u001b[38;5;66;03m# If the inputs are models, then validate that they have been\u001b[39;00m\n\u001b[1;32m     72\u001b[0m     \u001b[38;5;66;03m# constructed! Collect suffix names to try and import from solution.\u001b[39;00m\n\u001b[1;32m     73\u001b[0m     \u001b[38;5;66;03m#\u001b[39;00m\n\u001b[1;32m     74\u001b[0m     _model \u001b[38;5;241m=\u001b[39m \u001b[38;5;28;01mNone\u001b[39;00m\n",
      "File \u001b[0;32m~/opt/anaconda3/lib/python3.9/site-packages/pyomo/solvers/plugins/solvers/gurobi_direct.py:145\u001b[0m, in \u001b[0;36mGurobiDirect.available\u001b[0;34m(self, exception_flag)\u001b[0m\n\u001b[1;32m    143\u001b[0m \u001b[38;5;28;01mif\u001b[39;00m exception_flag \u001b[38;5;129;01mand\u001b[39;00m \u001b[38;5;129;01mnot\u001b[39;00m \u001b[38;5;28mself\u001b[39m\u001b[38;5;241m.\u001b[39m_verified_license:\n\u001b[1;32m    144\u001b[0m     logger\u001b[38;5;241m.\u001b[39mwarning(GurobiDirect\u001b[38;5;241m.\u001b[39m_import_messages)\n\u001b[0;32m--> 145\u001b[0m     \u001b[38;5;28;01mraise\u001b[39;00m ApplicationError(\n\u001b[1;32m    146\u001b[0m         \u001b[38;5;124m\"\u001b[39m\u001b[38;5;124mCould not create a gurobipy Model for \u001b[39m\u001b[38;5;132;01m%s\u001b[39;00m\u001b[38;5;124m solver plugin\u001b[39m\u001b[38;5;124m\"\u001b[39m\n\u001b[1;32m    147\u001b[0m         \u001b[38;5;241m%\u001b[39m (\u001b[38;5;28mtype\u001b[39m(\u001b[38;5;28mself\u001b[39m),))\n\u001b[1;32m    148\u001b[0m \u001b[38;5;28;01mreturn\u001b[39;00m \u001b[38;5;28mself\u001b[39m\u001b[38;5;241m.\u001b[39m_verified_license\n",
      "\u001b[0;31mApplicationError\u001b[0m: Could not create a gurobipy Model for <class 'pyomo.solvers.plugins.solvers.gurobi_direct.GurobiDirect'> solver plugin"
     ]
    },
    {
     "name": "stdout",
     "output_type": "stream",
     "text": [
      "ok optimal\n",
      "ERROR: evaluating object as numeric value: x[0]\n",
      "        (object: <class 'pyomo.core.kernel.variable.variable'>)\n",
      "    value is None\n",
      "ERROR: evaluating object as numeric value: 12*x[0] + 9*x[1]\n",
      "        (object: <class 'pyomo.core.expr.numeric_expr.SumExpression'>)\n",
      "    value is None\n",
      "ERROR: evaluating object as numeric value: profit\n",
      "        (object: <class 'pyomo.core.kernel.objective.objective'>)\n",
      "    value is None\n"
     ]
    },
    {
     "ename": "ValueError",
     "evalue": "value is None",
     "output_type": "error",
     "traceback": [
      "\u001b[0;31m---------------------------------------------------------------------------\u001b[0m",
      "\u001b[0;31mValueError\u001b[0m                                Traceback (most recent call last)",
      "Input \u001b[0;32mIn [35]\u001b[0m, in \u001b[0;36m<cell line: 5>\u001b[0;34m()\u001b[0m\n\u001b[1;32m      3\u001b[0m get_ipython()\u001b[38;5;241m.\u001b[39mrun_line_magic(\u001b[38;5;124m'\u001b[39m\u001b[38;5;124mtime\u001b[39m\u001b[38;5;124m'\u001b[39m, \u001b[38;5;124m'\u001b[39m\u001b[38;5;124mresults = conicsolver.solve(Alice)\u001b[39m\u001b[38;5;124m'\u001b[39m)\n\u001b[1;32m      4\u001b[0m \u001b[38;5;28mprint\u001b[39m(results\u001b[38;5;241m.\u001b[39msolver\u001b[38;5;241m.\u001b[39mstatus, results\u001b[38;5;241m.\u001b[39msolver\u001b[38;5;241m.\u001b[39mtermination_condition )\n\u001b[0;32m----> 5\u001b[0m \u001b[38;5;28mprint\u001b[39m(\u001b[43mpyk\u001b[49m\u001b[38;5;241;43m.\u001b[39;49m\u001b[43mvalue\u001b[49m\u001b[43m(\u001b[49m\u001b[43mAlice\u001b[49m\u001b[38;5;241;43m.\u001b[39;49m\u001b[43mprofit\u001b[49m\u001b[43m)\u001b[49m)\n\u001b[1;32m      6\u001b[0m \u001b[38;5;28mprint\u001b[39m( [pyk\u001b[38;5;241m.\u001b[39mvalue(Alice\u001b[38;5;241m.\u001b[39mx[i]) \u001b[38;5;28;01mfor\u001b[39;00m i \u001b[38;5;129;01min\u001b[39;00m \u001b[38;5;28mrange\u001b[39m(\u001b[38;5;28mlen\u001b[39m(Alice\u001b[38;5;241m.\u001b[39mx))] )\n",
      "File \u001b[0;32mpyomo/core/expr/numvalue.pyx:156\u001b[0m, in \u001b[0;36mpyomo.core.expr.numvalue.value\u001b[0;34m()\u001b[0m\n",
      "File \u001b[0;32mpyomo/core/expr/numvalue.pyx:141\u001b[0m, in \u001b[0;36mpyomo.core.expr.numvalue.value\u001b[0;34m()\u001b[0m\n",
      "File \u001b[0;32m~/opt/anaconda3/lib/python3.9/site-packages/pyomo/core/kernel/expression.py:56\u001b[0m, in \u001b[0;36mIIdentityExpression.__call__\u001b[0;34m(self, exception)\u001b[0m\n\u001b[1;32m     41\u001b[0m \u001b[38;5;28;01mdef\u001b[39;00m \u001b[38;5;21m__call__\u001b[39m(\u001b[38;5;28mself\u001b[39m, exception\u001b[38;5;241m=\u001b[39m\u001b[38;5;28;01mFalse\u001b[39;00m):\n\u001b[1;32m     42\u001b[0m     \u001b[38;5;124;03m\"\"\"Compute the value of this expression.\u001b[39;00m\n\u001b[1;32m     43\u001b[0m \n\u001b[1;32m     44\u001b[0m \u001b[38;5;124;03m    Args:\u001b[39;00m\n\u001b[0;32m   (...)\u001b[0m\n\u001b[1;32m     54\u001b[0m \u001b[38;5;124;03m        numeric value or None\u001b[39;00m\n\u001b[1;32m     55\u001b[0m \u001b[38;5;124;03m    \"\"\"\u001b[39;00m\n\u001b[0;32m---> 56\u001b[0m     \u001b[38;5;28;01mreturn\u001b[39;00m \u001b[43mvalue\u001b[49m\u001b[43m(\u001b[49m\u001b[38;5;28;43mself\u001b[39;49m\u001b[38;5;241;43m.\u001b[39;49m\u001b[43m_expr\u001b[49m\u001b[43m,\u001b[49m\u001b[43m \u001b[49m\u001b[43mexception\u001b[49m\u001b[38;5;241;43m=\u001b[39;49m\u001b[43mexception\u001b[49m\u001b[43m)\u001b[49m\n",
      "File \u001b[0;32mpyomo/core/expr/numvalue.pyx:156\u001b[0m, in \u001b[0;36mpyomo.core.expr.numvalue.value\u001b[0;34m()\u001b[0m\n",
      "File \u001b[0;32mpyomo/core/expr/numvalue.pyx:141\u001b[0m, in \u001b[0;36mpyomo.core.expr.numvalue.value\u001b[0;34m()\u001b[0m\n",
      "File \u001b[0;32mpyomo/core/expr/numeric_expr.pyx:209\u001b[0m, in \u001b[0;36mpyomo.core.expr.numeric_expr.ExpressionBase.__call__\u001b[0;34m()\u001b[0m\n",
      "File \u001b[0;32m~/opt/anaconda3/lib/python3.9/site-packages/pyomo/core/expr/visitor.py:892\u001b[0m, in \u001b[0;36mevaluate_expression\u001b[0;34m(exp, exception, constant)\u001b[0m\n\u001b[1;32m    890\u001b[0m     visitor \u001b[38;5;241m=\u001b[39m _EvaluationVisitor(exception\u001b[38;5;241m=\u001b[39mexception)\n\u001b[1;32m    891\u001b[0m \u001b[38;5;28;01mtry\u001b[39;00m:\n\u001b[0;32m--> 892\u001b[0m     \u001b[38;5;28;01mreturn\u001b[39;00m \u001b[43mvisitor\u001b[49m\u001b[38;5;241;43m.\u001b[39;49m\u001b[43mdfs_postorder_stack\u001b[49m\u001b[43m(\u001b[49m\u001b[43mexp\u001b[49m\u001b[43m)\u001b[49m\n\u001b[1;32m    894\u001b[0m \u001b[38;5;28;01mexcept\u001b[39;00m ( TemplateExpressionError, \u001b[38;5;167;01mValueError\u001b[39;00m, \u001b[38;5;167;01mTypeError\u001b[39;00m,\n\u001b[1;32m    895\u001b[0m          NonConstantExpressionError, FixedExpressionError ):\n\u001b[1;32m    896\u001b[0m     \u001b[38;5;66;03m# Errors that we want to be able to suppress:\u001b[39;00m\n\u001b[0;32m   (...)\u001b[0m\n\u001b[1;32m    904\u001b[0m     \u001b[38;5;66;03m#   TypeError: This can be raised in Python3 when evaluating a\u001b[39;00m\n\u001b[1;32m    905\u001b[0m     \u001b[38;5;66;03m#      operation returns a complex number (e.g., sqrt(-1))\u001b[39;00m\n\u001b[1;32m    906\u001b[0m     \u001b[38;5;28;01mif\u001b[39;00m exception:\n",
      "File \u001b[0;32m~/opt/anaconda3/lib/python3.9/site-packages/pyomo/core/expr/visitor.py:574\u001b[0m, in \u001b[0;36mExpressionValueVisitor.dfs_postorder_stack\u001b[0;34m(self, node)\u001b[0m\n\u001b[1;32m    572\u001b[0m _sub \u001b[38;5;241m=\u001b[39m _argList[_idx]\n\u001b[1;32m    573\u001b[0m _idx \u001b[38;5;241m+\u001b[39m\u001b[38;5;241m=\u001b[39m \u001b[38;5;241m1\u001b[39m\n\u001b[0;32m--> 574\u001b[0m flag, value \u001b[38;5;241m=\u001b[39m \u001b[38;5;28;43mself\u001b[39;49m\u001b[38;5;241;43m.\u001b[39;49m\u001b[43mvisiting_potential_leaf\u001b[49m\u001b[43m(\u001b[49m\u001b[43m_sub\u001b[49m\u001b[43m)\u001b[49m\n\u001b[1;32m    575\u001b[0m \u001b[38;5;28;01mif\u001b[39;00m flag:\n\u001b[1;32m    576\u001b[0m     _result\u001b[38;5;241m.\u001b[39mappend( value )\n",
      "File \u001b[0;32m~/opt/anaconda3/lib/python3.9/site-packages/pyomo/core/expr/visitor.py:802\u001b[0m, in \u001b[0;36m_EvaluationVisitor.visiting_potential_leaf\u001b[0;34m(self, node)\u001b[0m\n\u001b[1;32m    799\u001b[0m     \u001b[38;5;28;01mreturn\u001b[39;00m \u001b[38;5;28;01mFalse\u001b[39;00m, \u001b[38;5;28;01mNone\u001b[39;00m\n\u001b[1;32m    801\u001b[0m \u001b[38;5;28;01mif\u001b[39;00m node\u001b[38;5;241m.\u001b[39mis_numeric_type():\n\u001b[0;32m--> 802\u001b[0m     \u001b[38;5;28;01mreturn\u001b[39;00m \u001b[38;5;28;01mTrue\u001b[39;00m, \u001b[43mvalue\u001b[49m\u001b[43m(\u001b[49m\u001b[43mnode\u001b[49m\u001b[43m,\u001b[49m\u001b[43m \u001b[49m\u001b[43mexception\u001b[49m\u001b[38;5;241;43m=\u001b[39;49m\u001b[38;5;28;43mself\u001b[39;49m\u001b[38;5;241;43m.\u001b[39;49m\u001b[43mexception\u001b[49m\u001b[43m)\u001b[49m\n\u001b[1;32m    803\u001b[0m \u001b[38;5;28;01melif\u001b[39;00m node\u001b[38;5;241m.\u001b[39mis_logical_type():\n\u001b[1;32m    804\u001b[0m     \u001b[38;5;28;01mreturn\u001b[39;00m \u001b[38;5;28;01mTrue\u001b[39;00m, value(node, exception\u001b[38;5;241m=\u001b[39m\u001b[38;5;28mself\u001b[39m\u001b[38;5;241m.\u001b[39mexception)\n",
      "File \u001b[0;32mpyomo/core/expr/numvalue.pyx:156\u001b[0m, in \u001b[0;36mpyomo.core.expr.numvalue.value\u001b[0;34m()\u001b[0m\n",
      "File \u001b[0;32mpyomo/core/expr/numvalue.pyx:141\u001b[0m, in \u001b[0;36mpyomo.core.expr.numvalue.value\u001b[0;34m()\u001b[0m\n",
      "File \u001b[0;32m~/opt/anaconda3/lib/python3.9/site-packages/pyomo/core/kernel/variable.py:268\u001b[0m, in \u001b[0;36mIVariable.__call__\u001b[0;34m(self, exception)\u001b[0m\n\u001b[1;32m    266\u001b[0m \u001b[38;5;124;03m\"\"\"Return the value of this variable.\"\"\"\u001b[39;00m\n\u001b[1;32m    267\u001b[0m \u001b[38;5;28;01mif\u001b[39;00m exception \u001b[38;5;129;01mand\u001b[39;00m (\u001b[38;5;28mself\u001b[39m\u001b[38;5;241m.\u001b[39mvalue \u001b[38;5;129;01mis\u001b[39;00m \u001b[38;5;28;01mNone\u001b[39;00m):\n\u001b[0;32m--> 268\u001b[0m     \u001b[38;5;28;01mraise\u001b[39;00m \u001b[38;5;167;01mValueError\u001b[39;00m(\u001b[38;5;124m\"\u001b[39m\u001b[38;5;124mvalue is None\u001b[39m\u001b[38;5;124m\"\u001b[39m)\n\u001b[1;32m    269\u001b[0m \u001b[38;5;28;01mreturn\u001b[39;00m \u001b[38;5;28mself\u001b[39m\u001b[38;5;241m.\u001b[39mvalue\n",
      "\u001b[0;31mValueError\u001b[0m: value is None"
     ]
    }
   ],
   "source": [
    "Alice = AliceWithBallUncertainty( 0.1, domain_type=pyk.IntegerSet )\n",
    "\n",
    "%time results = conicsolver.solve(Alice)\n",
    "print(results.solver.status, results.solver.termination_condition )\n",
    "print(pyk.value(Alice.profit))\n",
    "print( [pyk.value(Alice.x[i]) for i in range(len(Alice.x))] )"
   ]
  },
  {
   "cell_type": "markdown",
   "metadata": {
    "id": "O0dZH3IOK3iK"
   },
   "source": [
    "## Final note: maybe useful to recall that in python you can always ask for help..."
   ]
  },
  {
   "cell_type": "code",
   "execution_count": 36,
   "metadata": {
    "colab": {
     "base_uri": "https://localhost:8080/"
    },
    "executionInfo": {
     "elapsed": 525,
     "status": "ok",
     "timestamp": 1633441689566,
     "user": {
      "displayName": "Joaquim Gromicho",
      "photoUrl": "https://lh3.googleusercontent.com/a/default-user=s64",
      "userId": "14375950305363805729"
     },
     "user_tz": -120
    },
    "id": "4XryKHzpK3iK",
    "outputId": "2b8524d1-5913-4931-c758-518efb060672"
   },
   "outputs": [
    {
     "name": "stdout",
     "output_type": "stream",
     "text": [
      "Help on variable in module pyomo.core.kernel.variable object:\n",
      "\n",
      "class variable(IVariable)\n",
      " |  variable(domain_type=None, domain=None, lb=None, ub=None, value=None, fixed=False)\n",
      " |  \n",
      " |  A decision variable\n",
      " |  \n",
      " |  Decision variables are used in objectives and\n",
      " |  constraints to define an optimization problem.\n",
      " |  \n",
      " |  Args:\n",
      " |      domain_type: Sets the domain type of the\n",
      " |          variable. Must be one of :const:`RealSet` or\n",
      " |          :const:`IntegerSet`. Can be updated later by\n",
      " |          assigning to the :attr:`domain_type`\n",
      " |          property. The default value of :const:`None` is\n",
      " |          equivalent to :const:`RealSet`, unless the\n",
      " |          :attr:`domain` keyword is used.\n",
      " |      domain: Sets the domain of the variable. This\n",
      " |          updates the :attr:`domain_type`, :attr:`lb`, and\n",
      " |          :attr:`ub` properties of the variable. The\n",
      " |          default value of :const:`None` implies that this\n",
      " |          keyword is ignored. This keyword can not be used\n",
      " |          in combination with the :attr:`domain_type`\n",
      " |          keyword.\n",
      " |      lb: Sets the lower bound of the variable. Can be\n",
      " |          updated later by assigning to the :attr:`lb`\n",
      " |          property on the variable. Default is\n",
      " |          :const:`None`, which is equivalent to\n",
      " |          :const:`-inf`.\n",
      " |      ub: Sets the upper bound of the variable. Can be\n",
      " |          updated later by assigning to the :attr:`ub`\n",
      " |          property on the variable. Default is\n",
      " |          :const:`None`, which is equivalent to\n",
      " |          :const:`+inf`.\n",
      " |      value: Sets the value of the variable. Can be\n",
      " |          updated later by assigning to the :attr:`value`\n",
      " |          property on the variable. Default is\n",
      " |          :const:`None`.\n",
      " |      fixed (bool): Sets the fixed status of the\n",
      " |          variable. Can be updated later by assigning to\n",
      " |          the :attr:`fixed` property or by calling the\n",
      " |          :meth:`fix` method. Default is :const:`False`.\n",
      " |  \n",
      " |  Examples:\n",
      " |      >>> import pyomo.kernel as pmo\n",
      " |      >>> # A continuous variable with infinite bounds\n",
      " |      >>> x = pmo.variable()\n",
      " |      >>> # A binary variable\n",
      " |      >>> x = pmo.variable(domain=pmo.Binary)\n",
      " |      >>> # Also a binary variable\n",
      " |      >>> x = pmo.variable(domain_type=pmo.IntegerSet, lb=0, ub=1)\n",
      " |  \n",
      " |  Method resolution order:\n",
      " |      variable\n",
      " |      IVariable\n",
      " |      pyomo.core.kernel.base.ICategorizedObject\n",
      " |      pyomo.core.expr.numvalue.NumericValue\n",
      " |      pyomo.core.pyomoobject.PyomoObject\n",
      " |      builtins.object\n",
      " |  \n",
      " |  Methods defined here:\n",
      " |  \n",
      " |  __init__(self, domain_type=None, domain=None, lb=None, ub=None, value=None, fixed=False)\n",
      " |      Initialize self.  See help(type(self)) for accurate signature.\n",
      " |  \n",
      " |  set_value(self, value, skip_validation=True)\n",
      " |  \n",
      " |  ----------------------------------------------------------------------\n",
      " |  Data descriptors defined here:\n",
      " |  \n",
      " |  __weakref__\n",
      " |      list of weak references to the object (if defined)\n",
      " |  \n",
      " |  domain\n",
      " |      Set the domain of the variable. This method\n",
      " |      updates the :attr:`domain_type` property and\n",
      " |      overwrites the :attr:`lb` and :attr:`ub` properties\n",
      " |      with the domain bounds.\n",
      " |  \n",
      " |  domain_type\n",
      " |      The domain type of the variable (:class:`RealSet`\n",
      " |      or :class:`IntegerSet`)\n",
      " |  \n",
      " |  fixed\n",
      " |      The fixed status of the variable\n",
      " |  \n",
      " |  lower\n",
      " |      The lower bound of the variable\n",
      " |  \n",
      " |  stale\n",
      " |      The stale status of the variable\n",
      " |  \n",
      " |  upper\n",
      " |      The upper bound of the variable\n",
      " |  \n",
      " |  value\n",
      " |      The value of the variable\n",
      " |  \n",
      " |  ----------------------------------------------------------------------\n",
      " |  Methods inherited from IVariable:\n",
      " |  \n",
      " |  __call__(self, exception=True)\n",
      " |      Return the value of this variable.\n",
      " |  \n",
      " |  fix(self, value=pyomo.common.modeling.NOTSET)\n",
      " |      Fix the variable. Sets the fixed indicator to\n",
      " |      :const:`True`. An optional value argument will\n",
      " |      update the variable's value before fixing.\n",
      " |  \n",
      " |  free = unfix(self)\n",
      " |  \n",
      " |  has_lb(self)\n",
      " |      Returns :const:`False` when the lower bound is\n",
      " |      :const:`None` or negative infinity\n",
      " |  \n",
      " |  has_ub(self)\n",
      " |      Returns :const:`False` when the upper bound is\n",
      " |      :const:`None` or positive infinity\n",
      " |  \n",
      " |  is_binary(self)\n",
      " |      Returns :const:`True` when the domain type is\n",
      " |      :class:`IntegerSet` and the bounds are within\n",
      " |      [0,1].\n",
      " |  \n",
      " |  is_constant(self)\n",
      " |      Returns :const:`False` because this is not a\n",
      " |      constant in an expression.\n",
      " |  \n",
      " |  is_continuous(self)\n",
      " |      Returns :const:`True` when the domain type is\n",
      " |      :class:`RealSet`.\n",
      " |  \n",
      " |  is_discrete(self)\n",
      " |      Returns :const:`True` when the domain type is\n",
      " |      :class:`IntegerSet`.\n",
      " |  \n",
      " |  is_fixed(self)\n",
      " |      Returns :const:`True` if this variable is fixed,\n",
      " |      otherwise returns :const:`False`.\n",
      " |  \n",
      " |  is_integer(self)\n",
      " |      Returns :const:`True` when the domain type is\n",
      " |      :class:`IntegerSet`.\n",
      " |  \n",
      " |  is_parameter_type(self)\n",
      " |      Returns :const:`False` because this is not a\n",
      " |      parameter object.\n",
      " |  \n",
      " |  is_potentially_variable(self)\n",
      " |      Returns :const:`True` because this is a\n",
      " |      variable.\n",
      " |  \n",
      " |  is_variable_type(self)\n",
      " |      Returns :const:`True` because this is a\n",
      " |      variable object.\n",
      " |  \n",
      " |  polynomial_degree(self)\n",
      " |      Return the polynomial degree of this\n",
      " |      expression\n",
      " |  \n",
      " |  unfix(self)\n",
      " |      Free the variable. Sets the fixed indicator to\n",
      " |      :const:`False`.\n",
      " |  \n",
      " |  ----------------------------------------------------------------------\n",
      " |  Readonly properties inherited from IVariable:\n",
      " |  \n",
      " |  lslack\n",
      " |      Lower slack (value - lb). Returns :const:`None` if\n",
      " |      the variable value is :const:`None`.\n",
      " |  \n",
      " |  slack\n",
      " |      min(lslack, uslack). Returns :const:`None` if\n",
      " |      the variable value is :const:`None`.\n",
      " |  \n",
      " |  uslack\n",
      " |      Upper slack (ub - value). Returns :const:`None` if\n",
      " |      the variable value is :const:`None`.\n",
      " |  \n",
      " |  ----------------------------------------------------------------------\n",
      " |  Data descriptors inherited from IVariable:\n",
      " |  \n",
      " |  bounds\n",
      " |      Get/Set the bounds as a tuple (lb, ub).\n",
      " |  \n",
      " |  lb\n",
      " |      Return the numeric value of the variable lower bound.\n",
      " |  \n",
      " |  ub\n",
      " |      Return the numeric value of the variable upper bound.\n",
      " |  \n",
      " |  ----------------------------------------------------------------------\n",
      " |  Methods inherited from pyomo.core.kernel.base.ICategorizedObject:\n",
      " |  \n",
      " |  __deepcopy__(self, memo)\n",
      " |  \n",
      " |  __getstate__(self)\n",
      " |  \n",
      " |  __setstate__(self, state)\n",
      " |  \n",
      " |  __str__(self)\n",
      " |      Convert this object to a string by first\n",
      " |      attempting to generate its fully qualified name. If\n",
      " |      the object does not have a name (because it does not\n",
      " |      have a parent, then a string containing the class\n",
      " |      name is returned.\n",
      " |  \n",
      " |  activate(self)\n",
      " |      Activate this object.\n",
      " |  \n",
      " |  clone(self)\n",
      " |      Returns a copy of this object with the parent\n",
      " |      pointer set to :const:`None`.\n",
      " |      \n",
      " |      A clone is almost equivalent to deepcopy except that\n",
      " |      any categorized objects encountered that are not\n",
      " |      descendents of this object will reference the same\n",
      " |      object on the clone.\n",
      " |  \n",
      " |  deactivate(self)\n",
      " |      Deactivate this object.\n",
      " |  \n",
      " |  getname(self, fully_qualified=False, name_buffer={}, convert=<class 'str'>, relative_to=None)\n",
      " |      Dynamically generates a name for this object.\n",
      " |      \n",
      " |      Args:\n",
      " |          fully_qualified (bool): Generate a full name by\n",
      " |              iterating through all anscestor containers.\n",
      " |              Default is :const:`False`.\n",
      " |          convert (function): A function that converts a\n",
      " |              storage key into a string\n",
      " |              representation. Default is the built-in\n",
      " |              function str.\n",
      " |          relative_to (object): When generating a fully\n",
      " |              qualified name, generate the name relative\n",
      " |              to this block.\n",
      " |      \n",
      " |      Returns:\n",
      " |          If a parent exists, this method returns a string\n",
      " |          representing the name of the object in the\n",
      " |          context of its parent; otherwise (if no parent\n",
      " |          exists), this method returns :const:`None`.\n",
      " |  \n",
      " |  ----------------------------------------------------------------------\n",
      " |  Readonly properties inherited from pyomo.core.kernel.base.ICategorizedObject:\n",
      " |  \n",
      " |  ctype\n",
      " |      The object's category type.\n",
      " |  \n",
      " |  local_name\n",
      " |      The object's local name within the context of its\n",
      " |      parent. Alias for\n",
      " |      `obj.getname(fully_qualified=False)`.\n",
      " |  \n",
      " |  name\n",
      " |      The object's fully qualified name. Alias for\n",
      " |      `obj.getname(fully_qualified=True)`.\n",
      " |  \n",
      " |  parent\n",
      " |      The object's parent (possibly None).\n",
      " |  \n",
      " |  storage_key\n",
      " |      The object's storage key within its parent\n",
      " |  \n",
      " |  ----------------------------------------------------------------------\n",
      " |  Data descriptors inherited from pyomo.core.kernel.base.ICategorizedObject:\n",
      " |  \n",
      " |  active\n",
      " |      The active status of this object.\n",
      " |  \n",
      " |  ----------------------------------------------------------------------\n",
      " |  Methods inherited from pyomo.core.expr.numvalue.NumericValue:\n",
      " |  \n",
      " |  __abs__(self)\n",
      " |      Absolute value\n",
      " |      \n",
      " |      This method is called when Python processes the statement::\n",
      " |      \n",
      " |          abs(self)\n",
      " |  \n",
      " |  __add__(self, other)\n",
      " |      Binary addition\n",
      " |      \n",
      " |      This method is called when Python processes the statement::\n",
      " |      \n",
      " |          self + other\n",
      " |  \n",
      " |  __array_ufunc__(self, ufunc, method, *inputs, **kwargs)\n",
      " |  \n",
      " |  __bool__(self)\n",
      " |      Coerce the value to a bool\n",
      " |      \n",
      " |      Numeric values can be coerced to bool only if the value /\n",
      " |      expression is constant.  Fixed (but non-constant) or variable\n",
      " |      values will raise an exception.\n",
      " |      \n",
      " |      Raises:\n",
      " |          PyomoException\n",
      " |  \n",
      " |  __div__(self, other)\n",
      " |      Binary division\n",
      " |      \n",
      " |      This method is called when Python processes the statement::\n",
      " |      \n",
      " |          self / other\n",
      " |  \n",
      " |  __eq__(self, other)\n",
      " |      Equal to operator\n",
      " |      \n",
      " |      This method is called when Python processes the statement::\n",
      " |      \n",
      " |          self == other\n",
      " |  \n",
      " |  __float__(self)\n",
      " |      Coerce the value to a floating point\n",
      " |      \n",
      " |      Numeric values can be coerced to float only if the value /\n",
      " |      expression is constant.  Fixed (but non-constant) or variable\n",
      " |      values will raise an exception.\n",
      " |      \n",
      " |      Raises:\n",
      " |          TypeError\n",
      " |  \n",
      " |  __ge__(self, other)\n",
      " |      Greater than or equal operator\n",
      " |      \n",
      " |      This method is called when Python processes statements of the form::\n",
      " |      \n",
      " |          self >= other\n",
      " |          other <= self\n",
      " |  \n",
      " |  __gt__(self, other)\n",
      " |      Greater than operator\n",
      " |      \n",
      " |      This method is called when Python processes statements of the form::\n",
      " |      \n",
      " |          self > other\n",
      " |          other < self\n",
      " |  \n",
      " |  __iadd__(self, other)\n",
      " |      Binary addition\n",
      " |      \n",
      " |      This method is called when Python processes the statement::\n",
      " |      \n",
      " |          self += other\n",
      " |  \n",
      " |  __idiv__(self, other)\n",
      " |      Binary division\n",
      " |      \n",
      " |      This method is called when Python processes the statement::\n",
      " |      \n",
      " |          self /= other\n",
      " |  \n",
      " |  __imul__(self, other)\n",
      " |      Binary multiplication\n",
      " |      \n",
      " |      This method is called when Python processes the statement::\n",
      " |      \n",
      " |          self *= other\n",
      " |  \n",
      " |  __int__(self)\n",
      " |      Coerce the value to an integer\n",
      " |      \n",
      " |      Numeric values can be coerced to int only if the value /\n",
      " |      expression is constant.  Fixed (but non-constant) or variable\n",
      " |      values will raise an exception.\n",
      " |      \n",
      " |      Raises:\n",
      " |          TypeError\n",
      " |  \n",
      " |  __ipow__(self, other)\n",
      " |      Binary power\n",
      " |      \n",
      " |      This method is called when Python processes the statement::\n",
      " |      \n",
      " |          self **= other\n",
      " |  \n",
      " |  __isub__(self, other)\n",
      " |      Binary subtraction\n",
      " |      \n",
      " |      This method is called when Python processes the statement::\n",
      " |      \n",
      " |          self -= other\n",
      " |  \n",
      " |  __itruediv__(self, other)\n",
      " |      Binary division (when __future__.division is in effect)\n",
      " |      \n",
      " |      This method is called when Python processes the statement::\n",
      " |      \n",
      " |          self /= other\n",
      " |  \n",
      " |  __le__(self, other)\n",
      " |      Less than or equal operator\n",
      " |      \n",
      " |      This method is called when Python processes statements of the form::\n",
      " |      \n",
      " |          self <= other\n",
      " |          other >= self\n",
      " |  \n",
      " |  __lt__(self, other)\n",
      " |      Less than operator\n",
      " |      \n",
      " |      This method is called when Python processes statements of the form::\n",
      " |      \n",
      " |          self < other\n",
      " |          other > self\n",
      " |  \n",
      " |  __mul__(self, other)\n",
      " |      Binary multiplication\n",
      " |      \n",
      " |      This method is called when Python processes the statement::\n",
      " |      \n",
      " |          self * other\n",
      " |  \n",
      " |  __neg__(self)\n",
      " |      Negation\n",
      " |      \n",
      " |      This method is called when Python processes the statement::\n",
      " |      \n",
      " |          - self\n",
      " |  \n",
      " |  __pos__(self)\n",
      " |      Positive expression\n",
      " |      \n",
      " |      This method is called when Python processes the statement::\n",
      " |      \n",
      " |          + self\n",
      " |  \n",
      " |  __pow__(self, other)\n",
      " |      Binary power\n",
      " |      \n",
      " |      This method is called when Python processes the statement::\n",
      " |      \n",
      " |          self ** other\n",
      " |  \n",
      " |  __radd__(self, other)\n",
      " |      Binary addition\n",
      " |      \n",
      " |      This method is called when Python processes the statement::\n",
      " |      \n",
      " |          other + self\n",
      " |  \n",
      " |  __rdiv__(self, other)\n",
      " |      Binary division\n",
      " |      \n",
      " |      This method is called when Python processes the statement::\n",
      " |      \n",
      " |          other / self\n",
      " |  \n",
      " |  __rmul__(self, other)\n",
      " |      Binary multiplication\n",
      " |      \n",
      " |      This method is called when Python processes the statement::\n",
      " |      \n",
      " |          other * self\n",
      " |      \n",
      " |      when other is not a :class:`NumericValue <pyomo.core.expr.numvalue.NumericValue>` object.\n",
      " |  \n",
      " |  __rpow__(self, other)\n",
      " |      Binary power\n",
      " |      \n",
      " |      This method is called when Python processes the statement::\n",
      " |      \n",
      " |          other ** self\n",
      " |  \n",
      " |  __rsub__(self, other)\n",
      " |      Binary subtraction\n",
      " |      \n",
      " |      This method is called when Python processes the statement::\n",
      " |      \n",
      " |          other - self\n",
      " |  \n",
      " |  __rtruediv__(self, other)\n",
      " |      Binary division (when __future__.division is in effect)\n",
      " |      \n",
      " |      This method is called when Python processes the statement::\n",
      " |      \n",
      " |          other / self\n",
      " |  \n",
      " |  __sub__(self, other)\n",
      " |      Binary subtraction\n",
      " |      \n",
      " |      This method is called when Python processes the statement::\n",
      " |      \n",
      " |          self - other\n",
      " |  \n",
      " |  __truediv__(self, other)\n",
      " |      Binary division (when __future__.division is in effect)\n",
      " |      \n",
      " |      This method is called when Python processes the statement::\n",
      " |      \n",
      " |          self / other\n",
      " |  \n",
      " |  is_indexed(self)\n",
      " |      Return True if this numeric value is an indexed object\n",
      " |  \n",
      " |  is_numeric_type(self)\n",
      " |      Return True if this class is a Pyomo numeric object\n",
      " |  \n",
      " |  is_relational(self)\n",
      " |      Return True if this numeric value represents a relational expression.\n",
      " |  \n",
      " |  to_string(self, verbose=None, labeler=None, smap=None, compute_values=False)\n",
      " |      Return a string representation of the expression tree.\n",
      " |      \n",
      " |      Args:\n",
      " |          verbose (bool): If :const:`True`, then the the string \n",
      " |              representation consists of nested functions.  Otherwise,\n",
      " |              the string representation is an algebraic equation.\n",
      " |              Defaults to :const:`False`.\n",
      " |          labeler: An object that generates string labels for \n",
      " |              variables in the expression tree.  Defaults to :const:`None`.\n",
      " |      \n",
      " |      Returns:\n",
      " |          A string representation for the expression tree.\n",
      " |  \n",
      " |  ----------------------------------------------------------------------\n",
      " |  Data and other attributes inherited from pyomo.core.expr.numvalue.NumericValue:\n",
      " |  \n",
      " |  __hash__ = None\n",
      " |  \n",
      " |  ----------------------------------------------------------------------\n",
      " |  Methods inherited from pyomo.core.pyomoobject.PyomoObject:\n",
      " |  \n",
      " |  is_component_type(self)\n",
      " |      Return True if this class is a Pyomo component\n",
      " |  \n",
      " |  is_expression_type(self)\n",
      " |      Return True if this numeric value is an expression\n",
      " |  \n",
      " |  is_logical_type(self)\n",
      " |      Return True if this class is a Pyomo Boolean value, variable, or expression.\n",
      " |  \n",
      " |  is_named_expression_type(self)\n",
      " |      Return True if this numeric value is a named expression\n",
      " |  \n",
      " |  is_reference(self)\n",
      " |      Return True if this object is a reference.\n",
      "\n"
     ]
    }
   ],
   "source": [
    "help(Alice.y)"
   ]
  },
  {
   "cell_type": "code",
   "execution_count": 37,
   "metadata": {
    "colab": {
     "base_uri": "https://localhost:8080/"
    },
    "executionInfo": {
     "elapsed": 37,
     "status": "ok",
     "timestamp": 1633441689567,
     "user": {
      "displayName": "Joaquim Gromicho",
      "photoUrl": "https://lh3.googleusercontent.com/a/default-user=s64",
      "userId": "14375950305363805729"
     },
     "user_tz": -120
    },
    "id": "T7e_7pQ3K3iL",
    "outputId": "99268798-1f0e-489b-f1d4-d7d17430c808"
   },
   "outputs": [
    {
     "name": "stdout",
     "output_type": "stream",
     "text": [
      "Help on quadratic in module pyomo.core.kernel.conic object:\n",
      "\n",
      "class quadratic(_ConicBase)\n",
      " |  quadratic(r, x)\n",
      " |  \n",
      " |  A quadratic conic constraint of the form:\n",
      " |  \n",
      " |      x[0]^2 + ... + x[n-1]^2 <= r^2,\n",
      " |  \n",
      " |  which is recognized as convex for r >= 0.\n",
      " |  \n",
      " |  Parameters\n",
      " |  ----------\n",
      " |  r : :class:`variable`\n",
      " |      A variable.\n",
      " |  x : list[:class:`variable`]\n",
      " |      An iterable of variables.\n",
      " |  \n",
      " |  Method resolution order:\n",
      " |      quadratic\n",
      " |      _ConicBase\n",
      " |      pyomo.core.kernel.constraint.IConstraint\n",
      " |      pyomo.core.kernel.base.ICategorizedObject\n",
      " |      builtins.object\n",
      " |  \n",
      " |  Methods defined here:\n",
      " |  \n",
      " |  __init__(self, r, x)\n",
      " |      Initialize self.  See help(type(self)) for accurate signature.\n",
      " |  \n",
      " |  check_convexity_conditions(self, relax=False)\n",
      " |      Returns True if all convexity conditions for the\n",
      " |      conic constraint are satisfied. If relax is True,\n",
      " |      then variable domains are ignored and it is assumed\n",
      " |      that all variables are continuous.\n",
      " |  \n",
      " |  ----------------------------------------------------------------------\n",
      " |  Class methods defined here:\n",
      " |  \n",
      " |  as_domain(r, x) from builtins.type\n",
      " |      Builds a conic domain. Input arguments take the\n",
      " |      same form as those of the conic constraint, but in\n",
      " |      place of each variable, one can optionally supply a\n",
      " |      constant, linear expression, or None.\n",
      " |      \n",
      " |      Returns\n",
      " |      -------\n",
      " |      block\n",
      " |          A block object with the core conic constraint\n",
      " |          (block.q) expressed using auxiliary variables\n",
      " |          (block.r, block.x) linked to the input arguments\n",
      " |          through auxiliary constraints (block.c).\n",
      " |  \n",
      " |  ----------------------------------------------------------------------\n",
      " |  Readonly properties defined here:\n",
      " |  \n",
      " |  r\n",
      " |  \n",
      " |  x\n",
      " |  \n",
      " |  ----------------------------------------------------------------------\n",
      " |  Data descriptors defined here:\n",
      " |  \n",
      " |  __weakref__\n",
      " |      list of weak references to the object (if defined)\n",
      " |  \n",
      " |  ----------------------------------------------------------------------\n",
      " |  Methods inherited from _ConicBase:\n",
      " |  \n",
      " |  __call__(self, exception=True)\n",
      " |      Compute the value of the body of this constraint.\n",
      " |  \n",
      " |  ----------------------------------------------------------------------\n",
      " |  Readonly properties inherited from _ConicBase:\n",
      " |  \n",
      " |  body\n",
      " |      The body of the constraint\n",
      " |  \n",
      " |  equality\n",
      " |      A boolean indicating whether this is an equality constraint\n",
      " |  \n",
      " |  lb\n",
      " |      The lower bound of the constraint\n",
      " |  \n",
      " |  rhs\n",
      " |      The right-hand side of the constraint\n",
      " |  \n",
      " |  ub\n",
      " |      The upper bound of the constraint\n",
      " |  \n",
      " |  ----------------------------------------------------------------------\n",
      " |  Methods inherited from pyomo.core.kernel.constraint.IConstraint:\n",
      " |  \n",
      " |  has_lb(self)\n",
      " |      Returns :const:`False` when the lower bound is\n",
      " |      :const:`None` or negative infinity\n",
      " |  \n",
      " |  has_ub(self)\n",
      " |      Returns :const:`False` when the upper bound is\n",
      " |      :const:`None` or positive infinity\n",
      " |  \n",
      " |  ----------------------------------------------------------------------\n",
      " |  Readonly properties inherited from pyomo.core.kernel.constraint.IConstraint:\n",
      " |  \n",
      " |  bounds\n",
      " |      The bounds of the constraint as a tuple (lb, ub)\n",
      " |  \n",
      " |  expr\n",
      " |      Get the expression on this constraint.\n",
      " |  \n",
      " |  lower\n",
      " |  \n",
      " |  lslack\n",
      " |      Lower slack (body - lb). Returns :const:`None` if\n",
      " |      a value for the body can not be computed.\n",
      " |  \n",
      " |  slack\n",
      " |      min(lslack, uslack). Returns :const:`None` if a\n",
      " |      value for the body can not be computed.\n",
      " |  \n",
      " |  upper\n",
      " |  \n",
      " |  uslack\n",
      " |      Upper slack (ub - body). Returns :const:`None` if\n",
      " |      a value for the body can not be computed.\n",
      " |  \n",
      " |  ----------------------------------------------------------------------\n",
      " |  Methods inherited from pyomo.core.kernel.base.ICategorizedObject:\n",
      " |  \n",
      " |  __deepcopy__(self, memo)\n",
      " |  \n",
      " |  __getstate__(self)\n",
      " |  \n",
      " |  __setstate__(self, state)\n",
      " |  \n",
      " |  __str__(self)\n",
      " |      Convert this object to a string by first\n",
      " |      attempting to generate its fully qualified name. If\n",
      " |      the object does not have a name (because it does not\n",
      " |      have a parent, then a string containing the class\n",
      " |      name is returned.\n",
      " |  \n",
      " |  activate(self)\n",
      " |      Activate this object.\n",
      " |  \n",
      " |  clone(self)\n",
      " |      Returns a copy of this object with the parent\n",
      " |      pointer set to :const:`None`.\n",
      " |      \n",
      " |      A clone is almost equivalent to deepcopy except that\n",
      " |      any categorized objects encountered that are not\n",
      " |      descendents of this object will reference the same\n",
      " |      object on the clone.\n",
      " |  \n",
      " |  deactivate(self)\n",
      " |      Deactivate this object.\n",
      " |  \n",
      " |  getname(self, fully_qualified=False, name_buffer={}, convert=<class 'str'>, relative_to=None)\n",
      " |      Dynamically generates a name for this object.\n",
      " |      \n",
      " |      Args:\n",
      " |          fully_qualified (bool): Generate a full name by\n",
      " |              iterating through all anscestor containers.\n",
      " |              Default is :const:`False`.\n",
      " |          convert (function): A function that converts a\n",
      " |              storage key into a string\n",
      " |              representation. Default is the built-in\n",
      " |              function str.\n",
      " |          relative_to (object): When generating a fully\n",
      " |              qualified name, generate the name relative\n",
      " |              to this block.\n",
      " |      \n",
      " |      Returns:\n",
      " |          If a parent exists, this method returns a string\n",
      " |          representing the name of the object in the\n",
      " |          context of its parent; otherwise (if no parent\n",
      " |          exists), this method returns :const:`None`.\n",
      " |  \n",
      " |  ----------------------------------------------------------------------\n",
      " |  Readonly properties inherited from pyomo.core.kernel.base.ICategorizedObject:\n",
      " |  \n",
      " |  ctype\n",
      " |      The object's category type.\n",
      " |  \n",
      " |  local_name\n",
      " |      The object's local name within the context of its\n",
      " |      parent. Alias for\n",
      " |      `obj.getname(fully_qualified=False)`.\n",
      " |  \n",
      " |  name\n",
      " |      The object's fully qualified name. Alias for\n",
      " |      `obj.getname(fully_qualified=True)`.\n",
      " |  \n",
      " |  parent\n",
      " |      The object's parent (possibly None).\n",
      " |  \n",
      " |  storage_key\n",
      " |      The object's storage key within its parent\n",
      " |  \n",
      " |  ----------------------------------------------------------------------\n",
      " |  Data descriptors inherited from pyomo.core.kernel.base.ICategorizedObject:\n",
      " |  \n",
      " |  active\n",
      " |      The active status of this object.\n",
      "\n"
     ]
    }
   ],
   "source": [
    "help(Alice.robust)"
   ]
  },
  {
   "cell_type": "markdown",
   "metadata": {
    "id": "psJnzq9q2U8C"
   },
   "source": [
    "# How to bring second order cones into the `pyomo.environ`\n",
    "\n",
    "Noting that $\\| x \\| \\leq t$ is for $t \\geq 0$ equivalent to $\\| x \\|^2 \\leq t^2$ and knowing that the commercial solvers (`gurobi`, `cplex` and `express`) support convex quadratic inequalities, we can model this variant in `pyomo.environ` as follows.\n",
    "\n",
    "Note that the essential part to make the model convex is having the rght hand side nonnegative."
   ]
  },
  {
   "cell_type": "code",
   "execution_count": 38,
   "metadata": {
    "id": "-Pyd4FoD2laJ"
   },
   "outputs": [],
   "source": [
    "def AliceWithBallUncertaintyAsSquaredSecondOrderCone(omega,domain=pyo.NonNegativeReals):\n",
    "  Alice = pyo.ConcreteModel('Alice')\n",
    "\n",
    "  Alice.x = pyo.Var(trophies,within=domain)\n",
    "\n",
    "  # the nonegativity of this variable is essential!\n",
    "  Alice.y = pyo.Var(within=pyo.NonNegativeReals)\n",
    "\n",
    "  Alice.profit    = pyo.Objective(expr = sum([profits[t]*Alice.x[t] for t in trophies]), sense=pyo.maximize)\n",
    "\n",
    "  Alice.footballs = pyo.Constraint(expr = Alice.x['Football']  <= 1000)\n",
    "  Alice.golfBalls = pyo.Constraint(expr = Alice.x['Golf']      <= 1500)\n",
    "  Alice.plaques   = pyo.Constraint(expr = sum([Alice.x[t] for t in trophies]) <= 1750)\n",
    "  Alice.wood      = pyo.Constraint(expr = Alice.y == 4800 - sum(wood[t]*Alice.x[t] for t in trophies) ) \n",
    "  Alice.robust    = pyo.Constraint(expr = sum((omega*Alice.x[t])**2 for t in trophies) <= Alice.y**2) \n",
    "  return Alice"
   ]
  },
  {
   "cell_type": "code",
   "execution_count": 39,
   "metadata": {
    "colab": {
     "base_uri": "https://localhost:8080/"
    },
    "executionInfo": {
     "elapsed": 29,
     "status": "ok",
     "timestamp": 1633441689568,
     "user": {
      "displayName": "Joaquim Gromicho",
      "photoUrl": "https://lh3.googleusercontent.com/a/default-user=s64",
      "userId": "14375950305363805729"
     },
     "user_tz": -120
    },
    "id": "tXR2CeFM2-q9",
    "outputId": "c41df339-8a0d-477e-92fd-47916d9db49e"
   },
   "outputs": [
    {
     "name": "stdout",
     "output_type": "stream",
     "text": [
      "CPU times: user 7.71 ms, sys: 13.4 ms, total: 21.1 ms\n",
      "Wall time: 20.3 ms\n",
      "ok optimal\n"
     ]
    },
    {
     "data": {
      "text/plain": [
       "[17502.0, 584.0, 1166.0]"
      ]
     },
     "execution_count": 39,
     "metadata": {},
     "output_type": "execute_result"
    }
   ],
   "source": [
    "Alice = AliceWithBallUncertaintyAsSquaredSecondOrderCone( 0.1, domain=pyo.NonNegativeIntegers )\n",
    "\n",
    "%time results = cplex.solve(Alice)\n",
    "print(results.solver.status, results.solver.termination_condition )\n",
    "JustSolution(Alice)"
   ]
  },
  {
   "cell_type": "markdown",
   "metadata": {
    "id": "puwXu0gx33gW"
   },
   "source": [
    "Note how the verbose `xpress` solver confirms that the convex quadratic constraint is recognized as conic."
   ]
  },
  {
   "cell_type": "code",
   "execution_count": 40,
   "metadata": {
    "colab": {
     "base_uri": "https://localhost:8080/"
    },
    "executionInfo": {
     "elapsed": 24,
     "status": "ok",
     "timestamp": 1633441689568,
     "user": {
      "displayName": "Joaquim Gromicho",
      "photoUrl": "https://lh3.googleusercontent.com/a/default-user=s64",
      "userId": "14375950305363805729"
     },
     "user_tz": -120
    },
    "id": "MszAvvM42535",
    "outputId": "60443aa1-b153-4833-df00-7c9aa87d6650"
   },
   "outputs": [
    {
     "name": "stdout",
     "output_type": "stream",
     "text": [
      "Using the Community license in this session. If you have a full Xpress license, pass the full path to your license file to xpress.init(). If you want to use the FICO Community license and no longer want to see this message, use the following code before using the xpress module:\n",
      "  xpress.init('/Users/jeff/opt/anaconda3/lib/python3.9/site-packages/xpress/license/community-xpauth.xpr')\n",
      "FICO Xpress v8.14.2, Community, solve started 18:27:21, Oct 10, 2022\n",
      "Heap usage: 382KB (peak 382KB, 287KB system)\n",
      "Maximizing MIQCQP Alice using up to 12 threads and up to 16GB memory, with these control settings:\n",
      "OUTPUTLOG = 1\n",
      "Original problem has:\n",
      "         5 rows            3 cols            7 elements         2 globals\n",
      "         1 qrows           3 qrowelem\n",
      "Converted 1 second order cones to standard form\n",
      "Presolved problem has:\n",
      "         7 rows            7 cols           12 elements         2 globals\n",
      "         2 cones           4 celems\n",
      "LP relaxation tightened\n",
      "Presolve finished in 0 seconds\n",
      "Heap usage: 415KB (peak 417KB, 287KB system)\n",
      "\n",
      "Coefficient range                    original                 solved        \n",
      "  Coefficients   [min,max] : [ 1.00e+00,  4.00e+00] / [ 1.00e-01,  1.00e+00]\n",
      "  RHS and bounds [min,max] : [ 1.00e+03,  4.80e+03] / [ 1.00e+02,  4.80e+03]\n",
      "  Objective      [min,max] : [ 9.00e+00,  1.20e+01] / [ 9.00e+00,  1.20e+01]\n",
      "  Quadratic      [min,max] : [ 2.00e-02,  2.00e+00] / [ 2.00e+00,  2.00e+00]\n",
      "Autoscaling applied standard scaling\n",
      "\n",
      "Will try to keep branch and bound tree memory usage below 15.1GB\n",
      "Barrier cache sizes : L1=32K L2=9216K\n",
      "Using AVX support\n",
      "Cores per CPU (CORESPERCPU): 12\n",
      "Barrier starts after 0 seconds, using up to 12 threads, 6 cores\n",
      "Matrix ordering - Dense cols.:      6   NZ(L):        65   Flops:          204\n",
      " \n",
      "  Its   P.inf      D.inf      U.inf      Primal obj.     Dual obj.      Compl.\n",
      "   0   1.75e+03   1.20e+01   4.80e+03   2.1000000e+01   1.7150000e+04   2.1e+01\n",
      "   1   4.73e+02   3.25e+00   1.30e+03   3.7148331e+01   1.7130804e+04   6.2e+00\n",
      "   2   3.48e+01   2.39e-01   9.56e+01   3.7906861e+02   1.6712679e+04   4.7e-01\n",
      "   3   1.82e+00   1.25e-02   4.99e+00   5.1718692e+03   1.2952061e+04   2.5e-02\n",
      "   4   5.17e-01   3.55e-03   1.42e+00   1.4287413e+04   1.6854657e+04   8.0e-03\n",
      "   5   9.09e-02   6.24e-04   2.50e-01   1.6927027e+04   1.7374898e+04   1.7e-03\n",
      "   6   7.22e-02   4.96e-04   1.98e-01   1.7031042e+04   1.7374638e+04   1.4e-03\n",
      "   7   1.84e-02   1.27e-04   5.06e-02   1.7399322e+04   1.7483081e+04   3.7e-04\n",
      "   8   8.88e-03   6.10e-05   2.44e-02   1.7455817e+04   1.7494083e+04   1.9e-04\n",
      "   9   3.91e-03   2.69e-05   1.07e-02   1.7483553e+04   1.7500381e+04   8.4e-05\n",
      "  10   3.27e-03   2.25e-05   8.99e-03   1.7487593e+04   1.7501220e+04   7.2e-05\n",
      "  11   1.83e-03   1.26e-05   5.03e-03   1.7495119e+04   1.7502724e+04   4.0e-05\n",
      "  12   1.16e-03   7.94e-06   3.17e-03   1.7498613e+04   1.7503341e+04   2.6e-05\n",
      "  13   3.73e-04   2.56e-06   1.02e-03   1.7502500e+04   1.7504010e+04   8.5e-06\n",
      "  14   7.67e-06   5.27e-08   2.11e-05   1.7504405e+04   1.7504436e+04   1.7e-07\n",
      "  15   1.60e-06   1.10e-08   4.40e-06   1.7504435e+04   1.7504441e+04   3.6e-08\n",
      "  16   2.38e-07   1.64e-09   6.54e-07   1.7504442e+04   1.7504443e+04   5.4e-09\n",
      "Barrier method finished in 0 seconds\n",
      "Crossover crash basis containing 5 structurals form 7 candidates\n",
      "Crossover starts\n",
      " \n",
      "   Its         Obj Value      S   Ninf  Nneg        Sum Inf  Time\n",
      "     7       17504.45543      P      0     0        .000000     0\n",
      "     0       17504.45543      N      0     0        .000000     0\n",
      "     0       17504.45543      D      0     0        .000000     0\n",
      "Crossover successful\n",
      "Objective function value:  17504.44318 time: 0\n",
      "     0       17504.44318      P      0     0        .000000     0\n",
      "Optimal solution found\n",
      "Barrier solved problem\n",
      "  16 barrier and 7 simplex iterations in 0.01 seconds at time 0\n",
      "\n",
      "Final objective                       : 1.750444317729157e+04\n",
      "  Max primal violation      (abs/rel) :       0.0 /       0.0\n",
      "  Max dual violation        (abs/rel) :       0.0 /       0.0\n",
      "  Max complementarity viol. (abs/rel) :       0.0 /       0.0\n",
      "\n",
      "Starting root cutting & heuristics\n",
      " \n",
      " Its Type    BestSoln    BestBound   Sols    Add    Del     Gap     GInf   Time\n",
      "k         12000.00000  17504.44318      1                 31.45%       0      0\n",
      "c         12009.00000  17504.44318      2                 31.39%       0      0\n",
      "d         12018.00000  17504.44318      3                 31.34%       0      0\n",
      "k         17502.00000  17502.00000      4                 -0.00%       0      0\n",
      " *** Search completed ***\n",
      "Uncrunching matrix\n",
      "Final MIP objective                   : 1.750200000000000e+04\n",
      "Final MIP bound                       : 1.750200000000000e+04\n",
      "  Solution time / primaldual integral :         0s/ 81.792804%\n",
      "  Number of solutions found / nodes   :         4 /         1\n",
      "  Max primal violation      (abs/rel) :       0.0 /       0.0\n",
      "  Max integer violation     (abs    ) :       0.0\n",
      "CPU times: user 27.5 ms, sys: 20.5 ms, total: 48 ms\n",
      "Wall time: 38.6 ms\n",
      "ok optimal\n"
     ]
    },
    {
     "data": {
      "text/plain": [
       "[17502.0, 584.0, 1166.0]"
      ]
     },
     "execution_count": 40,
     "metadata": {},
     "output_type": "execute_result"
    }
   ],
   "source": [
    "Alice = AliceWithBallUncertaintyAsSquaredSecondOrderCone( 0.1, domain=pyo.NonNegativeIntegers )\n",
    "\n",
    "%time results = xpress.solve(Alice,tee=True)\n",
    "print(results.solver.status, results.solver.termination_condition )\n",
    "JustSolution(Alice)"
   ]
  },
  {
   "cell_type": "code",
   "execution_count": null,
   "metadata": {},
   "outputs": [],
   "source": []
  }
 ],
 "metadata": {
  "colab": {
   "collapsed_sections": [
    "x-r6VhudK3iI"
   ],
   "name": "Copy of EF RO.ipynb",
   "provenance": [
    {
     "file_id": "1AvEZxj9hkRKhBUf_L46W49koiaV45onW",
     "timestamp": 1643033933982
    }
   ]
  },
  "kernelspec": {
   "display_name": "Python 3 (ipykernel)",
   "language": "python",
   "name": "python3"
  },
  "language_info": {
   "codemirror_mode": {
    "name": "ipython",
    "version": 3
   },
   "file_extension": ".py",
   "mimetype": "text/x-python",
   "name": "python",
   "nbconvert_exporter": "python",
   "pygments_lexer": "ipython3",
   "version": "3.9.7"
  }
 },
 "nbformat": 4,
 "nbformat_minor": 4
}
