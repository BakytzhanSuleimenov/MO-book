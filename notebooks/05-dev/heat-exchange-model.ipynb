{
 "cells": [
  {
   "cell_type": "markdown",
   "id": "f532a1fb-5ebf-4724-b4f5-6e5517d1128d",
   "metadata": {},
   "source": [
    "# Heat Exchange Model"
   ]
  },
  {
   "cell_type": "markdown",
   "id": "ff6f04dd-4772-4f04-88a8-fa78360070ed",
   "metadata": {},
   "source": [
    "## B & V, Section 7.5"
   ]
  },
  {
   "cell_type": "code",
   "execution_count": 77,
   "id": "e0169a9c-71ac-4b26-8caa-931076f5a7d2",
   "metadata": {},
   "outputs": [],
   "source": [
    "import numpy as np\n",
    "\n",
    "# list of possible experiments\n",
    "\n",
    "x_values = [-200, 0, 200]\n",
    "y_values = [-300, 0, +00]\n",
    "z_values = [-1, 1]\n",
    "\n",
    "# generate all possible combinations\n",
    "\n",
    "\n",
    "V = np.array([[x, y, z] for x in x_values for y in y_values for z in z_values])\n",
    "p = len(V)\n",
    "c = np.array([1, 1, 1])"
   ]
  },
  {
   "cell_type": "code",
   "execution_count": 78,
   "id": "f29a8386-d894-4a70-bc5b-543a332e2954",
   "metadata": {},
   "outputs": [],
   "source": [
    "import cvxpy as cvx"
   ]
  },
  {
   "cell_type": "code",
   "execution_count": 79,
   "id": "5155468e-702a-4f4c-9456-8b2c4b418bff",
   "metadata": {},
   "outputs": [
    {
     "name": "stdout",
     "output_type": "stream",
     "text": [
      "Requirement already satisfied: cvxpy in /Users/jeff/opt/anaconda3/lib/python3.9/site-packages (1.2.0)\n",
      "Requirement already satisfied: scs>=1.1.6 in /Users/jeff/opt/anaconda3/lib/python3.9/site-packages (from cvxpy) (3.2.0)\n",
      "Requirement already satisfied: ecos>=2 in /Users/jeff/opt/anaconda3/lib/python3.9/site-packages (from cvxpy) (2.0.10)\n",
      "Requirement already satisfied: numpy>=1.15 in /Users/jeff/opt/anaconda3/lib/python3.9/site-packages (from cvxpy) (1.21.2)\n",
      "Requirement already satisfied: osqp>=0.4.1 in /Users/jeff/opt/anaconda3/lib/python3.9/site-packages (from cvxpy) (0.6.2.post5)\n",
      "Requirement already satisfied: scipy>=1.1.0 in /Users/jeff/opt/anaconda3/lib/python3.9/site-packages (from cvxpy) (1.8.0)\n",
      "Requirement already satisfied: qdldl in /Users/jeff/opt/anaconda3/lib/python3.9/site-packages (from osqp>=0.4.1->cvxpy) (0.1.5.post2)\n"
     ]
    }
   ],
   "source": [
    "!pip install cvxpy"
   ]
  },
  {
   "cell_type": "code",
   "execution_count": 81,
   "id": "c2bb9561-fd00-4053-b3db-3bb8b279de8d",
   "metadata": {},
   "outputs": [
    {
     "name": "stdout",
     "output_type": "stream",
     "text": [
      "  1,   -0.0033 ,    0.0033 [-200 -300   -1]\n",
      "  3,   -0.4992 ,    0.4992 [-200    0   -1]\n",
      "  6,    0.4975 ,    0.4975 [-200    0    1]\n",
      "1.0\n"
     ]
    }
   ],
   "source": [
    "import pyomo.environ as pyo\n",
    "\n",
    "m = pyo.ConcreteModel()\n",
    "\n",
    "n = len(c)\n",
    "p = len(V)\n",
    "m.MEAS = pyo.RangeSet(n)\n",
    "m.EXPTS = pyo.RangeSet(p)\n",
    "\n",
    "m.t = pyo.Var()\n",
    "m.e = pyo.Var(m.EXPTS, bounds=(-1, 1))\n",
    "m.w = pyo.Var(m.EXPTS, bounds=(0, 1))\n",
    "\n",
    "@m.Objective(sense=pyo.maximize)\n",
    "def fit(m):\n",
    "    return m.t\n",
    "\n",
    "@m.Constraint(m.MEAS)\n",
    "def matc(m, i):\n",
    "    return m.t * c[i-1] == sum(m.e[j]*V[j-1, i-1] for j in m.EXPTS)\n",
    "\n",
    "@m.Constraint()\n",
    "def plane(m):\n",
    "    return sum(m.w[i] for i in m.EXPTS) == 1\n",
    "\n",
    "@m.Block(m.EXPTS)\n",
    "def bounds(b, i):\n",
    "    m = b.model()\n",
    "    b.pos = pyo.Constraint(expr = m.e[i] <= m.w[i])\n",
    "    b.neg = pyo.Constraint(expr = m.e[i] >= - m.w[i])\n",
    "    \n",
    "pyo.SolverFactory('cbc').solve(m)\n",
    "\n",
    "for i in m.EXPTS:\n",
    "    if m.w[i]() > 0.00001:\n",
    "        print(f\"{i:3d}, {m.e[i]():9.4f} , {m.w[i]():9.4f}\", V[i-1])\n",
    "    \n",
    "print(m.t())"
   ]
  },
  {
   "cell_type": "code",
   "execution_count": null,
   "id": "461da9e6-8b0e-4041-81ec-12c89e3efd63",
   "metadata": {},
   "outputs": [],
   "source": []
  }
 ],
 "metadata": {
  "kernelspec": {
   "display_name": "Python 3 (ipykernel)",
   "language": "python",
   "name": "python3"
  },
  "language_info": {
   "codemirror_mode": {
    "name": "ipython",
    "version": 3
   },
   "file_extension": ".py",
   "mimetype": "text/x-python",
   "name": "python",
   "nbconvert_exporter": "python",
   "pygments_lexer": "ipython3",
   "version": "3.9.7"
  }
 },
 "nbformat": 4,
 "nbformat_minor": 5
}
