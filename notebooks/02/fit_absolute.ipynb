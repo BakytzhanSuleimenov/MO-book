{
 "cells": [
  {
   "cell_type": "markdown",
   "metadata": {
    "id": "LRHTRZG42RbR"
   },
   "source": [
    "# Example of minimizing a sum of absolute values\n",
    "\n",
    "We use linear regression minimizing the absolute deviations. \n",
    "\n",
    "We follow closely this [paper](https://www.jstor.org/stable/1402501).\n",
    "\n",
    "Let us start by adding `pyomo` and `glpk` to our `colab` session."
   ]
  },
  {
   "cell_type": "code",
   "execution_count": null,
   "metadata": {
    "id": "5ssUqKOaPVaE"
   },
   "outputs": [],
   "source": [
    "!pip install -q pyomo"
   ]
  },
  {
   "cell_type": "code",
   "execution_count": null,
   "metadata": {
    "colab": {
     "base_uri": "https://localhost:8080/"
    },
    "id": "MMz8ySCNcOwd",
    "outputId": "6c406b71-9423-4a31-abd9-1fd12a4c83d7"
   },
   "outputs": [
    {
     "name": "stdout",
     "output_type": "stream",
     "text": [
      "Reading package lists... Done\n",
      "Building dependency tree       \n",
      "Reading state information... Done\n",
      "libgmp3-dev is already the newest version (2:6.1.2+dfsg-2).\n",
      "libglpk-dev is already the newest version (4.65-1).\n",
      "python3.8-dev is already the newest version (3.8.12-1+bionic3).\n",
      "The following packages were automatically installed and are no longer required:\n",
      "  cuda-command-line-tools-10-0 cuda-command-line-tools-10-1\n",
      "  cuda-command-line-tools-11-0 cuda-compiler-10-0 cuda-compiler-10-1\n",
      "  cuda-compiler-11-0 cuda-cuobjdump-10-0 cuda-cuobjdump-10-1\n",
      "  cuda-cuobjdump-11-0 cuda-cupti-10-0 cuda-cupti-10-1 cuda-cupti-11-0\n",
      "  cuda-cupti-dev-11-0 cuda-documentation-10-0 cuda-documentation-10-1\n",
      "  cuda-documentation-11-0 cuda-documentation-11-1 cuda-gdb-10-0 cuda-gdb-10-1\n",
      "  cuda-gdb-11-0 cuda-gpu-library-advisor-10-0 cuda-gpu-library-advisor-10-1\n",
      "  cuda-libraries-10-0 cuda-libraries-10-1 cuda-libraries-11-0\n",
      "  cuda-memcheck-10-0 cuda-memcheck-10-1 cuda-memcheck-11-0 cuda-nsight-10-0\n",
      "  cuda-nsight-10-1 cuda-nsight-11-0 cuda-nsight-11-1 cuda-nsight-compute-10-0\n",
      "  cuda-nsight-compute-10-1 cuda-nsight-compute-11-0 cuda-nsight-compute-11-1\n",
      "  cuda-nsight-systems-10-1 cuda-nsight-systems-11-0 cuda-nsight-systems-11-1\n",
      "  cuda-nvcc-10-0 cuda-nvcc-10-1 cuda-nvcc-11-0 cuda-nvdisasm-10-0\n",
      "  cuda-nvdisasm-10-1 cuda-nvdisasm-11-0 cuda-nvml-dev-10-0 cuda-nvml-dev-10-1\n",
      "  cuda-nvml-dev-11-0 cuda-nvprof-10-0 cuda-nvprof-10-1 cuda-nvprof-11-0\n",
      "  cuda-nvprune-10-0 cuda-nvprune-10-1 cuda-nvprune-11-0 cuda-nvtx-10-0\n",
      "  cuda-nvtx-10-1 cuda-nvtx-11-0 cuda-nvvp-10-0 cuda-nvvp-10-1 cuda-nvvp-11-0\n",
      "  cuda-nvvp-11-1 cuda-samples-10-0 cuda-samples-10-1 cuda-samples-11-0\n",
      "  cuda-samples-11-1 cuda-sanitizer-11-0 cuda-sanitizer-api-10-1\n",
      "  cuda-toolkit-10-0 cuda-toolkit-10-1 cuda-toolkit-11-0 cuda-toolkit-11-1\n",
      "  cuda-tools-10-0 cuda-tools-10-1 cuda-tools-11-0 cuda-tools-11-1\n",
      "  cuda-visual-tools-10-0 cuda-visual-tools-10-1 cuda-visual-tools-11-0\n",
      "  cuda-visual-tools-11-1 default-jre dkms freeglut3 freeglut3-dev\n",
      "  keyboard-configuration libargon2-0 libcap2 libcryptsetup12\n",
      "  libdevmapper1.02.1 libfontenc1 libidn11 libip4tc0 libjansson4\n",
      "  libnvidia-cfg1-510 libnvidia-common-460 libnvidia-common-510\n",
      "  libnvidia-extra-510 libnvidia-fbc1-510 libnvidia-gl-510 libpam-systemd\n",
      "  libpolkit-agent-1-0 libpolkit-backend-1-0 libpolkit-gobject-1-0 libxfont2\n",
      "  libxi-dev libxkbfile1 libxmu-dev libxmu-headers libxnvctrl0 libxtst6\n",
      "  nsight-compute-2020.2.1 nsight-compute-2022.1.0 nsight-systems-2020.3.2\n",
      "  nsight-systems-2020.3.4 nsight-systems-2021.5.2 nvidia-dkms-510\n",
      "  nvidia-kernel-common-510 nvidia-kernel-source-510 nvidia-modprobe\n",
      "  nvidia-settings openjdk-11-jre policykit-1 policykit-1-gnome python3-xkit\n",
      "  screen-resolution-extra systemd systemd-sysv udev x11-xkb-utils\n",
      "  xserver-common xserver-xorg-core-hwe-18.04 xserver-xorg-video-nvidia-510\n",
      "Use 'sudo apt autoremove' to remove them.\n",
      "0 upgraded, 0 newly installed, 0 to remove and 39 not upgraded.\n"
     ]
    }
   ],
   "source": [
    "# we add glpk now\n",
    "!sudo apt install libglpk-dev python3.8-dev libgmp3-dev\n",
    "!apt-get install -y -qq glpk-utils"
   ]
  },
  {
   "cell_type": "markdown",
   "metadata": {
    "id": "VKxb7hUB2pDa"
   },
   "source": [
    "# Generate data"
   ]
  },
  {
   "cell_type": "code",
   "execution_count": null,
   "metadata": {
    "colab": {
     "base_uri": "https://localhost:8080/",
     "height": 265
    },
    "id": "u58KqWC5M_FR",
    "outputId": "1ba3863d-09e4-4631-a945-75042f26bf88"
   },
   "outputs": [
    {
     "data": {
      "image/png": "[encoded data removed]",
      "text/plain": [
       "<Figure size 432x288 with 1 Axes>"
      ]
     },
     "metadata": {
      "needs_background": "light"
     },
     "output_type": "display_data"
    }
   ],
   "source": [
    "n_features = 1 # 1 may be visualized, > 1 works fine but no drawing\n",
    "n_samples  = 1000\n",
    "noise      = 30\n",
    "\n",
    "from sklearn.datasets import make_regression\n",
    "import matplotlib.pyplot as plt\n",
    "import numpy as np\n",
    "np.random.seed(2020)\n",
    "# generate regression dataset\n",
    "X, y = make_regression(n_samples=n_samples, n_features=n_features, noise=noise)\n",
    "\n",
    "if n_features == 1:\n",
    "    plt.scatter(X,y)\n",
    "    plt.show()"
   ]
  },
  {
   "cell_type": "markdown",
   "metadata": {
    "id": "MiHG-Csw2vbM"
   },
   "source": [
    "# Model\n",
    "\n"
   ]
  },
  {
   "cell_type": "code",
   "execution_count": null,
   "metadata": {
    "id": "SKIqjt5CPSJf"
   },
   "outputs": [],
   "source": [
    "import pyomo.environ as pyo"
   ]
  },
  {
   "cell_type": "code",
   "execution_count": null,
   "metadata": {
    "id": "QwR7tT9CNagx"
   },
   "outputs": [],
   "source": [
    "m = pyo.ConcreteModel('min abs')"
   ]
  },
  {
   "cell_type": "code",
   "execution_count": null,
   "metadata": {
    "id": "iX8kllyRO04i"
   },
   "outputs": [],
   "source": [
    "n,k = X.shape"
   ]
  },
  {
   "cell_type": "code",
   "execution_count": null,
   "metadata": {
    "id": "hDwR8RCeNxUF"
   },
   "outputs": [],
   "source": [
    "m.I = range(n)\n",
    "m.J = range(k)"
   ]
  },
  {
   "cell_type": "code",
   "execution_count": null,
   "metadata": {
    "id": "ZCHNacFdOD7-"
   },
   "outputs": [],
   "source": [
    "m.ep = pyo.Var(m.I,within=pyo.NonNegativeReals)\n",
    "m.em = pyo.Var(m.I,within=pyo.NonNegativeReals)\n",
    "m.m  = pyo.Var(m.J)\n",
    "m.b  = pyo.Var()"
   ]
  },
  {
   "cell_type": "code",
   "execution_count": null,
   "metadata": {
    "id": "Q7sJmYKtOVgu"
   },
   "outputs": [],
   "source": [
    "m.fit = pyo.Constraint( m.I, rule = lambda m, i : m.b + m.ep[i] - m.em[i] + sum(X[i][j]*m.m[j] for j in m.J) == y[i] )"
   ]
  },
  {
   "cell_type": "code",
   "execution_count": null,
   "metadata": {
    "id": "s18tQs1sOwem"
   },
   "outputs": [],
   "source": [
    "m.obj = pyo.Objective( expr = sum( m.ep[i] + m.em[i] for i in m.I ), sense = pyo.minimize )"
   ]
  },
  {
   "cell_type": "code",
   "execution_count": null,
   "metadata": {
    "colab": {
     "base_uri": "https://localhost:8080/"
    },
    "id": "HPRJhsFLP--m",
    "outputId": "9b42b0f2-cb8b-44f2-ea72-52359a973445"
   },
   "outputs": [
    {
     "name": "stdout",
     "output_type": "stream",
     "text": [
      "CPU times: user 98.1 ms, sys: 10.1 ms, total: 108 ms\n",
      "Wall time: 258 ms\n"
     ]
    },
    {
     "data": {
      "text/plain": [
       "{'Problem': [{'Name': 'unknown', 'Lower bound': 23438.9432109967, 'Upper bound': 23438.9432109967, 'Number of objectives': 1, 'Number of constraints': 1001, 'Number of variables': 2003, 'Number of nonzeros': 4001, 'Sense': 'minimize'}], 'Solver': [{'Status': 'ok', 'Termination condition': 'optimal', 'Statistics': {'Branch and bound': {'Number of bounded subproblems': 0, 'Number of created subproblems': 0}}, 'Error rc': 0, 'Time': 0.15665483474731445}], 'Solution': [OrderedDict([('number of solutions', 0), ('number of solutions displayed', 0)])]}"
      ]
     },
     "execution_count": 36,
     "metadata": {},
     "output_type": "execute_result"
    }
   ],
   "source": [
    "%time pyo.SolverFactory('glpk').solve(m)"
   ]
  },
  {
   "cell_type": "code",
   "execution_count": null,
   "metadata": {
    "colab": {
     "base_uri": "https://localhost:8080/",
     "height": 265
    },
    "id": "3Sb4_DFAQXi1",
    "outputId": "c64355a9-ef73-4ceb-c0ff-74739083a053"
   },
   "outputs": [
    {
     "data": {
      "image/png": "[encoded data removed]",
      "text/plain": [
       "<Figure size 432x288 with 1 Axes>"
      ]
     },
     "metadata": {
      "needs_background": "light"
     },
     "output_type": "display_data"
    }
   ],
   "source": [
    "if n_features ==  1:\n",
    "    plt.scatter(X,y)\n",
    "    plt.plot([ x[0] for x in X ], [ pyo.value(m.b) + pyo.value(m.m[0])*x[0] for x in X ], 'r' )\n",
    "    plt.show()\n",
    "else:\n",
    "    print( pyo.value(m.b),[pyo.value(m) for m in m.m.values() ] )"
   ]
  }
 ],
 "metadata": {
  "colab": {
   "collapsed_sections": [],
   "include_colab_link": true,
   "name": "fit absolute",
   "provenance": []
  },
  "kernelspec": {
   "display_name": "Python 3 (ipykernel)",
   "language": "python",
   "name": "python3"
  },
  "language_info": {
   "codemirror_mode": {
    "name": "ipython",
    "version": 3
   },
   "file_extension": ".py",
   "mimetype": "text/x-python",
   "name": "python",
   "nbconvert_exporter": "python",
   "pygments_lexer": "ipython3",
   "version": "3.9.7"
  }
 },
 "nbformat": 4,
 "nbformat_minor": 4
}
