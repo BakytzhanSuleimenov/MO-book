{
 "cells": [
  {
   "cell_type": "markdown",
   "id": "236fc575-3f76-4906-b795-7ff47cdcb2b8",
   "metadata": {},
   "source": [
    "# A first LP example: the microchip production problem of the BIM company"
   ]
  },
  {
   "cell_type": "code",
   "execution_count": 1,
   "id": "88547152-b76c-4a6f-9b6d-2e43ace3a637",
   "metadata": {},
   "outputs": [
    {
     "name": "stdout",
     "output_type": "stream",
     "text": [
      "pyomo was previously installed\n",
      "cbc was previously installed\n"
     ]
    },
    {
     "data": {
      "text/plain": [
       "True"
      ]
     },
     "execution_count": 1,
     "metadata": {},
     "output_type": "execute_result"
    }
   ],
   "source": [
    "# install Pyomo and solvers\n",
    "import requests\n",
    "import types\n",
    "\n",
    "url = \"https://raw.githubusercontent.com/mobook/MO-book/main/python/helper.py\"\n",
    "helper = types.ModuleType(\"helper\")\n",
    "exec(requests.get(url).content, helper.__dict__)\n",
    "\n",
    "helper.install_pyomo()\n",
    "helper.install_cbc()"
   ]
  },
  {
   "cell_type": "markdown",
   "id": "69b647c3-f706-4591-8287-f10921ff6efa",
   "metadata": {},
   "source": [
    "## General LP formulation\n",
    "\n",
    "The simplest and most scalable class of optimization problems is the one where the objective function and the constraints are formulated using the simplest possible type of functions - linear functions. A **linear program (LP)** is an optimization problem of the form\n",
    "\n",
    "$$\n",
    "\\begin{align*}\n",
    "    \\min \\quad & c^\\top x\\\\\n",
    "    \\text{s.t.} \\quad & A x \\leq b\\\\\n",
    "    & x \\geq 0, \\nonumber \n",
    "\\end{align*}\n",
    "$$\n",
    "\n",
    "where the $n$ (decision) variables are grouped in a vector $x \\in \\mathbb{R}^n$, $c \\in \\mathbb{R}^n$ are the objective coefficients, and the $m$ linear constraints are described by the matrix $A \\in \\mathbb{R}^{m \\times n}$ and the vector $b \\in \\mathbb{R}^m$. \n",
    "\n",
    "Of course, linear problems could also (i) be maximization problems, (ii) involve equality constraints and constraints of the form $\\geq$, and (iii) have unbounded or non-positive decision variables $x_i$'s. In fact, any LP problem with such features can be easily converted to the 'canonical' LP form by adding/removing variables and/or multiplying specific inequalities by $-1$."
   ]
  },
  {
   "cell_type": "markdown",
   "id": "20f541ba-0e04-4ebb-a712-2ccf3af9d293",
   "metadata": {},
   "source": [
    "## The microchip production problem\n",
    "The company BIM (Best International Machines) produces two types of microchips, logic chips (1gr silicon, 1gr plastic, 4gr copper) and memory chips (1gr germanium, 1gr plastic, 2gr copper). Each of the logic chips can be sold for a 12 € profit, and each of the memory chips for a 9 € profit. The current stock of raw materials is as follows: 1000gr silicon, 1500gr germanium, 1750gr plastic, 4800gr of copper. How many microchips of each type should be produced to maximize the profit while respecting the raw material stock availability? "
   ]
  },
  {
   "cell_type": "markdown",
   "id": "a312986d-2b2c-49c6-b2b9-6ad62b80ac2b",
   "metadata": {},
   "source": [
    "Let $x_1$ denote the number of logic chips and $x_2$ that of memory chips. This decision can be reformulated as an optimization problem of the following form:\n",
    "\n",
    "$$\n",
    "\\begin{array}{rrcrclr}\n",
    "\\max  \\quad  & 12x_1 & + & 9x_2               \\\\\n",
    "\\text{s.t.}\n",
    "    &   x_1 &   &      & \\leq & 1000 &\\text{(silicon)}\\\\\n",
    "    &       &   &  x_2 & \\leq & 1500 &\\text{(germanium)}\\\\\n",
    "    &   x_1 & + &  x_2 & \\leq & 1750 &\\text{(plastic)}\\\\\n",
    "    &  4x_1 & + & 2x_2 & \\leq & 4800 &\\text{(copper)}\\\\\n",
    "    &   x_1 & , &  x_2 & \\geq & 0.    \n",
    "\\end{array}\n",
    "$$"
   ]
  },
  {
   "cell_type": "markdown",
   "id": "cb8529f5-8a0f-4192-a056-55a6e7db57c1",
   "metadata": {},
   "source": [
    "The problem has $n=2$ decision variables and $m=4$ constraints. Using the standard notation introduced above, denote the vector of decision variables by $x = \\begin{pmatrix} x_1 \\\\ x_2 \\end{pmatrix}$ and define the problem coefficients as\n",
    "\n",
    "$$\n",
    "\\begin{align*}\n",
    "    c = \\begin{pmatrix} 12 \\\\ 9 \\end{pmatrix},\n",
    "    \\qquad\n",
    "    A = \n",
    "    \\begin{bmatrix}\n",
    "    1 & 0\\\\\n",
    "    0 & 1\\\\\n",
    "    1 & 1\\\\\n",
    "    4 & 2\\\\\n",
    "    \\end{bmatrix},\n",
    "    \\quad \\text{ and } \\quad\n",
    "    b = \\begin{pmatrix} 1000 \\\\ 1500 \\\\ 1750 \\\\ 4800 \\end{pmatrix}.\n",
    "\\end{align*}\n",
    "$$\n",
    "\n",
    "This model can be implemented and solved in Pyomo as follows."
   ]
  },
  {
   "cell_type": "code",
   "execution_count": 27,
   "id": "a0c47721-754d-421c-93d1-a5539852ff41",
   "metadata": {},
   "outputs": [
    {
     "name": "stdout",
     "output_type": "stream",
     "text": [
      "x = (650.0,1100.0) optimal value = 17700.00\n"
     ]
    }
   ],
   "source": [
    "import pyomo.environ as pyo\n",
    "\n",
    "m    = pyo.ConcreteModel('BIM')\n",
    "\n",
    "m.x1 = pyo.Var(domain=pyo.NonNegativeReals)\n",
    "m.x2 = pyo.Var(domain=pyo.NonNegativeReals)\n",
    "\n",
    "m.profit    = pyo.Objective( expr = 12*m.x1 + 9*m.x2, sense= pyo.maximize)\n",
    "\n",
    "m.silicon   = pyo.Constraint(expr =    m.x1          <= 1000)\n",
    "m.germanium = pyo.Constraint(expr =             m.x2 <= 1500)\n",
    "m.plastic   = pyo.Constraint(expr =    m.x1 +   m.x2 <= 1750)\n",
    "m.copper    = pyo.Constraint(expr =  4*m.x1 + 2*m.x2 <= 4800)\n",
    "\n",
    "pyo.SolverFactory('glpk').solve(m)\n",
    "\n",
    "print('x = ({:.1f},{:.1f}) optimal value = {:.2f}'.format(\n",
    "    pyo.value(m.x1),\n",
    "    pyo.value(m.x2),\n",
    "    pyo.value(m.profit)))"
   ]
  }
 ],
 "metadata": {
  "kernelspec": {
   "display_name": "Python 3 (ipykernel)",
   "language": "python",
   "name": "python3"
  },
  "language_info": {
   "codemirror_mode": {
    "name": "ipython",
    "version": 3
   },
   "file_extension": ".py",
   "mimetype": "text/x-python",
   "name": "python",
   "nbconvert_exporter": "python",
   "pygments_lexer": "ipython3",
   "version": "3.10.6"
  }
 },
 "nbformat": 4,
 "nbformat_minor": 5
}
