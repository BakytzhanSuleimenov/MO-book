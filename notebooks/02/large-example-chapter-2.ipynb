{
 "cells": [
  {
   "cell_type": "markdown",
   "metadata": {
    "id": "9hBrO0SNlv6f",
    "tags": []
   },
   "source": [
    "# Caroline's raw material planning\n",
    "\n",
    "<img align='right' src='https://drive.google.com/uc?export=view&id=1FYTs46ptGHrOaUMEi5BzePH9Gl3YM_2C' width=200>\n",
    "\n",
    "As we know, BIM produces logic and memory chips using copper, silicon, germanium and plastic. \n",
    "\n",
    "Each chip has the following consumption of materials:\n",
    "\n",
    "| chip   | copper | silicon | germanium | plastic |\n",
    "|:-------|-------:|--------:|----------:|--------:|\n",
    "|Logic   |    0.4 |       1 |           |       1 |\n",
    "|Memory  |    0.2 |         |         1 |       1 |\n",
    "\n",
    "BIM hired Caroline to manage the acquisition and the inventory of these raw materials. \n",
    "\n",
    "Caroline conducted a data analysis which lead to the following prediction of monthly demands for her trophies: \n",
    "\n",
    "| chip   | Jan | Feb | Mar | Apr | May | Jun | Jul | Aug | Sep | Oct | Nov | Dec |\n",
    "|:-------|----:|----:|----:|----:|----:|----:|----:|----:|----:|----:|----:|----:|\n",
    "|Logic   |  88 | 125 | 260 | 217 | 238 | 286 | 248 | 238 | 265 | 293 | 259 | 244 |\n",
    "|Memory  |  47 |  62 |  81 |  65 |  95 | 118 |  86 |  89 |  82 |  82 |  84 | 66  |\n",
    "\n",
    "As you recall, BIM has the following stock at the moment:\n",
    "\n",
    "|copper|silicon|germanium|plastic|\n",
    "|-----:|------:|--------:|------:|\n",
    "|   480|  1000 |     1500|  1750 |\n",
    "\n",
    "BIM would like to have at least the following stock at the end of the year:\n",
    "\n",
    "|copper|silicon|germanium|plastic|\n",
    "|-----:|------:|--------:|------:|\n",
    "|   200|   500 |      500|  1000 |\n",
    "\n",
    "Each product can be acquired at each month, but the unit prices vary as follows:\n",
    "\n",
    "| product  | Jan | Feb | Mar | Apr | May | Jun | Jul | Aug | Sep | Oct | Nov | Dec |\n",
    "|:---------|----:|----:|----:|----:|----:|----:|----:|----:|----:|----:|----:|----:|\n",
    "|copper    |   1 |   1 |   1 |   2 |   2 |   3 |   3 |   2 |   2 |   1 |   1 |   2 |\n",
    "|silicon   |   4 |   3 |   3 |   3 |   5 |   5 |   6 |   5 |   4 |   3 |   3 |   5 |\n",
    "|germanium |   5 |   5 |   5 |   3 |   3 |   3 |   3 |   2 |   3 |   4 |   5 |   6 |\n",
    "|plastic   | 0.1 | 0.1 | 0.1 | 0.1 | 0.1 | 0.1 | 0.1 | 0.1 | 0.1 | 0.1 | 0.1 | 0.1 |\n",
    "\n",
    "The inventory is limited by a capacity of a total of 9000 units per month, regardless of the composition of products in stock. \n",
    "The holding costs of the inventory are 0.05 per unit per month regardless of the product.\n",
    "\n",
    "Caroline cannot spend more than 5000 per month on acquisition.\n",
    "\n",
    "Note that Caroline aims at minimizing the acquisition and holding costs of the materials while meeting the required quantities for production. \n",
    "The production is made to order, meaning that no inventory of chips is kept.\n",
    "\n",
    "Please help Caroline to model the material planning and solve it with the data above. "
   ]
  },
  {
   "cell_type": "code",
   "execution_count": 1,
   "metadata": {
    "id": "M5Nh7EXxlv6h"
   },
   "outputs": [],
   "source": [
    "import sys\n",
    "if 'google.colab' in sys.modules:\n",
    "    import shutil\n",
    "    if not shutil.which('pyomo'):\n",
    "        !pip install -q pyomo\n",
    "        assert(shutil.which('pyomo'))\n",
    "\n",
    "    # cbc\n",
    "    !apt-get install -y -qq coinor-cbc"
   ]
  },
  {
   "cell_type": "markdown",
   "metadata": {},
   "source": [
    "To be self contained... alternative is to upload and read a file. "
   ]
  },
  {
   "cell_type": "code",
   "execution_count": 2,
   "metadata": {},
   "outputs": [],
   "source": [
    "demand_data = '''chip,Jan,Feb,Mar,Apr,May,Jun,Jul,Aug,Sep,Oct,Nov,Dec\n",
    "Logic,88,125,260,217,238,286,248,238,265,293,259,244\n",
    "Memory,47,62,81,65,95,118,86,89,82,82,84,66'''"
   ]
  },
  {
   "cell_type": "code",
   "execution_count": 3,
   "metadata": {
    "colab": {
     "base_uri": "https://localhost:8080/",
     "height": 143
    },
    "id": "rvWwY74i7qEy",
    "outputId": "47766087-eb87-44e7-d3e2-ac2c00af78f4"
   },
   "outputs": [
    {
     "data": {
      "text/html": [
       "<div>\n",
       "<style scoped>\n",
       "    .dataframe tbody tr th:only-of-type {\n",
       "        vertical-align: middle;\n",
       "    }\n",
       "\n",
       "    .dataframe tbody tr th {\n",
       "        vertical-align: top;\n",
       "    }\n",
       "\n",
       "    .dataframe thead th {\n",
       "        text-align: right;\n",
       "    }\n",
       "</style>\n",
       "<table border=\"1\" class=\"dataframe\">\n",
       "  <thead>\n",
       "    <tr style=\"text-align: right;\">\n",
       "      <th></th>\n",
       "      <th>Jan</th>\n",
       "      <th>Feb</th>\n",
       "      <th>Mar</th>\n",
       "      <th>Apr</th>\n",
       "      <th>May</th>\n",
       "      <th>Jun</th>\n",
       "      <th>Jul</th>\n",
       "      <th>Aug</th>\n",
       "      <th>Sep</th>\n",
       "      <th>Oct</th>\n",
       "      <th>Nov</th>\n",
       "      <th>Dec</th>\n",
       "    </tr>\n",
       "    <tr>\n",
       "      <th>chip</th>\n",
       "      <th></th>\n",
       "      <th></th>\n",
       "      <th></th>\n",
       "      <th></th>\n",
       "      <th></th>\n",
       "      <th></th>\n",
       "      <th></th>\n",
       "      <th></th>\n",
       "      <th></th>\n",
       "      <th></th>\n",
       "      <th></th>\n",
       "      <th></th>\n",
       "    </tr>\n",
       "  </thead>\n",
       "  <tbody>\n",
       "    <tr>\n",
       "      <th>Logic</th>\n",
       "      <td>88</td>\n",
       "      <td>125</td>\n",
       "      <td>260</td>\n",
       "      <td>217</td>\n",
       "      <td>238</td>\n",
       "      <td>286</td>\n",
       "      <td>248</td>\n",
       "      <td>238</td>\n",
       "      <td>265</td>\n",
       "      <td>293</td>\n",
       "      <td>259</td>\n",
       "      <td>244</td>\n",
       "    </tr>\n",
       "    <tr>\n",
       "      <th>Memory</th>\n",
       "      <td>47</td>\n",
       "      <td>62</td>\n",
       "      <td>81</td>\n",
       "      <td>65</td>\n",
       "      <td>95</td>\n",
       "      <td>118</td>\n",
       "      <td>86</td>\n",
       "      <td>89</td>\n",
       "      <td>82</td>\n",
       "      <td>82</td>\n",
       "      <td>84</td>\n",
       "      <td>66</td>\n",
       "    </tr>\n",
       "  </tbody>\n",
       "</table>\n",
       "</div>"
      ],
      "text/plain": [
       "        Jan  Feb  Mar  Apr  May  Jun  Jul  Aug  Sep  Oct  Nov  Dec\n",
       "chip                                                              \n",
       "Logic    88  125  260  217  238  286  248  238  265  293  259  244\n",
       "Memory   47   62   81   65   95  118   86   89   82   82   84   66"
      ]
     },
     "execution_count": 3,
     "metadata": {},
     "output_type": "execute_result"
    }
   ],
   "source": [
    "from io import StringIO\n",
    "import pandas as pd\n",
    "demand_chips = pd.read_csv( StringIO(demand_data), index_col='chip' )\n",
    "demand_chips"
   ]
  },
  {
   "cell_type": "code",
   "execution_count": 4,
   "metadata": {},
   "outputs": [],
   "source": [
    "price_data = '''product,Jan,Feb,Mar,Apr,May,Jun,Jul,Aug,Sep,Oct,Nov,Dec\n",
    "copper,1,1,1,2,2,3,3,2,2,1,1,2\n",
    "silicon,4,3,3,3,5,5,6,5,4,3,3,5\n",
    "germanium,5,5,5,3,3,3,3,2,3,4,5,6\n",
    "plastic,0.1,0.1,0.1,0.1,0.1,0.1,0.1,0.1,0.1,0.1,0.1,0.1'''"
   ]
  },
  {
   "cell_type": "code",
   "execution_count": 5,
   "metadata": {},
   "outputs": [
    {
     "data": {
      "text/html": [
       "<div>\n",
       "<style scoped>\n",
       "    .dataframe tbody tr th:only-of-type {\n",
       "        vertical-align: middle;\n",
       "    }\n",
       "\n",
       "    .dataframe tbody tr th {\n",
       "        vertical-align: top;\n",
       "    }\n",
       "\n",
       "    .dataframe thead th {\n",
       "        text-align: right;\n",
       "    }\n",
       "</style>\n",
       "<table border=\"1\" class=\"dataframe\">\n",
       "  <thead>\n",
       "    <tr style=\"text-align: right;\">\n",
       "      <th></th>\n",
       "      <th>Jan</th>\n",
       "      <th>Feb</th>\n",
       "      <th>Mar</th>\n",
       "      <th>Apr</th>\n",
       "      <th>May</th>\n",
       "      <th>Jun</th>\n",
       "      <th>Jul</th>\n",
       "      <th>Aug</th>\n",
       "      <th>Sep</th>\n",
       "      <th>Oct</th>\n",
       "      <th>Nov</th>\n",
       "      <th>Dec</th>\n",
       "    </tr>\n",
       "    <tr>\n",
       "      <th>product</th>\n",
       "      <th></th>\n",
       "      <th></th>\n",
       "      <th></th>\n",
       "      <th></th>\n",
       "      <th></th>\n",
       "      <th></th>\n",
       "      <th></th>\n",
       "      <th></th>\n",
       "      <th></th>\n",
       "      <th></th>\n",
       "      <th></th>\n",
       "      <th></th>\n",
       "    </tr>\n",
       "  </thead>\n",
       "  <tbody>\n",
       "    <tr>\n",
       "      <th>copper</th>\n",
       "      <td>1.0</td>\n",
       "      <td>1.0</td>\n",
       "      <td>1.0</td>\n",
       "      <td>2.0</td>\n",
       "      <td>2.0</td>\n",
       "      <td>3.0</td>\n",
       "      <td>3.0</td>\n",
       "      <td>2.0</td>\n",
       "      <td>2.0</td>\n",
       "      <td>1.0</td>\n",
       "      <td>1.0</td>\n",
       "      <td>2.0</td>\n",
       "    </tr>\n",
       "    <tr>\n",
       "      <th>silicon</th>\n",
       "      <td>4.0</td>\n",
       "      <td>3.0</td>\n",
       "      <td>3.0</td>\n",
       "      <td>3.0</td>\n",
       "      <td>5.0</td>\n",
       "      <td>5.0</td>\n",
       "      <td>6.0</td>\n",
       "      <td>5.0</td>\n",
       "      <td>4.0</td>\n",
       "      <td>3.0</td>\n",
       "      <td>3.0</td>\n",
       "      <td>5.0</td>\n",
       "    </tr>\n",
       "    <tr>\n",
       "      <th>germanium</th>\n",
       "      <td>5.0</td>\n",
       "      <td>5.0</td>\n",
       "      <td>5.0</td>\n",
       "      <td>3.0</td>\n",
       "      <td>3.0</td>\n",
       "      <td>3.0</td>\n",
       "      <td>3.0</td>\n",
       "      <td>2.0</td>\n",
       "      <td>3.0</td>\n",
       "      <td>4.0</td>\n",
       "      <td>5.0</td>\n",
       "      <td>6.0</td>\n",
       "    </tr>\n",
       "    <tr>\n",
       "      <th>plastic</th>\n",
       "      <td>0.1</td>\n",
       "      <td>0.1</td>\n",
       "      <td>0.1</td>\n",
       "      <td>0.1</td>\n",
       "      <td>0.1</td>\n",
       "      <td>0.1</td>\n",
       "      <td>0.1</td>\n",
       "      <td>0.1</td>\n",
       "      <td>0.1</td>\n",
       "      <td>0.1</td>\n",
       "      <td>0.1</td>\n",
       "      <td>0.1</td>\n",
       "    </tr>\n",
       "  </tbody>\n",
       "</table>\n",
       "</div>"
      ],
      "text/plain": [
       "           Jan  Feb  Mar  Apr  May  Jun  Jul  Aug  Sep  Oct  Nov  Dec\n",
       "product                                                              \n",
       "copper     1.0  1.0  1.0  2.0  2.0  3.0  3.0  2.0  2.0  1.0  1.0  2.0\n",
       "silicon    4.0  3.0  3.0  3.0  5.0  5.0  6.0  5.0  4.0  3.0  3.0  5.0\n",
       "germanium  5.0  5.0  5.0  3.0  3.0  3.0  3.0  2.0  3.0  4.0  5.0  6.0\n",
       "plastic    0.1  0.1  0.1  0.1  0.1  0.1  0.1  0.1  0.1  0.1  0.1  0.1"
      ]
     },
     "execution_count": 5,
     "metadata": {},
     "output_type": "execute_result"
    }
   ],
   "source": [
    "price = pd.read_csv( StringIO(price_data), index_col='product' )\n",
    "price"
   ]
  },
  {
   "cell_type": "markdown",
   "metadata": {
    "id": "YcUgGn2alv6i"
   },
   "source": [
    "# A possible resolution"
   ]
  },
  {
   "cell_type": "markdown",
   "metadata": {
    "id": "tm2MaCYUlv6j"
   },
   "source": [
    "## A simple dataframe with the consumptions"
   ]
  },
  {
   "cell_type": "code",
   "execution_count": 6,
   "metadata": {
    "colab": {
     "base_uri": "https://localhost:8080/",
     "height": 174
    },
    "id": "I0Wl0BXOlv6j",
    "outputId": "2f785ea2-a004-4cd6-a65b-75eee443ef71"
   },
   "outputs": [
    {
     "data": {
      "text/html": [
       "<div>\n",
       "<style scoped>\n",
       "    .dataframe tbody tr th:only-of-type {\n",
       "        vertical-align: middle;\n",
       "    }\n",
       "\n",
       "    .dataframe tbody tr th {\n",
       "        vertical-align: top;\n",
       "    }\n",
       "\n",
       "    .dataframe thead th {\n",
       "        text-align: right;\n",
       "    }\n",
       "</style>\n",
       "<table border=\"1\" class=\"dataframe\">\n",
       "  <thead>\n",
       "    <tr style=\"text-align: right;\">\n",
       "      <th></th>\n",
       "      <th>Logic</th>\n",
       "      <th>Memory</th>\n",
       "    </tr>\n",
       "  </thead>\n",
       "  <tbody>\n",
       "    <tr>\n",
       "      <th>silicon</th>\n",
       "      <td>1</td>\n",
       "      <td>0</td>\n",
       "    </tr>\n",
       "    <tr>\n",
       "      <th>plastic</th>\n",
       "      <td>1</td>\n",
       "      <td>1</td>\n",
       "    </tr>\n",
       "    <tr>\n",
       "      <th>copper</th>\n",
       "      <td>4</td>\n",
       "      <td>2</td>\n",
       "    </tr>\n",
       "    <tr>\n",
       "      <th>germanium</th>\n",
       "      <td>0</td>\n",
       "      <td>1</td>\n",
       "    </tr>\n",
       "  </tbody>\n",
       "</table>\n",
       "</div>"
      ],
      "text/plain": [
       "           Logic  Memory\n",
       "silicon        1       0\n",
       "plastic        1       1\n",
       "copper         4       2\n",
       "germanium      0       1"
      ]
     },
     "execution_count": 6,
     "metadata": {},
     "output_type": "execute_result"
    }
   ],
   "source": [
    "use = dict()\n",
    "use['Logic'] = { 'silicon' : 1, 'plastic' : 1, 'copper' : 4 }\n",
    "use['Memory'] = { 'germanium' : 1, 'plastic' : 1, 'copper' : 2 }\n",
    "use = pd.DataFrame.from_dict( use ).fillna(0).astype( int )\n",
    "use"
   ]
  },
  {
   "cell_type": "markdown",
   "metadata": {
    "id": "3-ED4cy3lv6k"
   },
   "source": [
    "## A simple matrix multiplication"
   ]
  },
  {
   "cell_type": "code",
   "execution_count": 7,
   "metadata": {
    "colab": {
     "base_uri": "https://localhost:8080/",
     "height": 174
    },
    "id": "m8daTOpBlv6k",
    "outputId": "3bff6de3-8759-4dde-95f9-321d3231ccc7"
   },
   "outputs": [
    {
     "data": {
      "text/html": [
       "<div>\n",
       "<style scoped>\n",
       "    .dataframe tbody tr th:only-of-type {\n",
       "        vertical-align: middle;\n",
       "    }\n",
       "\n",
       "    .dataframe tbody tr th {\n",
       "        vertical-align: top;\n",
       "    }\n",
       "\n",
       "    .dataframe thead th {\n",
       "        text-align: right;\n",
       "    }\n",
       "</style>\n",
       "<table border=\"1\" class=\"dataframe\">\n",
       "  <thead>\n",
       "    <tr style=\"text-align: right;\">\n",
       "      <th></th>\n",
       "      <th>Jan</th>\n",
       "      <th>Feb</th>\n",
       "      <th>Mar</th>\n",
       "      <th>Apr</th>\n",
       "      <th>May</th>\n",
       "      <th>Jun</th>\n",
       "      <th>Jul</th>\n",
       "      <th>Aug</th>\n",
       "      <th>Sep</th>\n",
       "      <th>Oct</th>\n",
       "      <th>Nov</th>\n",
       "      <th>Dec</th>\n",
       "    </tr>\n",
       "  </thead>\n",
       "  <tbody>\n",
       "    <tr>\n",
       "      <th>silicon</th>\n",
       "      <td>88</td>\n",
       "      <td>125</td>\n",
       "      <td>260</td>\n",
       "      <td>217</td>\n",
       "      <td>238</td>\n",
       "      <td>286</td>\n",
       "      <td>248</td>\n",
       "      <td>238</td>\n",
       "      <td>265</td>\n",
       "      <td>293</td>\n",
       "      <td>259</td>\n",
       "      <td>244</td>\n",
       "    </tr>\n",
       "    <tr>\n",
       "      <th>plastic</th>\n",
       "      <td>135</td>\n",
       "      <td>187</td>\n",
       "      <td>341</td>\n",
       "      <td>282</td>\n",
       "      <td>333</td>\n",
       "      <td>404</td>\n",
       "      <td>334</td>\n",
       "      <td>327</td>\n",
       "      <td>347</td>\n",
       "      <td>375</td>\n",
       "      <td>343</td>\n",
       "      <td>310</td>\n",
       "    </tr>\n",
       "    <tr>\n",
       "      <th>copper</th>\n",
       "      <td>446</td>\n",
       "      <td>624</td>\n",
       "      <td>1202</td>\n",
       "      <td>998</td>\n",
       "      <td>1142</td>\n",
       "      <td>1380</td>\n",
       "      <td>1164</td>\n",
       "      <td>1130</td>\n",
       "      <td>1224</td>\n",
       "      <td>1336</td>\n",
       "      <td>1204</td>\n",
       "      <td>1108</td>\n",
       "    </tr>\n",
       "    <tr>\n",
       "      <th>germanium</th>\n",
       "      <td>47</td>\n",
       "      <td>62</td>\n",
       "      <td>81</td>\n",
       "      <td>65</td>\n",
       "      <td>95</td>\n",
       "      <td>118</td>\n",
       "      <td>86</td>\n",
       "      <td>89</td>\n",
       "      <td>82</td>\n",
       "      <td>82</td>\n",
       "      <td>84</td>\n",
       "      <td>66</td>\n",
       "    </tr>\n",
       "  </tbody>\n",
       "</table>\n",
       "</div>"
      ],
      "text/plain": [
       "           Jan  Feb   Mar  Apr   May   Jun   Jul   Aug   Sep   Oct   Nov   Dec\n",
       "silicon     88  125   260  217   238   286   248   238   265   293   259   244\n",
       "plastic    135  187   341  282   333   404   334   327   347   375   343   310\n",
       "copper     446  624  1202  998  1142  1380  1164  1130  1224  1336  1204  1108\n",
       "germanium   47   62    81   65    95   118    86    89    82    82    84    66"
      ]
     },
     "execution_count": 7,
     "metadata": {},
     "output_type": "execute_result"
    }
   ],
   "source": [
    "demand = use.dot( demand_chips )\n",
    "demand"
   ]
  },
  {
   "cell_type": "code",
   "execution_count": 8,
   "metadata": {},
   "outputs": [],
   "source": [
    "import pyomo.environ as pyo"
   ]
  },
  {
   "cell_type": "code",
   "execution_count": 9,
   "metadata": {},
   "outputs": [],
   "source": [
    "def ShowTableOfPyomoVariables( X, I, J ):\n",
    "    return pd.DataFrame.from_records( [ [ pyo.value( X[i,j] ) for j in J ] for i in I ], index=I, columns=J )"
   ]
  },
  {
   "cell_type": "markdown",
   "metadata": {},
   "source": [
    "# NOTE: The functions below follow closely the naming in Overleaf"
   ]
  },
  {
   "cell_type": "code",
   "execution_count": 10,
   "metadata": {},
   "outputs": [],
   "source": [
    "def BIMProductAcquisitionAndInventory( demand, acquisition_price, existing, desired, stock_limit, month_budget ):\n",
    "    m = pyo.ConcreteModel( 'Product acquisition and inventory' )\n",
    "    \n",
    "    periods  = demand.columns\n",
    "    products = demand.index \n",
    "    first    = periods[0] \n",
    "    prev     = { j : i for i,j in zip(periods,periods[1:]) }\n",
    "    last     = periods[-1]\n",
    "    \n",
    "    m.T = pyo.Set( initialize=periods )\n",
    "    m.P = pyo.Set( initialize=products )\n",
    "    \n",
    "    m.PT = m.P * m.T # to avoid internal set bloat\n",
    "    \n",
    "    m.x = pyo.Var( m.PT, within=pyo.NonNegativeReals )\n",
    "    m.s = pyo.Var( m.PT, within=pyo.NonNegativeReals )\n",
    "    \n",
    "    @m.Param( m.PT )\n",
    "    def pi(m,p,t):\n",
    "        return acquisition_price.loc[p][t]\n",
    "    \n",
    "    @m.Param( m.PT )\n",
    "    def h(m,p,t): \n",
    "        return .05 # the holding cost\n",
    "    \n",
    "    @m.Param( m.PT )\n",
    "    def delta(m,t,p):\n",
    "        return demand.loc[t,p]\n",
    "    \n",
    "    @m.Expression()\n",
    "    def acquisition_cost( m ):\n",
    "        return pyo.quicksum( m.pi[p,t] * m.x[p,t] for p in m.P for t in m.T )\n",
    "    \n",
    "    @m.Expression()\n",
    "    def inventory_cost( m ):\n",
    "        return pyo.quicksum( m.h[p,t] * m.s[p,t] for p in m.P for t in m.T )\n",
    "    \n",
    "    @m.Objective( sense=pyo.minimize )\n",
    "    def total_cost( m ):\n",
    "        return m.acquisition_cost + m.inventory_cost\n",
    "    \n",
    "    @m.Constraint( m.PT )\n",
    "    def balance( m, p, t ):\n",
    "        if t == first:\n",
    "            return existing[p] + m.x[p,t] == m.delta[p,t] + m.s[p,t]\n",
    "        else:\n",
    "            return m.x[p,t] + m.s[p,prev[t]] == m.delta[p,t] + m.s[p,t]\n",
    "        \n",
    "    @m.Constraint( m.P )\n",
    "    def finish( m, p ):\n",
    "        return m.s[p,last] >= desired[p]\n",
    "    \n",
    "    @m.Constraint( m.T )\n",
    "    def inventory( m, t ):\n",
    "        return pyo.quicksum( m.s[p,t] for p in m.P ) <= stock_limit\n",
    "    \n",
    "    @m.Constraint( m.T )\n",
    "    def budget( m, t ):\n",
    "        return pyo.quicksum( m.pi[p,t]*m.x[p,t] for p in m.P ) <= month_budget\n",
    "    \n",
    "    return m"
   ]
  },
  {
   "cell_type": "code",
   "execution_count": 11,
   "metadata": {},
   "outputs": [
    {
     "data": {
      "text/plain": [
       "{'Problem': [{'Name': 'unknown', 'Lower bound': 25908.12917, 'Upper bound': 25908.12917, 'Number of objectives': 1, 'Number of constraints': 77, 'Number of variables': 97, 'Number of nonzeros': 84, 'Sense': 'minimize'}], 'Solver': [{'Status': 'ok', 'User time': -1.0, 'System time': 0.01, 'Wallclock time': 0.01, 'Termination condition': 'optimal', 'Termination message': 'Model was solved to optimality (subject to tolerances), and an optimal solution is available.', 'Statistics': {'Branch and bound': {'Number of bounded subproblems': None, 'Number of created subproblems': None}, 'Black box': {'Number of iterations': 65}}, 'Error rc': 0, 'Time': 0.04359602928161621}], 'Solution': [OrderedDict([('number of solutions', 0), ('number of solutions displayed', 0)])]}"
      ]
     },
     "execution_count": 11,
     "metadata": {},
     "output_type": "execute_result"
    }
   ],
   "source": [
    "m = BIMProductAcquisitionAndInventory( demand, price, \n",
    "           {'silicon' : 1000, 'germanium': 1500, 'plastic': 1750, 'copper' : 4800 }, \n",
    "           {'silicon' :  500, 'germanium':  500, 'plastic': 1000, 'copper' : 2000 },\n",
    "           9000, 2000 )\n",
    "\n",
    "pyo.SolverFactory( 'cbc' ).solve(m)"
   ]
  },
  {
   "cell_type": "code",
   "execution_count": 12,
   "metadata": {},
   "outputs": [],
   "source": [
    "ShowTableOfPyomoVariables( m.x, m.P, m.T ).style.format('{:.1f}').to_latex('ch2buy.tex')"
   ]
  },
  {
   "cell_type": "code",
   "execution_count": 13,
   "metadata": {},
   "outputs": [],
   "source": [
    "ShowTableOfPyomoVariables( m.s, m.P, m.T ).style.format('{:.1f}').to_latex('ch2stock.tex')"
   ]
  },
  {
   "cell_type": "code",
   "execution_count": 14,
   "metadata": {},
   "outputs": [
    {
     "data": {
      "image/png": "[encoded data removed]",
      "text/plain": [
       "<Figure size 936x288 with 1 Axes>"
      ]
     },
     "metadata": {
      "needs_background": "light"
     },
     "output_type": "display_data"
    }
   ],
   "source": [
    "stock = ShowTableOfPyomoVariables( m.s, m.P, m.T )\n",
    "import matplotlib.pyplot as plt, numpy as np\n",
    "stock.T.plot(drawstyle='steps-mid',grid=True, figsize=(13,4))\n",
    "plt.xticks(np.arange(len(stock.columns)),stock.columns)\n",
    "plt.savefig('ch2stock.pdf', bbox_inches=\"tight\", pad_inches=0,dpi=2400)"
   ]
  },
  {
   "cell_type": "code",
   "execution_count": 15,
   "metadata": {},
   "outputs": [],
   "source": [
    "def VersionTwo( demand, acquisition_price, existing, desired, stock_limit, month_budget ):\n",
    "    m = pyo.ConcreteModel( 'Product acquisition and inventory' )\n",
    "    \n",
    "    periods  = demand.columns\n",
    "    products = demand.index \n",
    "    first    = periods[0] \n",
    "    prev     = { j : i for i,j in zip(periods,periods[1:]) }\n",
    "    last     = periods[-1]\n",
    "    \n",
    "    m.T = pyo.Set( initialize=periods )\n",
    "    m.P = pyo.Set( initialize=products )\n",
    "    \n",
    "    m.PT = m.P * m.T # to avoid internal set bloat\n",
    "    \n",
    "    m.x = pyo.Var( m.PT, within=pyo.NonNegativeReals )\n",
    "    \n",
    "    @m.Param( m.PT )\n",
    "    def pi(m,p,t):\n",
    "        return acquisition_price.loc[p][t]\n",
    "    \n",
    "    @m.Param( m.PT )\n",
    "    def h(m,p,t): \n",
    "        return .05 # the holding cost\n",
    "    \n",
    "    @m.Param( m.PT )\n",
    "    def delta(m,t,p):\n",
    "        return demand.loc[t,p]\n",
    "    \n",
    "    @m.Expression( m.PT )\n",
    "    def s( m, p, t ):\n",
    "        if t == first:\n",
    "            return existing[p] + m.x[p,t] - m.delta[p,t]\n",
    "        else:\n",
    "            return m.x[p,t] + m.s[p,prev[t]] - m.delta[p,t]\n",
    "        \n",
    "    @m.Constraint( m.PT )\n",
    "    def non_negative_stock( m, p, t ):\n",
    "        return m.s[p,t] >= 0\n",
    "    \n",
    "    @m.Expression()\n",
    "    def acquisition_cost( m ):\n",
    "        return pyo.quicksum( m.pi[p,t] * m.x[p,t] for p in m.P for t in m.T )\n",
    "    \n",
    "    @m.Expression()\n",
    "    def inventory_cost( m ):\n",
    "        return pyo.quicksum( m.h[p,t] * m.s[p,t] for p in m.P for t in m.T )\n",
    "    \n",
    "    @m.Objective( sense=pyo.minimize )\n",
    "    def total_cost( m ):\n",
    "        return m.acquisition_cost + m.inventory_cost\n",
    "            \n",
    "    @m.Constraint( m.P )\n",
    "    def finish( m, p ):\n",
    "        return m.s[p,last] >= desired[p]\n",
    "    \n",
    "    @m.Constraint( m.T )\n",
    "    def inventory( m, t ):\n",
    "        return pyo.quicksum( m.s[p,t] for p in m.P ) <= stock_limit\n",
    "    \n",
    "    @m.Constraint( m.T )\n",
    "    def budget( m, t ):\n",
    "        return pyo.quicksum( m.pi[p,t]*m.x[p,t] for p in m.P ) <= month_budget\n",
    "    \n",
    "    return m"
   ]
  },
  {
   "cell_type": "code",
   "execution_count": 16,
   "metadata": {},
   "outputs": [
    {
     "data": {
      "text/plain": [
       "{'Problem': [{'Name': 'Product acquisition and inventory', 'Lower bound': 25908.129166666666, 'Upper bound': 25908.129166666666, 'Number of objectives': 1, 'Number of constraints': 76, 'Number of variables': 48, 'Number of binary variables': 0, 'Number of integer variables': 0, 'Number of continuous variables': 48, 'Number of nonzeros': 720, 'Sense': 1, 'Number of solutions': 1}], 'Solver': [{'Name': 'Gurobi 9.50', 'Status': 'ok', 'Wallclock time': 0.0009174346923828125, 'Termination condition': 'optimal', 'Termination message': 'Model was solved to optimality (subject to tolerances), and an optimal solution is available.'}], 'Solution': [OrderedDict([('number of solutions', 0), ('number of solutions displayed', 0)])]}"
      ]
     },
     "execution_count": 16,
     "metadata": {},
     "output_type": "execute_result"
    }
   ],
   "source": [
    "m = VersionTwo( demand, price, \n",
    "           {'silicon' : 1000, 'germanium': 1500, 'plastic': 1750, 'copper' : 4800 }, \n",
    "           {'silicon' :  500, 'germanium':  500, 'plastic': 1000, 'copper' : 2000 },\n",
    "           9000, 2000 )\n",
    "\n",
    "pyo.SolverFactory( 'cbc' ).solve(m)"
   ]
  },
  {
   "cell_type": "code",
   "execution_count": 17,
   "metadata": {},
   "outputs": [
    {
     "data": {
      "text/html": [
       "<div>\n",
       "<style scoped>\n",
       "    .dataframe tbody tr th:only-of-type {\n",
       "        vertical-align: middle;\n",
       "    }\n",
       "\n",
       "    .dataframe tbody tr th {\n",
       "        vertical-align: top;\n",
       "    }\n",
       "\n",
       "    .dataframe thead th {\n",
       "        text-align: right;\n",
       "    }\n",
       "</style>\n",
       "<table border=\"1\" class=\"dataframe\">\n",
       "  <thead>\n",
       "    <tr style=\"text-align: right;\">\n",
       "      <th></th>\n",
       "      <th>Jan</th>\n",
       "      <th>Feb</th>\n",
       "      <th>Mar</th>\n",
       "      <th>Apr</th>\n",
       "      <th>May</th>\n",
       "      <th>Jun</th>\n",
       "      <th>Jul</th>\n",
       "      <th>Aug</th>\n",
       "      <th>Sep</th>\n",
       "      <th>Oct</th>\n",
       "      <th>Nov</th>\n",
       "      <th>Dec</th>\n",
       "    </tr>\n",
       "  </thead>\n",
       "  <tbody>\n",
       "    <tr>\n",
       "      <th>silicon</th>\n",
       "      <td>444.67</td>\n",
       "      <td>559.0</td>\n",
       "      <td>0.0</td>\n",
       "      <td>666.67</td>\n",
       "      <td>0.0</td>\n",
       "      <td>400.0</td>\n",
       "      <td>56.88</td>\n",
       "      <td>0.0</td>\n",
       "      <td>133.79</td>\n",
       "      <td>0.0</td>\n",
       "      <td>0.0</td>\n",
       "      <td>0.0</td>\n",
       "    </tr>\n",
       "    <tr>\n",
       "      <th>plastic</th>\n",
       "      <td>0.00</td>\n",
       "      <td>0.0</td>\n",
       "      <td>0.0</td>\n",
       "      <td>0.00</td>\n",
       "      <td>0.0</td>\n",
       "      <td>0.0</td>\n",
       "      <td>593.00</td>\n",
       "      <td>0.0</td>\n",
       "      <td>1065.00</td>\n",
       "      <td>0.0</td>\n",
       "      <td>0.0</td>\n",
       "      <td>1310.0</td>\n",
       "    </tr>\n",
       "    <tr>\n",
       "      <th>copper</th>\n",
       "      <td>221.33</td>\n",
       "      <td>323.0</td>\n",
       "      <td>2000.0</td>\n",
       "      <td>0.00</td>\n",
       "      <td>1000.0</td>\n",
       "      <td>0.0</td>\n",
       "      <td>0.00</td>\n",
       "      <td>1000.0</td>\n",
       "      <td>679.17</td>\n",
       "      <td>2000.0</td>\n",
       "      <td>2000.0</td>\n",
       "      <td>934.5</td>\n",
       "    </tr>\n",
       "    <tr>\n",
       "      <th>germanium</th>\n",
       "      <td>0.00</td>\n",
       "      <td>0.0</td>\n",
       "      <td>0.0</td>\n",
       "      <td>0.00</td>\n",
       "      <td>0.0</td>\n",
       "      <td>0.0</td>\n",
       "      <td>0.00</td>\n",
       "      <td>0.0</td>\n",
       "      <td>0.00</td>\n",
       "      <td>0.0</td>\n",
       "      <td>0.0</td>\n",
       "      <td>0.0</td>\n",
       "    </tr>\n",
       "  </tbody>\n",
       "</table>\n",
       "</div>"
      ],
      "text/plain": [
       "              Jan    Feb     Mar     Apr     May    Jun     Jul     Aug  \\\n",
       "silicon    444.67  559.0     0.0  666.67     0.0  400.0   56.88     0.0   \n",
       "plastic      0.00    0.0     0.0    0.00     0.0    0.0  593.00     0.0   \n",
       "copper     221.33  323.0  2000.0    0.00  1000.0    0.0    0.00  1000.0   \n",
       "germanium    0.00    0.0     0.0    0.00     0.0    0.0    0.00     0.0   \n",
       "\n",
       "               Sep     Oct     Nov     Dec  \n",
       "silicon     133.79     0.0     0.0     0.0  \n",
       "plastic    1065.00     0.0     0.0  1310.0  \n",
       "copper      679.17  2000.0  2000.0   934.5  \n",
       "germanium     0.00     0.0     0.0     0.0  "
      ]
     },
     "execution_count": 17,
     "metadata": {},
     "output_type": "execute_result"
    }
   ],
   "source": [
    "ShowTableOfPyomoVariables( m.x, m.P, m.T ).round(2)"
   ]
  },
  {
   "cell_type": "code",
   "execution_count": 18,
   "metadata": {},
   "outputs": [
    {
     "data": {
      "text/html": [
       "<div>\n",
       "<style scoped>\n",
       "    .dataframe tbody tr th:only-of-type {\n",
       "        vertical-align: middle;\n",
       "    }\n",
       "\n",
       "    .dataframe tbody tr th {\n",
       "        vertical-align: top;\n",
       "    }\n",
       "\n",
       "    .dataframe thead th {\n",
       "        text-align: right;\n",
       "    }\n",
       "</style>\n",
       "<table border=\"1\" class=\"dataframe\">\n",
       "  <thead>\n",
       "    <tr style=\"text-align: right;\">\n",
       "      <th></th>\n",
       "      <th>Jan</th>\n",
       "      <th>Feb</th>\n",
       "      <th>Mar</th>\n",
       "      <th>Apr</th>\n",
       "      <th>May</th>\n",
       "      <th>Jun</th>\n",
       "      <th>Jul</th>\n",
       "      <th>Aug</th>\n",
       "      <th>Sep</th>\n",
       "      <th>Oct</th>\n",
       "      <th>Nov</th>\n",
       "      <th>Dec</th>\n",
       "    </tr>\n",
       "  </thead>\n",
       "  <tbody>\n",
       "    <tr>\n",
       "      <th>silicon</th>\n",
       "      <td>1356.67</td>\n",
       "      <td>1790.67</td>\n",
       "      <td>1530.67</td>\n",
       "      <td>1980.33</td>\n",
       "      <td>1742.33</td>\n",
       "      <td>1856.33</td>\n",
       "      <td>1665.21</td>\n",
       "      <td>1427.21</td>\n",
       "      <td>1296.0</td>\n",
       "      <td>1003.0</td>\n",
       "      <td>744.0</td>\n",
       "      <td>500.0</td>\n",
       "    </tr>\n",
       "    <tr>\n",
       "      <th>plastic</th>\n",
       "      <td>1615.00</td>\n",
       "      <td>1428.00</td>\n",
       "      <td>1087.00</td>\n",
       "      <td>805.00</td>\n",
       "      <td>472.00</td>\n",
       "      <td>68.00</td>\n",
       "      <td>327.00</td>\n",
       "      <td>0.00</td>\n",
       "      <td>718.0</td>\n",
       "      <td>343.0</td>\n",
       "      <td>0.0</td>\n",
       "      <td>1000.0</td>\n",
       "    </tr>\n",
       "    <tr>\n",
       "      <th>copper</th>\n",
       "      <td>4575.33</td>\n",
       "      <td>4274.33</td>\n",
       "      <td>5072.33</td>\n",
       "      <td>4074.33</td>\n",
       "      <td>3932.33</td>\n",
       "      <td>2552.33</td>\n",
       "      <td>1388.33</td>\n",
       "      <td>1258.33</td>\n",
       "      <td>713.5</td>\n",
       "      <td>1377.5</td>\n",
       "      <td>2173.5</td>\n",
       "      <td>2000.0</td>\n",
       "    </tr>\n",
       "    <tr>\n",
       "      <th>germanium</th>\n",
       "      <td>1453.00</td>\n",
       "      <td>1391.00</td>\n",
       "      <td>1310.00</td>\n",
       "      <td>1245.00</td>\n",
       "      <td>1150.00</td>\n",
       "      <td>1032.00</td>\n",
       "      <td>946.00</td>\n",
       "      <td>857.00</td>\n",
       "      <td>775.0</td>\n",
       "      <td>693.0</td>\n",
       "      <td>609.0</td>\n",
       "      <td>543.0</td>\n",
       "    </tr>\n",
       "  </tbody>\n",
       "</table>\n",
       "</div>"
      ],
      "text/plain": [
       "               Jan      Feb      Mar      Apr      May      Jun      Jul  \\\n",
       "silicon    1356.67  1790.67  1530.67  1980.33  1742.33  1856.33  1665.21   \n",
       "plastic    1615.00  1428.00  1087.00   805.00   472.00    68.00   327.00   \n",
       "copper     4575.33  4274.33  5072.33  4074.33  3932.33  2552.33  1388.33   \n",
       "germanium  1453.00  1391.00  1310.00  1245.00  1150.00  1032.00   946.00   \n",
       "\n",
       "               Aug     Sep     Oct     Nov     Dec  \n",
       "silicon    1427.21  1296.0  1003.0   744.0   500.0  \n",
       "plastic       0.00   718.0   343.0     0.0  1000.0  \n",
       "copper     1258.33   713.5  1377.5  2173.5  2000.0  \n",
       "germanium   857.00   775.0   693.0   609.0   543.0  "
      ]
     },
     "execution_count": 18,
     "metadata": {},
     "output_type": "execute_result"
    }
   ],
   "source": [
    "ShowTableOfPyomoVariables( m.s, m.P, m.T ).round(2)"
   ]
  },
  {
   "cell_type": "code",
   "execution_count": 19,
   "metadata": {},
   "outputs": [],
   "source": [
    "m = pyo.ConcreteModel()"
   ]
  },
  {
   "cell_type": "markdown",
   "metadata": {},
   "source": [
    "# Add the relevant data to the model"
   ]
  },
  {
   "cell_type": "code",
   "execution_count": 20,
   "metadata": {},
   "outputs": [],
   "source": [
    "m.Time        = demand.columns\n",
    "m.Product     = demand.index\n",
    "m.Demand      = demand\n",
    "m.UnitPrice   = price\n",
    "m.HoldingCost = .05\n",
    "m.StockLimit  = 9000\n",
    "m.Budget      = 2000"
   ]
  },
  {
   "cell_type": "code",
   "execution_count": 21,
   "metadata": {},
   "outputs": [],
   "source": [
    "m.existing = {'silicon' : 1000, 'germanium': 1500, 'plastic': 1750, 'copper' : 4800 }\n",
    "m.desired  = {'silicon' :  500, 'germanium':  500, 'plastic': 1000, 'copper' : 2000 }"
   ]
  },
  {
   "cell_type": "markdown",
   "metadata": {},
   "source": [
    "# Some care to deal with the `time` index"
   ]
  },
  {
   "cell_type": "code",
   "execution_count": 22,
   "metadata": {},
   "outputs": [],
   "source": [
    "m.first = m.Time[0]\n",
    "m.last  = m.Time[-1]\n",
    "m.prev  = { j : i for i,j in zip(m.Time,m.Time[1:]) }"
   ]
  },
  {
   "cell_type": "markdown",
   "metadata": {},
   "source": [
    "# Variables for the decision (buy) and consequence (stock)"
   ]
  },
  {
   "cell_type": "code",
   "execution_count": 23,
   "metadata": {},
   "outputs": [],
   "source": [
    "m.buy   = pyo.Var( m.Product, m.Time, within=pyo.NonNegativeReals )\n",
    "m.stock = pyo.Var( m.Product, m.Time, within=pyo.NonNegativeReals )"
   ]
  },
  {
   "cell_type": "markdown",
   "metadata": {},
   "source": [
    "# The constraints that balance acquisition with inventory and demand"
   ]
  },
  {
   "cell_type": "code",
   "execution_count": 24,
   "metadata": {},
   "outputs": [],
   "source": [
    "def BalanceRule( m, p, t ):\n",
    "    if t == m.first:\n",
    "        return m.existing[p] + m.buy[p,t] == m.Demand.loc[p,t] + m.stock[p,t]\n",
    "    else:\n",
    "        return m.buy[p,t] + m.stock[p,m.prev[t]] == m.Demand.loc[p,t] + m.stock[p,t]"
   ]
  },
  {
   "cell_type": "code",
   "execution_count": 25,
   "metadata": {},
   "outputs": [],
   "source": [
    "m.balance = pyo.Constraint( m.Product, m.Time, rule = BalanceRule )"
   ]
  },
  {
   "cell_type": "markdown",
   "metadata": {},
   "source": [
    "# The remaining constraints\n",
    "\n",
    "Note that these rules are so simple, one liners, that it is better to just define them 'on the spot' as anonymous (or `'lambda`) functions. "
   ]
  },
  {
   "cell_type": "markdown",
   "metadata": {},
   "source": [
    "## Ensure the desired inventory at the end of the horizon"
   ]
  },
  {
   "cell_type": "code",
   "execution_count": 26,
   "metadata": {},
   "outputs": [],
   "source": [
    "m.finish = pyo.Constraint( m.Product, rule = lambda m, p : m.stock[p,m.last] >= m.desired[p] )"
   ]
  },
  {
   "cell_type": "markdown",
   "metadata": {},
   "source": [
    "## Ensure that the inventory fits the capacity"
   ]
  },
  {
   "cell_type": "code",
   "execution_count": 27,
   "metadata": {},
   "outputs": [],
   "source": [
    "m.inventory = pyo.Constraint( m.Time, rule = lambda m, t : sum( m.stock[p,t] for p in m.Product ) <= m.StockLimit )"
   ]
  },
  {
   "cell_type": "markdown",
   "metadata": {},
   "source": [
    "## Ensure that the acquisition fits the budget"
   ]
  },
  {
   "cell_type": "code",
   "execution_count": 28,
   "metadata": {},
   "outputs": [],
   "source": [
    "m.budget = pyo.Constraint( m.Time, rule = lambda m, t : sum( m.UnitPrice.loc[p,t]*m.buy[p,t] for p in m.Product ) <= m.Budget )"
   ]
  },
  {
   "cell_type": "code",
   "execution_count": 29,
   "metadata": {},
   "outputs": [],
   "source": [
    "m.obj = pyo.Objective( expr = sum( m.UnitPrice.loc[p,t]*m.buy[p,t] for p in m.Product for t in m.Time )\n",
    "                              + sum( m.HoldingCost*m.stock[p,t] for p in m.Product for t in m.Time )\n",
    "                      , sense = pyo.minimize )"
   ]
  },
  {
   "cell_type": "code",
   "execution_count": 30,
   "metadata": {},
   "outputs": [
    {
     "data": {
      "text/plain": [
       "{'Problem': [{'Name': 'unknown', 'Lower bound': 25908.12916666666, 'Upper bound': 25908.12916666666, 'Number of objectives': 1, 'Number of constraints': 76, 'Number of variables': 96, 'Number of binary variables': 0, 'Number of integer variables': 0, 'Number of continuous variables': 96, 'Number of nonzeros': 240, 'Sense': 1, 'Number of solutions': 1}], 'Solver': [{'Name': 'Gurobi 9.50', 'Status': 'ok', 'Wallclock time': 0.000713348388671875, 'Termination condition': 'optimal', 'Termination message': 'Model was solved to optimality (subject to tolerances), and an optimal solution is available.'}], 'Solution': [OrderedDict([('number of solutions', 0), ('number of solutions displayed', 0)])]}"
      ]
     },
     "execution_count": 30,
     "metadata": {},
     "output_type": "execute_result"
    }
   ],
   "source": [
    "pyo.SolverFactory( 'cbc' ).solve(m)"
   ]
  },
  {
   "cell_type": "code",
   "execution_count": 31,
   "metadata": {},
   "outputs": [
    {
     "data": {
      "text/html": [
       "<div>\n",
       "<style scoped>\n",
       "    .dataframe tbody tr th:only-of-type {\n",
       "        vertical-align: middle;\n",
       "    }\n",
       "\n",
       "    .dataframe tbody tr th {\n",
       "        vertical-align: top;\n",
       "    }\n",
       "\n",
       "    .dataframe thead th {\n",
       "        text-align: right;\n",
       "    }\n",
       "</style>\n",
       "<table border=\"1\" class=\"dataframe\">\n",
       "  <thead>\n",
       "    <tr style=\"text-align: right;\">\n",
       "      <th></th>\n",
       "      <th>Jan</th>\n",
       "      <th>Feb</th>\n",
       "      <th>Mar</th>\n",
       "      <th>Apr</th>\n",
       "      <th>May</th>\n",
       "      <th>Jun</th>\n",
       "      <th>Jul</th>\n",
       "      <th>Aug</th>\n",
       "      <th>Sep</th>\n",
       "      <th>Oct</th>\n",
       "      <th>Nov</th>\n",
       "      <th>Dec</th>\n",
       "    </tr>\n",
       "  </thead>\n",
       "  <tbody>\n",
       "    <tr>\n",
       "      <th>silicon</th>\n",
       "      <td>444.666667</td>\n",
       "      <td>559.0</td>\n",
       "      <td>0.0</td>\n",
       "      <td>666.666667</td>\n",
       "      <td>0.0</td>\n",
       "      <td>400.0</td>\n",
       "      <td>65.05</td>\n",
       "      <td>0.00</td>\n",
       "      <td>125.616667</td>\n",
       "      <td>0.0</td>\n",
       "      <td>0.0</td>\n",
       "      <td>0.0</td>\n",
       "    </tr>\n",
       "    <tr>\n",
       "      <th>plastic</th>\n",
       "      <td>0.000000</td>\n",
       "      <td>0.0</td>\n",
       "      <td>0.0</td>\n",
       "      <td>0.000000</td>\n",
       "      <td>0.0</td>\n",
       "      <td>0.0</td>\n",
       "      <td>266.00</td>\n",
       "      <td>327.00</td>\n",
       "      <td>1065.000000</td>\n",
       "      <td>0.0</td>\n",
       "      <td>0.0</td>\n",
       "      <td>1310.0</td>\n",
       "    </tr>\n",
       "    <tr>\n",
       "      <th>copper</th>\n",
       "      <td>221.333333</td>\n",
       "      <td>323.0</td>\n",
       "      <td>2000.0</td>\n",
       "      <td>0.000000</td>\n",
       "      <td>1000.0</td>\n",
       "      <td>0.0</td>\n",
       "      <td>0.00</td>\n",
       "      <td>983.65</td>\n",
       "      <td>695.516667</td>\n",
       "      <td>2000.0</td>\n",
       "      <td>2000.0</td>\n",
       "      <td>934.5</td>\n",
       "    </tr>\n",
       "    <tr>\n",
       "      <th>germanium</th>\n",
       "      <td>0.000000</td>\n",
       "      <td>0.0</td>\n",
       "      <td>0.0</td>\n",
       "      <td>0.000000</td>\n",
       "      <td>0.0</td>\n",
       "      <td>0.0</td>\n",
       "      <td>0.00</td>\n",
       "      <td>0.00</td>\n",
       "      <td>0.000000</td>\n",
       "      <td>0.0</td>\n",
       "      <td>0.0</td>\n",
       "      <td>0.0</td>\n",
       "    </tr>\n",
       "  </tbody>\n",
       "</table>\n",
       "</div>"
      ],
      "text/plain": [
       "                  Jan    Feb     Mar         Apr     May    Jun     Jul  \\\n",
       "silicon    444.666667  559.0     0.0  666.666667     0.0  400.0   65.05   \n",
       "plastic      0.000000    0.0     0.0    0.000000     0.0    0.0  266.00   \n",
       "copper     221.333333  323.0  2000.0    0.000000  1000.0    0.0    0.00   \n",
       "germanium    0.000000    0.0     0.0    0.000000     0.0    0.0    0.00   \n",
       "\n",
       "              Aug          Sep     Oct     Nov     Dec  \n",
       "silicon      0.00   125.616667     0.0     0.0     0.0  \n",
       "plastic    327.00  1065.000000     0.0     0.0  1310.0  \n",
       "copper     983.65   695.516667  2000.0  2000.0   934.5  \n",
       "germanium    0.00     0.000000     0.0     0.0     0.0  "
      ]
     },
     "execution_count": 31,
     "metadata": {},
     "output_type": "execute_result"
    }
   ],
   "source": [
    "ShowTableOfPyomoVariables( m.buy, m.Product, m.Time )"
   ]
  },
  {
   "cell_type": "code",
   "execution_count": 32,
   "metadata": {},
   "outputs": [
    {
     "data": {
      "text/html": [
       "<div>\n",
       "<style scoped>\n",
       "    .dataframe tbody tr th:only-of-type {\n",
       "        vertical-align: middle;\n",
       "    }\n",
       "\n",
       "    .dataframe tbody tr th {\n",
       "        vertical-align: top;\n",
       "    }\n",
       "\n",
       "    .dataframe thead th {\n",
       "        text-align: right;\n",
       "    }\n",
       "</style>\n",
       "<table border=\"1\" class=\"dataframe\">\n",
       "  <thead>\n",
       "    <tr style=\"text-align: right;\">\n",
       "      <th></th>\n",
       "      <th>Jan</th>\n",
       "      <th>Feb</th>\n",
       "      <th>Mar</th>\n",
       "      <th>Apr</th>\n",
       "      <th>May</th>\n",
       "      <th>Jun</th>\n",
       "      <th>Jul</th>\n",
       "      <th>Aug</th>\n",
       "      <th>Sep</th>\n",
       "      <th>Oct</th>\n",
       "      <th>Nov</th>\n",
       "      <th>Dec</th>\n",
       "    </tr>\n",
       "  </thead>\n",
       "  <tbody>\n",
       "    <tr>\n",
       "      <th>silicon</th>\n",
       "      <td>1356.666667</td>\n",
       "      <td>1790.666667</td>\n",
       "      <td>1530.666667</td>\n",
       "      <td>1980.333333</td>\n",
       "      <td>1742.333333</td>\n",
       "      <td>1856.333333</td>\n",
       "      <td>1673.383333</td>\n",
       "      <td>1435.383333</td>\n",
       "      <td>1296.0</td>\n",
       "      <td>1003.0</td>\n",
       "      <td>744.0</td>\n",
       "      <td>500.0</td>\n",
       "    </tr>\n",
       "    <tr>\n",
       "      <th>plastic</th>\n",
       "      <td>1615.000000</td>\n",
       "      <td>1428.000000</td>\n",
       "      <td>1087.000000</td>\n",
       "      <td>805.000000</td>\n",
       "      <td>472.000000</td>\n",
       "      <td>68.000000</td>\n",
       "      <td>0.000000</td>\n",
       "      <td>0.000000</td>\n",
       "      <td>718.0</td>\n",
       "      <td>343.0</td>\n",
       "      <td>0.0</td>\n",
       "      <td>1000.0</td>\n",
       "    </tr>\n",
       "    <tr>\n",
       "      <th>copper</th>\n",
       "      <td>4575.333333</td>\n",
       "      <td>4274.333333</td>\n",
       "      <td>5072.333333</td>\n",
       "      <td>4074.333333</td>\n",
       "      <td>3932.333333</td>\n",
       "      <td>2552.333333</td>\n",
       "      <td>1388.333333</td>\n",
       "      <td>1241.983333</td>\n",
       "      <td>713.5</td>\n",
       "      <td>1377.5</td>\n",
       "      <td>2173.5</td>\n",
       "      <td>2000.0</td>\n",
       "    </tr>\n",
       "    <tr>\n",
       "      <th>germanium</th>\n",
       "      <td>1453.000000</td>\n",
       "      <td>1391.000000</td>\n",
       "      <td>1310.000000</td>\n",
       "      <td>1245.000000</td>\n",
       "      <td>1150.000000</td>\n",
       "      <td>1032.000000</td>\n",
       "      <td>946.000000</td>\n",
       "      <td>857.000000</td>\n",
       "      <td>775.0</td>\n",
       "      <td>693.0</td>\n",
       "      <td>609.0</td>\n",
       "      <td>543.0</td>\n",
       "    </tr>\n",
       "  </tbody>\n",
       "</table>\n",
       "</div>"
      ],
      "text/plain": [
       "                   Jan          Feb          Mar          Apr          May  \\\n",
       "silicon    1356.666667  1790.666667  1530.666667  1980.333333  1742.333333   \n",
       "plastic    1615.000000  1428.000000  1087.000000   805.000000   472.000000   \n",
       "copper     4575.333333  4274.333333  5072.333333  4074.333333  3932.333333   \n",
       "germanium  1453.000000  1391.000000  1310.000000  1245.000000  1150.000000   \n",
       "\n",
       "                   Jun          Jul          Aug     Sep     Oct     Nov  \\\n",
       "silicon    1856.333333  1673.383333  1435.383333  1296.0  1003.0   744.0   \n",
       "plastic      68.000000     0.000000     0.000000   718.0   343.0     0.0   \n",
       "copper     2552.333333  1388.333333  1241.983333   713.5  1377.5  2173.5   \n",
       "germanium  1032.000000   946.000000   857.000000   775.0   693.0   609.0   \n",
       "\n",
       "              Dec  \n",
       "silicon     500.0  \n",
       "plastic    1000.0  \n",
       "copper     2000.0  \n",
       "germanium   543.0  "
      ]
     },
     "execution_count": 32,
     "metadata": {},
     "output_type": "execute_result"
    }
   ],
   "source": [
    "ShowTableOfPyomoVariables( m.stock, m.Product, m.Time )"
   ]
  },
  {
   "cell_type": "code",
   "execution_count": 33,
   "metadata": {},
   "outputs": [
    {
     "data": {
      "text/plain": [
       "<AxesSubplot:>"
      ]
     },
     "execution_count": 33,
     "metadata": {},
     "output_type": "execute_result"
    },
    {
     "data": {
      "image/png": "[encoded data removed]",
      "text/plain": [
       "<Figure size 1440x288 with 1 Axes>"
      ]
     },
     "metadata": {
      "needs_background": "light"
     },
     "output_type": "display_data"
    }
   ],
   "source": [
    "ShowTableOfPyomoVariables( m.stock, m.Product, m.Time ).T.plot(drawstyle='steps-mid',grid=True, figsize=(20,4))"
   ]
  },
  {
   "cell_type": "markdown",
   "metadata": {},
   "source": [
    "# Notes\n",
    "\n",
    "* The budget is not limitative. \n",
    "* With the given budget the solution remains integer. \n",
    "* Lowering the budget to 2000 forces acquiring fractional quantities. \n",
    "* Lower values of the budget end up making the problem infeasible."
   ]
  }
 ],
 "metadata": {
  "colab": {
   "collapsed_sections": [],
   "name": "DSE-5.1 2021 - Francis' material planning - a possible resolution.ipynb",
   "provenance": []
  },
  "kernelspec": {
   "display_name": "Python 3 (ipykernel)",
   "language": "python",
   "name": "python3"
  },
  "language_info": {
   "codemirror_mode": {
    "name": "ipython",
    "version": 3
   },
   "file_extension": ".py",
   "mimetype": "text/x-python",
   "name": "python",
   "nbconvert_exporter": "python",
   "pygments_lexer": "ipython3",
   "version": "3.9.12"
  }
 },
 "nbformat": 4,
 "nbformat_minor": 4
}
