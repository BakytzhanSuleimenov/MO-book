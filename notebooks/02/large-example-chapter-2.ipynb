{
 "cells": [
  {
   "cell_type": "markdown",
   "metadata": {
    "id": "9hBrO0SNlv6f",
    "tags": []
   },
   "source": [
    "# Caroline's raw material planning\n",
    "\n",
    "<img align='right' src='https://drive.google.com/uc?export=view&id=1FYTs46ptGHrOaUMEi5BzePH9Gl3YM_2C' width=200>\n",
    "\n",
    "As we know, BIM produces logic and memory chips using copper, silicon, germanium and plastic. \n",
    "\n",
    "Each chip has the following consumption of materials:\n",
    "\n",
    "| chip   | copper | silicon | germanium | plastic |\n",
    "|:-------|-------:|--------:|----------:|--------:|\n",
    "|Logic   |    0.4 |       1 |           |       1 |\n",
    "|Memory  |    0.2 |         |         1 |       1 |\n",
    "\n",
    "BIM hired Caroline to manage the acquisition and the inventory of these raw materials. \n",
    "\n",
    "Caroline conducted a data analysis which lead to the following prediction of monthly demands for her trophies: \n",
    "\n",
    "| chip   | Jan | Feb | Mar | Apr | May | Jun | Jul | Aug | Sep | Oct | Nov | Dec |\n",
    "|:-------|----:|----:|----:|----:|----:|----:|----:|----:|----:|----:|----:|----:|\n",
    "|Logic   |  88 | 125 | 260 | 217 | 238 | 286 | 248 | 238 | 265 | 293 | 259 | 244 |\n",
    "|Memory  |  47 |  62 |  81 |  65 |  95 | 118 |  86 |  89 |  82 |  82 |  84 | 66  |\n",
    "\n",
    "As you recall, BIM has the following stock at the moment:\n",
    "\n",
    "|copper|silicon|germanium|plastic|\n",
    "|-----:|------:|--------:|------:|\n",
    "|   480|  1000 |     1500|  1750 |\n",
    "\n",
    "BIM would like to have at least the following stock at the end of the year:\n",
    "\n",
    "|copper|silicon|germanium|plastic|\n",
    "|-----:|------:|--------:|------:|\n",
    "|   200|   500 |      500|  1000 |\n",
    "\n",
    "Each product can be acquired at each month, but the unit prices vary as follows:\n",
    "\n",
    "| product  | Jan | Feb | Mar | Apr | May | Jun | Jul | Aug | Sep | Oct | Nov | Dec |\n",
    "|:---------|----:|----:|----:|----:|----:|----:|----:|----:|----:|----:|----:|----:|\n",
    "|copper    |   1 |   1 |   1 |   2 |   2 |   3 |   3 |   2 |   2 |   1 |   1 |   2 |\n",
    "|silicon   |   4 |   3 |   3 |   3 |   5 |   5 |   6 |   5 |   4 |   3 |   3 |   5 |\n",
    "|germanium |   5 |   5 |   5 |   3 |   3 |   3 |   3 |   2 |   3 |   4 |   5 |   6 |\n",
    "|plastic   | 0.1 | 0.1 | 0.1 | 0.1 | 0.1 | 0.1 | 0.1 | 0.1 | 0.1 | 0.1 | 0.1 | 0.1 |\n",
    "\n",
    "The inventory is limited by a capacity of a total of 9000 units per month, regardless of the composition of products in stock. \n",
    "The holding costs of the inventory are 0.05 per unit per month regardless of the product.\n",
    "\n",
    "Caroline cannot spend more than 5000 per month on acquisition.\n",
    "\n",
    "Note that Caroline aims at minimizing the acquisition and holding costs of the materials while meeting the required quantities for production. \n",
    "The production is made to order, meaning that no inventory of chips is kept.\n",
    "\n",
    "Please help Caroline to model the material planning and solve it with the data above. "
   ]
  },
  {
   "cell_type": "code",
   "execution_count": null,
   "metadata": {
    "id": "M5Nh7EXxlv6h"
   },
   "outputs": [],
   "source": [
    "import sys\n",
    "if 'google.colab' in sys.modules:\n",
    "    import shutil\n",
    "    if not shutil.which('pyomo'):\n",
    "        !pip install -q pyomo\n",
    "        assert(shutil.which('pyomo'))\n",
    "\n",
    "    # cbc\n",
    "    !apt-get install -y -qq coinor-cbc"
   ]
  },
  {
   "cell_type": "markdown",
   "metadata": {},
   "source": [
    "To be self contained... alternative is to upload and read a file. "
   ]
  },
  {
   "cell_type": "code",
   "execution_count": null,
   "metadata": {},
   "outputs": [],
   "source": [
    "demand_data = '''chip,Jan,Feb,Mar,Apr,May,Jun,Jul,Aug,Sep,Oct,Nov,Dec\n",
    "Logic,88,125,260,217,238,286,248,238,265,293,259,244\n",
    "Memory,47,62,81,65,95,118,86,89,82,82,84,66'''"
   ]
  },
  {
   "cell_type": "code",
   "execution_count": null,
   "metadata": {
    "colab": {
     "base_uri": "https://localhost:8080/",
     "height": 143
    },
    "id": "rvWwY74i7qEy",
    "outputId": "47766087-eb87-44e7-d3e2-ac2c00af78f4"
   },
   "outputs": [],
   "source": [
    "from io import StringIO\n",
    "import pandas as pd\n",
    "demand_chips = pd.read_csv( StringIO(demand_data), index_col='chip' )\n",
    "demand_chips"
   ]
  },
  {
   "cell_type": "code",
   "execution_count": null,
   "metadata": {},
   "outputs": [],
   "source": [
    "price_data = '''product,Jan,Feb,Mar,Apr,May,Jun,Jul,Aug,Sep,Oct,Nov,Dec\n",
    "copper,1,1,1,2,2,3,3,2,2,1,1,2\n",
    "silicon,4,3,3,3,5,5,6,5,4,3,3,5\n",
    "germanium,5,5,5,3,3,3,3,2,3,4,5,6\n",
    "plastic,0.1,0.1,0.1,0.1,0.1,0.1,0.1,0.1,0.1,0.1,0.1,0.1'''"
   ]
  },
  {
   "cell_type": "code",
   "execution_count": null,
   "metadata": {},
   "outputs": [],
   "source": [
    "price = pd.read_csv( StringIO(price_data), index_col='product' )\n",
    "price"
   ]
  },
  {
   "cell_type": "markdown",
   "metadata": {
    "id": "YcUgGn2alv6i"
   },
   "source": [
    "# A possible resolution"
   ]
  },
  {
   "cell_type": "markdown",
   "metadata": {
    "id": "tm2MaCYUlv6j"
   },
   "source": [
    "## A simple dataframe with the consumptions"
   ]
  },
  {
   "cell_type": "code",
   "execution_count": null,
   "metadata": {
    "colab": {
     "base_uri": "https://localhost:8080/",
     "height": 174
    },
    "id": "I0Wl0BXOlv6j",
    "outputId": "2f785ea2-a004-4cd6-a65b-75eee443ef71"
   },
   "outputs": [],
   "source": [
    "use = dict()\n",
    "use['Logic'] = { 'silicon' : 1, 'plastic' : 1, 'copper' : 4 }\n",
    "use['Memory'] = { 'germanium' : 1, 'plastic' : 1, 'copper' : 2 }\n",
    "use = pd.DataFrame.from_dict( use ).fillna(0).astype( int )\n",
    "use"
   ]
  },
  {
   "cell_type": "markdown",
   "metadata": {
    "id": "3-ED4cy3lv6k"
   },
   "source": [
    "## A simple matrix multiplication"
   ]
  },
  {
   "cell_type": "code",
   "execution_count": null,
   "metadata": {
    "colab": {
     "base_uri": "https://localhost:8080/",
     "height": 174
    },
    "id": "m8daTOpBlv6k",
    "outputId": "3bff6de3-8759-4dde-95f9-321d3231ccc7"
   },
   "outputs": [],
   "source": [
    "demand = use.dot( demand_chips )\n",
    "demand"
   ]
  },
  {
   "cell_type": "code",
   "execution_count": null,
   "metadata": {},
   "outputs": [],
   "source": [
    "import pyomo.environ as pyo"
   ]
  },
  {
   "cell_type": "code",
   "execution_count": null,
   "metadata": {},
   "outputs": [],
   "source": [
    "def ShowTableOfPyomoVariables( X, I, J ):\n",
    "    return pd.DataFrame.from_records( [ [ pyo.value( X[i,j] ) for j in J ] for i in I ], index=I, columns=J )"
   ]
  },
  {
   "cell_type": "markdown",
   "metadata": {},
   "source": [
    "# NOTE: The functions below follow closely the naming in Overleaf"
   ]
  },
  {
   "cell_type": "code",
   "execution_count": null,
   "metadata": {},
   "outputs": [],
   "source": [
    "def BIMProductAcquisitionAndInventory( demand, acquisition_price, existing, desired, stock_limit, month_budget ):\n",
    "    m = pyo.ConcreteModel( 'Product acquisition and inventory' )\n",
    "    \n",
    "    periods  = demand.columns\n",
    "    products = demand.index \n",
    "    first    = periods[0] \n",
    "    prev     = { j : i for i,j in zip(periods,periods[1:]) }\n",
    "    last     = periods[-1]\n",
    "    \n",
    "    m.T = pyo.Set( initialize=periods )\n",
    "    m.P = pyo.Set( initialize=products )\n",
    "    \n",
    "    m.PT = m.P * m.T # to avoid internal set bloat\n",
    "    \n",
    "    m.x = pyo.Var( m.PT, within=pyo.NonNegativeReals )\n",
    "    m.s = pyo.Var( m.PT, within=pyo.NonNegativeReals )\n",
    "    \n",
    "    @m.Param( m.PT )\n",
    "    def pi(m,p,t):\n",
    "        return acquisition_price.loc[p][t]\n",
    "    \n",
    "    @m.Param( m.PT )\n",
    "    def h(m,p,t): \n",
    "        return .05 # the holding cost\n",
    "    \n",
    "    @m.Param( m.PT )\n",
    "    def delta(m,t,p):\n",
    "        return demand.loc[t,p]\n",
    "    \n",
    "    @m.Expression()\n",
    "    def acquisition_cost( m ):\n",
    "        return pyo.quicksum( m.pi[p,t] * m.x[p,t] for p in m.P for t in m.T )\n",
    "    \n",
    "    @m.Expression()\n",
    "    def inventory_cost( m ):\n",
    "        return pyo.quicksum( m.h[p,t] * m.s[p,t] for p in m.P for t in m.T )\n",
    "    \n",
    "    @m.Objective( sense=pyo.minimize )\n",
    "    def total_cost( m ):\n",
    "        return m.acquisition_cost + m.inventory_cost\n",
    "    \n",
    "    @m.Constraint( m.PT )\n",
    "    def balance( m, p, t ):\n",
    "        if t == first:\n",
    "            return existing[p] + m.x[p,t] == m.delta[p,t] + m.s[p,t]\n",
    "        else:\n",
    "            return m.x[p,t] + m.s[p,prev[t]] == m.delta[p,t] + m.s[p,t]\n",
    "        \n",
    "    @m.Constraint( m.P )\n",
    "    def finish( m, p ):\n",
    "        return m.s[p,last] >= desired[p]\n",
    "    \n",
    "    @m.Constraint( m.T )\n",
    "    def inventory( m, t ):\n",
    "        return pyo.quicksum( m.s[p,t] for p in m.P ) <= stock_limit\n",
    "    \n",
    "    @m.Constraint( m.T )\n",
    "    def budget( m, t ):\n",
    "        return pyo.quicksum( m.pi[p,t]*m.x[p,t] for p in m.P ) <= month_budget\n",
    "    \n",
    "    return m"
   ]
  },
  {
   "cell_type": "code",
   "execution_count": null,
   "metadata": {},
   "outputs": [],
   "source": [
    "m = BIMProductAcquisitionAndInventory( demand, price, \n",
    "           {'silicon' : 1000, 'germanium': 1500, 'plastic': 1750, 'copper' : 4800 }, \n",
    "           {'silicon' :  500, 'germanium':  500, 'plastic': 1000, 'copper' : 2000 },\n",
    "           9000, 2000 )\n",
    "\n",
    "pyo.SolverFactory( 'cbc' ).solve(m)"
   ]
  },
  {
   "cell_type": "code",
   "execution_count": null,
   "metadata": {},
   "outputs": [],
   "source": [
    "ShowTableOfPyomoVariables( m.x, m.P, m.T )"
   ]
  },
  {
   "cell_type": "code",
   "execution_count": null,
   "metadata": {},
   "outputs": [],
   "source": [
    "stock = ShowTableOfPyomoVariables( m.s, m.P, m.T )\n",
    "stock"
   ]
  },
  {
   "cell_type": "code",
   "execution_count": null,
   "metadata": {},
   "outputs": [],
   "source": [
    "import matplotlib.pyplot as plt, numpy as np\n",
    "stock.T.plot(drawstyle='steps-mid',grid=True, figsize=(13,4))\n",
    "plt.xticks(np.arange(len(stock.columns)),stock.columns)\n",
    "plt.show()"
   ]
  },
  {
   "cell_type": "code",
   "execution_count": null,
   "metadata": {},
   "outputs": [],
   "source": [
    "def VersionTwo( demand, acquisition_price, existing, desired, stock_limit, month_budget ):\n",
    "    m = pyo.ConcreteModel( 'Product acquisition and inventory' )\n",
    "    \n",
    "    periods  = demand.columns\n",
    "    products = demand.index \n",
    "    first    = periods[0] \n",
    "    prev     = { j : i for i,j in zip(periods,periods[1:]) }\n",
    "    last     = periods[-1]\n",
    "    \n",
    "    m.T = pyo.Set( initialize=periods )\n",
    "    m.P = pyo.Set( initialize=products )\n",
    "    \n",
    "    m.PT = m.P * m.T # to avoid internal set bloat\n",
    "    \n",
    "    m.x = pyo.Var( m.PT, within=pyo.NonNegativeReals )\n",
    "    \n",
    "    @m.Param( m.PT )\n",
    "    def pi(m,p,t):\n",
    "        return acquisition_price.loc[p][t]\n",
    "    \n",
    "    @m.Param( m.PT )\n",
    "    def h(m,p,t): \n",
    "        return .05 # the holding cost\n",
    "    \n",
    "    @m.Param( m.PT )\n",
    "    def delta(m,t,p):\n",
    "        return demand.loc[t,p]\n",
    "    \n",
    "    @m.Expression( m.PT )\n",
    "    def s( m, p, t ):\n",
    "        if t == first:\n",
    "            return existing[p] + m.x[p,t] - m.delta[p,t]\n",
    "        else:\n",
    "            return m.x[p,t] + m.s[p,prev[t]] - m.delta[p,t]\n",
    "        \n",
    "    @m.Constraint( m.PT )\n",
    "    def non_negative_stock( m, p, t ):\n",
    "        return m.s[p,t] >= 0\n",
    "    \n",
    "    @m.Expression()\n",
    "    def acquisition_cost( m ):\n",
    "        return pyo.quicksum( m.pi[p,t] * m.x[p,t] for p in m.P for t in m.T )\n",
    "    \n",
    "    @m.Expression()\n",
    "    def inventory_cost( m ):\n",
    "        return pyo.quicksum( m.h[p,t] * m.s[p,t] for p in m.P for t in m.T )\n",
    "    \n",
    "    @m.Objective( sense=pyo.minimize )\n",
    "    def total_cost( m ):\n",
    "        return m.acquisition_cost + m.inventory_cost\n",
    "            \n",
    "    @m.Constraint( m.P )\n",
    "    def finish( m, p ):\n",
    "        return m.s[p,last] >= desired[p]\n",
    "    \n",
    "    @m.Constraint( m.T )\n",
    "    def inventory( m, t ):\n",
    "        return pyo.quicksum( m.s[p,t] for p in m.P ) <= stock_limit\n",
    "    \n",
    "    @m.Constraint( m.T )\n",
    "    def budget( m, t ):\n",
    "        return pyo.quicksum( m.pi[p,t]*m.x[p,t] for p in m.P ) <= month_budget\n",
    "    \n",
    "    return m"
   ]
  },
  {
   "cell_type": "code",
   "execution_count": null,
   "metadata": {},
   "outputs": [],
   "source": [
    "m = VersionTwo( demand, price, \n",
    "           {'silicon' : 1000, 'germanium': 1500, 'plastic': 1750, 'copper' : 4800 }, \n",
    "           {'silicon' :  500, 'germanium':  500, 'plastic': 1000, 'copper' : 2000 },\n",
    "           9000, 2000 )\n",
    "\n",
    "pyo.SolverFactory( 'cbc' ).solve(m)"
   ]
  },
  {
   "cell_type": "code",
   "execution_count": null,
   "metadata": {},
   "outputs": [],
   "source": [
    "ShowTableOfPyomoVariables( m.x, m.P, m.T )"
   ]
  },
  {
   "cell_type": "code",
   "execution_count": null,
   "metadata": {},
   "outputs": [],
   "source": [
    "ShowTableOfPyomoVariables( m.s, m.P, m.T )"
   ]
  },
  {
   "cell_type": "markdown",
   "metadata": {},
   "source": [
    "# Notes\n",
    "\n",
    "* The budget is not limitative. \n",
    "* With the given budget the solution remains integer. \n",
    "* Lowering the budget to 2000 forces acquiring fractional quantities. \n",
    "* Lower values of the budget end up making the problem infeasible."
   ]
  }
 ],
 "metadata": {
  "colab": {
   "collapsed_sections": [],
   "name": "DSE-5.1 2021 - Francis' material planning - a possible resolution.ipynb",
   "provenance": []
  },
  "kernelspec": {
   "display_name": "Python 3 (ipykernel)",
   "language": "python",
   "name": "python3"
  },
  "language_info": {
   "codemirror_mode": {
    "name": "ipython",
    "version": 3
   },
   "file_extension": ".py",
   "mimetype": "text/x-python",
   "name": "python",
   "nbconvert_exporter": "python",
   "pygments_lexer": "ipython3",
   "version": "3.9.12"
  }
 },
 "nbformat": 4,
 "nbformat_minor": 4
}
