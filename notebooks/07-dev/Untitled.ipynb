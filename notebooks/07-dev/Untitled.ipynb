{
 "cells": [
  {
   "cell_type": "markdown",
   "id": "4ba0ae4a-37de-4b99-b449-d954a22ac51a",
   "metadata": {},
   "source": [
    "# RO Chapter 7 Simple Examples"
   ]
  },
  {
   "cell_type": "markdown",
   "id": "1ba0b599-0752-46b7-a2b1-98a82e580119",
   "metadata": {},
   "source": [
    "$$\n",
    "\\begin{align*}\n",
    "    \\min \\; &\\;  x_1 + x_2\\\\\n",
    "    \\, \\text{s.t.} \\; & \\; z_1 x_1 + x_2 \\geq 7,\\\\\n",
    "    & \\; z_2 x_1 + x_2 \\geq 4,\\\\\n",
    "    & \\; x_1,x_2\\geq 0.\n",
    "\\end{align*}\n",
    "$$"
   ]
  },
  {
   "cell_type": "code",
   "execution_count": null,
   "id": "76746750-81ee-4f68-9aff-b73d05274d1b",
   "metadata": {},
   "outputs": [],
   "source": [
    "import numpy as np\n",
    "\n",
    "c = np.array([1, 1])\n",
    "a = np.array(["
   ]
  }
 ],
 "metadata": {
  "kernelspec": {
   "display_name": "Python 3 (ipykernel)",
   "language": "python",
   "name": "python3"
  },
  "language_info": {
   "codemirror_mode": {
    "name": "ipython",
    "version": 3
   },
   "file_extension": ".py",
   "mimetype": "text/x-python",
   "name": "python",
   "nbconvert_exporter": "python",
   "pygments_lexer": "ipython3",
   "version": "3.9.7"
  }
 },
 "nbformat": 4,
 "nbformat_minor": 5
}
