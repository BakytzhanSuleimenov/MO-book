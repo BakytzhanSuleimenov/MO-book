{
 "cells": [
  {
   "cell_type": "markdown",
   "id": "6b0b3c2f-3aaa-43fe-a8d0-2b696df5c1a6",
   "metadata": {
    "tags": []
   },
   "source": [
    "```{index} single: application; portfolio\n",
    "```\n",
    "```{index} single: application; investment\n",
    "```\n",
    "```{index} single: solver; cplex\n",
    "```\n",
    "\n",
    "# Markowitz portfolio optimization"
   ]
  },
  {
   "cell_type": "code",
   "execution_count": 19,
   "id": "5da22c67-5c34-4c3a-90a4-61222899e855",
   "metadata": {
    "execution": {
     "iopub.execute_input": "2023-01-18T22:10:48.103239Z",
     "iopub.status.busy": "2023-01-18T22:10:48.102895Z",
     "iopub.status.idle": "2023-01-18T22:10:48.305631Z",
     "shell.execute_reply": "2023-01-18T22:10:48.304512Z",
     "shell.execute_reply.started": "2023-01-18T22:10:48.103211Z"
    }
   },
   "outputs": [
    {
     "name": "stdout",
     "output_type": "stream",
     "text": [
      "pyomo was previously installed\n",
      "cplex was previously installed\n"
     ]
    }
   ],
   "source": [
    "# install Pyomo and solvers\n",
    "import requests\n",
    "import types\n",
    "\n",
    "url = \"https://raw.githubusercontent.com/mobook/MO-book/main/python/helper.py\"\n",
    "helper = types.ModuleType(\"helper\")\n",
    "exec(requests.get(url).content, helper.__dict__)\n",
    "\n",
    "helper.install_pyomo()\n",
    "helper.install_cplex()"
   ]
  },
  {
   "cell_type": "code",
   "execution_count": 20,
   "id": "b13edf26",
   "metadata": {
    "execution": {
     "iopub.execute_input": "2023-01-18T22:10:48.308400Z",
     "iopub.status.busy": "2023-01-18T22:10:48.307734Z",
     "iopub.status.idle": "2023-01-18T22:10:48.312115Z",
     "shell.execute_reply": "2023-01-18T22:10:48.311188Z",
     "shell.execute_reply.started": "2023-01-18T22:10:48.308370Z"
    }
   },
   "outputs": [],
   "source": [
    "from IPython.display import Markdown, HTML\n",
    "import numpy as np\n",
    "import pyomo.environ as pyo"
   ]
  },
  {
   "cell_type": "markdown",
   "id": "a82bd88d-7b16-4c82-b0b7-5dbd0d81b71c",
   "metadata": {
    "tags": []
   },
   "source": [
    "## Problem description and model formulation\n",
    "\n",
    "A canonical stochastic optimization problem is the so-called portfolio selection problem, also known as **Markowitz portfolio optimization**. Assume an investor has an initial capital $C$ that she wants to invest in $n$ possible risky assets, each of them with an unknown return rate $r_i$, $i=1,\\dots,n$, or in another risk-free asset with guaranteed return rate $R$. Let $x$ be the vector whose $i$-th component $x_i$ describes the amount invested in asset $i$ and $\\tilde{x}$ the amount invested in the risk-free asset. We consider a stochastic model where the return of the $n$ risky assets is then a random vector $r$ with known expected values $\\mu = \\mathbb E r $ and covariance\n",
    "\n",
    "$$\n",
    "    \\Sigma = \\mathbb{E} [ (r-\\mu)(r-\\mu)^\\top].\n",
    "$$\n",
    "\n",
    "The return of the investment $y = R \\tilde{x} + r^\\top x$ then also becomes a random variable with mean\n",
    "\n",
    "$$\n",
    "    \\mathbb{E} y = R \\tilde{x} + \\mathbb{E} r^\\top x = R \\tilde{x} + \\mu^\\top x\n",
    "$$\n",
    "\n",
    "and variance\n",
    "\n",
    "$$\n",
    "    \\mathrm{Var}(y) = \\mathbb{E}(y-\\mathbb{E}y)^2 = x^\\top \\Sigma x.\n",
    "$$\n",
    "\n",
    "The variance of the return of the investment is one possible way to quantify the risk of the investment $x$.\n",
    "\n",
    "The problem the investor is facing is how to select a portfolio that achieves a good compromise between risk and expected return. More specifically, one could try to maximize the expected return $\\mathbb{E} y$ subject to an upper bound on the tolerable risk, obtaining the following optimization problem:\n",
    "\n",
    "$$\n",
    "\\begin{align*}\n",
    "    \\max \\quad  & R \\tilde{x} + \\mu^\\top x \\\\\n",
    "    \\text{s.t.}\\quad\n",
    "    & \\sum_{i=1}^n x_i + \\tilde{x}  = C  \\\\\n",
    "    & x^\\top \\Sigma x \\leq \\gamma^2 \\\\\n",
    "    & \\tilde{x} \\geq 0 \\\\\n",
    "    & x_i \\geq 0 & \\forall \\, i=1,\\dots,n.\n",
    "\\end{align*}\n",
    "$$\n",
    "\n",
    "The first constraint describes the fact that the total amount invested must be equal to the initial capital. The second constraint ensures that the variance of the chosen portfolio is upper bounded by a parameter $\\gamma^2$, which captures the risk the investor is willing to undertake. The last nonnegativity constraint excludes the possibility of short-selling.\n",
    "\n",
    "One can easily show that the quadratic constraint $x^\\top \\Sigma x \\leq \\gamma^2$ is convex thanks to the fact that $\\Sigma$ is positive semidefinite, being a covariance matrix. The Markowitz optimization problem is thus convex. Let us implement it in Pyomo."
   ]
  },
  {
   "cell_type": "code",
   "execution_count": 21,
   "id": "0e194e8d",
   "metadata": {
    "execution": {
     "iopub.execute_input": "2023-01-18T22:10:48.313656Z",
     "iopub.status.busy": "2023-01-18T22:10:48.313118Z",
     "iopub.status.idle": "2023-01-18T22:10:48.347834Z",
     "shell.execute_reply": "2023-01-18T22:10:48.346079Z",
     "shell.execute_reply.started": "2023-01-18T22:10:48.313626Z"
    },
    "tags": []
   },
   "outputs": [
    {
     "data": {
      "text/markdown": [
       "**Solver status:** *ok, optimal*"
      ],
      "text/plain": [
       "<IPython.core.display.Markdown object>"
      ]
     },
     "metadata": {},
     "output_type": "display_data"
    },
    {
     "data": {
      "text/markdown": [
       "**Solution:** $\\tilde x = 0.158$, $x_1 = 0.561$,  $x_2 = 0.142$,  $x_3 = 0.139$"
      ],
      "text/plain": [
       "<IPython.core.display.Markdown object>"
      ]
     },
     "metadata": {},
     "output_type": "display_data"
    },
    {
     "data": {
      "text/markdown": [
       "**Maximizes objective value to:** $1.17$"
      ],
      "text/plain": [
       "<IPython.core.display.Markdown object>"
      ]
     },
     "metadata": {},
     "output_type": "display_data"
    }
   ],
   "source": [
    "# Specify the initial capital, the risk threshold, and the guaranteed return rate. \n",
    "C = 1\n",
    "gamma = 1\n",
    "R = 1.01\n",
    "\n",
    "# Specify the number of assets, their expected return, and their covariance matrix.\n",
    "n = 3\n",
    "mu = np.array([1.2, 1.1, 1.3])\n",
    "Sigma = np.array([[1.5, 0.5, 2], [0.5, 2, 0], [2, 0, 5]])\n",
    "\n",
    "# If you want to change the covariance matrix Sigma, ensure you input a semi-definite positive one.\n",
    "# The easiest way to generate a random covariance matrix is first generating a random m x m matrix A \n",
    "# and then taking the matrix A^T A (which is always semi-definite positive)\n",
    "# m = 3\n",
    "# A = np.random.rand(m, m)\n",
    "# Sigma = A.T @ A\n",
    "\n",
    "def markowitz(gamma, mu, Sigma):\n",
    "    \n",
    "    model = pyo.ConcreteModel(\"Markowitz portfolio optimization\")\n",
    "\n",
    "    model.xtilde = pyo.Var(domain=pyo.NonNegativeReals)\n",
    "    model.x = pyo.Var(range(n), domain=pyo.NonNegativeReals)\n",
    "\n",
    "    @model.Objective(sense=pyo.maximize)\n",
    "    def objective(m):\n",
    "        return mu @ m.x + R * m.xtilde\n",
    "\n",
    "    @model.Constraint()\n",
    "    def bounded_variance(m):\n",
    "        return (m.x @ (Sigma @ m.x)) <= gamma**2\n",
    "\n",
    "    @model.Constraint()\n",
    "    def total_assets(m):\n",
    "        return sum(m.x[i] for i in range(n)) + m.xtilde == C\n",
    "\n",
    "    result = pyo.SolverFactory(\"cplex_direct\").solve(model)\n",
    "    display(Markdown(f\"**Solver status:** *{result.solver.status}, {result.solver.termination_condition}*\"))\n",
    "    \n",
    "    return model\n",
    "\n",
    "model = markowitz(gamma, mu, Sigma)\n",
    "\n",
    "display(Markdown(f\"**Solution:** $\\\\tilde x = {model.xtilde.value:.3f}$, $x_1 = {model.x[0].value:.3f}$,  $x_2 = {model.x[1].value:.3f}$,  $x_3 = {model.x[2].value:.3f}$\"))\n",
    "display(Markdown(f\"**Maximizes objective value to:** ${model.objective():.2f}$\"))"
   ]
  }
 ],
 "metadata": {
  "kernelspec": {
   "display_name": "Python 3 (ipykernel)",
   "language": "python",
   "name": "python3"
  },
  "language_info": {
   "codemirror_mode": {
    "name": "ipython",
    "version": 3
   },
   "file_extension": ".py",
   "mimetype": "text/x-python",
   "name": "python",
   "nbconvert_exporter": "python",
   "pygments_lexer": "ipython3",
   "version": "3.9.16"
  },
  "varInspector": {
   "cols": {
    "lenName": 16,
    "lenType": 16,
    "lenVar": 40
   },
   "kernels_config": {
    "python": {
     "delete_cmd_postfix": "",
     "delete_cmd_prefix": "del ",
     "library": "var_list.py",
     "varRefreshCmd": "print(var_dic_list())"
    },
    "r": {
     "delete_cmd_postfix": ") ",
     "delete_cmd_prefix": "rm(",
     "library": "var_list.r",
     "varRefreshCmd": "cat(var_dic_list()) "
    }
   },
   "types_to_exclude": [
    "module",
    "function",
    "builtin_function_or_method",
    "instance",
    "_Feature"
   ],
   "window_display": false
  }
 },
 "nbformat": 4,
 "nbformat_minor": 5
}
