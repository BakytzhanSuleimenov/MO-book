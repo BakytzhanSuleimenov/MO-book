{
 "cells": [
  {
   "cell_type": "markdown",
   "id": "e1715d59-037b-4273-99ad-84c9a5acd847",
   "metadata": {},
   "source": [
    "# McCormick Relaxations"
   ]
  },
  {
   "cell_type": "code",
   "execution_count": null,
   "id": "9e42cfd6-f328-46cf-a0dd-7d420da13dc0",
   "metadata": {},
   "outputs": [],
   "source": []
  },
  {
   "cell_type": "markdown",
   "id": "e3c3440e-165f-49c2-9377-6dd46d2c2083",
   "metadata": {},
   "source": [
    "Let $w = xy$ with upper and lower bounds on $x$\n",
    "\n",
    "Given the bounds\n",
    "\n",
    "$$\n",
    "\\begin{align*}\n",
    "x_1 \\leq x \\leq x_2 \\\\\n",
    "y_1 \\leq y \\leq y_2 \\\\\n",
    "\\end{align*}\n",
    "$$\n",
    "\n",
    "the \"McCormick envelope\" is a convex region satisfying the constraints\n",
    "\n",
    "$$\n",
    "\\begin{align*}\n",
    "w & \\geq y_1 x + x_1 y - x_1 y_1 \\\\\n",
    "w & \\geq y_2 x + x_2 y - x_2 y_2 \\\\\n",
    "w & \\leq y_2 x + x_1 y - x_1 y_2 \\\\\n",
    "w & \\leq y_1 x + x_2 y - x_2 y_1 \\\\\n",
    "\\end{align*}\n",
    "$$\n",
    "\n"
   ]
  },
  {
   "cell_type": "markdown",
   "id": "080afb91-529b-4a20-b219-7e7f09476aa1",
   "metadata": {},
   "source": [
    "## Example: Flash Calculation\n",
    "\n",
    "Given $F$ and $z_i$, $i=1,\\dots,n$, find $L$, $V$, $x_i$ and $y_i$ such that\n",
    "\n",
    "$$\n",
    "\\begin{align*}\n",
    "F z_i & = L x_i + V y_i \\\\\n",
    "y_i & = K_i x_i\n",
    "\\end{align*}\n",
    "$$\n",
    "\n",
    "$$F z_i = L x_i + V K_i x_i $$\n",
    "\n",
    "$$\\phi = V/F$$\n",
    "\n",
    "$$z_i = (1 + (K_i - 1)\\phi) x_i$$\n",
    "\n",
    "$$x_i = \\frac{z_i}{1 + (K_i - 1)\\phi}$$\n",
    "\n",
    "The isothermal flash model is given by\n",
    "\n",
    "$$z_i = x_i + (K_i - 1)\\phi x_i$$\n",
    "\n",
    "where $0 \\leq x_i \\leq 1$ and $0 \\leq \\phi \\leq 1$\n",
    "\n",
    "Define $w_i = \\phi x_i$\n",
    "\n",
    "$$\n",
    "\\begin{align*}\n",
    "w_i & \\geq 0 \\\\\n",
    "w_i & \\geq x - y - 1 \\\\\n",
    "w_i & \\leq x \\\\\n",
    "w_i & \\leq \\phi\n",
    "\\end{align*}\n",
    "$$"
   ]
  },
  {
   "cell_type": "code",
   "execution_count": 1,
   "id": "1966fd06-4f48-48f4-9f33-a113a12bebd6",
   "metadata": {},
   "outputs": [
    {
     "data": {
      "text/plain": [
       "Text(0.5, 1.0, 'Bilinear function x*y')"
      ]
     },
     "execution_count": 1,
     "metadata": {},
     "output_type": "execute_result"
    },
    {
     "data": {
      "image/png": "[encoded data removed]",
      "text/plain": [
       "<Figure size 432x288 with 2 Axes>"
      ]
     },
     "metadata": {
      "needs_background": "light"
     },
     "output_type": "display_data"
    }
   ],
   "source": [
    "import matplotlib.pyplot as plt\n",
    "from matplotlib import cm\n",
    "import numpy as np\n",
    "from mpl_toolkits import mplot3d\n",
    "import mpl_toolkits.mplot3d.art3d as art3d\n",
    "from matplotlib.patches import Rectangle\n",
    "\n",
    "from mpl_toolkits.mplot3d import axes3d\n",
    "from mpl_toolkits.mplot3d.art3d import Poly3DCollection \n",
    "from matplotlib import style\n",
    "\n",
    "n = 10\n",
    "\n",
    "x1, x2 = 0.5, 10\n",
    "y1, y2 = 0.5, 10\n",
    "X, Y = np.meshgrid(np.linspace(x1, x2, n+1), np.linspace(y1, y2, n+1))\n",
    "\n",
    "fig, ax = plt.subplots()\n",
    "cp = ax.contourf(X, Y, X*Y, cmap=cm.cool, levels=n)\n",
    "fig.colorbar(cp)\n",
    "\n",
    "ax.axis('equal')\n",
    "ax.set_xlim(0, x2 + x1)\n",
    "ax.set_ylim(0, y2 + y1)\n",
    "ax.plot([x1, x1, x2, x2, x1], [y1, y2, y2, y1, y1])\n",
    "ax.set_xlabel('x')\n",
    "ax.set_ylabel('y')\n",
    "ax.set_title('Bilinear function x*y')"
   ]
  },
  {
   "cell_type": "code",
   "execution_count": 86,
   "id": "8bf89a92-7ccd-4fbd-aa07-b051bca7f174",
   "metadata": {},
   "outputs": [],
   "source": [
    "%matplotlib qt\n",
    "\n",
    "import matplotlib.pyplot as plt\n",
    "from matplotlib import cm\n",
    "import numpy as np\n",
    "from mpl_toolkits import mplot3d\n",
    "import mpl_toolkits.mplot3d.art3d as art3d\n",
    "from matplotlib.patches import Rectangle\n",
    "\n",
    "from mpl_toolkits.mplot3d import axes3d\n",
    "from mpl_toolkits.mplot3d.art3d import Poly3DCollection \n",
    "from matplotlib import style\n",
    "\n",
    "n = 10\n",
    "\n",
    "x1, x2 = 0, 1\n",
    "y1, y2 = 0, 1\n",
    "X, Y = np.meshgrid(np.linspace(x1, x2, n+1), np.linspace(y1, y2, n+1))\n",
    "\n",
    "fig, ax = plt.subplots(1, 1, subplot_kw={\"projection\": \"3d\"}, figsize=(10,10))\n",
    "\n",
    "# surface plot\n",
    "ax.plot_surface(X, Y, X*Y, alpha=1, cmap=cm.cool)\n",
    "ax.plot_wireframe(X, Y, X*Y, lw=.3)\n",
    "\n",
    "# annotate axis\n",
    "ax.set_xlabel('x')\n",
    "ax.set_ylabel('y')\n",
    "ax.set_zlabel('w = x * y')\n",
    "ax.view_init(elev=20, azim=-10)\n",
    "\n",
    "# corner points (clockwise a -> b -> c -> d -> a)\n",
    "a = np.array([x1, y1, x1*y1])\n",
    "b = np.array([x1, y2, x1*y2])\n",
    "c = np.array([x2, y2, x2*y2])\n",
    "d = np.array([x2, y1, x2*x1])\n",
    "\n",
    "def plot_line(a, b, color='r'):\n",
    "    ax.plot3D([a[0], b[0]], [a[1], b[1]], [a[2], b[2]], lw=4, color=color, solid_capstyle=\"round\")\n",
    "    \n",
    "# four edges\n",
    "plot_line(a, b)\n",
    "plot_line(b, c)\n",
    "plot_line(c, d)\n",
    "plot_line(d, a)\n",
    "\n",
    "# catty corners\n",
    "plot_line(b, d)\n",
    "plot_line(a, c)\n",
    "\n",
    "def show_surf(a, b, c):\n",
    "    x = np.array([a[0], b[0], c[0]])\n",
    "    y = np.array([a[1], b[1], c[1]])\n",
    "    z = np.array([a[2], b[2], c[2]])\n",
    "    ax.plot_trisurf(x, y, z, alpha=0.2)\n",
    "\n",
    "show_surf(a, b, c)\n",
    "show_surf(a, b, d)\n",
    "show_surf(a, c, d)\n",
    "show_surf(b, c, d)\n",
    "\n",
    "plot_line([x1, y1, 0], a, 'k')\n",
    "plot_line([x1, y2, 0], b, 'k')\n",
    "plot_line([x2, y2, 0], c, 'k')\n",
    "plot_line([x2, y1, 0], d, 'k')\n",
    "\n",
    "#"
   ]
  },
  {
   "cell_type": "code",
   "execution_count": null,
   "id": "f0eea673-2597-4abd-9166-12048dcbd496",
   "metadata": {},
   "outputs": [],
   "source": []
  },
  {
   "cell_type": "code",
   "execution_count": 85,
   "id": "dd9857dc-f0f5-4a4f-9c4f-67a1134088c6",
   "metadata": {},
   "outputs": [],
   "source": [
    "import pyomo.environ as pyo\n",
    "\n",
    "m = pyo.ConcreteModel()\n",
    "\n",
    "m.F = pyo.Var(domain=pyo.NonNegativeReals)\n",
    "m.V = pyo.Var(domain=pyo.NonNegativeReals)\n",
    "m.L = pyo.Var(domain=pyo.NonNegativeReals)\n",
    "\n"
   ]
  },
  {
   "cell_type": "code",
   "execution_count": null,
   "id": "fda90fa7-185d-4e94-a64b-8bec654e855e",
   "metadata": {},
   "outputs": [],
   "source": []
  }
 ],
 "metadata": {
  "kernelspec": {
   "display_name": "Python 3 (ipykernel)",
   "language": "python",
   "name": "python3"
  },
  "language_info": {
   "codemirror_mode": {
    "name": "ipython",
    "version": 3
   },
   "file_extension": ".py",
   "mimetype": "text/x-python",
   "name": "python",
   "nbconvert_exporter": "python",
   "pygments_lexer": "ipython3",
   "version": "3.9.7"
  }
 },
 "nbformat": 4,
 "nbformat_minor": 5
}
