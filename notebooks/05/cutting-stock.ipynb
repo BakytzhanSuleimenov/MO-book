{
 "cells": [
  {
   "cell_type": "markdown",
   "metadata": {
    "id": "_eaxyfyDjXUh"
   },
   "source": [
    "# Extra Material: Cutting Stock \n",
    "\n"
   ]
  },
  {
   "cell_type": "code",
   "execution_count": 35,
   "metadata": {
    "colab": {
     "base_uri": "https://localhost:8080/"
    },
    "executionInfo": {
     "elapsed": 52005,
     "status": "ok",
     "timestamp": 1683316564313,
     "user": {
      "displayName": "Jeffrey Kantor",
      "userId": "09038942003589296665"
     },
     "user_tz": 240
    },
    "id": "bmKKVtw8jcK6",
    "outputId": "a84b1ba2-6a3f-4453-c6aa-3bfc4a4760f6"
   },
   "outputs": [],
   "source": [
    "# install Pyomo and solvers\n",
    "import sys\n",
    "import os\n",
    "\n",
    "if 'google.colab' in sys.modules:\n",
    "    !pip install idaes-pse --pre >/dev/null 2>/dev/null\n",
    "    !idaes get-extensions --to ./bin \n",
    "    os.environ['PATH'] += ':bin'\n",
    "    \n",
    "SOLVER_MILO = \"cbc\"\n",
    "SOLVER_MINLO = \"couenne\"\n",
    "SOLVER_MIQCO = \"mosek_direct\""
   ]
  },
  {
   "cell_type": "markdown",
   "metadata": {
    "id": "LLM-1Fqm3BKd"
   },
   "source": [
    "## References\n",
    "\n",
    "The one dimensional cutting stock problem addressed in this notebook is generally attributed to two classic papers by Gilmore and Gomory. This first paper considers the more general case of stocks available in multiple lengths, while the second paper specializes to the needs of a paper trimming operation.\n",
    "\n",
    "> Gilmore, P. C., & Gomory, R. E. (1961). A linear programming approach to the cutting-stock problem. Operations research, 9(6), 849-859. [[jstor](https://www.jstor.org/stable/pdf/167051.pdf)]\n",
    "\n",
    "> Gilmore, P. C., & Gomory, R. E. (1963). A linear programming approach to the cutting stock problem—Part II. Operations research, 11(6), 863-888. [[jstor](https://www.jstor.org/stable/pdf/167827.pdf)]\n",
    "\n",
    "The solution proposed by Gilmore and Gamory has been refined over time and now generally referred to as \"column generation\". A number of tutorial implemenations are available, these are representative:\n",
    "\n",
    "> * [Mathworks/Matlab: Cutting Stock Problem](https://www.mathworks.com/help/optim/ug/cutting-stock-problem-based.html)\n",
    "* [AIMMS: Cutting Stock Problem](https://download.aimms.com/aimms/download/manuals/AIMMS3OM_CuttingStock.pdf)\n",
    "* [SCIP:Bin packing and cutting stock problems](https://scipbook.readthedocs.io/en/latest/bpp.html)\n",
    "* [PuLP: Implementation](https://github.com/coin-or/pulp/blob/master/examples/CGcolumnwise.py)\n",
    "\n",
    "More recently, the essential bilinear structure of the problem has been noted, and various convex transformations of the problem have been studied:\n",
    "\n",
    "> Harjunkoski, I., Westerlund, T., Pörn, R., & Skrifvars, H. (1998). Different transformations for solving non-convex trim-loss problems by MINLP. European Journal of Operational Research, 105(3), 594-603. [[abo.fi](http://users.abo.fi/twesterl/some-selected-papers/49.%20EJOR-IH-TW-RP-HS-1998.pdf)][[sciencedirect](https://www.sciencedirect.com/science/article/pii/S0377221797000660)]\n",
    "\n",
    "> Harjunkoski, I., Pörn, R., & Westerlund, T. (1999). Exploring the convex transformations for solving non-convex bilinear integer problems. Computers & Chemical Engineering, 23, S471-S474. [[sciencedirect](https://www.sciencedirect.com/science/article/pii/S0098135499801161)"
   ]
  },
  {
   "cell_type": "markdown",
   "metadata": {
    "id": "IYpKQkbd7fnS"
   },
   "source": [
    "## Problem formulation\n",
    "\n",
    "Consider a set ${S}$ of available stock materials that can be cut to size to produce a set of finished parts. Each stock $s\\in S$ is characterized by a length $l^S_s$, costs $c_s$ per piece, and is available in unlimited quantity. A customer order is received to product a set of finished products $F$. Each finished product $f\\in F$ is specified by a required number $d_f$ and length $l^F_f$. The **cutting stock problem** find a minimum cost solution to fulfilling the customer order by cutting finished products from the available stocks.\n",
    "\n",
    "This problem is illustrated is by the following tables of data for the example given by Gilmore and Gamory (1961).\n",
    "\n",
    "**Stocks**\n",
    "\n",
    "| stocks <br> $s$ | length <br> $l^S_s$ | cost <br> $c_s$ |\n",
    "| :--: | :--: | :--: |\n",
    "| A | 5 | 6 |\n",
    "| B | 6 | 7 |\n",
    "| C | 9 |10 |\n",
    "\n",
    "**Finished Products**\n",
    "\n",
    "| finished products <br> $f$ | length <br> $l^F_f$ | demand <br> $d_f$ |\n",
    "| :--: | :--: | :--: |\n",
    "| S | 2 | 20 |\n",
    "| M | 3 | 10 |\n",
    "| L | 4 | 20 |\n",
    "\n",
    "One approach to solving this problem would be creating a list of each finished products, a list of stocks of each length, then a set of binary decision variables assigning each finished product to a particular piece of stock. The objective would be to minimize the cost of stock required to produced the finished products. This approach might work well for a very small problem, but the computational complexity scales too rapidly with the size of the problem to be a practical approach for business applications.\n"
   ]
  },
  {
   "cell_type": "code",
   "execution_count": 261,
   "metadata": {},
   "outputs": [],
   "source": [
    "from dataclasses import dataclass\n",
    "from typing import List\n",
    "\n",
    "@dataclass\n",
    "class StockItem:\n",
    "    length: float\n",
    "    cost: float\n",
    "    \n",
    "@dataclass\n",
    "class FinishItem:\n",
    "    length: float\n",
    "    \n",
    "stocks = {\n",
    "    'A': StockItem(5, 6),\n",
    "    'B': StockItem(6, 7),\n",
    "    'C': StockItem(9, 10),\n",
    "}\n",
    "\n",
    "finish = {\n",
    "    'S': FinishItem(2),\n",
    "    'M': FinishItem(3),\n",
    "    'L': FinishItem(4),\n",
    "}\n"
   ]
  },
  {
   "cell_type": "markdown",
   "metadata": {
    "id": "nu-V5mAWD_h0"
   },
   "source": [
    "## Patterns\n",
    "\n",
    "To address the computational complexity of the problem, Gilmore and Gamory introduced \"activities\" that, in more contemporary treatments, are now called patterns. A pattern $p$ in a set of patterns $P$ is represented by a set of integers $a_{fsp} \\in \\mathbb{Z}^+$\n",
    "that specifies the number of finished products of type $f$ that are cut from stock $s\\in S$. \n",
    "\n",
    "A pattern $p\\in P$ is feasible for stock $s\\in S$ if \n",
    "\n",
    "$$\n",
    "\\begin{align}\n",
    "\\sum_{f\\in F}a_{fsp}l^F_f  & \\leq   l^S_s\n",
    "\\end{align}\n",
    "$$\n",
    "\n",
    "The following cell presents a simple Pyomo model to produce a set of feasible patterns for given sets of stocks and finished products.\n"
   ]
  },
  {
   "cell_type": "code",
   "execution_count": 259,
   "metadata": {},
   "outputs": [
    {
     "ename": "TypeError",
     "evalue": "__init__() missing 1 required positional argument: 'cost'",
     "output_type": "error",
     "traceback": [
      "\u001b[0;31m---------------------------------------------------------------------------\u001b[0m",
      "\u001b[0;31mTypeError\u001b[0m                                 Traceback (most recent call last)",
      "Cell \u001b[0;32mIn[259], line 2\u001b[0m\n\u001b[1;32m      1\u001b[0m stocks \u001b[38;5;241m=\u001b[39m {\n\u001b[0;32m----> 2\u001b[0m     \u001b[38;5;124m'\u001b[39m\u001b[38;5;124mA\u001b[39m\u001b[38;5;124m'\u001b[39m: \u001b[43mStockItem\u001b[49m\u001b[43m(\u001b[49m\u001b[38;5;241;43m5\u001b[39;49m\u001b[43m,\u001b[49m\u001b[43m \u001b[49m\u001b[38;5;241;43m6\u001b[39;49m\u001b[43m)\u001b[49m,\n\u001b[1;32m      3\u001b[0m     \u001b[38;5;124m'\u001b[39m\u001b[38;5;124mB\u001b[39m\u001b[38;5;124m'\u001b[39m: StockItem(\u001b[38;5;241m6\u001b[39m, \u001b[38;5;241m7\u001b[39m),\n\u001b[1;32m      4\u001b[0m     \u001b[38;5;124m'\u001b[39m\u001b[38;5;124mC\u001b[39m\u001b[38;5;124m'\u001b[39m: StockItem(\u001b[38;5;241m9\u001b[39m, \u001b[38;5;241m10\u001b[39m),\n\u001b[1;32m      5\u001b[0m }\n",
      "\u001b[0;31mTypeError\u001b[0m: __init__() missing 1 required positional argument: 'cost'"
     ]
    }
   ],
   "source": [
    "pattern = (\n",
    "    stock['A'],\n",
    "    ["
   ]
  },
  {
   "cell_type": "code",
   "execution_count": 158,
   "metadata": {
    "colab": {
     "base_uri": "https://localhost:8080/"
    },
    "executionInfo": {
     "elapsed": 600,
     "status": "ok",
     "timestamp": 1683318316600,
     "user": {
      "displayName": "Jeffrey Kantor",
      "userId": "09038942003589296665"
     },
     "user_tz": 240
    },
    "id": "w5M7nk-cT3qg",
    "outputId": "7eb7d3b5-006d-4f64-b364-1751ff04d1cd"
   },
   "outputs": [
    {
     "data": {
      "text/plain": [
       "(('A', (('S', 1), ('M', 1), ('L', 0))),\n",
       " ('C', (('S', 0), ('M', 3), ('L', 0))),\n",
       " ('B', (('S', 1), ('M', 0), ('L', 1))),\n",
       " ('C', (('S', 3), ('M', 1), ('L', 0))))"
      ]
     },
     "execution_count": 158,
     "metadata": {},
     "output_type": "execute_result"
    }
   ],
   "source": [
    "import pyomo.environ as pyo\n",
    "\n",
    "stocks = {\n",
    "    'A': {'length': 5, 'cost': 6},\n",
    "    'B': {'length': 6, 'cost': 7},\n",
    "    'C': {'length': 9, 'cost': 10},\n",
    "}\n",
    "\n",
    "finish = {\n",
    "    'S': {'length': 2, 'demand': 20},\n",
    "    'M': {'length': 3, 'demand': 10},\n",
    "    'L': {'length': 4, 'demand': 20},\n",
    "}\n",
    "\n",
    "# optimization problem to find a set of patterns\n",
    "def make_patterns(stocks, finish, Np=(len(finish) + len(stocks))):\n",
    "    \n",
    "    m = pyo.ConcreteModel()\n",
    "\n",
    "    m.S = pyo.Set(initialize=list(stocks.keys()))\n",
    "    m.F = pyo.Set(initialize=list(finish.keys()))\n",
    "    m.P = pyo.RangeSet(0, Np-1)\n",
    "\n",
    "    m.a = pyo.Var(m.F, m.P, domain=pyo.NonNegativeIntegers)\n",
    "    m.b = pyo.Var(m.S, m.P, domain=pyo.Binary)\n",
    "\n",
    "    # assign as many parts as possible\n",
    "    @m.Objective(sense=pyo.maximize)\n",
    "    def pattern_waste(m):\n",
    "        return sum(m.a[f, p] * finish[f]['length'] for f in m.F for p in m.P)\n",
    "\n",
    "    # each pattern must fit into length of stock\n",
    "    @m.Constraint(m.P)\n",
    "    def feasible_pattern(m, p):\n",
    "        return sum(m.a[f, p] * finish[f]['length'] for f in m.F) <= sum(m.b[s, p] * stocks[s]['length'] for s in m.S)\n",
    "\n",
    "    # assign exactly one stock to each pattern\n",
    "    @m.Constraint(m.P)\n",
    "    def assign_each_stock_to_pattern(m, p):\n",
    "        return sum(m.b[s, p] for s in m.S) == 1\n",
    "\n",
    "    # assign all stocks to at least one pattern\n",
    "    @m.Constraint(m.S)\n",
    "    def assign_stocks_to_pattern(m, s):\n",
    "        return sum(m.b[s, p] for p in m.P) >= 1\n",
    "\n",
    "    # assign each finished product to at least one pattern\n",
    "    @m.Constraint(m.F)\n",
    "    def assign_each_finish_to_pattern(m, f):\n",
    "        return sum(m.a[f, p] for p in m.P) >= 1\n",
    "\n",
    "    # assign each pattern to at least one finished product\n",
    "    @m.Constraint(m.P)\n",
    "    def assign_each_pattern_to_finish(m, p):\n",
    "        return sum(m.a[f, p] for f in m.F) >= 1\n",
    "\n",
    "    solver = pyo.SolverFactory(SOLVER_MILO)\n",
    "    solver.solve(m)\n",
    "\n",
    "    patterns = (([s for s in m.S if m.b[s, p]() > 0][0], tuple([(f, int(m.a[f, p]() + 1e-4)) for f in m.F])) for p in m.P)\n",
    "    return tuple(set(patterns))\n",
    "\n",
    "patterns = make_patterns(stocks, finish)\n",
    "\n",
    "patterns"
   ]
  },
  {
   "cell_type": "code",
   "execution_count": 159,
   "metadata": {
    "colab": {
     "base_uri": "https://localhost:8080/"
    },
    "executionInfo": {
     "elapsed": 5,
     "status": "ok",
     "timestamp": 1683316565032,
     "user": {
      "displayName": "Jeffrey Kantor",
      "userId": "09038942003589296665"
     },
     "user_tz": 240
    },
    "id": "qehfkJ_ApBL_",
    "outputId": "6f50cb76-9a0a-4ca8-b85a-2ebd263a0bf4"
   },
   "outputs": [
    {
     "name": "stdout",
     "output_type": "stream",
     "text": [
      "[0.0, 0.0, 0.0]\n",
      "demand : Size=3\n",
      "    Key : Lower : Body : Upper\n",
      "      L :  20.0 : 20.0 :  None\n",
      "      M :  10.0 : 10.0 :  None\n",
      "      S :  20.0 : 21.0 :  None\n",
      "x : Size=4, Index=PATTERNS\n",
      "    Key : Lower : Value : Upper : Fixed : Stale : Domain\n",
      "      0 :     0 :   1.0 :  None : False : False : NonNegativeIntegers\n",
      "      1 :     0 :   3.0 :  None : False : False : NonNegativeIntegers\n",
      "      2 :     0 :  20.0 :  None : False : False : NonNegativeIntegers\n",
      "      3 :     0 :   0.0 :  None : False : False : NonNegativeIntegers\n",
      "cost : Size=1, Index=None, Active=True\n",
      "    Key  : Active : Value\n",
      "    None :   True : 176.0\n"
     ]
    }
   ],
   "source": [
    "# Given a set of patterns, find minimum cost solution\n",
    "\n",
    "def cut_stock_from_patterns(stocks, finish, patterns):\n",
    "    m = pyo.ConcreteModel()\n",
    "\n",
    "    m.STOCKS = pyo.Set(initialize=list(stocks.keys()))\n",
    "    m.FINISH = pyo.Set(initialize=list(finish.keys()))\n",
    "    m.PATTERNS = pyo.RangeSet(0, len(patterns)-1)\n",
    "\n",
    "    m.x = pyo.Var(m.PATTERNS, domain=pyo.NonNegativeIntegers)\n",
    "\n",
    "    @m.Param(m.FINISH, m.PATTERNS)\n",
    "    def a(m, f, p):\n",
    "        return patterns[p][1][list(m.FINISH).index(f)][1]\n",
    "\n",
    "    @m.Objective(sense=pyo.minimize)\n",
    "    def cost(m):\n",
    "        return sum(stocks[patterns[p][0]]['cost'] * m.x[p] for p in m.PATTERNS)\n",
    "\n",
    "    @m.Constraint(m.FINISH)\n",
    "    def demand(m, f):\n",
    "        return sum(m.a[f, p] * m.x[p] for p in m.PATTERNS) >= finish[f]['demand']\n",
    "\n",
    "    m.dual = pyo.Suffix(direction=pyo.Suffix.IMPORT)\n",
    "    solver = pyo.SolverFactory(SOLVER_MILO)\n",
    "    solver.solve(m)\n",
    "    print(list(m.dual[m.demand[f]] for f in m.FINISH))\n",
    "\n",
    "    return m\n",
    "\n",
    "m = cut_stock_from_patterns(stocks, finish, patterns)\n",
    "m.demand.display()\n",
    "m.x.display()\n",
    "m.cost.display()"
   ]
  },
  {
   "cell_type": "markdown",
   "metadata": {
    "id": "FWjbPyqpUWPE"
   },
   "source": [
    "## Cutting stock problem - bilinear reformulation\n",
    "\n",
    "Consider the simulaneous task of finding the patterns and cuts. This forms a non-convex, mixed integer bilinear optimization problem.\n",
    "\n",
    "$$\n",
    "\\begin{align}\n",
    "\\min & \\sum_{s\\in S} c_s \\sum_{p\\in P} x_{sp} \\\\\n",
    "\\text{s.t.}\\qquad\n",
    "& \\sum_{f\\in F}a_{fsp}l^F_f \\leq l^S_s && \\forall s\\in S, \\forall p\\in P\\\\\n",
    "& \\sum_{s\\in S} \\sum_{p\\in P}a_{fsp} x_{sp} \\geq d_f && \\forall f\\in F\\\\\n",
    "& a_{fsp}, x_{sp}  \\in \\mathbb{Z}^+ && \\forall f\\in F, \\forall s\\in S, \\forall p\\in P\\\\\n",
    "\\end{align}\n",
    "$$\n",
    "\n",
    "The following Pyomo model solves the problem when an upper bound $N$ on the number of patterns to be assigned to every stock is note is specified. The solution is found using an MINLO solver."
   ]
  },
  {
   "cell_type": "code",
   "execution_count": 179,
   "metadata": {
    "colab": {
     "base_uri": "https://localhost:8080/"
    },
    "executionInfo": {
     "elapsed": 519,
     "status": "ok",
     "timestamp": 1683215557719,
     "user": {
      "displayName": "Jeffrey Kantor",
      "userId": "09038942003589296665"
     },
     "user_tz": 240
    },
    "id": "n27u8HcgX9yl",
    "outputId": "2a53c033-3ad3-429d-f7a3-618431cdbd84"
   },
   "outputs": [],
   "source": [
    "import pyomo.environ as pyo\n",
    "import pandas as pd\n",
    "\n",
    "def cut_stock_minlo(stocks, finish, N):\n",
    "    m = pyo.ConcreteModel()\n",
    "\n",
    "    m.S = pyo.Set(initialize=list(stocks.keys()))\n",
    "    m.F = pyo.Set(initialize=list(finish.keys()))\n",
    "    m.P = pyo.RangeSet(0, N-1)\n",
    "\n",
    "    m.a = pyo.Var(m.F, m.S, m.P, domain=pyo.NonNegativeIntegers)\n",
    "    m.x = pyo.Var(m.S, m.P, domain=pyo.NonNegativeReals)\n",
    "\n",
    "    # minimize cost\n",
    "    @m.Objective(sense=pyo.minimize)\n",
    "    def cost(m):\n",
    "        return sum(stocks[s]['cost'] * m.x[s, p] for p in m.P for s in m.S)\n",
    "\n",
    "    # each pattern must fit into length of stock\n",
    "    @m.Constraint(m.S, m.P)\n",
    "    def feasible_pattern(m, s, p):\n",
    "        return sum(m.a[f, s, p] * finish[f]['length'] for f in m.F) <= stocks[s]['length']\n",
    "\n",
    "    @m.Constraint(m.F)\n",
    "    def demand(m, f):\n",
    "        return sum(m.a[f, s, p] * m.x[s, p] for p in m.P for s in m.S) >= finish[f]['demand']\n",
    "\n",
    "    # CUTS -- Reduces the set of possible a[f, s, p]\n",
    "\n",
    "    # assign each finished product to at least one pattern\n",
    "    @m.Constraint(m.F)\n",
    "    def assign_each_finish_to_pattern(m, f):\n",
    "        return sum(m.a[f, s, p] for s in m.S for p in m.P) >= 1\n",
    "\n",
    "    # assign each pattern to at least one finished product\n",
    "    @m.Constraint(m.P)\n",
    "    def assign_each_pattern_to_finish(m, p):\n",
    "        return sum(m.a[f, s, p] for f in m.F for s in m.S) >= 1\n",
    "\n",
    "    return m"
   ]
  },
  {
   "cell_type": "code",
   "execution_count": 180,
   "metadata": {
    "colab": {
     "base_uri": "https://localhost:8080/"
    },
    "executionInfo": {
     "elapsed": 519,
     "status": "ok",
     "timestamp": 1683215557719,
     "user": {
      "displayName": "Jeffrey Kantor",
      "userId": "09038942003589296665"
     },
     "user_tz": 240
    },
    "id": "n27u8HcgX9yl",
    "outputId": "2a53c033-3ad3-429d-f7a3-618431cdbd84"
   },
   "outputs": [
    {
     "name": "stdout",
     "output_type": "stream",
     "text": [
      "Cost = 180.00\n"
     ]
    }
   ],
   "source": [
    "# note the bonmin returns a local solution cost=200\n",
    "\n",
    "stocks = {\n",
    "    'A': {'length': 5, 'cost': 6},\n",
    "    'B': {'length': 6, 'cost': 7},\n",
    "    'C': {'length': 9, 'cost': 10},\n",
    "}\n",
    "\n",
    "finish = {\n",
    "    'S': {'length': 2, 'demand': 20},\n",
    "    'M': {'length': 3, 'demand': 10},\n",
    "    'L': {'length': 4, 'demand': 20},\n",
    "}\n",
    "\n",
    "m = cut_stock_minlo(stocks, finish, 2)\n",
    "pyo.SolverFactory(\"bonmin\").solve(m)\n",
    "print(f\"Cost = {m.cost():0.2f}\")"
   ]
  },
  {
   "cell_type": "code",
   "execution_count": 181,
   "metadata": {
    "colab": {
     "base_uri": "https://localhost:8080/"
    },
    "executionInfo": {
     "elapsed": 519,
     "status": "ok",
     "timestamp": 1683215557719,
     "user": {
      "displayName": "Jeffrey Kantor",
      "userId": "09038942003589296665"
     },
     "user_tz": 240
    },
    "id": "n27u8HcgX9yl",
    "outputId": "2a53c033-3ad3-429d-f7a3-618431cdbd84"
   },
   "outputs": [
    {
     "name": "stdout",
     "output_type": "stream",
     "text": [
      "Cut 10.0: Pattern = A[0] \n",
      "    S 1.0\n",
      "    M 1.0\n",
      "    L 0.0\n",
      "Cut 10.0: Pattern = B[0] \n",
      "    S 1.0\n",
      "    M 0.0\n",
      "    L 1.0\n",
      "Cut 5.0: Pattern = C[0] \n",
      "    S 0.0\n",
      "    M 0.0\n",
      "    L 2.0\n"
     ]
    }
   ],
   "source": [
    "def cut_stock_display(m):\n",
    "    for s in m.S:\n",
    "        for p in m.P:\n",
    "            if m.x[s, p]() >= 1e-3:\n",
    "                print(f\"Cut {m.x[s, p]():0.1f}: Pattern = {s}[{p}] \")\n",
    "                for f in m.F:\n",
    "                    print(\"   \", f, m.a[f, s, p]())\n",
    "\n",
    "cut_stock_display(m)"
   ]
  },
  {
   "cell_type": "code",
   "execution_count": 206,
   "metadata": {},
   "outputs": [
    {
     "name": "stdout",
     "output_type": "stream",
     "text": [
      "bonmin.time_limit: 3.0\n",
      "solver: 'bonmin'\n"
     ]
    }
   ],
   "source": []
  },
  {
   "cell_type": "code",
   "execution_count": 221,
   "metadata": {},
   "outputs": [
    {
     "ename": "KeyboardInterrupt",
     "evalue": "",
     "output_type": "error",
     "traceback": [
      "\u001b[0;31m---------------------------------------------------------------------------\u001b[0m",
      "\u001b[0;31mKeyboardInterrupt\u001b[0m                         Traceback (most recent call last)",
      "Cell \u001b[0;32mIn[221], line 30\u001b[0m\n\u001b[1;32m     28\u001b[0m m \u001b[38;5;241m=\u001b[39m cut_stock_minlo(stocks, finish, \u001b[38;5;241m4\u001b[39m)\n\u001b[1;32m     29\u001b[0m solver \u001b[38;5;241m=\u001b[39m pyo\u001b[38;5;241m.\u001b[39mSolverFactory(\u001b[38;5;124m\"\u001b[39m\u001b[38;5;124mbonmin\u001b[39m\u001b[38;5;124m\"\u001b[39m)\n\u001b[0;32m---> 30\u001b[0m \u001b[43mpyo\u001b[49m\u001b[38;5;241;43m.\u001b[39;49m\u001b[43mSolverFactory\u001b[49m\u001b[43m(\u001b[49m\u001b[38;5;124;43m\"\u001b[39;49m\u001b[38;5;124;43mbonmin\u001b[39;49m\u001b[38;5;124;43m\"\u001b[39;49m\u001b[43m)\u001b[49m\u001b[38;5;241;43m.\u001b[39;49m\u001b[43msolve\u001b[49m\u001b[43m(\u001b[49m\u001b[43mm\u001b[49m\u001b[43m,\u001b[49m\u001b[43m \u001b[49m\u001b[43moptions\u001b[49m\u001b[38;5;241;43m=\u001b[39;49m\u001b[43m{\u001b[49m\u001b[38;5;124;43m\"\u001b[39;49m\u001b[38;5;124;43mbonmin.allowable_gap\u001b[39;49m\u001b[38;5;124;43m\"\u001b[39;49m\u001b[43m:\u001b[49m\u001b[43m \u001b[49m\u001b[38;5;241;43m0.3\u001b[39;49m\u001b[43m}\u001b[49m\u001b[43m)\u001b[49m\n\u001b[1;32m     31\u001b[0m \u001b[38;5;28mprint\u001b[39m(\u001b[38;5;124mf\u001b[39m\u001b[38;5;124m\"\u001b[39m\u001b[38;5;124mCost = \u001b[39m\u001b[38;5;132;01m{\u001b[39;00mm\u001b[38;5;241m.\u001b[39mcost()\u001b[38;5;132;01m:\u001b[39;00m\u001b[38;5;124m0.2f\u001b[39m\u001b[38;5;132;01m}\u001b[39;00m\u001b[38;5;124m\"\u001b[39m)\n\u001b[1;32m     33\u001b[0m cut_stock_display(m)\n",
      "File \u001b[0;32m~/opt/anaconda3/lib/python3.9/site-packages/pyomo/opt/base/solvers.py:579\u001b[0m, in \u001b[0;36mOptSolver.solve\u001b[0;34m(self, *args, **kwds)\u001b[0m\n\u001b[1;32m    576\u001b[0m \u001b[38;5;28;01mif\u001b[39;00m \u001b[38;5;129;01mnot\u001b[39;00m _model \u001b[38;5;129;01mis\u001b[39;00m \u001b[38;5;28;01mNone\u001b[39;00m:\n\u001b[1;32m    577\u001b[0m     \u001b[38;5;28mself\u001b[39m\u001b[38;5;241m.\u001b[39m_initialize_callbacks(_model)\n\u001b[0;32m--> 579\u001b[0m _status \u001b[38;5;241m=\u001b[39m \u001b[38;5;28;43mself\u001b[39;49m\u001b[38;5;241;43m.\u001b[39;49m\u001b[43m_apply_solver\u001b[49m\u001b[43m(\u001b[49m\u001b[43m)\u001b[49m\n\u001b[1;32m    580\u001b[0m \u001b[38;5;28;01mif\u001b[39;00m \u001b[38;5;28mhasattr\u001b[39m(\u001b[38;5;28mself\u001b[39m, \u001b[38;5;124m'\u001b[39m\u001b[38;5;124m_transformation_data\u001b[39m\u001b[38;5;124m'\u001b[39m):\n\u001b[1;32m    581\u001b[0m     \u001b[38;5;28;01mdel\u001b[39;00m \u001b[38;5;28mself\u001b[39m\u001b[38;5;241m.\u001b[39m_transformation_data\n",
      "File \u001b[0;32m~/opt/anaconda3/lib/python3.9/site-packages/pyomo/opt/solver/shellcmd.py:265\u001b[0m, in \u001b[0;36mSystemCallSolver._apply_solver\u001b[0;34m(self)\u001b[0m\n\u001b[1;32m    262\u001b[0m         \u001b[38;5;28mprint\u001b[39m(\u001b[38;5;124m\"\u001b[39m\u001b[38;5;124mSolver problem files: \u001b[39m\u001b[38;5;132;01m%s\u001b[39;00m\u001b[38;5;124m\"\u001b[39m \u001b[38;5;241m%\u001b[39m \u001b[38;5;28mstr\u001b[39m(\u001b[38;5;28mself\u001b[39m\u001b[38;5;241m.\u001b[39m_problem_files))\n\u001b[1;32m    264\u001b[0m sys\u001b[38;5;241m.\u001b[39mstdout\u001b[38;5;241m.\u001b[39mflush()\n\u001b[0;32m--> 265\u001b[0m \u001b[38;5;28mself\u001b[39m\u001b[38;5;241m.\u001b[39m_rc, \u001b[38;5;28mself\u001b[39m\u001b[38;5;241m.\u001b[39m_log \u001b[38;5;241m=\u001b[39m \u001b[38;5;28;43mself\u001b[39;49m\u001b[38;5;241;43m.\u001b[39;49m\u001b[43m_execute_command\u001b[49m\u001b[43m(\u001b[49m\u001b[38;5;28;43mself\u001b[39;49m\u001b[38;5;241;43m.\u001b[39;49m\u001b[43m_command\u001b[49m\u001b[43m)\u001b[49m\n\u001b[1;32m    266\u001b[0m sys\u001b[38;5;241m.\u001b[39mstdout\u001b[38;5;241m.\u001b[39mflush()\n\u001b[1;32m    267\u001b[0m \u001b[38;5;28;01mreturn\u001b[39;00m Bunch(rc\u001b[38;5;241m=\u001b[39m\u001b[38;5;28mself\u001b[39m\u001b[38;5;241m.\u001b[39m_rc, log\u001b[38;5;241m=\u001b[39m\u001b[38;5;28mself\u001b[39m\u001b[38;5;241m.\u001b[39m_log)\n",
      "File \u001b[0;32m~/opt/anaconda3/lib/python3.9/site-packages/pyomo/opt/solver/shellcmd.py:334\u001b[0m, in \u001b[0;36mSystemCallSolver._execute_command\u001b[0;34m(self, command)\u001b[0m\n\u001b[1;32m    332\u001b[0m \u001b[38;5;28;01mtry\u001b[39;00m:\n\u001b[1;32m    333\u001b[0m     \u001b[38;5;28;01mwith\u001b[39;00m TeeStream(\u001b[38;5;241m*\u001b[39mostreams) \u001b[38;5;28;01mas\u001b[39;00m t:\n\u001b[0;32m--> 334\u001b[0m         results \u001b[38;5;241m=\u001b[39m \u001b[43msubprocess\u001b[49m\u001b[38;5;241;43m.\u001b[39;49m\u001b[43mrun\u001b[49m\u001b[43m(\u001b[49m\n\u001b[1;32m    335\u001b[0m \u001b[43m            \u001b[49m\u001b[43mcommand\u001b[49m\u001b[38;5;241;43m.\u001b[39;49m\u001b[43mcmd\u001b[49m\u001b[43m,\u001b[49m\n\u001b[1;32m    336\u001b[0m \u001b[43m            \u001b[49m\u001b[38;5;28;43minput\u001b[39;49m\u001b[38;5;241;43m=\u001b[39;49m\u001b[43m_input\u001b[49m\u001b[43m,\u001b[49m\n\u001b[1;32m    337\u001b[0m \u001b[43m            \u001b[49m\u001b[43menv\u001b[49m\u001b[38;5;241;43m=\u001b[39;49m\u001b[43mcommand\u001b[49m\u001b[38;5;241;43m.\u001b[39;49m\u001b[43menv\u001b[49m\u001b[43m,\u001b[49m\n\u001b[1;32m    338\u001b[0m \u001b[43m            \u001b[49m\u001b[43mstdout\u001b[49m\u001b[38;5;241;43m=\u001b[39;49m\u001b[43mt\u001b[49m\u001b[38;5;241;43m.\u001b[39;49m\u001b[43mSTDOUT\u001b[49m\u001b[43m,\u001b[49m\n\u001b[1;32m    339\u001b[0m \u001b[43m            \u001b[49m\u001b[43mstderr\u001b[49m\u001b[38;5;241;43m=\u001b[39;49m\u001b[43mt\u001b[49m\u001b[38;5;241;43m.\u001b[39;49m\u001b[43mSTDERR\u001b[49m\u001b[43m,\u001b[49m\n\u001b[1;32m    340\u001b[0m \u001b[43m            \u001b[49m\u001b[43mtimeout\u001b[49m\u001b[38;5;241;43m=\u001b[39;49m\u001b[43mtimeout\u001b[49m\u001b[43m,\u001b[49m\n\u001b[1;32m    341\u001b[0m \u001b[43m            \u001b[49m\u001b[43muniversal_newlines\u001b[49m\u001b[38;5;241;43m=\u001b[39;49m\u001b[38;5;28;43;01mTrue\u001b[39;49;00m\u001b[43m,\u001b[49m\n\u001b[1;32m    342\u001b[0m \u001b[43m            \u001b[49m\u001b[43mcwd\u001b[49m\u001b[38;5;241;43m=\u001b[39;49m\u001b[43mcommand\u001b[49m\u001b[38;5;241;43m.\u001b[39;49m\u001b[43mcwd\u001b[49m\u001b[43m \u001b[49m\u001b[38;5;28;43;01mif\u001b[39;49;00m\u001b[43m \u001b[49m\u001b[38;5;124;43m\"\u001b[39;49m\u001b[38;5;124;43mcwd\u001b[39;49m\u001b[38;5;124;43m\"\u001b[39;49m\u001b[43m \u001b[49m\u001b[38;5;129;43;01min\u001b[39;49;00m\u001b[43m \u001b[49m\u001b[43mcommand\u001b[49m\u001b[43m \u001b[49m\u001b[38;5;28;43;01melse\u001b[39;49;00m\u001b[43m \u001b[49m\u001b[38;5;28;43;01mNone\u001b[39;49;00m\u001b[43m,\u001b[49m\n\u001b[1;32m    343\u001b[0m \u001b[43m        \u001b[49m\u001b[43m)\u001b[49m\n\u001b[1;32m    344\u001b[0m         t\u001b[38;5;241m.\u001b[39mSTDOUT\u001b[38;5;241m.\u001b[39mflush()\n\u001b[1;32m    345\u001b[0m         t\u001b[38;5;241m.\u001b[39mSTDERR\u001b[38;5;241m.\u001b[39mflush()\n",
      "File \u001b[0;32m~/opt/anaconda3/lib/python3.9/subprocess.py:507\u001b[0m, in \u001b[0;36mrun\u001b[0;34m(input, capture_output, timeout, check, *popenargs, **kwargs)\u001b[0m\n\u001b[1;32m    505\u001b[0m \u001b[38;5;28;01mwith\u001b[39;00m Popen(\u001b[38;5;241m*\u001b[39mpopenargs, \u001b[38;5;241m*\u001b[39m\u001b[38;5;241m*\u001b[39mkwargs) \u001b[38;5;28;01mas\u001b[39;00m process:\n\u001b[1;32m    506\u001b[0m     \u001b[38;5;28;01mtry\u001b[39;00m:\n\u001b[0;32m--> 507\u001b[0m         stdout, stderr \u001b[38;5;241m=\u001b[39m \u001b[43mprocess\u001b[49m\u001b[38;5;241;43m.\u001b[39;49m\u001b[43mcommunicate\u001b[49m\u001b[43m(\u001b[49m\u001b[38;5;28;43minput\u001b[39;49m\u001b[43m,\u001b[49m\u001b[43m \u001b[49m\u001b[43mtimeout\u001b[49m\u001b[38;5;241;43m=\u001b[39;49m\u001b[43mtimeout\u001b[49m\u001b[43m)\u001b[49m\n\u001b[1;32m    508\u001b[0m     \u001b[38;5;28;01mexcept\u001b[39;00m TimeoutExpired \u001b[38;5;28;01mas\u001b[39;00m exc:\n\u001b[1;32m    509\u001b[0m         process\u001b[38;5;241m.\u001b[39mkill()\n",
      "File \u001b[0;32m~/opt/anaconda3/lib/python3.9/subprocess.py:1126\u001b[0m, in \u001b[0;36mPopen.communicate\u001b[0;34m(self, input, timeout)\u001b[0m\n\u001b[1;32m   1124\u001b[0m         stderr \u001b[38;5;241m=\u001b[39m \u001b[38;5;28mself\u001b[39m\u001b[38;5;241m.\u001b[39mstderr\u001b[38;5;241m.\u001b[39mread()\n\u001b[1;32m   1125\u001b[0m         \u001b[38;5;28mself\u001b[39m\u001b[38;5;241m.\u001b[39mstderr\u001b[38;5;241m.\u001b[39mclose()\n\u001b[0;32m-> 1126\u001b[0m     \u001b[38;5;28;43mself\u001b[39;49m\u001b[38;5;241;43m.\u001b[39;49m\u001b[43mwait\u001b[49m\u001b[43m(\u001b[49m\u001b[43m)\u001b[49m\n\u001b[1;32m   1127\u001b[0m \u001b[38;5;28;01melse\u001b[39;00m:\n\u001b[1;32m   1128\u001b[0m     \u001b[38;5;28;01mif\u001b[39;00m timeout \u001b[38;5;129;01mis\u001b[39;00m \u001b[38;5;129;01mnot\u001b[39;00m \u001b[38;5;28;01mNone\u001b[39;00m:\n",
      "File \u001b[0;32m~/opt/anaconda3/lib/python3.9/subprocess.py:1189\u001b[0m, in \u001b[0;36mPopen.wait\u001b[0;34m(self, timeout)\u001b[0m\n\u001b[1;32m   1187\u001b[0m     endtime \u001b[38;5;241m=\u001b[39m _time() \u001b[38;5;241m+\u001b[39m timeout\n\u001b[1;32m   1188\u001b[0m \u001b[38;5;28;01mtry\u001b[39;00m:\n\u001b[0;32m-> 1189\u001b[0m     \u001b[38;5;28;01mreturn\u001b[39;00m \u001b[38;5;28;43mself\u001b[39;49m\u001b[38;5;241;43m.\u001b[39;49m\u001b[43m_wait\u001b[49m\u001b[43m(\u001b[49m\u001b[43mtimeout\u001b[49m\u001b[38;5;241;43m=\u001b[39;49m\u001b[43mtimeout\u001b[49m\u001b[43m)\u001b[49m\n\u001b[1;32m   1190\u001b[0m \u001b[38;5;28;01mexcept\u001b[39;00m \u001b[38;5;167;01mKeyboardInterrupt\u001b[39;00m:\n\u001b[1;32m   1191\u001b[0m     \u001b[38;5;66;03m# https://bugs.python.org/issue25942\u001b[39;00m\n\u001b[1;32m   1192\u001b[0m     \u001b[38;5;66;03m# The first keyboard interrupt waits briefly for the child to\u001b[39;00m\n\u001b[1;32m   1193\u001b[0m     \u001b[38;5;66;03m# exit under the common assumption that it also received the ^C\u001b[39;00m\n\u001b[1;32m   1194\u001b[0m     \u001b[38;5;66;03m# generated SIGINT and will exit rapidly.\u001b[39;00m\n\u001b[1;32m   1195\u001b[0m     \u001b[38;5;28;01mif\u001b[39;00m timeout \u001b[38;5;129;01mis\u001b[39;00m \u001b[38;5;129;01mnot\u001b[39;00m \u001b[38;5;28;01mNone\u001b[39;00m:\n",
      "File \u001b[0;32m~/opt/anaconda3/lib/python3.9/subprocess.py:1917\u001b[0m, in \u001b[0;36mPopen._wait\u001b[0;34m(self, timeout)\u001b[0m\n\u001b[1;32m   1915\u001b[0m \u001b[38;5;28;01mif\u001b[39;00m \u001b[38;5;28mself\u001b[39m\u001b[38;5;241m.\u001b[39mreturncode \u001b[38;5;129;01mis\u001b[39;00m \u001b[38;5;129;01mnot\u001b[39;00m \u001b[38;5;28;01mNone\u001b[39;00m:\n\u001b[1;32m   1916\u001b[0m     \u001b[38;5;28;01mbreak\u001b[39;00m  \u001b[38;5;66;03m# Another thread waited.\u001b[39;00m\n\u001b[0;32m-> 1917\u001b[0m (pid, sts) \u001b[38;5;241m=\u001b[39m \u001b[38;5;28;43mself\u001b[39;49m\u001b[38;5;241;43m.\u001b[39;49m\u001b[43m_try_wait\u001b[49m\u001b[43m(\u001b[49m\u001b[38;5;241;43m0\u001b[39;49m\u001b[43m)\u001b[49m\n\u001b[1;32m   1918\u001b[0m \u001b[38;5;66;03m# Check the pid and loop as waitpid has been known to\u001b[39;00m\n\u001b[1;32m   1919\u001b[0m \u001b[38;5;66;03m# return 0 even without WNOHANG in odd situations.\u001b[39;00m\n\u001b[1;32m   1920\u001b[0m \u001b[38;5;66;03m# http://bugs.python.org/issue14396.\u001b[39;00m\n\u001b[1;32m   1921\u001b[0m \u001b[38;5;28;01mif\u001b[39;00m pid \u001b[38;5;241m==\u001b[39m \u001b[38;5;28mself\u001b[39m\u001b[38;5;241m.\u001b[39mpid:\n",
      "File \u001b[0;32m~/opt/anaconda3/lib/python3.9/subprocess.py:1875\u001b[0m, in \u001b[0;36mPopen._try_wait\u001b[0;34m(self, wait_flags)\u001b[0m\n\u001b[1;32m   1873\u001b[0m \u001b[38;5;124;03m\"\"\"All callers to this function MUST hold self._waitpid_lock.\"\"\"\u001b[39;00m\n\u001b[1;32m   1874\u001b[0m \u001b[38;5;28;01mtry\u001b[39;00m:\n\u001b[0;32m-> 1875\u001b[0m     (pid, sts) \u001b[38;5;241m=\u001b[39m \u001b[43mos\u001b[49m\u001b[38;5;241;43m.\u001b[39;49m\u001b[43mwaitpid\u001b[49m\u001b[43m(\u001b[49m\u001b[38;5;28;43mself\u001b[39;49m\u001b[38;5;241;43m.\u001b[39;49m\u001b[43mpid\u001b[49m\u001b[43m,\u001b[49m\u001b[43m \u001b[49m\u001b[43mwait_flags\u001b[49m\u001b[43m)\u001b[49m\n\u001b[1;32m   1876\u001b[0m \u001b[38;5;28;01mexcept\u001b[39;00m \u001b[38;5;167;01mChildProcessError\u001b[39;00m:\n\u001b[1;32m   1877\u001b[0m     \u001b[38;5;66;03m# This happens if SIGCLD is set to be ignored or waiting\u001b[39;00m\n\u001b[1;32m   1878\u001b[0m     \u001b[38;5;66;03m# for child processes has otherwise been disabled for our\u001b[39;00m\n\u001b[1;32m   1879\u001b[0m     \u001b[38;5;66;03m# process.  This child is dead, we can't get the status.\u001b[39;00m\n\u001b[1;32m   1880\u001b[0m     pid \u001b[38;5;241m=\u001b[39m \u001b[38;5;28mself\u001b[39m\u001b[38;5;241m.\u001b[39mpid\n",
      "\u001b[0;31mKeyboardInterrupt\u001b[0m: "
     ]
    }
   ],
   "source": [
    "stocks = {\n",
    "    'log': {'length': 200, 'cost': 1},\n",
    "}\n",
    "\n",
    "finish = {\n",
    "    1:  {'length': 75.0, 'demand': 38},\n",
    "    2:  {'length': 75.0, 'demand': 44},\n",
    "    3:  {'length': 75.0, 'demand': 30},\n",
    "    4:  {'length': 75.0, 'demand': 41},\n",
    "    5:  {'length': 75.0, 'demand': 36},\n",
    "    6:  {'length': 53.8, 'demand': 33},\n",
    "    7:  {'length': 53.0, 'demand': 36},\n",
    "    8:  {'length': 51.0, 'demand': 41},\n",
    "    9:  {'length': 50.2, 'demand': 35},\n",
    "    10: {'length': 32.2, 'demand': 37},\n",
    "    11: {'length': 30.8, 'demand': 44},\n",
    "    12: {'length': 29.8, 'demand': 49},\n",
    "    13: {'length': 20.1, 'demand': 37},\n",
    "    14: {'length': 16.2, 'demand': 36},\n",
    "    15: {'length': 14.5, 'demand': 42},\n",
    "    16: {'length': 11.0, 'demand': 33},\n",
    "    17: {'length':  8.6, 'demand': 47},\n",
    "    18: {'length':  8.2, 'demand': 35},\n",
    "    19: {'length':  6.6, 'demand': 49},\n",
    "    20: {'length':  5.1, 'demand': 42},\n",
    "}\n",
    "\n",
    "m = cut_stock_minlo(stocks, finish, 4)\n",
    "solver = pyo.SolverFactory(\"bonmin\")\n",
    "pyo.SolverFactory(\"bonmin\").solve(m, options={\"bonmin.allowable_gap\": 0.3})\n",
    "print(f\"Cost = {m.cost():0.2f}\")\n",
    "\n",
    "cut_stock_display(m)\n"
   ]
  },
  {
   "cell_type": "code",
   "execution_count": 220,
   "metadata": {},
   "outputs": [
    {
     "name": "stdout",
     "output_type": "stream",
     "text": [
      "5 Set Declarations\n",
      "    F : Size=1, Index=None, Ordered=Insertion\n",
      "        Key  : Dimen : Domain : Size : Members\n",
      "        None :     1 :    Any :   20 : {1, 2, 3, 4, 5, 6, 7, 8, 9, 10, 11, 12, 13, 14, 15, 16, 17, 18, 19, 20}\n",
      "    S : Size=1, Index=None, Ordered=Insertion\n",
      "        Key  : Dimen : Domain : Size : Members\n",
      "        None :     1 :    Any :    1 : {'log',}\n",
      "    a_index : Size=1, Index=None, Ordered=True\n",
      "        Key  : Dimen : Domain : Size : Members\n",
      "        None :     3 :  F*S*P :   80 : {(1, 'log', 0), (1, 'log', 1), (1, 'log', 2), (1, 'log', 3), (2, 'log', 0), (2, 'log', 1), (2, 'log', 2), (2, 'log', 3), (3, 'log', 0), (3, 'log', 1), (3, 'log', 2), (3, 'log', 3), (4, 'log', 0), (4, 'log', 1), (4, 'log', 2), (4, 'log', 3), (5, 'log', 0), (5, 'log', 1), (5, 'log', 2), (5, 'log', 3), (6, 'log', 0), (6, 'log', 1), (6, 'log', 2), (6, 'log', 3), (7, 'log', 0), (7, 'log', 1), (7, 'log', 2), (7, 'log', 3), (8, 'log', 0), (8, 'log', 1), (8, 'log', 2), (8, 'log', 3), (9, 'log', 0), (9, 'log', 1), (9, 'log', 2), (9, 'log', 3), (10, 'log', 0), (10, 'log', 1), (10, 'log', 2), (10, 'log', 3), (11, 'log', 0), (11, 'log', 1), (11, 'log', 2), (11, 'log', 3), (12, 'log', 0), (12, 'log', 1), (12, 'log', 2), (12, 'log', 3), (13, 'log', 0), (13, 'log', 1), (13, 'log', 2), (13, 'log', 3), (14, 'log', 0), (14, 'log', 1), (14, 'log', 2), (14, 'log', 3), (15, 'log', 0), (15, 'log', 1), (15, 'log', 2), (15, 'log', 3), (16, 'log', 0), (16, 'log', 1), (16, 'log', 2), (16, 'log', 3), (17, 'log', 0), (17, 'log', 1), (17, 'log', 2), (17, 'log', 3), (18, 'log', 0), (18, 'log', 1), (18, 'log', 2), (18, 'log', 3), (19, 'log', 0), (19, 'log', 1), (19, 'log', 2), (19, 'log', 3), (20, 'log', 0), (20, 'log', 1), (20, 'log', 2), (20, 'log', 3)}\n",
      "    feasible_pattern_index : Size=1, Index=None, Ordered=True\n",
      "        Key  : Dimen : Domain : Size : Members\n",
      "        None :     2 :    S*P :    4 : {('log', 0), ('log', 1), ('log', 2), ('log', 3)}\n",
      "    x_index : Size=1, Index=None, Ordered=True\n",
      "        Key  : Dimen : Domain : Size : Members\n",
      "        None :     2 :    S*P :    4 : {('log', 0), ('log', 1), ('log', 2), ('log', 3)}\n",
      "\n",
      "1 RangeSet Declarations\n",
      "    P : Dimen=1, Size=4, Bounds=(0, 3)\n",
      "        Key  : Finite : Members\n",
      "        None :   True :   [0:3]\n",
      "\n",
      "2 Var Declarations\n",
      "    a : Size=80, Index=a_index\n",
      "        Key            : Lower : Value : Upper : Fixed : Stale : Domain\n",
      "         (1, 'log', 0) :     0 :  None :  None : False :  True : NonNegativeIntegers\n",
      "         (1, 'log', 1) :     0 :  None :  None : False :  True : NonNegativeIntegers\n",
      "         (1, 'log', 2) :     0 :  None :  None : False :  True : NonNegativeIntegers\n",
      "         (1, 'log', 3) :     0 :  None :  None : False :  True : NonNegativeIntegers\n",
      "         (2, 'log', 0) :     0 :  None :  None : False :  True : NonNegativeIntegers\n",
      "         (2, 'log', 1) :     0 :  None :  None : False :  True : NonNegativeIntegers\n",
      "         (2, 'log', 2) :     0 :  None :  None : False :  True : NonNegativeIntegers\n",
      "         (2, 'log', 3) :     0 :  None :  None : False :  True : NonNegativeIntegers\n",
      "         (3, 'log', 0) :     0 :  None :  None : False :  True : NonNegativeIntegers\n",
      "         (3, 'log', 1) :     0 :  None :  None : False :  True : NonNegativeIntegers\n",
      "         (3, 'log', 2) :     0 :  None :  None : False :  True : NonNegativeIntegers\n",
      "         (3, 'log', 3) :     0 :  None :  None : False :  True : NonNegativeIntegers\n",
      "         (4, 'log', 0) :     0 :  None :  None : False :  True : NonNegativeIntegers\n",
      "         (4, 'log', 1) :     0 :  None :  None : False :  True : NonNegativeIntegers\n",
      "         (4, 'log', 2) :     0 :  None :  None : False :  True : NonNegativeIntegers\n",
      "         (4, 'log', 3) :     0 :  None :  None : False :  True : NonNegativeIntegers\n",
      "         (5, 'log', 0) :     0 :  None :  None : False :  True : NonNegativeIntegers\n",
      "         (5, 'log', 1) :     0 :  None :  None : False :  True : NonNegativeIntegers\n",
      "         (5, 'log', 2) :     0 :  None :  None : False :  True : NonNegativeIntegers\n",
      "         (5, 'log', 3) :     0 :  None :  None : False :  True : NonNegativeIntegers\n",
      "         (6, 'log', 0) :     0 :  None :  None : False :  True : NonNegativeIntegers\n",
      "         (6, 'log', 1) :     0 :  None :  None : False :  True : NonNegativeIntegers\n",
      "         (6, 'log', 2) :     0 :  None :  None : False :  True : NonNegativeIntegers\n",
      "         (6, 'log', 3) :     0 :  None :  None : False :  True : NonNegativeIntegers\n",
      "         (7, 'log', 0) :     0 :  None :  None : False :  True : NonNegativeIntegers\n",
      "         (7, 'log', 1) :     0 :  None :  None : False :  True : NonNegativeIntegers\n",
      "         (7, 'log', 2) :     0 :  None :  None : False :  True : NonNegativeIntegers\n",
      "         (7, 'log', 3) :     0 :  None :  None : False :  True : NonNegativeIntegers\n",
      "         (8, 'log', 0) :     0 :  None :  None : False :  True : NonNegativeIntegers\n",
      "         (8, 'log', 1) :     0 :  None :  None : False :  True : NonNegativeIntegers\n",
      "         (8, 'log', 2) :     0 :  None :  None : False :  True : NonNegativeIntegers\n",
      "         (8, 'log', 3) :     0 :  None :  None : False :  True : NonNegativeIntegers\n",
      "         (9, 'log', 0) :     0 :  None :  None : False :  True : NonNegativeIntegers\n",
      "         (9, 'log', 1) :     0 :  None :  None : False :  True : NonNegativeIntegers\n",
      "         (9, 'log', 2) :     0 :  None :  None : False :  True : NonNegativeIntegers\n",
      "         (9, 'log', 3) :     0 :  None :  None : False :  True : NonNegativeIntegers\n",
      "        (10, 'log', 0) :     0 :  None :  None : False :  True : NonNegativeIntegers\n",
      "        (10, 'log', 1) :     0 :  None :  None : False :  True : NonNegativeIntegers\n",
      "        (10, 'log', 2) :     0 :  None :  None : False :  True : NonNegativeIntegers\n",
      "        (10, 'log', 3) :     0 :  None :  None : False :  True : NonNegativeIntegers\n",
      "        (11, 'log', 0) :     0 :  None :  None : False :  True : NonNegativeIntegers\n",
      "        (11, 'log', 1) :     0 :  None :  None : False :  True : NonNegativeIntegers\n",
      "        (11, 'log', 2) :     0 :  None :  None : False :  True : NonNegativeIntegers\n",
      "        (11, 'log', 3) :     0 :  None :  None : False :  True : NonNegativeIntegers\n",
      "        (12, 'log', 0) :     0 :  None :  None : False :  True : NonNegativeIntegers\n",
      "        (12, 'log', 1) :     0 :  None :  None : False :  True : NonNegativeIntegers\n",
      "        (12, 'log', 2) :     0 :  None :  None : False :  True : NonNegativeIntegers\n",
      "        (12, 'log', 3) :     0 :  None :  None : False :  True : NonNegativeIntegers\n",
      "        (13, 'log', 0) :     0 :  None :  None : False :  True : NonNegativeIntegers\n",
      "        (13, 'log', 1) :     0 :  None :  None : False :  True : NonNegativeIntegers\n",
      "        (13, 'log', 2) :     0 :  None :  None : False :  True : NonNegativeIntegers\n",
      "        (13, 'log', 3) :     0 :  None :  None : False :  True : NonNegativeIntegers\n",
      "        (14, 'log', 0) :     0 :  None :  None : False :  True : NonNegativeIntegers\n",
      "        (14, 'log', 1) :     0 :  None :  None : False :  True : NonNegativeIntegers\n",
      "        (14, 'log', 2) :     0 :  None :  None : False :  True : NonNegativeIntegers\n",
      "        (14, 'log', 3) :     0 :  None :  None : False :  True : NonNegativeIntegers\n",
      "        (15, 'log', 0) :     0 :  None :  None : False :  True : NonNegativeIntegers\n",
      "        (15, 'log', 1) :     0 :  None :  None : False :  True : NonNegativeIntegers\n",
      "        (15, 'log', 2) :     0 :  None :  None : False :  True : NonNegativeIntegers\n",
      "        (15, 'log', 3) :     0 :  None :  None : False :  True : NonNegativeIntegers\n",
      "        (16, 'log', 0) :     0 :  None :  None : False :  True : NonNegativeIntegers\n",
      "        (16, 'log', 1) :     0 :  None :  None : False :  True : NonNegativeIntegers\n",
      "        (16, 'log', 2) :     0 :  None :  None : False :  True : NonNegativeIntegers\n",
      "        (16, 'log', 3) :     0 :  None :  None : False :  True : NonNegativeIntegers\n",
      "        (17, 'log', 0) :     0 :  None :  None : False :  True : NonNegativeIntegers\n",
      "        (17, 'log', 1) :     0 :  None :  None : False :  True : NonNegativeIntegers\n",
      "        (17, 'log', 2) :     0 :  None :  None : False :  True : NonNegativeIntegers\n",
      "        (17, 'log', 3) :     0 :  None :  None : False :  True : NonNegativeIntegers\n",
      "        (18, 'log', 0) :     0 :  None :  None : False :  True : NonNegativeIntegers\n",
      "        (18, 'log', 1) :     0 :  None :  None : False :  True : NonNegativeIntegers\n",
      "        (18, 'log', 2) :     0 :  None :  None : False :  True : NonNegativeIntegers\n",
      "        (18, 'log', 3) :     0 :  None :  None : False :  True : NonNegativeIntegers\n",
      "        (19, 'log', 0) :     0 :  None :  None : False :  True : NonNegativeIntegers\n",
      "        (19, 'log', 1) :     0 :  None :  None : False :  True : NonNegativeIntegers\n",
      "        (19, 'log', 2) :     0 :  None :  None : False :  True : NonNegativeIntegers\n",
      "        (19, 'log', 3) :     0 :  None :  None : False :  True : NonNegativeIntegers\n",
      "        (20, 'log', 0) :     0 :  None :  None : False :  True : NonNegativeIntegers\n",
      "        (20, 'log', 1) :     0 :  None :  None : False :  True : NonNegativeIntegers\n",
      "        (20, 'log', 2) :     0 :  None :  None : False :  True : NonNegativeIntegers\n",
      "        (20, 'log', 3) :     0 :  None :  None : False :  True : NonNegativeIntegers\n",
      "    x : Size=4, Index=x_index\n",
      "        Key        : Lower : Value : Upper : Fixed : Stale : Domain\n",
      "        ('log', 0) :     0 :  None :  None : False :  True : NonNegativeReals\n",
      "        ('log', 1) :     0 :  None :  None : False :  True : NonNegativeReals\n",
      "        ('log', 2) :     0 :  None :  None : False :  True : NonNegativeReals\n",
      "        ('log', 3) :     0 :  None :  None : False :  True : NonNegativeReals\n",
      "\n",
      "1 Objective Declarations\n",
      "    cost : Size=1, Index=None, Active=True\n",
      "        Key  : Active : Sense    : Expression\n",
      "        None :   True : minimize : x[log,0] + x[log,1] + x[log,2] + x[log,3]\n",
      "\n",
      "4 Constraint Declarations\n",
      "    assign_each_finish_to_pattern : Size=20, Index=F, Active=True\n",
      "        Key : Lower : Body                                                  : Upper : Active\n",
      "          1 :   1.0 :     a[1,log,0] + a[1,log,1] + a[1,log,2] + a[1,log,3] :  +Inf :   True\n",
      "          2 :   1.0 :     a[2,log,0] + a[2,log,1] + a[2,log,2] + a[2,log,3] :  +Inf :   True\n",
      "          3 :   1.0 :     a[3,log,0] + a[3,log,1] + a[3,log,2] + a[3,log,3] :  +Inf :   True\n",
      "          4 :   1.0 :     a[4,log,0] + a[4,log,1] + a[4,log,2] + a[4,log,3] :  +Inf :   True\n",
      "          5 :   1.0 :     a[5,log,0] + a[5,log,1] + a[5,log,2] + a[5,log,3] :  +Inf :   True\n",
      "          6 :   1.0 :     a[6,log,0] + a[6,log,1] + a[6,log,2] + a[6,log,3] :  +Inf :   True\n",
      "          7 :   1.0 :     a[7,log,0] + a[7,log,1] + a[7,log,2] + a[7,log,3] :  +Inf :   True\n",
      "          8 :   1.0 :     a[8,log,0] + a[8,log,1] + a[8,log,2] + a[8,log,3] :  +Inf :   True\n",
      "          9 :   1.0 :     a[9,log,0] + a[9,log,1] + a[9,log,2] + a[9,log,3] :  +Inf :   True\n",
      "         10 :   1.0 : a[10,log,0] + a[10,log,1] + a[10,log,2] + a[10,log,3] :  +Inf :   True\n",
      "         11 :   1.0 : a[11,log,0] + a[11,log,1] + a[11,log,2] + a[11,log,3] :  +Inf :   True\n",
      "         12 :   1.0 : a[12,log,0] + a[12,log,1] + a[12,log,2] + a[12,log,3] :  +Inf :   True\n",
      "         13 :   1.0 : a[13,log,0] + a[13,log,1] + a[13,log,2] + a[13,log,3] :  +Inf :   True\n",
      "         14 :   1.0 : a[14,log,0] + a[14,log,1] + a[14,log,2] + a[14,log,3] :  +Inf :   True\n",
      "         15 :   1.0 : a[15,log,0] + a[15,log,1] + a[15,log,2] + a[15,log,3] :  +Inf :   True\n",
      "         16 :   1.0 : a[16,log,0] + a[16,log,1] + a[16,log,2] + a[16,log,3] :  +Inf :   True\n",
      "         17 :   1.0 : a[17,log,0] + a[17,log,1] + a[17,log,2] + a[17,log,3] :  +Inf :   True\n",
      "         18 :   1.0 : a[18,log,0] + a[18,log,1] + a[18,log,2] + a[18,log,3] :  +Inf :   True\n",
      "         19 :   1.0 : a[19,log,0] + a[19,log,1] + a[19,log,2] + a[19,log,3] :  +Inf :   True\n",
      "         20 :   1.0 : a[20,log,0] + a[20,log,1] + a[20,log,2] + a[20,log,3] :  +Inf :   True\n",
      "    assign_each_pattern_to_finish : Size=4, Index=P, Active=True\n",
      "        Key : Lower : Body                                                                                                                                                                                                                                                                         : Upper : Active\n",
      "          0 :   1.0 : a[1,log,0] + a[2,log,0] + a[3,log,0] + a[4,log,0] + a[5,log,0] + a[6,log,0] + a[7,log,0] + a[8,log,0] + a[9,log,0] + a[10,log,0] + a[11,log,0] + a[12,log,0] + a[13,log,0] + a[14,log,0] + a[15,log,0] + a[16,log,0] + a[17,log,0] + a[18,log,0] + a[19,log,0] + a[20,log,0] :  +Inf :   True\n",
      "          1 :   1.0 : a[1,log,1] + a[2,log,1] + a[3,log,1] + a[4,log,1] + a[5,log,1] + a[6,log,1] + a[7,log,1] + a[8,log,1] + a[9,log,1] + a[10,log,1] + a[11,log,1] + a[12,log,1] + a[13,log,1] + a[14,log,1] + a[15,log,1] + a[16,log,1] + a[17,log,1] + a[18,log,1] + a[19,log,1] + a[20,log,1] :  +Inf :   True\n",
      "          2 :   1.0 : a[1,log,2] + a[2,log,2] + a[3,log,2] + a[4,log,2] + a[5,log,2] + a[6,log,2] + a[7,log,2] + a[8,log,2] + a[9,log,2] + a[10,log,2] + a[11,log,2] + a[12,log,2] + a[13,log,2] + a[14,log,2] + a[15,log,2] + a[16,log,2] + a[17,log,2] + a[18,log,2] + a[19,log,2] + a[20,log,2] :  +Inf :   True\n",
      "          3 :   1.0 : a[1,log,3] + a[2,log,3] + a[3,log,3] + a[4,log,3] + a[5,log,3] + a[6,log,3] + a[7,log,3] + a[8,log,3] + a[9,log,3] + a[10,log,3] + a[11,log,3] + a[12,log,3] + a[13,log,3] + a[14,log,3] + a[15,log,3] + a[16,log,3] + a[17,log,3] + a[18,log,3] + a[19,log,3] + a[20,log,3] :  +Inf :   True\n",
      "    demand : Size=20, Index=F, Active=True\n",
      "        Key : Lower : Body                                                                                      : Upper : Active\n",
      "          1 :  38.0 :     a[1,log,0]*x[log,0] + a[1,log,1]*x[log,1] + a[1,log,2]*x[log,2] + a[1,log,3]*x[log,3] :  +Inf :   True\n",
      "          2 :  44.0 :     a[2,log,0]*x[log,0] + a[2,log,1]*x[log,1] + a[2,log,2]*x[log,2] + a[2,log,3]*x[log,3] :  +Inf :   True\n",
      "          3 :  30.0 :     a[3,log,0]*x[log,0] + a[3,log,1]*x[log,1] + a[3,log,2]*x[log,2] + a[3,log,3]*x[log,3] :  +Inf :   True\n",
      "          4 :  41.0 :     a[4,log,0]*x[log,0] + a[4,log,1]*x[log,1] + a[4,log,2]*x[log,2] + a[4,log,3]*x[log,3] :  +Inf :   True\n",
      "          5 :  36.0 :     a[5,log,0]*x[log,0] + a[5,log,1]*x[log,1] + a[5,log,2]*x[log,2] + a[5,log,3]*x[log,3] :  +Inf :   True\n",
      "          6 :  33.0 :     a[6,log,0]*x[log,0] + a[6,log,1]*x[log,1] + a[6,log,2]*x[log,2] + a[6,log,3]*x[log,3] :  +Inf :   True\n",
      "          7 :  36.0 :     a[7,log,0]*x[log,0] + a[7,log,1]*x[log,1] + a[7,log,2]*x[log,2] + a[7,log,3]*x[log,3] :  +Inf :   True\n",
      "          8 :  41.0 :     a[8,log,0]*x[log,0] + a[8,log,1]*x[log,1] + a[8,log,2]*x[log,2] + a[8,log,3]*x[log,3] :  +Inf :   True\n",
      "          9 :  35.0 :     a[9,log,0]*x[log,0] + a[9,log,1]*x[log,1] + a[9,log,2]*x[log,2] + a[9,log,3]*x[log,3] :  +Inf :   True\n",
      "         10 :  37.0 : a[10,log,0]*x[log,0] + a[10,log,1]*x[log,1] + a[10,log,2]*x[log,2] + a[10,log,3]*x[log,3] :  +Inf :   True\n",
      "         11 :  44.0 : a[11,log,0]*x[log,0] + a[11,log,1]*x[log,1] + a[11,log,2]*x[log,2] + a[11,log,3]*x[log,3] :  +Inf :   True\n",
      "         12 :  49.0 : a[12,log,0]*x[log,0] + a[12,log,1]*x[log,1] + a[12,log,2]*x[log,2] + a[12,log,3]*x[log,3] :  +Inf :   True\n",
      "         13 :  37.0 : a[13,log,0]*x[log,0] + a[13,log,1]*x[log,1] + a[13,log,2]*x[log,2] + a[13,log,3]*x[log,3] :  +Inf :   True\n",
      "         14 :  36.0 : a[14,log,0]*x[log,0] + a[14,log,1]*x[log,1] + a[14,log,2]*x[log,2] + a[14,log,3]*x[log,3] :  +Inf :   True\n",
      "         15 :  42.0 : a[15,log,0]*x[log,0] + a[15,log,1]*x[log,1] + a[15,log,2]*x[log,2] + a[15,log,3]*x[log,3] :  +Inf :   True\n",
      "         16 :  33.0 : a[16,log,0]*x[log,0] + a[16,log,1]*x[log,1] + a[16,log,2]*x[log,2] + a[16,log,3]*x[log,3] :  +Inf :   True\n",
      "         17 :  47.0 : a[17,log,0]*x[log,0] + a[17,log,1]*x[log,1] + a[17,log,2]*x[log,2] + a[17,log,3]*x[log,3] :  +Inf :   True\n",
      "         18 :  35.0 : a[18,log,0]*x[log,0] + a[18,log,1]*x[log,1] + a[18,log,2]*x[log,2] + a[18,log,3]*x[log,3] :  +Inf :   True\n",
      "         19 :  49.0 : a[19,log,0]*x[log,0] + a[19,log,1]*x[log,1] + a[19,log,2]*x[log,2] + a[19,log,3]*x[log,3] :  +Inf :   True\n",
      "         20 :  42.0 : a[20,log,0]*x[log,0] + a[20,log,1]*x[log,1] + a[20,log,2]*x[log,2] + a[20,log,3]*x[log,3] :  +Inf :   True\n",
      "    feasible_pattern : Size=4, Index=feasible_pattern_index, Active=True\n",
      "        Key        : Lower : Body                                                                                                                                                                                                                                                                                                                                                                         : Upper : Active\n",
      "        ('log', 0) :  -Inf : 75.0*a[1,log,0] + 75.0*a[2,log,0] + 75.0*a[3,log,0] + 75.0*a[4,log,0] + 75.0*a[5,log,0] + 53.8*a[6,log,0] + 53.0*a[7,log,0] + 51.0*a[8,log,0] + 50.2*a[9,log,0] + 32.2*a[10,log,0] + 30.8*a[11,log,0] + 29.8*a[12,log,0] + 20.1*a[13,log,0] + 16.2*a[14,log,0] + 14.5*a[15,log,0] + 11.0*a[16,log,0] + 8.6*a[17,log,0] + 8.2*a[18,log,0] + 6.6*a[19,log,0] + 5.1*a[20,log,0] : 200.0 :   True\n",
      "        ('log', 1) :  -Inf : 75.0*a[1,log,1] + 75.0*a[2,log,1] + 75.0*a[3,log,1] + 75.0*a[4,log,1] + 75.0*a[5,log,1] + 53.8*a[6,log,1] + 53.0*a[7,log,1] + 51.0*a[8,log,1] + 50.2*a[9,log,1] + 32.2*a[10,log,1] + 30.8*a[11,log,1] + 29.8*a[12,log,1] + 20.1*a[13,log,1] + 16.2*a[14,log,1] + 14.5*a[15,log,1] + 11.0*a[16,log,1] + 8.6*a[17,log,1] + 8.2*a[18,log,1] + 6.6*a[19,log,1] + 5.1*a[20,log,1] : 200.0 :   True\n",
      "        ('log', 2) :  -Inf : 75.0*a[1,log,2] + 75.0*a[2,log,2] + 75.0*a[3,log,2] + 75.0*a[4,log,2] + 75.0*a[5,log,2] + 53.8*a[6,log,2] + 53.0*a[7,log,2] + 51.0*a[8,log,2] + 50.2*a[9,log,2] + 32.2*a[10,log,2] + 30.8*a[11,log,2] + 29.8*a[12,log,2] + 20.1*a[13,log,2] + 16.2*a[14,log,2] + 14.5*a[15,log,2] + 11.0*a[16,log,2] + 8.6*a[17,log,2] + 8.2*a[18,log,2] + 6.6*a[19,log,2] + 5.1*a[20,log,2] : 200.0 :   True\n",
      "        ('log', 3) :  -Inf : 75.0*a[1,log,3] + 75.0*a[2,log,3] + 75.0*a[3,log,3] + 75.0*a[4,log,3] + 75.0*a[5,log,3] + 53.8*a[6,log,3] + 53.0*a[7,log,3] + 51.0*a[8,log,3] + 50.2*a[9,log,3] + 32.2*a[10,log,3] + 30.8*a[11,log,3] + 29.8*a[12,log,3] + 20.1*a[13,log,3] + 16.2*a[14,log,3] + 14.5*a[15,log,3] + 11.0*a[16,log,3] + 8.6*a[17,log,3] + 8.2*a[18,log,3] + 6.6*a[19,log,3] + 5.1*a[20,log,3] : 200.0 :   True\n",
      "\n",
      "13 Declarations: S F P a_index a x_index x cost feasible_pattern_index feasible_pattern demand assign_each_finish_to_pattern assign_each_pattern_to_finish\n"
     ]
    }
   ],
   "source": [
    "m.pprint()"
   ]
  },
  {
   "cell_type": "markdown",
   "metadata": {
    "id": "sfgMyOyLDqlb"
   },
   "source": [
    "## False Starts -- Ignore below"
   ]
  },
  {
   "cell_type": "markdown",
   "metadata": {},
   "source": [
    "$$\n",
    "\\begin{align}\n",
    "\\min & \\sum_{s\\in S} c_s \\sum_{p\\in P} x_{sp} \\\\\n",
    "\\text{s.t.}\\qquad\n",
    "& \\sum_{f\\in F}a_{fsp}l^F_f - l^S_s \\leq 0 && \\forall s\\in S, \\forall p\\in P\\\\\n",
    "& d_f - \\sum_{s\\in S} \\sum_{p\\in P}a_{fsp} x_{sp} \\leq 0 && \\forall f\\in F\\\\\n",
    "& a_{fsp}, x_{sp}  \\in \\mathbb{Z}^+ && \\forall f\\in F, \\forall s\\in S, \\forall p\\in P\\\\\n",
    "\\end{align}\n",
    "$$\n",
    "\n",
    "$$\n",
    "\\begin{align}\n",
    "\\mathcal{L} & = \\sum_{s\\in S} c_s \\sum_{p\\in P} x_{sp} \n",
    "+ \\sum_{s\\in S}\\sum_{p\\in P} \\nu_{sp} \\sum_{f\\in F}\\left( a_{fsp}l^F_f - l^S_s \\right)\n",
    "+ \\sum_{f\\in F} \\mu_f \\left(d_f - \\sum_{s\\in S}\\sum_{p\\in P}a_{fsp} x_{sp} \\right)\n",
    "- \\sum_{f\\in F} \\sum_{s\\in S} \\sum_{p\\in P} \\alpha_{fsp} a_{fsp} \n",
    "- \\sum_{s\\in S} \\sum_{p\\in P} \\beta_{sp} x_{sp} \n",
    "\\end{align}\n",
    "$$\n",
    "\n",
    "$$\n",
    "\\begin{align}\n",
    "\\max & asd \\\\\n",
    "\\text{s.t.}\\qquad\n",
    "& \\frac{\\partial\\mathcal{L}}{\\partial a_{fsp}} = 0 \\implies \\nu_{sp}l^F_f - \\mu_f x_{sp} - \\alpha_{fsp} = 0\\\\\n",
    "& \\frac{\\partial\\mathcal{L}}{\\partial x_{sp}} = 0 \\implies c_s - \\mu_f a_{fsp} - \\beta_{sp} = 0\\\\\n",
    "\\end{align}\n",
    "$$"
   ]
  },
  {
   "cell_type": "markdown",
   "metadata": {
    "id": "6IudSHV3uHYG"
   },
   "source": [
    "## Cutting stock problem - MIQCO reformulation\n",
    "\n",
    "The nonlinear character of the cutting stock problem is due to the appearance of bilinear term $a_{fsp} x_{sp}$ appearing in the demand constraint. Introducing auxiliary variables $r_{fsp}$ and the constraint  $a_{fsp} x_{sp} \\geq r^2_{fsp}$ yields\n",
    "\n",
    "$$\n",
    "\\begin{align}\n",
    "\\min & \\sum_{s\\in S} c_s \\sum_{p\\in P} x_{sp} \\\\\n",
    "\\text{s.t.}\\qquad\n",
    "& \\sum_{f\\in F}a_{fsp}l^F_f  \\leq  l^S_s && \\forall s\\in S, \\forall p\\in P\\\\\n",
    "& \\sum_{s\\in S} \\sum_{p\\in P}r^2_{fsp} \\geq d_f && \\forall f\\in F\\\\\n",
    "& (a_{fsp}, x_{sp}, \\sqrt{2}r_{fsp}) \\in Q^3_r && \\forall f\\in F,  \\forall s\\in S, \\forall p\\in P\\\\\n",
    "& a_{fsp}, x_{sp}, r_{fsp}  \\in \\mathbb{Z}^+ && \\forall f\\in F,  \\forall s\\in S,  \\forall p\\in P\\\\\n",
    "\\end{align}\n",
    "$$\n",
    "\n",
    "where $Q^3_r$ is the rotated quadratic cone in three dimensions. $Q^3_r$ is defined by $(x_1, x_2, x_3) \\in \\mathbb{R}^3_+$ where\n",
    "\n",
    "$$\n",
    "\\begin{align}\n",
    "Q^3_r & = \\{\\ (x_1, x_2, x_3)\\ |\\ 2x_1 x_2 \\geq x_3^2\\ \\}\n",
    "\\end{align}\n",
    "$$\n",
    "\n",
    "\n"
   ]
  },
  {
   "cell_type": "markdown",
   "metadata": {},
   "source": [
    "$$\n",
    "\\begin{align}\n",
    "\\min & \\sum_{s\\in S} c_s \\sum_{p\\in P} x_{sp} \\\\\n",
    "\\text{s.t.}\\qquad\n",
    "& \\sum_{f\\in F}a_{fsp}l^F_f  \\leq  l^S_s && \\forall s\\in S, \\forall p\\in P\\\\\n",
    "& \\sum_{s\\in S} \\sum_{p\\in P} r_{fsp} x_{p}  \\leq N_s N_p M - d_f && \\forall f\\in F\\\\\n",
    "& a_{fsp} = M - r_{fsp}  && \\forall f\\in F, \\forall s\\in S, \\forall p\\in P\\\\\n",
    "& a_{fsp}, x_{sp}  \\in \\mathbb{Z}^+ && \\forall f\\in F, \\forall s\\in S, \\forall p\\in P\\\\\n",
    "\\end{align}\n",
    "$$"
   ]
  },
  {
   "cell_type": "code",
   "execution_count": 39,
   "metadata": {
    "colab": {
     "base_uri": "https://localhost:8080/",
     "height": 374
    },
    "executionInfo": {
     "elapsed": 4,
     "status": "error",
     "timestamp": 1683237075980,
     "user": {
      "displayName": "Jeffrey Kantor",
      "userId": "09038942003589296665"
     },
     "user_tz": 240
    },
    "id": "62NY4eBC2Dcs",
    "outputId": "626d7661-bb06-4b68-b1f8-508aed66be79"
   },
   "outputs": [
    {
     "name": "stdout",
     "output_type": "stream",
     "text": [
      "ERROR: rescode.err_con_q_not_nsd(1294): The constraint 'x49'(6) is not convex.\n",
      "    Q should be negative semidefinite for a constraint with finite lower\n",
      "    bound.\n"
     ]
    },
    {
     "ename": "Error",
     "evalue": "rescode.err_con_q_not_nsd(1294): The constraint 'x49'(6) is not convex. Q should be negative semidefinite for a constraint with finite lower bound.",
     "output_type": "error",
     "traceback": [
      "\u001b[0;31m---------------------------------------------------------------------------\u001b[0m",
      "\u001b[0;31mError\u001b[0m                                     Traceback (most recent call last)",
      "Cell \u001b[0;32mIn[39], line 51\u001b[0m\n\u001b[1;32m     39\u001b[0m stocks \u001b[38;5;241m=\u001b[39m {\n\u001b[1;32m     40\u001b[0m     \u001b[38;5;124m'\u001b[39m\u001b[38;5;124mA\u001b[39m\u001b[38;5;124m'\u001b[39m: {\u001b[38;5;124m'\u001b[39m\u001b[38;5;124mlength\u001b[39m\u001b[38;5;124m'\u001b[39m: \u001b[38;5;241m5\u001b[39m, \u001b[38;5;124m'\u001b[39m\u001b[38;5;124mcost\u001b[39m\u001b[38;5;124m'\u001b[39m: \u001b[38;5;241m6\u001b[39m},\n\u001b[1;32m     41\u001b[0m     \u001b[38;5;124m'\u001b[39m\u001b[38;5;124mB\u001b[39m\u001b[38;5;124m'\u001b[39m: {\u001b[38;5;124m'\u001b[39m\u001b[38;5;124mlength\u001b[39m\u001b[38;5;124m'\u001b[39m: \u001b[38;5;241m6\u001b[39m, \u001b[38;5;124m'\u001b[39m\u001b[38;5;124mcost\u001b[39m\u001b[38;5;124m'\u001b[39m: \u001b[38;5;241m7\u001b[39m},\n\u001b[1;32m     42\u001b[0m     \u001b[38;5;124m'\u001b[39m\u001b[38;5;124mC\u001b[39m\u001b[38;5;124m'\u001b[39m: {\u001b[38;5;124m'\u001b[39m\u001b[38;5;124mlength\u001b[39m\u001b[38;5;124m'\u001b[39m: \u001b[38;5;241m9\u001b[39m, \u001b[38;5;124m'\u001b[39m\u001b[38;5;124mcost\u001b[39m\u001b[38;5;124m'\u001b[39m: \u001b[38;5;241m10\u001b[39m},\n\u001b[1;32m     43\u001b[0m }\n\u001b[1;32m     45\u001b[0m finish \u001b[38;5;241m=\u001b[39m {\n\u001b[1;32m     46\u001b[0m     \u001b[38;5;124m'\u001b[39m\u001b[38;5;124mS\u001b[39m\u001b[38;5;124m'\u001b[39m: {\u001b[38;5;124m'\u001b[39m\u001b[38;5;124mlength\u001b[39m\u001b[38;5;124m'\u001b[39m: \u001b[38;5;241m2\u001b[39m, \u001b[38;5;124m'\u001b[39m\u001b[38;5;124mdemand\u001b[39m\u001b[38;5;124m'\u001b[39m: \u001b[38;5;241m20\u001b[39m},\n\u001b[1;32m     47\u001b[0m     \u001b[38;5;124m'\u001b[39m\u001b[38;5;124mM\u001b[39m\u001b[38;5;124m'\u001b[39m: {\u001b[38;5;124m'\u001b[39m\u001b[38;5;124mlength\u001b[39m\u001b[38;5;124m'\u001b[39m: \u001b[38;5;241m3\u001b[39m, \u001b[38;5;124m'\u001b[39m\u001b[38;5;124mdemand\u001b[39m\u001b[38;5;124m'\u001b[39m: \u001b[38;5;241m10\u001b[39m},\n\u001b[1;32m     48\u001b[0m     \u001b[38;5;124m'\u001b[39m\u001b[38;5;124mL\u001b[39m\u001b[38;5;124m'\u001b[39m: {\u001b[38;5;124m'\u001b[39m\u001b[38;5;124mlength\u001b[39m\u001b[38;5;124m'\u001b[39m: \u001b[38;5;241m4\u001b[39m, \u001b[38;5;124m'\u001b[39m\u001b[38;5;124mdemand\u001b[39m\u001b[38;5;124m'\u001b[39m: \u001b[38;5;241m20\u001b[39m},\n\u001b[1;32m     49\u001b[0m }\n\u001b[0;32m---> 51\u001b[0m m \u001b[38;5;241m=\u001b[39m \u001b[43mcut_stock_miqco\u001b[49m\u001b[43m(\u001b[49m\u001b[43mstocks\u001b[49m\u001b[43m,\u001b[49m\u001b[43m \u001b[49m\u001b[43mfinish\u001b[49m\u001b[43m,\u001b[49m\u001b[43m \u001b[49m\u001b[38;5;241;43m2\u001b[39;49m\u001b[43m)\u001b[49m\n\u001b[1;32m     52\u001b[0m \u001b[38;5;66;03m#print(f\"Cost = {m.cost():0.2f}\")\u001b[39;00m\n\u001b[1;32m     53\u001b[0m \u001b[38;5;28mprint\u001b[39m(m\u001b[38;5;241m.\u001b[39mcost())\n",
      "Cell \u001b[0;32mIn[39], line 34\u001b[0m, in \u001b[0;36mcut_stock_miqco\u001b[0;34m(stocks, finish, N)\u001b[0m\n\u001b[1;32m     31\u001b[0m \u001b[38;5;28;01mfor\u001b[39;00m f \u001b[38;5;129;01min\u001b[39;00m m\u001b[38;5;241m.\u001b[39mF:\n\u001b[1;32m     32\u001b[0m     m\u001b[38;5;241m.\u001b[39mdemand[f] \u001b[38;5;241m=\u001b[39m pmo\u001b[38;5;241m.\u001b[39mconstraint(\u001b[38;5;28msum\u001b[39m((\u001b[38;5;241m10\u001b[39m \u001b[38;5;241m-\u001b[39m m\u001b[38;5;241m.\u001b[39mr[f, s, p])\u001b[38;5;241m*\u001b[39m\u001b[38;5;241m*\u001b[39m\u001b[38;5;241m2\u001b[39m \u001b[38;5;28;01mfor\u001b[39;00m s \u001b[38;5;129;01min\u001b[39;00m m\u001b[38;5;241m.\u001b[39mS \u001b[38;5;28;01mfor\u001b[39;00m p \u001b[38;5;129;01min\u001b[39;00m m\u001b[38;5;241m.\u001b[39mP) \u001b[38;5;241m>\u001b[39m\u001b[38;5;241m=\u001b[39m finish[f][\u001b[38;5;124m'\u001b[39m\u001b[38;5;124mdemand\u001b[39m\u001b[38;5;124m'\u001b[39m])\n\u001b[0;32m---> 34\u001b[0m \u001b[43mpyo\u001b[49m\u001b[38;5;241;43m.\u001b[39;49m\u001b[43mSolverFactory\u001b[49m\u001b[43m(\u001b[49m\u001b[43mSOLVER_MIQCO\u001b[49m\u001b[43m)\u001b[49m\u001b[38;5;241;43m.\u001b[39;49m\u001b[43msolve\u001b[49m\u001b[43m(\u001b[49m\u001b[43mm\u001b[49m\u001b[43m)\u001b[49m\n\u001b[1;32m     36\u001b[0m \u001b[38;5;28;01mreturn\u001b[39;00m m\n",
      "File \u001b[0;32m~/opt/anaconda3/lib/python3.9/site-packages/pyomo/solvers/plugins/solvers/direct_solver.py:143\u001b[0m, in \u001b[0;36mDirectSolver.solve\u001b[0;34m(self, *args, **kwds)\u001b[0m\n\u001b[1;32m    140\u001b[0m \u001b[38;5;28;01mif\u001b[39;00m \u001b[38;5;129;01mnot\u001b[39;00m _model \u001b[38;5;129;01mis\u001b[39;00m \u001b[38;5;28;01mNone\u001b[39;00m:\n\u001b[1;32m    141\u001b[0m     \u001b[38;5;28mself\u001b[39m\u001b[38;5;241m.\u001b[39m_initialize_callbacks(_model)\n\u001b[0;32m--> 143\u001b[0m _status \u001b[38;5;241m=\u001b[39m \u001b[38;5;28;43mself\u001b[39;49m\u001b[38;5;241;43m.\u001b[39;49m\u001b[43m_apply_solver\u001b[49m\u001b[43m(\u001b[49m\u001b[43m)\u001b[49m\n\u001b[1;32m    144\u001b[0m \u001b[38;5;28;01mif\u001b[39;00m \u001b[38;5;28mhasattr\u001b[39m(\u001b[38;5;28mself\u001b[39m, \u001b[38;5;124m'\u001b[39m\u001b[38;5;124m_transformation_data\u001b[39m\u001b[38;5;124m'\u001b[39m):\n\u001b[1;32m    145\u001b[0m     \u001b[38;5;28;01mdel\u001b[39;00m \u001b[38;5;28mself\u001b[39m\u001b[38;5;241m.\u001b[39m_transformation_data\n",
      "File \u001b[0;32m~/opt/anaconda3/lib/python3.9/site-packages/pyomo/solvers/plugins/solvers/mosek_direct.py:184\u001b[0m, in \u001b[0;36mMOSEKDirect._apply_solver\u001b[0;34m(self)\u001b[0m\n\u001b[1;32m    182\u001b[0m         \u001b[38;5;28;01mraise\u001b[39;00m\n\u001b[1;32m    183\u001b[0m \u001b[38;5;28;01mtry\u001b[39;00m:\n\u001b[0;32m--> 184\u001b[0m     \u001b[38;5;28mself\u001b[39m\u001b[38;5;241m.\u001b[39m_termcode \u001b[38;5;241m=\u001b[39m \u001b[38;5;28;43mself\u001b[39;49m\u001b[38;5;241;43m.\u001b[39;49m\u001b[43m_solver_model\u001b[49m\u001b[38;5;241;43m.\u001b[39;49m\u001b[43moptimize\u001b[49m\u001b[43m(\u001b[49m\u001b[43m)\u001b[49m\n\u001b[1;32m    185\u001b[0m     \u001b[38;5;28mself\u001b[39m\u001b[38;5;241m.\u001b[39m_solver_model\u001b[38;5;241m.\u001b[39msolutionsummary(mosek\u001b[38;5;241m.\u001b[39mstreamtype\u001b[38;5;241m.\u001b[39mmsg)\n\u001b[1;32m    186\u001b[0m \u001b[38;5;28;01mexcept\u001b[39;00m mosek\u001b[38;5;241m.\u001b[39mError \u001b[38;5;28;01mas\u001b[39;00m e:\n\u001b[1;32m    187\u001b[0m     \u001b[38;5;66;03m# MOSEK is not good about releasing licenses when an\u001b[39;00m\n\u001b[1;32m    188\u001b[0m     \u001b[38;5;66;03m# exception is raised during optimize().  We will explicitly\u001b[39;00m\n\u001b[1;32m    189\u001b[0m     \u001b[38;5;66;03m# release all licenses to prevent (among other things) a\u001b[39;00m\n\u001b[1;32m    190\u001b[0m     \u001b[38;5;66;03m# \"license leak\" during testing with expected failures.\u001b[39;00m\n",
      "File \u001b[0;32m~/opt/anaconda3/lib/python3.9/site-packages/mosek/__init__.py:10777\u001b[0m, in \u001b[0;36mTask.optimize\u001b[0;34m(self, *args, **kwds)\u001b[0m\n\u001b[1;32m  10770\u001b[0m \u001b[38;5;28;01mdef\u001b[39;00m \u001b[38;5;21moptimize\u001b[39m(\u001b[38;5;28mself\u001b[39m,\u001b[38;5;241m*\u001b[39margs,\u001b[38;5;241m*\u001b[39m\u001b[38;5;241m*\u001b[39mkwds):\n\u001b[1;32m  10771\u001b[0m   \u001b[38;5;124;03m\"\"\"\u001b[39;00m\n\u001b[1;32m  10772\u001b[0m \u001b[38;5;124;03m  Optimizes the problem.\u001b[39;00m\n\u001b[1;32m  10773\u001b[0m \u001b[38;5;124;03m\u001b[39;00m\n\u001b[1;32m  10774\u001b[0m \u001b[38;5;124;03m  optimize() -> (trmcode)\u001b[39;00m\n\u001b[1;32m  10775\u001b[0m \u001b[38;5;124;03m    [trmcode : mosek.rescode]  Is either OK or a termination response code.  \u001b[39;00m\n\u001b[1;32m  10776\u001b[0m \u001b[38;5;124;03m  \"\"\"\u001b[39;00m\n\u001b[0;32m> 10777\u001b[0m   \u001b[38;5;28;01mreturn\u001b[39;00m \u001b[38;5;28;43mself\u001b[39;49m\u001b[38;5;241;43m.\u001b[39;49m\u001b[43m__optimizetrm__1\u001b[49m\u001b[43m(\u001b[49m\u001b[38;5;241;43m*\u001b[39;49m\u001b[43margs\u001b[49m\u001b[43m,\u001b[49m\u001b[38;5;241;43m*\u001b[39;49m\u001b[38;5;241;43m*\u001b[39;49m\u001b[43mkwds\u001b[49m\u001b[43m)\u001b[49m\n",
      "File \u001b[0;32m~/opt/anaconda3/lib/python3.9/site-packages/mosek/__init__.py:10766\u001b[0m, in \u001b[0;36mTask.__optimizetrm__1\u001b[0;34m(self)\u001b[0m\n\u001b[1;32m  10764\u001b[0m \u001b[38;5;28;01mif\u001b[39;00m _res_optimizetrm \u001b[38;5;241m!=\u001b[39m \u001b[38;5;241m0\u001b[39m:\n\u001b[1;32m  10765\u001b[0m   _,_msg_optimizetrm \u001b[38;5;241m=\u001b[39m \u001b[38;5;28mself\u001b[39m\u001b[38;5;241m.\u001b[39m__getlasterror(_res_optimizetrm)\n\u001b[0;32m> 10766\u001b[0m   \u001b[38;5;28;01mraise\u001b[39;00m Error(rescode(_res_optimizetrm),_msg_optimizetrm)\n\u001b[1;32m  10767\u001b[0m \u001b[38;5;28;01melse\u001b[39;00m:\n\u001b[1;32m  10768\u001b[0m   (trmcode) \u001b[38;5;241m=\u001b[39m _retargs_optimizetrm\n",
      "\u001b[0;31mError\u001b[0m: rescode.err_con_q_not_nsd(1294): The constraint 'x49'(6) is not convex. Q should be negative semidefinite for a constraint with finite lower bound."
     ]
    }
   ],
   "source": [
    "import pyomo.kernel as pmo\n",
    "import pyomo.environ as pyo\n",
    "\n",
    "def cut_stock_miqco(stocks, finish, N):\n",
    "    m = pmo.block()\n",
    "\n",
    "    m.F = list(finish.keys())\n",
    "    m.S = list(stocks.keys())\n",
    "    m.P = list(range(N))\n",
    "\n",
    "    m.a = pmo.variable_dict()\n",
    "    m.r = pmo.variable_dict()\n",
    "    m.x = pmo.variable_dict()\n",
    "    \n",
    "    for p in m.P:\n",
    "        for s in m.S:\n",
    "            m.x[s, p] = pmo.variable(domain=pmo.IntegerSet, lb=0)\n",
    "            for f in m.F:\n",
    "                m.a[f, s, p] = pmo.variable(domain=pmo.IntegerSet, lb=0)\n",
    "                m.r[f, s, p] = pmo.variable(domain=pmo.IntegerSet, lb=0)\n",
    "                \n",
    "    m.cost = pmo.objective(sum(stocks[s]['cost'] * sum(m.x[s, p] for p in m.P) for s in m.S))\n",
    "    \n",
    "    m.feasible = pmo.constraint_dict()\n",
    "    for s in m.S:\n",
    "        for p in m.P:\n",
    "            body = sum(m.a[f, s, p] * finish[f]['length'] for s in m.S)\n",
    "            m.feasible[s, p] = pmo.constraint(body <= stocks[s]['length'])\n",
    "            \n",
    "    m.demand = pmo.constraint_dict()\n",
    "    for f in m.F:\n",
    "        m.demand[f] = pmo.constraint(sum((10 - m.r[f, s, p])**2 for s in m.S for p in m.P) >= finish[f]['demand'])\n",
    "       \n",
    "    pyo.SolverFactory(SOLVER_MIQCO).solve(m)\n",
    "\n",
    "    return m\n",
    "\n",
    "\n",
    "stocks = {\n",
    "    'A': {'length': 5, 'cost': 6},\n",
    "    'B': {'length': 6, 'cost': 7},\n",
    "    'C': {'length': 9, 'cost': 10},\n",
    "}\n",
    "\n",
    "finish = {\n",
    "    'S': {'length': 2, 'demand': 20},\n",
    "    'M': {'length': 3, 'demand': 10},\n",
    "    'L': {'length': 4, 'demand': 20},\n",
    "}\n",
    "\n",
    "m = cut_stock_miqco(stocks, finish, 2)\n",
    "#print(f\"Cost = {m.cost():0.2f}\")\n",
    "print(m.cost())"
   ]
  },
  {
   "cell_type": "markdown",
   "metadata": {
    "id": "ZE9CGks-DAEH"
   },
   "source": [
    "\n",
    "To address computational complexity, a key insight from Gilmore and Gamory (1961) is to add to the formulation a finite set $P$ of **cutting patterns**. A cutting pattern $p\\in P$ specifies an integer number $a_{fp}$ of items of each finished product $f\\in F$ that can be cut from the particular stock  assigned to that pattern. Let $b_{sp}$ be a binary variable indicating stock $s\\in S$ is assigned to pattern $p$. Exactly one stock must be assigned to each pattern, therefore\n",
    "\n",
    "$$\n",
    "\\begin{align}\n",
    "\\sum_{s\\in S}b_{sp}  & =  1 & \\forall p\\in P\n",
    "\\end{align}\n",
    "$$\n",
    "\n",
    "A pattern $p\\in P$ specified by parameters $a_{fp}$ and $b_{sp}$ is feasible if \n",
    "\n",
    "$$\n",
    "\\begin{align}\n",
    "\\sum_{f\\in F}a_{fp}l^F_f  & \\leq  \\sum_{s\\in S} b_{sp} l^S_s & \\forall p\\in P\n",
    "\\end{align}\n",
    "$$\n",
    "\n",
    "An auxiliary constraint ensures that finished product appears in at least one pattern.\n",
    "\n",
    "Given a set of patterns, the order is fulfilled if \n",
    "\n",
    "$$\n",
    "\\begin{align}\n",
    "\\sum_{p\\in P}a_{fp} x_{p} & \\geq d_f & \\forall f\\in F\n",
    "\\end{align}\n",
    "$$\n",
    "\n",
    "where $x_{p}$ is the integer number of times pattern $p\\in P$ is used.\n",
    "\n",
    "The cost of fulfilling the customer order is then given by\n",
    "\n",
    "$$\n",
    "\\begin{align}\n",
    "\\text{C} & = \\sum_{p\\in P}\\left(\\sum_{s\\in S}c_{s} b_{sp}\\right) x_{p}\n",
    "\\end{align}\n",
    "$$\n",
    "\n"
   ]
  },
  {
   "cell_type": "markdown",
   "metadata": {
    "id": "AWBlSlGZWafh"
   },
   "source": [
    "\n",
    "Given a set of patterns, the order is fulfilled if \n",
    "\n",
    "$$\n",
    "\\begin{align}\n",
    "\\sum_{p\\in P}a_{fp} x_{p} & \\geq d_f & \\forall f\\in F\n",
    "\\end{align}\n",
    "$$\n",
    "\n",
    "where $x_{p}$ is the integer number of times pattern $p\\in P$ is used.\n",
    "\n",
    "The cost of fulfilling the customer order is then given by\n",
    "\n",
    "$$\n",
    "\\begin{align}\n",
    "\\text{C} & = \\sum_{p\\in P}\\left(\\sum_{s\\in S}c_{s} b_{sp}\\right) x_{p}\n",
    "\\end{align}\n",
    "$$"
   ]
  },
  {
   "cell_type": "code",
   "execution_count": null,
   "metadata": {
    "id": "ge_Nw_L2yBdi"
   },
   "outputs": [],
   "source": []
  },
  {
   "cell_type": "markdown",
   "metadata": {
    "id": "rQTDDS1_SjMJ"
   },
   "source": [
    "## Cutting stock problem\n",
    "\n",
    "$$\n",
    "\\begin{align}\n",
    "\\min & \\sum_{p\\in P} \\sum_{s\\in S}c_{s} b_{sp} x_{p} \\\\\n",
    "\\text{s.t.}\\qquad\n",
    "& \\sum_{s\\in S}b_{sp} =  1 && \\forall p\\in P \\\\\n",
    "& \\sum_{f\\in F}a_{fp}l^F_f  \\leq \\sum_{s\\in S} b_{sp} l^S_s && \\forall p\\in P \\\\\n",
    "& \\sum_{p\\in P}a_{fp} x_{p} \\geq d_f && \\forall f\\in F\\\\\n",
    "& a_{fp}, b_{sp}, x_p  \\in \\mathbb{Z}^+ && \\forall f\\in F,  \\forall p\\in P,  \\forall s\\in S  \\\\\n",
    "\\end{align}\n",
    "$$\n",
    "\n",
    "\n"
   ]
  },
  {
   "cell_type": "code",
   "execution_count": 111,
   "metadata": {
    "colab": {
     "base_uri": "https://localhost:8080/",
     "height": 130
    },
    "executionInfo": {
     "elapsed": 219,
     "status": "ok",
     "timestamp": 1683161069988,
     "user": {
      "displayName": "Jeffrey Kantor",
      "userId": "09038942003589296665"
     },
     "user_tz": 240
    },
    "id": "aLb4F7SKDD7s",
    "outputId": "ce5a2c25-2a1a-4a23-bf85-03e0e8d77595"
   },
   "outputs": [
    {
     "name": "stdout",
     "output_type": "stream",
     "text": [
      "Cost = 167.00\n"
     ]
    },
    {
     "data": {
      "text/html": [
       "<div>\n",
       "<style scoped>\n",
       "    .dataframe tbody tr th:only-of-type {\n",
       "        vertical-align: middle;\n",
       "    }\n",
       "\n",
       "    .dataframe tbody tr th {\n",
       "        vertical-align: top;\n",
       "    }\n",
       "\n",
       "    .dataframe thead th {\n",
       "        text-align: right;\n",
       "    }\n",
       "</style>\n",
       "<table border=\"1\" class=\"dataframe\">\n",
       "  <thead>\n",
       "    <tr style=\"text-align: right;\">\n",
       "      <th></th>\n",
       "      <th>x_p</th>\n",
       "      <th>Stock</th>\n",
       "      <th>S</th>\n",
       "      <th>M</th>\n",
       "      <th>L</th>\n",
       "    </tr>\n",
       "  </thead>\n",
       "  <tbody>\n",
       "    <tr>\n",
       "      <th>0</th>\n",
       "      <td>1.0</td>\n",
       "      <td>B</td>\n",
       "      <td>0</td>\n",
       "      <td>0</td>\n",
       "      <td>0</td>\n",
       "    </tr>\n",
       "    <tr>\n",
       "      <th>1</th>\n",
       "      <td>16.0</td>\n",
       "      <td>C</td>\n",
       "      <td>1</td>\n",
       "      <td>0</td>\n",
       "      <td>1</td>\n",
       "    </tr>\n",
       "    <tr>\n",
       "      <th>2</th>\n",
       "      <td>0.0</td>\n",
       "      <td>C</td>\n",
       "      <td>0</td>\n",
       "      <td>0</td>\n",
       "      <td>2</td>\n",
       "    </tr>\n",
       "  </tbody>\n",
       "</table>\n",
       "</div>"
      ],
      "text/plain": [
       "    x_p Stock  S  M  L\n",
       "0   1.0     B  0  0  0\n",
       "1  16.0     C  1  0  1\n",
       "2   0.0     C  0  0  2"
      ]
     },
     "metadata": {},
     "output_type": "display_data"
    }
   ],
   "source": [
    "import pyomo.environ as pyo\n",
    "import pandas as pd\n",
    "\n",
    "def pattern_model_minlp(stocks, finish, N):\n",
    "    m = pyo.ConcreteModel()\n",
    "\n",
    "    m.S = pyo.Set(initialize=list(stocks.keys()))\n",
    "    m.F = pyo.Set(initialize=list(finish.keys()))\n",
    "    m.P = pyo.RangeSet(0, N-1)\n",
    "\n",
    "    m.a = pyo.Var(m.F, m.P, bounds=(0, None)) #domain=pyo.NonNegativeIntegers)\n",
    "    m.b = pyo.Var(m.S, m.P, domain=pyo.Binary)\n",
    "\n",
    "    # relaxation of integer constraint\n",
    "    m.x = pyo.Var(m.P, domain=pyo.NonNegativeIntegers)\n",
    "\n",
    "    # minimize cost\n",
    "    @m.Objective(sense=pyo.minimize)\n",
    "    def cost(m):\n",
    "        return sum(stocks[s]['cost'] * m.b[s, p] * m.x[p] for s in m.S for p in m.P)\n",
    "\n",
    "    # assign exactly one stock to each pattern\n",
    "    @m.Constraint(m.P)\n",
    "    def assign_each_stock_to_pattern(m, p):\n",
    "        return sum(m.b[s, p] for s in m.S) == 1\n",
    "\n",
    "    # each pattern must fit into length of stock\n",
    "    @m.Constraint(m.P)\n",
    "    def feasible_pattern(m, p):\n",
    "        return sum(m.a[f, p] * finish[f]['length'] for f in m.F) <= sum(m.b[s, p] * stocks[s]['length'] for s in m.S)\n",
    "\n",
    "    @m.Constraint(m.F)\n",
    "    def demand(m, f):\n",
    "        return sum(m.a[f, p] * m.x[p] for p in m.P) >= finish[f]['demand']\n",
    "\n",
    "    pyo.SolverFactory('bonmin').solve(m)\n",
    "\n",
    "    df = pd.DataFrame([\n",
    "        {\"x_p\": round(m.x[p](), 1),\"Stock\": [s for s in m.S if m.b[s, p]() > 0][0]}  \n",
    "        | {f: int(m.a[f, p]() + 1e-4) for f in m.F} for p in m.P])\n",
    "\n",
    "    return m, df\n",
    "\n",
    "stocks = {\n",
    "    'A': {'length': 5, 'cost': 6},\n",
    "    'B': {'length': 6, 'cost': 7},\n",
    "    'C': {'length': 9, 'cost': 10},\n",
    "}\n",
    "\n",
    "finish = {\n",
    "    'S': {'length': 2, 'demand': 20},\n",
    "    'M': {'length': 3, 'demand': 10},\n",
    "    'L': {'length': 4, 'demand': 20},\n",
    "}\n",
    "\n",
    "m, df = pattern_model_minlp(stocks, finish, 3)\n",
    "print(f\"Cost = {m.cost():0.2f}\")\n",
    "display(df)"
   ]
  },
  {
   "cell_type": "code",
   "execution_count": null,
   "metadata": {
    "colab": {
     "base_uri": "https://localhost:8080/"
    },
    "executionInfo": {
     "elapsed": 2268,
     "status": "ok",
     "timestamp": 1683215686596,
     "user": {
      "displayName": "Jeffrey Kantor",
      "userId": "09038942003589296665"
     },
     "user_tz": 240
    },
    "id": "yU5urkiHeLfP",
    "outputId": "49a15b6d-208b-4558-c227-b64ae5394934"
   },
   "outputs": [
    {
     "name": "stdout",
     "output_type": "stream",
     "text": [
      "88.50000000000001\n"
     ]
    }
   ],
   "source": [
    "stocks = {\n",
    "    'log': {'length': 40, 'cost': 1},\n",
    "}\n",
    "\n",
    "finish = {\n",
    "    'A': {'length':  8, 'demand':  90},\n",
    "    'B': {'length': 12, 'demand': 111},\n",
    "    'C': {'length': 16, 'demand':  55},\n",
    "    'D': {'length': 20, 'demand':  30}\n",
    "}\n",
    "\n",
    "m = pattern_model_reformulated(stocks, finish, 3)\n",
    "print(f\"Cost = {m.cost():0.2f}\")\n"
   ]
  },
  {
   "cell_type": "code",
   "execution_count": null,
   "metadata": {
    "colab": {
     "background_save": true
    },
    "id": "uQOT17Z2KETs",
    "outputId": "28ed33f7-c0f4-49a9-f487-12a8c1784b4b"
   },
   "outputs": [
    {
     "name": "stdout",
     "output_type": "stream",
     "text": [
      "Cost = 136.00\n"
     ]
    }
   ],
   "source": [
    "stocks = {\n",
    "    'log': {'length': 200, 'cost': 1},\n",
    "}\n",
    "\n",
    "finish = {\n",
    "    1:  {'length': 75.0, 'demand': 38},\n",
    "    2:  {'length': 75.0, 'demand': 44},\n",
    "    3:  {'length': 75.0, 'demand': 30},\n",
    "    4:  {'length': 75.0, 'demand': 41},\n",
    "    5:  {'length': 75.0, 'demand': 36},\n",
    "    6:  {'length': 53.8, 'demand': 33},\n",
    "    7:  {'length': 53.0, 'demand': 36},\n",
    "    8:  {'length': 51.0, 'demand': 41},\n",
    "    9:  {'length': 50.2, 'demand': 35},\n",
    "    10: {'length': 32.2, 'demand': 37},\n",
    "#    11: {'length': 30.8, 'demand': 44},\n",
    "#    12: {'length': 29.8, 'demand': 49},\n",
    "#    13: {'length': 20.1, 'demand': 37},\n",
    "#    14: {'length': 16.2, 'demand': 36},\n",
    "#    15: {'length': 14.5, 'demand': 42},\n",
    "#    16: {'length': 11.0, 'demand': 33},\n",
    "#    17: {'length':  8.6, 'demand': 47},\n",
    "#    18: {'length':  8.2, 'demand': 35},\n",
    "#    19: {'length':  6.6, 'demand': 49},\n",
    "#    20: {'length':  5.1, 'demand': 42},\n",
    "}\n",
    "\n",
    "m = pattern_model_reformulated(stocks, finish, 4)\n",
    "print(f\"Cost = {m.cost():0.2f}\")\n",
    " "
   ]
  },
  {
   "cell_type": "markdown",
   "metadata": {
    "id": "Nb9Ewji3OZh7"
   },
   "source": [
    "## Convex Model\n",
    "\n",
    "$a_{fp}x_p \\geq r^2_{fp}$ \n",
    "\n",
    "$$\n",
    "\\begin{align}\n",
    "\\min & \\sum_{p\\in P} \\sum_{s\\in S}c_{s} b_{sp} x_{p} \\\\\n",
    "\\text{s.t.}\\qquad\n",
    "& \\sum_{s\\in S}b_{sp} =  1 && \\forall p\\in P \\\\\n",
    "& \\sum_{f\\in F}a_{fp}l^F_f  \\leq \\sum_{s\\in S} b_{sp} l^S_s && \\forall p\\in P \\\\\n",
    "& \\sum_{p\\in P}r^2_{fp} \\geq d_f && \\forall f\\in F\\\\\n",
    "& (a_{fp}, x_p, \\sqrt{2}r_p) \\in \\mathcal{Q}^3_r && \\forall f\\in F, \\forall p\\in P\\\\\n",
    "& a_{fp}, b_{sp}, x_p  \\in \\mathbb{Z}^+ && \\forall f\\in F,  \\forall p\\in P,  \\forall s\\in S  \\\\\n",
    "\\end{align}\n",
    "$$\n",
    "\n",
    "\n"
   ]
  },
  {
   "cell_type": "markdown",
   "metadata": {
    "id": "DOmXamBBuM17"
   },
   "source": [
    "## Read problem data from Google sheets"
   ]
  },
  {
   "cell_type": "markdown",
   "metadata": {
    "id": "RbMtlRjbY7YO"
   },
   "source": [
    "https://docs.google.com/spreadsheets/d/1ZX7KJ2kwTGgyqEv_a3LOG0nQSxsc38Ykk53A7vGWAFU/edit#gid=1104632299"
   ]
  },
  {
   "cell_type": "code",
   "execution_count": null,
   "metadata": {
    "id": "BZtYAaoxDwsS"
   },
   "outputs": [],
   "source": [
    "import pandas as pd\n",
    "\n",
    "def read_google_sheet(sheet_id, sheet_name):\n",
    "    \"\"\"\n",
    "    Reads a Google Sheet and returns a pandas DataFrame.\n",
    "\n",
    "    This function reads a Google Sheet with the specified sheet ID and sheet name,\n",
    "    and returns a pandas DataFrame with the data. The column names are converted to\n",
    "    lowercase.\n",
    "\n",
    "    Args:\n",
    "        sheet_id (str): The Google Sheet ID.\n",
    "        sheet_name (str): The name of the sheet to read.\n",
    "\n",
    "    Returns:\n",
    "        df (pd.DataFrame): A pandas DataFrame containing the data from the Google Sheet.\n",
    "    \"\"\"\n",
    "    url = f\"https://docs.google.com/spreadsheets/d/{sheet_id}/gviz/tq?tqx=out:csv&sheet={sheet_name}\"\n",
    "    df = pd.read_csv(url)\n",
    "    df.columns = map(str.lower, df.columns)\n",
    "    return df"
   ]
  },
  {
   "cell_type": "code",
   "execution_count": null,
   "metadata": {
    "colab": {
     "base_uri": "https://localhost:8080/",
     "height": 783
    },
    "executionInfo": {
     "elapsed": 265,
     "status": "ok",
     "timestamp": 1683039209383,
     "user": {
      "displayName": "Jeffrey Kantor",
      "userId": "09038942003589296665"
     },
     "user_tz": 240
    },
    "id": "s13K6p_eu5IQ",
    "outputId": "840858ba-6d3c-41f7-df59-e381947c2f72"
   },
   "outputs": [
    {
     "name": "stdout",
     "output_type": "stream",
     "text": [
      "\n",
      "Settings\n"
     ]
    },
    {
     "data": {
      "text/html": [
       "\n",
       "  <div id=\"df-403dae4f-f7c2-486e-97c7-d9b9b9b76e67\">\n",
       "    <div class=\"colab-df-container\">\n",
       "      <div>\n",
       "<style scoped>\n",
       "    .dataframe tbody tr th:only-of-type {\n",
       "        vertical-align: middle;\n",
       "    }\n",
       "\n",
       "    .dataframe tbody tr th {\n",
       "        vertical-align: top;\n",
       "    }\n",
       "\n",
       "    .dataframe thead th {\n",
       "        text-align: right;\n",
       "    }\n",
       "</style>\n",
       "<table border=\"1\" class=\"dataframe\">\n",
       "  <thead>\n",
       "    <tr style=\"text-align: right;\">\n",
       "      <th></th>\n",
       "      <th>setting</th>\n",
       "      <th>value</th>\n",
       "    </tr>\n",
       "  </thead>\n",
       "  <tbody>\n",
       "    <tr>\n",
       "      <th>0</th>\n",
       "      <td>kerf</td>\n",
       "      <td>0.125</td>\n",
       "    </tr>\n",
       "  </tbody>\n",
       "</table>\n",
       "</div>\n",
       "      <button class=\"colab-df-convert\" onclick=\"convertToInteractive('df-403dae4f-f7c2-486e-97c7-d9b9b9b76e67')\"\n",
       "              title=\"Convert this dataframe to an interactive table.\"\n",
       "              style=\"display:none;\">\n",
       "        \n",
       "  <svg xmlns=\"http://www.w3.org/2000/svg\" height=\"24px\"viewBox=\"0 0 24 24\"\n",
       "       width=\"24px\">\n",
       "    <path d=\"M0 0h24v24H0V0z\" fill=\"none\"/>\n",
       "    <path d=\"M18.56 5.44l.94 2.06.94-2.06 2.06-.94-2.06-.94-.94-2.06-.94 2.06-2.06.94zm-11 1L8.5 8.5l.94-2.06 2.06-.94-2.06-.94L8.5 2.5l-.94 2.06-2.06.94zm10 10l.94 2.06.94-2.06 2.06-.94-2.06-.94-.94-2.06-.94 2.06-2.06.94z\"/><path d=\"M17.41 7.96l-1.37-1.37c-.4-.4-.92-.59-1.43-.59-.52 0-1.04.2-1.43.59L10.3 9.45l-7.72 7.72c-.78.78-.78 2.05 0 2.83L4 21.41c.39.39.9.59 1.41.59.51 0 1.02-.2 1.41-.59l7.78-7.78 2.81-2.81c.8-.78.8-2.07 0-2.86zM5.41 20L4 18.59l7.72-7.72 1.47 1.35L5.41 20z\"/>\n",
       "  </svg>\n",
       "      </button>\n",
       "      \n",
       "  <style>\n",
       "    .colab-df-container {\n",
       "      display:flex;\n",
       "      flex-wrap:wrap;\n",
       "      gap: 12px;\n",
       "    }\n",
       "\n",
       "    .colab-df-convert {\n",
       "      background-color: #E8F0FE;\n",
       "      border: none;\n",
       "      border-radius: 50%;\n",
       "      cursor: pointer;\n",
       "      display: none;\n",
       "      fill: #1967D2;\n",
       "      height: 32px;\n",
       "      padding: 0 0 0 0;\n",
       "      width: 32px;\n",
       "    }\n",
       "\n",
       "    .colab-df-convert:hover {\n",
       "      background-color: #E2EBFA;\n",
       "      box-shadow: 0px 1px 2px rgba(60, 64, 67, 0.3), 0px 1px 3px 1px rgba(60, 64, 67, 0.15);\n",
       "      fill: #174EA6;\n",
       "    }\n",
       "\n",
       "    [theme=dark] .colab-df-convert {\n",
       "      background-color: #3B4455;\n",
       "      fill: #D2E3FC;\n",
       "    }\n",
       "\n",
       "    [theme=dark] .colab-df-convert:hover {\n",
       "      background-color: #434B5C;\n",
       "      box-shadow: 0px 1px 3px 1px rgba(0, 0, 0, 0.15);\n",
       "      filter: drop-shadow(0px 1px 2px rgba(0, 0, 0, 0.3));\n",
       "      fill: #FFFFFF;\n",
       "    }\n",
       "  </style>\n",
       "\n",
       "      <script>\n",
       "        const buttonEl =\n",
       "          document.querySelector('#df-403dae4f-f7c2-486e-97c7-d9b9b9b76e67 button.colab-df-convert');\n",
       "        buttonEl.style.display =\n",
       "          google.colab.kernel.accessAllowed ? 'block' : 'none';\n",
       "\n",
       "        async function convertToInteractive(key) {\n",
       "          const element = document.querySelector('#df-403dae4f-f7c2-486e-97c7-d9b9b9b76e67');\n",
       "          const dataTable =\n",
       "            await google.colab.kernel.invokeFunction('convertToInteractive',\n",
       "                                                     [key], {});\n",
       "          if (!dataTable) return;\n",
       "\n",
       "          const docLinkHtml = 'Like what you see? Visit the ' +\n",
       "            '<a target=\"_blank\" href=https://colab.research.google.com/notebooks/data_table.ipynb>data table notebook</a>'\n",
       "            + ' to learn more about interactive tables.';\n",
       "          element.innerHTML = '';\n",
       "          dataTable['output_type'] = 'display_data';\n",
       "          await google.colab.output.renderOutput(dataTable, element);\n",
       "          const docLink = document.createElement('div');\n",
       "          docLink.innerHTML = docLinkHtml;\n",
       "          element.appendChild(docLink);\n",
       "        }\n",
       "      </script>\n",
       "    </div>\n",
       "  </div>\n",
       "  "
      ],
      "text/plain": [
       "  setting  value\n",
       "0    kerf  0.125"
      ]
     },
     "metadata": {},
     "output_type": "display_data"
    },
    {
     "name": "stdout",
     "output_type": "stream",
     "text": [
      "\n",
      "Parts\n"
     ]
    },
    {
     "data": {
      "text/html": [
       "\n",
       "  <div id=\"df-e8a96c23-c89c-4b7c-8d6e-eadfb6bb8f4c\">\n",
       "    <div class=\"colab-df-container\">\n",
       "      <div>\n",
       "<style scoped>\n",
       "    .dataframe tbody tr th:only-of-type {\n",
       "        vertical-align: middle;\n",
       "    }\n",
       "\n",
       "    .dataframe tbody tr th {\n",
       "        vertical-align: top;\n",
       "    }\n",
       "\n",
       "    .dataframe thead th {\n",
       "        text-align: right;\n",
       "    }\n",
       "</style>\n",
       "<table border=\"1\" class=\"dataframe\">\n",
       "  <thead>\n",
       "    <tr style=\"text-align: right;\">\n",
       "      <th></th>\n",
       "      <th>kind</th>\n",
       "      <th>length</th>\n",
       "      <th>quantity</th>\n",
       "      <th>label</th>\n",
       "    </tr>\n",
       "  </thead>\n",
       "  <tbody>\n",
       "    <tr>\n",
       "      <th>0</th>\n",
       "      <td>2x4</td>\n",
       "      <td>29</td>\n",
       "      <td>8</td>\n",
       "      <td>legs</td>\n",
       "    </tr>\n",
       "    <tr>\n",
       "      <th>1</th>\n",
       "      <td>2x4</td>\n",
       "      <td>48</td>\n",
       "      <td>4</td>\n",
       "      <td>long aprons</td>\n",
       "    </tr>\n",
       "    <tr>\n",
       "      <th>2</th>\n",
       "      <td>2x4</td>\n",
       "      <td>18</td>\n",
       "      <td>4</td>\n",
       "      <td>short aprons</td>\n",
       "    </tr>\n",
       "    <tr>\n",
       "      <th>3</th>\n",
       "      <td>2x6</td>\n",
       "      <td>54</td>\n",
       "      <td>8</td>\n",
       "      <td>table top</td>\n",
       "    </tr>\n",
       "  </tbody>\n",
       "</table>\n",
       "</div>\n",
       "      <button class=\"colab-df-convert\" onclick=\"convertToInteractive('df-e8a96c23-c89c-4b7c-8d6e-eadfb6bb8f4c')\"\n",
       "              title=\"Convert this dataframe to an interactive table.\"\n",
       "              style=\"display:none;\">\n",
       "        \n",
       "  <svg xmlns=\"http://www.w3.org/2000/svg\" height=\"24px\"viewBox=\"0 0 24 24\"\n",
       "       width=\"24px\">\n",
       "    <path d=\"M0 0h24v24H0V0z\" fill=\"none\"/>\n",
       "    <path d=\"M18.56 5.44l.94 2.06.94-2.06 2.06-.94-2.06-.94-.94-2.06-.94 2.06-2.06.94zm-11 1L8.5 8.5l.94-2.06 2.06-.94-2.06-.94L8.5 2.5l-.94 2.06-2.06.94zm10 10l.94 2.06.94-2.06 2.06-.94-2.06-.94-.94-2.06-.94 2.06-2.06.94z\"/><path d=\"M17.41 7.96l-1.37-1.37c-.4-.4-.92-.59-1.43-.59-.52 0-1.04.2-1.43.59L10.3 9.45l-7.72 7.72c-.78.78-.78 2.05 0 2.83L4 21.41c.39.39.9.59 1.41.59.51 0 1.02-.2 1.41-.59l7.78-7.78 2.81-2.81c.8-.78.8-2.07 0-2.86zM5.41 20L4 18.59l7.72-7.72 1.47 1.35L5.41 20z\"/>\n",
       "  </svg>\n",
       "      </button>\n",
       "      \n",
       "  <style>\n",
       "    .colab-df-container {\n",
       "      display:flex;\n",
       "      flex-wrap:wrap;\n",
       "      gap: 12px;\n",
       "    }\n",
       "\n",
       "    .colab-df-convert {\n",
       "      background-color: #E8F0FE;\n",
       "      border: none;\n",
       "      border-radius: 50%;\n",
       "      cursor: pointer;\n",
       "      display: none;\n",
       "      fill: #1967D2;\n",
       "      height: 32px;\n",
       "      padding: 0 0 0 0;\n",
       "      width: 32px;\n",
       "    }\n",
       "\n",
       "    .colab-df-convert:hover {\n",
       "      background-color: #E2EBFA;\n",
       "      box-shadow: 0px 1px 2px rgba(60, 64, 67, 0.3), 0px 1px 3px 1px rgba(60, 64, 67, 0.15);\n",
       "      fill: #174EA6;\n",
       "    }\n",
       "\n",
       "    [theme=dark] .colab-df-convert {\n",
       "      background-color: #3B4455;\n",
       "      fill: #D2E3FC;\n",
       "    }\n",
       "\n",
       "    [theme=dark] .colab-df-convert:hover {\n",
       "      background-color: #434B5C;\n",
       "      box-shadow: 0px 1px 3px 1px rgba(0, 0, 0, 0.15);\n",
       "      filter: drop-shadow(0px 1px 2px rgba(0, 0, 0, 0.3));\n",
       "      fill: #FFFFFF;\n",
       "    }\n",
       "  </style>\n",
       "\n",
       "      <script>\n",
       "        const buttonEl =\n",
       "          document.querySelector('#df-e8a96c23-c89c-4b7c-8d6e-eadfb6bb8f4c button.colab-df-convert');\n",
       "        buttonEl.style.display =\n",
       "          google.colab.kernel.accessAllowed ? 'block' : 'none';\n",
       "\n",
       "        async function convertToInteractive(key) {\n",
       "          const element = document.querySelector('#df-e8a96c23-c89c-4b7c-8d6e-eadfb6bb8f4c');\n",
       "          const dataTable =\n",
       "            await google.colab.kernel.invokeFunction('convertToInteractive',\n",
       "                                                     [key], {});\n",
       "          if (!dataTable) return;\n",
       "\n",
       "          const docLinkHtml = 'Like what you see? Visit the ' +\n",
       "            '<a target=\"_blank\" href=https://colab.research.google.com/notebooks/data_table.ipynb>data table notebook</a>'\n",
       "            + ' to learn more about interactive tables.';\n",
       "          element.innerHTML = '';\n",
       "          dataTable['output_type'] = 'display_data';\n",
       "          await google.colab.output.renderOutput(dataTable, element);\n",
       "          const docLink = document.createElement('div');\n",
       "          docLink.innerHTML = docLinkHtml;\n",
       "          element.appendChild(docLink);\n",
       "        }\n",
       "      </script>\n",
       "    </div>\n",
       "  </div>\n",
       "  "
      ],
      "text/plain": [
       "  kind  length  quantity         label\n",
       "0  2x4      29         8          legs\n",
       "1  2x4      48         4   long aprons\n",
       "2  2x4      18         4  short aprons\n",
       "3  2x6      54         8     table top"
      ]
     },
     "metadata": {},
     "output_type": "display_data"
    },
    {
     "name": "stdout",
     "output_type": "stream",
     "text": [
      "\n",
      "Stocks\n"
     ]
    },
    {
     "data": {
      "text/html": [
       "\n",
       "  <div id=\"df-9d614080-bd75-40d9-a51a-7f22156cc323\">\n",
       "    <div class=\"colab-df-container\">\n",
       "      <div>\n",
       "<style scoped>\n",
       "    .dataframe tbody tr th:only-of-type {\n",
       "        vertical-align: middle;\n",
       "    }\n",
       "\n",
       "    .dataframe tbody tr th {\n",
       "        vertical-align: top;\n",
       "    }\n",
       "\n",
       "    .dataframe thead th {\n",
       "        text-align: right;\n",
       "    }\n",
       "</style>\n",
       "<table border=\"1\" class=\"dataframe\">\n",
       "  <thead>\n",
       "    <tr style=\"text-align: right;\">\n",
       "      <th></th>\n",
       "      <th>kind</th>\n",
       "      <th>length</th>\n",
       "      <th>price</th>\n",
       "    </tr>\n",
       "  </thead>\n",
       "  <tbody>\n",
       "    <tr>\n",
       "      <th>0</th>\n",
       "      <td>2x4</td>\n",
       "      <td>36</td>\n",
       "      <td>1.68</td>\n",
       "    </tr>\n",
       "    <tr>\n",
       "      <th>1</th>\n",
       "      <td>2x4</td>\n",
       "      <td>48</td>\n",
       "      <td>1.86</td>\n",
       "    </tr>\n",
       "    <tr>\n",
       "      <th>2</th>\n",
       "      <td>2x4</td>\n",
       "      <td>72</td>\n",
       "      <td>2.57</td>\n",
       "    </tr>\n",
       "    <tr>\n",
       "      <th>3</th>\n",
       "      <td>2x4</td>\n",
       "      <td>84</td>\n",
       "      <td>2.65</td>\n",
       "    </tr>\n",
       "    <tr>\n",
       "      <th>4</th>\n",
       "      <td>2x4</td>\n",
       "      <td>96</td>\n",
       "      <td>2.92</td>\n",
       "    </tr>\n",
       "    <tr>\n",
       "      <th>5</th>\n",
       "      <td>2x4</td>\n",
       "      <td>120</td>\n",
       "      <td>3.67</td>\n",
       "    </tr>\n",
       "    <tr>\n",
       "      <th>6</th>\n",
       "      <td>2x4</td>\n",
       "      <td>144</td>\n",
       "      <td>4.40</td>\n",
       "    </tr>\n",
       "    <tr>\n",
       "      <th>7</th>\n",
       "      <td>2x4</td>\n",
       "      <td>168</td>\n",
       "      <td>5.14</td>\n",
       "    </tr>\n",
       "    <tr>\n",
       "      <th>8</th>\n",
       "      <td>2x4</td>\n",
       "      <td>192</td>\n",
       "      <td>6.92</td>\n",
       "    </tr>\n",
       "    <tr>\n",
       "      <th>9</th>\n",
       "      <td>2x4</td>\n",
       "      <td>216</td>\n",
       "      <td>8.62</td>\n",
       "    </tr>\n",
       "    <tr>\n",
       "      <th>10</th>\n",
       "      <td>2x4</td>\n",
       "      <td>240</td>\n",
       "      <td>10.40</td>\n",
       "    </tr>\n",
       "    <tr>\n",
       "      <th>11</th>\n",
       "      <td>2x6</td>\n",
       "      <td>96</td>\n",
       "      <td>4.43</td>\n",
       "    </tr>\n",
       "    <tr>\n",
       "      <th>12</th>\n",
       "      <td>2x6</td>\n",
       "      <td>192</td>\n",
       "      <td>9.36</td>\n",
       "    </tr>\n",
       "  </tbody>\n",
       "</table>\n",
       "</div>\n",
       "      <button class=\"colab-df-convert\" onclick=\"convertToInteractive('df-9d614080-bd75-40d9-a51a-7f22156cc323')\"\n",
       "              title=\"Convert this dataframe to an interactive table.\"\n",
       "              style=\"display:none;\">\n",
       "        \n",
       "  <svg xmlns=\"http://www.w3.org/2000/svg\" height=\"24px\"viewBox=\"0 0 24 24\"\n",
       "       width=\"24px\">\n",
       "    <path d=\"M0 0h24v24H0V0z\" fill=\"none\"/>\n",
       "    <path d=\"M18.56 5.44l.94 2.06.94-2.06 2.06-.94-2.06-.94-.94-2.06-.94 2.06-2.06.94zm-11 1L8.5 8.5l.94-2.06 2.06-.94-2.06-.94L8.5 2.5l-.94 2.06-2.06.94zm10 10l.94 2.06.94-2.06 2.06-.94-2.06-.94-.94-2.06-.94 2.06-2.06.94z\"/><path d=\"M17.41 7.96l-1.37-1.37c-.4-.4-.92-.59-1.43-.59-.52 0-1.04.2-1.43.59L10.3 9.45l-7.72 7.72c-.78.78-.78 2.05 0 2.83L4 21.41c.39.39.9.59 1.41.59.51 0 1.02-.2 1.41-.59l7.78-7.78 2.81-2.81c.8-.78.8-2.07 0-2.86zM5.41 20L4 18.59l7.72-7.72 1.47 1.35L5.41 20z\"/>\n",
       "  </svg>\n",
       "      </button>\n",
       "      \n",
       "  <style>\n",
       "    .colab-df-container {\n",
       "      display:flex;\n",
       "      flex-wrap:wrap;\n",
       "      gap: 12px;\n",
       "    }\n",
       "\n",
       "    .colab-df-convert {\n",
       "      background-color: #E8F0FE;\n",
       "      border: none;\n",
       "      border-radius: 50%;\n",
       "      cursor: pointer;\n",
       "      display: none;\n",
       "      fill: #1967D2;\n",
       "      height: 32px;\n",
       "      padding: 0 0 0 0;\n",
       "      width: 32px;\n",
       "    }\n",
       "\n",
       "    .colab-df-convert:hover {\n",
       "      background-color: #E2EBFA;\n",
       "      box-shadow: 0px 1px 2px rgba(60, 64, 67, 0.3), 0px 1px 3px 1px rgba(60, 64, 67, 0.15);\n",
       "      fill: #174EA6;\n",
       "    }\n",
       "\n",
       "    [theme=dark] .colab-df-convert {\n",
       "      background-color: #3B4455;\n",
       "      fill: #D2E3FC;\n",
       "    }\n",
       "\n",
       "    [theme=dark] .colab-df-convert:hover {\n",
       "      background-color: #434B5C;\n",
       "      box-shadow: 0px 1px 3px 1px rgba(0, 0, 0, 0.15);\n",
       "      filter: drop-shadow(0px 1px 2px rgba(0, 0, 0, 0.3));\n",
       "      fill: #FFFFFF;\n",
       "    }\n",
       "  </style>\n",
       "\n",
       "      <script>\n",
       "        const buttonEl =\n",
       "          document.querySelector('#df-9d614080-bd75-40d9-a51a-7f22156cc323 button.colab-df-convert');\n",
       "        buttonEl.style.display =\n",
       "          google.colab.kernel.accessAllowed ? 'block' : 'none';\n",
       "\n",
       "        async function convertToInteractive(key) {\n",
       "          const element = document.querySelector('#df-9d614080-bd75-40d9-a51a-7f22156cc323');\n",
       "          const dataTable =\n",
       "            await google.colab.kernel.invokeFunction('convertToInteractive',\n",
       "                                                     [key], {});\n",
       "          if (!dataTable) return;\n",
       "\n",
       "          const docLinkHtml = 'Like what you see? Visit the ' +\n",
       "            '<a target=\"_blank\" href=https://colab.research.google.com/notebooks/data_table.ipynb>data table notebook</a>'\n",
       "            + ' to learn more about interactive tables.';\n",
       "          element.innerHTML = '';\n",
       "          dataTable['output_type'] = 'display_data';\n",
       "          await google.colab.output.renderOutput(dataTable, element);\n",
       "          const docLink = document.createElement('div');\n",
       "          docLink.innerHTML = docLinkHtml;\n",
       "          element.appendChild(docLink);\n",
       "        }\n",
       "      </script>\n",
       "    </div>\n",
       "  </div>\n",
       "  "
      ],
      "text/plain": [
       "   kind  length  price\n",
       "0   2x4      36   1.68\n",
       "1   2x4      48   1.86\n",
       "2   2x4      72   2.57\n",
       "3   2x4      84   2.65\n",
       "4   2x4      96   2.92\n",
       "5   2x4     120   3.67\n",
       "6   2x4     144   4.40\n",
       "7   2x4     168   5.14\n",
       "8   2x4     192   6.92\n",
       "9   2x4     216   8.62\n",
       "10  2x4     240  10.40\n",
       "11  2x6      96   4.43\n",
       "12  2x6     192   9.36"
      ]
     },
     "metadata": {},
     "output_type": "display_data"
    }
   ],
   "source": [
    "# Google Sheet ID\n",
    "sheet_id = \"1ZX7KJ2kwTGgyqEv_a3LOG0nQSxsc38Ykk53A7vGWAFU\"\n",
    "\n",
    "# read settings\n",
    "settings = read_google_sheet(sheet_id, \"settings\")\n",
    "print(\"\\nSettings\")\n",
    "display(settings)\n",
    "\n",
    "# read parts\n",
    "products = read_google_sheet(sheet_id, \"products\")\n",
    "print(\"\\nParts\")\n",
    "display(parts)\n",
    "\n",
    "# read and display stocks\n",
    "stocks = read_google_sheet(sheet_id, \"stocks\")\n",
    "#stocks = stocks.drop([\"price\"], axis=1)\n",
    "if not \"price\" in stocks.columns:\n",
    "    stocks[\"price\"] = stocks[\"length\"]\n",
    "print(\"\\nStocks\")\n",
    "display(stocks)"
   ]
  },
  {
   "cell_type": "markdown",
   "metadata": {
    "id": "MTX3EOl3wHfv"
   },
   "source": [
    "## Create Python data structures\n",
    "\n"
   ]
  },
  {
   "cell_type": "code",
   "execution_count": null,
   "metadata": {
    "colab": {
     "base_uri": "https://localhost:8080/"
    },
    "executionInfo": {
     "elapsed": 162,
     "status": "ok",
     "timestamp": 1683039209543,
     "user": {
      "displayName": "Jeffrey Kantor",
      "userId": "09038942003589296665"
     },
     "user_tz": 240
    },
    "id": "P9xlOSoWjZP6",
    "outputId": "f81bbd2c-a9b1-40f1-a08d-4878225f8522"
   },
   "outputs": [
    {
     "name": "stdout",
     "output_type": "stream",
     "text": [
      "kerf = 0.125\n"
     ]
    }
   ],
   "source": [
    "kerf = settings.loc[0, \"value\"]\n",
    "print(f\"kerf = {kerf}\")"
   ]
  },
  {
   "cell_type": "code",
   "execution_count": null,
   "metadata": {
    "colab": {
     "base_uri": "https://localhost:8080/"
    },
    "executionInfo": {
     "elapsed": 4,
     "status": "ok",
     "timestamp": 1683039209544,
     "user": {
      "displayName": "Jeffrey Kantor",
      "userId": "09038942003589296665"
     },
     "user_tz": 240
    },
    "id": "6SQMXCx712Ou",
    "outputId": "f673017f-9819-4c35-8c80-bc73e904f6f7"
   },
   "outputs": [
    {
     "data": {
      "text/plain": [
       "{('2x4', 29, 'legs'): 8,\n",
       " ('2x4', 48, 'long aprons'): 4,\n",
       " ('2x4', 18, 'short aprons'): 4,\n",
       " ('2x6', 54, 'table top'): 8}"
      ]
     },
     "execution_count": 5,
     "metadata": {},
     "output_type": "execute_result"
    }
   ],
   "source": [
    "# dictionary of all parts indexed by unique key \n",
    "part_dict = {}\n",
    "for p in parts.index:\n",
    "    t = (parts.loc[p, \"kind\"], parts.loc[p, \"length\"], parts.loc[p, \"label\"])\n",
    "    part_dict[t] = parts.loc[p, \"quantity\"]\n",
    "\n",
    "part_dict"
   ]
  },
  {
   "cell_type": "code",
   "execution_count": null,
   "metadata": {
    "colab": {
     "base_uri": "https://localhost:8080/"
    },
    "executionInfo": {
     "elapsed": 1363,
     "status": "ok",
     "timestamp": 1683039210904,
     "user": {
      "displayName": "Jeffrey Kantor",
      "userId": "09038942003589296665"
     },
     "user_tz": 240
    },
    "id": "lkRU2ccm2-gN",
    "outputId": "be672a1f-eb59-4b56-fe92-168c64e6c14b"
   },
   "outputs": [
    {
     "data": {
      "text/plain": [
       "{('2x4', 36): 1.68,\n",
       " ('2x4', 48): 1.86,\n",
       " ('2x4', 72): 2.57,\n",
       " ('2x4', 84): 2.65,\n",
       " ('2x4', 96): 2.92,\n",
       " ('2x4', 120): 3.67,\n",
       " ('2x4', 144): 4.4,\n",
       " ('2x4', 168): 5.14,\n",
       " ('2x4', 192): 6.92,\n",
       " ('2x4', 216): 8.62,\n",
       " ('2x4', 240): 10.4,\n",
       " ('2x6', 96): 4.43,\n",
       " ('2x6', 192): 9.36}"
      ]
     },
     "execution_count": 6,
     "metadata": {},
     "output_type": "execute_result"
    }
   ],
   "source": [
    "# dictionary of stocks indexed by unique key\n",
    "stock_dict = {}\n",
    "for s in stocks.index:\n",
    "    t = (stocks.loc[s, \"kind\"], stocks.loc[s, \"length\"])\n",
    "    stock_dict[t] = stocks.loc[s, \"price\"]\n",
    "\n",
    "stock_dict"
   ]
  },
  {
   "cell_type": "markdown",
   "metadata": {
    "id": "SIuVFdZYD8-6"
   },
   "source": [
    "## Patterns\n",
    "\n",
    "A pattern contains references to a stock time, and to a collection of parts that can be cut from the stock item."
   ]
  },
  {
   "cell_type": "code",
   "execution_count": null,
   "metadata": {
    "colab": {
     "base_uri": "https://localhost:8080/"
    },
    "executionInfo": {
     "elapsed": 204,
     "status": "ok",
     "timestamp": 1683039211105,
     "user": {
      "displayName": "Jeffrey Kantor",
      "userId": "09038942003589296665"
     },
     "user_tz": 240
    },
    "id": "jdev_lyy1LiO",
    "outputId": "7e8c12f7-662c-4c1b-ed13-36ea8138f4d9"
   },
   "outputs": [
    {
     "data": {
      "text/plain": [
       "[{'stock': ('2x4', 36), 'parts': {('2x4', 18, 'short aprons'): 1}},\n",
       " {'stock': ('2x4', 36), 'parts': {('2x4', 29, 'legs'): 1}},\n",
       " {'stock': ('2x4', 48), 'parts': {('2x4', 18, 'short aprons'): 2}},\n",
       " {'stock': ('2x4', 48), 'parts': {('2x4', 29, 'legs'): 1}},\n",
       " {'stock': ('2x4', 48), 'parts': {('2x4', 48, 'long aprons'): 1}},\n",
       " {'stock': ('2x4', 72), 'parts': {('2x4', 18, 'short aprons'): 3}},\n",
       " {'stock': ('2x4', 72), 'parts': {('2x4', 29, 'legs'): 2}},\n",
       " {'stock': ('2x4', 72), 'parts': {('2x4', 48, 'long aprons'): 1}},\n",
       " {'stock': ('2x4', 84), 'parts': {('2x4', 18, 'short aprons'): 4}},\n",
       " {'stock': ('2x4', 84), 'parts': {('2x4', 29, 'legs'): 2}},\n",
       " {'stock': ('2x4', 84), 'parts': {('2x4', 48, 'long aprons'): 1}},\n",
       " {'stock': ('2x4', 96), 'parts': {('2x4', 18, 'short aprons'): 5}},\n",
       " {'stock': ('2x4', 96), 'parts': {('2x4', 29, 'legs'): 3}},\n",
       " {'stock': ('2x4', 96), 'parts': {('2x4', 48, 'long aprons'): 1}},\n",
       " {'stock': ('2x4', 120), 'parts': {('2x4', 18, 'short aprons'): 6}},\n",
       " {'stock': ('2x4', 120), 'parts': {('2x4', 29, 'legs'): 4}},\n",
       " {'stock': ('2x4', 120), 'parts': {('2x4', 48, 'long aprons'): 2}},\n",
       " {'stock': ('2x4', 144), 'parts': {('2x4', 18, 'short aprons'): 7}},\n",
       " {'stock': ('2x4', 144), 'parts': {('2x4', 29, 'legs'): 4}},\n",
       " {'stock': ('2x4', 144), 'parts': {('2x4', 48, 'long aprons'): 2}},\n",
       " {'stock': ('2x4', 168), 'parts': {('2x4', 18, 'short aprons'): 9}},\n",
       " {'stock': ('2x4', 168), 'parts': {('2x4', 29, 'legs'): 5}},\n",
       " {'stock': ('2x4', 168), 'parts': {('2x4', 48, 'long aprons'): 3}},\n",
       " {'stock': ('2x4', 192), 'parts': {('2x4', 18, 'short aprons'): 10}},\n",
       " {'stock': ('2x4', 192), 'parts': {('2x4', 29, 'legs'): 6}},\n",
       " {'stock': ('2x4', 192), 'parts': {('2x4', 48, 'long aprons'): 3}},\n",
       " {'stock': ('2x4', 216), 'parts': {('2x4', 18, 'short aprons'): 11}},\n",
       " {'stock': ('2x4', 216), 'parts': {('2x4', 29, 'legs'): 7}},\n",
       " {'stock': ('2x4', 216), 'parts': {('2x4', 48, 'long aprons'): 4}},\n",
       " {'stock': ('2x4', 240), 'parts': {('2x4', 18, 'short aprons'): 13}},\n",
       " {'stock': ('2x4', 240), 'parts': {('2x4', 29, 'legs'): 8}},\n",
       " {'stock': ('2x4', 240), 'parts': {('2x4', 48, 'long aprons'): 4}},\n",
       " {'stock': ('2x6', 96), 'parts': {('2x6', 54, 'table top'): 1}},\n",
       " {'stock': ('2x6', 192), 'parts': {('2x6', 54, 'table top'): 3}}]"
      ]
     },
     "execution_count": 7,
     "metadata": {},
     "output_type": "execute_result"
    }
   ],
   "source": [
    "k = 0\n",
    "pattern_list = []\n",
    "for stock in sorted(stock_dict.keys()):\n",
    "    for part in sorted(part_dict.keys()):\n",
    "        if part[0] == stock[0]:\n",
    "            n = round((stock[1] + kerf) // (part[1] + kerf), 0)\n",
    "            if n > 0:\n",
    "                pattern_list.append({\"stock\": stock, \"parts\": {part: int(n)}})\n",
    "                k += 1\n",
    "\n",
    "pattern_list"
   ]
  },
  {
   "cell_type": "code",
   "execution_count": null,
   "metadata": {
    "colab": {
     "base_uri": "https://localhost:8080/",
     "height": 888
    },
    "executionInfo": {
     "elapsed": 4033,
     "status": "ok",
     "timestamp": 1683039215136,
     "user": {
      "displayName": "Jeffrey Kantor",
      "userId": "09038942003589296665"
     },
     "user_tz": 240
    },
    "id": "Kvl_7tU56Omm",
    "outputId": "1f179804-7099-4613-d84f-0ad8d83cbf6c"
   },
   "outputs": [
    {
     "data": {
      "image/png": "[encoded data removed]",
      "text/plain": [
       "<Figure size 1200x1020 with 1 Axes>"
      ]
     },
     "metadata": {},
     "output_type": "display_data"
    }
   ],
   "source": [
    "import matplotlib.pyplot as plt\n",
    "\n",
    "def plot_patterns(pattern_list, qty=[1]*len(pattern_list), kerf=kerf):\n",
    "    lw = 10\n",
    "    colors = {'2x4': 'b', '2x6': 'g'}\n",
    "    fig, ax = plt.subplots(1, 1, figsize=(12, 0.3*len(qty)))\n",
    "    k = 0\n",
    "    for k, pattern in enumerate(pattern_list):\n",
    "        kind, length = pattern['stock']\n",
    "        n = f\"{int(qty[k])} \" if qty[k] > 0 else \"\"\n",
    "        ax.text(0, k, n, ha=\"right\", va=\"center\")\n",
    "        ax.plot((0, length), (k, k),   solid_capstyle=\"butt\", color=\"k\", lw=lw, alpha=0.3)\n",
    "        xa = 0\n",
    "        for part, qty_parts in pattern['parts'].items():\n",
    "            kind, length, label = part\n",
    "            for q in range(qty_parts):\n",
    "                xb = xa + length\n",
    "                ax.plot((xa, xb), (k, k), solid_capstyle=\"butt\", color=colors[kind], lw=lw, alpha=0.3)\n",
    "                ax.text((xa + xb)/2, k, label, fontsize=6, color=\"w\", ha=\"center\", va=\"center\")\n",
    "                ax.plot(xb + kerf/2, k, '|', ms=10, color=\"w\")\n",
    "                xa = xb + kerf\n",
    "\n",
    "    ax.set_xlabel(\"Length\")\n",
    "    ax.set_title(\"Patterns\")\n",
    "\n",
    "plot_patterns(pattern_list)"
   ]
  },
  {
   "cell_type": "markdown",
   "metadata": {
    "id": "erDEs36rC-Uu"
   },
   "source": [
    "## Model"
   ]
  },
  {
   "cell_type": "code",
   "execution_count": null,
   "metadata": {
    "colab": {
     "base_uri": "https://localhost:8080/",
     "height": 888
    },
    "executionInfo": {
     "elapsed": 1676,
     "status": "ok",
     "timestamp": 1683039594898,
     "user": {
      "displayName": "Jeffrey Kantor",
      "userId": "09038942003589296665"
     },
     "user_tz": 240
    },
    "id": "S9fOU8gCF11Y",
    "outputId": "b8288ab6-65b2-4cec-f33f-6c167c2e9740"
   },
   "outputs": [
    {
     "data": {
      "image/png": "[encoded data removed]",
      "text/plain": [
       "<Figure size 1200x1020 with 1 Axes>"
      ]
     },
     "metadata": {},
     "output_type": "display_data"
    }
   ],
   "source": [
    "import pyomo.environ as pyo\n",
    "import math\n",
    "\n",
    "def cutting_stock(part_dict, stock_dict, pattern_list):\n",
    "\n",
    "    m = pyo.ConcreteModel()\n",
    "\n",
    "    m.PATTERNS = pyo.RangeSet(0, len(pattern_list)-1)\n",
    "    m.STOCKS = pyo.Set(initialize=list(stock_dict.keys()))\n",
    "    m.PARTS = pyo.Set(initialize=list(part_dict.keys()))\n",
    "\n",
    "    @m.Param(m.PARTS)\n",
    "    def quantity(m, kind, length, label):\n",
    "        return part_dict[(kind, length, label)]\n",
    "\n",
    "    @m.Param(m.STOCKS)\n",
    "    def price(m, kind, length):\n",
    "        return stock_dict[(kind, length)]\n",
    "\n",
    "    # m.x[p] = number of times to use pattern p\n",
    "    m.x = pyo.Var(m.PATTERNS, bounds=(0, None))\n",
    "\n",
    "    @m.Objective()\n",
    "    def cost(m):\n",
    "        return sum(m.x[k] * m.price[pattern_list[k]['stock']] for k in m.PATTERNS)\n",
    "\n",
    "    @m.Constraint(m.PARTS)\n",
    "    def sum_parts(m, kind, length, label):\n",
    "        p = (kind, length, label)\n",
    "        keys = [k for k in m.PATTERNS if p in pattern_list[k]['parts'].keys()]\n",
    "        return sum(m.x[k] * pattern_list[k]['parts'][p] for k in keys) >=  m.quantity[p]\n",
    "\n",
    "    m.dual = pyo.Suffix(direction=pyo.Suffix.IMPORT)\n",
    "\n",
    "    solver = pyo.SolverFactory(\"appsi_highs\")\n",
    "    solver.solve(m)\n",
    "\n",
    "    dual_dict = {part: m.dual[m.sum_parts[part]] for part in m.PARTS}\n",
    "\n",
    "    return [m.x[k]() for k in m.PATTERNS], dual_dict\n",
    "\n",
    "qty, dual_dict = cutting_stock(part_dict, stock_dict, pattern_list)\n",
    "qty = list(map(math.ceil, qty))\n",
    "plot_patterns(pattern_list, qty)\n",
    "\n",
    "\n"
   ]
  },
  {
   "cell_type": "code",
   "execution_count": null,
   "metadata": {
    "colab": {
     "base_uri": "https://localhost:8080/"
    },
    "executionInfo": {
     "elapsed": 164,
     "status": "ok",
     "timestamp": 1683041428760,
     "user": {
      "displayName": "Jeffrey Kantor",
      "userId": "09038942003589296665"
     },
     "user_tz": 240
    },
    "id": "XvVwwYeyhf8I",
    "outputId": "c2c5dcb6-2e3b-433d-d8e4-6901715c222e"
   },
   "outputs": [
    {
     "name": "stdout",
     "output_type": "stream",
     "text": [
      "{('2x4', 29, 'legs'): 0.9175, ('2x4', 48, 'long aprons'): 1.7133333333333332, ('2x4', 18, 'short aprons'): 0.5711111111111111, ('2x6', 54, 'table top'): 3.1199999999999997}\n",
      "3 Set Declarations\n",
      "    PARTS : Size=1, Index=None, Ordered=Insertion\n",
      "        Key  : Dimen : Domain : Size : Members\n",
      "        None :     3 :    Any :    4 : {('2x4', 29, 'legs'), ('2x4', 48, 'long aprons'), ('2x4', 18, 'short aprons'), ('2x6', 54, 'table top')}\n",
      "    STOCKS : Size=1, Index=None, Ordered=Insertion\n",
      "        Key  : Dimen : Domain : Size : Members\n",
      "        None :     2 :    Any :   13 : {('2x4', 36), ('2x4', 48), ('2x4', 72), ('2x4', 84), ('2x4', 96), ('2x4', 120), ('2x4', 144), ('2x4', 168), ('2x4', 192), ('2x4', 216), ('2x4', 240), ('2x6', 96), ('2x6', 192)}\n",
      "    y_index : Size=1, Index=None, Ordered=True\n",
      "        Key  : Dimen : Domain       : Size : Members\n",
      "        None :     5 : STOCKS*PARTS :   52 : {('2x4', 36, '2x4', 29, 'legs'), ('2x4', 36, '2x4', 48, 'long aprons'), ('2x4', 36, '2x4', 18, 'short aprons'), ('2x4', 36, '2x6', 54, 'table top'), ('2x4', 48, '2x4', 29, 'legs'), ('2x4', 48, '2x4', 48, 'long aprons'), ('2x4', 48, '2x4', 18, 'short aprons'), ('2x4', 48, '2x6', 54, 'table top'), ('2x4', 72, '2x4', 29, 'legs'), ('2x4', 72, '2x4', 48, 'long aprons'), ('2x4', 72, '2x4', 18, 'short aprons'), ('2x4', 72, '2x6', 54, 'table top'), ('2x4', 84, '2x4', 29, 'legs'), ('2x4', 84, '2x4', 48, 'long aprons'), ('2x4', 84, '2x4', 18, 'short aprons'), ('2x4', 84, '2x6', 54, 'table top'), ('2x4', 96, '2x4', 29, 'legs'), ('2x4', 96, '2x4', 48, 'long aprons'), ('2x4', 96, '2x4', 18, 'short aprons'), ('2x4', 96, '2x6', 54, 'table top'), ('2x4', 120, '2x4', 29, 'legs'), ('2x4', 120, '2x4', 48, 'long aprons'), ('2x4', 120, '2x4', 18, 'short aprons'), ('2x4', 120, '2x6', 54, 'table top'), ('2x4', 144, '2x4', 29, 'legs'), ('2x4', 144, '2x4', 48, 'long aprons'), ('2x4', 144, '2x4', 18, 'short aprons'), ('2x4', 144, '2x6', 54, 'table top'), ('2x4', 168, '2x4', 29, 'legs'), ('2x4', 168, '2x4', 48, 'long aprons'), ('2x4', 168, '2x4', 18, 'short aprons'), ('2x4', 168, '2x6', 54, 'table top'), ('2x4', 192, '2x4', 29, 'legs'), ('2x4', 192, '2x4', 48, 'long aprons'), ('2x4', 192, '2x4', 18, 'short aprons'), ('2x4', 192, '2x6', 54, 'table top'), ('2x4', 216, '2x4', 29, 'legs'), ('2x4', 216, '2x4', 48, 'long aprons'), ('2x4', 216, '2x4', 18, 'short aprons'), ('2x4', 216, '2x6', 54, 'table top'), ('2x4', 240, '2x4', 29, 'legs'), ('2x4', 240, '2x4', 48, 'long aprons'), ('2x4', 240, '2x4', 18, 'short aprons'), ('2x4', 240, '2x6', 54, 'table top'), ('2x6', 96, '2x4', 29, 'legs'), ('2x6', 96, '2x4', 48, 'long aprons'), ('2x6', 96, '2x4', 18, 'short aprons'), ('2x6', 96, '2x6', 54, 'table top'), ('2x6', 192, '2x4', 29, 'legs'), ('2x6', 192, '2x4', 48, 'long aprons'), ('2x6', 192, '2x4', 18, 'short aprons'), ('2x6', 192, '2x6', 54, 'table top')}\n",
      "\n",
      "1 Var Declarations\n",
      "    y : Size=52, Index=y_index\n",
      "        Key                                     : Lower : Value : Upper : Fixed : Stale : Domain\n",
      "         ('2x4', 36, '2x4', 18, 'short aprons') :     0 :   0.0 :  None : False : False : NonNegativeIntegers\n",
      "                 ('2x4', 36, '2x4', 29, 'legs') :     0 :   0.0 :  None : False : False : NonNegativeIntegers\n",
      "          ('2x4', 36, '2x4', 48, 'long aprons') :     0 :   0.0 :  None : False : False : NonNegativeIntegers\n",
      "            ('2x4', 36, '2x6', 54, 'table top') :     0 :  None :  None : False :  True : NonNegativeIntegers\n",
      "         ('2x4', 48, '2x4', 18, 'short aprons') :     0 :   0.0 :  None : False : False : NonNegativeIntegers\n",
      "                 ('2x4', 48, '2x4', 29, 'legs') :     0 :   0.0 :  None : False : False : NonNegativeIntegers\n",
      "          ('2x4', 48, '2x4', 48, 'long aprons') :     0 :   0.0 :  None : False : False : NonNegativeIntegers\n",
      "            ('2x4', 48, '2x6', 54, 'table top') :     0 :  None :  None : False :  True : NonNegativeIntegers\n",
      "         ('2x4', 72, '2x4', 18, 'short aprons') :     0 :   0.0 :  None : False : False : NonNegativeIntegers\n",
      "                 ('2x4', 72, '2x4', 29, 'legs') :     0 :   0.0 :  None : False : False : NonNegativeIntegers\n",
      "          ('2x4', 72, '2x4', 48, 'long aprons') :     0 :   0.0 :  None : False : False : NonNegativeIntegers\n",
      "            ('2x4', 72, '2x6', 54, 'table top') :     0 :  None :  None : False :  True : NonNegativeIntegers\n",
      "         ('2x4', 84, '2x4', 18, 'short aprons') :     0 :   0.0 :  None : False : False : NonNegativeIntegers\n",
      "                 ('2x4', 84, '2x4', 29, 'legs') :     0 :   0.0 :  None : False : False : NonNegativeIntegers\n",
      "          ('2x4', 84, '2x4', 48, 'long aprons') :     0 :   0.0 :  None : False : False : NonNegativeIntegers\n",
      "            ('2x4', 84, '2x6', 54, 'table top') :     0 :  None :  None : False :  True : NonNegativeIntegers\n",
      "         ('2x4', 96, '2x4', 18, 'short aprons') :     0 :   0.0 :  None : False : False : NonNegativeIntegers\n",
      "                 ('2x4', 96, '2x4', 29, 'legs') :     0 :   0.0 :  None : False : False : NonNegativeIntegers\n",
      "          ('2x4', 96, '2x4', 48, 'long aprons') :     0 :   0.0 :  None : False : False : NonNegativeIntegers\n",
      "            ('2x4', 96, '2x6', 54, 'table top') :     0 :  None :  None : False :  True : NonNegativeIntegers\n",
      "        ('2x4', 120, '2x4', 18, 'short aprons') :     0 :   0.0 :  None : False : False : NonNegativeIntegers\n",
      "                ('2x4', 120, '2x4', 29, 'legs') :     0 :   0.0 :  None : False : False : NonNegativeIntegers\n",
      "         ('2x4', 120, '2x4', 48, 'long aprons') :     0 :   0.0 :  None : False : False : NonNegativeIntegers\n",
      "           ('2x4', 120, '2x6', 54, 'table top') :     0 :  None :  None : False :  True : NonNegativeIntegers\n",
      "        ('2x4', 144, '2x4', 18, 'short aprons') :     0 :   0.0 :  None : False : False : NonNegativeIntegers\n",
      "                ('2x4', 144, '2x4', 29, 'legs') :     0 :   0.0 :  None : False : False : NonNegativeIntegers\n",
      "         ('2x4', 144, '2x4', 48, 'long aprons') :     0 :   0.0 :  None : False : False : NonNegativeIntegers\n",
      "           ('2x4', 144, '2x6', 54, 'table top') :     0 :  None :  None : False :  True : NonNegativeIntegers\n",
      "        ('2x4', 168, '2x4', 18, 'short aprons') :     0 :   0.0 :  None : False : False : NonNegativeIntegers\n",
      "                ('2x4', 168, '2x4', 29, 'legs') :     0 :   0.0 :  None : False : False : NonNegativeIntegers\n",
      "         ('2x4', 168, '2x4', 48, 'long aprons') :     0 :   0.0 :  None : False : False : NonNegativeIntegers\n",
      "           ('2x4', 168, '2x6', 54, 'table top') :     0 :  None :  None : False :  True : NonNegativeIntegers\n",
      "        ('2x4', 192, '2x4', 18, 'short aprons') :     0 :   0.0 :  None : False : False : NonNegativeIntegers\n",
      "                ('2x4', 192, '2x4', 29, 'legs') :     0 :   0.0 :  None : False : False : NonNegativeIntegers\n",
      "         ('2x4', 192, '2x4', 48, 'long aprons') :     0 :   0.0 :  None : False : False : NonNegativeIntegers\n",
      "           ('2x4', 192, '2x6', 54, 'table top') :     0 :  None :  None : False :  True : NonNegativeIntegers\n",
      "        ('2x4', 216, '2x4', 18, 'short aprons') :     0 :   0.0 :  None : False : False : NonNegativeIntegers\n",
      "                ('2x4', 216, '2x4', 29, 'legs') :     0 :   0.0 :  None : False : False : NonNegativeIntegers\n",
      "         ('2x4', 216, '2x4', 48, 'long aprons') :     0 :   0.0 :  None : False : False : NonNegativeIntegers\n",
      "           ('2x4', 216, '2x6', 54, 'table top') :     0 :  None :  None : False :  True : NonNegativeIntegers\n",
      "        ('2x4', 240, '2x4', 18, 'short aprons') :     0 :   0.0 :  None : False : False : NonNegativeIntegers\n",
      "                ('2x4', 240, '2x4', 29, 'legs') :     0 :   0.0 :  None : False : False : NonNegativeIntegers\n",
      "         ('2x4', 240, '2x4', 48, 'long aprons') :     0 :   0.0 :  None : False : False : NonNegativeIntegers\n",
      "           ('2x4', 240, '2x6', 54, 'table top') :     0 :  None :  None : False :  True : NonNegativeIntegers\n",
      "         ('2x6', 96, '2x4', 18, 'short aprons') :     0 :  None :  None : False :  True : NonNegativeIntegers\n",
      "                 ('2x6', 96, '2x4', 29, 'legs') :     0 :  None :  None : False :  True : NonNegativeIntegers\n",
      "          ('2x6', 96, '2x4', 48, 'long aprons') :     0 :  None :  None : False :  True : NonNegativeIntegers\n",
      "            ('2x6', 96, '2x6', 54, 'table top') :     0 :   0.0 :  None : False : False : NonNegativeIntegers\n",
      "        ('2x6', 192, '2x4', 18, 'short aprons') :     0 :  None :  None : False :  True : NonNegativeIntegers\n",
      "                ('2x6', 192, '2x4', 29, 'legs') :     0 :  None :  None : False :  True : NonNegativeIntegers\n",
      "         ('2x6', 192, '2x4', 48, 'long aprons') :     0 :  None :  None : False :  True : NonNegativeIntegers\n",
      "           ('2x6', 192, '2x6', 54, 'table top') :     0 :   0.0 :  None : False : False : NonNegativeIntegers\n",
      "\n",
      "1 Objective Declarations\n",
      "    value : Size=1, Index=None, Active=True\n",
      "        Key  : Active : Sense    : Expression\n",
      "        None :   True : maximize :        1.0\n",
      "\n",
      "1 Constraint Declarations\n",
      "    raw : Size=13, Index=STOCKS, Active=True\n",
      "        Key          : Lower : Body                                                                                                         : Upper   : Active\n",
      "         ('2x4', 36) :  -Inf :    29.125*y[2x4,36,2x4,29,legs] + 48.125*y[2x4,36,2x4,48,long aprons] + 18.125*y[2x4,36,2x4,18,short aprons] :  36.125 :   True\n",
      "         ('2x4', 48) :  -Inf :    29.125*y[2x4,48,2x4,29,legs] + 48.125*y[2x4,48,2x4,48,long aprons] + 18.125*y[2x4,48,2x4,18,short aprons] :  48.125 :   True\n",
      "         ('2x4', 72) :  -Inf :    29.125*y[2x4,72,2x4,29,legs] + 48.125*y[2x4,72,2x4,48,long aprons] + 18.125*y[2x4,72,2x4,18,short aprons] :  72.125 :   True\n",
      "         ('2x4', 84) :  -Inf :    29.125*y[2x4,84,2x4,29,legs] + 48.125*y[2x4,84,2x4,48,long aprons] + 18.125*y[2x4,84,2x4,18,short aprons] :  84.125 :   True\n",
      "         ('2x4', 96) :  -Inf :    29.125*y[2x4,96,2x4,29,legs] + 48.125*y[2x4,96,2x4,48,long aprons] + 18.125*y[2x4,96,2x4,18,short aprons] :  96.125 :   True\n",
      "        ('2x4', 120) :  -Inf : 29.125*y[2x4,120,2x4,29,legs] + 48.125*y[2x4,120,2x4,48,long aprons] + 18.125*y[2x4,120,2x4,18,short aprons] : 120.125 :   True\n",
      "        ('2x4', 144) :  -Inf : 29.125*y[2x4,144,2x4,29,legs] + 48.125*y[2x4,144,2x4,48,long aprons] + 18.125*y[2x4,144,2x4,18,short aprons] : 144.125 :   True\n",
      "        ('2x4', 168) :  -Inf : 29.125*y[2x4,168,2x4,29,legs] + 48.125*y[2x4,168,2x4,48,long aprons] + 18.125*y[2x4,168,2x4,18,short aprons] : 168.125 :   True\n",
      "        ('2x4', 192) :  -Inf : 29.125*y[2x4,192,2x4,29,legs] + 48.125*y[2x4,192,2x4,48,long aprons] + 18.125*y[2x4,192,2x4,18,short aprons] : 192.125 :   True\n",
      "        ('2x4', 216) :  -Inf : 29.125*y[2x4,216,2x4,29,legs] + 48.125*y[2x4,216,2x4,48,long aprons] + 18.125*y[2x4,216,2x4,18,short aprons] : 216.125 :   True\n",
      "        ('2x4', 240) :  -Inf : 29.125*y[2x4,240,2x4,29,legs] + 48.125*y[2x4,240,2x4,48,long aprons] + 18.125*y[2x4,240,2x4,18,short aprons] : 240.125 :   True\n",
      "         ('2x6', 96) :  -Inf :                                                                            54.125*y[2x6,96,2x6,54,table top] :  96.125 :   True\n",
      "        ('2x6', 192) :  -Inf :                                                                           54.125*y[2x6,192,2x6,54,table top] : 192.125 :   True\n",
      "\n",
      "6 Declarations: PARTS STOCKS y_index y value raw\n"
     ]
    }
   ],
   "source": [
    "print(dual_dict)\n",
    "\n",
    "d = pyo.ConcreteModel()\n",
    "d.PARTS = pyo.Set(initialize=list(dual_dict.keys()))\n",
    "d.STOCKS = pyo.Set(initialize=list(stock_dict.keys()))\n",
    "\n",
    "d.y = pyo.Var(d.STOCKS, d.PARTS, domain=pyo.NonNegativeIntegers, bounds=(0, None))\n",
    "\n",
    "@d.Objective(sense=pyo.maximize)\n",
    "def value(d):\n",
    "    return 1 # sum(dual_dict[part] * d.y[stock, part] for part in d.PARTS for stock in d.STOCKS)\n",
    "\n",
    "@d.Constraint(d.STOCKS)\n",
    "def raw(d, kind, length):\n",
    "    return sum(d.y[(kind, length), part] * (part[1] + kerf) for part in d.PARTS if part[0] == kind) <= length + kerf\n",
    "\n",
    "solver = pyo.SolverFactory('appsi_highs')\n",
    "solver.solve(d)\n",
    "\n",
    "\n",
    "\n",
    "d.pprint()"
   ]
  },
  {
   "cell_type": "code",
   "execution_count": null,
   "metadata": {
    "id": "c2tfCmEo3QDC"
   },
   "outputs": [],
   "source": []
  }
 ],
 "metadata": {
  "colab": {
   "authorship_tag": "ABX9TyMAEgtZ2QtPtbxWXdXZAIk/",
   "provenance": []
  },
  "kernelspec": {
   "display_name": "Python 3 (ipykernel)",
   "language": "python",
   "name": "python3"
  },
  "language_info": {
   "codemirror_mode": {
    "name": "ipython",
    "version": 3
   },
   "file_extension": ".py",
   "mimetype": "text/x-python",
   "name": "python",
   "nbconvert_exporter": "python",
   "pygments_lexer": "ipython3",
   "version": "3.9.16"
  }
 },
 "nbformat": 4,
 "nbformat_minor": 4
}
