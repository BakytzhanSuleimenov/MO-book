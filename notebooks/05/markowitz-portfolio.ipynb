{
 "cells": [
  {
   "cell_type": "markdown",
   "id": "9855f00a-c252-4a33-a9ac-9f6478e957af",
   "metadata": {},
   "source": [
    "# Markowitz Portfolio Optimization"
   ]
  },
  {
   "cell_type": "code",
   "execution_count": null,
   "id": "51ac202e-9c17-4f30-978a-ce82a90d03c1",
   "metadata": {},
   "outputs": [],
   "source": []
  }
 ],
 "metadata": {
  "kernelspec": {
   "display_name": "Python 3 (ipykernel)",
   "language": "python",
   "name": "python3"
  },
  "language_info": {
   "codemirror_mode": {
    "name": "ipython",
    "version": 3
   },
   "file_extension": ".py",
   "mimetype": "text/x-python",
   "name": "python",
   "nbconvert_exporter": "python",
   "pygments_lexer": "ipython3",
   "version": "3.9.7"
  }
 },
 "nbformat": 4,
 "nbformat_minor": 5
}
