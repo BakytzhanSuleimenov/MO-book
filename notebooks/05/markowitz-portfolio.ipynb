{
 "cells": [
  {
   "cell_type": "markdown",
   "id": "9855f00a-c252-4a33-a9ac-9f6478e957af",
   "metadata": {},
   "source": [
    "# Markowitz Portfolio Optimization"
   ]
  },
  {
   "cell_type": "code",
   "execution_count": 2,
   "id": "51ac202e-9c17-4f30-978a-ce82a90d03c1",
   "metadata": {},
   "outputs": [],
   "source": [
    "# Install Pyomo and solvers for Google Colab\n",
    "import sys\n",
    "if \"google.colab\" in sys.modules:\n",
    "    !wget -N -q https://raw.githubusercontent.com/jckantor/MO-book/main/tools/install_on_colab.py \n",
    "    %run install_on_colab.py"
   ]
  },
  {
   "cell_type": "code",
   "execution_count": 3,
   "id": "bf846514-786f-411b-8b22-a14eb0cbf08d",
   "metadata": {},
   "outputs": [],
   "source": [
    "import matplotlib.dates as mdates\n",
    "import matplotlib.pyplot as plt\n",
    "import numpy as np\n",
    "import pandas as pd\n",
    "import random\n",
    "import scipy.stats as stats\n",
    "\n",
    "import datetime as datetime\n",
    "\n",
    "import sys\n",
    "import os\n",
    "import glob\n",
    "\n",
    "import pyomo.environ as pyo"
   ]
  },
  {
   "cell_type": "code",
   "execution_count": null,
   "id": "bd086be9-e5f9-473b-a5e0-b85b26a2901e",
   "metadata": {},
   "outputs": [],
   "source": []
  }
 ],
 "metadata": {
  "kernelspec": {
   "display_name": "Python 3 (ipykernel)",
   "language": "python",
   "name": "python3"
  },
  "language_info": {
   "codemirror_mode": {
    "name": "ipython",
    "version": 3
   },
   "file_extension": ".py",
   "mimetype": "text/x-python",
   "name": "python",
   "nbconvert_exporter": "python",
   "pygments_lexer": "ipython3",
   "version": "3.9.7"
  }
 },
 "nbformat": 4,
 "nbformat_minor": 5
}
