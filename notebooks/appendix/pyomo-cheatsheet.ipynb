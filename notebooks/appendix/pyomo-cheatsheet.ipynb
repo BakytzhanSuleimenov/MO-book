{
 "cells": [
  {
   "cell_type": "markdown",
   "id": "6163ff31-62b7-410e-9833-f3c8eb0c6cf2",
   "metadata": {},
   "source": [
    "# Pyomo Cheatsheet"
   ]
  },
  {
   "cell_type": "markdown",
   "id": "5511978a-dea0-4799-8e16-923d779591b5",
   "metadata": {},
   "source": [
    "## Installing Pyomo\n",
    "\n",
    "### For Anaconda\n",
    "\n",
    "### For Google Colab\n"
   ]
  },
  {
   "cell_type": "markdown",
   "id": "c2c9d0c1-7e5c-40be-9be7-cea1d40f687b",
   "metadata": {},
   "source": [
    "## Creating a Model Instance\n",
    "\n",
    "A Pyomo model is a Python object. A new instance of a Pyomo model is created with\n",
    "\n",
    "    import pyomo.environ as pyo\n",
    "    model = pyo.ConcreteModel(\"My Pyomo Model Title\")\n",
    "    \n"
   ]
  },
  {
   "cell_type": "code",
   "execution_count": null,
   "id": "796d7cdb-915a-4a7b-b14f-cb8afd885792",
   "metadata": {},
   "outputs": [],
   "source": []
  }
 ],
 "metadata": {
  "kernelspec": {
   "display_name": "Python 3 (ipykernel)",
   "language": "python",
   "name": "python3"
  },
  "language_info": {
   "codemirror_mode": {
    "name": "ipython",
    "version": 3
   },
   "file_extension": ".py",
   "mimetype": "text/x-python",
   "name": "python",
   "nbconvert_exporter": "python",
   "pygments_lexer": "ipython3",
   "version": "3.9.16"
  }
 },
 "nbformat": 4,
 "nbformat_minor": 5
}
