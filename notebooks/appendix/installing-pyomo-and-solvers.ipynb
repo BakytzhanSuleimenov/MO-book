{
 "cells": [
  {
   "cell_type": "markdown",
   "id": "03fb7b1d-c0b5-467f-a54e-cfe2fe9a1173",
   "metadata": {},
   "source": [
    "# Installing Pyomo and Solvers\n",
    "\n",
    "Pyomo comprises an ecosystem of core modules, third party contributed modules, and many choices of both open-source and commercial solvers. This opens up many options for an experienced user, but can also be a challenging for someone getting started with Pyomo.  These notes are intended to help the reader get started by providing instructions for a basic installation of Pyomo with a core set of solvers. "
   ]
  },
  {
   "cell_type": "markdown",
   "id": "c4ea54c4-1c97-48ac-9c76-0d6ca5d09fea",
   "metadata": {},
   "source": [
    "## Installing Pyomo and Solvers on Google Colab\n",
    "\n",
    "Google Colab provides a hosted, cloud-based development environment for notebook applications written in Python. Google Colab provides standardized, preinstalled Python environment that includes many of the Python libraries commonly used in data science applications. For use with Pyomo, the Pyomo package any required solvers must be installed at the start of each new session. \n",
    "\n",
    "Here we outline several options for installing Pyomo on Google Colab.\n",
    "\n",
    "### HiGHS: Linear and Mixed-Integer Linear Optimization (MILO)\n",
    "\n",
    "Linear and Mixed-Integer Linear Optimization (MILO) covers a wide range of applications. [HiGHS](https://highs.dev/) is a [high-performance, open-source solver](https://mattmilten.github.io/mittelmann-plots/) for MILO applications sponsored by COIN-OR. It can be used with Pyomo through the [Auto-Persistant Pyomo Solver Interface (APPSI)](https://pyomo.readthedocs.io/en/stable/library_reference/appsi/appsi.html). The HiGHS project provides a convenient `pip` installer that includes Pyomo and all necessary dependencies. \n",
    "\n",
    "    # install pyomo and HiGHS solver\n",
    "    import sys\n",
    "\n",
    "    if \"google.colab\" in sys.modules:\n",
    "        !pip install highspy >/dev/null\n",
    "\n",
    "    SOLVER = \"appsi_highs\"\n",
    "    \n",
    "This is the recommended installation for LO and MILO applications on Google Colab using open-source solvers."
   ]
  },
  {
   "cell_type": "code",
   "execution_count": null,
   "id": "493517be-0d20-462e-be5e-bdc07213879d",
   "metadata": {},
   "outputs": [],
   "source": []
  },
  {
   "cell_type": "markdown",
   "id": "3379e42a-bf91-4030-ab9d-01117ffd9448",
   "metadata": {},
   "source": [
    "## Installing Pyomo and Solvers on your laptop\n",
    "\n",
    "General instructions for installing Pyomo are [available in the Pyomo documentation](https://pyomo.readthedocs.io/en/stable/installation.html). \n",
    "\n"
   ]
  }
 ],
 "metadata": {
  "kernelspec": {
   "display_name": "Python 3 (ipykernel)",
   "language": "python",
   "name": "python3"
  },
  "language_info": {
   "codemirror_mode": {
    "name": "ipython",
    "version": 3
   },
   "file_extension": ".py",
   "mimetype": "text/x-python",
   "name": "python",
   "nbconvert_exporter": "python",
   "pygments_lexer": "ipython3",
   "version": "3.9.16"
  }
 },
 "nbformat": 4,
 "nbformat_minor": 5
}
